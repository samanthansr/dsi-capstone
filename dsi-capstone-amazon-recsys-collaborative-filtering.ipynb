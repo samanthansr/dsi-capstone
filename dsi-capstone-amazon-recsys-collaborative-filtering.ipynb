{
 "cells": [
  {
   "cell_type": "markdown",
   "metadata": {},
   "source": [
    "# DSI 5 Capstone Project: Amazon Product Recommender System\n",
    "\n",
    "---"
   ]
  },
  {
   "cell_type": "markdown",
   "metadata": {},
   "source": [
    "<a id='model-results'></a>\n",
    "#### Model Results:\n",
    "\n",
    "| Section | Model | RMSE Score | Recall Score^ | Avg Hit Rate | Model Details\n",
    "| --- | --- | --- | --- | --- |\n",
    "| [4.1.1](#4.1.1) | User-User Collaborative Filtering | 1.11062 | 0.02554 | 0.17 ± 0.26 | from scratch |\n",
    "| [4.1.2](#4.1.2) | User-User Collaborative Filtering | 1.01662 | 0.00851 | 0.18 ± 0.12 | Surprise Library, k=3 |\n",
    "| [4.1.3](#4.1.3) | User-User Collaborative Filtering Grid Search | 1.01655 | 0.01064 | 0.19 ± 0.13 | Surprise Library, k=7 |\n",
    "| [4.1.4](#4.1.4) | Item-Item Collaborative Filtering | 1.07621 | 0.00478 | 0.23 ± 0.28 | Surprise Library, k=3 |\n",
    "| [4.1.5](#4.1.5) | Item-Item Collaborative Filtering Grid Search | 1.07593 | 0.00478 | 0.25 ± 0.28 | Surprise Library, k=7 |\n",
    "| [4.2.1.1](#4.2.1.1) | Singular Value Decomposition (SVD) | 0.94625 | 0.01436 | 0.20 ± 0.19 | Surprise Library, k=20 |\n",
    "| [4.2.1.2](#4.2.1.2) | SVD GridSearch | 0.93873 | 0.01064 | 0.16 ± 0.11 | Surprise Library, k=10 |\n",
    "| [4.2.1.3](#4.2.1.3) | SVD | 0.94057 | 0.01969 | 0.21 ± 0.22 | Surprise Library, k=40 |\n",
    "| [4.2.2.1](#4.2.2.1) | SVD++ | 0.94458 | 0.00745 | 0.19 ± 0.23 | Surprise Library, k=20 |\n",
    "| [4.2.2.2](#4.2.2.2) | SVD++ GridSearch| 0.94515 | 0.00957 | 0.21 ± 0.22 | Surprise Library, k=10 |\n",
    "\n",
    "^Recall Score = "
   ]
  },
  {
   "cell_type": "markdown",
   "metadata": {},
   "source": [
    "# 1. Loading in Datasets and Libraries"
   ]
  },
  {
   "cell_type": "code",
   "execution_count": 1,
   "metadata": {},
   "outputs": [],
   "source": [
    "import gzip\n",
    "\n",
    "import numpy as np\n",
    "import scipy.stats as stats\n",
    "import pandas as pd\n",
    "import re\n",
    "\n",
    "import matplotlib.pyplot as plt\n",
    "import seaborn as sns\n",
    "sns.set_style('white')\n",
    "\n",
    "from IPython.display import Image\n",
    "from IPython.core.display import HTML \n",
    "\n",
    "%matplotlib inline\n",
    "%config InlineBackend.figure_format = 'retina'\n",
    "\n",
    "from surprise import Reader, Dataset, KNNWithMeans, SVD, SVDpp, NMF, evaluate,  accuracy, model_selection\n",
    "\n",
    "from sklearn.neighbors import NearestNeighbors\n",
    "from scipy.spatial.distance import correlation, cosine\n",
    "from scipy.sparse.linalg import svds\n",
    "\n",
    "from sklearn.metrics import pairwise_distances, mean_squared_error"
   ]
  },
  {
   "cell_type": "code",
   "execution_count": 2,
   "metadata": {},
   "outputs": [],
   "source": [
    "# loading in reviews dataset\n",
    "def parse(path):\n",
    "    g = gzip.open(path, 'rb')\n",
    "    for l in g:\n",
    "        yield eval(l)\n",
    "\n",
    "def getDF(path):\n",
    "    i = 0\n",
    "    df = {}\n",
    "    for d in parse(path):\n",
    "        df[i] = d\n",
    "        i += 1\n",
    "    return pd.DataFrame.from_dict(df, orient='index')\n",
    "\n",
    "df = getDF('./dataset/reviews_Home_and_Kitchen_5.json.gz')"
   ]
  },
  {
   "cell_type": "code",
   "execution_count": 1,
   "metadata": {},
   "outputs": [
    {
     "ename": "NameError",
     "evalue": "name 'df' is not defined",
     "output_type": "error",
     "traceback": [
      "\u001b[0;31m---------------------------------------------------------------------------\u001b[0m",
      "\u001b[0;31mNameError\u001b[0m                                 Traceback (most recent call last)",
      "\u001b[0;32m<ipython-input-1-e0f180411d1c>\u001b[0m in \u001b[0;36m<module>\u001b[0;34m()\u001b[0m\n\u001b[0;32m----> 1\u001b[0;31m \u001b[0mreviews\u001b[0m \u001b[0;34m=\u001b[0m \u001b[0mdf\u001b[0m\u001b[0;34m.\u001b[0m\u001b[0mcopy\u001b[0m\u001b[0;34m(\u001b[0m\u001b[0;34m)\u001b[0m\u001b[0;34m\u001b[0m\u001b[0m\n\u001b[0m",
      "\u001b[0;31mNameError\u001b[0m: name 'df' is not defined"
     ]
    }
   ],
   "source": [
    "reviews = df.copy()"
   ]
  },
  {
   "cell_type": "code",
   "execution_count": 4,
   "metadata": {},
   "outputs": [
    {
     "data": {
      "text/html": [
       "<div>\n",
       "<style scoped>\n",
       "    .dataframe tbody tr th:only-of-type {\n",
       "        vertical-align: middle;\n",
       "    }\n",
       "\n",
       "    .dataframe tbody tr th {\n",
       "        vertical-align: top;\n",
       "    }\n",
       "\n",
       "    .dataframe thead th {\n",
       "        text-align: right;\n",
       "    }\n",
       "</style>\n",
       "<table border=\"1\" class=\"dataframe\">\n",
       "  <thead>\n",
       "    <tr style=\"text-align: right;\">\n",
       "      <th></th>\n",
       "      <th>reviewerID</th>\n",
       "      <th>asin</th>\n",
       "      <th>reviewerName</th>\n",
       "      <th>helpful</th>\n",
       "      <th>reviewText</th>\n",
       "      <th>overall</th>\n",
       "      <th>summary</th>\n",
       "      <th>unixReviewTime</th>\n",
       "      <th>reviewTime</th>\n",
       "    </tr>\n",
       "  </thead>\n",
       "  <tbody>\n",
       "    <tr>\n",
       "      <th>0</th>\n",
       "      <td>APYOBQE6M18AA</td>\n",
       "      <td>0615391206</td>\n",
       "      <td>Martin Schwartz</td>\n",
       "      <td>[0, 0]</td>\n",
       "      <td>My daughter wanted this book and the price on ...</td>\n",
       "      <td>5.0</td>\n",
       "      <td>Best Price</td>\n",
       "      <td>1382140800</td>\n",
       "      <td>10 19, 2013</td>\n",
       "    </tr>\n",
       "    <tr>\n",
       "      <th>1</th>\n",
       "      <td>A1JVQTAGHYOL7F</td>\n",
       "      <td>0615391206</td>\n",
       "      <td>Michelle Dinh</td>\n",
       "      <td>[0, 0]</td>\n",
       "      <td>I bought this zoku quick pop for my daughterr ...</td>\n",
       "      <td>5.0</td>\n",
       "      <td>zoku</td>\n",
       "      <td>1403049600</td>\n",
       "      <td>06 18, 2014</td>\n",
       "    </tr>\n",
       "  </tbody>\n",
       "</table>\n",
       "</div>"
      ],
      "text/plain": [
       "       reviewerID        asin     reviewerName helpful  \\\n",
       "0   APYOBQE6M18AA  0615391206  Martin Schwartz  [0, 0]   \n",
       "1  A1JVQTAGHYOL7F  0615391206    Michelle Dinh  [0, 0]   \n",
       "\n",
       "                                          reviewText  overall     summary  \\\n",
       "0  My daughter wanted this book and the price on ...      5.0  Best Price   \n",
       "1  I bought this zoku quick pop for my daughterr ...      5.0        zoku   \n",
       "\n",
       "   unixReviewTime   reviewTime  \n",
       "0      1382140800  10 19, 2013  \n",
       "1      1403049600  06 18, 2014  "
      ]
     },
     "execution_count": 4,
     "metadata": {},
     "output_type": "execute_result"
    }
   ],
   "source": [
    "# add product name to reviews dataset\n",
    "reviews.head(2)"
   ]
  },
  {
   "cell_type": "code",
   "execution_count": 5,
   "metadata": {},
   "outputs": [
    {
     "data": {
      "text/html": [
       "<div>\n",
       "<style scoped>\n",
       "    .dataframe tbody tr th:only-of-type {\n",
       "        vertical-align: middle;\n",
       "    }\n",
       "\n",
       "    .dataframe tbody tr th {\n",
       "        vertical-align: top;\n",
       "    }\n",
       "\n",
       "    .dataframe thead th {\n",
       "        text-align: right;\n",
       "    }\n",
       "</style>\n",
       "<table border=\"1\" class=\"dataframe\">\n",
       "  <thead>\n",
       "    <tr style=\"text-align: right;\">\n",
       "      <th></th>\n",
       "      <th>Unnamed: 0</th>\n",
       "      <th>asin</th>\n",
       "      <th>brand</th>\n",
       "      <th>categories</th>\n",
       "      <th>description</th>\n",
       "      <th>imUrl</th>\n",
       "      <th>price</th>\n",
       "      <th>related</th>\n",
       "      <th>salesRank</th>\n",
       "      <th>title</th>\n",
       "    </tr>\n",
       "  </thead>\n",
       "  <tbody>\n",
       "    <tr>\n",
       "      <th>0</th>\n",
       "      <td>415636</td>\n",
       "      <td>0615391206</td>\n",
       "      <td>Zoku</td>\n",
       "      <td>[['Home &amp; Kitchen', 'Kitchen &amp; Dining', 'Kitch...</td>\n",
       "      <td>This book will help you master the art of crea...</td>\n",
       "      <td>http://ecx.images-amazon.com/images/I/41EEhiqv...</td>\n",
       "      <td>17.29</td>\n",
       "      <td>{'also_viewed': ['B003U9ZCRO', 'B003VJWUE6', '...</td>\n",
       "      <td>{'Kitchen &amp; Dining': 3900}</td>\n",
       "      <td>Zoku Quick Pops Recipe Book</td>\n",
       "    </tr>\n",
       "    <tr>\n",
       "      <th>1</th>\n",
       "      <td>472805</td>\n",
       "      <td>0689027818</td>\n",
       "      <td>NaN</td>\n",
       "      <td>[['Home &amp; Kitchen']]</td>\n",
       "      <td>KIDS BOOK ON BUTTERFLIES</td>\n",
       "      <td>http://ecx.images-amazon.com/images/I/51B0H32D...</td>\n",
       "      <td>473.68</td>\n",
       "      <td>{'also_viewed': ['1581170912', '0399226907']}</td>\n",
       "      <td>{'Home &amp;amp; Kitchen': 1017975}</td>\n",
       "      <td>Good Night, Sweet Butterflies: A Color Dreamland</td>\n",
       "    </tr>\n",
       "  </tbody>\n",
       "</table>\n",
       "</div>"
      ],
      "text/plain": [
       "   Unnamed: 0        asin brand  \\\n",
       "0      415636  0615391206  Zoku   \n",
       "1      472805  0689027818   NaN   \n",
       "\n",
       "                                          categories  \\\n",
       "0  [['Home & Kitchen', 'Kitchen & Dining', 'Kitch...   \n",
       "1                               [['Home & Kitchen']]   \n",
       "\n",
       "                                         description  \\\n",
       "0  This book will help you master the art of crea...   \n",
       "1                           KIDS BOOK ON BUTTERFLIES   \n",
       "\n",
       "                                               imUrl   price  \\\n",
       "0  http://ecx.images-amazon.com/images/I/41EEhiqv...   17.29   \n",
       "1  http://ecx.images-amazon.com/images/I/51B0H32D...  473.68   \n",
       "\n",
       "                                             related  \\\n",
       "0  {'also_viewed': ['B003U9ZCRO', 'B003VJWUE6', '...   \n",
       "1      {'also_viewed': ['1581170912', '0399226907']}   \n",
       "\n",
       "                         salesRank  \\\n",
       "0       {'Kitchen & Dining': 3900}   \n",
       "1  {'Home &amp; Kitchen': 1017975}   \n",
       "\n",
       "                                              title  \n",
       "0                       Zoku Quick Pops Recipe Book  \n",
       "1  Good Night, Sweet Butterflies: A Color Dreamland  "
      ]
     },
     "execution_count": 5,
     "metadata": {},
     "output_type": "execute_result"
    }
   ],
   "source": [
    "# loading in metadata \n",
    "metadata = pd.read_csv('./dataset/home-kitchen-metadata.csv')\n",
    "metadata.head(2)"
   ]
  },
  {
   "cell_type": "code",
   "execution_count": 6,
   "metadata": {},
   "outputs": [],
   "source": [
    "product_lookup = {k:v for k,v in zip(metadata['asin'], metadata['title'])}"
   ]
  },
  {
   "cell_type": "code",
   "execution_count": 7,
   "metadata": {},
   "outputs": [],
   "source": [
    "category_lookup = {k:v for k,v in zip(metadata['title'], metadata['categories'])}"
   ]
  },
  {
   "cell_type": "code",
   "execution_count": 8,
   "metadata": {},
   "outputs": [],
   "source": [
    "imgurl_lookup = {k:v for k,v in zip(metadata['title'], metadata['imUrl'])}"
   ]
  },
  {
   "cell_type": "code",
   "execution_count": 70,
   "metadata": {},
   "outputs": [],
   "source": [
    "def categories_to_columns(row, cat_level):\n",
    "    try:\n",
    "        return row[cat_level]\n",
    "    except IndexError:\n",
    "        return np.nan"
   ]
  },
  {
   "cell_type": "code",
   "execution_count": 71,
   "metadata": {},
   "outputs": [],
   "source": [
    "categories = metadata.copy()\n",
    "categories = categories[['asin', 'title', 'categories']]\n",
    "categories['Category Path'] = categories['categories'].apply(lambda x: [cat.strip() for cat in re.sub('[\\[\\]\\'\\\"]', '', x).split(',')])\n",
    "\n",
    "# categories['cat_4'] = categories['Category Path'].apply(lambda x: categories_to_columns(x,4))\n",
    "for i in range(1, 5):\n",
    "    categories['cat_'+str(i)] = categories['Category Path'].apply(lambda x: categories_to_columns(x, i-1))"
   ]
  },
  {
   "cell_type": "code",
   "execution_count": 72,
   "metadata": {},
   "outputs": [],
   "source": [
    "categories.fillna('NA', inplace=True)"
   ]
  },
  {
   "cell_type": "code",
   "execution_count": 73,
   "metadata": {},
   "outputs": [],
   "source": [
    "categories['broad_cat'] = categories['cat_2']+' > '+categories['cat_3']\n",
    "categories['narrow_cat'] = categories['cat_2']+' > '+categories['cat_3']+ ' > '+categories['cat_4']"
   ]
  },
  {
   "cell_type": "code",
   "execution_count": 74,
   "metadata": {},
   "outputs": [
    {
     "data": {
      "text/html": [
       "<div>\n",
       "<style scoped>\n",
       "    .dataframe tbody tr th:only-of-type {\n",
       "        vertical-align: middle;\n",
       "    }\n",
       "\n",
       "    .dataframe tbody tr th {\n",
       "        vertical-align: top;\n",
       "    }\n",
       "\n",
       "    .dataframe thead th {\n",
       "        text-align: right;\n",
       "    }\n",
       "</style>\n",
       "<table border=\"1\" class=\"dataframe\">\n",
       "  <thead>\n",
       "    <tr style=\"text-align: right;\">\n",
       "      <th></th>\n",
       "      <th>asin</th>\n",
       "      <th>title</th>\n",
       "      <th>categories</th>\n",
       "      <th>Category Path</th>\n",
       "      <th>cat_1</th>\n",
       "      <th>cat_2</th>\n",
       "      <th>cat_3</th>\n",
       "      <th>cat_4</th>\n",
       "      <th>broad_cat</th>\n",
       "      <th>narrow_cat</th>\n",
       "    </tr>\n",
       "  </thead>\n",
       "  <tbody>\n",
       "    <tr>\n",
       "      <th>2946</th>\n",
       "      <td>B00012F3U4</td>\n",
       "      <td>One 6 diameter Bamboo Skimmer/Strainer</td>\n",
       "      <td>[['Home &amp; Kitchen', 'Kitchen &amp; Dining', 'Kitch...</td>\n",
       "      <td>[Home &amp; Kitchen, Kitchen &amp; Dining, Kitchen Ute...</td>\n",
       "      <td>Home &amp; Kitchen</td>\n",
       "      <td>Kitchen &amp; Dining</td>\n",
       "      <td>Kitchen Utensils &amp; Gadgets</td>\n",
       "      <td>Cooking Utensils</td>\n",
       "      <td>Kitchen &amp; Dining &gt; Kitchen Utensils &amp; Gadgets</td>\n",
       "      <td>Kitchen &amp; Dining &gt; Kitchen Utensils &amp; Gadgets ...</td>\n",
       "    </tr>\n",
       "    <tr>\n",
       "      <th>774</th>\n",
       "      <td>B000053U7F</td>\n",
       "      <td>Vacu Vin Vacuum Instant Marinater</td>\n",
       "      <td>[['Home &amp; Kitchen', 'Kitchen &amp; Dining', 'Kitch...</td>\n",
       "      <td>[Home &amp; Kitchen, Kitchen &amp; Dining, Kitchen Ute...</td>\n",
       "      <td>Home &amp; Kitchen</td>\n",
       "      <td>Kitchen &amp; Dining</td>\n",
       "      <td>Kitchen Utensils &amp; Gadgets</td>\n",
       "      <td>Meat &amp; Poultry Tools</td>\n",
       "      <td>Kitchen &amp; Dining &gt; Kitchen Utensils &amp; Gadgets</td>\n",
       "      <td>Kitchen &amp; Dining &gt; Kitchen Utensils &amp; Gadgets ...</td>\n",
       "    </tr>\n",
       "  </tbody>\n",
       "</table>\n",
       "</div>"
      ],
      "text/plain": [
       "            asin                                   title  \\\n",
       "2946  B00012F3U4  One 6 diameter Bamboo Skimmer/Strainer   \n",
       "774   B000053U7F       Vacu Vin Vacuum Instant Marinater   \n",
       "\n",
       "                                             categories  \\\n",
       "2946  [['Home & Kitchen', 'Kitchen & Dining', 'Kitch...   \n",
       "774   [['Home & Kitchen', 'Kitchen & Dining', 'Kitch...   \n",
       "\n",
       "                                          Category Path           cat_1  \\\n",
       "2946  [Home & Kitchen, Kitchen & Dining, Kitchen Ute...  Home & Kitchen   \n",
       "774   [Home & Kitchen, Kitchen & Dining, Kitchen Ute...  Home & Kitchen   \n",
       "\n",
       "                 cat_2                       cat_3                 cat_4  \\\n",
       "2946  Kitchen & Dining  Kitchen Utensils & Gadgets      Cooking Utensils   \n",
       "774   Kitchen & Dining  Kitchen Utensils & Gadgets  Meat & Poultry Tools   \n",
       "\n",
       "                                          broad_cat  \\\n",
       "2946  Kitchen & Dining > Kitchen Utensils & Gadgets   \n",
       "774   Kitchen & Dining > Kitchen Utensils & Gadgets   \n",
       "\n",
       "                                             narrow_cat  \n",
       "2946  Kitchen & Dining > Kitchen Utensils & Gadgets ...  \n",
       "774   Kitchen & Dining > Kitchen Utensils & Gadgets ...  "
      ]
     },
     "execution_count": 74,
     "metadata": {},
     "output_type": "execute_result"
    }
   ],
   "source": [
    "categories.sample(2)"
   ]
  },
  {
   "cell_type": "code",
   "execution_count": 75,
   "metadata": {
    "scrolled": true
   },
   "outputs": [
    {
     "data": {
      "text/plain": [
       "{'Zoku Quick Pops Recipe Book': 'Kitchen & Dining > Kitchen Utensils & Gadgets > Specialty Tools & Gadgets',\n",
       " 'Good Night, Sweet Butterflies: A Color Dreamland': 'NA > NA > NA',\n",
       " 'Wilton Decorating Cakes Book': 'Kitchen & Dining > Bakeware > Baking & Cookie Sheets',\n",
       " 'Vandor 52423 Star Wars Large Recycled Shopper Tote, Multicolored': 'Kitchen & Dining > Storage & Organization > Reusable Grocery Bags',\n",
       " 'Franklin SPELLING CORRECTOR': 'Kitchen & Dining > Kitchen Utensils & Gadgets > Tool & Gadget Sets',\n",
       " 'Mighty Bright Fold-n-Stow Book Holder': 'Kitchen & Dining > Kitchen Utensils & Gadgets > Kitchen Accessories',\n",
       " 'Best Choice 2013 Design Fist Cup Brass Knuckle Duster Handle Coffee Milk Ceramic Fist Mug Cup Cool Gift': 'Kitchen & Dining > Dining & Entertaining > Cups',\n",
       " 'World Pride Mickey Mouse Face Shape Cookie Cutter': 'Kitchen & Dining > Bakeware > Baking Tools & Accessories',\n",
       " 'Tupperware Fresh &amp; Pure Ice Tray Purple Set of 2': 'Kitchen & Dining > Kitchen Utensils & Gadgets > Specialty Tools & Gadgets',\n",
       " 'Tupperware Orange Citrus Peeler Set of 6': 'Kitchen & Dining > Kitchen Utensils & Gadgets > Graters',\n",
       " 'Tupperware Smidgets in Pink and Red Set of 5': 'Kitchen & Dining > Storage & Organization > Food Savers',\n",
       " 'Tupperware Large Pick a Deli Container': 'Kitchen & Dining > Storage & Organization > Food Savers',\n",
       " 'IKEA BONUS 16-Piece Flatware Set, Stainless Steel': 'Kitchen & Dining > Dining & Entertaining > Flatware',\n",
       " 'IKEA - KALAS Tumbler, Assorted Colors (2 Sets)': 'Kitchen & Dining > Dining & Entertaining > Glassware & Drinkware',\n",
       " 'Curious George Tin Keepsake Box with Latch by Schylling': 'Kitchen & Dining > Storage & Organization > Lunch Boxes & Bags',\n",
       " 'Cuisinart DLC-1 Mini-Prep Food Processor, White': 'Kitchen & Dining > Small Appliances > Food Processors',\n",
       " 'Cuisinart DGB-300BK Automatic Grind &amp; Brew 10-Cup Coffeemaker, Black': 'Kitchen & Dining > Coffee > Tea & Espresso',\n",
       " 'Cuisinart SPB-7 SmartPower 40-Ounce 7-Speed Electronic Bar Blender, White': 'Kitchen & Dining > Small Appliances > Blenders',\n",
       " 'Cuisinart ICE-20 Automatic 1-1/2-Quart Ice Cream Maker, White': 'Kitchen & Dining > Small Appliances > Ice Cream Machines',\n",
       " 'Woodstock W1015 4-Inch Y-Fitting': 'Vacuums & Floor Care > Vacuum Accessories > Attachments & Brushes',\n",
       " 'Incra PROTRAC06 6-Inch Precision Marking Protractor': 'Kitchen & Dining > Kitchen Utensils & Gadgets > Measuring Tools & Scales',\n",
       " 'Intermatic TN311C 120 Volt Heavy Duty Grounded Timer': 'Kitchen & Dining > Kitchen Utensils & Gadgets > Thermometers & Timers',\n",
       " 'Lasko 3300 Wind Machine': 'Heating > Cooling & Air Quality > Household Fans',\n",
       " 'Hoover F4300 Floormax Supreme': 'Vacuums & Floor Care > Floor Polishers > NA',\n",
       " 'Mirro 9605000A Canning Accessories Food Press with Wooden Pestle, Silver': 'Kitchen & Dining > Kitchen Utensils & Gadgets > Colanders & Food Strainers',\n",
       " 'Lasko #2155A Electrically Reversible Window Fan, 16 Inches': 'Heating > Cooling & Air Quality > Household Fans',\n",
       " 'Genuine Eureka RD Style Belts': 'Vacuums & Floor Care > Vacuum Accessories > Belts',\n",
       " 'Mirro 92180A Polished Aluminum Dishwasher Safe PFOA Free Pressure Cooker Cookware': 'Kitchen & Dining > Cookware > Pressure Cookers',\n",
       " 'Hoover 4010001A Type A Vacuum Bags, 3 Bags': 'Vacuums & Floor Care > Vacuum Accessories > Bags',\n",
       " 'Presto 01241 4-Quart Aluminum Pressure Cooker': 'Kitchen & Dining > Cookware > Pressure Cookers',\n",
       " 'Presto 01341  4-Quart Stainless Steel Pressure Cooker': 'Kitchen & Dining > Cookware > Pressure Cookers',\n",
       " 'Eureka Boss Upright Vacuum, 1934B': 'Vacuums & Floor Care > Vacuums > Upright Vacuums',\n",
       " 'Rubbermaid 1172 ActionPacker Storage Box, 24 Gallon': 'Storage & Organization > Trash & Recycling > Trash Cans',\n",
       " 'Eureka 3670G Mighty Mite Canister Vacuum': 'Vacuums & Floor Care > Vacuums > Canister Vacuums',\n",
       " 'Hoover F5411 Steamvac Jr.': 'Vacuums & Floor Care > Carpet Cleaners > NA',\n",
       " 'Lasko Metal Products 3012 12-Inch Wall Fan': 'Heating > Cooling & Air Quality > Household Fans',\n",
       " 'Eureka Quick Up 2-in-1 Cordless w/Bonus Battery Pack, 96JZ': 'Vacuums & Floor Care > Vacuums > Stick Vacuums & Electric Brooms',\n",
       " 'Intermatic FD60MWC 60-Minute Spring Loaded Wall Timer, White': 'Kitchen & Dining > Kitchen Utensils & Gadgets > Thermometers & Timers',\n",
       " 'ClosetMaid Over-The-Door Utility Hook, White #1220': 'Storage & Organization > Home Storage Hooks > Utility Hooks',\n",
       " 'Akro-Mils 8212 Six Pack of 30210 Plastic Storage Stacking AkroBins for Craft and Hardware, Red': 'Storage & Organization > Baskets & Bins > Open Storage Bins',\n",
       " 'Hoover Type Z Allergen Bag (3-Pack), 4010100Z': 'Vacuums & Floor Care > Vacuum Accessories > Bags',\n",
       " 'Hoover 40201160 Windtunnel Agitator Belts, Hoover 38528033 2-Pack': 'Vacuums & Floor Care > Vacuum Accessories > Belts',\n",
       " 'Lasko 3733 20&quot; Fan Box': 'Heating > Cooling & Air Quality > Household Fans',\n",
       " 'White Mountain F69206-X 6-Quart Electric Ice Cream Freezer': 'Kitchen & Dining > Small Appliances > Ice Cream Machines',\n",
       " 'OXO Good Grips Grater': 'Kitchen & Dining > Kitchen Utensils & Gadgets > Graters',\n",
       " 'OXO Good Grips Meat Tenderizer': 'Kitchen & Dining > Kitchen Utensils & Gadgets > Meat & Poultry Tools',\n",
       " 'OXO Good Grips Corer': 'Kitchen & Dining > Kitchen Utensils & Gadgets > Fruit & Vegetable Tools',\n",
       " 'OXO Good Grips Cheese Plane': 'Kitchen & Dining > Kitchen Utensils & Gadgets > Cooking Utensils',\n",
       " 'OXO Good Grips Trigger Ice Cream Scoop': 'Kitchen & Dining > Kitchen Utensils & Gadgets > Cooking Utensils',\n",
       " 'OXO Good Grips 4-Inch Pizza Wheel': 'Kitchen & Dining > Kitchen Utensils & Gadgets > Pasta & Pizza Tools',\n",
       " 'OXO Good Grips Lemon Zester': 'Kitchen & Dining > Kitchen Utensils & Gadgets > Fruit & Vegetable Tools',\n",
       " 'OXO Good Grips Lever Ice Cream Scoop': 'Kitchen & Dining > Kitchen Utensils & Gadgets > Cooking Utensils',\n",
       " 'OXO Good Grips Measuring Cup Set, White': 'Kitchen & Dining > Kitchen Utensils & Gadgets > Measuring Tools & Scales',\n",
       " 'OXO Good Grips Spreader': 'Kitchen & Dining > Kitchen Utensils & Gadgets > Cheese Tools',\n",
       " 'OXO Good Grips 2-Piece Peeler/Parer Set': 'Kitchen & Dining > Kitchen Utensils & Gadgets > Graters',\n",
       " 'OXO Good Grips Potato Ricer': 'Kitchen & Dining > Kitchen Utensils & Gadgets > Fruit & Vegetable Tools',\n",
       " 'OXO Good Grips Ice Cream Scoop - Point': 'Kitchen & Dining > Kitchen Utensils & Gadgets > Specialty Tools & Gadgets',\n",
       " 'OXO Good Grips Swivel Peeler': 'Kitchen & Dining > Kitchen Utensils & Gadgets > Graters',\n",
       " 'OXO Good Grips 8 Inch Bread Knife': 'Kitchen & Dining > Kitchen Knives & Cutlery Accessories > Bread & Serrated Knives',\n",
       " 'OXO Good Grips 9-Inch Stainless Steel Locking Tongs': 'Kitchen & Dining > Kitchen Utensils & Gadgets > Cooking Utensils',\n",
       " 'OXO Good Grips Y Peeler': 'Kitchen & Dining > Kitchen Utensils & Gadgets > Graters',\n",
       " 'OXO Good Grips 8-Inch Chef Knife': 'Kitchen & Dining > Kitchen Knives & Cutlery Accessories > Chefs Knives',\n",
       " 'OXO Good Grips Soft Handled Can Opener': 'Kitchen & Dining > Kitchen Utensils & Gadgets > Can Openers',\n",
       " 'OXO Good Grips Bottle Opener': 'Kitchen & Dining > Kitchen Utensils & Gadgets > Bar & Wine Tools',\n",
       " 'OXO Good Grips Dish Brush': 'Kitchen & Dining > Kitchen Utensils & Gadgets > Cooking Utensils',\n",
       " 'OXO Good Grips Smooth Potato Masher': 'Kitchen & Dining > Kitchen Utensils & Gadgets > Fruit & Vegetable Tools',\n",
       " 'OXO Good Grips  Salad Spinner': 'Kitchen & Dining > Kitchen Utensils & Gadgets > Salad Tools & Spinners',\n",
       " 'OXO Good Grips Wire Cheese Slicer': 'Kitchen & Dining > Bakeware > Baking Tools & Accessories',\n",
       " 'OXO Good Grips Wire Potato Masher': 'Kitchen & Dining > Kitchen Utensils & Gadgets > Fruit & Vegetable Tools',\n",
       " 'OXO Good Grips Seafood Picks, Set of 4': 'Kitchen & Dining > Kitchen Utensils & Gadgets > Specialty Tools & Gadgets',\n",
       " 'OXO Good Grips Locking Can Opener': 'Kitchen & Dining > Kitchen Utensils & Gadgets > Cooking Utensils',\n",
       " 'OXO Good Grips Aluminum Lemon Reamer': 'Kitchen & Dining > Kitchen Utensils & Gadgets > Fruit & Vegetable Tools',\n",
       " 'OXO Good Grips  Ice Cube Tray': 'Kitchen & Dining > Kitchen Utensils & Gadgets > Specialty Tools & Gadgets',\n",
       " 'OXO Good Grips Apple Corer and Divider': 'Kitchen & Dining > Kitchen Utensils & Gadgets > Fruit & Vegetable Tools',\n",
       " 'OXO SteeL Serving Spoon, 4-Inch': 'Kitchen & Dining > Kitchen Utensils & Gadgets > Cooking Utensils',\n",
       " 'OXO Good Grips Natural Bristle Veggie Brush': 'Kitchen & Dining > Kitchen Utensils & Gadgets > Graters',\n",
       " 'Oxo Good Grips 5-Piece Seafood Cracker Set': 'Kitchen & Dining > Kitchen Utensils & Gadgets > Specialty Tools & Gadgets',\n",
       " 'OXO SteeL Turner/Spatula': 'Kitchen & Dining > Kitchen Utensils & Gadgets > Cooking Utensils',\n",
       " 'OXO SteeL Spaghetti Server': 'Kitchen & Dining > Kitchen Utensils & Gadgets > Cooking Utensils',\n",
       " 'OXO Good Grips Melon Baller': 'Kitchen & Dining > Kitchen Utensils & Gadgets > Cooking Utensils',\n",
       " 'OXO Good Grips Toilet Brush and Canister, White': 'Bath > Bathroom Accessories > Toilet Accessories',\n",
       " 'OXO Good Grips 1.5-Quart Mixing Bowl': 'Kitchen & Dining > Bakeware > Mixing Bowls',\n",
       " 'Oxo SteeL Cheese Plane': 'Kitchen & Dining > Kitchen Utensils & Gadgets > Graters',\n",
       " 'OXO Good Grips 3-Quart Mixing Bowl, White/Black': 'Kitchen & Dining > Bakeware > Mixing Bowls',\n",
       " 'OXO Good Grips 6-Inch Double Rod Strainer': 'Kitchen & Dining > Kitchen Utensils & Gadgets > Colanders & Food Strainers',\n",
       " 'OXO SteeL Ladle': 'Kitchen & Dining > Kitchen Utensils & Gadgets > Cooking Utensils',\n",
       " 'OXO SteeL Can Opener': 'Kitchen & Dining > Kitchen Utensils & Gadgets > Cooking Utensils',\n",
       " 'OXO Good Grips Flat Whisk': 'Kitchen & Dining > Kitchen Utensils & Gadgets > Cooking Utensils',\n",
       " 'OXO SteeL Swivel Peeler': 'Kitchen & Dining > Kitchen Utensils & Gadgets > Graters',\n",
       " 'OXO Good Grips Flour Sifter': 'Kitchen & Dining > Bakeware > Baking Tools & Accessories',\n",
       " 'OXO Good Grips Jar Opener': 'Kitchen & Dining > Kitchen Utensils & Gadgets > Can Openers',\n",
       " 'OXO Good Grips Flexible Vegetable Brush': 'Kitchen & Dining > Kitchen Utensils & Gadgets > Fruit & Vegetable Tools',\n",
       " 'OXO Good Grips 6-Piece Measuring Spoon Set, Black, Updated Design': 'Kitchen & Dining > Kitchen Utensils & Gadgets > Measuring Tools & Scales',\n",
       " 'OXO Good Grips Uplift Teakettle, Polished Stainless': 'Kitchen & Dining > Cookware > Teakettles',\n",
       " 'Oxo Good Grips Nylon Fork': 'Kitchen & Dining > Kitchen Knives & Cutlery Accessories > Carving Knives & Forks',\n",
       " 'OXO SteeL Ice Cream Scoop': 'Kitchen & Dining > Kitchen Utensils & Gadgets > Specialty Tools & Gadgets',\n",
       " 'OXO SteeL Slotted Serving Spoon': 'Kitchen & Dining > Kitchen Utensils & Gadgets > Cooking Utensils',\n",
       " 'OXO Good Grips Dough Blender': 'Kitchen & Dining > Bakeware > Baking Tools & Accessories',\n",
       " 'OXO Good Grips Multi Grater': 'Kitchen & Dining > Kitchen Utensils & Gadgets > Graters',\n",
       " 'OXO Good Grips 9-Inch Whisk': 'Kitchen & Dining > Kitchen Utensils & Gadgets > Cooking Utensils',\n",
       " 'OXO Good Grips Stainless Steel Pie Server': 'Kitchen & Dining > Dining & Entertaining > Flatware',\n",
       " 'Oxo Good Grips Measuring Cup Set, Stainless Steel, 4-Pc': 'Kitchen & Dining > Kitchen Utensils & Gadgets > Measuring Tools & Scales',\n",
       " 'Oxo Good Grips Nylon Ladle': 'Kitchen & Dining > Kitchen Utensils & Gadgets > Cooking Utensils',\n",
       " 'OXO Good Grips Nylon Balloon Whisk': 'Kitchen & Dining > Kitchen Utensils & Gadgets > Cooking Utensils',\n",
       " 'OXO Good Grips Flexible Spatula': 'Kitchen & Dining > Kitchen Utensils & Gadgets > Cooking Utensils',\n",
       " 'OXO Good Grips 11-Inch Balloon Whisk': 'Kitchen & Dining > Kitchen Utensils & Gadgets > Cooking Utensils',\n",
       " 'OXO Good Grips Stainless Steel Skimmer': 'Kitchen & Dining > Kitchen Utensils & Gadgets > Cooking Utensils',\n",
       " 'OXO Good Grips Winged Corkscrew, Black': 'Kitchen & Dining > Kitchen Utensils & Gadgets > Bar & Wine Tools',\n",
       " 'OXO SteeL Large Skewer Fork': 'Kitchen & Dining > Kitchen Knives & Cutlery Accessories > Carving Knives & Forks',\n",
       " 'OXO SteeL Lasagna Turner': 'Kitchen & Dining > Kitchen Utensils & Gadgets > Cooking Utensils',\n",
       " 'OXO Good Grips Bent Icing Knife': 'Kitchen & Dining > Bakeware > Decorating Tools',\n",
       " 'Oxo SteeL 8-Inch Strainer': 'Kitchen & Dining > Kitchen Utensils & Gadgets > Colanders & Food Strainers',\n",
       " 'Oxo Good Grips Measuring Spoons, Stainless Steel, 4-Pc': 'Kitchen & Dining > Kitchen Utensils & Gadgets > Measuring Tools & Scales',\n",
       " 'OXO Good Grips 3-1/2-Inch Paring Knife': 'Kitchen & Dining > Kitchen Utensils & Gadgets > Cooking Utensils',\n",
       " 'OXO Good Grips Oyster Knife': 'Kitchen & Dining > Kitchen Utensils & Gadgets > Specialty Tools & Gadgets',\n",
       " 'OXO SteeL 6-Inch Strainer': 'Kitchen & Dining > Kitchen Utensils & Gadgets > Cooking Utensils',\n",
       " 'OXO Good Grips Soap Dispensing Palm Brush': 'Kitchen & Dining > Kitchen Utensils & Gadgets > Cooking Utensils',\n",
       " 'OXO Good Grips Nylon Potato Masher': 'Kitchen & Dining > Kitchen Utensils & Gadgets > Fruit & Vegetable Tools',\n",
       " 'OXO Good Grips Medium Silicone Spatula, Tomato': 'Kitchen & Dining > Kitchen Utensils & Gadgets > Cooking Utensils',\n",
       " 'OXO Good Grips Shrimp Cleaner': 'Kitchen & Dining > Kitchen Utensils & Gadgets > Specialty Tools & Gadgets',\n",
       " 'Oxo Good Grips Nylon Asian Turner': 'Kitchen & Dining > Kitchen Utensils & Gadgets > Cooking Utensils',\n",
       " 'OXO Good Grips Stainless Steel Ladle': 'Kitchen & Dining > Kitchen Utensils & Gadgets > Cooking Utensils',\n",
       " 'OXO Good Grips Bag Clips, Set-of-4, Multicolored': 'Kitchen & Dining > Storage & Organization > NA',\n",
       " 'OXO SteeL Soup Skimmer': 'Kitchen & Dining > Kitchen Utensils & Gadgets > Cooking Utensils',\n",
       " 'OXO Good Grips Stainless Steel Turner': 'Kitchen & Dining > Kitchen Utensils & Gadgets > Cooking Utensils',\n",
       " 'OXO Good Grips 6-Piece Measuring Cup Set, Updated Design': 'Kitchen & Dining > Kitchen Utensils & Gadgets > Measuring Tools & Scales',\n",
       " 'OXO Good Grips 6-Piece Measuring Spoon Set, White': 'Kitchen & Dining > Kitchen Utensils & Gadgets > Measuring Tools & Scales',\n",
       " 'OXO Good Grips Stainless Steel Serving Spatula': 'Kitchen & Dining > Kitchen Utensils & Gadgets > Cooking Utensils',\n",
       " 'Oxo Good Grips Nylon Square Turner': 'Kitchen & Dining > Kitchen Utensils & Gadgets > Cooking Utensils',\n",
       " 'OXO SteeL Potato Masher': 'Kitchen & Dining > Kitchen Utensils & Gadgets > Fruit & Vegetable Tools',\n",
       " 'OXO Good Grips Multi-Purpose Pastry Scraper/Chopper': 'Kitchen & Dining > Bakeware > Baking Tools & Accessories',\n",
       " 'OXO Good Grips Stainless Steel Spoon': 'Kitchen & Dining > Kitchen Utensils & Gadgets > Cooking Utensils',\n",
       " 'OXO Good Grips Stainless Steel Serving Spoon': 'Kitchen & Dining > Kitchen Utensils & Gadgets > Cooking Utensils',\n",
       " 'OXO SteeL Pie Server': 'Kitchen & Dining > Dining & Entertaining > Flatware',\n",
       " 'OXO Good Grips Stainless Steel Slotted Spoon': 'Kitchen & Dining > Kitchen Utensils & Gadgets > Cooking Utensils',\n",
       " 'Oxo Good Grips Paring and Mini Chef Knife Set': 'Kitchen & Dining > Kitchen Knives & Cutlery Accessories > Cutlery Sets',\n",
       " 'BonJour Caffe Froth Turbo, White': 'Kitchen & Dining > Small Appliance Parts & Accessories > Coffee & Espresso Machine Parts & Accessories',\n",
       " 'Kuhn Rikon Stainless-Steel Pressure Cooker': 'Kitchen & Dining > Cookware > Pressure Cookers',\n",
       " 'Best Manufacturers Standard French Whip 10-inch': 'Kitchen & Dining > Kitchen Utensils & Gadgets > Cooking Utensils',\n",
       " 'BonJour French Press Monet, Polished Stainless Steel, 8-Cup': 'Kitchen & Dining > Coffee > Tea & Espresso',\n",
       " 'Chicago Metallic Gourmetware 2-Piece Toaster Oven/Broiler Pan': 'Kitchen & Dining > Bakeware > Bakeware Sets',\n",
       " 'Best Manufacturers Flat Roux/Gravy Whip 12-inch': 'Kitchen & Dining > Kitchen Utensils & Gadgets > Cooking Utensils',\n",
       " 'Chicago Metallic Baked Taco Rack': 'Kitchen & Dining > Bakeware > NA',\n",
       " 'Chicago Metallic Commercial Perforated Pie Pans, Set 2': 'Kitchen & Dining > Bakeware > Pie',\n",
       " 'Chicago Metallic Non-Stick 12- Cup Mini Popover Pan': 'Kitchen & Dining > Bakeware > Popover Pans',\n",
       " 'Best Manufacturers 12-Inch Balloon Whip with Metal Handle': 'Kitchen & Dining > Kitchen Utensils & Gadgets > Cooking Utensils',\n",
       " 'Best Manufacturers Light Design French Whip 8-inch': 'Kitchen & Dining > Kitchen Utensils & Gadgets > Cooking Utensils',\n",
       " 'Chicago Metallic Professional Nonstick 1-Pound Loaf Pan': 'Kitchen & Dining > Bakeware > Bread & Loaf Pans',\n",
       " 'Kuhn Rikon Auto Deluxe Safety Lid Lifter, Red': 'Kitchen & Dining > Kitchen Utensils & Gadgets > Can Openers',\n",
       " 'Chicago Metallic Commercial 14-by-16-Inch Cookie Sheet': 'Kitchen & Dining > Bakeware > Baking & Cookie Sheets',\n",
       " 'Chicago Metallic Professional Nonstick 6-Cup Giant Muffin Pan': 'Kitchen & Dining > Bakeware > Muffin & Cupcake Pans',\n",
       " 'Chicago Metallic Non-Stick Checkerboard Cake Pan Set': 'Kitchen & Dining > Bakeware > Cake Pans',\n",
       " \"Chicago Metallic Gourmetware Nonstick Make N' Take Pan with Lid.\": 'Kitchen & Dining > Bakeware > Cake Pans',\n",
       " 'Chicago Metallic Professional Nonstick 9-Inch Round Cake Pan': 'Kitchen & Dining > Bakeware > Cake Pans',\n",
       " 'Frieling 8-inch Round Brotform': 'Kitchen & Dining > Bakeware > Bread & Loaf Pans',\n",
       " 'Chicago Metallic Commercial 1-1/2-Pound Loaf Pan': 'Kitchen & Dining > Bakeware > Bread & Loaf Pans',\n",
       " 'Melitta MEMB1B Mill &amp; Brew 10-Cup Coffeemaker, Black': 'Kitchen & Dining > Coffee > Tea & Espresso',\n",
       " 'Toastmaster 6506 Egg Head Egg Cooker': 'Kitchen & Dining > Small Appliances > Specialty Appliances',\n",
       " 'Chicago Metallic Non-Stick Large Tortilla Shell Pans, Set of 2': 'Kitchen & Dining > Bakeware > Small Pastry Molds',\n",
       " 'BonJour Caffe Froth Monet Milk Frother, Black': 'Kitchen & Dining > Small Appliance Parts & Accessories > Coffee & Espresso Machine Parts & Accessories',\n",
       " 'Salton EG1 Great Eggs Egg Poacher/Boiler': 'Kitchen & Dining > Small Appliances > Specialty Appliances',\n",
       " 'Emsa Perfect Beaker with Seal': 'Kitchen & Dining > Kitchen Utensils & Gadgets > Measuring Tools & Scales',\n",
       " 'Kuhn Rikon Safety Lid Lifter Can Opener': 'Kitchen & Dining > Kitchen Utensils & Gadgets > Can Openers',\n",
       " 'George Foreman GR30CB XXL Grill': 'Kitchen & Dining > Small Appliances > Contact Grills',\n",
       " 'Breadman TR2200C Ultimate Bread Machine': 'Kitchen & Dining > Small Appliances > Bread Machines',\n",
       " 'Chicago Metallic Commercial 18-Inch-by-13-Inch Jelly Roll Pan': 'Kitchen & Dining > Bakeware > Jelly-Roll Pans',\n",
       " 'Chicago Metallic Commercial Large Chrome Cooling Grid 15-1/2 by 12-1/2-Inch': 'Kitchen & Dining > Bakeware > Baking Tools & Accessories',\n",
       " 'Chicago Metallic 69609 Professional Nonstick Perforated Baguette Pan': 'Kitchen & Dining > Bakeware > Bread & Loaf Pans',\n",
       " 'Farberware FSC600 6-Quart Oval Slow Cooker': 'Kitchen & Dining > Small Appliances > Slow Cookers',\n",
       " 'Chicago Metallic Commercial 9-Inch Round Cake Pan': 'Kitchen & Dining > Bakeware > Cake Pans',\n",
       " 'George Foreman GR10AWHT Champ Grill': 'Kitchen & Dining > Small Appliances > Contact Grills',\n",
       " 'George Foreman GR20WHT XL Grill': 'Kitchen & Dining > Small Appliances > Contact Grills',\n",
       " 'Chicago Metallic 69610 Professional Nonstick Perforated French Bread Pan': 'Kitchen & Dining > Bakeware > Bread & Loaf Pans',\n",
       " 'Salton KM44WHT 2-Liter Iced Tea Maker, White': 'Kitchen & Dining > Small Appliances > Coffee',\n",
       " 'The Juiceman Electronic Professional Series 410 Elite Edition': 'Kitchen & Dining > Small Appliances > Juicers',\n",
       " 'Best Manufacturers Balloon Whip 12-inch Red Wood Handle': 'Kitchen & Dining > Kitchen Utensils & Gadgets > Cooking Utensils',\n",
       " 'Farberware FCP280 8-Cup Percolator': 'Kitchen & Dining > Small Appliances > Coffee',\n",
       " 'Farberware FCP512S 12-Cup Cordless Percolator': 'Kitchen & Dining > Small Appliances > Coffee',\n",
       " 'Victor M383 Fly Magnet Bait 3-Pk': 'Kitchen & Dining > Kitchen Utensils & Gadgets > Kitchen Accessories',\n",
       " 'Kenwood KM410 Chef Classic 5-Quart Stand Mixer': 'Kitchen & Dining > Small Appliances > Mixers',\n",
       " 'Joyce Chen Pro Chef 14-Inch Unseasoned Carbon Steel Wok': 'Kitchen & Dining > Cookware > Woks & Stir-Fry Pans',\n",
       " 'Joyce Chen 31-0063, Chrome Steel Wire Wok Ring': 'Kitchen & Dining > Cookware > Cookware Accessories',\n",
       " 'Kaiser Bakeware La Forme 16-by-14-Inch Cookie Sheet': 'Kitchen & Dining > Bakeware > Baking & Cookie Sheets',\n",
       " 'Pyrex Digital Probe Oven Thermometer/ Timer': 'Kitchen & Dining > Kitchen Utensils & Gadgets > Thermometers & Timers',\n",
       " 'Kaiser Bakeware Basic Tinplate 10-by 2-Inch Round Springform Pan': 'Kitchen & Dining > Bakeware > Cake Pans',\n",
       " 'Pyrex Programmable Timer': 'Kitchen & Dining > Kitchen Utensils & Gadgets > Thermometers & Timers',\n",
       " 'Kaiser Bakeware Noblesse 9-Inch Non-stick Springform Pan': 'Kitchen & Dining > Bakeware > Cake Pans',\n",
       " 'Amco 6-Quart Stainless-Steel Colander': 'Kitchen & Dining > Kitchen Utensils & Gadgets > Colanders & Food Strainers',\n",
       " 'Oneida Cocktail Shaker': 'Kitchen & Dining > Kitchen Utensils & Gadgets > Bar & Wine Tools',\n",
       " 'Oneida Stainless-Steel Tongs': 'Kitchen & Dining > Kitchen Utensils & Gadgets > Cooking Utensils',\n",
       " 'Kaiser Bakeware Noblesse 7-Inch Non-stick Springform Pan': 'Kitchen & Dining > Bakeware > Cake Pans',\n",
       " 'Pyrex 6-Piece Measuring Cup Set': 'Kitchen & Dining > Kitchen Utensils & Gadgets > Measuring Tools & Scales',\n",
       " 'Kaiser Bakeware Noblesse Non-stick Mini Springform Pans, Set of 4': 'Kitchen & Dining > Bakeware > Cake Pans',\n",
       " 'Amco 5-Cup Sifter': 'Kitchen & Dining > Bakeware > Baking Tools & Accessories',\n",
       " 'Joyce Chen 20-1140, Pro-Chef 14-Inch Round Bottom Wok with Wood Handles': 'Kitchen & Dining > Cookware > Woks & Stir-Fry Pans',\n",
       " 'Kaiser Bakeware La Forme 9-Inch Nonstick Springform Pan': 'Kitchen & Dining > Bakeware > Cake Pans',\n",
       " 'Kaiser Bakeware ExtraordinAire 16-by-14-Inch Nonstick Cookie Sheet': 'Kitchen & Dining > Bakeware > Baking & Cookie Sheets',\n",
       " 'West Bend 33600 100-Cup Commercial Coffee Urn': 'Kitchen & Dining > Dining & Entertaining > Serveware',\n",
       " 'West Bend 82306 Stir Crazy 6-Quart Electric Popcorn Popper': 'Kitchen & Dining > Small Appliances > Specialty Appliances',\n",
       " 'Chantal Stainless Steel Classic Teakettle, 1.8 Quart': 'Kitchen & Dining > Cookware > Teakettles',\n",
       " 'Hamilton Beach 76600 Smooth Edge Can Opener': 'Kitchen & Dining > Kitchen Utensils & Gadgets > Can Openers',\n",
       " 'Progressive International Clearly Fresh Bread Keeper': 'Kitchen & Dining > Storage & Organization > Bread Boxes',\n",
       " 'Progressive International Set of 3 Mini Ladles': 'Kitchen & Dining > Kitchen Utensils & Gadgets > Cooking Utensils',\n",
       " 'Progressive International GT-7436 Jumbo Tower Grater, 11-Inch': 'Kitchen & Dining > Kitchen Utensils & Gadgets > Graters',\n",
       " 'Chantal Enamel On Steel Classic Teakettle, Indigo Blue': 'Kitchen & Dining > Cookware > Teakettles',\n",
       " 'Norpro KRONA Stainless Steel 8.5 Inch Deep Colander': 'Kitchen & Dining > Kitchen Utensils & Gadgets > Colanders & Food Strainers',\n",
       " 'Progressive International Multi Slicer': 'Kitchen & Dining > Kitchen Utensils & Gadgets > Graters',\n",
       " 'Norpro Expanding Over the Sink Colander with Base Frame': 'Kitchen & Dining > Kitchen Utensils & Gadgets > Colanders & Food Strainers',\n",
       " 'Norpro Stainless Steel 5 Piece Measuring Cup Set': 'Kitchen & Dining > Kitchen Utensils & Gadgets > Measuring Tools & Scales',\n",
       " 'Progressive 5-Piece Canning Kit': 'Kitchen & Dining > Cookware > Canning',\n",
       " 'Prepworks from Progressive International GAPC-240 Apple Peeler and Corer': 'Kitchen & Dining > Kitchen Utensils & Gadgets > Graters',\n",
       " 'Zak Designs E-Z-Rol Garlic Peeler, Blue': 'Kitchen & Dining > Kitchen Utensils & Gadgets > Seasoning & Spice Tools',\n",
       " 'Norpro Grip-EZ Granny Fork': 'Kitchen & Dining > Kitchen Utensils & Gadgets > NA',\n",
       " 'Prepworks from Progressive International GPC-2549 Vegetable/French Fry Cutter': 'Kitchen & Dining > Kitchen Utensils & Gadgets > Graters',\n",
       " 'Prepworks from Progressive International GCBW-2 Butter Warmer Set': 'Kitchen & Dining > Cookware > Specialty Cookware',\n",
       " 'Simac MX700 PastaMatic Pasta Maker': 'Kitchen & Dining > Kitchen Utensils & Gadgets > Pasta & Pizza Tools',\n",
       " 'Lello 4080 Musso Lussino 1.5-Quart Ice Cream Maker, Stainless': 'Kitchen & Dining > Small Appliances > Ice Cream Machines',\n",
       " 'Norpro KRONA Stainless Steel 5 Quart Deep Colander': 'Kitchen & Dining > Kitchen Utensils & Gadgets > Colanders & Food Strainers',\n",
       " 'Progressive International Microwaveable 12-Cup (Cooked) Rice/Pasta Cooker Set': 'Kitchen & Dining > Small Appliances > Rice Cookers',\n",
       " 'Norpro KRONA Stainless Steel 8 Cup Multi Pot': 'Kitchen & Dining > Cookware > Stockpots',\n",
       " 'Amco Measure Equivalents Magnet': 'Kitchen & Dining > Kitchen Utensils & Gadgets > NA',\n",
       " 'Amco 13-Inch Splatter Screen': 'Kitchen & Dining > Kitchen Utensils & Gadgets > Specialty Tools & Gadgets',\n",
       " 'Amco Spoon Rest': 'Kitchen & Dining > Kitchen Utensils & Gadgets > Kitchen Accessories',\n",
       " 'Zwilling J.A. Henckels Twin Four Star 4-Inch High-Carbon Stainless-Steel Paring Knife': 'Kitchen & Dining > Kitchen Utensils & Gadgets > Graters',\n",
       " 'Amco Nylon Slotted Serving Spoon': 'Kitchen & Dining > Kitchen Utensils & Gadgets > Cooking Utensils',\n",
       " 'Amco Nylon Serving Fork': 'Kitchen & Dining > Kitchen Knives & Cutlery Accessories > Carving Knives & Forks',\n",
       " 'Farberware Classic 10-Quart Stainless-Steel Stockpot with Lid': 'Kitchen & Dining > Cookware > Stockpots',\n",
       " 'Zwilling J.A. Henckels Twin Pro S 2-3/4-Inch High Carbon Stainless-Steel Peeling Knife': 'Kitchen & Dining > Kitchen Knives & Cutlery Accessories > Specialty Knives',\n",
       " 'Zwilling J.A. Henckels Twin Four Star 5-Inch High Carbon Stainless-Steel Serrated Utility Knife': 'Kitchen & Dining > Kitchen Knives & Cutlery Accessories > Utility Knives',\n",
       " 'Amco Nylon Slotted Spatula': 'Kitchen & Dining > Kitchen Utensils & Gadgets > Cooking Utensils',\n",
       " 'Zwilling J.A. Henckels Twin Pro Professional &quot;S&quot; Slicing Knife 160mm/6&quot;': 'Kitchen & Dining > Kitchen Knives & Cutlery Accessories > Carving Knives & Forks',\n",
       " 'Amco Pasta Fork': 'Kitchen & Dining > Kitchen Utensils & Gadgets > Pasta & Pizza Tools',\n",
       " 'Amco Stainless-Steel and Nylon Locking Tongs': 'Kitchen & Dining > Kitchen Utensils & Gadgets > Cooking Utensils',\n",
       " \"Zwillilng J.A. Henckels Twin Four Star 8-Inch High Carbon Stainless-Steel Chef's Knife\": 'Kitchen & Dining > Kitchen Knives & Cutlery Accessories > Chefs Knives',\n",
       " 'Amco Nylon Serving Spoon': 'Kitchen & Dining > Kitchen Utensils & Gadgets > Cooking Utensils',\n",
       " 'Amco Nylon Wide Blade Spatula': 'Kitchen & Dining > Kitchen Utensils & Gadgets > Cooking Utensils',\n",
       " 'Zwilling J.A. Henckels Twin Gourmet High-Carbon Stainless Steel Steak Knives, Set of 4': 'Kitchen & Dining > Kitchen Knives & Cutlery Accessories > Cutlery Sets',\n",
       " \"Zwilling J.A. Henckels Twin Pro S 6-Inch High Carbon Stainless-Steel Chef's Knife\": 'Kitchen & Dining > Kitchen Knives & Cutlery Accessories > Chefs Knives',\n",
       " 'Henckels Gourmet 7-Piece High Carbon Stainless-Steel Knife Set with Block': 'Kitchen & Dining > Kitchen Knives & Cutlery Accessories > Cutlery Sets',\n",
       " 'J.A. HENCKELS INTERNATIONAL Classic 6-inch Cleaver': 'Kitchen & Dining > Kitchen Knives & Cutlery Accessories > Cleavers',\n",
       " 'J.A. HENCKELS INTERNATIONAL Classic 4-inch Paring Knife': 'Kitchen & Dining > Kitchen Knives & Cutlery Accessories > Paring Knives',\n",
       " 'Zwilling J.A. Henckels Twin Pro S 5-Inch Stainless-Steel Serrated Utility Knife': 'Kitchen & Dining > Kitchen Knives & Cutlery Accessories > Utility Knives',\n",
       " 'J.A. HENCKELS INTERNATIONAL Classic 8-inch Carving Knife': 'Kitchen & Dining > Kitchen Knives & Cutlery Accessories > Carving Knives & Forks',\n",
       " \"Zwilling J.A. Henckels Twin Four Star 10-Inch Stainless-Steel Chef's Knife\": 'Kitchen & Dining > Kitchen Knives & Cutlery Accessories > Chefs Knives',\n",
       " 'Zwilling J.A. Henckels Twin Pro S 9-Piece Knife Set with Block': 'Kitchen & Dining > Kitchen Knives & Cutlery Accessories > Cutlery Sets',\n",
       " 'J.A. HENCKELS INTERNATIONAL Classic 7-inch Bread Knife': 'Kitchen & Dining > Kitchen Knives & Cutlery Accessories > Bread & Serrated Knives',\n",
       " 'Amco Nylon Whisk': 'Kitchen & Dining > Kitchen Utensils & Gadgets > Cooking Utensils',\n",
       " 'Amco Skimmer': 'Kitchen & Dining > Kitchen Utensils & Gadgets > NA',\n",
       " 'J.A. Henckels Twin Four Star 3-Inch High Carbon Stainless-Steel Paring Knife': 'Kitchen & Dining > Kitchen Knives & Cutlery Accessories > Paring Knives',\n",
       " 'Farberware Classic Stainless Steel Covered Stockpot, 12-Quart': 'Kitchen & Dining > Cookware > Stockpots',\n",
       " 'Amco Nylon Slotted Wide Blade Spatula': 'Kitchen & Dining > Kitchen Utensils & Gadgets > Cooking Utensils',\n",
       " 'J.A. Henckels International Eversharp Pro 8-Inch Stainless-Steel Bread Knife': 'Kitchen & Dining > Kitchen Knives & Cutlery Accessories > Bread & Serrated Knives',\n",
       " 'Henckels International Stainless Steel Steak Knives, Set of 4': 'Kitchen & Dining > Kitchen Knives & Cutlery Accessories > Cutlery Sets',\n",
       " 'Farberware Classic Stainless Steel Covered Stockpot, 16-Quart': 'Kitchen & Dining > Cookware > Stockpots',\n",
       " 'Zwilling J.A. Henckels Twinshear Kitchen Shears, Black': 'Kitchen & Dining > Kitchen Knives & Cutlery Accessories > Shears',\n",
       " 'Zwilling J.A. Henckels Twin Pro-S 2-Piece Carving Set': 'Kitchen & Dining > Kitchen Knives & Cutlery Accessories > Cutlery Sets',\n",
       " 'Zwilling J.A. Henckels Twin Pro S 12-Inch Honing Steel': 'Kitchen & Dining > Kitchen Knives & Cutlery Accessories > Knife Sharpeners',\n",
       " 'J.A. Henckels International Fine Edge Pro 5-Inch Stainless-Steel Utility Knife': 'Kitchen & Dining > Kitchen Knives & Cutlery Accessories > Utility Knives',\n",
       " 'Zwilling J.A. Henckels Twinsharp Knife Sharpener': 'Kitchen & Dining > Kitchen Knives & Cutlery Accessories > Knife Sharpeners',\n",
       " 'Zwilling J.A. Henckels Twin Pro S 5.5-Inch High Carbon Stainless-Steel Boning Knife': 'Kitchen & Dining > Kitchen Knives & Cutlery Accessories > Boning & Fillet Knives',\n",
       " 'J.A. HENCKELS INTERNATIONAL Eversharp Pro 2-pc Carving Knife Set': 'Kitchen & Dining > Kitchen Knives & Cutlery Accessories > Carving Knives & Forks',\n",
       " '4 PC Stainless Steel Steak Set': 'Kitchen & Dining > Kitchen Knives & Cutlery Accessories > Cutlery Sets',\n",
       " 'J.A. HENCKELS INTERNATIONAL Fine Edge Pro 3-pc Starter Knife Set': 'Kitchen & Dining > Kitchen Knives & Cutlery Accessories > Cutlery Sets',\n",
       " 'Nordic Ware Cast Platinum Bundt Fancy Loaf Pan': 'Kitchen & Dining > Bakeware > Cake Pans',\n",
       " 'J.A. HENCKELS INTERNATIONAL Classic 6-inch Utility Knife': 'Kitchen & Dining > Kitchen Knives & Cutlery Accessories > Utility Knives',\n",
       " 'Nordic Ware Bundt Fancy Springform Pan with 2 Bottoms, 9 Inch': 'Kitchen & Dining > Bakeware > Cake Pans',\n",
       " 'J.A. Henckels International Fine Edge Pro 3-Inch Stainless Steel Paring Knife': 'Kitchen & Dining > Kitchen Knives & Cutlery Accessories > Paring Knives',\n",
       " 'Nordic Ware Scandinavian Silver Dollar Pancake Pan': 'Kitchen & Dining > Cookware > Griddles',\n",
       " 'J.A. Henckels 9-Inch Poly Sharpening Steel': 'Kitchen & Dining > Kitchen Knives & Cutlery Accessories > Knife Sharpeners',\n",
       " 'VillaWare V3000 Classic Waffler Round': 'Kitchen & Dining > Small Appliances > Waffle Irons',\n",
       " 'Nordic Ware Heavyweight Angel Food Cake Pan, 10 Inch': 'Kitchen & Dining > Bakeware > Cake Pans',\n",
       " 'Ronco ST5000PLGEN Showtime Rotisserie Platinum Edition': 'Kitchen & Dining > Small Appliances > Ovens & Toasters',\n",
       " 'Nordic Ware Pro Form Heavyweight 12 Cup Bundt Pan': 'Kitchen & Dining > Bakeware > Cake Pans',\n",
       " 'Bialetti 275-06 Moka Express 6-Cup Espresso Maker': 'Kitchen & Dining > Coffee > Tea & Espresso',\n",
       " 'VillaWare V3850 Quattro Pizzelle Baker': 'Kitchen & Dining > Small Appliances > Specialty Appliances',\n",
       " 'Zwilling J.A. Henckels Twin Four Star 7-Inch High Carbon Stainless-Steel Fillet knife': 'Kitchen & Dining > Kitchen Knives & Cutlery Accessories > Cutlery Sets',\n",
       " 'Zwilling J.A. Henckels Twin High Carbon Stainless-Steel Meat Cleaver': 'Kitchen & Dining > Kitchen Knives & Cutlery Accessories > Cleavers',\n",
       " 'Nordic Ware Toaster Oven 2-Piece Broiler Set': 'Kitchen & Dining > Cookware > Toaster Oven Cookware',\n",
       " 'J.A. Henckels International Eversharp Pro 5-Inch Stainless-Steel Utility Knife': 'Kitchen & Dining > Kitchen Knives & Cutlery Accessories > Utility Knives',\n",
       " 'J.A. Henckels International Eversharp Pro Stainless Steel Steak Knives, Set of 4': 'Kitchen & Dining > Kitchen Knives & Cutlery Accessories > Cutlery Sets',\n",
       " 'Nordic Ware Quiche and Tart Pan, 8 Inch': 'Kitchen & Dining > Bakeware > Pie',\n",
       " 'Nordic Ware Platinum Collection Original Bundt Pan, 12 Cup': 'Kitchen & Dining > Bakeware > Cake Pans',\n",
       " \"J.A. HENCKELS INTERNATIONAL Classic 8-inch Chef's Knife\": 'Kitchen & Dining > Kitchen Knives & Cutlery Accessories > Chefs Knives',\n",
       " 'Nordic Ware Round Cooling Rack, 13.25 Inch Diameter': 'Kitchen & Dining > Kitchen Utensils & Gadgets > Kitchen Accessories',\n",
       " 'J.A. HENCKELS INTERNATIONAL Classic 5-inch Serrated Utility Knife': 'Kitchen & Dining > Kitchen Knives & Cutlery Accessories > Bread & Serrated Knives',\n",
       " 'VillaWare V3900 Krumkake Baker': 'Kitchen & Dining > Small Appliances > Waffle Irons',\n",
       " 'ZWILLING J.A HENCKELS 7-pocket Knife Roll': 'Kitchen & Dining > Kitchen Knives & Cutlery Accessories > Knife Blocks & Storage',\n",
       " 'Nordic Ware Pro Cast Star Bundt Pan': 'Kitchen & Dining > Bakeware > Cake Pans',\n",
       " 'VillaWare V5000-NS Prima Pizzelle Baker Non-stick': 'Kitchen & Dining > Small Appliances > Specialty Appliances',\n",
       " 'Bunn A10 Pour-O-Matic Coffee Brewer': 'Kitchen & Dining > Coffee > Tea & Espresso',\n",
       " 'Nordic Ware Danish Ebleskiver Pan': 'Kitchen & Dining > Bakeware > Cake Pans',\n",
       " 'Nordic Ware Toaster Oven Casserole Pan, 1.5 Quart': 'Kitchen & Dining > Bakeware > Bakers & Casseroles',\n",
       " 'Zwilling J.A. Henckels Four Star 6-Inch Stainless-Steel Slicing Knife': 'Kitchen & Dining > Kitchen Knives & Cutlery Accessories > Utility Knives',\n",
       " 'Nordic Ware Compact Ovenware Baking Sheet': 'Kitchen & Dining > Bakeware > Baking & Cookie Sheets',\n",
       " 'DeLonghi DCG4T Deluxe Burr Coffee Grinder with Timer': 'Kitchen & Dining > Coffee > Tea & Espresso',\n",
       " 'Amco Basic Ingredients Stainless Steel Measuring Cups, Set of 4': 'Kitchen & Dining > Kitchen Utensils & Gadgets > Measuring Tools & Scales',\n",
       " 'Delonghi RT400 4-Slice Retro Toaster': 'Kitchen & Dining > Small Appliances > Ovens & Toasters',\n",
       " 'DeLonghi D895UX Cool-Touch ROTO Electric 1-1/2-Pound-Capacity Food Fryer': 'Kitchen & Dining > Small Appliances > Deep Fryers',\n",
       " 'Amco 9 Quart Stainless Steel Mixing Bowl': 'Kitchen & Dining > Bakeware > Mixing Bowls',\n",
       " 'Amco 4-Piece Stainless-Steel Measuring Spoon Set': 'Kitchen & Dining > Kitchen Utensils & Gadgets > Measuring Tools & Scales',\n",
       " 'J.A. HENCKELS INTERNATIONAL Fine Edge Pro 8-inch Bread Knife': 'Kitchen & Dining > Kitchen Knives & Cutlery Accessories > Bread & Serrated Knives',\n",
       " 'Farberware Classic 2-Qt. Covered Double Boiler': 'Kitchen & Dining > Cookware > Saucepans',\n",
       " 'Amco Large Scoop Colander': 'Kitchen & Dining > Kitchen Utensils & Gadgets > Colanders & Food Strainers',\n",
       " 'Amco 3-Quart Stainless Steel Mixing bowl': 'Kitchen & Dining > Bakeware > Mixing Bowls',\n",
       " 'Amco 4.5-Quart Stainless-Steel Mixing Bowl': 'Kitchen & Dining > Bakeware > Mixing Bowls',\n",
       " 'Amco 6.5-Quart Stainless Steel Mixing Bowl': 'Kitchen & Dining > Bakeware > Mixing Bowls',\n",
       " 'VillaWare V6150 4-Square Belgian Waffler/Multi-Baker, Stainless Steel': 'Kitchen & Dining > Small Appliances > Waffle Irons',\n",
       " 'Amco Cheese Grater': 'Kitchen & Dining > Kitchen Utensils & Gadgets > Graters',\n",
       " \"Vic Firth Baker's Rolling Pin\": 'Kitchen & Dining > Bakeware > Baking Tools & Accessories',\n",
       " 'Hoffritz Stainless-Steel Mandoline Slicer': 'Kitchen & Dining > Kitchen Utensils & Gadgets > Graters',\n",
       " 'Farberware Professional Knife Sharpener': 'Kitchen & Dining > Kitchen Knives & Cutlery Accessories > Knife Sharpeners',\n",
       " 'Vic Firth French Rolling Pin': 'Kitchen & Dining > Bakeware > Baking Tools & Accessories',\n",
       " 'Hoffritz Stainless-Steel Vegetable Peeler': 'Kitchen & Dining > Kitchen Utensils & Gadgets > Graters',\n",
       " 'Hoffritz Stainless-Steel Scraper/Chopper': 'Kitchen & Dining > Kitchen Utensils & Gadgets > Seasoning & Spice Tools',\n",
       " 'Briel ES35AF Chamonix Pump Espresso Machine With Auto Espresso Flow': 'Kitchen & Dining > Coffee > Tea & Espresso',\n",
       " 'Catskill Craftsmen Wood Pastry Board with Baking Graphics': 'Kitchen & Dining > Bakeware > NA',\n",
       " 'Catskill Craftsmen Wood End Grain Cutting Slab': 'Kitchen & Dining > Kitchen Knives & Cutlery Accessories > Cutting Boards',\n",
       " 'Progressive International 11-Ounce Salt and Pepper Shakers': 'Kitchen & Dining > Kitchen Utensils & Gadgets > Salt & Pepper',\n",
       " 'Natural Flexible Cutting Board 8.5&quot; x 11.5&quot; , 1 Each': 'Kitchen & Dining > Kitchen Knives & Cutlery Accessories > Cutting Boards',\n",
       " 'Catskill Craftsmen Adjustable Wood Over-the-Sink Board': 'Kitchen & Dining > Kitchen Knives & Cutlery Accessories > Cutting Boards',\n",
       " 'Progressive Stainless Steel Mesh Tea Ball': 'Kitchen & Dining > Coffee > Tea & Espresso',\n",
       " 'Beyond Gourmet Unbleached Parchment Paper, 71-Square Foot Roll': 'Kitchen & Dining > Bakeware > Baking Tools & Accessories',\n",
       " 'Kitchen Supply 13 Inch x 17 Inch Parchment Paper': 'Kitchen & Dining > Bakeware > Baking Tools & Accessories',\n",
       " \"Chef's Choice 830 WafflePro Heart Waffle Iron\": 'Kitchen & Dining > Small Appliances > Waffle Irons',\n",
       " 'Frieling 9-Inch Glass Bottom Nonstick Springform Pan': 'Kitchen & Dining > Bakeware > Cake Pans',\n",
       " 'Norpro 3301 Deluxe Biscuit/Cookie Press': 'Kitchen & Dining > Bakeware > Baking Tools & Accessories',\n",
       " 'Ateco #786 Large Tube Set, 12 pcs.': 'Kitchen & Dining > Bakeware > Decorating Tools',\n",
       " \"Mrs. Anderson's Baking Pie Crust Shield, 10-Inch\": 'Kitchen & Dining > Bakeware > Pie',\n",
       " '126&quot; x 36&quot; Cheesecloth': 'Kitchen & Dining > Kitchen Utensils & Gadgets > Colanders & Food Strainers',\n",
       " 'SCI Scandicrafts Fluted Deep Tart/Quiche Mold, Removable Bottom 10-inch Diameter by 2-inch Deep': 'Kitchen & Dining > Bakeware > Pie',\n",
       " 'Sassafras / Natural Wood Pizza Peel': 'Kitchen & Dining > Kitchen Utensils & Gadgets > Pasta & Pizza Tools',\n",
       " 'Gobel Rectangular Tart Pan - 4 &times; 14': 'Kitchen & Dining > Bakeware > Pie',\n",
       " 'Ateco 6-Piece Graduated Star Cookie Cutter Set': 'Kitchen & Dining > Bakeware > Baking Tools & Accessories',\n",
       " 'Thermos 14-Ounce Stainless-Steel Insulated Travel Tumbler': 'Kitchen & Dining > Dining & Entertaining > Glassware & Drinkware',\n",
       " \"Chef's Choice 110 Professional Diamond Hone Sharpener\": 'Kitchen & Dining > Kitchen Knives & Cutlery Accessories > Knife Sharpeners',\n",
       " 'Leak Resist Tumbler 14 oz': 'Kitchen & Dining > Dining & Entertaining > Glassware & Drinkware',\n",
       " 'Ateco Graduated Heart Cookie Cutters, Set of 6': 'Kitchen & Dining > Bakeware > Baking Tools & Accessories',\n",
       " 'Thermos 34-Ounce Vacuum Insulated Stainless-Steel Gourmet Coffee Press': 'Kitchen & Dining > Small Appliance Parts & Accessories > Coffee & Espresso Machine Parts & Accessories',\n",
       " 'Prodyne K-3-A  Set of 3 Cheese Knives, wood handle': 'Kitchen & Dining > Kitchen Knives & Cutlery Accessories > Specialty Knives',\n",
       " 'Prodyne 805B Thick Beech wood Cheese Slicer': 'Kitchen & Dining > Kitchen Utensils & Gadgets > Graters',\n",
       " 'Ateco Graduated Daisy Cookie Cutters, Set of 6': 'Kitchen & Dining > Bakeware > Baking Tools & Accessories',\n",
       " \"Chef's Choice Multi-Edge Diamond Hone Knife Sharpener\": 'Kitchen & Dining > Kitchen Knives & Cutlery Accessories > Knife Sharpeners',\n",
       " 'Ateco 11 Piece Fluted Round Cutter Set': 'Kitchen & Dining > Bakeware > Baking Tools & Accessories',\n",
       " \"Mrs. Anderson's Baking Cookie Cutter Set, Leaves\": 'Kitchen & Dining > Bakeware > Baking Tools & Accessories',\n",
       " 'Prodyne Beechwood Cheese Tray with Cracker Well': 'Kitchen & Dining > Kitchen Utensils & Gadgets > Graters',\n",
       " 'Thermos Stainless-Steel Vacuum Insulated Bottle': 'Kitchen & Dining > Small Appliance Parts & Accessories > Coffee & Espresso Machine Parts & Accessories',\n",
       " 'SuperStone /Covered Baker': 'Kitchen & Dining > Bakeware > Bread & Loaf Pans',\n",
       " 'Ateco 690 Pastry Cloth &amp; Rolling Pin Cover, 25&quot; X 20&quot;': 'Kitchen & Dining > Bakeware > Baking Tools & Accessories',\n",
       " 'Thermos 12-Ounce Stainless-Steel Tea Tumbler with Infuser': 'Kitchen & Dining > Storage & Organization > Commuter Mugs & Tumblers',\n",
       " 'Patisse Steam Pudding Mold, 2-Liter': 'Kitchen & Dining > Bakeware > Small Pastry Molds',\n",
       " 'SuperStone / 11&quot; La Cloche Dome Baker': 'Kitchen & Dining > Bakeware > Bread & Loaf Pans',\n",
       " \"Chef's Choice 120 Diamond Hone 3-Stage Professional Knife Sharpener, White\": 'Kitchen & Dining > Kitchen Knives & Cutlery Accessories > Knife Sharpeners',\n",
       " \"Mrs. Anderson's Baking Ceramic Pie Weights\": 'Kitchen & Dining > Bakeware > Baking Tools & Accessories',\n",
       " 'Grass Hook For Trimming High Weeds/Grass - 1.5&quot; X 0.75&quot; X 0.25&quot; - Black': 'Storage & Organization > Home Storage Hooks > Utility Hooks',\n",
       " 'Progressive International Biscuit and Cookie Cutter Set': 'Kitchen & Dining > Bakeware > Baking Tools & Accessories',\n",
       " 'Polder 550 Oven Thermometer, Stainless Steel': 'Kitchen & Dining > Kitchen Utensils & Gadgets > Thermometers & Timers',\n",
       " 'Polder 307 Preset Thermometer, White': 'Kitchen & Dining > Kitchen Utensils & Gadgets > Thermometers & Timers',\n",
       " 'Polder Cooking Thermometer with Timer and Clock': 'Kitchen & Dining > Kitchen Utensils & Gadgets > Thermometers & Timers',\n",
       " \"Polder 2109 Gourmet Add'N'Weigh Scale, 5-Pound\": 'Kitchen & Dining > Kitchen Utensils & Gadgets > Measuring Tools & Scales',\n",
       " 'Polder 891-90 Triple Kitchen 20-Hour Timer/Clock/Stopwatch': 'Kitchen & Dining > Kitchen Utensils & Gadgets > Thermometers & Timers',\n",
       " 'Scanpan Classic 10-1/4-Inch Fry Pan': 'Kitchen & Dining > Cookware > Skillets',\n",
       " 'WMF Manhattan Stainless Steel Wine Cooler': 'Kitchen & Dining > Kitchen Utensils & Gadgets > Bar & Wine Tools',\n",
       " 'Scanpan Classic 3-Piece Starter Set': 'Kitchen & Dining > Cookware > Cookware Sets',\n",
       " 'WMF Profi-Plus 14-Inch Stainless-Steel Ball Whisk': 'Kitchen & Dining > Kitchen Utensils & Gadgets > Cooking Utensils',\n",
       " 'BIA Cordon Bleu 1-Quart Round Quiche, White': 'Kitchen & Dining > Bakeware > Pie',\n",
       " 'WMF Two-in-One Stainless Steel Salt &amp; Pepper Cylinder': 'Kitchen & Dining > Kitchen Utensils & Gadgets > Salt & Pepper',\n",
       " 'Polder 898-90 Clock, Timer &amp; Stopwatch, White': 'Kitchen & Dining > Kitchen Utensils & Gadgets > Thermometers & Timers',\n",
       " 'WMF Profi-Plus 11 -Inch Stainless Steel Ball Whisk': 'Kitchen & Dining > Kitchen Utensils & Gadgets > Cooking Utensils',\n",
       " 'Polder 77-90 Diet Utility Scale, White': 'Kitchen & Dining > Kitchen Utensils & Gadgets > Measuring Tools & Scales',\n",
       " 'Polder 11-Pound Stainless-Steel Kitchen Scale': 'Kitchen & Dining > Kitchen Utensils & Gadgets > Measuring Tools & Scales',\n",
       " 'Zojirushi BBCC-V20 Home Bakery Traditional Breadmaker': 'Kitchen & Dining > Small Appliances > Bread Machines',\n",
       " 'Zojirushi NHS-18 10-Cup (Uncooked) Rice Cooker/Steamer &amp; Warmer': 'Kitchen & Dining > Small Appliances > Rice Cookers',\n",
       " 'Zojirushi Premium Thermal 1-Liter Carafe, Brushed Stainless Steel': 'Kitchen & Dining > Dining & Entertaining > Serveware',\n",
       " 'Zojirushi NS-KCC05 Micom Programmable 3-Cup Rice Cooker &amp; Warmer': 'Kitchen & Dining > Small Appliances > Rice Cookers',\n",
       " 'Zojirushi NHS-10 6-Cup (Uncooked) Rice Cooker/Steamer &amp; Warmer, White': 'Kitchen & Dining > Small Appliances > Rice Cookers',\n",
       " 'BIA Cordon Bleu 60-Ounce Utensil Crock, White': 'Kitchen & Dining > Storage & Organization > Utensil Organizers',\n",
       " 'Zojirushi NS-JCC18 Neuro Fuzzy 10-Cup Rice Cooker &amp; Warmer': 'Kitchen & Dining > Small Appliances > Rice Cookers',\n",
       " 'Zojirushi Premium Thermal 1.85 liter Carafe, Brushed Stainless Steel': 'Kitchen & Dining > Small Appliance Parts & Accessories > Coffee & Espresso Machine Parts & Accessories',\n",
       " 'Zojirushi NHS-06 3-Cup (Uncooked) Rice Cooker': 'Kitchen & Dining > Small Appliances > Rice Cookers',\n",
       " 'Pecoware Thomas Side Kick Lunch Box Set': 'Kitchen & Dining > Storage & Organization > Lunch Boxes & Bags',\n",
       " 'Microplane 35001 Home Series Coarse Grater, Black': 'Kitchen & Dining > Kitchen Utensils & Gadgets > Graters',\n",
       " 'Progressive International Can Colander': 'Kitchen & Dining > Kitchen Utensils & Gadgets > Colanders & Food Strainers',\n",
       " 'Microplane 40001 Stainless Steel Zester': 'Kitchen & Dining > Kitchen Utensils & Gadgets > Fruit & Vegetable Tools',\n",
       " 'Le Creuset Silicone Large Spatula Spoon, Cobalt': 'Kitchen & Dining > Kitchen Utensils & Gadgets > Cooking Utensils',\n",
       " 'Olde Thompson 17-Inch Hotel Walnut Peppermill': 'Kitchen & Dining > Kitchen Utensils & Gadgets > Salt & Pepper',\n",
       " 'Microplane 40020 Classic Zester/Grater': 'Kitchen & Dining > Kitchen Utensils & Gadgets > Graters',\n",
       " 'Wilton 2109-859 50-Piece Tool and Caddy Decorating Set': 'Kitchen & Dining > Bakeware > Decorating Tools',\n",
       " 'Microplane 40016 Classic Black Spice Grater': 'Kitchen & Dining > Kitchen Utensils & Gadgets > Graters',\n",
       " 'Wilton Comfort Grip Heart Cutter': 'Kitchen & Dining > Bakeware > Baking Tools & Accessories',\n",
       " 'Microplane 35002 Home Series Fine Grater': 'Kitchen & Dining > Kitchen Utensils & Gadgets > Graters',\n",
       " 'Wilton 2104-2546 53 Piece Supreme Cake Decorating Set': 'Kitchen & Dining > Bakeware > Decorating Tools',\n",
       " 'Wilton Decorative Preferred 12 by 3-Inch Round Pan': 'Kitchen & Dining > Bakeware > Cake Pans',\n",
       " 'Wilton 28-Piece Deluxe Tip Set': 'Kitchen & Dining > Bakeware > Decorating Tools',\n",
       " 'Le Creuset Silicone Super Spatula, Cobalt': 'Kitchen & Dining > Kitchen Utensils & Gadgets > Cooking Utensils',\n",
       " 'Wilton Basic Cake Decorating Set': 'Kitchen & Dining > Bakeware > Decorating Tools',\n",
       " 'Wilton 2104-7778 Master Tip Set': 'Kitchen & Dining > Bakeware > Decorating Tools',\n",
       " \"Chef's Design 11-by-19-1/2-Inch Ultimate Griddle\": 'Kitchen & Dining > Cookware > Griddles',\n",
       " 'Wilton Cake Leveler': 'Kitchen & Dining > Bakeware > Decorating Tools',\n",
       " 'All American 921 21-1/2-Quart Pressure Cooker/Canner': 'Kitchen & Dining > Cookware > Canning',\n",
       " 'KitchenAid Five-Ply Stainless-Steel Clad 2-1/2-Quart Saucier with Lid': 'Kitchen & Dining > Cookware > Sauciers',\n",
       " 'Meyer Circulon Open Stir Fry Pan 11&quot;': 'Kitchen & Dining > Cookware > Woks & Stir-Fry Pans',\n",
       " 'Waring MBB520 Bar Blender, Bright Copper': 'Kitchen & Dining > Dining & Entertaining > Bar Tools & Glasses',\n",
       " 'Waring PBB201 Professional Bar Blender, Quite White': 'Kitchen & Dining > Dining & Entertaining > Bar Tools & Glasses',\n",
       " 'Waring PDM101 Drink Mixer, Quite White': 'Kitchen & Dining > Small Appliances > Mixers',\n",
       " 'Waring PCJ201 Citrus Juicer, Quite White': 'Kitchen & Dining > Small Appliances > Juicers',\n",
       " 'Circulon Classic 12-Inch Nonstick French Skillet': 'Kitchen & Dining > Cookware > Skillets',\n",
       " 'Waring WPB05 Professional Kitchen Blender, Chrome': 'Kitchen & Dining > Small Appliances > Blenders',\n",
       " 'Cuisinart DLC-093 3-Piece Specialty Disc Set, Fits 14-Cup Processor': 'Kitchen & Dining > Small Appliance Parts & Accessories > Food Processor Parts & Accessories',\n",
       " 'Cuisinart DLC-835TXAMZ Fine Grater Disc, Fits 7- and 11-Cup Processors': 'Kitchen & Dining > Kitchen Utensils & Gadgets > Cheese Tools',\n",
       " 'Cuisinart DLC-833TXAMZ 3-by-3mm Medium Square Julienne Disc, Fits 7 and 11-Cup Processors': 'Kitchen & Dining > Small Appliance Parts & Accessories > Food Processor Parts & Accessories',\n",
       " 'Cuisinart WMB-2 2-Slice Belgian Waffle Maker': 'Kitchen & Dining > Small Appliances > Waffle Irons',\n",
       " 'Cuisinart BDH-2 Blade and Disc Holder': 'Kitchen & Dining > Small Appliance Parts & Accessories > Food Processor Parts & Accessories',\n",
       " 'Cuisinart DLC-042TX Stainless Steel Thin Slicing Disc 2-mm.': 'Kitchen & Dining > Small Appliance Parts & Accessories > Food Processor Parts & Accessories',\n",
       " 'Cuisinart DCC-100 Coffee Bar Classic 10-Cup Coffeemaker, White': 'Kitchen & Dining > Coffee > Tea & Espresso',\n",
       " 'Cuisinart CPT-70 Classic Style Toaster': 'Kitchen & Dining > Small Appliances > Ovens & Toasters',\n",
       " 'Cuisinart BFP-703 SmartPower Duet Blender and Food Processor, White': 'Kitchen & Dining > Small Appliances > Mixers',\n",
       " 'Cuisinart DLC-035TXAMZ Fine Grater Disc, Fits 14-Cup Processor': 'Kitchen & Dining > Small Appliance Parts & Accessories > Food Processor Parts & Accessories',\n",
       " 'Cuisinart DLC-846TX 6mm Thick Slicing Disc, Fits 7 and 11-Cup Processors': 'Kitchen & Dining > Small Appliance Parts & Accessories > Food Processor Parts & Accessories',\n",
       " 'Cuisinart KUA-17 1-3/4-Quart Cordless Automatic Electric Kettle': 'Kitchen & Dining > Small Appliances > Coffee',\n",
       " 'Cuisinart DLC-873 3-Piece Standard Disc Set, Fits 7- and 11-Cup Processors': 'Kitchen & Dining > Small Appliance Parts & Accessories > Food Processor Parts & Accessories',\n",
       " 'Cuisinart DCG-20N Coffee Bar Coffee Grinder, White': 'Kitchen & Dining > Coffee > Tea & Espresso',\n",
       " 'Cuisinart DLC-836 6-by-6mm Fruit, Vegetable and French Fry Disc Fits 7 and 11-Cup Processors': 'Kitchen & Dining > Small Appliance Parts & Accessories > Food Processor Parts & Accessories',\n",
       " 'Cuisinart DLC-036TXAMZ 6-by-6mm Fruit, Vegetable and French Fry Disc, Fits 14-Cup Processor': 'Kitchen & Dining > Small Appliance Parts & Accessories > Food Processor Parts & Accessories',\n",
       " 'Cuisinart DGB-300 Automatic Grind &amp; Brew 10-Cup Coffeemaker, White': 'Kitchen & Dining > Coffee > Tea & Espresso',\n",
       " 'Cuisinart DLC-834TX Fine Shredding Disc, Fits 7 and 11-Cup Processors': 'Kitchen & Dining > Small Appliance Parts & Accessories > Food Processor Parts & Accessories',\n",
       " 'Cuisinart ICE-RFB 1-1/2-Quart Additional Freezer Bowl, Fits ICE-20/21 Ice Cream Maker': 'Kitchen & Dining > Small Appliances > Ice Cream Machines',\n",
       " 'Cuisinart DLC-10S Pro Classic 7-Cup Food Processor, White': 'Kitchen & Dining > Small Appliances > Food Processors',\n",
       " 'Cuisinart DLC-8S Pro Custom 11-Cup Food Processor, White': 'Kitchen & Dining > Small Appliances > Food Processors',\n",
       " 'Cuisinart AFP-7 3-Cup Food Processor Duet Attachment, White': 'Kitchen & Dining > Small Appliance Parts & Accessories > Food Processor Parts & Accessories',\n",
       " 'Cuisinart DLC-XPN Classic 20-Cup Food Processor, White': 'Kitchen & Dining > Small Appliances > Food Processors',\n",
       " 'Braun MX2050 PowerMax Jug Blender': 'Kitchen & Dining > Small Appliances > Blenders',\n",
       " 'Jupiter Large Commercial Juice Press, White': 'Kitchen & Dining > Kitchen Utensils & Gadgets > Fruit & Vegetable Tools',\n",
       " '220 Volt Braun MP80 Juice Exractor- WILL NOT WORK IN THE USA': 'Kitchen & Dining > Small Appliances > Juicers',\n",
       " 'Braun KF187W FlavorSelect 12-Cup Coffeemaker, White': 'Kitchen & Dining > Coffee > Tea & Espresso',\n",
       " 'Cuisinart MM-2M Mini Mate Chopper and Grinder': 'Kitchen & Dining > Small Appliances > Food Processors',\n",
       " 'Braun MR430HC Multiquick Deluxe Hand Blender &amp; Chopper': 'Kitchen & Dining > Small Appliances > Blenders',\n",
       " 'Braun WK200W Aqua Express Electric Water Kettle, White': 'Kitchen & Dining > Small Appliances > Coffee',\n",
       " 'La Pavoni EPC-8 Europiccola 8-Cup Lever Style Espresso Machine, Chrome': 'Kitchen & Dining > Coffee > Tea & Espresso',\n",
       " 'Braun MPZ22 Citromatic Deluxe Citrus Juicer': 'Kitchen & Dining > Small Appliances > Juicers',\n",
       " 'Lodge Original Finish 12-Inch Cast Iron Skillet': 'Kitchen & Dining > Cookware > Skillets',\n",
       " 'La Pavoni PA-Burr Coffee Grinder, White': 'Kitchen & Dining > Coffee > Tea & Espresso',\n",
       " 'La Pavoni EPBB-8 Europiccola 8-Cup Lever Style Espresso Machine, Black Base': 'Kitchen & Dining > Coffee > Tea & Espresso',\n",
       " 'Lodge Original Finish Cast Iron Eight-Section Cornbread Skillet': 'Kitchen & Dining > Cookware > Skillets',\n",
       " 'Lodge 10-1/2-Inch Cast Iron Square Grill Pan': 'Kitchen & Dining > Cookware > Grill Pans',\n",
       " 'Braun FlavorSelect Patented Water Filter': 'Kitchen & Dining > Small Appliance Parts & Accessories > Coffee & Espresso Machine Parts & Accessories',\n",
       " 'Polder 6116 18/8 Stainless Steel Dish Rack': 'Kitchen & Dining > Storage & Organization > Dish Racks',\n",
       " 'Sitram Catering 3.0 quart Commercial Stainless Steel Saucepan': 'Kitchen & Dining > Cookware > Saucepans',\n",
       " 'Polder 210201 Deluxe Steel Bread Box, White': 'Kitchen & Dining > Storage & Organization > Bread Boxes',\n",
       " 'Sitram Catering 9.5-Inch Commercial Stainless Steel Lid': 'Kitchen & Dining > NA > NA',\n",
       " 'Vacu Vin WineMaster Corkscrew, Clear': 'Kitchen & Dining > Kitchen Utensils & Gadgets > Bar & Wine Tools',\n",
       " 'Vacu Vin Food Saver, Set of 4': 'Kitchen & Dining > Kitchen Utensils & Gadgets > Bar & Wine Tools',\n",
       " 'Vacu Vin Guy Buffet Rapid Ice Wine Chiller, Sommeliers': 'Kitchen & Dining > Wine Accessories > Wine Chillers',\n",
       " 'Sanyo SK-7W Space Saving Toaster Oven, White': 'Kitchen & Dining > Small Appliances > Ovens & Toasters',\n",
       " 'Sitram Catering 11-Inch Commercial Stainless Steel Fry Pan': 'Kitchen & Dining > Cookware > All Pans',\n",
       " 'Sitram Profiserie 7 7/8-Inch Stainless Steel Lid': 'Kitchen & Dining > Cookware > Lids',\n",
       " 'Vacu Vin Wine Saver Extra Stoppers, Set of 2': 'Kitchen & Dining > Kitchen Utensils & Gadgets > Bar & Wine Tools',\n",
       " 'William Bounds Nut Twister Nutmeg Mill, Chrome': 'Kitchen & Dining > Kitchen Utensils & Gadgets > Salt & Pepper',\n",
       " 'Vacu Vin 3-Piece Wine Saver Pump and Stopper, White': 'Kitchen & Dining > Kitchen Utensils & Gadgets > Bar & Wine Tools',\n",
       " 'Maverick SEC-2 Henrietta Hen Egg Cooker, White': 'Kitchen & Dining > Small Appliances > Specialty Appliances',\n",
       " 'Le Creuset Enameled Cast-Iron 2-Quart Heart Casserole, Red': 'Kitchen & Dining > Bakeware > Bakers & Casseroles',\n",
       " 'Le Creuset Enameled Cast-Iron 7-1/2-Quart Bouillabaisse Pot, Cherry': 'Kitchen & Dining > Bakeware > Bakers & Casseroles',\n",
       " 'Le Creuset Enameled Cast-Iron 1-3/4-Quart Traditional Fondue Pot, Flame': 'Kitchen & Dining > Cookware > Fondue',\n",
       " 'Le Creuset Stoneware 12-1/2-by-9-1/2-Inch Rectangular Baking Dish,  Cherry': 'Kitchen & Dining > Bakeware > Bakers & Casseroles',\n",
       " 'Le Creuset Enameled Steel Stock Pot with Lid, Cherry': 'Kitchen & Dining > Cookware > Stockpots',\n",
       " 'Le Creuset Enameled Cast-Iron 6-3/4-Quart Oval French Oven, Red': 'Kitchen & Dining > Cookware > Dutch Ovens',\n",
       " 'Le Creuset Square Skillet Grill Pan': 'Kitchen & Dining > Cookware > Grill Pans',\n",
       " 'Le Creuset Enameled Cast-Iron 2-1/4-Quart Pumpkin Casserole, Flame': 'Kitchen & Dining > NA > NA',\n",
       " 'Le Creuset Stoneware 2-1/4-Quart Pitcher, Cherry': 'Kitchen & Dining > Dining & Entertaining > Serveware',\n",
       " 'Le Creuset Stoneware 14-Inch Oval Baking Dish, Cherry': 'Kitchen & Dining > Bakeware > Bakers & Casseroles',\n",
       " 'Le Creuset Enameled Cast-Iron 5-1/2-Quart Round French Oven, Red': 'Kitchen & Dining > Cookware > Dutch Ovens',\n",
       " 'Black &amp; Decker CJ525 CitrusMate Plus Citrus Juicer': 'Kitchen & Dining > Small Appliances > Juicers',\n",
       " 'Black &amp; Decker EC1200 Grand Openings Can Opener': 'Kitchen & Dining > Kitchen Utensils & Gadgets > Can Openers',\n",
       " 'Black &amp; Decker HS2000 Flavor Scenter Steamer and Rice Cooker': 'Kitchen & Dining > Small Appliances > Rice Cookers',\n",
       " 'Roshco 100-Piece Plastic Cookie Cutter Set': 'Kitchen & Dining > Bakeware > Baking Tools & Accessories',\n",
       " 'T-fal 532840 Avante Deluxe 4-Slice Toaster, Black/Chrome': 'Kitchen & Dining > Small Appliances > Ovens & Toasters',\n",
       " 'KitchenAid KSB5 5-Speed Blender, Empire Red': 'Kitchen & Dining > Small Appliances > Blenders',\n",
       " 'KitchenAid KSB5 5-Speed Blender, Onyx Black/Stainless Steel': 'Kitchen & Dining > Small Appliances > Blenders',\n",
       " 'KitchenAid KSB5 5-Speed Blender, Cobalt Blue': 'Kitchen & Dining > Small Appliances > Blenders',\n",
       " 'Kamenstein 16-Jar Beechwood Revolving Spice Rack': 'Kitchen & Dining > Kitchen Utensils & Gadgets > Seasoning & Spice Tools',\n",
       " 'KitchenAid GMA Grain Mill Attachment for Stand Mixers': 'Kitchen & Dining > Small Appliance Parts & Accessories > Mixer Parts & Accessories',\n",
       " 'KitchenAid KFP600 11-Cup Ultra Power Food Processor, Onyx Black': 'Kitchen & Dining > Small Appliances > Food Processors',\n",
       " 'Kitchenaid Pasta Roller Attachment': 'Kitchen & Dining > Kitchen Utensils & Gadgets > Pasta & Pizza Tools',\n",
       " 'KitchenAid KBC90N Mixer Bowl Covers for Pivot Head Stand Mixer Bowls, Set of 2': 'Kitchen & Dining > Small Appliance Parts & Accessories > Mixer Parts & Accessories',\n",
       " 'KitchenAid KBC5N Mixer Bowl Covers for 5-Quart Stand Mixer Bowls, Set of 2': 'Kitchen & Dining > Small Appliance Parts & Accessories > Mixer Parts & Accessories',\n",
       " 'KitchenAid KFP650 11-Cup Professional Food Processor, White': 'Kitchen & Dining > Small Appliances > Food Processors',\n",
       " 'KitchenAid SSA Sausage Stuffer Kit Attachment for Food Grinder': 'Kitchen & Dining > Small Appliance Parts & Accessories > Mixer Parts & Accessories',\n",
       " 'KitchenAid JE Citrus Juicer Stand Mixer Attachment': 'Kitchen & Dining > Kitchen Utensils & Gadgets > Fruit & Vegetable Tools',\n",
       " 'KitchenAid KGPA Mixer Attachment Pack for Stand Mixers': 'Kitchen & Dining > Small Appliance Parts & Accessories > Mixer Parts & Accessories',\n",
       " 'KitchenAid KSB5WH 5-Speed Blender, White': 'Kitchen & Dining > Small Appliances > Blenders',\n",
       " 'KitchenAid K45SBWH Bowl for Pivot Head Stand Mixer': 'Kitchen & Dining > Small Appliance Parts & Accessories > Mixer Parts & Accessories',\n",
       " 'KitchenAid CO Can Opener Stand Mixer Attachment': 'Kitchen & Dining > Small Appliance Parts & Accessories > Mixer Parts & Accessories',\n",
       " 'KitchenAid FGA Food Grinder Attachment for Stand Mixers': 'Kitchen & Dining > NA > NA',\n",
       " 'KitchenAid SNFGA Pasta Maker Attachment for Stand Mixers': 'Kitchen & Dining > Kitchen Utensils & Gadgets > Pasta & Pizza Tools',\n",
       " 'KitchenAid FT Food Tray Attachment for Stand Mixers': 'Kitchen & Dining > Small Appliance Parts & Accessories > Mixer Parts & Accessories',\n",
       " 'KitchenAid RVSA Slicer/Shredder Attachment for Stand Mixers': 'Kitchen & Dining > Small Appliance Parts & Accessories > Mixer Parts & Accessories',\n",
       " 'KitchenAid KHM7T 7-Speed Artisan Hand Mixer, White': 'Kitchen & Dining > Small Appliances > Mixers',\n",
       " 'KitchenAid K5ASBP Bowl for 5-Quart Professional Stand Mixer': 'Kitchen & Dining > Small Appliances > Mixers',\n",
       " 'KitchenAid KPS2CL Pouring Shield for 4-1/2 and 5-Quart Stand Mixers': 'Kitchen & Dining > Small Appliance Parts & Accessories > Mixer Parts & Accessories',\n",
       " 'KitchenAid FVSP Fruit and Vegetable Strainer Parts for Food Grinder': 'Kitchen & Dining > Small Appliance Parts & Accessories > Mixer Parts & Accessories',\n",
       " 'KitchenAid KSB5OB 5-Speed Blender, Onyx Black': 'Kitchen & Dining > Small Appliances > Blenders',\n",
       " 'KitchenAid K45SSWH K45SS Classic 275-Watt 4-1/2-Quart Stand Mixer, White': 'Kitchen & Dining > Small Appliances > Mixers',\n",
       " 'KitchenAid FPPA Mixer Attachment Pack for Stand Mixers': 'Kitchen & Dining > Small Appliance Parts & Accessories > Mixer Parts & Accessories',\n",
       " 'KitchenAid KB3SS 3-Quart Stainless Steel Bowl for Pivot Head Stand Mixers': 'Kitchen & Dining > Small Appliance Parts & Accessories > Mixer Parts & Accessories',\n",
       " 'KitchenAid KSM90PS 300-Watt Ultra Power 4-1/2-Quart Stand Mixer, Empire Green': 'Kitchen & Dining > Small Appliances > Mixers',\n",
       " 'KitchenAid KHM5DH 5-Speed Ultra Power Hand Mixer, White': 'Kitchen & Dining > Small Appliances > Mixers',\n",
       " 'KitchenAid FVSFGA Fruit and Vegetable Strainer and Food Grinder for Stand Mixers': 'Kitchen & Dining > Small Appliance Parts & Accessories > Mixer Parts & Accessories',\n",
       " 'KitchenAid KHM9PWH 9-Speed Professional Hand Mixer, White': 'Kitchen & Dining > Small Appliances > Mixers',\n",
       " 'KitchenAid SNPA Pasta Maker Plates for Food Grinder Attachment for Stand Mixers': 'Kitchen & Dining > Kitchen Utensils & Gadgets > Pasta & Pizza Tools',\n",
       " 'KRUPS 968-41 Novo 2300 Plus Automatic Cappuccino Machine, Grey': 'Kitchen & Dining > Coffee > Tea & Espresso',\n",
       " 'Hamilton Beach 25325 MealMaker Express Contact Grill': 'Kitchen & Dining > Small Appliances > Contact Grills',\n",
       " 'VillaWare V515 Pasta Drying Rack': 'Kitchen & Dining > Kitchen Utensils & Gadgets > Pasta & Pizza Tools',\n",
       " 'CucinaPro 177 Pasta Fresh Pasta Machine': 'Kitchen & Dining > Kitchen Utensils & Gadgets > Pasta & Pizza Tools',\n",
       " 'Krups 872-42 Bravo Plus Espresso Maker': 'Kitchen & Dining > Coffee > Tea & Espresso',\n",
       " 'Krups 867-42 Il Caffe Bistro 10-Cup Coffee/4-Cup Espresso Maker': 'Kitchen & Dining > Coffee > Tea & Espresso',\n",
       " 'KRUPS 026-33 Gold Tone Coffee Filter Fits KRUPS coffee makers model numbers KM720D50, KT720D50, 253, 466, 467, 458, and 144': 'Kitchen & Dining > Small Appliance Parts & Accessories > Coffee & Espresso Machine Parts & Accessories',\n",
       " 'KRUPS F654 4-Slice Belgian Waffle Maker with Nonstick Plates LED Indicators and Stainless Steel Housing, Silver': 'Kitchen & Dining > Small Appliances > Waffle Irons',\n",
       " 'Krups 404-70 Open Master Can Opener': 'Kitchen & Dining > Kitchen Utensils & Gadgets > Can Openers',\n",
       " 'KRUPS 203-42 Electric Spice and Coffee Grinder with Stainless Steel Blades, White': 'Kitchen & Dining > Coffee > Tea & Espresso',\n",
       " 'KRUPS F20342 Electric Spice and Coffee Grinder with Stainless Steel Blades, Black': 'Kitchen & Dining > Coffee > Tea & Espresso',\n",
       " 'Krups 358-70 La Glaciere Ice Cream Maker': 'Kitchen & Dining > Small Appliances > Ice Cream Machines',\n",
       " 'V5500   10-Square Ravioli Maker': 'Kitchen & Dining > Kitchen Utensils & Gadgets > Pasta & Pizza Tools',\n",
       " 'Misto Gourmet Stainless-Steel Olive Oil Sprayer, Black Band': 'Kitchen & Dining > Kitchen Utensils & Gadgets > Oil Sprayers & Dispensers',\n",
       " 'Metrokane 6004 Rabbit Corkscrew with Foilcutter, Black': 'Kitchen & Dining > Kitchen Utensils & Gadgets > Bar & Wine Tools',\n",
       " 'Misto Brushed Aluminum Olive Oil Sprayer': 'Kitchen & Dining > Kitchen Utensils & Gadgets > Oil Sprayers & Dispensers',\n",
       " 'Capresso 10-Cup Coffee/Cappuccino Maker, Black': 'Kitchen & Dining > Coffee > Tea & Espresso',\n",
       " 'Cuisipro 11.5-Inch Splatter Guard': 'Kitchen & Dining > Kitchen Utensils & Gadgets > Specialty Tools & Gadgets',\n",
       " 'Brita Atlantis Water Filter Pitcher, White, 6 Cup': 'Kitchen & Dining > Water Coolers & Filters > Pitcher Water Filters',\n",
       " 'Brita 35503 Pitcher Replacement Filters, 3-Pack': 'Kitchen & Dining > Water Coolers & Filters > Replacement Water Filters',\n",
       " 'Cuisipro Stainless Steel Measuring Spoon Set': 'Kitchen & Dining > Kitchen Utensils & Gadgets > Measuring Tools & Scales',\n",
       " 'Cuisipro 4-Piece Stainless Steel Oval Measuring Cup Set': 'Kitchen & Dining > Kitchen Utensils & Gadgets > Measuring Tools & Scales',\n",
       " 'Capresso 551.01 Burr Coffee Grinder, Black': 'Kitchen & Dining > Coffee > Tea & Espresso',\n",
       " 'Brita WAP BRITA ULTRA MAX DISPENSER Cookware': 'Kitchen & Dining > Water Coolers & Filters > Pitcher Water Filters',\n",
       " 'Capresso 501 Cool Grind Coffee Grinder, Black': 'Kitchen & Dining > Coffee > Tea & Espresso',\n",
       " 'Wabash Valley Farms 25008 Whirley-Pop Stovetop Popcorn Popper': 'Kitchen & Dining > Small Appliances > Specialty Appliances',\n",
       " 'Browne Foodservice 74 6192 Stainless Steel Potato Ricer with Discs': 'Kitchen & Dining > Kitchen Utensils & Gadgets > Fruit & Vegetable Tools',\n",
       " 'Brita 42378 Deluxe Water Pitcher': 'Kitchen & Dining > Water Coolers & Filters > Pitcher Water Filters',\n",
       " 'Spiegelau Vino Grande Burgundy Wine Glasses, Set of 6': 'Kitchen & Dining > Dining & Entertaining > Glassware & Drinkware',\n",
       " 'VillaWare V3200 Classic Belgian Waffler - Round': 'Kitchen & Dining > Small Appliances > Waffle Irons',\n",
       " 'Spiegelau Vino Grande Chardonnay Glasses, Set of 6': 'Kitchen & Dining > Dining & Entertaining > Glassware & Drinkware',\n",
       " 'Spiegelau Vino Grande Red Wine Glasses, Set of 6': 'Kitchen & Dining > Dining & Entertaining > Glassware & Drinkware',\n",
       " 'Fagor Duo Stainless-Steel 4-Quart Pressure Cooker': 'Kitchen & Dining > Cookware > Pressure Cookers',\n",
       " 'Salton YM9 1-Quart Yogurt Maker': 'Kitchen & Dining > Small Appliances > Specialty Appliances',\n",
       " 'Spiegelau Vino Grande Martini Glass, Set of 6, #4510025-6': 'Kitchen & Dining > Dining & Entertaining > Glassware & Drinkware',\n",
       " 'Jubilee 10-Ounce Acrylic Embossed Grape Wine Glasses, Set of 4': 'Kitchen & Dining > Dining & Entertaining > Glassware & Drinkware',\n",
       " 'Jubilee Acrylic Martini Picks, Set of 6': 'Kitchen & Dining > Dining & Entertaining > Bar Tools & Glasses',\n",
       " 'Calphalon Commercial Hard-Anodized 7-Piece Cookware Set': 'Kitchen & Dining > Cookware > Cookware Sets',\n",
       " 'Calphalon Accessories Universal Steamer Insert': 'Kitchen & Dining > Cookware > Steamers',\n",
       " 'Calphalon D812 Commercial Hard Anodized 12-Quart Stockpot with Lid': 'Kitchen & Dining > Cookware > Stockpots',\n",
       " 'Calphalon Nylon Whisk': 'Kitchen & Dining > Kitchen Utensils & Gadgets > Cooking Utensils',\n",
       " 'Calphalon Nylon Large Spatula': 'Kitchen & Dining > Kitchen Utensils & Gadgets > Cooking Utensils',\n",
       " 'Calphalon Single Pot Rack Hooks, Set of 2': 'Kitchen & Dining > Cookware > Pot Racks',\n",
       " 'Calphalon Nylon Tongs': 'Kitchen & Dining > Kitchen Utensils & Gadgets > Cooking Utensils',\n",
       " 'Calphalon Nylon Large Slotted Spatula': 'Kitchen & Dining > Kitchen Utensils & Gadgets > Cooking Utensils',\n",
       " 'Calphalon Double Pot Rack Hook': 'Kitchen & Dining > Cookware > Pot Racks',\n",
       " 'Riedel Vinum Bordeaux Wine Glasses, Set of 6': 'Kitchen & Dining > Dining & Entertaining > Glassware & Drinkware',\n",
       " 'Riedel Vinum Burgundy/Pinot Noir Wine Glasses, Set of 2': 'Kitchen & Dining > Dining & Entertaining > Glassware & Drinkware',\n",
       " 'Maverick ET-7 Remote-Check Wireless Thermometer With 2 Probes': 'Kitchen & Dining > Kitchen Utensils & Gadgets > Thermometers & Timers',\n",
       " 'Pyrex Prepware 3-Piece Mixing Bowl Set, Clear': 'Kitchen & Dining > Bakeware > Mixing Bowls',\n",
       " 'Matfer Mandoline 2000S with Safety Pusher': 'Kitchen & Dining > Kitchen Utensils & Gadgets > Graters',\n",
       " 'Master Chef Spatule Pelton Spatula': 'Kitchen & Dining > Kitchen Utensils & Gadgets > Cooking Utensils',\n",
       " 'Riedel Vinum Single Malt Scotch Glasses, Set of 6': 'Kitchen & Dining > Dining & Entertaining > Glassware & Drinkware',\n",
       " 'Pyrex Bakeware 8-Inch Square Cake Pan, Clear': 'Kitchen & Dining > Bakeware > Cake Pans',\n",
       " 'Pyrex 3-Quart Oblong Glass Baking/Serving Dish': 'Kitchen & Dining > Bakeware > Bakers & Casseroles',\n",
       " 'Oggi Dial-A-Drink Cocktail Shaker': 'Kitchen & Dining > Kitchen Utensils & Gadgets > Bar & Wine Tools',\n",
       " 'Pyrex Bakeware 4.8 Quart Oblong Baking Dish, Clear': 'Kitchen & Dining > Bakeware > Bakers & Casseroles',\n",
       " 'Zyliss Rotary Cheese Grater': 'Kitchen & Dining > Kitchen Utensils & Gadgets > Graters',\n",
       " 'Kuhn Rikon Clear Cookie Press': 'Kitchen & Dining > Bakeware > Baking Tools & Accessories',\n",
       " 'Kuhn Rikon Epicurean Garlic Press': 'Kitchen & Dining > Kitchen Utensils & Gadgets > Seasoning & Spice Tools',\n",
       " 'Essick Air 696-400 Variable Speed Whole House Humidifier': 'Heating > Cooling & Air Quality > Air Purifiers',\n",
       " 'Better Living The Ulti-Mate Dispenser Deluxe IV': 'Bath > Bathroom Accessories > Holders & Dispensers',\n",
       " 'Broan 676 110-CFM 4.0-Sones Ceiling Mount Ventilation Fan': 'Heating > Cooling & Air Quality > Space Heaters & Accessories',\n",
       " 'J.A. Henckels Premier Series Opus 45-Piece Stainless Steel Flatware Set, Service for 8': 'Kitchen & Dining > Dining & Entertaining > Flatware',\n",
       " 'Norpro Egg/Mushroom Slicer': 'Kitchen & Dining > Kitchen Utensils & Gadgets > Graters',\n",
       " 'Egg Slicer Wedger Piercer': 'Kitchen & Dining > Kitchen Utensils & Gadgets > Graters',\n",
       " 'Sanus Systems AFA Accurate Furniture Audio Stand - Black': 'Furniture > Home Entertainment Furniture > Audio-Video Shelving',\n",
       " 'OXO Good Grips 32180 Pepper Mill': 'Kitchen & Dining > Kitchen Utensils & Gadgets > Salt & Pepper',\n",
       " 'Tablecraft Products Mini Salt &amp; Pepper Shakers, Set of 6 salt &amp; pepper shakers (12 Total Shakers)': 'Kitchen & Dining > Kitchen Utensils & Gadgets > Salt & Pepper',\n",
       " 'TOMY Gearation Refrigerator Magnets Building Toy': 'Kitchen & Dining > Kitchen Utensils & Gadgets > Kitchen Accessories',\n",
       " 'Hoover S3639 WindTunnel Canister Vacuum Cleaner': 'Vacuums & Floor Care > Vacuums > Canister Vacuums',\n",
       " 'Hoover Type S Allergen Back (3-Pack), 4010100S': 'Vacuums & Floor Care > Vacuum Accessories > Bags',\n",
       " 'Norpro Silicone 3-Piece Egg/Pancake Ring Set': 'Kitchen & Dining > Kitchen Utensils & Gadgets > NA',\n",
       " 'Norpro Stainless Steel Scoop, 56MM (4 Tablespoon)': 'Kitchen & Dining > Kitchen Utensils & Gadgets > Specialty Tools & Gadgets',\n",
       " 'Norpro Large Garlic Baker': 'Kitchen & Dining > Kitchen Utensils & Gadgets > Seasoning & Spice Tools',\n",
       " 'Norpro 5-Inch Ceramic Garlic Keeper': 'Kitchen & Dining > Kitchen Utensils & Gadgets > Seasoning & Spice Tools',\n",
       " 'Norpro Chicken Timer': 'Kitchen & Dining > Kitchen Utensils & Gadgets > Thermometers & Timers',\n",
       " 'Norpro Nonstick Adjustable Roast Rack': 'Kitchen & Dining > Cookware > Roasting Pans',\n",
       " 'Norpro 370 Bread Slicer and Guide  with Crumb Catcher': 'Kitchen & Dining > Kitchen Utensils & Gadgets > Graters',\n",
       " 'Norpro Stainless Steel 4-3/4 Inch Funnel with Strainer': 'Kitchen & Dining > Kitchen Utensils & Gadgets > Colanders & Food Strainers',\n",
       " 'Norpro Cast Iron Bacon Grill Press': 'Kitchen & Dining > Kitchen Utensils & Gadgets > NA',\n",
       " 'Norpro Honey Syrup Dispenser': 'Kitchen & Dining > Kitchen Utensils & Gadgets > Specialty Tools & Gadgets',\n",
       " 'Norpro Stainless Steel Vertical Poultry Roaster': 'Kitchen & Dining > Small Appliances > Ovens & Toasters',\n",
       " 'Norpro Nonstick Bear Pancake/Egg Rings, Set of 2': 'Kitchen & Dining > Bakeware > Baking Tools & Accessories',\n",
       " 'Norpro Taco Press': 'Kitchen & Dining > Bakeware > Baking Tools & Accessories',\n",
       " 'Norpro Spaetzle Maker': 'Kitchen & Dining > Kitchen Utensils & Gadgets > Graters',\n",
       " 'Nordic Rainbow Spoon': 'Kitchen & Dining > Kitchen Utensils & Gadgets > Measuring Tools & Scales',\n",
       " 'Norpro Pasta Drying Rack': 'Kitchen & Dining > Kitchen Utensils & Gadgets > Pasta & Pizza Tools',\n",
       " 'Norpro Stainless Steel Scoop, 1 Tablespoon, 35mm': 'Kitchen & Dining > Kitchen Utensils & Gadgets > Specialty Tools & Gadgets',\n",
       " 'Norpro Nonstick Star and Flower Pancake Egg Rings, Set of 2': 'Kitchen & Dining > Bakeware > Baking Tools & Accessories',\n",
       " 'Norpro Professional Meat Tenderizer': 'Kitchen & Dining > Kitchen Utensils & Gadgets > Meat & Poultry Tools',\n",
       " 'Norpro 5 1/2-Inch Stainless Steel Funnel with Detachable Strainer': 'Kitchen & Dining > Kitchen Utensils & Gadgets > Colanders & Food Strainers',\n",
       " 'Norpro Stainless Steel Grip-EZ Meat Pounder': 'Kitchen & Dining > Kitchen Utensils & Gadgets > Meat & Poultry Tools',\n",
       " 'Norpro Nonstick Vertical Poultry Roaster': 'Kitchen & Dining > Cookware > Roasting Pans',\n",
       " 'Norpro Cast Aluminum Tortilla Press': 'Kitchen & Dining > NA > NA',\n",
       " 'Norpro Decorative Tea Infuser with Drip Cup': 'Kitchen & Dining > Coffee > Tea & Espresso',\n",
       " 'Norpro Large No Post Stainless Steel Vegetable Steamer': 'Kitchen & Dining > Cookware > Steamers',\n",
       " 'Norpro Egg Rite Egg Timer': 'Kitchen & Dining > Kitchen Utensils & Gadgets > Thermometers & Timers',\n",
       " 'Norpro Stainless Steel Vertical Roaster, With Infuser': 'Kitchen & Dining > Small Appliances > Ovens & Toasters',\n",
       " 'Norpro Multi Grater with Juicer': 'Kitchen & Dining > Kitchen Utensils & Gadgets > Graters',\n",
       " 'Norpro Stainless Steel Wide-Mouth Funnel': 'Kitchen & Dining > Kitchen Utensils & Gadgets > Specialty Tools & Gadgets',\n",
       " 'KitchenArt 25000  Auto Measure Spice Carousel without Spices, White': 'Kitchen & Dining > Kitchen Utensils & Gadgets > Seasoning & Spice Tools',\n",
       " 'Eureka 96 B Quick Up Upright Cordless Stick Vacuum': 'Vacuums & Floor Care > Vacuums > Stick Vacuums & Electric Brooms',\n",
       " 'Cuisinart CSB-33 QuikPrep Hand Blender, White': 'Kitchen & Dining > Small Appliances > Blenders',\n",
       " 'George Foreman GGR50B Indoor/Outdoor Grill': 'Kitchen & Dining > Small Appliances > Contact Grills',\n",
       " 'Nesco American Harvest FD-50 Snackmaster Pro 4-Tray Dehydrator': 'Kitchen & Dining > Small Appliances > Specialty Appliances',\n",
       " 'Nordic Ware 60120 Microwaver Popcorn Popper 12 Cup, White': 'Kitchen & Dining > Small Appliances > Specialty Appliances',\n",
       " 'Nesco LM-2-6 Clean-A-Screen Tray for FD-28JX/FD-37/FD-60/FD-61/FD-61WHC/FD-75A and FD-75PR, Set of 2': 'Kitchen & Dining > NA > NA',\n",
       " 'Nordic Ware 2 Piece Non-stick Formed Bundt Pan Set, 6 Cup &amp; 12 Cup Capacity, Colors may vary': 'Kitchen & Dining > Bakeware > Cake Pans',\n",
       " 'Nordic Ware MIcrowave Micro-Go-Round 10 Inch': 'Kitchen & Dining > Kitchen Utensils & Gadgets > Specialty Tools & Gadgets',\n",
       " 'Metalware Open Country Beef Jerky Works Kit': 'Kitchen & Dining > Small Appliances > Specialty Appliances',\n",
       " 'Nesco MS-2-6 Large Clean-a-Screen for FD-1010/FD-1018P/FD-1020 Dehydrators, Set of 2': 'Kitchen & Dining > Small Appliances > Specialty Appliances',\n",
       " 'Nordic Ware Microwave 2 Cavity Egg Poacher': 'Kitchen & Dining > Cookware > Specialty Cookware',\n",
       " 'Intermatic FD60MC 60-Minute Spring Loaded Wall Timer, Ivory': 'Kitchen & Dining > Kitchen Utensils & Gadgets > Thermometers & Timers',\n",
       " 'Nordic Ware 10 Inch by 8 Inch Microwave Compact Bacon Rack': 'Kitchen & Dining > Cookware > NA',\n",
       " 'Nordic Ware 65004 11-Inch Microwave Plate Cover': 'Kitchen & Dining > NA > NA',\n",
       " 'Nesco TR-2 Add-A-Tray for FD-1010/FD-1018P/FD-1020, Set of 2': 'Kitchen & Dining > Small Appliances > Specialty Appliances',\n",
       " 'Nesco SLD-2 Fruit Roll-Up Sheet for FD-1010/FD-10108P/FD-1020/FD-1040, Set of 2': 'Kitchen & Dining > Small Appliances > Specialty Appliances',\n",
       " 'NordicWare 15040 Cast Aluminum Stovetop Belgium Waffle Iron': 'Kitchen & Dining > Small Appliances > Waffle Irons',\n",
       " 'Nesco LT-2W Add-A-Tray for FD-60 Dehydrator, Set of 2': 'Kitchen & Dining > NA > NA',\n",
       " 'Nesco LSS-2-6 Fruit Roll Sheets for FD-28JX/FD-37/FD-60/FD-61/FD-61WHC/FD75A and FD-75PR, Set of 2': 'Kitchen & Dining > Small Appliances > Specialty Appliances',\n",
       " 'Lasko Products 20&quot; Wind Machine 3-Speed': 'Heating > Cooling & Air Quality > Household Fans',\n",
       " 'Oneida Colonial Boston 20-Piece Stainless-Steel Flatware Set, Service for 4': 'Kitchen & Dining > Dining & Entertaining > Flatware',\n",
       " 'Oggi Servmaster Thermal Gravy and Sauce Server with Stainless Steel Liner': 'Kitchen & Dining > Dining & Entertaining > Serveware',\n",
       " 'DMT W6FP 6-Inch Diamond Whetstone Sharpener - Fine With Plastic Box': 'Kitchen & Dining > Kitchen Knives & Cutlery Accessories > Knife Sharpeners',\n",
       " 'DMT Crystal Saver- Diamond File': 'Kitchen & Dining > Kitchen Knives & Cutlery Accessories > Knife Sharpeners',\n",
       " 'DMT W6EP 6-Inch Diamond Whetstone Sharpener - Extra-Fine With Plastic Box': 'Kitchen & Dining > Kitchen Knives & Cutlery Accessories > Knife Sharpeners',\n",
       " 'DMT FSKF Diafold Serrated Knife Sharpener - Fine': 'Kitchen & Dining > Kitchen Knives & Cutlery Accessories > Knife Sharpeners',\n",
       " 'LamsonSharp 3&quot; x 6&quot; Chef?s Slotted Turner, right-hand': 'Kitchen & Dining > Kitchen Utensils & Gadgets > Cooking Utensils',\n",
       " 'LamsonSharp Stainless Steel Pizza Rocker Knife': 'Kitchen & Dining > Kitchen Utensils & Gadgets > Pasta & Pizza Tools',\n",
       " 'Wilton Halloween Comfort Grip Ghost Cutter': 'Kitchen & Dining > Bakeware > Baking Tools & Accessories',\n",
       " 'Thermos 14-Ounce Insulated Travel Mug, Stainless Steel': 'Kitchen & Dining > NA > NA',\n",
       " 'Cuisinart DLC-2014N PowerPrep Plus 14-Cup Capacity Food Processor, White': 'Kitchen & Dining > Small Appliances > Food Processors',\n",
       " 'Cuisinart DLC-2011BKN Prep 11 Plus 11-Cup Food Processor, Black': 'Kitchen & Dining > Small Appliances > Food Processors',\n",
       " 'Cuisinart CPT-35 Heat Surround Electronic Toaster, White': 'Kitchen & Dining > Small Appliances > Ovens & Toasters',\n",
       " 'Cuisinart BFP-703CH SmartPower Duet Blender and Food Processor, Chrome': 'Kitchen & Dining > Small Appliances > Blenders',\n",
       " 'Cuisinart DLC-2011N Prep Plus 11-Cup Food Processor, White': 'Kitchen & Dining > Small Appliances > Food Processors',\n",
       " 'Cuisinart CEK-40 Electric Knife': 'Kitchen & Dining > Small Appliances > Specialty Appliances',\n",
       " 'Cuisinart DLC-2011BCN Prep 11 Plus 11-Cup Food Processor, Brushed Chrome': 'Kitchen & Dining > Small Appliances > Food Processors',\n",
       " 'Calphalon 4-Piece Nylon Utensil Set': 'Kitchen & Dining > Kitchen Utensils & Gadgets > Tool & Gadget Sets',\n",
       " \"Calphalon Commercial Hard-Anodized 7-Quart Chef's Casserole with Lid\": 'Kitchen & Dining > Bakeware > Bakers & Casseroles',\n",
       " 'Calphalon D87821/2P Commercial Hard-Anodized 2-1/2-Quart Shallow Saucepan with Lid': 'Kitchen & Dining > Cookware > Saucepans',\n",
       " \"Calphalon Commercial Nonstick Collector's Edition 9-Inch Chef's Skillet with Lid\": 'Kitchen & Dining > Cookware > Skillets',\n",
       " 'Calphalon Small Nonstick Roast Rack': 'Kitchen & Dining > Cookware > Roasting Pans',\n",
       " \"Calphalon Commercial Hard-Anodized 9-Inch, 2-Quart Chef's Skillet with Lid\": 'Kitchen & Dining > Cookware > Skillets',\n",
       " 'Zwilling J.A. Henckels Twin Pro-S 18-Piece Knife Set with Block': 'Kitchen & Dining > Kitchen Knives & Cutlery Accessories > Cutlery Sets',\n",
       " 'Zwilling J.A. Henckels Twin Pro S 10-Inch High Carbon Stainless-Steel Granton Edge Slicer': 'Kitchen & Dining > Kitchen Knives & Cutlery Accessories > Carving Knives & Forks',\n",
       " 'Hamilton Beach 38500 Step Savor Skillet/Griddle Combination': 'Kitchen & Dining > Small Appliances > Electric Skillets',\n",
       " 'Proctor-Silex 25400 Meal Maker Sandwich Toaster': 'Kitchen & Dining > Small Appliances > Specialty Appliances',\n",
       " 'Hamilton Beach 70550RL PrepStar Food Processor with Bonus Chill Lid': 'Kitchen & Dining > Small Appliances > Food Processors',\n",
       " 'Proctor-Silex 26500Y Durable Belgian Waffle Baker': 'Kitchen & Dining > Small Appliances > Waffle Irons',\n",
       " 'Hamilton Beach 26200 Restaurant Style Belgian Waffle Baker': 'Kitchen & Dining > Small Appliances > Waffle Irons',\n",
       " 'Hamilton Beach 62695V Power Deluxe Hand Mixer': 'Kitchen & Dining > Small Appliances > Mixers',\n",
       " 'Hamilton Beach 727W Classic DrinkMaster Drink Mixer, White': 'Kitchen & Dining > Small Appliances > Mixers',\n",
       " \"Hamilton Beach 74250 Carve 'n Set Electric Knife with Case, White\": 'Kitchen & Dining > Small Appliances > Specialty Appliances',\n",
       " 'Taylor Oven Guide Thermometer': 'Kitchen & Dining > Kitchen Utensils & Gadgets > Thermometers & Timers',\n",
       " 'Taylor Classic Cappuccino Frothing Dial Thermometer': 'Kitchen & Dining > Kitchen Utensils & Gadgets > Thermometers & Timers',\n",
       " 'Taylor Classic Design Freezer/Refrigerator Utility Thermometer': 'Kitchen & Dining > Kitchen Utensils & Gadgets > Thermometers & Timers',\n",
       " 'InterDesign Gia Suction Sink Center, Polished Stainless Steel': 'Kitchen & Dining > Storage & Organization > Dish Racks',\n",
       " 'Jokari Fizz-Keeper Pump Cap': 'Kitchen & Dining > Kitchen Utensils & Gadgets > Bar & Wine Tools',\n",
       " 'Taylor 5939N Classic Style Meat Dial Thermometer': 'Kitchen & Dining > Kitchen Utensils & Gadgets > Thermometers & Timers',\n",
       " 'Taylor Professional Freezer-Refrigerator Thermometer with 3-Inch Dial': 'Kitchen & Dining > Kitchen Utensils & Gadgets > Thermometers & Timers',\n",
       " 'Taylor 9840 Digital Instant Read Pocket Thermometer': 'Kitchen & Dining > Kitchen Utensils & Gadgets > Thermometers & Timers',\n",
       " 'Gia Suction Soap/Sponge Holder, Polished Stainless Steel': 'NA > NA > NA',\n",
       " 'interDesign Classico Chrome-Plated Wall-Mount Paper Towel Holder': 'Kitchen & Dining > Storage & Organization > Paper Towel Holders',\n",
       " 'interDesign Saddlebag Flatware Organizer and Sponge Holder': 'Kitchen & Dining > Storage & Organization > Dish Racks',\n",
       " 'Taylor Candy and Deep Fry Stainless Steel Thermometer': 'Kitchen & Dining > Kitchen Utensils & Gadgets > Thermometers & Timers',\n",
       " 'Taylor Classic Roast/Yeast Thermometer': 'Kitchen & Dining > Kitchen Utensils & Gadgets > Thermometers & Timers',\n",
       " 'Taylor 5989N Classic Instant Read Pocket Thermometer': 'Kitchen & Dining > Kitchen Utensils & Gadgets > Thermometers & Timers',\n",
       " 'Taylor Professional Oven Dial Thermometer': 'Kitchen & Dining > Kitchen Utensils & Gadgets > Thermometers & Timers',\n",
       " 'Cuisinart DLC-2A Mini-Prep Plus Food Processor, White': 'Kitchen & Dining > Small Appliances > Food Processors',\n",
       " 'Tilia FoodSaver Vac 550 Kit Vacuum Sealing System': 'Kitchen & Dining > Small Appliances > Specialty Appliances',\n",
       " 'FoodSaver Vac 1050 Vacuum-Sealing Kit, White': 'Kitchen & Dining > Small Appliances > Specialty Appliances',\n",
       " 'FoodSaver 1-Gallon Size Bags, 32 Bags': 'Kitchen & Dining > Storage & Organization > Food Savers',\n",
       " 'FoodSaver Continuous Roll Bag Material, 11 Inch by 16 Feet (Box of 2 Rolls)': 'Kitchen & Dining > Storage & Organization > Food Savers',\n",
       " 'FoodSaver 1 Quart Size Bag, Package of 48': 'Kitchen & Dining > Storage & Organization > Food Savers',\n",
       " 'FoodSaver Vac 300 Vacuum-Sealing Kit, White': 'Kitchen & Dining > Small Appliances > Specialty Appliances',\n",
       " 'FoodSaver FSFSBF0526-P00 8-Inch Roll Two-pack, 20 Feet Long': 'Kitchen & Dining > Storage & Organization > Food Savers',\n",
       " 'FoodSaver 13 Gallon-sized Bags': 'Kitchen & Dining > Storage & Organization > Food Savers',\n",
       " 'Le Creuset Stoneware 1-1/2-Quart 9-Inch Square Baking Dish, Cherry': 'Kitchen & Dining > Bakeware > Bakers & Casseroles',\n",
       " 'Fox Run Gingerbread House Cookie Cutter Bake Set': 'Kitchen & Dining > Bakeware > Baking Tools & Accessories',\n",
       " 'Wilton Christmas Tree Comfort Grip Stainless Steel Cookie Cutter': 'Kitchen & Dining > Bakeware > Baking Tools & Accessories',\n",
       " 'NA': 'RV Parts & Accessories > Furnishings > Bath',\n",
       " 'Peugeot 11765 Bresil 8.75 Inch Coffee Mill, Walnut': 'Kitchen & Dining > Kitchen Utensils & Gadgets > Seasoning & Spice Tools',\n",
       " 'Wilton Snowman Comfort Grip Stainless Steel Cookie Cutter': 'Kitchen & Dining > Bakeware > Baking Tools & Accessories',\n",
       " 'Alessi Michael Graves Kettle with Bird Whistle, Blue Handle': 'Kitchen & Dining > Cookware > Teakettles',\n",
       " 'Wilton Cross Pan': 'Kitchen & Dining > Bakeware > Cake Pans',\n",
       " 'Fiesta 4-pc. Place Setting, White.': 'Kitchen & Dining > Dining & Entertaining > Dinnerware Sets',\n",
       " 'Fiesta 9-Inch, 13-1/4-Ounce Rim Soup Bowl, White': 'Kitchen & Dining > Dining & Entertaining > Bowls',\n",
       " 'Fiesta 64-Ounce Pedestal Bowl, Black': 'Kitchen & Dining > Dining & Entertaining > Serveware',\n",
       " 'Fiesta 4-Piece Place Setting, White': 'Kitchen & Dining > Dining & Entertaining > Dinnerware Sets',\n",
       " 'Fiesta 11-3/4-Inch Chop Plate, White': 'Kitchen & Dining > Dining & Entertaining > Serveware',\n",
       " 'Fiesta 10-1/2-Inch Dinner Plate, Cobalt': 'Kitchen & Dining > Dining & Entertaining > Plates',\n",
       " 'Fiesta 4-Piece Place Setting, Cobalt': 'Kitchen & Dining > Dining & Entertaining > Dinnerware Sets',\n",
       " 'Fiesta 70-Ounce Covered Casserole, White': 'Kitchen & Dining > Dining & Entertaining > Cups',\n",
       " 'Fiesta 14-1/4-Ounce Small Bowl, White': 'Kitchen & Dining > Dining & Entertaining > Serveware',\n",
       " 'Fiesta 2-Piece Covered Butter, Cobalt': 'Kitchen & Dining > Dining & Entertaining > Serveware',\n",
       " 'William Bounds Key Mill &quot;WB-1&quot; Pepper Mill': 'Kitchen & Dining > Kitchen Utensils & Gadgets > Salt & Pepper',\n",
       " 'Acrylic Beehive Honey Jar with Server': 'Kitchen & Dining > Kitchen Utensils & Gadgets > Specialty Tools & Gadgets',\n",
       " 'Clear Acrylic Recipe Box with 3&quot; x 5&quot; Index Cards': 'Kitchen & Dining > Kitchen Utensils & Gadgets > Kitchen Accessories',\n",
       " 'William Bounds Stainless-Steel Tapered Pepper Mill': 'Kitchen & Dining > Kitchen Utensils & Gadgets > Salt & Pepper',\n",
       " 'US Acrylic Sweet &amp; Low Holder': 'Kitchen & Dining > Dining & Entertaining > Serveware',\n",
       " 'Clear Acrylic 3-Tier Cabinet Organizer': 'Kitchen & Dining > Storage & Organization > Cabinet Organizers',\n",
       " 'Leifheit Pro Line Stainless Steel Egg Slicer': 'Kitchen & Dining > Kitchen Utensils & Gadgets > Graters',\n",
       " 'Cuisinart TOB-165 Convection Toaster Oven and Broiler, White': 'Kitchen & Dining > Small Appliances > Ovens & Toasters',\n",
       " 'Cuisinart TOB-175 Convection Toaster Oven/Broiler, Chrome': 'Kitchen & Dining > Small Appliances > Ovens & Toasters',\n",
       " 'Cuisinart 7-Cup Capacity Food Processor, White': 'Kitchen & Dining > Small Appliances > Food Processors',\n",
       " '12 Inch Lazy Susan': 'Kitchen & Dining > Storage & Organization > Lazy Susans',\n",
       " 'Hamilton Beach 52254 12-Speed Blender with Food Processor Attachment': 'Kitchen & Dining > Small Appliances > Blenders',\n",
       " 'Best Manufacturers 11-Inch Masher with Metal Handle': 'Kitchen & Dining > Kitchen Utensils & Gadgets > Fruit & Vegetable Tools',\n",
       " 'WMF Satin Steel and Glass Syrup/Honey Dispenser': 'Kitchen & Dining > Dining & Entertaining > Serveware',\n",
       " 'Whirley Pop Real Theater Popcorn with 6-Quart Stovetop Popcorn Popper': 'Kitchen & Dining > Small Appliances > Specialty Appliances',\n",
       " 'Shur-line 06020 Lid Opener': 'Kitchen & Dining > Kitchen Utensils & Gadgets > Can Openers',\n",
       " \"L'Equip 306200 500-Watt 6-Tray Food Dehydrator, Gray\": 'Kitchen & Dining > Small Appliances > Specialty Appliances',\n",
       " 'Luigi Bormioli Set of 4 Michelangelo Masterpiece 14.5-Oz. Beverage Glasses': 'Kitchen & Dining > Dining & Entertaining > Glassware & Drinkware',\n",
       " 'Luigi Bormioli Set of 4 Michelangelo Masterpiece Wine Glasses, 11.5-Oz.': 'Kitchen & Dining > Dining & Entertaining > Glassware & Drinkware',\n",
       " 'Luigi Bormioli Set of 4 Michelangelo Masterpiece 12-Oz. Double Old Fashioned Glasses': 'Kitchen & Dining > Dining & Entertaining > Glassware & Drinkware',\n",
       " 'Libbey Gibraltar 12-Ounce Rocks Glass , Box of 12, Clear': 'Kitchen & Dining > Dining & Entertaining > Glassware & Drinkware',\n",
       " 'Libbey 16-Piece Colbalt Flare Glassware Set': 'Kitchen & Dining > Dining & Entertaining > Glassware & Drinkware',\n",
       " 'Pioneer Bi-Directional Memo Pocket Album, Hunter Green': 'NA > NA > NA',\n",
       " 'Crisa Impressions 16 piece beverage set, item 1786426, clear': 'Kitchen & Dining > Dining & Entertaining > Glassware & Drinkware',\n",
       " 'Amco Swing-A-Way 709BK Comfort Grip Can Opener, Black': 'Kitchen & Dining > Kitchen Utensils & Gadgets > Can Openers',\n",
       " 'Swing Away Wall Can Opener': 'Kitchen & Dining > Kitchen Utensils & Gadgets > Can Openers',\n",
       " 'Bormioli Rocco Quattro Stagioni 8 1/2 Ounce Canning Jar, Set of 12': 'Kitchen & Dining > Cookware > Canning',\n",
       " 'Hoover Allergen Final Filter (2-Pack), 40110004': 'Vacuums & Floor Care > Vacuum Accessories > Filters',\n",
       " 'Hoover U5750-900 Windtunnel Upright Vacuum Cleaner': 'Vacuums & Floor Care > Vacuums > Upright Vacuums',\n",
       " 'Hoover Type A Upright Vacuum Cleaner Replacement Bags, Package of 10': 'Vacuums & Floor Care > Vacuum Accessories > Bags',\n",
       " 'Hoover High Efficiency Final Filter, 40110001': 'Vacuums & Floor Care > Vacuum Accessories > Filters',\n",
       " 'Browne Foodservice 407 Swing a Way Portable Manual Can Opener 7-Inch': 'Kitchen & Dining > Kitchen Utensils & Gadgets > Can Openers',\n",
       " 'KitchenAid KFP350 5-Cup Little Ultra Power Food Processor, Empire Red': 'Kitchen & Dining > Small Appliances > Food Processors',\n",
       " 'Hamilton Beach 04163 TrueAir HEPA Air Purifier with UV Germicidal Light': 'Heating > Cooling & Air Quality > Air Purifiers',\n",
       " 'Honeywell 17400 Enviracare QuietCare HEPA Air Cleaner': 'Heating > Cooling & Air Quality > Air Purifiers',\n",
       " 'Hamilton Beach 04913 TrueAir HEPA Replacement Filter for 04162 and 04163 Air Cleaners': 'Heating > Cooling & Air Quality > Air Purifiers',\n",
       " 'Hamilton Beach 05521 TrueAir 3.5 Gal. Cool Mist Humidifier': 'Heating > Cooling & Air Quality > Humidifiers & Accessories',\n",
       " 'Vornado 610W Performer Air Circulator': 'Heating > Cooling & Air Quality > Household Fans',\n",
       " 'Vornado 510W Compact Air Circulator': 'Heating > Cooling & Air Quality > Household Fans',\n",
       " 'Honeywell Long-Life Pure HEPA QuietCare Air Purifier, 17000': 'Heating > Cooling & Air Quality > Air Purifiers',\n",
       " 'Hamilton Beach 04923 TrueAir Replacement Carbon Filters for 04162, 04163 &amp; 04152 Air Cleaners, 3-Pack': 'Heating > Cooling & Air Quality > Air Purifiers',\n",
       " 'Honeywell HWM2030 3-Gallon Warm Moisture Humidifier': 'Heating > Cooling & Air Quality > Humidifiers & Accessories',\n",
       " 'Nordic Ware 13 Inch Crispy Dry Splatter Cover': 'Kitchen & Dining > Cookware > All Pans',\n",
       " 'Nordic Ware Universal 8 Cup Double Boiler Fits 2 to 4 Quart Sauce Pans': 'Kitchen & Dining > Cookware > Double Boilers',\n",
       " 'KitchenAid KT2651X Epicurean 475 Watt 6-Quart Stand Mixer, Cobalt Blue': 'Kitchen & Dining > Small Appliances > Mixers',\n",
       " 'Granite Ware 509-2 18-Inch Covered Oval Roaster': 'Kitchen & Dining > Cookware > Roasting Pans',\n",
       " 'Vornado HU1-0012-11 Standard 2.8 Gallon Vortex Humidifier': 'Heating > Cooling & Air Quality > Humidifiers & Accessories',\n",
       " 'T-Fal 1824 Avantis Iron': 'Irons & Steamers > Irons > Automatic Turnoff Irons',\n",
       " 'Granite Ware 0511-3 Covered Rectangular Roaster 21.25 by 14 by 8.5-Inch': 'Kitchen & Dining > Cookware > Roasting Pans',\n",
       " 'Lodge Striped Hot Handle Holders/Mitts, Set of 2': 'Kitchen & Dining > Kitchen & Table Linens > Potholders & Oven Mitts',\n",
       " 'Eureka 4870 Ultra Smart Vac Upright Vacuum Cleaner with True HEPA Filter': 'Vacuums & Floor Care > Vacuums > Upright Vacuums',\n",
       " 'Vornado HU1-0013-11 Standard 4-Gallon Vortex Humidifier': 'Heating > Cooling & Air Quality > Humidifiers & Accessories',\n",
       " 'Granite Ware 6137-2 8-Quart Stock Pot': 'Kitchen & Dining > Cookware > Stockpots',\n",
       " 'Waring Pro JEX328 Health Juice Extractor': 'Kitchen & Dining > Small Appliances > Juicers',\n",
       " 'Rowenta DM-273 Powerglide 2 Iron with Auto-Off Feature': 'Irons & Steamers > Irons > Automatic Turnoff Irons',\n",
       " 'Honeywell 21500 Enviracaire True HEPA Filter': 'Heating > Cooling & Air Quality > Air Purifiers',\n",
       " 'Dirt Devil Type G Handheld Vacuum Bags (3-Pack), 3010347001': 'Vacuums & Floor Care > Vacuum Accessories > Bags',\n",
       " 'Honeywell C-6005, 38002 Enviracare Universal Replacement Pre-Filter': 'Heating > Cooling & Air Quality > Air Purifiers',\n",
       " 'Dirt Devil Type U Microfresh Vacuum Bags (3-Pack), 3920750001': 'Vacuums & Floor Care > Vacuum Accessories > Bags',\n",
       " 'Dirt Devil Style 1 Vacuum Belt (2-Pack), 3157260001': 'Vacuums & Floor Care > Vacuum Accessories > Belts',\n",
       " 'Enviracaire 20500 HEPA Filter Fits 10500, 17000': 'Heating > Cooling & Air Quality > Air Purifiers',\n",
       " 'Dirt Devil Ultra Corded Bagged Handheld Vacuum, M08230RED': 'Vacuums & Floor Care > Vacuums > Handheld Vacuums',\n",
       " 'Fiesta 18-1/2-Ounce Sauceboat, Cobalt': 'Kitchen & Dining > Dining & Entertaining > Serveware',\n",
       " 'Pfaltzgraff Winterberry Sugar and Creamer Set': 'Kitchen & Dining > Dining & Entertaining > Serveware',\n",
       " 'Pfaltzgraff Winterberry 14-Inch Stoneware Serving Platter': 'Kitchen & Dining > Dining & Entertaining > Serveware',\n",
       " 'Pfaltzgraff Naturewood 16-Piece Stoneware Dinnerware Set, Service for 4': 'Kitchen & Dining > Dining & Entertaining > Dinnerware Sets',\n",
       " 'Racor PSM-1R Pro Stor Multi-Use Storage Bracket': 'Storage & Organization > Home Storage Hooks > Utility Hooks',\n",
       " 'Kleenex Pocket Pack White Tissue': 'Bath > Bathroom Accessories > Holders & Dispensers',\n",
       " 'Vacu Vin Vacuum Instant Marinater': 'Kitchen & Dining > Kitchen Utensils & Gadgets > Meat & Poultry Tools',\n",
       " 'J.A. Henckels 10-Inch Diamond Sharpening Steel': 'Kitchen & Dining > Kitchen Knives & Cutlery Accessories > Knife Sharpeners',\n",
       " 'Factory-Reconditioned Cuisinart ICE-20FR Automatic Frozen Yogurt-Ice Cream &amp; Sorbet Maker, White': 'Kitchen & Dining > Small Appliances > Ice Cream Machines',\n",
       " 'Ronco Inventions ST4000 Showtime Indoor Rotisserie and BBQ': 'Kitchen & Dining > Small Appliances > Ovens & Toasters',\n",
       " 'Vicks V3500N Cool Mist Humidifier 1.1 Gallon': 'Heating > Cooling & Air Quality > Humidifiers & Accessories',\n",
       " 'Fiesta 67-1/4-Ounce Large Disk Pitcher, Black': 'Kitchen & Dining > Dining & Entertaining > Serveware',\n",
       " 'Factory-Reconditioned Ronco Inventions ST4000R Showtime Indoor Rotisserie and Barbecue': 'Kitchen & Dining > Small Appliances > Ovens & Toasters',\n",
       " 'Factory-Reconditioned Cuisinart CPT-65FR Custom Control Total Touch 4-Slice Electronic Toaster, White': 'Kitchen & Dining > Small Appliances > Ovens & Toasters',\n",
       " 'Factory-Reconditioned Cuisinart CPT-70FR Toaster': 'Kitchen & Dining > Small Appliances > Ovens & Toasters',\n",
       " 'George Foreman GR10ABWI Champ Grill with Bun Warmer, Indigo': 'Kitchen & Dining > Small Appliances > Contact Grills',\n",
       " 'George Foreman GR10ABW Champ Grill with Bun Warmer, White': 'Kitchen & Dining > Small Appliances > Contact Grills',\n",
       " 'Farberware Classic Stainless Steel 1-Quart Covered Saucepan': 'Kitchen & Dining > Cookware > Saucepans',\n",
       " 'Farberware Classic Stainless Steel Covered Stockpot, 6-Quart': 'Kitchen & Dining > Cookware > Stockpots',\n",
       " 'Farberware Classic Stainless Steel 13-Piece Cookware Set': 'Kitchen & Dining > Cookware > Cookware Sets',\n",
       " 'Farberware Classic 2-Quart Saucepan with Lid': 'Kitchen & Dining > Cookware > Saucepans',\n",
       " 'Farberware Classic Stainless Steel 12-Inch Covered Fry Pan with Helper Handle': 'Kitchen & Dining > Cookware > Skillets',\n",
       " 'Farberware Classic 10&quot; Covered Frypan': 'Kitchen & Dining > Cookware > NA',\n",
       " 'Farberware Classic Stainless Steel Covered Stockpot, 8-Quart': 'Kitchen & Dining > Cookware > Stockpots',\n",
       " 'Ronco Food Dehydrator, Yogurt Maker and Beef Jerky Machine': 'Kitchen & Dining > Small Appliances > Specialty Appliances',\n",
       " 'Le Creuset Enameled Cast-Iron 5-Quart Buffet Casserole, Cobalt': 'Kitchen & Dining > Bakeware > Bakers & Casseroles',\n",
       " 'Krups 199-4G Aroma Control 10-Cup Programmable Thermal Coffee Maker, Black': 'Kitchen & Dining > Coffee > Tea & Espresso',\n",
       " 'Capresso 201.01 FrothXpress Automatic Milk Frother, Black': 'Kitchen & Dining > Small Appliance Parts & Accessories > Coffee & Espresso Machine Parts & Accessories',\n",
       " 'Hamilton Beach 04255 TrueAir Plug-Mount Odor Eliminator with Two Bonus Filters': 'Heating > Cooling & Air Quality > Air Purifiers',\n",
       " 'Capresso 3011.01 4-Cup Glass Replacement Carafe with Lid for Mini Espresso Machine': 'Kitchen & Dining > Small Appliance Parts & Accessories > Coffee & Espresso Machine Parts & Accessories',\n",
       " 'All-Clad 6000-7 SS Copper Core 5-Ply Bonded Dishwasher Safe 7-Piece Cookware Set, Silver': 'Kitchen & Dining > Bakeware > Bakers & Casseroles',\n",
       " 'All-Clad 6201.5 SS Copper Core 5-Ply Bonded Dishwasher Safe 1.5-Quart Saucepan Cookware, Silver': 'Kitchen & Dining > Cookware > Saucepans',\n",
       " 'All-Clad Stainless 1-1/2-Quart Windsor Pan': 'Kitchen & Dining > Cookware > Saucepans',\n",
       " 'All-Clad Stainless 7 1/2 Inch Fry Pan': 'Kitchen & Dining > Cookware > Skillets',\n",
       " 'All-Clad 5000-9 Stainless 9-Piece Cookware Set': 'Kitchen & Dining > Bakeware > Bakers & Casseroles',\n",
       " 'All-Clad Stainless 3-Quart Saucier Pan': 'Kitchen & Dining > Cookware > Sauciers',\n",
       " 'All-Clad 7112 Master Chef 2 Stainless Steel Tri-Ply Bonded 12-Inch Fry Pan Cookware, Silver': 'Kitchen & Dining > Cookware > Skillets',\n",
       " 'All-Clad Stainless 2-Quart Saucier Pan': 'Kitchen & Dining > Cookware > Sauciers',\n",
       " 'All-Clad 5708-ST Stainless Steel Professional Steamer Insert / Cookware, Silver': 'Kitchen & Dining > Cookware > Steamers',\n",
       " 'All-Clad Stainless 1-Quart Saucepan': 'Kitchen & Dining > Cookware > Saucepans',\n",
       " 'All-Clad Stainless 4-Quart Casserole Pan': 'Kitchen & Dining > Bakeware > Bakers & Casseroles',\n",
       " 'All-Clad T108 Stainless Steel 13-Inch Skimmer Kitchen Tool, Silver': 'Kitchen & Dining > Kitchen Utensils & Gadgets > Cooking Utensils',\n",
       " 'All-Clad 7201 Master Chef 2 Stainless Steel Tri-Ply Bonded 1-Quart Saucepan with Lid Cookware, Silver': 'Kitchen & Dining > Cookware > Saucepans',\n",
       " 'All-Clad Stainless 12-Inch Fry Pan Lid': 'Kitchen & Dining > Cookware > Lids',\n",
       " 'All-Clad 3016 RACK Nonstick  14 by 12.25-Inch Roasting Rack, Black': 'Kitchen & Dining > Cookware > Specialty Cookware',\n",
       " 'All-Clad 5605C Stainless Steel Dishwasher Safe  5-Quart Colander Kitchen Accessorie , Silver': 'Kitchen & Dining > Kitchen Utensils & Gadgets > Colanders & Food Strainers',\n",
       " 'All-Clad 7108 NS R2 Master Chef 2 Stainless Steel Tri-Ply Bonded 8-Inch PFOA Free Nonstick Fry Pan Cookware, Silver': 'Kitchen & Dining > Cookware > Skillets',\n",
       " 'All-Clad T106 Stainless Steel 13-Inch Small Turner Kitchen Tool, Silver': 'Kitchen & Dining > Kitchen Utensils & Gadgets > Cooking Utensils',\n",
       " 'All-Clad Stainless 7-Quart Stockpot with Pasta Insert': 'Kitchen & Dining > Cookware > Stockpots',\n",
       " 'All-Clad T105 Stainless Steel 11.5-Inch Pasta Ladle Kitchen Tool, Silver': 'Kitchen & Dining > Kitchen Utensils & Gadgets > Cooking Utensils',\n",
       " 'All-Clad T101 Stainless Steel 13-Inch Slotted Spoon Kitchen Tool, Silver': 'Kitchen & Dining > Kitchen Utensils & Gadgets > Cooking Utensils',\n",
       " 'All-Clad Stainless 8-Quart Stockpot': 'Kitchen & Dining > Cookware > Stockpots',\n",
       " 'All-Clad Stainless 6-Quart Stockpot': 'Kitchen & Dining > Cookware > Stockpots',\n",
       " 'All-Clad Stainless 10-Inch Fry Pan': 'Kitchen & Dining > Cookware > Woks & Stir-Fry Pans',\n",
       " 'All-Clad Stainless 8-Inch Nonstick Fry Pan': 'Kitchen & Dining > Cookware > Woks & Stir-Fry Pans',\n",
       " 'All-Clad T109 Stainless Steel  14.5-Inch Large Soup Ladle Kitchen Tool, Silver': 'Kitchen & Dining > Kitchen Utensils & Gadgets > Cooking Utensils',\n",
       " 'All-Clad Stainless Hanging Tool Rack': 'Kitchen & Dining > Cookware > Pot Racks',\n",
       " 'All-Clad Stainless 3-Quart Double-Boiler Insert': 'Kitchen & Dining > Cookware > Double Boilers',\n",
       " 'All-Clad 3020 Hard Anodized Aluminum Nonstick 13 by 20-Inch Double Burner Grande Griddle Specialty Cookware, Black': 'Kitchen & Dining > Cookware > Grill Pans',\n",
       " 'All-Clad 6211 SS Copper Core 5-Ply Bonded Dishwasher Safe 1-Quart Saucier Pan without Lid / Cookware, Silver': 'Kitchen & Dining > Cookware > Sauciers',\n",
       " 'All-Clad Stainless 4-Quart Saucepan with Loop': 'Kitchen & Dining > Cookware > Saucepans',\n",
       " 'Emeril Nonstick 10-Inch Fry Pan': 'Kitchen & Dining > Cookware > Skillets',\n",
       " 'All-Clad 3011 Hard Anodized Dishwasher Safe 11-Inch Sqaure Grille Cookware, Black': 'Kitchen & Dining > Cookware > Skillets',\n",
       " 'All-Clad T112 Stainless Steel 12-Inch Locking Tongs Kitchen Tool, Silver': 'Kitchen & Dining > Kitchen Utensils & Gadgets > Cooking Utensils',\n",
       " 'All-Clad Stainless Steamer Insert': 'Kitchen & Dining > Cookware > Steamers',\n",
       " 'All-Clad 3012 Hard Anodized Aluminum Nonstick 12-Inch Round Grille Pan Specialty Cookware, Black': 'Kitchen & Dining > Cookware > Skillets',\n",
       " 'All-Clad MBSET Stainless Steel Dishwasher Safe Mixing Bowls / Set of 3 Kitchen Accessorie , Silver': 'Kitchen & Dining > Kitchen Utensils & Gadgets > Fruit & Vegetable Tools',\n",
       " 'All-Clad Stainless 1-Quart Saucier Pan': 'Kitchen & Dining > Cookware > Sauciers',\n",
       " 'All-Clad T136 Stainless Steel 14.5-Inch Whisk / Kitchen Tool, Silver': 'Kitchen & Dining > Kitchen Utensils & Gadgets > Cooking Utensils',\n",
       " 'Chicago Cutlery Walnut Forged 9-Piece Knife Block Set': 'Kitchen & Dining > Kitchen Knives & Cutlery Accessories > Cutlery Sets',\n",
       " 'Chicago Cutlery Walnut Tradition 10-Piece Knife Set with Block': 'Kitchen & Dining > Kitchen Knives & Cutlery Accessories > Cutlery Sets',\n",
       " 'Chicago Cutlery Walnut Tradition Kitchen Scissors, Brown': 'Kitchen & Dining > Kitchen Knives & Cutlery Accessories > Shears',\n",
       " 'All-Clad 3013 Hard Anodized Aluminum Nonstick 13 by 20-Inch Double Burner Grande Grille Pan Specialty Cookware, Black': 'Kitchen & Dining > Cookware > Grill Pans',\n",
       " 'Maverick Redi-Check Pro LCD Food Probe Thermometer': 'Kitchen & Dining > Kitchen Utensils & Gadgets > Thermometers & Timers',\n",
       " 'All-Clad 3021 Hard Anodized Aluminum Nonstick 11-Inch Square Griddle Specialty Cookware, Black': 'Kitchen & Dining > Cookware > Griddles',\n",
       " 'All-Clad TSET1 Stainless Steel 6 Piece Kitchen Tool Set Caddy Included, Silver': 'Kitchen & Dining > Dining & Entertaining > Flatware',\n",
       " 'Emeril Nonstick 10-Piece Cookware Set': 'Kitchen & Dining > Cookware > Cookware Sets',\n",
       " 'Krups 229-45 Aroma Control 10-Cup Coffeemaker with Thermal Carafe, Black and Stainless Steel': 'Kitchen & Dining > Coffee > Tea & Espresso',\n",
       " 'KRUPS KM1000 Prelude Coffee Maker with LCD Analog-Style Clock, 10-cup, Silver': 'Kitchen & Dining > Coffee > Tea & Espresso',\n",
       " 'Vacu Vin Wine Saver Extra Stoppers, Set of 4': 'Kitchen & Dining > Kitchen Utensils & Gadgets > Bar & Wine Tools',\n",
       " 'Vacu Vin Pineapple Easy Slicer, set of 3 blade sizes.': 'Kitchen & Dining > Kitchen Utensils & Gadgets > Graters',\n",
       " \"Calphalon Professional Hard-Anodized Collector's Edition 3-1/2-Quart Saucepot with Lid\": 'Kitchen & Dining > Cookware > Saucepans',\n",
       " 'Calphalon C1210P Commercial Nonstick 10-Inch International Griddle/Crepe Pan': 'Kitchen & Dining > Cookware > Specialty Cookware',\n",
       " 'Calphalon Commercial Hard-Anodized 6-1/2-Quart Saucepot with Pasta Insert': 'Kitchen & Dining > Cookware > Saucepans',\n",
       " 'Matfer 321005 Exopat 11-5/8-by-16-3/8-Inch Nonstick Baking Mat': 'Kitchen & Dining > Bakeware > Baking Tools & Accessories',\n",
       " 'Factory-Reconditioned KitchenAid RRK90WH 300-Watt Ultra Power Stand Mixer, White': 'Kitchen & Dining > Small Appliances > Mixers',\n",
       " 'Revere Copperclad Bottom 1-Quart Covered Saucepan': 'Kitchen & Dining > Cookware > Saucepans',\n",
       " 'Revere 3520027 Line 2-Quart Covered Saucepan': 'Kitchen & Dining > Cookware > Saucepans',\n",
       " 'Revere Try-Ply Bottom 1-Quart Saucepan with Lid, Stainless Steel': 'Kitchen & Dining > Cookware > Saucepans',\n",
       " 'Revere 1400 Line 7-Piece Set': 'Kitchen & Dining > Cookware > Cookware Sets',\n",
       " 'Revere 2-1/3-Quart Whistling Tea Kettle': 'Kitchen & Dining > Cookware > Teakettles',\n",
       " 'Factory-Reconditioned KitchenAid RRK5AWH 5-Quart Mixer, White': 'Kitchen & Dining > Small Appliances > Mixers',\n",
       " 'George Foreman GR82B George Jr. Rotisserie': 'Kitchen & Dining > Small Appliances > Ovens & Toasters',\n",
       " 'Toastmaster T2040WC 4-Slice Dual-Control Toaster': 'Kitchen & Dining > Small Appliances > Ovens & Toasters',\n",
       " 'Salton LM8 Lemonader! Lemonade Maker': 'Kitchen & Dining > Small Appliances > Juicers',\n",
       " 'George Foreman GR26SBTMR Family Size Grill, Brushed Stainless Steel': 'Kitchen & Dining > Small Appliances > Contact Grills',\n",
       " 'Melitta MEFB2B 12-Cup Digital Coffeemaker': 'Kitchen & Dining > Coffee > Tea & Espresso',\n",
       " 'Salton RA3A 3-Cup Rice Cooker': 'Kitchen & Dining > Small Appliances > Rice Cookers',\n",
       " 'Toastmaster T2010CTW Cool Touch 2-Slice Toaster, White': 'Kitchen & Dining > Small Appliances > Ovens & Toasters',\n",
       " 'George Foreman GR36CB Jumbo Size Plus Grill with Cookbook': 'Kitchen & Dining > Small Appliances > Contact Grills',\n",
       " 'Pyrex Prepware Sculptured 6-Piece Serving Bowl Set, Clear with Blue Lids': 'Kitchen & Dining > Bakeware > Bakers & Casseroles',\n",
       " 'CorningWare French White 1-1/2-Quart Covered Round Dish': 'Kitchen & Dining > Bakeware > Bakers & Casseroles',\n",
       " 'Pyrex Prepware 7-Piece Mix &amp; Measure Set with 6-Piece bonus': 'Kitchen & Dining > Kitchen Utensils & Gadgets > Measuring Tools & Scales',\n",
       " 'Pyrex Storage 10-Piece Set, Clear with Blue Lids': 'Kitchen & Dining > Bakeware > Bake & Serve Sets',\n",
       " 'CorningWare French White 2-1/2-Quart Round Casserole Dish with Glass Cover': 'Kitchen & Dining > Bakeware > Bakers & Casseroles',\n",
       " 'CorningWare 2-1/2-Quart Oval Casserole Dish with Glass Lid': 'Kitchen & Dining > Bakeware > Bakers & Casseroles',\n",
       " 'Pyrex Prepware 3-Piece Measuring Cup Set': 'Kitchen & Dining > Kitchen Utensils & Gadgets > Measuring Tools & Scales',\n",
       " 'Cuisinart DCC-RC10W 10-Cup Replacement Carafe, White': 'Kitchen & Dining > Small Appliance Parts & Accessories > Coffee & Espresso Machine Parts & Accessories',\n",
       " 'Wilton From The Heart Nesting Cookie Cutter Set': 'Kitchen & Dining > Bakeware > Baking Tools & Accessories',\n",
       " 'Holmes HASF-99  10-Inch Velocity Blizzard Stand Fan': 'Heating > Cooling & Air Quality > Household Fans',\n",
       " \"Chef's Choice 695 Electric French Press, Black\": 'Kitchen & Dining > Coffee > Tea & Espresso',\n",
       " 'Holmes HAWF-2041 Twin Window Fan': 'Heating > Cooling & Air Quality > Household Fans',\n",
       " \"Chef's Choice 835 Pizzelle Pro Express Bake\": 'Kitchen & Dining > Small Appliances > Specialty Appliances',\n",
       " 'Holmes HAOF90-UC Blizzard Oscillating Table Fan': 'Heating > Cooling & Air Quality > Household Fans',\n",
       " 'Calphalon Commercial Hard Anodized 3-1/2-Qt Windsor Pan with Lid': 'Kitchen & Dining > Cookware > Saucepans',\n",
       " 'Calphalon Simply Calphalon 2-Quart Small Stainless-Steel Double Boiler Insert': 'Kitchen & Dining > Cookware > Double Boilers',\n",
       " 'Calphalon 32-Inch Straight Wall Pot Rack with 4 Heavy-Duty Single Hooks': 'Kitchen & Dining > Cookware > Pot Racks',\n",
       " 'Calphalon 18-by-36-Inch Oval Pot Rack': 'Kitchen & Dining > Cookware > Pot Racks',\n",
       " 'Calphalon Commercial Hard-Anodized 8-1/2-Quart Saucier with Lid': 'Kitchen & Dining > Cookware > Sauciers',\n",
       " 'Norpro Cast Iron Bacon Grill Press and Egg Ring Set': 'Kitchen & Dining > Kitchen Utensils & Gadgets > Tool & Gadget Sets',\n",
       " 'Norpro 4 Piece Knife Organizer Set': 'Kitchen & Dining > Kitchen Knives & Cutlery Accessories > Knife Blocks & Storage',\n",
       " 'Norpro Deluxe 3-Piece Bamboo Steamer Set': 'Kitchen & Dining > Cookware > Steamers',\n",
       " 'GRAPEFRUIT SPOONS SET OF 4': 'Kitchen & Dining > Kitchen Utensils & Gadgets > Fruit & Vegetable Tools',\n",
       " 'Norpro Glass Adjustable Shaker': 'Kitchen & Dining > Kitchen Utensils & Gadgets > Salt & Pepper',\n",
       " 'Nonstick 4-Piece Egg/Pancake Ring Set': 'Kitchen & Dining > Kitchen Utensils & Gadgets > Tool & Gadget Sets',\n",
       " 'Norpro 3 Piece Stainless Steel Balloon Whisk Set': 'Kitchen & Dining > Kitchen Utensils & Gadgets > Cooking Utensils',\n",
       " 'Norpro 5120 Deluxe Cherry Pitter with Clamp': 'Kitchen & Dining > Kitchen Utensils & Gadgets > Fruit & Vegetable Tools',\n",
       " 'Norpro Nonstick Tortilla Bowl Makers, Set of 2': 'Kitchen & Dining > Cookware > Specialty Cookware',\n",
       " 'Ravioli Rolling Pin': 'Kitchen & Dining > Bakeware > Baking Tools & Accessories',\n",
       " 'Norpro French Fry Cutter': 'Kitchen & Dining > Kitchen Utensils & Gadgets > Fruit & Vegetable Tools',\n",
       " 'Cuisinart DCC-1000BK Filter Brew 12-Cup Programmable Coffeemaker, Black': 'Kitchen & Dining > Coffee > Tea & Espresso',\n",
       " 'Cuisinart DCC-1200 Brew Central 12-Cup Programmable Coffeemaker, Black/Brushed Metal': 'Kitchen & Dining > Coffee > Tea & Espresso',\n",
       " 'Presto 04830 PowerPop Microwave Multi-Popper': 'Kitchen & Dining > Small Appliances > Specialty Appliances',\n",
       " 'Cuisinart DCC-1000 Programmable Filter Brew 12-Cup Coffeemaker, White': 'Kitchen & Dining > Coffee > Tea & Espresso',\n",
       " 'Presto 03430 Pizzazz Plus Rotating Oven': 'Kitchen & Dining > Small Appliances > Specialty Appliances',\n",
       " 'Braun KFK12FL FlavorSelect 12-Cup Replacement Carafe Charcoal Gray': 'Kitchen & Dining > Small Appliance Parts & Accessories > Coffee & Espresso Machine Parts & Accessories',\n",
       " 'Braun KF180-WH FlavorSelect 12-Cup Coffeemaker, White': 'Kitchen & Dining > Coffee > Tea & Espresso',\n",
       " 'Braun KF400-WH Aromaster 10-Cup Coffeemaker, White': 'Kitchen & Dining > Coffee > Tea & Espresso',\n",
       " 'Braun KSM2-WH Aromatic Coffee Grinder, White': 'Kitchen & Dining > Coffee > Tea & Espresso',\n",
       " 'Braun M880 Multimix 4-in-1 Hand Mixer': 'Kitchen & Dining > Small Appliances > Mixers',\n",
       " 'Braun KMM30 Coffee/Espresso Mill, White': 'Kitchen & Dining > Coffee > Tea & Espresso',\n",
       " 'Braun KSM2-BLK Aromatic Coffee Grinder, Black': 'Kitchen & Dining > Coffee > Tea & Espresso',\n",
       " 'Espressione Classic Espresso, 150-Count Pods': 'Kitchen & Dining > Small Appliance Parts & Accessories > Coffee & Espresso Machine Parts & Accessories',\n",
       " 'Fiesta 12-Inch by 5-3/4-Inch Bread Tray, Cobalt': 'Kitchen & Dining > Dining & Entertaining > Serveware',\n",
       " 'Fiesta 15-Inch Pizza Tray, Cobalt': 'Kitchen & Dining > Dining & Entertaining > Serveware',\n",
       " 'Innova 42010 Stainless-Steel 10-Quart Pressure Cooker with Steamer Insert and Bonus Lid': 'Kitchen & Dining > Cookware > Pressure Cookers',\n",
       " 'Farberware 3-Piece Wood Cutting Board Set': 'Kitchen & Dining > Kitchen Knives & Cutlery Accessories > Cutting Boards',\n",
       " 'Farberware 3-Piece Poly Board Set': 'Kitchen & Dining > Kitchen Knives & Cutlery Accessories > Cutting Boards',\n",
       " 'T-fal 62870 Magiclean Deep Fryer': 'Kitchen & Dining > Small Appliances > Deep Fryers',\n",
       " 'J.A. Henckels International Eversharp Pro 9-Piece Steak Knife Block Set': 'Kitchen & Dining > Kitchen Knives & Cutlery Accessories > Cutlery Sets',\n",
       " 'Eastman Outdoors 38207 Cooking Gloves 13-Inch': 'Kitchen & Dining > Kitchen & Table Linens > Potholders & Oven Mitts',\n",
       " 'Zwilling J.A. Henckels Twin Grip Colored Paring Knives, Set of 4': 'Kitchen & Dining > Kitchen Knives & Cutlery Accessories > Paring Knives',\n",
       " 'J.A. Henckels 8-Piece Stainless-Steel Steak Knife Set in Wood Gift Box': 'Kitchen & Dining > Kitchen Knives & Cutlery Accessories > Cutlery Sets',\n",
       " 'J.A. Henckels International Everedge 13-Piece Knife Set with Bonus Cheese Knife': 'Kitchen & Dining > Kitchen Knives & Cutlery Accessories > Cutlery Sets',\n",
       " 'Zwilling J.A. Henckels Twin Pro S 7-Piece Knife Set with Block': 'Kitchen & Dining > Kitchen Knives & Cutlery Accessories > Cutlery Sets',\n",
       " 'Factory-Reconditioned Cuisinart DGB-300FR Automatic Grind &amp; Brew 10-Cup Coffeemaker, White': 'Kitchen & Dining > Coffee > Tea & Espresso',\n",
       " 'Factory-Reconditioned Cuisinart DLC-1FR 21-Ounce Mini-Prep Food Processor, White': 'Kitchen & Dining > Small Appliances > Food Processors',\n",
       " 'T-fal  7845100A 7-Cup Vitesse High Speed Kettle': 'Kitchen & Dining > Small Appliances > Coffee',\n",
       " 'Presto 05420 FryDaddy Electric Deep Fryer': 'Kitchen & Dining > Small Appliances > Deep Fryers',\n",
       " 'KitchenAid Silicone Slotted Spoon, Red': 'Kitchen & Dining > Kitchen Utensils & Gadgets > Cooking Utensils',\n",
       " 'KitchenAid Silicone Spatula Scraper, Black': 'Kitchen & Dining > Kitchen Utensils & Gadgets > Cooking Utensils',\n",
       " 'KitchenAid Silicone Mixer Spatula, Red': 'Kitchen & Dining > Kitchen Utensils & Gadgets > Cooking Utensils',\n",
       " 'KitchenAid Silicone Slotted Turner, Black': 'Kitchen & Dining > Kitchen Utensils & Gadgets > Cooking Utensils',\n",
       " 'KitchenAid Silicone Spoon Spatula, Red': 'Kitchen & Dining > Kitchen Utensils & Gadgets > Cooking Utensils',\n",
       " 'KitchenAid All Purpose Scraper, Black': 'Kitchen & Dining > Bakeware > Baking Tools & Accessories',\n",
       " 'KitchenAid Stainless Steel Utility Tongs': 'Kitchen & Dining > Kitchen Utensils & Gadgets > Cooking Utensils',\n",
       " 'KitchenAid Silicone Basting Spoon, Red': 'Kitchen & Dining > Kitchen Utensils & Gadgets > Cooking Utensils',\n",
       " 'KitchenAid 5-Piece Measuring Spoon Set, Red': 'Kitchen & Dining > Kitchen Utensils & Gadgets > Measuring Tools & Scales',\n",
       " 'KitchenAid Large Pizza Wheel, Red': 'Kitchen & Dining > Kitchen Utensils & Gadgets > Pasta & Pizza Tools',\n",
       " 'KitchenAid Can Opener, Black': 'Kitchen & Dining > Kitchen Utensils & Gadgets > Can Openers',\n",
       " 'KitchenAid Silicone Mixer Spatula, Black': 'Kitchen & Dining > Kitchen Utensils & Gadgets > Cooking Utensils',\n",
       " 'KitchenAid Stainless Steel Euro Peeler, Black': 'Kitchen & Dining > Kitchen Utensils & Gadgets > Graters',\n",
       " 'KitchenAid Pizza Wheel / Cutter, Black': 'Kitchen & Dining > Kitchen Utensils & Gadgets > Pasta & Pizza Tools',\n",
       " 'KitchenAid Ice Cream Spade, Red': 'Kitchen & Dining > Kitchen Utensils & Gadgets > Specialty Tools & Gadgets',\n",
       " 'KitchenAid Large Pizza Wheel, Black': 'Kitchen & Dining > Kitchen Utensils & Gadgets > Pasta & Pizza Tools',\n",
       " 'KitchenAid Bottle Opener, Black': 'Kitchen & Dining > Kitchen Utensils & Gadgets > Can Openers',\n",
       " 'KitchenAid Pasta Scoop Colander, Red': 'Kitchen & Dining > Kitchen Utensils & Gadgets > Colanders & Food Strainers',\n",
       " 'KitchenAid Can Opener, Red': 'Kitchen & Dining > Kitchen Utensils & Gadgets > Tool & Gadget Sets',\n",
       " 'KitchenAid Ice Cream Spade, Black': 'Kitchen & Dining > Kitchen Utensils & Gadgets > Specialty Tools & Gadgets',\n",
       " 'KitchenAid Stainless Steel Oven Thermometer': 'Kitchen & Dining > Kitchen Utensils & Gadgets > Thermometers & Timers',\n",
       " 'KRUPS F2307051 Egg Cooker, White': 'Kitchen & Dining > Small Appliances > Specialty Appliances',\n",
       " 'KRUPS 2100024902 Universal Grill and Panini Maker with Nonstick Cooking Plates, Silver': 'Kitchen & Dining > Small Appliances > Contact Grills',\n",
       " 'West Bend 41077 Just For Dinner Breadmaker': 'Kitchen & Dining > Small Appliances > Bread Machines',\n",
       " 'Aroma Housewares AEW-305 Electric Wok, Black': 'Kitchen & Dining > Small Appliances > Electric Woks',\n",
       " \"Chef's Choice 838 Waffle Cone Express Ice Cream Cone Maker\": 'Kitchen & Dining > Small Appliances > Waffle Irons',\n",
       " 'KitchenAid KFP670 Professional Food Processor, White': 'Kitchen & Dining > Small Appliances > Food Processors',\n",
       " 'Rowenta DA-35 Latitude 35 Compact Iron with Dual Voltage for Travel': 'Irons & Steamers > Irons > Travel Irons',\n",
       " 'KitchenAid KFC3100WH Chef Series 3-Cup Food Chopper, White': 'Kitchen & Dining > Kitchen Utensils & Gadgets > Seasoning & Spice Tools',\n",
       " 'Fiesta 64-Ounce Pedestal Bowl, Sunflower': 'Kitchen & Dining > Dining & Entertaining > Serveware',\n",
       " 'Tilt-Head 6-Wire Whip KitchenAid&reg; Wire Whip for Tilt Head Stand Mixer (Fits models KSM150, KSM152, KSM155)': 'Kitchen & Dining > Small Appliance Parts & Accessories > Mixer Parts & Accessories',\n",
       " 'Fiesta Covered Sugar and Creamer Set with Tray, Sunflower': 'Kitchen & Dining > Dining & Entertaining > Serveware',\n",
       " 'Fiesta 1-Quart Large Bowl, Sunflower': 'Kitchen & Dining > Dining & Entertaining > Serveware',\n",
       " 'Fiesta Rangetop Salt and Pepper Set, Sunflower': 'Kitchen & Dining > Kitchen Utensils & Gadgets > Salt & Pepper',\n",
       " 'KitchenAid K45B Flat Beater Replacement for KSM90 and K45 Stand Mixer': 'Kitchen & Dining > Small Appliance Parts & Accessories > Mixer Parts & Accessories',\n",
       " 'Fiesta 2-1/4-Inch Salt and Pepper Set, Sunflower': 'Kitchen & Dining > Kitchen Utensils & Gadgets > Salt & Pepper',\n",
       " 'Fiesta 2-Quart Serving Bowl, Sunflower': 'Kitchen & Dining > Dining & Entertaining > Serveware',\n",
       " 'Fiesta 10-1/4-Inch Deep Dish Pie Baker, Sunflower': 'Kitchen & Dining > Bakeware > Pie',\n",
       " 'KitchenAid K45DH Dough Hook Replacement for KSM90 and K45 Stand Mixer': 'Kitchen & Dining > Small Appliance Parts & Accessories > Mixer Parts & Accessories',\n",
       " 'Mr. Heater MRHF273400 Buddy Portable LP Gas Heater': 'Heating > Cooling & Air Quality > Space Heaters & Accessories',\n",
       " 'Fiesta 5-Ounce Mini Disk Pitcher, White': 'Kitchen & Dining > Dining & Entertaining > Serveware',\n",
       " 'Fiesta 1-Quart Large Bowl, Cinnabar': 'Kitchen & Dining > Dining & Entertaining > Serveware',\n",
       " 'Bodum Eileen 8 Cup French Press Coffeemaker, 1.0 l, 34-Ounce': 'Kitchen & Dining > Coffee > Tea & Espresso',\n",
       " 'Bodum Logo Travel Press': 'Kitchen & Dining > Coffee > Tea & Espresso',\n",
       " 'Bodum Chambord 3 cup French Press Coffee Maker, 12 oz., Chrome': 'Kitchen & Dining > Coffee > Tea & Espresso',\n",
       " 'Bodum Chambord 12 cup French Press Coffee Maker, 51 oz, Chrome': 'Kitchen & Dining > Coffee > Tea & Espresso',\n",
       " 'Bodum Assam 17-Ounce Tea Press': 'Kitchen & Dining > Dining & Entertaining > Serveware',\n",
       " 'Bodum Ceylon 51-Ounce Ice Tea Maker with Filter': 'Kitchen & Dining > Dining & Entertaining > Serveware',\n",
       " 'Bodum Chambord 8 cup French Press Coffee Maker, 34 oz., Chrome': 'Kitchen & Dining > Coffee > Tea & Espresso',\n",
       " 'Bodum Assam Medium Tea Press with Plastic Filter, Black, 1.0 l, 34 oz.': 'Kitchen & Dining > Coffee > Tea & Espresso',\n",
       " 'Bodum Assam 51-Ounce Tea Press': 'Kitchen & Dining > Dining & Entertaining > Serveware',\n",
       " 'Kaiser Bakeware Mini Springform Pans, Set of 4': 'Kitchen & Dining > Bakeware > Cake Pans',\n",
       " 'FilterStream V2210 DirtTamer Deluxe Wet/Dry Vacuum Cleaner': 'Vacuums & Floor Care > Vacuums > Handheld Vacuums',\n",
       " 'Kaiser Bakeware  Non-stick French Fry and Frozen Food Sheet': 'Kitchen & Dining > Bakeware > Baking & Cookie Sheets',\n",
       " 'Saeco Vienna Deluxe SuperAutomatic Espresso Coffee and Cappuccino Machine': 'Kitchen & Dining > Coffee > Tea & Espresso',\n",
       " \"Calphalon Commercial Bakeware Collector's Edition Large Cookie Sheets, Set of 2\": 'Kitchen & Dining > Bakeware > Baking & Cookie Sheets',\n",
       " 'Calphalon Professional Nonstick II Limited Edition 10-Inch Omelet Pan': 'Kitchen & Dining > Cookware > Skillets',\n",
       " 'Oneida Colours 16-Inch Cutting Board, Charcoal': 'Kitchen & Dining > Kitchen Knives & Cutlery Accessories > Cutting Boards',\n",
       " 'Cuisinart DCO-24 Die Cast Can Opener': 'Kitchen & Dining > Kitchen Utensils & Gadgets > Can Openers',\n",
       " 'Fein 921072K13 Step Adaptor': 'Vacuums & Floor Care > Vacuum Accessories > Hoses',\n",
       " 'Cuisinart TTG-500 Two-to-Go Coffeemaker': 'Kitchen & Dining > Coffee > Tea & Espresso',\n",
       " 'Bodum 3000-10USAA Electric Santos 12-Cup Coffeemaker With Timer, Clear': 'Kitchen & Dining > Coffee > Tea & Espresso',\n",
       " 'Bell Pepper Casserole - Jade': 'Kitchen & Dining > Bakeware > Bakers & Casseroles',\n",
       " 'Wusthof Classic 4-1/2-Inch Utility Knife': 'Kitchen & Dining > Kitchen Knives & Cutlery Accessories > Utility Knives',\n",
       " 'Le Creuset 7-Piece Spatula Set with Crock, Red': 'Kitchen & Dining > Kitchen Utensils & Gadgets > Cooking Utensils',\n",
       " 'W&uuml;sthof Classic Steak Knife Set, 4-Piece': 'Kitchen & Dining > Kitchen Knives & Cutlery Accessories > Cutlery Sets',\n",
       " 'Wusthof Classic 3-1/2-Inch Paring Knife': 'Kitchen & Dining > Kitchen Knives & Cutlery Accessories > Paring Knives',\n",
       " \"Wusthof Classic 10-Inch Cook's Knife\": 'Kitchen & Dining > Kitchen Knives & Cutlery Accessories > Cutlery Sets',\n",
       " 'Wusthof Classic Gourmet 3-Piece Knife Set': 'Kitchen & Dining > Kitchen Knives & Cutlery Accessories > Knife Blocks & Storage',\n",
       " 'Wusthof Classic 6-Piece Steak Knife Set': 'Kitchen & Dining > Kitchen Knives & Cutlery Accessories > Cutlery Sets',\n",
       " 'Wusthof 4109-7 Classic 5-Inch Tomato Knife': 'Kitchen & Dining > Kitchen Knives & Cutlery Accessories > Specialty Knives',\n",
       " 'Wusthof Grand Prix 7-Piece Knife Block Set': 'Kitchen & Dining > Kitchen Knives & Cutlery Accessories > Cutlery Sets',\n",
       " 'Wusthof Classic 6-Inch Sandwich Knife': 'Kitchen & Dining > Kitchen Knives & Cutlery Accessories > Utility Knives',\n",
       " 'Wusthof Gourmet 7-Piece Knife Set with Block': 'Kitchen & Dining > Kitchen Knives & Cutlery Accessories > Cutlery Sets',\n",
       " ...}"
      ]
     },
     "execution_count": 75,
     "metadata": {},
     "output_type": "execute_result"
    }
   ],
   "source": [
    "category_lookup_short = {k:v for k,v in zip(categories['title'],categories['narrow_cat'])}\n",
    "category_lookup_short"
   ]
  },
  {
   "cell_type": "code",
   "execution_count": 9,
   "metadata": {},
   "outputs": [],
   "source": [
    "def clean_reviews_data():\n",
    "    \n",
    "    # create a copy so that there's no need to reload df data if things go wrong\n",
    "    reviews = df.copy()\n",
    "    \n",
    "    # drop columns that will not be used\n",
    "    reviews = reviews.drop(['helpful','unixReviewTime'], axis=1)\n",
    "    \n",
    "    # change time to datetime format\n",
    "    reviews['reviewTime'] = pd.to_datetime(reviews['reviewTime'])\n",
    "    \n",
    "    # add product title for readability\n",
    "    reviews['productTitle'] = reviews['asin'].apply(lambda x: product_lookup[x])\n",
    "    \n",
    "    # rearrange columns\n",
    "    reviews = reviews[['reviewerID', 'asin', 'reviewerName', 'productTitle', 'overall', \n",
    "                       'summary', 'reviewText', 'reviewTime']]\n",
    "    \n",
    "    return reviews"
   ]
  },
  {
   "cell_type": "code",
   "execution_count": 10,
   "metadata": {},
   "outputs": [],
   "source": [
    "reviews = clean_reviews_data()"
   ]
  },
  {
   "cell_type": "code",
   "execution_count": 11,
   "metadata": {},
   "outputs": [
    {
     "data": {
      "text/html": [
       "<div>\n",
       "<style scoped>\n",
       "    .dataframe tbody tr th:only-of-type {\n",
       "        vertical-align: middle;\n",
       "    }\n",
       "\n",
       "    .dataframe tbody tr th {\n",
       "        vertical-align: top;\n",
       "    }\n",
       "\n",
       "    .dataframe thead th {\n",
       "        text-align: right;\n",
       "    }\n",
       "</style>\n",
       "<table border=\"1\" class=\"dataframe\">\n",
       "  <thead>\n",
       "    <tr style=\"text-align: right;\">\n",
       "      <th></th>\n",
       "      <th>reviewerID</th>\n",
       "      <th>asin</th>\n",
       "      <th>reviewerName</th>\n",
       "      <th>productTitle</th>\n",
       "      <th>overall</th>\n",
       "      <th>summary</th>\n",
       "      <th>reviewText</th>\n",
       "      <th>reviewTime</th>\n",
       "    </tr>\n",
       "  </thead>\n",
       "  <tbody>\n",
       "    <tr>\n",
       "      <th>0</th>\n",
       "      <td>APYOBQE6M18AA</td>\n",
       "      <td>0615391206</td>\n",
       "      <td>Martin Schwartz</td>\n",
       "      <td>Zoku Quick Pops Recipe Book</td>\n",
       "      <td>5.0</td>\n",
       "      <td>Best Price</td>\n",
       "      <td>My daughter wanted this book and the price on ...</td>\n",
       "      <td>2013-10-19</td>\n",
       "    </tr>\n",
       "    <tr>\n",
       "      <th>1</th>\n",
       "      <td>A1JVQTAGHYOL7F</td>\n",
       "      <td>0615391206</td>\n",
       "      <td>Michelle Dinh</td>\n",
       "      <td>Zoku Quick Pops Recipe Book</td>\n",
       "      <td>5.0</td>\n",
       "      <td>zoku</td>\n",
       "      <td>I bought this zoku quick pop for my daughterr ...</td>\n",
       "      <td>2014-06-18</td>\n",
       "    </tr>\n",
       "    <tr>\n",
       "      <th>2</th>\n",
       "      <td>A3UPYGJKZ0XTU4</td>\n",
       "      <td>0615391206</td>\n",
       "      <td>mirasreviews</td>\n",
       "      <td>Zoku Quick Pops Recipe Book</td>\n",
       "      <td>4.0</td>\n",
       "      <td>Excels at Sweet Dessert Pops, but Falls Short ...</td>\n",
       "      <td>There is no shortage of pop recipes available ...</td>\n",
       "      <td>2013-05-05</td>\n",
       "    </tr>\n",
       "    <tr>\n",
       "      <th>3</th>\n",
       "      <td>A2MHCTX43MIMDZ</td>\n",
       "      <td>0615391206</td>\n",
       "      <td>M. Johnson \"Tea Lover\"</td>\n",
       "      <td>Zoku Quick Pops Recipe Book</td>\n",
       "      <td>5.0</td>\n",
       "      <td>Creative Combos</td>\n",
       "      <td>This book is a must have if you get a Zoku (wh...</td>\n",
       "      <td>2011-08-04</td>\n",
       "    </tr>\n",
       "    <tr>\n",
       "      <th>4</th>\n",
       "      <td>AHAI85T5C2DH3</td>\n",
       "      <td>0615391206</td>\n",
       "      <td>PugLover</td>\n",
       "      <td>Zoku Quick Pops Recipe Book</td>\n",
       "      <td>4.0</td>\n",
       "      <td>A must own if you own the Zoku maker...</td>\n",
       "      <td>This cookbook is great.  I have really enjoyed...</td>\n",
       "      <td>2014-06-07</td>\n",
       "    </tr>\n",
       "  </tbody>\n",
       "</table>\n",
       "</div>"
      ],
      "text/plain": [
       "       reviewerID        asin            reviewerName  \\\n",
       "0   APYOBQE6M18AA  0615391206         Martin Schwartz   \n",
       "1  A1JVQTAGHYOL7F  0615391206           Michelle Dinh   \n",
       "2  A3UPYGJKZ0XTU4  0615391206            mirasreviews   \n",
       "3  A2MHCTX43MIMDZ  0615391206  M. Johnson \"Tea Lover\"   \n",
       "4   AHAI85T5C2DH3  0615391206                PugLover   \n",
       "\n",
       "                  productTitle  overall  \\\n",
       "0  Zoku Quick Pops Recipe Book      5.0   \n",
       "1  Zoku Quick Pops Recipe Book      5.0   \n",
       "2  Zoku Quick Pops Recipe Book      4.0   \n",
       "3  Zoku Quick Pops Recipe Book      5.0   \n",
       "4  Zoku Quick Pops Recipe Book      4.0   \n",
       "\n",
       "                                             summary  \\\n",
       "0                                         Best Price   \n",
       "1                                               zoku   \n",
       "2  Excels at Sweet Dessert Pops, but Falls Short ...   \n",
       "3                                    Creative Combos   \n",
       "4            A must own if you own the Zoku maker...   \n",
       "\n",
       "                                          reviewText reviewTime  \n",
       "0  My daughter wanted this book and the price on ... 2013-10-19  \n",
       "1  I bought this zoku quick pop for my daughterr ... 2014-06-18  \n",
       "2  There is no shortage of pop recipes available ... 2013-05-05  \n",
       "3  This book is a must have if you get a Zoku (wh... 2011-08-04  \n",
       "4  This cookbook is great.  I have really enjoyed... 2014-06-07  "
      ]
     },
     "execution_count": 11,
     "metadata": {},
     "output_type": "execute_result"
    }
   ],
   "source": [
    "reviews.head()"
   ]
  },
  {
   "cell_type": "markdown",
   "metadata": {},
   "source": [
    "# 3. Preprocessing and Data Preparation for Modelling"
   ]
  },
  {
   "cell_type": "markdown",
   "metadata": {},
   "source": [
    "### 3.1 Check Matrix Sparsity"
   ]
  },
  {
   "cell_type": "code",
   "execution_count": 12,
   "metadata": {},
   "outputs": [],
   "source": [
    "# check how sparse the matrix is\n",
    "def check_matrix_sparsity(df):\n",
    "    unique_users = df['reviewerID'].nunique()\n",
    "    unique_products = df['asin'].nunique()\n",
    "\n",
    "    print('No. of unique users: ', unique_users)\n",
    "    print('No. of unique products: ', unique_products)\n",
    "    print('Size of utility matrix: {} x {}; {} cells'.format(unique_users,\n",
    "                                                             unique_products,\n",
    "                                                             unique_users * unique_products))\n",
    "    print('Sparsity: {:.3f}%'.format(len(reviews)/(unique_users * unique_products) * 100))"
   ]
  },
  {
   "cell_type": "code",
   "execution_count": 13,
   "metadata": {},
   "outputs": [
    {
     "name": "stdout",
     "output_type": "stream",
     "text": [
      "No. of unique users:  66519\n",
      "No. of unique products:  28237\n",
      "Size of utility matrix: 66519 x 28237; 1878297003 cells\n",
      "Sparsity: 0.029%\n"
     ]
    }
   ],
   "source": [
    "check_matrix_sparsity(reviews)"
   ]
  },
  {
   "cell_type": "code",
   "execution_count": 14,
   "metadata": {
    "scrolled": true
   },
   "outputs": [
    {
     "name": "stdout",
     "output_type": "stream",
     "text": [
      "(551682, 8)\n"
     ]
    },
    {
     "data": {
      "text/html": [
       "<div>\n",
       "<style scoped>\n",
       "    .dataframe tbody tr th:only-of-type {\n",
       "        vertical-align: middle;\n",
       "    }\n",
       "\n",
       "    .dataframe tbody tr th {\n",
       "        vertical-align: top;\n",
       "    }\n",
       "\n",
       "    .dataframe thead th {\n",
       "        text-align: right;\n",
       "    }\n",
       "</style>\n",
       "<table border=\"1\" class=\"dataframe\">\n",
       "  <thead>\n",
       "    <tr style=\"text-align: right;\">\n",
       "      <th></th>\n",
       "      <th>reviewerID</th>\n",
       "      <th>asin</th>\n",
       "      <th>reviewerName</th>\n",
       "      <th>productTitle</th>\n",
       "      <th>overall</th>\n",
       "      <th>summary</th>\n",
       "      <th>reviewText</th>\n",
       "      <th>reviewTime</th>\n",
       "    </tr>\n",
       "  </thead>\n",
       "  <tbody>\n",
       "    <tr>\n",
       "      <th>0</th>\n",
       "      <td>APYOBQE6M18AA</td>\n",
       "      <td>0615391206</td>\n",
       "      <td>Martin Schwartz</td>\n",
       "      <td>Zoku Quick Pops Recipe Book</td>\n",
       "      <td>5.0</td>\n",
       "      <td>Best Price</td>\n",
       "      <td>My daughter wanted this book and the price on ...</td>\n",
       "      <td>2013-10-19</td>\n",
       "    </tr>\n",
       "    <tr>\n",
       "      <th>1</th>\n",
       "      <td>A1JVQTAGHYOL7F</td>\n",
       "      <td>0615391206</td>\n",
       "      <td>Michelle Dinh</td>\n",
       "      <td>Zoku Quick Pops Recipe Book</td>\n",
       "      <td>5.0</td>\n",
       "      <td>zoku</td>\n",
       "      <td>I bought this zoku quick pop for my daughterr ...</td>\n",
       "      <td>2014-06-18</td>\n",
       "    </tr>\n",
       "    <tr>\n",
       "      <th>2</th>\n",
       "      <td>A3UPYGJKZ0XTU4</td>\n",
       "      <td>0615391206</td>\n",
       "      <td>mirasreviews</td>\n",
       "      <td>Zoku Quick Pops Recipe Book</td>\n",
       "      <td>4.0</td>\n",
       "      <td>Excels at Sweet Dessert Pops, but Falls Short ...</td>\n",
       "      <td>There is no shortage of pop recipes available ...</td>\n",
       "      <td>2013-05-05</td>\n",
       "    </tr>\n",
       "    <tr>\n",
       "      <th>3</th>\n",
       "      <td>A2MHCTX43MIMDZ</td>\n",
       "      <td>0615391206</td>\n",
       "      <td>M. Johnson \"Tea Lover\"</td>\n",
       "      <td>Zoku Quick Pops Recipe Book</td>\n",
       "      <td>5.0</td>\n",
       "      <td>Creative Combos</td>\n",
       "      <td>This book is a must have if you get a Zoku (wh...</td>\n",
       "      <td>2011-08-04</td>\n",
       "    </tr>\n",
       "    <tr>\n",
       "      <th>4</th>\n",
       "      <td>AHAI85T5C2DH3</td>\n",
       "      <td>0615391206</td>\n",
       "      <td>PugLover</td>\n",
       "      <td>Zoku Quick Pops Recipe Book</td>\n",
       "      <td>4.0</td>\n",
       "      <td>A must own if you own the Zoku maker...</td>\n",
       "      <td>This cookbook is great.  I have really enjoyed...</td>\n",
       "      <td>2014-06-07</td>\n",
       "    </tr>\n",
       "  </tbody>\n",
       "</table>\n",
       "</div>"
      ],
      "text/plain": [
       "       reviewerID        asin            reviewerName  \\\n",
       "0   APYOBQE6M18AA  0615391206         Martin Schwartz   \n",
       "1  A1JVQTAGHYOL7F  0615391206           Michelle Dinh   \n",
       "2  A3UPYGJKZ0XTU4  0615391206            mirasreviews   \n",
       "3  A2MHCTX43MIMDZ  0615391206  M. Johnson \"Tea Lover\"   \n",
       "4   AHAI85T5C2DH3  0615391206                PugLover   \n",
       "\n",
       "                  productTitle  overall  \\\n",
       "0  Zoku Quick Pops Recipe Book      5.0   \n",
       "1  Zoku Quick Pops Recipe Book      5.0   \n",
       "2  Zoku Quick Pops Recipe Book      4.0   \n",
       "3  Zoku Quick Pops Recipe Book      5.0   \n",
       "4  Zoku Quick Pops Recipe Book      4.0   \n",
       "\n",
       "                                             summary  \\\n",
       "0                                         Best Price   \n",
       "1                                               zoku   \n",
       "2  Excels at Sweet Dessert Pops, but Falls Short ...   \n",
       "3                                    Creative Combos   \n",
       "4            A must own if you own the Zoku maker...   \n",
       "\n",
       "                                          reviewText reviewTime  \n",
       "0  My daughter wanted this book and the price on ... 2013-10-19  \n",
       "1  I bought this zoku quick pop for my daughterr ... 2014-06-18  \n",
       "2  There is no shortage of pop recipes available ... 2013-05-05  \n",
       "3  This book is a must have if you get a Zoku (wh... 2011-08-04  \n",
       "4  This cookbook is great.  I have really enjoyed... 2014-06-07  "
      ]
     },
     "execution_count": 14,
     "metadata": {},
     "output_type": "execute_result"
    }
   ],
   "source": [
    "print(reviews.shape)\n",
    "reviews.head()"
   ]
  },
  {
   "cell_type": "code",
   "execution_count": 15,
   "metadata": {},
   "outputs": [],
   "source": [
    "# next step: change subset data function to take a min and max \n",
    "# so that we leave out reviewers that have a lot of reviews"
   ]
  },
  {
   "cell_type": "markdown",
   "metadata": {},
   "source": [
    "### 3.2 Take a subset of original data\n",
    "- This is in view of the above matrix sparsity, and so that my local machine can handle the generation of the user-item utility matrix"
   ]
  },
  {
   "cell_type": "code",
   "execution_count": 16,
   "metadata": {},
   "outputs": [],
   "source": [
    "def subset_data(df, n=20):\n",
    "    \"\"\"\n",
    "    Takes a reviews dataframe and subsets it to users and products with at least n number of reviews\n",
    "    \"\"\"\n",
    "\n",
    "    # users with n reviews and above\n",
    "    user_review_counts = df['reviewerID'].value_counts()\n",
    "    subset_df = df[df['reviewerID'].isin(user_review_counts[user_review_counts>=n].index)]\n",
    "    print(subset_df.shape)\n",
    "\n",
    "    # products with n reviews and above\n",
    "    product_review_counts = df['asin'].value_counts()\n",
    "    subset_df = subset_df[subset_df['asin'].isin(product_review_counts[product_review_counts>=n].index)]\n",
    "    print(subset_df.shape)\n",
    "    \n",
    "    return subset_df"
   ]
  },
  {
   "cell_type": "code",
   "execution_count": 17,
   "metadata": {},
   "outputs": [
    {
     "name": "stdout",
     "output_type": "stream",
     "text": [
      "(86732, 8)\n",
      "(57861, 8)\n"
     ]
    }
   ],
   "source": [
    "reviews20 = subset_data(reviews)"
   ]
  },
  {
   "cell_type": "code",
   "execution_count": 18,
   "metadata": {},
   "outputs": [
    {
     "data": {
      "text/plain": [
       "<matplotlib.axes._subplots.AxesSubplot at 0x12070a208>"
      ]
     },
     "execution_count": 18,
     "metadata": {},
     "output_type": "execute_result"
    },
    {
     "data": {
      "image/png": "[encoded data removed]",
      "text/plain": [
       "<Figure size 432x288 with 1 Axes>"
      ]
     },
     "metadata": {
      "image/png": {
       "height": 263,
       "width": 399
      }
     },
     "output_type": "display_data"
    }
   ],
   "source": [
    "sns.countplot(reviews20['overall'])"
   ]
  },
  {
   "cell_type": "markdown",
   "metadata": {},
   "source": [
    "### 3.3 Split Train and Test Sets\n",
    "- Train: All ratings given before 2014\n",
    "- Test: All ratings given in 2014\n",
    "- Preprocessing: remove all products/users that only occurred in 2014. This is because we would have no 'training' data on them, and won't be able to predict their ratings"
   ]
  },
  {
   "cell_type": "code",
   "execution_count": 19,
   "metadata": {},
   "outputs": [],
   "source": [
    "def remove_test_year_entries(df, test_year=2014):\n",
    "    \n",
    "    # remove all products/users that only started in 2014\n",
    "    df['Year'] = df['reviewTime'].apply(lambda x: x.year)\n",
    "\n",
    "    user_start_date = df.groupby('reviewerID')['Year'].min()\n",
    "    df = df[df['reviewerID'].isin(user_start_date[user_start_date!=test_year].index)]\n",
    "\n",
    "    product_start_date = df.groupby('asin')['Year'].min()\n",
    "    df = df[df['asin'].isin(product_start_date[product_start_date!=test_year].index)]\n",
    "\n",
    "    print(df.shape)\n",
    "    \n",
    "    return df"
   ]
  },
  {
   "cell_type": "code",
   "execution_count": 20,
   "metadata": {},
   "outputs": [
    {
     "name": "stdout",
     "output_type": "stream",
     "text": [
      "(52627, 9)\n"
     ]
    }
   ],
   "source": [
    "reviews20 = remove_test_year_entries(reviews20)"
   ]
  },
  {
   "cell_type": "code",
   "execution_count": 21,
   "metadata": {},
   "outputs": [
    {
     "data": {
      "text/html": [
       "<div>\n",
       "<style scoped>\n",
       "    .dataframe tbody tr th:only-of-type {\n",
       "        vertical-align: middle;\n",
       "    }\n",
       "\n",
       "    .dataframe tbody tr th {\n",
       "        vertical-align: top;\n",
       "    }\n",
       "\n",
       "    .dataframe thead th {\n",
       "        text-align: right;\n",
       "    }\n",
       "</style>\n",
       "<table border=\"1\" class=\"dataframe\">\n",
       "  <thead>\n",
       "    <tr style=\"text-align: right;\">\n",
       "      <th></th>\n",
       "      <th>reviewerID</th>\n",
       "      <th>asin</th>\n",
       "      <th>reviewerName</th>\n",
       "      <th>productTitle</th>\n",
       "      <th>overall</th>\n",
       "      <th>summary</th>\n",
       "      <th>reviewText</th>\n",
       "      <th>reviewTime</th>\n",
       "      <th>Year</th>\n",
       "    </tr>\n",
       "  </thead>\n",
       "  <tbody>\n",
       "    <tr>\n",
       "      <th>0</th>\n",
       "      <td>A281NPSIMI1C2R</td>\n",
       "      <td>B00004SPEU</td>\n",
       "      <td>Rebecca of Amazon \"The Rebecca Review\"</td>\n",
       "      <td>KRUPS F20342 Electric Spice and Coffee Grinder...</td>\n",
       "      <td>5.0</td>\n",
       "      <td>I use mine to grind spices :)</td>\n",
       "      <td>I guess since I am not using this product ever...</td>\n",
       "      <td>2000-12-17</td>\n",
       "      <td>2000</td>\n",
       "    </tr>\n",
       "    <tr>\n",
       "      <th>1</th>\n",
       "      <td>A281NPSIMI1C2R</td>\n",
       "      <td>B00004SPZV</td>\n",
       "      <td>Rebecca of Amazon \"The Rebecca Review\"</td>\n",
       "      <td>Misto Brushed Aluminum Olive Oil Sprayer</td>\n",
       "      <td>3.0</td>\n",
       "      <td>Good, but a bit of work ;)</td>\n",
       "      <td>When I first filled this sprayer and gave it a...</td>\n",
       "      <td>2000-11-20</td>\n",
       "      <td>2000</td>\n",
       "    </tr>\n",
       "    <tr>\n",
       "      <th>2</th>\n",
       "      <td>A281NPSIMI1C2R</td>\n",
       "      <td>B00000JGRT</td>\n",
       "      <td>Rebecca of Amazon \"The Rebecca Review\"</td>\n",
       "      <td>Cuisinart ICE-20 Automatic 1-1/2-Quart Ice Cre...</td>\n",
       "      <td>5.0</td>\n",
       "      <td>Ice Cream keeps us warm in winter?</td>\n",
       "      <td>After several failed attempts, I began to wond...</td>\n",
       "      <td>2000-09-28</td>\n",
       "      <td>2000</td>\n",
       "    </tr>\n",
       "    <tr>\n",
       "      <th>3</th>\n",
       "      <td>A3A15L96IYUO6V</td>\n",
       "      <td>B00004OCJW</td>\n",
       "      <td>Michael Smith</td>\n",
       "      <td>OXO Good Grips Soft Handled Can Opener</td>\n",
       "      <td>5.0</td>\n",
       "      <td>Great can opener</td>\n",
       "      <td>This is a great and easy to use can opener. Th...</td>\n",
       "      <td>2000-05-26</td>\n",
       "      <td>2000</td>\n",
       "    </tr>\n",
       "    <tr>\n",
       "      <th>4</th>\n",
       "      <td>ALR35EFI69S5R</td>\n",
       "      <td>B00004OCKO</td>\n",
       "      <td>Barron Laycock \"Labradorman\"</td>\n",
       "      <td>OXO Good Grips Winged Corkscrew, Black</td>\n",
       "      <td>5.0</td>\n",
       "      <td>Quick, Easy &amp;amp; Effective help For WIne Klut...</td>\n",
       "      <td>My lady friend got me a couple of these recent...</td>\n",
       "      <td>2000-08-04</td>\n",
       "      <td>2000</td>\n",
       "    </tr>\n",
       "    <tr>\n",
       "      <th>5</th>\n",
       "      <td>A281NPSIMI1C2R</td>\n",
       "      <td>B00004S7YH</td>\n",
       "      <td>Rebecca of Amazon \"The Rebecca Review\"</td>\n",
       "      <td>Wilton 2104-7778 Master Tip Set</td>\n",
       "      <td>4.0</td>\n",
       "      <td>The perfect basic set!</td>\n",
       "      <td>I love this set of decorating tips.  The only ...</td>\n",
       "      <td>2000-10-06</td>\n",
       "      <td>2000</td>\n",
       "    </tr>\n",
       "    <tr>\n",
       "      <th>6</th>\n",
       "      <td>A1KXONFPU2XQ5K</td>\n",
       "      <td>B00004S9BY</td>\n",
       "      <td>Stephanie Manley</td>\n",
       "      <td>Cuisinart BDH-2 Blade and Disc Holder</td>\n",
       "      <td>4.0</td>\n",
       "      <td>Nice addition to food processor.</td>\n",
       "      <td>This is a handy addition to the food processor...</td>\n",
       "      <td>2000-09-05</td>\n",
       "      <td>2000</td>\n",
       "    </tr>\n",
       "    <tr>\n",
       "      <th>7</th>\n",
       "      <td>A1RPTVW5VEOSI</td>\n",
       "      <td>B00004OCKG</td>\n",
       "      <td>Michael J. Edelman</td>\n",
       "      <td>OXO Good Grips Locking Can Opener</td>\n",
       "      <td>5.0</td>\n",
       "      <td>Yes, a can opener you can get excited about!</td>\n",
       "      <td>Who'd think a cheap kitchen tool could excite ...</td>\n",
       "      <td>2000-05-04</td>\n",
       "      <td>2000</td>\n",
       "    </tr>\n",
       "    <tr>\n",
       "      <th>8</th>\n",
       "      <td>A1QPAGGX9FDQXM</td>\n",
       "      <td>B00004SGF0</td>\n",
       "      <td>Michela</td>\n",
       "      <td>KitchenAid KHM5DH 5-Speed Ultra Power Hand Mix...</td>\n",
       "      <td>5.0</td>\n",
       "      <td>Best Choice for Hand Mixer</td>\n",
       "      <td>When it was time for me to buy a new hand mixe...</td>\n",
       "      <td>2000-12-23</td>\n",
       "      <td>2000</td>\n",
       "    </tr>\n",
       "    <tr>\n",
       "      <th>9</th>\n",
       "      <td>A2TXMYYGSZCSZ1</td>\n",
       "      <td>B00004OCL8</td>\n",
       "      <td>annie \"grannieannie\"</td>\n",
       "      <td>OXO Good Grips Flexible Spatula</td>\n",
       "      <td>5.0</td>\n",
       "      <td>A Must Have for All Cookie Bakers!</td>\n",
       "      <td>This is the spatula you've been looking for!  ...</td>\n",
       "      <td>2000-11-12</td>\n",
       "      <td>2000</td>\n",
       "    </tr>\n",
       "    <tr>\n",
       "      <th>10</th>\n",
       "      <td>A17SZZO9LM3WYC</td>\n",
       "      <td>B00000JGRT</td>\n",
       "      <td>Mayflower Girl \"amazon-junkie since 1996\"</td>\n",
       "      <td>Cuisinart ICE-20 Automatic 1-1/2-Quart Ice Cre...</td>\n",
       "      <td>5.0</td>\n",
       "      <td>Simple to Use!  Fabulous Results!</td>\n",
       "      <td>I ordered the Cuisinart Ice Cream maker after ...</td>\n",
       "      <td>2000-07-17</td>\n",
       "      <td>2000</td>\n",
       "    </tr>\n",
       "    <tr>\n",
       "      <th>11</th>\n",
       "      <td>A3A15L96IYUO6V</td>\n",
       "      <td>B00004OCIX</td>\n",
       "      <td>Michael Smith</td>\n",
       "      <td>OXO Good Grips Ice Cream Scoop - Point</td>\n",
       "      <td>3.0</td>\n",
       "      <td>Good, ice cream is hard to get out</td>\n",
       "      <td>When scooping ice cream (or frozen yogurt), so...</td>\n",
       "      <td>2000-05-21</td>\n",
       "      <td>2000</td>\n",
       "    </tr>\n",
       "    <tr>\n",
       "      <th>12</th>\n",
       "      <td>A3S87ZOPB3UM9N</td>\n",
       "      <td>B00004SGFV</td>\n",
       "      <td>atmj</td>\n",
       "      <td>KitchenAid KPS2CL Pouring Shield for 4-1/2 and...</td>\n",
       "      <td>5.0</td>\n",
       "      <td>I don't know what I would do without this</td>\n",
       "      <td>This is a cool feature for this mixer.I use it...</td>\n",
       "      <td>2000-11-18</td>\n",
       "      <td>2000</td>\n",
       "    </tr>\n",
       "    <tr>\n",
       "      <th>13</th>\n",
       "      <td>A1M2T0J45TTE64</td>\n",
       "      <td>B00004SGFI</td>\n",
       "      <td>G. Powell</td>\n",
       "      <td>KitchenAid FT Food Tray Attachment for Stand M...</td>\n",
       "      <td>5.0</td>\n",
       "      <td>No photo description:</td>\n",
       "      <td>Since there isn't a photo of this food tray, I...</td>\n",
       "      <td>2000-05-10</td>\n",
       "      <td>2000</td>\n",
       "    </tr>\n",
       "    <tr>\n",
       "      <th>14</th>\n",
       "      <td>A231WM2Z2JL0U3</td>\n",
       "      <td>B00004RDF0</td>\n",
       "      <td>Rheumor</td>\n",
       "      <td>Lello 4080 Musso Lussino 1.5-Quart Ice Cream M...</td>\n",
       "      <td>5.0</td>\n",
       "      <td>A Ferrari in silver.</td>\n",
       "      <td>Fast, sleek, sculpted and expensive.....now th...</td>\n",
       "      <td>2000-11-06</td>\n",
       "      <td>2000</td>\n",
       "    </tr>\n",
       "    <tr>\n",
       "      <th>15</th>\n",
       "      <td>A3CG6YLYZJXQG4</td>\n",
       "      <td>B00004S56Y</td>\n",
       "      <td>Tracy Rowan \"dargelos\"</td>\n",
       "      <td>Zojirushi BBCC-V20 Home Bakery Traditional Bre...</td>\n",
       "      <td>5.0</td>\n",
       "      <td>Worth every cent!</td>\n",
       "      <td>I don't know about anyone else but those cylin...</td>\n",
       "      <td>2000-12-31</td>\n",
       "      <td>2000</td>\n",
       "    </tr>\n",
       "    <tr>\n",
       "      <th>16</th>\n",
       "      <td>A1KXONFPU2XQ5K</td>\n",
       "      <td>B00004SU35</td>\n",
       "      <td>Stephanie Manley</td>\n",
       "      <td>Wabash Valley Farms 25008 Whirley-Pop Stovetop...</td>\n",
       "      <td>5.0</td>\n",
       "      <td>Miss the taste of real butter?</td>\n",
       "      <td>Do you remember when pop corn didn't come out ...</td>\n",
       "      <td>2000-10-03</td>\n",
       "      <td>2000</td>\n",
       "    </tr>\n",
       "    <tr>\n",
       "      <th>17</th>\n",
       "      <td>ARXU3FESTWMJJ</td>\n",
       "      <td>B00004SGG6</td>\n",
       "      <td>Mary Jo Sminkey \"15 years of Amazon Reviews!\"</td>\n",
       "      <td>KitchenAid KSM90PS 300-Watt Ultra Power 4-1/2-...</td>\n",
       "      <td>5.0</td>\n",
       "      <td>Every cook needs one!</td>\n",
       "      <td>Some of my best memories growing up were my Mo...</td>\n",
       "      <td>2000-08-23</td>\n",
       "      <td>2000</td>\n",
       "    </tr>\n",
       "    <tr>\n",
       "      <th>18</th>\n",
       "      <td>A281NPSIMI1C2R</td>\n",
       "      <td>B00004S9D3</td>\n",
       "      <td>Rebecca of Amazon \"The Rebecca Review\"</td>\n",
       "      <td>Cuisinart ICE-RFB 1-1/2-Quart Additional Freez...</td>\n",
       "      <td>5.0</td>\n",
       "      <td>So many more uses!</td>\n",
       "      <td>While I do have the ice cream maker, I ordered...</td>\n",
       "      <td>2000-12-19</td>\n",
       "      <td>2000</td>\n",
       "    </tr>\n",
       "    <tr>\n",
       "      <th>19</th>\n",
       "      <td>A1QPAGGX9FDQXM</td>\n",
       "      <td>B00004RIZ7</td>\n",
       "      <td>Michela</td>\n",
       "      <td>Progressive Stainless Steel Mesh Tea Ball</td>\n",
       "      <td>4.0</td>\n",
       "      <td>Too Large for One Cup of Tea</td>\n",
       "      <td>This stainless steel mesh tea ball is 2-inches...</td>\n",
       "      <td>2000-12-23</td>\n",
       "      <td>2000</td>\n",
       "    </tr>\n",
       "    <tr>\n",
       "      <th>20</th>\n",
       "      <td>A3S87ZOPB3UM9N</td>\n",
       "      <td>B00004SPZV</td>\n",
       "      <td>atmj</td>\n",
       "      <td>Misto Brushed Aluminum Olive Oil Sprayer</td>\n",
       "      <td>3.0</td>\n",
       "      <td>A bit disappointing</td>\n",
       "      <td>I had high hopes for this item as I wholly emb...</td>\n",
       "      <td>2000-09-05</td>\n",
       "      <td>2000</td>\n",
       "    </tr>\n",
       "    <tr>\n",
       "      <th>21</th>\n",
       "      <td>ALR35EFI69S5R</td>\n",
       "      <td>B00004R93Z</td>\n",
       "      <td>Barron Laycock \"Labradorman\"</td>\n",
       "      <td>George Foreman GR10AWHT Champ Grill</td>\n",
       "      <td>5.0</td>\n",
       "      <td>No Hype; This Grill Is Great!</td>\n",
       "      <td>Even grizzled old mountain men like me get tir...</td>\n",
       "      <td>2000-08-20</td>\n",
       "      <td>2000</td>\n",
       "    </tr>\n",
       "    <tr>\n",
       "      <th>22</th>\n",
       "      <td>A281NPSIMI1C2R</td>\n",
       "      <td>B00004UE7F</td>\n",
       "      <td>Rebecca of Amazon \"The Rebecca Review\"</td>\n",
       "      <td>Norpro Honey Syrup Dispenser</td>\n",
       "      <td>3.0</td>\n",
       "      <td>Better for Maple Syrup!</td>\n",
       "      <td>While I do keep honey in it, the opening at th...</td>\n",
       "      <td>2000-10-10</td>\n",
       "      <td>2000</td>\n",
       "    </tr>\n",
       "    <tr>\n",
       "      <th>23</th>\n",
       "      <td>A281NPSIMI1C2R</td>\n",
       "      <td>B00004OCKR</td>\n",
       "      <td>Rebecca of Amazon \"The Rebecca Review\"</td>\n",
       "      <td>OXO Good Grips  Salad Spinner</td>\n",
       "      <td>5.0</td>\n",
       "      <td>Salad spinners unite :)</td>\n",
       "      <td>If you want to get a bit fancy with your salad...</td>\n",
       "      <td>2000-10-07</td>\n",
       "      <td>2000</td>\n",
       "    </tr>\n",
       "    <tr>\n",
       "      <th>24</th>\n",
       "      <td>A231WM2Z2JL0U3</td>\n",
       "      <td>B00004S7V8</td>\n",
       "      <td>Rheumor</td>\n",
       "      <td>Microplane 40020 Classic Zester/Grater</td>\n",
       "      <td>5.0</td>\n",
       "      <td>Nice Surprise!</td>\n",
       "      <td>I bought this as a 'stocking stuffer' for Moth...</td>\n",
       "      <td>2000-09-05</td>\n",
       "      <td>2000</td>\n",
       "    </tr>\n",
       "    <tr>\n",
       "      <th>25</th>\n",
       "      <td>A281NPSIMI1C2R</td>\n",
       "      <td>B00004OCJO</td>\n",
       "      <td>Rebecca of Amazon \"The Rebecca Review\"</td>\n",
       "      <td>OXO Good Grips Lemon Zester</td>\n",
       "      <td>5.0</td>\n",
       "      <td>Lemon Meringue Pie</td>\n",
       "      <td>When I first heard about a zester, I was intri...</td>\n",
       "      <td>2000-09-28</td>\n",
       "      <td>2000</td>\n",
       "    </tr>\n",
       "    <tr>\n",
       "      <th>26</th>\n",
       "      <td>A3HRBWBN7DH9XV</td>\n",
       "      <td>B00004S9GX</td>\n",
       "      <td>JK \"johnrktx@sbcglobal.net\"</td>\n",
       "      <td>Braun MR430HC Multiquick Deluxe Hand Blender &amp;...</td>\n",
       "      <td>5.0</td>\n",
       "      <td>A Unique Appliance, NOT A Blender Substitute!</td>\n",
       "      <td>I've had stick blenders for many years and use...</td>\n",
       "      <td>2000-05-23</td>\n",
       "      <td>2000</td>\n",
       "    </tr>\n",
       "    <tr>\n",
       "      <th>27</th>\n",
       "      <td>A1M2T0J45TTE64</td>\n",
       "      <td>B00004S9H9</td>\n",
       "      <td>G. Powell</td>\n",
       "      <td>Lodge Original Finish 12-Inch Cast Iron Skillet</td>\n",
       "      <td>5.0</td>\n",
       "      <td>Best fry pan for browning meat/onions and saut...</td>\n",
       "      <td>Cast iron fry pans are the best choice for fry...</td>\n",
       "      <td>2000-08-23</td>\n",
       "      <td>2000</td>\n",
       "    </tr>\n",
       "    <tr>\n",
       "      <th>28</th>\n",
       "      <td>A2EDWI5EGP4V9N</td>\n",
       "      <td>B00000JGRT</td>\n",
       "      <td>sharkychick</td>\n",
       "      <td>Cuisinart ICE-20 Automatic 1-1/2-Quart Ice Cre...</td>\n",
       "      <td>5.0</td>\n",
       "      <td>Fabulous! Easy! Fast!</td>\n",
       "      <td>If you think that you cannot make good ice cre...</td>\n",
       "      <td>2000-09-27</td>\n",
       "      <td>2000</td>\n",
       "    </tr>\n",
       "    <tr>\n",
       "      <th>29</th>\n",
       "      <td>A3S87ZOPB3UM9N</td>\n",
       "      <td>B00004SGG6</td>\n",
       "      <td>atmj</td>\n",
       "      <td>KitchenAid KSM90PS 300-Watt Ultra Power 4-1/2-...</td>\n",
       "      <td>5.0</td>\n",
       "      <td>I love this mixer</td>\n",
       "      <td>I have had my cobalt blue mixer for about 6 ye...</td>\n",
       "      <td>2000-11-18</td>\n",
       "      <td>2000</td>\n",
       "    </tr>\n",
       "    <tr>\n",
       "      <th>...</th>\n",
       "      <td>...</td>\n",
       "      <td>...</td>\n",
       "      <td>...</td>\n",
       "      <td>...</td>\n",
       "      <td>...</td>\n",
       "      <td>...</td>\n",
       "      <td>...</td>\n",
       "      <td>...</td>\n",
       "      <td>...</td>\n",
       "    </tr>\n",
       "    <tr>\n",
       "      <th>52597</th>\n",
       "      <td>A380P8LHEL3DZ9</td>\n",
       "      <td>B0087UYR1S</td>\n",
       "      <td>Eve UrAlly \"Ur Ally\"</td>\n",
       "      <td>KnappMade CM Scrubber - Chain Mail Cast Iron P...</td>\n",
       "      <td>5.0</td>\n",
       "      <td>It Works!</td>\n",
       "      <td>It was reviewed on Cooks Illustrated. Hubby th...</td>\n",
       "      <td>2014-05-30</td>\n",
       "      <td>2014</td>\n",
       "    </tr>\n",
       "    <tr>\n",
       "      <th>52598</th>\n",
       "      <td>A2PVL5RKAROYVN</td>\n",
       "      <td>B001VZ5E40</td>\n",
       "      <td>ilaj \"ilaj\"</td>\n",
       "      <td>Winco MS3A-8S Strainer with Single Fine Mesh, ...</td>\n",
       "      <td>4.0</td>\n",
       "      <td>Handy sifter</td>\n",
       "      <td>I got this for sifting flours when baking.  It...</td>\n",
       "      <td>2014-01-08</td>\n",
       "      <td>2014</td>\n",
       "    </tr>\n",
       "    <tr>\n",
       "      <th>52599</th>\n",
       "      <td>A2VBTN6ZR67YOF</td>\n",
       "      <td>B004N4D8X0</td>\n",
       "      <td>Mike Jacobs</td>\n",
       "      <td>Malouf Fine Linens&amp;reg; 600 Thread Count GENUI...</td>\n",
       "      <td>5.0</td>\n",
       "      <td>Excellent complient to the Malouf 600 sheet se...</td>\n",
       "      <td>We really loved these on the first use and res...</td>\n",
       "      <td>2014-04-27</td>\n",
       "      <td>2014</td>\n",
       "    </tr>\n",
       "    <tr>\n",
       "      <th>52600</th>\n",
       "      <td>ANWB7D10LPJFU</td>\n",
       "      <td>B0087UYR1S</td>\n",
       "      <td>John P. Salvaggio</td>\n",
       "      <td>KnappMade CM Scrubber - Chain Mail Cast Iron P...</td>\n",
       "      <td>5.0</td>\n",
       "      <td>Scrubbah</td>\n",
       "      <td>It scrubs cast iron cookware. gets dirty quick...</td>\n",
       "      <td>2014-04-23</td>\n",
       "      <td>2014</td>\n",
       "    </tr>\n",
       "    <tr>\n",
       "      <th>52601</th>\n",
       "      <td>A2AIRFEAWEQC91</td>\n",
       "      <td>B0087UYR1S</td>\n",
       "      <td>Lady Lola</td>\n",
       "      <td>KnappMade CM Scrubber - Chain Mail Cast Iron P...</td>\n",
       "      <td>5.0</td>\n",
       "      <td>This is a great product for cast iron</td>\n",
       "      <td>How ingenious this is. It scrubs my cast iron ...</td>\n",
       "      <td>2014-02-01</td>\n",
       "      <td>2014</td>\n",
       "    </tr>\n",
       "    <tr>\n",
       "      <th>52602</th>\n",
       "      <td>A2MDBSMYDZH9VR</td>\n",
       "      <td>B0087UYR1S</td>\n",
       "      <td>SubDeb</td>\n",
       "      <td>KnappMade CM Scrubber - Chain Mail Cast Iron P...</td>\n",
       "      <td>5.0</td>\n",
       "      <td>Does a fantastic job on all my cast iron</td>\n",
       "      <td>Even with the reviews I was not sure about thi...</td>\n",
       "      <td>2014-07-08</td>\n",
       "      <td>2014</td>\n",
       "    </tr>\n",
       "    <tr>\n",
       "      <th>52603</th>\n",
       "      <td>A2ZNIKXT764IV4</td>\n",
       "      <td>B0087UYR1S</td>\n",
       "      <td>Sue \"suezieqt\"</td>\n",
       "      <td>KnappMade CM Scrubber - Chain Mail Cast Iron P...</td>\n",
       "      <td>1.0</td>\n",
       "      <td>Waste of money</td>\n",
       "      <td>I am always willing to try something new to cl...</td>\n",
       "      <td>2014-02-22</td>\n",
       "      <td>2014</td>\n",
       "    </tr>\n",
       "    <tr>\n",
       "      <th>52604</th>\n",
       "      <td>A3E3MISWTTTNLK</td>\n",
       "      <td>B0087UYR1S</td>\n",
       "      <td>Todd March</td>\n",
       "      <td>KnappMade CM Scrubber - Chain Mail Cast Iron P...</td>\n",
       "      <td>4.0</td>\n",
       "      <td>Fine Cleaner, but be delicate with carbon stee...</td>\n",
       "      <td>I bought this mainly for my carbon steel cookw...</td>\n",
       "      <td>2014-07-05</td>\n",
       "      <td>2014</td>\n",
       "    </tr>\n",
       "    <tr>\n",
       "      <th>52605</th>\n",
       "      <td>A39WLAM38IEBWM</td>\n",
       "      <td>B000BUDE5M</td>\n",
       "      <td>Trai Tao Thom USA \"NUHOANGTHANHNUTRAITAOTHOMUSA\"</td>\n",
       "      <td>Endurance Egg Spoons Stainless Steel Set of 4</td>\n",
       "      <td>4.0</td>\n",
       "      <td>THIS SPOONS ARE NOT RIGHT SIZE FOR TO EAT SOFT...</td>\n",
       "      <td>THIS IS NOT RIGHT ONE FOR TO EAT SOFT EGG BUT ...</td>\n",
       "      <td>2014-03-10</td>\n",
       "      <td>2014</td>\n",
       "    </tr>\n",
       "    <tr>\n",
       "      <th>52606</th>\n",
       "      <td>A1905GXW39DYA3</td>\n",
       "      <td>B000BUDE5M</td>\n",
       "      <td>J. Thompson</td>\n",
       "      <td>Endurance Egg Spoons Stainless Steel Set of 4</td>\n",
       "      <td>5.0</td>\n",
       "      <td>Nice</td>\n",
       "      <td>I really liked these spoons.  I use them for m...</td>\n",
       "      <td>2014-02-19</td>\n",
       "      <td>2014</td>\n",
       "    </tr>\n",
       "    <tr>\n",
       "      <th>52607</th>\n",
       "      <td>A2V2N6LUDMD1UG</td>\n",
       "      <td>B001VZ5E40</td>\n",
       "      <td>jrob63</td>\n",
       "      <td>Winco MS3A-8S Strainer with Single Fine Mesh, ...</td>\n",
       "      <td>4.0</td>\n",
       "      <td>Great Price</td>\n",
       "      <td>Great price for this wooden handled strainer. ...</td>\n",
       "      <td>2014-02-04</td>\n",
       "      <td>2014</td>\n",
       "    </tr>\n",
       "    <tr>\n",
       "      <th>52608</th>\n",
       "      <td>A1DH3QDZX8Z7GO</td>\n",
       "      <td>B0087Q1T1S</td>\n",
       "      <td>Charlemange</td>\n",
       "      <td>Blendtec Twister Jar</td>\n",
       "      <td>5.0</td>\n",
       "      <td>Great for pestos</td>\n",
       "      <td>This is a nice addition to anyone's Blendtec m...</td>\n",
       "      <td>2014-04-05</td>\n",
       "      <td>2014</td>\n",
       "    </tr>\n",
       "    <tr>\n",
       "      <th>52609</th>\n",
       "      <td>A333XOKAY0TC1V</td>\n",
       "      <td>B000BVHG14</td>\n",
       "      <td>Bolanle \"Bola\"</td>\n",
       "      <td>Ateco 6-Piece Pastry Tube and Tips Set</td>\n",
       "      <td>5.0</td>\n",
       "      <td>Makes cupcake frosting easy</td>\n",
       "      <td>If you make lots of cupcakes, or just make cup...</td>\n",
       "      <td>2014-05-21</td>\n",
       "      <td>2014</td>\n",
       "    </tr>\n",
       "    <tr>\n",
       "      <th>52610</th>\n",
       "      <td>A2B6OOX5ZF4RCY</td>\n",
       "      <td>B000BVHG14</td>\n",
       "      <td>Cray M. Rader \"PennaDutchBoy\"</td>\n",
       "      <td>Ateco 6-Piece Pastry Tube and Tips Set</td>\n",
       "      <td>4.0</td>\n",
       "      <td>Great</td>\n",
       "      <td>As I say about other Ateco  item, these are gr...</td>\n",
       "      <td>2014-04-14</td>\n",
       "      <td>2014</td>\n",
       "    </tr>\n",
       "    <tr>\n",
       "      <th>52611</th>\n",
       "      <td>A2H35SLFQIH6SN</td>\n",
       "      <td>B000BWY314</td>\n",
       "      <td>Windfall71</td>\n",
       "      <td>Ball Regular Mouth Lids and Bands - 12 pack</td>\n",
       "      <td>5.0</td>\n",
       "      <td>Exactly what they should be</td>\n",
       "      <td>I loose the silly bands and lids all of the ti...</td>\n",
       "      <td>2014-01-15</td>\n",
       "      <td>2014</td>\n",
       "    </tr>\n",
       "    <tr>\n",
       "      <th>52612</th>\n",
       "      <td>ADU6LGFXOO4XF</td>\n",
       "      <td>B001VDTZXS</td>\n",
       "      <td>Annamarie Lubow \"Anna\"</td>\n",
       "      <td>Sunbeam Microplush Throw Camelot Cuddler Heate...</td>\n",
       "      <td>5.0</td>\n",
       "      <td>Using it right now...</td>\n",
       "      <td>This has been a cold as heck winter and this l...</td>\n",
       "      <td>2014-01-16</td>\n",
       "      <td>2014</td>\n",
       "    </tr>\n",
       "    <tr>\n",
       "      <th>52613</th>\n",
       "      <td>A3U4K766N97DM1</td>\n",
       "      <td>B000BWY314</td>\n",
       "      <td>Michael</td>\n",
       "      <td>Ball Regular Mouth Lids and Bands - 12 pack</td>\n",
       "      <td>5.0</td>\n",
       "      <td>Great set</td>\n",
       "      <td>I use these on my Libby Country Fair Mason Jar...</td>\n",
       "      <td>2014-01-27</td>\n",
       "      <td>2014</td>\n",
       "    </tr>\n",
       "    <tr>\n",
       "      <th>52614</th>\n",
       "      <td>A3FQ4WV6LCWVDM</td>\n",
       "      <td>B000BWY314</td>\n",
       "      <td>Hard Rock Girl \"Hard Rock Girl\"</td>\n",
       "      <td>Ball Regular Mouth Lids and Bands - 12 pack</td>\n",
       "      <td>5.0</td>\n",
       "      <td>Five Stars</td>\n",
       "      <td>Work great...got them for my mason jars for my...</td>\n",
       "      <td>2014-07-03</td>\n",
       "      <td>2014</td>\n",
       "    </tr>\n",
       "    <tr>\n",
       "      <th>52615</th>\n",
       "      <td>A2DQQUEPK53ORW</td>\n",
       "      <td>B000BWY314</td>\n",
       "      <td>handicapped shopper</td>\n",
       "      <td>Ball Regular Mouth Lids and Bands - 12 pack</td>\n",
       "      <td>5.0</td>\n",
       "      <td>Great!</td>\n",
       "      <td>I use these all the time with my FoodSaver. I ...</td>\n",
       "      <td>2014-02-27</td>\n",
       "      <td>2014</td>\n",
       "    </tr>\n",
       "    <tr>\n",
       "      <th>52616</th>\n",
       "      <td>ANCOMAI0I7LVG</td>\n",
       "      <td>B0087SPTLC</td>\n",
       "      <td>NaN</td>\n",
       "      <td>Primula Coffee Brew Buddy Single Cup Coffee Ma...</td>\n",
       "      <td>5.0</td>\n",
       "      <td>The perfect cup, every time!</td>\n",
       "      <td>I have to admit, I was very skeptical about th...</td>\n",
       "      <td>2014-01-02</td>\n",
       "      <td>2014</td>\n",
       "    </tr>\n",
       "    <tr>\n",
       "      <th>52617</th>\n",
       "      <td>A8KM4YOB8FGGH</td>\n",
       "      <td>B0087SPTLC</td>\n",
       "      <td>Jodi \"languagejunkie\"</td>\n",
       "      <td>Primula Coffee Brew Buddy Single Cup Coffee Ma...</td>\n",
       "      <td>5.0</td>\n",
       "      <td>Pretty handy and makes pretty good coffee</td>\n",
       "      <td>So far no complaints here.  I've been using it...</td>\n",
       "      <td>2014-01-16</td>\n",
       "      <td>2014</td>\n",
       "    </tr>\n",
       "    <tr>\n",
       "      <th>52618</th>\n",
       "      <td>A225UWT247BBBH</td>\n",
       "      <td>B001VDTZXS</td>\n",
       "      <td>J. Blair</td>\n",
       "      <td>Sunbeam Microplush Throw Camelot Cuddler Heate...</td>\n",
       "      <td>5.0</td>\n",
       "      <td>No static, better than a space heater!</td>\n",
       "      <td>This black-white blanket is solid black on the...</td>\n",
       "      <td>2014-01-05</td>\n",
       "      <td>2014</td>\n",
       "    </tr>\n",
       "    <tr>\n",
       "      <th>52619</th>\n",
       "      <td>ANYG6MSV5HB7H</td>\n",
       "      <td>B001VPXEBU</td>\n",
       "      <td>B--SpendzAlot \"bradley\"</td>\n",
       "      <td>Hario MCPN-14B Water Brew Coffee Pot, 1000ml, ...</td>\n",
       "      <td>5.0</td>\n",
       "      <td>Great with a couple of design suggestions</td>\n",
       "      <td>The Hario is great for my cold-brewed coffee.S...</td>\n",
       "      <td>2014-01-26</td>\n",
       "      <td>2014</td>\n",
       "    </tr>\n",
       "    <tr>\n",
       "      <th>52620</th>\n",
       "      <td>AGVH2UVB4QZSS</td>\n",
       "      <td>B0087SPTLC</td>\n",
       "      <td>Avid Reader</td>\n",
       "      <td>Primula Coffee Brew Buddy Single Cup Coffee Ma...</td>\n",
       "      <td>5.0</td>\n",
       "      <td>Easy way to make a single cup of coffee</td>\n",
       "      <td>I like having one cup of decaf coffee a day, b...</td>\n",
       "      <td>2014-01-05</td>\n",
       "      <td>2014</td>\n",
       "    </tr>\n",
       "    <tr>\n",
       "      <th>52621</th>\n",
       "      <td>A2NX6MFZP8TM6S</td>\n",
       "      <td>B0087SPTLC</td>\n",
       "      <td>Deanokat</td>\n",
       "      <td>Primula Coffee Brew Buddy Single Cup Coffee Ma...</td>\n",
       "      <td>5.0</td>\n",
       "      <td>Brew Buddy Is the Bomb</td>\n",
       "      <td>I love this little filter. It's easy to use, e...</td>\n",
       "      <td>2014-01-04</td>\n",
       "      <td>2014</td>\n",
       "    </tr>\n",
       "    <tr>\n",
       "      <th>52622</th>\n",
       "      <td>A1JBBR4MNGQ70G</td>\n",
       "      <td>B0087SPTLC</td>\n",
       "      <td>Falkor The White Luck Dragon</td>\n",
       "      <td>Primula Coffee Brew Buddy Single Cup Coffee Ma...</td>\n",
       "      <td>4.0</td>\n",
       "      <td>Quick,Decent Cup Of Coffee Without Filters</td>\n",
       "      <td>The big advantage to this single cup coffee ma...</td>\n",
       "      <td>2014-01-05</td>\n",
       "      <td>2014</td>\n",
       "    </tr>\n",
       "    <tr>\n",
       "      <th>52623</th>\n",
       "      <td>A3NHUQ33CFH3VM</td>\n",
       "      <td>B001VPXEBU</td>\n",
       "      <td>Citizen John</td>\n",
       "      <td>Hario MCPN-14B Water Brew Coffee Pot, 1000ml, ...</td>\n",
       "      <td>5.0</td>\n",
       "      <td>Not as bad as some say</td>\n",
       "      <td>The first thing to note is that this is thin g...</td>\n",
       "      <td>2014-04-03</td>\n",
       "      <td>2014</td>\n",
       "    </tr>\n",
       "    <tr>\n",
       "      <th>52624</th>\n",
       "      <td>A2WZNM833CJH82</td>\n",
       "      <td>B0087SPTLC</td>\n",
       "      <td>Grandma</td>\n",
       "      <td>Primula Coffee Brew Buddy Single Cup Coffee Ma...</td>\n",
       "      <td>1.0</td>\n",
       "      <td>Messy</td>\n",
       "      <td>Sometimes you just need a single cup of coffee...</td>\n",
       "      <td>2014-01-06</td>\n",
       "      <td>2014</td>\n",
       "    </tr>\n",
       "    <tr>\n",
       "      <th>52625</th>\n",
       "      <td>A1QBOC76MIOJYP</td>\n",
       "      <td>B000BVZ5X0</td>\n",
       "      <td>MyPenName</td>\n",
       "      <td>KitchenAid KHM5APWH 5-Speed Ultra Power Hand M...</td>\n",
       "      <td>4.0</td>\n",
       "      <td>Boysenberry color</td>\n",
       "      <td>I bought this mixer in the Boysenberry color f...</td>\n",
       "      <td>2014-04-28</td>\n",
       "      <td>2014</td>\n",
       "    </tr>\n",
       "    <tr>\n",
       "      <th>52626</th>\n",
       "      <td>A3EGFSX6FQHWQ1</td>\n",
       "      <td>B003M8GMZ4</td>\n",
       "      <td>Mimi</td>\n",
       "      <td>OXO Good Grips Bag CInch, 3-Count, 1 Each: Red...</td>\n",
       "      <td>4.0</td>\n",
       "      <td>They Work</td>\n",
       "      <td>Yes, this item works for smaller type bags suc...</td>\n",
       "      <td>2014-03-16</td>\n",
       "      <td>2014</td>\n",
       "    </tr>\n",
       "  </tbody>\n",
       "</table>\n",
       "<p>52627 rows × 9 columns</p>\n",
       "</div>"
      ],
      "text/plain": [
       "           reviewerID        asin  \\\n",
       "0      A281NPSIMI1C2R  B00004SPEU   \n",
       "1      A281NPSIMI1C2R  B00004SPZV   \n",
       "2      A281NPSIMI1C2R  B00000JGRT   \n",
       "3      A3A15L96IYUO6V  B00004OCJW   \n",
       "4       ALR35EFI69S5R  B00004OCKO   \n",
       "5      A281NPSIMI1C2R  B00004S7YH   \n",
       "6      A1KXONFPU2XQ5K  B00004S9BY   \n",
       "7       A1RPTVW5VEOSI  B00004OCKG   \n",
       "8      A1QPAGGX9FDQXM  B00004SGF0   \n",
       "9      A2TXMYYGSZCSZ1  B00004OCL8   \n",
       "10     A17SZZO9LM3WYC  B00000JGRT   \n",
       "11     A3A15L96IYUO6V  B00004OCIX   \n",
       "12     A3S87ZOPB3UM9N  B00004SGFV   \n",
       "13     A1M2T0J45TTE64  B00004SGFI   \n",
       "14     A231WM2Z2JL0U3  B00004RDF0   \n",
       "15     A3CG6YLYZJXQG4  B00004S56Y   \n",
       "16     A1KXONFPU2XQ5K  B00004SU35   \n",
       "17      ARXU3FESTWMJJ  B00004SGG6   \n",
       "18     A281NPSIMI1C2R  B00004S9D3   \n",
       "19     A1QPAGGX9FDQXM  B00004RIZ7   \n",
       "20     A3S87ZOPB3UM9N  B00004SPZV   \n",
       "21      ALR35EFI69S5R  B00004R93Z   \n",
       "22     A281NPSIMI1C2R  B00004UE7F   \n",
       "23     A281NPSIMI1C2R  B00004OCKR   \n",
       "24     A231WM2Z2JL0U3  B00004S7V8   \n",
       "25     A281NPSIMI1C2R  B00004OCJO   \n",
       "26     A3HRBWBN7DH9XV  B00004S9GX   \n",
       "27     A1M2T0J45TTE64  B00004S9H9   \n",
       "28     A2EDWI5EGP4V9N  B00000JGRT   \n",
       "29     A3S87ZOPB3UM9N  B00004SGG6   \n",
       "...               ...         ...   \n",
       "52597  A380P8LHEL3DZ9  B0087UYR1S   \n",
       "52598  A2PVL5RKAROYVN  B001VZ5E40   \n",
       "52599  A2VBTN6ZR67YOF  B004N4D8X0   \n",
       "52600   ANWB7D10LPJFU  B0087UYR1S   \n",
       "52601  A2AIRFEAWEQC91  B0087UYR1S   \n",
       "52602  A2MDBSMYDZH9VR  B0087UYR1S   \n",
       "52603  A2ZNIKXT764IV4  B0087UYR1S   \n",
       "52604  A3E3MISWTTTNLK  B0087UYR1S   \n",
       "52605  A39WLAM38IEBWM  B000BUDE5M   \n",
       "52606  A1905GXW39DYA3  B000BUDE5M   \n",
       "52607  A2V2N6LUDMD1UG  B001VZ5E40   \n",
       "52608  A1DH3QDZX8Z7GO  B0087Q1T1S   \n",
       "52609  A333XOKAY0TC1V  B000BVHG14   \n",
       "52610  A2B6OOX5ZF4RCY  B000BVHG14   \n",
       "52611  A2H35SLFQIH6SN  B000BWY314   \n",
       "52612   ADU6LGFXOO4XF  B001VDTZXS   \n",
       "52613  A3U4K766N97DM1  B000BWY314   \n",
       "52614  A3FQ4WV6LCWVDM  B000BWY314   \n",
       "52615  A2DQQUEPK53ORW  B000BWY314   \n",
       "52616   ANCOMAI0I7LVG  B0087SPTLC   \n",
       "52617   A8KM4YOB8FGGH  B0087SPTLC   \n",
       "52618  A225UWT247BBBH  B001VDTZXS   \n",
       "52619   ANYG6MSV5HB7H  B001VPXEBU   \n",
       "52620   AGVH2UVB4QZSS  B0087SPTLC   \n",
       "52621  A2NX6MFZP8TM6S  B0087SPTLC   \n",
       "52622  A1JBBR4MNGQ70G  B0087SPTLC   \n",
       "52623  A3NHUQ33CFH3VM  B001VPXEBU   \n",
       "52624  A2WZNM833CJH82  B0087SPTLC   \n",
       "52625  A1QBOC76MIOJYP  B000BVZ5X0   \n",
       "52626  A3EGFSX6FQHWQ1  B003M8GMZ4   \n",
       "\n",
       "                                           reviewerName  \\\n",
       "0                Rebecca of Amazon \"The Rebecca Review\"   \n",
       "1                Rebecca of Amazon \"The Rebecca Review\"   \n",
       "2                Rebecca of Amazon \"The Rebecca Review\"   \n",
       "3                                         Michael Smith   \n",
       "4                          Barron Laycock \"Labradorman\"   \n",
       "5                Rebecca of Amazon \"The Rebecca Review\"   \n",
       "6                                      Stephanie Manley   \n",
       "7                                    Michael J. Edelman   \n",
       "8                                               Michela   \n",
       "9                                  annie \"grannieannie\"   \n",
       "10            Mayflower Girl \"amazon-junkie since 1996\"   \n",
       "11                                        Michael Smith   \n",
       "12                                                 atmj   \n",
       "13                                            G. Powell   \n",
       "14                                              Rheumor   \n",
       "15                               Tracy Rowan \"dargelos\"   \n",
       "16                                     Stephanie Manley   \n",
       "17        Mary Jo Sminkey \"15 years of Amazon Reviews!\"   \n",
       "18               Rebecca of Amazon \"The Rebecca Review\"   \n",
       "19                                              Michela   \n",
       "20                                                 atmj   \n",
       "21                         Barron Laycock \"Labradorman\"   \n",
       "22               Rebecca of Amazon \"The Rebecca Review\"   \n",
       "23               Rebecca of Amazon \"The Rebecca Review\"   \n",
       "24                                              Rheumor   \n",
       "25               Rebecca of Amazon \"The Rebecca Review\"   \n",
       "26                          JK \"johnrktx@sbcglobal.net\"   \n",
       "27                                            G. Powell   \n",
       "28                                          sharkychick   \n",
       "29                                                 atmj   \n",
       "...                                                 ...   \n",
       "52597                              Eve UrAlly \"Ur Ally\"   \n",
       "52598                                       ilaj \"ilaj\"   \n",
       "52599                                       Mike Jacobs   \n",
       "52600                                 John P. Salvaggio   \n",
       "52601                                         Lady Lola   \n",
       "52602                                            SubDeb   \n",
       "52603                                    Sue \"suezieqt\"   \n",
       "52604                                        Todd March   \n",
       "52605  Trai Tao Thom USA \"NUHOANGTHANHNUTRAITAOTHOMUSA\"   \n",
       "52606                                       J. Thompson   \n",
       "52607                                            jrob63   \n",
       "52608                                       Charlemange   \n",
       "52609                                    Bolanle \"Bola\"   \n",
       "52610                     Cray M. Rader \"PennaDutchBoy\"   \n",
       "52611                                        Windfall71   \n",
       "52612                            Annamarie Lubow \"Anna\"   \n",
       "52613                                           Michael   \n",
       "52614                   Hard Rock Girl \"Hard Rock Girl\"   \n",
       "52615                               handicapped shopper   \n",
       "52616                                               NaN   \n",
       "52617                             Jodi \"languagejunkie\"   \n",
       "52618                                          J. Blair   \n",
       "52619                           B--SpendzAlot \"bradley\"   \n",
       "52620                                       Avid Reader   \n",
       "52621                                          Deanokat   \n",
       "52622                      Falkor The White Luck Dragon   \n",
       "52623                                      Citizen John   \n",
       "52624                                           Grandma   \n",
       "52625                                         MyPenName   \n",
       "52626                                              Mimi   \n",
       "\n",
       "                                            productTitle  overall  \\\n",
       "0      KRUPS F20342 Electric Spice and Coffee Grinder...      5.0   \n",
       "1               Misto Brushed Aluminum Olive Oil Sprayer      3.0   \n",
       "2      Cuisinart ICE-20 Automatic 1-1/2-Quart Ice Cre...      5.0   \n",
       "3                 OXO Good Grips Soft Handled Can Opener      5.0   \n",
       "4                 OXO Good Grips Winged Corkscrew, Black      5.0   \n",
       "5                        Wilton 2104-7778 Master Tip Set      4.0   \n",
       "6                  Cuisinart BDH-2 Blade and Disc Holder      4.0   \n",
       "7                      OXO Good Grips Locking Can Opener      5.0   \n",
       "8      KitchenAid KHM5DH 5-Speed Ultra Power Hand Mix...      5.0   \n",
       "9                        OXO Good Grips Flexible Spatula      5.0   \n",
       "10     Cuisinart ICE-20 Automatic 1-1/2-Quart Ice Cre...      5.0   \n",
       "11                OXO Good Grips Ice Cream Scoop - Point      3.0   \n",
       "12     KitchenAid KPS2CL Pouring Shield for 4-1/2 and...      5.0   \n",
       "13     KitchenAid FT Food Tray Attachment for Stand M...      5.0   \n",
       "14     Lello 4080 Musso Lussino 1.5-Quart Ice Cream M...      5.0   \n",
       "15     Zojirushi BBCC-V20 Home Bakery Traditional Bre...      5.0   \n",
       "16     Wabash Valley Farms 25008 Whirley-Pop Stovetop...      5.0   \n",
       "17     KitchenAid KSM90PS 300-Watt Ultra Power 4-1/2-...      5.0   \n",
       "18     Cuisinart ICE-RFB 1-1/2-Quart Additional Freez...      5.0   \n",
       "19             Progressive Stainless Steel Mesh Tea Ball      4.0   \n",
       "20              Misto Brushed Aluminum Olive Oil Sprayer      3.0   \n",
       "21                   George Foreman GR10AWHT Champ Grill      5.0   \n",
       "22                          Norpro Honey Syrup Dispenser      3.0   \n",
       "23                         OXO Good Grips  Salad Spinner      5.0   \n",
       "24                Microplane 40020 Classic Zester/Grater      5.0   \n",
       "25                           OXO Good Grips Lemon Zester      5.0   \n",
       "26     Braun MR430HC Multiquick Deluxe Hand Blender &...      5.0   \n",
       "27       Lodge Original Finish 12-Inch Cast Iron Skillet      5.0   \n",
       "28     Cuisinart ICE-20 Automatic 1-1/2-Quart Ice Cre...      5.0   \n",
       "29     KitchenAid KSM90PS 300-Watt Ultra Power 4-1/2-...      5.0   \n",
       "...                                                  ...      ...   \n",
       "52597  KnappMade CM Scrubber - Chain Mail Cast Iron P...      5.0   \n",
       "52598  Winco MS3A-8S Strainer with Single Fine Mesh, ...      4.0   \n",
       "52599  Malouf Fine Linens&reg; 600 Thread Count GENUI...      5.0   \n",
       "52600  KnappMade CM Scrubber - Chain Mail Cast Iron P...      5.0   \n",
       "52601  KnappMade CM Scrubber - Chain Mail Cast Iron P...      5.0   \n",
       "52602  KnappMade CM Scrubber - Chain Mail Cast Iron P...      5.0   \n",
       "52603  KnappMade CM Scrubber - Chain Mail Cast Iron P...      1.0   \n",
       "52604  KnappMade CM Scrubber - Chain Mail Cast Iron P...      4.0   \n",
       "52605      Endurance Egg Spoons Stainless Steel Set of 4      4.0   \n",
       "52606      Endurance Egg Spoons Stainless Steel Set of 4      5.0   \n",
       "52607  Winco MS3A-8S Strainer with Single Fine Mesh, ...      4.0   \n",
       "52608                               Blendtec Twister Jar      5.0   \n",
       "52609             Ateco 6-Piece Pastry Tube and Tips Set      5.0   \n",
       "52610             Ateco 6-Piece Pastry Tube and Tips Set      4.0   \n",
       "52611        Ball Regular Mouth Lids and Bands - 12 pack      5.0   \n",
       "52612  Sunbeam Microplush Throw Camelot Cuddler Heate...      5.0   \n",
       "52613        Ball Regular Mouth Lids and Bands - 12 pack      5.0   \n",
       "52614        Ball Regular Mouth Lids and Bands - 12 pack      5.0   \n",
       "52615        Ball Regular Mouth Lids and Bands - 12 pack      5.0   \n",
       "52616  Primula Coffee Brew Buddy Single Cup Coffee Ma...      5.0   \n",
       "52617  Primula Coffee Brew Buddy Single Cup Coffee Ma...      5.0   \n",
       "52618  Sunbeam Microplush Throw Camelot Cuddler Heate...      5.0   \n",
       "52619  Hario MCPN-14B Water Brew Coffee Pot, 1000ml, ...      5.0   \n",
       "52620  Primula Coffee Brew Buddy Single Cup Coffee Ma...      5.0   \n",
       "52621  Primula Coffee Brew Buddy Single Cup Coffee Ma...      5.0   \n",
       "52622  Primula Coffee Brew Buddy Single Cup Coffee Ma...      4.0   \n",
       "52623  Hario MCPN-14B Water Brew Coffee Pot, 1000ml, ...      5.0   \n",
       "52624  Primula Coffee Brew Buddy Single Cup Coffee Ma...      1.0   \n",
       "52625  KitchenAid KHM5APWH 5-Speed Ultra Power Hand M...      4.0   \n",
       "52626  OXO Good Grips Bag CInch, 3-Count, 1 Each: Red...      4.0   \n",
       "\n",
       "                                                 summary  \\\n",
       "0                          I use mine to grind spices :)   \n",
       "1                             Good, but a bit of work ;)   \n",
       "2                     Ice Cream keeps us warm in winter?   \n",
       "3                                       Great can opener   \n",
       "4      Quick, Easy &amp; Effective help For WIne Klut...   \n",
       "5                                 The perfect basic set!   \n",
       "6                       Nice addition to food processor.   \n",
       "7           Yes, a can opener you can get excited about!   \n",
       "8                             Best Choice for Hand Mixer   \n",
       "9                     A Must Have for All Cookie Bakers!   \n",
       "10                     Simple to Use!  Fabulous Results!   \n",
       "11                    Good, ice cream is hard to get out   \n",
       "12             I don't know what I would do without this   \n",
       "13                                 No photo description:   \n",
       "14                                  A Ferrari in silver.   \n",
       "15                                     Worth every cent!   \n",
       "16                        Miss the taste of real butter?   \n",
       "17                                 Every cook needs one!   \n",
       "18                                    So many more uses!   \n",
       "19                          Too Large for One Cup of Tea   \n",
       "20                                   A bit disappointing   \n",
       "21                         No Hype; This Grill Is Great!   \n",
       "22                               Better for Maple Syrup!   \n",
       "23                               Salad spinners unite :)   \n",
       "24                                        Nice Surprise!   \n",
       "25                                    Lemon Meringue Pie   \n",
       "26         A Unique Appliance, NOT A Blender Substitute!   \n",
       "27     Best fry pan for browning meat/onions and saut...   \n",
       "28                                 Fabulous! Easy! Fast!   \n",
       "29                                     I love this mixer   \n",
       "...                                                  ...   \n",
       "52597                                          It Works!   \n",
       "52598                                       Handy sifter   \n",
       "52599  Excellent complient to the Malouf 600 sheet se...   \n",
       "52600                                           Scrubbah   \n",
       "52601              This is a great product for cast iron   \n",
       "52602           Does a fantastic job on all my cast iron   \n",
       "52603                                     Waste of money   \n",
       "52604  Fine Cleaner, but be delicate with carbon stee...   \n",
       "52605  THIS SPOONS ARE NOT RIGHT SIZE FOR TO EAT SOFT...   \n",
       "52606                                               Nice   \n",
       "52607                                        Great Price   \n",
       "52608                                   Great for pestos   \n",
       "52609                        Makes cupcake frosting easy   \n",
       "52610                                              Great   \n",
       "52611                        Exactly what they should be   \n",
       "52612                              Using it right now...   \n",
       "52613                                          Great set   \n",
       "52614                                         Five Stars   \n",
       "52615                                             Great!   \n",
       "52616                       The perfect cup, every time!   \n",
       "52617          Pretty handy and makes pretty good coffee   \n",
       "52618             No static, better than a space heater!   \n",
       "52619          Great with a couple of design suggestions   \n",
       "52620            Easy way to make a single cup of coffee   \n",
       "52621                             Brew Buddy Is the Bomb   \n",
       "52622         Quick,Decent Cup Of Coffee Without Filters   \n",
       "52623                             Not as bad as some say   \n",
       "52624                                              Messy   \n",
       "52625                                  Boysenberry color   \n",
       "52626                                          They Work   \n",
       "\n",
       "                                              reviewText reviewTime  Year  \n",
       "0      I guess since I am not using this product ever... 2000-12-17  2000  \n",
       "1      When I first filled this sprayer and gave it a... 2000-11-20  2000  \n",
       "2      After several failed attempts, I began to wond... 2000-09-28  2000  \n",
       "3      This is a great and easy to use can opener. Th... 2000-05-26  2000  \n",
       "4      My lady friend got me a couple of these recent... 2000-08-04  2000  \n",
       "5      I love this set of decorating tips.  The only ... 2000-10-06  2000  \n",
       "6      This is a handy addition to the food processor... 2000-09-05  2000  \n",
       "7      Who'd think a cheap kitchen tool could excite ... 2000-05-04  2000  \n",
       "8      When it was time for me to buy a new hand mixe... 2000-12-23  2000  \n",
       "9      This is the spatula you've been looking for!  ... 2000-11-12  2000  \n",
       "10     I ordered the Cuisinart Ice Cream maker after ... 2000-07-17  2000  \n",
       "11     When scooping ice cream (or frozen yogurt), so... 2000-05-21  2000  \n",
       "12     This is a cool feature for this mixer.I use it... 2000-11-18  2000  \n",
       "13     Since there isn't a photo of this food tray, I... 2000-05-10  2000  \n",
       "14     Fast, sleek, sculpted and expensive.....now th... 2000-11-06  2000  \n",
       "15     I don't know about anyone else but those cylin... 2000-12-31  2000  \n",
       "16     Do you remember when pop corn didn't come out ... 2000-10-03  2000  \n",
       "17     Some of my best memories growing up were my Mo... 2000-08-23  2000  \n",
       "18     While I do have the ice cream maker, I ordered... 2000-12-19  2000  \n",
       "19     This stainless steel mesh tea ball is 2-inches... 2000-12-23  2000  \n",
       "20     I had high hopes for this item as I wholly emb... 2000-09-05  2000  \n",
       "21     Even grizzled old mountain men like me get tir... 2000-08-20  2000  \n",
       "22     While I do keep honey in it, the opening at th... 2000-10-10  2000  \n",
       "23     If you want to get a bit fancy with your salad... 2000-10-07  2000  \n",
       "24     I bought this as a 'stocking stuffer' for Moth... 2000-09-05  2000  \n",
       "25     When I first heard about a zester, I was intri... 2000-09-28  2000  \n",
       "26     I've had stick blenders for many years and use... 2000-05-23  2000  \n",
       "27     Cast iron fry pans are the best choice for fry... 2000-08-23  2000  \n",
       "28     If you think that you cannot make good ice cre... 2000-09-27  2000  \n",
       "29     I have had my cobalt blue mixer for about 6 ye... 2000-11-18  2000  \n",
       "...                                                  ...        ...   ...  \n",
       "52597  It was reviewed on Cooks Illustrated. Hubby th... 2014-05-30  2014  \n",
       "52598  I got this for sifting flours when baking.  It... 2014-01-08  2014  \n",
       "52599  We really loved these on the first use and res... 2014-04-27  2014  \n",
       "52600  It scrubs cast iron cookware. gets dirty quick... 2014-04-23  2014  \n",
       "52601  How ingenious this is. It scrubs my cast iron ... 2014-02-01  2014  \n",
       "52602  Even with the reviews I was not sure about thi... 2014-07-08  2014  \n",
       "52603  I am always willing to try something new to cl... 2014-02-22  2014  \n",
       "52604  I bought this mainly for my carbon steel cookw... 2014-07-05  2014  \n",
       "52605  THIS IS NOT RIGHT ONE FOR TO EAT SOFT EGG BUT ... 2014-03-10  2014  \n",
       "52606  I really liked these spoons.  I use them for m... 2014-02-19  2014  \n",
       "52607  Great price for this wooden handled strainer. ... 2014-02-04  2014  \n",
       "52608  This is a nice addition to anyone's Blendtec m... 2014-04-05  2014  \n",
       "52609  If you make lots of cupcakes, or just make cup... 2014-05-21  2014  \n",
       "52610  As I say about other Ateco  item, these are gr... 2014-04-14  2014  \n",
       "52611  I loose the silly bands and lids all of the ti... 2014-01-15  2014  \n",
       "52612  This has been a cold as heck winter and this l... 2014-01-16  2014  \n",
       "52613  I use these on my Libby Country Fair Mason Jar... 2014-01-27  2014  \n",
       "52614  Work great...got them for my mason jars for my... 2014-07-03  2014  \n",
       "52615  I use these all the time with my FoodSaver. I ... 2014-02-27  2014  \n",
       "52616  I have to admit, I was very skeptical about th... 2014-01-02  2014  \n",
       "52617  So far no complaints here.  I've been using it... 2014-01-16  2014  \n",
       "52618  This black-white blanket is solid black on the... 2014-01-05  2014  \n",
       "52619  The Hario is great for my cold-brewed coffee.S... 2014-01-26  2014  \n",
       "52620  I like having one cup of decaf coffee a day, b... 2014-01-05  2014  \n",
       "52621  I love this little filter. It's easy to use, e... 2014-01-04  2014  \n",
       "52622  The big advantage to this single cup coffee ma... 2014-01-05  2014  \n",
       "52623  The first thing to note is that this is thin g... 2014-04-03  2014  \n",
       "52624  Sometimes you just need a single cup of coffee... 2014-01-06  2014  \n",
       "52625  I bought this mixer in the Boysenberry color f... 2014-04-28  2014  \n",
       "52626  Yes, this item works for smaller type bags suc... 2014-03-16  2014  \n",
       "\n",
       "[52627 rows x 9 columns]"
      ]
     },
     "execution_count": 21,
     "metadata": {},
     "output_type": "execute_result"
    }
   ],
   "source": [
    "reviews20 = reviews20.sort_values(by='Year').reset_index(drop=True)\n",
    "reviews20"
   ]
  },
  {
   "cell_type": "code",
   "execution_count": 22,
   "metadata": {
    "scrolled": true
   },
   "outputs": [
    {
     "name": "stdout",
     "output_type": "stream",
     "text": [
      "No. of unique users:  66519\n",
      "No. of unique products:  28237\n",
      "Size of utility matrix: 66519 x 28237; 1878297003 cells\n",
      "Sparsity: 0.029%\n"
     ]
    }
   ],
   "source": [
    "check_matrix_sparsity(reviews)"
   ]
  },
  {
   "cell_type": "code",
   "execution_count": 23,
   "metadata": {},
   "outputs": [
    {
     "name": "stdout",
     "output_type": "stream",
     "text": [
      "No. of unique users:  2616\n",
      "No. of unique products:  6412\n",
      "Size of utility matrix: 2616 x 6412; 16773792 cells\n",
      "Sparsity: 3.289%\n"
     ]
    }
   ],
   "source": [
    "check_matrix_sparsity(reviews20)"
   ]
  },
  {
   "cell_type": "code",
   "execution_count": 152,
   "metadata": {},
   "outputs": [
    {
     "data": {
      "text/plain": [
       "2000"
      ]
     },
     "execution_count": 152,
     "metadata": {},
     "output_type": "execute_result"
    }
   ],
   "source": [
    "reviews20['Year'].min()"
   ]
  },
  {
   "cell_type": "code",
   "execution_count": 148,
   "metadata": {},
   "outputs": [
    {
     "data": {
      "text/plain": [
       "(52627, 9)"
      ]
     },
     "execution_count": 148,
     "metadata": {},
     "output_type": "execute_result"
    }
   ],
   "source": [
    "reviews20.shape"
   ]
  },
  {
   "cell_type": "code",
   "execution_count": 24,
   "metadata": {},
   "outputs": [
    {
     "data": {
      "text/html": [
       "<div>\n",
       "<style scoped>\n",
       "    .dataframe tbody tr th:only-of-type {\n",
       "        vertical-align: middle;\n",
       "    }\n",
       "\n",
       "    .dataframe tbody tr th {\n",
       "        vertical-align: top;\n",
       "    }\n",
       "\n",
       "    .dataframe thead th {\n",
       "        text-align: right;\n",
       "    }\n",
       "</style>\n",
       "<table border=\"1\" class=\"dataframe\">\n",
       "  <thead>\n",
       "    <tr style=\"text-align: right;\">\n",
       "      <th></th>\n",
       "      <th>reviewerID</th>\n",
       "      <th>asin</th>\n",
       "      <th>reviewerName</th>\n",
       "      <th>productTitle</th>\n",
       "      <th>overall</th>\n",
       "      <th>summary</th>\n",
       "      <th>reviewText</th>\n",
       "      <th>reviewTime</th>\n",
       "      <th>Year</th>\n",
       "    </tr>\n",
       "  </thead>\n",
       "  <tbody>\n",
       "    <tr>\n",
       "      <th>0</th>\n",
       "      <td>A281NPSIMI1C2R</td>\n",
       "      <td>B00004SPEU</td>\n",
       "      <td>Rebecca of Amazon \"The Rebecca Review\"</td>\n",
       "      <td>KRUPS F20342 Electric Spice and Coffee Grinder...</td>\n",
       "      <td>5.0</td>\n",
       "      <td>I use mine to grind spices :)</td>\n",
       "      <td>I guess since I am not using this product ever...</td>\n",
       "      <td>2000-12-17</td>\n",
       "      <td>2000</td>\n",
       "    </tr>\n",
       "    <tr>\n",
       "      <th>1</th>\n",
       "      <td>A281NPSIMI1C2R</td>\n",
       "      <td>B00004SPZV</td>\n",
       "      <td>Rebecca of Amazon \"The Rebecca Review\"</td>\n",
       "      <td>Misto Brushed Aluminum Olive Oil Sprayer</td>\n",
       "      <td>3.0</td>\n",
       "      <td>Good, but a bit of work ;)</td>\n",
       "      <td>When I first filled this sprayer and gave it a...</td>\n",
       "      <td>2000-11-20</td>\n",
       "      <td>2000</td>\n",
       "    </tr>\n",
       "    <tr>\n",
       "      <th>2</th>\n",
       "      <td>A281NPSIMI1C2R</td>\n",
       "      <td>B00000JGRT</td>\n",
       "      <td>Rebecca of Amazon \"The Rebecca Review\"</td>\n",
       "      <td>Cuisinart ICE-20 Automatic 1-1/2-Quart Ice Cre...</td>\n",
       "      <td>5.0</td>\n",
       "      <td>Ice Cream keeps us warm in winter?</td>\n",
       "      <td>After several failed attempts, I began to wond...</td>\n",
       "      <td>2000-09-28</td>\n",
       "      <td>2000</td>\n",
       "    </tr>\n",
       "    <tr>\n",
       "      <th>3</th>\n",
       "      <td>A3A15L96IYUO6V</td>\n",
       "      <td>B00004OCJW</td>\n",
       "      <td>Michael Smith</td>\n",
       "      <td>OXO Good Grips Soft Handled Can Opener</td>\n",
       "      <td>5.0</td>\n",
       "      <td>Great can opener</td>\n",
       "      <td>This is a great and easy to use can opener. Th...</td>\n",
       "      <td>2000-05-26</td>\n",
       "      <td>2000</td>\n",
       "    </tr>\n",
       "    <tr>\n",
       "      <th>4</th>\n",
       "      <td>ALR35EFI69S5R</td>\n",
       "      <td>B00004OCKO</td>\n",
       "      <td>Barron Laycock \"Labradorman\"</td>\n",
       "      <td>OXO Good Grips Winged Corkscrew, Black</td>\n",
       "      <td>5.0</td>\n",
       "      <td>Quick, Easy &amp;amp; Effective help For WIne Klut...</td>\n",
       "      <td>My lady friend got me a couple of these recent...</td>\n",
       "      <td>2000-08-04</td>\n",
       "      <td>2000</td>\n",
       "    </tr>\n",
       "  </tbody>\n",
       "</table>\n",
       "</div>"
      ],
      "text/plain": [
       "       reviewerID        asin                            reviewerName  \\\n",
       "0  A281NPSIMI1C2R  B00004SPEU  Rebecca of Amazon \"The Rebecca Review\"   \n",
       "1  A281NPSIMI1C2R  B00004SPZV  Rebecca of Amazon \"The Rebecca Review\"   \n",
       "2  A281NPSIMI1C2R  B00000JGRT  Rebecca of Amazon \"The Rebecca Review\"   \n",
       "3  A3A15L96IYUO6V  B00004OCJW                           Michael Smith   \n",
       "4   ALR35EFI69S5R  B00004OCKO            Barron Laycock \"Labradorman\"   \n",
       "\n",
       "                                        productTitle  overall  \\\n",
       "0  KRUPS F20342 Electric Spice and Coffee Grinder...      5.0   \n",
       "1           Misto Brushed Aluminum Olive Oil Sprayer      3.0   \n",
       "2  Cuisinart ICE-20 Automatic 1-1/2-Quart Ice Cre...      5.0   \n",
       "3             OXO Good Grips Soft Handled Can Opener      5.0   \n",
       "4             OXO Good Grips Winged Corkscrew, Black      5.0   \n",
       "\n",
       "                                             summary  \\\n",
       "0                      I use mine to grind spices :)   \n",
       "1                         Good, but a bit of work ;)   \n",
       "2                 Ice Cream keeps us warm in winter?   \n",
       "3                                   Great can opener   \n",
       "4  Quick, Easy &amp; Effective help For WIne Klut...   \n",
       "\n",
       "                                          reviewText reviewTime  Year  \n",
       "0  I guess since I am not using this product ever... 2000-12-17  2000  \n",
       "1  When I first filled this sprayer and gave it a... 2000-11-20  2000  \n",
       "2  After several failed attempts, I began to wond... 2000-09-28  2000  \n",
       "3  This is a great and easy to use can opener. Th... 2000-05-26  2000  \n",
       "4  My lady friend got me a couple of these recent... 2000-08-04  2000  "
      ]
     },
     "execution_count": 24,
     "metadata": {},
     "output_type": "execute_result"
    }
   ],
   "source": [
    "# split train and test\n",
    "reviews20.head()"
   ]
  },
  {
   "cell_type": "code",
   "execution_count": 25,
   "metadata": {},
   "outputs": [],
   "source": [
    "reviews20_pre2014 = reviews20[reviews20['Year'] != 2014]\n",
    "reviews20_2014 = reviews20[reviews20['Year'] == 2014]"
   ]
  },
  {
   "cell_type": "code",
   "execution_count": 26,
   "metadata": {},
   "outputs": [
    {
     "name": "stdout",
     "output_type": "stream",
     "text": [
      "No. of products before 2014:  6412\n",
      "No. of products in 2014:  3324\n",
      "Subset?  True\n"
     ]
    }
   ],
   "source": [
    "# checking if by removing 2014 users, are my product columns still the same? \n",
    "\n",
    "print('No. of products before 2014: ', len(set(reviews20_pre2014['asin'])))\n",
    "print('No. of products in 2014: ', len(set(reviews20_2014['asin'])))\n",
    "print('Subset? ', set(reviews20_2014['asin']).issubset(set(reviews20_pre2014['asin'])))"
   ]
  },
  {
   "cell_type": "markdown",
   "metadata": {},
   "source": [
    "### 3.4 Creating lookup dictionaries to match user-products and product-users\n",
    "This is to help in the retrieval of products bought by users"
   ]
  },
  {
   "cell_type": "code",
   "execution_count": 27,
   "metadata": {},
   "outputs": [],
   "source": [
    "# create a dictionary of user: products\n",
    "user_products_train = {}\n",
    "\n",
    "for row in reviews20_pre2014[['reviewerID','productTitle']].itertuples():\n",
    "    user_products_train.setdefault(row[1], set())\n",
    "    user_products_train[row[1]].add(row[2])\n",
    "    \n",
    "user_products_test = {}\n",
    "for row in reviews20_2014[['reviewerID','productTitle']].itertuples():\n",
    "    user_products_test.setdefault(row[1], set())\n",
    "    user_products_test[row[1]].add(row[2])"
   ]
  },
  {
   "cell_type": "code",
   "execution_count": 28,
   "metadata": {},
   "outputs": [],
   "source": [
    "# create another dictionary of products: users\n",
    "product_users_train = {}\n",
    "\n",
    "for row in reviews20_pre2014[['reviewerID','productTitle']].itertuples():\n",
    "    product_users_train.setdefault(row[2], set())\n",
    "    product_users_train[row[2]].add(row[1])\n",
    "    \n",
    "product_users_test = {}\n",
    "\n",
    "for row in reviews20_2014[['reviewerID','productTitle']].itertuples():\n",
    "    product_users_test.setdefault(row[2], set())\n",
    "    product_users_test[row[2]].add(row[1])"
   ]
  },
  {
   "cell_type": "markdown",
   "metadata": {},
   "source": [
    "### 3.5 Dropping irrelevant columns for modelling"
   ]
  },
  {
   "cell_type": "code",
   "execution_count": 29,
   "metadata": {},
   "outputs": [],
   "source": [
    "reviews20_pre2014 = reviews20[reviews20['Year'] != 2014][['reviewerID','asin','overall']]\n",
    "reviews20_2014 = reviews20[reviews20['Year'] == 2014][['reviewerID','asin','overall']]"
   ]
  },
  {
   "cell_type": "markdown",
   "metadata": {},
   "source": [
    "### 3.6 Generating User-Item Utility Matrix"
   ]
  },
  {
   "cell_type": "code",
   "execution_count": 30,
   "metadata": {},
   "outputs": [
    {
     "data": {
      "text/html": [
       "<div>\n",
       "<style scoped>\n",
       "    .dataframe tbody tr th:only-of-type {\n",
       "        vertical-align: middle;\n",
       "    }\n",
       "\n",
       "    .dataframe tbody tr th {\n",
       "        vertical-align: top;\n",
       "    }\n",
       "\n",
       "    .dataframe thead th {\n",
       "        text-align: right;\n",
       "    }\n",
       "</style>\n",
       "<table border=\"1\" class=\"dataframe\">\n",
       "  <thead>\n",
       "    <tr style=\"text-align: right;\">\n",
       "      <th>asin</th>\n",
       "      <th>0912696591</th>\n",
       "      <th>B00000JGRP</th>\n",
       "      <th>B00000JGRQ</th>\n",
       "      <th>B00000JGRT</th>\n",
       "      <th>B00002N5FO</th>\n",
       "      <th>B00002N5Z9</th>\n",
       "      <th>B00002N5ZB</th>\n",
       "      <th>B00002N601</th>\n",
       "      <th>B00002N602</th>\n",
       "      <th>B00002N6SQ</th>\n",
       "      <th>...</th>\n",
       "      <th>B00GEGHNZE</th>\n",
       "      <th>B00GSXFKYY</th>\n",
       "      <th>B00GTCAY04</th>\n",
       "      <th>B00H1HYZ9C</th>\n",
       "      <th>B00H1OUSD2</th>\n",
       "      <th>B00H5EZ982</th>\n",
       "      <th>B00H5F3GRW</th>\n",
       "      <th>B00I4V1U06</th>\n",
       "      <th>B00JM3VFVE</th>\n",
       "      <th>B00KQJ42CW</th>\n",
       "    </tr>\n",
       "    <tr>\n",
       "      <th>reviewerID</th>\n",
       "      <th></th>\n",
       "      <th></th>\n",
       "      <th></th>\n",
       "      <th></th>\n",
       "      <th></th>\n",
       "      <th></th>\n",
       "      <th></th>\n",
       "      <th></th>\n",
       "      <th></th>\n",
       "      <th></th>\n",
       "      <th></th>\n",
       "      <th></th>\n",
       "      <th></th>\n",
       "      <th></th>\n",
       "      <th></th>\n",
       "      <th></th>\n",
       "      <th></th>\n",
       "      <th></th>\n",
       "      <th></th>\n",
       "      <th></th>\n",
       "      <th></th>\n",
       "    </tr>\n",
       "  </thead>\n",
       "  <tbody>\n",
       "    <tr>\n",
       "      <th>A100L918633LUO</th>\n",
       "      <td>NaN</td>\n",
       "      <td>NaN</td>\n",
       "      <td>NaN</td>\n",
       "      <td>NaN</td>\n",
       "      <td>NaN</td>\n",
       "      <td>NaN</td>\n",
       "      <td>NaN</td>\n",
       "      <td>NaN</td>\n",
       "      <td>NaN</td>\n",
       "      <td>NaN</td>\n",
       "      <td>...</td>\n",
       "      <td>NaN</td>\n",
       "      <td>NaN</td>\n",
       "      <td>NaN</td>\n",
       "      <td>NaN</td>\n",
       "      <td>NaN</td>\n",
       "      <td>NaN</td>\n",
       "      <td>NaN</td>\n",
       "      <td>NaN</td>\n",
       "      <td>NaN</td>\n",
       "      <td>NaN</td>\n",
       "    </tr>\n",
       "    <tr>\n",
       "      <th>A100UD67AHFODS</th>\n",
       "      <td>NaN</td>\n",
       "      <td>NaN</td>\n",
       "      <td>NaN</td>\n",
       "      <td>NaN</td>\n",
       "      <td>NaN</td>\n",
       "      <td>NaN</td>\n",
       "      <td>NaN</td>\n",
       "      <td>NaN</td>\n",
       "      <td>NaN</td>\n",
       "      <td>NaN</td>\n",
       "      <td>...</td>\n",
       "      <td>NaN</td>\n",
       "      <td>NaN</td>\n",
       "      <td>NaN</td>\n",
       "      <td>NaN</td>\n",
       "      <td>NaN</td>\n",
       "      <td>NaN</td>\n",
       "      <td>NaN</td>\n",
       "      <td>NaN</td>\n",
       "      <td>NaN</td>\n",
       "      <td>NaN</td>\n",
       "    </tr>\n",
       "    <tr>\n",
       "      <th>A100WO06OQR8BQ</th>\n",
       "      <td>NaN</td>\n",
       "      <td>NaN</td>\n",
       "      <td>NaN</td>\n",
       "      <td>NaN</td>\n",
       "      <td>NaN</td>\n",
       "      <td>NaN</td>\n",
       "      <td>NaN</td>\n",
       "      <td>NaN</td>\n",
       "      <td>NaN</td>\n",
       "      <td>NaN</td>\n",
       "      <td>...</td>\n",
       "      <td>NaN</td>\n",
       "      <td>NaN</td>\n",
       "      <td>NaN</td>\n",
       "      <td>NaN</td>\n",
       "      <td>NaN</td>\n",
       "      <td>NaN</td>\n",
       "      <td>NaN</td>\n",
       "      <td>NaN</td>\n",
       "      <td>NaN</td>\n",
       "      <td>NaN</td>\n",
       "    </tr>\n",
       "    <tr>\n",
       "      <th>A1027WM3PXKVMR</th>\n",
       "      <td>NaN</td>\n",
       "      <td>NaN</td>\n",
       "      <td>NaN</td>\n",
       "      <td>NaN</td>\n",
       "      <td>NaN</td>\n",
       "      <td>NaN</td>\n",
       "      <td>NaN</td>\n",
       "      <td>NaN</td>\n",
       "      <td>NaN</td>\n",
       "      <td>NaN</td>\n",
       "      <td>...</td>\n",
       "      <td>NaN</td>\n",
       "      <td>NaN</td>\n",
       "      <td>NaN</td>\n",
       "      <td>NaN</td>\n",
       "      <td>NaN</td>\n",
       "      <td>NaN</td>\n",
       "      <td>NaN</td>\n",
       "      <td>NaN</td>\n",
       "      <td>NaN</td>\n",
       "      <td>NaN</td>\n",
       "    </tr>\n",
       "    <tr>\n",
       "      <th>A103BJIOJSDJL1</th>\n",
       "      <td>NaN</td>\n",
       "      <td>NaN</td>\n",
       "      <td>NaN</td>\n",
       "      <td>NaN</td>\n",
       "      <td>NaN</td>\n",
       "      <td>NaN</td>\n",
       "      <td>NaN</td>\n",
       "      <td>NaN</td>\n",
       "      <td>NaN</td>\n",
       "      <td>NaN</td>\n",
       "      <td>...</td>\n",
       "      <td>NaN</td>\n",
       "      <td>NaN</td>\n",
       "      <td>NaN</td>\n",
       "      <td>NaN</td>\n",
       "      <td>NaN</td>\n",
       "      <td>NaN</td>\n",
       "      <td>NaN</td>\n",
       "      <td>NaN</td>\n",
       "      <td>NaN</td>\n",
       "      <td>NaN</td>\n",
       "    </tr>\n",
       "  </tbody>\n",
       "</table>\n",
       "<p>5 rows × 6412 columns</p>\n",
       "</div>"
      ],
      "text/plain": [
       "asin            0912696591  B00000JGRP  B00000JGRQ  B00000JGRT  B00002N5FO  \\\n",
       "reviewerID                                                                   \n",
       "A100L918633LUO         NaN         NaN         NaN         NaN         NaN   \n",
       "A100UD67AHFODS         NaN         NaN         NaN         NaN         NaN   \n",
       "A100WO06OQR8BQ         NaN         NaN         NaN         NaN         NaN   \n",
       "A1027WM3PXKVMR         NaN         NaN         NaN         NaN         NaN   \n",
       "A103BJIOJSDJL1         NaN         NaN         NaN         NaN         NaN   \n",
       "\n",
       "asin            B00002N5Z9  B00002N5ZB  B00002N601  B00002N602  B00002N6SQ  \\\n",
       "reviewerID                                                                   \n",
       "A100L918633LUO         NaN         NaN         NaN         NaN         NaN   \n",
       "A100UD67AHFODS         NaN         NaN         NaN         NaN         NaN   \n",
       "A100WO06OQR8BQ         NaN         NaN         NaN         NaN         NaN   \n",
       "A1027WM3PXKVMR         NaN         NaN         NaN         NaN         NaN   \n",
       "A103BJIOJSDJL1         NaN         NaN         NaN         NaN         NaN   \n",
       "\n",
       "asin               ...      B00GEGHNZE  B00GSXFKYY  B00GTCAY04  B00H1HYZ9C  \\\n",
       "reviewerID         ...                                                       \n",
       "A100L918633LUO     ...             NaN         NaN         NaN         NaN   \n",
       "A100UD67AHFODS     ...             NaN         NaN         NaN         NaN   \n",
       "A100WO06OQR8BQ     ...             NaN         NaN         NaN         NaN   \n",
       "A1027WM3PXKVMR     ...             NaN         NaN         NaN         NaN   \n",
       "A103BJIOJSDJL1     ...             NaN         NaN         NaN         NaN   \n",
       "\n",
       "asin            B00H1OUSD2  B00H5EZ982  B00H5F3GRW  B00I4V1U06  B00JM3VFVE  \\\n",
       "reviewerID                                                                   \n",
       "A100L918633LUO         NaN         NaN         NaN         NaN         NaN   \n",
       "A100UD67AHFODS         NaN         NaN         NaN         NaN         NaN   \n",
       "A100WO06OQR8BQ         NaN         NaN         NaN         NaN         NaN   \n",
       "A1027WM3PXKVMR         NaN         NaN         NaN         NaN         NaN   \n",
       "A103BJIOJSDJL1         NaN         NaN         NaN         NaN         NaN   \n",
       "\n",
       "asin            B00KQJ42CW  \n",
       "reviewerID                  \n",
       "A100L918633LUO         NaN  \n",
       "A100UD67AHFODS         NaN  \n",
       "A100WO06OQR8BQ         NaN  \n",
       "A1027WM3PXKVMR         NaN  \n",
       "A103BJIOJSDJL1         NaN  \n",
       "\n",
       "[5 rows x 6412 columns]"
      ]
     },
     "execution_count": 30,
     "metadata": {},
     "output_type": "execute_result"
    }
   ],
   "source": [
    "user_utility_matrix = reviews20_pre2014.pivot_table(values='overall',index='reviewerID',columns='asin')\n",
    "user_utility_matrix.head()"
   ]
  },
  {
   "cell_type": "markdown",
   "metadata": {},
   "source": [
    "# 4. Modelling"
   ]
  },
  {
   "cell_type": "markdown",
   "metadata": {},
   "source": [
    "<a id='4.1.2'></a>\n",
    "#### 4.1.2 User-User Collaborative Filtering with Surprise Library"
   ]
  },
  {
   "cell_type": "code",
   "execution_count": 31,
   "metadata": {},
   "outputs": [],
   "source": [
    "def generate_predicted_ratings_matrix(utility_matrix):\n",
    "    \"\"\"\n",
    "    Predict ratings for every product-user combination in the train set with a given Surprise model (algo)\n",
    "    \"\"\"\n",
    "    predicted_ratings_matrix = (utility_matrix.fillna(0).stack().to_frame()\n",
    "                                .apply(lambda x: algo.predict(x.name[0], x.name[1]).est, axis=1).unstack())\n",
    "\n",
    "    return predicted_ratings_matrix"
   ]
  },
  {
   "cell_type": "code",
   "execution_count": 32,
   "metadata": {},
   "outputs": [],
   "source": [
    "def generate_recommendations(user_id, pred_matrix, n_recommended_items, \n",
    "                             return_recommendations_only=False, print_results=True):\n",
    "    \n",
    "    sorted_items = list(pred_matrix.T[user_id].sort_values().index)\n",
    "    \n",
    "    recommended_items = []\n",
    "    \n",
    "    while len(recommended_items) < n_recommended_items:\n",
    "        item = product_lookup[sorted_items.pop()]\n",
    "        if item not in user_products_train[user_id]:\n",
    "            recommended_items.append(item)\n",
    "    \n",
    "    user_purchase_history = user_products_train[user_id]\n",
    "    user_actual_purchase = user_products_test[user_id]\n",
    "    \n",
    "    if print_results == True:\n",
    "        print(\"==== User's Purchase History ====\")\n",
    "        for item in user_purchase_history:\n",
    "            print(item)\n",
    "\n",
    "        print(\"\\n==== User's Actual Purchase in 2014 ====\")\n",
    "        for item in user_actual_purchase:\n",
    "            print(item)   \n",
    "            \n",
    "        print(\"\\n==== Model's Top 10 Recommendations ====\")\n",
    "        for item in recommended_items:\n",
    "            print(item)\n",
    "    \n",
    "    if return_recommendations_only == True:\n",
    "        return recommended_items\n",
    "    else:\n",
    "        return recommended_items, user_purchase_history, user_actual_purchase"
   ]
  },
  {
   "cell_type": "code",
   "execution_count": 33,
   "metadata": {},
   "outputs": [],
   "source": [
    "def calculate_rmse(test_df):\n",
    "    \n",
    "    preds = test_df.copy()\n",
    "    preds['predicted'] = preds.apply(lambda row: algo.predict(row['reviewerID'],row['asin'])[3], axis=1)\n",
    "    \n",
    "    rmse = np.sqrt(mean_squared_error(preds['overall'], preds['predicted']))\n",
    "    \n",
    "    return rmse, preds"
   ]
  },
  {
   "cell_type": "code",
   "execution_count": 34,
   "metadata": {},
   "outputs": [],
   "source": [
    "def model_evaluation_recall(user_id, recommended_list):\n",
    "    \"\"\"\n",
    "    Returns the number/proportion of the model's recommended items that the user actually bought in the test set\n",
    "    Returns the proportion of the test set that was recommended by the model\n",
    "    (test & rec) / test\n",
    "    \"\"\"\n",
    "    item_intersection_count = len(set(recommended_list) & user_products_test[user_id])\n",
    "    \n",
    "    pct_recall = item_intersection_count / len(user_products_test[user_id])\n",
    "    \n",
    "    return pct_recall"
   ]
  },
  {
   "cell_type": "code",
   "execution_count": 67,
   "metadata": {},
   "outputs": [],
   "source": [
    "def model_evaluation_recall_cat(rec, actual, verbose=False):\n",
    "    \n",
    "    rec_categories = set([category_lookup_short[item] for item in rec])\n",
    "    actual_categories = set([category_lookup_short[item] for item in actual])\n",
    "    \n",
    "    overlap = rec_categories & actual_categories\n",
    "    pct_recall = len(overlap)/len(rec)\n",
    "    \n",
    "    if verbose==True:\n",
    "        print(overlap)\n",
    "    \n",
    "    return pct_recall"
   ]
  },
  {
   "cell_type": "code",
   "execution_count": 65,
   "metadata": {},
   "outputs": [],
   "source": [
    "def hybrid_recommendations(user_id, perc_svd=0.3, return_recommendations_only=False):\n",
    "    uu_rec, history, actual = generate_recommendations(user_id, \n",
    "                                                       pred_matrix = uucf_k3_pearsonbaseline_predicted_ratings_matrix,\n",
    "                                                       n_recommended_items = int(10*(1-perc_svd)),\n",
    "                                                       return_recommendations_only=False,\n",
    "                                                       print_results=False)\n",
    "    \n",
    "    svd_rec = generate_recommendations(user_id, \n",
    "                                       pred_matrix = svd_k40reg_predicted_ratings_matrix,\n",
    "                                       n_recommended_items = int(10*perc_svd),\n",
    "                                       return_recommendations_only=True,\n",
    "                                       print_results=False)\n",
    "    \n",
    "    final_rec = uu_rec + svd_rec\n",
    "    \n",
    "    if return_recommendations_only==False:\n",
    "        return final_rec, history, actual\n",
    "    else: \n",
    "        return final_rec"
   ]
  },
  {
   "cell_type": "code",
   "execution_count": 59,
   "metadata": {},
   "outputs": [],
   "source": [
    "def items_with_categories(list_of_products, user_id, pred_matrix, list_type='actual'):\n",
    "    \n",
    "    def categories_to_columns(row, cat_level):\n",
    "        try:\n",
    "            return row[cat_level]\n",
    "        except IndexError:\n",
    "            return np.nan\n",
    "        \n",
    "    def get_product_id(product_name):\n",
    "        return metadata[metadata['title']==product_name]['asin'].values[0]\n",
    "    \n",
    "    rec_cat = pd.DataFrame([[item, category_lookup[item]] for item in list_of_products], \n",
    "                           columns=['Product Names', 'Category Path'])\n",
    "    \n",
    "    rec_cat['Category Path'] = rec_cat['Category Path'].apply(\n",
    "        lambda x: [cat.strip() for cat in re.sub('[\\[\\]\\'\\\"]', '', x).split(',')])\n",
    "    \n",
    "    rec_cat['cat_1'] = rec_cat['Category Path'].apply(lambda x: categories_to_columns(x,1))\n",
    "\n",
    "    for i in range(1, 7):\n",
    "        rec_cat['cat_'+str(i)] = rec_cat['Category Path'].apply(lambda x: categories_to_columns(x, i-1))\n",
    "    \n",
    "    rec_cat = rec_cat[['Product Names', 'cat_2', 'cat_3', 'cat_4']].sort_values(by=['cat_2','cat_3','cat_4'])\n",
    "    \n",
    "    if list_type == 'recommended':\n",
    "        \n",
    "        rec_cat['ratings'] = rec_cat['Product Names'].apply(lambda x: pred_matrix.T[user_id][get_product_id(x)])\n",
    "        return rec_cat.sort_values(by='ratings', ascending=False)\n",
    "    \n",
    "    elif list_type == 'actual':\n",
    "        rec_cat['ratings'] = rec_cat['Product Names'].apply(lambda x: reviews20[(reviews20['productTitle']==x) & \n",
    "                                                                                (reviews20['reviewerID']==user_id)]['overall'].values[0])\n",
    "        return rec_cat"
   ]
  },
  {
   "cell_type": "code",
   "execution_count": 60,
   "metadata": {},
   "outputs": [],
   "source": [
    "def n_random_items(n):\n",
    "    return np.random.choice(metadata['title'].unique(),n)"
   ]
  },
  {
   "cell_type": "code",
   "execution_count": 61,
   "metadata": {},
   "outputs": [],
   "source": [
    "def print_product_images(product_list):\n",
    "    for item in product_list:\n",
    "        print('=== {} ==='.format(item))\n",
    "        display(Image(url=imgurl_lookup[item]))"
   ]
  },
  {
   "cell_type": "markdown",
   "metadata": {},
   "source": [
    "# Testing all models"
   ]
  },
  {
   "cell_type": "markdown",
   "metadata": {},
   "source": [
    "## UUCF, k=3, Pearson similarity"
   ]
  },
  {
   "cell_type": "code",
   "execution_count": 91,
   "metadata": {},
   "outputs": [
    {
     "name": "stdout",
     "output_type": "stream",
     "text": [
      "Computing the pearson similarity matrix...\n",
      "Done computing similarity matrix.\n"
     ]
    },
    {
     "data": {
      "text/plain": [
       "<surprise.prediction_algorithms.knns.KNNWithMeans at 0x133bb5f28>"
      ]
     },
     "execution_count": 91,
     "metadata": {},
     "output_type": "execute_result"
    }
   ],
   "source": [
    "reader = Reader(rating_scale=(1,5))\n",
    "data = Dataset.load_from_df(reviews20_pre2014[['reviewerID', 'asin', 'overall']], reader)\n",
    "trainset = data.build_full_trainset()\n",
    "\n",
    "algo = KNNWithMeans(k=3, sim_options={'name': 'pearson', 'user_based': True})\n",
    "algo.fit(trainset)"
   ]
  },
  {
   "cell_type": "code",
   "execution_count": 92,
   "metadata": {},
   "outputs": [],
   "source": [
    "uucf_k3_pearson_predicted_ratings_matrix = generate_predicted_ratings_matrix(user_utility_matrix)"
   ]
  },
  {
   "cell_type": "code",
   "execution_count": 93,
   "metadata": {},
   "outputs": [
    {
     "data": {
      "text/plain": [
       "1.0060736510510646"
      ]
     },
     "execution_count": 93,
     "metadata": {},
     "output_type": "execute_result"
    }
   ],
   "source": [
    "rmse, preds = calculate_rmse(reviews20_2014)\n",
    "rmse"
   ]
  },
  {
   "cell_type": "code",
   "execution_count": 94,
   "metadata": {},
   "outputs": [
    {
     "name": "stdout",
     "output_type": "stream",
     "text": [
      "End\n",
      "% of test with at least one item from recommended list:  0.009047365620010643\n",
      "Avg hit rate: 0.2833134142239754 ± 0.3023293818139499\n"
     ]
    }
   ],
   "source": [
    "min_1_hit = 0\n",
    "hit_rates = []\n",
    "\n",
    "for user in reviews20_2014['reviewerID'].unique():\n",
    "    \n",
    "    user_recall = model_evaluation_recall(user, generate_recommendations(user, \n",
    "                                                                         uucf_k3_pearson_predicted_ratings_matrix,\n",
    "                                                                         n_recommended_items=10,\n",
    "                                                                         return_recommendations_only=True, \n",
    "                                                                         print_results=False))\n",
    "    \n",
    "    if user_recall > 0:\n",
    "        min_1_hit += 1\n",
    "        hit_rates.append(user_recall)\n",
    "\n",
    "print('End')\n",
    "print('% of test with at least one item from recommended list: ', min_1_hit/len(reviews20_2014['reviewerID'].unique()))\n",
    "print('Avg hit rate: {} ± {}'.format(np.mean(hit_rates), np.std(hit_rates)))"
   ]
  },
  {
   "cell_type": "code",
   "execution_count": 95,
   "metadata": {},
   "outputs": [
    {
     "name": "stdout",
     "output_type": "stream",
     "text": [
      "End\n",
      "% of test with at least one item from recommended list:  0.26450239489089944\n",
      "Avg hit rate: 0.12092555331991954 ± 0.050795963128645115\n"
     ]
    }
   ],
   "source": [
    "min_1_hit = 0\n",
    "hit_rates = []\n",
    "\n",
    "for user in reviews20_2014['reviewerID'].unique():\n",
    "    \n",
    "    try:\n",
    "        rec, history, actual = generate_recommendations(user, \n",
    "                                                        uucf_k3_pearson_predicted_ratings_matrix,\n",
    "                                                        n_recommended_items=10,\n",
    "                                                        return_recommendations_only=False, \n",
    "                                                        print_results=False)\n",
    "\n",
    "        user_recall = model_evaluation_recall_cat(rec, actual)\n",
    "\n",
    "        if user_recall > 0:\n",
    "            min_1_hit += 1\n",
    "            hit_rates.append(user_recall)\n",
    "    \n",
    "    except KeyError:\n",
    "        continue\n",
    "\n",
    "print('End')\n",
    "print('% of test with at least one item from recommended list: ', min_1_hit/len(reviews20_2014['reviewerID'].unique()))\n",
    "print('Avg hit rate: {} ± {}'.format(np.mean(hit_rates), np.std(hit_rates)))"
   ]
  },
  {
   "cell_type": "code",
   "execution_count": 96,
   "metadata": {},
   "outputs": [],
   "source": [
    "rec, history, actual = generate_recommendations('A1S3C5OFU508P3',\n",
    "                                                uucf_k3_pearson_predicted_ratings_matrix,\n",
    "                                                10,\n",
    "                                                return_recommendations_only=False,\n",
    "                                                print_results=False)"
   ]
  },
  {
   "cell_type": "code",
   "execution_count": 97,
   "metadata": {},
   "outputs": [
    {
     "name": "stdout",
     "output_type": "stream",
     "text": [
      "=== Martex Bath Towels, White, 6-Pack ===\n"
     ]
    },
    {
     "data": {
      "text/html": [
       "<img src=\"http://ecx.images-amazon.com/images/I/4122%2B8SroiL._SY300_.jpg\"/>"
      ],
      "text/plain": [
       "<IPython.core.display.Image object>"
      ]
     },
     "metadata": {},
     "output_type": "display_data"
    },
    {
     "name": "stdout",
     "output_type": "stream",
     "text": [
      "=== Oster BRLY07-B 7-Speed Fusion Blender, Black ===\n"
     ]
    },
    {
     "data": {
      "text/html": [
       "<img src=\"http://ecx.images-amazon.com/images/I/41HTs5hiGoL._SY300_.jpg\"/>"
      ],
      "text/plain": [
       "<IPython.core.display.Image object>"
      ]
     },
     "metadata": {},
     "output_type": "display_data"
    },
    {
     "name": "stdout",
     "output_type": "stream",
     "text": [
      "=== Sleep Joy 3&quot; ViscO2 Ventilated Memory Foam Mattress Topper, Twin ===\n"
     ]
    },
    {
     "data": {
      "text/html": [
       "<img src=\"http://ecx.images-amazon.com/images/I/41ydpF7a3JL._SX300_.jpg\"/>"
      ],
      "text/plain": [
       "<IPython.core.display.Image object>"
      ]
     },
     "metadata": {},
     "output_type": "display_data"
    },
    {
     "name": "stdout",
     "output_type": "stream",
     "text": [
      "=== Whitmor 6070-267 Supreme 5-Tier Shelving Unit, Black ===\n"
     ]
    },
    {
     "data": {
      "text/html": [
       "<img src=\"http://ecx.images-amazon.com/images/I/41XZKaKZFML._SY300_.jpg\"/>"
      ],
      "text/plain": [
       "<IPython.core.display.Image object>"
      ]
     },
     "metadata": {},
     "output_type": "display_data"
    },
    {
     "name": "stdout",
     "output_type": "stream",
     "text": [
      "=== Farberware Classic Stainless Steel 8-Inch and 10-Inch Skillet Twin Pack ===\n"
     ]
    },
    {
     "data": {
      "text/html": [
       "<img src=\"http://ecx.images-amazon.com/images/I/41Jwl2PH8bL._SY300_.jpg\"/>"
      ],
      "text/plain": [
       "<IPython.core.display.Image object>"
      ]
     },
     "metadata": {},
     "output_type": "display_data"
    },
    {
     "name": "stdout",
     "output_type": "stream",
     "text": [
      "=== Replacement Filters for Aeropress (350 pk) ===\n"
     ]
    },
    {
     "data": {
      "text/html": [
       "<img src=\"http://ecx.images-amazon.com/images/I/41AXFwHrg1L._SY300_.jpg\"/>"
      ],
      "text/plain": [
       "<IPython.core.display.Image object>"
      ]
     },
     "metadata": {},
     "output_type": "display_data"
    },
    {
     "name": "stdout",
     "output_type": "stream",
     "text": [
      "=== Bormioli Rocco Quattro Stagioni Dipping Bowls, Set of 6, Gift Boxed ===\n"
     ]
    },
    {
     "data": {
      "text/html": [
       "<img src=\"http://ecx.images-amazon.com/images/I/41G3FWO2MEL._SX300_.jpg\"/>"
      ],
      "text/plain": [
       "<IPython.core.display.Image object>"
      ]
     },
     "metadata": {},
     "output_type": "display_data"
    },
    {
     "name": "stdout",
     "output_type": "stream",
     "text": [
      "=== Rada Cutlery R129 Chef's Dicer with Aluminum Handle ===\n"
     ]
    },
    {
     "data": {
      "text/html": [
       "<img src=\"http://ecx.images-amazon.com/images/I/21YER5SyXOL._SX300_.jpg\"/>"
      ],
      "text/plain": [
       "<IPython.core.display.Image object>"
      ]
     },
     "metadata": {},
     "output_type": "display_data"
    },
    {
     "name": "stdout",
     "output_type": "stream",
     "text": [
      "=== Miracle Blade III Perfection Series 11-Piece Cutlery Set ===\n"
     ]
    },
    {
     "data": {
      "text/html": [
       "<img src=\"http://ecx.images-amazon.com/images/I/51y2FG6bnUL._SX300_.jpg\"/>"
      ],
      "text/plain": [
       "<IPython.core.display.Image object>"
      ]
     },
     "metadata": {},
     "output_type": "display_data"
    },
    {
     "name": "stdout",
     "output_type": "stream",
     "text": [
      "=== Sun's Tea (TM) 20oz Strong Double Wall Thermo Glasses/Tumbler for Beer/Cocktail/Lemonade/Iced Tea, Set of 2 ===\n"
     ]
    },
    {
     "data": {
      "text/html": [
       "<img src=\"http://ecx.images-amazon.com/images/I/513lWHrDOSL._SY300_.jpg\"/>"
      ],
      "text/plain": [
       "<IPython.core.display.Image object>"
      ]
     },
     "metadata": {},
     "output_type": "display_data"
    }
   ],
   "source": [
    "print_product_images(rec)"
   ]
  },
  {
   "cell_type": "markdown",
   "metadata": {},
   "source": [
    "## UUCF, k=3, Pearson baseline similarity"
   ]
  },
  {
   "cell_type": "code",
   "execution_count": 98,
   "metadata": {},
   "outputs": [
    {
     "name": "stdout",
     "output_type": "stream",
     "text": [
      "Estimating biases using als...\n",
      "Computing the pearson_baseline similarity matrix...\n",
      "Done computing similarity matrix.\n"
     ]
    },
    {
     "data": {
      "text/plain": [
       "<surprise.prediction_algorithms.knns.KNNWithMeans at 0x136959128>"
      ]
     },
     "execution_count": 98,
     "metadata": {},
     "output_type": "execute_result"
    }
   ],
   "source": [
    "reader = Reader(rating_scale=(1,5))\n",
    "data = Dataset.load_from_df(reviews20_pre2014[['reviewerID', 'asin', 'overall']], reader)\n",
    "trainset = data.build_full_trainset()\n",
    "\n",
    "algo = KNNWithMeans(k=3, sim_options={'name': 'pearson_baseline', 'user_based': True})\n",
    "algo.fit(trainset)"
   ]
  },
  {
   "cell_type": "code",
   "execution_count": 99,
   "metadata": {},
   "outputs": [],
   "source": [
    "uucf_k3_pearsonbaseline_predicted_ratings_matrix = generate_predicted_ratings_matrix(user_utility_matrix)"
   ]
  },
  {
   "cell_type": "code",
   "execution_count": 100,
   "metadata": {},
   "outputs": [
    {
     "data": {
      "text/plain": [
       "1.0166267257410315"
      ]
     },
     "execution_count": 100,
     "metadata": {},
     "output_type": "execute_result"
    }
   ],
   "source": [
    "rmse, preds = calculate_rmse(reviews20_2014)\n",
    "rmse"
   ]
  },
  {
   "cell_type": "code",
   "execution_count": 101,
   "metadata": {},
   "outputs": [
    {
     "name": "stdout",
     "output_type": "stream",
     "text": [
      "End\n",
      "% of test with at least one item from recommended list:  0.008515167642362959\n",
      "Avg hit rate: 0.1822964362026862 ± 0.1197534046044854\n"
     ]
    }
   ],
   "source": [
    "min_1_hit = 0\n",
    "hit_rates = []\n",
    "\n",
    "for user in reviews20_2014['reviewerID'].unique():\n",
    "    \n",
    "    user_recall = model_evaluation_recall(user, generate_recommendations(user, \n",
    "                                                                         uucf_k3_pearsonbaseline_predicted_ratings_matrix,\n",
    "                                                                         n_recommended_items=10,\n",
    "                                                                         return_recommendations_only=True, \n",
    "                                                                         print_results=False))\n",
    "    \n",
    "    if user_recall > 0:\n",
    "        min_1_hit += 1\n",
    "        hit_rates.append(user_recall)\n",
    "\n",
    "print('End')\n",
    "print('% of test with at least one item from recommended list: ', min_1_hit/len(reviews20_2014['reviewerID'].unique()))\n",
    "print('Avg hit rate: {} ± {}'.format(np.mean(hit_rates), np.std(hit_rates)))"
   ]
  },
  {
   "cell_type": "code",
   "execution_count": 102,
   "metadata": {},
   "outputs": [
    {
     "name": "stdout",
     "output_type": "stream",
     "text": [
      "End\n",
      "% of test with at least one item from recommended list:  0.271953166577967\n",
      "Avg hit rate: 0.1199608610567515 ± 0.04798073686409777\n"
     ]
    }
   ],
   "source": [
    "min_1_hit = 0\n",
    "hit_rates = []\n",
    "\n",
    "for user in reviews20_2014['reviewerID'].unique():\n",
    "    \n",
    "    try:\n",
    "        rec, history, actual = generate_recommendations(user, \n",
    "                                                        uucf_k3_pearsonbaseline_predicted_ratings_matrix,\n",
    "                                                        n_recommended_items=10,\n",
    "                                                        return_recommendations_only=False, \n",
    "                                                        print_results=False)\n",
    "\n",
    "        user_recall = model_evaluation_recall_cat(rec, actual)\n",
    "\n",
    "        if user_recall > 0:\n",
    "            min_1_hit += 1\n",
    "            hit_rates.append(user_recall)\n",
    "    \n",
    "    except KeyError:\n",
    "        continue\n",
    "\n",
    "print('End')\n",
    "print('% of test with at least one item from recommended list: ', min_1_hit/len(reviews20_2014['reviewerID'].unique()))\n",
    "print('Avg hit rate: {} ± {}'.format(np.mean(hit_rates), np.std(hit_rates)))"
   ]
  },
  {
   "cell_type": "code",
   "execution_count": 103,
   "metadata": {},
   "outputs": [],
   "source": [
    "rec, history, actual = generate_recommendations('A1S3C5OFU508P3',\n",
    "                                                uucf_k3_pearsonbaseline_predicted_ratings_matrix,\n",
    "                                                10,\n",
    "                                                return_recommendations_only=False,\n",
    "                                                print_results=False)"
   ]
  },
  {
   "cell_type": "code",
   "execution_count": 104,
   "metadata": {},
   "outputs": [
    {
     "name": "stdout",
     "output_type": "stream",
     "text": [
      "=== Martex Bath Towels, White, 6-Pack ===\n"
     ]
    },
    {
     "data": {
      "text/html": [
       "<img src=\"http://ecx.images-amazon.com/images/I/4122%2B8SroiL._SY300_.jpg\"/>"
      ],
      "text/plain": [
       "<IPython.core.display.Image object>"
      ]
     },
     "metadata": {},
     "output_type": "display_data"
    },
    {
     "name": "stdout",
     "output_type": "stream",
     "text": [
      "=== Replacement Filters for Aeropress (350 pk) ===\n"
     ]
    },
    {
     "data": {
      "text/html": [
       "<img src=\"http://ecx.images-amazon.com/images/I/41AXFwHrg1L._SY300_.jpg\"/>"
      ],
      "text/plain": [
       "<IPython.core.display.Image object>"
      ]
     },
     "metadata": {},
     "output_type": "display_data"
    },
    {
     "name": "stdout",
     "output_type": "stream",
     "text": [
      "=== Rada Cutlery R129 Chef's Dicer with Aluminum Handle ===\n"
     ]
    },
    {
     "data": {
      "text/html": [
       "<img src=\"http://ecx.images-amazon.com/images/I/21YER5SyXOL._SX300_.jpg\"/>"
      ],
      "text/plain": [
       "<IPython.core.display.Image object>"
      ]
     },
     "metadata": {},
     "output_type": "display_data"
    },
    {
     "name": "stdout",
     "output_type": "stream",
     "text": [
      "=== Miracle Blade III Perfection Series 11-Piece Cutlery Set ===\n"
     ]
    },
    {
     "data": {
      "text/html": [
       "<img src=\"http://ecx.images-amazon.com/images/I/51y2FG6bnUL._SX300_.jpg\"/>"
      ],
      "text/plain": [
       "<IPython.core.display.Image object>"
      ]
     },
     "metadata": {},
     "output_type": "display_data"
    },
    {
     "name": "stdout",
     "output_type": "stream",
     "text": [
      "=== Sun's Tea (TM) 20oz Strong Double Wall Thermo Glasses/Tumbler for Beer/Cocktail/Lemonade/Iced Tea, Set of 2 ===\n"
     ]
    },
    {
     "data": {
      "text/html": [
       "<img src=\"http://ecx.images-amazon.com/images/I/513lWHrDOSL._SY300_.jpg\"/>"
      ],
      "text/plain": [
       "<IPython.core.display.Image object>"
      ]
     },
     "metadata": {},
     "output_type": "display_data"
    },
    {
     "name": "stdout",
     "output_type": "stream",
     "text": [
      "=== Norpro Coffee Grinder ===\n"
     ]
    },
    {
     "data": {
      "text/html": [
       "<img src=\"http://ecx.images-amazon.com/images/I/41CB8j3Y96L._SY300_.jpg\"/>"
      ],
      "text/plain": [
       "<IPython.core.display.Image object>"
      ]
     },
     "metadata": {},
     "output_type": "display_data"
    },
    {
     "name": "stdout",
     "output_type": "stream",
     "text": [
      "=== Hamilton Beach 70450 8-Cup Food Processor ===\n"
     ]
    },
    {
     "data": {
      "text/html": [
       "<img src=\"http://ecx.images-amazon.com/images/I/41iDX10uCFL._SY300_.jpg\"/>"
      ],
      "text/plain": [
       "<IPython.core.display.Image object>"
      ]
     },
     "metadata": {},
     "output_type": "display_data"
    },
    {
     "name": "stdout",
     "output_type": "stream",
     "text": [
      "=== Oster BRLY07-B 7-Speed Fusion Blender, Black ===\n"
     ]
    },
    {
     "data": {
      "text/html": [
       "<img src=\"http://ecx.images-amazon.com/images/I/41HTs5hiGoL._SY300_.jpg\"/>"
      ],
      "text/plain": [
       "<IPython.core.display.Image object>"
      ]
     },
     "metadata": {},
     "output_type": "display_data"
    },
    {
     "name": "stdout",
     "output_type": "stream",
     "text": [
      "=== Command Medium Picture-Hanging Strips, 6-Picture ===\n"
     ]
    },
    {
     "data": {
      "text/html": [
       "<img src=\"http://ecx.images-amazon.com/images/I/41by%2BUDEwEL._SY300_.jpg\"/>"
      ],
      "text/plain": [
       "<IPython.core.display.Image object>"
      ]
     },
     "metadata": {},
     "output_type": "display_data"
    },
    {
     "name": "stdout",
     "output_type": "stream",
     "text": [
      "=== Holmes Heater Fan with 1Touch Control and ALCI Safe Plug, HFH442-UM ===\n"
     ]
    },
    {
     "data": {
      "text/html": [
       "<img src=\"http://ecx.images-amazon.com/images/I/419W1f6BGHL._SY300_.jpg\"/>"
      ],
      "text/plain": [
       "<IPython.core.display.Image object>"
      ]
     },
     "metadata": {},
     "output_type": "display_data"
    }
   ],
   "source": [
    "print_product_images(rec)"
   ]
  },
  {
   "cell_type": "markdown",
   "metadata": {},
   "source": [
    "## UUCF, k=20, Pearson baseline similarity"
   ]
  },
  {
   "cell_type": "code",
   "execution_count": 105,
   "metadata": {},
   "outputs": [
    {
     "name": "stdout",
     "output_type": "stream",
     "text": [
      "Estimating biases using als...\n",
      "Computing the pearson_baseline similarity matrix...\n",
      "Done computing similarity matrix.\n"
     ]
    },
    {
     "data": {
      "text/plain": [
       "<surprise.prediction_algorithms.knns.KNNWithMeans at 0x1361647f0>"
      ]
     },
     "execution_count": 105,
     "metadata": {},
     "output_type": "execute_result"
    }
   ],
   "source": [
    "reader = Reader(rating_scale=(1,5))\n",
    "data = Dataset.load_from_df(reviews20_pre2014[['reviewerID', 'asin', 'overall']], reader)\n",
    "trainset = data.build_full_trainset()\n",
    "\n",
    "algo = KNNWithMeans(k=20, sim_options={'name': 'pearson_baseline', 'user_based': True})\n",
    "algo.fit(trainset)"
   ]
  },
  {
   "cell_type": "code",
   "execution_count": 106,
   "metadata": {},
   "outputs": [],
   "source": [
    "uucf_k20_pearsonbaseline_predicted_ratings_matrix = generate_predicted_ratings_matrix(user_utility_matrix)"
   ]
  },
  {
   "cell_type": "code",
   "execution_count": 107,
   "metadata": {},
   "outputs": [
    {
     "data": {
      "text/plain": [
       "1.016544800005623"
      ]
     },
     "execution_count": 107,
     "metadata": {},
     "output_type": "execute_result"
    }
   ],
   "source": [
    "rmse, preds = calculate_rmse(reviews20_2014)\n",
    "rmse"
   ]
  },
  {
   "cell_type": "code",
   "execution_count": 108,
   "metadata": {},
   "outputs": [
    {
     "name": "stdout",
     "output_type": "stream",
     "text": [
      "End\n",
      "% of test with at least one item from recommended list:  0.009579563597658328\n",
      "Avg hit rate: 0.16576903035236368 ± 0.10849385650185411\n"
     ]
    }
   ],
   "source": [
    "min_1_hit = 0\n",
    "hit_rates = []\n",
    "\n",
    "for user in reviews20_2014['reviewerID'].unique():\n",
    "    \n",
    "    user_recall = model_evaluation_recall(user, generate_recommendations(user, \n",
    "                                                                         uucf_k20_pearsonbaseline_predicted_ratings_matrix,\n",
    "                                                                         n_recommended_items=10,\n",
    "                                                                         return_recommendations_only=True, \n",
    "                                                                         print_results=False))\n",
    "    \n",
    "    if user_recall > 0:\n",
    "        min_1_hit += 1\n",
    "        hit_rates.append(user_recall)\n",
    "\n",
    "print('End')\n",
    "print('% of test with at least one item from recommended list: ', min_1_hit/len(reviews20_2014['reviewerID'].unique()))\n",
    "print('Avg hit rate: {} ± {}'.format(np.mean(hit_rates), np.std(hit_rates)))"
   ]
  },
  {
   "cell_type": "code",
   "execution_count": 109,
   "metadata": {},
   "outputs": [
    {
     "name": "stdout",
     "output_type": "stream",
     "text": [
      "End\n",
      "% of test with at least one item from recommended list:  0.26663118680149017\n",
      "Avg hit rate: 0.11896207584830341 ± 0.04664085997538797\n"
     ]
    }
   ],
   "source": [
    "min_1_hit = 0\n",
    "hit_rates = []\n",
    "\n",
    "for user in reviews20_2014['reviewerID'].unique():\n",
    "    \n",
    "    try:\n",
    "        rec, history, actual = generate_recommendations(user, \n",
    "                                                        uucf_k20_pearsonbaseline_predicted_ratings_matrix,\n",
    "                                                        n_recommended_items=10,\n",
    "                                                        return_recommendations_only=False, \n",
    "                                                        print_results=False)\n",
    "\n",
    "        user_recall = model_evaluation_recall_cat(rec, actual)\n",
    "\n",
    "        if user_recall > 0:\n",
    "            min_1_hit += 1\n",
    "            hit_rates.append(user_recall)\n",
    "    \n",
    "    except KeyError:\n",
    "        continue\n",
    "\n",
    "print('End')\n",
    "print('% of test with at least one item from recommended list: ', min_1_hit/len(reviews20_2014['reviewerID'].unique()))\n",
    "print('Avg hit rate: {} ± {}'.format(np.mean(hit_rates), np.std(hit_rates)))"
   ]
  },
  {
   "cell_type": "code",
   "execution_count": 110,
   "metadata": {},
   "outputs": [],
   "source": [
    "rec, history, actual = generate_recommendations('A1S3C5OFU508P3',\n",
    "                                                uucf_k20_pearsonbaseline_predicted_ratings_matrix,\n",
    "                                                10,\n",
    "                                                return_recommendations_only=False,\n",
    "                                                print_results=False)"
   ]
  },
  {
   "cell_type": "code",
   "execution_count": 111,
   "metadata": {},
   "outputs": [
    {
     "name": "stdout",
     "output_type": "stream",
     "text": [
      "=== Martex Bath Towels, White, 6-Pack ===\n"
     ]
    },
    {
     "data": {
      "text/html": [
       "<img src=\"http://ecx.images-amazon.com/images/I/4122%2B8SroiL._SY300_.jpg\"/>"
      ],
      "text/plain": [
       "<IPython.core.display.Image object>"
      ]
     },
     "metadata": {},
     "output_type": "display_data"
    },
    {
     "name": "stdout",
     "output_type": "stream",
     "text": [
      "=== Replacement Filters for Aeropress (350 pk) ===\n"
     ]
    },
    {
     "data": {
      "text/html": [
       "<img src=\"http://ecx.images-amazon.com/images/I/41AXFwHrg1L._SY300_.jpg\"/>"
      ],
      "text/plain": [
       "<IPython.core.display.Image object>"
      ]
     },
     "metadata": {},
     "output_type": "display_data"
    },
    {
     "name": "stdout",
     "output_type": "stream",
     "text": [
      "=== Rada Cutlery R129 Chef's Dicer with Aluminum Handle ===\n"
     ]
    },
    {
     "data": {
      "text/html": [
       "<img src=\"http://ecx.images-amazon.com/images/I/21YER5SyXOL._SX300_.jpg\"/>"
      ],
      "text/plain": [
       "<IPython.core.display.Image object>"
      ]
     },
     "metadata": {},
     "output_type": "display_data"
    },
    {
     "name": "stdout",
     "output_type": "stream",
     "text": [
      "=== Miracle Blade III Perfection Series 11-Piece Cutlery Set ===\n"
     ]
    },
    {
     "data": {
      "text/html": [
       "<img src=\"http://ecx.images-amazon.com/images/I/51y2FG6bnUL._SX300_.jpg\"/>"
      ],
      "text/plain": [
       "<IPython.core.display.Image object>"
      ]
     },
     "metadata": {},
     "output_type": "display_data"
    },
    {
     "name": "stdout",
     "output_type": "stream",
     "text": [
      "=== Sun's Tea (TM) 20oz Strong Double Wall Thermo Glasses/Tumbler for Beer/Cocktail/Lemonade/Iced Tea, Set of 2 ===\n"
     ]
    },
    {
     "data": {
      "text/html": [
       "<img src=\"http://ecx.images-amazon.com/images/I/513lWHrDOSL._SY300_.jpg\"/>"
      ],
      "text/plain": [
       "<IPython.core.display.Image object>"
      ]
     },
     "metadata": {},
     "output_type": "display_data"
    },
    {
     "name": "stdout",
     "output_type": "stream",
     "text": [
      "=== Norpro Coffee Grinder ===\n"
     ]
    },
    {
     "data": {
      "text/html": [
       "<img src=\"http://ecx.images-amazon.com/images/I/41CB8j3Y96L._SY300_.jpg\"/>"
      ],
      "text/plain": [
       "<IPython.core.display.Image object>"
      ]
     },
     "metadata": {},
     "output_type": "display_data"
    },
    {
     "name": "stdout",
     "output_type": "stream",
     "text": [
      "=== Hamilton Beach 70450 8-Cup Food Processor ===\n"
     ]
    },
    {
     "data": {
      "text/html": [
       "<img src=\"http://ecx.images-amazon.com/images/I/41iDX10uCFL._SY300_.jpg\"/>"
      ],
      "text/plain": [
       "<IPython.core.display.Image object>"
      ]
     },
     "metadata": {},
     "output_type": "display_data"
    },
    {
     "name": "stdout",
     "output_type": "stream",
     "text": [
      "=== Oster BRLY07-B 7-Speed Fusion Blender, Black ===\n"
     ]
    },
    {
     "data": {
      "text/html": [
       "<img src=\"http://ecx.images-amazon.com/images/I/41HTs5hiGoL._SY300_.jpg\"/>"
      ],
      "text/plain": [
       "<IPython.core.display.Image object>"
      ]
     },
     "metadata": {},
     "output_type": "display_data"
    },
    {
     "name": "stdout",
     "output_type": "stream",
     "text": [
      "=== Command Medium Picture-Hanging Strips, 6-Picture ===\n"
     ]
    },
    {
     "data": {
      "text/html": [
       "<img src=\"http://ecx.images-amazon.com/images/I/41by%2BUDEwEL._SY300_.jpg\"/>"
      ],
      "text/plain": [
       "<IPython.core.display.Image object>"
      ]
     },
     "metadata": {},
     "output_type": "display_data"
    },
    {
     "name": "stdout",
     "output_type": "stream",
     "text": [
      "=== Holmes Heater Fan with 1Touch Control and ALCI Safe Plug, HFH442-UM ===\n"
     ]
    },
    {
     "data": {
      "text/html": [
       "<img src=\"http://ecx.images-amazon.com/images/I/419W1f6BGHL._SY300_.jpg\"/>"
      ],
      "text/plain": [
       "<IPython.core.display.Image object>"
      ]
     },
     "metadata": {},
     "output_type": "display_data"
    }
   ],
   "source": [
    "print_product_images(rec)"
   ]
  },
  {
   "cell_type": "markdown",
   "metadata": {},
   "source": [
    "## IICF, k=3, Pearson baseline similarity"
   ]
  },
  {
   "cell_type": "code",
   "execution_count": 112,
   "metadata": {},
   "outputs": [
    {
     "name": "stdout",
     "output_type": "stream",
     "text": [
      "Estimating biases using als...\n",
      "Computing the pearson_baseline similarity matrix...\n",
      "Done computing similarity matrix.\n"
     ]
    },
    {
     "data": {
      "text/plain": [
       "<surprise.prediction_algorithms.knns.KNNWithMeans at 0x11fd94048>"
      ]
     },
     "execution_count": 112,
     "metadata": {},
     "output_type": "execute_result"
    }
   ],
   "source": [
    "reader = Reader(rating_scale=(1,5))\n",
    "data = Dataset.load_from_df(reviews20_pre2014[['reviewerID', 'asin', 'overall']], reader)\n",
    "trainset = data.build_full_trainset()\n",
    "\n",
    "algo = KNNWithMeans(k=3, sim_options={'name': 'pearson_baseline', 'user_based': False})\n",
    "algo.fit(trainset)"
   ]
  },
  {
   "cell_type": "code",
   "execution_count": 114,
   "metadata": {},
   "outputs": [],
   "source": [
    "iicf_k3_pearsonbaseline_predicted_ratings_matrix = generate_predicted_ratings_matrix(user_utility_matrix)"
   ]
  },
  {
   "cell_type": "code",
   "execution_count": 115,
   "metadata": {},
   "outputs": [
    {
     "data": {
      "text/plain": [
       "1.0762176167359827"
      ]
     },
     "execution_count": 115,
     "metadata": {},
     "output_type": "execute_result"
    }
   ],
   "source": [
    "rmse, preds = calculate_rmse(reviews20_2014)\n",
    "rmse"
   ]
  },
  {
   "cell_type": "code",
   "execution_count": 116,
   "metadata": {},
   "outputs": [
    {
     "name": "stdout",
     "output_type": "stream",
     "text": [
      "End\n",
      "% of test with at least one item from recommended list:  0.004789781798829164\n",
      "Avg hit rate: 0.2300112930547713 ± 0.28133104148241456\n"
     ]
    }
   ],
   "source": [
    "min_1_hit = 0\n",
    "hit_rates = []\n",
    "\n",
    "for user in reviews20_2014['reviewerID'].unique():\n",
    "    \n",
    "    user_recall = model_evaluation_recall(user, generate_recommendations(user, \n",
    "                                                                         iicf_k3_pearsonbaseline_predicted_ratings_matrix,\n",
    "                                                                         n_recommended_items=10,\n",
    "                                                                         return_recommendations_only=True, \n",
    "                                                                         print_results=False))\n",
    "    \n",
    "    if user_recall > 0:\n",
    "        min_1_hit += 1\n",
    "        hit_rates.append(user_recall)\n",
    "\n",
    "print('End')\n",
    "print('% of test with at least one item from recommended list: ', min_1_hit/len(reviews20_2014['reviewerID'].unique()))\n",
    "print('Avg hit rate: {} ± {}'.format(np.mean(hit_rates), np.std(hit_rates)))"
   ]
  },
  {
   "cell_type": "code",
   "execution_count": 117,
   "metadata": {},
   "outputs": [
    {
     "name": "stdout",
     "output_type": "stream",
     "text": [
      "End\n",
      "% of test with at least one item from recommended list:  0.17828632251197446\n",
      "Avg hit rate: 0.1208955223880597 ± 0.04928538105687264\n"
     ]
    }
   ],
   "source": [
    "min_1_hit = 0\n",
    "hit_rates = []\n",
    "\n",
    "for user in reviews20_2014['reviewerID'].unique():\n",
    "    \n",
    "    try:\n",
    "        rec, history, actual = generate_recommendations(user, \n",
    "                                                        iicf_k3_pearsonbaseline_predicted_ratings_matrix,\n",
    "                                                        n_recommended_items=10,\n",
    "                                                        return_recommendations_only=False, \n",
    "                                                        print_results=False)\n",
    "\n",
    "        user_recall = model_evaluation_recall_cat(rec, actual)\n",
    "\n",
    "        if user_recall > 0:\n",
    "            min_1_hit += 1\n",
    "            hit_rates.append(user_recall)\n",
    "    \n",
    "    except KeyError:\n",
    "        continue\n",
    "\n",
    "print('End')\n",
    "print('% of test with at least one item from recommended list: ', min_1_hit/len(reviews20_2014['reviewerID'].unique()))\n",
    "print('Avg hit rate: {} ± {}'.format(np.mean(hit_rates), np.std(hit_rates)))"
   ]
  },
  {
   "cell_type": "code",
   "execution_count": 118,
   "metadata": {},
   "outputs": [],
   "source": [
    "rec, history, actual = generate_recommendations('A1S3C5OFU508P3',\n",
    "                                                iicf_k3_pearsonbaseline_predicted_ratings_matrix,\n",
    "                                                10,\n",
    "                                                return_recommendations_only=False,\n",
    "                                                print_results=False)"
   ]
  },
  {
   "cell_type": "code",
   "execution_count": 119,
   "metadata": {},
   "outputs": [
    {
     "name": "stdout",
     "output_type": "stream",
     "text": [
      "=== Closet Complete Twirling Tie Rack / Hanger Organizer ===\n"
     ]
    },
    {
     "data": {
      "text/html": [
       "<img src=\"http://ecx.images-amazon.com/images/I/415fJ-FDkLL._SY300_.jpg\"/>"
      ],
      "text/plain": [
       "<IPython.core.display.Image object>"
      ]
     },
     "metadata": {},
     "output_type": "display_data"
    },
    {
     "name": "stdout",
     "output_type": "stream",
     "text": [
      "=== Medelco RK202 One All Universal Single-Cup Replacement Coffee Filter, Set of 2 ===\n"
     ]
    },
    {
     "data": {
      "text/html": [
       "<img src=\"http://ecx.images-amazon.com/images/I/41qbPO8w9oL._SX300_.jpg\"/>"
      ],
      "text/plain": [
       "<IPython.core.display.Image object>"
      ]
     },
     "metadata": {},
     "output_type": "display_data"
    },
    {
     "name": "stdout",
     "output_type": "stream",
     "text": [
      "=== Wilton Recipe Right 13 x 9 Inch Oblong Pan ===\n"
     ]
    },
    {
     "data": {
      "text/html": [
       "<img src=\"http://ecx.images-amazon.com/images/I/31V5PTLo4CL._SY300_.jpg\"/>"
      ],
      "text/plain": [
       "<IPython.core.display.Image object>"
      ]
     },
     "metadata": {},
     "output_type": "display_data"
    },
    {
     "name": "stdout",
     "output_type": "stream",
     "text": [
      "=== Command Mounting Refill Strips, Large, 6-Strip ===\n"
     ]
    },
    {
     "data": {
      "text/html": [
       "<img src=\"http://ecx.images-amazon.com/images/I/41H17DQObaL._SY300_.jpg\"/>"
      ],
      "text/plain": [
       "<IPython.core.display.Image object>"
      ]
     },
     "metadata": {},
     "output_type": "display_data"
    },
    {
     "name": "stdout",
     "output_type": "stream",
     "text": [
      "=== Hamilton Beach 26020 Belgian Style Waffle Baker ===\n"
     ]
    },
    {
     "data": {
      "text/html": [
       "<img src=\"http://ecx.images-amazon.com/images/I/51Xm5AHJevL._SY300_.jpg\"/>"
      ],
      "text/plain": [
       "<IPython.core.display.Image object>"
      ]
     },
     "metadata": {},
     "output_type": "display_data"
    },
    {
     "name": "stdout",
     "output_type": "stream",
     "text": [
      "=== Wilton Recipe Right 8 Inch Square Pan ===\n"
     ]
    },
    {
     "data": {
      "text/html": [
       "<img src=\"http://ecx.images-amazon.com/images/I/41ZOi-xo8EL._SY300_.jpg\"/>"
      ],
      "text/plain": [
       "<IPython.core.display.Image object>"
      ]
     },
     "metadata": {},
     "output_type": "display_data"
    },
    {
     "name": "stdout",
     "output_type": "stream",
     "text": [
      "=== FoodSaver V3020 Vertical Vacuum Sealing System With Starter Kit ===\n"
     ]
    },
    {
     "data": {
      "text/html": [
       "<img src=\"http://ecx.images-amazon.com/images/I/41H3JjlDd%2BL._SX300_.jpg\"/>"
      ],
      "text/plain": [
       "<IPython.core.display.Image object>"
      ]
     },
     "metadata": {},
     "output_type": "display_data"
    },
    {
     "name": "stdout",
     "output_type": "stream",
     "text": [
      "=== Folding Bread Proofer and Yogurt Maker ===\n"
     ]
    },
    {
     "data": {
      "text/html": [
       "<img src=\"http://ecx.images-amazon.com/images/I/41MoInYj3SL._SY300_.jpg\"/>"
      ],
      "text/plain": [
       "<IPython.core.display.Image object>"
      ]
     },
     "metadata": {},
     "output_type": "display_data"
    },
    {
     "name": "stdout",
     "output_type": "stream",
     "text": [
      "=== Frigidaire FRA054XT7 5,000 BTU Window-Mounted Mini Room Air Conditioner ===\n"
     ]
    },
    {
     "data": {
      "text/html": [
       "<img src=\"http://ecx.images-amazon.com/images/I/51Bc5dWdchL._SY300_.jpg\"/>"
      ],
      "text/plain": [
       "<IPython.core.display.Image object>"
      ]
     },
     "metadata": {},
     "output_type": "display_data"
    },
    {
     "name": "stdout",
     "output_type": "stream",
     "text": [
      "=== Wilton Recipe Right 11 Inch x 7 Inch Biscuit Brownie Pan ===\n"
     ]
    },
    {
     "data": {
      "text/html": [
       "<img src=\"http://ecx.images-amazon.com/images/I/41A413jeIRL._SY300_.jpg\"/>"
      ],
      "text/plain": [
       "<IPython.core.display.Image object>"
      ]
     },
     "metadata": {},
     "output_type": "display_data"
    }
   ],
   "source": [
    "print_product_images(rec)"
   ]
  },
  {
   "cell_type": "code",
   "execution_count": null,
   "metadata": {},
   "outputs": [],
   "source": []
  },
  {
   "cell_type": "markdown",
   "metadata": {},
   "source": [
    "## SVDreg, k=10"
   ]
  },
  {
   "cell_type": "code",
   "execution_count": 120,
   "metadata": {},
   "outputs": [
    {
     "data": {
      "text/plain": [
       "<surprise.prediction_algorithms.matrix_factorization.SVD at 0x133bb5898>"
      ]
     },
     "execution_count": 120,
     "metadata": {},
     "output_type": "execute_result"
    }
   ],
   "source": [
    "reader = Reader(rating_scale=(1,5))\n",
    "data = Dataset.load_from_df(reviews20_pre2014[['reviewerID', 'asin', 'overall']], reader)\n",
    "trainset = data.build_full_trainset()\n",
    "\n",
    "algo = SVD(n_factors=10, lr_bi=0.0001, lr_qi=0.0001, reg_bi=0.7, reg_qi=0.7)\n",
    "algo.fit(trainset)"
   ]
  },
  {
   "cell_type": "code",
   "execution_count": 121,
   "metadata": {},
   "outputs": [],
   "source": [
    "svd_k10reg_predicted_ratings_matrix = generate_predicted_ratings_matrix(user_utility_matrix)"
   ]
  },
  {
   "cell_type": "code",
   "execution_count": 122,
   "metadata": {},
   "outputs": [
    {
     "data": {
      "text/plain": [
       "0.9485948895709465"
      ]
     },
     "execution_count": 122,
     "metadata": {},
     "output_type": "execute_result"
    }
   ],
   "source": [
    "rmse, preds = calculate_rmse(reviews20_2014)\n",
    "rmse"
   ]
  },
  {
   "cell_type": "code",
   "execution_count": 123,
   "metadata": {},
   "outputs": [
    {
     "name": "stdout",
     "output_type": "stream",
     "text": [
      "End\n",
      "% of test with at least one item from recommended list:  0.015965939329430547\n",
      "Avg hit rate: 0.19250211399298625 ± 0.1835309949590267\n"
     ]
    }
   ],
   "source": [
    "min_1_hit = 0\n",
    "hit_rates = []\n",
    "\n",
    "for user in reviews20_2014['reviewerID'].unique():\n",
    "    \n",
    "    user_recall = model_evaluation_recall(user, generate_recommendations(user, \n",
    "                                                                         svd_k10reg_predicted_ratings_matrix,\n",
    "                                                                         n_recommended_items=10,\n",
    "                                                                         return_recommendations_only=True, \n",
    "                                                                         print_results=False))\n",
    "    \n",
    "    if user_recall > 0:\n",
    "        min_1_hit += 1\n",
    "        hit_rates.append(user_recall)\n",
    "\n",
    "print('End')\n",
    "print('% of test with at least one item from recommended list: ', min_1_hit/len(reviews20_2014['reviewerID'].unique()))\n",
    "print('Avg hit rate: {} ± {}'.format(np.mean(hit_rates), np.std(hit_rates)))"
   ]
  },
  {
   "cell_type": "code",
   "execution_count": 124,
   "metadata": {},
   "outputs": [
    {
     "name": "stdout",
     "output_type": "stream",
     "text": [
      "End\n",
      "% of test with at least one item from recommended list:  0.2687599787120809\n",
      "Avg hit rate: 0.1221782178217822 ± 0.054347688163389515\n"
     ]
    }
   ],
   "source": [
    "min_1_hit = 0\n",
    "hit_rates = []\n",
    "\n",
    "for user in reviews20_2014['reviewerID'].unique():\n",
    "    \n",
    "    try:\n",
    "        rec, history, actual = generate_recommendations(user, \n",
    "                                                        svd_k10reg_predicted_ratings_matrix,\n",
    "                                                        n_recommended_items=10,\n",
    "                                                        return_recommendations_only=False, \n",
    "                                                        print_results=False)\n",
    "\n",
    "        user_recall = model_evaluation_recall_cat(rec, actual)\n",
    "\n",
    "        if user_recall > 0:\n",
    "            min_1_hit += 1\n",
    "            hit_rates.append(user_recall)\n",
    "    \n",
    "    except KeyError:\n",
    "        continue\n",
    "\n",
    "print('End')\n",
    "print('% of test with at least one item from recommended list: ', min_1_hit/len(reviews20_2014['reviewerID'].unique()))\n",
    "print('Avg hit rate: {} ± {}'.format(np.mean(hit_rates), np.std(hit_rates)))"
   ]
  },
  {
   "cell_type": "code",
   "execution_count": 125,
   "metadata": {},
   "outputs": [],
   "source": [
    "rec, history, actual = generate_recommendations('A1S3C5OFU508P3',\n",
    "                                                svd_k10reg_predicted_ratings_matrix,\n",
    "                                                10,\n",
    "                                                return_recommendations_only=False,\n",
    "                                                print_results=False)"
   ]
  },
  {
   "cell_type": "code",
   "execution_count": 126,
   "metadata": {},
   "outputs": [
    {
     "name": "stdout",
     "output_type": "stream",
     "text": [
      "=== Breville BOV800XL Smart Oven 1800-Watt Convection Toaster Oven with Element IQ ===\n"
     ]
    },
    {
     "data": {
      "text/html": [
       "<img src=\"http://ecx.images-amazon.com/images/I/41W8PMvH9FL._SX300_.jpg\"/>"
      ],
      "text/plain": [
       "<IPython.core.display.Image object>"
      ]
     },
     "metadata": {},
     "output_type": "display_data"
    },
    {
     "name": "stdout",
     "output_type": "stream",
     "text": [
      "=== PUR CR-6000 7-Cup Water Filtration Pitcher ===\n"
     ]
    },
    {
     "data": {
      "text/html": [
       "<img src=\"http://ecx.images-amazon.com/images/I/41KbUYZDENL._SY300_.jpg\"/>"
      ],
      "text/plain": [
       "<IPython.core.display.Image object>"
      ]
     },
     "metadata": {},
     "output_type": "display_data"
    },
    {
     "name": "stdout",
     "output_type": "stream",
     "text": [
      "=== Global Distinctions Buy-One-Get-One-Free Ottoman Set, Black ===\n"
     ]
    },
    {
     "data": {
      "text/html": [
       "<img src=\"http://ecx.images-amazon.com/images/I/41ovMEtGVqL._SX300_.jpg\"/>"
      ],
      "text/plain": [
       "<IPython.core.display.Image object>"
      ]
     },
     "metadata": {},
     "output_type": "display_data"
    },
    {
     "name": "stdout",
     "output_type": "stream",
     "text": [
      "=== Umbra Casa Tissue Box Cover, White ===\n"
     ]
    },
    {
     "data": {
      "text/html": [
       "<img src=\"http://ecx.images-amazon.com/images/I/31dJF1DN4EL._SY300_.jpg\"/>"
      ],
      "text/plain": [
       "<IPython.core.display.Image object>"
      ]
     },
     "metadata": {},
     "output_type": "display_data"
    },
    {
     "name": "stdout",
     "output_type": "stream",
     "text": [
      "=== Freshware 12-Cavity Silicone Petite Loaf Pan ===\n"
     ]
    },
    {
     "data": {
      "text/html": [
       "<img src=\"http://ecx.images-amazon.com/images/I/41JDKz6a4zL._SY300_.jpg\"/>"
      ],
      "text/plain": [
       "<IPython.core.display.Image object>"
      ]
     },
     "metadata": {},
     "output_type": "display_data"
    },
    {
     "name": "stdout",
     "output_type": "stream",
     "text": [
      "=== Eureka EasyClean Corded Hand-Held Vacuum, 71B ===\n"
     ]
    },
    {
     "data": {
      "text/html": [
       "<img src=\"http://ecx.images-amazon.com/images/I/41NtHZMhjJL._SY300_.jpg\"/>"
      ],
      "text/plain": [
       "<IPython.core.display.Image object>"
      ]
     },
     "metadata": {},
     "output_type": "display_data"
    },
    {
     "name": "stdout",
     "output_type": "stream",
     "text": [
      "=== Adagio Teas 16 oz. ingenuiTEA Bottom-Dispensing Teapot ===\n"
     ]
    },
    {
     "data": {
      "text/html": [
       "<img src=\"http://ecx.images-amazon.com/images/I/41ExOnEAcUL._SY300_.jpg\"/>"
      ],
      "text/plain": [
       "<IPython.core.display.Image object>"
      ]
     },
     "metadata": {},
     "output_type": "display_data"
    },
    {
     "name": "stdout",
     "output_type": "stream",
     "text": [
      "=== nan ===\n"
     ]
    },
    {
     "data": {
      "text/html": [
       "<img src=\"http://ecx.images-amazon.com/images/I/41rn82a5jKL._SX300_.jpg\"/>"
      ],
      "text/plain": [
       "<IPython.core.display.Image object>"
      ]
     },
     "metadata": {},
     "output_type": "display_data"
    },
    {
     "name": "stdout",
     "output_type": "stream",
     "text": [
      "=== Natural Comfort White Down Alternative Comforter with Embossed Microfiber Cover, Light Weight Filled, King ===\n"
     ]
    },
    {
     "data": {
      "text/html": [
       "<img src=\"http://ecx.images-amazon.com/images/I/414fCFh3KKL._SX300_.jpg\"/>"
      ],
      "text/plain": [
       "<IPython.core.display.Image object>"
      ]
     },
     "metadata": {},
     "output_type": "display_data"
    },
    {
     "name": "stdout",
     "output_type": "stream",
     "text": [
      "=== Jumbl 1500-Watt Hand-Held Garment Steamer with Travel Pouch and Accessories ===\n"
     ]
    },
    {
     "data": {
      "text/html": [
       "<img src=\"http://ecx.images-amazon.com/images/I/51r9pBj8W7L._SX300_.jpg\"/>"
      ],
      "text/plain": [
       "<IPython.core.display.Image object>"
      ]
     },
     "metadata": {},
     "output_type": "display_data"
    }
   ],
   "source": [
    "print_product_images(rec)"
   ]
  },
  {
   "cell_type": "code",
   "execution_count": null,
   "metadata": {},
   "outputs": [],
   "source": []
  },
  {
   "cell_type": "markdown",
   "metadata": {},
   "source": [
    "## SVDnoreg, k=40"
   ]
  },
  {
   "cell_type": "code",
   "execution_count": 127,
   "metadata": {},
   "outputs": [
    {
     "data": {
      "text/plain": [
       "<surprise.prediction_algorithms.matrix_factorization.SVD at 0x1281b2860>"
      ]
     },
     "execution_count": 127,
     "metadata": {},
     "output_type": "execute_result"
    }
   ],
   "source": [
    "reader = Reader(rating_scale=(1,5))\n",
    "data = Dataset.load_from_df(reviews20_pre2014[['reviewerID', 'asin', 'overall']], reader)\n",
    "trainset = data.build_full_trainset()\n",
    "\n",
    "algo = SVD(n_factors=40)\n",
    "algo.fit(trainset)"
   ]
  },
  {
   "cell_type": "code",
   "execution_count": 128,
   "metadata": {},
   "outputs": [],
   "source": [
    "svd_k40_predicted_ratings_matrix = generate_predicted_ratings_matrix(user_utility_matrix)"
   ]
  },
  {
   "cell_type": "code",
   "execution_count": 129,
   "metadata": {},
   "outputs": [
    {
     "data": {
      "text/plain": [
       "0.9410105261781494"
      ]
     },
     "execution_count": 129,
     "metadata": {},
     "output_type": "execute_result"
    }
   ],
   "source": [
    "rmse, preds = calculate_rmse(reviews20_2014)\n",
    "rmse"
   ]
  },
  {
   "cell_type": "code",
   "execution_count": 130,
   "metadata": {},
   "outputs": [
    {
     "name": "stdout",
     "output_type": "stream",
     "text": [
      "End\n",
      "% of test with at least one item from recommended list:  0.017562533262373604\n",
      "Avg hit rate: 0.18697959060765623 ± 0.134217538706749\n"
     ]
    }
   ],
   "source": [
    "min_1_hit = 0\n",
    "hit_rates = []\n",
    "\n",
    "for user in reviews20_2014['reviewerID'].unique():\n",
    "    \n",
    "    user_recall = model_evaluation_recall(user, generate_recommendations(user, \n",
    "                                                                         svd_k40_predicted_ratings_matrix,\n",
    "                                                                         n_recommended_items=10,\n",
    "                                                                         return_recommendations_only=True, \n",
    "                                                                         print_results=False))\n",
    "    \n",
    "    if user_recall > 0:\n",
    "        min_1_hit += 1\n",
    "        hit_rates.append(user_recall)\n",
    "\n",
    "print('End')\n",
    "print('% of test with at least one item from recommended list: ', min_1_hit/len(reviews20_2014['reviewerID'].unique()))\n",
    "print('Avg hit rate: {} ± {}'.format(np.mean(hit_rates), np.std(hit_rates)))"
   ]
  },
  {
   "cell_type": "code",
   "execution_count": 131,
   "metadata": {},
   "outputs": [
    {
     "name": "stdout",
     "output_type": "stream",
     "text": [
      "End\n",
      "% of test with at least one item from recommended list:  0.25651942522618415\n",
      "Avg hit rate: 0.129045643153527 ± 0.0571334790751041\n"
     ]
    }
   ],
   "source": [
    "min_1_hit = 0\n",
    "hit_rates = []\n",
    "\n",
    "for user in reviews20_2014['reviewerID'].unique():\n",
    "    \n",
    "    try:\n",
    "        rec, history, actual = generate_recommendations(user, \n",
    "                                                        svd_k40_predicted_ratings_matrix,\n",
    "                                                        n_recommended_items=10,\n",
    "                                                        return_recommendations_only=False, \n",
    "                                                        print_results=False)\n",
    "\n",
    "        user_recall = model_evaluation_recall_cat(rec, actual)\n",
    "\n",
    "        if user_recall > 0:\n",
    "            min_1_hit += 1\n",
    "            hit_rates.append(user_recall)\n",
    "    \n",
    "    except KeyError:\n",
    "        continue\n",
    "\n",
    "print('End')\n",
    "print('% of test with at least one item from recommended list: ', min_1_hit/len(reviews20_2014['reviewerID'].unique()))\n",
    "print('Avg hit rate: {} ± {}'.format(np.mean(hit_rates), np.std(hit_rates)))"
   ]
  },
  {
   "cell_type": "code",
   "execution_count": 132,
   "metadata": {},
   "outputs": [],
   "source": [
    "rec, history, actual = generate_recommendations('A1S3C5OFU508P3',\n",
    "                                                svd_k40_predicted_ratings_matrix,\n",
    "                                                10,\n",
    "                                                return_recommendations_only=False,\n",
    "                                                print_results=False)"
   ]
  },
  {
   "cell_type": "code",
   "execution_count": 133,
   "metadata": {},
   "outputs": [
    {
     "name": "stdout",
     "output_type": "stream",
     "text": [
      "=== Victorinox 47547 10-1/4-Inch Wavy Bread Knife, Black Fibrox Handle ===\n"
     ]
    },
    {
     "data": {
      "text/html": [
       "<img src=\"http://ecx.images-amazon.com/images/I/21-jssFaZoL._SX300_.jpg\"/>"
      ],
      "text/plain": [
       "<IPython.core.display.Image object>"
      ]
     },
     "metadata": {},
     "output_type": "display_data"
    },
    {
     "name": "stdout",
     "output_type": "stream",
     "text": [
      "=== DreamFoam Bedding 8-Inch Memory Foam Bed, Queen ===\n"
     ]
    },
    {
     "data": {
      "text/html": [
       "<img src=\"http://ecx.images-amazon.com/images/I/51cZPkKx8JL._SX300_.jpg\"/>"
      ],
      "text/plain": [
       "<IPython.core.display.Image object>"
      ]
     },
     "metadata": {},
     "output_type": "display_data"
    },
    {
     "name": "stdout",
     "output_type": "stream",
     "text": [
      "=== OXO Good Grips 3-Quart Stainless Steel Colander ===\n"
     ]
    },
    {
     "data": {
      "text/html": [
       "<img src=\"http://ecx.images-amazon.com/images/I/41vosqWkeeL._SX300_.jpg\"/>"
      ],
      "text/plain": [
       "<IPython.core.display.Image object>"
      ]
     },
     "metadata": {},
     "output_type": "display_data"
    },
    {
     "name": "stdout",
     "output_type": "stream",
     "text": [
      "=== Thermos Stainless-Steel Vacuum Insulated Bottle ===\n"
     ]
    },
    {
     "data": {
      "text/html": [
       "<img src=\"http://ecx.images-amazon.com/images/I/31XYHGG7W4L._SY300_.jpg\"/>"
      ],
      "text/plain": [
       "<IPython.core.display.Image object>"
      ]
     },
     "metadata": {},
     "output_type": "display_data"
    },
    {
     "name": "stdout",
     "output_type": "stream",
     "text": [
      "=== OXO Good Grips Stainless Steel Over-The-Door Hook ===\n"
     ]
    },
    {
     "data": {
      "text/html": [
       "<img src=\"http://ecx.images-amazon.com/images/I/31C84%2BmOcPL._SY300_.jpg\"/>"
      ],
      "text/plain": [
       "<IPython.core.display.Image object>"
      ]
     },
     "metadata": {},
     "output_type": "display_data"
    },
    {
     "name": "stdout",
     "output_type": "stream",
     "text": [
      "=== Japanese Rice Washing Bowl with Side and Bottom Drainers ===\n"
     ]
    },
    {
     "data": {
      "text/html": [
       "<img src=\"http://ecx.images-amazon.com/images/I/41k6o6HOfbL.jpg\"/>"
      ],
      "text/plain": [
       "<IPython.core.display.Image object>"
      ]
     },
     "metadata": {},
     "output_type": "display_data"
    },
    {
     "name": "stdout",
     "output_type": "stream",
     "text": [
      "=== USA Pans 13 x 4 x 4 Inch Pullman, Aluminized Steel with Americoat ===\n"
     ]
    },
    {
     "data": {
      "text/html": [
       "<img src=\"http://ecx.images-amazon.com/images/I/31Sbs4JPosL._SY300_.jpg\"/>"
      ],
      "text/plain": [
       "<IPython.core.display.Image object>"
      ]
     },
     "metadata": {},
     "output_type": "display_data"
    },
    {
     "name": "stdout",
     "output_type": "stream",
     "text": [
      "=== Baker's Edge Nonstick Edge Brownie Pan ===\n"
     ]
    },
    {
     "data": {
      "text/html": [
       "<img src=\"http://ecx.images-amazon.com/images/I/41TpFxp9GRL._SX300_.jpg\"/>"
      ],
      "text/plain": [
       "<IPython.core.display.Image object>"
      ]
     },
     "metadata": {},
     "output_type": "display_data"
    },
    {
     "name": "stdout",
     "output_type": "stream",
     "text": [
      "=== OXO Good Grips Clean Cut Pizza Wheel ===\n"
     ]
    },
    {
     "data": {
      "text/html": [
       "<img src=\"http://ecx.images-amazon.com/images/I/41WuaMY3zuL._SY300_.jpg\"/>"
      ],
      "text/plain": [
       "<IPython.core.display.Image object>"
      ]
     },
     "metadata": {},
     "output_type": "display_data"
    },
    {
     "name": "stdout",
     "output_type": "stream",
     "text": [
      "=== Fox Run Silicone Baking Mat, 11-3/4 by 16-Inch ===\n"
     ]
    },
    {
     "data": {
      "text/html": [
       "<img src=\"http://ecx.images-amazon.com/images/I/41%2BFA-qS-vL._SX300_.jpg\"/>"
      ],
      "text/plain": [
       "<IPython.core.display.Image object>"
      ]
     },
     "metadata": {},
     "output_type": "display_data"
    }
   ],
   "source": [
    "print_product_images(rec)"
   ]
  },
  {
   "cell_type": "code",
   "execution_count": null,
   "metadata": {},
   "outputs": [],
   "source": []
  },
  {
   "cell_type": "markdown",
   "metadata": {},
   "source": [
    "## SVDreg, k=40"
   ]
  },
  {
   "cell_type": "code",
   "execution_count": 134,
   "metadata": {},
   "outputs": [
    {
     "data": {
      "text/plain": [
       "<surprise.prediction_algorithms.matrix_factorization.SVD at 0x136164dd8>"
      ]
     },
     "execution_count": 134,
     "metadata": {},
     "output_type": "execute_result"
    }
   ],
   "source": [
    "reader = Reader(rating_scale=(1,5))\n",
    "data = Dataset.load_from_df(reviews20_pre2014[['reviewerID', 'asin', 'overall']], reader)\n",
    "trainset = data.build_full_trainset()\n",
    "\n",
    "algo = SVD(n_factors=40, lr_bi=0.0001, lr_qi=0.0001, reg_bi=0.7, reg_qi=0.7)\n",
    "algo.fit(trainset)"
   ]
  },
  {
   "cell_type": "code",
   "execution_count": 135,
   "metadata": {},
   "outputs": [],
   "source": [
    "svd_k40reg_predicted_ratings_matrix = generate_predicted_ratings_matrix(user_utility_matrix)"
   ]
  },
  {
   "cell_type": "code",
   "execution_count": 136,
   "metadata": {},
   "outputs": [
    {
     "data": {
      "text/plain": [
       "0.9509224818730287"
      ]
     },
     "execution_count": 136,
     "metadata": {},
     "output_type": "execute_result"
    }
   ],
   "source": [
    "rmse, preds = calculate_rmse(reviews20_2014)\n",
    "rmse"
   ]
  },
  {
   "cell_type": "code",
   "execution_count": 137,
   "metadata": {},
   "outputs": [
    {
     "name": "stdout",
     "output_type": "stream",
     "text": [
      "End\n",
      "% of test with at least one item from recommended list:  0.009047365620010643\n",
      "Avg hit rate: 0.37397504456327985 ± 0.20018305462628175\n"
     ]
    }
   ],
   "source": [
    "min_1_hit = 0\n",
    "hit_rates = []\n",
    "\n",
    "for user in reviews20_2014['reviewerID'].unique():\n",
    "    \n",
    "    user_recall = model_evaluation_recall(user, generate_recommendations(user, \n",
    "                                                                         svd_k40reg_predicted_ratings_matrix,\n",
    "                                                                         n_recommended_items=10,\n",
    "                                                                         return_recommendations_only=True, \n",
    "                                                                         print_results=False))\n",
    "    \n",
    "    if user_recall > 0:\n",
    "        min_1_hit += 1\n",
    "        hit_rates.append(user_recall)\n",
    "\n",
    "print('End')\n",
    "print('% of test with at least one item from recommended list: ', min_1_hit/len(reviews20_2014['reviewerID'].unique()))\n",
    "print('Avg hit rate: {} ± {}'.format(np.mean(hit_rates), np.std(hit_rates)))"
   ]
  },
  {
   "cell_type": "code",
   "execution_count": 138,
   "metadata": {},
   "outputs": [
    {
     "name": "stdout",
     "output_type": "stream",
     "text": [
      "End\n",
      "% of test with at least one item from recommended list:  0.24108568387440127\n",
      "Avg hit rate: 0.12141280353200883 ± 0.05563789832577524\n"
     ]
    }
   ],
   "source": [
    "min_1_hit = 0\n",
    "hit_rates = []\n",
    "\n",
    "for user in reviews20_2014['reviewerID'].unique():\n",
    "    \n",
    "    try:\n",
    "        rec, history, actual = generate_recommendations(user, \n",
    "                                                        svd_k40reg_predicted_ratings_matrix,\n",
    "                                                        n_recommended_items=10,\n",
    "                                                        return_recommendations_only=False, \n",
    "                                                        print_results=False)\n",
    "\n",
    "        user_recall = model_evaluation_recall_cat(rec, actual)\n",
    "\n",
    "        if user_recall > 0:\n",
    "            min_1_hit += 1\n",
    "            hit_rates.append(user_recall)\n",
    "    \n",
    "    except KeyError:\n",
    "        continue\n",
    "\n",
    "print('End')\n",
    "print('% of test with at least one item from recommended list: ', min_1_hit/len(reviews20_2014['reviewerID'].unique()))\n",
    "print('Avg hit rate: {} ± {}'.format(np.mean(hit_rates), np.std(hit_rates)))"
   ]
  },
  {
   "cell_type": "code",
   "execution_count": 139,
   "metadata": {},
   "outputs": [],
   "source": [
    "rec, history, actual = generate_recommendations('A1S3C5OFU508P3',\n",
    "                                                svd_k40reg_predicted_ratings_matrix,\n",
    "                                                10,\n",
    "                                                return_recommendations_only=False,\n",
    "                                                print_results=False)"
   ]
  },
  {
   "cell_type": "code",
   "execution_count": 140,
   "metadata": {},
   "outputs": [
    {
     "name": "stdout",
     "output_type": "stream",
     "text": [
      "=== Kitchenaid Classic Shears With Soft Grip, Black ===\n"
     ]
    },
    {
     "data": {
      "text/html": [
       "<img src=\"http://ecx.images-amazon.com/images/I/31ghPk8lqNL._SY300_.jpg\"/>"
      ],
      "text/plain": [
       "<IPython.core.display.Image object>"
      ]
     },
     "metadata": {},
     "output_type": "display_data"
    },
    {
     "name": "stdout",
     "output_type": "stream",
     "text": [
      "=== Fornuft Casual Flatware Silverware 20 Piece Set ===\n"
     ]
    },
    {
     "data": {
      "text/html": [
       "<img src=\"http://ecx.images-amazon.com/images/I/41aE7B%2BXEiL._SY300_.jpg\"/>"
      ],
      "text/plain": [
       "<IPython.core.display.Image object>"
      ]
     },
     "metadata": {},
     "output_type": "display_data"
    },
    {
     "name": "stdout",
     "output_type": "stream",
     "text": [
      "=== Rada Cutlery French Chefs Knife, Made in USA, Aluminum Handle (R131) ===\n"
     ]
    },
    {
     "data": {
      "text/html": [
       "<img src=\"http://ecx.images-amazon.com/images/I/21ynmLVGQTL._SX300_.jpg\"/>"
      ],
      "text/plain": [
       "<IPython.core.display.Image object>"
      ]
     },
     "metadata": {},
     "output_type": "display_data"
    },
    {
     "name": "stdout",
     "output_type": "stream",
     "text": [
      "=== OXO Good Grips Smooth Potato Masher ===\n"
     ]
    },
    {
     "data": {
      "text/html": [
       "<img src=\"http://ecx.images-amazon.com/images/I/418KDM0PJML._SY300_.jpg\"/>"
      ],
      "text/plain": [
       "<IPython.core.display.Image object>"
      ]
     },
     "metadata": {},
     "output_type": "display_data"
    },
    {
     "name": "stdout",
     "output_type": "stream",
     "text": [
      "=== Mr. Coffee JWX9 5-Cup Programmable Coffeemaker, Black with Stainless Steel Carafe ===\n"
     ]
    },
    {
     "data": {
      "text/html": [
       "<img src=\"http://ecx.images-amazon.com/images/I/41BCEYEnoRL._SY300_.jpg\"/>"
      ],
      "text/plain": [
       "<IPython.core.display.Image object>"
      ]
     },
     "metadata": {},
     "output_type": "display_data"
    },
    {
     "name": "stdout",
     "output_type": "stream",
     "text": [
      "=== Black &amp; Decker S700E ScumBuster Xtreme Cleaning Tool with 3-in-1 Extension Handle ===\n"
     ]
    },
    {
     "data": {
      "text/html": [
       "<img src=\"http://ecx.images-amazon.com/images/I/31CnWCRKLEL._SX300_.jpg\"/>"
      ],
      "text/plain": [
       "<IPython.core.display.Image object>"
      ]
     },
     "metadata": {},
     "output_type": "display_data"
    },
    {
     "name": "stdout",
     "output_type": "stream",
     "text": [
      "=== Fox Run Butter Spreader Stick ===\n"
     ]
    },
    {
     "data": {
      "text/html": [
       "<img src=\"http://ecx.images-amazon.com/images/I/31dbjD7jWUL._SY300_.jpg\"/>"
      ],
      "text/plain": [
       "<IPython.core.display.Image object>"
      ]
     },
     "metadata": {},
     "output_type": "display_data"
    },
    {
     "name": "stdout",
     "output_type": "stream",
     "text": [
      "=== Norpro 615 Jelly Strainer Bags, 2 Piece Set ===\n"
     ]
    },
    {
     "data": {
      "text/html": [
       "<img src=\"http://ecx.images-amazon.com/images/I/41g7b%2BW-qdL._SY300_.jpg\"/>"
      ],
      "text/plain": [
       "<IPython.core.display.Image object>"
      ]
     },
     "metadata": {},
     "output_type": "display_data"
    },
    {
     "name": "stdout",
     "output_type": "stream",
     "text": [
      "=== Big Boss Rapid Wave Halogen Infrared Convection Countertop Oven - 12 &frac12; Quart with Extender Ring Glass Bowl ===\n"
     ]
    },
    {
     "data": {
      "text/html": [
       "<img src=\"http://ecx.images-amazon.com/images/I/51W9DENNmyL._SX300_.jpg\"/>"
      ],
      "text/plain": [
       "<IPython.core.display.Image object>"
      ]
     },
     "metadata": {},
     "output_type": "display_data"
    },
    {
     "name": "stdout",
     "output_type": "stream",
     "text": [
      "=== Grayline 40232 Deluxe Wrap Rack ===\n"
     ]
    },
    {
     "data": {
      "text/html": [
       "<img src=\"http://ecx.images-amazon.com/images/I/51W4Co9vP%2BL._SY300_.jpg\"/>"
      ],
      "text/plain": [
       "<IPython.core.display.Image object>"
      ]
     },
     "metadata": {},
     "output_type": "display_data"
    }
   ],
   "source": [
    "print_product_images(rec)"
   ]
  },
  {
   "cell_type": "markdown",
   "metadata": {},
   "source": [
    "## SVDreg, k=100"
   ]
  },
  {
   "cell_type": "code",
   "execution_count": 141,
   "metadata": {},
   "outputs": [
    {
     "data": {
      "text/plain": [
       "<surprise.prediction_algorithms.matrix_factorization.SVD at 0x12833d3c8>"
      ]
     },
     "execution_count": 141,
     "metadata": {},
     "output_type": "execute_result"
    }
   ],
   "source": [
    "reader = Reader(rating_scale=(1,5))\n",
    "data = Dataset.load_from_df(reviews20_pre2014[['reviewerID', 'asin', 'overall']], reader)\n",
    "trainset = data.build_full_trainset()\n",
    "\n",
    "algo = SVD(n_factors=100, lr_bi=0.0001, lr_qi=0.0001, reg_bi=0.7, reg_qi=0.7)\n",
    "algo.fit(trainset)"
   ]
  },
  {
   "cell_type": "code",
   "execution_count": 142,
   "metadata": {},
   "outputs": [],
   "source": [
    "svd_k100reg_predicted_ratings_matrix = generate_predicted_ratings_matrix(user_utility_matrix)"
   ]
  },
  {
   "cell_type": "code",
   "execution_count": 143,
   "metadata": {},
   "outputs": [
    {
     "data": {
      "text/plain": [
       "0.9536859181624554"
      ]
     },
     "execution_count": 143,
     "metadata": {},
     "output_type": "execute_result"
    }
   ],
   "source": [
    "rmse, preds = calculate_rmse(reviews20_2014)\n",
    "rmse"
   ]
  },
  {
   "cell_type": "code",
   "execution_count": 144,
   "metadata": {},
   "outputs": [
    {
     "name": "stdout",
     "output_type": "stream",
     "text": [
      "End\n",
      "% of test with at least one item from recommended list:  0.005854177754124534\n",
      "Avg hit rate: 0.16196581196581195 ± 0.08268294600961273\n"
     ]
    }
   ],
   "source": [
    "min_1_hit = 0\n",
    "hit_rates = []\n",
    "\n",
    "for user in reviews20_2014['reviewerID'].unique():\n",
    "    \n",
    "    user_recall = model_evaluation_recall(user, generate_recommendations(user, \n",
    "                                                                         svd_k100reg_predicted_ratings_matrix,\n",
    "                                                                         n_recommended_items=10,\n",
    "                                                                         return_recommendations_only=True, \n",
    "                                                                         print_results=False))\n",
    "    \n",
    "    if user_recall > 0:\n",
    "        min_1_hit += 1\n",
    "        hit_rates.append(user_recall)\n",
    "\n",
    "print('End')\n",
    "print('% of test with at least one item from recommended list: ', min_1_hit/len(reviews20_2014['reviewerID'].unique()))\n",
    "print('Avg hit rate: {} ± {}'.format(np.mean(hit_rates), np.std(hit_rates)))"
   ]
  },
  {
   "cell_type": "code",
   "execution_count": 145,
   "metadata": {},
   "outputs": [
    {
     "name": "stdout",
     "output_type": "stream",
     "text": [
      "End\n",
      "% of test with at least one item from recommended list:  0.24215007982969664\n",
      "Avg hit rate: 0.1197802197802198 ± 0.046456360758207825\n"
     ]
    }
   ],
   "source": [
    "min_1_hit = 0\n",
    "hit_rates = []\n",
    "\n",
    "for user in reviews20_2014['reviewerID'].unique():\n",
    "    \n",
    "    try:\n",
    "        rec, history, actual = generate_recommendations(user, \n",
    "                                                        svd_k100reg_predicted_ratings_matrix,\n",
    "                                                        n_recommended_items=10,\n",
    "                                                        return_recommendations_only=False, \n",
    "                                                        print_results=False)\n",
    "\n",
    "        user_recall = model_evaluation_recall_cat(rec, actual)\n",
    "\n",
    "        if user_recall > 0:\n",
    "            min_1_hit += 1\n",
    "            hit_rates.append(user_recall)\n",
    "    \n",
    "    except KeyError:\n",
    "        continue\n",
    "\n",
    "print('End')\n",
    "print('% of test with at least one item from recommended list: ', min_1_hit/len(reviews20_2014['reviewerID'].unique()))\n",
    "print('Avg hit rate: {} ± {}'.format(np.mean(hit_rates), np.std(hit_rates)))"
   ]
  },
  {
   "cell_type": "code",
   "execution_count": 146,
   "metadata": {},
   "outputs": [],
   "source": [
    "rec, history, actual = generate_recommendations('A1S3C5OFU508P3',\n",
    "                                                svd_k100reg_predicted_ratings_matrix,\n",
    "                                                10,\n",
    "                                                return_recommendations_only=False,\n",
    "                                                print_results=False)"
   ]
  },
  {
   "cell_type": "code",
   "execution_count": 147,
   "metadata": {},
   "outputs": [
    {
     "name": "stdout",
     "output_type": "stream",
     "text": [
      "=== Zevro Dual Dry Food Dispenser, Black/Chrome ===\n"
     ]
    },
    {
     "data": {
      "text/html": [
       "<img src=\"http://ecx.images-amazon.com/images/I/51OLbDg4jXL._SY300_.jpg\"/>"
      ],
      "text/plain": [
       "<IPython.core.display.Image object>"
      ]
     },
     "metadata": {},
     "output_type": "display_data"
    },
    {
     "name": "stdout",
     "output_type": "stream",
     "text": [
      "=== Cuisinart Dual-Sandwich Nonstick Electric Grill ===\n"
     ]
    },
    {
     "data": {
      "text/html": [
       "<img src=\"http://ecx.images-amazon.com/images/I/417IXADV8wL._SX300_.jpg\"/>"
      ],
      "text/plain": [
       "<IPython.core.display.Image object>"
      ]
     },
     "metadata": {},
     "output_type": "display_data"
    },
    {
     "name": "stdout",
     "output_type": "stream",
     "text": [
      "=== Bodum Latte Battery Operated Milk Frother and Light Mixer with Plastic Beaker, 0.2 L, 6-Ounce, Off White ===\n"
     ]
    },
    {
     "data": {
      "text/html": [
       "<img src=\"http://ecx.images-amazon.com/images/I/31SpabD3GjL._SY300_.jpg\"/>"
      ],
      "text/plain": [
       "<IPython.core.display.Image object>"
      ]
     },
     "metadata": {},
     "output_type": "display_data"
    },
    {
     "name": "stdout",
     "output_type": "stream",
     "text": [
      "=== Fat Daddio's Anodized Aluminum Sheet Cake Pan, 14 Inch x 22 Inch x 3 Inch ===\n"
     ]
    },
    {
     "data": {
      "text/html": [
       "<img src=\"http://ecx.images-amazon.com/images/I/3193RidgwCL._SY300_.jpg\"/>"
      ],
      "text/plain": [
       "<IPython.core.display.Image object>"
      ]
     },
     "metadata": {},
     "output_type": "display_data"
    },
    {
     "name": "stdout",
     "output_type": "stream",
     "text": [
      "=== Progressive International Perfect Prep and Breading Trays ===\n"
     ]
    },
    {
     "data": {
      "text/html": [
       "<img src=\"http://ecx.images-amazon.com/images/I/31x1L8rsE2L._SX300_.jpg\"/>"
      ],
      "text/plain": [
       "<IPython.core.display.Image object>"
      ]
     },
     "metadata": {},
     "output_type": "display_data"
    },
    {
     "name": "stdout",
     "output_type": "stream",
     "text": [
      "=== Dyson DC24 Animal Compact Upright Vacuum Cleaner ===\n"
     ]
    },
    {
     "data": {
      "text/html": [
       "<img src=\"http://ecx.images-amazon.com/images/I/31S3D7jdEUL._SY300_.jpg\"/>"
      ],
      "text/plain": [
       "<IPython.core.display.Image object>"
      ]
     },
     "metadata": {},
     "output_type": "display_data"
    },
    {
     "name": "stdout",
     "output_type": "stream",
     "text": [
      "=== Helen Chen's Asian Kitchen 14-inch Carbon Steel Wok with Bamboo Handles ===\n"
     ]
    },
    {
     "data": {
      "text/html": [
       "<img src=\"http://ecx.images-amazon.com/images/I/31tW9-P10IL._SX300_.jpg\"/>"
      ],
      "text/plain": [
       "<IPython.core.display.Image object>"
      ]
     },
     "metadata": {},
     "output_type": "display_data"
    },
    {
     "name": "stdout",
     "output_type": "stream",
     "text": [
      "=== DogBones NeckBones Neck Pillow, Evergreen ===\n"
     ]
    },
    {
     "data": {
      "text/html": [
       "<img src=\"http://ecx.images-amazon.com/images/I/31SWWTE497L._SX300_.jpg\"/>"
      ],
      "text/plain": [
       "<IPython.core.display.Image object>"
      ]
     },
     "metadata": {},
     "output_type": "display_data"
    },
    {
     "name": "stdout",
     "output_type": "stream",
     "text": [
      "=== Catskill Craftsmen 12-Inch Tempered Glass Cutting Board with Padded Feet ===\n"
     ]
    },
    {
     "data": {
      "text/html": [
       "<img src=\"http://ecx.images-amazon.com/images/I/41x0gQhr5mL._SX300_.jpg\"/>"
      ],
      "text/plain": [
       "<IPython.core.display.Image object>"
      ]
     },
     "metadata": {},
     "output_type": "display_data"
    },
    {
     "name": "stdout",
     "output_type": "stream",
     "text": [
      "=== Luminarc Nuance 10.5-Ounce Goblet, Set of 12 ===\n"
     ]
    },
    {
     "data": {
      "text/html": [
       "<img src=\"http://ecx.images-amazon.com/images/I/31Y2ONdKZWL._SY300_.jpg\"/>"
      ],
      "text/plain": [
       "<IPython.core.display.Image object>"
      ]
     },
     "metadata": {},
     "output_type": "display_data"
    }
   ],
   "source": [
    "print_product_images(rec)"
   ]
  },
  {
   "cell_type": "markdown",
   "metadata": {},
   "source": [
    "## Random 10 Products Recall"
   ]
  },
  {
   "cell_type": "code",
   "execution_count": 150,
   "metadata": {},
   "outputs": [
    {
     "name": "stdout",
     "output_type": "stream",
     "text": [
      "End\n",
      "% of test with at least one item from recommended list:  0.0037253858435337944\n",
      "Avg hit rate: 0.4004586683158111 ± 0.3864091837480371\n"
     ]
    }
   ],
   "source": [
    "min_1_hit = 0\n",
    "hit_rates = []\n",
    "\n",
    "for user in reviews20_2014['reviewerID'].unique():\n",
    "    \n",
    "    random_items = list(n_random_items(10))\n",
    "    \n",
    "    user_recall = model_evaluation_recall(user, random_items)\n",
    "    \n",
    "    if user_recall > 0:\n",
    "        min_1_hit += 1\n",
    "        hit_rates.append(user_recall)\n",
    "\n",
    "print('End')\n",
    "print('% of test with at least one item from recommended list: ', min_1_hit/len(reviews20_2014['reviewerID'].unique()))\n",
    "print('Avg hit rate: {} ± {}'.format(np.mean(hit_rates), np.std(hit_rates)))"
   ]
  },
  {
   "cell_type": "code",
   "execution_count": 151,
   "metadata": {},
   "outputs": [
    {
     "name": "stdout",
     "output_type": "stream",
     "text": [
      "End\n",
      "% of test with at least one item from recommended list:  0.24853645556146886\n",
      "Avg hit rate: 0.11755888650963599 ± 0.045245396340187975\n"
     ]
    }
   ],
   "source": [
    "min_1_hit = 0\n",
    "hit_rates = []\n",
    "\n",
    "for user in reviews20_2014['reviewerID'].unique():\n",
    "    \n",
    "    try:\n",
    "        _, history, actual = generate_recommendations(user, \n",
    "                                                        uucf_k3_pearson_predicted_ratings_matrix,\n",
    "                                                        n_recommended_items=10,\n",
    "                                                        return_recommendations_only=False, \n",
    "                                                        print_results=False)\n",
    "        rec = list(n_random_items(10))\n",
    "\n",
    "        user_recall = model_evaluation_recall_cat(rec, actual)\n",
    "\n",
    "        if user_recall > 0:\n",
    "            min_1_hit += 1\n",
    "            hit_rates.append(user_recall)\n",
    "    \n",
    "    except KeyError:\n",
    "        continue\n",
    "\n",
    "print('End')\n",
    "print('% of test with at least one item from recommended list: ', min_1_hit/len(reviews20_2014['reviewerID'].unique()))\n",
    "print('Avg hit rate: {} ± {}'.format(np.mean(hit_rates), np.std(hit_rates)))"
   ]
  },
  {
   "cell_type": "code",
   "execution_count": null,
   "metadata": {},
   "outputs": [],
   "source": []
  },
  {
   "cell_type": "code",
   "execution_count": null,
   "metadata": {},
   "outputs": [],
   "source": []
  },
  {
   "cell_type": "code",
   "execution_count": null,
   "metadata": {},
   "outputs": [],
   "source": []
  },
  {
   "cell_type": "code",
   "execution_count": null,
   "metadata": {},
   "outputs": [],
   "source": []
  },
  {
   "cell_type": "code",
   "execution_count": null,
   "metadata": {},
   "outputs": [],
   "source": []
  },
  {
   "cell_type": "markdown",
   "metadata": {},
   "source": [
    "# FINAL MODEL"
   ]
  },
  {
   "cell_type": "code",
   "execution_count": 65,
   "metadata": {},
   "outputs": [],
   "source": [
    "def hybrid_recommendations(user_id, perc_svd=0.3, return_recommendations_only=False):\n",
    "    uu_rec, history, actual = generate_recommendations(user_id, \n",
    "                                                       pred_matrix = uucf_k3_pearsonbaseline_predicted_ratings_matrix,\n",
    "                                                       n_recommended_items = int(10*(1-perc_svd)),\n",
    "                                                       return_recommendations_only=False,\n",
    "                                                       print_results=False)\n",
    "    \n",
    "    svd_rec = generate_recommendations(user_id, \n",
    "                                       pred_matrix = svd_k40reg_predicted_ratings_matrix,\n",
    "                                       n_recommended_items = int(10*perc_svd),\n",
    "                                       return_recommendations_only=True,\n",
    "                                       print_results=False)\n",
    "    \n",
    "    final_rec = uu_rec + svd_rec\n",
    "    \n",
    "    if return_recommendations_only==False:\n",
    "        return final_rec, history, actual\n",
    "    else: \n",
    "        return final_rec"
   ]
  },
  {
   "cell_type": "code",
   "execution_count": 35,
   "metadata": {},
   "outputs": [
    {
     "name": "stdout",
     "output_type": "stream",
     "text": [
      "Computing the pearson similarity matrix...\n",
      "Done computing similarity matrix.\n"
     ]
    },
    {
     "data": {
      "text/plain": [
       "<surprise.prediction_algorithms.knns.KNNWithMeans at 0x1208155c0>"
      ]
     },
     "execution_count": 35,
     "metadata": {},
     "output_type": "execute_result"
    }
   ],
   "source": [
    "reader = Reader(rating_scale=(1,5))\n",
    "data = Dataset.load_from_df(reviews20_pre2014[['reviewerID', 'asin', 'overall']], reader)\n",
    "trainset = data.build_full_trainset()\n",
    "\n",
    "algo = KNNWithMeans(k=3, sim_options={'name': 'pearson', 'user_based': True})\n",
    "algo.fit(trainset)"
   ]
  },
  {
   "cell_type": "code",
   "execution_count": 36,
   "metadata": {},
   "outputs": [],
   "source": [
    "uucf_k3_pearson_predicted_ratings_matrix = generate_predicted_ratings_matrix(user_utility_matrix)"
   ]
  },
  {
   "cell_type": "code",
   "execution_count": 37,
   "metadata": {},
   "outputs": [
    {
     "name": "stdout",
     "output_type": "stream",
     "text": [
      "Estimating biases using als...\n",
      "Computing the pearson_baseline similarity matrix...\n",
      "Done computing similarity matrix.\n"
     ]
    },
    {
     "data": {
      "text/plain": [
       "<surprise.prediction_algorithms.knns.KNNWithMeans at 0x11e9f5dd8>"
      ]
     },
     "execution_count": 37,
     "metadata": {},
     "output_type": "execute_result"
    }
   ],
   "source": [
    "reader = Reader(rating_scale=(1,5))\n",
    "data = Dataset.load_from_df(reviews20_pre2014[['reviewerID', 'asin', 'overall']], reader)\n",
    "trainset = data.build_full_trainset()\n",
    "\n",
    "algo = KNNWithMeans(k=3, sim_options={'name': 'pearson_baseline', 'user_based': True})\n",
    "algo.fit(trainset)"
   ]
  },
  {
   "cell_type": "code",
   "execution_count": 38,
   "metadata": {},
   "outputs": [],
   "source": [
    "uucf_k3_pearsonbaseline_predicted_ratings_matrix = generate_predicted_ratings_matrix(user_utility_matrix)"
   ]
  },
  {
   "cell_type": "code",
   "execution_count": 40,
   "metadata": {},
   "outputs": [
    {
     "data": {
      "text/plain": [
       "<surprise.prediction_algorithms.matrix_factorization.SVD at 0x133bb5390>"
      ]
     },
     "execution_count": 40,
     "metadata": {},
     "output_type": "execute_result"
    }
   ],
   "source": [
    "algo = SVD(n_factors=40, lr_bi=0.0001, lr_qi=0.0001, reg_bi=0.7, reg_qi=0.7)\n",
    "algo.fit(trainset)"
   ]
  },
  {
   "cell_type": "code",
   "execution_count": 41,
   "metadata": {},
   "outputs": [],
   "source": [
    "svd_k40reg_predicted_ratings_matrix = generate_predicted_ratings_matrix(user_utility_matrix)"
   ]
  },
  {
   "cell_type": "code",
   "execution_count": 56,
   "metadata": {},
   "outputs": [],
   "source": [
    "user_tmp = 'A1027WM3PXKVMR'"
   ]
  },
  {
   "cell_type": "code",
   "execution_count": 57,
   "metadata": {},
   "outputs": [
    {
     "name": "stdout",
     "output_type": "stream",
     "text": [
      "['Martex Bath Towels, White, 6-Pack', 'Replacement Filters for Aeropress (350 pk)', \"Rada Cutlery R129 Chef's Dicer with Aluminum Handle\", 'Miracle Blade III Perfection Series 11-Piece Cutlery Set', \"Sun's Tea (TM) 20oz Strong Double Wall Thermo Glasses/Tumbler for Beer/Cocktail/Lemonade/Iced Tea, Set of 2\", 'Norpro Coffee Grinder', 'Hamilton Beach 70450 8-Cup Food Processor']\n",
      "['Honey-Can-Do SRT-01602 Kids Toy Organizer and Storage Bins, Natural/Primary', 'Cuisinart CPC-600 1000-Watt 6-Quart Electric Pressure Cooker, Brushed Stainless and Matte Black', 'Bormioli Rocco Gelo 2-Piece Glass Pitcher Set with Lids, Red and Green']\n"
     ]
    }
   ],
   "source": [
    "rec, history, actual = hybrid_recommendations('A1S3C5OFU508P3')"
   ]
  },
  {
   "cell_type": "code",
   "execution_count": 58,
   "metadata": {},
   "outputs": [
    {
     "data": {
      "text/plain": [
       "['Martex Bath Towels, White, 6-Pack',\n",
       " 'Replacement Filters for Aeropress (350 pk)',\n",
       " \"Rada Cutlery R129 Chef's Dicer with Aluminum Handle\",\n",
       " 'Miracle Blade III Perfection Series 11-Piece Cutlery Set',\n",
       " \"Sun's Tea (TM) 20oz Strong Double Wall Thermo Glasses/Tumbler for Beer/Cocktail/Lemonade/Iced Tea, Set of 2\",\n",
       " 'Norpro Coffee Grinder',\n",
       " 'Hamilton Beach 70450 8-Cup Food Processor',\n",
       " 'Honey-Can-Do SRT-01602 Kids Toy Organizer and Storage Bins, Natural/Primary',\n",
       " 'Cuisinart CPC-600 1000-Watt 6-Quart Electric Pressure Cooker, Brushed Stainless and Matte Black',\n",
       " 'Bormioli Rocco Gelo 2-Piece Glass Pitcher Set with Lids, Red and Green']"
      ]
     },
     "execution_count": 58,
     "metadata": {},
     "output_type": "execute_result"
    }
   ],
   "source": [
    "rec"
   ]
  },
  {
   "cell_type": "code",
   "execution_count": 62,
   "metadata": {},
   "outputs": [
    {
     "name": "stdout",
     "output_type": "stream",
     "text": [
      "=== Martex Bath Towels, White, 6-Pack ===\n"
     ]
    },
    {
     "data": {
      "text/html": [
       "<img src=\"http://ecx.images-amazon.com/images/I/4122%2B8SroiL._SY300_.jpg\"/>"
      ],
      "text/plain": [
       "<IPython.core.display.Image object>"
      ]
     },
     "metadata": {},
     "output_type": "display_data"
    },
    {
     "name": "stdout",
     "output_type": "stream",
     "text": [
      "=== Replacement Filters for Aeropress (350 pk) ===\n"
     ]
    },
    {
     "data": {
      "text/html": [
       "<img src=\"http://ecx.images-amazon.com/images/I/41AXFwHrg1L._SY300_.jpg\"/>"
      ],
      "text/plain": [
       "<IPython.core.display.Image object>"
      ]
     },
     "metadata": {},
     "output_type": "display_data"
    },
    {
     "name": "stdout",
     "output_type": "stream",
     "text": [
      "=== Rada Cutlery R129 Chef's Dicer with Aluminum Handle ===\n"
     ]
    },
    {
     "data": {
      "text/html": [
       "<img src=\"http://ecx.images-amazon.com/images/I/21YER5SyXOL._SX300_.jpg\"/>"
      ],
      "text/plain": [
       "<IPython.core.display.Image object>"
      ]
     },
     "metadata": {},
     "output_type": "display_data"
    },
    {
     "name": "stdout",
     "output_type": "stream",
     "text": [
      "=== Miracle Blade III Perfection Series 11-Piece Cutlery Set ===\n"
     ]
    },
    {
     "data": {
      "text/html": [
       "<img src=\"http://ecx.images-amazon.com/images/I/51y2FG6bnUL._SX300_.jpg\"/>"
      ],
      "text/plain": [
       "<IPython.core.display.Image object>"
      ]
     },
     "metadata": {},
     "output_type": "display_data"
    },
    {
     "name": "stdout",
     "output_type": "stream",
     "text": [
      "=== Sun's Tea (TM) 20oz Strong Double Wall Thermo Glasses/Tumbler for Beer/Cocktail/Lemonade/Iced Tea, Set of 2 ===\n"
     ]
    },
    {
     "data": {
      "text/html": [
       "<img src=\"http://ecx.images-amazon.com/images/I/513lWHrDOSL._SY300_.jpg\"/>"
      ],
      "text/plain": [
       "<IPython.core.display.Image object>"
      ]
     },
     "metadata": {},
     "output_type": "display_data"
    },
    {
     "name": "stdout",
     "output_type": "stream",
     "text": [
      "=== Norpro Coffee Grinder ===\n"
     ]
    },
    {
     "data": {
      "text/html": [
       "<img src=\"http://ecx.images-amazon.com/images/I/41CB8j3Y96L._SY300_.jpg\"/>"
      ],
      "text/plain": [
       "<IPython.core.display.Image object>"
      ]
     },
     "metadata": {},
     "output_type": "display_data"
    },
    {
     "name": "stdout",
     "output_type": "stream",
     "text": [
      "=== Hamilton Beach 70450 8-Cup Food Processor ===\n"
     ]
    },
    {
     "data": {
      "text/html": [
       "<img src=\"http://ecx.images-amazon.com/images/I/41iDX10uCFL._SY300_.jpg\"/>"
      ],
      "text/plain": [
       "<IPython.core.display.Image object>"
      ]
     },
     "metadata": {},
     "output_type": "display_data"
    },
    {
     "name": "stdout",
     "output_type": "stream",
     "text": [
      "=== Honey-Can-Do SRT-01602 Kids Toy Organizer and Storage Bins, Natural/Primary ===\n"
     ]
    },
    {
     "data": {
      "text/html": [
       "<img src=\"http://ecx.images-amazon.com/images/I/51EgKSPqtTL._SY300_.jpg\"/>"
      ],
      "text/plain": [
       "<IPython.core.display.Image object>"
      ]
     },
     "metadata": {},
     "output_type": "display_data"
    },
    {
     "name": "stdout",
     "output_type": "stream",
     "text": [
      "=== Cuisinart CPC-600 1000-Watt 6-Quart Electric Pressure Cooker, Brushed Stainless and Matte Black ===\n"
     ]
    },
    {
     "data": {
      "text/html": [
       "<img src=\"http://ecx.images-amazon.com/images/I/41fGn0m8kzL._SY300_.jpg\"/>"
      ],
      "text/plain": [
       "<IPython.core.display.Image object>"
      ]
     },
     "metadata": {},
     "output_type": "display_data"
    },
    {
     "name": "stdout",
     "output_type": "stream",
     "text": [
      "=== Bormioli Rocco Gelo 2-Piece Glass Pitcher Set with Lids, Red and Green ===\n"
     ]
    },
    {
     "data": {
      "text/html": [
       "<img src=\"http://ecx.images-amazon.com/images/I/51WN8RKndeL._SX300_.jpg\"/>"
      ],
      "text/plain": [
       "<IPython.core.display.Image object>"
      ]
     },
     "metadata": {},
     "output_type": "display_data"
    }
   ],
   "source": [
    "print_product_images(rec)"
   ]
  },
  {
   "cell_type": "code",
   "execution_count": 66,
   "metadata": {
    "scrolled": true
   },
   "outputs": [
    {
     "name": "stdout",
     "output_type": "stream",
     "text": [
      "End\n",
      "% of test with at least one item from recommended list:  0.007450771687067589\n",
      "Avg hit rate: 0.17846350078492934 ± 0.1255955202068005\n"
     ]
    }
   ],
   "source": [
    "min_1_hit = 0\n",
    "hit_rates = []\n",
    "\n",
    "for user in reviews20_2014['reviewerID'].unique():\n",
    "    \n",
    "    user_recall = model_evaluation_recall(user, hybrid_recommendations(user,return_recommendations_only=True))\n",
    "    \n",
    "    if user_recall > 0:\n",
    "        min_1_hit += 1\n",
    "        hit_rates.append(user_recall)\n",
    "\n",
    "print('End')\n",
    "print('% of test with at least one item from recommended list: ', min_1_hit/len(reviews20_2014['reviewerID'].unique()))\n",
    "print('Avg hit rate: {} ± {}'.format(np.mean(hit_rates), np.std(hit_rates)))"
   ]
  },
  {
   "cell_type": "code",
   "execution_count": 67,
   "metadata": {},
   "outputs": [],
   "source": [
    "def model_evaluation_recall_cat(rec, actual, verbose=False):\n",
    "    \n",
    "    rec_categories = set([category_lookup_short[item] for item in rec])\n",
    "    actual_categories = set([category_lookup_short[item] for item in actual])\n",
    "    \n",
    "    overlap = rec_categories & actual_categories\n",
    "    pct_recall = len(overlap)/len(rec)\n",
    "    \n",
    "    if verbose==True:\n",
    "        print(overlap)\n",
    "    \n",
    "    return pct_recall"
   ]
  },
  {
   "cell_type": "code",
   "execution_count": 76,
   "metadata": {},
   "outputs": [
    {
     "name": "stdout",
     "output_type": "stream",
     "text": [
      "End\n",
      "% of test with at least one item from recommended list:  0.26663118680149017\n",
      "Avg hit rate: 0.12315369261477048 ± 0.0507708476725625\n"
     ]
    }
   ],
   "source": [
    "min_1_hit = 0\n",
    "hit_rates = []\n",
    "\n",
    "for user in reviews20_2014['reviewerID'].unique():\n",
    "    \n",
    "    try:\n",
    "        rec, history, actual = hybrid_recommendations(user,return_recommendations_only=False)\n",
    "\n",
    "        user_recall = model_evaluation_recall_cat(rec, actual)\n",
    "\n",
    "        if user_recall > 0:\n",
    "            min_1_hit += 1\n",
    "            hit_rates.append(user_recall)\n",
    "    \n",
    "    except KeyError:\n",
    "        continue\n",
    "\n",
    "print('End')\n",
    "print('% of test with at least one item from recommended list: ', min_1_hit/len(reviews20_2014['reviewerID'].unique()))\n",
    "print('Avg hit rate: {} ± {}'.format(np.mean(hit_rates), np.std(hit_rates)))"
   ]
  },
  {
   "cell_type": "code",
   "execution_count": 79,
   "metadata": {},
   "outputs": [],
   "source": [
    "rec, history, actual = hybrid_recommendations('AJT2XS3UJ9WIK')"
   ]
  },
  {
   "cell_type": "code",
   "execution_count": 80,
   "metadata": {},
   "outputs": [
    {
     "name": "stdout",
     "output_type": "stream",
     "text": [
      "=== Lock &amp; Lock Storage 1 Gallon Large Pitcher ===\n"
     ]
    },
    {
     "data": {
      "text/html": [
       "<img src=\"http://ecx.images-amazon.com/images/I/41Kjhty2O%2BL._SY300_.jpg\"/>"
      ],
      "text/plain": [
       "<IPython.core.display.Image object>"
      ]
     },
     "metadata": {},
     "output_type": "display_data"
    },
    {
     "name": "stdout",
     "output_type": "stream",
     "text": [
      "=== Sleep Better Iso-Cool Memory Foam Pillow, Gusseted Side Sleeper ,Standard ===\n"
     ]
    },
    {
     "data": {
      "text/html": [
       "<img src=\"http://ecx.images-amazon.com/images/I/31w0Sm%2B8TcL._SX300_.jpg\"/>"
      ],
      "text/plain": [
       "<IPython.core.display.Image object>"
      ]
     },
     "metadata": {},
     "output_type": "display_data"
    },
    {
     "name": "stdout",
     "output_type": "stream",
     "text": [
      "=== Dyson DC50 Animal Compact Upright Vacuum Cleaner ===\n"
     ]
    },
    {
     "data": {
      "text/html": [
       "<img src=\"http://ecx.images-amazon.com/images/I/31sKnTuoDtL._SY300_.jpg\"/>"
      ],
      "text/plain": [
       "<IPython.core.display.Image object>"
      ]
     },
     "metadata": {},
     "output_type": "display_data"
    },
    {
     "name": "stdout",
     "output_type": "stream",
     "text": [
      "=== Soft Heat Micro-Plush Top Low-Voltage Electric Heated Twin Mattress Pad, White ===\n"
     ]
    },
    {
     "data": {
      "text/html": [
       "<img src=\"http://ecx.images-amazon.com/images/I/419MerQOGpL._SX300_.jpg\"/>"
      ],
      "text/plain": [
       "<IPython.core.display.Image object>"
      ]
     },
     "metadata": {},
     "output_type": "display_data"
    },
    {
     "name": "stdout",
     "output_type": "stream",
     "text": [
      "=== Rada Cutlery R141 Deluxe Vegetable Peeler with Aluminum Handle ===\n"
     ]
    },
    {
     "data": {
      "text/html": [
       "<img src=\"http://ecx.images-amazon.com/images/I/21Fn8ZlPlnL._SX300_.jpg\"/>"
      ],
      "text/plain": [
       "<IPython.core.display.Image object>"
      ]
     },
     "metadata": {},
     "output_type": "display_data"
    },
    {
     "name": "stdout",
     "output_type": "stream",
     "text": [
      "=== WearEver C943SA64 Pure Living Nonstick Ceramic Coating PTFE-PFOA-Cadmium Free Dishwasher Safe 10 Piece Cookware Set, Red ===\n"
     ]
    },
    {
     "data": {
      "text/html": [
       "<img src=\"http://ecx.images-amazon.com/images/I/41aQJJ%2BwSUL._SX300_.jpg\"/>"
      ],
      "text/plain": [
       "<IPython.core.display.Image object>"
      ]
     },
     "metadata": {},
     "output_type": "display_data"
    },
    {
     "name": "stdout",
     "output_type": "stream",
     "text": [
      "=== Cathay Home Fashions Luxury Silky Soft Brushed Microfiber Twin Sheet Set, Burgundy ===\n"
     ]
    },
    {
     "data": {
      "text/html": [
       "<img src=\"http://ecx.images-amazon.com/images/I/41B9n-Av2GL._SX300_.jpg\"/>"
      ],
      "text/plain": [
       "<IPython.core.display.Image object>"
      ]
     },
     "metadata": {},
     "output_type": "display_data"
    },
    {
     "name": "stdout",
     "output_type": "stream",
     "text": [
      "=== Oneida Mooncrest 45-Piece Flatware Set, Service for 8 ===\n"
     ]
    },
    {
     "data": {
      "text/html": [
       "<img src=\"http://ecx.images-amazon.com/images/I/41Vwoc4AnSL._SY300_.jpg\"/>"
      ],
      "text/plain": [
       "<IPython.core.display.Image object>"
      ]
     },
     "metadata": {},
     "output_type": "display_data"
    },
    {
     "name": "stdout",
     "output_type": "stream",
     "text": [
      "=== YouCopia Super SpiceStack 27-Bottle Spice Organizer, White ===\n"
     ]
    },
    {
     "data": {
      "text/html": [
       "<img src=\"http://ecx.images-amazon.com/images/I/51nbREHwUlL._SX300_.jpg\"/>"
      ],
      "text/plain": [
       "<IPython.core.display.Image object>"
      ]
     },
     "metadata": {},
     "output_type": "display_data"
    },
    {
     "name": "stdout",
     "output_type": "stream",
     "text": [
      "=== Sunbeam 3910-100 2-Slice Wide Slot Toaster, Black ===\n"
     ]
    },
    {
     "data": {
      "text/html": [
       "<img src=\"http://ecx.images-amazon.com/images/I/41gkjHdnJ%2BL._SY300_.jpg\"/>"
      ],
      "text/plain": [
       "<IPython.core.display.Image object>"
      ]
     },
     "metadata": {},
     "output_type": "display_data"
    }
   ],
   "source": [
    "print_product_images(rec)"
   ]
  },
  {
   "cell_type": "code",
   "execution_count": 81,
   "metadata": {},
   "outputs": [],
   "source": [
    "rec, history, actual = hybrid_recommendations('A2D1PTMMCA93BV')"
   ]
  },
  {
   "cell_type": "code",
   "execution_count": 82,
   "metadata": {},
   "outputs": [
    {
     "name": "stdout",
     "output_type": "stream",
     "text": [
      "=== Proctor-Silex 75217F Power Can Opener Black ===\n"
     ]
    },
    {
     "data": {
      "text/html": [
       "<img src=\"http://ecx.images-amazon.com/images/I/41D9M71MXEL._SY300_.jpg\"/>"
      ],
      "text/plain": [
       "<IPython.core.display.Image object>"
      ]
     },
     "metadata": {},
     "output_type": "display_data"
    },
    {
     "name": "stdout",
     "output_type": "stream",
     "text": [
      "=== Bormioli Rocco Verdi Cappuccino Cup with Stainless Steel Handle, Set of 4, Gift Boxed ===\n"
     ]
    },
    {
     "data": {
      "text/html": [
       "<img src=\"http://ecx.images-amazon.com/images/I/41Vk4UItiqL._SY300_.jpg\"/>"
      ],
      "text/plain": [
       "<IPython.core.display.Image object>"
      ]
     },
     "metadata": {},
     "output_type": "display_data"
    },
    {
     "name": "stdout",
     "output_type": "stream",
     "text": [
      "=== Debbie Meyer GreenBags, 20-Pack ===\n"
     ]
    },
    {
     "data": {
      "text/html": [
       "<img src=\"http://ecx.images-amazon.com/images/I/41Y1mMfNnyL._SY300_.jpg\"/>"
      ],
      "text/plain": [
       "<IPython.core.display.Image object>"
      ]
     },
     "metadata": {},
     "output_type": "display_data"
    },
    {
     "name": "stdout",
     "output_type": "stream",
     "text": [
      "=== KitchenAid KHM7T 7-Speed Artisan Hand Mixer, White ===\n"
     ]
    },
    {
     "data": {
      "text/html": [
       "<img src=\"http://ecx.images-amazon.com/images/I/314FQRK1SSL._SX300_.jpg\"/>"
      ],
      "text/plain": [
       "<IPython.core.display.Image object>"
      ]
     },
     "metadata": {},
     "output_type": "display_data"
    },
    {
     "name": "stdout",
     "output_type": "stream",
     "text": [
      "=== BISSELL SpotLifter 2X Portable Deep Carpet Cleaner, 1719 ===\n"
     ]
    },
    {
     "data": {
      "text/html": [
       "<img src=\"http://ecx.images-amazon.com/images/I/41T74Y2JD4L._SX300_.jpg\"/>"
      ],
      "text/plain": [
       "<IPython.core.display.Image object>"
      ]
     },
     "metadata": {},
     "output_type": "display_data"
    },
    {
     "name": "stdout",
     "output_type": "stream",
     "text": [
      "=== OXO Good Grips 4-Cup Fat Separator ===\n"
     ]
    },
    {
     "data": {
      "text/html": [
       "<img src=\"http://ecx.images-amazon.com/images/I/4158wgeRrpL._SY300_.jpg\"/>"
      ],
      "text/plain": [
       "<IPython.core.display.Image object>"
      ]
     },
     "metadata": {},
     "output_type": "display_data"
    },
    {
     "name": "stdout",
     "output_type": "stream",
     "text": [
      "=== Black and Decker SL5470C Stainless Steel Slow Cooker ===\n"
     ]
    },
    {
     "data": {
      "text/html": [
       "<img src=\"http://ecx.images-amazon.com/images/I/41OOnGi1-IL._SY300_.jpg\"/>"
      ],
      "text/plain": [
       "<IPython.core.display.Image object>"
      ]
     },
     "metadata": {},
     "output_type": "display_data"
    },
    {
     "name": "stdout",
     "output_type": "stream",
     "text": [
      "=== Ateco 14406 6-Inch Round Stainless Steel Cutter ===\n"
     ]
    },
    {
     "data": {
      "text/html": [
       "<img src=\"http://ecx.images-amazon.com/images/I/31ztmj8btnL._SY300_.jpg\"/>"
      ],
      "text/plain": [
       "<IPython.core.display.Image object>"
      ]
     },
     "metadata": {},
     "output_type": "display_data"
    },
    {
     "name": "stdout",
     "output_type": "stream",
     "text": [
      "=== Reflections 52 by 52-Inch Tablecloth, Khaki ===\n"
     ]
    },
    {
     "data": {
      "text/html": [
       "<img src=\"http://ecx.images-amazon.com/images/I/41DYXNY2CML._SY300_.jpg\"/>"
      ],
      "text/plain": [
       "<IPython.core.display.Image object>"
      ]
     },
     "metadata": {},
     "output_type": "display_data"
    },
    {
     "name": "stdout",
     "output_type": "stream",
     "text": [
      "=== Winsome Capri Foldable Fabric Baskets, Set of 4, Black ===\n"
     ]
    },
    {
     "data": {
      "text/html": [
       "<img src=\"http://ecx.images-amazon.com/images/I/31TuVULM8xL._SX300_.jpg\"/>"
      ],
      "text/plain": [
       "<IPython.core.display.Image object>"
      ]
     },
     "metadata": {},
     "output_type": "display_data"
    }
   ],
   "source": [
    "print_product_images(rec)"
   ]
  },
  {
   "cell_type": "code",
   "execution_count": null,
   "metadata": {},
   "outputs": [],
   "source": []
  },
  {
   "cell_type": "code",
   "execution_count": null,
   "metadata": {},
   "outputs": [],
   "source": []
  },
  {
   "cell_type": "code",
   "execution_count": null,
   "metadata": {},
   "outputs": [],
   "source": []
  },
  {
   "cell_type": "code",
   "execution_count": null,
   "metadata": {},
   "outputs": [],
   "source": [
    "def hybrid_recommendations_items(item_set):\n",
    "    \n",
    "    # with surprise:\n",
    "    ## create new similarity matrix with new user\n",
    "    ## call algo.predict on each new-user, item combo (6000 predictions)\n",
    "    ##generate recommendations for just that user\n",
    "    \n",
    "    # how to do this with surprise?\n",
    "    "
   ]
  },
  {
   "cell_type": "code",
   "execution_count": null,
   "metadata": {},
   "outputs": [],
   "source": []
  },
  {
   "cell_type": "code",
   "execution_count": null,
   "metadata": {},
   "outputs": [],
   "source": []
  },
  {
   "cell_type": "code",
   "execution_count": null,
   "metadata": {},
   "outputs": [],
   "source": []
  },
  {
   "cell_type": "code",
   "execution_count": 64,
   "metadata": {
    "collapsed": true
   },
   "outputs": [
    {
     "name": "stdout",
     "output_type": "stream",
     "text": [
      "==== User's Purchase History ====\n",
      "Victorinox Cutlery 9-Inch Wavy Edge Bread Knife, Black Polypropylene Handle\n",
      "Norpro Corn Butter Spreader\n",
      "FoodSaver 11&quot; Roll, 2pk\n",
      "Norpro Stainless-Steel Holder with Cotton Cooking Twine, 220 feet\n",
      "Misto Brushed Aluminum Olive Oil Sprayer\n",
      "Lodge L4LP3 Loaf Pan\n",
      "Ronco ST5000PLGEN Showtime Rotisserie Platinum Edition\n",
      "EatSmart Precision Pro Digital Kitchen Scale, Silver\n",
      "Breville BOV800XL Smart Oven 1800-Watt Convection Toaster Oven with Element IQ\n",
      "Epica Stainless Steel Compost Bin 1 Gallon\n",
      "Best Manufacturers Flour Duster\n",
      "Trudeau Porcelain Butter Boat\n",
      "\n",
      "==== User's Actual Purchase in 2014 ====\n",
      "Lodge L5MIC3 Miniature Lid\n",
      "Lodge LMP3 Pre-Seasoned Cast-Iron Melting Pot, 14-Ounce\n",
      "Lodge Pro-Logic P14P3 Cast Iron Pizza Pan, Black, 14-inch\n",
      "Lodge Color EC3D43 Enameled Cast Iron Dutch Oven, Island Spice Red, 3-Quart\n",
      "OXO Good Grips Solid Stainless Steel Ice Cream Scoop\n",
      "Calphalon Easy Grip Apple Slicer\n",
      "Zojirushi BB-PAC20 Home Bakery Virtuoso Breadmaker 120 Volts\n",
      "The Ringer Cast Iron Cleaner XL 8x6 Inch Stainless Steel Chainmail\n",
      "Lodge Color EC4D33 Enameled Cast Iron Dutch Oven, Caribbean Blue, 4.5-Quart\n",
      "Cuisinart HB-155PC Smart Stick Hand Blender with Blending and Whisk Attachments\n",
      "\n",
      "==== Model's Top 10 Recommendations ====\n",
      "Breville BTM800XL One-Touch Tea Maker\n",
      "Shun DM0700 Classic 3-1/2-Inch Paring Knife\n",
      "Shun DM0718 Classic 7-Inch Santoku Hollow Ground Knife\n",
      "OXO Good Grips Splatter Screen with Folding Handle\n",
      "MIU France Set of 2 Silicone Pot Holders, Red\n",
      "Wilton 6-Cavity Silicone Heart Mold Pan\n",
      "Shun DM0750 Honing Steel\n",
      "Freshware 30-Cavity Silicone Chocolate, Candy and Peanut Butter-Cup Mold\n",
      "Soy Sauce Container -15 pcs in a Bag.\n",
      "Shun DM0741 Classic U2 (Ultimate Utility) Knife\n"
     ]
    },
    {
     "data": {
      "text/plain": [
       "['Breville BTM800XL One-Touch Tea Maker',\n",
       " 'Shun DM0700 Classic 3-1/2-Inch Paring Knife',\n",
       " 'Shun DM0718 Classic 7-Inch Santoku Hollow Ground Knife',\n",
       " 'OXO Good Grips Splatter Screen with Folding Handle',\n",
       " 'MIU France Set of 2 Silicone Pot Holders, Red',\n",
       " 'Wilton 6-Cavity Silicone Heart Mold Pan',\n",
       " 'Shun DM0750 Honing Steel',\n",
       " 'Freshware 30-Cavity Silicone Chocolate, Candy and Peanut Butter-Cup Mold',\n",
       " 'Soy Sauce Container -15 pcs in a Bag.',\n",
       " 'Shun DM0741 Classic U2 (Ultimate Utility) Knife']"
      ]
     },
     "execution_count": 64,
     "metadata": {},
     "output_type": "execute_result"
    }
   ],
   "source": [
    "uucf_k3_recommendations, uucf_k3_user_purchase_history, uucf_k3_user_actual_purchase = generate_recommendations(user_tmp, \n",
    "                                                                                                pred_matrix=uucf_k3_predicted_ratings_matrix, \n",
    "                                                                                                n_recommended_items=10)\n",
    "uucf_k3_recommendations"
   ]
  },
  {
   "cell_type": "code",
   "execution_count": null,
   "metadata": {},
   "outputs": [],
   "source": []
  },
  {
   "cell_type": "code",
   "execution_count": 65,
   "metadata": {},
   "outputs": [],
   "source": [
    "# if data is whole reviews dataset, rmse is actually 0.66!\n",
    "# but after changing to just my defined training data of pre2014, I get 0.94 which is more realistic\n",
    "\n",
    "uucf_k3_rmse, uucf_k3_preds = calculate_rmse(reviews20_2014)"
   ]
  },
  {
   "cell_type": "code",
   "execution_count": 66,
   "metadata": {},
   "outputs": [
    {
     "name": "stdout",
     "output_type": "stream",
     "text": [
      "1.0166267257410315\n"
     ]
    },
    {
     "data": {
      "text/html": [
       "<div>\n",
       "<style scoped>\n",
       "    .dataframe tbody tr th:only-of-type {\n",
       "        vertical-align: middle;\n",
       "    }\n",
       "\n",
       "    .dataframe tbody tr th {\n",
       "        vertical-align: top;\n",
       "    }\n",
       "\n",
       "    .dataframe thead th {\n",
       "        text-align: right;\n",
       "    }\n",
       "</style>\n",
       "<table border=\"1\" class=\"dataframe\">\n",
       "  <thead>\n",
       "    <tr style=\"text-align: right;\">\n",
       "      <th></th>\n",
       "      <th>reviewerID</th>\n",
       "      <th>asin</th>\n",
       "      <th>overall</th>\n",
       "      <th>predicted</th>\n",
       "    </tr>\n",
       "  </thead>\n",
       "  <tbody>\n",
       "    <tr>\n",
       "      <th>44965</th>\n",
       "      <td>A32XMT8ULJ5CDV</td>\n",
       "      <td>B00004OCMX</td>\n",
       "      <td>5.0</td>\n",
       "      <td>2.000000</td>\n",
       "    </tr>\n",
       "    <tr>\n",
       "      <th>44966</th>\n",
       "      <td>A3DD96LN8U1NM</td>\n",
       "      <td>B00FHW8O22</td>\n",
       "      <td>3.0</td>\n",
       "      <td>3.416667</td>\n",
       "    </tr>\n",
       "    <tr>\n",
       "      <th>44967</th>\n",
       "      <td>A7ED6BJO320TG</td>\n",
       "      <td>B002S52ZDU</td>\n",
       "      <td>3.0</td>\n",
       "      <td>3.416667</td>\n",
       "    </tr>\n",
       "    <tr>\n",
       "      <th>44968</th>\n",
       "      <td>A3KNGMX2RVQG91</td>\n",
       "      <td>B0000CFDD5</td>\n",
       "      <td>4.0</td>\n",
       "      <td>4.761905</td>\n",
       "    </tr>\n",
       "    <tr>\n",
       "      <th>44969</th>\n",
       "      <td>A231D0MBFFEZK1</td>\n",
       "      <td>B002S52ZDU</td>\n",
       "      <td>4.0</td>\n",
       "      <td>4.222222</td>\n",
       "    </tr>\n",
       "  </tbody>\n",
       "</table>\n",
       "</div>"
      ],
      "text/plain": [
       "           reviewerID        asin  overall  predicted\n",
       "44965  A32XMT8ULJ5CDV  B00004OCMX      5.0   2.000000\n",
       "44966   A3DD96LN8U1NM  B00FHW8O22      3.0   3.416667\n",
       "44967   A7ED6BJO320TG  B002S52ZDU      3.0   3.416667\n",
       "44968  A3KNGMX2RVQG91  B0000CFDD5      4.0   4.761905\n",
       "44969  A231D0MBFFEZK1  B002S52ZDU      4.0   4.222222"
      ]
     },
     "execution_count": 66,
     "metadata": {},
     "output_type": "execute_result"
    }
   ],
   "source": [
    "print(uucf_k3_rmse)\n",
    "uucf_k3_preds.head()"
   ]
  },
  {
   "cell_type": "code",
   "execution_count": 67,
   "metadata": {},
   "outputs": [
    {
     "data": {
      "text/plain": [
       "0.0"
      ]
     },
     "execution_count": 67,
     "metadata": {},
     "output_type": "execute_result"
    }
   ],
   "source": [
    "uucf_k3_recall = model_evaluation_recall(user_tmp, \n",
    "                                         generate_recommendations(user_tmp, \n",
    "                                                                  pred_matrix=uucf_k3_predicted_ratings_matrix, \n",
    "                                                                  n_recommended_items=10,\n",
    "                                                                  return_recommendations_only=True, \n",
    "                                                                  print_results=False))\n",
    "uucf_k3_recall"
   ]
  },
  {
   "cell_type": "code",
   "execution_count": 68,
   "metadata": {
    "scrolled": false
   },
   "outputs": [
    {
     "name": "stdout",
     "output_type": "stream",
     "text": [
      "End\n",
      "% of test with at least one item from recommended list:  0.008515167642362959\n",
      "Avg hit rate: 0.1822964362026862 ± 0.1197534046044854\n"
     ]
    }
   ],
   "source": [
    "min_1_hit = 0\n",
    "hit_rates = []\n",
    "\n",
    "for user in reviews20_2014['reviewerID'].unique():\n",
    "    \n",
    "    user_recall = model_evaluation_recall(user, generate_recommendations(user, \n",
    "                                                                         uucf_k3_predicted_ratings_matrix,\n",
    "                                                                         n_recommended_items=10,\n",
    "                                                                         return_recommendations_only=True, \n",
    "                                                                         print_results=False))\n",
    "    \n",
    "    if user_recall > 0:\n",
    "        min_1_hit += 1\n",
    "        hit_rates.append(user_recall)\n",
    "\n",
    "print('End')\n",
    "print('% of test with at least one item from recommended list: ', min_1_hit/len(reviews20_2014['reviewerID'].unique()))\n",
    "print('Avg hit rate: {} ± {}'.format(np.mean(hit_rates), np.std(hit_rates)))"
   ]
  },
  {
   "cell_type": "markdown",
   "metadata": {},
   "source": [
    "[Back to Results Cell](#model-results)"
   ]
  },
  {
   "cell_type": "markdown",
   "metadata": {},
   "source": [
    "## 4.2 Model-Based Collaborative Filtering Methods"
   ]
  },
  {
   "cell_type": "markdown",
   "metadata": {},
   "source": [
    "### 4.2.1 Matrix Factorization with Singular Value Decomposition (SVD)"
   ]
  },
  {
   "cell_type": "code",
   "execution_count": 287,
   "metadata": {},
   "outputs": [
    {
     "data": {
      "text/plain": [
       "<surprise.prediction_algorithms.matrix_factorization.SVD at 0x1185907b8>"
      ]
     },
     "execution_count": 287,
     "metadata": {},
     "output_type": "execute_result"
    }
   ],
   "source": [
    "algo = SVD(n_factors=40, lr_bi=0.0001, lr_qi=0.0001, reg_bi=0.7, reg_qi=0.7)\n",
    "algo.fit(trainset)"
   ]
  },
  {
   "cell_type": "code",
   "execution_count": 288,
   "metadata": {},
   "outputs": [],
   "source": [
    "svd_k40reg_predicted_ratings_matrix = generate_predicted_ratings_matrix(user_utility_matrix)"
   ]
  },
  {
   "cell_type": "code",
   "execution_count": null,
   "metadata": {},
   "outputs": [],
   "source": []
  },
  {
   "cell_type": "code",
   "execution_count": null,
   "metadata": {},
   "outputs": [],
   "source": []
  },
  {
   "cell_type": "code",
   "execution_count": null,
   "metadata": {},
   "outputs": [],
   "source": []
  },
  {
   "cell_type": "code",
   "execution_count": null,
   "metadata": {},
   "outputs": [],
   "source": []
  },
  {
   "cell_type": "markdown",
   "metadata": {},
   "source": [
    "### Visualising the Recommendations"
   ]
  },
  {
   "cell_type": "code",
   "execution_count": 118,
   "metadata": {},
   "outputs": [],
   "source": [
    "def items_with_categories(list_of_products, user_id, pred_matrix, list_type='actual'):\n",
    "    \n",
    "    def categories_to_columns(row, cat_level):\n",
    "        try:\n",
    "            return row[cat_level]\n",
    "        except IndexError:\n",
    "            return np.nan\n",
    "        \n",
    "    def get_product_id(product_name):\n",
    "        return metadata[metadata['title']==product_name]['asin'].values[0]\n",
    "    \n",
    "    rec_cat = pd.DataFrame([[item, category_lookup[item]] for item in list_of_products], \n",
    "                           columns=['Product Names', 'Category Path'])\n",
    "    \n",
    "    rec_cat['Category Path'] = rec_cat['Category Path'].apply(\n",
    "        lambda x: [cat.strip() for cat in re.sub('[\\[\\]\\'\\\"]', '', x).split(',')])\n",
    "    \n",
    "    rec_cat['cat_1'] = rec_cat['Category Path'].apply(lambda x: categories_to_columns(x,1))\n",
    "\n",
    "    for i in range(1, 7):\n",
    "        rec_cat['cat_'+str(i)] = rec_cat['Category Path'].apply(lambda x: categories_to_columns(x, i-1))\n",
    "    \n",
    "    rec_cat = rec_cat[['Product Names', 'cat_2', 'cat_3', 'cat_4']].sort_values(by=['cat_2','cat_3','cat_4'])\n",
    "    \n",
    "    if list_type == 'recommended':\n",
    "        \n",
    "        rec_cat['ratings'] = rec_cat['Product Names'].apply(lambda x: pred_matrix.T[user_id][get_product_id(x)])\n",
    "        return rec_cat.sort_values(by='ratings', ascending=False)\n",
    "    \n",
    "    elif list_type == 'actual':\n",
    "        rec_cat['ratings'] = rec_cat['Product Names'].apply(lambda x: reviews20[(reviews20['productTitle']==x) & \n",
    "                                                                                (reviews20['reviewerID']==user_id)]['overall'].values[0])\n",
    "        return rec_cat"
   ]
  },
  {
   "cell_type": "code",
   "execution_count": 119,
   "metadata": {},
   "outputs": [],
   "source": [
    "def n_random_items(n):\n",
    "    return np.random.choice(metadata['title'].unique(),n)"
   ]
  },
  {
   "cell_type": "code",
   "execution_count": 120,
   "metadata": {},
   "outputs": [],
   "source": [
    "def print_product_images(product_list):\n",
    "    for item in product_list:\n",
    "        print('=== {} ==='.format(item))\n",
    "        display(Image(url=imgurl_lookup[item]))"
   ]
  },
  {
   "cell_type": "markdown",
   "metadata": {},
   "source": [
    "#### user_tmp"
   ]
  },
  {
   "cell_type": "code",
   "execution_count": 162,
   "metadata": {},
   "outputs": [],
   "source": [
    "rec_uucfk3, history, actual = generate_recommendations(user_tmp, uucf_k3_predicted_ratings_matrix, 10, False, False)"
   ]
  },
  {
   "cell_type": "code",
   "execution_count": 163,
   "metadata": {},
   "outputs": [
    {
     "data": {
      "text/html": [
       "<div>\n",
       "<style scoped>\n",
       "    .dataframe tbody tr th:only-of-type {\n",
       "        vertical-align: middle;\n",
       "    }\n",
       "\n",
       "    .dataframe tbody tr th {\n",
       "        vertical-align: top;\n",
       "    }\n",
       "\n",
       "    .dataframe thead th {\n",
       "        text-align: right;\n",
       "    }\n",
       "</style>\n",
       "<table border=\"1\" class=\"dataframe\">\n",
       "  <thead>\n",
       "    <tr style=\"text-align: right;\">\n",
       "      <th></th>\n",
       "      <th>Product Names</th>\n",
       "      <th>cat_2</th>\n",
       "      <th>cat_3</th>\n",
       "      <th>cat_4</th>\n",
       "      <th>ratings</th>\n",
       "    </tr>\n",
       "  </thead>\n",
       "  <tbody>\n",
       "    <tr>\n",
       "      <th>10</th>\n",
       "      <td>Best Manufacturers Flour Duster</td>\n",
       "      <td>Kitchen &amp; Dining</td>\n",
       "      <td>Bakeware</td>\n",
       "      <td>Baking Tools &amp; Accessories</td>\n",
       "      <td>5.0</td>\n",
       "    </tr>\n",
       "    <tr>\n",
       "      <th>5</th>\n",
       "      <td>Lodge L4LP3 Loaf Pan</td>\n",
       "      <td>Kitchen &amp; Dining</td>\n",
       "      <td>Bakeware</td>\n",
       "      <td>Bread &amp; Loaf Pans</td>\n",
       "      <td>5.0</td>\n",
       "    </tr>\n",
       "    <tr>\n",
       "      <th>11</th>\n",
       "      <td>Trudeau Porcelain Butter Boat</td>\n",
       "      <td>Kitchen &amp; Dining</td>\n",
       "      <td>Dining &amp; Entertaining</td>\n",
       "      <td>Serveware</td>\n",
       "      <td>5.0</td>\n",
       "    </tr>\n",
       "    <tr>\n",
       "      <th>0</th>\n",
       "      <td>Victorinox Cutlery 9-Inch Wavy Edge Bread Knif...</td>\n",
       "      <td>Kitchen &amp; Dining</td>\n",
       "      <td>Kitchen Knives &amp; Cutlery Accessories</td>\n",
       "      <td>Bread &amp; Serrated Knives</td>\n",
       "      <td>4.0</td>\n",
       "    </tr>\n",
       "    <tr>\n",
       "      <th>7</th>\n",
       "      <td>EatSmart Precision Pro Digital Kitchen Scale, ...</td>\n",
       "      <td>Kitchen &amp; Dining</td>\n",
       "      <td>Kitchen Utensils &amp; Gadgets</td>\n",
       "      <td>Measuring Tools &amp; Scales</td>\n",
       "      <td>5.0</td>\n",
       "    </tr>\n",
       "    <tr>\n",
       "      <th>4</th>\n",
       "      <td>Misto Brushed Aluminum Olive Oil Sprayer</td>\n",
       "      <td>Kitchen &amp; Dining</td>\n",
       "      <td>Kitchen Utensils &amp; Gadgets</td>\n",
       "      <td>Oil Sprayers &amp; Dispensers</td>\n",
       "      <td>2.0</td>\n",
       "    </tr>\n",
       "    <tr>\n",
       "      <th>3</th>\n",
       "      <td>Norpro Stainless-Steel Holder with Cotton Cook...</td>\n",
       "      <td>Kitchen &amp; Dining</td>\n",
       "      <td>Kitchen Utensils &amp; Gadgets</td>\n",
       "      <td>Tool &amp; Gadget Sets</td>\n",
       "      <td>5.0</td>\n",
       "    </tr>\n",
       "    <tr>\n",
       "      <th>6</th>\n",
       "      <td>Ronco ST5000PLGEN Showtime Rotisserie Platinum...</td>\n",
       "      <td>Kitchen &amp; Dining</td>\n",
       "      <td>Small Appliances</td>\n",
       "      <td>Ovens &amp; Toasters</td>\n",
       "      <td>2.0</td>\n",
       "    </tr>\n",
       "    <tr>\n",
       "      <th>8</th>\n",
       "      <td>Breville BOV800XL Smart Oven 1800-Watt Convect...</td>\n",
       "      <td>Kitchen &amp; Dining</td>\n",
       "      <td>Small Appliances</td>\n",
       "      <td>Ovens &amp; Toasters</td>\n",
       "      <td>4.0</td>\n",
       "    </tr>\n",
       "    <tr>\n",
       "      <th>9</th>\n",
       "      <td>Epica Stainless Steel Compost Bin 1 Gallon</td>\n",
       "      <td>Kitchen &amp; Dining</td>\n",
       "      <td>Storage &amp; Organization</td>\n",
       "      <td>Compost Bins</td>\n",
       "      <td>5.0</td>\n",
       "    </tr>\n",
       "    <tr>\n",
       "      <th>1</th>\n",
       "      <td>Norpro Corn Butter Spreader</td>\n",
       "      <td>Kitchen &amp; Dining</td>\n",
       "      <td>NaN</td>\n",
       "      <td>NaN</td>\n",
       "      <td>4.0</td>\n",
       "    </tr>\n",
       "    <tr>\n",
       "      <th>2</th>\n",
       "      <td>FoodSaver 11&amp;quot; Roll, 2pk</td>\n",
       "      <td>Kitchen &amp; Dining</td>\n",
       "      <td>NaN</td>\n",
       "      <td>NaN</td>\n",
       "      <td>5.0</td>\n",
       "    </tr>\n",
       "  </tbody>\n",
       "</table>\n",
       "</div>"
      ],
      "text/plain": [
       "                                        Product Names             cat_2  \\\n",
       "10                    Best Manufacturers Flour Duster  Kitchen & Dining   \n",
       "5                                Lodge L4LP3 Loaf Pan  Kitchen & Dining   \n",
       "11                      Trudeau Porcelain Butter Boat  Kitchen & Dining   \n",
       "0   Victorinox Cutlery 9-Inch Wavy Edge Bread Knif...  Kitchen & Dining   \n",
       "7   EatSmart Precision Pro Digital Kitchen Scale, ...  Kitchen & Dining   \n",
       "4            Misto Brushed Aluminum Olive Oil Sprayer  Kitchen & Dining   \n",
       "3   Norpro Stainless-Steel Holder with Cotton Cook...  Kitchen & Dining   \n",
       "6   Ronco ST5000PLGEN Showtime Rotisserie Platinum...  Kitchen & Dining   \n",
       "8   Breville BOV800XL Smart Oven 1800-Watt Convect...  Kitchen & Dining   \n",
       "9          Epica Stainless Steel Compost Bin 1 Gallon  Kitchen & Dining   \n",
       "1                         Norpro Corn Butter Spreader  Kitchen & Dining   \n",
       "2                        FoodSaver 11&quot; Roll, 2pk  Kitchen & Dining   \n",
       "\n",
       "                                   cat_3                       cat_4  ratings  \n",
       "10                              Bakeware  Baking Tools & Accessories      5.0  \n",
       "5                               Bakeware           Bread & Loaf Pans      5.0  \n",
       "11                 Dining & Entertaining                   Serveware      5.0  \n",
       "0   Kitchen Knives & Cutlery Accessories     Bread & Serrated Knives      4.0  \n",
       "7             Kitchen Utensils & Gadgets    Measuring Tools & Scales      5.0  \n",
       "4             Kitchen Utensils & Gadgets   Oil Sprayers & Dispensers      2.0  \n",
       "3             Kitchen Utensils & Gadgets          Tool & Gadget Sets      5.0  \n",
       "6                       Small Appliances            Ovens & Toasters      2.0  \n",
       "8                       Small Appliances            Ovens & Toasters      4.0  \n",
       "9                 Storage & Organization                Compost Bins      5.0  \n",
       "1                                    NaN                         NaN      4.0  \n",
       "2                                    NaN                         NaN      5.0  "
      ]
     },
     "execution_count": 163,
     "metadata": {},
     "output_type": "execute_result"
    }
   ],
   "source": [
    "items_with_categories(history, user_tmp, uucf_k3_predicted_ratings_matrix, list_type='actual')"
   ]
  },
  {
   "cell_type": "code",
   "execution_count": 164,
   "metadata": {},
   "outputs": [
    {
     "name": "stdout",
     "output_type": "stream",
     "text": [
      "=== Victorinox Cutlery 9-Inch Wavy Edge Bread Knife, Black Polypropylene Handle ===\n"
     ]
    },
    {
     "data": {
      "text/html": [
       "<img src=\"http://ecx.images-amazon.com/images/I/217hvRnpdRL._SX300_.jpg\"/>"
      ],
      "text/plain": [
       "<IPython.core.display.Image object>"
      ]
     },
     "metadata": {},
     "output_type": "display_data"
    },
    {
     "name": "stdout",
     "output_type": "stream",
     "text": [
      "=== Norpro Corn Butter Spreader ===\n"
     ]
    },
    {
     "data": {
      "text/html": [
       "<img src=\"http://ecx.images-amazon.com/images/I/31I1HuuGzJL._SY300_.jpg\"/>"
      ],
      "text/plain": [
       "<IPython.core.display.Image object>"
      ]
     },
     "metadata": {},
     "output_type": "display_data"
    },
    {
     "name": "stdout",
     "output_type": "stream",
     "text": [
      "=== FoodSaver 11&quot; Roll, 2pk ===\n"
     ]
    },
    {
     "data": {
      "text/html": [
       "<img src=\"http://ecx.images-amazon.com/images/I/515W0i7v7fL._SY300_.jpg\"/>"
      ],
      "text/plain": [
       "<IPython.core.display.Image object>"
      ]
     },
     "metadata": {},
     "output_type": "display_data"
    },
    {
     "name": "stdout",
     "output_type": "stream",
     "text": [
      "=== Norpro Stainless-Steel Holder with Cotton Cooking Twine, 220 feet ===\n"
     ]
    },
    {
     "data": {
      "text/html": [
       "<img src=\"http://ecx.images-amazon.com/images/I/41nF7YWsz3L._SY300_.jpg\"/>"
      ],
      "text/plain": [
       "<IPython.core.display.Image object>"
      ]
     },
     "metadata": {},
     "output_type": "display_data"
    },
    {
     "name": "stdout",
     "output_type": "stream",
     "text": [
      "=== Misto Brushed Aluminum Olive Oil Sprayer ===\n"
     ]
    },
    {
     "data": {
      "text/html": [
       "<img src=\"http://ecx.images-amazon.com/images/I/41a1hpMCPZL._SY300_.jpg\"/>"
      ],
      "text/plain": [
       "<IPython.core.display.Image object>"
      ]
     },
     "metadata": {},
     "output_type": "display_data"
    },
    {
     "name": "stdout",
     "output_type": "stream",
     "text": [
      "=== Lodge L4LP3 Loaf Pan ===\n"
     ]
    },
    {
     "data": {
      "text/html": [
       "<img src=\"http://ecx.images-amazon.com/images/I/31MTDS%2Bz%2B1L._SX300_.jpg\"/>"
      ],
      "text/plain": [
       "<IPython.core.display.Image object>"
      ]
     },
     "metadata": {},
     "output_type": "display_data"
    },
    {
     "name": "stdout",
     "output_type": "stream",
     "text": [
      "=== Ronco ST5000PLGEN Showtime Rotisserie Platinum Edition ===\n"
     ]
    },
    {
     "data": {
      "text/html": [
       "<img src=\"http://ecx.images-amazon.com/images/I/41G1YPGVQ1L._SX300_.jpg\"/>"
      ],
      "text/plain": [
       "<IPython.core.display.Image object>"
      ]
     },
     "metadata": {},
     "output_type": "display_data"
    },
    {
     "name": "stdout",
     "output_type": "stream",
     "text": [
      "=== EatSmart Precision Pro Digital Kitchen Scale, Silver ===\n"
     ]
    },
    {
     "data": {
      "text/html": [
       "<img src=\"http://ecx.images-amazon.com/images/I/41KDIkzVUNL._SY300_.jpg\"/>"
      ],
      "text/plain": [
       "<IPython.core.display.Image object>"
      ]
     },
     "metadata": {},
     "output_type": "display_data"
    },
    {
     "name": "stdout",
     "output_type": "stream",
     "text": [
      "=== Breville BOV800XL Smart Oven 1800-Watt Convection Toaster Oven with Element IQ ===\n"
     ]
    },
    {
     "data": {
      "text/html": [
       "<img src=\"http://ecx.images-amazon.com/images/I/41W8PMvH9FL._SX300_.jpg\"/>"
      ],
      "text/plain": [
       "<IPython.core.display.Image object>"
      ]
     },
     "metadata": {},
     "output_type": "display_data"
    },
    {
     "name": "stdout",
     "output_type": "stream",
     "text": [
      "=== Epica Stainless Steel Compost Bin 1 Gallon ===\n"
     ]
    },
    {
     "data": {
      "text/html": [
       "<img src=\"http://ecx.images-amazon.com/images/I/41fAXyQPJZL._SY300_.jpg\"/>"
      ],
      "text/plain": [
       "<IPython.core.display.Image object>"
      ]
     },
     "metadata": {},
     "output_type": "display_data"
    },
    {
     "name": "stdout",
     "output_type": "stream",
     "text": [
      "=== Best Manufacturers Flour Duster ===\n"
     ]
    },
    {
     "data": {
      "text/html": [
       "<img src=\"http://ecx.images-amazon.com/images/I/31M0P8XEBDL._SY300_.jpg\"/>"
      ],
      "text/plain": [
       "<IPython.core.display.Image object>"
      ]
     },
     "metadata": {},
     "output_type": "display_data"
    },
    {
     "name": "stdout",
     "output_type": "stream",
     "text": [
      "=== Trudeau Porcelain Butter Boat ===\n"
     ]
    },
    {
     "data": {
      "text/html": [
       "<img src=\"http://ecx.images-amazon.com/images/I/21RmLCSf7CL._SX300_.jpg\"/>"
      ],
      "text/plain": [
       "<IPython.core.display.Image object>"
      ]
     },
     "metadata": {},
     "output_type": "display_data"
    }
   ],
   "source": [
    "print_product_images(history)"
   ]
  },
  {
   "cell_type": "code",
   "execution_count": 165,
   "metadata": {},
   "outputs": [
    {
     "data": {
      "text/html": [
       "<div>\n",
       "<style scoped>\n",
       "    .dataframe tbody tr th:only-of-type {\n",
       "        vertical-align: middle;\n",
       "    }\n",
       "\n",
       "    .dataframe tbody tr th {\n",
       "        vertical-align: top;\n",
       "    }\n",
       "\n",
       "    .dataframe thead th {\n",
       "        text-align: right;\n",
       "    }\n",
       "</style>\n",
       "<table border=\"1\" class=\"dataframe\">\n",
       "  <thead>\n",
       "    <tr style=\"text-align: right;\">\n",
       "      <th></th>\n",
       "      <th>Product Names</th>\n",
       "      <th>cat_2</th>\n",
       "      <th>cat_3</th>\n",
       "      <th>cat_4</th>\n",
       "      <th>ratings</th>\n",
       "    </tr>\n",
       "  </thead>\n",
       "  <tbody>\n",
       "    <tr>\n",
       "      <th>2</th>\n",
       "      <td>Lodge Pro-Logic P14P3 Cast Iron Pizza Pan, Bla...</td>\n",
       "      <td>Kitchen &amp; Dining</td>\n",
       "      <td>Bakeware</td>\n",
       "      <td>Pizza Pans &amp; Stones</td>\n",
       "      <td>5.0</td>\n",
       "    </tr>\n",
       "    <tr>\n",
       "      <th>3</th>\n",
       "      <td>Lodge Color EC3D43 Enameled Cast Iron Dutch Ov...</td>\n",
       "      <td>Kitchen &amp; Dining</td>\n",
       "      <td>Cookware</td>\n",
       "      <td>Dutch Ovens</td>\n",
       "      <td>5.0</td>\n",
       "    </tr>\n",
       "    <tr>\n",
       "      <th>8</th>\n",
       "      <td>Lodge Color EC4D33 Enameled Cast Iron Dutch Ov...</td>\n",
       "      <td>Kitchen &amp; Dining</td>\n",
       "      <td>Cookware</td>\n",
       "      <td>Dutch Ovens</td>\n",
       "      <td>5.0</td>\n",
       "    </tr>\n",
       "    <tr>\n",
       "      <th>0</th>\n",
       "      <td>Lodge L5MIC3 Miniature Lid</td>\n",
       "      <td>Kitchen &amp; Dining</td>\n",
       "      <td>Cookware</td>\n",
       "      <td>Lids</td>\n",
       "      <td>3.0</td>\n",
       "    </tr>\n",
       "    <tr>\n",
       "      <th>7</th>\n",
       "      <td>The Ringer Cast Iron Cleaner XL 8x6 Inch Stain...</td>\n",
       "      <td>Kitchen &amp; Dining</td>\n",
       "      <td>Cookware</td>\n",
       "      <td>Skillets</td>\n",
       "      <td>5.0</td>\n",
       "    </tr>\n",
       "    <tr>\n",
       "      <th>1</th>\n",
       "      <td>Lodge LMP3 Pre-Seasoned Cast-Iron Melting Pot,...</td>\n",
       "      <td>Kitchen &amp; Dining</td>\n",
       "      <td>Cookware</td>\n",
       "      <td>Specialty Cookware</td>\n",
       "      <td>4.0</td>\n",
       "    </tr>\n",
       "    <tr>\n",
       "      <th>5</th>\n",
       "      <td>Calphalon Easy Grip Apple Slicer</td>\n",
       "      <td>Kitchen &amp; Dining</td>\n",
       "      <td>Kitchen Utensils &amp; Gadgets</td>\n",
       "      <td>Graters</td>\n",
       "      <td>3.0</td>\n",
       "    </tr>\n",
       "    <tr>\n",
       "      <th>4</th>\n",
       "      <td>OXO Good Grips Solid Stainless Steel Ice Cream...</td>\n",
       "      <td>Kitchen &amp; Dining</td>\n",
       "      <td>Kitchen Utensils &amp; Gadgets</td>\n",
       "      <td>Specialty Tools &amp; Gadgets</td>\n",
       "      <td>5.0</td>\n",
       "    </tr>\n",
       "    <tr>\n",
       "      <th>9</th>\n",
       "      <td>Cuisinart HB-155PC Smart Stick Hand Blender wi...</td>\n",
       "      <td>Kitchen &amp; Dining</td>\n",
       "      <td>Small Appliances</td>\n",
       "      <td>Blenders</td>\n",
       "      <td>4.0</td>\n",
       "    </tr>\n",
       "    <tr>\n",
       "      <th>6</th>\n",
       "      <td>Zojirushi BB-PAC20 Home Bakery Virtuoso Breadm...</td>\n",
       "      <td>Kitchen &amp; Dining</td>\n",
       "      <td>Small Appliances</td>\n",
       "      <td>Bread Machines</td>\n",
       "      <td>5.0</td>\n",
       "    </tr>\n",
       "  </tbody>\n",
       "</table>\n",
       "</div>"
      ],
      "text/plain": [
       "                                       Product Names             cat_2  \\\n",
       "2  Lodge Pro-Logic P14P3 Cast Iron Pizza Pan, Bla...  Kitchen & Dining   \n",
       "3  Lodge Color EC3D43 Enameled Cast Iron Dutch Ov...  Kitchen & Dining   \n",
       "8  Lodge Color EC4D33 Enameled Cast Iron Dutch Ov...  Kitchen & Dining   \n",
       "0                         Lodge L5MIC3 Miniature Lid  Kitchen & Dining   \n",
       "7  The Ringer Cast Iron Cleaner XL 8x6 Inch Stain...  Kitchen & Dining   \n",
       "1  Lodge LMP3 Pre-Seasoned Cast-Iron Melting Pot,...  Kitchen & Dining   \n",
       "5                   Calphalon Easy Grip Apple Slicer  Kitchen & Dining   \n",
       "4  OXO Good Grips Solid Stainless Steel Ice Cream...  Kitchen & Dining   \n",
       "9  Cuisinart HB-155PC Smart Stick Hand Blender wi...  Kitchen & Dining   \n",
       "6  Zojirushi BB-PAC20 Home Bakery Virtuoso Breadm...  Kitchen & Dining   \n",
       "\n",
       "                        cat_3                      cat_4  ratings  \n",
       "2                    Bakeware        Pizza Pans & Stones      5.0  \n",
       "3                    Cookware                Dutch Ovens      5.0  \n",
       "8                    Cookware                Dutch Ovens      5.0  \n",
       "0                    Cookware                       Lids      3.0  \n",
       "7                    Cookware                   Skillets      5.0  \n",
       "1                    Cookware         Specialty Cookware      4.0  \n",
       "5  Kitchen Utensils & Gadgets                    Graters      3.0  \n",
       "4  Kitchen Utensils & Gadgets  Specialty Tools & Gadgets      5.0  \n",
       "9            Small Appliances                   Blenders      4.0  \n",
       "6            Small Appliances             Bread Machines      5.0  "
      ]
     },
     "execution_count": 165,
     "metadata": {},
     "output_type": "execute_result"
    }
   ],
   "source": [
    "items_with_categories(actual, user_tmp, uucf_k3_predicted_ratings_matrix, list_type='actual')"
   ]
  },
  {
   "cell_type": "code",
   "execution_count": 166,
   "metadata": {},
   "outputs": [
    {
     "name": "stdout",
     "output_type": "stream",
     "text": [
      "=== Lodge L5MIC3 Miniature Lid ===\n"
     ]
    },
    {
     "data": {
      "text/html": [
       "<img src=\"http://ecx.images-amazon.com/images/I/3173v7W0sWL._SX300_.jpg\"/>"
      ],
      "text/plain": [
       "<IPython.core.display.Image object>"
      ]
     },
     "metadata": {},
     "output_type": "display_data"
    },
    {
     "name": "stdout",
     "output_type": "stream",
     "text": [
      "=== Lodge LMP3 Pre-Seasoned Cast-Iron Melting Pot, 14-Ounce ===\n"
     ]
    },
    {
     "data": {
      "text/html": [
       "<img src=\"http://ecx.images-amazon.com/images/I/31GYV3N2STL._SX300_.jpg\"/>"
      ],
      "text/plain": [
       "<IPython.core.display.Image object>"
      ]
     },
     "metadata": {},
     "output_type": "display_data"
    },
    {
     "name": "stdout",
     "output_type": "stream",
     "text": [
      "=== Lodge Pro-Logic P14P3 Cast Iron Pizza Pan, Black, 14-inch ===\n"
     ]
    },
    {
     "data": {
      "text/html": [
       "<img src=\"http://ecx.images-amazon.com/images/I/31nXLYjHn-L._SX300_.jpg\"/>"
      ],
      "text/plain": [
       "<IPython.core.display.Image object>"
      ]
     },
     "metadata": {},
     "output_type": "display_data"
    },
    {
     "name": "stdout",
     "output_type": "stream",
     "text": [
      "=== Lodge Color EC3D43 Enameled Cast Iron Dutch Oven, Island Spice Red, 3-Quart ===\n"
     ]
    },
    {
     "data": {
      "text/html": [
       "<img src=\"http://ecx.images-amazon.com/images/I/41%2BUx3-%2BU4L._SX300_.jpg\"/>"
      ],
      "text/plain": [
       "<IPython.core.display.Image object>"
      ]
     },
     "metadata": {},
     "output_type": "display_data"
    },
    {
     "name": "stdout",
     "output_type": "stream",
     "text": [
      "=== OXO Good Grips Solid Stainless Steel Ice Cream Scoop ===\n"
     ]
    },
    {
     "data": {
      "text/html": [
       "<img src=\"http://ecx.images-amazon.com/images/I/31MPh76zkuL._SY300_.jpg\"/>"
      ],
      "text/plain": [
       "<IPython.core.display.Image object>"
      ]
     },
     "metadata": {},
     "output_type": "display_data"
    },
    {
     "name": "stdout",
     "output_type": "stream",
     "text": [
      "=== Calphalon Easy Grip Apple Slicer ===\n"
     ]
    },
    {
     "data": {
      "text/html": [
       "<img src=\"http://ecx.images-amazon.com/images/I/41kYvGdkxmL._SY300_.jpg\"/>"
      ],
      "text/plain": [
       "<IPython.core.display.Image object>"
      ]
     },
     "metadata": {},
     "output_type": "display_data"
    },
    {
     "name": "stdout",
     "output_type": "stream",
     "text": [
      "=== Zojirushi BB-PAC20 Home Bakery Virtuoso Breadmaker 120 Volts ===\n"
     ]
    },
    {
     "data": {
      "text/html": [
       "<img src=\"http://ecx.images-amazon.com/images/I/41%2B%2BDCceQ9L._SX300_.jpg\"/>"
      ],
      "text/plain": [
       "<IPython.core.display.Image object>"
      ]
     },
     "metadata": {},
     "output_type": "display_data"
    },
    {
     "name": "stdout",
     "output_type": "stream",
     "text": [
      "=== The Ringer Cast Iron Cleaner XL 8x6 Inch Stainless Steel Chainmail ===\n"
     ]
    },
    {
     "data": {
      "text/html": [
       "<img src=\"http://ecx.images-amazon.com/images/I/51ImhxSzGLL._SY300_.jpg\"/>"
      ],
      "text/plain": [
       "<IPython.core.display.Image object>"
      ]
     },
     "metadata": {},
     "output_type": "display_data"
    },
    {
     "name": "stdout",
     "output_type": "stream",
     "text": [
      "=== Lodge Color EC4D33 Enameled Cast Iron Dutch Oven, Caribbean Blue, 4.5-Quart ===\n"
     ]
    },
    {
     "data": {
      "text/html": [
       "<img src=\"http://ecx.images-amazon.com/images/I/315F93SpTiL._SX300_.jpg\"/>"
      ],
      "text/plain": [
       "<IPython.core.display.Image object>"
      ]
     },
     "metadata": {},
     "output_type": "display_data"
    },
    {
     "name": "stdout",
     "output_type": "stream",
     "text": [
      "=== Cuisinart HB-155PC Smart Stick Hand Blender with Blending and Whisk Attachments ===\n"
     ]
    },
    {
     "data": {
      "text/html": [
       "<img src=\"http://ecx.images-amazon.com/images/I/51FKShNCNML._SY300_.jpg\"/>"
      ],
      "text/plain": [
       "<IPython.core.display.Image object>"
      ]
     },
     "metadata": {},
     "output_type": "display_data"
    }
   ],
   "source": [
    "print_product_images(actual)"
   ]
  },
  {
   "cell_type": "code",
   "execution_count": 167,
   "metadata": {},
   "outputs": [
    {
     "data": {
      "text/html": [
       "<div>\n",
       "<style scoped>\n",
       "    .dataframe tbody tr th:only-of-type {\n",
       "        vertical-align: middle;\n",
       "    }\n",
       "\n",
       "    .dataframe tbody tr th {\n",
       "        vertical-align: top;\n",
       "    }\n",
       "\n",
       "    .dataframe thead th {\n",
       "        text-align: right;\n",
       "    }\n",
       "</style>\n",
       "<table border=\"1\" class=\"dataframe\">\n",
       "  <thead>\n",
       "    <tr style=\"text-align: right;\">\n",
       "      <th></th>\n",
       "      <th>Product Names</th>\n",
       "      <th>cat_2</th>\n",
       "      <th>cat_3</th>\n",
       "      <th>cat_4</th>\n",
       "      <th>ratings</th>\n",
       "    </tr>\n",
       "  </thead>\n",
       "  <tbody>\n",
       "    <tr>\n",
       "      <th>5</th>\n",
       "      <td>Wilton 6-Cavity Silicone Heart Mold Pan</td>\n",
       "      <td>Kitchen &amp; Dining</td>\n",
       "      <td>Bakeware</td>\n",
       "      <td>Candy Making Supplies</td>\n",
       "      <td>4.987705</td>\n",
       "    </tr>\n",
       "    <tr>\n",
       "      <th>7</th>\n",
       "      <td>Freshware 30-Cavity Silicone Chocolate, Candy ...</td>\n",
       "      <td>Kitchen &amp; Dining</td>\n",
       "      <td>Bakeware</td>\n",
       "      <td>Candy Making Supplies</td>\n",
       "      <td>4.987705</td>\n",
       "    </tr>\n",
       "    <tr>\n",
       "      <th>4</th>\n",
       "      <td>MIU France Set of 2 Silicone Pot Holders, Red</td>\n",
       "      <td>Kitchen &amp; Dining</td>\n",
       "      <td>Kitchen &amp; Table Linens</td>\n",
       "      <td>Potholders &amp; Oven Mitts</td>\n",
       "      <td>4.987705</td>\n",
       "    </tr>\n",
       "    <tr>\n",
       "      <th>2</th>\n",
       "      <td>Shun DM0718 Classic 7-Inch Santoku Hollow Grou...</td>\n",
       "      <td>Kitchen &amp; Dining</td>\n",
       "      <td>Kitchen Knives &amp; Cutlery Accessories</td>\n",
       "      <td>Chefs Knives</td>\n",
       "      <td>4.987705</td>\n",
       "    </tr>\n",
       "    <tr>\n",
       "      <th>6</th>\n",
       "      <td>Shun DM0750 Honing Steel</td>\n",
       "      <td>Kitchen &amp; Dining</td>\n",
       "      <td>Kitchen Knives &amp; Cutlery Accessories</td>\n",
       "      <td>Knife Sharpeners</td>\n",
       "      <td>4.987705</td>\n",
       "    </tr>\n",
       "    <tr>\n",
       "      <th>1</th>\n",
       "      <td>Shun DM0700 Classic 3-1/2-Inch Paring Knife</td>\n",
       "      <td>Kitchen &amp; Dining</td>\n",
       "      <td>Kitchen Knives &amp; Cutlery Accessories</td>\n",
       "      <td>Paring Knives</td>\n",
       "      <td>4.987705</td>\n",
       "    </tr>\n",
       "    <tr>\n",
       "      <th>9</th>\n",
       "      <td>Shun DM0741 Classic U2 (Ultimate Utility) Knife</td>\n",
       "      <td>Kitchen &amp; Dining</td>\n",
       "      <td>Kitchen Knives &amp; Cutlery Accessories</td>\n",
       "      <td>Utility Knives</td>\n",
       "      <td>4.987705</td>\n",
       "    </tr>\n",
       "    <tr>\n",
       "      <th>3</th>\n",
       "      <td>OXO Good Grips Splatter Screen with Folding Ha...</td>\n",
       "      <td>Kitchen &amp; Dining</td>\n",
       "      <td>Kitchen Utensils &amp; Gadgets</td>\n",
       "      <td>Cooking Utensils</td>\n",
       "      <td>4.987705</td>\n",
       "    </tr>\n",
       "    <tr>\n",
       "      <th>0</th>\n",
       "      <td>Breville BTM800XL One-Touch Tea Maker</td>\n",
       "      <td>Kitchen &amp; Dining</td>\n",
       "      <td>Small Appliances</td>\n",
       "      <td>Coffee</td>\n",
       "      <td>4.987705</td>\n",
       "    </tr>\n",
       "    <tr>\n",
       "      <th>8</th>\n",
       "      <td>Soy Sauce Container -15 pcs in a Bag.</td>\n",
       "      <td>Kitchen &amp; Dining</td>\n",
       "      <td>Storage &amp; Organization</td>\n",
       "      <td>Kitchen Storage &amp; Organization Accessories</td>\n",
       "      <td>4.987705</td>\n",
       "    </tr>\n",
       "  </tbody>\n",
       "</table>\n",
       "</div>"
      ],
      "text/plain": [
       "                                       Product Names             cat_2  \\\n",
       "5            Wilton 6-Cavity Silicone Heart Mold Pan  Kitchen & Dining   \n",
       "7  Freshware 30-Cavity Silicone Chocolate, Candy ...  Kitchen & Dining   \n",
       "4      MIU France Set of 2 Silicone Pot Holders, Red  Kitchen & Dining   \n",
       "2  Shun DM0718 Classic 7-Inch Santoku Hollow Grou...  Kitchen & Dining   \n",
       "6                           Shun DM0750 Honing Steel  Kitchen & Dining   \n",
       "1        Shun DM0700 Classic 3-1/2-Inch Paring Knife  Kitchen & Dining   \n",
       "9    Shun DM0741 Classic U2 (Ultimate Utility) Knife  Kitchen & Dining   \n",
       "3  OXO Good Grips Splatter Screen with Folding Ha...  Kitchen & Dining   \n",
       "0              Breville BTM800XL One-Touch Tea Maker  Kitchen & Dining   \n",
       "8              Soy Sauce Container -15 pcs in a Bag.  Kitchen & Dining   \n",
       "\n",
       "                                  cat_3  \\\n",
       "5                              Bakeware   \n",
       "7                              Bakeware   \n",
       "4                Kitchen & Table Linens   \n",
       "2  Kitchen Knives & Cutlery Accessories   \n",
       "6  Kitchen Knives & Cutlery Accessories   \n",
       "1  Kitchen Knives & Cutlery Accessories   \n",
       "9  Kitchen Knives & Cutlery Accessories   \n",
       "3            Kitchen Utensils & Gadgets   \n",
       "0                      Small Appliances   \n",
       "8                Storage & Organization   \n",
       "\n",
       "                                        cat_4   ratings  \n",
       "5                       Candy Making Supplies  4.987705  \n",
       "7                       Candy Making Supplies  4.987705  \n",
       "4                     Potholders & Oven Mitts  4.987705  \n",
       "2                                Chefs Knives  4.987705  \n",
       "6                            Knife Sharpeners  4.987705  \n",
       "1                               Paring Knives  4.987705  \n",
       "9                              Utility Knives  4.987705  \n",
       "3                            Cooking Utensils  4.987705  \n",
       "0                                      Coffee  4.987705  \n",
       "8  Kitchen Storage & Organization Accessories  4.987705  "
      ]
     },
     "execution_count": 167,
     "metadata": {},
     "output_type": "execute_result"
    }
   ],
   "source": [
    "items_with_categories(rec_uucfk3, user_tmp, uucf_k3_predicted_ratings_matrix, list_type='recommended')"
   ]
  },
  {
   "cell_type": "code",
   "execution_count": 168,
   "metadata": {},
   "outputs": [
    {
     "name": "stdout",
     "output_type": "stream",
     "text": [
      "=== Breville BTM800XL One-Touch Tea Maker ===\n"
     ]
    },
    {
     "data": {
      "text/html": [
       "<img src=\"http://ecx.images-amazon.com/images/I/41mmVMDrUoL._SY300_.jpg\"/>"
      ],
      "text/plain": [
       "<IPython.core.display.Image object>"
      ]
     },
     "metadata": {},
     "output_type": "display_data"
    },
    {
     "name": "stdout",
     "output_type": "stream",
     "text": [
      "=== Shun DM0700 Classic 3-1/2-Inch Paring Knife ===\n"
     ]
    },
    {
     "data": {
      "text/html": [
       "<img src=\"http://ecx.images-amazon.com/images/I/21G820RWR4L._SX300_.jpg\"/>"
      ],
      "text/plain": [
       "<IPython.core.display.Image object>"
      ]
     },
     "metadata": {},
     "output_type": "display_data"
    },
    {
     "name": "stdout",
     "output_type": "stream",
     "text": [
      "=== Shun DM0718 Classic 7-Inch Santoku Hollow Ground Knife ===\n"
     ]
    },
    {
     "data": {
      "text/html": [
       "<img src=\"http://ecx.images-amazon.com/images/I/21CH5SB4KQL._SX300_.jpg\"/>"
      ],
      "text/plain": [
       "<IPython.core.display.Image object>"
      ]
     },
     "metadata": {},
     "output_type": "display_data"
    },
    {
     "name": "stdout",
     "output_type": "stream",
     "text": [
      "=== OXO Good Grips Splatter Screen with Folding Handle ===\n"
     ]
    },
    {
     "data": {
      "text/html": [
       "<img src=\"http://ecx.images-amazon.com/images/I/51IVZ7pogLL._SY300_.jpg\"/>"
      ],
      "text/plain": [
       "<IPython.core.display.Image object>"
      ]
     },
     "metadata": {},
     "output_type": "display_data"
    },
    {
     "name": "stdout",
     "output_type": "stream",
     "text": [
      "=== MIU France Set of 2 Silicone Pot Holders, Red ===\n"
     ]
    },
    {
     "data": {
      "text/html": [
       "<img src=\"http://ecx.images-amazon.com/images/I/317A20NGCBL._SY300_.jpg\"/>"
      ],
      "text/plain": [
       "<IPython.core.display.Image object>"
      ]
     },
     "metadata": {},
     "output_type": "display_data"
    },
    {
     "name": "stdout",
     "output_type": "stream",
     "text": [
      "=== Wilton 6-Cavity Silicone Heart Mold Pan ===\n"
     ]
    },
    {
     "data": {
      "text/html": [
       "<img src=\"http://ecx.images-amazon.com/images/I/4196ssa998L._SX300_.jpg\"/>"
      ],
      "text/plain": [
       "<IPython.core.display.Image object>"
      ]
     },
     "metadata": {},
     "output_type": "display_data"
    },
    {
     "name": "stdout",
     "output_type": "stream",
     "text": [
      "=== Shun DM0750 Honing Steel ===\n"
     ]
    },
    {
     "data": {
      "text/html": [
       "<img src=\"http://ecx.images-amazon.com/images/I/11UfGzCNSCL._SX300_.jpg\"/>"
      ],
      "text/plain": [
       "<IPython.core.display.Image object>"
      ]
     },
     "metadata": {},
     "output_type": "display_data"
    },
    {
     "name": "stdout",
     "output_type": "stream",
     "text": [
      "=== Freshware 30-Cavity Silicone Chocolate, Candy and Peanut Butter-Cup Mold ===\n"
     ]
    },
    {
     "data": {
      "text/html": [
       "<img src=\"http://ecx.images-amazon.com/images/I/41YJrCIVJkL._SY300_.jpg\"/>"
      ],
      "text/plain": [
       "<IPython.core.display.Image object>"
      ]
     },
     "metadata": {},
     "output_type": "display_data"
    },
    {
     "name": "stdout",
     "output_type": "stream",
     "text": [
      "=== Soy Sauce Container -15 pcs in a Bag. ===\n"
     ]
    },
    {
     "data": {
      "text/html": [
       "<img src=\"http://ecx.images-amazon.com/images/I/51Os812lugL._SX300_.jpg\"/>"
      ],
      "text/plain": [
       "<IPython.core.display.Image object>"
      ]
     },
     "metadata": {},
     "output_type": "display_data"
    },
    {
     "name": "stdout",
     "output_type": "stream",
     "text": [
      "=== Shun DM0741 Classic U2 (Ultimate Utility) Knife ===\n"
     ]
    },
    {
     "data": {
      "text/html": [
       "<img src=\"http://ecx.images-amazon.com/images/I/21yF5d5axcL._SX300_.jpg\"/>"
      ],
      "text/plain": [
       "<IPython.core.display.Image object>"
      ]
     },
     "metadata": {},
     "output_type": "display_data"
    }
   ],
   "source": [
    "print_product_images(rec_uucfk3)"
   ]
  },
  {
   "cell_type": "markdown",
   "metadata": {},
   "source": [
    "#### User: 'A1S3C5OFU508P3'"
   ]
  },
  {
   "cell_type": "code",
   "execution_count": 416,
   "metadata": {},
   "outputs": [],
   "source": [
    "rec_uucfk3, history, actual = generate_recommendations('A1S3C5OFU508P3', uucf_k3_pearson_predicted_ratings_matrix, 10, False, False)"
   ]
  },
  {
   "cell_type": "code",
   "execution_count": 172,
   "metadata": {},
   "outputs": [
    {
     "data": {
      "text/html": [
       "<div>\n",
       "<style scoped>\n",
       "    .dataframe tbody tr th:only-of-type {\n",
       "        vertical-align: middle;\n",
       "    }\n",
       "\n",
       "    .dataframe tbody tr th {\n",
       "        vertical-align: top;\n",
       "    }\n",
       "\n",
       "    .dataframe thead th {\n",
       "        text-align: right;\n",
       "    }\n",
       "</style>\n",
       "<table border=\"1\" class=\"dataframe\">\n",
       "  <thead>\n",
       "    <tr style=\"text-align: right;\">\n",
       "      <th></th>\n",
       "      <th>Product Names</th>\n",
       "      <th>cat_2</th>\n",
       "      <th>cat_3</th>\n",
       "      <th>cat_4</th>\n",
       "      <th>ratings</th>\n",
       "    </tr>\n",
       "  </thead>\n",
       "  <tbody>\n",
       "    <tr>\n",
       "      <th>1</th>\n",
       "      <td>Cuissential SlickBoil: Collapsible Silicone Te...</td>\n",
       "      <td>Kitchen &amp; Dining</td>\n",
       "      <td>Cookware</td>\n",
       "      <td>Teakettles</td>\n",
       "      <td>5.0</td>\n",
       "    </tr>\n",
       "    <tr>\n",
       "      <th>0</th>\n",
       "      <td>Tea Beyond Heat resistant Glass Teapot Juliet,...</td>\n",
       "      <td>Kitchen &amp; Dining</td>\n",
       "      <td>Dining &amp; Entertaining</td>\n",
       "      <td>Serveware</td>\n",
       "      <td>5.0</td>\n",
       "    </tr>\n",
       "    <tr>\n",
       "      <th>2</th>\n",
       "      <td>Ice Ball Mold - Steal These MASSIVE Ice Ball M...</td>\n",
       "      <td>Kitchen &amp; Dining</td>\n",
       "      <td>Home Brewing &amp; Wine Making</td>\n",
       "      <td>Wine Making</td>\n",
       "      <td>5.0</td>\n",
       "    </tr>\n",
       "  </tbody>\n",
       "</table>\n",
       "</div>"
      ],
      "text/plain": [
       "                                       Product Names             cat_2  \\\n",
       "1  Cuissential SlickBoil: Collapsible Silicone Te...  Kitchen & Dining   \n",
       "0  Tea Beyond Heat resistant Glass Teapot Juliet,...  Kitchen & Dining   \n",
       "2  Ice Ball Mold - Steal These MASSIVE Ice Ball M...  Kitchen & Dining   \n",
       "\n",
       "                        cat_3        cat_4  ratings  \n",
       "1                    Cookware   Teakettles      5.0  \n",
       "0       Dining & Entertaining    Serveware      5.0  \n",
       "2  Home Brewing & Wine Making  Wine Making      5.0  "
      ]
     },
     "execution_count": 172,
     "metadata": {},
     "output_type": "execute_result"
    }
   ],
   "source": [
    "items_with_categories(history, 'A1S3C5OFU508P3', uucf_k3_predicted_ratings_matrix, list_type='actual')"
   ]
  },
  {
   "cell_type": "code",
   "execution_count": 173,
   "metadata": {},
   "outputs": [
    {
     "name": "stdout",
     "output_type": "stream",
     "text": [
      "=== Tea Beyond Heat resistant Glass Teapot Juliet, 20-Ounce ===\n"
     ]
    },
    {
     "data": {
      "text/html": [
       "<img src=\"http://ecx.images-amazon.com/images/I/41%2BZADaKo7L._SX300_.jpg\"/>"
      ],
      "text/plain": [
       "<IPython.core.display.Image object>"
      ]
     },
     "metadata": {},
     "output_type": "display_data"
    },
    {
     "name": "stdout",
     "output_type": "stream",
     "text": [
      "=== Cuissential SlickBoil: Collapsible Silicone Tea Kettle (Red) ===\n"
     ]
    },
    {
     "data": {
      "text/html": [
       "<img src=\"http://ecx.images-amazon.com/images/I/51JdcuWl9kL._SX300_.jpg\"/>"
      ],
      "text/plain": [
       "<IPython.core.display.Image object>"
      ]
     },
     "metadata": {},
     "output_type": "display_data"
    },
    {
     "name": "stdout",
     "output_type": "stream",
     "text": [
      "=== Ice Ball Mold - Steal These MASSIVE Ice Ball Makers * 70% OFF TODAY ONLY! * Try DeluxIce &copy; The Biggest, FREE from All Chemicals, #1 Rated Ice Ball Maker. Made with Extra-Thick Silicone, It Does Not Leak. Make HUGE 2.5 Inch Ice Cube Sphere Balls at Your Next Party. Perfect in Whiskey, Scotch, Wine, or Any Beverage, These Molds Make Round Spheres That Melt Slower than Tray Cubes. Our Customers LOVE This Item, And We Back It With A LIFETIME REPLACEMENT GUARANTEE.... Or Your Money Back! ===\n"
     ]
    },
    {
     "data": {
      "text/html": [
       "<img src=\"http://ecx.images-amazon.com/images/I/51pfoxcNJaL._SY300_.jpg\"/>"
      ],
      "text/plain": [
       "<IPython.core.display.Image object>"
      ]
     },
     "metadata": {},
     "output_type": "display_data"
    }
   ],
   "source": [
    "print_product_images(history)"
   ]
  },
  {
   "cell_type": "code",
   "execution_count": 174,
   "metadata": {},
   "outputs": [
    {
     "data": {
      "text/html": [
       "<div>\n",
       "<style scoped>\n",
       "    .dataframe tbody tr th:only-of-type {\n",
       "        vertical-align: middle;\n",
       "    }\n",
       "\n",
       "    .dataframe tbody tr th {\n",
       "        vertical-align: top;\n",
       "    }\n",
       "\n",
       "    .dataframe thead th {\n",
       "        text-align: right;\n",
       "    }\n",
       "</style>\n",
       "<table border=\"1\" class=\"dataframe\">\n",
       "  <thead>\n",
       "    <tr style=\"text-align: right;\">\n",
       "      <th></th>\n",
       "      <th>Product Names</th>\n",
       "      <th>cat_2</th>\n",
       "      <th>cat_3</th>\n",
       "      <th>cat_4</th>\n",
       "      <th>ratings</th>\n",
       "    </tr>\n",
       "  </thead>\n",
       "  <tbody>\n",
       "    <tr>\n",
       "      <th>1</th>\n",
       "      <td>Tea Beyond Teapot Fairy with Tea Warmer Cozy</td>\n",
       "      <td>Kitchen &amp; Dining</td>\n",
       "      <td>Dining &amp; Entertaining</td>\n",
       "      <td>Serveware</td>\n",
       "      <td>5.0</td>\n",
       "    </tr>\n",
       "    <tr>\n",
       "      <th>0</th>\n",
       "      <td>Smart Weigh GEM20 High Precision Digital Milli...</td>\n",
       "      <td>Kitchen &amp; Dining</td>\n",
       "      <td>Kitchen Utensils &amp; Gadgets</td>\n",
       "      <td>Measuring Tools &amp; Scales</td>\n",
       "      <td>5.0</td>\n",
       "    </tr>\n",
       "  </tbody>\n",
       "</table>\n",
       "</div>"
      ],
      "text/plain": [
       "                                       Product Names             cat_2  \\\n",
       "1       Tea Beyond Teapot Fairy with Tea Warmer Cozy  Kitchen & Dining   \n",
       "0  Smart Weigh GEM20 High Precision Digital Milli...  Kitchen & Dining   \n",
       "\n",
       "                        cat_3                     cat_4  ratings  \n",
       "1       Dining & Entertaining                 Serveware      5.0  \n",
       "0  Kitchen Utensils & Gadgets  Measuring Tools & Scales      5.0  "
      ]
     },
     "execution_count": 174,
     "metadata": {},
     "output_type": "execute_result"
    }
   ],
   "source": [
    "items_with_categories(actual, 'A1S3C5OFU508P3', uucf_k3_predicted_ratings_matrix, list_type='actual')"
   ]
  },
  {
   "cell_type": "code",
   "execution_count": 175,
   "metadata": {},
   "outputs": [
    {
     "name": "stdout",
     "output_type": "stream",
     "text": [
      "=== Smart Weigh GEM20 High Precision Digital Milligram Scale 20 x 0.001g Ideal for Weighing Gems, Jewelry and other Precious Objects (Silver) ===\n"
     ]
    },
    {
     "data": {
      "text/html": [
       "<img src=\"http://ecx.images-amazon.com/images/I/41LrEOFPZWL._SY300_.jpg\"/>"
      ],
      "text/plain": [
       "<IPython.core.display.Image object>"
      ]
     },
     "metadata": {},
     "output_type": "display_data"
    },
    {
     "name": "stdout",
     "output_type": "stream",
     "text": [
      "=== Tea Beyond Teapot Fairy with Tea Warmer Cozy ===\n"
     ]
    },
    {
     "data": {
      "text/html": [
       "<img src=\"http://ecx.images-amazon.com/images/I/4184KdYFr1L._SY300_.jpg\"/>"
      ],
      "text/plain": [
       "<IPython.core.display.Image object>"
      ]
     },
     "metadata": {},
     "output_type": "display_data"
    }
   ],
   "source": [
    "print_product_images(actual)"
   ]
  },
  {
   "cell_type": "code",
   "execution_count": 417,
   "metadata": {},
   "outputs": [
    {
     "data": {
      "text/html": [
       "<div>\n",
       "<style scoped>\n",
       "    .dataframe tbody tr th:only-of-type {\n",
       "        vertical-align: middle;\n",
       "    }\n",
       "\n",
       "    .dataframe tbody tr th {\n",
       "        vertical-align: top;\n",
       "    }\n",
       "\n",
       "    .dataframe thead th {\n",
       "        text-align: right;\n",
       "    }\n",
       "</style>\n",
       "<table border=\"1\" class=\"dataframe\">\n",
       "  <thead>\n",
       "    <tr style=\"text-align: right;\">\n",
       "      <th></th>\n",
       "      <th>Product Names</th>\n",
       "      <th>cat_2</th>\n",
       "      <th>cat_3</th>\n",
       "      <th>cat_4</th>\n",
       "      <th>ratings</th>\n",
       "    </tr>\n",
       "  </thead>\n",
       "  <tbody>\n",
       "    <tr>\n",
       "      <th>7</th>\n",
       "      <td>Clara Clark Premier 1800 Chain Design 4pc Bed ...</td>\n",
       "      <td>Bedding</td>\n",
       "      <td>Sheets &amp; Pillowcases</td>\n",
       "      <td>Sheets</td>\n",
       "      <td>5.0</td>\n",
       "    </tr>\n",
       "    <tr>\n",
       "      <th>0</th>\n",
       "      <td>CIA 23304 Masters Collection 12 Inch x 17 Inch...</td>\n",
       "      <td>Kitchen &amp; Dining</td>\n",
       "      <td>Bakeware</td>\n",
       "      <td>Baking Tools &amp; Accessories</td>\n",
       "      <td>5.0</td>\n",
       "    </tr>\n",
       "    <tr>\n",
       "      <th>4</th>\n",
       "      <td>Vollrath 5220 Aluminum Wear-Ever Heavy-Duty 16...</td>\n",
       "      <td>Kitchen &amp; Dining</td>\n",
       "      <td>Cookware</td>\n",
       "      <td>All Pans</td>\n",
       "      <td>5.0</td>\n",
       "    </tr>\n",
       "    <tr>\n",
       "      <th>3</th>\n",
       "      <td>Ball Jar Heritage Collection Pint Jars with Li...</td>\n",
       "      <td>Kitchen &amp; Dining</td>\n",
       "      <td>Cookware</td>\n",
       "      <td>Canning</td>\n",
       "      <td>5.0</td>\n",
       "    </tr>\n",
       "    <tr>\n",
       "      <th>1</th>\n",
       "      <td>HIC 12- by 12-inch Celery Microfiber Dish Clot...</td>\n",
       "      <td>Kitchen &amp; Dining</td>\n",
       "      <td>Kitchen &amp; Table Linens</td>\n",
       "      <td>Dish Cloths &amp; Dish Towels</td>\n",
       "      <td>5.0</td>\n",
       "    </tr>\n",
       "    <tr>\n",
       "      <th>6</th>\n",
       "      <td>HIC Librett Cotton Butchers Twine 370-Feet</td>\n",
       "      <td>Kitchen &amp; Dining</td>\n",
       "      <td>Kitchen Utensils &amp; Gadgets</td>\n",
       "      <td>Meat &amp; Poultry Tools</td>\n",
       "      <td>5.0</td>\n",
       "    </tr>\n",
       "    <tr>\n",
       "      <th>9</th>\n",
       "      <td>AeroPress Coffee and Espresso Maker with Bonus...</td>\n",
       "      <td>Kitchen &amp; Dining</td>\n",
       "      <td>Small Appliance Parts &amp; Accessories</td>\n",
       "      <td>Coffee &amp; Espresso Machine Parts &amp; Accessories</td>\n",
       "      <td>5.0</td>\n",
       "    </tr>\n",
       "    <tr>\n",
       "      <th>2</th>\n",
       "      <td>Hamilton Beach 50242N WaveMaker 10-Speed Blend...</td>\n",
       "      <td>Kitchen &amp; Dining</td>\n",
       "      <td>Small Appliances</td>\n",
       "      <td>Blenders</td>\n",
       "      <td>5.0</td>\n",
       "    </tr>\n",
       "    <tr>\n",
       "      <th>8</th>\n",
       "      <td>PUR 5 Cup Water Filter Pitcher CR-4000</td>\n",
       "      <td>Kitchen &amp; Dining</td>\n",
       "      <td>Water Coolers &amp; Filters</td>\n",
       "      <td>Pitcher Water Filters</td>\n",
       "      <td>5.0</td>\n",
       "    </tr>\n",
       "    <tr>\n",
       "      <th>5</th>\n",
       "      <td>Behrens 6110 10-Gallon Locking Lid Can</td>\n",
       "      <td>Storage &amp; Organization</td>\n",
       "      <td>Baskets &amp; Bins</td>\n",
       "      <td>Lidded Storage Bins</td>\n",
       "      <td>5.0</td>\n",
       "    </tr>\n",
       "  </tbody>\n",
       "</table>\n",
       "</div>"
      ],
      "text/plain": [
       "                                       Product Names                   cat_2  \\\n",
       "7  Clara Clark Premier 1800 Chain Design 4pc Bed ...                 Bedding   \n",
       "0  CIA 23304 Masters Collection 12 Inch x 17 Inch...        Kitchen & Dining   \n",
       "4  Vollrath 5220 Aluminum Wear-Ever Heavy-Duty 16...        Kitchen & Dining   \n",
       "3  Ball Jar Heritage Collection Pint Jars with Li...        Kitchen & Dining   \n",
       "1  HIC 12- by 12-inch Celery Microfiber Dish Clot...        Kitchen & Dining   \n",
       "6         HIC Librett Cotton Butchers Twine 370-Feet        Kitchen & Dining   \n",
       "9  AeroPress Coffee and Espresso Maker with Bonus...        Kitchen & Dining   \n",
       "2  Hamilton Beach 50242N WaveMaker 10-Speed Blend...        Kitchen & Dining   \n",
       "8             PUR 5 Cup Water Filter Pitcher CR-4000        Kitchen & Dining   \n",
       "5             Behrens 6110 10-Gallon Locking Lid Can  Storage & Organization   \n",
       "\n",
       "                                 cat_3  \\\n",
       "7                 Sheets & Pillowcases   \n",
       "0                             Bakeware   \n",
       "4                             Cookware   \n",
       "3                             Cookware   \n",
       "1               Kitchen & Table Linens   \n",
       "6           Kitchen Utensils & Gadgets   \n",
       "9  Small Appliance Parts & Accessories   \n",
       "2                     Small Appliances   \n",
       "8              Water Coolers & Filters   \n",
       "5                       Baskets & Bins   \n",
       "\n",
       "                                           cat_4  ratings  \n",
       "7                                         Sheets      5.0  \n",
       "0                     Baking Tools & Accessories      5.0  \n",
       "4                                       All Pans      5.0  \n",
       "3                                        Canning      5.0  \n",
       "1                      Dish Cloths & Dish Towels      5.0  \n",
       "6                           Meat & Poultry Tools      5.0  \n",
       "9  Coffee & Espresso Machine Parts & Accessories      5.0  \n",
       "2                                       Blenders      5.0  \n",
       "8                          Pitcher Water Filters      5.0  \n",
       "5                            Lidded Storage Bins      5.0  "
      ]
     },
     "execution_count": 417,
     "metadata": {},
     "output_type": "execute_result"
    }
   ],
   "source": [
    "items_with_categories(rec_uucfk3, 'A1S3C5OFU508P3', uucf_k3_predicted_ratings_matrix, list_type='recommended')"
   ]
  },
  {
   "cell_type": "code",
   "execution_count": 418,
   "metadata": {},
   "outputs": [
    {
     "name": "stdout",
     "output_type": "stream",
     "text": [
      "=== CIA 23304 Masters Collection 12 Inch x 17 Inch Wire Cooling Rack, Chrome Plate Steel ===\n"
     ]
    },
    {
     "data": {
      "text/html": [
       "<img src=\"http://ecx.images-amazon.com/images/I/41D5YP%2B0xcL._SY300_.jpg\"/>"
      ],
      "text/plain": [
       "<IPython.core.display.Image object>"
      ]
     },
     "metadata": {},
     "output_type": "display_data"
    },
    {
     "name": "stdout",
     "output_type": "stream",
     "text": [
      "=== HIC 12- by 12-inch Celery Microfiber Dish Cloth, Set of 4 ===\n"
     ]
    },
    {
     "data": {
      "text/html": [
       "<img src=\"http://ecx.images-amazon.com/images/I/51JiKQ75%2B7L._SY300_.jpg\"/>"
      ],
      "text/plain": [
       "<IPython.core.display.Image object>"
      ]
     },
     "metadata": {},
     "output_type": "display_data"
    },
    {
     "name": "stdout",
     "output_type": "stream",
     "text": [
      "=== Hamilton Beach 50242N WaveMaker 10-Speed Blender, Black ===\n"
     ]
    },
    {
     "data": {
      "text/html": [
       "<img src=\"http://ecx.images-amazon.com/images/I/41Z%2B7q4pxZL._SY300_.jpg\"/>"
      ],
      "text/plain": [
       "<IPython.core.display.Image object>"
      ]
     },
     "metadata": {},
     "output_type": "display_data"
    },
    {
     "name": "stdout",
     "output_type": "stream",
     "text": [
      "=== Ball Jar Heritage Collection Pint Jars with Lids and Bands, Set of 6 ===\n"
     ]
    },
    {
     "data": {
      "text/html": [
       "<img src=\"http://ecx.images-amazon.com/images/I/51WN15SyBML._SY300_.jpg\"/>"
      ],
      "text/plain": [
       "<IPython.core.display.Image object>"
      ]
     },
     "metadata": {},
     "output_type": "display_data"
    },
    {
     "name": "stdout",
     "output_type": "stream",
     "text": [
      "=== Vollrath 5220 Aluminum Wear-Ever Heavy-Duty 16-Guage Closed Bead Natural Sheet Pan, 1/4 Size ===\n"
     ]
    },
    {
     "data": {
      "text/html": [
       "<img src=\"http://ecx.images-amazon.com/images/I/31inolW-WhL._SX300_.jpg\"/>"
      ],
      "text/plain": [
       "<IPython.core.display.Image object>"
      ]
     },
     "metadata": {},
     "output_type": "display_data"
    },
    {
     "name": "stdout",
     "output_type": "stream",
     "text": [
      "=== Behrens 6110 10-Gallon Locking Lid Can ===\n"
     ]
    },
    {
     "data": {
      "text/html": [
       "<img src=\"http://ecx.images-amazon.com/images/I/41hN0rJAOiL._SY300_.jpg\"/>"
      ],
      "text/plain": [
       "<IPython.core.display.Image object>"
      ]
     },
     "metadata": {},
     "output_type": "display_data"
    },
    {
     "name": "stdout",
     "output_type": "stream",
     "text": [
      "=== HIC Librett Cotton Butchers Twine 370-Feet ===\n"
     ]
    },
    {
     "data": {
      "text/html": [
       "<img src=\"http://ecx.images-amazon.com/images/I/51fE5GlPtmL._SY300_.jpg\"/>"
      ],
      "text/plain": [
       "<IPython.core.display.Image object>"
      ]
     },
     "metadata": {},
     "output_type": "display_data"
    },
    {
     "name": "stdout",
     "output_type": "stream",
     "text": [
      "=== Clara Clark Premier 1800 Chain Design 4pc Bed Sheet Set - King Size, White ===\n"
     ]
    },
    {
     "data": {
      "text/html": [
       "<img src=\"http://ecx.images-amazon.com/images/I/31UmojQhMvL._SX300_.jpg\"/>"
      ],
      "text/plain": [
       "<IPython.core.display.Image object>"
      ]
     },
     "metadata": {},
     "output_type": "display_data"
    },
    {
     "name": "stdout",
     "output_type": "stream",
     "text": [
      "=== PUR 5 Cup Water Filter Pitcher CR-4000 ===\n"
     ]
    },
    {
     "data": {
      "text/html": [
       "<img src=\"http://ecx.images-amazon.com/images/I/31AX193vurL._SY300_.jpg\"/>"
      ],
      "text/plain": [
       "<IPython.core.display.Image object>"
      ]
     },
     "metadata": {},
     "output_type": "display_data"
    },
    {
     "name": "stdout",
     "output_type": "stream",
     "text": [
      "=== AeroPress Coffee and Espresso Maker with Bonus 350 Micro Filters ===\n"
     ]
    },
    {
     "data": {
      "text/html": [
       "<img src=\"http://ecx.images-amazon.com/images/I/31yNz46c%2BLL._SY300_.jpg\"/>"
      ],
      "text/plain": [
       "<IPython.core.display.Image object>"
      ]
     },
     "metadata": {},
     "output_type": "display_data"
    }
   ],
   "source": [
    "print_product_images(rec_uucfk3)"
   ]
  },
  {
   "cell_type": "code",
   "execution_count": 178,
   "metadata": {},
   "outputs": [],
   "source": [
    "rec_iicfk3, history, actual = generate_recommendations('A1S3C5OFU508P3', iicf_k3_predicted_ratings_matrix, 10, False, False)"
   ]
  },
  {
   "cell_type": "code",
   "execution_count": 179,
   "metadata": {},
   "outputs": [
    {
     "data": {
      "text/html": [
       "<div>\n",
       "<style scoped>\n",
       "    .dataframe tbody tr th:only-of-type {\n",
       "        vertical-align: middle;\n",
       "    }\n",
       "\n",
       "    .dataframe tbody tr th {\n",
       "        vertical-align: top;\n",
       "    }\n",
       "\n",
       "    .dataframe thead th {\n",
       "        text-align: right;\n",
       "    }\n",
       "</style>\n",
       "<table border=\"1\" class=\"dataframe\">\n",
       "  <thead>\n",
       "    <tr style=\"text-align: right;\">\n",
       "      <th></th>\n",
       "      <th>Product Names</th>\n",
       "      <th>cat_2</th>\n",
       "      <th>cat_3</th>\n",
       "      <th>cat_4</th>\n",
       "      <th>ratings</th>\n",
       "    </tr>\n",
       "  </thead>\n",
       "  <tbody>\n",
       "    <tr>\n",
       "      <th>8</th>\n",
       "      <td>Frigidaire FRA054XT7 5,000 BTU Window-Mounted ...</td>\n",
       "      <td>Heating</td>\n",
       "      <td>Cooling &amp; Air Quality</td>\n",
       "      <td>Air Conditioners &amp; Accessories</td>\n",
       "      <td>5.0</td>\n",
       "    </tr>\n",
       "    <tr>\n",
       "      <th>2</th>\n",
       "      <td>Wilton Recipe Right 13 x 9 Inch Oblong Pan</td>\n",
       "      <td>Kitchen &amp; Dining</td>\n",
       "      <td>Bakeware</td>\n",
       "      <td>Cake Pans</td>\n",
       "      <td>5.0</td>\n",
       "    </tr>\n",
       "    <tr>\n",
       "      <th>5</th>\n",
       "      <td>Wilton Recipe Right 8 Inch Square Pan</td>\n",
       "      <td>Kitchen &amp; Dining</td>\n",
       "      <td>Bakeware</td>\n",
       "      <td>Cake Pans</td>\n",
       "      <td>5.0</td>\n",
       "    </tr>\n",
       "    <tr>\n",
       "      <th>9</th>\n",
       "      <td>Wilton Recipe Right 11 Inch x 7 Inch Biscuit B...</td>\n",
       "      <td>Kitchen &amp; Dining</td>\n",
       "      <td>Bakeware</td>\n",
       "      <td>Cake Pans</td>\n",
       "      <td>5.0</td>\n",
       "    </tr>\n",
       "    <tr>\n",
       "      <th>1</th>\n",
       "      <td>Medelco RK202 One All Universal Single-Cup Rep...</td>\n",
       "      <td>Kitchen &amp; Dining</td>\n",
       "      <td>Small Appliance Parts &amp; Accessories</td>\n",
       "      <td>Coffee &amp; Espresso Machine Parts &amp; Accessories</td>\n",
       "      <td>5.0</td>\n",
       "    </tr>\n",
       "    <tr>\n",
       "      <th>7</th>\n",
       "      <td>Folding Bread Proofer and Yogurt Maker</td>\n",
       "      <td>Kitchen &amp; Dining</td>\n",
       "      <td>Small Appliances</td>\n",
       "      <td>Bread Machines</td>\n",
       "      <td>5.0</td>\n",
       "    </tr>\n",
       "    <tr>\n",
       "      <th>6</th>\n",
       "      <td>FoodSaver V3020 Vertical Vacuum Sealing System...</td>\n",
       "      <td>Kitchen &amp; Dining</td>\n",
       "      <td>Small Appliances</td>\n",
       "      <td>Specialty Appliances</td>\n",
       "      <td>5.0</td>\n",
       "    </tr>\n",
       "    <tr>\n",
       "      <th>4</th>\n",
       "      <td>Hamilton Beach 26020 Belgian Style Waffle Baker</td>\n",
       "      <td>Kitchen &amp; Dining</td>\n",
       "      <td>Small Appliances</td>\n",
       "      <td>Waffle Irons</td>\n",
       "      <td>5.0</td>\n",
       "    </tr>\n",
       "    <tr>\n",
       "      <th>0</th>\n",
       "      <td>Closet Complete Twirling Tie Rack / Hanger Org...</td>\n",
       "      <td>Storage &amp; Organization</td>\n",
       "      <td>Clothing &amp; Closet Storage</td>\n",
       "      <td>Hangers</td>\n",
       "      <td>5.0</td>\n",
       "    </tr>\n",
       "    <tr>\n",
       "      <th>3</th>\n",
       "      <td>Command Mounting Refill Strips, Large, 6-Strip</td>\n",
       "      <td>Storage &amp; Organization</td>\n",
       "      <td>Home Storage Hooks</td>\n",
       "      <td>Utility Hooks</td>\n",
       "      <td>5.0</td>\n",
       "    </tr>\n",
       "  </tbody>\n",
       "</table>\n",
       "</div>"
      ],
      "text/plain": [
       "                                       Product Names                   cat_2  \\\n",
       "8  Frigidaire FRA054XT7 5,000 BTU Window-Mounted ...                 Heating   \n",
       "2         Wilton Recipe Right 13 x 9 Inch Oblong Pan        Kitchen & Dining   \n",
       "5              Wilton Recipe Right 8 Inch Square Pan        Kitchen & Dining   \n",
       "9  Wilton Recipe Right 11 Inch x 7 Inch Biscuit B...        Kitchen & Dining   \n",
       "1  Medelco RK202 One All Universal Single-Cup Rep...        Kitchen & Dining   \n",
       "7             Folding Bread Proofer and Yogurt Maker        Kitchen & Dining   \n",
       "6  FoodSaver V3020 Vertical Vacuum Sealing System...        Kitchen & Dining   \n",
       "4    Hamilton Beach 26020 Belgian Style Waffle Baker        Kitchen & Dining   \n",
       "0  Closet Complete Twirling Tie Rack / Hanger Org...  Storage & Organization   \n",
       "3     Command Mounting Refill Strips, Large, 6-Strip  Storage & Organization   \n",
       "\n",
       "                                 cat_3  \\\n",
       "8                Cooling & Air Quality   \n",
       "2                             Bakeware   \n",
       "5                             Bakeware   \n",
       "9                             Bakeware   \n",
       "1  Small Appliance Parts & Accessories   \n",
       "7                     Small Appliances   \n",
       "6                     Small Appliances   \n",
       "4                     Small Appliances   \n",
       "0            Clothing & Closet Storage   \n",
       "3                   Home Storage Hooks   \n",
       "\n",
       "                                           cat_4  ratings  \n",
       "8                 Air Conditioners & Accessories      5.0  \n",
       "2                                      Cake Pans      5.0  \n",
       "5                                      Cake Pans      5.0  \n",
       "9                                      Cake Pans      5.0  \n",
       "1  Coffee & Espresso Machine Parts & Accessories      5.0  \n",
       "7                                 Bread Machines      5.0  \n",
       "6                           Specialty Appliances      5.0  \n",
       "4                                   Waffle Irons      5.0  \n",
       "0                                        Hangers      5.0  \n",
       "3                                  Utility Hooks      5.0  "
      ]
     },
     "execution_count": 179,
     "metadata": {},
     "output_type": "execute_result"
    }
   ],
   "source": [
    "items_with_categories(rec_iicfk3, 'A1S3C5OFU508P3', iicf_k3_predicted_ratings_matrix, list_type='recommended')"
   ]
  },
  {
   "cell_type": "code",
   "execution_count": 181,
   "metadata": {
    "scrolled": true
   },
   "outputs": [
    {
     "name": "stdout",
     "output_type": "stream",
     "text": [
      "=== Closet Complete Twirling Tie Rack / Hanger Organizer ===\n"
     ]
    },
    {
     "data": {
      "text/html": [
       "<img src=\"http://ecx.images-amazon.com/images/I/415fJ-FDkLL._SY300_.jpg\"/>"
      ],
      "text/plain": [
       "<IPython.core.display.Image object>"
      ]
     },
     "metadata": {},
     "output_type": "display_data"
    },
    {
     "name": "stdout",
     "output_type": "stream",
     "text": [
      "=== Medelco RK202 One All Universal Single-Cup Replacement Coffee Filter, Set of 2 ===\n"
     ]
    },
    {
     "data": {
      "text/html": [
       "<img src=\"http://ecx.images-amazon.com/images/I/41qbPO8w9oL._SX300_.jpg\"/>"
      ],
      "text/plain": [
       "<IPython.core.display.Image object>"
      ]
     },
     "metadata": {},
     "output_type": "display_data"
    },
    {
     "name": "stdout",
     "output_type": "stream",
     "text": [
      "=== Wilton Recipe Right 13 x 9 Inch Oblong Pan ===\n"
     ]
    },
    {
     "data": {
      "text/html": [
       "<img src=\"http://ecx.images-amazon.com/images/I/31V5PTLo4CL._SY300_.jpg\"/>"
      ],
      "text/plain": [
       "<IPython.core.display.Image object>"
      ]
     },
     "metadata": {},
     "output_type": "display_data"
    },
    {
     "name": "stdout",
     "output_type": "stream",
     "text": [
      "=== Command Mounting Refill Strips, Large, 6-Strip ===\n"
     ]
    },
    {
     "data": {
      "text/html": [
       "<img src=\"http://ecx.images-amazon.com/images/I/41H17DQObaL._SY300_.jpg\"/>"
      ],
      "text/plain": [
       "<IPython.core.display.Image object>"
      ]
     },
     "metadata": {},
     "output_type": "display_data"
    },
    {
     "name": "stdout",
     "output_type": "stream",
     "text": [
      "=== Hamilton Beach 26020 Belgian Style Waffle Baker ===\n"
     ]
    },
    {
     "data": {
      "text/html": [
       "<img src=\"http://ecx.images-amazon.com/images/I/51Xm5AHJevL._SY300_.jpg\"/>"
      ],
      "text/plain": [
       "<IPython.core.display.Image object>"
      ]
     },
     "metadata": {},
     "output_type": "display_data"
    },
    {
     "name": "stdout",
     "output_type": "stream",
     "text": [
      "=== Wilton Recipe Right 8 Inch Square Pan ===\n"
     ]
    },
    {
     "data": {
      "text/html": [
       "<img src=\"http://ecx.images-amazon.com/images/I/41ZOi-xo8EL._SY300_.jpg\"/>"
      ],
      "text/plain": [
       "<IPython.core.display.Image object>"
      ]
     },
     "metadata": {},
     "output_type": "display_data"
    },
    {
     "name": "stdout",
     "output_type": "stream",
     "text": [
      "=== FoodSaver V3020 Vertical Vacuum Sealing System With Starter Kit ===\n"
     ]
    },
    {
     "data": {
      "text/html": [
       "<img src=\"http://ecx.images-amazon.com/images/I/41H3JjlDd%2BL._SX300_.jpg\"/>"
      ],
      "text/plain": [
       "<IPython.core.display.Image object>"
      ]
     },
     "metadata": {},
     "output_type": "display_data"
    },
    {
     "name": "stdout",
     "output_type": "stream",
     "text": [
      "=== Folding Bread Proofer and Yogurt Maker ===\n"
     ]
    },
    {
     "data": {
      "text/html": [
       "<img src=\"http://ecx.images-amazon.com/images/I/41MoInYj3SL._SY300_.jpg\"/>"
      ],
      "text/plain": [
       "<IPython.core.display.Image object>"
      ]
     },
     "metadata": {},
     "output_type": "display_data"
    },
    {
     "name": "stdout",
     "output_type": "stream",
     "text": [
      "=== Frigidaire FRA054XT7 5,000 BTU Window-Mounted Mini Room Air Conditioner ===\n"
     ]
    },
    {
     "data": {
      "text/html": [
       "<img src=\"http://ecx.images-amazon.com/images/I/51Bc5dWdchL._SY300_.jpg\"/>"
      ],
      "text/plain": [
       "<IPython.core.display.Image object>"
      ]
     },
     "metadata": {},
     "output_type": "display_data"
    },
    {
     "name": "stdout",
     "output_type": "stream",
     "text": [
      "=== Wilton Recipe Right 11 Inch x 7 Inch Biscuit Brownie Pan ===\n"
     ]
    },
    {
     "data": {
      "text/html": [
       "<img src=\"http://ecx.images-amazon.com/images/I/41A413jeIRL._SY300_.jpg\"/>"
      ],
      "text/plain": [
       "<IPython.core.display.Image object>"
      ]
     },
     "metadata": {},
     "output_type": "display_data"
    }
   ],
   "source": [
    "print_product_images(rec_iicfk3)"
   ]
  },
  {
   "cell_type": "code",
   "execution_count": 182,
   "metadata": {},
   "outputs": [],
   "source": [
    "rec_svdk100, history, actual = generate_recommendations('A1S3C5OFU508P3', svd_k100_predicted_ratings_matrix, 10, False, False)"
   ]
  },
  {
   "cell_type": "code",
   "execution_count": 183,
   "metadata": {},
   "outputs": [
    {
     "data": {
      "text/html": [
       "<div>\n",
       "<style scoped>\n",
       "    .dataframe tbody tr th:only-of-type {\n",
       "        vertical-align: middle;\n",
       "    }\n",
       "\n",
       "    .dataframe tbody tr th {\n",
       "        vertical-align: top;\n",
       "    }\n",
       "\n",
       "    .dataframe thead th {\n",
       "        text-align: right;\n",
       "    }\n",
       "</style>\n",
       "<table border=\"1\" class=\"dataframe\">\n",
       "  <thead>\n",
       "    <tr style=\"text-align: right;\">\n",
       "      <th></th>\n",
       "      <th>Product Names</th>\n",
       "      <th>cat_2</th>\n",
       "      <th>cat_3</th>\n",
       "      <th>cat_4</th>\n",
       "      <th>ratings</th>\n",
       "    </tr>\n",
       "  </thead>\n",
       "  <tbody>\n",
       "    <tr>\n",
       "      <th>4</th>\n",
       "      <td>Lodge L4LP3 Loaf Pan</td>\n",
       "      <td>Kitchen &amp; Dining</td>\n",
       "      <td>Bakeware</td>\n",
       "      <td>Bread &amp; Loaf Pans</td>\n",
       "      <td>5.000000</td>\n",
       "    </tr>\n",
       "    <tr>\n",
       "      <th>2</th>\n",
       "      <td>Frieling Polished Stainless French Press, 23-O...</td>\n",
       "      <td>Kitchen &amp; Dining</td>\n",
       "      <td>Coffee</td>\n",
       "      <td>Tea &amp; Espresso</td>\n",
       "      <td>5.000000</td>\n",
       "    </tr>\n",
       "    <tr>\n",
       "      <th>0</th>\n",
       "      <td>Victorinox Fibrox 7-Inch Granton Edge Santoku ...</td>\n",
       "      <td>Kitchen &amp; Dining</td>\n",
       "      <td>Kitchen Knives &amp; Cutlery Accessories</td>\n",
       "      <td>Bread &amp; Serrated Knives</td>\n",
       "      <td>5.000000</td>\n",
       "    </tr>\n",
       "    <tr>\n",
       "      <th>1</th>\n",
       "      <td>Kuhn Rikon 2710 Ultimate Shears, Black</td>\n",
       "      <td>Kitchen &amp; Dining</td>\n",
       "      <td>Kitchen Knives &amp; Cutlery Accessories</td>\n",
       "      <td>Shears</td>\n",
       "      <td>5.000000</td>\n",
       "    </tr>\n",
       "    <tr>\n",
       "      <th>3</th>\n",
       "      <td>RSVP 6-Piece Stainless Steel Nesting Measuring...</td>\n",
       "      <td>Kitchen &amp; Dining</td>\n",
       "      <td>Kitchen Utensils &amp; Gadgets</td>\n",
       "      <td>Measuring Tools &amp; Scales</td>\n",
       "      <td>5.000000</td>\n",
       "    </tr>\n",
       "    <tr>\n",
       "      <th>5</th>\n",
       "      <td>Anolon Chef Clad Stainless Steel 10-Piece Cook...</td>\n",
       "      <td>Kitchen &amp; Dining</td>\n",
       "      <td>Cookware</td>\n",
       "      <td>Cookware Sets</td>\n",
       "      <td>4.995768</td>\n",
       "    </tr>\n",
       "    <tr>\n",
       "      <th>6</th>\n",
       "      <td>Klip It 1250 Bakery Storage with Measure Cup</td>\n",
       "      <td>Kitchen &amp; Dining</td>\n",
       "      <td>Storage &amp; Organization</td>\n",
       "      <td>Food Savers</td>\n",
       "      <td>4.985766</td>\n",
       "    </tr>\n",
       "    <tr>\n",
       "      <th>7</th>\n",
       "      <td>OXO Good Grips Stainless Steel Over-The-Door Hook</td>\n",
       "      <td>Storage &amp; Organization</td>\n",
       "      <td>Clothing &amp; Closet Storage</td>\n",
       "      <td>Closet System Attachments</td>\n",
       "      <td>4.975771</td>\n",
       "    </tr>\n",
       "    <tr>\n",
       "      <th>8</th>\n",
       "      <td>Simplehuman Rechargeable Sensor Pump Soap Disp...</td>\n",
       "      <td>Bath</td>\n",
       "      <td>Bathroom Accessories</td>\n",
       "      <td>Holders &amp; Dispensers</td>\n",
       "      <td>4.969680</td>\n",
       "    </tr>\n",
       "    <tr>\n",
       "      <th>9</th>\n",
       "      <td>OXO Good Grips Solid Stainless Steel Ice Cream...</td>\n",
       "      <td>Kitchen &amp; Dining</td>\n",
       "      <td>Kitchen Utensils &amp; Gadgets</td>\n",
       "      <td>Specialty Tools &amp; Gadgets</td>\n",
       "      <td>4.968878</td>\n",
       "    </tr>\n",
       "  </tbody>\n",
       "</table>\n",
       "</div>"
      ],
      "text/plain": [
       "                                       Product Names                   cat_2  \\\n",
       "4                               Lodge L4LP3 Loaf Pan        Kitchen & Dining   \n",
       "2  Frieling Polished Stainless French Press, 23-O...        Kitchen & Dining   \n",
       "0  Victorinox Fibrox 7-Inch Granton Edge Santoku ...        Kitchen & Dining   \n",
       "1             Kuhn Rikon 2710 Ultimate Shears, Black        Kitchen & Dining   \n",
       "3  RSVP 6-Piece Stainless Steel Nesting Measuring...        Kitchen & Dining   \n",
       "5  Anolon Chef Clad Stainless Steel 10-Piece Cook...        Kitchen & Dining   \n",
       "6       Klip It 1250 Bakery Storage with Measure Cup        Kitchen & Dining   \n",
       "7  OXO Good Grips Stainless Steel Over-The-Door Hook  Storage & Organization   \n",
       "8  Simplehuman Rechargeable Sensor Pump Soap Disp...                    Bath   \n",
       "9  OXO Good Grips Solid Stainless Steel Ice Cream...        Kitchen & Dining   \n",
       "\n",
       "                                  cat_3                      cat_4   ratings  \n",
       "4                              Bakeware          Bread & Loaf Pans  5.000000  \n",
       "2                                Coffee             Tea & Espresso  5.000000  \n",
       "0  Kitchen Knives & Cutlery Accessories    Bread & Serrated Knives  5.000000  \n",
       "1  Kitchen Knives & Cutlery Accessories                     Shears  5.000000  \n",
       "3            Kitchen Utensils & Gadgets   Measuring Tools & Scales  5.000000  \n",
       "5                              Cookware              Cookware Sets  4.995768  \n",
       "6                Storage & Organization                Food Savers  4.985766  \n",
       "7             Clothing & Closet Storage  Closet System Attachments  4.975771  \n",
       "8                  Bathroom Accessories       Holders & Dispensers  4.969680  \n",
       "9            Kitchen Utensils & Gadgets  Specialty Tools & Gadgets  4.968878  "
      ]
     },
     "execution_count": 183,
     "metadata": {},
     "output_type": "execute_result"
    }
   ],
   "source": [
    "items_with_categories(rec_svdk100, 'A1S3C5OFU508P3', svd_k100_predicted_ratings_matrix, list_type='recommended')"
   ]
  },
  {
   "cell_type": "code",
   "execution_count": 185,
   "metadata": {
    "scrolled": true
   },
   "outputs": [
    {
     "name": "stdout",
     "output_type": "stream",
     "text": [
      "=== Victorinox Fibrox 7-Inch Granton Edge Santoku Knife ===\n"
     ]
    },
    {
     "data": {
      "text/html": [
       "<img src=\"http://ecx.images-amazon.com/images/I/21rxz0pzIcL._SX300_.jpg\"/>"
      ],
      "text/plain": [
       "<IPython.core.display.Image object>"
      ]
     },
     "metadata": {},
     "output_type": "display_data"
    },
    {
     "name": "stdout",
     "output_type": "stream",
     "text": [
      "=== Kuhn Rikon 2710 Ultimate Shears, Black ===\n"
     ]
    },
    {
     "data": {
      "text/html": [
       "<img src=\"http://ecx.images-amazon.com/images/I/31BcMqiGsIL._SX300_.jpg\"/>"
      ],
      "text/plain": [
       "<IPython.core.display.Image object>"
      ]
     },
     "metadata": {},
     "output_type": "display_data"
    },
    {
     "name": "stdout",
     "output_type": "stream",
     "text": [
      "=== Frieling Polished Stainless French Press, 23-Ounce ===\n"
     ]
    },
    {
     "data": {
      "text/html": [
       "<img src=\"http://ecx.images-amazon.com/images/I/41EZ7WYC59L._SY300_.jpg\"/>"
      ],
      "text/plain": [
       "<IPython.core.display.Image object>"
      ]
     },
     "metadata": {},
     "output_type": "display_data"
    },
    {
     "name": "stdout",
     "output_type": "stream",
     "text": [
      "=== RSVP 6-Piece Stainless Steel Nesting Measuring Cup Set ===\n"
     ]
    },
    {
     "data": {
      "text/html": [
       "<img src=\"http://ecx.images-amazon.com/images/I/51d5wnJhiEL._SY300_.jpg\"/>"
      ],
      "text/plain": [
       "<IPython.core.display.Image object>"
      ]
     },
     "metadata": {},
     "output_type": "display_data"
    },
    {
     "name": "stdout",
     "output_type": "stream",
     "text": [
      "=== Lodge L4LP3 Loaf Pan ===\n"
     ]
    },
    {
     "data": {
      "text/html": [
       "<img src=\"http://ecx.images-amazon.com/images/I/31MTDS%2Bz%2B1L._SX300_.jpg\"/>"
      ],
      "text/plain": [
       "<IPython.core.display.Image object>"
      ]
     },
     "metadata": {},
     "output_type": "display_data"
    },
    {
     "name": "stdout",
     "output_type": "stream",
     "text": [
      "=== Anolon Chef Clad Stainless Steel 10-Piece Cookware Set ===\n"
     ]
    },
    {
     "data": {
      "text/html": [
       "<img src=\"http://ecx.images-amazon.com/images/I/41QsAJkHVwL._SY300_.jpg\"/>"
      ],
      "text/plain": [
       "<IPython.core.display.Image object>"
      ]
     },
     "metadata": {},
     "output_type": "display_data"
    },
    {
     "name": "stdout",
     "output_type": "stream",
     "text": [
      "=== Klip It 1250 Bakery Storage with Measure Cup ===\n"
     ]
    },
    {
     "data": {
      "text/html": [
       "<img src=\"http://ecx.images-amazon.com/images/I/41ecBD%2BjkyL._SY300_.jpg\"/>"
      ],
      "text/plain": [
       "<IPython.core.display.Image object>"
      ]
     },
     "metadata": {},
     "output_type": "display_data"
    },
    {
     "name": "stdout",
     "output_type": "stream",
     "text": [
      "=== OXO Good Grips Stainless Steel Over-The-Door Hook ===\n"
     ]
    },
    {
     "data": {
      "text/html": [
       "<img src=\"http://ecx.images-amazon.com/images/I/31C84%2BmOcPL._SY300_.jpg\"/>"
      ],
      "text/plain": [
       "<IPython.core.display.Image object>"
      ]
     },
     "metadata": {},
     "output_type": "display_data"
    },
    {
     "name": "stdout",
     "output_type": "stream",
     "text": [
      "=== Simplehuman Rechargeable Sensor Pump Soap Dispenser, 11 Fluid Ounce ===\n"
     ]
    },
    {
     "data": {
      "text/html": [
       "<img src=\"http://ecx.images-amazon.com/images/I/31WFW38ZIQL._SX300_.jpg\"/>"
      ],
      "text/plain": [
       "<IPython.core.display.Image object>"
      ]
     },
     "metadata": {},
     "output_type": "display_data"
    },
    {
     "name": "stdout",
     "output_type": "stream",
     "text": [
      "=== OXO Good Grips Solid Stainless Steel Ice Cream Scoop ===\n"
     ]
    },
    {
     "data": {
      "text/html": [
       "<img src=\"http://ecx.images-amazon.com/images/I/31MPh76zkuL._SY300_.jpg\"/>"
      ],
      "text/plain": [
       "<IPython.core.display.Image object>"
      ]
     },
     "metadata": {},
     "output_type": "display_data"
    }
   ],
   "source": [
    "print_product_images(rec_svdk100)"
   ]
  },
  {
   "cell_type": "code",
   "execution_count": 241,
   "metadata": {},
   "outputs": [],
   "source": [
    "rec_svdppk20, history, actual = generate_recommendations('A1S3C5OFU508P3', svdpp_k20_predicted_ratings_matrix, 10, False, False)"
   ]
  },
  {
   "cell_type": "code",
   "execution_count": 242,
   "metadata": {},
   "outputs": [
    {
     "data": {
      "text/html": [
       "<div>\n",
       "<style scoped>\n",
       "    .dataframe tbody tr th:only-of-type {\n",
       "        vertical-align: middle;\n",
       "    }\n",
       "\n",
       "    .dataframe tbody tr th {\n",
       "        vertical-align: top;\n",
       "    }\n",
       "\n",
       "    .dataframe thead th {\n",
       "        text-align: right;\n",
       "    }\n",
       "</style>\n",
       "<table border=\"1\" class=\"dataframe\">\n",
       "  <thead>\n",
       "    <tr style=\"text-align: right;\">\n",
       "      <th></th>\n",
       "      <th>Product Names</th>\n",
       "      <th>cat_2</th>\n",
       "      <th>cat_3</th>\n",
       "      <th>cat_4</th>\n",
       "      <th>ratings</th>\n",
       "    </tr>\n",
       "  </thead>\n",
       "  <tbody>\n",
       "    <tr>\n",
       "      <th>8</th>\n",
       "      <td>InterDesign Med+, 12-Inch Drawer Caddy, Clear</td>\n",
       "      <td>Bath</td>\n",
       "      <td>Bathroom Accessories</td>\n",
       "      <td>Shower Accessories</td>\n",
       "      <td>5.0</td>\n",
       "    </tr>\n",
       "    <tr>\n",
       "      <th>5</th>\n",
       "      <td>Newpoint Home Deluxe 250-Thread-Count Cotton D...</td>\n",
       "      <td>Bedding</td>\n",
       "      <td>Mattress Pads</td>\n",
       "      <td>NaN</td>\n",
       "      <td>5.0</td>\n",
       "    </tr>\n",
       "    <tr>\n",
       "      <th>4</th>\n",
       "      <td>Fox Run Silicone Baking Mat, 11-3/4 by 16-Inch</td>\n",
       "      <td>Kitchen &amp; Dining</td>\n",
       "      <td>Bakeware</td>\n",
       "      <td>Baking Tools &amp; Accessories</td>\n",
       "      <td>5.0</td>\n",
       "    </tr>\n",
       "    <tr>\n",
       "      <th>0</th>\n",
       "      <td>Victorinox 47547 10-1/4-Inch Wavy Bread Knife,...</td>\n",
       "      <td>Kitchen &amp; Dining</td>\n",
       "      <td>Kitchen Knives &amp; Cutlery Accessories</td>\n",
       "      <td>Bread &amp; Serrated Knives</td>\n",
       "      <td>5.0</td>\n",
       "    </tr>\n",
       "    <tr>\n",
       "      <th>2</th>\n",
       "      <td>Kuhn Rikon 2710 Ultimate Shears, Black</td>\n",
       "      <td>Kitchen &amp; Dining</td>\n",
       "      <td>Kitchen Knives &amp; Cutlery Accessories</td>\n",
       "      <td>Shears</td>\n",
       "      <td>5.0</td>\n",
       "    </tr>\n",
       "    <tr>\n",
       "      <th>1</th>\n",
       "      <td>Rubbermaid Commercial FG1962000000 High-Heat S...</td>\n",
       "      <td>Kitchen &amp; Dining</td>\n",
       "      <td>Kitchen Utensils &amp; Gadgets</td>\n",
       "      <td>Cooking Utensils</td>\n",
       "      <td>5.0</td>\n",
       "    </tr>\n",
       "    <tr>\n",
       "      <th>9</th>\n",
       "      <td>OXO Good Grips Lua Pepper Mill</td>\n",
       "      <td>Kitchen &amp; Dining</td>\n",
       "      <td>Kitchen Utensils &amp; Gadgets</td>\n",
       "      <td>Salt &amp; Pepper</td>\n",
       "      <td>5.0</td>\n",
       "    </tr>\n",
       "    <tr>\n",
       "      <th>6</th>\n",
       "      <td>Splash-Proof Super-Fast Thermapen (Red) Instan...</td>\n",
       "      <td>Kitchen &amp; Dining</td>\n",
       "      <td>Kitchen Utensils &amp; Gadgets</td>\n",
       "      <td>Thermometers &amp; Timers</td>\n",
       "      <td>5.0</td>\n",
       "    </tr>\n",
       "    <tr>\n",
       "      <th>7</th>\n",
       "      <td>Cuisinart DCC-RWF Replacement Water Filters, 2...</td>\n",
       "      <td>Kitchen &amp; Dining</td>\n",
       "      <td>Small Appliance Parts &amp; Accessories</td>\n",
       "      <td>Coffee &amp; Espresso Machine Parts &amp; Accessories</td>\n",
       "      <td>5.0</td>\n",
       "    </tr>\n",
       "    <tr>\n",
       "      <th>3</th>\n",
       "      <td>OXO Good Grips Stainless Steel Over-The-Door Hook</td>\n",
       "      <td>Storage &amp; Organization</td>\n",
       "      <td>Clothing &amp; Closet Storage</td>\n",
       "      <td>Closet System Attachments</td>\n",
       "      <td>5.0</td>\n",
       "    </tr>\n",
       "  </tbody>\n",
       "</table>\n",
       "</div>"
      ],
      "text/plain": [
       "                                       Product Names                   cat_2  \\\n",
       "8      InterDesign Med+, 12-Inch Drawer Caddy, Clear                    Bath   \n",
       "5  Newpoint Home Deluxe 250-Thread-Count Cotton D...                 Bedding   \n",
       "4     Fox Run Silicone Baking Mat, 11-3/4 by 16-Inch        Kitchen & Dining   \n",
       "0  Victorinox 47547 10-1/4-Inch Wavy Bread Knife,...        Kitchen & Dining   \n",
       "2             Kuhn Rikon 2710 Ultimate Shears, Black        Kitchen & Dining   \n",
       "1  Rubbermaid Commercial FG1962000000 High-Heat S...        Kitchen & Dining   \n",
       "9                     OXO Good Grips Lua Pepper Mill        Kitchen & Dining   \n",
       "6  Splash-Proof Super-Fast Thermapen (Red) Instan...        Kitchen & Dining   \n",
       "7  Cuisinart DCC-RWF Replacement Water Filters, 2...        Kitchen & Dining   \n",
       "3  OXO Good Grips Stainless Steel Over-The-Door Hook  Storage & Organization   \n",
       "\n",
       "                                  cat_3  \\\n",
       "8                  Bathroom Accessories   \n",
       "5                         Mattress Pads   \n",
       "4                              Bakeware   \n",
       "0  Kitchen Knives & Cutlery Accessories   \n",
       "2  Kitchen Knives & Cutlery Accessories   \n",
       "1            Kitchen Utensils & Gadgets   \n",
       "9            Kitchen Utensils & Gadgets   \n",
       "6            Kitchen Utensils & Gadgets   \n",
       "7   Small Appliance Parts & Accessories   \n",
       "3             Clothing & Closet Storage   \n",
       "\n",
       "                                           cat_4  ratings  \n",
       "8                             Shower Accessories      5.0  \n",
       "5                                            NaN      5.0  \n",
       "4                     Baking Tools & Accessories      5.0  \n",
       "0                        Bread & Serrated Knives      5.0  \n",
       "2                                         Shears      5.0  \n",
       "1                               Cooking Utensils      5.0  \n",
       "9                                  Salt & Pepper      5.0  \n",
       "6                          Thermometers & Timers      5.0  \n",
       "7  Coffee & Espresso Machine Parts & Accessories      5.0  \n",
       "3                      Closet System Attachments      5.0  "
      ]
     },
     "execution_count": 242,
     "metadata": {},
     "output_type": "execute_result"
    }
   ],
   "source": [
    "items_with_categories(rec_svdppk20, 'A1S3C5OFU508P3', svdpp_k20_predicted_ratings_matrix, list_type='recommended')"
   ]
  },
  {
   "cell_type": "code",
   "execution_count": 243,
   "metadata": {
    "scrolled": true
   },
   "outputs": [
    {
     "name": "stdout",
     "output_type": "stream",
     "text": [
      "=== Victorinox 47547 10-1/4-Inch Wavy Bread Knife, Black Fibrox Handle ===\n"
     ]
    },
    {
     "data": {
      "text/html": [
       "<img src=\"http://ecx.images-amazon.com/images/I/21-jssFaZoL._SX300_.jpg\"/>"
      ],
      "text/plain": [
       "<IPython.core.display.Image object>"
      ]
     },
     "metadata": {},
     "output_type": "display_data"
    },
    {
     "name": "stdout",
     "output_type": "stream",
     "text": [
      "=== Rubbermaid Commercial FG1962000000 High-Heat Scraper, 9.5-inch ===\n"
     ]
    },
    {
     "data": {
      "text/html": [
       "<img src=\"http://ecx.images-amazon.com/images/I/214IRFl%2BI1L._SX300_.jpg\"/>"
      ],
      "text/plain": [
       "<IPython.core.display.Image object>"
      ]
     },
     "metadata": {},
     "output_type": "display_data"
    },
    {
     "name": "stdout",
     "output_type": "stream",
     "text": [
      "=== Kuhn Rikon 2710 Ultimate Shears, Black ===\n"
     ]
    },
    {
     "data": {
      "text/html": [
       "<img src=\"http://ecx.images-amazon.com/images/I/31BcMqiGsIL._SX300_.jpg\"/>"
      ],
      "text/plain": [
       "<IPython.core.display.Image object>"
      ]
     },
     "metadata": {},
     "output_type": "display_data"
    },
    {
     "name": "stdout",
     "output_type": "stream",
     "text": [
      "=== OXO Good Grips Stainless Steel Over-The-Door Hook ===\n"
     ]
    },
    {
     "data": {
      "text/html": [
       "<img src=\"http://ecx.images-amazon.com/images/I/31C84%2BmOcPL._SY300_.jpg\"/>"
      ],
      "text/plain": [
       "<IPython.core.display.Image object>"
      ]
     },
     "metadata": {},
     "output_type": "display_data"
    },
    {
     "name": "stdout",
     "output_type": "stream",
     "text": [
      "=== Fox Run Silicone Baking Mat, 11-3/4 by 16-Inch ===\n"
     ]
    },
    {
     "data": {
      "text/html": [
       "<img src=\"http://ecx.images-amazon.com/images/I/41%2BFA-qS-vL._SX300_.jpg\"/>"
      ],
      "text/plain": [
       "<IPython.core.display.Image object>"
      ]
     },
     "metadata": {},
     "output_type": "display_data"
    },
    {
     "name": "stdout",
     "output_type": "stream",
     "text": [
      "=== Newpoint Home Deluxe 250-Thread-Count Cotton Damask Stripe Queen Mattress Pad ===\n"
     ]
    },
    {
     "data": {
      "text/html": [
       "<img src=\"http://ecx.images-amazon.com/images/I/41dA56aPoRL._SX300_.jpg\"/>"
      ],
      "text/plain": [
       "<IPython.core.display.Image object>"
      ]
     },
     "metadata": {},
     "output_type": "display_data"
    },
    {
     "name": "stdout",
     "output_type": "stream",
     "text": [
      "=== Splash-Proof Super-Fast Thermapen (Red) Instant Read Thermometer, Perfect for Barbecue, Home and Professional Cooking ===\n"
     ]
    },
    {
     "data": {
      "text/html": [
       "<img src=\"http://ecx.images-amazon.com/images/I/41WgMyb7u-L._SX300_.jpg\"/>"
      ],
      "text/plain": [
       "<IPython.core.display.Image object>"
      ]
     },
     "metadata": {},
     "output_type": "display_data"
    },
    {
     "name": "stdout",
     "output_type": "stream",
     "text": [
      "=== Cuisinart DCC-RWF Replacement Water Filters, 2-Pack ===\n"
     ]
    },
    {
     "data": {
      "text/html": [
       "<img src=\"http://ecx.images-amazon.com/images/I/31mrlyoVZ3L._SX300_.jpg\"/>"
      ],
      "text/plain": [
       "<IPython.core.display.Image object>"
      ]
     },
     "metadata": {},
     "output_type": "display_data"
    },
    {
     "name": "stdout",
     "output_type": "stream",
     "text": [
      "=== InterDesign Med+, 12-Inch Drawer Caddy, Clear ===\n"
     ]
    },
    {
     "data": {
      "text/html": [
       "<img src=\"http://ecx.images-amazon.com/images/I/41OchWBeisL._SY300_.jpg\"/>"
      ],
      "text/plain": [
       "<IPython.core.display.Image object>"
      ]
     },
     "metadata": {},
     "output_type": "display_data"
    },
    {
     "name": "stdout",
     "output_type": "stream",
     "text": [
      "=== OXO Good Grips Lua Pepper Mill ===\n"
     ]
    },
    {
     "data": {
      "text/html": [
       "<img src=\"http://ecx.images-amazon.com/images/I/31r09qaNDiL._SY300_.jpg\"/>"
      ],
      "text/plain": [
       "<IPython.core.display.Image object>"
      ]
     },
     "metadata": {},
     "output_type": "display_data"
    }
   ],
   "source": [
    "print_product_images(rec_svdppk20)"
   ]
  },
  {
   "cell_type": "code",
   "execution_count": null,
   "metadata": {},
   "outputs": [],
   "source": [
    "svd_k40reg_predicted_ratings_matrix"
   ]
  },
  {
   "cell_type": "code",
   "execution_count": 406,
   "metadata": {},
   "outputs": [],
   "source": [
    "rec_svdk40reg, history, actual = generate_recommendations('A1S3C5OFU508P3', svd_k40reg_predicted_ratings_matrix, 5, False, False)"
   ]
  },
  {
   "cell_type": "code",
   "execution_count": 407,
   "metadata": {},
   "outputs": [
    {
     "data": {
      "text/html": [
       "<div>\n",
       "<style scoped>\n",
       "    .dataframe tbody tr th:only-of-type {\n",
       "        vertical-align: middle;\n",
       "    }\n",
       "\n",
       "    .dataframe tbody tr th {\n",
       "        vertical-align: top;\n",
       "    }\n",
       "\n",
       "    .dataframe thead th {\n",
       "        text-align: right;\n",
       "    }\n",
       "</style>\n",
       "<table border=\"1\" class=\"dataframe\">\n",
       "  <thead>\n",
       "    <tr style=\"text-align: right;\">\n",
       "      <th></th>\n",
       "      <th>Product Names</th>\n",
       "      <th>cat_2</th>\n",
       "      <th>cat_3</th>\n",
       "      <th>cat_4</th>\n",
       "      <th>ratings</th>\n",
       "    </tr>\n",
       "  </thead>\n",
       "  <tbody>\n",
       "    <tr>\n",
       "      <th>0</th>\n",
       "      <td>CIA 23304 Masters Collection 12 Inch x 17 Inch...</td>\n",
       "      <td>Kitchen &amp; Dining</td>\n",
       "      <td>Bakeware</td>\n",
       "      <td>Baking Tools &amp; Accessories</td>\n",
       "      <td>4.779670</td>\n",
       "    </tr>\n",
       "    <tr>\n",
       "      <th>1</th>\n",
       "      <td>HIC 12- by 12-inch Celery Microfiber Dish Clot...</td>\n",
       "      <td>Kitchen &amp; Dining</td>\n",
       "      <td>Kitchen &amp; Table Linens</td>\n",
       "      <td>Dish Cloths &amp; Dish Towels</td>\n",
       "      <td>4.736714</td>\n",
       "    </tr>\n",
       "    <tr>\n",
       "      <th>2</th>\n",
       "      <td>Hamilton Beach 50242N WaveMaker 10-Speed Blend...</td>\n",
       "      <td>Kitchen &amp; Dining</td>\n",
       "      <td>Small Appliances</td>\n",
       "      <td>Blenders</td>\n",
       "      <td>4.730607</td>\n",
       "    </tr>\n",
       "    <tr>\n",
       "      <th>3</th>\n",
       "      <td>Ball Jar Heritage Collection Pint Jars with Li...</td>\n",
       "      <td>Kitchen &amp; Dining</td>\n",
       "      <td>Cookware</td>\n",
       "      <td>Canning</td>\n",
       "      <td>4.729550</td>\n",
       "    </tr>\n",
       "    <tr>\n",
       "      <th>4</th>\n",
       "      <td>Vollrath 5220 Aluminum Wear-Ever Heavy-Duty 16...</td>\n",
       "      <td>Kitchen &amp; Dining</td>\n",
       "      <td>Cookware</td>\n",
       "      <td>All Pans</td>\n",
       "      <td>4.726389</td>\n",
       "    </tr>\n",
       "  </tbody>\n",
       "</table>\n",
       "</div>"
      ],
      "text/plain": [
       "                                       Product Names             cat_2  \\\n",
       "0  CIA 23304 Masters Collection 12 Inch x 17 Inch...  Kitchen & Dining   \n",
       "1  HIC 12- by 12-inch Celery Microfiber Dish Clot...  Kitchen & Dining   \n",
       "2  Hamilton Beach 50242N WaveMaker 10-Speed Blend...  Kitchen & Dining   \n",
       "3  Ball Jar Heritage Collection Pint Jars with Li...  Kitchen & Dining   \n",
       "4  Vollrath 5220 Aluminum Wear-Ever Heavy-Duty 16...  Kitchen & Dining   \n",
       "\n",
       "                    cat_3                       cat_4   ratings  \n",
       "0                Bakeware  Baking Tools & Accessories  4.779670  \n",
       "1  Kitchen & Table Linens   Dish Cloths & Dish Towels  4.736714  \n",
       "2        Small Appliances                    Blenders  4.730607  \n",
       "3                Cookware                     Canning  4.729550  \n",
       "4                Cookware                    All Pans  4.726389  "
      ]
     },
     "execution_count": 407,
     "metadata": {},
     "output_type": "execute_result"
    }
   ],
   "source": [
    "items_with_categories(rec_svdk40reg, 'A1S3C5OFU508P3', svd_k40reg_predicted_ratings_matrix, list_type='recommended')"
   ]
  },
  {
   "cell_type": "code",
   "execution_count": 408,
   "metadata": {
    "scrolled": true
   },
   "outputs": [
    {
     "name": "stdout",
     "output_type": "stream",
     "text": [
      "=== CIA 23304 Masters Collection 12 Inch x 17 Inch Wire Cooling Rack, Chrome Plate Steel ===\n"
     ]
    },
    {
     "data": {
      "text/html": [
       "<img src=\"http://ecx.images-amazon.com/images/I/41D5YP%2B0xcL._SY300_.jpg\"/>"
      ],
      "text/plain": [
       "<IPython.core.display.Image object>"
      ]
     },
     "metadata": {},
     "output_type": "display_data"
    },
    {
     "name": "stdout",
     "output_type": "stream",
     "text": [
      "=== HIC 12- by 12-inch Celery Microfiber Dish Cloth, Set of 4 ===\n"
     ]
    },
    {
     "data": {
      "text/html": [
       "<img src=\"http://ecx.images-amazon.com/images/I/51JiKQ75%2B7L._SY300_.jpg\"/>"
      ],
      "text/plain": [
       "<IPython.core.display.Image object>"
      ]
     },
     "metadata": {},
     "output_type": "display_data"
    },
    {
     "name": "stdout",
     "output_type": "stream",
     "text": [
      "=== Hamilton Beach 50242N WaveMaker 10-Speed Blender, Black ===\n"
     ]
    },
    {
     "data": {
      "text/html": [
       "<img src=\"http://ecx.images-amazon.com/images/I/41Z%2B7q4pxZL._SY300_.jpg\"/>"
      ],
      "text/plain": [
       "<IPython.core.display.Image object>"
      ]
     },
     "metadata": {},
     "output_type": "display_data"
    },
    {
     "name": "stdout",
     "output_type": "stream",
     "text": [
      "=== Ball Jar Heritage Collection Pint Jars with Lids and Bands, Set of 6 ===\n"
     ]
    },
    {
     "data": {
      "text/html": [
       "<img src=\"http://ecx.images-amazon.com/images/I/51WN15SyBML._SY300_.jpg\"/>"
      ],
      "text/plain": [
       "<IPython.core.display.Image object>"
      ]
     },
     "metadata": {},
     "output_type": "display_data"
    },
    {
     "name": "stdout",
     "output_type": "stream",
     "text": [
      "=== Vollrath 5220 Aluminum Wear-Ever Heavy-Duty 16-Guage Closed Bead Natural Sheet Pan, 1/4 Size ===\n"
     ]
    },
    {
     "data": {
      "text/html": [
       "<img src=\"http://ecx.images-amazon.com/images/I/31inolW-WhL._SX300_.jpg\"/>"
      ],
      "text/plain": [
       "<IPython.core.display.Image object>"
      ]
     },
     "metadata": {},
     "output_type": "display_data"
    }
   ],
   "source": [
    "print_product_images(rec_svdk40reg)"
   ]
  },
  {
   "cell_type": "code",
   "execution_count": null,
   "metadata": {},
   "outputs": [],
   "source": []
  },
  {
   "cell_type": "code",
   "execution_count": null,
   "metadata": {},
   "outputs": [],
   "source": []
  },
  {
   "cell_type": "code",
   "execution_count": null,
   "metadata": {},
   "outputs": [],
   "source": []
  },
  {
   "cell_type": "code",
   "execution_count": null,
   "metadata": {},
   "outputs": [],
   "source": [
    "#potentially for examples:\n",
    "# A26K3T6L5NYO7L\n",
    "# A2D1PTMMCA93BV"
   ]
  },
  {
   "cell_type": "code",
   "execution_count": 139,
   "metadata": {},
   "outputs": [],
   "source": [
    "#shortlisted examples\n",
    "# AJT2XS3UJ9WIK"
   ]
  },
  {
   "cell_type": "code",
   "execution_count": null,
   "metadata": {},
   "outputs": [],
   "source": []
  },
  {
   "cell_type": "markdown",
   "metadata": {},
   "source": [
    "#### User: 'AJT2XS3UJ9WIK'"
   ]
  },
  {
   "cell_type": "code",
   "execution_count": 186,
   "metadata": {},
   "outputs": [
    {
     "name": "stdout",
     "output_type": "stream",
     "text": [
      "A1X2373RW38LPT\n"
     ]
    }
   ],
   "source": [
    "rand_user = np.random.choice(reviews20['reviewerID'].unique(),1)[0]\n",
    "print(rand_user)"
   ]
  },
  {
   "cell_type": "code",
   "execution_count": 217,
   "metadata": {},
   "outputs": [],
   "source": [
    "rec_uucfk3, history, actual = generate_recommendations('AJT2XS3UJ9WIK', uucf_k3_predicted_ratings_matrix, 10, False, False)"
   ]
  },
  {
   "cell_type": "code",
   "execution_count": 218,
   "metadata": {},
   "outputs": [
    {
     "data": {
      "text/html": [
       "<div>\n",
       "<style scoped>\n",
       "    .dataframe tbody tr th:only-of-type {\n",
       "        vertical-align: middle;\n",
       "    }\n",
       "\n",
       "    .dataframe tbody tr th {\n",
       "        vertical-align: top;\n",
       "    }\n",
       "\n",
       "    .dataframe thead th {\n",
       "        text-align: right;\n",
       "    }\n",
       "</style>\n",
       "<table border=\"1\" class=\"dataframe\">\n",
       "  <thead>\n",
       "    <tr style=\"text-align: right;\">\n",
       "      <th></th>\n",
       "      <th>Product Names</th>\n",
       "      <th>cat_2</th>\n",
       "      <th>cat_3</th>\n",
       "      <th>cat_4</th>\n",
       "      <th>ratings</th>\n",
       "    </tr>\n",
       "  </thead>\n",
       "  <tbody>\n",
       "    <tr>\n",
       "      <th>7</th>\n",
       "      <td>Dream Supreme Plus Gel Fiber-Filled Pillows, K...</td>\n",
       "      <td>Bedding</td>\n",
       "      <td>Bed Pillows</td>\n",
       "      <td>Hypoallergenic Bed Pillows</td>\n",
       "      <td>3.0</td>\n",
       "    </tr>\n",
       "    <tr>\n",
       "      <th>5</th>\n",
       "      <td>Newpoint International 370-Thread Count Mercer...</td>\n",
       "      <td>Bedding</td>\n",
       "      <td>Mattress Pads</td>\n",
       "      <td>NaN</td>\n",
       "      <td>5.0</td>\n",
       "    </tr>\n",
       "    <tr>\n",
       "      <th>3</th>\n",
       "      <td>Divatex Home Fashions Royal Opulence Satin Cal...</td>\n",
       "      <td>Bedding</td>\n",
       "      <td>Sheets &amp; Pillowcases</td>\n",
       "      <td>Sheet &amp; Pillowcase Sets</td>\n",
       "      <td>5.0</td>\n",
       "    </tr>\n",
       "    <tr>\n",
       "      <th>4</th>\n",
       "      <td>Sleep Innovations 12-Inch SureTemp Memory Foam...</td>\n",
       "      <td>Furniture</td>\n",
       "      <td>Bedroom Furniture</td>\n",
       "      <td>Mattresses &amp; Box Springs</td>\n",
       "      <td>5.0</td>\n",
       "    </tr>\n",
       "    <tr>\n",
       "      <th>2</th>\n",
       "      <td>Winsome Wood Windsor Chair, Natural, Set of 2</td>\n",
       "      <td>Furniture</td>\n",
       "      <td>Kitchen &amp; Dining Room Furniture</td>\n",
       "      <td>Chairs</td>\n",
       "      <td>5.0</td>\n",
       "    </tr>\n",
       "    <tr>\n",
       "      <th>6</th>\n",
       "      <td>Sunpentown SD-65E 65-Pint Dehumidifier</td>\n",
       "      <td>Heating</td>\n",
       "      <td>Cooling &amp; Air Quality</td>\n",
       "      <td>Dehumidifiers &amp; Accessories</td>\n",
       "      <td>3.0</td>\n",
       "    </tr>\n",
       "    <tr>\n",
       "      <th>0</th>\n",
       "      <td>OXO Good Grips 15-Inch-by-21-Inch Cutting Boar...</td>\n",
       "      <td>Kitchen &amp; Dining</td>\n",
       "      <td>Kitchen Knives &amp; Cutlery Accessories</td>\n",
       "      <td>Cutting Boards</td>\n",
       "      <td>5.0</td>\n",
       "    </tr>\n",
       "    <tr>\n",
       "      <th>1</th>\n",
       "      <td>Nesco Snackmaster Pro Food Dehydrator FD-75A</td>\n",
       "      <td>Kitchen &amp; Dining</td>\n",
       "      <td>Small Appliances</td>\n",
       "      <td>Specialty Appliances</td>\n",
       "      <td>3.0</td>\n",
       "    </tr>\n",
       "  </tbody>\n",
       "</table>\n",
       "</div>"
      ],
      "text/plain": [
       "                                       Product Names             cat_2  \\\n",
       "7  Dream Supreme Plus Gel Fiber-Filled Pillows, K...           Bedding   \n",
       "5  Newpoint International 370-Thread Count Mercer...           Bedding   \n",
       "3  Divatex Home Fashions Royal Opulence Satin Cal...           Bedding   \n",
       "4  Sleep Innovations 12-Inch SureTemp Memory Foam...         Furniture   \n",
       "2      Winsome Wood Windsor Chair, Natural, Set of 2         Furniture   \n",
       "6             Sunpentown SD-65E 65-Pint Dehumidifier           Heating   \n",
       "0  OXO Good Grips 15-Inch-by-21-Inch Cutting Boar...  Kitchen & Dining   \n",
       "1       Nesco Snackmaster Pro Food Dehydrator FD-75A  Kitchen & Dining   \n",
       "\n",
       "                                  cat_3                        cat_4  ratings  \n",
       "7                           Bed Pillows   Hypoallergenic Bed Pillows      3.0  \n",
       "5                         Mattress Pads                          NaN      5.0  \n",
       "3                  Sheets & Pillowcases      Sheet & Pillowcase Sets      5.0  \n",
       "4                     Bedroom Furniture     Mattresses & Box Springs      5.0  \n",
       "2       Kitchen & Dining Room Furniture                       Chairs      5.0  \n",
       "6                 Cooling & Air Quality  Dehumidifiers & Accessories      3.0  \n",
       "0  Kitchen Knives & Cutlery Accessories               Cutting Boards      5.0  \n",
       "1                      Small Appliances         Specialty Appliances      3.0  "
      ]
     },
     "execution_count": 218,
     "metadata": {},
     "output_type": "execute_result"
    }
   ],
   "source": [
    "items_with_categories(history, 'AJT2XS3UJ9WIK', uucf_k3_predicted_ratings_matrix, list_type='actual')"
   ]
  },
  {
   "cell_type": "code",
   "execution_count": 219,
   "metadata": {
    "scrolled": true
   },
   "outputs": [
    {
     "name": "stdout",
     "output_type": "stream",
     "text": [
      "=== OXO Good Grips 15-Inch-by-21-Inch Cutting Board, Black ===\n"
     ]
    },
    {
     "data": {
      "text/html": [
       "<img src=\"http://ecx.images-amazon.com/images/I/31QoH8EGK6L._SY300_.jpg\"/>"
      ],
      "text/plain": [
       "<IPython.core.display.Image object>"
      ]
     },
     "metadata": {},
     "output_type": "display_data"
    },
    {
     "name": "stdout",
     "output_type": "stream",
     "text": [
      "=== Nesco Snackmaster Pro Food Dehydrator FD-75A ===\n"
     ]
    },
    {
     "data": {
      "text/html": [
       "<img src=\"http://ecx.images-amazon.com/images/I/41wxojPUrRL._SY300_.jpg\"/>"
      ],
      "text/plain": [
       "<IPython.core.display.Image object>"
      ]
     },
     "metadata": {},
     "output_type": "display_data"
    },
    {
     "name": "stdout",
     "output_type": "stream",
     "text": [
      "=== Winsome Wood Windsor Chair, Natural, Set of 2 ===\n"
     ]
    },
    {
     "data": {
      "text/html": [
       "<img src=\"http://ecx.images-amazon.com/images/I/51v64zgcHwL._SY300_.jpg\"/>"
      ],
      "text/plain": [
       "<IPython.core.display.Image object>"
      ]
     },
     "metadata": {},
     "output_type": "display_data"
    },
    {
     "name": "stdout",
     "output_type": "stream",
     "text": [
      "=== Divatex Home Fashions Royal Opulence Satin Cal King Sheet Set, Ivory ===\n"
     ]
    },
    {
     "data": {
      "text/html": [
       "<img src=\"http://ecx.images-amazon.com/images/I/411DQ4KQ7KL._SX300_.jpg\"/>"
      ],
      "text/plain": [
       "<IPython.core.display.Image object>"
      ]
     },
     "metadata": {},
     "output_type": "display_data"
    },
    {
     "name": "stdout",
     "output_type": "stream",
     "text": [
      "=== Sleep Innovations 12-Inch SureTemp Memory Foam Mattress 20-Year Warranty, Twin ===\n"
     ]
    },
    {
     "data": {
      "text/html": [
       "<img src=\"http://ecx.images-amazon.com/images/I/31DkmB0tqAL._SX300_.jpg\"/>"
      ],
      "text/plain": [
       "<IPython.core.display.Image object>"
      ]
     },
     "metadata": {},
     "output_type": "display_data"
    },
    {
     "name": "stdout",
     "output_type": "stream",
     "text": [
      "=== Newpoint International 370-Thread Count Mercerized Cotton Mattress Pad, Twin ===\n"
     ]
    },
    {
     "data": {
      "text/html": [
       "<img src=\"http://ecx.images-amazon.com/images/I/41ArG-1%2BmgL._SX300_.jpg\"/>"
      ],
      "text/plain": [
       "<IPython.core.display.Image object>"
      ]
     },
     "metadata": {},
     "output_type": "display_data"
    },
    {
     "name": "stdout",
     "output_type": "stream",
     "text": [
      "=== Sunpentown SD-65E 65-Pint Dehumidifier ===\n"
     ]
    },
    {
     "data": {
      "text/html": [
       "<img src=\"http://ecx.images-amazon.com/images/I/41BATcrXs7L._SY300_.jpg\"/>"
      ],
      "text/plain": [
       "<IPython.core.display.Image object>"
      ]
     },
     "metadata": {},
     "output_type": "display_data"
    },
    {
     "name": "stdout",
     "output_type": "stream",
     "text": [
      "=== Dream Supreme Plus Gel Fiber-Filled Pillows, King (Set of 2) ===\n"
     ]
    },
    {
     "data": {
      "text/html": [
       "<img src=\"http://ecx.images-amazon.com/images/I/31157TAgLQL._SX300_.jpg\"/>"
      ],
      "text/plain": [
       "<IPython.core.display.Image object>"
      ]
     },
     "metadata": {},
     "output_type": "display_data"
    }
   ],
   "source": [
    "print_product_images(history)"
   ]
  },
  {
   "cell_type": "code",
   "execution_count": 220,
   "metadata": {},
   "outputs": [
    {
     "data": {
      "text/html": [
       "<div>\n",
       "<style scoped>\n",
       "    .dataframe tbody tr th:only-of-type {\n",
       "        vertical-align: middle;\n",
       "    }\n",
       "\n",
       "    .dataframe tbody tr th {\n",
       "        vertical-align: top;\n",
       "    }\n",
       "\n",
       "    .dataframe thead th {\n",
       "        text-align: right;\n",
       "    }\n",
       "</style>\n",
       "<table border=\"1\" class=\"dataframe\">\n",
       "  <thead>\n",
       "    <tr style=\"text-align: right;\">\n",
       "      <th></th>\n",
       "      <th>Product Names</th>\n",
       "      <th>cat_2</th>\n",
       "      <th>cat_3</th>\n",
       "      <th>cat_4</th>\n",
       "      <th>ratings</th>\n",
       "    </tr>\n",
       "  </thead>\n",
       "  <tbody>\n",
       "    <tr>\n",
       "      <th>1</th>\n",
       "      <td>Black &amp;amp; Decker F67E The Classic Iron with ...</td>\n",
       "      <td>Irons &amp; Steamers</td>\n",
       "      <td>Irons</td>\n",
       "      <td>Automatic Turnoff Irons</td>\n",
       "      <td>5.0</td>\n",
       "    </tr>\n",
       "    <tr>\n",
       "      <th>5</th>\n",
       "      <td>Mr. Coffee ECM160 4-Cup Steam Espresso Machine...</td>\n",
       "      <td>Kitchen &amp; Dining</td>\n",
       "      <td>Coffee</td>\n",
       "      <td>Tea &amp; Espresso</td>\n",
       "      <td>5.0</td>\n",
       "    </tr>\n",
       "    <tr>\n",
       "      <th>2</th>\n",
       "      <td>GelPro Basketweave Comfort Floor Mat, 20-Inch ...</td>\n",
       "      <td>Kitchen &amp; Dining</td>\n",
       "      <td>Kitchen &amp; Table Linens</td>\n",
       "      <td>Kitchen Rugs &amp; Mats</td>\n",
       "      <td>5.0</td>\n",
       "    </tr>\n",
       "    <tr>\n",
       "      <th>4</th>\n",
       "      <td>Cuisinart Compact Cool-Touch 2-Slice Toaster, Red</td>\n",
       "      <td>Kitchen &amp; Dining</td>\n",
       "      <td>Small Appliances</td>\n",
       "      <td>Ovens &amp; Toasters</td>\n",
       "      <td>5.0</td>\n",
       "    </tr>\n",
       "    <tr>\n",
       "      <th>3</th>\n",
       "      <td>Hamilton Beach 33181 Slow Cooker, 8-Quart</td>\n",
       "      <td>Kitchen &amp; Dining</td>\n",
       "      <td>Small Appliances</td>\n",
       "      <td>Slow Cookers</td>\n",
       "      <td>5.0</td>\n",
       "    </tr>\n",
       "    <tr>\n",
       "      <th>0</th>\n",
       "      <td>Chef's Choice 609 Premium Electric Food Slicer</td>\n",
       "      <td>Kitchen &amp; Dining</td>\n",
       "      <td>Small Appliances</td>\n",
       "      <td>Specialty Appliances</td>\n",
       "      <td>5.0</td>\n",
       "    </tr>\n",
       "  </tbody>\n",
       "</table>\n",
       "</div>"
      ],
      "text/plain": [
       "                                       Product Names             cat_2  \\\n",
       "1  Black &amp; Decker F67E The Classic Iron with ...  Irons & Steamers   \n",
       "5  Mr. Coffee ECM160 4-Cup Steam Espresso Machine...  Kitchen & Dining   \n",
       "2  GelPro Basketweave Comfort Floor Mat, 20-Inch ...  Kitchen & Dining   \n",
       "4  Cuisinart Compact Cool-Touch 2-Slice Toaster, Red  Kitchen & Dining   \n",
       "3          Hamilton Beach 33181 Slow Cooker, 8-Quart  Kitchen & Dining   \n",
       "0     Chef's Choice 609 Premium Electric Food Slicer  Kitchen & Dining   \n",
       "\n",
       "                    cat_3                    cat_4  ratings  \n",
       "1                   Irons  Automatic Turnoff Irons      5.0  \n",
       "5                  Coffee           Tea & Espresso      5.0  \n",
       "2  Kitchen & Table Linens      Kitchen Rugs & Mats      5.0  \n",
       "4        Small Appliances         Ovens & Toasters      5.0  \n",
       "3        Small Appliances             Slow Cookers      5.0  \n",
       "0        Small Appliances     Specialty Appliances      5.0  "
      ]
     },
     "execution_count": 220,
     "metadata": {},
     "output_type": "execute_result"
    }
   ],
   "source": [
    "items_with_categories(actual, 'AJT2XS3UJ9WIK', uucf_k3_predicted_ratings_matrix, list_type='actual')"
   ]
  },
  {
   "cell_type": "code",
   "execution_count": 221,
   "metadata": {
    "scrolled": true
   },
   "outputs": [
    {
     "name": "stdout",
     "output_type": "stream",
     "text": [
      "=== Chef's Choice 609 Premium Electric Food Slicer ===\n"
     ]
    },
    {
     "data": {
      "text/html": [
       "<img src=\"http://ecx.images-amazon.com/images/I/31yNH2C3MIL._SX300_.jpg\"/>"
      ],
      "text/plain": [
       "<IPython.core.display.Image object>"
      ]
     },
     "metadata": {},
     "output_type": "display_data"
    },
    {
     "name": "stdout",
     "output_type": "stream",
     "text": [
      "=== Black &amp; Decker F67E The Classic Iron with Aluminum Soleplate, Steam-surge button ===\n"
     ]
    },
    {
     "data": {
      "text/html": [
       "<img src=\"http://ecx.images-amazon.com/images/I/41MZ1dt1i6L._SY300_.jpg\"/>"
      ],
      "text/plain": [
       "<IPython.core.display.Image object>"
      ]
     },
     "metadata": {},
     "output_type": "display_data"
    },
    {
     "name": "stdout",
     "output_type": "stream",
     "text": [
      "=== GelPro Basketweave Comfort Floor Mat, 20-Inch by 36-Inch, Black ===\n"
     ]
    },
    {
     "data": {
      "text/html": [
       "<img src=\"http://ecx.images-amazon.com/images/I/41IJdAwUR0L._SX300_.jpg\"/>"
      ],
      "text/plain": [
       "<IPython.core.display.Image object>"
      ]
     },
     "metadata": {},
     "output_type": "display_data"
    },
    {
     "name": "stdout",
     "output_type": "stream",
     "text": [
      "=== Hamilton Beach 33181 Slow Cooker, 8-Quart ===\n"
     ]
    },
    {
     "data": {
      "text/html": [
       "<img src=\"http://ecx.images-amazon.com/images/I/417qgxWrJwL._SY300_.jpg\"/>"
      ],
      "text/plain": [
       "<IPython.core.display.Image object>"
      ]
     },
     "metadata": {},
     "output_type": "display_data"
    },
    {
     "name": "stdout",
     "output_type": "stream",
     "text": [
      "=== Cuisinart Compact Cool-Touch 2-Slice Toaster, Red ===\n"
     ]
    },
    {
     "data": {
      "text/html": [
       "<img src=\"http://ecx.images-amazon.com/images/I/41NJH6TMJQL._SX300_.jpg\"/>"
      ],
      "text/plain": [
       "<IPython.core.display.Image object>"
      ]
     },
     "metadata": {},
     "output_type": "display_data"
    },
    {
     "name": "stdout",
     "output_type": "stream",
     "text": [
      "=== Mr. Coffee ECM160 4-Cup Steam Espresso Machine, Black ===\n"
     ]
    },
    {
     "data": {
      "text/html": [
       "<img src=\"http://ecx.images-amazon.com/images/I/41X3-Jo8mCL._SY300_.jpg\"/>"
      ],
      "text/plain": [
       "<IPython.core.display.Image object>"
      ]
     },
     "metadata": {},
     "output_type": "display_data"
    }
   ],
   "source": [
    "print_product_images(actual)"
   ]
  },
  {
   "cell_type": "code",
   "execution_count": 222,
   "metadata": {},
   "outputs": [
    {
     "data": {
      "text/html": [
       "<div>\n",
       "<style scoped>\n",
       "    .dataframe tbody tr th:only-of-type {\n",
       "        vertical-align: middle;\n",
       "    }\n",
       "\n",
       "    .dataframe tbody tr th {\n",
       "        vertical-align: top;\n",
       "    }\n",
       "\n",
       "    .dataframe thead th {\n",
       "        text-align: right;\n",
       "    }\n",
       "</style>\n",
       "<table border=\"1\" class=\"dataframe\">\n",
       "  <thead>\n",
       "    <tr style=\"text-align: right;\">\n",
       "      <th></th>\n",
       "      <th>Product Names</th>\n",
       "      <th>cat_2</th>\n",
       "      <th>cat_3</th>\n",
       "      <th>cat_4</th>\n",
       "      <th>ratings</th>\n",
       "    </tr>\n",
       "  </thead>\n",
       "  <tbody>\n",
       "    <tr>\n",
       "      <th>1</th>\n",
       "      <td>Sleep Better Iso-Cool Memory Foam Pillow, Guss...</td>\n",
       "      <td>Bedding</td>\n",
       "      <td>Bed Pillows</td>\n",
       "      <td>Hypoallergenic Bed Pillows</td>\n",
       "      <td>5.0</td>\n",
       "    </tr>\n",
       "    <tr>\n",
       "      <th>3</th>\n",
       "      <td>Soft Heat Micro-Plush Top Low-Voltage Electric...</td>\n",
       "      <td>Bedding</td>\n",
       "      <td>Mattress Pads</td>\n",
       "      <td>NaN</td>\n",
       "      <td>5.0</td>\n",
       "    </tr>\n",
       "    <tr>\n",
       "      <th>6</th>\n",
       "      <td>Cathay Home Fashions Luxury Silky Soft Brushed...</td>\n",
       "      <td>Bedding</td>\n",
       "      <td>Sheets &amp; Pillowcases</td>\n",
       "      <td>Sheets</td>\n",
       "      <td>5.0</td>\n",
       "    </tr>\n",
       "    <tr>\n",
       "      <th>5</th>\n",
       "      <td>WearEver C943SA64 Pure Living Nonstick Ceramic...</td>\n",
       "      <td>Kitchen &amp; Dining</td>\n",
       "      <td>Cookware</td>\n",
       "      <td>Cookware Sets</td>\n",
       "      <td>5.0</td>\n",
       "    </tr>\n",
       "    <tr>\n",
       "      <th>0</th>\n",
       "      <td>Lock &amp;amp; Lock Storage 1 Gallon Large Pitcher</td>\n",
       "      <td>Kitchen &amp; Dining</td>\n",
       "      <td>Dining &amp; Entertaining</td>\n",
       "      <td>Serveware</td>\n",
       "      <td>5.0</td>\n",
       "    </tr>\n",
       "    <tr>\n",
       "      <th>4</th>\n",
       "      <td>Rada Cutlery R141 Deluxe Vegetable Peeler with...</td>\n",
       "      <td>Kitchen &amp; Dining</td>\n",
       "      <td>Kitchen Utensils &amp; Gadgets</td>\n",
       "      <td>Graters</td>\n",
       "      <td>5.0</td>\n",
       "    </tr>\n",
       "    <tr>\n",
       "      <th>9</th>\n",
       "      <td>OXO Good Grips Magnetic Mini Clip 8-Pack, White</td>\n",
       "      <td>Kitchen &amp; Dining</td>\n",
       "      <td>Kitchen Utensils &amp; Gadgets</td>\n",
       "      <td>Kitchen Accessories</td>\n",
       "      <td>5.0</td>\n",
       "    </tr>\n",
       "    <tr>\n",
       "      <th>8</th>\n",
       "      <td>Hoover Max Extract Dual V WidePath Carpet Wash...</td>\n",
       "      <td>Vacuums &amp; Floor Care</td>\n",
       "      <td>Carpet Cleaners</td>\n",
       "      <td>NaN</td>\n",
       "      <td>5.0</td>\n",
       "    </tr>\n",
       "    <tr>\n",
       "      <th>7</th>\n",
       "      <td>Eureka EasyClean Corded Hand-Held Vacuum, 71B</td>\n",
       "      <td>Vacuums &amp; Floor Care</td>\n",
       "      <td>Vacuums</td>\n",
       "      <td>Handheld Vacuums</td>\n",
       "      <td>5.0</td>\n",
       "    </tr>\n",
       "    <tr>\n",
       "      <th>2</th>\n",
       "      <td>Dyson DC50 Animal Compact Upright Vacuum Cleaner</td>\n",
       "      <td>Vacuums &amp; Floor Care</td>\n",
       "      <td>Vacuums</td>\n",
       "      <td>Upright Vacuums</td>\n",
       "      <td>5.0</td>\n",
       "    </tr>\n",
       "  </tbody>\n",
       "</table>\n",
       "</div>"
      ],
      "text/plain": [
       "                                       Product Names                 cat_2  \\\n",
       "1  Sleep Better Iso-Cool Memory Foam Pillow, Guss...               Bedding   \n",
       "3  Soft Heat Micro-Plush Top Low-Voltage Electric...               Bedding   \n",
       "6  Cathay Home Fashions Luxury Silky Soft Brushed...               Bedding   \n",
       "5  WearEver C943SA64 Pure Living Nonstick Ceramic...      Kitchen & Dining   \n",
       "0     Lock &amp; Lock Storage 1 Gallon Large Pitcher      Kitchen & Dining   \n",
       "4  Rada Cutlery R141 Deluxe Vegetable Peeler with...      Kitchen & Dining   \n",
       "9    OXO Good Grips Magnetic Mini Clip 8-Pack, White      Kitchen & Dining   \n",
       "8  Hoover Max Extract Dual V WidePath Carpet Wash...  Vacuums & Floor Care   \n",
       "7      Eureka EasyClean Corded Hand-Held Vacuum, 71B  Vacuums & Floor Care   \n",
       "2   Dyson DC50 Animal Compact Upright Vacuum Cleaner  Vacuums & Floor Care   \n",
       "\n",
       "                        cat_3                       cat_4  ratings  \n",
       "1                 Bed Pillows  Hypoallergenic Bed Pillows      5.0  \n",
       "3               Mattress Pads                         NaN      5.0  \n",
       "6        Sheets & Pillowcases                      Sheets      5.0  \n",
       "5                    Cookware               Cookware Sets      5.0  \n",
       "0       Dining & Entertaining                   Serveware      5.0  \n",
       "4  Kitchen Utensils & Gadgets                     Graters      5.0  \n",
       "9  Kitchen Utensils & Gadgets         Kitchen Accessories      5.0  \n",
       "8             Carpet Cleaners                         NaN      5.0  \n",
       "7                     Vacuums            Handheld Vacuums      5.0  \n",
       "2                     Vacuums             Upright Vacuums      5.0  "
      ]
     },
     "execution_count": 222,
     "metadata": {},
     "output_type": "execute_result"
    }
   ],
   "source": [
    "items_with_categories(rec_uucfk3, 'AJT2XS3UJ9WIK', uucf_k3_predicted_ratings_matrix, list_type='recommended')"
   ]
  },
  {
   "cell_type": "code",
   "execution_count": 223,
   "metadata": {
    "scrolled": true
   },
   "outputs": [
    {
     "name": "stdout",
     "output_type": "stream",
     "text": [
      "=== Lock &amp; Lock Storage 1 Gallon Large Pitcher ===\n"
     ]
    },
    {
     "data": {
      "text/html": [
       "<img src=\"http://ecx.images-amazon.com/images/I/41Kjhty2O%2BL._SY300_.jpg\"/>"
      ],
      "text/plain": [
       "<IPython.core.display.Image object>"
      ]
     },
     "metadata": {},
     "output_type": "display_data"
    },
    {
     "name": "stdout",
     "output_type": "stream",
     "text": [
      "=== Sleep Better Iso-Cool Memory Foam Pillow, Gusseted Side Sleeper ,Standard ===\n"
     ]
    },
    {
     "data": {
      "text/html": [
       "<img src=\"http://ecx.images-amazon.com/images/I/31w0Sm%2B8TcL._SX300_.jpg\"/>"
      ],
      "text/plain": [
       "<IPython.core.display.Image object>"
      ]
     },
     "metadata": {},
     "output_type": "display_data"
    },
    {
     "name": "stdout",
     "output_type": "stream",
     "text": [
      "=== Dyson DC50 Animal Compact Upright Vacuum Cleaner ===\n"
     ]
    },
    {
     "data": {
      "text/html": [
       "<img src=\"http://ecx.images-amazon.com/images/I/31sKnTuoDtL._SY300_.jpg\"/>"
      ],
      "text/plain": [
       "<IPython.core.display.Image object>"
      ]
     },
     "metadata": {},
     "output_type": "display_data"
    },
    {
     "name": "stdout",
     "output_type": "stream",
     "text": [
      "=== Soft Heat Micro-Plush Top Low-Voltage Electric Heated Twin Mattress Pad, White ===\n"
     ]
    },
    {
     "data": {
      "text/html": [
       "<img src=\"http://ecx.images-amazon.com/images/I/419MerQOGpL._SX300_.jpg\"/>"
      ],
      "text/plain": [
       "<IPython.core.display.Image object>"
      ]
     },
     "metadata": {},
     "output_type": "display_data"
    },
    {
     "name": "stdout",
     "output_type": "stream",
     "text": [
      "=== Rada Cutlery R141 Deluxe Vegetable Peeler with Aluminum Handle ===\n"
     ]
    },
    {
     "data": {
      "text/html": [
       "<img src=\"http://ecx.images-amazon.com/images/I/21Fn8ZlPlnL._SX300_.jpg\"/>"
      ],
      "text/plain": [
       "<IPython.core.display.Image object>"
      ]
     },
     "metadata": {},
     "output_type": "display_data"
    },
    {
     "name": "stdout",
     "output_type": "stream",
     "text": [
      "=== WearEver C943SA64 Pure Living Nonstick Ceramic Coating PTFE-PFOA-Cadmium Free Dishwasher Safe 10 Piece Cookware Set, Red ===\n"
     ]
    },
    {
     "data": {
      "text/html": [
       "<img src=\"http://ecx.images-amazon.com/images/I/41aQJJ%2BwSUL._SX300_.jpg\"/>"
      ],
      "text/plain": [
       "<IPython.core.display.Image object>"
      ]
     },
     "metadata": {},
     "output_type": "display_data"
    },
    {
     "name": "stdout",
     "output_type": "stream",
     "text": [
      "=== Cathay Home Fashions Luxury Silky Soft Brushed Microfiber Twin Sheet Set, Burgundy ===\n"
     ]
    },
    {
     "data": {
      "text/html": [
       "<img src=\"http://ecx.images-amazon.com/images/I/41B9n-Av2GL._SX300_.jpg\"/>"
      ],
      "text/plain": [
       "<IPython.core.display.Image object>"
      ]
     },
     "metadata": {},
     "output_type": "display_data"
    },
    {
     "name": "stdout",
     "output_type": "stream",
     "text": [
      "=== Eureka EasyClean Corded Hand-Held Vacuum, 71B ===\n"
     ]
    },
    {
     "data": {
      "text/html": [
       "<img src=\"http://ecx.images-amazon.com/images/I/41NtHZMhjJL._SY300_.jpg\"/>"
      ],
      "text/plain": [
       "<IPython.core.display.Image object>"
      ]
     },
     "metadata": {},
     "output_type": "display_data"
    },
    {
     "name": "stdout",
     "output_type": "stream",
     "text": [
      "=== Hoover Max Extract Dual V WidePath Carpet Washer, F7411900 ===\n"
     ]
    },
    {
     "data": {
      "text/html": [
       "<img src=\"http://ecx.images-amazon.com/images/I/31PiSIRMJXL._SY300_.jpg\"/>"
      ],
      "text/plain": [
       "<IPython.core.display.Image object>"
      ]
     },
     "metadata": {},
     "output_type": "display_data"
    },
    {
     "name": "stdout",
     "output_type": "stream",
     "text": [
      "=== OXO Good Grips Magnetic Mini Clip 8-Pack, White ===\n"
     ]
    },
    {
     "data": {
      "text/html": [
       "<img src=\"http://ecx.images-amazon.com/images/I/313O%2BUYKcnL._SY300_.jpg\"/>"
      ],
      "text/plain": [
       "<IPython.core.display.Image object>"
      ]
     },
     "metadata": {},
     "output_type": "display_data"
    }
   ],
   "source": [
    "print_product_images(rec_uucfk3)"
   ]
  },
  {
   "cell_type": "code",
   "execution_count": 227,
   "metadata": {},
   "outputs": [],
   "source": [
    "rec_iicfk3, history, actual = generate_recommendations('AJT2XS3UJ9WIK', iicf_k3_predicted_ratings_matrix, 10, False, False)"
   ]
  },
  {
   "cell_type": "code",
   "execution_count": 228,
   "metadata": {},
   "outputs": [
    {
     "data": {
      "text/html": [
       "<div>\n",
       "<style scoped>\n",
       "    .dataframe tbody tr th:only-of-type {\n",
       "        vertical-align: middle;\n",
       "    }\n",
       "\n",
       "    .dataframe tbody tr th {\n",
       "        vertical-align: top;\n",
       "    }\n",
       "\n",
       "    .dataframe thead th {\n",
       "        text-align: right;\n",
       "    }\n",
       "</style>\n",
       "<table border=\"1\" class=\"dataframe\">\n",
       "  <thead>\n",
       "    <tr style=\"text-align: right;\">\n",
       "      <th></th>\n",
       "      <th>Product Names</th>\n",
       "      <th>cat_2</th>\n",
       "      <th>cat_3</th>\n",
       "      <th>cat_4</th>\n",
       "      <th>ratings</th>\n",
       "    </tr>\n",
       "  </thead>\n",
       "  <tbody>\n",
       "    <tr>\n",
       "      <th>9</th>\n",
       "      <td>Malouf Fine Linens&amp;reg; 400 Thread Count GENUI...</td>\n",
       "      <td>Bedding</td>\n",
       "      <td>Sheets &amp; Pillowcases</td>\n",
       "      <td>Sheet &amp; Pillowcase Sets</td>\n",
       "      <td>5.0</td>\n",
       "    </tr>\n",
       "    <tr>\n",
       "      <th>1</th>\n",
       "      <td>Ateco 12 Piece Stainless Steel Flower &amp;amp; Le...</td>\n",
       "      <td>Kitchen &amp; Dining</td>\n",
       "      <td>Bakeware</td>\n",
       "      <td>Baking Tools &amp; Accessories</td>\n",
       "      <td>5.0</td>\n",
       "    </tr>\n",
       "    <tr>\n",
       "      <th>2</th>\n",
       "      <td>Camp Chef True Seasoned  Cast Iron Pie Pan 10&amp;...</td>\n",
       "      <td>Kitchen &amp; Dining</td>\n",
       "      <td>Bakeware</td>\n",
       "      <td>Pie</td>\n",
       "      <td>5.0</td>\n",
       "    </tr>\n",
       "    <tr>\n",
       "      <th>4</th>\n",
       "      <td>Tovolo Better Batter Tool - Chili Pepper</td>\n",
       "      <td>Kitchen &amp; Dining</td>\n",
       "      <td>Dining &amp; Entertaining</td>\n",
       "      <td>Flatware</td>\n",
       "      <td>5.0</td>\n",
       "    </tr>\n",
       "    <tr>\n",
       "      <th>8</th>\n",
       "      <td>RSVP Endurance 15&amp;quot; Splatter Screen</td>\n",
       "      <td>Kitchen &amp; Dining</td>\n",
       "      <td>Kitchen Utensils &amp; Gadgets</td>\n",
       "      <td>Specialty Tools &amp; Gadgets</td>\n",
       "      <td>5.0</td>\n",
       "    </tr>\n",
       "    <tr>\n",
       "      <th>6</th>\n",
       "      <td>Cuisinart SM-70 7-Quart 12-Speed Stand Mixer, ...</td>\n",
       "      <td>Kitchen &amp; Dining</td>\n",
       "      <td>Small Appliance Parts &amp; Accessories</td>\n",
       "      <td>Food Processor Parts &amp; Accessories</td>\n",
       "      <td>5.0</td>\n",
       "    </tr>\n",
       "    <tr>\n",
       "      <th>0</th>\n",
       "      <td>Boston Warehouse Frog Scrubby Holder</td>\n",
       "      <td>Kitchen &amp; Dining</td>\n",
       "      <td>Storage &amp; Organization</td>\n",
       "      <td>Kitchen Storage &amp; Organization Accessories</td>\n",
       "      <td>5.0</td>\n",
       "    </tr>\n",
       "    <tr>\n",
       "      <th>5</th>\n",
       "      <td>InterDesign Spa Basket, Medium, Water</td>\n",
       "      <td>Storage &amp; Organization</td>\n",
       "      <td>Baskets &amp; Bins</td>\n",
       "      <td>Storage Baskets</td>\n",
       "      <td>5.0</td>\n",
       "    </tr>\n",
       "    <tr>\n",
       "      <th>7</th>\n",
       "      <td>Household Essentials Storage Bin with Handles,...</td>\n",
       "      <td>Storage &amp; Organization</td>\n",
       "      <td>Baskets &amp; Bins</td>\n",
       "      <td>Storage Baskets</td>\n",
       "      <td>5.0</td>\n",
       "    </tr>\n",
       "    <tr>\n",
       "      <th>3</th>\n",
       "      <td>iRobot 110 Dirt Dog Workshop Robot</td>\n",
       "      <td>Vacuums &amp; Floor Care</td>\n",
       "      <td>Vacuums</td>\n",
       "      <td>Robotic Vacuums</td>\n",
       "      <td>5.0</td>\n",
       "    </tr>\n",
       "  </tbody>\n",
       "</table>\n",
       "</div>"
      ],
      "text/plain": [
       "                                       Product Names                   cat_2  \\\n",
       "9  Malouf Fine Linens&reg; 400 Thread Count GENUI...                 Bedding   \n",
       "1  Ateco 12 Piece Stainless Steel Flower &amp; Le...        Kitchen & Dining   \n",
       "2  Camp Chef True Seasoned  Cast Iron Pie Pan 10&...        Kitchen & Dining   \n",
       "4           Tovolo Better Batter Tool - Chili Pepper        Kitchen & Dining   \n",
       "8            RSVP Endurance 15&quot; Splatter Screen        Kitchen & Dining   \n",
       "6  Cuisinart SM-70 7-Quart 12-Speed Stand Mixer, ...        Kitchen & Dining   \n",
       "0               Boston Warehouse Frog Scrubby Holder        Kitchen & Dining   \n",
       "5              InterDesign Spa Basket, Medium, Water  Storage & Organization   \n",
       "7  Household Essentials Storage Bin with Handles,...  Storage & Organization   \n",
       "3                 iRobot 110 Dirt Dog Workshop Robot    Vacuums & Floor Care   \n",
       "\n",
       "                                 cat_3  \\\n",
       "9                 Sheets & Pillowcases   \n",
       "1                             Bakeware   \n",
       "2                             Bakeware   \n",
       "4                Dining & Entertaining   \n",
       "8           Kitchen Utensils & Gadgets   \n",
       "6  Small Appliance Parts & Accessories   \n",
       "0               Storage & Organization   \n",
       "5                       Baskets & Bins   \n",
       "7                       Baskets & Bins   \n",
       "3                              Vacuums   \n",
       "\n",
       "                                        cat_4  ratings  \n",
       "9                     Sheet & Pillowcase Sets      5.0  \n",
       "1                  Baking Tools & Accessories      5.0  \n",
       "2                                         Pie      5.0  \n",
       "4                                    Flatware      5.0  \n",
       "8                   Specialty Tools & Gadgets      5.0  \n",
       "6          Food Processor Parts & Accessories      5.0  \n",
       "0  Kitchen Storage & Organization Accessories      5.0  \n",
       "5                             Storage Baskets      5.0  \n",
       "7                             Storage Baskets      5.0  \n",
       "3                             Robotic Vacuums      5.0  "
      ]
     },
     "execution_count": 228,
     "metadata": {},
     "output_type": "execute_result"
    }
   ],
   "source": [
    "items_with_categories(rec_iicfk3, 'AJT2XS3UJ9WIK', iicf_k3_predicted_ratings_matrix, list_type='recommended')"
   ]
  },
  {
   "cell_type": "code",
   "execution_count": 229,
   "metadata": {
    "scrolled": true
   },
   "outputs": [
    {
     "name": "stdout",
     "output_type": "stream",
     "text": [
      "=== Boston Warehouse Frog Scrubby Holder ===\n"
     ]
    },
    {
     "data": {
      "text/html": [
       "<img src=\"http://ecx.images-amazon.com/images/I/41SKJymNCLL._SY300_.jpg\"/>"
      ],
      "text/plain": [
       "<IPython.core.display.Image object>"
      ]
     },
     "metadata": {},
     "output_type": "display_data"
    },
    {
     "name": "stdout",
     "output_type": "stream",
     "text": [
      "=== Ateco 12 Piece Stainless Steel Flower &amp; Leaf Cutter Set ===\n"
     ]
    },
    {
     "data": {
      "text/html": [
       "<img src=\"http://ecx.images-amazon.com/images/I/41S8jeQwGkL._SY300_.jpg\"/>"
      ],
      "text/plain": [
       "<IPython.core.display.Image object>"
      ]
     },
     "metadata": {},
     "output_type": "display_data"
    },
    {
     "name": "stdout",
     "output_type": "stream",
     "text": [
      "=== Camp Chef True Seasoned  Cast Iron Pie Pan 10&quot; CIPIE10 ===\n"
     ]
    },
    {
     "data": {
      "text/html": [
       "<img src=\"http://ecx.images-amazon.com/images/I/41otDltR0aL._SX300_.jpg\"/>"
      ],
      "text/plain": [
       "<IPython.core.display.Image object>"
      ]
     },
     "metadata": {},
     "output_type": "display_data"
    },
    {
     "name": "stdout",
     "output_type": "stream",
     "text": [
      "=== iRobot 110 Dirt Dog Workshop Robot ===\n"
     ]
    },
    {
     "data": {
      "text/html": [
       "<img src=\"http://ecx.images-amazon.com/images/I/41qcr5beujL._SY300_.jpg\"/>"
      ],
      "text/plain": [
       "<IPython.core.display.Image object>"
      ]
     },
     "metadata": {},
     "output_type": "display_data"
    },
    {
     "name": "stdout",
     "output_type": "stream",
     "text": [
      "=== Tovolo Better Batter Tool - Chili Pepper ===\n"
     ]
    },
    {
     "data": {
      "text/html": [
       "<img src=\"http://ecx.images-amazon.com/images/I/21MH0uvAZKL._SY300_.jpg\"/>"
      ],
      "text/plain": [
       "<IPython.core.display.Image object>"
      ]
     },
     "metadata": {},
     "output_type": "display_data"
    },
    {
     "name": "stdout",
     "output_type": "stream",
     "text": [
      "=== InterDesign Spa Basket, Medium, Water ===\n"
     ]
    },
    {
     "data": {
      "text/html": [
       "<img src=\"http://ecx.images-amazon.com/images/I/41hfl-b%2BJ-L._SX300_.jpg\"/>"
      ],
      "text/plain": [
       "<IPython.core.display.Image object>"
      ]
     },
     "metadata": {},
     "output_type": "display_data"
    },
    {
     "name": "stdout",
     "output_type": "stream",
     "text": [
      "=== Cuisinart SM-70 7-Quart 12-Speed Stand Mixer, White ===\n"
     ]
    },
    {
     "data": {
      "text/html": [
       "<img src=\"http://ecx.images-amazon.com/images/I/41C6UluLzdL._SY300_.jpg\"/>"
      ],
      "text/plain": [
       "<IPython.core.display.Image object>"
      ]
     },
     "metadata": {},
     "output_type": "display_data"
    },
    {
     "name": "stdout",
     "output_type": "stream",
     "text": [
      "=== Household Essentials Storage Bin with Handles, Natural Canvas ===\n"
     ]
    },
    {
     "data": {
      "text/html": [
       "<img src=\"http://ecx.images-amazon.com/images/I/41nsNmGgeqL._SX300_.jpg\"/>"
      ],
      "text/plain": [
       "<IPython.core.display.Image object>"
      ]
     },
     "metadata": {},
     "output_type": "display_data"
    },
    {
     "name": "stdout",
     "output_type": "stream",
     "text": [
      "=== RSVP Endurance 15&quot; Splatter Screen ===\n"
     ]
    },
    {
     "data": {
      "text/html": [
       "<img src=\"http://ecx.images-amazon.com/images/I/31BxNw-dOtL._SX300_.jpg\"/>"
      ],
      "text/plain": [
       "<IPython.core.display.Image object>"
      ]
     },
     "metadata": {},
     "output_type": "display_data"
    },
    {
     "name": "stdout",
     "output_type": "stream",
     "text": [
      "=== Malouf Fine Linens&reg; 400 Thread Count GENUINE EGYPTIAN COTTON Single Ply Bed Sheet Set ===\n"
     ]
    },
    {
     "data": {
      "text/html": [
       "<img src=\"http://ecx.images-amazon.com/images/I/41fulQHLRDL._SY300_.jpg\"/>"
      ],
      "text/plain": [
       "<IPython.core.display.Image object>"
      ]
     },
     "metadata": {},
     "output_type": "display_data"
    }
   ],
   "source": [
    "print_product_images(rec_iicfk3)"
   ]
  },
  {
   "cell_type": "code",
   "execution_count": 230,
   "metadata": {},
   "outputs": [],
   "source": [
    "rec_svdk100, history, actual = generate_recommendations('AJT2XS3UJ9WIK', svd_k100_predicted_ratings_matrix, 10, False, False)"
   ]
  },
  {
   "cell_type": "code",
   "execution_count": 231,
   "metadata": {},
   "outputs": [
    {
     "data": {
      "text/html": [
       "<div>\n",
       "<style scoped>\n",
       "    .dataframe tbody tr th:only-of-type {\n",
       "        vertical-align: middle;\n",
       "    }\n",
       "\n",
       "    .dataframe tbody tr th {\n",
       "        vertical-align: top;\n",
       "    }\n",
       "\n",
       "    .dataframe thead th {\n",
       "        text-align: right;\n",
       "    }\n",
       "</style>\n",
       "<table border=\"1\" class=\"dataframe\">\n",
       "  <thead>\n",
       "    <tr style=\"text-align: right;\">\n",
       "      <th></th>\n",
       "      <th>Product Names</th>\n",
       "      <th>cat_2</th>\n",
       "      <th>cat_3</th>\n",
       "      <th>cat_4</th>\n",
       "      <th>ratings</th>\n",
       "    </tr>\n",
       "  </thead>\n",
       "  <tbody>\n",
       "    <tr>\n",
       "      <th>0</th>\n",
       "      <td>Nordic Ware Platinum Collection Original Bundt...</td>\n",
       "      <td>Kitchen &amp; Dining</td>\n",
       "      <td>Bakeware</td>\n",
       "      <td>Cake Pans</td>\n",
       "      <td>5.000000</td>\n",
       "    </tr>\n",
       "    <tr>\n",
       "      <th>1</th>\n",
       "      <td>OXO Good Grips Solid Stainless Steel Ice Cream...</td>\n",
       "      <td>Kitchen &amp; Dining</td>\n",
       "      <td>Kitchen Utensils &amp; Gadgets</td>\n",
       "      <td>Specialty Tools &amp; Gadgets</td>\n",
       "      <td>4.933024</td>\n",
       "    </tr>\n",
       "    <tr>\n",
       "      <th>2</th>\n",
       "      <td>Cuisinart 77-10 Chef's Classic Stainless 10-Pi...</td>\n",
       "      <td>Kitchen &amp; Dining</td>\n",
       "      <td>Cookware</td>\n",
       "      <td>Cookware Sets</td>\n",
       "      <td>4.926265</td>\n",
       "    </tr>\n",
       "    <tr>\n",
       "      <th>3</th>\n",
       "      <td>Omega J8005 Nutrition Center Single-Gear Comme...</td>\n",
       "      <td>Kitchen &amp; Dining</td>\n",
       "      <td>Small Appliances</td>\n",
       "      <td>Juicers</td>\n",
       "      <td>4.911029</td>\n",
       "    </tr>\n",
       "    <tr>\n",
       "      <th>4</th>\n",
       "      <td>BUNN BCF100-B 100-Count Basket Filter</td>\n",
       "      <td>Kitchen &amp; Dining</td>\n",
       "      <td>Small Appliance Parts &amp; Accessories</td>\n",
       "      <td>Coffee &amp; Espresso Machine Parts &amp; Accessories</td>\n",
       "      <td>4.895396</td>\n",
       "    </tr>\n",
       "    <tr>\n",
       "      <th>5</th>\n",
       "      <td>Splash-Proof Super-Fast Thermapen (Red) Instan...</td>\n",
       "      <td>Kitchen &amp; Dining</td>\n",
       "      <td>Kitchen Utensils &amp; Gadgets</td>\n",
       "      <td>Thermometers &amp; Timers</td>\n",
       "      <td>4.886189</td>\n",
       "    </tr>\n",
       "    <tr>\n",
       "      <th>6</th>\n",
       "      <td>OXO Good Grips Stainless Steel Over-The-Door Hook</td>\n",
       "      <td>Storage &amp; Organization</td>\n",
       "      <td>Clothing &amp; Closet Storage</td>\n",
       "      <td>Closet System Attachments</td>\n",
       "      <td>4.885735</td>\n",
       "    </tr>\n",
       "    <tr>\n",
       "      <th>7</th>\n",
       "      <td>OXO Good Grips Lua Pepper Mill</td>\n",
       "      <td>Kitchen &amp; Dining</td>\n",
       "      <td>Kitchen Utensils &amp; Gadgets</td>\n",
       "      <td>Salt &amp; Pepper</td>\n",
       "      <td>4.868473</td>\n",
       "    </tr>\n",
       "    <tr>\n",
       "      <th>8</th>\n",
       "      <td>Cuisinart CSB-76BC SmartStick 200-Watt Immersi...</td>\n",
       "      <td>Kitchen &amp; Dining</td>\n",
       "      <td>Small Appliances</td>\n",
       "      <td>Blenders</td>\n",
       "      <td>4.867671</td>\n",
       "    </tr>\n",
       "    <tr>\n",
       "      <th>9</th>\n",
       "      <td>Calphalon Commercial Hard-Anodized 8-1/2-Quart...</td>\n",
       "      <td>Kitchen &amp; Dining</td>\n",
       "      <td>Cookware</td>\n",
       "      <td>Sauciers</td>\n",
       "      <td>4.865558</td>\n",
       "    </tr>\n",
       "  </tbody>\n",
       "</table>\n",
       "</div>"
      ],
      "text/plain": [
       "                                       Product Names                   cat_2  \\\n",
       "0  Nordic Ware Platinum Collection Original Bundt...        Kitchen & Dining   \n",
       "1  OXO Good Grips Solid Stainless Steel Ice Cream...        Kitchen & Dining   \n",
       "2  Cuisinart 77-10 Chef's Classic Stainless 10-Pi...        Kitchen & Dining   \n",
       "3  Omega J8005 Nutrition Center Single-Gear Comme...        Kitchen & Dining   \n",
       "4              BUNN BCF100-B 100-Count Basket Filter        Kitchen & Dining   \n",
       "5  Splash-Proof Super-Fast Thermapen (Red) Instan...        Kitchen & Dining   \n",
       "6  OXO Good Grips Stainless Steel Over-The-Door Hook  Storage & Organization   \n",
       "7                     OXO Good Grips Lua Pepper Mill        Kitchen & Dining   \n",
       "8  Cuisinart CSB-76BC SmartStick 200-Watt Immersi...        Kitchen & Dining   \n",
       "9  Calphalon Commercial Hard-Anodized 8-1/2-Quart...        Kitchen & Dining   \n",
       "\n",
       "                                 cat_3  \\\n",
       "0                             Bakeware   \n",
       "1           Kitchen Utensils & Gadgets   \n",
       "2                             Cookware   \n",
       "3                     Small Appliances   \n",
       "4  Small Appliance Parts & Accessories   \n",
       "5           Kitchen Utensils & Gadgets   \n",
       "6            Clothing & Closet Storage   \n",
       "7           Kitchen Utensils & Gadgets   \n",
       "8                     Small Appliances   \n",
       "9                             Cookware   \n",
       "\n",
       "                                           cat_4   ratings  \n",
       "0                                      Cake Pans  5.000000  \n",
       "1                      Specialty Tools & Gadgets  4.933024  \n",
       "2                                  Cookware Sets  4.926265  \n",
       "3                                        Juicers  4.911029  \n",
       "4  Coffee & Espresso Machine Parts & Accessories  4.895396  \n",
       "5                          Thermometers & Timers  4.886189  \n",
       "6                      Closet System Attachments  4.885735  \n",
       "7                                  Salt & Pepper  4.868473  \n",
       "8                                       Blenders  4.867671  \n",
       "9                                       Sauciers  4.865558  "
      ]
     },
     "execution_count": 231,
     "metadata": {},
     "output_type": "execute_result"
    }
   ],
   "source": [
    "items_with_categories(rec_svdk100, 'AJT2XS3UJ9WIK', svd_k100_predicted_ratings_matrix, list_type='recommended')"
   ]
  },
  {
   "cell_type": "code",
   "execution_count": 232,
   "metadata": {
    "scrolled": true
   },
   "outputs": [
    {
     "name": "stdout",
     "output_type": "stream",
     "text": [
      "=== Nordic Ware Platinum Collection Original Bundt Pan, 12 Cup ===\n"
     ]
    },
    {
     "data": {
      "text/html": [
       "<img src=\"http://ecx.images-amazon.com/images/I/41o5rcizF6L._SY300_.jpg\"/>"
      ],
      "text/plain": [
       "<IPython.core.display.Image object>"
      ]
     },
     "metadata": {},
     "output_type": "display_data"
    },
    {
     "name": "stdout",
     "output_type": "stream",
     "text": [
      "=== OXO Good Grips Solid Stainless Steel Ice Cream Scoop ===\n"
     ]
    },
    {
     "data": {
      "text/html": [
       "<img src=\"http://ecx.images-amazon.com/images/I/31MPh76zkuL._SY300_.jpg\"/>"
      ],
      "text/plain": [
       "<IPython.core.display.Image object>"
      ]
     },
     "metadata": {},
     "output_type": "display_data"
    },
    {
     "name": "stdout",
     "output_type": "stream",
     "text": [
      "=== Cuisinart 77-10 Chef's Classic Stainless 10-Piece Cookware Set ===\n"
     ]
    },
    {
     "data": {
      "text/html": [
       "<img src=\"http://ecx.images-amazon.com/images/I/41cvIIRSBYL._SX300_.jpg\"/>"
      ],
      "text/plain": [
       "<IPython.core.display.Image object>"
      ]
     },
     "metadata": {},
     "output_type": "display_data"
    },
    {
     "name": "stdout",
     "output_type": "stream",
     "text": [
      "=== Omega J8005 Nutrition Center Single-Gear Commercial Masticating Juicer, Chrome and Black ===\n"
     ]
    },
    {
     "data": {
      "text/html": [
       "<img src=\"http://ecx.images-amazon.com/images/I/415aPplsqIL._SY300_.jpg\"/>"
      ],
      "text/plain": [
       "<IPython.core.display.Image object>"
      ]
     },
     "metadata": {},
     "output_type": "display_data"
    },
    {
     "name": "stdout",
     "output_type": "stream",
     "text": [
      "=== BUNN BCF100-B 100-Count Basket Filter ===\n"
     ]
    },
    {
     "data": {
      "text/html": [
       "<img src=\"http://ecx.images-amazon.com/images/I/51yurmTub6L._SY300_.jpg\"/>"
      ],
      "text/plain": [
       "<IPython.core.display.Image object>"
      ]
     },
     "metadata": {},
     "output_type": "display_data"
    },
    {
     "name": "stdout",
     "output_type": "stream",
     "text": [
      "=== Splash-Proof Super-Fast Thermapen (Red) Instant Read Thermometer, Perfect for Barbecue, Home and Professional Cooking ===\n"
     ]
    },
    {
     "data": {
      "text/html": [
       "<img src=\"http://ecx.images-amazon.com/images/I/41WgMyb7u-L._SX300_.jpg\"/>"
      ],
      "text/plain": [
       "<IPython.core.display.Image object>"
      ]
     },
     "metadata": {},
     "output_type": "display_data"
    },
    {
     "name": "stdout",
     "output_type": "stream",
     "text": [
      "=== OXO Good Grips Stainless Steel Over-The-Door Hook ===\n"
     ]
    },
    {
     "data": {
      "text/html": [
       "<img src=\"http://ecx.images-amazon.com/images/I/31C84%2BmOcPL._SY300_.jpg\"/>"
      ],
      "text/plain": [
       "<IPython.core.display.Image object>"
      ]
     },
     "metadata": {},
     "output_type": "display_data"
    },
    {
     "name": "stdout",
     "output_type": "stream",
     "text": [
      "=== OXO Good Grips Lua Pepper Mill ===\n"
     ]
    },
    {
     "data": {
      "text/html": [
       "<img src=\"http://ecx.images-amazon.com/images/I/31r09qaNDiL._SY300_.jpg\"/>"
      ],
      "text/plain": [
       "<IPython.core.display.Image object>"
      ]
     },
     "metadata": {},
     "output_type": "display_data"
    },
    {
     "name": "stdout",
     "output_type": "stream",
     "text": [
      "=== Cuisinart CSB-76BC SmartStick 200-Watt Immersion Hand Blender, Brushed Chrome ===\n"
     ]
    },
    {
     "data": {
      "text/html": [
       "<img src=\"http://ecx.images-amazon.com/images/I/31MDJZQP5XL._SY300_.jpg\"/>"
      ],
      "text/plain": [
       "<IPython.core.display.Image object>"
      ]
     },
     "metadata": {},
     "output_type": "display_data"
    },
    {
     "name": "stdout",
     "output_type": "stream",
     "text": [
      "=== Calphalon Commercial Hard-Anodized 8-1/2-Quart Saucier with Lid ===\n"
     ]
    },
    {
     "data": {
      "text/html": [
       "<img src=\"http://ecx.images-amazon.com/images/I/31YTFGGKMWL._SX300_.jpg\"/>"
      ],
      "text/plain": [
       "<IPython.core.display.Image object>"
      ]
     },
     "metadata": {},
     "output_type": "display_data"
    }
   ],
   "source": [
    "print_product_images(rec_svdk100)"
   ]
  },
  {
   "cell_type": "code",
   "execution_count": 234,
   "metadata": {},
   "outputs": [
    {
     "name": "stdout",
     "output_type": "stream",
     "text": [
      "No. of unique users:  2616\n",
      "No. of unique products:  6412\n",
      "Size of utility matrix: 2616 x 6412; 16773792 cells\n",
      "Sparsity: 3.289%\n"
     ]
    }
   ],
   "source": [
    "check_matrix_sparsity(reviews20)"
   ]
  },
  {
   "cell_type": "code",
   "execution_count": null,
   "metadata": {},
   "outputs": [],
   "source": []
  },
  {
   "cell_type": "markdown",
   "metadata": {},
   "source": [
    "#### User: 'A2D1PTMMCA93BV'"
   ]
  },
  {
   "cell_type": "code",
   "execution_count": 186,
   "metadata": {},
   "outputs": [
    {
     "name": "stdout",
     "output_type": "stream",
     "text": [
      "A1X2373RW38LPT\n"
     ]
    }
   ],
   "source": [
    "rand_user = np.random.choice(reviews20['reviewerID'].unique(),1)[0]\n",
    "print(rand_user)"
   ]
  },
  {
   "cell_type": "code",
   "execution_count": 201,
   "metadata": {},
   "outputs": [],
   "source": [
    "rec_uucfk3, history, actual = generate_recommendations('A2D1PTMMCA93BV', uucf_k3_predicted_ratings_matrix, 10, False, False)"
   ]
  },
  {
   "cell_type": "code",
   "execution_count": 202,
   "metadata": {},
   "outputs": [
    {
     "data": {
      "text/html": [
       "<div>\n",
       "<style scoped>\n",
       "    .dataframe tbody tr th:only-of-type {\n",
       "        vertical-align: middle;\n",
       "    }\n",
       "\n",
       "    .dataframe tbody tr th {\n",
       "        vertical-align: top;\n",
       "    }\n",
       "\n",
       "    .dataframe thead th {\n",
       "        text-align: right;\n",
       "    }\n",
       "</style>\n",
       "<table border=\"1\" class=\"dataframe\">\n",
       "  <thead>\n",
       "    <tr style=\"text-align: right;\">\n",
       "      <th></th>\n",
       "      <th>Product Names</th>\n",
       "      <th>cat_2</th>\n",
       "      <th>cat_3</th>\n",
       "      <th>cat_4</th>\n",
       "      <th>ratings</th>\n",
       "    </tr>\n",
       "  </thead>\n",
       "  <tbody>\n",
       "    <tr>\n",
       "      <th>6</th>\n",
       "      <td>Nursery Easy Apply Wall Sticker Decorations - ...</td>\n",
       "      <td>Artwork</td>\n",
       "      <td>Posters &amp; Prints</td>\n",
       "      <td>NaN</td>\n",
       "      <td>2.0</td>\n",
       "    </tr>\n",
       "    <tr>\n",
       "      <th>4</th>\n",
       "      <td>Duracraft DWM250 2-1/2-Gallon Warm-Mist Humidi...</td>\n",
       "      <td>Heating</td>\n",
       "      <td>Cooling &amp; Air Quality</td>\n",
       "      <td>Humidifiers &amp; Accessories</td>\n",
       "      <td>3.0</td>\n",
       "    </tr>\n",
       "    <tr>\n",
       "      <th>10</th>\n",
       "      <td>KRUPS F20342 Electric Spice and Coffee Grinder...</td>\n",
       "      <td>Kitchen &amp; Dining</td>\n",
       "      <td>Coffee</td>\n",
       "      <td>Tea &amp; Espresso</td>\n",
       "      <td>5.0</td>\n",
       "    </tr>\n",
       "    <tr>\n",
       "      <th>5</th>\n",
       "      <td>Black &amp;amp; Decker KEC600 Cordless Can Opener,...</td>\n",
       "      <td>Kitchen &amp; Dining</td>\n",
       "      <td>Kitchen Utensils &amp; Gadgets</td>\n",
       "      <td>Can Openers</td>\n",
       "      <td>5.0</td>\n",
       "    </tr>\n",
       "    <tr>\n",
       "      <th>9</th>\n",
       "      <td>Capresso frothPRO</td>\n",
       "      <td>Kitchen &amp; Dining</td>\n",
       "      <td>Small Appliances</td>\n",
       "      <td>Coffee</td>\n",
       "      <td>2.0</td>\n",
       "    </tr>\n",
       "    <tr>\n",
       "      <th>0</th>\n",
       "      <td>Black &amp;amp; Decker EHC650 2-Speed Food Chopper...</td>\n",
       "      <td>Kitchen &amp; Dining</td>\n",
       "      <td>Small Appliances</td>\n",
       "      <td>Food Processors</td>\n",
       "      <td>5.0</td>\n",
       "    </tr>\n",
       "    <tr>\n",
       "      <th>8</th>\n",
       "      <td>Waring Pro JEX328 Health Juice Extractor</td>\n",
       "      <td>Kitchen &amp; Dining</td>\n",
       "      <td>Small Appliances</td>\n",
       "      <td>Juicers</td>\n",
       "      <td>5.0</td>\n",
       "    </tr>\n",
       "    <tr>\n",
       "      <th>7</th>\n",
       "      <td>Waring CTT200BK Professional Cool Touch 2-Slic...</td>\n",
       "      <td>Kitchen &amp; Dining</td>\n",
       "      <td>Small Appliances</td>\n",
       "      <td>Ovens &amp; Toasters</td>\n",
       "      <td>4.0</td>\n",
       "    </tr>\n",
       "    <tr>\n",
       "      <th>2</th>\n",
       "      <td>Nesco Snackmaster Pro Food Dehydrator FD-75A</td>\n",
       "      <td>Kitchen &amp; Dining</td>\n",
       "      <td>Small Appliances</td>\n",
       "      <td>Specialty Appliances</td>\n",
       "      <td>5.0</td>\n",
       "    </tr>\n",
       "    <tr>\n",
       "      <th>1</th>\n",
       "      <td>Polder 210201 Deluxe Steel Bread Box, White</td>\n",
       "      <td>Kitchen &amp; Dining</td>\n",
       "      <td>Storage &amp; Organization</td>\n",
       "      <td>Bread Boxes</td>\n",
       "      <td>3.0</td>\n",
       "    </tr>\n",
       "    <tr>\n",
       "      <th>3</th>\n",
       "      <td>Shark  Navigator  Vacuum</td>\n",
       "      <td>Vacuums &amp; Floor Care</td>\n",
       "      <td>Vacuums</td>\n",
       "      <td>Upright Vacuums</td>\n",
       "      <td>4.0</td>\n",
       "    </tr>\n",
       "  </tbody>\n",
       "</table>\n",
       "</div>"
      ],
      "text/plain": [
       "                                        Product Names                 cat_2  \\\n",
       "6   Nursery Easy Apply Wall Sticker Decorations - ...               Artwork   \n",
       "4   Duracraft DWM250 2-1/2-Gallon Warm-Mist Humidi...               Heating   \n",
       "10  KRUPS F20342 Electric Spice and Coffee Grinder...      Kitchen & Dining   \n",
       "5   Black &amp; Decker KEC600 Cordless Can Opener,...      Kitchen & Dining   \n",
       "9                                   Capresso frothPRO      Kitchen & Dining   \n",
       "0   Black &amp; Decker EHC650 2-Speed Food Chopper...      Kitchen & Dining   \n",
       "8            Waring Pro JEX328 Health Juice Extractor      Kitchen & Dining   \n",
       "7   Waring CTT200BK Professional Cool Touch 2-Slic...      Kitchen & Dining   \n",
       "2        Nesco Snackmaster Pro Food Dehydrator FD-75A      Kitchen & Dining   \n",
       "1         Polder 210201 Deluxe Steel Bread Box, White      Kitchen & Dining   \n",
       "3                            Shark  Navigator  Vacuum  Vacuums & Floor Care   \n",
       "\n",
       "                         cat_3                      cat_4  ratings  \n",
       "6             Posters & Prints                        NaN      2.0  \n",
       "4        Cooling & Air Quality  Humidifiers & Accessories      3.0  \n",
       "10                      Coffee             Tea & Espresso      5.0  \n",
       "5   Kitchen Utensils & Gadgets                Can Openers      5.0  \n",
       "9             Small Appliances                     Coffee      2.0  \n",
       "0             Small Appliances            Food Processors      5.0  \n",
       "8             Small Appliances                    Juicers      5.0  \n",
       "7             Small Appliances           Ovens & Toasters      4.0  \n",
       "2             Small Appliances       Specialty Appliances      5.0  \n",
       "1       Storage & Organization                Bread Boxes      3.0  \n",
       "3                      Vacuums            Upright Vacuums      4.0  "
      ]
     },
     "execution_count": 202,
     "metadata": {},
     "output_type": "execute_result"
    }
   ],
   "source": [
    "items_with_categories(history, 'A2D1PTMMCA93BV', uucf_k3_predicted_ratings_matrix, list_type='actual')"
   ]
  },
  {
   "cell_type": "code",
   "execution_count": 203,
   "metadata": {
    "scrolled": true
   },
   "outputs": [
    {
     "name": "stdout",
     "output_type": "stream",
     "text": [
      "=== Black &amp; Decker EHC650 2-Speed Food Chopper with 3-Cup Bowl ===\n"
     ]
    },
    {
     "data": {
      "text/html": [
       "<img src=\"http://ecx.images-amazon.com/images/I/31BGFR1C6BL._SY300_.jpg\"/>"
      ],
      "text/plain": [
       "<IPython.core.display.Image object>"
      ]
     },
     "metadata": {},
     "output_type": "display_data"
    },
    {
     "name": "stdout",
     "output_type": "stream",
     "text": [
      "=== Polder 210201 Deluxe Steel Bread Box, White ===\n"
     ]
    },
    {
     "data": {
      "text/html": [
       "<img src=\"http://ecx.images-amazon.com/images/I/31Pt0wlTIfL._SY300_.jpg\"/>"
      ],
      "text/plain": [
       "<IPython.core.display.Image object>"
      ]
     },
     "metadata": {},
     "output_type": "display_data"
    },
    {
     "name": "stdout",
     "output_type": "stream",
     "text": [
      "=== Nesco Snackmaster Pro Food Dehydrator FD-75A ===\n"
     ]
    },
    {
     "data": {
      "text/html": [
       "<img src=\"http://ecx.images-amazon.com/images/I/41wxojPUrRL._SY300_.jpg\"/>"
      ],
      "text/plain": [
       "<IPython.core.display.Image object>"
      ]
     },
     "metadata": {},
     "output_type": "display_data"
    },
    {
     "name": "stdout",
     "output_type": "stream",
     "text": [
      "=== Shark  Navigator  Vacuum ===\n"
     ]
    },
    {
     "data": {
      "text/html": [
       "<img src=\"http://ecx.images-amazon.com/images/I/31J1W%2BBIJJL._SY300_.jpg\"/>"
      ],
      "text/plain": [
       "<IPython.core.display.Image object>"
      ]
     },
     "metadata": {},
     "output_type": "display_data"
    },
    {
     "name": "stdout",
     "output_type": "stream",
     "text": [
      "=== Duracraft DWM250 2-1/2-Gallon Warm-Mist Humidifier ===\n"
     ]
    },
    {
     "data": {
      "text/html": [
       "<img src=\"http://ecx.images-amazon.com/images/I/41XgHQpieYL._SY300_.jpg\"/>"
      ],
      "text/plain": [
       "<IPython.core.display.Image object>"
      ]
     },
     "metadata": {},
     "output_type": "display_data"
    },
    {
     "name": "stdout",
     "output_type": "stream",
     "text": [
      "=== Black &amp; Decker KEC600 Cordless Can Opener, White ===\n"
     ]
    },
    {
     "data": {
      "text/html": [
       "<img src=\"http://ecx.images-amazon.com/images/I/41J08GF79CL._SY300_.jpg\"/>"
      ],
      "text/plain": [
       "<IPython.core.display.Image object>"
      ]
     },
     "metadata": {},
     "output_type": "display_data"
    },
    {
     "name": "stdout",
     "output_type": "stream",
     "text": [
      "=== Nursery Easy Apply Wall Sticker Decorations - Parisian Spring Bird in Tree Silhouette ===\n"
     ]
    },
    {
     "data": {
      "text/html": [
       "<img src=\"http://ecx.images-amazon.com/images/I/51178dObn%2BL._SY300_.jpg\"/>"
      ],
      "text/plain": [
       "<IPython.core.display.Image object>"
      ]
     },
     "metadata": {},
     "output_type": "display_data"
    },
    {
     "name": "stdout",
     "output_type": "stream",
     "text": [
      "=== Waring CTT200BK Professional Cool Touch 2-Slice Toaster, Black ===\n"
     ]
    },
    {
     "data": {
      "text/html": [
       "<img src=\"http://ecx.images-amazon.com/images/I/41-OquEOmqL._SX300_.jpg\"/>"
      ],
      "text/plain": [
       "<IPython.core.display.Image object>"
      ]
     },
     "metadata": {},
     "output_type": "display_data"
    },
    {
     "name": "stdout",
     "output_type": "stream",
     "text": [
      "=== Waring Pro JEX328 Health Juice Extractor ===\n"
     ]
    },
    {
     "data": {
      "text/html": [
       "<img src=\"http://ecx.images-amazon.com/images/I/410GB9DPB9L._SY300_.jpg\"/>"
      ],
      "text/plain": [
       "<IPython.core.display.Image object>"
      ]
     },
     "metadata": {},
     "output_type": "display_data"
    },
    {
     "name": "stdout",
     "output_type": "stream",
     "text": [
      "=== Capresso frothPRO ===\n"
     ]
    },
    {
     "data": {
      "text/html": [
       "<img src=\"http://ecx.images-amazon.com/images/I/41DcMNn5BzL._SX300_.jpg\"/>"
      ],
      "text/plain": [
       "<IPython.core.display.Image object>"
      ]
     },
     "metadata": {},
     "output_type": "display_data"
    },
    {
     "name": "stdout",
     "output_type": "stream",
     "text": [
      "=== KRUPS F20342 Electric Spice and Coffee Grinder with Stainless Steel Blades, Black ===\n"
     ]
    },
    {
     "data": {
      "text/html": [
       "<img src=\"http://ecx.images-amazon.com/images/I/41NQRigTUdL._SY300_.jpg\"/>"
      ],
      "text/plain": [
       "<IPython.core.display.Image object>"
      ]
     },
     "metadata": {},
     "output_type": "display_data"
    }
   ],
   "source": [
    "print_product_images(history)"
   ]
  },
  {
   "cell_type": "code",
   "execution_count": 205,
   "metadata": {},
   "outputs": [
    {
     "data": {
      "text/html": [
       "<div>\n",
       "<style scoped>\n",
       "    .dataframe tbody tr th:only-of-type {\n",
       "        vertical-align: middle;\n",
       "    }\n",
       "\n",
       "    .dataframe tbody tr th {\n",
       "        vertical-align: top;\n",
       "    }\n",
       "\n",
       "    .dataframe thead th {\n",
       "        text-align: right;\n",
       "    }\n",
       "</style>\n",
       "<table border=\"1\" class=\"dataframe\">\n",
       "  <thead>\n",
       "    <tr style=\"text-align: right;\">\n",
       "      <th></th>\n",
       "      <th>Product Names</th>\n",
       "      <th>cat_2</th>\n",
       "      <th>cat_3</th>\n",
       "      <th>cat_4</th>\n",
       "      <th>ratings</th>\n",
       "    </tr>\n",
       "  </thead>\n",
       "  <tbody>\n",
       "    <tr>\n",
       "      <th>6</th>\n",
       "      <td>Shaw Living Penthouse Nylon 24-Inch by 40-Inch...</td>\n",
       "      <td>Bath</td>\n",
       "      <td>Bath Rugs</td>\n",
       "      <td>NaN</td>\n",
       "      <td>5.0</td>\n",
       "    </tr>\n",
       "    <tr>\n",
       "      <th>4</th>\n",
       "      <td>Hamilton Beach TrueAir Room Odor Eliminator</td>\n",
       "      <td>Heating</td>\n",
       "      <td>Cooling &amp; Air Quality</td>\n",
       "      <td>Air Purifiers</td>\n",
       "      <td>3.0</td>\n",
       "    </tr>\n",
       "    <tr>\n",
       "      <th>9</th>\n",
       "      <td>Lasko 2521 Oscillating Stand Fan, 16-Inch</td>\n",
       "      <td>Heating</td>\n",
       "      <td>Cooling &amp; Air Quality</td>\n",
       "      <td>Household Fans</td>\n",
       "      <td>5.0</td>\n",
       "    </tr>\n",
       "    <tr>\n",
       "      <th>2</th>\n",
       "      <td>Cuisinart 726-38H Chef's Classic Stainless 14-...</td>\n",
       "      <td>Kitchen &amp; Dining</td>\n",
       "      <td>Cookware</td>\n",
       "      <td>Woks &amp; Stir-Fry Pans</td>\n",
       "      <td>5.0</td>\n",
       "    </tr>\n",
       "    <tr>\n",
       "      <th>5</th>\n",
       "      <td>Anchor Hocking Monaco Cake Set with Ribbed Dome</td>\n",
       "      <td>Kitchen &amp; Dining</td>\n",
       "      <td>Dining &amp; Entertaining</td>\n",
       "      <td>Serveware</td>\n",
       "      <td>5.0</td>\n",
       "    </tr>\n",
       "    <tr>\n",
       "      <th>0</th>\n",
       "      <td>American Weigh Scales Black Blade Digital Pock...</td>\n",
       "      <td>Kitchen &amp; Dining</td>\n",
       "      <td>Kitchen Utensils &amp; Gadgets</td>\n",
       "      <td>Measuring Tools &amp; Scales</td>\n",
       "      <td>5.0</td>\n",
       "    </tr>\n",
       "    <tr>\n",
       "      <th>7</th>\n",
       "      <td>Hamilton Beach 70740 8-Cup Food Processor, Black</td>\n",
       "      <td>Kitchen &amp; Dining</td>\n",
       "      <td>Small Appliances</td>\n",
       "      <td>Food Processors</td>\n",
       "      <td>5.0</td>\n",
       "    </tr>\n",
       "    <tr>\n",
       "      <th>8</th>\n",
       "      <td>Sunbeam FPSBSM2103 Heritage Series 350-Watt St...</td>\n",
       "      <td>Kitchen &amp; Dining</td>\n",
       "      <td>Small Appliances</td>\n",
       "      <td>Mixers</td>\n",
       "      <td>4.0</td>\n",
       "    </tr>\n",
       "    <tr>\n",
       "      <th>1</th>\n",
       "      <td>Crock-Pot SCR300SS 3-Quart Round Manual Slow C...</td>\n",
       "      <td>Kitchen &amp; Dining</td>\n",
       "      <td>Small Appliances</td>\n",
       "      <td>Slow Cookers</td>\n",
       "      <td>4.0</td>\n",
       "    </tr>\n",
       "    <tr>\n",
       "      <th>3</th>\n",
       "      <td>Durable Deluxe Insulated Lunch Cooler Bag (Man...</td>\n",
       "      <td>Kitchen &amp; Dining</td>\n",
       "      <td>Storage &amp; Organization</td>\n",
       "      <td>Lunch Boxes &amp; Bags</td>\n",
       "      <td>4.0</td>\n",
       "    </tr>\n",
       "    <tr>\n",
       "      <th>10</th>\n",
       "      <td>Whitmor 6780-3139-WHT White Resin 20 Pair Shoe...</td>\n",
       "      <td>Storage &amp; Organization</td>\n",
       "      <td>Clothing &amp; Closet Storage</td>\n",
       "      <td>Shoe Racks &amp; Trees</td>\n",
       "      <td>3.0</td>\n",
       "    </tr>\n",
       "  </tbody>\n",
       "</table>\n",
       "</div>"
      ],
      "text/plain": [
       "                                        Product Names                   cat_2  \\\n",
       "6   Shaw Living Penthouse Nylon 24-Inch by 40-Inch...                    Bath   \n",
       "4         Hamilton Beach TrueAir Room Odor Eliminator                 Heating   \n",
       "9           Lasko 2521 Oscillating Stand Fan, 16-Inch                 Heating   \n",
       "2   Cuisinart 726-38H Chef's Classic Stainless 14-...        Kitchen & Dining   \n",
       "5     Anchor Hocking Monaco Cake Set with Ribbed Dome        Kitchen & Dining   \n",
       "0   American Weigh Scales Black Blade Digital Pock...        Kitchen & Dining   \n",
       "7    Hamilton Beach 70740 8-Cup Food Processor, Black        Kitchen & Dining   \n",
       "8   Sunbeam FPSBSM2103 Heritage Series 350-Watt St...        Kitchen & Dining   \n",
       "1   Crock-Pot SCR300SS 3-Quart Round Manual Slow C...        Kitchen & Dining   \n",
       "3   Durable Deluxe Insulated Lunch Cooler Bag (Man...        Kitchen & Dining   \n",
       "10  Whitmor 6780-3139-WHT White Resin 20 Pair Shoe...  Storage & Organization   \n",
       "\n",
       "                         cat_3                     cat_4  ratings  \n",
       "6                    Bath Rugs                       NaN      5.0  \n",
       "4        Cooling & Air Quality             Air Purifiers      3.0  \n",
       "9        Cooling & Air Quality            Household Fans      5.0  \n",
       "2                     Cookware      Woks & Stir-Fry Pans      5.0  \n",
       "5        Dining & Entertaining                 Serveware      5.0  \n",
       "0   Kitchen Utensils & Gadgets  Measuring Tools & Scales      5.0  \n",
       "7             Small Appliances           Food Processors      5.0  \n",
       "8             Small Appliances                    Mixers      4.0  \n",
       "1             Small Appliances              Slow Cookers      4.0  \n",
       "3       Storage & Organization        Lunch Boxes & Bags      4.0  \n",
       "10   Clothing & Closet Storage        Shoe Racks & Trees      3.0  "
      ]
     },
     "execution_count": 205,
     "metadata": {},
     "output_type": "execute_result"
    }
   ],
   "source": [
    "items_with_categories(actual, 'A2D1PTMMCA93BV', uucf_k3_predicted_ratings_matrix, list_type='actual')"
   ]
  },
  {
   "cell_type": "code",
   "execution_count": 206,
   "metadata": {},
   "outputs": [
    {
     "name": "stdout",
     "output_type": "stream",
     "text": [
      "=== American Weigh Scales Black Blade Digital Pocket Scale, BL-1KG-BLK 1000 by 0.1 G ===\n"
     ]
    },
    {
     "data": {
      "text/html": [
       "<img src=\"http://ecx.images-amazon.com/images/I/41c9TjbaFKL._SX300_.jpg\"/>"
      ],
      "text/plain": [
       "<IPython.core.display.Image object>"
      ]
     },
     "metadata": {},
     "output_type": "display_data"
    },
    {
     "name": "stdout",
     "output_type": "stream",
     "text": [
      "=== Crock-Pot SCR300SS 3-Quart Round Manual Slow Cooker, Stainless Steel ===\n"
     ]
    },
    {
     "data": {
      "text/html": [
       "<img src=\"http://ecx.images-amazon.com/images/I/51253%2Bqq9AL._SY300_.jpg\"/>"
      ],
      "text/plain": [
       "<IPython.core.display.Image object>"
      ]
     },
     "metadata": {},
     "output_type": "display_data"
    },
    {
     "name": "stdout",
     "output_type": "stream",
     "text": [
      "=== Cuisinart 726-38H Chef's Classic Stainless 14-Inch Stir-Fry Pan with Helper Handle and Glass Cover ===\n"
     ]
    },
    {
     "data": {
      "text/html": [
       "<img src=\"http://ecx.images-amazon.com/images/I/3156Gb62sXL._SX300_.jpg\"/>"
      ],
      "text/plain": [
       "<IPython.core.display.Image object>"
      ]
     },
     "metadata": {},
     "output_type": "display_data"
    },
    {
     "name": "stdout",
     "output_type": "stream",
     "text": [
      "=== Durable Deluxe Insulated Lunch Cooler Bag (Many Colors and Size Available) (12&quot;x10&quot;x8 1/2&quot;, Navy) ===\n"
     ]
    },
    {
     "data": {
      "text/html": [
       "<img src=\"http://ecx.images-amazon.com/images/I/41HtznJtx6L._SY300_.jpg\"/>"
      ],
      "text/plain": [
       "<IPython.core.display.Image object>"
      ]
     },
     "metadata": {},
     "output_type": "display_data"
    },
    {
     "name": "stdout",
     "output_type": "stream",
     "text": [
      "=== Hamilton Beach TrueAir Room Odor Eliminator ===\n"
     ]
    },
    {
     "data": {
      "text/html": [
       "<img src=\"http://ecx.images-amazon.com/images/I/41PZNPzxvOL._SY300_.jpg\"/>"
      ],
      "text/plain": [
       "<IPython.core.display.Image object>"
      ]
     },
     "metadata": {},
     "output_type": "display_data"
    },
    {
     "name": "stdout",
     "output_type": "stream",
     "text": [
      "=== Anchor Hocking Monaco Cake Set with Ribbed Dome ===\n"
     ]
    },
    {
     "data": {
      "text/html": [
       "<img src=\"http://ecx.images-amazon.com/images/I/41HTB7X7ZAL._SX300_.jpg\"/>"
      ],
      "text/plain": [
       "<IPython.core.display.Image object>"
      ]
     },
     "metadata": {},
     "output_type": "display_data"
    },
    {
     "name": "stdout",
     "output_type": "stream",
     "text": [
      "=== Shaw Living Penthouse Nylon 24-Inch by 40-Inch Bath Rug, Cocoa ===\n"
     ]
    },
    {
     "data": {
      "text/html": [
       "<img src=\"http://ecx.images-amazon.com/images/I/61yoTSRu9qL._SY300_.jpg\"/>"
      ],
      "text/plain": [
       "<IPython.core.display.Image object>"
      ]
     },
     "metadata": {},
     "output_type": "display_data"
    },
    {
     "name": "stdout",
     "output_type": "stream",
     "text": [
      "=== Hamilton Beach 70740 8-Cup Food Processor, Black ===\n"
     ]
    },
    {
     "data": {
      "text/html": [
       "<img src=\"http://ecx.images-amazon.com/images/I/41bIyCWPReL._SY300_.jpg\"/>"
      ],
      "text/plain": [
       "<IPython.core.display.Image object>"
      ]
     },
     "metadata": {},
     "output_type": "display_data"
    },
    {
     "name": "stdout",
     "output_type": "stream",
     "text": [
      "=== Sunbeam FPSBSM2103 Heritage Series 350-Watt Stand Mixer, Silver ===\n"
     ]
    },
    {
     "data": {
      "text/html": [
       "<img src=\"http://ecx.images-amazon.com/images/I/41H1wZh0k5L._SY300_.jpg\"/>"
      ],
      "text/plain": [
       "<IPython.core.display.Image object>"
      ]
     },
     "metadata": {},
     "output_type": "display_data"
    },
    {
     "name": "stdout",
     "output_type": "stream",
     "text": [
      "=== Lasko 2521 Oscillating Stand Fan, 16-Inch ===\n"
     ]
    },
    {
     "data": {
      "text/html": [
       "<img src=\"http://ecx.images-amazon.com/images/I/41nN0eQZUnL._SY300_.jpg\"/>"
      ],
      "text/plain": [
       "<IPython.core.display.Image object>"
      ]
     },
     "metadata": {},
     "output_type": "display_data"
    },
    {
     "name": "stdout",
     "output_type": "stream",
     "text": [
      "=== Whitmor 6780-3139-WHT White Resin 20 Pair Shoe Rack ===\n"
     ]
    },
    {
     "data": {
      "text/html": [
       "<img src=\"http://ecx.images-amazon.com/images/I/518C2CKaCJL._SY300_.jpg\"/>"
      ],
      "text/plain": [
       "<IPython.core.display.Image object>"
      ]
     },
     "metadata": {},
     "output_type": "display_data"
    }
   ],
   "source": [
    "print_product_images(actual)"
   ]
  },
  {
   "cell_type": "code",
   "execution_count": 207,
   "metadata": {},
   "outputs": [
    {
     "data": {
      "text/html": [
       "<div>\n",
       "<style scoped>\n",
       "    .dataframe tbody tr th:only-of-type {\n",
       "        vertical-align: middle;\n",
       "    }\n",
       "\n",
       "    .dataframe tbody tr th {\n",
       "        vertical-align: top;\n",
       "    }\n",
       "\n",
       "    .dataframe thead th {\n",
       "        text-align: right;\n",
       "    }\n",
       "</style>\n",
       "<table border=\"1\" class=\"dataframe\">\n",
       "  <thead>\n",
       "    <tr style=\"text-align: right;\">\n",
       "      <th></th>\n",
       "      <th>Product Names</th>\n",
       "      <th>cat_2</th>\n",
       "      <th>cat_3</th>\n",
       "      <th>cat_4</th>\n",
       "      <th>ratings</th>\n",
       "    </tr>\n",
       "  </thead>\n",
       "  <tbody>\n",
       "    <tr>\n",
       "      <th>1</th>\n",
       "      <td>Bormioli Rocco Verdi Cappuccino Cup with Stain...</td>\n",
       "      <td>Kitchen &amp; Dining</td>\n",
       "      <td>Dining &amp; Entertaining</td>\n",
       "      <td>Bar Tools &amp; Glasses</td>\n",
       "      <td>4.909091</td>\n",
       "    </tr>\n",
       "    <tr>\n",
       "      <th>0</th>\n",
       "      <td>Proctor-Silex 75217F Power Can Opener Black</td>\n",
       "      <td>Kitchen &amp; Dining</td>\n",
       "      <td>Kitchen Utensils &amp; Gadgets</td>\n",
       "      <td>Can Openers</td>\n",
       "      <td>4.909091</td>\n",
       "    </tr>\n",
       "    <tr>\n",
       "      <th>5</th>\n",
       "      <td>OXO Good Grips 4-Cup Fat Separator</td>\n",
       "      <td>Kitchen &amp; Dining</td>\n",
       "      <td>Kitchen Utensils &amp; Gadgets</td>\n",
       "      <td>Measuring Tools &amp; Scales</td>\n",
       "      <td>4.909091</td>\n",
       "    </tr>\n",
       "    <tr>\n",
       "      <th>3</th>\n",
       "      <td>KitchenAid KHM7T 7-Speed Artisan Hand Mixer, W...</td>\n",
       "      <td>Kitchen &amp; Dining</td>\n",
       "      <td>Small Appliances</td>\n",
       "      <td>Mixers</td>\n",
       "      <td>4.909091</td>\n",
       "    </tr>\n",
       "    <tr>\n",
       "      <th>2</th>\n",
       "      <td>Debbie Meyer GreenBags, 20-Pack</td>\n",
       "      <td>Kitchen &amp; Dining</td>\n",
       "      <td>Storage &amp; Organization</td>\n",
       "      <td>Food Savers</td>\n",
       "      <td>4.909091</td>\n",
       "    </tr>\n",
       "    <tr>\n",
       "      <th>4</th>\n",
       "      <td>BISSELL SpotLifter 2X Portable Deep Carpet Cle...</td>\n",
       "      <td>Vacuums &amp; Floor Care</td>\n",
       "      <td>Carpet Cleaners</td>\n",
       "      <td>NaN</td>\n",
       "      <td>4.909091</td>\n",
       "    </tr>\n",
       "    <tr>\n",
       "      <th>9</th>\n",
       "      <td>J.A. Henckels International Everedge 13-Piece ...</td>\n",
       "      <td>Kitchen &amp; Dining</td>\n",
       "      <td>Kitchen Knives &amp; Cutlery Accessories</td>\n",
       "      <td>Cutlery Sets</td>\n",
       "      <td>4.216783</td>\n",
       "    </tr>\n",
       "    <tr>\n",
       "      <th>7</th>\n",
       "      <td>Kuvings NS-950 Silent Upright Masticating Juicer</td>\n",
       "      <td>Kitchen &amp; Dining</td>\n",
       "      <td>Small Appliances</td>\n",
       "      <td>Juicers</td>\n",
       "      <td>4.216783</td>\n",
       "    </tr>\n",
       "    <tr>\n",
       "      <th>6</th>\n",
       "      <td>Black and Decker SL5470C Stainless Steel Slow ...</td>\n",
       "      <td>Kitchen &amp; Dining</td>\n",
       "      <td>Small Appliances</td>\n",
       "      <td>Slow Cookers</td>\n",
       "      <td>4.216783</td>\n",
       "    </tr>\n",
       "    <tr>\n",
       "      <th>8</th>\n",
       "      <td>KitchenAid FGA Food Grinder Attachment for Sta...</td>\n",
       "      <td>Kitchen &amp; Dining</td>\n",
       "      <td>NaN</td>\n",
       "      <td>NaN</td>\n",
       "      <td>4.216783</td>\n",
       "    </tr>\n",
       "  </tbody>\n",
       "</table>\n",
       "</div>"
      ],
      "text/plain": [
       "                                       Product Names                 cat_2  \\\n",
       "1  Bormioli Rocco Verdi Cappuccino Cup with Stain...      Kitchen & Dining   \n",
       "0        Proctor-Silex 75217F Power Can Opener Black      Kitchen & Dining   \n",
       "5                 OXO Good Grips 4-Cup Fat Separator      Kitchen & Dining   \n",
       "3  KitchenAid KHM7T 7-Speed Artisan Hand Mixer, W...      Kitchen & Dining   \n",
       "2                    Debbie Meyer GreenBags, 20-Pack      Kitchen & Dining   \n",
       "4  BISSELL SpotLifter 2X Portable Deep Carpet Cle...  Vacuums & Floor Care   \n",
       "9  J.A. Henckels International Everedge 13-Piece ...      Kitchen & Dining   \n",
       "7   Kuvings NS-950 Silent Upright Masticating Juicer      Kitchen & Dining   \n",
       "6  Black and Decker SL5470C Stainless Steel Slow ...      Kitchen & Dining   \n",
       "8  KitchenAid FGA Food Grinder Attachment for Sta...      Kitchen & Dining   \n",
       "\n",
       "                                  cat_3                     cat_4   ratings  \n",
       "1                 Dining & Entertaining       Bar Tools & Glasses  4.909091  \n",
       "0            Kitchen Utensils & Gadgets               Can Openers  4.909091  \n",
       "5            Kitchen Utensils & Gadgets  Measuring Tools & Scales  4.909091  \n",
       "3                      Small Appliances                    Mixers  4.909091  \n",
       "2                Storage & Organization               Food Savers  4.909091  \n",
       "4                       Carpet Cleaners                       NaN  4.909091  \n",
       "9  Kitchen Knives & Cutlery Accessories              Cutlery Sets  4.216783  \n",
       "7                      Small Appliances                   Juicers  4.216783  \n",
       "6                      Small Appliances              Slow Cookers  4.216783  \n",
       "8                                   NaN                       NaN  4.216783  "
      ]
     },
     "execution_count": 207,
     "metadata": {},
     "output_type": "execute_result"
    }
   ],
   "source": [
    "items_with_categories(rec_uucfk3, 'A2D1PTMMCA93BV', uucf_k3_predicted_ratings_matrix, list_type='recommended')"
   ]
  },
  {
   "cell_type": "code",
   "execution_count": 208,
   "metadata": {},
   "outputs": [
    {
     "name": "stdout",
     "output_type": "stream",
     "text": [
      "=== Proctor-Silex 75217F Power Can Opener Black ===\n"
     ]
    },
    {
     "data": {
      "text/html": [
       "<img src=\"http://ecx.images-amazon.com/images/I/41D9M71MXEL._SY300_.jpg\"/>"
      ],
      "text/plain": [
       "<IPython.core.display.Image object>"
      ]
     },
     "metadata": {},
     "output_type": "display_data"
    },
    {
     "name": "stdout",
     "output_type": "stream",
     "text": [
      "=== Bormioli Rocco Verdi Cappuccino Cup with Stainless Steel Handle, Set of 4, Gift Boxed ===\n"
     ]
    },
    {
     "data": {
      "text/html": [
       "<img src=\"http://ecx.images-amazon.com/images/I/41Vk4UItiqL._SY300_.jpg\"/>"
      ],
      "text/plain": [
       "<IPython.core.display.Image object>"
      ]
     },
     "metadata": {},
     "output_type": "display_data"
    },
    {
     "name": "stdout",
     "output_type": "stream",
     "text": [
      "=== Debbie Meyer GreenBags, 20-Pack ===\n"
     ]
    },
    {
     "data": {
      "text/html": [
       "<img src=\"http://ecx.images-amazon.com/images/I/41Y1mMfNnyL._SY300_.jpg\"/>"
      ],
      "text/plain": [
       "<IPython.core.display.Image object>"
      ]
     },
     "metadata": {},
     "output_type": "display_data"
    },
    {
     "name": "stdout",
     "output_type": "stream",
     "text": [
      "=== KitchenAid KHM7T 7-Speed Artisan Hand Mixer, White ===\n"
     ]
    },
    {
     "data": {
      "text/html": [
       "<img src=\"http://ecx.images-amazon.com/images/I/314FQRK1SSL._SX300_.jpg\"/>"
      ],
      "text/plain": [
       "<IPython.core.display.Image object>"
      ]
     },
     "metadata": {},
     "output_type": "display_data"
    },
    {
     "name": "stdout",
     "output_type": "stream",
     "text": [
      "=== BISSELL SpotLifter 2X Portable Deep Carpet Cleaner, 1719 ===\n"
     ]
    },
    {
     "data": {
      "text/html": [
       "<img src=\"http://ecx.images-amazon.com/images/I/41T74Y2JD4L._SX300_.jpg\"/>"
      ],
      "text/plain": [
       "<IPython.core.display.Image object>"
      ]
     },
     "metadata": {},
     "output_type": "display_data"
    },
    {
     "name": "stdout",
     "output_type": "stream",
     "text": [
      "=== OXO Good Grips 4-Cup Fat Separator ===\n"
     ]
    },
    {
     "data": {
      "text/html": [
       "<img src=\"http://ecx.images-amazon.com/images/I/4158wgeRrpL._SY300_.jpg\"/>"
      ],
      "text/plain": [
       "<IPython.core.display.Image object>"
      ]
     },
     "metadata": {},
     "output_type": "display_data"
    },
    {
     "name": "stdout",
     "output_type": "stream",
     "text": [
      "=== Black and Decker SL5470C Stainless Steel Slow Cooker ===\n"
     ]
    },
    {
     "data": {
      "text/html": [
       "<img src=\"http://ecx.images-amazon.com/images/I/41OOnGi1-IL._SY300_.jpg\"/>"
      ],
      "text/plain": [
       "<IPython.core.display.Image object>"
      ]
     },
     "metadata": {},
     "output_type": "display_data"
    },
    {
     "name": "stdout",
     "output_type": "stream",
     "text": [
      "=== Kuvings NS-950 Silent Upright Masticating Juicer ===\n"
     ]
    },
    {
     "data": {
      "text/html": [
       "<img src=\"http://ecx.images-amazon.com/images/I/41p47SrSPiL._SY300_.jpg\"/>"
      ],
      "text/plain": [
       "<IPython.core.display.Image object>"
      ]
     },
     "metadata": {},
     "output_type": "display_data"
    },
    {
     "name": "stdout",
     "output_type": "stream",
     "text": [
      "=== KitchenAid FGA Food Grinder Attachment for Stand Mixers ===\n"
     ]
    },
    {
     "data": {
      "text/html": [
       "<img src=\"http://ecx.images-amazon.com/images/I/417CM3kVjFL._SX300_.jpg\"/>"
      ],
      "text/plain": [
       "<IPython.core.display.Image object>"
      ]
     },
     "metadata": {},
     "output_type": "display_data"
    },
    {
     "name": "stdout",
     "output_type": "stream",
     "text": [
      "=== J.A. Henckels International Everedge 13-Piece Knife Set with Bonus Cheese Knife ===\n"
     ]
    },
    {
     "data": {
      "text/html": [
       "<img src=\"http://ecx.images-amazon.com/images/I/415PZG77JFL._SX300_.jpg\"/>"
      ],
      "text/plain": [
       "<IPython.core.display.Image object>"
      ]
     },
     "metadata": {},
     "output_type": "display_data"
    }
   ],
   "source": [
    "print_product_images(rec_uucfk3)"
   ]
  },
  {
   "cell_type": "code",
   "execution_count": 211,
   "metadata": {},
   "outputs": [],
   "source": [
    "rec_iicfk3, history, actual = generate_recommendations('A2D1PTMMCA93BV', iicf_k3_predicted_ratings_matrix, 10, False, False)"
   ]
  },
  {
   "cell_type": "code",
   "execution_count": 212,
   "metadata": {},
   "outputs": [
    {
     "data": {
      "text/html": [
       "<div>\n",
       "<style scoped>\n",
       "    .dataframe tbody tr th:only-of-type {\n",
       "        vertical-align: middle;\n",
       "    }\n",
       "\n",
       "    .dataframe tbody tr th {\n",
       "        vertical-align: top;\n",
       "    }\n",
       "\n",
       "    .dataframe thead th {\n",
       "        text-align: right;\n",
       "    }\n",
       "</style>\n",
       "<table border=\"1\" class=\"dataframe\">\n",
       "  <thead>\n",
       "    <tr style=\"text-align: right;\">\n",
       "      <th></th>\n",
       "      <th>Product Names</th>\n",
       "      <th>cat_2</th>\n",
       "      <th>cat_3</th>\n",
       "      <th>cat_4</th>\n",
       "      <th>ratings</th>\n",
       "    </tr>\n",
       "  </thead>\n",
       "  <tbody>\n",
       "    <tr>\n",
       "      <th>9</th>\n",
       "      <td>Wilton Recipe Right 13 x 9 Inch Oblong Pan</td>\n",
       "      <td>Kitchen &amp; Dining</td>\n",
       "      <td>Bakeware</td>\n",
       "      <td>Cake Pans</td>\n",
       "      <td>5.0</td>\n",
       "    </tr>\n",
       "    <tr>\n",
       "      <th>6</th>\n",
       "      <td>Black &amp;amp; Decker DCM600W 5-Cup Drip Coffeema...</td>\n",
       "      <td>Kitchen &amp; Dining</td>\n",
       "      <td>Coffee</td>\n",
       "      <td>Tea &amp; Espresso</td>\n",
       "      <td>5.0</td>\n",
       "    </tr>\n",
       "    <tr>\n",
       "      <th>3</th>\n",
       "      <td>GI P-38 Can Opener (5-pack)</td>\n",
       "      <td>Kitchen &amp; Dining</td>\n",
       "      <td>Kitchen Utensils &amp; Gadgets</td>\n",
       "      <td>Can Openers</td>\n",
       "      <td>5.0</td>\n",
       "    </tr>\n",
       "    <tr>\n",
       "      <th>8</th>\n",
       "      <td>Nordic Ware Bundt Measuring Cups, Set of 6</td>\n",
       "      <td>Kitchen &amp; Dining</td>\n",
       "      <td>Kitchen Utensils &amp; Gadgets</td>\n",
       "      <td>Measuring Tools &amp; Scales</td>\n",
       "      <td>5.0</td>\n",
       "    </tr>\n",
       "    <tr>\n",
       "      <th>0</th>\n",
       "      <td>Presto 05471 1000-Watt 1-Liter Stainless-Steel...</td>\n",
       "      <td>Kitchen &amp; Dining</td>\n",
       "      <td>Small Appliances</td>\n",
       "      <td>Deep Fryers</td>\n",
       "      <td>5.0</td>\n",
       "    </tr>\n",
       "    <tr>\n",
       "      <th>4</th>\n",
       "      <td>Oster FPSTHB6600-GRY 3-in-1 Twisting Handheld ...</td>\n",
       "      <td>Kitchen &amp; Dining</td>\n",
       "      <td>Small Appliances</td>\n",
       "      <td>Mixers</td>\n",
       "      <td>5.0</td>\n",
       "    </tr>\n",
       "    <tr>\n",
       "      <th>2</th>\n",
       "      <td>simplehuman Slim Open Can, Brushed Stainless S...</td>\n",
       "      <td>Storage &amp; Organization</td>\n",
       "      <td>Trash &amp; Recycling</td>\n",
       "      <td>Trash Cans</td>\n",
       "      <td>5.0</td>\n",
       "    </tr>\n",
       "    <tr>\n",
       "      <th>5</th>\n",
       "      <td>simplehuman Semi-Round Step Trash Can, Fingerp...</td>\n",
       "      <td>Storage &amp; Organization</td>\n",
       "      <td>Trash &amp; Recycling</td>\n",
       "      <td>Trash Cans</td>\n",
       "      <td>5.0</td>\n",
       "    </tr>\n",
       "    <tr>\n",
       "      <th>1</th>\n",
       "      <td>iRobot Scooba Floor Washing Robotic Hard Surfa...</td>\n",
       "      <td>Vacuums &amp; Floor Care</td>\n",
       "      <td>Vacuums</td>\n",
       "      <td>Robotic Vacuums</td>\n",
       "      <td>5.0</td>\n",
       "    </tr>\n",
       "    <tr>\n",
       "      <th>7</th>\n",
       "      <td>InterDesign York Tumbler, White</td>\n",
       "      <td>NaN</td>\n",
       "      <td>NaN</td>\n",
       "      <td>NaN</td>\n",
       "      <td>5.0</td>\n",
       "    </tr>\n",
       "  </tbody>\n",
       "</table>\n",
       "</div>"
      ],
      "text/plain": [
       "                                       Product Names                   cat_2  \\\n",
       "9         Wilton Recipe Right 13 x 9 Inch Oblong Pan        Kitchen & Dining   \n",
       "6  Black &amp; Decker DCM600W 5-Cup Drip Coffeema...        Kitchen & Dining   \n",
       "3                        GI P-38 Can Opener (5-pack)        Kitchen & Dining   \n",
       "8         Nordic Ware Bundt Measuring Cups, Set of 6        Kitchen & Dining   \n",
       "0  Presto 05471 1000-Watt 1-Liter Stainless-Steel...        Kitchen & Dining   \n",
       "4  Oster FPSTHB6600-GRY 3-in-1 Twisting Handheld ...        Kitchen & Dining   \n",
       "2  simplehuman Slim Open Can, Brushed Stainless S...  Storage & Organization   \n",
       "5  simplehuman Semi-Round Step Trash Can, Fingerp...  Storage & Organization   \n",
       "1  iRobot Scooba Floor Washing Robotic Hard Surfa...    Vacuums & Floor Care   \n",
       "7                    InterDesign York Tumbler, White                     NaN   \n",
       "\n",
       "                        cat_3                     cat_4  ratings  \n",
       "9                    Bakeware                 Cake Pans      5.0  \n",
       "6                      Coffee            Tea & Espresso      5.0  \n",
       "3  Kitchen Utensils & Gadgets               Can Openers      5.0  \n",
       "8  Kitchen Utensils & Gadgets  Measuring Tools & Scales      5.0  \n",
       "0            Small Appliances               Deep Fryers      5.0  \n",
       "4            Small Appliances                    Mixers      5.0  \n",
       "2           Trash & Recycling                Trash Cans      5.0  \n",
       "5           Trash & Recycling                Trash Cans      5.0  \n",
       "1                     Vacuums           Robotic Vacuums      5.0  \n",
       "7                         NaN                       NaN      5.0  "
      ]
     },
     "execution_count": 212,
     "metadata": {},
     "output_type": "execute_result"
    }
   ],
   "source": [
    "items_with_categories(rec_iicfk3, 'A2D1PTMMCA93BV', iicf_k3_predicted_ratings_matrix, list_type='recommended')"
   ]
  },
  {
   "cell_type": "code",
   "execution_count": 213,
   "metadata": {
    "scrolled": true
   },
   "outputs": [
    {
     "name": "stdout",
     "output_type": "stream",
     "text": [
      "=== Presto 05471 1000-Watt 1-Liter Stainless-Steel Electric Deep Fryer ===\n"
     ]
    },
    {
     "data": {
      "text/html": [
       "<img src=\"http://ecx.images-amazon.com/images/I/41DmToEiagL._SY300_.jpg\"/>"
      ],
      "text/plain": [
       "<IPython.core.display.Image object>"
      ]
     },
     "metadata": {},
     "output_type": "display_data"
    },
    {
     "name": "stdout",
     "output_type": "stream",
     "text": [
      "=== iRobot Scooba Floor Washing Robotic Hard Surface Cleaner ===\n"
     ]
    },
    {
     "data": {
      "text/html": [
       "<img src=\"http://ecx.images-amazon.com/images/I/41REVVFH0TL._SX300_.jpg\"/>"
      ],
      "text/plain": [
       "<IPython.core.display.Image object>"
      ]
     },
     "metadata": {},
     "output_type": "display_data"
    },
    {
     "name": "stdout",
     "output_type": "stream",
     "text": [
      "=== simplehuman Slim Open Can, Brushed Stainless Steel, 50-Liter/ 13-Gallon ===\n"
     ]
    },
    {
     "data": {
      "text/html": [
       "<img src=\"http://ecx.images-amazon.com/images/I/31YGTBqUl0L._SY300_.jpg\"/>"
      ],
      "text/plain": [
       "<IPython.core.display.Image object>"
      ]
     },
     "metadata": {},
     "output_type": "display_data"
    },
    {
     "name": "stdout",
     "output_type": "stream",
     "text": [
      "=== GI P-38 Can Opener (5-pack) ===\n"
     ]
    },
    {
     "data": {
      "text/html": [
       "<img src=\"http://ecx.images-amazon.com/images/I/21zCDearLoL.jpg\"/>"
      ],
      "text/plain": [
       "<IPython.core.display.Image object>"
      ]
     },
     "metadata": {},
     "output_type": "display_data"
    },
    {
     "name": "stdout",
     "output_type": "stream",
     "text": [
      "=== Oster FPSTHB6600-GRY 3-in-1 Twisting Handheld Mixer, Grey ===\n"
     ]
    },
    {
     "data": {
      "text/html": [
       "<img src=\"http://ecx.images-amazon.com/images/I/418Cp6BH3WL._SY300_.jpg\"/>"
      ],
      "text/plain": [
       "<IPython.core.display.Image object>"
      ]
     },
     "metadata": {},
     "output_type": "display_data"
    },
    {
     "name": "stdout",
     "output_type": "stream",
     "text": [
      "=== simplehuman Semi-Round Step Trash Can, Fingerprint-Proof Brushed Stainless Steel, 10-Liter /2.6-Gallon ===\n"
     ]
    },
    {
     "data": {
      "text/html": [
       "<img src=\"http://ecx.images-amazon.com/images/I/31Pa%2BaCMxhL._SY300_.jpg\"/>"
      ],
      "text/plain": [
       "<IPython.core.display.Image object>"
      ]
     },
     "metadata": {},
     "output_type": "display_data"
    },
    {
     "name": "stdout",
     "output_type": "stream",
     "text": [
      "=== Black &amp; Decker DCM600W 5-Cup Drip Coffeemaker with Glass Carafe, White ===\n"
     ]
    },
    {
     "data": {
      "text/html": [
       "<img src=\"http://ecx.images-amazon.com/images/I/41uqV6Ww97L._SY300_.jpg\"/>"
      ],
      "text/plain": [
       "<IPython.core.display.Image object>"
      ]
     },
     "metadata": {},
     "output_type": "display_data"
    },
    {
     "name": "stdout",
     "output_type": "stream",
     "text": [
      "=== InterDesign York Tumbler, White ===\n"
     ]
    },
    {
     "data": {
      "text/html": [
       "<img src=\"http://ecx.images-amazon.com/images/I/31px15rmH0L._SY300_.jpg\"/>"
      ],
      "text/plain": [
       "<IPython.core.display.Image object>"
      ]
     },
     "metadata": {},
     "output_type": "display_data"
    },
    {
     "name": "stdout",
     "output_type": "stream",
     "text": [
      "=== Nordic Ware Bundt Measuring Cups, Set of 6 ===\n"
     ]
    },
    {
     "data": {
      "text/html": [
       "<img src=\"http://ecx.images-amazon.com/images/I/41FUiNU81vL._SY300_.jpg\"/>"
      ],
      "text/plain": [
       "<IPython.core.display.Image object>"
      ]
     },
     "metadata": {},
     "output_type": "display_data"
    },
    {
     "name": "stdout",
     "output_type": "stream",
     "text": [
      "=== Wilton Recipe Right 13 x 9 Inch Oblong Pan ===\n"
     ]
    },
    {
     "data": {
      "text/html": [
       "<img src=\"http://ecx.images-amazon.com/images/I/31V5PTLo4CL._SY300_.jpg\"/>"
      ],
      "text/plain": [
       "<IPython.core.display.Image object>"
      ]
     },
     "metadata": {},
     "output_type": "display_data"
    }
   ],
   "source": [
    "print_product_images(rec_iicfk3)"
   ]
  },
  {
   "cell_type": "code",
   "execution_count": 214,
   "metadata": {},
   "outputs": [],
   "source": [
    "rec_svdk100, history, actual = generate_recommendations('A2D1PTMMCA93BV', svd_k100_predicted_ratings_matrix, 10, False, False)"
   ]
  },
  {
   "cell_type": "code",
   "execution_count": 215,
   "metadata": {},
   "outputs": [
    {
     "data": {
      "text/html": [
       "<div>\n",
       "<style scoped>\n",
       "    .dataframe tbody tr th:only-of-type {\n",
       "        vertical-align: middle;\n",
       "    }\n",
       "\n",
       "    .dataframe tbody tr th {\n",
       "        vertical-align: top;\n",
       "    }\n",
       "\n",
       "    .dataframe thead th {\n",
       "        text-align: right;\n",
       "    }\n",
       "</style>\n",
       "<table border=\"1\" class=\"dataframe\">\n",
       "  <thead>\n",
       "    <tr style=\"text-align: right;\">\n",
       "      <th></th>\n",
       "      <th>Product Names</th>\n",
       "      <th>cat_2</th>\n",
       "      <th>cat_3</th>\n",
       "      <th>cat_4</th>\n",
       "      <th>ratings</th>\n",
       "    </tr>\n",
       "  </thead>\n",
       "  <tbody>\n",
       "    <tr>\n",
       "      <th>0</th>\n",
       "      <td>Simplehuman Rechargeable Sensor Pump Soap Disp...</td>\n",
       "      <td>Bath</td>\n",
       "      <td>Bathroom Accessories</td>\n",
       "      <td>Holders &amp; Dispensers</td>\n",
       "      <td>4.748782</td>\n",
       "    </tr>\n",
       "    <tr>\n",
       "      <th>1</th>\n",
       "      <td>Kuhn Rikon 2710 Ultimate Shears, Black</td>\n",
       "      <td>Kitchen &amp; Dining</td>\n",
       "      <td>Kitchen Knives &amp; Cutlery Accessories</td>\n",
       "      <td>Shears</td>\n",
       "      <td>4.732593</td>\n",
       "    </tr>\n",
       "    <tr>\n",
       "      <th>2</th>\n",
       "      <td>Baker's Edge Nonstick Edge Brownie Pan</td>\n",
       "      <td>Kitchen &amp; Dining</td>\n",
       "      <td>Bakeware</td>\n",
       "      <td>Cake Pans</td>\n",
       "      <td>4.708888</td>\n",
       "    </tr>\n",
       "    <tr>\n",
       "      <th>3</th>\n",
       "      <td>Progressive International Stainless-Steel Magn...</td>\n",
       "      <td>Kitchen &amp; Dining</td>\n",
       "      <td>Kitchen Utensils &amp; Gadgets</td>\n",
       "      <td>Measuring Tools &amp; Scales</td>\n",
       "      <td>4.704295</td>\n",
       "    </tr>\n",
       "    <tr>\n",
       "      <th>4</th>\n",
       "      <td>Lock &amp;amp; Lock 1.4 Cup 8 Piece Rectangular Va...</td>\n",
       "      <td>Kitchen &amp; Dining</td>\n",
       "      <td>Storage &amp; Organization</td>\n",
       "      <td>NaN</td>\n",
       "      <td>4.691309</td>\n",
       "    </tr>\n",
       "    <tr>\n",
       "      <th>5</th>\n",
       "      <td>Cuisinart 77-10 Chef's Classic Stainless 10-Pi...</td>\n",
       "      <td>Kitchen &amp; Dining</td>\n",
       "      <td>Cookware</td>\n",
       "      <td>Cookware Sets</td>\n",
       "      <td>4.679060</td>\n",
       "    </tr>\n",
       "    <tr>\n",
       "      <th>6</th>\n",
       "      <td>Shun DM0718 Classic 7-Inch Santoku Hollow Grou...</td>\n",
       "      <td>Kitchen &amp; Dining</td>\n",
       "      <td>Kitchen Knives &amp; Cutlery Accessories</td>\n",
       "      <td>Chefs Knives</td>\n",
       "      <td>4.676403</td>\n",
       "    </tr>\n",
       "    <tr>\n",
       "      <th>7</th>\n",
       "      <td>Kitchenaid Pasta Roller Attachment</td>\n",
       "      <td>Kitchen &amp; Dining</td>\n",
       "      <td>Kitchen Utensils &amp; Gadgets</td>\n",
       "      <td>Pasta &amp; Pizza Tools</td>\n",
       "      <td>4.666735</td>\n",
       "    </tr>\n",
       "    <tr>\n",
       "      <th>8</th>\n",
       "      <td>Taylor Food Service Classic Series Freezer-Ref...</td>\n",
       "      <td>Kitchen &amp; Dining</td>\n",
       "      <td>Kitchen Utensils &amp; Gadgets</td>\n",
       "      <td>Thermometers &amp; Timers</td>\n",
       "      <td>4.659128</td>\n",
       "    </tr>\n",
       "    <tr>\n",
       "      <th>9</th>\n",
       "      <td>Sleep Innovations 12-Inch SureTemp Memory Foam...</td>\n",
       "      <td>Furniture</td>\n",
       "      <td>Bedroom Furniture</td>\n",
       "      <td>Mattresses &amp; Box Springs</td>\n",
       "      <td>4.646780</td>\n",
       "    </tr>\n",
       "  </tbody>\n",
       "</table>\n",
       "</div>"
      ],
      "text/plain": [
       "                                       Product Names             cat_2  \\\n",
       "0  Simplehuman Rechargeable Sensor Pump Soap Disp...              Bath   \n",
       "1             Kuhn Rikon 2710 Ultimate Shears, Black  Kitchen & Dining   \n",
       "2             Baker's Edge Nonstick Edge Brownie Pan  Kitchen & Dining   \n",
       "3  Progressive International Stainless-Steel Magn...  Kitchen & Dining   \n",
       "4  Lock &amp; Lock 1.4 Cup 8 Piece Rectangular Va...  Kitchen & Dining   \n",
       "5  Cuisinart 77-10 Chef's Classic Stainless 10-Pi...  Kitchen & Dining   \n",
       "6  Shun DM0718 Classic 7-Inch Santoku Hollow Grou...  Kitchen & Dining   \n",
       "7                 Kitchenaid Pasta Roller Attachment  Kitchen & Dining   \n",
       "8  Taylor Food Service Classic Series Freezer-Ref...  Kitchen & Dining   \n",
       "9  Sleep Innovations 12-Inch SureTemp Memory Foam...         Furniture   \n",
       "\n",
       "                                  cat_3                     cat_4   ratings  \n",
       "0                  Bathroom Accessories      Holders & Dispensers  4.748782  \n",
       "1  Kitchen Knives & Cutlery Accessories                    Shears  4.732593  \n",
       "2                              Bakeware                 Cake Pans  4.708888  \n",
       "3            Kitchen Utensils & Gadgets  Measuring Tools & Scales  4.704295  \n",
       "4                Storage & Organization                       NaN  4.691309  \n",
       "5                              Cookware             Cookware Sets  4.679060  \n",
       "6  Kitchen Knives & Cutlery Accessories              Chefs Knives  4.676403  \n",
       "7            Kitchen Utensils & Gadgets       Pasta & Pizza Tools  4.666735  \n",
       "8            Kitchen Utensils & Gadgets     Thermometers & Timers  4.659128  \n",
       "9                     Bedroom Furniture  Mattresses & Box Springs  4.646780  "
      ]
     },
     "execution_count": 215,
     "metadata": {},
     "output_type": "execute_result"
    }
   ],
   "source": [
    "items_with_categories(rec_svdk100, 'A2D1PTMMCA93BV', svd_k100_predicted_ratings_matrix, list_type='recommended')"
   ]
  },
  {
   "cell_type": "code",
   "execution_count": 216,
   "metadata": {
    "scrolled": true
   },
   "outputs": [
    {
     "name": "stdout",
     "output_type": "stream",
     "text": [
      "=== Simplehuman Rechargeable Sensor Pump Soap Dispenser, 11 Fluid Ounce ===\n"
     ]
    },
    {
     "data": {
      "text/html": [
       "<img src=\"http://ecx.images-amazon.com/images/I/31WFW38ZIQL._SX300_.jpg\"/>"
      ],
      "text/plain": [
       "<IPython.core.display.Image object>"
      ]
     },
     "metadata": {},
     "output_type": "display_data"
    },
    {
     "name": "stdout",
     "output_type": "stream",
     "text": [
      "=== Kuhn Rikon 2710 Ultimate Shears, Black ===\n"
     ]
    },
    {
     "data": {
      "text/html": [
       "<img src=\"http://ecx.images-amazon.com/images/I/31BcMqiGsIL._SX300_.jpg\"/>"
      ],
      "text/plain": [
       "<IPython.core.display.Image object>"
      ]
     },
     "metadata": {},
     "output_type": "display_data"
    },
    {
     "name": "stdout",
     "output_type": "stream",
     "text": [
      "=== Baker's Edge Nonstick Edge Brownie Pan ===\n"
     ]
    },
    {
     "data": {
      "text/html": [
       "<img src=\"http://ecx.images-amazon.com/images/I/41TpFxp9GRL._SX300_.jpg\"/>"
      ],
      "text/plain": [
       "<IPython.core.display.Image object>"
      ]
     },
     "metadata": {},
     "output_type": "display_data"
    },
    {
     "name": "stdout",
     "output_type": "stream",
     "text": [
      "=== Progressive International Stainless-Steel Magnetic Measuring Spoons, Set of 5 ===\n"
     ]
    },
    {
     "data": {
      "text/html": [
       "<img src=\"http://ecx.images-amazon.com/images/I/41eCZ9XRiHL._SX300_.jpg\"/>"
      ],
      "text/plain": [
       "<IPython.core.display.Image object>"
      ]
     },
     "metadata": {},
     "output_type": "display_data"
    },
    {
     "name": "stdout",
     "output_type": "stream",
     "text": [
      "=== Lock &amp; Lock 1.4 Cup 8 Piece Rectangular Value Pack ===\n"
     ]
    },
    {
     "data": {
      "text/html": [
       "<img src=\"http://ecx.images-amazon.com/images/I/41SyZdz9C9L._SY300_.jpg\"/>"
      ],
      "text/plain": [
       "<IPython.core.display.Image object>"
      ]
     },
     "metadata": {},
     "output_type": "display_data"
    },
    {
     "name": "stdout",
     "output_type": "stream",
     "text": [
      "=== Cuisinart 77-10 Chef's Classic Stainless 10-Piece Cookware Set ===\n"
     ]
    },
    {
     "data": {
      "text/html": [
       "<img src=\"http://ecx.images-amazon.com/images/I/41cvIIRSBYL._SX300_.jpg\"/>"
      ],
      "text/plain": [
       "<IPython.core.display.Image object>"
      ]
     },
     "metadata": {},
     "output_type": "display_data"
    },
    {
     "name": "stdout",
     "output_type": "stream",
     "text": [
      "=== Shun DM0718 Classic 7-Inch Santoku Hollow Ground Knife ===\n"
     ]
    },
    {
     "data": {
      "text/html": [
       "<img src=\"http://ecx.images-amazon.com/images/I/21CH5SB4KQL._SX300_.jpg\"/>"
      ],
      "text/plain": [
       "<IPython.core.display.Image object>"
      ]
     },
     "metadata": {},
     "output_type": "display_data"
    },
    {
     "name": "stdout",
     "output_type": "stream",
     "text": [
      "=== Kitchenaid Pasta Roller Attachment ===\n"
     ]
    },
    {
     "data": {
      "text/html": [
       "<img src=\"http://ecx.images-amazon.com/images/I/41XPXJYWVDL._SX300_.jpg\"/>"
      ],
      "text/plain": [
       "<IPython.core.display.Image object>"
      ]
     },
     "metadata": {},
     "output_type": "display_data"
    },
    {
     "name": "stdout",
     "output_type": "stream",
     "text": [
      "=== Taylor Food Service Classic Series Freezer-Refrigerator Thermometer, Large Dial ===\n"
     ]
    },
    {
     "data": {
      "text/html": [
       "<img src=\"http://ecx.images-amazon.com/images/I/51jyv0BF6PL._SY300_.jpg\"/>"
      ],
      "text/plain": [
       "<IPython.core.display.Image object>"
      ]
     },
     "metadata": {},
     "output_type": "display_data"
    },
    {
     "name": "stdout",
     "output_type": "stream",
     "text": [
      "=== Sleep Innovations 12-Inch SureTemp Memory Foam Mattress 20-Year Warranty, Twin ===\n"
     ]
    },
    {
     "data": {
      "text/html": [
       "<img src=\"http://ecx.images-amazon.com/images/I/31DkmB0tqAL._SX300_.jpg\"/>"
      ],
      "text/plain": [
       "<IPython.core.display.Image object>"
      ]
     },
     "metadata": {},
     "output_type": "display_data"
    }
   ],
   "source": [
    "print_product_images(rec_svdk100)"
   ]
  },
  {
   "cell_type": "code",
   "execution_count": null,
   "metadata": {},
   "outputs": [],
   "source": []
  },
  {
   "cell_type": "code",
   "execution_count": null,
   "metadata": {},
   "outputs": [],
   "source": []
  },
  {
   "cell_type": "code",
   "execution_count": null,
   "metadata": {},
   "outputs": [],
   "source": []
  },
  {
   "cell_type": "code",
   "execution_count": null,
   "metadata": {},
   "outputs": [],
   "source": []
  },
  {
   "cell_type": "code",
   "execution_count": null,
   "metadata": {},
   "outputs": [],
   "source": []
  },
  {
   "cell_type": "code",
   "execution_count": 389,
   "metadata": {
    "scrolled": false
   },
   "outputs": [
    {
     "name": "stdout",
     "output_type": "stream",
     "text": [
      "=== KOHLER K-5917-NA Countertop Hardwood Cutting Board ===\n"
     ]
    },
    {
     "data": {
      "text/html": [
       "<img src=\"http://ecx.images-amazon.com/images/I/41r6oo0ubFL._SX300_.jpg\"/>"
      ],
      "text/plain": [
       "<IPython.core.display.Image object>"
      ]
     },
     "metadata": {},
     "output_type": "display_data"
    },
    {
     "name": "stdout",
     "output_type": "stream",
     "text": [
      "=== Zwilling J.A. Henckels Twin Cuisine 8-Inch Chef's Knife (B-Grade*) ===\n"
     ]
    },
    {
     "data": {
      "text/html": [
       "<img src=\"http://ecx.images-amazon.com/images/I/21KKMM4QHKL._SY300_.jpg\"/>"
      ],
      "text/plain": [
       "<IPython.core.display.Image object>"
      ]
     },
     "metadata": {},
     "output_type": "display_data"
    },
    {
     "name": "stdout",
     "output_type": "stream",
     "text": [
      "=== Recyclable Snug Plug Drain Stopper - 1.5 Inch Diameter ===\n"
     ]
    },
    {
     "data": {
      "text/html": [
       "<img src=\"http://ecx.images-amazon.com/images/I/316xx8d8O-L._SX300_.jpg\"/>"
      ],
      "text/plain": [
       "<IPython.core.display.Image object>"
      ]
     },
     "metadata": {},
     "output_type": "display_data"
    },
    {
     "name": "stdout",
     "output_type": "stream",
     "text": [
      "=== Honey-Can-Do IBC-01283 Standard Ironing Board Cover, Natural ===\n"
     ]
    },
    {
     "data": {
      "text/html": [
       "<img src=\"http://ecx.images-amazon.com/images/I/31PPr5d2zSL._SY300_.jpg\"/>"
      ],
      "text/plain": [
       "<IPython.core.display.Image object>"
      ]
     },
     "metadata": {},
     "output_type": "display_data"
    },
    {
     "name": "stdout",
     "output_type": "stream",
     "text": [
      "=== Rattleware 53-Milimeter Aluminum Tamper ===\n"
     ]
    },
    {
     "data": {
      "text/html": [
       "<img src=\"http://ecx.images-amazon.com/images/I/31EKchqtTPL._SY300_.jpg\"/>"
      ],
      "text/plain": [
       "<IPython.core.display.Image object>"
      ]
     },
     "metadata": {},
     "output_type": "display_data"
    },
    {
     "name": "stdout",
     "output_type": "stream",
     "text": [
      "=== Oster TSSTTVXLDG Extra Large Digital Toaster Oven, Stainless Steel ===\n"
     ]
    },
    {
     "data": {
      "text/html": [
       "<img src=\"http://ecx.images-amazon.com/images/I/51Q1VoF00NL._SX300_.jpg\"/>"
      ],
      "text/plain": [
       "<IPython.core.display.Image object>"
      ]
     },
     "metadata": {},
     "output_type": "display_data"
    },
    {
     "name": "stdout",
     "output_type": "stream",
     "text": [
      "=== Krups 052 Gold Tone Filter ===\n"
     ]
    },
    {
     "data": {
      "text/html": [
       "<img src=\"http://ecx.images-amazon.com/images/I/41SCCB47F3L._SX300_.jpg\"/>"
      ],
      "text/plain": [
       "<IPython.core.display.Image object>"
      ]
     },
     "metadata": {},
     "output_type": "display_data"
    },
    {
     "name": "stdout",
     "output_type": "stream",
     "text": [
      "=== Norpro Professional 9-Inch by 12-Inch Heavy Gauge Cookie Sheet ===\n"
     ]
    },
    {
     "data": {
      "text/html": [
       "<img src=\"http://ecx.images-amazon.com/images/I/31132CNPH1L._SX300_.jpg\"/>"
      ],
      "text/plain": [
       "<IPython.core.display.Image object>"
      ]
     },
     "metadata": {},
     "output_type": "display_data"
    },
    {
     "name": "stdout",
     "output_type": "stream",
     "text": [
      "=== Excellante 1 &amp; 2 Ounce Stainless Steel Jigger ===\n"
     ]
    },
    {
     "data": {
      "text/html": [
       "<img src=\"http://ecx.images-amazon.com/images/I/41jvNclhi5L._SY300_.jpg\"/>"
      ],
      "text/plain": [
       "<IPython.core.display.Image object>"
      ]
     },
     "metadata": {},
     "output_type": "display_data"
    },
    {
     "name": "stdout",
     "output_type": "stream",
     "text": [
      "=== Fiesta 14-1/4-Ounce Small Bowl, Marigold ===\n"
     ]
    },
    {
     "data": {
      "text/html": [
       "<img src=\"http://ecx.images-amazon.com/images/I/31-UtzULFtL._SX300_.jpg\"/>"
      ],
      "text/plain": [
       "<IPython.core.display.Image object>"
      ]
     },
     "metadata": {},
     "output_type": "display_data"
    }
   ],
   "source": [
    "print_product_images(n_random_items(10))"
   ]
  },
  {
   "cell_type": "markdown",
   "metadata": {},
   "source": [
    "#### random user"
   ]
  },
  {
   "cell_type": "code",
   "execution_count": 123,
   "metadata": {},
   "outputs": [
    {
     "name": "stdout",
     "output_type": "stream",
     "text": [
      "A3L9NGPTBJBQEL\n"
     ]
    }
   ],
   "source": [
    "rand_user = np.random.choice(reviews20['reviewerID'].unique(),1)[0]\n",
    "print(rand_user)"
   ]
  },
  {
   "cell_type": "code",
   "execution_count": 124,
   "metadata": {},
   "outputs": [],
   "source": [
    "user_hh1 = 'AUAX1QWUCYKSX'"
   ]
  },
  {
   "cell_type": "code",
   "execution_count": 125,
   "metadata": {},
   "outputs": [],
   "source": [
    "rec_uucfk3, history, actual = generate_recommendations(user_hh1, uucf_k3_predicted_ratings_matrix, 10, False, False)"
   ]
  },
  {
   "cell_type": "code",
   "execution_count": 126,
   "metadata": {
    "scrolled": true
   },
   "outputs": [
    {
     "data": {
      "text/html": [
       "<div>\n",
       "<style scoped>\n",
       "    .dataframe tbody tr th:only-of-type {\n",
       "        vertical-align: middle;\n",
       "    }\n",
       "\n",
       "    .dataframe tbody tr th {\n",
       "        vertical-align: top;\n",
       "    }\n",
       "\n",
       "    .dataframe thead th {\n",
       "        text-align: right;\n",
       "    }\n",
       "</style>\n",
       "<table border=\"1\" class=\"dataframe\">\n",
       "  <thead>\n",
       "    <tr style=\"text-align: right;\">\n",
       "      <th></th>\n",
       "      <th>Product Names</th>\n",
       "      <th>cat_2</th>\n",
       "      <th>cat_3</th>\n",
       "      <th>cat_4</th>\n",
       "      <th>ratings</th>\n",
       "    </tr>\n",
       "  </thead>\n",
       "  <tbody>\n",
       "    <tr>\n",
       "      <th>3</th>\n",
       "      <td>OXO Good Grips Press Sure Corner Caddy</td>\n",
       "      <td>Bath</td>\n",
       "      <td>Bathroom Accessories</td>\n",
       "      <td>Shower Accessories</td>\n",
       "      <td>2.0</td>\n",
       "    </tr>\n",
       "    <tr>\n",
       "      <th>4</th>\n",
       "      <td>Dreamaway Waterproof Mattress Protector, Twin</td>\n",
       "      <td>Bedding</td>\n",
       "      <td>Mattress Pads</td>\n",
       "      <td>NaN</td>\n",
       "      <td>5.0</td>\n",
       "    </tr>\n",
       "    <tr>\n",
       "      <th>10</th>\n",
       "      <td>Philips SQM6375/27 Simply Straight HDTV Fixed ...</td>\n",
       "      <td>Furniture</td>\n",
       "      <td>Home Entertainment Furniture</td>\n",
       "      <td>Television Stands &amp; Entertainment Centers</td>\n",
       "      <td>4.0</td>\n",
       "    </tr>\n",
       "    <tr>\n",
       "      <th>7</th>\n",
       "      <td>Frigidaire FAD504DWD Energy Star 50-pint Dehum...</td>\n",
       "      <td>Heating</td>\n",
       "      <td>Cooling &amp; Air Quality</td>\n",
       "      <td>Dehumidifiers &amp; Accessories</td>\n",
       "      <td>4.0</td>\n",
       "    </tr>\n",
       "    <tr>\n",
       "      <th>8</th>\n",
       "      <td>Mr. Coffee BVMC-ZH1B Power Serve 12-Cup Coffee...</td>\n",
       "      <td>Kitchen &amp; Dining</td>\n",
       "      <td>Coffee</td>\n",
       "      <td>Tea &amp; Espresso</td>\n",
       "      <td>4.0</td>\n",
       "    </tr>\n",
       "    <tr>\n",
       "      <th>6</th>\n",
       "      <td>Core Bamboo 10488AM Amazon Exclusive Bamboo Cu...</td>\n",
       "      <td>Kitchen &amp; Dining</td>\n",
       "      <td>Kitchen Knives &amp; Cutlery Accessories</td>\n",
       "      <td>Cutting Boards</td>\n",
       "      <td>4.0</td>\n",
       "    </tr>\n",
       "    <tr>\n",
       "      <th>12</th>\n",
       "      <td>Progressive International Wedge and Pop Apple/...</td>\n",
       "      <td>Kitchen &amp; Dining</td>\n",
       "      <td>Kitchen Utensils &amp; Gadgets</td>\n",
       "      <td>Graters</td>\n",
       "      <td>5.0</td>\n",
       "    </tr>\n",
       "    <tr>\n",
       "      <th>13</th>\n",
       "      <td>Primula Double Wall Glass Mug with Tea Bag Buddy</td>\n",
       "      <td>Kitchen &amp; Dining</td>\n",
       "      <td>Small Appliance Parts &amp; Accessories</td>\n",
       "      <td>Coffee &amp; Espresso Machine Parts &amp; Accessories</td>\n",
       "      <td>5.0</td>\n",
       "    </tr>\n",
       "    <tr>\n",
       "      <th>1</th>\n",
       "      <td>Cuisinart ICE-20 Automatic 1-1/2-Quart Ice Cre...</td>\n",
       "      <td>Kitchen &amp; Dining</td>\n",
       "      <td>Small Appliances</td>\n",
       "      <td>Ice Cream Machines</td>\n",
       "      <td>5.0</td>\n",
       "    </tr>\n",
       "    <tr>\n",
       "      <th>0</th>\n",
       "      <td>Kuvings NJ-9500U Centrifugal Juice Extractor, ...</td>\n",
       "      <td>Kitchen &amp; Dining</td>\n",
       "      <td>Small Appliances</td>\n",
       "      <td>Juicers</td>\n",
       "      <td>4.0</td>\n",
       "    </tr>\n",
       "    <tr>\n",
       "      <th>5</th>\n",
       "      <td>Juiceman JM480S 1.1-HP 2-Speed All-in-One Auto...</td>\n",
       "      <td>Kitchen &amp; Dining</td>\n",
       "      <td>Small Appliances</td>\n",
       "      <td>Juicers</td>\n",
       "      <td>4.0</td>\n",
       "    </tr>\n",
       "    <tr>\n",
       "      <th>2</th>\n",
       "      <td>BlueAvocado Deluxe Shopping Kit, Navy Avodot</td>\n",
       "      <td>Kitchen &amp; Dining</td>\n",
       "      <td>Storage &amp; Organization</td>\n",
       "      <td>Lunch Boxes &amp; Bags</td>\n",
       "      <td>3.0</td>\n",
       "    </tr>\n",
       "    <tr>\n",
       "      <th>11</th>\n",
       "      <td>HAAN SS-22A Multiforce Plus</td>\n",
       "      <td>Vacuums &amp; Floor Care</td>\n",
       "      <td>Carpet Cleaners</td>\n",
       "      <td>NaN</td>\n",
       "      <td>5.0</td>\n",
       "    </tr>\n",
       "    <tr>\n",
       "      <th>9</th>\n",
       "      <td>Hoover WindTunnel 2 Rewind Pet Bagless Upright</td>\n",
       "      <td>Vacuums &amp; Floor Care</td>\n",
       "      <td>Vacuums</td>\n",
       "      <td>Upright Vacuums</td>\n",
       "      <td>4.0</td>\n",
       "    </tr>\n",
       "  </tbody>\n",
       "</table>\n",
       "</div>"
      ],
      "text/plain": [
       "                                        Product Names                 cat_2  \\\n",
       "3              OXO Good Grips Press Sure Corner Caddy                  Bath   \n",
       "4       Dreamaway Waterproof Mattress Protector, Twin               Bedding   \n",
       "10  Philips SQM6375/27 Simply Straight HDTV Fixed ...             Furniture   \n",
       "7   Frigidaire FAD504DWD Energy Star 50-pint Dehum...               Heating   \n",
       "8   Mr. Coffee BVMC-ZH1B Power Serve 12-Cup Coffee...      Kitchen & Dining   \n",
       "6   Core Bamboo 10488AM Amazon Exclusive Bamboo Cu...      Kitchen & Dining   \n",
       "12  Progressive International Wedge and Pop Apple/...      Kitchen & Dining   \n",
       "13   Primula Double Wall Glass Mug with Tea Bag Buddy      Kitchen & Dining   \n",
       "1   Cuisinart ICE-20 Automatic 1-1/2-Quart Ice Cre...      Kitchen & Dining   \n",
       "0   Kuvings NJ-9500U Centrifugal Juice Extractor, ...      Kitchen & Dining   \n",
       "5   Juiceman JM480S 1.1-HP 2-Speed All-in-One Auto...      Kitchen & Dining   \n",
       "2        BlueAvocado Deluxe Shopping Kit, Navy Avodot      Kitchen & Dining   \n",
       "11                        HAAN SS-22A Multiforce Plus  Vacuums & Floor Care   \n",
       "9      Hoover WindTunnel 2 Rewind Pet Bagless Upright  Vacuums & Floor Care   \n",
       "\n",
       "                                   cat_3  \\\n",
       "3                   Bathroom Accessories   \n",
       "4                          Mattress Pads   \n",
       "10          Home Entertainment Furniture   \n",
       "7                  Cooling & Air Quality   \n",
       "8                                 Coffee   \n",
       "6   Kitchen Knives & Cutlery Accessories   \n",
       "12            Kitchen Utensils & Gadgets   \n",
       "13   Small Appliance Parts & Accessories   \n",
       "1                       Small Appliances   \n",
       "0                       Small Appliances   \n",
       "5                       Small Appliances   \n",
       "2                 Storage & Organization   \n",
       "11                       Carpet Cleaners   \n",
       "9                                Vacuums   \n",
       "\n",
       "                                            cat_4  ratings  \n",
       "3                              Shower Accessories      2.0  \n",
       "4                                             NaN      5.0  \n",
       "10      Television Stands & Entertainment Centers      4.0  \n",
       "7                     Dehumidifiers & Accessories      4.0  \n",
       "8                                  Tea & Espresso      4.0  \n",
       "6                                  Cutting Boards      4.0  \n",
       "12                                        Graters      5.0  \n",
       "13  Coffee & Espresso Machine Parts & Accessories      5.0  \n",
       "1                              Ice Cream Machines      5.0  \n",
       "0                                         Juicers      4.0  \n",
       "5                                         Juicers      4.0  \n",
       "2                              Lunch Boxes & Bags      3.0  \n",
       "11                                            NaN      5.0  \n",
       "9                                 Upright Vacuums      4.0  "
      ]
     },
     "execution_count": 126,
     "metadata": {},
     "output_type": "execute_result"
    }
   ],
   "source": [
    "items_with_categories(history, user_hh1, uucf_k3_predicted_ratings_matrix, list_type='actual')"
   ]
  },
  {
   "cell_type": "code",
   "execution_count": 129,
   "metadata": {
    "scrolled": true
   },
   "outputs": [
    {
     "name": "stdout",
     "output_type": "stream",
     "text": [
      "=== Kuvings NJ-9500U Centrifugal Juice Extractor, Silver ===\n"
     ]
    },
    {
     "data": {
      "text/html": [
       "<img src=\"http://ecx.images-amazon.com/images/I/517AfWk29CL._SY300_.jpg\"/>"
      ],
      "text/plain": [
       "<IPython.core.display.Image object>"
      ]
     },
     "metadata": {},
     "output_type": "display_data"
    },
    {
     "name": "stdout",
     "output_type": "stream",
     "text": [
      "=== Cuisinart ICE-20 Automatic 1-1/2-Quart Ice Cream Maker, White ===\n"
     ]
    },
    {
     "data": {
      "text/html": [
       "<img src=\"http://ecx.images-amazon.com/images/I/41FRS3FBY4L._SX300_.jpg\"/>"
      ],
      "text/plain": [
       "<IPython.core.display.Image object>"
      ]
     },
     "metadata": {},
     "output_type": "display_data"
    },
    {
     "name": "stdout",
     "output_type": "stream",
     "text": [
      "=== BlueAvocado Deluxe Shopping Kit, Navy Avodot ===\n"
     ]
    },
    {
     "data": {
      "text/html": [
       "<img src=\"http://ecx.images-amazon.com/images/I/41pTz%2BqwroL._SX300_.jpg\"/>"
      ],
      "text/plain": [
       "<IPython.core.display.Image object>"
      ]
     },
     "metadata": {},
     "output_type": "display_data"
    },
    {
     "name": "stdout",
     "output_type": "stream",
     "text": [
      "=== OXO Good Grips Press Sure Corner Caddy ===\n"
     ]
    },
    {
     "data": {
      "text/html": [
       "<img src=\"http://ecx.images-amazon.com/images/I/31qEhI4J7zL._SY300_.jpg\"/>"
      ],
      "text/plain": [
       "<IPython.core.display.Image object>"
      ]
     },
     "metadata": {},
     "output_type": "display_data"
    },
    {
     "name": "stdout",
     "output_type": "stream",
     "text": [
      "=== Dreamaway Waterproof Mattress Protector, Twin ===\n"
     ]
    },
    {
     "data": {
      "text/html": [
       "<img src=\"http://ecx.images-amazon.com/images/I/31GN6QiLuNL._SX300_.jpg\"/>"
      ],
      "text/plain": [
       "<IPython.core.display.Image object>"
      ]
     },
     "metadata": {},
     "output_type": "display_data"
    },
    {
     "name": "stdout",
     "output_type": "stream",
     "text": [
      "=== Juiceman JM480S 1.1-HP 2-Speed All-in-One Automatic Juice Extractor and Citrus Juicer with Integrated Pulp Container ===\n"
     ]
    },
    {
     "data": {
      "text/html": [
       "<img src=\"http://ecx.images-amazon.com/images/I/41QVhyu-2LL._SY300_.jpg\"/>"
      ],
      "text/plain": [
       "<IPython.core.display.Image object>"
      ]
     },
     "metadata": {},
     "output_type": "display_data"
    },
    {
     "name": "stdout",
     "output_type": "stream",
     "text": [
      "=== Core Bamboo 10488AM Amazon Exclusive Bamboo Cutting Board Set, 3-Piece ===\n"
     ]
    },
    {
     "data": {
      "text/html": [
       "<img src=\"http://ecx.images-amazon.com/images/I/51m6N1elODL._SX300_.jpg\"/>"
      ],
      "text/plain": [
       "<IPython.core.display.Image object>"
      ]
     },
     "metadata": {},
     "output_type": "display_data"
    },
    {
     "name": "stdout",
     "output_type": "stream",
     "text": [
      "=== Frigidaire FAD504DWD Energy Star 50-pint Dehumidifier ===\n"
     ]
    },
    {
     "data": {
      "text/html": [
       "<img src=\"http://ecx.images-amazon.com/images/I/51DoGDnEwvL._SY300_.jpg\"/>"
      ],
      "text/plain": [
       "<IPython.core.display.Image object>"
      ]
     },
     "metadata": {},
     "output_type": "display_data"
    },
    {
     "name": "stdout",
     "output_type": "stream",
     "text": [
      "=== Mr. Coffee BVMC-ZH1B Power Serve 12-Cup Coffeemaker, Black ===\n"
     ]
    },
    {
     "data": {
      "text/html": [
       "<img src=\"http://ecx.images-amazon.com/images/I/41FaJgouhUL._SY300_.jpg\"/>"
      ],
      "text/plain": [
       "<IPython.core.display.Image object>"
      ]
     },
     "metadata": {},
     "output_type": "display_data"
    },
    {
     "name": "stdout",
     "output_type": "stream",
     "text": [
      "=== Hoover WindTunnel 2 Rewind Pet Bagless Upright ===\n"
     ]
    },
    {
     "data": {
      "text/html": [
       "<img src=\"http://ecx.images-amazon.com/images/I/31hFWMxS6YL._SY300_.jpg\"/>"
      ],
      "text/plain": [
       "<IPython.core.display.Image object>"
      ]
     },
     "metadata": {},
     "output_type": "display_data"
    },
    {
     "name": "stdout",
     "output_type": "stream",
     "text": [
      "=== Philips SQM6375/27 Simply Straight HDTV Fixed Wall Mount for 42- to 60-Inch Screens (Discontinued by Manufacturer) ===\n"
     ]
    },
    {
     "data": {
      "text/html": [
       "<img src=\"http://ecx.images-amazon.com/images/I/31TMPwbGn2L._SX300_.jpg\"/>"
      ],
      "text/plain": [
       "<IPython.core.display.Image object>"
      ]
     },
     "metadata": {},
     "output_type": "display_data"
    },
    {
     "name": "stdout",
     "output_type": "stream",
     "text": [
      "=== HAAN SS-22A Multiforce Plus ===\n"
     ]
    },
    {
     "data": {
      "text/html": [
       "<img src=\"http://ecx.images-amazon.com/images/I/311DdD331%2BL._SY300_.jpg\"/>"
      ],
      "text/plain": [
       "<IPython.core.display.Image object>"
      ]
     },
     "metadata": {},
     "output_type": "display_data"
    },
    {
     "name": "stdout",
     "output_type": "stream",
     "text": [
      "=== Progressive International Wedge and Pop Apple/Pear Slicer ===\n"
     ]
    },
    {
     "data": {
      "text/html": [
       "<img src=\"http://ecx.images-amazon.com/images/I/31IQHDD3CYL._SX300_.jpg\"/>"
      ],
      "text/plain": [
       "<IPython.core.display.Image object>"
      ]
     },
     "metadata": {},
     "output_type": "display_data"
    },
    {
     "name": "stdout",
     "output_type": "stream",
     "text": [
      "=== Primula Double Wall Glass Mug with Tea Bag Buddy ===\n"
     ]
    },
    {
     "data": {
      "text/html": [
       "<img src=\"http://ecx.images-amazon.com/images/I/41-sI8rHfdL._SY300_.jpg\"/>"
      ],
      "text/plain": [
       "<IPython.core.display.Image object>"
      ]
     },
     "metadata": {},
     "output_type": "display_data"
    }
   ],
   "source": [
    "print_product_images(history)"
   ]
  },
  {
   "cell_type": "code",
   "execution_count": 130,
   "metadata": {},
   "outputs": [
    {
     "data": {
      "text/html": [
       "<div>\n",
       "<style scoped>\n",
       "    .dataframe tbody tr th:only-of-type {\n",
       "        vertical-align: middle;\n",
       "    }\n",
       "\n",
       "    .dataframe tbody tr th {\n",
       "        vertical-align: top;\n",
       "    }\n",
       "\n",
       "    .dataframe thead th {\n",
       "        text-align: right;\n",
       "    }\n",
       "</style>\n",
       "<table border=\"1\" class=\"dataframe\">\n",
       "  <thead>\n",
       "    <tr style=\"text-align: right;\">\n",
       "      <th></th>\n",
       "      <th>Product Names</th>\n",
       "      <th>cat_2</th>\n",
       "      <th>cat_3</th>\n",
       "      <th>cat_4</th>\n",
       "      <th>ratings</th>\n",
       "    </tr>\n",
       "  </thead>\n",
       "  <tbody>\n",
       "    <tr>\n",
       "      <th>1</th>\n",
       "      <td>Keeble Outlets Kitchen Dish Towels, White With...</td>\n",
       "      <td>Kitchen &amp; Dining</td>\n",
       "      <td>Kitchen &amp; Table Linens</td>\n",
       "      <td>Dish Cloths &amp; Dish Towels</td>\n",
       "      <td>4.0</td>\n",
       "    </tr>\n",
       "    <tr>\n",
       "      <th>0</th>\n",
       "      <td>OXO Good Grips Lua Pepper Mill</td>\n",
       "      <td>Kitchen &amp; Dining</td>\n",
       "      <td>Kitchen Utensils &amp; Gadgets</td>\n",
       "      <td>Salt &amp; Pepper</td>\n",
       "      <td>5.0</td>\n",
       "    </tr>\n",
       "  </tbody>\n",
       "</table>\n",
       "</div>"
      ],
      "text/plain": [
       "                                       Product Names             cat_2  \\\n",
       "1  Keeble Outlets Kitchen Dish Towels, White With...  Kitchen & Dining   \n",
       "0                     OXO Good Grips Lua Pepper Mill  Kitchen & Dining   \n",
       "\n",
       "                        cat_3                      cat_4  ratings  \n",
       "1      Kitchen & Table Linens  Dish Cloths & Dish Towels      4.0  \n",
       "0  Kitchen Utensils & Gadgets              Salt & Pepper      5.0  "
      ]
     },
     "execution_count": 130,
     "metadata": {},
     "output_type": "execute_result"
    }
   ],
   "source": [
    "items_with_categories(actual, user_hh1, uucf_k3_predicted_ratings_matrix, list_type='actual')"
   ]
  },
  {
   "cell_type": "code",
   "execution_count": 131,
   "metadata": {},
   "outputs": [
    {
     "name": "stdout",
     "output_type": "stream",
     "text": [
      "=== OXO Good Grips Lua Pepper Mill ===\n"
     ]
    },
    {
     "data": {
      "text/html": [
       "<img src=\"http://ecx.images-amazon.com/images/I/31r09qaNDiL._SY300_.jpg\"/>"
      ],
      "text/plain": [
       "<IPython.core.display.Image object>"
      ]
     },
     "metadata": {},
     "output_type": "display_data"
    },
    {
     "name": "stdout",
     "output_type": "stream",
     "text": [
      "=== Keeble Outlets Kitchen Dish Towels, White With Royal Blue Stripes, 27.5 inches by 15 inches, Professional Grade 26-Ounce Tea Towel, Pack of 6 ===\n"
     ]
    },
    {
     "data": {
      "text/html": [
       "<img src=\"http://ecx.images-amazon.com/images/I/31KE70XUH7L._SY300_.jpg\"/>"
      ],
      "text/plain": [
       "<IPython.core.display.Image object>"
      ]
     },
     "metadata": {},
     "output_type": "display_data"
    }
   ],
   "source": [
    "print_product_images(actual)"
   ]
  },
  {
   "cell_type": "code",
   "execution_count": 132,
   "metadata": {},
   "outputs": [
    {
     "data": {
      "text/html": [
       "<div>\n",
       "<style scoped>\n",
       "    .dataframe tbody tr th:only-of-type {\n",
       "        vertical-align: middle;\n",
       "    }\n",
       "\n",
       "    .dataframe tbody tr th {\n",
       "        vertical-align: top;\n",
       "    }\n",
       "\n",
       "    .dataframe thead th {\n",
       "        text-align: right;\n",
       "    }\n",
       "</style>\n",
       "<table border=\"1\" class=\"dataframe\">\n",
       "  <thead>\n",
       "    <tr style=\"text-align: right;\">\n",
       "      <th></th>\n",
       "      <th>Product Names</th>\n",
       "      <th>cat_2</th>\n",
       "      <th>cat_3</th>\n",
       "      <th>cat_4</th>\n",
       "      <th>ratings</th>\n",
       "    </tr>\n",
       "  </thead>\n",
       "  <tbody>\n",
       "    <tr>\n",
       "      <th>1</th>\n",
       "      <td>Sodastream Dynamo LX Home Soda Maker Deluxe Me...</td>\n",
       "      <td>Kitchen &amp; Dining</td>\n",
       "      <td>Dining &amp; Entertaining</td>\n",
       "      <td>Bar Tools &amp; Glasses</td>\n",
       "      <td>5.0</td>\n",
       "    </tr>\n",
       "    <tr>\n",
       "      <th>0</th>\n",
       "      <td>Shun DM0741 Classic U2 (Ultimate Utility) Knife</td>\n",
       "      <td>Kitchen &amp; Dining</td>\n",
       "      <td>Kitchen Knives &amp; Cutlery Accessories</td>\n",
       "      <td>Utility Knives</td>\n",
       "      <td>5.0</td>\n",
       "    </tr>\n",
       "    <tr>\n",
       "      <th>2</th>\n",
       "      <td>OXO Good Grips Potato Ricer</td>\n",
       "      <td>Kitchen &amp; Dining</td>\n",
       "      <td>Kitchen Utensils &amp; Gadgets</td>\n",
       "      <td>Fruit &amp; Vegetable Tools</td>\n",
       "      <td>5.0</td>\n",
       "    </tr>\n",
       "    <tr>\n",
       "      <th>4</th>\n",
       "      <td>Kotobuki Plastic Egg Mold, Set of 2, Fish and Car</td>\n",
       "      <td>Kitchen &amp; Dining</td>\n",
       "      <td>Kitchen Utensils &amp; Gadgets</td>\n",
       "      <td>Tool &amp; Gadget Sets</td>\n",
       "      <td>5.0</td>\n",
       "    </tr>\n",
       "    <tr>\n",
       "      <th>7</th>\n",
       "      <td>Bonavita 1.7-Liter Variable Temperature Digita...</td>\n",
       "      <td>Kitchen &amp; Dining</td>\n",
       "      <td>Small Appliances</td>\n",
       "      <td>Coffee</td>\n",
       "      <td>5.0</td>\n",
       "    </tr>\n",
       "    <tr>\n",
       "      <th>6</th>\n",
       "      <td>SodaStream 1017512018 Genesis Home Soda Maker,...</td>\n",
       "      <td>Kitchen &amp; Dining</td>\n",
       "      <td>Small Appliances</td>\n",
       "      <td>Soda Makers</td>\n",
       "      <td>5.0</td>\n",
       "    </tr>\n",
       "    <tr>\n",
       "      <th>9</th>\n",
       "      <td>KitchenAid Stand Mixer Cover, Onyx Black</td>\n",
       "      <td>Kitchen &amp; Dining</td>\n",
       "      <td>NaN</td>\n",
       "      <td>NaN</td>\n",
       "      <td>5.0</td>\n",
       "    </tr>\n",
       "    <tr>\n",
       "      <th>3</th>\n",
       "      <td>Panasonic OptiFlow Lightweight Canister Vacuum...</td>\n",
       "      <td>Vacuums &amp; Floor Care</td>\n",
       "      <td>Vacuums</td>\n",
       "      <td>Canister Vacuums</td>\n",
       "      <td>5.0</td>\n",
       "    </tr>\n",
       "    <tr>\n",
       "      <th>5</th>\n",
       "      <td>Hoover WindTunnel 2 High Capacity Bagless Upri...</td>\n",
       "      <td>Vacuums &amp; Floor Care</td>\n",
       "      <td>Vacuums</td>\n",
       "      <td>Upright Vacuums</td>\n",
       "      <td>5.0</td>\n",
       "    </tr>\n",
       "    <tr>\n",
       "      <th>8</th>\n",
       "      <td>Under Shelf Wrap Rack in WHITE model 1983W fro...</td>\n",
       "      <td>NaN</td>\n",
       "      <td>NaN</td>\n",
       "      <td>NaN</td>\n",
       "      <td>5.0</td>\n",
       "    </tr>\n",
       "  </tbody>\n",
       "</table>\n",
       "</div>"
      ],
      "text/plain": [
       "                                       Product Names                 cat_2  \\\n",
       "1  Sodastream Dynamo LX Home Soda Maker Deluxe Me...      Kitchen & Dining   \n",
       "0    Shun DM0741 Classic U2 (Ultimate Utility) Knife      Kitchen & Dining   \n",
       "2                        OXO Good Grips Potato Ricer      Kitchen & Dining   \n",
       "4  Kotobuki Plastic Egg Mold, Set of 2, Fish and Car      Kitchen & Dining   \n",
       "7  Bonavita 1.7-Liter Variable Temperature Digita...      Kitchen & Dining   \n",
       "6  SodaStream 1017512018 Genesis Home Soda Maker,...      Kitchen & Dining   \n",
       "9           KitchenAid Stand Mixer Cover, Onyx Black      Kitchen & Dining   \n",
       "3  Panasonic OptiFlow Lightweight Canister Vacuum...  Vacuums & Floor Care   \n",
       "5  Hoover WindTunnel 2 High Capacity Bagless Upri...  Vacuums & Floor Care   \n",
       "8  Under Shelf Wrap Rack in WHITE model 1983W fro...                   NaN   \n",
       "\n",
       "                                  cat_3                    cat_4  ratings  \n",
       "1                 Dining & Entertaining      Bar Tools & Glasses      5.0  \n",
       "0  Kitchen Knives & Cutlery Accessories           Utility Knives      5.0  \n",
       "2            Kitchen Utensils & Gadgets  Fruit & Vegetable Tools      5.0  \n",
       "4            Kitchen Utensils & Gadgets       Tool & Gadget Sets      5.0  \n",
       "7                      Small Appliances                   Coffee      5.0  \n",
       "6                      Small Appliances              Soda Makers      5.0  \n",
       "9                                   NaN                      NaN      5.0  \n",
       "3                               Vacuums         Canister Vacuums      5.0  \n",
       "5                               Vacuums          Upright Vacuums      5.0  \n",
       "8                                   NaN                      NaN      5.0  "
      ]
     },
     "execution_count": 132,
     "metadata": {},
     "output_type": "execute_result"
    }
   ],
   "source": [
    "items_with_categories(rec_uucfk3, user_hh1, uucf_k3_predicted_ratings_matrix, list_type='recommended')"
   ]
  },
  {
   "cell_type": "code",
   "execution_count": 133,
   "metadata": {
    "scrolled": true
   },
   "outputs": [
    {
     "name": "stdout",
     "output_type": "stream",
     "text": [
      "=== Shun DM0741 Classic U2 (Ultimate Utility) Knife ===\n"
     ]
    },
    {
     "data": {
      "text/html": [
       "<img src=\"http://ecx.images-amazon.com/images/I/21yF5d5axcL._SX300_.jpg\"/>"
      ],
      "text/plain": [
       "<IPython.core.display.Image object>"
      ]
     },
     "metadata": {},
     "output_type": "display_data"
    },
    {
     "name": "stdout",
     "output_type": "stream",
     "text": [
      "=== Sodastream Dynamo LX Home Soda Maker Deluxe Mega Pack ===\n"
     ]
    },
    {
     "data": {
      "text/html": [
       "<img src=\"http://ecx.images-amazon.com/images/I/41dUEEQF-%2BL._SY300_.jpg\"/>"
      ],
      "text/plain": [
       "<IPython.core.display.Image object>"
      ]
     },
     "metadata": {},
     "output_type": "display_data"
    },
    {
     "name": "stdout",
     "output_type": "stream",
     "text": [
      "=== OXO Good Grips Potato Ricer ===\n"
     ]
    },
    {
     "data": {
      "text/html": [
       "<img src=\"http://ecx.images-amazon.com/images/I/41HMXNFBPFL._SX300_.jpg\"/>"
      ],
      "text/plain": [
       "<IPython.core.display.Image object>"
      ]
     },
     "metadata": {},
     "output_type": "display_data"
    },
    {
     "name": "stdout",
     "output_type": "stream",
     "text": [
      "=== Panasonic OptiFlow Lightweight Canister Vacuum Cleaner, Bagged, MC-CG885 ===\n"
     ]
    },
    {
     "data": {
      "text/html": [
       "<img src=\"http://ecx.images-amazon.com/images/I/31Kh3SfbOiL._SY300_.jpg\"/>"
      ],
      "text/plain": [
       "<IPython.core.display.Image object>"
      ]
     },
     "metadata": {},
     "output_type": "display_data"
    },
    {
     "name": "stdout",
     "output_type": "stream",
     "text": [
      "=== Kotobuki Plastic Egg Mold, Set of 2, Fish and Car ===\n"
     ]
    },
    {
     "data": {
      "text/html": [
       "<img src=\"http://ecx.images-amazon.com/images/I/41eDWQeGu1L._SX300_.jpg\"/>"
      ],
      "text/plain": [
       "<IPython.core.display.Image object>"
      ]
     },
     "metadata": {},
     "output_type": "display_data"
    },
    {
     "name": "stdout",
     "output_type": "stream",
     "text": [
      "=== Hoover WindTunnel 2 High Capacity Bagless Upright, UH70801PC ===\n"
     ]
    },
    {
     "data": {
      "text/html": [
       "<img src=\"http://ecx.images-amazon.com/images/I/31c1yayXMuL._SY300_.jpg\"/>"
      ],
      "text/plain": [
       "<IPython.core.display.Image object>"
      ]
     },
     "metadata": {},
     "output_type": "display_data"
    },
    {
     "name": "stdout",
     "output_type": "stream",
     "text": [
      "=== SodaStream 1017512018 Genesis Home Soda Maker, Black and Silver ===\n"
     ]
    },
    {
     "data": {
      "text/html": [
       "<img src=\"http://ecx.images-amazon.com/images/I/41kLfjtjxsL._SY300_.jpg\"/>"
      ],
      "text/plain": [
       "<IPython.core.display.Image object>"
      ]
     },
     "metadata": {},
     "output_type": "display_data"
    },
    {
     "name": "stdout",
     "output_type": "stream",
     "text": [
      "=== Bonavita 1.7-Liter Variable Temperature Digital Electric Kettle ===\n"
     ]
    },
    {
     "data": {
      "text/html": [
       "<img src=\"http://ecx.images-amazon.com/images/I/41cDzVct2iL._SY300_.jpg\"/>"
      ],
      "text/plain": [
       "<IPython.core.display.Image object>"
      ]
     },
     "metadata": {},
     "output_type": "display_data"
    },
    {
     "name": "stdout",
     "output_type": "stream",
     "text": [
      "=== Under Shelf Wrap Rack in WHITE model 1983W from Organize It All ===\n"
     ]
    },
    {
     "data": {
      "text/html": [
       "<img src=\"http://ecx.images-amazon.com/images/I/41JpCAc%2BueL._SY300_.jpg\"/>"
      ],
      "text/plain": [
       "<IPython.core.display.Image object>"
      ]
     },
     "metadata": {},
     "output_type": "display_data"
    },
    {
     "name": "stdout",
     "output_type": "stream",
     "text": [
      "=== KitchenAid Stand Mixer Cover, Onyx Black ===\n"
     ]
    },
    {
     "data": {
      "text/html": [
       "<img src=\"http://ecx.images-amazon.com/images/I/41FA1M5VDYL._SY300_.jpg\"/>"
      ],
      "text/plain": [
       "<IPython.core.display.Image object>"
      ]
     },
     "metadata": {},
     "output_type": "display_data"
    }
   ],
   "source": [
    "print_product_images(rec_uucfk3)"
   ]
  },
  {
   "cell_type": "code",
   "execution_count": 134,
   "metadata": {},
   "outputs": [],
   "source": [
    "rec_svd40, history, actual = generate_recommendations(user_hh1, svd_k40_predicted_ratings_matrix, 10, False, False)"
   ]
  },
  {
   "cell_type": "code",
   "execution_count": 135,
   "metadata": {},
   "outputs": [
    {
     "data": {
      "text/html": [
       "<div>\n",
       "<style scoped>\n",
       "    .dataframe tbody tr th:only-of-type {\n",
       "        vertical-align: middle;\n",
       "    }\n",
       "\n",
       "    .dataframe tbody tr th {\n",
       "        vertical-align: top;\n",
       "    }\n",
       "\n",
       "    .dataframe thead th {\n",
       "        text-align: right;\n",
       "    }\n",
       "</style>\n",
       "<table border=\"1\" class=\"dataframe\">\n",
       "  <thead>\n",
       "    <tr style=\"text-align: right;\">\n",
       "      <th></th>\n",
       "      <th>Product Names</th>\n",
       "      <th>cat_2</th>\n",
       "      <th>cat_3</th>\n",
       "      <th>cat_4</th>\n",
       "      <th>ratings</th>\n",
       "    </tr>\n",
       "  </thead>\n",
       "  <tbody>\n",
       "    <tr>\n",
       "      <th>0</th>\n",
       "      <td>OXO Good Grips Stainless Steel Over-The-Door Hook</td>\n",
       "      <td>Storage &amp; Organization</td>\n",
       "      <td>Clothing &amp; Closet Storage</td>\n",
       "      <td>Closet System Attachments</td>\n",
       "      <td>4.797655</td>\n",
       "    </tr>\n",
       "    <tr>\n",
       "      <th>1</th>\n",
       "      <td>Rubbermaid Commercial FG1962000000 High-Heat S...</td>\n",
       "      <td>Kitchen &amp; Dining</td>\n",
       "      <td>Kitchen Utensils &amp; Gadgets</td>\n",
       "      <td>Cooking Utensils</td>\n",
       "      <td>4.735854</td>\n",
       "    </tr>\n",
       "    <tr>\n",
       "      <th>2</th>\n",
       "      <td>Ateco 20-Inch Length Maple French Rolling Pin</td>\n",
       "      <td>Kitchen &amp; Dining</td>\n",
       "      <td>Bakeware</td>\n",
       "      <td>Baking Tools &amp; Accessories</td>\n",
       "      <td>4.724932</td>\n",
       "    </tr>\n",
       "    <tr>\n",
       "      <th>3</th>\n",
       "      <td>OXO Good Grips Solid Stainless Steel Ice Cream...</td>\n",
       "      <td>Kitchen &amp; Dining</td>\n",
       "      <td>Kitchen Utensils &amp; Gadgets</td>\n",
       "      <td>Specialty Tools &amp; Gadgets</td>\n",
       "      <td>4.705391</td>\n",
       "    </tr>\n",
       "    <tr>\n",
       "      <th>4</th>\n",
       "      <td>Thermos Stainless-Steel Vacuum Insulated Bottle</td>\n",
       "      <td>Kitchen &amp; Dining</td>\n",
       "      <td>Small Appliance Parts &amp; Accessories</td>\n",
       "      <td>Coffee &amp; Espresso Machine Parts &amp; Accessories</td>\n",
       "      <td>4.692765</td>\n",
       "    </tr>\n",
       "    <tr>\n",
       "      <th>5</th>\n",
       "      <td>Lodge Pro-Logic P14P3 Cast Iron Pizza Pan, Bla...</td>\n",
       "      <td>Kitchen &amp; Dining</td>\n",
       "      <td>Bakeware</td>\n",
       "      <td>Pizza Pans &amp; Stones</td>\n",
       "      <td>4.687241</td>\n",
       "    </tr>\n",
       "    <tr>\n",
       "      <th>6</th>\n",
       "      <td>Victorinox 47547 10-1/4-Inch Wavy Bread Knife,...</td>\n",
       "      <td>Kitchen &amp; Dining</td>\n",
       "      <td>Kitchen Knives &amp; Cutlery Accessories</td>\n",
       "      <td>Bread &amp; Serrated Knives</td>\n",
       "      <td>4.686600</td>\n",
       "    </tr>\n",
       "    <tr>\n",
       "      <th>7</th>\n",
       "      <td>Anolon Advanced Hard Anodized Nonstick 11-Piec...</td>\n",
       "      <td>Kitchen &amp; Dining</td>\n",
       "      <td>Cookware</td>\n",
       "      <td>Cookware Sets</td>\n",
       "      <td>4.679088</td>\n",
       "    </tr>\n",
       "    <tr>\n",
       "      <th>8</th>\n",
       "      <td>OXO Good Grips Flexible Vegetable Brush</td>\n",
       "      <td>Kitchen &amp; Dining</td>\n",
       "      <td>Kitchen Utensils &amp; Gadgets</td>\n",
       "      <td>Fruit &amp; Vegetable Tools</td>\n",
       "      <td>4.679052</td>\n",
       "    </tr>\n",
       "    <tr>\n",
       "      <th>9</th>\n",
       "      <td>OXO Good Grips Lua Pepper Mill</td>\n",
       "      <td>Kitchen &amp; Dining</td>\n",
       "      <td>Kitchen Utensils &amp; Gadgets</td>\n",
       "      <td>Salt &amp; Pepper</td>\n",
       "      <td>4.676553</td>\n",
       "    </tr>\n",
       "  </tbody>\n",
       "</table>\n",
       "</div>"
      ],
      "text/plain": [
       "                                       Product Names                   cat_2  \\\n",
       "0  OXO Good Grips Stainless Steel Over-The-Door Hook  Storage & Organization   \n",
       "1  Rubbermaid Commercial FG1962000000 High-Heat S...        Kitchen & Dining   \n",
       "2      Ateco 20-Inch Length Maple French Rolling Pin        Kitchen & Dining   \n",
       "3  OXO Good Grips Solid Stainless Steel Ice Cream...        Kitchen & Dining   \n",
       "4    Thermos Stainless-Steel Vacuum Insulated Bottle        Kitchen & Dining   \n",
       "5  Lodge Pro-Logic P14P3 Cast Iron Pizza Pan, Bla...        Kitchen & Dining   \n",
       "6  Victorinox 47547 10-1/4-Inch Wavy Bread Knife,...        Kitchen & Dining   \n",
       "7  Anolon Advanced Hard Anodized Nonstick 11-Piec...        Kitchen & Dining   \n",
       "8            OXO Good Grips Flexible Vegetable Brush        Kitchen & Dining   \n",
       "9                     OXO Good Grips Lua Pepper Mill        Kitchen & Dining   \n",
       "\n",
       "                                  cat_3  \\\n",
       "0             Clothing & Closet Storage   \n",
       "1            Kitchen Utensils & Gadgets   \n",
       "2                              Bakeware   \n",
       "3            Kitchen Utensils & Gadgets   \n",
       "4   Small Appliance Parts & Accessories   \n",
       "5                              Bakeware   \n",
       "6  Kitchen Knives & Cutlery Accessories   \n",
       "7                              Cookware   \n",
       "8            Kitchen Utensils & Gadgets   \n",
       "9            Kitchen Utensils & Gadgets   \n",
       "\n",
       "                                           cat_4   ratings  \n",
       "0                      Closet System Attachments  4.797655  \n",
       "1                               Cooking Utensils  4.735854  \n",
       "2                     Baking Tools & Accessories  4.724932  \n",
       "3                      Specialty Tools & Gadgets  4.705391  \n",
       "4  Coffee & Espresso Machine Parts & Accessories  4.692765  \n",
       "5                            Pizza Pans & Stones  4.687241  \n",
       "6                        Bread & Serrated Knives  4.686600  \n",
       "7                                  Cookware Sets  4.679088  \n",
       "8                        Fruit & Vegetable Tools  4.679052  \n",
       "9                                  Salt & Pepper  4.676553  "
      ]
     },
     "execution_count": 135,
     "metadata": {},
     "output_type": "execute_result"
    }
   ],
   "source": [
    "items_with_categories(rec_svd40, user_hh1, svd_k40_predicted_ratings_matrix, list_type='recommended')"
   ]
  },
  {
   "cell_type": "code",
   "execution_count": 136,
   "metadata": {
    "scrolled": true
   },
   "outputs": [
    {
     "name": "stdout",
     "output_type": "stream",
     "text": [
      "=== OXO Good Grips Stainless Steel Over-The-Door Hook ===\n"
     ]
    },
    {
     "data": {
      "text/html": [
       "<img src=\"http://ecx.images-amazon.com/images/I/31C84%2BmOcPL._SY300_.jpg\"/>"
      ],
      "text/plain": [
       "<IPython.core.display.Image object>"
      ]
     },
     "metadata": {},
     "output_type": "display_data"
    },
    {
     "name": "stdout",
     "output_type": "stream",
     "text": [
      "=== Rubbermaid Commercial FG1962000000 High-Heat Scraper, 9.5-inch ===\n"
     ]
    },
    {
     "data": {
      "text/html": [
       "<img src=\"http://ecx.images-amazon.com/images/I/214IRFl%2BI1L._SX300_.jpg\"/>"
      ],
      "text/plain": [
       "<IPython.core.display.Image object>"
      ]
     },
     "metadata": {},
     "output_type": "display_data"
    },
    {
     "name": "stdout",
     "output_type": "stream",
     "text": [
      "=== Ateco 20-Inch Length Maple French Rolling Pin ===\n"
     ]
    },
    {
     "data": {
      "text/html": [
       "<img src=\"http://ecx.images-amazon.com/images/I/21WDjRkGx5L._SY300_.jpg\"/>"
      ],
      "text/plain": [
       "<IPython.core.display.Image object>"
      ]
     },
     "metadata": {},
     "output_type": "display_data"
    },
    {
     "name": "stdout",
     "output_type": "stream",
     "text": [
      "=== OXO Good Grips Solid Stainless Steel Ice Cream Scoop ===\n"
     ]
    },
    {
     "data": {
      "text/html": [
       "<img src=\"http://ecx.images-amazon.com/images/I/31MPh76zkuL._SY300_.jpg\"/>"
      ],
      "text/plain": [
       "<IPython.core.display.Image object>"
      ]
     },
     "metadata": {},
     "output_type": "display_data"
    },
    {
     "name": "stdout",
     "output_type": "stream",
     "text": [
      "=== Thermos Stainless-Steel Vacuum Insulated Bottle ===\n"
     ]
    },
    {
     "data": {
      "text/html": [
       "<img src=\"http://ecx.images-amazon.com/images/I/31XYHGG7W4L._SY300_.jpg\"/>"
      ],
      "text/plain": [
       "<IPython.core.display.Image object>"
      ]
     },
     "metadata": {},
     "output_type": "display_data"
    },
    {
     "name": "stdout",
     "output_type": "stream",
     "text": [
      "=== Lodge Pro-Logic P14P3 Cast Iron Pizza Pan, Black, 14-inch ===\n"
     ]
    },
    {
     "data": {
      "text/html": [
       "<img src=\"http://ecx.images-amazon.com/images/I/31nXLYjHn-L._SX300_.jpg\"/>"
      ],
      "text/plain": [
       "<IPython.core.display.Image object>"
      ]
     },
     "metadata": {},
     "output_type": "display_data"
    },
    {
     "name": "stdout",
     "output_type": "stream",
     "text": [
      "=== Victorinox 47547 10-1/4-Inch Wavy Bread Knife, Black Fibrox Handle ===\n"
     ]
    },
    {
     "data": {
      "text/html": [
       "<img src=\"http://ecx.images-amazon.com/images/I/21-jssFaZoL._SX300_.jpg\"/>"
      ],
      "text/plain": [
       "<IPython.core.display.Image object>"
      ]
     },
     "metadata": {},
     "output_type": "display_data"
    },
    {
     "name": "stdout",
     "output_type": "stream",
     "text": [
      "=== Anolon Advanced Hard Anodized Nonstick 11-Piece Cookware Set ===\n"
     ]
    },
    {
     "data": {
      "text/html": [
       "<img src=\"http://ecx.images-amazon.com/images/I/41CKkEpS7pL._SX300_.jpg\"/>"
      ],
      "text/plain": [
       "<IPython.core.display.Image object>"
      ]
     },
     "metadata": {},
     "output_type": "display_data"
    },
    {
     "name": "stdout",
     "output_type": "stream",
     "text": [
      "=== OXO Good Grips Flexible Vegetable Brush ===\n"
     ]
    },
    {
     "data": {
      "text/html": [
       "<img src=\"http://ecx.images-amazon.com/images/I/410vBA11SWL._SY300_.jpg\"/>"
      ],
      "text/plain": [
       "<IPython.core.display.Image object>"
      ]
     },
     "metadata": {},
     "output_type": "display_data"
    },
    {
     "name": "stdout",
     "output_type": "stream",
     "text": [
      "=== OXO Good Grips Lua Pepper Mill ===\n"
     ]
    },
    {
     "data": {
      "text/html": [
       "<img src=\"http://ecx.images-amazon.com/images/I/31r09qaNDiL._SY300_.jpg\"/>"
      ],
      "text/plain": [
       "<IPython.core.display.Image object>"
      ]
     },
     "metadata": {},
     "output_type": "display_data"
    }
   ],
   "source": [
    "print_product_images(rec_svd40)"
   ]
  },
  {
   "cell_type": "code",
   "execution_count": null,
   "metadata": {},
   "outputs": [],
   "source": []
  },
  {
   "cell_type": "code",
   "execution_count": 137,
   "metadata": {
    "scrolled": true
   },
   "outputs": [
    {
     "name": "stdout",
     "output_type": "stream",
     "text": [
      "=== Bodum Assam Double Wall Tumbler/DOF Glass, Set of 2 ===\n"
     ]
    },
    {
     "data": {
      "text/html": [
       "<img src=\"http://ecx.images-amazon.com/images/I/411NCD7QSSL._SX300_.jpg\"/>"
      ],
      "text/plain": [
       "<IPython.core.display.Image object>"
      ]
     },
     "metadata": {},
     "output_type": "display_data"
    },
    {
     "name": "stdout",
     "output_type": "stream",
     "text": [
      "=== Watts 7-PK RO Filters Premier 1-Year 5-Stage Reverse Osmosis Replacement Filter Kit ===\n"
     ]
    },
    {
     "data": {
      "text/html": [
       "<img src=\"http://ecx.images-amazon.com/images/I/41nB2hbW-5L._SY300_.jpg\"/>"
      ],
      "text/plain": [
       "<IPython.core.display.Image object>"
      ]
     },
     "metadata": {},
     "output_type": "display_data"
    },
    {
     "name": "stdout",
     "output_type": "stream",
     "text": [
      "=== Norpro 682 Anti Freeze Ice Cream Spade ===\n"
     ]
    },
    {
     "data": {
      "text/html": [
       "<img src=\"http://ecx.images-amazon.com/images/I/31uSFC1sxZL._SY300_.jpg\"/>"
      ],
      "text/plain": [
       "<IPython.core.display.Image object>"
      ]
     },
     "metadata": {},
     "output_type": "display_data"
    },
    {
     "name": "stdout",
     "output_type": "stream",
     "text": [
      "=== Multiple Sizes - Advanced Memory Foam Cluster King Pillow- 400 Thread Count Cotton Cover- Made in USA-Exclusively by Blowout Bedding ===\n"
     ]
    },
    {
     "data": {
      "text/html": [
       "<img src=\"http://ecx.images-amazon.com/images/I/51se7XtkmUL._SY300_.jpg\"/>"
      ],
      "text/plain": [
       "<IPython.core.display.Image object>"
      ]
     },
     "metadata": {},
     "output_type": "display_data"
    },
    {
     "name": "stdout",
     "output_type": "stream",
     "text": [
      "=== Calypso Basics, 01100, Melmaine Spoon Rest, Black ===\n"
     ]
    },
    {
     "data": {
      "text/html": [
       "<img src=\"http://ecx.images-amazon.com/images/I/31h5HLZWrSL._SY300_.jpg\"/>"
      ],
      "text/plain": [
       "<IPython.core.display.Image object>"
      ]
     },
     "metadata": {},
     "output_type": "display_data"
    },
    {
     "name": "stdout",
     "output_type": "stream",
     "text": [
      "=== Foremost 327522 Modular Door Cube Storage System, Honey ===\n"
     ]
    },
    {
     "data": {
      "text/html": [
       "<img src=\"http://ecx.images-amazon.com/images/I/41mSn5nG5tL._SX300_.jpg\"/>"
      ],
      "text/plain": [
       "<IPython.core.display.Image object>"
      ]
     },
     "metadata": {},
     "output_type": "display_data"
    },
    {
     "name": "stdout",
     "output_type": "stream",
     "text": [
      "=== Tupperware Midget Salt &amp; Pepper Shakers ===\n"
     ]
    },
    {
     "data": {
      "text/html": [
       "<img src=\"http://ecx.images-amazon.com/images/I/41XxnH1B2RL._SX300_.jpg\"/>"
      ],
      "text/plain": [
       "<IPython.core.display.Image object>"
      ]
     },
     "metadata": {},
     "output_type": "display_data"
    },
    {
     "name": "stdout",
     "output_type": "stream",
     "text": [
      "=== Foremost 327301 Modular Shelf Cube Storage System, White ===\n"
     ]
    },
    {
     "data": {
      "text/html": [
       "<img src=\"http://ecx.images-amazon.com/images/I/31ZXhCBbwXL._SX300_.jpg\"/>"
      ],
      "text/plain": [
       "<IPython.core.display.Image object>"
      ]
     },
     "metadata": {},
     "output_type": "display_data"
    },
    {
     "name": "stdout",
     "output_type": "stream",
     "text": [
      "=== Weston 07-3101-W-A Manual Heavy Duty Meat Cuber Tenderizer ===\n"
     ]
    },
    {
     "data": {
      "text/html": [
       "<img src=\"http://ecx.images-amazon.com/images/I/41FFovT9ZlL._SY300_.jpg\"/>"
      ],
      "text/plain": [
       "<IPython.core.display.Image object>"
      ]
     },
     "metadata": {},
     "output_type": "display_data"
    },
    {
     "name": "stdout",
     "output_type": "stream",
     "text": [
      "=== Regular Gel Cooling Pad ===\n"
     ]
    },
    {
     "data": {
      "text/html": [
       "<img src=\"http://ecx.images-amazon.com/images/I/4164%2BLUgl2L._SY300_.jpg\"/>"
      ],
      "text/plain": [
       "<IPython.core.display.Image object>"
      ]
     },
     "metadata": {},
     "output_type": "display_data"
    }
   ],
   "source": [
    "print_product_images(n_random_items(10))"
   ]
  },
  {
   "cell_type": "code",
   "execution_count": 138,
   "metadata": {},
   "outputs": [
    {
     "name": "stdout",
     "output_type": "stream",
     "text": [
      "End\n",
      "% of test with at least one item from recommended list:  0.004257583821181479\n",
      "Avg hit rate: 0.43749999999999994 ± 0.2310528438835295\n",
      "['ABQWMANK4AR63', 'A1GNYV0RA0EQSS', 'A11OTLEDSW8ZXD', 'A3MHEGH6EIS5ZU', 'AUAX1QWUCYKSX', 'AGFSSC5DBY2HU', 'A1Q4MNIUESQTBM', 'A2L35P0VQE7LBN']\n"
     ]
    }
   ],
   "source": [
    "min_1_hit = 0\n",
    "hit_rates = []\n",
    "users = []\n",
    "\n",
    "for user in reviews20_2014['reviewerID'].unique():\n",
    "    \n",
    "    user_recall = model_evaluation_recall(user, generate_recommendations(user, \n",
    "                                                                         svd_k40_predicted_ratings_matrix,\n",
    "                                                                         n_recommended_items=10,\n",
    "                                                                         return_recommendations_only=True, \n",
    "                                                                         print_results=False))\n",
    "    \n",
    "    if user_recall > 0.2:\n",
    "        min_1_hit += 1\n",
    "        hit_rates.append(user_recall)\n",
    "        users.append(user)\n",
    "\n",
    "print('End')\n",
    "print('% of test with at least one item from recommended list: ', min_1_hit/len(reviews20_2014['reviewerID'].unique()))\n",
    "print('Avg hit rate: {} ± {}'.format(np.mean(hit_rates), np.std(hit_rates)))\n",
    "print(users)"
   ]
  },
  {
   "cell_type": "code",
   "execution_count": null,
   "metadata": {},
   "outputs": [],
   "source": [
    "#potentially for examples:\n",
    "# A26K3T6L5NYO7L\n",
    "# A2D1PTMMCA93BV"
   ]
  },
  {
   "cell_type": "code",
   "execution_count": 139,
   "metadata": {},
   "outputs": [],
   "source": [
    "#shortlisted examples\n",
    "# AJT2XS3UJ9WIK"
   ]
  },
  {
   "cell_type": "code",
   "execution_count": 140,
   "metadata": {
    "scrolled": false
   },
   "outputs": [
    {
     "name": "stdout",
     "output_type": "stream",
     "text": [
      "A2EYQXB9N8ZWRW\n",
      "==== User's Purchase History ====\n",
      "KitchenAid KP26M1XLC Professional 600 Series 6-Quart Stand Mixer, Licorice\n",
      "simplehuman Round Step Trash Can, Fingerprint-Proof Brushed Stainless Steel, 4.5-Liter /1.2-Gallon\n",
      "Keurig B60 Special Edition Brewing System\n",
      "RSVP Manual Drip Coffee Filter Cone for Carafes or Thermos\n",
      "Winsome Wood Breakfast Bed Tray with Handle Foldable Legs\n",
      "Norpro 3-Piece Silicone Funnel Set\n",
      "Libbey 6.25-Ounce Small Bowls with Plastic Lids, 16-Piece Set\n",
      "Thermos 51-Ounce Stainless-Steel Carafe\n",
      "\n",
      "==== User's Actual Purchase in 2014 ====\n",
      "Kitchenaid Classic Shears With Soft Grip, Black\n",
      "Norpro Nonstick Round Pancake Egg Rings, Set of 2\n",
      "Winware Stainless Steel Dredges 10-Ounce with Handle\n",
      "Prepara Oil Mister, White\n",
      "OXO Good Grips Wooden Spoon Set, 3-Piece\n",
      "\n",
      "==== Model's Top 10 Recommendations ====\n",
      "Copco 2555-7874 Large Mesh 6-Part In-Drawer Utensil Organizer\n",
      "Nesco LT-2SG Add-A-Tray for FD-61/FD-61WHC/FD-75A and FD-75PR Dehydrators, Set of 2\n",
      "Presto 07061 22-inch Electric Griddle With Removable Handles\n",
      "Presto 01365 6-Quart Stainless Steel Pressure Cooker, Deluxe\n",
      "RSVP Biscuit Cutters Round - Fluted Edge (set of 4)\n",
      "Chef's Choice 810 Gourmet Egg Cooker\n",
      "Household Essentials Standard Ironing Board Replacement Pad and Cover, Silver Silicone Coated\n",
      "Winware Professional Aluminum 8-Quart Stockpot\n",
      "Oneida Cutting Board, 16-Inch, Green\n",
      "Rowenta DZ5080 Focus Stainless-Steel 1700-Watt Iron\n",
      "=== Copco 2555-7874 Large Mesh 6-Part In-Drawer Utensil Organizer ===\n"
     ]
    },
    {
     "data": {
      "text/html": [
       "<img src=\"http://ecx.images-amazon.com/images/I/51daXd3gxmL._SX300_.jpg\"/>"
      ],
      "text/plain": [
       "<IPython.core.display.Image object>"
      ]
     },
     "metadata": {},
     "output_type": "display_data"
    },
    {
     "name": "stdout",
     "output_type": "stream",
     "text": [
      "=== Nesco LT-2SG Add-A-Tray for FD-61/FD-61WHC/FD-75A and FD-75PR Dehydrators, Set of 2 ===\n"
     ]
    },
    {
     "data": {
      "text/html": [
       "<img src=\"http://ecx.images-amazon.com/images/I/41Tix0ZwnhL._SX300_.jpg\"/>"
      ],
      "text/plain": [
       "<IPython.core.display.Image object>"
      ]
     },
     "metadata": {},
     "output_type": "display_data"
    },
    {
     "name": "stdout",
     "output_type": "stream",
     "text": [
      "=== Presto 07061 22-inch Electric Griddle With Removable Handles ===\n"
     ]
    },
    {
     "data": {
      "text/html": [
       "<img src=\"http://ecx.images-amazon.com/images/I/31En9qr%2BW0L._SY300_.jpg\"/>"
      ],
      "text/plain": [
       "<IPython.core.display.Image object>"
      ]
     },
     "metadata": {},
     "output_type": "display_data"
    },
    {
     "name": "stdout",
     "output_type": "stream",
     "text": [
      "=== Presto 01365 6-Quart Stainless Steel Pressure Cooker, Deluxe ===\n"
     ]
    },
    {
     "data": {
      "text/html": [
       "<img src=\"http://ecx.images-amazon.com/images/I/41tYAwK6aNL._SX300_.jpg\"/>"
      ],
      "text/plain": [
       "<IPython.core.display.Image object>"
      ]
     },
     "metadata": {},
     "output_type": "display_data"
    },
    {
     "name": "stdout",
     "output_type": "stream",
     "text": [
      "=== RSVP Biscuit Cutters Round - Fluted Edge (set of 4) ===\n"
     ]
    },
    {
     "data": {
      "text/html": [
       "<img src=\"http://ecx.images-amazon.com/images/I/51OPX4cNSKL._SY300_.jpg\"/>"
      ],
      "text/plain": [
       "<IPython.core.display.Image object>"
      ]
     },
     "metadata": {},
     "output_type": "display_data"
    },
    {
     "name": "stdout",
     "output_type": "stream",
     "text": [
      "=== Chef's Choice 810 Gourmet Egg Cooker ===\n"
     ]
    },
    {
     "data": {
      "text/html": [
       "<img src=\"http://ecx.images-amazon.com/images/I/41PKR90V0QL._SX300_.jpg\"/>"
      ],
      "text/plain": [
       "<IPython.core.display.Image object>"
      ]
     },
     "metadata": {},
     "output_type": "display_data"
    },
    {
     "name": "stdout",
     "output_type": "stream",
     "text": [
      "=== Household Essentials Standard Ironing Board Replacement Pad and Cover, Silver Silicone Coated ===\n"
     ]
    },
    {
     "data": {
      "text/html": [
       "<img src=\"http://ecx.images-amazon.com/images/I/21ag%2Bu2vaNL._SY300_.jpg\"/>"
      ],
      "text/plain": [
       "<IPython.core.display.Image object>"
      ]
     },
     "metadata": {},
     "output_type": "display_data"
    },
    {
     "name": "stdout",
     "output_type": "stream",
     "text": [
      "=== Winware Professional Aluminum 8-Quart Stockpot ===\n"
     ]
    },
    {
     "data": {
      "text/html": [
       "<img src=\"http://ecx.images-amazon.com/images/I/4137YLp%2B0xL._SY300_.jpg\"/>"
      ],
      "text/plain": [
       "<IPython.core.display.Image object>"
      ]
     },
     "metadata": {},
     "output_type": "display_data"
    },
    {
     "name": "stdout",
     "output_type": "stream",
     "text": [
      "=== Oneida Cutting Board, 16-Inch, Green ===\n"
     ]
    },
    {
     "data": {
      "text/html": [
       "<img src=\"http://ecx.images-amazon.com/images/I/319GbclkAML._SY300_.jpg\"/>"
      ],
      "text/plain": [
       "<IPython.core.display.Image object>"
      ]
     },
     "metadata": {},
     "output_type": "display_data"
    },
    {
     "name": "stdout",
     "output_type": "stream",
     "text": [
      "=== Rowenta DZ5080 Focus Stainless-Steel 1700-Watt Iron ===\n"
     ]
    },
    {
     "data": {
      "text/html": [
       "<img src=\"http://ecx.images-amazon.com/images/I/41QJ7HFFXPL._SX300_.jpg\"/>"
      ],
      "text/plain": [
       "<IPython.core.display.Image object>"
      ]
     },
     "metadata": {},
     "output_type": "display_data"
    }
   ],
   "source": [
    "rand_user = np.random.choice(reviews20_2014['reviewerID'].unique())\n",
    "print(rand_user)\n",
    "\n",
    "iicf_k3_recommendations, iicf_k3_user_purchase_history, iicf_k3_user_actual_purchase = generate_recommendations(rand_user, \n",
    "                                                                                                pred_matrix=iicf_k3_predicted_ratings_matrix, \n",
    "                                                                                                n_recommended_items=10)\n",
    "print_product_images(iicf_k3_recommendations)"
   ]
  },
  {
   "cell_type": "markdown",
   "metadata": {},
   "source": [
    "#### Verifying if SVD k_40 recommender really is recommending the same few items"
   ]
  },
  {
   "cell_type": "code",
   "execution_count": 141,
   "metadata": {},
   "outputs": [
    {
     "data": {
      "text/plain": [
       "1879"
      ]
     },
     "execution_count": 141,
     "metadata": {},
     "output_type": "execute_result"
    }
   ],
   "source": [
    "len(reviews20_2014['reviewerID'].unique())"
   ]
  },
  {
   "cell_type": "code",
   "execution_count": 142,
   "metadata": {},
   "outputs": [
    {
     "name": "stdout",
     "output_type": "stream",
     "text": [
      "0\n",
      "1000\n",
      "End\n"
     ]
    }
   ],
   "source": [
    "all_recommendations = []\n",
    "\n",
    "for i, user in enumerate(reviews20_2014['reviewerID'].unique()):\n",
    "    \n",
    "    if i % 1000 == 0:\n",
    "        print(i)\n",
    "    \n",
    "    recommendation = generate_recommendations(user, \n",
    "                                              svd_k40_predicted_ratings_matrix,\n",
    "                                              n_recommended_items=10,\n",
    "                                              return_recommendations_only=True, \n",
    "                                              print_results=False)\n",
    "    \n",
    "    all_recommendations += recommendation\n",
    "\n",
    "print('End')"
   ]
  },
  {
   "cell_type": "code",
   "execution_count": 143,
   "metadata": {
    "scrolled": false
   },
   "outputs": [
    {
     "data": {
      "text/plain": [
       "OXO Good Grips Stainless Steel Over-The-Door Hook                                                                             1171\n",
       "Victorinox 47547 10-1/4-Inch Wavy Bread Knife, Black Fibrox Handle                                                            1158\n",
       "OXO Good Grips Lua Pepper Mill                                                                                                 949\n",
       "OXO Good Grips Solid Stainless Steel Ice Cream Scoop                                                                           672\n",
       "Kitchenaid Pasta Roller Attachment                                                                                             577\n",
       "Kuhn Rikon 2710 Ultimate Shears, Black                                                                                         448\n",
       "Splash-Proof Super-Fast Thermapen (Red) Instant Read Thermometer, Perfect for Barbecue, Home and Professional Cooking          444\n",
       "Cuisinart 77-10 Chef's Classic Stainless 10-Piece Cookware Set                                                                 376\n",
       "Lodge Pro-Logic P14P3 Cast Iron Pizza Pan, Black, 14-inch                                                                      366\n",
       "Newpoint Home Deluxe 250-Thread-Count Cotton Damask Stripe Queen Mattress Pad                                                  325\n",
       "Baker's Edge Nonstick Edge Brownie Pan                                                                                         303\n",
       "OXO Good Grips 3-Quart Stainless Steel Colander                                                                                283\n",
       "OXO Good Grips Clean Cut Pizza Wheel                                                                                           273\n",
       "Thermos Stainless-Steel Vacuum Insulated Bottle                                                                                262\n",
       "Shun DM0718 Classic 7-Inch Santoku Hollow Ground Knife                                                                         255\n",
       "WMF Manaos / Bistro Iced Tea Spoon, Set of 4                                                                                   236\n",
       "DreamFoam Bedding 8-Inch Memory Foam Bed, Queen                                                                                229\n",
       "Rubbermaid Commercial FG1962000000 High-Heat Scraper, 9.5-inch                                                                 213\n",
       "KitchenAid 13-cup Die-Cast Metal Food Processor                                                                                208\n",
       "OXO Good Grips Flexible Vegetable Brush                                                                                        205\n",
       "CIA 23304 Masters Collection 12 Inch x 17 Inch Wire Cooling Rack, Chrome Plate Steel                                           184\n",
       "Factory-Reconditioned KitchenAid RRKSB5WH Ultra Power 5-Speed Blender, White                                                   178\n",
       "Fasta Pasta The Microwave Cooker                                                                                               164\n",
       "OXO Good Grips Tub Stopper                                                                                                     159\n",
       "Simplehuman Wall Mount Paper Towel Holder, Stainless Steel                                                                     152\n",
       "MIU France Stainless Steel Magnetic Knife Bar, 20-Inch                                                                         150\n",
       "OXO Good Grips Cherry Pitter, Black                                                                                            147\n",
       "OXO Good Grips 4-Cup Fat Separator                                                                                             146\n",
       "Sleep Innovations 10-Inch SureTemp Memory Foam Mattress With 20-Year Warranty, with 2-Bonus Memory Foam Pillows, Twin Size     146\n",
       "Silpat Non-Stick Baking Mat, 11 5/8 x 16 1/2-inches, Half Sheet Size                                                           144\n",
       "                                                                                                                              ... \n",
       "Wusthof 10-Inch Sharpening Steel                                                                                                 1\n",
       "OXO Good Grips Nylon Spoon                                                                                                       1\n",
       "Fagor 670040230 Stainless-Steel 3-in-1 6-Quart Multi-Cooker                                                                      1\n",
       "Evriholder EasiTwist Jar Opener, Assorted Colors                                                                                 1\n",
       "Filtrete Under-Sink Advanced Replacement Water Filter (3US-PF01)                                                                 1\n",
       "Progressive International GT-3470 Magnetic Measuring Spoons                                                                      1\n",
       "Westpointe Electrical Co Wp 4&quot; Hi Velocity Fan 1002 Personal Fan                                                            1\n",
       "Moen SR2201BN Shower Ring, Brushed Nickel                                                                                        1\n",
       "Bajer Design&amp; Marketing 5234 Ez Fold'r Laun Basket [Misc.]                                                                   1\n",
       "Cuisinart CTG-00-DB Dough Blender                                                                                                1\n",
       "HON Volt Mesh Back Task Chair with Synchro Tilt for Office or Computer Desk, Black                                               1\n",
       "Extra Big and Loud Water Resistant Countdown Timer by ThermoWorks                                                                1\n",
       "Rachael Ray Porcelain Enamel II Nonstick 10-Piece Cookware Set, Red Gradient                                                     1\n",
       "OXO Good Grips Egg Beater                                                                                                        1\n",
       "Pourfect 9-Piece Measuring Cup Set, White                                                                                        1\n",
       "Creative Bath Blow Away Hair Care Storage                                                                                        1\n",
       "CucinaPro 220-05NS Non-Stick Pizzelle Baker                                                                                      1\n",
       "Breville BJE510XL Juice Fountain Multi-Speed 900-Watt Juicer                                                                     1\n",
       "Amco Spatula Spoon Rest                                                                                                          1\n",
       "Arc International Luminarc Working Glass, 14-Ounce with Red Lids, Set of 6                                                       1\n",
       "Whitmor 6097-3529-BB Chrome and Canvas Four Section Laundry Sorter                                                               1\n",
       "Lodge Original Finish 12-Inch Cast Iron Skillet                                                                                  1\n",
       "OXO Good Grips Pepper Mill                                                                                                       1\n",
       "Lodge L2SP3 Pre-Seasoned Cast-Iron Serving Pot, 2-Quart                                                                          1\n",
       "Cuisinart 7117-16UR Chef's Classic Stainless 16-Inch Rectangular Roaster with Rack                                               1\n",
       "Pinzon Signature Pyrenees Hypoallergenic Medium Warmth White Goose Down Twin Comforter                                           1\n",
       "Wilton Recipe Right 13 x 9 Inch Oblong Pan                                                                                       1\n",
       "Progressive International HGT-11 Folding Mandoline Slicer (Discontinued by Manufacturer)                                         1\n",
       "Le Creuset Stoneware 12-Ounce Mug, Flame                                                                                         1\n",
       "Capresso 565.04 Infinity Burr Grinder, Brushed Chrome                                                                            1\n",
       "Length: 999, dtype: int64"
      ]
     },
     "execution_count": 143,
     "metadata": {},
     "output_type": "execute_result"
    }
   ],
   "source": [
    "pd.Series(all_recommendations).value_counts()"
   ]
  },
  {
   "cell_type": "code",
   "execution_count": 156,
   "metadata": {},
   "outputs": [
    {
     "name": "stdout",
     "output_type": "stream",
     "text": [
      "0\n",
      "1000\n",
      "End\n"
     ]
    }
   ],
   "source": [
    "all_recommendations = []\n",
    "\n",
    "for i, user in enumerate(reviews20_2014['reviewerID'].unique()):\n",
    "    \n",
    "    if i % 1000 == 0:\n",
    "        print(i)\n",
    "    \n",
    "    recommendation = generate_recommendations(user, \n",
    "                                              svd_k20_predicted_ratings_matrix,\n",
    "                                              n_recommended_items=10,\n",
    "                                              return_recommendations_only=True, \n",
    "                                              print_results=False)\n",
    "    \n",
    "    all_recommendations += recommendation\n",
    "\n",
    "print('End')"
   ]
  },
  {
   "cell_type": "code",
   "execution_count": null,
   "metadata": {},
   "outputs": [],
   "source": [
    "best_rated[best_rated.index.isin(['Victorinox 47547 10-1/4-Inch Wavy Bread Knife, Black Fibrox Handle', \n",
    "                                  'OXO Good Grips Stainless Steel Over-The-Door Hook',\n",
    "                                  'OXO Good Grips Lua Pepper Mill',\n",
    "                                  'OXO Good Grips Solid Stainless Steel Ice Cream Scoop',\n",
    "                                  'Kuhn Rikon 2710 Ultimate Shears, Black',\n",
    "                                  'Kitchenaid Pasta Roller Attachment'])]"
   ]
  },
  {
   "cell_type": "code",
   "execution_count": 272,
   "metadata": {},
   "outputs": [
    {
     "data": {
      "text/plain": [
       "26544    B00C6A475Q\n",
       "Name: asin, dtype: object"
      ]
     },
     "execution_count": 272,
     "metadata": {},
     "output_type": "execute_result"
    }
   ],
   "source": [
    "metadata[metadata['title']=='OXO Good Grips Stainless Steel Over-The-Door Hook']['asin']"
   ]
  },
  {
   "cell_type": "code",
   "execution_count": 274,
   "metadata": {},
   "outputs": [
    {
     "data": {
      "text/plain": [
       "(44965, 3)"
      ]
     },
     "execution_count": 274,
     "metadata": {},
     "output_type": "execute_result"
    }
   ],
   "source": [
    "reviews20_pre2014.shape"
   ]
  },
  {
   "cell_type": "code",
   "execution_count": 275,
   "metadata": {},
   "outputs": [
    {
     "name": "stdout",
     "output_type": "stream",
     "text": [
      "No. of unique users:  2616\n",
      "No. of unique products:  6412\n",
      "Size of utility matrix: 2616 x 6412; 16773792 cells\n",
      "Sparsity: 3.289%\n"
     ]
    }
   ],
   "source": [
    "check_matrix_sparsity(reviews20_pre2014)"
   ]
  },
  {
   "cell_type": "code",
   "execution_count": 271,
   "metadata": {
    "scrolled": true
   },
   "outputs": [
    {
     "data": {
      "text/plain": [
       "5.000000    194\n",
       "4.655387      1\n",
       "4.880634      1\n",
       "4.307141      1\n",
       "4.633132      1\n",
       "4.723371      1\n",
       "4.345316      1\n",
       "3.820928      1\n",
       "4.804226      1\n",
       "4.468716      1\n",
       "4.956857      1\n",
       "4.496737      1\n",
       "3.811970      1\n",
       "4.511471      1\n",
       "4.488138      1\n",
       "4.546552      1\n",
       "4.663753      1\n",
       "4.693228      1\n",
       "4.620844      1\n",
       "4.497264      1\n",
       "4.397893      1\n",
       "4.631898      1\n",
       "4.711639      1\n",
       "4.297127      1\n",
       "4.692508      1\n",
       "4.414761      1\n",
       "4.555830      1\n",
       "4.210470      1\n",
       "4.525881      1\n",
       "4.778010      1\n",
       "           ... \n",
       "4.784589      1\n",
       "4.485024      1\n",
       "4.330329      1\n",
       "4.306126      1\n",
       "4.755099      1\n",
       "4.936612      1\n",
       "4.190297      1\n",
       "4.963319      1\n",
       "4.978140      1\n",
       "4.524120      1\n",
       "3.958996      1\n",
       "4.889539      1\n",
       "4.473980      1\n",
       "4.373592      1\n",
       "4.803986      1\n",
       "4.183253      1\n",
       "4.604484      1\n",
       "4.653161      1\n",
       "4.415439      1\n",
       "4.476222      1\n",
       "4.348722      1\n",
       "4.829209      1\n",
       "4.954067      1\n",
       "4.879447      1\n",
       "4.559276      1\n",
       "4.934967      1\n",
       "4.765035      1\n",
       "4.512423      1\n",
       "4.593122      1\n",
       "4.684154      1\n",
       "Name: B006MIBVAW, Length: 2423, dtype: int64"
      ]
     },
     "execution_count": 271,
     "metadata": {},
     "output_type": "execute_result"
    }
   ],
   "source": [
    "svd_k40_predicted_ratings_matrix['B006MIBVAW'].value_counts()"
   ]
  },
  {
   "cell_type": "code",
   "execution_count": 270,
   "metadata": {},
   "outputs": [
    {
     "data": {
      "text/plain": [
       "array(['B006MIBVAW'], dtype=object)"
      ]
     },
     "execution_count": 270,
     "metadata": {},
     "output_type": "execute_result"
    }
   ],
   "source": [
    "np.random.choice(reviews20_pre2014['asin'],1)"
   ]
  },
  {
   "cell_type": "code",
   "execution_count": 273,
   "metadata": {
    "scrolled": true
   },
   "outputs": [
    {
     "data": {
      "text/plain": [
       "5.000000    1246\n",
       "4.480458       1\n",
       "4.952282       1\n",
       "4.867260       1\n",
       "4.957059       1\n",
       "4.703964       1\n",
       "4.309266       1\n",
       "4.474831       1\n",
       "4.819500       1\n",
       "4.885429       1\n",
       "4.877258       1\n",
       "4.969943       1\n",
       "4.721894       1\n",
       "4.844549       1\n",
       "4.997331       1\n",
       "4.163006       1\n",
       "4.408186       1\n",
       "4.750637       1\n",
       "4.448973       1\n",
       "4.972771       1\n",
       "4.934989       1\n",
       "4.753267       1\n",
       "4.482183       1\n",
       "4.978803       1\n",
       "4.801450       1\n",
       "4.767526       1\n",
       "4.907225       1\n",
       "4.328277       1\n",
       "4.421828       1\n",
       "4.976053       1\n",
       "            ... \n",
       "4.912873       1\n",
       "4.957108       1\n",
       "4.888426       1\n",
       "4.971416       1\n",
       "4.833003       1\n",
       "4.296994       1\n",
       "4.786483       1\n",
       "4.872634       1\n",
       "4.767090       1\n",
       "4.623524       1\n",
       "4.937004       1\n",
       "4.931602       1\n",
       "4.854354       1\n",
       "4.931402       1\n",
       "4.978484       1\n",
       "4.869992       1\n",
       "4.907643       1\n",
       "4.947644       1\n",
       "4.394801       1\n",
       "4.861215       1\n",
       "4.664111       1\n",
       "4.808325       1\n",
       "4.758894       1\n",
       "4.577233       1\n",
       "4.683619       1\n",
       "4.976569       1\n",
       "4.332457       1\n",
       "4.449298       1\n",
       "4.970485       1\n",
       "4.756698       1\n",
       "Name: B00C6A475Q, Length: 1371, dtype: int64"
      ]
     },
     "execution_count": 273,
     "metadata": {},
     "output_type": "execute_result"
    }
   ],
   "source": [
    "svd_k40_predicted_ratings_matrix['B00C6A475Q'].value_counts()"
   ]
  },
  {
   "cell_type": "code",
   "execution_count": 157,
   "metadata": {
    "scrolled": false
   },
   "outputs": [
    {
     "data": {
      "text/plain": [
       "OXO Good Grips Stainless Steel Over-The-Door Hook                                                                            656\n",
       "Victorinox 47547 10-1/4-Inch Wavy Bread Knife, Black Fibrox Handle                                                           602\n",
       "OXO Good Grips Solid Stainless Steel Ice Cream Scoop                                                                         458\n",
       "OXO Good Grips Lua Pepper Mill                                                                                               443\n",
       "Kitchenaid Pasta Roller Attachment                                                                                           290\n",
       "Kuhn Rikon 2710 Ultimate Shears, Black                                                                                       272\n",
       "DreamFoam Bedding 8-Inch Memory Foam Bed, Queen                                                                              265\n",
       "Shun DM0718 Classic 7-Inch Santoku Hollow Ground Knife                                                                       252\n",
       "Newpoint Home Deluxe 250-Thread-Count Cotton Damask Stripe Queen Mattress Pad                                                251\n",
       "Rubbermaid Commercial FG1962000000 High-Heat Scraper, 9.5-inch                                                               240\n",
       "OXO Good Grips 3-Quart Stainless Steel Colander                                                                              215\n",
       "Splash-Proof Super-Fast Thermapen (Red) Instant Read Thermometer, Perfect for Barbecue, Home and Professional Cooking        199\n",
       "Ateco 20-Inch Length Maple French Rolling Pin                                                                                197\n",
       "Lodge Pro-Logic P14P3 Cast Iron Pizza Pan, Black, 14-inch                                                                    180\n",
       "Cuisinart 77-10 Chef's Classic Stainless 10-Piece Cookware Set                                                               167\n",
       "OXO Good Grips 4-Cup Fat Separator                                                                                           166\n",
       "WMF Manaos / Bistro Iced Tea Spoon, Set of 4                                                                                 166\n",
       "KitchenAid 13-cup Die-Cast Metal Food Processor                                                                              163\n",
       "Factory-Reconditioned KitchenAid RRKSB5WH Ultra Power 5-Speed Blender, White                                                 160\n",
       "OXO Good Grips Clean Cut Pizza Wheel                                                                                         159\n",
       "OXO Good Grips Flexible Vegetable Brush                                                                                      159\n",
       "Victorinox Fibrox 7-Inch Granton Edge Santoku Knife                                                                          150\n",
       "CIA 23304 Masters Collection 12 Inch x 17 Inch Wire Cooling Rack, Chrome Plate Steel                                         150\n",
       "Silpat Non-Stick Baking Mat, 11 5/8 x 16 1/2-inches, Half Sheet Size                                                         143\n",
       "Baker's Edge Nonstick Edge Brownie Pan                                                                                       139\n",
       "MIU France Stainless Steel Magnetic Knife Bar, 20-Inch                                                                       131\n",
       "Thermos Stainless-Steel Vacuum Insulated Bottle                                                                              129\n",
       "USA Pans 13 x 4 x 4 Inch Pullman, Aluminized Steel with Americoat                                                            122\n",
       "Freshware 30-Cavity Silicone Chocolate, Candy and Peanut Butter-Cup Mold                                                     118\n",
       "Anolon Advanced Bronze Hard Anodized Nonstick 11-Piece Cookware Set                                                          115\n",
       "                                                                                                                            ... \n",
       "Prodyne CK-300 Multi-Use Cheese Fruit and Veggie Knife                                                                         1\n",
       "Lodge L5MIC3 Miniature Lid                                                                                                     1\n",
       "Oxy-Sorb Oxygen Absorbers for Food Storage                                                                                     1\n",
       "Zyliss 3.5-Inch Paring Knife, Green                                                                                            1\n",
       "Bormioli Rocco Murano 14-7/8-Ounce Cobalt Blue Beverage Glass, Set of 4                                                        1\n",
       "Rubbermaid 7J77 Easy Find Lid Rectangle 40-Cup Food Storage Container                                                          1\n",
       "Rachael Ray Hard Anodized II Nonstick Dishwasher Safe 8-Quart Covered Oval Pasta Pot, Orange                                   1\n",
       "Prodyne A-845 Acrylic 20 Bottle Spice Rack                                                                                     1\n",
       "Misto Gourmet Olive Oil Sprayer (Set of 2) Silver and Black                                                                    1\n",
       "Mastercool MSC52224A Non-Contact Infrared Thermometer with Laser                                                               1\n",
       "J.K. Adams 3-1/2-Ounce Flint Glass Spice Jar Set, 48-Piece                                                                     1\n",
       "Presto 09995 7 Function Canning Kit                                                                                            1\n",
       "Black Boomerang Corkscrew with No Blade&quot; Foil Cutter&quot;                                                                1\n",
       "Nesco FD-80A Square-Shaped Dehydrator Amazon Frustration-Free Packaging                                                        1\n",
       "Creative Bath Blow Away Hair Care Storage                                                                                      1\n",
       "Hamilton Beach 43254R Ensemble 12-Cup Drip Coffeemaker                                                                         1\n",
       "Norpro 330 Heavy Duty Adjustable Cheese Slicer                                                                                 1\n",
       "Wilton Trim-N-Turn Ultra Rotating Cake Stand                                                                                   1\n",
       "The Carboy Carrier                                                                                                             1\n",
       "Bunn 1000 Paper Regular Coffee Filter for 12-Cup Commercial Brewers (Case of 1,000)                                            1\n",
       "Pyrex Storage 10-Piece Set, Clear with Blue Lids                                                                               1\n",
       "Canvas Padded Hangers, Set of 6                                                                                                1\n",
       "T-fal D913SC64 Signature Hard Anodized Oven Safe Durable Nonstick Thermo-Spot Heat Indicator Cookware Set, 12-Piece, Gray      1\n",
       "Ironing Blanket (Grey) (21.75&quot;W x 28.25&quot;L)                                                                           1\n",
       "Honeywell SilentComfort Permanent, True HEPA Air Purifier, 18155                                                               1\n",
       "Prodyne M-913 Stainless Steel Under Cabinet Paper Towel Holder                                                                 1\n",
       "15 Kenmore Canister Allergen Cloth Vacuum Bags Fits 5055, 50558, 50557 - 15 Bags Total                                         1\n",
       "Marcato Atlas Pasta Drying Rack                                                                                                1\n",
       "Schott Zwiesel Tritan Crystal Glass Convention Barware Collection Old Fashioned/Whiskey, 9.6-Ounce, Set of 6                   1\n",
       "Clara Clark 1500 Series Duvet Cover King Size, Chocolate Brown                                                                 1\n",
       "Length: 1532, dtype: int64"
      ]
     },
     "execution_count": 157,
     "metadata": {},
     "output_type": "execute_result"
    }
   ],
   "source": [
    "pd.Series(all_recommendations).value_counts()"
   ]
  },
  {
   "cell_type": "code",
   "execution_count": 158,
   "metadata": {},
   "outputs": [],
   "source": [
    "algo=SVD(n_factors=100)\n",
    "algo.fit(trainset)\n",
    "\n",
    "svd_k100_predicted_ratings_matrix = generate_predicted_ratings_matrix(user_utility_matrix)"
   ]
  },
  {
   "cell_type": "code",
   "execution_count": 160,
   "metadata": {},
   "outputs": [
    {
     "name": "stdout",
     "output_type": "stream",
     "text": [
      "0\n",
      "1000\n",
      "End\n"
     ]
    }
   ],
   "source": [
    "all_recommendations = []\n",
    "\n",
    "for i, user in enumerate(reviews20_2014['reviewerID'].unique()):\n",
    "    \n",
    "    if i % 1000 == 0:\n",
    "        print(i)\n",
    "    \n",
    "    recommendation = generate_recommendations(user, \n",
    "                                              svd_k100_predicted_ratings_matrix,\n",
    "                                              n_recommended_items=10,\n",
    "                                              return_recommendations_only=True, \n",
    "                                              print_results=False)\n",
    "    \n",
    "    all_recommendations += recommendation\n",
    "\n",
    "print('End')"
   ]
  },
  {
   "cell_type": "code",
   "execution_count": 161,
   "metadata": {},
   "outputs": [
    {
     "data": {
      "text/plain": [
       "OXO Good Grips Stainless Steel Over-The-Door Hook                                                                                 625\n",
       "Victorinox 47547 10-1/4-Inch Wavy Bread Knife, Black Fibrox Handle                                                                596\n",
       "OXO Good Grips Solid Stainless Steel Ice Cream Scoop                                                                              432\n",
       "OXO Good Grips Lua Pepper Mill                                                                                                    412\n",
       "Splash-Proof Super-Fast Thermapen (Red) Instant Read Thermometer, Perfect for Barbecue, Home and Professional Cooking             357\n",
       "Kitchenaid Pasta Roller Attachment                                                                                                295\n",
       "Lodge Pro-Logic P14P3 Cast Iron Pizza Pan, Black, 14-inch                                                                         265\n",
       "Kuhn Rikon 2710 Ultimate Shears, Black                                                                                            244\n",
       "Freshware 30-Cavity Silicone Chocolate, Candy and Peanut Butter-Cup Mold                                                          234\n",
       "Shun DM0718 Classic 7-Inch Santoku Hollow Ground Knife                                                                            230\n",
       "Cuisinart 77-10 Chef's Classic Stainless 10-Piece Cookware Set                                                                    214\n",
       "Victorinox Fibrox 7-Inch Granton Edge Santoku Knife                                                                               183\n",
       "Ateco 20-Inch Length Maple French Rolling Pin                                                                                     178\n",
       "Fox Run Silicone Baking Mat, 11-3/4 by 16-Inch                                                                                    170\n",
       "OXO Good Grips Cherry Pitter, Black                                                                                               158\n",
       "Thermos Stainless-Steel Vacuum Insulated Bottle                                                                                   157\n",
       "DreamFoam Bedding 8-Inch Memory Foam Bed, Queen                                                                                   143\n",
       "CIA 23304 Masters Collection 12 Inch x 17 Inch Wire Cooling Rack, Chrome Plate Steel                                              140\n",
       "OXO Good Grips Flexible Vegetable Brush                                                                                           139\n",
       "MIU France Stainless Steel Magnetic Knife Bar, 20-Inch                                                                            136\n",
       "Baker's Edge Nonstick Edge Brownie Pan                                                                                            136\n",
       "WMF Manaos / Bistro Iced Tea Spoon, Set of 4                                                                                      135\n",
       "USA Pans 13 x 4 x 4 Inch Pullman, Aluminized Steel with Americoat                                                                 133\n",
       "Newpoint Home Deluxe 250-Thread-Count Cotton Damask Stripe Queen Mattress Pad                                                     130\n",
       "OXO Good Grips 4-Cup Fat Separator                                                                                                125\n",
       "Circulon Symmetry Hard Anodized Nonstick 11-Piece Cookware Set                                                                    125\n",
       "Progressive International Stainless-Steel Magnetic Measuring Spoons, Set of 5                                                     123\n",
       "Silpat Non-Stick Baking Mat, 11 5/8 x 16 1/2-inches, Half Sheet Size                                                              122\n",
       "KitchenAid Stand Mixer Cover, Onyx Black                                                                                          119\n",
       "OXO Good Grips Clean Cut Pizza Wheel                                                                                              119\n",
       "                                                                                                                                 ... \n",
       "Oster 5965 1-1/2-Liter Electric Water Kettle, Stainless Steel                                                                       1\n",
       "Westpointe Electrical Co Wp 4&quot; Hi Velocity Fan 1002 Personal Fan                                                               1\n",
       "Moen SR2201BN Shower Ring, Brushed Nickel                                                                                           1\n",
       "Ninja Master Prep (QB1000)                                                                                                          1\n",
       "Victorinox Cutlery 8-Inch Wavy Edge Bread Knife, Black Fibrox Handle                                                                1\n",
       "Progressive International 9 Inch Silicone Gripper Tongs,(green)                                                                     1\n",
       "Progressive International GT-3470 Magnetic Measuring Spoons                                                                         1\n",
       "simplehuman Custom Fit Trash Can Liner J, 30-40 Liters / 8-10.5 Gallons, 50-Count                                                   1\n",
       "Whitmor 6044-13-CTF White Crystal Collection Over-The-Door Shoe Organizer,  Clear                                                   1\n",
       "Pinzon Basics Body Pillow with Cover                                                                                                1\n",
       "Ninja Kitchen System Pulse (BL204)                                                                                                  1\n",
       "Microplane 38004 Professional Fine Spice Grater                                                                                     1\n",
       "Jaccard Simply Better Meat Tenderizer Knife 45 Blade Stainless Steel Md: 200345NS                                                   1\n",
       "Cuisinart FP2-24BK Frittata 10-Inch Nonstick Pan Set                                                                                1\n",
       "Mr. Beer Classic American Light Refill Brew Pack                                                                                    1\n",
       "Omega VRT330 Dual-Stage Vertical Single-Auger Low-Speed Juicer, White                                                               1\n",
       "Farberware Classic 2-Qt. Covered Double Boiler                                                                                      1\n",
       "Waring Pro WTO450 Professional Toaster Oven, Brushed Stainless Steel                                                                1\n",
       "Keurig Vue Cup Storage Drawer Holder for 25 Vue Pods Packs by DecoBros&reg;                                                         1\n",
       "George Foreman GRP90WGR Next Grilleration Electric Nonstick Grill with 5 Removable Plates                                           1\n",
       "SINGER SteamWorks Pro 1500 Watt Garment &amp; Fabric Steamer with 90 Minutes of Continuous Steam                                    1\n",
       "Tortilla Warmer 12&quot; - Insulated Fabric Pouch by Camerons - Keeps warm for one hour after just 45 microwave seconds (Lady)      1\n",
       "Le Creuset Silicone 8&quot; Round French Trivet, White                                                                              1\n",
       "ChicoBag Produce Stand rePETe Mesh 3 Pack (Recycled PET) Reusable Produce Bags (Set of 3)                                           1\n",
       "Polder Single Tear Paper Towel Holder, Brushed Stainless Steel with Black                                                           1\n",
       "Lodge Original Finish 12-Inch Cast Iron Skillet                                                                                     1\n",
       "Jumbl 1500-Watt Hand-Held Garment Steamer with Travel Pouch and Accessories                                                         1\n",
       "Beyond Down Gel Fiber Side Sleeper Pillow, King                                                                                     1\n",
       "Sleep Better Ultimate Memory Foam Twin Mattress Topper with Velour Cover                                                            1\n",
       "Frigidaire FRA054XT7 5,000 BTU Window-Mounted Mini Room Air Conditioner                                                             1\n",
       "Length: 1491, dtype: int64"
      ]
     },
     "execution_count": 161,
     "metadata": {},
     "output_type": "execute_result"
    }
   ],
   "source": [
    "pd.Series(all_recommendations).value_counts()"
   ]
  },
  {
   "cell_type": "code",
   "execution_count": null,
   "metadata": {},
   "outputs": [],
   "source": []
  },
  {
   "cell_type": "code",
   "execution_count": 144,
   "metadata": {},
   "outputs": [
    {
     "name": "stdout",
     "output_type": "stream",
     "text": [
      "0\n",
      "1000\n",
      "End\n"
     ]
    }
   ],
   "source": [
    "#compare against uucf/iicf\n",
    "\n",
    "all_recommendations = []\n",
    "\n",
    "for i, user in enumerate(reviews20_2014['reviewerID'].unique()):\n",
    "    \n",
    "    if i % 1000 == 0:\n",
    "        print(i)\n",
    "    \n",
    "    recommendation = generate_recommendations(user, \n",
    "                                              uucf_k3_predicted_ratings_matrix,\n",
    "                                              n_recommended_items=10,\n",
    "                                              return_recommendations_only=True, \n",
    "                                              print_results=False)\n",
    "    \n",
    "    all_recommendations += recommendation\n",
    "\n",
    "print('End')"
   ]
  },
  {
   "cell_type": "code",
   "execution_count": 145,
   "metadata": {
    "scrolled": true
   },
   "outputs": [
    {
     "data": {
      "text/plain": [
       "Miracle Blade III Perfection Series 11-Piece Cutlery Set                                                         363\n",
       "Bormioli Rocco Quattro Stagioni Dipping Bowls, Set of 6, Gift Boxed                                              362\n",
       "Rada Cutlery R129 Chef's Dicer with Aluminum Handle                                                              362\n",
       "Sun's Tea (TM) 20oz Strong Double Wall Thermo Glasses/Tumbler for Beer/Cocktail/Lemonade/Iced Tea, Set of 2      351\n",
       "Replacement Filters for Aeropress (350 pk)                                                                       342\n",
       "Farberware Classic Stainless Steel 8-Inch and 10-Inch Skillet Twin Pack                                          301\n",
       "Martex Bath Towels, White, 6-Pack                                                                                293\n",
       "Whitmor 6070-267 Supreme 5-Tier Shelving Unit, Black                                                             257\n",
       "Norpro Coffee Grinder                                                                                            250\n",
       "Oster BRLY07-B 7-Speed Fusion Blender, Black                                                                     229\n",
       "Hamilton Beach 70450 8-Cup Food Processor                                                                        199\n",
       "Sleep Joy 3&quot; ViscO2 Ventilated Memory Foam Mattress Topper, Twin                                            176\n",
       "Command Medium Picture-Hanging Strips, 6-Picture                                                                 107\n",
       "Holmes Heater Fan with 1Touch Control and ALCI Safe Plug, HFH442-UM                                               63\n",
       "Wilton 6-Cavity Silicone Heart Mold Pan                                                                           47\n",
       "Wilton 570-1121 Easy Flex 3-Piece Silicone Spatula Set, Blue                                                      47\n",
       "Coaster Occasional Sofa Table, Brown                                                                              43\n",
       "EatSmart Precision Pro Digital Kitchen Scale, Silver                                                              42\n",
       "Sleep Joy 2&quot; ViscO2 Ventilated Memory Foam Mattress Topper, Full                                             41\n",
       "Lodge L8SK3 Pre-Seasoned Cast-Iron Skillet, 10.25-inch                                                            38\n",
       "Spectrum Wall-Mountable Black Scroll Spice Rack                                                                   38\n",
       "Zojirushi NP-HBC18 10-Cup (Uncooked) Rice Cooker and Warmer with Induction Heating System, Stainless Steel        36\n",
       "Zojirushi NP-HBC10 5-1/2-Cup (Uncooked) Rice Cooker and Warmer with Induction Heating System, Stainless Steel     33\n",
       "Zojirushi CV-DSC40 VE Hybrid Water Boiler and Warmer, Stainless Steel                                             33\n",
       "Zojirushi NS-TGC10 Micom 5-1/2-Cup Rice Cooker and Warmer, Stainless Steel                                        33\n",
       "OXO Good Grips 2-Cup Angled Measuring Cup                                                                         32\n",
       "OXO Good Grips Silicone Steamer, Green                                                                            32\n",
       "Cuisinart GR-4N 5-in-1 Griddler                                                                                   32\n",
       "Microplane 40020 Classic Zester/Grater                                                                            30\n",
       "OXO Good Grips Large Cookie Scoop                                                                                 30\n",
       "                                                                                                                ... \n",
       "Bodum Chambord 4 Cup French Press Coffee Maker, 17-Ounce, Chrome                                                   1\n",
       "Oneida Tuscany 20-Piece Flatware Set, Service for 4                                                                1\n",
       "Sunbeam MSU1GFS-N000-11A00 Heated Mattress Pad, Full                                                               1\n",
       "Popular Bath Zambia Shower Curtain                                                                                 1\n",
       "Ozeri Extravo Electric Wine Opener in Stainless Steel with Auto Activation (Button-Free Operation)                 1\n",
       "OXO Good Grips Shower Stall Drain Protector                                                                        1\n",
       "Organized Living Kitchen Wrap Organizer, White                                                                     1\n",
       "DeBuyer Mineral B Element Iron Frypan, 7.9-Inch Round                                                              1\n",
       "Norpro 5 1/2-Inch Stainless Steel Funnel with Detachable Strainer                                                  1\n",
       "William Bounds Key Mill &quot;WB-1&quot; Pepper Mill                                                               1\n",
       "Metal Wine Cork Holder, Grape Design, Black (Glass)                                                                1\n",
       "Corelle Pretty Pink Square 16-Piece Dinnerware Set, Service for 4                                                  1\n",
       "South Shore Axess Collection 3-Shelf Bookcase, Chocolate                                                           1\n",
       "Nordic Ware Platinum Collection Original Bundt Pan, 12 Cup                                                         1\n",
       "Reusable Grocery Tote Bag Large 10 Pack                                                                            1\n",
       "Highwave MoJOEmo                                                                                                   1\n",
       "Poo~Pourri Before-You-Go Toilet Spray 8-Ounce Bottle, Original                                                     1\n",
       "Ozeri Brezza II Dual Oscillating 10&quot; High Velocity Desk Fan                                                   1\n",
       "KitchenAid Gourmet Hard Anodized Nonstick 10-Piece Cookware Set                                                    1\n",
       "Cuisinart AMB-9SP 9-Inch Chef's Classic Nonstick Bakeware Springform Pan, Silver                                   1\n",
       "Rancilio HSD-SILVIA Silvia Espresso Machine                                                                        1\n",
       "KitchenAid 11-Wire Whip                                                                                            1\n",
       "Closet Accessories 24 Tie Hardwood Hanger                                                                          1\n",
       "OXO Good Grips Soap Dispensing Dish Brush                                                                          1\n",
       "Rachael Ray Tools 2-Piece Lazy Spoon &amp; Lazy Ladle Set, Blue                                                    1\n",
       "Farberware Classic Stainless Steel 15-Piece Cookware Set                                                           1\n",
       "Max Burton 6200 Deluxe 1800-Watt Induction Cooktop                                                                 1\n",
       "Fit &amp; Fresh Downtown Insulated Designer Lunch Bag, Zebra, 9x6x8 Inches                                         1\n",
       "Lodge 2HHMC2 Hot Handle Holders/Mitts, multi-color Peppers, Set of 2                                               1\n",
       "Cuisinart DCC-2650 Brew Central 12-Cup Programmable Coffeemaker                                                    1\n",
       "Length: 3672, dtype: int64"
      ]
     },
     "execution_count": 145,
     "metadata": {},
     "output_type": "execute_result"
    }
   ],
   "source": [
    "pd.Series(all_recommendations).value_counts()"
   ]
  },
  {
   "cell_type": "code",
   "execution_count": 146,
   "metadata": {},
   "outputs": [],
   "source": [
    "# what are the most popular items and most highly rated\n",
    "most_popular = (pd.DataFrame(reviews20_pre2014['asin'].value_counts()[:20])\n",
    "                                              .reset_index()\n",
    "                                              .rename(columns={'index':'asin', 'asin': 'count'}))"
   ]
  },
  {
   "cell_type": "code",
   "execution_count": 147,
   "metadata": {},
   "outputs": [],
   "source": [
    "most_popular['product_title'] = most_popular['asin'].apply(lambda x: product_lookup[x])"
   ]
  },
  {
   "cell_type": "code",
   "execution_count": 148,
   "metadata": {
    "scrolled": true
   },
   "outputs": [
    {
     "data": {
      "text/html": [
       "<div>\n",
       "<style scoped>\n",
       "    .dataframe tbody tr th:only-of-type {\n",
       "        vertical-align: middle;\n",
       "    }\n",
       "\n",
       "    .dataframe tbody tr th {\n",
       "        vertical-align: top;\n",
       "    }\n",
       "\n",
       "    .dataframe thead th {\n",
       "        text-align: right;\n",
       "    }\n",
       "</style>\n",
       "<table border=\"1\" class=\"dataframe\">\n",
       "  <thead>\n",
       "    <tr style=\"text-align: right;\">\n",
       "      <th></th>\n",
       "      <th>asin</th>\n",
       "      <th>count</th>\n",
       "      <th>product_title</th>\n",
       "    </tr>\n",
       "  </thead>\n",
       "  <tbody>\n",
       "    <tr>\n",
       "      <th>0</th>\n",
       "      <td>B00004OCO9</td>\n",
       "      <td>201</td>\n",
       "      <td>Oxo Good Grips Measuring Cup Set, Stainless St...</td>\n",
       "    </tr>\n",
       "    <tr>\n",
       "      <th>1</th>\n",
       "      <td>B005M8HPPS</td>\n",
       "      <td>131</td>\n",
       "      <td>Primula Double Wall Glass Mug with Tea Bag Buddy</td>\n",
       "    </tr>\n",
       "    <tr>\n",
       "      <th>2</th>\n",
       "      <td>B00006JSUA</td>\n",
       "      <td>128</td>\n",
       "      <td>Lodge L8SK3 Pre-Seasoned Cast-Iron Skillet, 10...</td>\n",
       "    </tr>\n",
       "    <tr>\n",
       "      <th>3</th>\n",
       "      <td>B005LCT5I0</td>\n",
       "      <td>101</td>\n",
       "      <td>OXO Good Grips Ratcheting Pineapple Slicer</td>\n",
       "    </tr>\n",
       "    <tr>\n",
       "      <th>4</th>\n",
       "      <td>B00005B8K5</td>\n",
       "      <td>89</td>\n",
       "      <td>Pyrex Storage 10-Piece Set, Clear with Blue Lids</td>\n",
       "    </tr>\n",
       "    <tr>\n",
       "      <th>5</th>\n",
       "      <td>B001N07KUE</td>\n",
       "      <td>77</td>\n",
       "      <td>EatSmart Precision Pro Digital Kitchen Scale, ...</td>\n",
       "    </tr>\n",
       "    <tr>\n",
       "      <th>6</th>\n",
       "      <td>B006C9TPKO</td>\n",
       "      <td>75</td>\n",
       "      <td>Primula 6-Cup Tempo Coffee Press, Black</td>\n",
       "    </tr>\n",
       "    <tr>\n",
       "      <th>7</th>\n",
       "      <td>B00004OCKR</td>\n",
       "      <td>73</td>\n",
       "      <td>OXO Good Grips  Salad Spinner</td>\n",
       "    </tr>\n",
       "    <tr>\n",
       "      <th>8</th>\n",
       "      <td>B005JAIHNI</td>\n",
       "      <td>73</td>\n",
       "      <td>T-fal Prima FV3756 Non-stick PTFE soleplate, A...</td>\n",
       "    </tr>\n",
       "    <tr>\n",
       "      <th>9</th>\n",
       "      <td>B0007VO0CQ</td>\n",
       "      <td>71</td>\n",
       "      <td>OXO Good Grips Box Grater</td>\n",
       "    </tr>\n",
       "    <tr>\n",
       "      <th>10</th>\n",
       "      <td>B002YD99Y4</td>\n",
       "      <td>69</td>\n",
       "      <td>Cuisinart GR-4N 5-in-1 Griddler</td>\n",
       "    </tr>\n",
       "    <tr>\n",
       "      <th>11</th>\n",
       "      <td>B0000CFMZN</td>\n",
       "      <td>66</td>\n",
       "      <td>Pyrex Prepware 1-Cup Measuring Cup, Clear with...</td>\n",
       "    </tr>\n",
       "    <tr>\n",
       "      <th>12</th>\n",
       "      <td>B00004SPZV</td>\n",
       "      <td>64</td>\n",
       "      <td>Misto Brushed Aluminum Olive Oil Sprayer</td>\n",
       "    </tr>\n",
       "    <tr>\n",
       "      <th>13</th>\n",
       "      <td>B00004S7V8</td>\n",
       "      <td>63</td>\n",
       "      <td>Microplane 40020 Classic Zester/Grater</td>\n",
       "    </tr>\n",
       "    <tr>\n",
       "      <th>14</th>\n",
       "      <td>B00006IUWA</td>\n",
       "      <td>62</td>\n",
       "      <td>Presto 04820 PopLite Hot Air Popper, White</td>\n",
       "    </tr>\n",
       "    <tr>\n",
       "      <th>15</th>\n",
       "      <td>B007M6GM1Q</td>\n",
       "      <td>60</td>\n",
       "      <td>Pinzon 700-Gram Hotel Stitch Washcloth 2-Pack,...</td>\n",
       "    </tr>\n",
       "    <tr>\n",
       "      <th>16</th>\n",
       "      <td>B000N4WMUE</td>\n",
       "      <td>60</td>\n",
       "      <td>Lodge Color EC3D43 Enameled Cast Iron Dutch Ov...</td>\n",
       "    </tr>\n",
       "    <tr>\n",
       "      <th>17</th>\n",
       "      <td>B00608YG7E</td>\n",
       "      <td>58</td>\n",
       "      <td>Lamma Loe Supreme 1500 Series 4pc Bed Sheet Se...</td>\n",
       "    </tr>\n",
       "    <tr>\n",
       "      <th>18</th>\n",
       "      <td>B0071NI8XK</td>\n",
       "      <td>58</td>\n",
       "      <td>Kuhn Rikon Kochblume Spill Stopper, Large, 12-...</td>\n",
       "    </tr>\n",
       "    <tr>\n",
       "      <th>19</th>\n",
       "      <td>B007OTF8O8</td>\n",
       "      <td>58</td>\n",
       "      <td>Kuhn Rikon Silicone Splatter Guard, 1 Each, 10...</td>\n",
       "    </tr>\n",
       "  </tbody>\n",
       "</table>\n",
       "</div>"
      ],
      "text/plain": [
       "          asin  count                                      product_title\n",
       "0   B00004OCO9    201  Oxo Good Grips Measuring Cup Set, Stainless St...\n",
       "1   B005M8HPPS    131   Primula Double Wall Glass Mug with Tea Bag Buddy\n",
       "2   B00006JSUA    128  Lodge L8SK3 Pre-Seasoned Cast-Iron Skillet, 10...\n",
       "3   B005LCT5I0    101         OXO Good Grips Ratcheting Pineapple Slicer\n",
       "4   B00005B8K5     89   Pyrex Storage 10-Piece Set, Clear with Blue Lids\n",
       "5   B001N07KUE     77  EatSmart Precision Pro Digital Kitchen Scale, ...\n",
       "6   B006C9TPKO     75            Primula 6-Cup Tempo Coffee Press, Black\n",
       "7   B00004OCKR     73                      OXO Good Grips  Salad Spinner\n",
       "8   B005JAIHNI     73  T-fal Prima FV3756 Non-stick PTFE soleplate, A...\n",
       "9   B0007VO0CQ     71                          OXO Good Grips Box Grater\n",
       "10  B002YD99Y4     69                    Cuisinart GR-4N 5-in-1 Griddler\n",
       "11  B0000CFMZN     66  Pyrex Prepware 1-Cup Measuring Cup, Clear with...\n",
       "12  B00004SPZV     64           Misto Brushed Aluminum Olive Oil Sprayer\n",
       "13  B00004S7V8     63             Microplane 40020 Classic Zester/Grater\n",
       "14  B00006IUWA     62         Presto 04820 PopLite Hot Air Popper, White\n",
       "15  B007M6GM1Q     60  Pinzon 700-Gram Hotel Stitch Washcloth 2-Pack,...\n",
       "16  B000N4WMUE     60  Lodge Color EC3D43 Enameled Cast Iron Dutch Ov...\n",
       "17  B00608YG7E     58  Lamma Loe Supreme 1500 Series 4pc Bed Sheet Se...\n",
       "18  B0071NI8XK     58  Kuhn Rikon Kochblume Spill Stopper, Large, 12-...\n",
       "19  B007OTF8O8     58  Kuhn Rikon Silicone Splatter Guard, 1 Each, 10..."
      ]
     },
     "execution_count": 148,
     "metadata": {},
     "output_type": "execute_result"
    }
   ],
   "source": [
    "most_popular"
   ]
  },
  {
   "cell_type": "code",
   "execution_count": 149,
   "metadata": {},
   "outputs": [],
   "source": [
    "best_rated = (reviews20.groupby('productTitle')\n",
    "                       .agg(['mean','count'])['overall']\n",
    "                       .sort_values(by=['mean', 'count'], ascending=[False, False]))"
   ]
  },
  {
   "cell_type": "code",
   "execution_count": 150,
   "metadata": {},
   "outputs": [
    {
     "data": {
      "text/html": [
       "<div>\n",
       "<style scoped>\n",
       "    .dataframe tbody tr th:only-of-type {\n",
       "        vertical-align: middle;\n",
       "    }\n",
       "\n",
       "    .dataframe tbody tr th {\n",
       "        vertical-align: top;\n",
       "    }\n",
       "\n",
       "    .dataframe thead th {\n",
       "        text-align: right;\n",
       "    }\n",
       "</style>\n",
       "<table border=\"1\" class=\"dataframe\">\n",
       "  <thead>\n",
       "    <tr style=\"text-align: right;\">\n",
       "      <th></th>\n",
       "      <th>mean</th>\n",
       "      <th>count</th>\n",
       "    </tr>\n",
       "    <tr>\n",
       "      <th>productTitle</th>\n",
       "      <th></th>\n",
       "      <th></th>\n",
       "    </tr>\n",
       "  </thead>\n",
       "  <tbody>\n",
       "    <tr>\n",
       "      <th>OXO Good Grips Solid Stainless Steel Ice Cream Scoop</th>\n",
       "      <td>5.000000</td>\n",
       "      <td>19</td>\n",
       "    </tr>\n",
       "    <tr>\n",
       "      <th>Kitchenaid Pasta Roller Attachment</th>\n",
       "      <td>4.916667</td>\n",
       "      <td>24</td>\n",
       "    </tr>\n",
       "    <tr>\n",
       "      <th>OXO Good Grips Stainless Steel Over-The-Door Hook</th>\n",
       "      <td>4.914286</td>\n",
       "      <td>35</td>\n",
       "    </tr>\n",
       "    <tr>\n",
       "      <th>Kuhn Rikon 2710 Ultimate Shears, Black</th>\n",
       "      <td>4.909091</td>\n",
       "      <td>11</td>\n",
       "    </tr>\n",
       "    <tr>\n",
       "      <th>Victorinox 47547 10-1/4-Inch Wavy Bread Knife, Black Fibrox Handle</th>\n",
       "      <td>4.906250</td>\n",
       "      <td>32</td>\n",
       "    </tr>\n",
       "    <tr>\n",
       "      <th>OXO Good Grips Lua Pepper Mill</th>\n",
       "      <td>4.800000</td>\n",
       "      <td>45</td>\n",
       "    </tr>\n",
       "  </tbody>\n",
       "</table>\n",
       "</div>"
      ],
      "text/plain": [
       "                                                        mean  count\n",
       "productTitle                                                       \n",
       "OXO Good Grips Solid Stainless Steel Ice Cream ...  5.000000     19\n",
       "Kitchenaid Pasta Roller Attachment                  4.916667     24\n",
       "OXO Good Grips Stainless Steel Over-The-Door Hook   4.914286     35\n",
       "Kuhn Rikon 2710 Ultimate Shears, Black              4.909091     11\n",
       "Victorinox 47547 10-1/4-Inch Wavy Bread Knife, ...  4.906250     32\n",
       "OXO Good Grips Lua Pepper Mill                      4.800000     45"
      ]
     },
     "execution_count": 150,
     "metadata": {},
     "output_type": "execute_result"
    }
   ],
   "source": [
    "best_rated[best_rated.index.isin(['Victorinox 47547 10-1/4-Inch Wavy Bread Knife, Black Fibrox Handle', \n",
    "                                  'OXO Good Grips Stainless Steel Over-The-Door Hook',\n",
    "                                  'OXO Good Grips Lua Pepper Mill',\n",
    "                                  'OXO Good Grips Solid Stainless Steel Ice Cream Scoop',\n",
    "                                  'Kuhn Rikon 2710 Ultimate Shears, Black',\n",
    "                                  'Kitchenaid Pasta Roller Attachment'])]"
   ]
  },
  {
   "cell_type": "code",
   "execution_count": 151,
   "metadata": {},
   "outputs": [],
   "source": [
    "# check for the other svds, does it also have the same problem?"
   ]
  },
  {
   "cell_type": "code",
   "execution_count": null,
   "metadata": {},
   "outputs": [],
   "source": []
  },
  {
   "cell_type": "code",
   "execution_count": 261,
   "metadata": {},
   "outputs": [],
   "source": [
    "item_counts = reviews20_pre2014['asin'].value_counts().reset_index()\n",
    "item_counts['title'] = item_counts['index'].apply(lambda x: product_lookup[x])"
   ]
  },
  {
   "cell_type": "code",
   "execution_count": 263,
   "metadata": {},
   "outputs": [
    {
     "data": {
      "text/plain": [
       "(44965, 3)"
      ]
     },
     "execution_count": 263,
     "metadata": {},
     "output_type": "execute_result"
    }
   ],
   "source": [
    "reviews20_pre2014.shape"
   ]
  },
  {
   "cell_type": "code",
   "execution_count": 262,
   "metadata": {
    "scrolled": true
   },
   "outputs": [
    {
     "data": {
      "text/html": [
       "<div>\n",
       "<style scoped>\n",
       "    .dataframe tbody tr th:only-of-type {\n",
       "        vertical-align: middle;\n",
       "    }\n",
       "\n",
       "    .dataframe tbody tr th {\n",
       "        vertical-align: top;\n",
       "    }\n",
       "\n",
       "    .dataframe thead th {\n",
       "        text-align: right;\n",
       "    }\n",
       "</style>\n",
       "<table border=\"1\" class=\"dataframe\">\n",
       "  <thead>\n",
       "    <tr style=\"text-align: right;\">\n",
       "      <th></th>\n",
       "      <th>index</th>\n",
       "      <th>asin</th>\n",
       "      <th>title</th>\n",
       "    </tr>\n",
       "  </thead>\n",
       "  <tbody>\n",
       "    <tr>\n",
       "      <th>0</th>\n",
       "      <td>B00004OCO9</td>\n",
       "      <td>201</td>\n",
       "      <td>Oxo Good Grips Measuring Cup Set, Stainless St...</td>\n",
       "    </tr>\n",
       "    <tr>\n",
       "      <th>1</th>\n",
       "      <td>B005M8HPPS</td>\n",
       "      <td>131</td>\n",
       "      <td>Primula Double Wall Glass Mug with Tea Bag Buddy</td>\n",
       "    </tr>\n",
       "    <tr>\n",
       "      <th>2</th>\n",
       "      <td>B00006JSUA</td>\n",
       "      <td>128</td>\n",
       "      <td>Lodge L8SK3 Pre-Seasoned Cast-Iron Skillet, 10...</td>\n",
       "    </tr>\n",
       "    <tr>\n",
       "      <th>3</th>\n",
       "      <td>B005LCT5I0</td>\n",
       "      <td>101</td>\n",
       "      <td>OXO Good Grips Ratcheting Pineapple Slicer</td>\n",
       "    </tr>\n",
       "    <tr>\n",
       "      <th>4</th>\n",
       "      <td>B00005B8K5</td>\n",
       "      <td>89</td>\n",
       "      <td>Pyrex Storage 10-Piece Set, Clear with Blue Lids</td>\n",
       "    </tr>\n",
       "    <tr>\n",
       "      <th>5</th>\n",
       "      <td>B001N07KUE</td>\n",
       "      <td>77</td>\n",
       "      <td>EatSmart Precision Pro Digital Kitchen Scale, ...</td>\n",
       "    </tr>\n",
       "    <tr>\n",
       "      <th>6</th>\n",
       "      <td>B006C9TPKO</td>\n",
       "      <td>75</td>\n",
       "      <td>Primula 6-Cup Tempo Coffee Press, Black</td>\n",
       "    </tr>\n",
       "    <tr>\n",
       "      <th>7</th>\n",
       "      <td>B00004OCKR</td>\n",
       "      <td>73</td>\n",
       "      <td>OXO Good Grips  Salad Spinner</td>\n",
       "    </tr>\n",
       "    <tr>\n",
       "      <th>8</th>\n",
       "      <td>B005JAIHNI</td>\n",
       "      <td>73</td>\n",
       "      <td>T-fal Prima FV3756 Non-stick PTFE soleplate, A...</td>\n",
       "    </tr>\n",
       "    <tr>\n",
       "      <th>9</th>\n",
       "      <td>B0007VO0CQ</td>\n",
       "      <td>71</td>\n",
       "      <td>OXO Good Grips Box Grater</td>\n",
       "    </tr>\n",
       "    <tr>\n",
       "      <th>10</th>\n",
       "      <td>B002YD99Y4</td>\n",
       "      <td>69</td>\n",
       "      <td>Cuisinart GR-4N 5-in-1 Griddler</td>\n",
       "    </tr>\n",
       "    <tr>\n",
       "      <th>11</th>\n",
       "      <td>B0000CFMZN</td>\n",
       "      <td>66</td>\n",
       "      <td>Pyrex Prepware 1-Cup Measuring Cup, Clear with...</td>\n",
       "    </tr>\n",
       "    <tr>\n",
       "      <th>12</th>\n",
       "      <td>B00004SPZV</td>\n",
       "      <td>64</td>\n",
       "      <td>Misto Brushed Aluminum Olive Oil Sprayer</td>\n",
       "    </tr>\n",
       "    <tr>\n",
       "      <th>13</th>\n",
       "      <td>B00004S7V8</td>\n",
       "      <td>63</td>\n",
       "      <td>Microplane 40020 Classic Zester/Grater</td>\n",
       "    </tr>\n",
       "    <tr>\n",
       "      <th>14</th>\n",
       "      <td>B00006IUWA</td>\n",
       "      <td>62</td>\n",
       "      <td>Presto 04820 PopLite Hot Air Popper, White</td>\n",
       "    </tr>\n",
       "    <tr>\n",
       "      <th>15</th>\n",
       "      <td>B007M6GM1Q</td>\n",
       "      <td>60</td>\n",
       "      <td>Pinzon 700-Gram Hotel Stitch Washcloth 2-Pack,...</td>\n",
       "    </tr>\n",
       "    <tr>\n",
       "      <th>16</th>\n",
       "      <td>B000N4WMUE</td>\n",
       "      <td>60</td>\n",
       "      <td>Lodge Color EC3D43 Enameled Cast Iron Dutch Ov...</td>\n",
       "    </tr>\n",
       "    <tr>\n",
       "      <th>17</th>\n",
       "      <td>B00608YG7E</td>\n",
       "      <td>58</td>\n",
       "      <td>Lamma Loe Supreme 1500 Series 4pc Bed Sheet Se...</td>\n",
       "    </tr>\n",
       "    <tr>\n",
       "      <th>18</th>\n",
       "      <td>B0071NI8XK</td>\n",
       "      <td>58</td>\n",
       "      <td>Kuhn Rikon Kochblume Spill Stopper, Large, 12-...</td>\n",
       "    </tr>\n",
       "    <tr>\n",
       "      <th>19</th>\n",
       "      <td>B007OTF8O8</td>\n",
       "      <td>58</td>\n",
       "      <td>Kuhn Rikon Silicone Splatter Guard, 1 Each, 10...</td>\n",
       "    </tr>\n",
       "    <tr>\n",
       "      <th>20</th>\n",
       "      <td>B000M3YGOQ</td>\n",
       "      <td>58</td>\n",
       "      <td>Command Medium Picture-Hanging Strips, 6-Picture</td>\n",
       "    </tr>\n",
       "    <tr>\n",
       "      <th>21</th>\n",
       "      <td>B0006HUYGM</td>\n",
       "      <td>58</td>\n",
       "      <td>Eureka EasyClean Corded Hand-Held Vacuum, 71B</td>\n",
       "    </tr>\n",
       "    <tr>\n",
       "      <th>22</th>\n",
       "      <td>B006HCWRLK</td>\n",
       "      <td>56</td>\n",
       "      <td>OXO Pop Cookie Medium Jar, 3-Quart</td>\n",
       "    </tr>\n",
       "    <tr>\n",
       "      <th>23</th>\n",
       "      <td>B00004SPEU</td>\n",
       "      <td>56</td>\n",
       "      <td>KRUPS F20342 Electric Spice and Coffee Grinder...</td>\n",
       "    </tr>\n",
       "    <tr>\n",
       "      <th>24</th>\n",
       "      <td>B0000CCY1C</td>\n",
       "      <td>56</td>\n",
       "      <td>OXO Good Grips Large Cookie Scoop</td>\n",
       "    </tr>\n",
       "    <tr>\n",
       "      <th>25</th>\n",
       "      <td>B004Y3I0MO</td>\n",
       "      <td>54</td>\n",
       "      <td>Collapsible Steamer Set 32oz -PDQ</td>\n",
       "    </tr>\n",
       "    <tr>\n",
       "      <th>26</th>\n",
       "      <td>B001L5TVGW</td>\n",
       "      <td>54</td>\n",
       "      <td>Breville BOV800XL Smart Oven 1800-Watt Convect...</td>\n",
       "    </tr>\n",
       "    <tr>\n",
       "      <th>27</th>\n",
       "      <td>B009XP92Z2</td>\n",
       "      <td>53</td>\n",
       "      <td>Big Boss Stainless Steel Reversible Grill, 150...</td>\n",
       "    </tr>\n",
       "    <tr>\n",
       "      <th>28</th>\n",
       "      <td>B000638D32</td>\n",
       "      <td>53</td>\n",
       "      <td>Victorinox Fibrox 8-Inch Chef's Knife 40520, 4...</td>\n",
       "    </tr>\n",
       "    <tr>\n",
       "      <th>29</th>\n",
       "      <td>B00004OCNJ</td>\n",
       "      <td>53</td>\n",
       "      <td>OXO Good Grips Multi-Purpose Pastry Scraper/Ch...</td>\n",
       "    </tr>\n",
       "    <tr>\n",
       "      <th>...</th>\n",
       "      <td>...</td>\n",
       "      <td>...</td>\n",
       "      <td>...</td>\n",
       "    </tr>\n",
       "    <tr>\n",
       "      <th>6382</th>\n",
       "      <td>B008F1BE3I</td>\n",
       "      <td>1</td>\n",
       "      <td>Set of 2 - Stainless Steel Bar Ice Scoop 6 oz.</td>\n",
       "    </tr>\n",
       "    <tr>\n",
       "      <th>6383</th>\n",
       "      <td>B000T8GOQW</td>\n",
       "      <td>1</td>\n",
       "      <td>RSVP Endurance Fryer's Friend</td>\n",
       "    </tr>\n",
       "    <tr>\n",
       "      <th>6384</th>\n",
       "      <td>B002IT6E9C</td>\n",
       "      <td>1</td>\n",
       "      <td>ClosetMaid 899600 6-Cube Stackable Laminate Or...</td>\n",
       "    </tr>\n",
       "    <tr>\n",
       "      <th>6385</th>\n",
       "      <td>B0019Y6GA4</td>\n",
       "      <td>1</td>\n",
       "      <td>Aroma ARC-928S 16-Cup Rice Cooker &amp;amp; Food S...</td>\n",
       "    </tr>\n",
       "    <tr>\n",
       "      <th>6386</th>\n",
       "      <td>B0009FHJUU</td>\n",
       "      <td>1</td>\n",
       "      <td>US Acrylic Lipstick Organizer with 24 Spaces</td>\n",
       "    </tr>\n",
       "    <tr>\n",
       "      <th>6387</th>\n",
       "      <td>B004NRP2SQ</td>\n",
       "      <td>1</td>\n",
       "      <td>simplehuman Adjustable Corner Shower Caddy, St...</td>\n",
       "    </tr>\n",
       "    <tr>\n",
       "      <th>6388</th>\n",
       "      <td>B007N4VGZO</td>\n",
       "      <td>1</td>\n",
       "      <td>Holmes Convertible Desk &amp;amp; Clip Fan, White ...</td>\n",
       "    </tr>\n",
       "    <tr>\n",
       "      <th>6389</th>\n",
       "      <td>B005OYE7HE</td>\n",
       "      <td>1</td>\n",
       "      <td>Hamilton Beach 7 Quart Stay Or Go Slow Cooker</td>\n",
       "    </tr>\n",
       "    <tr>\n",
       "      <th>6390</th>\n",
       "      <td>B003OCPYGQ</td>\n",
       "      <td>1</td>\n",
       "      <td>JS Sanders 1500 Series Microfiber Queen Bed Sh...</td>\n",
       "    </tr>\n",
       "    <tr>\n",
       "      <th>6391</th>\n",
       "      <td>B003IHU9VC</td>\n",
       "      <td>1</td>\n",
       "      <td>Sleep Better Ultimate Memory Foam Twin Mattres...</td>\n",
       "    </tr>\n",
       "    <tr>\n",
       "      <th>6392</th>\n",
       "      <td>B004K6SAOS</td>\n",
       "      <td>1</td>\n",
       "      <td>Japanese Vegetable Fruit Rice Wash Bowl #0800</td>\n",
       "    </tr>\n",
       "    <tr>\n",
       "      <th>6393</th>\n",
       "      <td>B001CDO6EU</td>\n",
       "      <td>1</td>\n",
       "      <td>Beer Bottle Cap Catcher - Stainless Steel</td>\n",
       "    </tr>\n",
       "    <tr>\n",
       "      <th>6394</th>\n",
       "      <td>B003TLU6RY</td>\n",
       "      <td>1</td>\n",
       "      <td>1000 Thread Count QUEEN Size 4pc Egyptian Bed ...</td>\n",
       "    </tr>\n",
       "    <tr>\n",
       "      <th>6395</th>\n",
       "      <td>B004C26ON4</td>\n",
       "      <td>1</td>\n",
       "      <td>Norpro 13-Inch Splatter Screen</td>\n",
       "    </tr>\n",
       "    <tr>\n",
       "      <th>6396</th>\n",
       "      <td>B0026RI0V6</td>\n",
       "      <td>1</td>\n",
       "      <td>InterDesign Mildew-Free EVA Shower Liner, 72 x...</td>\n",
       "    </tr>\n",
       "    <tr>\n",
       "      <th>6397</th>\n",
       "      <td>B000SP3IWY</td>\n",
       "      <td>1</td>\n",
       "      <td>Lynk Professional 430021 Roll-Out Lid/Tray Org...</td>\n",
       "    </tr>\n",
       "    <tr>\n",
       "      <th>6398</th>\n",
       "      <td>B000065UF2</td>\n",
       "      <td>1</td>\n",
       "      <td>West Bend 84716 Versatility 6-Quart Oval Slo-C...</td>\n",
       "    </tr>\n",
       "    <tr>\n",
       "      <th>6399</th>\n",
       "      <td>B0044AET5O</td>\n",
       "      <td>1</td>\n",
       "      <td>Barlow Bicast Hb Full/Queen Adaptable By Crown...</td>\n",
       "    </tr>\n",
       "    <tr>\n",
       "      <th>6400</th>\n",
       "      <td>B008RN54G2</td>\n",
       "      <td>1</td>\n",
       "      <td>World Map (Vintage Style) 36x24 Dry Mount Post...</td>\n",
       "    </tr>\n",
       "    <tr>\n",
       "      <th>6401</th>\n",
       "      <td>B002KQKXKY</td>\n",
       "      <td>1</td>\n",
       "      <td>4Rplanetbag **5-PACK** Penguin Large Reusable ...</td>\n",
       "    </tr>\n",
       "    <tr>\n",
       "      <th>6402</th>\n",
       "      <td>B000H8CPK8</td>\n",
       "      <td>1</td>\n",
       "      <td>Umbra Bask Shower Caddy</td>\n",
       "    </tr>\n",
       "    <tr>\n",
       "      <th>6403</th>\n",
       "      <td>B001PBABW0</td>\n",
       "      <td>1</td>\n",
       "      <td>Hoover Platinum Collection Carpet Cleaner with...</td>\n",
       "    </tr>\n",
       "    <tr>\n",
       "      <th>6404</th>\n",
       "      <td>B0000CCY18</td>\n",
       "      <td>1</td>\n",
       "      <td>OXO Good Grips Citrus Juicer</td>\n",
       "    </tr>\n",
       "    <tr>\n",
       "      <th>6405</th>\n",
       "      <td>B000I1UVX2</td>\n",
       "      <td>1</td>\n",
       "      <td>HIC Harold Import Eggsact Egg Timer</td>\n",
       "    </tr>\n",
       "    <tr>\n",
       "      <th>6406</th>\n",
       "      <td>B002RLDRI2</td>\n",
       "      <td>1</td>\n",
       "      <td>Genuine Eureka DCF-21 Filter 68931 - 1 filter</td>\n",
       "    </tr>\n",
       "    <tr>\n",
       "      <th>6407</th>\n",
       "      <td>B0029LHIKI</td>\n",
       "      <td>1</td>\n",
       "      <td>Carnation Home Fashions Super Clear 10-Gauge A...</td>\n",
       "    </tr>\n",
       "    <tr>\n",
       "      <th>6408</th>\n",
       "      <td>B003UI6NEG</td>\n",
       "      <td>1</td>\n",
       "      <td>Structures by Malouf&amp;reg; STEELOCK Super Duty ...</td>\n",
       "    </tr>\n",
       "    <tr>\n",
       "      <th>6409</th>\n",
       "      <td>B004CAIIMQ</td>\n",
       "      <td>1</td>\n",
       "      <td>simplehuman 8-Ounce Sensor Pump for Soap or Sa...</td>\n",
       "    </tr>\n",
       "    <tr>\n",
       "      <th>6410</th>\n",
       "      <td>B001928WRG</td>\n",
       "      <td>1</td>\n",
       "      <td>Home Square Euro Pillow - White</td>\n",
       "    </tr>\n",
       "    <tr>\n",
       "      <th>6411</th>\n",
       "      <td>B0000DJREU</td>\n",
       "      <td>1</td>\n",
       "      <td>Libbey Sociable All Purpose Wine Goblet, Set o...</td>\n",
       "    </tr>\n",
       "  </tbody>\n",
       "</table>\n",
       "<p>6412 rows × 3 columns</p>\n",
       "</div>"
      ],
      "text/plain": [
       "           index  asin                                              title\n",
       "0     B00004OCO9   201  Oxo Good Grips Measuring Cup Set, Stainless St...\n",
       "1     B005M8HPPS   131   Primula Double Wall Glass Mug with Tea Bag Buddy\n",
       "2     B00006JSUA   128  Lodge L8SK3 Pre-Seasoned Cast-Iron Skillet, 10...\n",
       "3     B005LCT5I0   101         OXO Good Grips Ratcheting Pineapple Slicer\n",
       "4     B00005B8K5    89   Pyrex Storage 10-Piece Set, Clear with Blue Lids\n",
       "5     B001N07KUE    77  EatSmart Precision Pro Digital Kitchen Scale, ...\n",
       "6     B006C9TPKO    75            Primula 6-Cup Tempo Coffee Press, Black\n",
       "7     B00004OCKR    73                      OXO Good Grips  Salad Spinner\n",
       "8     B005JAIHNI    73  T-fal Prima FV3756 Non-stick PTFE soleplate, A...\n",
       "9     B0007VO0CQ    71                          OXO Good Grips Box Grater\n",
       "10    B002YD99Y4    69                    Cuisinart GR-4N 5-in-1 Griddler\n",
       "11    B0000CFMZN    66  Pyrex Prepware 1-Cup Measuring Cup, Clear with...\n",
       "12    B00004SPZV    64           Misto Brushed Aluminum Olive Oil Sprayer\n",
       "13    B00004S7V8    63             Microplane 40020 Classic Zester/Grater\n",
       "14    B00006IUWA    62         Presto 04820 PopLite Hot Air Popper, White\n",
       "15    B007M6GM1Q    60  Pinzon 700-Gram Hotel Stitch Washcloth 2-Pack,...\n",
       "16    B000N4WMUE    60  Lodge Color EC3D43 Enameled Cast Iron Dutch Ov...\n",
       "17    B00608YG7E    58  Lamma Loe Supreme 1500 Series 4pc Bed Sheet Se...\n",
       "18    B0071NI8XK    58  Kuhn Rikon Kochblume Spill Stopper, Large, 12-...\n",
       "19    B007OTF8O8    58  Kuhn Rikon Silicone Splatter Guard, 1 Each, 10...\n",
       "20    B000M3YGOQ    58   Command Medium Picture-Hanging Strips, 6-Picture\n",
       "21    B0006HUYGM    58      Eureka EasyClean Corded Hand-Held Vacuum, 71B\n",
       "22    B006HCWRLK    56                 OXO Pop Cookie Medium Jar, 3-Quart\n",
       "23    B00004SPEU    56  KRUPS F20342 Electric Spice and Coffee Grinder...\n",
       "24    B0000CCY1C    56                  OXO Good Grips Large Cookie Scoop\n",
       "25    B004Y3I0MO    54                  Collapsible Steamer Set 32oz -PDQ\n",
       "26    B001L5TVGW    54  Breville BOV800XL Smart Oven 1800-Watt Convect...\n",
       "27    B009XP92Z2    53  Big Boss Stainless Steel Reversible Grill, 150...\n",
       "28    B000638D32    53  Victorinox Fibrox 8-Inch Chef's Knife 40520, 4...\n",
       "29    B00004OCNJ    53  OXO Good Grips Multi-Purpose Pastry Scraper/Ch...\n",
       "...          ...   ...                                                ...\n",
       "6382  B008F1BE3I     1     Set of 2 - Stainless Steel Bar Ice Scoop 6 oz.\n",
       "6383  B000T8GOQW     1                      RSVP Endurance Fryer's Friend\n",
       "6384  B002IT6E9C     1  ClosetMaid 899600 6-Cube Stackable Laminate Or...\n",
       "6385  B0019Y6GA4     1  Aroma ARC-928S 16-Cup Rice Cooker &amp; Food S...\n",
       "6386  B0009FHJUU     1       US Acrylic Lipstick Organizer with 24 Spaces\n",
       "6387  B004NRP2SQ     1  simplehuman Adjustable Corner Shower Caddy, St...\n",
       "6388  B007N4VGZO     1  Holmes Convertible Desk &amp; Clip Fan, White ...\n",
       "6389  B005OYE7HE     1      Hamilton Beach 7 Quart Stay Or Go Slow Cooker\n",
       "6390  B003OCPYGQ     1  JS Sanders 1500 Series Microfiber Queen Bed Sh...\n",
       "6391  B003IHU9VC     1  Sleep Better Ultimate Memory Foam Twin Mattres...\n",
       "6392  B004K6SAOS     1      Japanese Vegetable Fruit Rice Wash Bowl #0800\n",
       "6393  B001CDO6EU     1          Beer Bottle Cap Catcher - Stainless Steel\n",
       "6394  B003TLU6RY     1  1000 Thread Count QUEEN Size 4pc Egyptian Bed ...\n",
       "6395  B004C26ON4     1                     Norpro 13-Inch Splatter Screen\n",
       "6396  B0026RI0V6     1  InterDesign Mildew-Free EVA Shower Liner, 72 x...\n",
       "6397  B000SP3IWY     1  Lynk Professional 430021 Roll-Out Lid/Tray Org...\n",
       "6398  B000065UF2     1  West Bend 84716 Versatility 6-Quart Oval Slo-C...\n",
       "6399  B0044AET5O     1  Barlow Bicast Hb Full/Queen Adaptable By Crown...\n",
       "6400  B008RN54G2     1  World Map (Vintage Style) 36x24 Dry Mount Post...\n",
       "6401  B002KQKXKY     1  4Rplanetbag **5-PACK** Penguin Large Reusable ...\n",
       "6402  B000H8CPK8     1                            Umbra Bask Shower Caddy\n",
       "6403  B001PBABW0     1  Hoover Platinum Collection Carpet Cleaner with...\n",
       "6404  B0000CCY18     1                       OXO Good Grips Citrus Juicer\n",
       "6405  B000I1UVX2     1                HIC Harold Import Eggsact Egg Timer\n",
       "6406  B002RLDRI2     1      Genuine Eureka DCF-21 Filter 68931 - 1 filter\n",
       "6407  B0029LHIKI     1  Carnation Home Fashions Super Clear 10-Gauge A...\n",
       "6408  B003UI6NEG     1  Structures by Malouf&reg; STEELOCK Super Duty ...\n",
       "6409  B004CAIIMQ     1  simplehuman 8-Ounce Sensor Pump for Soap or Sa...\n",
       "6410  B001928WRG     1                    Home Square Euro Pillow - White\n",
       "6411  B0000DJREU     1  Libbey Sociable All Purpose Wine Goblet, Set o...\n",
       "\n",
       "[6412 rows x 3 columns]"
      ]
     },
     "execution_count": 262,
     "metadata": {},
     "output_type": "execute_result"
    }
   ],
   "source": [
    "item_counts"
   ]
  },
  {
   "cell_type": "markdown",
   "metadata": {},
   "source": [
    "# 18 Nov"
   ]
  },
  {
   "cell_type": "code",
   "execution_count": null,
   "metadata": {},
   "outputs": [],
   "source": [
    "# try jaccard similarity\n"
   ]
  },
  {
   "cell_type": "code",
   "execution_count": 244,
   "metadata": {
    "scrolled": true
   },
   "outputs": [
    {
     "name": "stderr",
     "output_type": "stream",
     "text": [
      "/usr/local/lib/python3.6/site-packages/sklearn/utils/validation.py:590: DataConversionWarning: Data with input dtype float64 was converted to bool by check_pairwise_arrays.\n",
      "  warnings.warn(msg, DataConversionWarning)\n"
     ]
    }
   ],
   "source": [
    "jaccard_sim = generate_similarity_matrix(user_utility_matrix, metric='jaccard')"
   ]
  },
  {
   "cell_type": "code",
   "execution_count": 245,
   "metadata": {},
   "outputs": [],
   "source": [
    "cosine_sim = generate_similarity_matrix(user_utility_matrix, metric='cosine')"
   ]
  },
  {
   "cell_type": "code",
   "execution_count": 252,
   "metadata": {},
   "outputs": [],
   "source": [
    "# filtering only 5 star ratings. did not work for jaccard\n",
    "def user_recommendation(user_id, k=3, n_recommendations=10, similarity_matrix=cosine_sim, \n",
    "                        return_recommendations_only=False, print_results=True):\n",
    "    \"\"\"\n",
    "    Most naive implementation: returns a list of products bought by k most similar users\n",
    "    \"\"\"\n",
    "    \n",
    "    k_similar_users = similarity_matrix[user_id].sort_values(ascending=False)[1:k+1].index\n",
    "    \n",
    "    recommended_products = set()\n",
    "    \n",
    "    for similar_user in k_similar_users:\n",
    "        similar_user_best_rated_products = set(reviews20_pre2014[(reviews20_pre2014['reviewerID']==similar_user) & \n",
    "                                                                 (reviews20_pre2014['overall']==5)]['asin'])\n",
    "        similar_user_best_rated_products = set([product_lookup[product_id] for product_id in similar_user_best_rated_products])\n",
    "        similar_user_best_rated_products -= user_products_train[user_id]\n",
    "\n",
    "        for product in similar_user_best_rated_products:\n",
    "            if len(recommended_products) < 10:\n",
    "                recommended_products.update({product})\n",
    "            else:\n",
    "                break\n",
    "    \n",
    "    user_purchase_history = user_products_train[user_id]\n",
    "    user_actual_purchase = user_products_test[user_id]\n",
    "    \n",
    "    \n",
    "    if print_results == True:\n",
    "        print(\"==== User's Purchase History ====\")\n",
    "        for item in user_purchase_history:\n",
    "            print(item)\n",
    "            \n",
    "        print(\"\\n==== User's Actual Purchase in 2014 ====\")\n",
    "        for item in user_actual_purchase:\n",
    "            print(item)  \n",
    "\n",
    "        print(\"\\n==== Recommended Products ====\")\n",
    "        for item in recommended_products:\n",
    "            print(item)      \n",
    "        \n",
    "        print(\"\\n==== Similarity Scores ====\")\n",
    "        print(similarity_matrix[user_id].sort_values(ascending=False)[1:k+1])\n",
    "    \n",
    "    if return_recommendations_only == True:\n",
    "        return recommended_products\n",
    "    else:\n",
    "        return recommended_products, user_purchase_history, user_actual_purchase"
   ]
  },
  {
   "cell_type": "code",
   "execution_count": 246,
   "metadata": {},
   "outputs": [],
   "source": [
    "def UU_jaccard_recommendation(user_id, k=3, n_recommendations=10, similarity_matrix=jaccard_sim, \n",
    "                        return_recommendations_only=False, print_results=True):\n",
    "    \"\"\"\n",
    "    Most naive implementation: returns a list of products bought by k most similar users\n",
    "    \"\"\"\n",
    "    \n",
    "    k_similar_users = similarity_matrix[user_id].sort_values(ascending=False)[1:k+1].index\n",
    "    \n",
    "    recommended_products = set()\n",
    "    \n",
    "    for similar_user in k_similar_users:\n",
    "        similar_user_best_rated_products = set(reviews20_pre2014[(reviews20_pre2014['reviewerID']==similar_user)]['asin'])\n",
    "        similar_user_best_rated_products = set([product_lookup[product_id] for product_id in similar_user_best_rated_products])\n",
    "        similar_user_best_rated_products -= user_products_train[user_id]\n",
    "\n",
    "        for product in similar_user_best_rated_products:\n",
    "            if len(recommended_products) < 10:\n",
    "                recommended_products.update({product})\n",
    "            else:\n",
    "                break\n",
    "    \n",
    "    user_purchase_history = user_products_train[user_id]\n",
    "    user_actual_purchase = user_products_test[user_id]\n",
    "    \n",
    "    \n",
    "    if print_results == True:\n",
    "        print(\"==== User's Purchase History ====\")\n",
    "        for item in user_purchase_history:\n",
    "            print(item)\n",
    "            \n",
    "        print(\"\\n==== User's Actual Purchase in 2014 ====\")\n",
    "        for item in user_actual_purchase:\n",
    "            print(item)  \n",
    "\n",
    "        print(\"\\n==== Recommended Products ====\")\n",
    "        for item in recommended_products:\n",
    "            print(item)      \n",
    "        \n",
    "        print(\"\\n==== Similarity Scores ====\")\n",
    "        print(similarity_matrix[user_id].sort_values(ascending=False)[1:k+1])\n",
    "    \n",
    "    if return_recommendations_only == True:\n",
    "        return recommended_products\n",
    "    else:\n",
    "        return recommended_products, user_purchase_history, user_actual_purchase"
   ]
  },
  {
   "cell_type": "code",
   "execution_count": 257,
   "metadata": {},
   "outputs": [
    {
     "name": "stdout",
     "output_type": "stream",
     "text": [
      "==== User's Purchase History ====\n",
      "Black &amp; Decker EHC650 2-Speed Food Chopper with 3-Cup Bowl\n",
      "Polder 210201 Deluxe Steel Bread Box, White\n",
      "Nesco Snackmaster Pro Food Dehydrator FD-75A\n",
      "Shark  Navigator  Vacuum\n",
      "Duracraft DWM250 2-1/2-Gallon Warm-Mist Humidifier\n",
      "Black &amp; Decker KEC600 Cordless Can Opener, White\n",
      "Nursery Easy Apply Wall Sticker Decorations - Parisian Spring Bird in Tree Silhouette\n",
      "Waring CTT200BK Professional Cool Touch 2-Slice Toaster, Black\n",
      "Waring Pro JEX328 Health Juice Extractor\n",
      "Capresso frothPRO\n",
      "KRUPS F20342 Electric Spice and Coffee Grinder with Stainless Steel Blades, Black\n",
      "\n",
      "==== User's Actual Purchase in 2014 ====\n",
      "American Weigh Scales Black Blade Digital Pocket Scale, BL-1KG-BLK 1000 by 0.1 G\n",
      "Crock-Pot SCR300SS 3-Quart Round Manual Slow Cooker, Stainless Steel\n",
      "Cuisinart 726-38H Chef's Classic Stainless 14-Inch Stir-Fry Pan with Helper Handle and Glass Cover\n",
      "Durable Deluxe Insulated Lunch Cooler Bag (Many Colors and Size Available) (12&quot;x10&quot;x8 1/2&quot;, Navy)\n",
      "Hamilton Beach TrueAir Room Odor Eliminator\n",
      "Anchor Hocking Monaco Cake Set with Ribbed Dome\n",
      "Shaw Living Penthouse Nylon 24-Inch by 40-Inch Bath Rug, Cocoa\n",
      "Hamilton Beach 70740 8-Cup Food Processor, Black\n",
      "Sunbeam FPSBSM2103 Heritage Series 350-Watt Stand Mixer, Silver\n",
      "Lasko 2521 Oscillating Stand Fan, 16-Inch\n",
      "Whitmor 6780-3139-WHT White Resin 20 Pair Shoe Rack\n",
      "\n",
      "==== Recommended Products ====\n",
      "KitchenAid FGA Food Grinder Attachment for Stand Mixers\n",
      "Lodge L8IC3 Cast Iron Lid, 10.25-inch\n",
      "Lodge L10SC3 Iron Cover, 12-inch\n",
      "Filtrete Water Pitcher WP02-WH-8, 8 Cup\n",
      "Joie Egg Yolky Egg Separator\n",
      "J.A. Henckels International Everedge 13-Piece Knife Set with Bonus Cheese Knife\n",
      "Black and Decker SL5470C Stainless Steel Slow Cooker\n",
      "Bonavita 1.7-Liter Variable Temperature Digital Electric Kettle\n",
      "Breadman BK1060S 2-Pound Professional Bread Maker with Collapsible Kneading Paddles and Automatic Fruit and Nut Dispenser\n",
      "Kuvings NS-950 Silent Upright Masticating Juicer\n",
      "\n",
      "==== Similarity Scores ====\n",
      "reviewerID\n",
      "A3KHILQ9RE1HJ2    0.090909\n",
      "A14JBDSWKPKTZA    0.090909\n",
      "A3PUI49ESEALDI    0.083333\n",
      "Name: A2D1PTMMCA93BV, dtype: float64\n"
     ]
    },
    {
     "data": {
      "text/plain": [
       "{'Black and Decker SL5470C Stainless Steel Slow Cooker',\n",
       " 'Bonavita 1.7-Liter Variable Temperature Digital Electric Kettle',\n",
       " 'Breadman BK1060S 2-Pound Professional Bread Maker with Collapsible Kneading Paddles and Automatic Fruit and Nut Dispenser',\n",
       " 'Filtrete Water Pitcher WP02-WH-8, 8 Cup',\n",
       " 'J.A. Henckels International Everedge 13-Piece Knife Set with Bonus Cheese Knife',\n",
       " 'Joie Egg Yolky Egg Separator',\n",
       " 'KitchenAid FGA Food Grinder Attachment for Stand Mixers',\n",
       " 'Kuvings NS-950 Silent Upright Masticating Juicer',\n",
       " 'Lodge L10SC3 Iron Cover, 12-inch',\n",
       " 'Lodge L8IC3 Cast Iron Lid, 10.25-inch'}"
      ]
     },
     "execution_count": 257,
     "metadata": {},
     "output_type": "execute_result"
    }
   ],
   "source": [
    "user_recommendation('A2D1PTMMCA93BV', k=3, similarity_matrix=jaccard_sim, return_recommendations_only=True)"
   ]
  },
  {
   "cell_type": "code",
   "execution_count": 251,
   "metadata": {
    "scrolled": true
   },
   "outputs": [
    {
     "name": "stdout",
     "output_type": "stream",
     "text": [
      "==== User's Purchase History ====\n",
      "Tea Beyond Heat resistant Glass Teapot Juliet, 20-Ounce\n",
      "Cuissential SlickBoil: Collapsible Silicone Tea Kettle (Red)\n",
      "Ice Ball Mold - Steal These MASSIVE Ice Ball Makers * 70% OFF TODAY ONLY! * Try DeluxIce &copy; The Biggest, FREE from All Chemicals, #1 Rated Ice Ball Maker. Made with Extra-Thick Silicone, It Does Not Leak. Make HUGE 2.5 Inch Ice Cube Sphere Balls at Your Next Party. Perfect in Whiskey, Scotch, Wine, or Any Beverage, These Molds Make Round Spheres That Melt Slower than Tray Cubes. Our Customers LOVE This Item, And We Back It With A LIFETIME REPLACEMENT GUARANTEE.... Or Your Money Back!\n",
      "\n",
      "==== User's Actual Purchase in 2014 ====\n",
      "Smart Weigh GEM20 High Precision Digital Milligram Scale 20 x 0.001g Ideal for Weighing Gems, Jewelry and other Precious Objects (Silver)\n",
      "Tea Beyond Teapot Fairy with Tea Warmer Cozy\n",
      "\n",
      "==== Recommended Products ====\n",
      "Bodum Electric Indoor Table Grill and Griddle, Black\n",
      "Smart Weigh CSB2KG Cuisine Digital Kitchen Scale with Removable Bowl, 2kg by 0.1g, Black\n",
      "Epica Powerful Stainless Steel Whisper-quiet Citrus Juicer- Extracts 18% More Mouthwatering Juice in 1/3rd the Time &amp; Rinses Clean in Just 10 Seconds-clog-free!\n",
      "Withings WiFi Body Scale, Black\n",
      "Chef's Star&reg; Manual Hand Crank Juicer - Single Auger Juice Press Ideal for Fruit, Vegetables, Wheat Grass - with Suction Base\n",
      "Rachael Ray Teakettles 1-1/2-Quart Whistling, Red\n",
      "OXO Good Grips Box Grater\n",
      "OXO SteeL Can Opener\n",
      "Tea Beyond Teapot Fairy with Tea Warmer Cozy\n",
      "Silicone Ice Ball Molds 2.5&quot; (Set of 2)\n",
      "\n",
      "==== Similarity Scores ====\n",
      "reviewerID\n",
      "ASKZO80Z1RKTR     0.333333\n",
      "AX05DBU8IRUWY     0.285714\n",
      "A36K2N527TXXJN    0.153846\n",
      "Name: A1S3C5OFU508P3, dtype: float64\n"
     ]
    },
    {
     "data": {
      "text/plain": [
       "{'Bodum Electric Indoor Table Grill and Griddle, Black',\n",
       " \"Chef's Star&reg; Manual Hand Crank Juicer - Single Auger Juice Press Ideal for Fruit, Vegetables, Wheat Grass - with Suction Base\",\n",
       " 'Epica Powerful Stainless Steel Whisper-quiet Citrus Juicer- Extracts 18% More Mouthwatering Juice in 1/3rd the Time &amp; Rinses Clean in Just 10 Seconds-clog-free!',\n",
       " 'OXO Good Grips Box Grater',\n",
       " 'OXO SteeL Can Opener',\n",
       " 'Rachael Ray Teakettles 1-1/2-Quart Whistling, Red',\n",
       " 'Silicone Ice Ball Molds 2.5&quot; (Set of 2)',\n",
       " 'Smart Weigh CSB2KG Cuisine Digital Kitchen Scale with Removable Bowl, 2kg by 0.1g, Black',\n",
       " 'Tea Beyond Teapot Fairy with Tea Warmer Cozy',\n",
       " 'Withings WiFi Body Scale, Black'}"
      ]
     },
     "execution_count": 251,
     "metadata": {},
     "output_type": "execute_result"
    }
   ],
   "source": [
    "UU_jaccard_recommendation('A1S3C5OFU508P3', k=3, similarity_matrix=jaccard_sim, return_recommendations_only=True)"
   ]
  },
  {
   "cell_type": "code",
   "execution_count": null,
   "metadata": {},
   "outputs": [],
   "source": [
    "print(len(reviews20_2014['reviewerID']))\n",
    "print(len(reviews20_2014['reviewerID'].unique()))"
   ]
  },
  {
   "cell_type": "code",
   "execution_count": null,
   "metadata": {},
   "outputs": [],
   "source": [
    "min_1_hit = 0\n",
    "hit_rates = []\n",
    "\n",
    "for user in reviews20_2014['reviewerID'].unique():\n",
    "    if model_evaluation_recall_scratch(user, similarity_matrix=jaccard_sim) > 0:\n",
    "        min_1_hit += 1\n",
    "        hit_rates.append(model_evaluation_recall_scratch(user, similarity_matrix=jaccard_sim))\n",
    "        #print(user, model_evaluation_recall(user))\n",
    "\n",
    "print('End')\n",
    "print('% of test with at least one item from recommended list: ', min_1_hit/len(reviews20_2014['reviewerID'].unique()))\n",
    "print('Avg hit rate: {} ± {}'.format(np.mean(hit_rates), np.std(hit_rates)))\n",
    "\n",
    "### Takes v long to run"
   ]
  },
  {
   "cell_type": "code",
   "execution_count": null,
   "metadata": {},
   "outputs": [],
   "source": [
    "reviews20_2014\n",
    "#44,965 to 52,626"
   ]
  },
  {
   "cell_type": "code",
   "execution_count": null,
   "metadata": {},
   "outputs": [],
   "source": [
    "#potentially for examples:\n",
    "# A26K3T6L5NYO7L\n",
    "# A2D1PTMMCA93BV"
   ]
  },
  {
   "cell_type": "code",
   "execution_count": null,
   "metadata": {
    "scrolled": false
   },
   "outputs": [],
   "source": [
    "rand_user = reviews20_2014.loc[np.random.randint(44965,52627),'reviewerID']\n",
    "print(rand_user)\n",
    "print_product_images(UU_jaccard_recommendation(rand_user, \n",
    "                                               k=3, similarity_matrix=jaccard_sim, \n",
    "                                               return_recommendations_only=True, print_results=True))"
   ]
  },
  {
   "cell_type": "code",
   "execution_count": null,
   "metadata": {},
   "outputs": [],
   "source": [
    "string='Set of 6 Assorted Furniture Repair Markers Stain Scratch Floor Pens'\n",
    "reviews20[reviews20['productTitle']==string]['asin'].unique()"
   ]
  },
  {
   "cell_type": "code",
   "execution_count": null,
   "metadata": {},
   "outputs": [],
   "source": [
    "rec, history, actual = user_recommendation(reviews20.loc[394,'reviewerID'], k=3, similarity_matrix=jaccard_sim, \n",
    "                                           return_recommendations_only=False, print_results=False)"
   ]
  },
  {
   "cell_type": "code",
   "execution_count": null,
   "metadata": {},
   "outputs": [],
   "source": [
    "rec"
   ]
  },
  {
   "cell_type": "code",
   "execution_count": null,
   "metadata": {},
   "outputs": [],
   "source": [
    "history"
   ]
  },
  {
   "cell_type": "code",
   "execution_count": null,
   "metadata": {},
   "outputs": [],
   "source": [
    "print_product_images(rec)"
   ]
  },
  {
   "cell_type": "code",
   "execution_count": null,
   "metadata": {},
   "outputs": [],
   "source": []
  },
  {
   "cell_type": "code",
   "execution_count": null,
   "metadata": {},
   "outputs": [],
   "source": [
    "# subset by category"
   ]
  },
  {
   "cell_type": "code",
   "execution_count": null,
   "metadata": {},
   "outputs": [],
   "source": [
    "# subset by year\n",
    "# rationale: more recent, maybe more accurate predictions"
   ]
  },
  {
   "cell_type": "code",
   "execution_count": null,
   "metadata": {},
   "outputs": [],
   "source": [
    "print(reviews.shape)\n",
    "reviews.head(2)"
   ]
  },
  {
   "cell_type": "code",
   "execution_count": null,
   "metadata": {},
   "outputs": [],
   "source": [
    "reviews_year = reviews.copy()\n",
    "reviews_year['year'] = reviews_year['reviewTime'].apply(lambda x: x.year)"
   ]
  },
  {
   "cell_type": "code",
   "execution_count": null,
   "metadata": {},
   "outputs": [],
   "source": [
    "reviews_year.head(2)"
   ]
  },
  {
   "cell_type": "code",
   "execution_count": null,
   "metadata": {},
   "outputs": [],
   "source": [
    "reviews_year = reviews_year[(reviews_year['year']==2013) | (reviews_year['year']==2014)]\n",
    "reviews_year.shape"
   ]
  },
  {
   "cell_type": "code",
   "execution_count": null,
   "metadata": {},
   "outputs": [],
   "source": [
    "reviews_year['year'].value_counts()"
   ]
  },
  {
   "cell_type": "code",
   "execution_count": null,
   "metadata": {},
   "outputs": [],
   "source": [
    "reviews_year_train = reviews_year.copy()\n",
    "reviews_year_train = reviews_year_train[reviews_year_train['year']==2013]\n",
    "\n",
    "reviews_year_test = reviews_year.copy()\n",
    "reviews_year_test = reviews_year_test[reviews_year_test['year']==2014]"
   ]
  },
  {
   "cell_type": "code",
   "execution_count": null,
   "metadata": {},
   "outputs": [],
   "source": [
    "print(reviews_year_train.shape)\n",
    "print(reviews_year_test.shape)"
   ]
  },
  {
   "cell_type": "code",
   "execution_count": null,
   "metadata": {},
   "outputs": [],
   "source": [
    "check_matrix_sparsity(reviews_year_train)"
   ]
  },
  {
   "cell_type": "code",
   "execution_count": null,
   "metadata": {},
   "outputs": [],
   "source": []
  },
  {
   "cell_type": "code",
   "execution_count": null,
   "metadata": {},
   "outputs": [],
   "source": []
  },
  {
   "cell_type": "markdown",
   "metadata": {},
   "source": [
    "#### trying to fit the model with surprise"
   ]
  },
  {
   "cell_type": "code",
   "execution_count": null,
   "metadata": {},
   "outputs": [],
   "source": [
    "# for years, still must subset the reviews, else kernel will crash"
   ]
  },
  {
   "cell_type": "code",
   "execution_count": null,
   "metadata": {},
   "outputs": [],
   "source": [
    "# subset by review 10-90%"
   ]
  },
  {
   "cell_type": "code",
   "execution_count": null,
   "metadata": {},
   "outputs": [],
   "source": [
    "# try amazon's iicf way"
   ]
  },
  {
   "cell_type": "code",
   "execution_count": null,
   "metadata": {},
   "outputs": [],
   "source": []
  },
  {
   "cell_type": "markdown",
   "metadata": {},
   "source": [
    "# 20 Nov"
   ]
  },
  {
   "cell_type": "code",
   "execution_count": 287,
   "metadata": {},
   "outputs": [
    {
     "data": {
      "text/plain": [
       "<surprise.prediction_algorithms.matrix_factorization.SVD at 0x1185907b8>"
      ]
     },
     "execution_count": 287,
     "metadata": {},
     "output_type": "execute_result"
    }
   ],
   "source": [
    "algo = SVD(n_factors=40, lr_bi=0.0001, lr_qi=0.0001, reg_bi=0.7, reg_qi=0.7)\n",
    "algo.fit(trainset)"
   ]
  },
  {
   "cell_type": "code",
   "execution_count": 288,
   "metadata": {},
   "outputs": [],
   "source": [
    "svd_k40reg_predicted_ratings_matrix = generate_predicted_ratings_matrix(user_utility_matrix)"
   ]
  },
  {
   "cell_type": "code",
   "execution_count": null,
   "metadata": {},
   "outputs": [],
   "source": []
  },
  {
   "cell_type": "code",
   "execution_count": 289,
   "metadata": {
    "scrolled": true
   },
   "outputs": [
    {
     "data": {
      "text/plain": [
       "reviewerID\n",
       "A100L918633LUO    4.802422\n",
       "A100UD67AHFODS    4.561391\n",
       "A100WO06OQR8BQ    4.559550\n",
       "A1027WM3PXKVMR    4.399027\n",
       "A103BJIOJSDJL1    4.312194\n",
       "A1047EDJ84IMAS    4.749880\n",
       "A109ORALRL16KR    4.830333\n",
       "A10AFVU66A79Y1    4.516227\n",
       "A10BGNHGWPN7ZE    4.365003\n",
       "A10CRW7XRJBJ2G    3.667153\n",
       "A10FL3TBQ7TI48    4.361162\n",
       "A10IXPDL5AXRUN    4.871048\n",
       "A10K7QBLLN6VLE    4.122787\n",
       "A10NIZTEOWKX5N    4.738866\n",
       "A10NMELR4KX0J6    4.542831\n",
       "A10PEXB6XAQ5XF    4.613016\n",
       "A10QUY14I0ZYFL    4.106746\n",
       "A10T7C2Y6O3MO2    4.221986\n",
       "A10Y058K7B96C6    4.237740\n",
       "A10ZBR6O8S8OCY    4.442682\n",
       "A10ZFE6YE0UHW8    3.942719\n",
       "A10ZX30O697DNH    4.396577\n",
       "A1115ST6F5CWYP    4.617087\n",
       "A111PH76SCPYCK    4.142921\n",
       "A117FYENI6RSPP    4.236872\n",
       "A11C2FBX83TS07    4.490222\n",
       "A11C2ZX984GQW6    4.011350\n",
       "A11ED8O95W2103    4.220554\n",
       "A11EKF3LXOYUMH    4.616461\n",
       "A11FX8HL2ANK6T    4.517618\n",
       "                    ...   \n",
       "AYB4ELCS5AM8P     4.800113\n",
       "AYB8XLKTYMTTX     4.446455\n",
       "AYBAN0FHB1N57     4.616699\n",
       "AYGJ96W5KQMUJ     4.401117\n",
       "AYI6ZBGMR1TJY     4.614754\n",
       "AYIVP2Q1XP3H8     4.300859\n",
       "AYNRALJ4X1COS     3.600193\n",
       "AYO2UHZB29UIU     4.678326\n",
       "AYOMAHLWRQHUG     4.280037\n",
       "AYPEPA3VS4KDM     4.555565\n",
       "AYPIF2S8P3RZT     4.101908\n",
       "AYQ14XGJODM9J     4.410354\n",
       "AYQQOW0VR0YF5     4.817791\n",
       "AYW1TGDCP2OK6     4.530984\n",
       "AYWUHB7N8XGZQ     4.568794\n",
       "AYXO4O5EQQPKE     4.617064\n",
       "AZ34737QMSG8Q     4.190330\n",
       "AZ4EUUJVC8358     4.530914\n",
       "AZ4T61QUJHA9E     4.738277\n",
       "AZ714J2PAECSR     3.776505\n",
       "AZ8XSDMIX04VJ     4.462510\n",
       "AZ9OSRM9DHJU3     4.517034\n",
       "AZAC8O310IK4E     4.363496\n",
       "AZIS8K2M1HYPJ     4.626544\n",
       "AZJPNK73JF3XP     4.498707\n",
       "AZMY6E8B52L2T     4.801529\n",
       "AZNUHQSHZHSUE     4.208197\n",
       "AZV26LP92E6WU     4.875991\n",
       "AZV2U6GU5QA6C     4.476035\n",
       "AZZRRYBQG57LF     4.813277\n",
       "Name: B00C6A475Q, Length: 2616, dtype: float64"
      ]
     },
     "execution_count": 289,
     "metadata": {},
     "output_type": "execute_result"
    }
   ],
   "source": [
    "svd_k40reg_predicted_ratings_matrix['B00C6A475Q']"
   ]
  },
  {
   "cell_type": "code",
   "execution_count": null,
   "metadata": {},
   "outputs": [],
   "source": [
    "best_rated[best_rated.index.isin(['Victorinox 47547 10-1/4-Inch Wavy Bread Knife, Black Fibrox Handle', \n",
    "                                  'OXO Good Grips Stainless Steel Over-The-Door Hook',\n",
    "                                  'OXO Good Grips Lua Pepper Mill',\n",
    "                                  'OXO Good Grips Solid Stainless Steel Ice Cream Scoop',\n",
    "                                  'Kuhn Rikon 2710 Ultimate Shears, Black',\n",
    "                                  'Kitchenaid Pasta Roller Attachment'])]"
   ]
  },
  {
   "cell_type": "code",
   "execution_count": 285,
   "metadata": {},
   "outputs": [
    {
     "data": {
      "text/plain": [
       "26544    B00C6A475Q\n",
       "Name: asin, dtype: object"
      ]
     },
     "execution_count": 285,
     "metadata": {},
     "output_type": "execute_result"
    }
   ],
   "source": [
    "metadata[metadata['title']=='OXO Good Grips Stainless Steel Over-The-Door Hook']['asin']"
   ]
  },
  {
   "cell_type": "code",
   "execution_count": 290,
   "metadata": {},
   "outputs": [
    {
     "name": "stdout",
     "output_type": "stream",
     "text": [
      "0\n",
      "1000\n",
      "End\n"
     ]
    }
   ],
   "source": [
    "all_recommendations = []\n",
    "\n",
    "for i, user in enumerate(reviews20_2014['reviewerID'].unique()):\n",
    "    \n",
    "    if i % 1000 == 0:\n",
    "        print(i)\n",
    "    \n",
    "    recommendation = generate_recommendations(user, \n",
    "                                              svd_k40reg_predicted_ratings_matrix,\n",
    "                                              n_recommended_items=10,\n",
    "                                              return_recommendations_only=True, \n",
    "                                              print_results=False)\n",
    "    \n",
    "    all_recommendations += recommendation\n",
    "\n",
    "print('End')"
   ]
  },
  {
   "cell_type": "code",
   "execution_count": 291,
   "metadata": {
    "scrolled": true
   },
   "outputs": [
    {
     "data": {
      "text/plain": [
       "Lodge L8SK3 Pre-Seasoned Cast-Iron Skillet, 10.25-inch                                                                                                                                              47\n",
       "Presto 06003 Options Electric Multi-Cooker/Steamer                                                                                                                                                  42\n",
       "Ninja Master Prep Professional Blender, Chopper and Ice Crusher: More Power &amp; 2 Times Faster                                                                                                    36\n",
       "Freshware 30-Cavity Silicone Chocolate, Candy and Peanut Butter-Cup Mold                                                                                                                            32\n",
       "Doctor Who 17 oz. Figural Tardis Mug                                                                                                                                                                31\n",
       "Nesco LT-2SG Add-A-Tray for FD-61/FD-61WHC/FD-75A and FD-75PR Dehydrators, Set of 2                                                                                                                 29\n",
       "Royal Hotel's 300 Thread Count King Size Goose Down Alternative Comforter 100% Egyptian Cotton 300 TC - 750FP - 86Oz - Solid White                                                                  28\n",
       "Fellowes Quiet Air Purifier with True HEPA Filter (AP-230PH)                                                                                                                                        26\n",
       "Joyce Chen 51-0220, Unlimited Scissor, Red                                                                                                                                                          26\n",
       "Rada Cutlery Tomato Slicer Knife, Made in USA, Aluminum Handle (R126)                                                                                                                               26\n",
       "InterDesign Drawers, Clear                                                                                                                                                                          26\n",
       "YouCopia Super SpiceStack 27-Bottle Spice Organizer, White                                                                                                                                          26\n",
       "Chef'n SleekStor Pinch Pour Prep Bowls, Cherry Color                                                                                                                                                25\n",
       "Oster 118530-001 Fusion blender blade cutter 4980.                                                                                                                                                  25\n",
       "Waring Pro PVS1000 Pistol Vac Professional Vacuum Sealer System                                                                                                                                     25\n",
       "Sterilite 16268006 Ultra Basket with Titanium Inserts, White, 6-Pack, Large                                                                                                                         24\n",
       "Frigidaire Professional Stainless Programmable 12-Cup Drip Coffee Maker                                                                                                                             24\n",
       "Anolon Advanced Nonstick Bakeware 5-Piece Set                                                                                                                                                       24\n",
       "Oxo Good Grips Measuring Cup Set, Stainless Steel, 4-Pc                                                                                                                                             24\n",
       "Exaco Trading ECO-2000 2.4 Gallon Kitchen Compost Waste Collector                                                                                                                                   24\n",
       "Hamilton Beach 727W Classic DrinkMaster Drink Mixer, White                                                                                                                                          24\n",
       "Frieling Polished Stainless French Press, 23-Ounce                                                                                                                                                  23\n",
       "Nordic Ware Microwave Bacon Tray &amp; Food Defroster                                                                                                                                               23\n",
       "Chef's Choice 681 Cordless Electric Kettle                                                                                                                                                          23\n",
       "Anchor Hocking Flip Cap Glass Sugar Dispenser 12 Ounce                                                                                                                                              22\n",
       "Soyajoy G3 Soy Milk Maker - The Only Maker That Makes Fully Cooked As Well As Raw Milks From Beans, Almond, Hemp, and Grains                                                                        22\n",
       "Norpro 3077 Wooden Pastry and Pizza Roller                                                                                                                                                          22\n",
       "Global Decor Stainless-Steel Chopsticks, 4 Pairs                                                                                                                                                    22\n",
       "Columbia Coral Fleece Throw, Navy                                                                                                                                                                   22\n",
       "Rachael Ray Tools 13-Inch Nylon Ladle, Orange                                                                                                                                                       22\n",
       "                                                                                                                                                                                                    ..\n",
       "Rachael Ray Stoneware 1-1/2-Quart and 2-Quart Round Bubble and Brown Bakers, 2-Piece Set, Purple                                                                                                     1\n",
       "Wooden Treat Sticks, 100 Pcs                                                                                                                                                                         1\n",
       "#1 Rated Nut Milk Bag - FOOD GRADE - Food Strainer - Filter Bags - Fine Mesh Strainer - Mesh Filter - Reusable and Durable - Excellent Multi-Purpose Kitchen Tool - No Risk Money Back Guarantee     1\n",
       "Cuisinart 66-14 Chef's Classic Nonstick Hard-Anodized 14-Piece Cookware Set                                                                                                                          1\n",
       "Set of 6 Silicone Spatulas                                                                                                                                                                           1\n",
       "Casual Home 3 Shelf Folding Stackable Bookcase, Natural                                                                                                                                              1\n",
       "T-fal ZE5813US Balanced Living 550-Watt Juice Extractor with Stainless Steel                                                                                                                         1\n",
       "BISSELL Steam Mop Select, Titanium, 94E9T                                                                                                                                                            1\n",
       "Amco Measuring Spoons for Small Amounts                                                                                                                                                              1\n",
       "Casabella Sink Sider Faucet Caddy                                                                                                                                                                    1\n",
       "Chicago Metallic Baking Essentials Silicone Baking Cups, Set of 12                                                                                                                                   1\n",
       "Breville BKC700XL Gourmet Single-Serve Coffeemaker with Iced-Beverage Function                                                                                                                       1\n",
       "Electrolux UltraPower Studio Cordless Stick Vacuum with Brushroll Clean 25V Li-Ion, EL3000A                                                                                                          1\n",
       "Margaritaville Chillin' Pour Liquor Chiller                                                                                                                                                          1\n",
       "Lock&amp;Lock Cookplus Rainbow Knife Set with Block, 7-Piece                                                                                                                                         1\n",
       "Greenland Home Antique Chic Twin Quilt Bonus Set                                                                                                                                                     1\n",
       "Aladdin 10-01205-110 to-go Tumbler, 16-Ounce                                                                                                                                                         1\n",
       "Zojirushi NHS-10 6-Cup (Uncooked) Rice Cooker/Steamer &amp; Warmer, White                                                                                                                            1\n",
       "Rowenta DW9080 U1 Steamium Steam Iron with 400 Hole Platinum Soleplate 1800 Watt, Beige                                                                                                              1\n",
       "Frenchi Home Furnishing Metal Coat Rack, Black                                                                                                                                                       1\n",
       "OXO Good Grips Wooden Turner                                                                                                                                                                         1\n",
       "Gifts &amp; Decor Folk Art Porcelain Tear Drop Oil Warmer Candle Holder                                                                                                                              1\n",
       "Zyliss Julienne Peeler                                                                                                                                                                               1\n",
       "FoodSaver FSFRSH0060-035 FreshSaver Handheld Vacuum Sealer with Starter Kit, Red                                                                                                                     1\n",
       "Household essentials Clothes Pin Bag, Colors May Vary                                                                                                                                                1\n",
       "Prepworks from Progressive International LKS-10 Collapsible Produce Keeper, 4 Quart                                                                                                                  1\n",
       "Breville BOV800PC13 13-Inch Pizza Crisper for use with the BOV800XL Smart Oven                                                                                                                       1\n",
       "Sylvania SW-086 Nonstick Omelet Maker                                                                                                                                                                1\n",
       "Dial Industries Neat Things Expand-A-Shelf                                                                                                                                                           1\n",
       "Kyocera CD-18 6-1/2-Inch Ceramic Grater                                                                                                                                                              1\n",
       "Length: 4441, dtype: int64"
      ]
     },
     "execution_count": 291,
     "metadata": {},
     "output_type": "execute_result"
    }
   ],
   "source": [
    "pd.Series(all_recommendations).value_counts()"
   ]
  },
  {
   "cell_type": "code",
   "execution_count": 272,
   "metadata": {},
   "outputs": [
    {
     "data": {
      "text/plain": [
       "26544    B00C6A475Q\n",
       "Name: asin, dtype: object"
      ]
     },
     "execution_count": 272,
     "metadata": {},
     "output_type": "execute_result"
    }
   ],
   "source": [
    "metadata[metadata['title']=='OXO Good Grips Stainless Steel Over-The-Door Hook']['asin']"
   ]
  },
  {
   "cell_type": "code",
   "execution_count": 283,
   "metadata": {
    "scrolled": true
   },
   "outputs": [
    {
     "data": {
      "text/plain": [
       "5.000000    10\n",
       "4.464471     1\n",
       "4.235277     1\n",
       "4.319651     1\n",
       "4.637040     1\n",
       "4.829430     1\n",
       "3.628979     1\n",
       "4.721157     1\n",
       "4.850574     1\n",
       "4.252232     1\n",
       "4.720456     1\n",
       "4.270094     1\n",
       "4.374074     1\n",
       "4.713563     1\n",
       "4.484647     1\n",
       "4.612061     1\n",
       "4.918864     1\n",
       "4.146095     1\n",
       "4.591119     1\n",
       "4.716209     1\n",
       "4.607516     1\n",
       "4.507291     1\n",
       "4.423939     1\n",
       "3.983395     1\n",
       "4.362907     1\n",
       "4.661221     1\n",
       "4.629086     1\n",
       "4.431010     1\n",
       "4.905417     1\n",
       "4.626269     1\n",
       "            ..\n",
       "4.622599     1\n",
       "4.321332     1\n",
       "4.231710     1\n",
       "4.805350     1\n",
       "3.917482     1\n",
       "4.328501     1\n",
       "4.155365     1\n",
       "4.720342     1\n",
       "4.697517     1\n",
       "4.405805     1\n",
       "4.647678     1\n",
       "4.807033     1\n",
       "4.839065     1\n",
       "3.929702     1\n",
       "4.364399     1\n",
       "4.246866     1\n",
       "4.330504     1\n",
       "4.965653     1\n",
       "4.688740     1\n",
       "4.155929     1\n",
       "4.810972     1\n",
       "4.800429     1\n",
       "4.346098     1\n",
       "4.709473     1\n",
       "4.747245     1\n",
       "4.070131     1\n",
       "4.839181     1\n",
       "4.345156     1\n",
       "4.706027     1\n",
       "4.886361     1\n",
       "Name: B006MIBVAW, Length: 2607, dtype: int64"
      ]
     },
     "execution_count": 283,
     "metadata": {},
     "output_type": "execute_result"
    }
   ],
   "source": [
    "svd_k40reg_predicted_ratings_matrix['B006MIBVAW'].value_counts()"
   ]
  },
  {
   "cell_type": "code",
   "execution_count": 270,
   "metadata": {},
   "outputs": [
    {
     "data": {
      "text/plain": [
       "array(['B006MIBVAW'], dtype=object)"
      ]
     },
     "execution_count": 270,
     "metadata": {},
     "output_type": "execute_result"
    }
   ],
   "source": [
    "np.random.choice(reviews20_pre2014['asin'],1)"
   ]
  },
  {
   "cell_type": "code",
   "execution_count": 284,
   "metadata": {
    "scrolled": true
   },
   "outputs": [
    {
     "data": {
      "text/plain": [
       "5.000000    212\n",
       "4.696063      1\n",
       "4.714547      1\n",
       "4.739442      1\n",
       "4.253217      1\n",
       "4.478492      1\n",
       "4.829210      1\n",
       "4.953711      1\n",
       "4.664168      1\n",
       "4.874775      1\n",
       "4.492167      1\n",
       "4.439695      1\n",
       "4.503544      1\n",
       "4.431110      1\n",
       "4.110977      1\n",
       "4.408434      1\n",
       "4.948999      1\n",
       "4.751922      1\n",
       "4.328585      1\n",
       "4.709628      1\n",
       "4.683408      1\n",
       "4.497795      1\n",
       "4.991635      1\n",
       "4.581955      1\n",
       "4.605158      1\n",
       "4.223135      1\n",
       "4.999413      1\n",
       "4.555751      1\n",
       "4.495840      1\n",
       "4.547122      1\n",
       "           ... \n",
       "4.964917      1\n",
       "4.319894      1\n",
       "4.838845      1\n",
       "4.709259      1\n",
       "4.414823      1\n",
       "4.127171      1\n",
       "4.364538      1\n",
       "4.891856      1\n",
       "4.976303      1\n",
       "4.432915      1\n",
       "4.520301      1\n",
       "4.750424      1\n",
       "3.735982      1\n",
       "4.299731      1\n",
       "4.448184      1\n",
       "4.172147      1\n",
       "4.616276      1\n",
       "3.985548      1\n",
       "3.981331      1\n",
       "4.203846      1\n",
       "4.306796      1\n",
       "4.765414      1\n",
       "4.778483      1\n",
       "4.689654      1\n",
       "3.767443      1\n",
       "4.652167      1\n",
       "4.729716      1\n",
       "4.669648      1\n",
       "4.370399      1\n",
       "4.509063      1\n",
       "Name: B00C6A475Q, Length: 2405, dtype: int64"
      ]
     },
     "execution_count": 284,
     "metadata": {},
     "output_type": "execute_result"
    }
   ],
   "source": [
    "svd_k40reg_predicted_ratings_matrix['B00C6A475Q'].value_counts()"
   ]
  },
  {
   "cell_type": "code",
   "execution_count": null,
   "metadata": {},
   "outputs": [],
   "source": []
  },
  {
   "cell_type": "code",
   "execution_count": null,
   "metadata": {},
   "outputs": [],
   "source": []
  },
  {
   "cell_type": "markdown",
   "metadata": {},
   "source": [
    "# adjusting regularisation parameters for SVD\n",
    "- because it keeps outputting the same recommendations with the default learning rate and regularisation parameters"
   ]
  },
  {
   "cell_type": "code",
   "execution_count": null,
   "metadata": {},
   "outputs": [],
   "source": [
    "# recall categories instead\n",
    "model_evaluation_cat_recall"
   ]
  },
  {
   "cell_type": "code",
   "execution_count": 307,
   "metadata": {},
   "outputs": [],
   "source": [
    "def categories_to_columns(row, cat_level):\n",
    "    try:\n",
    "        return row[cat_level]\n",
    "    except IndexError:\n",
    "        return np.nan"
   ]
  },
  {
   "cell_type": "code",
   "execution_count": 368,
   "metadata": {},
   "outputs": [],
   "source": [
    "categories = metadata.copy()\n",
    "categories = categories[['asin', 'title', 'categories']]\n",
    "categories['Category Path'] = categories['categories'].apply(lambda x: [cat.strip() for cat in re.sub('[\\[\\]\\'\\\"]', '', x).split(',')])\n",
    "\n",
    "# categories['cat_4'] = categories['Category Path'].apply(lambda x: categories_to_columns(x,4))\n",
    "for i in range(1, 5):\n",
    "    categories['cat_'+str(i)] = categories['Category Path'].apply(lambda x: categories_to_columns(x, i-1))"
   ]
  },
  {
   "cell_type": "code",
   "execution_count": 370,
   "metadata": {},
   "outputs": [],
   "source": [
    "categories.fillna('NA', inplace=True)"
   ]
  },
  {
   "cell_type": "code",
   "execution_count": 371,
   "metadata": {},
   "outputs": [],
   "source": [
    "categories['broad_cat'] = categories['cat_2']+' > '+categories['cat_3']\n",
    "categories['narrow_cat'] = categories['cat_2']+' > '+categories['cat_3']+ ' > '+categories['cat_4']"
   ]
  },
  {
   "cell_type": "code",
   "execution_count": 373,
   "metadata": {},
   "outputs": [
    {
     "data": {
      "text/html": [
       "<div>\n",
       "<style scoped>\n",
       "    .dataframe tbody tr th:only-of-type {\n",
       "        vertical-align: middle;\n",
       "    }\n",
       "\n",
       "    .dataframe tbody tr th {\n",
       "        vertical-align: top;\n",
       "    }\n",
       "\n",
       "    .dataframe thead th {\n",
       "        text-align: right;\n",
       "    }\n",
       "</style>\n",
       "<table border=\"1\" class=\"dataframe\">\n",
       "  <thead>\n",
       "    <tr style=\"text-align: right;\">\n",
       "      <th></th>\n",
       "      <th>asin</th>\n",
       "      <th>title</th>\n",
       "      <th>categories</th>\n",
       "      <th>Category Path</th>\n",
       "      <th>cat_1</th>\n",
       "      <th>cat_2</th>\n",
       "      <th>cat_3</th>\n",
       "      <th>cat_4</th>\n",
       "      <th>broad_cat</th>\n",
       "      <th>narrow_cat</th>\n",
       "    </tr>\n",
       "  </thead>\n",
       "  <tbody>\n",
       "    <tr>\n",
       "      <th>25908</th>\n",
       "      <td>B00AIZBMMW</td>\n",
       "      <td>Digital Blender/Food Processor</td>\n",
       "      <td>[['Home &amp; Kitchen', 'Kitchen &amp; Dining', 'Small...</td>\n",
       "      <td>[Home &amp; Kitchen, Kitchen &amp; Dining, Small Appli...</td>\n",
       "      <td>Home &amp; Kitchen</td>\n",
       "      <td>Kitchen &amp; Dining</td>\n",
       "      <td>Small Appliances</td>\n",
       "      <td>Blenders</td>\n",
       "      <td>Kitchen &amp; Dining &gt; Small Appliances</td>\n",
       "      <td>Kitchen &amp; Dining &gt; Small Appliances &gt; Blenders</td>\n",
       "    </tr>\n",
       "    <tr>\n",
       "      <th>27570</th>\n",
       "      <td>B00FR6D0ZO</td>\n",
       "      <td>Cake Boss Countertop Accessories 2-Piece Silic...</td>\n",
       "      <td>[['Home &amp; Kitchen', 'Kitchen &amp; Dining', 'Bakew...</td>\n",
       "      <td>[Home &amp; Kitchen, Kitchen &amp; Dining, Bakeware, B...</td>\n",
       "      <td>Home &amp; Kitchen</td>\n",
       "      <td>Kitchen &amp; Dining</td>\n",
       "      <td>Bakeware</td>\n",
       "      <td>Baking Tools &amp; Accessories</td>\n",
       "      <td>Kitchen &amp; Dining &gt; Bakeware</td>\n",
       "      <td>Kitchen &amp; Dining &gt; Bakeware &gt; Baking Tools &amp; A...</td>\n",
       "    </tr>\n",
       "  </tbody>\n",
       "</table>\n",
       "</div>"
      ],
      "text/plain": [
       "             asin                                              title  \\\n",
       "25908  B00AIZBMMW                     Digital Blender/Food Processor   \n",
       "27570  B00FR6D0ZO  Cake Boss Countertop Accessories 2-Piece Silic...   \n",
       "\n",
       "                                              categories  \\\n",
       "25908  [['Home & Kitchen', 'Kitchen & Dining', 'Small...   \n",
       "27570  [['Home & Kitchen', 'Kitchen & Dining', 'Bakew...   \n",
       "\n",
       "                                           Category Path           cat_1  \\\n",
       "25908  [Home & Kitchen, Kitchen & Dining, Small Appli...  Home & Kitchen   \n",
       "27570  [Home & Kitchen, Kitchen & Dining, Bakeware, B...  Home & Kitchen   \n",
       "\n",
       "                  cat_2             cat_3                       cat_4  \\\n",
       "25908  Kitchen & Dining  Small Appliances                    Blenders   \n",
       "27570  Kitchen & Dining          Bakeware  Baking Tools & Accessories   \n",
       "\n",
       "                                 broad_cat  \\\n",
       "25908  Kitchen & Dining > Small Appliances   \n",
       "27570          Kitchen & Dining > Bakeware   \n",
       "\n",
       "                                              narrow_cat  \n",
       "25908     Kitchen & Dining > Small Appliances > Blenders  \n",
       "27570  Kitchen & Dining > Bakeware > Baking Tools & A...  "
      ]
     },
     "execution_count": 373,
     "metadata": {},
     "output_type": "execute_result"
    }
   ],
   "source": [
    "categories.sample(2)"
   ]
  },
  {
   "cell_type": "code",
   "execution_count": 374,
   "metadata": {
    "scrolled": true
   },
   "outputs": [
    {
     "data": {
      "text/plain": [
       "{'Zoku Quick Pops Recipe Book': 'Kitchen & Dining > Kitchen Utensils & Gadgets > Specialty Tools & Gadgets',\n",
       " 'Good Night, Sweet Butterflies: A Color Dreamland': 'NA > NA > NA',\n",
       " 'Wilton Decorating Cakes Book': 'Kitchen & Dining > Bakeware > Baking & Cookie Sheets',\n",
       " 'Vandor 52423 Star Wars Large Recycled Shopper Tote, Multicolored': 'Kitchen & Dining > Storage & Organization > Reusable Grocery Bags',\n",
       " 'Franklin SPELLING CORRECTOR': 'Kitchen & Dining > Kitchen Utensils & Gadgets > Tool & Gadget Sets',\n",
       " 'Mighty Bright Fold-n-Stow Book Holder': 'Kitchen & Dining > Kitchen Utensils & Gadgets > Kitchen Accessories',\n",
       " 'Best Choice 2013 Design Fist Cup Brass Knuckle Duster Handle Coffee Milk Ceramic Fist Mug Cup Cool Gift': 'Kitchen & Dining > Dining & Entertaining > Cups',\n",
       " 'World Pride Mickey Mouse Face Shape Cookie Cutter': 'Kitchen & Dining > Bakeware > Baking Tools & Accessories',\n",
       " 'Tupperware Fresh &amp; Pure Ice Tray Purple Set of 2': 'Kitchen & Dining > Kitchen Utensils & Gadgets > Specialty Tools & Gadgets',\n",
       " 'Tupperware Orange Citrus Peeler Set of 6': 'Kitchen & Dining > Kitchen Utensils & Gadgets > Graters',\n",
       " 'Tupperware Smidgets in Pink and Red Set of 5': 'Kitchen & Dining > Storage & Organization > Food Savers',\n",
       " 'Tupperware Large Pick a Deli Container': 'Kitchen & Dining > Storage & Organization > Food Savers',\n",
       " 'IKEA BONUS 16-Piece Flatware Set, Stainless Steel': 'Kitchen & Dining > Dining & Entertaining > Flatware',\n",
       " 'IKEA - KALAS Tumbler, Assorted Colors (2 Sets)': 'Kitchen & Dining > Dining & Entertaining > Glassware & Drinkware',\n",
       " 'Curious George Tin Keepsake Box with Latch by Schylling': 'Kitchen & Dining > Storage & Organization > Lunch Boxes & Bags',\n",
       " 'Cuisinart DLC-1 Mini-Prep Food Processor, White': 'Kitchen & Dining > Small Appliances > Food Processors',\n",
       " 'Cuisinart DGB-300BK Automatic Grind &amp; Brew 10-Cup Coffeemaker, Black': 'Kitchen & Dining > Coffee > Tea & Espresso',\n",
       " 'Cuisinart SPB-7 SmartPower 40-Ounce 7-Speed Electronic Bar Blender, White': 'Kitchen & Dining > Small Appliances > Blenders',\n",
       " 'Cuisinart ICE-20 Automatic 1-1/2-Quart Ice Cream Maker, White': 'Kitchen & Dining > Small Appliances > Ice Cream Machines',\n",
       " 'Woodstock W1015 4-Inch Y-Fitting': 'Vacuums & Floor Care > Vacuum Accessories > Attachments & Brushes',\n",
       " 'Incra PROTRAC06 6-Inch Precision Marking Protractor': 'Kitchen & Dining > Kitchen Utensils & Gadgets > Measuring Tools & Scales',\n",
       " 'Intermatic TN311C 120 Volt Heavy Duty Grounded Timer': 'Kitchen & Dining > Kitchen Utensils & Gadgets > Thermometers & Timers',\n",
       " 'Lasko 3300 Wind Machine': 'Heating > Cooling & Air Quality > Household Fans',\n",
       " 'Hoover F4300 Floormax Supreme': 'Vacuums & Floor Care > Floor Polishers > NA',\n",
       " 'Mirro 9605000A Canning Accessories Food Press with Wooden Pestle, Silver': 'Kitchen & Dining > Kitchen Utensils & Gadgets > Colanders & Food Strainers',\n",
       " 'Lasko #2155A Electrically Reversible Window Fan, 16 Inches': 'Heating > Cooling & Air Quality > Household Fans',\n",
       " 'Genuine Eureka RD Style Belts': 'Vacuums & Floor Care > Vacuum Accessories > Belts',\n",
       " 'Mirro 92180A Polished Aluminum Dishwasher Safe PFOA Free Pressure Cooker Cookware': 'Kitchen & Dining > Cookware > Pressure Cookers',\n",
       " 'Hoover 4010001A Type A Vacuum Bags, 3 Bags': 'Vacuums & Floor Care > Vacuum Accessories > Bags',\n",
       " 'Presto 01241 4-Quart Aluminum Pressure Cooker': 'Kitchen & Dining > Cookware > Pressure Cookers',\n",
       " 'Presto 01341  4-Quart Stainless Steel Pressure Cooker': 'Kitchen & Dining > Cookware > Pressure Cookers',\n",
       " 'Eureka Boss Upright Vacuum, 1934B': 'Vacuums & Floor Care > Vacuums > Upright Vacuums',\n",
       " 'Rubbermaid 1172 ActionPacker Storage Box, 24 Gallon': 'Storage & Organization > Trash & Recycling > Trash Cans',\n",
       " 'Eureka 3670G Mighty Mite Canister Vacuum': 'Vacuums & Floor Care > Vacuums > Canister Vacuums',\n",
       " 'Hoover F5411 Steamvac Jr.': 'Vacuums & Floor Care > Carpet Cleaners > NA',\n",
       " 'Lasko Metal Products 3012 12-Inch Wall Fan': 'Heating > Cooling & Air Quality > Household Fans',\n",
       " 'Eureka Quick Up 2-in-1 Cordless w/Bonus Battery Pack, 96JZ': 'Vacuums & Floor Care > Vacuums > Stick Vacuums & Electric Brooms',\n",
       " 'Intermatic FD60MWC 60-Minute Spring Loaded Wall Timer, White': 'Kitchen & Dining > Kitchen Utensils & Gadgets > Thermometers & Timers',\n",
       " 'ClosetMaid Over-The-Door Utility Hook, White #1220': 'Storage & Organization > Home Storage Hooks > Utility Hooks',\n",
       " 'Akro-Mils 8212 Six Pack of 30210 Plastic Storage Stacking AkroBins for Craft and Hardware, Red': 'Storage & Organization > Baskets & Bins > Open Storage Bins',\n",
       " 'Hoover Type Z Allergen Bag (3-Pack), 4010100Z': 'Vacuums & Floor Care > Vacuum Accessories > Bags',\n",
       " 'Hoover 40201160 Windtunnel Agitator Belts, Hoover 38528033 2-Pack': 'Vacuums & Floor Care > Vacuum Accessories > Belts',\n",
       " 'Lasko 3733 20&quot; Fan Box': 'Heating > Cooling & Air Quality > Household Fans',\n",
       " 'White Mountain F69206-X 6-Quart Electric Ice Cream Freezer': 'Kitchen & Dining > Small Appliances > Ice Cream Machines',\n",
       " 'OXO Good Grips Grater': 'Kitchen & Dining > Kitchen Utensils & Gadgets > Graters',\n",
       " 'OXO Good Grips Meat Tenderizer': 'Kitchen & Dining > Kitchen Utensils & Gadgets > Meat & Poultry Tools',\n",
       " 'OXO Good Grips Corer': 'Kitchen & Dining > Kitchen Utensils & Gadgets > Fruit & Vegetable Tools',\n",
       " 'OXO Good Grips Cheese Plane': 'Kitchen & Dining > Kitchen Utensils & Gadgets > Cooking Utensils',\n",
       " 'OXO Good Grips Trigger Ice Cream Scoop': 'Kitchen & Dining > Kitchen Utensils & Gadgets > Cooking Utensils',\n",
       " 'OXO Good Grips 4-Inch Pizza Wheel': 'Kitchen & Dining > Kitchen Utensils & Gadgets > Pasta & Pizza Tools',\n",
       " 'OXO Good Grips Lemon Zester': 'Kitchen & Dining > Kitchen Utensils & Gadgets > Fruit & Vegetable Tools',\n",
       " 'OXO Good Grips Lever Ice Cream Scoop': 'Kitchen & Dining > Kitchen Utensils & Gadgets > Cooking Utensils',\n",
       " 'OXO Good Grips Measuring Cup Set, White': 'Kitchen & Dining > Kitchen Utensils & Gadgets > Measuring Tools & Scales',\n",
       " 'OXO Good Grips Spreader': 'Kitchen & Dining > Kitchen Utensils & Gadgets > Cheese Tools',\n",
       " 'OXO Good Grips 2-Piece Peeler/Parer Set': 'Kitchen & Dining > Kitchen Utensils & Gadgets > Graters',\n",
       " 'OXO Good Grips Potato Ricer': 'Kitchen & Dining > Kitchen Utensils & Gadgets > Fruit & Vegetable Tools',\n",
       " 'OXO Good Grips Ice Cream Scoop - Point': 'Kitchen & Dining > Kitchen Utensils & Gadgets > Specialty Tools & Gadgets',\n",
       " 'OXO Good Grips Swivel Peeler': 'Kitchen & Dining > Kitchen Utensils & Gadgets > Graters',\n",
       " 'OXO Good Grips 8 Inch Bread Knife': 'Kitchen & Dining > Kitchen Knives & Cutlery Accessories > Bread & Serrated Knives',\n",
       " 'OXO Good Grips 9-Inch Stainless Steel Locking Tongs': 'Kitchen & Dining > Kitchen Utensils & Gadgets > Cooking Utensils',\n",
       " 'OXO Good Grips Y Peeler': 'Kitchen & Dining > Kitchen Utensils & Gadgets > Graters',\n",
       " 'OXO Good Grips 8-Inch Chef Knife': 'Kitchen & Dining > Kitchen Knives & Cutlery Accessories > Chefs Knives',\n",
       " 'OXO Good Grips Soft Handled Can Opener': 'Kitchen & Dining > Kitchen Utensils & Gadgets > Can Openers',\n",
       " 'OXO Good Grips Bottle Opener': 'Kitchen & Dining > Kitchen Utensils & Gadgets > Bar & Wine Tools',\n",
       " 'OXO Good Grips Dish Brush': 'Kitchen & Dining > Kitchen Utensils & Gadgets > Cooking Utensils',\n",
       " 'OXO Good Grips Smooth Potato Masher': 'Kitchen & Dining > Kitchen Utensils & Gadgets > Fruit & Vegetable Tools',\n",
       " 'OXO Good Grips  Salad Spinner': 'Kitchen & Dining > Kitchen Utensils & Gadgets > Salad Tools & Spinners',\n",
       " 'OXO Good Grips Wire Cheese Slicer': 'Kitchen & Dining > Bakeware > Baking Tools & Accessories',\n",
       " 'OXO Good Grips Wire Potato Masher': 'Kitchen & Dining > Kitchen Utensils & Gadgets > Fruit & Vegetable Tools',\n",
       " 'OXO Good Grips Seafood Picks, Set of 4': 'Kitchen & Dining > Kitchen Utensils & Gadgets > Specialty Tools & Gadgets',\n",
       " 'OXO Good Grips Locking Can Opener': 'Kitchen & Dining > Kitchen Utensils & Gadgets > Cooking Utensils',\n",
       " 'OXO Good Grips Aluminum Lemon Reamer': 'Kitchen & Dining > Kitchen Utensils & Gadgets > Fruit & Vegetable Tools',\n",
       " 'OXO Good Grips  Ice Cube Tray': 'Kitchen & Dining > Kitchen Utensils & Gadgets > Specialty Tools & Gadgets',\n",
       " 'OXO Good Grips Apple Corer and Divider': 'Kitchen & Dining > Kitchen Utensils & Gadgets > Fruit & Vegetable Tools',\n",
       " 'OXO SteeL Serving Spoon, 4-Inch': 'Kitchen & Dining > Kitchen Utensils & Gadgets > Cooking Utensils',\n",
       " 'OXO Good Grips Natural Bristle Veggie Brush': 'Kitchen & Dining > Kitchen Utensils & Gadgets > Graters',\n",
       " 'Oxo Good Grips 5-Piece Seafood Cracker Set': 'Kitchen & Dining > Kitchen Utensils & Gadgets > Specialty Tools & Gadgets',\n",
       " 'OXO SteeL Turner/Spatula': 'Kitchen & Dining > Kitchen Utensils & Gadgets > Cooking Utensils',\n",
       " 'OXO SteeL Spaghetti Server': 'Kitchen & Dining > Kitchen Utensils & Gadgets > Cooking Utensils',\n",
       " 'OXO Good Grips Melon Baller': 'Kitchen & Dining > Kitchen Utensils & Gadgets > Cooking Utensils',\n",
       " 'OXO Good Grips Toilet Brush and Canister, White': 'Bath > Bathroom Accessories > Toilet Accessories',\n",
       " 'OXO Good Grips 1.5-Quart Mixing Bowl': 'Kitchen & Dining > Bakeware > Mixing Bowls',\n",
       " 'Oxo SteeL Cheese Plane': 'Kitchen & Dining > Kitchen Utensils & Gadgets > Graters',\n",
       " 'OXO Good Grips 3-Quart Mixing Bowl, White/Black': 'Kitchen & Dining > Bakeware > Mixing Bowls',\n",
       " 'OXO Good Grips 6-Inch Double Rod Strainer': 'Kitchen & Dining > Kitchen Utensils & Gadgets > Colanders & Food Strainers',\n",
       " 'OXO SteeL Ladle': 'Kitchen & Dining > Kitchen Utensils & Gadgets > Cooking Utensils',\n",
       " 'OXO SteeL Can Opener': 'Kitchen & Dining > Kitchen Utensils & Gadgets > Cooking Utensils',\n",
       " 'OXO Good Grips Flat Whisk': 'Kitchen & Dining > Kitchen Utensils & Gadgets > Cooking Utensils',\n",
       " 'OXO SteeL Swivel Peeler': 'Kitchen & Dining > Kitchen Utensils & Gadgets > Graters',\n",
       " 'OXO Good Grips Flour Sifter': 'Kitchen & Dining > Bakeware > Baking Tools & Accessories',\n",
       " 'OXO Good Grips Jar Opener': 'Kitchen & Dining > Kitchen Utensils & Gadgets > Can Openers',\n",
       " 'OXO Good Grips Flexible Vegetable Brush': 'Kitchen & Dining > Kitchen Utensils & Gadgets > Fruit & Vegetable Tools',\n",
       " 'OXO Good Grips 6-Piece Measuring Spoon Set, Black, Updated Design': 'Kitchen & Dining > Kitchen Utensils & Gadgets > Measuring Tools & Scales',\n",
       " 'OXO Good Grips Uplift Teakettle, Polished Stainless': 'Kitchen & Dining > Cookware > Teakettles',\n",
       " 'Oxo Good Grips Nylon Fork': 'Kitchen & Dining > Kitchen Knives & Cutlery Accessories > Carving Knives & Forks',\n",
       " 'OXO SteeL Ice Cream Scoop': 'Kitchen & Dining > Kitchen Utensils & Gadgets > Specialty Tools & Gadgets',\n",
       " 'OXO SteeL Slotted Serving Spoon': 'Kitchen & Dining > Kitchen Utensils & Gadgets > Cooking Utensils',\n",
       " 'OXO Good Grips Dough Blender': 'Kitchen & Dining > Bakeware > Baking Tools & Accessories',\n",
       " 'OXO Good Grips Multi Grater': 'Kitchen & Dining > Kitchen Utensils & Gadgets > Graters',\n",
       " 'OXO Good Grips 9-Inch Whisk': 'Kitchen & Dining > Kitchen Utensils & Gadgets > Cooking Utensils',\n",
       " 'OXO Good Grips Stainless Steel Pie Server': 'Kitchen & Dining > Dining & Entertaining > Flatware',\n",
       " 'Oxo Good Grips Measuring Cup Set, Stainless Steel, 4-Pc': 'Kitchen & Dining > Kitchen Utensils & Gadgets > Measuring Tools & Scales',\n",
       " 'Oxo Good Grips Nylon Ladle': 'Kitchen & Dining > Kitchen Utensils & Gadgets > Cooking Utensils',\n",
       " 'OXO Good Grips Nylon Balloon Whisk': 'Kitchen & Dining > Kitchen Utensils & Gadgets > Cooking Utensils',\n",
       " 'OXO Good Grips Flexible Spatula': 'Kitchen & Dining > Kitchen Utensils & Gadgets > Cooking Utensils',\n",
       " 'OXO Good Grips 11-Inch Balloon Whisk': 'Kitchen & Dining > Kitchen Utensils & Gadgets > Cooking Utensils',\n",
       " 'OXO Good Grips Stainless Steel Skimmer': 'Kitchen & Dining > Kitchen Utensils & Gadgets > Cooking Utensils',\n",
       " 'OXO Good Grips Winged Corkscrew, Black': 'Kitchen & Dining > Kitchen Utensils & Gadgets > Bar & Wine Tools',\n",
       " 'OXO SteeL Large Skewer Fork': 'Kitchen & Dining > Kitchen Knives & Cutlery Accessories > Carving Knives & Forks',\n",
       " 'OXO SteeL Lasagna Turner': 'Kitchen & Dining > Kitchen Utensils & Gadgets > Cooking Utensils',\n",
       " 'OXO Good Grips Bent Icing Knife': 'Kitchen & Dining > Bakeware > Decorating Tools',\n",
       " 'Oxo SteeL 8-Inch Strainer': 'Kitchen & Dining > Kitchen Utensils & Gadgets > Colanders & Food Strainers',\n",
       " 'Oxo Good Grips Measuring Spoons, Stainless Steel, 4-Pc': 'Kitchen & Dining > Kitchen Utensils & Gadgets > Measuring Tools & Scales',\n",
       " 'OXO Good Grips 3-1/2-Inch Paring Knife': 'Kitchen & Dining > Kitchen Utensils & Gadgets > Cooking Utensils',\n",
       " 'OXO Good Grips Oyster Knife': 'Kitchen & Dining > Kitchen Utensils & Gadgets > Specialty Tools & Gadgets',\n",
       " 'OXO SteeL 6-Inch Strainer': 'Kitchen & Dining > Kitchen Utensils & Gadgets > Cooking Utensils',\n",
       " 'OXO Good Grips Soap Dispensing Palm Brush': 'Kitchen & Dining > Kitchen Utensils & Gadgets > Cooking Utensils',\n",
       " 'OXO Good Grips Nylon Potato Masher': 'Kitchen & Dining > Kitchen Utensils & Gadgets > Fruit & Vegetable Tools',\n",
       " 'OXO Good Grips Medium Silicone Spatula, Tomato': 'Kitchen & Dining > Kitchen Utensils & Gadgets > Cooking Utensils',\n",
       " 'OXO Good Grips Shrimp Cleaner': 'Kitchen & Dining > Kitchen Utensils & Gadgets > Specialty Tools & Gadgets',\n",
       " 'Oxo Good Grips Nylon Asian Turner': 'Kitchen & Dining > Kitchen Utensils & Gadgets > Cooking Utensils',\n",
       " 'OXO Good Grips Stainless Steel Ladle': 'Kitchen & Dining > Kitchen Utensils & Gadgets > Cooking Utensils',\n",
       " 'OXO Good Grips Bag Clips, Set-of-4, Multicolored': 'Kitchen & Dining > Storage & Organization > NA',\n",
       " 'OXO SteeL Soup Skimmer': 'Kitchen & Dining > Kitchen Utensils & Gadgets > Cooking Utensils',\n",
       " 'OXO Good Grips Stainless Steel Turner': 'Kitchen & Dining > Kitchen Utensils & Gadgets > Cooking Utensils',\n",
       " 'OXO Good Grips 6-Piece Measuring Cup Set, Updated Design': 'Kitchen & Dining > Kitchen Utensils & Gadgets > Measuring Tools & Scales',\n",
       " 'OXO Good Grips 6-Piece Measuring Spoon Set, White': 'Kitchen & Dining > Kitchen Utensils & Gadgets > Measuring Tools & Scales',\n",
       " 'OXO Good Grips Stainless Steel Serving Spatula': 'Kitchen & Dining > Kitchen Utensils & Gadgets > Cooking Utensils',\n",
       " 'Oxo Good Grips Nylon Square Turner': 'Kitchen & Dining > Kitchen Utensils & Gadgets > Cooking Utensils',\n",
       " 'OXO SteeL Potato Masher': 'Kitchen & Dining > Kitchen Utensils & Gadgets > Fruit & Vegetable Tools',\n",
       " 'OXO Good Grips Multi-Purpose Pastry Scraper/Chopper': 'Kitchen & Dining > Bakeware > Baking Tools & Accessories',\n",
       " 'OXO Good Grips Stainless Steel Spoon': 'Kitchen & Dining > Kitchen Utensils & Gadgets > Cooking Utensils',\n",
       " 'OXO Good Grips Stainless Steel Serving Spoon': 'Kitchen & Dining > Kitchen Utensils & Gadgets > Cooking Utensils',\n",
       " 'OXO SteeL Pie Server': 'Kitchen & Dining > Dining & Entertaining > Flatware',\n",
       " 'OXO Good Grips Stainless Steel Slotted Spoon': 'Kitchen & Dining > Kitchen Utensils & Gadgets > Cooking Utensils',\n",
       " 'Oxo Good Grips Paring and Mini Chef Knife Set': 'Kitchen & Dining > Kitchen Knives & Cutlery Accessories > Cutlery Sets',\n",
       " 'BonJour Caffe Froth Turbo, White': 'Kitchen & Dining > Small Appliance Parts & Accessories > Coffee & Espresso Machine Parts & Accessories',\n",
       " 'Kuhn Rikon Stainless-Steel Pressure Cooker': 'Kitchen & Dining > Cookware > Pressure Cookers',\n",
       " 'Best Manufacturers Standard French Whip 10-inch': 'Kitchen & Dining > Kitchen Utensils & Gadgets > Cooking Utensils',\n",
       " 'BonJour French Press Monet, Polished Stainless Steel, 8-Cup': 'Kitchen & Dining > Coffee > Tea & Espresso',\n",
       " 'Chicago Metallic Gourmetware 2-Piece Toaster Oven/Broiler Pan': 'Kitchen & Dining > Bakeware > Bakeware Sets',\n",
       " 'Best Manufacturers Flat Roux/Gravy Whip 12-inch': 'Kitchen & Dining > Kitchen Utensils & Gadgets > Cooking Utensils',\n",
       " 'Chicago Metallic Baked Taco Rack': 'Kitchen & Dining > Bakeware > NA',\n",
       " 'Chicago Metallic Commercial Perforated Pie Pans, Set 2': 'Kitchen & Dining > Bakeware > Pie',\n",
       " 'Chicago Metallic Non-Stick 12- Cup Mini Popover Pan': 'Kitchen & Dining > Bakeware > Popover Pans',\n",
       " 'Best Manufacturers 12-Inch Balloon Whip with Metal Handle': 'Kitchen & Dining > Kitchen Utensils & Gadgets > Cooking Utensils',\n",
       " 'Best Manufacturers Light Design French Whip 8-inch': 'Kitchen & Dining > Kitchen Utensils & Gadgets > Cooking Utensils',\n",
       " 'Chicago Metallic Professional Nonstick 1-Pound Loaf Pan': 'Kitchen & Dining > Bakeware > Bread & Loaf Pans',\n",
       " 'Kuhn Rikon Auto Deluxe Safety Lid Lifter, Red': 'Kitchen & Dining > Kitchen Utensils & Gadgets > Can Openers',\n",
       " 'Chicago Metallic Commercial 14-by-16-Inch Cookie Sheet': 'Kitchen & Dining > Bakeware > Baking & Cookie Sheets',\n",
       " 'Chicago Metallic Professional Nonstick 6-Cup Giant Muffin Pan': 'Kitchen & Dining > Bakeware > Muffin & Cupcake Pans',\n",
       " 'Chicago Metallic Non-Stick Checkerboard Cake Pan Set': 'Kitchen & Dining > Bakeware > Cake Pans',\n",
       " \"Chicago Metallic Gourmetware Nonstick Make N' Take Pan with Lid.\": 'Kitchen & Dining > Bakeware > Cake Pans',\n",
       " 'Chicago Metallic Professional Nonstick 9-Inch Round Cake Pan': 'Kitchen & Dining > Bakeware > Cake Pans',\n",
       " 'Frieling 8-inch Round Brotform': 'Kitchen & Dining > Bakeware > Bread & Loaf Pans',\n",
       " 'Chicago Metallic Commercial 1-1/2-Pound Loaf Pan': 'Kitchen & Dining > Bakeware > Bread & Loaf Pans',\n",
       " 'Melitta MEMB1B Mill &amp; Brew 10-Cup Coffeemaker, Black': 'Kitchen & Dining > Coffee > Tea & Espresso',\n",
       " 'Toastmaster 6506 Egg Head Egg Cooker': 'Kitchen & Dining > Small Appliances > Specialty Appliances',\n",
       " 'Chicago Metallic Non-Stick Large Tortilla Shell Pans, Set of 2': 'Kitchen & Dining > Bakeware > Small Pastry Molds',\n",
       " 'BonJour Caffe Froth Monet Milk Frother, Black': 'Kitchen & Dining > Small Appliance Parts & Accessories > Coffee & Espresso Machine Parts & Accessories',\n",
       " 'Salton EG1 Great Eggs Egg Poacher/Boiler': 'Kitchen & Dining > Small Appliances > Specialty Appliances',\n",
       " 'Emsa Perfect Beaker with Seal': 'Kitchen & Dining > Kitchen Utensils & Gadgets > Measuring Tools & Scales',\n",
       " 'Kuhn Rikon Safety Lid Lifter Can Opener': 'Kitchen & Dining > Kitchen Utensils & Gadgets > Can Openers',\n",
       " 'George Foreman GR30CB XXL Grill': 'Kitchen & Dining > Small Appliances > Contact Grills',\n",
       " 'Breadman TR2200C Ultimate Bread Machine': 'Kitchen & Dining > Small Appliances > Bread Machines',\n",
       " 'Chicago Metallic Commercial 18-Inch-by-13-Inch Jelly Roll Pan': 'Kitchen & Dining > Bakeware > Jelly-Roll Pans',\n",
       " 'Chicago Metallic Commercial Large Chrome Cooling Grid 15-1/2 by 12-1/2-Inch': 'Kitchen & Dining > Bakeware > Baking Tools & Accessories',\n",
       " 'Chicago Metallic 69609 Professional Nonstick Perforated Baguette Pan': 'Kitchen & Dining > Bakeware > Bread & Loaf Pans',\n",
       " 'Farberware FSC600 6-Quart Oval Slow Cooker': 'Kitchen & Dining > Small Appliances > Slow Cookers',\n",
       " 'Chicago Metallic Commercial 9-Inch Round Cake Pan': 'Kitchen & Dining > Bakeware > Cake Pans',\n",
       " 'George Foreman GR10AWHT Champ Grill': 'Kitchen & Dining > Small Appliances > Contact Grills',\n",
       " 'George Foreman GR20WHT XL Grill': 'Kitchen & Dining > Small Appliances > Contact Grills',\n",
       " 'Chicago Metallic 69610 Professional Nonstick Perforated French Bread Pan': 'Kitchen & Dining > Bakeware > Bread & Loaf Pans',\n",
       " 'Salton KM44WHT 2-Liter Iced Tea Maker, White': 'Kitchen & Dining > Small Appliances > Coffee',\n",
       " 'The Juiceman Electronic Professional Series 410 Elite Edition': 'Kitchen & Dining > Small Appliances > Juicers',\n",
       " 'Best Manufacturers Balloon Whip 12-inch Red Wood Handle': 'Kitchen & Dining > Kitchen Utensils & Gadgets > Cooking Utensils',\n",
       " 'Farberware FCP280 8-Cup Percolator': 'Kitchen & Dining > Small Appliances > Coffee',\n",
       " 'Farberware FCP512S 12-Cup Cordless Percolator': 'Kitchen & Dining > Small Appliances > Coffee',\n",
       " 'Victor M383 Fly Magnet Bait 3-Pk': 'Kitchen & Dining > Kitchen Utensils & Gadgets > Kitchen Accessories',\n",
       " 'Kenwood KM410 Chef Classic 5-Quart Stand Mixer': 'Kitchen & Dining > Small Appliances > Mixers',\n",
       " 'Joyce Chen Pro Chef 14-Inch Unseasoned Carbon Steel Wok': 'Kitchen & Dining > Cookware > Woks & Stir-Fry Pans',\n",
       " 'Joyce Chen 31-0063, Chrome Steel Wire Wok Ring': 'Kitchen & Dining > Cookware > Cookware Accessories',\n",
       " 'Kaiser Bakeware La Forme 16-by-14-Inch Cookie Sheet': 'Kitchen & Dining > Bakeware > Baking & Cookie Sheets',\n",
       " 'Pyrex Digital Probe Oven Thermometer/ Timer': 'Kitchen & Dining > Kitchen Utensils & Gadgets > Thermometers & Timers',\n",
       " 'Kaiser Bakeware Basic Tinplate 10-by 2-Inch Round Springform Pan': 'Kitchen & Dining > Bakeware > Cake Pans',\n",
       " 'Pyrex Programmable Timer': 'Kitchen & Dining > Kitchen Utensils & Gadgets > Thermometers & Timers',\n",
       " 'Kaiser Bakeware Noblesse 9-Inch Non-stick Springform Pan': 'Kitchen & Dining > Bakeware > Cake Pans',\n",
       " 'Amco 6-Quart Stainless-Steel Colander': 'Kitchen & Dining > Kitchen Utensils & Gadgets > Colanders & Food Strainers',\n",
       " 'Oneida Cocktail Shaker': 'Kitchen & Dining > Kitchen Utensils & Gadgets > Bar & Wine Tools',\n",
       " 'Oneida Stainless-Steel Tongs': 'Kitchen & Dining > Kitchen Utensils & Gadgets > Cooking Utensils',\n",
       " 'Kaiser Bakeware Noblesse 7-Inch Non-stick Springform Pan': 'Kitchen & Dining > Bakeware > Cake Pans',\n",
       " 'Pyrex 6-Piece Measuring Cup Set': 'Kitchen & Dining > Kitchen Utensils & Gadgets > Measuring Tools & Scales',\n",
       " 'Kaiser Bakeware Noblesse Non-stick Mini Springform Pans, Set of 4': 'Kitchen & Dining > Bakeware > Cake Pans',\n",
       " 'Amco 5-Cup Sifter': 'Kitchen & Dining > Bakeware > Baking Tools & Accessories',\n",
       " 'Joyce Chen 20-1140, Pro-Chef 14-Inch Round Bottom Wok with Wood Handles': 'Kitchen & Dining > Cookware > Woks & Stir-Fry Pans',\n",
       " 'Kaiser Bakeware La Forme 9-Inch Nonstick Springform Pan': 'Kitchen & Dining > Bakeware > Cake Pans',\n",
       " 'Kaiser Bakeware ExtraordinAire 16-by-14-Inch Nonstick Cookie Sheet': 'Kitchen & Dining > Bakeware > Baking & Cookie Sheets',\n",
       " 'West Bend 33600 100-Cup Commercial Coffee Urn': 'Kitchen & Dining > Dining & Entertaining > Serveware',\n",
       " 'West Bend 82306 Stir Crazy 6-Quart Electric Popcorn Popper': 'Kitchen & Dining > Small Appliances > Specialty Appliances',\n",
       " 'Chantal Stainless Steel Classic Teakettle, 1.8 Quart': 'Kitchen & Dining > Cookware > Teakettles',\n",
       " 'Hamilton Beach 76600 Smooth Edge Can Opener': 'Kitchen & Dining > Kitchen Utensils & Gadgets > Can Openers',\n",
       " 'Progressive International Clearly Fresh Bread Keeper': 'Kitchen & Dining > Storage & Organization > Bread Boxes',\n",
       " 'Progressive International Set of 3 Mini Ladles': 'Kitchen & Dining > Kitchen Utensils & Gadgets > Cooking Utensils',\n",
       " 'Progressive International GT-7436 Jumbo Tower Grater, 11-Inch': 'Kitchen & Dining > Kitchen Utensils & Gadgets > Graters',\n",
       " 'Chantal Enamel On Steel Classic Teakettle, Indigo Blue': 'Kitchen & Dining > Cookware > Teakettles',\n",
       " 'Norpro KRONA Stainless Steel 8.5 Inch Deep Colander': 'Kitchen & Dining > Kitchen Utensils & Gadgets > Colanders & Food Strainers',\n",
       " 'Progressive International Multi Slicer': 'Kitchen & Dining > Kitchen Utensils & Gadgets > Graters',\n",
       " 'Norpro Expanding Over the Sink Colander with Base Frame': 'Kitchen & Dining > Kitchen Utensils & Gadgets > Colanders & Food Strainers',\n",
       " 'Norpro Stainless Steel 5 Piece Measuring Cup Set': 'Kitchen & Dining > Kitchen Utensils & Gadgets > Measuring Tools & Scales',\n",
       " 'Progressive 5-Piece Canning Kit': 'Kitchen & Dining > Cookware > Canning',\n",
       " 'Prepworks from Progressive International GAPC-240 Apple Peeler and Corer': 'Kitchen & Dining > Kitchen Utensils & Gadgets > Graters',\n",
       " 'Zak Designs E-Z-Rol Garlic Peeler, Blue': 'Kitchen & Dining > Kitchen Utensils & Gadgets > Seasoning & Spice Tools',\n",
       " 'Norpro Grip-EZ Granny Fork': 'Kitchen & Dining > Kitchen Utensils & Gadgets > NA',\n",
       " 'Prepworks from Progressive International GPC-2549 Vegetable/French Fry Cutter': 'Kitchen & Dining > Kitchen Utensils & Gadgets > Graters',\n",
       " 'Prepworks from Progressive International GCBW-2 Butter Warmer Set': 'Kitchen & Dining > Cookware > Specialty Cookware',\n",
       " 'Simac MX700 PastaMatic Pasta Maker': 'Kitchen & Dining > Kitchen Utensils & Gadgets > Pasta & Pizza Tools',\n",
       " 'Lello 4080 Musso Lussino 1.5-Quart Ice Cream Maker, Stainless': 'Kitchen & Dining > Small Appliances > Ice Cream Machines',\n",
       " 'Norpro KRONA Stainless Steel 5 Quart Deep Colander': 'Kitchen & Dining > Kitchen Utensils & Gadgets > Colanders & Food Strainers',\n",
       " 'Progressive International Microwaveable 12-Cup (Cooked) Rice/Pasta Cooker Set': 'Kitchen & Dining > Small Appliances > Rice Cookers',\n",
       " 'Norpro KRONA Stainless Steel 8 Cup Multi Pot': 'Kitchen & Dining > Cookware > Stockpots',\n",
       " 'Amco Measure Equivalents Magnet': 'Kitchen & Dining > Kitchen Utensils & Gadgets > NA',\n",
       " 'Amco 13-Inch Splatter Screen': 'Kitchen & Dining > Kitchen Utensils & Gadgets > Specialty Tools & Gadgets',\n",
       " 'Amco Spoon Rest': 'Kitchen & Dining > Kitchen Utensils & Gadgets > Kitchen Accessories',\n",
       " 'Zwilling J.A. Henckels Twin Four Star 4-Inch High-Carbon Stainless-Steel Paring Knife': 'Kitchen & Dining > Kitchen Utensils & Gadgets > Graters',\n",
       " 'Amco Nylon Slotted Serving Spoon': 'Kitchen & Dining > Kitchen Utensils & Gadgets > Cooking Utensils',\n",
       " 'Amco Nylon Serving Fork': 'Kitchen & Dining > Kitchen Knives & Cutlery Accessories > Carving Knives & Forks',\n",
       " 'Farberware Classic 10-Quart Stainless-Steel Stockpot with Lid': 'Kitchen & Dining > Cookware > Stockpots',\n",
       " 'Zwilling J.A. Henckels Twin Pro S 2-3/4-Inch High Carbon Stainless-Steel Peeling Knife': 'Kitchen & Dining > Kitchen Knives & Cutlery Accessories > Specialty Knives',\n",
       " 'Zwilling J.A. Henckels Twin Four Star 5-Inch High Carbon Stainless-Steel Serrated Utility Knife': 'Kitchen & Dining > Kitchen Knives & Cutlery Accessories > Utility Knives',\n",
       " 'Amco Nylon Slotted Spatula': 'Kitchen & Dining > Kitchen Utensils & Gadgets > Cooking Utensils',\n",
       " 'Zwilling J.A. Henckels Twin Pro Professional &quot;S&quot; Slicing Knife 160mm/6&quot;': 'Kitchen & Dining > Kitchen Knives & Cutlery Accessories > Carving Knives & Forks',\n",
       " 'Amco Pasta Fork': 'Kitchen & Dining > Kitchen Utensils & Gadgets > Pasta & Pizza Tools',\n",
       " 'Amco Stainless-Steel and Nylon Locking Tongs': 'Kitchen & Dining > Kitchen Utensils & Gadgets > Cooking Utensils',\n",
       " \"Zwillilng J.A. Henckels Twin Four Star 8-Inch High Carbon Stainless-Steel Chef's Knife\": 'Kitchen & Dining > Kitchen Knives & Cutlery Accessories > Chefs Knives',\n",
       " 'Amco Nylon Serving Spoon': 'Kitchen & Dining > Kitchen Utensils & Gadgets > Cooking Utensils',\n",
       " 'Amco Nylon Wide Blade Spatula': 'Kitchen & Dining > Kitchen Utensils & Gadgets > Cooking Utensils',\n",
       " 'Zwilling J.A. Henckels Twin Gourmet High-Carbon Stainless Steel Steak Knives, Set of 4': 'Kitchen & Dining > Kitchen Knives & Cutlery Accessories > Cutlery Sets',\n",
       " \"Zwilling J.A. Henckels Twin Pro S 6-Inch High Carbon Stainless-Steel Chef's Knife\": 'Kitchen & Dining > Kitchen Knives & Cutlery Accessories > Chefs Knives',\n",
       " 'Henckels Gourmet 7-Piece High Carbon Stainless-Steel Knife Set with Block': 'Kitchen & Dining > Kitchen Knives & Cutlery Accessories > Cutlery Sets',\n",
       " 'J.A. HENCKELS INTERNATIONAL Classic 6-inch Cleaver': 'Kitchen & Dining > Kitchen Knives & Cutlery Accessories > Cleavers',\n",
       " 'J.A. HENCKELS INTERNATIONAL Classic 4-inch Paring Knife': 'Kitchen & Dining > Kitchen Knives & Cutlery Accessories > Paring Knives',\n",
       " 'Zwilling J.A. Henckels Twin Pro S 5-Inch Stainless-Steel Serrated Utility Knife': 'Kitchen & Dining > Kitchen Knives & Cutlery Accessories > Utility Knives',\n",
       " 'J.A. HENCKELS INTERNATIONAL Classic 8-inch Carving Knife': 'Kitchen & Dining > Kitchen Knives & Cutlery Accessories > Carving Knives & Forks',\n",
       " \"Zwilling J.A. Henckels Twin Four Star 10-Inch Stainless-Steel Chef's Knife\": 'Kitchen & Dining > Kitchen Knives & Cutlery Accessories > Chefs Knives',\n",
       " 'Zwilling J.A. Henckels Twin Pro S 9-Piece Knife Set with Block': 'Kitchen & Dining > Kitchen Knives & Cutlery Accessories > Cutlery Sets',\n",
       " 'J.A. HENCKELS INTERNATIONAL Classic 7-inch Bread Knife': 'Kitchen & Dining > Kitchen Knives & Cutlery Accessories > Bread & Serrated Knives',\n",
       " 'Amco Nylon Whisk': 'Kitchen & Dining > Kitchen Utensils & Gadgets > Cooking Utensils',\n",
       " 'Amco Skimmer': 'Kitchen & Dining > Kitchen Utensils & Gadgets > NA',\n",
       " 'J.A. Henckels Twin Four Star 3-Inch High Carbon Stainless-Steel Paring Knife': 'Kitchen & Dining > Kitchen Knives & Cutlery Accessories > Paring Knives',\n",
       " 'Farberware Classic Stainless Steel Covered Stockpot, 12-Quart': 'Kitchen & Dining > Cookware > Stockpots',\n",
       " 'Amco Nylon Slotted Wide Blade Spatula': 'Kitchen & Dining > Kitchen Utensils & Gadgets > Cooking Utensils',\n",
       " 'J.A. Henckels International Eversharp Pro 8-Inch Stainless-Steel Bread Knife': 'Kitchen & Dining > Kitchen Knives & Cutlery Accessories > Bread & Serrated Knives',\n",
       " 'Henckels International Stainless Steel Steak Knives, Set of 4': 'Kitchen & Dining > Kitchen Knives & Cutlery Accessories > Cutlery Sets',\n",
       " 'Farberware Classic Stainless Steel Covered Stockpot, 16-Quart': 'Kitchen & Dining > Cookware > Stockpots',\n",
       " 'Zwilling J.A. Henckels Twinshear Kitchen Shears, Black': 'Kitchen & Dining > Kitchen Knives & Cutlery Accessories > Shears',\n",
       " 'Zwilling J.A. Henckels Twin Pro-S 2-Piece Carving Set': 'Kitchen & Dining > Kitchen Knives & Cutlery Accessories > Cutlery Sets',\n",
       " 'Zwilling J.A. Henckels Twin Pro S 12-Inch Honing Steel': 'Kitchen & Dining > Kitchen Knives & Cutlery Accessories > Knife Sharpeners',\n",
       " 'J.A. Henckels International Fine Edge Pro 5-Inch Stainless-Steel Utility Knife': 'Kitchen & Dining > Kitchen Knives & Cutlery Accessories > Utility Knives',\n",
       " 'Zwilling J.A. Henckels Twinsharp Knife Sharpener': 'Kitchen & Dining > Kitchen Knives & Cutlery Accessories > Knife Sharpeners',\n",
       " 'Zwilling J.A. Henckels Twin Pro S 5.5-Inch High Carbon Stainless-Steel Boning Knife': 'Kitchen & Dining > Kitchen Knives & Cutlery Accessories > Boning & Fillet Knives',\n",
       " 'J.A. HENCKELS INTERNATIONAL Eversharp Pro 2-pc Carving Knife Set': 'Kitchen & Dining > Kitchen Knives & Cutlery Accessories > Carving Knives & Forks',\n",
       " '4 PC Stainless Steel Steak Set': 'Kitchen & Dining > Kitchen Knives & Cutlery Accessories > Cutlery Sets',\n",
       " 'J.A. HENCKELS INTERNATIONAL Fine Edge Pro 3-pc Starter Knife Set': 'Kitchen & Dining > Kitchen Knives & Cutlery Accessories > Cutlery Sets',\n",
       " 'Nordic Ware Cast Platinum Bundt Fancy Loaf Pan': 'Kitchen & Dining > Bakeware > Cake Pans',\n",
       " 'J.A. HENCKELS INTERNATIONAL Classic 6-inch Utility Knife': 'Kitchen & Dining > Kitchen Knives & Cutlery Accessories > Utility Knives',\n",
       " 'Nordic Ware Bundt Fancy Springform Pan with 2 Bottoms, 9 Inch': 'Kitchen & Dining > Bakeware > Cake Pans',\n",
       " 'J.A. Henckels International Fine Edge Pro 3-Inch Stainless Steel Paring Knife': 'Kitchen & Dining > Kitchen Knives & Cutlery Accessories > Paring Knives',\n",
       " 'Nordic Ware Scandinavian Silver Dollar Pancake Pan': 'Kitchen & Dining > Cookware > Griddles',\n",
       " 'J.A. Henckels 9-Inch Poly Sharpening Steel': 'Kitchen & Dining > Kitchen Knives & Cutlery Accessories > Knife Sharpeners',\n",
       " 'VillaWare V3000 Classic Waffler Round': 'Kitchen & Dining > Small Appliances > Waffle Irons',\n",
       " 'Nordic Ware Heavyweight Angel Food Cake Pan, 10 Inch': 'Kitchen & Dining > Bakeware > Cake Pans',\n",
       " 'Ronco ST5000PLGEN Showtime Rotisserie Platinum Edition': 'Kitchen & Dining > Small Appliances > Ovens & Toasters',\n",
       " 'Nordic Ware Pro Form Heavyweight 12 Cup Bundt Pan': 'Kitchen & Dining > Bakeware > Cake Pans',\n",
       " 'Bialetti 275-06 Moka Express 6-Cup Espresso Maker': 'Kitchen & Dining > Coffee > Tea & Espresso',\n",
       " 'VillaWare V3850 Quattro Pizzelle Baker': 'Kitchen & Dining > Small Appliances > Specialty Appliances',\n",
       " 'Zwilling J.A. Henckels Twin Four Star 7-Inch High Carbon Stainless-Steel Fillet knife': 'Kitchen & Dining > Kitchen Knives & Cutlery Accessories > Cutlery Sets',\n",
       " 'Zwilling J.A. Henckels Twin High Carbon Stainless-Steel Meat Cleaver': 'Kitchen & Dining > Kitchen Knives & Cutlery Accessories > Cleavers',\n",
       " 'Nordic Ware Toaster Oven 2-Piece Broiler Set': 'Kitchen & Dining > Cookware > Toaster Oven Cookware',\n",
       " 'J.A. Henckels International Eversharp Pro 5-Inch Stainless-Steel Utility Knife': 'Kitchen & Dining > Kitchen Knives & Cutlery Accessories > Utility Knives',\n",
       " 'J.A. Henckels International Eversharp Pro Stainless Steel Steak Knives, Set of 4': 'Kitchen & Dining > Kitchen Knives & Cutlery Accessories > Cutlery Sets',\n",
       " 'Nordic Ware Quiche and Tart Pan, 8 Inch': 'Kitchen & Dining > Bakeware > Pie',\n",
       " 'Nordic Ware Platinum Collection Original Bundt Pan, 12 Cup': 'Kitchen & Dining > Bakeware > Cake Pans',\n",
       " \"J.A. HENCKELS INTERNATIONAL Classic 8-inch Chef's Knife\": 'Kitchen & Dining > Kitchen Knives & Cutlery Accessories > Chefs Knives',\n",
       " 'Nordic Ware Round Cooling Rack, 13.25 Inch Diameter': 'Kitchen & Dining > Kitchen Utensils & Gadgets > Kitchen Accessories',\n",
       " 'J.A. HENCKELS INTERNATIONAL Classic 5-inch Serrated Utility Knife': 'Kitchen & Dining > Kitchen Knives & Cutlery Accessories > Bread & Serrated Knives',\n",
       " 'VillaWare V3900 Krumkake Baker': 'Kitchen & Dining > Small Appliances > Waffle Irons',\n",
       " 'ZWILLING J.A HENCKELS 7-pocket Knife Roll': 'Kitchen & Dining > Kitchen Knives & Cutlery Accessories > Knife Blocks & Storage',\n",
       " 'Nordic Ware Pro Cast Star Bundt Pan': 'Kitchen & Dining > Bakeware > Cake Pans',\n",
       " 'VillaWare V5000-NS Prima Pizzelle Baker Non-stick': 'Kitchen & Dining > Small Appliances > Specialty Appliances',\n",
       " 'Bunn A10 Pour-O-Matic Coffee Brewer': 'Kitchen & Dining > Coffee > Tea & Espresso',\n",
       " 'Nordic Ware Danish Ebleskiver Pan': 'Kitchen & Dining > Bakeware > Cake Pans',\n",
       " 'Nordic Ware Toaster Oven Casserole Pan, 1.5 Quart': 'Kitchen & Dining > Bakeware > Bakers & Casseroles',\n",
       " 'Zwilling J.A. Henckels Four Star 6-Inch Stainless-Steel Slicing Knife': 'Kitchen & Dining > Kitchen Knives & Cutlery Accessories > Utility Knives',\n",
       " 'Nordic Ware Compact Ovenware Baking Sheet': 'Kitchen & Dining > Bakeware > Baking & Cookie Sheets',\n",
       " 'DeLonghi DCG4T Deluxe Burr Coffee Grinder with Timer': 'Kitchen & Dining > Coffee > Tea & Espresso',\n",
       " 'Amco Basic Ingredients Stainless Steel Measuring Cups, Set of 4': 'Kitchen & Dining > Kitchen Utensils & Gadgets > Measuring Tools & Scales',\n",
       " 'Delonghi RT400 4-Slice Retro Toaster': 'Kitchen & Dining > Small Appliances > Ovens & Toasters',\n",
       " 'DeLonghi D895UX Cool-Touch ROTO Electric 1-1/2-Pound-Capacity Food Fryer': 'Kitchen & Dining > Small Appliances > Deep Fryers',\n",
       " 'Amco 9 Quart Stainless Steel Mixing Bowl': 'Kitchen & Dining > Bakeware > Mixing Bowls',\n",
       " 'Amco 4-Piece Stainless-Steel Measuring Spoon Set': 'Kitchen & Dining > Kitchen Utensils & Gadgets > Measuring Tools & Scales',\n",
       " 'J.A. HENCKELS INTERNATIONAL Fine Edge Pro 8-inch Bread Knife': 'Kitchen & Dining > Kitchen Knives & Cutlery Accessories > Bread & Serrated Knives',\n",
       " 'Farberware Classic 2-Qt. Covered Double Boiler': 'Kitchen & Dining > Cookware > Saucepans',\n",
       " 'Amco Large Scoop Colander': 'Kitchen & Dining > Kitchen Utensils & Gadgets > Colanders & Food Strainers',\n",
       " 'Amco 3-Quart Stainless Steel Mixing bowl': 'Kitchen & Dining > Bakeware > Mixing Bowls',\n",
       " 'Amco 4.5-Quart Stainless-Steel Mixing Bowl': 'Kitchen & Dining > Bakeware > Mixing Bowls',\n",
       " 'Amco 6.5-Quart Stainless Steel Mixing Bowl': 'Kitchen & Dining > Bakeware > Mixing Bowls',\n",
       " 'VillaWare V6150 4-Square Belgian Waffler/Multi-Baker, Stainless Steel': 'Kitchen & Dining > Small Appliances > Waffle Irons',\n",
       " 'Amco Cheese Grater': 'Kitchen & Dining > Kitchen Utensils & Gadgets > Graters',\n",
       " \"Vic Firth Baker's Rolling Pin\": 'Kitchen & Dining > Bakeware > Baking Tools & Accessories',\n",
       " 'Hoffritz Stainless-Steel Mandoline Slicer': 'Kitchen & Dining > Kitchen Utensils & Gadgets > Graters',\n",
       " 'Farberware Professional Knife Sharpener': 'Kitchen & Dining > Kitchen Knives & Cutlery Accessories > Knife Sharpeners',\n",
       " 'Vic Firth French Rolling Pin': 'Kitchen & Dining > Bakeware > Baking Tools & Accessories',\n",
       " 'Hoffritz Stainless-Steel Vegetable Peeler': 'Kitchen & Dining > Kitchen Utensils & Gadgets > Graters',\n",
       " 'Hoffritz Stainless-Steel Scraper/Chopper': 'Kitchen & Dining > Kitchen Utensils & Gadgets > Seasoning & Spice Tools',\n",
       " 'Briel ES35AF Chamonix Pump Espresso Machine With Auto Espresso Flow': 'Kitchen & Dining > Coffee > Tea & Espresso',\n",
       " 'Catskill Craftsmen Wood Pastry Board with Baking Graphics': 'Kitchen & Dining > Bakeware > NA',\n",
       " 'Catskill Craftsmen Wood End Grain Cutting Slab': 'Kitchen & Dining > Kitchen Knives & Cutlery Accessories > Cutting Boards',\n",
       " 'Progressive International 11-Ounce Salt and Pepper Shakers': 'Kitchen & Dining > Kitchen Utensils & Gadgets > Salt & Pepper',\n",
       " 'Natural Flexible Cutting Board 8.5&quot; x 11.5&quot; , 1 Each': 'Kitchen & Dining > Kitchen Knives & Cutlery Accessories > Cutting Boards',\n",
       " 'Catskill Craftsmen Adjustable Wood Over-the-Sink Board': 'Kitchen & Dining > Kitchen Knives & Cutlery Accessories > Cutting Boards',\n",
       " 'Progressive Stainless Steel Mesh Tea Ball': 'Kitchen & Dining > Coffee > Tea & Espresso',\n",
       " 'Beyond Gourmet Unbleached Parchment Paper, 71-Square Foot Roll': 'Kitchen & Dining > Bakeware > Baking Tools & Accessories',\n",
       " 'Kitchen Supply 13 Inch x 17 Inch Parchment Paper': 'Kitchen & Dining > Bakeware > Baking Tools & Accessories',\n",
       " \"Chef's Choice 830 WafflePro Heart Waffle Iron\": 'Kitchen & Dining > Small Appliances > Waffle Irons',\n",
       " 'Frieling 9-Inch Glass Bottom Nonstick Springform Pan': 'Kitchen & Dining > Bakeware > Cake Pans',\n",
       " 'Norpro 3301 Deluxe Biscuit/Cookie Press': 'Kitchen & Dining > Bakeware > Baking Tools & Accessories',\n",
       " 'Ateco #786 Large Tube Set, 12 pcs.': 'Kitchen & Dining > Bakeware > Decorating Tools',\n",
       " \"Mrs. Anderson's Baking Pie Crust Shield, 10-Inch\": 'Kitchen & Dining > Bakeware > Pie',\n",
       " '126&quot; x 36&quot; Cheesecloth': 'Kitchen & Dining > Kitchen Utensils & Gadgets > Colanders & Food Strainers',\n",
       " 'SCI Scandicrafts Fluted Deep Tart/Quiche Mold, Removable Bottom 10-inch Diameter by 2-inch Deep': 'Kitchen & Dining > Bakeware > Pie',\n",
       " 'Sassafras / Natural Wood Pizza Peel': 'Kitchen & Dining > Kitchen Utensils & Gadgets > Pasta & Pizza Tools',\n",
       " 'Gobel Rectangular Tart Pan - 4 &times; 14': 'Kitchen & Dining > Bakeware > Pie',\n",
       " 'Ateco 6-Piece Graduated Star Cookie Cutter Set': 'Kitchen & Dining > Bakeware > Baking Tools & Accessories',\n",
       " 'Thermos 14-Ounce Stainless-Steel Insulated Travel Tumbler': 'Kitchen & Dining > Dining & Entertaining > Glassware & Drinkware',\n",
       " \"Chef's Choice 110 Professional Diamond Hone Sharpener\": 'Kitchen & Dining > Kitchen Knives & Cutlery Accessories > Knife Sharpeners',\n",
       " 'Leak Resist Tumbler 14 oz': 'Kitchen & Dining > Dining & Entertaining > Glassware & Drinkware',\n",
       " 'Ateco Graduated Heart Cookie Cutters, Set of 6': 'Kitchen & Dining > Bakeware > Baking Tools & Accessories',\n",
       " 'Thermos 34-Ounce Vacuum Insulated Stainless-Steel Gourmet Coffee Press': 'Kitchen & Dining > Small Appliance Parts & Accessories > Coffee & Espresso Machine Parts & Accessories',\n",
       " 'Prodyne K-3-A  Set of 3 Cheese Knives, wood handle': 'Kitchen & Dining > Kitchen Knives & Cutlery Accessories > Specialty Knives',\n",
       " 'Prodyne 805B Thick Beech wood Cheese Slicer': 'Kitchen & Dining > Kitchen Utensils & Gadgets > Graters',\n",
       " 'Ateco Graduated Daisy Cookie Cutters, Set of 6': 'Kitchen & Dining > Bakeware > Baking Tools & Accessories',\n",
       " \"Chef's Choice Multi-Edge Diamond Hone Knife Sharpener\": 'Kitchen & Dining > Kitchen Knives & Cutlery Accessories > Knife Sharpeners',\n",
       " 'Ateco 11 Piece Fluted Round Cutter Set': 'Kitchen & Dining > Bakeware > Baking Tools & Accessories',\n",
       " \"Mrs. Anderson's Baking Cookie Cutter Set, Leaves\": 'Kitchen & Dining > Bakeware > Baking Tools & Accessories',\n",
       " 'Prodyne Beechwood Cheese Tray with Cracker Well': 'Kitchen & Dining > Kitchen Utensils & Gadgets > Graters',\n",
       " 'Thermos Stainless-Steel Vacuum Insulated Bottle': 'Kitchen & Dining > Small Appliance Parts & Accessories > Coffee & Espresso Machine Parts & Accessories',\n",
       " 'SuperStone /Covered Baker': 'Kitchen & Dining > Bakeware > Bread & Loaf Pans',\n",
       " 'Ateco 690 Pastry Cloth &amp; Rolling Pin Cover, 25&quot; X 20&quot;': 'Kitchen & Dining > Bakeware > Baking Tools & Accessories',\n",
       " 'Thermos 12-Ounce Stainless-Steel Tea Tumbler with Infuser': 'Kitchen & Dining > Storage & Organization > Commuter Mugs & Tumblers',\n",
       " 'Patisse Steam Pudding Mold, 2-Liter': 'Kitchen & Dining > Bakeware > Small Pastry Molds',\n",
       " 'SuperStone / 11&quot; La Cloche Dome Baker': 'Kitchen & Dining > Bakeware > Bread & Loaf Pans',\n",
       " \"Chef's Choice 120 Diamond Hone 3-Stage Professional Knife Sharpener, White\": 'Kitchen & Dining > Kitchen Knives & Cutlery Accessories > Knife Sharpeners',\n",
       " \"Mrs. Anderson's Baking Ceramic Pie Weights\": 'Kitchen & Dining > Bakeware > Baking Tools & Accessories',\n",
       " 'Grass Hook For Trimming High Weeds/Grass - 1.5&quot; X 0.75&quot; X 0.25&quot; - Black': 'Storage & Organization > Home Storage Hooks > Utility Hooks',\n",
       " 'Progressive International Biscuit and Cookie Cutter Set': 'Kitchen & Dining > Bakeware > Baking Tools & Accessories',\n",
       " 'Polder 550 Oven Thermometer, Stainless Steel': 'Kitchen & Dining > Kitchen Utensils & Gadgets > Thermometers & Timers',\n",
       " 'Polder 307 Preset Thermometer, White': 'Kitchen & Dining > Kitchen Utensils & Gadgets > Thermometers & Timers',\n",
       " 'Polder Cooking Thermometer with Timer and Clock': 'Kitchen & Dining > Kitchen Utensils & Gadgets > Thermometers & Timers',\n",
       " \"Polder 2109 Gourmet Add'N'Weigh Scale, 5-Pound\": 'Kitchen & Dining > Kitchen Utensils & Gadgets > Measuring Tools & Scales',\n",
       " 'Polder 891-90 Triple Kitchen 20-Hour Timer/Clock/Stopwatch': 'Kitchen & Dining > Kitchen Utensils & Gadgets > Thermometers & Timers',\n",
       " 'Scanpan Classic 10-1/4-Inch Fry Pan': 'Kitchen & Dining > Cookware > Skillets',\n",
       " 'WMF Manhattan Stainless Steel Wine Cooler': 'Kitchen & Dining > Kitchen Utensils & Gadgets > Bar & Wine Tools',\n",
       " 'Scanpan Classic 3-Piece Starter Set': 'Kitchen & Dining > Cookware > Cookware Sets',\n",
       " 'WMF Profi-Plus 14-Inch Stainless-Steel Ball Whisk': 'Kitchen & Dining > Kitchen Utensils & Gadgets > Cooking Utensils',\n",
       " 'BIA Cordon Bleu 1-Quart Round Quiche, White': 'Kitchen & Dining > Bakeware > Pie',\n",
       " 'WMF Two-in-One Stainless Steel Salt &amp; Pepper Cylinder': 'Kitchen & Dining > Kitchen Utensils & Gadgets > Salt & Pepper',\n",
       " 'Polder 898-90 Clock, Timer &amp; Stopwatch, White': 'Kitchen & Dining > Kitchen Utensils & Gadgets > Thermometers & Timers',\n",
       " 'WMF Profi-Plus 11 -Inch Stainless Steel Ball Whisk': 'Kitchen & Dining > Kitchen Utensils & Gadgets > Cooking Utensils',\n",
       " 'Polder 77-90 Diet Utility Scale, White': 'Kitchen & Dining > Kitchen Utensils & Gadgets > Measuring Tools & Scales',\n",
       " 'Polder 11-Pound Stainless-Steel Kitchen Scale': 'Kitchen & Dining > Kitchen Utensils & Gadgets > Measuring Tools & Scales',\n",
       " 'Zojirushi BBCC-V20 Home Bakery Traditional Breadmaker': 'Kitchen & Dining > Small Appliances > Bread Machines',\n",
       " 'Zojirushi NHS-18 10-Cup (Uncooked) Rice Cooker/Steamer &amp; Warmer': 'Kitchen & Dining > Small Appliances > Rice Cookers',\n",
       " 'Zojirushi Premium Thermal 1-Liter Carafe, Brushed Stainless Steel': 'Kitchen & Dining > Dining & Entertaining > Serveware',\n",
       " 'Zojirushi NS-KCC05 Micom Programmable 3-Cup Rice Cooker &amp; Warmer': 'Kitchen & Dining > Small Appliances > Rice Cookers',\n",
       " 'Zojirushi NHS-10 6-Cup (Uncooked) Rice Cooker/Steamer &amp; Warmer, White': 'Kitchen & Dining > Small Appliances > Rice Cookers',\n",
       " 'BIA Cordon Bleu 60-Ounce Utensil Crock, White': 'Kitchen & Dining > Storage & Organization > Utensil Organizers',\n",
       " 'Zojirushi NS-JCC18 Neuro Fuzzy 10-Cup Rice Cooker &amp; Warmer': 'Kitchen & Dining > Small Appliances > Rice Cookers',\n",
       " 'Zojirushi Premium Thermal 1.85 liter Carafe, Brushed Stainless Steel': 'Kitchen & Dining > Small Appliance Parts & Accessories > Coffee & Espresso Machine Parts & Accessories',\n",
       " 'Zojirushi NHS-06 3-Cup (Uncooked) Rice Cooker': 'Kitchen & Dining > Small Appliances > Rice Cookers',\n",
       " 'Pecoware Thomas Side Kick Lunch Box Set': 'Kitchen & Dining > Storage & Organization > Lunch Boxes & Bags',\n",
       " 'Microplane 35001 Home Series Coarse Grater, Black': 'Kitchen & Dining > Kitchen Utensils & Gadgets > Graters',\n",
       " 'Progressive International Can Colander': 'Kitchen & Dining > Kitchen Utensils & Gadgets > Colanders & Food Strainers',\n",
       " 'Microplane 40001 Stainless Steel Zester': 'Kitchen & Dining > Kitchen Utensils & Gadgets > Fruit & Vegetable Tools',\n",
       " 'Le Creuset Silicone Large Spatula Spoon, Cobalt': 'Kitchen & Dining > Kitchen Utensils & Gadgets > Cooking Utensils',\n",
       " 'Olde Thompson 17-Inch Hotel Walnut Peppermill': 'Kitchen & Dining > Kitchen Utensils & Gadgets > Salt & Pepper',\n",
       " 'Microplane 40020 Classic Zester/Grater': 'Kitchen & Dining > Kitchen Utensils & Gadgets > Graters',\n",
       " 'Wilton 2109-859 50-Piece Tool and Caddy Decorating Set': 'Kitchen & Dining > Bakeware > Decorating Tools',\n",
       " 'Microplane 40016 Classic Black Spice Grater': 'Kitchen & Dining > Kitchen Utensils & Gadgets > Graters',\n",
       " 'Wilton Comfort Grip Heart Cutter': 'Kitchen & Dining > Bakeware > Baking Tools & Accessories',\n",
       " 'Microplane 35002 Home Series Fine Grater': 'Kitchen & Dining > Kitchen Utensils & Gadgets > Graters',\n",
       " 'Wilton 2104-2546 53 Piece Supreme Cake Decorating Set': 'Kitchen & Dining > Bakeware > Decorating Tools',\n",
       " 'Wilton Decorative Preferred 12 by 3-Inch Round Pan': 'Kitchen & Dining > Bakeware > Cake Pans',\n",
       " 'Wilton 28-Piece Deluxe Tip Set': 'Kitchen & Dining > Bakeware > Decorating Tools',\n",
       " 'Le Creuset Silicone Super Spatula, Cobalt': 'Kitchen & Dining > Kitchen Utensils & Gadgets > Cooking Utensils',\n",
       " 'Wilton Basic Cake Decorating Set': 'Kitchen & Dining > Bakeware > Decorating Tools',\n",
       " 'Wilton 2104-7778 Master Tip Set': 'Kitchen & Dining > Bakeware > Decorating Tools',\n",
       " \"Chef's Design 11-by-19-1/2-Inch Ultimate Griddle\": 'Kitchen & Dining > Cookware > Griddles',\n",
       " 'Wilton Cake Leveler': 'Kitchen & Dining > Bakeware > Decorating Tools',\n",
       " 'All American 921 21-1/2-Quart Pressure Cooker/Canner': 'Kitchen & Dining > Cookware > Canning',\n",
       " 'KitchenAid Five-Ply Stainless-Steel Clad 2-1/2-Quart Saucier with Lid': 'Kitchen & Dining > Cookware > Sauciers',\n",
       " 'Meyer Circulon Open Stir Fry Pan 11&quot;': 'Kitchen & Dining > Cookware > Woks & Stir-Fry Pans',\n",
       " 'Waring MBB520 Bar Blender, Bright Copper': 'Kitchen & Dining > Dining & Entertaining > Bar Tools & Glasses',\n",
       " 'Waring PBB201 Professional Bar Blender, Quite White': 'Kitchen & Dining > Dining & Entertaining > Bar Tools & Glasses',\n",
       " 'Waring PDM101 Drink Mixer, Quite White': 'Kitchen & Dining > Small Appliances > Mixers',\n",
       " 'Waring PCJ201 Citrus Juicer, Quite White': 'Kitchen & Dining > Small Appliances > Juicers',\n",
       " 'Circulon Classic 12-Inch Nonstick French Skillet': 'Kitchen & Dining > Cookware > Skillets',\n",
       " 'Waring WPB05 Professional Kitchen Blender, Chrome': 'Kitchen & Dining > Small Appliances > Blenders',\n",
       " 'Cuisinart DLC-093 3-Piece Specialty Disc Set, Fits 14-Cup Processor': 'Kitchen & Dining > Small Appliance Parts & Accessories > Food Processor Parts & Accessories',\n",
       " 'Cuisinart DLC-835TXAMZ Fine Grater Disc, Fits 7- and 11-Cup Processors': 'Kitchen & Dining > Kitchen Utensils & Gadgets > Cheese Tools',\n",
       " 'Cuisinart DLC-833TXAMZ 3-by-3mm Medium Square Julienne Disc, Fits 7 and 11-Cup Processors': 'Kitchen & Dining > Small Appliance Parts & Accessories > Food Processor Parts & Accessories',\n",
       " 'Cuisinart WMB-2 2-Slice Belgian Waffle Maker': 'Kitchen & Dining > Small Appliances > Waffle Irons',\n",
       " 'Cuisinart BDH-2 Blade and Disc Holder': 'Kitchen & Dining > Small Appliance Parts & Accessories > Food Processor Parts & Accessories',\n",
       " 'Cuisinart DLC-042TX Stainless Steel Thin Slicing Disc 2-mm.': 'Kitchen & Dining > Small Appliance Parts & Accessories > Food Processor Parts & Accessories',\n",
       " 'Cuisinart DCC-100 Coffee Bar Classic 10-Cup Coffeemaker, White': 'Kitchen & Dining > Coffee > Tea & Espresso',\n",
       " 'Cuisinart CPT-70 Classic Style Toaster': 'Kitchen & Dining > Small Appliances > Ovens & Toasters',\n",
       " 'Cuisinart BFP-703 SmartPower Duet Blender and Food Processor, White': 'Kitchen & Dining > Small Appliances > Mixers',\n",
       " 'Cuisinart DLC-035TXAMZ Fine Grater Disc, Fits 14-Cup Processor': 'Kitchen & Dining > Small Appliance Parts & Accessories > Food Processor Parts & Accessories',\n",
       " 'Cuisinart DLC-846TX 6mm Thick Slicing Disc, Fits 7 and 11-Cup Processors': 'Kitchen & Dining > Small Appliance Parts & Accessories > Food Processor Parts & Accessories',\n",
       " 'Cuisinart KUA-17 1-3/4-Quart Cordless Automatic Electric Kettle': 'Kitchen & Dining > Small Appliances > Coffee',\n",
       " 'Cuisinart DLC-873 3-Piece Standard Disc Set, Fits 7- and 11-Cup Processors': 'Kitchen & Dining > Small Appliance Parts & Accessories > Food Processor Parts & Accessories',\n",
       " 'Cuisinart DCG-20N Coffee Bar Coffee Grinder, White': 'Kitchen & Dining > Coffee > Tea & Espresso',\n",
       " 'Cuisinart DLC-836 6-by-6mm Fruit, Vegetable and French Fry Disc Fits 7 and 11-Cup Processors': 'Kitchen & Dining > Small Appliance Parts & Accessories > Food Processor Parts & Accessories',\n",
       " 'Cuisinart DLC-036TXAMZ 6-by-6mm Fruit, Vegetable and French Fry Disc, Fits 14-Cup Processor': 'Kitchen & Dining > Small Appliance Parts & Accessories > Food Processor Parts & Accessories',\n",
       " 'Cuisinart DGB-300 Automatic Grind &amp; Brew 10-Cup Coffeemaker, White': 'Kitchen & Dining > Coffee > Tea & Espresso',\n",
       " 'Cuisinart DLC-834TX Fine Shredding Disc, Fits 7 and 11-Cup Processors': 'Kitchen & Dining > Small Appliance Parts & Accessories > Food Processor Parts & Accessories',\n",
       " 'Cuisinart ICE-RFB 1-1/2-Quart Additional Freezer Bowl, Fits ICE-20/21 Ice Cream Maker': 'Kitchen & Dining > Small Appliances > Ice Cream Machines',\n",
       " 'Cuisinart DLC-10S Pro Classic 7-Cup Food Processor, White': 'Kitchen & Dining > Small Appliances > Food Processors',\n",
       " 'Cuisinart DLC-8S Pro Custom 11-Cup Food Processor, White': 'Kitchen & Dining > Small Appliances > Food Processors',\n",
       " 'Cuisinart AFP-7 3-Cup Food Processor Duet Attachment, White': 'Kitchen & Dining > Small Appliance Parts & Accessories > Food Processor Parts & Accessories',\n",
       " 'Cuisinart DLC-XPN Classic 20-Cup Food Processor, White': 'Kitchen & Dining > Small Appliances > Food Processors',\n",
       " 'Braun MX2050 PowerMax Jug Blender': 'Kitchen & Dining > Small Appliances > Blenders',\n",
       " 'Jupiter Large Commercial Juice Press, White': 'Kitchen & Dining > Kitchen Utensils & Gadgets > Fruit & Vegetable Tools',\n",
       " '220 Volt Braun MP80 Juice Exractor- WILL NOT WORK IN THE USA': 'Kitchen & Dining > Small Appliances > Juicers',\n",
       " 'Braun KF187W FlavorSelect 12-Cup Coffeemaker, White': 'Kitchen & Dining > Coffee > Tea & Espresso',\n",
       " 'Cuisinart MM-2M Mini Mate Chopper and Grinder': 'Kitchen & Dining > Small Appliances > Food Processors',\n",
       " 'Braun MR430HC Multiquick Deluxe Hand Blender &amp; Chopper': 'Kitchen & Dining > Small Appliances > Blenders',\n",
       " 'Braun WK200W Aqua Express Electric Water Kettle, White': 'Kitchen & Dining > Small Appliances > Coffee',\n",
       " 'La Pavoni EPC-8 Europiccola 8-Cup Lever Style Espresso Machine, Chrome': 'Kitchen & Dining > Coffee > Tea & Espresso',\n",
       " 'Braun MPZ22 Citromatic Deluxe Citrus Juicer': 'Kitchen & Dining > Small Appliances > Juicers',\n",
       " 'Lodge Original Finish 12-Inch Cast Iron Skillet': 'Kitchen & Dining > Cookware > Skillets',\n",
       " 'La Pavoni PA-Burr Coffee Grinder, White': 'Kitchen & Dining > Coffee > Tea & Espresso',\n",
       " 'La Pavoni EPBB-8 Europiccola 8-Cup Lever Style Espresso Machine, Black Base': 'Kitchen & Dining > Coffee > Tea & Espresso',\n",
       " 'Lodge Original Finish Cast Iron Eight-Section Cornbread Skillet': 'Kitchen & Dining > Cookware > Skillets',\n",
       " 'Lodge 10-1/2-Inch Cast Iron Square Grill Pan': 'Kitchen & Dining > Cookware > Grill Pans',\n",
       " 'Braun FlavorSelect Patented Water Filter': 'Kitchen & Dining > Small Appliance Parts & Accessories > Coffee & Espresso Machine Parts & Accessories',\n",
       " 'Polder 6116 18/8 Stainless Steel Dish Rack': 'Kitchen & Dining > Storage & Organization > Dish Racks',\n",
       " 'Sitram Catering 3.0 quart Commercial Stainless Steel Saucepan': 'Kitchen & Dining > Cookware > Saucepans',\n",
       " 'Polder 210201 Deluxe Steel Bread Box, White': 'Kitchen & Dining > Storage & Organization > Bread Boxes',\n",
       " 'Sitram Catering 9.5-Inch Commercial Stainless Steel Lid': 'Kitchen & Dining > NA > NA',\n",
       " 'Vacu Vin WineMaster Corkscrew, Clear': 'Kitchen & Dining > Kitchen Utensils & Gadgets > Bar & Wine Tools',\n",
       " 'Vacu Vin Food Saver, Set of 4': 'Kitchen & Dining > Kitchen Utensils & Gadgets > Bar & Wine Tools',\n",
       " 'Vacu Vin Guy Buffet Rapid Ice Wine Chiller, Sommeliers': 'Kitchen & Dining > Wine Accessories > Wine Chillers',\n",
       " 'Sanyo SK-7W Space Saving Toaster Oven, White': 'Kitchen & Dining > Small Appliances > Ovens & Toasters',\n",
       " 'Sitram Catering 11-Inch Commercial Stainless Steel Fry Pan': 'Kitchen & Dining > Cookware > All Pans',\n",
       " 'Sitram Profiserie 7 7/8-Inch Stainless Steel Lid': 'Kitchen & Dining > Cookware > Lids',\n",
       " 'Vacu Vin Wine Saver Extra Stoppers, Set of 2': 'Kitchen & Dining > Kitchen Utensils & Gadgets > Bar & Wine Tools',\n",
       " 'William Bounds Nut Twister Nutmeg Mill, Chrome': 'Kitchen & Dining > Kitchen Utensils & Gadgets > Salt & Pepper',\n",
       " 'Vacu Vin 3-Piece Wine Saver Pump and Stopper, White': 'Kitchen & Dining > Kitchen Utensils & Gadgets > Bar & Wine Tools',\n",
       " 'Maverick SEC-2 Henrietta Hen Egg Cooker, White': 'Kitchen & Dining > Small Appliances > Specialty Appliances',\n",
       " 'Le Creuset Enameled Cast-Iron 2-Quart Heart Casserole, Red': 'Kitchen & Dining > Bakeware > Bakers & Casseroles',\n",
       " 'Le Creuset Enameled Cast-Iron 7-1/2-Quart Bouillabaisse Pot, Cherry': 'Kitchen & Dining > Bakeware > Bakers & Casseroles',\n",
       " 'Le Creuset Enameled Cast-Iron 1-3/4-Quart Traditional Fondue Pot, Flame': 'Kitchen & Dining > Cookware > Fondue',\n",
       " 'Le Creuset Stoneware 12-1/2-by-9-1/2-Inch Rectangular Baking Dish,  Cherry': 'Kitchen & Dining > Bakeware > Bakers & Casseroles',\n",
       " 'Le Creuset Enameled Steel Stock Pot with Lid, Cherry': 'Kitchen & Dining > Cookware > Stockpots',\n",
       " 'Le Creuset Enameled Cast-Iron 6-3/4-Quart Oval French Oven, Red': 'Kitchen & Dining > Cookware > Dutch Ovens',\n",
       " 'Le Creuset Square Skillet Grill Pan': 'Kitchen & Dining > Cookware > Grill Pans',\n",
       " 'Le Creuset Enameled Cast-Iron 2-1/4-Quart Pumpkin Casserole, Flame': 'Kitchen & Dining > NA > NA',\n",
       " 'Le Creuset Stoneware 2-1/4-Quart Pitcher, Cherry': 'Kitchen & Dining > Dining & Entertaining > Serveware',\n",
       " 'Le Creuset Stoneware 14-Inch Oval Baking Dish, Cherry': 'Kitchen & Dining > Bakeware > Bakers & Casseroles',\n",
       " 'Le Creuset Enameled Cast-Iron 5-1/2-Quart Round French Oven, Red': 'Kitchen & Dining > Cookware > Dutch Ovens',\n",
       " 'Black &amp; Decker CJ525 CitrusMate Plus Citrus Juicer': 'Kitchen & Dining > Small Appliances > Juicers',\n",
       " 'Black &amp; Decker EC1200 Grand Openings Can Opener': 'Kitchen & Dining > Kitchen Utensils & Gadgets > Can Openers',\n",
       " 'Black &amp; Decker HS2000 Flavor Scenter Steamer and Rice Cooker': 'Kitchen & Dining > Small Appliances > Rice Cookers',\n",
       " 'Roshco 100-Piece Plastic Cookie Cutter Set': 'Kitchen & Dining > Bakeware > Baking Tools & Accessories',\n",
       " 'T-fal 532840 Avante Deluxe 4-Slice Toaster, Black/Chrome': 'Kitchen & Dining > Small Appliances > Ovens & Toasters',\n",
       " 'KitchenAid KSB5 5-Speed Blender, Empire Red': 'Kitchen & Dining > Small Appliances > Blenders',\n",
       " 'KitchenAid KSB5 5-Speed Blender, Onyx Black/Stainless Steel': 'Kitchen & Dining > Small Appliances > Blenders',\n",
       " 'KitchenAid KSB5 5-Speed Blender, Cobalt Blue': 'Kitchen & Dining > Small Appliances > Blenders',\n",
       " 'Kamenstein 16-Jar Beechwood Revolving Spice Rack': 'Kitchen & Dining > Kitchen Utensils & Gadgets > Seasoning & Spice Tools',\n",
       " 'KitchenAid GMA Grain Mill Attachment for Stand Mixers': 'Kitchen & Dining > Small Appliance Parts & Accessories > Mixer Parts & Accessories',\n",
       " 'KitchenAid KFP600 11-Cup Ultra Power Food Processor, Onyx Black': 'Kitchen & Dining > Small Appliances > Food Processors',\n",
       " 'Kitchenaid Pasta Roller Attachment': 'Kitchen & Dining > Kitchen Utensils & Gadgets > Pasta & Pizza Tools',\n",
       " 'KitchenAid KBC90N Mixer Bowl Covers for Pivot Head Stand Mixer Bowls, Set of 2': 'Kitchen & Dining > Small Appliance Parts & Accessories > Mixer Parts & Accessories',\n",
       " 'KitchenAid KBC5N Mixer Bowl Covers for 5-Quart Stand Mixer Bowls, Set of 2': 'Kitchen & Dining > Small Appliance Parts & Accessories > Mixer Parts & Accessories',\n",
       " 'KitchenAid KFP650 11-Cup Professional Food Processor, White': 'Kitchen & Dining > Small Appliances > Food Processors',\n",
       " 'KitchenAid SSA Sausage Stuffer Kit Attachment for Food Grinder': 'Kitchen & Dining > Small Appliance Parts & Accessories > Mixer Parts & Accessories',\n",
       " 'KitchenAid JE Citrus Juicer Stand Mixer Attachment': 'Kitchen & Dining > Kitchen Utensils & Gadgets > Fruit & Vegetable Tools',\n",
       " 'KitchenAid KGPA Mixer Attachment Pack for Stand Mixers': 'Kitchen & Dining > Small Appliance Parts & Accessories > Mixer Parts & Accessories',\n",
       " 'KitchenAid KSB5WH 5-Speed Blender, White': 'Kitchen & Dining > Small Appliances > Blenders',\n",
       " 'KitchenAid K45SBWH Bowl for Pivot Head Stand Mixer': 'Kitchen & Dining > Small Appliance Parts & Accessories > Mixer Parts & Accessories',\n",
       " 'KitchenAid CO Can Opener Stand Mixer Attachment': 'Kitchen & Dining > Small Appliance Parts & Accessories > Mixer Parts & Accessories',\n",
       " 'KitchenAid FGA Food Grinder Attachment for Stand Mixers': 'Kitchen & Dining > NA > NA',\n",
       " 'KitchenAid SNFGA Pasta Maker Attachment for Stand Mixers': 'Kitchen & Dining > Kitchen Utensils & Gadgets > Pasta & Pizza Tools',\n",
       " 'KitchenAid FT Food Tray Attachment for Stand Mixers': 'Kitchen & Dining > Small Appliance Parts & Accessories > Mixer Parts & Accessories',\n",
       " 'KitchenAid RVSA Slicer/Shredder Attachment for Stand Mixers': 'Kitchen & Dining > Small Appliance Parts & Accessories > Mixer Parts & Accessories',\n",
       " 'KitchenAid KHM7T 7-Speed Artisan Hand Mixer, White': 'Kitchen & Dining > Small Appliances > Mixers',\n",
       " 'KitchenAid K5ASBP Bowl for 5-Quart Professional Stand Mixer': 'Kitchen & Dining > Small Appliances > Mixers',\n",
       " 'KitchenAid KPS2CL Pouring Shield for 4-1/2 and 5-Quart Stand Mixers': 'Kitchen & Dining > Small Appliance Parts & Accessories > Mixer Parts & Accessories',\n",
       " 'KitchenAid FVSP Fruit and Vegetable Strainer Parts for Food Grinder': 'Kitchen & Dining > Small Appliance Parts & Accessories > Mixer Parts & Accessories',\n",
       " 'KitchenAid KSB5OB 5-Speed Blender, Onyx Black': 'Kitchen & Dining > Small Appliances > Blenders',\n",
       " 'KitchenAid K45SSWH K45SS Classic 275-Watt 4-1/2-Quart Stand Mixer, White': 'Kitchen & Dining > Small Appliances > Mixers',\n",
       " 'KitchenAid FPPA Mixer Attachment Pack for Stand Mixers': 'Kitchen & Dining > Small Appliance Parts & Accessories > Mixer Parts & Accessories',\n",
       " 'KitchenAid KB3SS 3-Quart Stainless Steel Bowl for Pivot Head Stand Mixers': 'Kitchen & Dining > Small Appliance Parts & Accessories > Mixer Parts & Accessories',\n",
       " 'KitchenAid KSM90PS 300-Watt Ultra Power 4-1/2-Quart Stand Mixer, Empire Green': 'Kitchen & Dining > Small Appliances > Mixers',\n",
       " 'KitchenAid KHM5DH 5-Speed Ultra Power Hand Mixer, White': 'Kitchen & Dining > Small Appliances > Mixers',\n",
       " 'KitchenAid FVSFGA Fruit and Vegetable Strainer and Food Grinder for Stand Mixers': 'Kitchen & Dining > Small Appliance Parts & Accessories > Mixer Parts & Accessories',\n",
       " 'KitchenAid KHM9PWH 9-Speed Professional Hand Mixer, White': 'Kitchen & Dining > Small Appliances > Mixers',\n",
       " 'KitchenAid SNPA Pasta Maker Plates for Food Grinder Attachment for Stand Mixers': 'Kitchen & Dining > Kitchen Utensils & Gadgets > Pasta & Pizza Tools',\n",
       " 'KRUPS 968-41 Novo 2300 Plus Automatic Cappuccino Machine, Grey': 'Kitchen & Dining > Coffee > Tea & Espresso',\n",
       " 'Hamilton Beach 25325 MealMaker Express Contact Grill': 'Kitchen & Dining > Small Appliances > Contact Grills',\n",
       " 'VillaWare V515 Pasta Drying Rack': 'Kitchen & Dining > Kitchen Utensils & Gadgets > Pasta & Pizza Tools',\n",
       " 'CucinaPro 177 Pasta Fresh Pasta Machine': 'Kitchen & Dining > Kitchen Utensils & Gadgets > Pasta & Pizza Tools',\n",
       " 'Krups 872-42 Bravo Plus Espresso Maker': 'Kitchen & Dining > Coffee > Tea & Espresso',\n",
       " 'Krups 867-42 Il Caffe Bistro 10-Cup Coffee/4-Cup Espresso Maker': 'Kitchen & Dining > Coffee > Tea & Espresso',\n",
       " 'KRUPS 026-33 Gold Tone Coffee Filter Fits KRUPS coffee makers model numbers KM720D50, KT720D50, 253, 466, 467, 458, and 144': 'Kitchen & Dining > Small Appliance Parts & Accessories > Coffee & Espresso Machine Parts & Accessories',\n",
       " 'KRUPS F654 4-Slice Belgian Waffle Maker with Nonstick Plates LED Indicators and Stainless Steel Housing, Silver': 'Kitchen & Dining > Small Appliances > Waffle Irons',\n",
       " 'Krups 404-70 Open Master Can Opener': 'Kitchen & Dining > Kitchen Utensils & Gadgets > Can Openers',\n",
       " 'KRUPS 203-42 Electric Spice and Coffee Grinder with Stainless Steel Blades, White': 'Kitchen & Dining > Coffee > Tea & Espresso',\n",
       " 'KRUPS F20342 Electric Spice and Coffee Grinder with Stainless Steel Blades, Black': 'Kitchen & Dining > Coffee > Tea & Espresso',\n",
       " 'Krups 358-70 La Glaciere Ice Cream Maker': 'Kitchen & Dining > Small Appliances > Ice Cream Machines',\n",
       " 'V5500   10-Square Ravioli Maker': 'Kitchen & Dining > Kitchen Utensils & Gadgets > Pasta & Pizza Tools',\n",
       " 'Misto Gourmet Stainless-Steel Olive Oil Sprayer, Black Band': 'Kitchen & Dining > Kitchen Utensils & Gadgets > Oil Sprayers & Dispensers',\n",
       " 'Metrokane 6004 Rabbit Corkscrew with Foilcutter, Black': 'Kitchen & Dining > Kitchen Utensils & Gadgets > Bar & Wine Tools',\n",
       " 'Misto Brushed Aluminum Olive Oil Sprayer': 'Kitchen & Dining > Kitchen Utensils & Gadgets > Oil Sprayers & Dispensers',\n",
       " 'Capresso 10-Cup Coffee/Cappuccino Maker, Black': 'Kitchen & Dining > Coffee > Tea & Espresso',\n",
       " 'Cuisipro 11.5-Inch Splatter Guard': 'Kitchen & Dining > Kitchen Utensils & Gadgets > Specialty Tools & Gadgets',\n",
       " 'Brita Atlantis Water Filter Pitcher, White, 6 Cup': 'Kitchen & Dining > Water Coolers & Filters > Pitcher Water Filters',\n",
       " 'Brita 35503 Pitcher Replacement Filters, 3-Pack': 'Kitchen & Dining > Water Coolers & Filters > Replacement Water Filters',\n",
       " 'Cuisipro Stainless Steel Measuring Spoon Set': 'Kitchen & Dining > Kitchen Utensils & Gadgets > Measuring Tools & Scales',\n",
       " 'Cuisipro 4-Piece Stainless Steel Oval Measuring Cup Set': 'Kitchen & Dining > Kitchen Utensils & Gadgets > Measuring Tools & Scales',\n",
       " 'Capresso 551.01 Burr Coffee Grinder, Black': 'Kitchen & Dining > Coffee > Tea & Espresso',\n",
       " 'Brita WAP BRITA ULTRA MAX DISPENSER Cookware': 'Kitchen & Dining > Water Coolers & Filters > Pitcher Water Filters',\n",
       " 'Capresso 501 Cool Grind Coffee Grinder, Black': 'Kitchen & Dining > Coffee > Tea & Espresso',\n",
       " 'Wabash Valley Farms 25008 Whirley-Pop Stovetop Popcorn Popper': 'Kitchen & Dining > Small Appliances > Specialty Appliances',\n",
       " 'Browne Foodservice 74 6192 Stainless Steel Potato Ricer with Discs': 'Kitchen & Dining > Kitchen Utensils & Gadgets > Fruit & Vegetable Tools',\n",
       " 'Brita 42378 Deluxe Water Pitcher': 'Kitchen & Dining > Water Coolers & Filters > Pitcher Water Filters',\n",
       " 'Spiegelau Vino Grande Burgundy Wine Glasses, Set of 6': 'Kitchen & Dining > Dining & Entertaining > Glassware & Drinkware',\n",
       " 'VillaWare V3200 Classic Belgian Waffler - Round': 'Kitchen & Dining > Small Appliances > Waffle Irons',\n",
       " 'Spiegelau Vino Grande Chardonnay Glasses, Set of 6': 'Kitchen & Dining > Dining & Entertaining > Glassware & Drinkware',\n",
       " 'Spiegelau Vino Grande Red Wine Glasses, Set of 6': 'Kitchen & Dining > Dining & Entertaining > Glassware & Drinkware',\n",
       " 'Fagor Duo Stainless-Steel 4-Quart Pressure Cooker': 'Kitchen & Dining > Cookware > Pressure Cookers',\n",
       " 'Salton YM9 1-Quart Yogurt Maker': 'Kitchen & Dining > Small Appliances > Specialty Appliances',\n",
       " 'Spiegelau Vino Grande Martini Glass, Set of 6, #4510025-6': 'Kitchen & Dining > Dining & Entertaining > Glassware & Drinkware',\n",
       " 'Jubilee 10-Ounce Acrylic Embossed Grape Wine Glasses, Set of 4': 'Kitchen & Dining > Dining & Entertaining > Glassware & Drinkware',\n",
       " 'Jubilee Acrylic Martini Picks, Set of 6': 'Kitchen & Dining > Dining & Entertaining > Bar Tools & Glasses',\n",
       " 'Calphalon Commercial Hard-Anodized 7-Piece Cookware Set': 'Kitchen & Dining > Cookware > Cookware Sets',\n",
       " 'Calphalon Accessories Universal Steamer Insert': 'Kitchen & Dining > Cookware > Steamers',\n",
       " 'Calphalon D812 Commercial Hard Anodized 12-Quart Stockpot with Lid': 'Kitchen & Dining > Cookware > Stockpots',\n",
       " 'Calphalon Nylon Whisk': 'Kitchen & Dining > Kitchen Utensils & Gadgets > Cooking Utensils',\n",
       " 'Calphalon Nylon Large Spatula': 'Kitchen & Dining > Kitchen Utensils & Gadgets > Cooking Utensils',\n",
       " 'Calphalon Single Pot Rack Hooks, Set of 2': 'Kitchen & Dining > Cookware > Pot Racks',\n",
       " 'Calphalon Nylon Tongs': 'Kitchen & Dining > Kitchen Utensils & Gadgets > Cooking Utensils',\n",
       " 'Calphalon Nylon Large Slotted Spatula': 'Kitchen & Dining > Kitchen Utensils & Gadgets > Cooking Utensils',\n",
       " 'Calphalon Double Pot Rack Hook': 'Kitchen & Dining > Cookware > Pot Racks',\n",
       " 'Riedel Vinum Bordeaux Wine Glasses, Set of 6': 'Kitchen & Dining > Dining & Entertaining > Glassware & Drinkware',\n",
       " 'Riedel Vinum Burgundy/Pinot Noir Wine Glasses, Set of 2': 'Kitchen & Dining > Dining & Entertaining > Glassware & Drinkware',\n",
       " 'Maverick ET-7 Remote-Check Wireless Thermometer With 2 Probes': 'Kitchen & Dining > Kitchen Utensils & Gadgets > Thermometers & Timers',\n",
       " 'Pyrex Prepware 3-Piece Mixing Bowl Set, Clear': 'Kitchen & Dining > Bakeware > Mixing Bowls',\n",
       " 'Matfer Mandoline 2000S with Safety Pusher': 'Kitchen & Dining > Kitchen Utensils & Gadgets > Graters',\n",
       " 'Master Chef Spatule Pelton Spatula': 'Kitchen & Dining > Kitchen Utensils & Gadgets > Cooking Utensils',\n",
       " 'Riedel Vinum Single Malt Scotch Glasses, Set of 6': 'Kitchen & Dining > Dining & Entertaining > Glassware & Drinkware',\n",
       " 'Pyrex Bakeware 8-Inch Square Cake Pan, Clear': 'Kitchen & Dining > Bakeware > Cake Pans',\n",
       " 'Pyrex 3-Quart Oblong Glass Baking/Serving Dish': 'Kitchen & Dining > Bakeware > Bakers & Casseroles',\n",
       " 'Oggi Dial-A-Drink Cocktail Shaker': 'Kitchen & Dining > Kitchen Utensils & Gadgets > Bar & Wine Tools',\n",
       " 'Pyrex Bakeware 4.8 Quart Oblong Baking Dish, Clear': 'Kitchen & Dining > Bakeware > Bakers & Casseroles',\n",
       " 'Zyliss Rotary Cheese Grater': 'Kitchen & Dining > Kitchen Utensils & Gadgets > Graters',\n",
       " 'Kuhn Rikon Clear Cookie Press': 'Kitchen & Dining > Bakeware > Baking Tools & Accessories',\n",
       " 'Kuhn Rikon Epicurean Garlic Press': 'Kitchen & Dining > Kitchen Utensils & Gadgets > Seasoning & Spice Tools',\n",
       " 'Essick Air 696-400 Variable Speed Whole House Humidifier': 'Heating > Cooling & Air Quality > Air Purifiers',\n",
       " 'Better Living The Ulti-Mate Dispenser Deluxe IV': 'Bath > Bathroom Accessories > Holders & Dispensers',\n",
       " 'Broan 676 110-CFM 4.0-Sones Ceiling Mount Ventilation Fan': 'Heating > Cooling & Air Quality > Space Heaters & Accessories',\n",
       " 'J.A. Henckels Premier Series Opus 45-Piece Stainless Steel Flatware Set, Service for 8': 'Kitchen & Dining > Dining & Entertaining > Flatware',\n",
       " 'Norpro Egg/Mushroom Slicer': 'Kitchen & Dining > Kitchen Utensils & Gadgets > Graters',\n",
       " 'Egg Slicer Wedger Piercer': 'Kitchen & Dining > Kitchen Utensils & Gadgets > Graters',\n",
       " 'Sanus Systems AFA Accurate Furniture Audio Stand - Black': 'Furniture > Home Entertainment Furniture > Audio-Video Shelving',\n",
       " 'OXO Good Grips 32180 Pepper Mill': 'Kitchen & Dining > Kitchen Utensils & Gadgets > Salt & Pepper',\n",
       " 'Tablecraft Products Mini Salt &amp; Pepper Shakers, Set of 6 salt &amp; pepper shakers (12 Total Shakers)': 'Kitchen & Dining > Kitchen Utensils & Gadgets > Salt & Pepper',\n",
       " 'TOMY Gearation Refrigerator Magnets Building Toy': 'Kitchen & Dining > Kitchen Utensils & Gadgets > Kitchen Accessories',\n",
       " 'Hoover S3639 WindTunnel Canister Vacuum Cleaner': 'Vacuums & Floor Care > Vacuums > Canister Vacuums',\n",
       " 'Hoover Type S Allergen Back (3-Pack), 4010100S': 'Vacuums & Floor Care > Vacuum Accessories > Bags',\n",
       " 'Norpro Silicone 3-Piece Egg/Pancake Ring Set': 'Kitchen & Dining > Kitchen Utensils & Gadgets > NA',\n",
       " 'Norpro Stainless Steel Scoop, 56MM (4 Tablespoon)': 'Kitchen & Dining > Kitchen Utensils & Gadgets > Specialty Tools & Gadgets',\n",
       " 'Norpro Large Garlic Baker': 'Kitchen & Dining > Kitchen Utensils & Gadgets > Seasoning & Spice Tools',\n",
       " 'Norpro 5-Inch Ceramic Garlic Keeper': 'Kitchen & Dining > Kitchen Utensils & Gadgets > Seasoning & Spice Tools',\n",
       " 'Norpro Chicken Timer': 'Kitchen & Dining > Kitchen Utensils & Gadgets > Thermometers & Timers',\n",
       " 'Norpro Nonstick Adjustable Roast Rack': 'Kitchen & Dining > Cookware > Roasting Pans',\n",
       " 'Norpro 370 Bread Slicer and Guide  with Crumb Catcher': 'Kitchen & Dining > Kitchen Utensils & Gadgets > Graters',\n",
       " 'Norpro Stainless Steel 4-3/4 Inch Funnel with Strainer': 'Kitchen & Dining > Kitchen Utensils & Gadgets > Colanders & Food Strainers',\n",
       " 'Norpro Cast Iron Bacon Grill Press': 'Kitchen & Dining > Kitchen Utensils & Gadgets > NA',\n",
       " 'Norpro Honey Syrup Dispenser': 'Kitchen & Dining > Kitchen Utensils & Gadgets > Specialty Tools & Gadgets',\n",
       " 'Norpro Stainless Steel Vertical Poultry Roaster': 'Kitchen & Dining > Small Appliances > Ovens & Toasters',\n",
       " 'Norpro Nonstick Bear Pancake/Egg Rings, Set of 2': 'Kitchen & Dining > Bakeware > Baking Tools & Accessories',\n",
       " 'Norpro Taco Press': 'Kitchen & Dining > Bakeware > Baking Tools & Accessories',\n",
       " 'Norpro Spaetzle Maker': 'Kitchen & Dining > Kitchen Utensils & Gadgets > Graters',\n",
       " 'Nordic Rainbow Spoon': 'Kitchen & Dining > Kitchen Utensils & Gadgets > Measuring Tools & Scales',\n",
       " 'Norpro Pasta Drying Rack': 'Kitchen & Dining > Kitchen Utensils & Gadgets > Pasta & Pizza Tools',\n",
       " 'Norpro Stainless Steel Scoop, 1 Tablespoon, 35mm': 'Kitchen & Dining > Kitchen Utensils & Gadgets > Specialty Tools & Gadgets',\n",
       " 'Norpro Nonstick Star and Flower Pancake Egg Rings, Set of 2': 'Kitchen & Dining > Bakeware > Baking Tools & Accessories',\n",
       " 'Norpro Professional Meat Tenderizer': 'Kitchen & Dining > Kitchen Utensils & Gadgets > Meat & Poultry Tools',\n",
       " 'Norpro 5 1/2-Inch Stainless Steel Funnel with Detachable Strainer': 'Kitchen & Dining > Kitchen Utensils & Gadgets > Colanders & Food Strainers',\n",
       " 'Norpro Stainless Steel Grip-EZ Meat Pounder': 'Kitchen & Dining > Kitchen Utensils & Gadgets > Meat & Poultry Tools',\n",
       " 'Norpro Nonstick Vertical Poultry Roaster': 'Kitchen & Dining > Cookware > Roasting Pans',\n",
       " 'Norpro Cast Aluminum Tortilla Press': 'Kitchen & Dining > NA > NA',\n",
       " 'Norpro Decorative Tea Infuser with Drip Cup': 'Kitchen & Dining > Coffee > Tea & Espresso',\n",
       " 'Norpro Large No Post Stainless Steel Vegetable Steamer': 'Kitchen & Dining > Cookware > Steamers',\n",
       " 'Norpro Egg Rite Egg Timer': 'Kitchen & Dining > Kitchen Utensils & Gadgets > Thermometers & Timers',\n",
       " 'Norpro Stainless Steel Vertical Roaster, With Infuser': 'Kitchen & Dining > Small Appliances > Ovens & Toasters',\n",
       " 'Norpro Multi Grater with Juicer': 'Kitchen & Dining > Kitchen Utensils & Gadgets > Graters',\n",
       " 'Norpro Stainless Steel Wide-Mouth Funnel': 'Kitchen & Dining > Kitchen Utensils & Gadgets > Specialty Tools & Gadgets',\n",
       " 'KitchenArt 25000  Auto Measure Spice Carousel without Spices, White': 'Kitchen & Dining > Kitchen Utensils & Gadgets > Seasoning & Spice Tools',\n",
       " 'Eureka 96 B Quick Up Upright Cordless Stick Vacuum': 'Vacuums & Floor Care > Vacuums > Stick Vacuums & Electric Brooms',\n",
       " 'Cuisinart CSB-33 QuikPrep Hand Blender, White': 'Kitchen & Dining > Small Appliances > Blenders',\n",
       " 'George Foreman GGR50B Indoor/Outdoor Grill': 'Kitchen & Dining > Small Appliances > Contact Grills',\n",
       " 'Nesco American Harvest FD-50 Snackmaster Pro 4-Tray Dehydrator': 'Kitchen & Dining > Small Appliances > Specialty Appliances',\n",
       " 'Nordic Ware 60120 Microwaver Popcorn Popper 12 Cup, White': 'Kitchen & Dining > Small Appliances > Specialty Appliances',\n",
       " 'Nesco LM-2-6 Clean-A-Screen Tray for FD-28JX/FD-37/FD-60/FD-61/FD-61WHC/FD-75A and FD-75PR, Set of 2': 'Kitchen & Dining > NA > NA',\n",
       " 'Nordic Ware 2 Piece Non-stick Formed Bundt Pan Set, 6 Cup &amp; 12 Cup Capacity, Colors may vary': 'Kitchen & Dining > Bakeware > Cake Pans',\n",
       " 'Nordic Ware MIcrowave Micro-Go-Round 10 Inch': 'Kitchen & Dining > Kitchen Utensils & Gadgets > Specialty Tools & Gadgets',\n",
       " 'Metalware Open Country Beef Jerky Works Kit': 'Kitchen & Dining > Small Appliances > Specialty Appliances',\n",
       " 'Nesco MS-2-6 Large Clean-a-Screen for FD-1010/FD-1018P/FD-1020 Dehydrators, Set of 2': 'Kitchen & Dining > Small Appliances > Specialty Appliances',\n",
       " 'Nordic Ware Microwave 2 Cavity Egg Poacher': 'Kitchen & Dining > Cookware > Specialty Cookware',\n",
       " 'Intermatic FD60MC 60-Minute Spring Loaded Wall Timer, Ivory': 'Kitchen & Dining > Kitchen Utensils & Gadgets > Thermometers & Timers',\n",
       " 'Nordic Ware 10 Inch by 8 Inch Microwave Compact Bacon Rack': 'Kitchen & Dining > Cookware > NA',\n",
       " 'Nordic Ware 65004 11-Inch Microwave Plate Cover': 'Kitchen & Dining > NA > NA',\n",
       " 'Nesco TR-2 Add-A-Tray for FD-1010/FD-1018P/FD-1020, Set of 2': 'Kitchen & Dining > Small Appliances > Specialty Appliances',\n",
       " 'Nesco SLD-2 Fruit Roll-Up Sheet for FD-1010/FD-10108P/FD-1020/FD-1040, Set of 2': 'Kitchen & Dining > Small Appliances > Specialty Appliances',\n",
       " 'NordicWare 15040 Cast Aluminum Stovetop Belgium Waffle Iron': 'Kitchen & Dining > Small Appliances > Waffle Irons',\n",
       " 'Nesco LT-2W Add-A-Tray for FD-60 Dehydrator, Set of 2': 'Kitchen & Dining > NA > NA',\n",
       " 'Nesco LSS-2-6 Fruit Roll Sheets for FD-28JX/FD-37/FD-60/FD-61/FD-61WHC/FD75A and FD-75PR, Set of 2': 'Kitchen & Dining > Small Appliances > Specialty Appliances',\n",
       " 'Lasko Products 20&quot; Wind Machine 3-Speed': 'Heating > Cooling & Air Quality > Household Fans',\n",
       " 'Oneida Colonial Boston 20-Piece Stainless-Steel Flatware Set, Service for 4': 'Kitchen & Dining > Dining & Entertaining > Flatware',\n",
       " 'Oggi Servmaster Thermal Gravy and Sauce Server with Stainless Steel Liner': 'Kitchen & Dining > Dining & Entertaining > Serveware',\n",
       " 'DMT W6FP 6-Inch Diamond Whetstone Sharpener - Fine With Plastic Box': 'Kitchen & Dining > Kitchen Knives & Cutlery Accessories > Knife Sharpeners',\n",
       " 'DMT Crystal Saver- Diamond File': 'Kitchen & Dining > Kitchen Knives & Cutlery Accessories > Knife Sharpeners',\n",
       " 'DMT W6EP 6-Inch Diamond Whetstone Sharpener - Extra-Fine With Plastic Box': 'Kitchen & Dining > Kitchen Knives & Cutlery Accessories > Knife Sharpeners',\n",
       " 'DMT FSKF Diafold Serrated Knife Sharpener - Fine': 'Kitchen & Dining > Kitchen Knives & Cutlery Accessories > Knife Sharpeners',\n",
       " 'LamsonSharp 3&quot; x 6&quot; Chef?s Slotted Turner, right-hand': 'Kitchen & Dining > Kitchen Utensils & Gadgets > Cooking Utensils',\n",
       " 'LamsonSharp Stainless Steel Pizza Rocker Knife': 'Kitchen & Dining > Kitchen Utensils & Gadgets > Pasta & Pizza Tools',\n",
       " 'Wilton Halloween Comfort Grip Ghost Cutter': 'Kitchen & Dining > Bakeware > Baking Tools & Accessories',\n",
       " 'Thermos 14-Ounce Insulated Travel Mug, Stainless Steel': 'Kitchen & Dining > NA > NA',\n",
       " 'Cuisinart DLC-2014N PowerPrep Plus 14-Cup Capacity Food Processor, White': 'Kitchen & Dining > Small Appliances > Food Processors',\n",
       " 'Cuisinart DLC-2011BKN Prep 11 Plus 11-Cup Food Processor, Black': 'Kitchen & Dining > Small Appliances > Food Processors',\n",
       " 'Cuisinart CPT-35 Heat Surround Electronic Toaster, White': 'Kitchen & Dining > Small Appliances > Ovens & Toasters',\n",
       " 'Cuisinart BFP-703CH SmartPower Duet Blender and Food Processor, Chrome': 'Kitchen & Dining > Small Appliances > Blenders',\n",
       " 'Cuisinart DLC-2011N Prep Plus 11-Cup Food Processor, White': 'Kitchen & Dining > Small Appliances > Food Processors',\n",
       " 'Cuisinart CEK-40 Electric Knife': 'Kitchen & Dining > Small Appliances > Specialty Appliances',\n",
       " 'Cuisinart DLC-2011BCN Prep 11 Plus 11-Cup Food Processor, Brushed Chrome': 'Kitchen & Dining > Small Appliances > Food Processors',\n",
       " 'Calphalon 4-Piece Nylon Utensil Set': 'Kitchen & Dining > Kitchen Utensils & Gadgets > Tool & Gadget Sets',\n",
       " \"Calphalon Commercial Hard-Anodized 7-Quart Chef's Casserole with Lid\": 'Kitchen & Dining > Bakeware > Bakers & Casseroles',\n",
       " 'Calphalon D87821/2P Commercial Hard-Anodized 2-1/2-Quart Shallow Saucepan with Lid': 'Kitchen & Dining > Cookware > Saucepans',\n",
       " \"Calphalon Commercial Nonstick Collector's Edition 9-Inch Chef's Skillet with Lid\": 'Kitchen & Dining > Cookware > Skillets',\n",
       " 'Calphalon Small Nonstick Roast Rack': 'Kitchen & Dining > Cookware > Roasting Pans',\n",
       " \"Calphalon Commercial Hard-Anodized 9-Inch, 2-Quart Chef's Skillet with Lid\": 'Kitchen & Dining > Cookware > Skillets',\n",
       " 'Zwilling J.A. Henckels Twin Pro-S 18-Piece Knife Set with Block': 'Kitchen & Dining > Kitchen Knives & Cutlery Accessories > Cutlery Sets',\n",
       " 'Zwilling J.A. Henckels Twin Pro S 10-Inch High Carbon Stainless-Steel Granton Edge Slicer': 'Kitchen & Dining > Kitchen Knives & Cutlery Accessories > Carving Knives & Forks',\n",
       " 'Hamilton Beach 38500 Step Savor Skillet/Griddle Combination': 'Kitchen & Dining > Small Appliances > Electric Skillets',\n",
       " 'Proctor-Silex 25400 Meal Maker Sandwich Toaster': 'Kitchen & Dining > Small Appliances > Specialty Appliances',\n",
       " 'Hamilton Beach 70550RL PrepStar Food Processor with Bonus Chill Lid': 'Kitchen & Dining > Small Appliances > Food Processors',\n",
       " 'Proctor-Silex 26500Y Durable Belgian Waffle Baker': 'Kitchen & Dining > Small Appliances > Waffle Irons',\n",
       " 'Hamilton Beach 26200 Restaurant Style Belgian Waffle Baker': 'Kitchen & Dining > Small Appliances > Waffle Irons',\n",
       " 'Hamilton Beach 62695V Power Deluxe Hand Mixer': 'Kitchen & Dining > Small Appliances > Mixers',\n",
       " 'Hamilton Beach 727W Classic DrinkMaster Drink Mixer, White': 'Kitchen & Dining > Small Appliances > Mixers',\n",
       " \"Hamilton Beach 74250 Carve 'n Set Electric Knife with Case, White\": 'Kitchen & Dining > Small Appliances > Specialty Appliances',\n",
       " 'Taylor Oven Guide Thermometer': 'Kitchen & Dining > Kitchen Utensils & Gadgets > Thermometers & Timers',\n",
       " 'Taylor Classic Cappuccino Frothing Dial Thermometer': 'Kitchen & Dining > Kitchen Utensils & Gadgets > Thermometers & Timers',\n",
       " 'Taylor Classic Design Freezer/Refrigerator Utility Thermometer': 'Kitchen & Dining > Kitchen Utensils & Gadgets > Thermometers & Timers',\n",
       " 'InterDesign Gia Suction Sink Center, Polished Stainless Steel': 'Kitchen & Dining > Storage & Organization > Dish Racks',\n",
       " 'Jokari Fizz-Keeper Pump Cap': 'Kitchen & Dining > Kitchen Utensils & Gadgets > Bar & Wine Tools',\n",
       " 'Taylor 5939N Classic Style Meat Dial Thermometer': 'Kitchen & Dining > Kitchen Utensils & Gadgets > Thermometers & Timers',\n",
       " 'Taylor Professional Freezer-Refrigerator Thermometer with 3-Inch Dial': 'Kitchen & Dining > Kitchen Utensils & Gadgets > Thermometers & Timers',\n",
       " 'Taylor 9840 Digital Instant Read Pocket Thermometer': 'Kitchen & Dining > Kitchen Utensils & Gadgets > Thermometers & Timers',\n",
       " 'Gia Suction Soap/Sponge Holder, Polished Stainless Steel': 'NA > NA > NA',\n",
       " 'interDesign Classico Chrome-Plated Wall-Mount Paper Towel Holder': 'Kitchen & Dining > Storage & Organization > Paper Towel Holders',\n",
       " 'interDesign Saddlebag Flatware Organizer and Sponge Holder': 'Kitchen & Dining > Storage & Organization > Dish Racks',\n",
       " 'Taylor Candy and Deep Fry Stainless Steel Thermometer': 'Kitchen & Dining > Kitchen Utensils & Gadgets > Thermometers & Timers',\n",
       " 'Taylor Classic Roast/Yeast Thermometer': 'Kitchen & Dining > Kitchen Utensils & Gadgets > Thermometers & Timers',\n",
       " 'Taylor 5989N Classic Instant Read Pocket Thermometer': 'Kitchen & Dining > Kitchen Utensils & Gadgets > Thermometers & Timers',\n",
       " 'Taylor Professional Oven Dial Thermometer': 'Kitchen & Dining > Kitchen Utensils & Gadgets > Thermometers & Timers',\n",
       " 'Cuisinart DLC-2A Mini-Prep Plus Food Processor, White': 'Kitchen & Dining > Small Appliances > Food Processors',\n",
       " 'Tilia FoodSaver Vac 550 Kit Vacuum Sealing System': 'Kitchen & Dining > Small Appliances > Specialty Appliances',\n",
       " 'FoodSaver Vac 1050 Vacuum-Sealing Kit, White': 'Kitchen & Dining > Small Appliances > Specialty Appliances',\n",
       " 'FoodSaver 1-Gallon Size Bags, 32 Bags': 'Kitchen & Dining > Storage & Organization > Food Savers',\n",
       " 'FoodSaver Continuous Roll Bag Material, 11 Inch by 16 Feet (Box of 2 Rolls)': 'Kitchen & Dining > Storage & Organization > Food Savers',\n",
       " 'FoodSaver 1 Quart Size Bag, Package of 48': 'Kitchen & Dining > Storage & Organization > Food Savers',\n",
       " 'FoodSaver Vac 300 Vacuum-Sealing Kit, White': 'Kitchen & Dining > Small Appliances > Specialty Appliances',\n",
       " 'FoodSaver FSFSBF0526-P00 8-Inch Roll Two-pack, 20 Feet Long': 'Kitchen & Dining > Storage & Organization > Food Savers',\n",
       " 'FoodSaver 13 Gallon-sized Bags': 'Kitchen & Dining > Storage & Organization > Food Savers',\n",
       " 'Le Creuset Stoneware 1-1/2-Quart 9-Inch Square Baking Dish, Cherry': 'Kitchen & Dining > Bakeware > Bakers & Casseroles',\n",
       " 'Fox Run Gingerbread House Cookie Cutter Bake Set': 'Kitchen & Dining > Bakeware > Baking Tools & Accessories',\n",
       " 'Wilton Christmas Tree Comfort Grip Stainless Steel Cookie Cutter': 'Kitchen & Dining > Bakeware > Baking Tools & Accessories',\n",
       " 'NA': 'RV Parts & Accessories > Furnishings > Bath',\n",
       " 'Peugeot 11765 Bresil 8.75 Inch Coffee Mill, Walnut': 'Kitchen & Dining > Kitchen Utensils & Gadgets > Seasoning & Spice Tools',\n",
       " 'Wilton Snowman Comfort Grip Stainless Steel Cookie Cutter': 'Kitchen & Dining > Bakeware > Baking Tools & Accessories',\n",
       " 'Alessi Michael Graves Kettle with Bird Whistle, Blue Handle': 'Kitchen & Dining > Cookware > Teakettles',\n",
       " 'Wilton Cross Pan': 'Kitchen & Dining > Bakeware > Cake Pans',\n",
       " 'Fiesta 4-pc. Place Setting, White.': 'Kitchen & Dining > Dining & Entertaining > Dinnerware Sets',\n",
       " 'Fiesta 9-Inch, 13-1/4-Ounce Rim Soup Bowl, White': 'Kitchen & Dining > Dining & Entertaining > Bowls',\n",
       " 'Fiesta 64-Ounce Pedestal Bowl, Black': 'Kitchen & Dining > Dining & Entertaining > Serveware',\n",
       " 'Fiesta 4-Piece Place Setting, White': 'Kitchen & Dining > Dining & Entertaining > Dinnerware Sets',\n",
       " 'Fiesta 11-3/4-Inch Chop Plate, White': 'Kitchen & Dining > Dining & Entertaining > Serveware',\n",
       " 'Fiesta 10-1/2-Inch Dinner Plate, Cobalt': 'Kitchen & Dining > Dining & Entertaining > Plates',\n",
       " 'Fiesta 4-Piece Place Setting, Cobalt': 'Kitchen & Dining > Dining & Entertaining > Dinnerware Sets',\n",
       " 'Fiesta 70-Ounce Covered Casserole, White': 'Kitchen & Dining > Dining & Entertaining > Cups',\n",
       " 'Fiesta 14-1/4-Ounce Small Bowl, White': 'Kitchen & Dining > Dining & Entertaining > Serveware',\n",
       " 'Fiesta 2-Piece Covered Butter, Cobalt': 'Kitchen & Dining > Dining & Entertaining > Serveware',\n",
       " 'William Bounds Key Mill &quot;WB-1&quot; Pepper Mill': 'Kitchen & Dining > Kitchen Utensils & Gadgets > Salt & Pepper',\n",
       " 'Acrylic Beehive Honey Jar with Server': 'Kitchen & Dining > Kitchen Utensils & Gadgets > Specialty Tools & Gadgets',\n",
       " 'Clear Acrylic Recipe Box with 3&quot; x 5&quot; Index Cards': 'Kitchen & Dining > Kitchen Utensils & Gadgets > Kitchen Accessories',\n",
       " 'William Bounds Stainless-Steel Tapered Pepper Mill': 'Kitchen & Dining > Kitchen Utensils & Gadgets > Salt & Pepper',\n",
       " 'US Acrylic Sweet &amp; Low Holder': 'Kitchen & Dining > Dining & Entertaining > Serveware',\n",
       " 'Clear Acrylic 3-Tier Cabinet Organizer': 'Kitchen & Dining > Storage & Organization > Cabinet Organizers',\n",
       " 'Leifheit Pro Line Stainless Steel Egg Slicer': 'Kitchen & Dining > Kitchen Utensils & Gadgets > Graters',\n",
       " 'Cuisinart TOB-165 Convection Toaster Oven and Broiler, White': 'Kitchen & Dining > Small Appliances > Ovens & Toasters',\n",
       " 'Cuisinart TOB-175 Convection Toaster Oven/Broiler, Chrome': 'Kitchen & Dining > Small Appliances > Ovens & Toasters',\n",
       " 'Cuisinart 7-Cup Capacity Food Processor, White': 'Kitchen & Dining > Small Appliances > Food Processors',\n",
       " '12 Inch Lazy Susan': 'Kitchen & Dining > Storage & Organization > Lazy Susans',\n",
       " 'Hamilton Beach 52254 12-Speed Blender with Food Processor Attachment': 'Kitchen & Dining > Small Appliances > Blenders',\n",
       " 'Best Manufacturers 11-Inch Masher with Metal Handle': 'Kitchen & Dining > Kitchen Utensils & Gadgets > Fruit & Vegetable Tools',\n",
       " 'WMF Satin Steel and Glass Syrup/Honey Dispenser': 'Kitchen & Dining > Dining & Entertaining > Serveware',\n",
       " 'Whirley Pop Real Theater Popcorn with 6-Quart Stovetop Popcorn Popper': 'Kitchen & Dining > Small Appliances > Specialty Appliances',\n",
       " 'Shur-line 06020 Lid Opener': 'Kitchen & Dining > Kitchen Utensils & Gadgets > Can Openers',\n",
       " \"L'Equip 306200 500-Watt 6-Tray Food Dehydrator, Gray\": 'Kitchen & Dining > Small Appliances > Specialty Appliances',\n",
       " 'Luigi Bormioli Set of 4 Michelangelo Masterpiece 14.5-Oz. Beverage Glasses': 'Kitchen & Dining > Dining & Entertaining > Glassware & Drinkware',\n",
       " 'Luigi Bormioli Set of 4 Michelangelo Masterpiece Wine Glasses, 11.5-Oz.': 'Kitchen & Dining > Dining & Entertaining > Glassware & Drinkware',\n",
       " 'Luigi Bormioli Set of 4 Michelangelo Masterpiece 12-Oz. Double Old Fashioned Glasses': 'Kitchen & Dining > Dining & Entertaining > Glassware & Drinkware',\n",
       " 'Libbey Gibraltar 12-Ounce Rocks Glass , Box of 12, Clear': 'Kitchen & Dining > Dining & Entertaining > Glassware & Drinkware',\n",
       " 'Libbey 16-Piece Colbalt Flare Glassware Set': 'Kitchen & Dining > Dining & Entertaining > Glassware & Drinkware',\n",
       " 'Pioneer Bi-Directional Memo Pocket Album, Hunter Green': 'NA > NA > NA',\n",
       " 'Crisa Impressions 16 piece beverage set, item 1786426, clear': 'Kitchen & Dining > Dining & Entertaining > Glassware & Drinkware',\n",
       " 'Amco Swing-A-Way 709BK Comfort Grip Can Opener, Black': 'Kitchen & Dining > Kitchen Utensils & Gadgets > Can Openers',\n",
       " 'Swing Away Wall Can Opener': 'Kitchen & Dining > Kitchen Utensils & Gadgets > Can Openers',\n",
       " 'Bormioli Rocco Quattro Stagioni 8 1/2 Ounce Canning Jar, Set of 12': 'Kitchen & Dining > Cookware > Canning',\n",
       " 'Hoover Allergen Final Filter (2-Pack), 40110004': 'Vacuums & Floor Care > Vacuum Accessories > Filters',\n",
       " 'Hoover U5750-900 Windtunnel Upright Vacuum Cleaner': 'Vacuums & Floor Care > Vacuums > Upright Vacuums',\n",
       " 'Hoover Type A Upright Vacuum Cleaner Replacement Bags, Package of 10': 'Vacuums & Floor Care > Vacuum Accessories > Bags',\n",
       " 'Hoover High Efficiency Final Filter, 40110001': 'Vacuums & Floor Care > Vacuum Accessories > Filters',\n",
       " 'Browne Foodservice 407 Swing a Way Portable Manual Can Opener 7-Inch': 'Kitchen & Dining > Kitchen Utensils & Gadgets > Can Openers',\n",
       " 'KitchenAid KFP350 5-Cup Little Ultra Power Food Processor, Empire Red': 'Kitchen & Dining > Small Appliances > Food Processors',\n",
       " 'Hamilton Beach 04163 TrueAir HEPA Air Purifier with UV Germicidal Light': 'Heating > Cooling & Air Quality > Air Purifiers',\n",
       " 'Honeywell 17400 Enviracare QuietCare HEPA Air Cleaner': 'Heating > Cooling & Air Quality > Air Purifiers',\n",
       " 'Hamilton Beach 04913 TrueAir HEPA Replacement Filter for 04162 and 04163 Air Cleaners': 'Heating > Cooling & Air Quality > Air Purifiers',\n",
       " 'Hamilton Beach 05521 TrueAir 3.5 Gal. Cool Mist Humidifier': 'Heating > Cooling & Air Quality > Humidifiers & Accessories',\n",
       " 'Vornado 610W Performer Air Circulator': 'Heating > Cooling & Air Quality > Household Fans',\n",
       " 'Vornado 510W Compact Air Circulator': 'Heating > Cooling & Air Quality > Household Fans',\n",
       " 'Honeywell Long-Life Pure HEPA QuietCare Air Purifier, 17000': 'Heating > Cooling & Air Quality > Air Purifiers',\n",
       " 'Hamilton Beach 04923 TrueAir Replacement Carbon Filters for 04162, 04163 &amp; 04152 Air Cleaners, 3-Pack': 'Heating > Cooling & Air Quality > Air Purifiers',\n",
       " 'Honeywell HWM2030 3-Gallon Warm Moisture Humidifier': 'Heating > Cooling & Air Quality > Humidifiers & Accessories',\n",
       " 'Nordic Ware 13 Inch Crispy Dry Splatter Cover': 'Kitchen & Dining > Cookware > All Pans',\n",
       " 'Nordic Ware Universal 8 Cup Double Boiler Fits 2 to 4 Quart Sauce Pans': 'Kitchen & Dining > Cookware > Double Boilers',\n",
       " 'KitchenAid KT2651X Epicurean 475 Watt 6-Quart Stand Mixer, Cobalt Blue': 'Kitchen & Dining > Small Appliances > Mixers',\n",
       " 'Granite Ware 509-2 18-Inch Covered Oval Roaster': 'Kitchen & Dining > Cookware > Roasting Pans',\n",
       " 'Vornado HU1-0012-11 Standard 2.8 Gallon Vortex Humidifier': 'Heating > Cooling & Air Quality > Humidifiers & Accessories',\n",
       " 'T-Fal 1824 Avantis Iron': 'Irons & Steamers > Irons > Automatic Turnoff Irons',\n",
       " 'Granite Ware 0511-3 Covered Rectangular Roaster 21.25 by 14 by 8.5-Inch': 'Kitchen & Dining > Cookware > Roasting Pans',\n",
       " 'Lodge Striped Hot Handle Holders/Mitts, Set of 2': 'Kitchen & Dining > Kitchen & Table Linens > Potholders & Oven Mitts',\n",
       " 'Eureka 4870 Ultra Smart Vac Upright Vacuum Cleaner with True HEPA Filter': 'Vacuums & Floor Care > Vacuums > Upright Vacuums',\n",
       " 'Vornado HU1-0013-11 Standard 4-Gallon Vortex Humidifier': 'Heating > Cooling & Air Quality > Humidifiers & Accessories',\n",
       " 'Granite Ware 6137-2 8-Quart Stock Pot': 'Kitchen & Dining > Cookware > Stockpots',\n",
       " 'Waring Pro JEX328 Health Juice Extractor': 'Kitchen & Dining > Small Appliances > Juicers',\n",
       " 'Rowenta DM-273 Powerglide 2 Iron with Auto-Off Feature': 'Irons & Steamers > Irons > Automatic Turnoff Irons',\n",
       " 'Honeywell 21500 Enviracaire True HEPA Filter': 'Heating > Cooling & Air Quality > Air Purifiers',\n",
       " 'Dirt Devil Type G Handheld Vacuum Bags (3-Pack), 3010347001': 'Vacuums & Floor Care > Vacuum Accessories > Bags',\n",
       " 'Honeywell C-6005, 38002 Enviracare Universal Replacement Pre-Filter': 'Heating > Cooling & Air Quality > Air Purifiers',\n",
       " 'Dirt Devil Type U Microfresh Vacuum Bags (3-Pack), 3920750001': 'Vacuums & Floor Care > Vacuum Accessories > Bags',\n",
       " 'Dirt Devil Style 1 Vacuum Belt (2-Pack), 3157260001': 'Vacuums & Floor Care > Vacuum Accessories > Belts',\n",
       " 'Enviracaire 20500 HEPA Filter Fits 10500, 17000': 'Heating > Cooling & Air Quality > Air Purifiers',\n",
       " 'Dirt Devil Ultra Corded Bagged Handheld Vacuum, M08230RED': 'Vacuums & Floor Care > Vacuums > Handheld Vacuums',\n",
       " 'Fiesta 18-1/2-Ounce Sauceboat, Cobalt': 'Kitchen & Dining > Dining & Entertaining > Serveware',\n",
       " 'Pfaltzgraff Winterberry Sugar and Creamer Set': 'Kitchen & Dining > Dining & Entertaining > Serveware',\n",
       " 'Pfaltzgraff Winterberry 14-Inch Stoneware Serving Platter': 'Kitchen & Dining > Dining & Entertaining > Serveware',\n",
       " 'Pfaltzgraff Naturewood 16-Piece Stoneware Dinnerware Set, Service for 4': 'Kitchen & Dining > Dining & Entertaining > Dinnerware Sets',\n",
       " 'Racor PSM-1R Pro Stor Multi-Use Storage Bracket': 'Storage & Organization > Home Storage Hooks > Utility Hooks',\n",
       " 'Kleenex Pocket Pack White Tissue': 'Bath > Bathroom Accessories > Holders & Dispensers',\n",
       " 'Vacu Vin Vacuum Instant Marinater': 'Kitchen & Dining > Kitchen Utensils & Gadgets > Meat & Poultry Tools',\n",
       " 'J.A. Henckels 10-Inch Diamond Sharpening Steel': 'Kitchen & Dining > Kitchen Knives & Cutlery Accessories > Knife Sharpeners',\n",
       " 'Factory-Reconditioned Cuisinart ICE-20FR Automatic Frozen Yogurt-Ice Cream &amp; Sorbet Maker, White': 'Kitchen & Dining > Small Appliances > Ice Cream Machines',\n",
       " 'Ronco Inventions ST4000 Showtime Indoor Rotisserie and BBQ': 'Kitchen & Dining > Small Appliances > Ovens & Toasters',\n",
       " 'Vicks V3500N Cool Mist Humidifier 1.1 Gallon': 'Heating > Cooling & Air Quality > Humidifiers & Accessories',\n",
       " 'Fiesta 67-1/4-Ounce Large Disk Pitcher, Black': 'Kitchen & Dining > Dining & Entertaining > Serveware',\n",
       " 'Factory-Reconditioned Ronco Inventions ST4000R Showtime Indoor Rotisserie and Barbecue': 'Kitchen & Dining > Small Appliances > Ovens & Toasters',\n",
       " 'Factory-Reconditioned Cuisinart CPT-65FR Custom Control Total Touch 4-Slice Electronic Toaster, White': 'Kitchen & Dining > Small Appliances > Ovens & Toasters',\n",
       " 'Factory-Reconditioned Cuisinart CPT-70FR Toaster': 'Kitchen & Dining > Small Appliances > Ovens & Toasters',\n",
       " 'George Foreman GR10ABWI Champ Grill with Bun Warmer, Indigo': 'Kitchen & Dining > Small Appliances > Contact Grills',\n",
       " 'George Foreman GR10ABW Champ Grill with Bun Warmer, White': 'Kitchen & Dining > Small Appliances > Contact Grills',\n",
       " 'Farberware Classic Stainless Steel 1-Quart Covered Saucepan': 'Kitchen & Dining > Cookware > Saucepans',\n",
       " 'Farberware Classic Stainless Steel Covered Stockpot, 6-Quart': 'Kitchen & Dining > Cookware > Stockpots',\n",
       " 'Farberware Classic Stainless Steel 13-Piece Cookware Set': 'Kitchen & Dining > Cookware > Cookware Sets',\n",
       " 'Farberware Classic 2-Quart Saucepan with Lid': 'Kitchen & Dining > Cookware > Saucepans',\n",
       " 'Farberware Classic Stainless Steel 12-Inch Covered Fry Pan with Helper Handle': 'Kitchen & Dining > Cookware > Skillets',\n",
       " 'Farberware Classic 10&quot; Covered Frypan': 'Kitchen & Dining > Cookware > NA',\n",
       " 'Farberware Classic Stainless Steel Covered Stockpot, 8-Quart': 'Kitchen & Dining > Cookware > Stockpots',\n",
       " 'Ronco Food Dehydrator, Yogurt Maker and Beef Jerky Machine': 'Kitchen & Dining > Small Appliances > Specialty Appliances',\n",
       " 'Le Creuset Enameled Cast-Iron 5-Quart Buffet Casserole, Cobalt': 'Kitchen & Dining > Bakeware > Bakers & Casseroles',\n",
       " 'Krups 199-4G Aroma Control 10-Cup Programmable Thermal Coffee Maker, Black': 'Kitchen & Dining > Coffee > Tea & Espresso',\n",
       " 'Capresso 201.01 FrothXpress Automatic Milk Frother, Black': 'Kitchen & Dining > Small Appliance Parts & Accessories > Coffee & Espresso Machine Parts & Accessories',\n",
       " 'Hamilton Beach 04255 TrueAir Plug-Mount Odor Eliminator with Two Bonus Filters': 'Heating > Cooling & Air Quality > Air Purifiers',\n",
       " 'Capresso 3011.01 4-Cup Glass Replacement Carafe with Lid for Mini Espresso Machine': 'Kitchen & Dining > Small Appliance Parts & Accessories > Coffee & Espresso Machine Parts & Accessories',\n",
       " 'All-Clad 6000-7 SS Copper Core 5-Ply Bonded Dishwasher Safe 7-Piece Cookware Set, Silver': 'Kitchen & Dining > Bakeware > Bakers & Casseroles',\n",
       " 'All-Clad 6201.5 SS Copper Core 5-Ply Bonded Dishwasher Safe 1.5-Quart Saucepan Cookware, Silver': 'Kitchen & Dining > Cookware > Saucepans',\n",
       " 'All-Clad Stainless 1-1/2-Quart Windsor Pan': 'Kitchen & Dining > Cookware > Saucepans',\n",
       " 'All-Clad Stainless 7 1/2 Inch Fry Pan': 'Kitchen & Dining > Cookware > Skillets',\n",
       " 'All-Clad 5000-9 Stainless 9-Piece Cookware Set': 'Kitchen & Dining > Bakeware > Bakers & Casseroles',\n",
       " 'All-Clad Stainless 3-Quart Saucier Pan': 'Kitchen & Dining > Cookware > Sauciers',\n",
       " 'All-Clad 7112 Master Chef 2 Stainless Steel Tri-Ply Bonded 12-Inch Fry Pan Cookware, Silver': 'Kitchen & Dining > Cookware > Skillets',\n",
       " 'All-Clad Stainless 2-Quart Saucier Pan': 'Kitchen & Dining > Cookware > Sauciers',\n",
       " 'All-Clad 5708-ST Stainless Steel Professional Steamer Insert / Cookware, Silver': 'Kitchen & Dining > Cookware > Steamers',\n",
       " 'All-Clad Stainless 1-Quart Saucepan': 'Kitchen & Dining > Cookware > Saucepans',\n",
       " 'All-Clad Stainless 4-Quart Casserole Pan': 'Kitchen & Dining > Bakeware > Bakers & Casseroles',\n",
       " 'All-Clad T108 Stainless Steel 13-Inch Skimmer Kitchen Tool, Silver': 'Kitchen & Dining > Kitchen Utensils & Gadgets > Cooking Utensils',\n",
       " 'All-Clad 7201 Master Chef 2 Stainless Steel Tri-Ply Bonded 1-Quart Saucepan with Lid Cookware, Silver': 'Kitchen & Dining > Cookware > Saucepans',\n",
       " 'All-Clad Stainless 12-Inch Fry Pan Lid': 'Kitchen & Dining > Cookware > Lids',\n",
       " 'All-Clad 3016 RACK Nonstick  14 by 12.25-Inch Roasting Rack, Black': 'Kitchen & Dining > Cookware > Specialty Cookware',\n",
       " 'All-Clad 5605C Stainless Steel Dishwasher Safe  5-Quart Colander Kitchen Accessorie , Silver': 'Kitchen & Dining > Kitchen Utensils & Gadgets > Colanders & Food Strainers',\n",
       " 'All-Clad 7108 NS R2 Master Chef 2 Stainless Steel Tri-Ply Bonded 8-Inch PFOA Free Nonstick Fry Pan Cookware, Silver': 'Kitchen & Dining > Cookware > Skillets',\n",
       " 'All-Clad T106 Stainless Steel 13-Inch Small Turner Kitchen Tool, Silver': 'Kitchen & Dining > Kitchen Utensils & Gadgets > Cooking Utensils',\n",
       " 'All-Clad Stainless 7-Quart Stockpot with Pasta Insert': 'Kitchen & Dining > Cookware > Stockpots',\n",
       " 'All-Clad T105 Stainless Steel 11.5-Inch Pasta Ladle Kitchen Tool, Silver': 'Kitchen & Dining > Kitchen Utensils & Gadgets > Cooking Utensils',\n",
       " 'All-Clad T101 Stainless Steel 13-Inch Slotted Spoon Kitchen Tool, Silver': 'Kitchen & Dining > Kitchen Utensils & Gadgets > Cooking Utensils',\n",
       " 'All-Clad Stainless 8-Quart Stockpot': 'Kitchen & Dining > Cookware > Stockpots',\n",
       " 'All-Clad Stainless 6-Quart Stockpot': 'Kitchen & Dining > Cookware > Stockpots',\n",
       " 'All-Clad Stainless 10-Inch Fry Pan': 'Kitchen & Dining > Cookware > Woks & Stir-Fry Pans',\n",
       " 'All-Clad Stainless 8-Inch Nonstick Fry Pan': 'Kitchen & Dining > Cookware > Woks & Stir-Fry Pans',\n",
       " 'All-Clad T109 Stainless Steel  14.5-Inch Large Soup Ladle Kitchen Tool, Silver': 'Kitchen & Dining > Kitchen Utensils & Gadgets > Cooking Utensils',\n",
       " 'All-Clad Stainless Hanging Tool Rack': 'Kitchen & Dining > Cookware > Pot Racks',\n",
       " 'All-Clad Stainless 3-Quart Double-Boiler Insert': 'Kitchen & Dining > Cookware > Double Boilers',\n",
       " 'All-Clad 3020 Hard Anodized Aluminum Nonstick 13 by 20-Inch Double Burner Grande Griddle Specialty Cookware, Black': 'Kitchen & Dining > Cookware > Grill Pans',\n",
       " 'All-Clad 6211 SS Copper Core 5-Ply Bonded Dishwasher Safe 1-Quart Saucier Pan without Lid / Cookware, Silver': 'Kitchen & Dining > Cookware > Sauciers',\n",
       " 'All-Clad Stainless 4-Quart Saucepan with Loop': 'Kitchen & Dining > Cookware > Saucepans',\n",
       " 'Emeril Nonstick 10-Inch Fry Pan': 'Kitchen & Dining > Cookware > Skillets',\n",
       " 'All-Clad 3011 Hard Anodized Dishwasher Safe 11-Inch Sqaure Grille Cookware, Black': 'Kitchen & Dining > Cookware > Skillets',\n",
       " 'All-Clad T112 Stainless Steel 12-Inch Locking Tongs Kitchen Tool, Silver': 'Kitchen & Dining > Kitchen Utensils & Gadgets > Cooking Utensils',\n",
       " 'All-Clad Stainless Steamer Insert': 'Kitchen & Dining > Cookware > Steamers',\n",
       " 'All-Clad 3012 Hard Anodized Aluminum Nonstick 12-Inch Round Grille Pan Specialty Cookware, Black': 'Kitchen & Dining > Cookware > Skillets',\n",
       " 'All-Clad MBSET Stainless Steel Dishwasher Safe Mixing Bowls / Set of 3 Kitchen Accessorie , Silver': 'Kitchen & Dining > Kitchen Utensils & Gadgets > Fruit & Vegetable Tools',\n",
       " 'All-Clad Stainless 1-Quart Saucier Pan': 'Kitchen & Dining > Cookware > Sauciers',\n",
       " 'All-Clad T136 Stainless Steel 14.5-Inch Whisk / Kitchen Tool, Silver': 'Kitchen & Dining > Kitchen Utensils & Gadgets > Cooking Utensils',\n",
       " 'Chicago Cutlery Walnut Forged 9-Piece Knife Block Set': 'Kitchen & Dining > Kitchen Knives & Cutlery Accessories > Cutlery Sets',\n",
       " 'Chicago Cutlery Walnut Tradition 10-Piece Knife Set with Block': 'Kitchen & Dining > Kitchen Knives & Cutlery Accessories > Cutlery Sets',\n",
       " 'Chicago Cutlery Walnut Tradition Kitchen Scissors, Brown': 'Kitchen & Dining > Kitchen Knives & Cutlery Accessories > Shears',\n",
       " 'All-Clad 3013 Hard Anodized Aluminum Nonstick 13 by 20-Inch Double Burner Grande Grille Pan Specialty Cookware, Black': 'Kitchen & Dining > Cookware > Grill Pans',\n",
       " 'Maverick Redi-Check Pro LCD Food Probe Thermometer': 'Kitchen & Dining > Kitchen Utensils & Gadgets > Thermometers & Timers',\n",
       " 'All-Clad 3021 Hard Anodized Aluminum Nonstick 11-Inch Square Griddle Specialty Cookware, Black': 'Kitchen & Dining > Cookware > Griddles',\n",
       " 'All-Clad TSET1 Stainless Steel 6 Piece Kitchen Tool Set Caddy Included, Silver': 'Kitchen & Dining > Dining & Entertaining > Flatware',\n",
       " 'Emeril Nonstick 10-Piece Cookware Set': 'Kitchen & Dining > Cookware > Cookware Sets',\n",
       " 'Krups 229-45 Aroma Control 10-Cup Coffeemaker with Thermal Carafe, Black and Stainless Steel': 'Kitchen & Dining > Coffee > Tea & Espresso',\n",
       " 'KRUPS KM1000 Prelude Coffee Maker with LCD Analog-Style Clock, 10-cup, Silver': 'Kitchen & Dining > Coffee > Tea & Espresso',\n",
       " 'Vacu Vin Wine Saver Extra Stoppers, Set of 4': 'Kitchen & Dining > Kitchen Utensils & Gadgets > Bar & Wine Tools',\n",
       " 'Vacu Vin Pineapple Easy Slicer, set of 3 blade sizes.': 'Kitchen & Dining > Kitchen Utensils & Gadgets > Graters',\n",
       " \"Calphalon Professional Hard-Anodized Collector's Edition 3-1/2-Quart Saucepot with Lid\": 'Kitchen & Dining > Cookware > Saucepans',\n",
       " 'Calphalon C1210P Commercial Nonstick 10-Inch International Griddle/Crepe Pan': 'Kitchen & Dining > Cookware > Specialty Cookware',\n",
       " 'Calphalon Commercial Hard-Anodized 6-1/2-Quart Saucepot with Pasta Insert': 'Kitchen & Dining > Cookware > Saucepans',\n",
       " 'Matfer 321005 Exopat 11-5/8-by-16-3/8-Inch Nonstick Baking Mat': 'Kitchen & Dining > Bakeware > Baking Tools & Accessories',\n",
       " 'Factory-Reconditioned KitchenAid RRK90WH 300-Watt Ultra Power Stand Mixer, White': 'Kitchen & Dining > Small Appliances > Mixers',\n",
       " 'Revere Copperclad Bottom 1-Quart Covered Saucepan': 'Kitchen & Dining > Cookware > Saucepans',\n",
       " 'Revere 3520027 Line 2-Quart Covered Saucepan': 'Kitchen & Dining > Cookware > Saucepans',\n",
       " 'Revere Try-Ply Bottom 1-Quart Saucepan with Lid, Stainless Steel': 'Kitchen & Dining > Cookware > Saucepans',\n",
       " 'Revere 1400 Line 7-Piece Set': 'Kitchen & Dining > Cookware > Cookware Sets',\n",
       " 'Revere 2-1/3-Quart Whistling Tea Kettle': 'Kitchen & Dining > Cookware > Teakettles',\n",
       " 'Factory-Reconditioned KitchenAid RRK5AWH 5-Quart Mixer, White': 'Kitchen & Dining > Small Appliances > Mixers',\n",
       " 'George Foreman GR82B George Jr. Rotisserie': 'Kitchen & Dining > Small Appliances > Ovens & Toasters',\n",
       " 'Toastmaster T2040WC 4-Slice Dual-Control Toaster': 'Kitchen & Dining > Small Appliances > Ovens & Toasters',\n",
       " 'Salton LM8 Lemonader! Lemonade Maker': 'Kitchen & Dining > Small Appliances > Juicers',\n",
       " 'George Foreman GR26SBTMR Family Size Grill, Brushed Stainless Steel': 'Kitchen & Dining > Small Appliances > Contact Grills',\n",
       " 'Melitta MEFB2B 12-Cup Digital Coffeemaker': 'Kitchen & Dining > Coffee > Tea & Espresso',\n",
       " 'Salton RA3A 3-Cup Rice Cooker': 'Kitchen & Dining > Small Appliances > Rice Cookers',\n",
       " 'Toastmaster T2010CTW Cool Touch 2-Slice Toaster, White': 'Kitchen & Dining > Small Appliances > Ovens & Toasters',\n",
       " 'George Foreman GR36CB Jumbo Size Plus Grill with Cookbook': 'Kitchen & Dining > Small Appliances > Contact Grills',\n",
       " 'Pyrex Prepware Sculptured 6-Piece Serving Bowl Set, Clear with Blue Lids': 'Kitchen & Dining > Bakeware > Bakers & Casseroles',\n",
       " 'CorningWare French White 1-1/2-Quart Covered Round Dish': 'Kitchen & Dining > Bakeware > Bakers & Casseroles',\n",
       " 'Pyrex Prepware 7-Piece Mix &amp; Measure Set with 6-Piece bonus': 'Kitchen & Dining > Kitchen Utensils & Gadgets > Measuring Tools & Scales',\n",
       " 'Pyrex Storage 10-Piece Set, Clear with Blue Lids': 'Kitchen & Dining > Bakeware > Bake & Serve Sets',\n",
       " 'CorningWare French White 2-1/2-Quart Round Casserole Dish with Glass Cover': 'Kitchen & Dining > Bakeware > Bakers & Casseroles',\n",
       " 'CorningWare 2-1/2-Quart Oval Casserole Dish with Glass Lid': 'Kitchen & Dining > Bakeware > Bakers & Casseroles',\n",
       " 'Pyrex Prepware 3-Piece Measuring Cup Set': 'Kitchen & Dining > Kitchen Utensils & Gadgets > Measuring Tools & Scales',\n",
       " 'Cuisinart DCC-RC10W 10-Cup Replacement Carafe, White': 'Kitchen & Dining > Small Appliance Parts & Accessories > Coffee & Espresso Machine Parts & Accessories',\n",
       " 'Wilton From The Heart Nesting Cookie Cutter Set': 'Kitchen & Dining > Bakeware > Baking Tools & Accessories',\n",
       " 'Holmes HASF-99  10-Inch Velocity Blizzard Stand Fan': 'Heating > Cooling & Air Quality > Household Fans',\n",
       " \"Chef's Choice 695 Electric French Press, Black\": 'Kitchen & Dining > Coffee > Tea & Espresso',\n",
       " 'Holmes HAWF-2041 Twin Window Fan': 'Heating > Cooling & Air Quality > Household Fans',\n",
       " \"Chef's Choice 835 Pizzelle Pro Express Bake\": 'Kitchen & Dining > Small Appliances > Specialty Appliances',\n",
       " 'Holmes HAOF90-UC Blizzard Oscillating Table Fan': 'Heating > Cooling & Air Quality > Household Fans',\n",
       " 'Calphalon Commercial Hard Anodized 3-1/2-Qt Windsor Pan with Lid': 'Kitchen & Dining > Cookware > Saucepans',\n",
       " 'Calphalon Simply Calphalon 2-Quart Small Stainless-Steel Double Boiler Insert': 'Kitchen & Dining > Cookware > Double Boilers',\n",
       " 'Calphalon 32-Inch Straight Wall Pot Rack with 4 Heavy-Duty Single Hooks': 'Kitchen & Dining > Cookware > Pot Racks',\n",
       " 'Calphalon 18-by-36-Inch Oval Pot Rack': 'Kitchen & Dining > Cookware > Pot Racks',\n",
       " 'Calphalon Commercial Hard-Anodized 8-1/2-Quart Saucier with Lid': 'Kitchen & Dining > Cookware > Sauciers',\n",
       " 'Norpro Cast Iron Bacon Grill Press and Egg Ring Set': 'Kitchen & Dining > Kitchen Utensils & Gadgets > Tool & Gadget Sets',\n",
       " 'Norpro 4 Piece Knife Organizer Set': 'Kitchen & Dining > Kitchen Knives & Cutlery Accessories > Knife Blocks & Storage',\n",
       " 'Norpro Deluxe 3-Piece Bamboo Steamer Set': 'Kitchen & Dining > Cookware > Steamers',\n",
       " 'GRAPEFRUIT SPOONS SET OF 4': 'Kitchen & Dining > Kitchen Utensils & Gadgets > Fruit & Vegetable Tools',\n",
       " 'Norpro Glass Adjustable Shaker': 'Kitchen & Dining > Kitchen Utensils & Gadgets > Salt & Pepper',\n",
       " 'Nonstick 4-Piece Egg/Pancake Ring Set': 'Kitchen & Dining > Kitchen Utensils & Gadgets > Tool & Gadget Sets',\n",
       " 'Norpro 3 Piece Stainless Steel Balloon Whisk Set': 'Kitchen & Dining > Kitchen Utensils & Gadgets > Cooking Utensils',\n",
       " 'Norpro 5120 Deluxe Cherry Pitter with Clamp': 'Kitchen & Dining > Kitchen Utensils & Gadgets > Fruit & Vegetable Tools',\n",
       " 'Norpro Nonstick Tortilla Bowl Makers, Set of 2': 'Kitchen & Dining > Cookware > Specialty Cookware',\n",
       " 'Ravioli Rolling Pin': 'Kitchen & Dining > Bakeware > Baking Tools & Accessories',\n",
       " 'Norpro French Fry Cutter': 'Kitchen & Dining > Kitchen Utensils & Gadgets > Fruit & Vegetable Tools',\n",
       " 'Cuisinart DCC-1000BK Filter Brew 12-Cup Programmable Coffeemaker, Black': 'Kitchen & Dining > Coffee > Tea & Espresso',\n",
       " 'Cuisinart DCC-1200 Brew Central 12-Cup Programmable Coffeemaker, Black/Brushed Metal': 'Kitchen & Dining > Coffee > Tea & Espresso',\n",
       " 'Presto 04830 PowerPop Microwave Multi-Popper': 'Kitchen & Dining > Small Appliances > Specialty Appliances',\n",
       " 'Cuisinart DCC-1000 Programmable Filter Brew 12-Cup Coffeemaker, White': 'Kitchen & Dining > Coffee > Tea & Espresso',\n",
       " 'Presto 03430 Pizzazz Plus Rotating Oven': 'Kitchen & Dining > Small Appliances > Specialty Appliances',\n",
       " 'Braun KFK12FL FlavorSelect 12-Cup Replacement Carafe Charcoal Gray': 'Kitchen & Dining > Small Appliance Parts & Accessories > Coffee & Espresso Machine Parts & Accessories',\n",
       " 'Braun KF180-WH FlavorSelect 12-Cup Coffeemaker, White': 'Kitchen & Dining > Coffee > Tea & Espresso',\n",
       " 'Braun KF400-WH Aromaster 10-Cup Coffeemaker, White': 'Kitchen & Dining > Coffee > Tea & Espresso',\n",
       " 'Braun KSM2-WH Aromatic Coffee Grinder, White': 'Kitchen & Dining > Coffee > Tea & Espresso',\n",
       " 'Braun M880 Multimix 4-in-1 Hand Mixer': 'Kitchen & Dining > Small Appliances > Mixers',\n",
       " 'Braun KMM30 Coffee/Espresso Mill, White': 'Kitchen & Dining > Coffee > Tea & Espresso',\n",
       " 'Braun KSM2-BLK Aromatic Coffee Grinder, Black': 'Kitchen & Dining > Coffee > Tea & Espresso',\n",
       " 'Espressione Classic Espresso, 150-Count Pods': 'Kitchen & Dining > Small Appliance Parts & Accessories > Coffee & Espresso Machine Parts & Accessories',\n",
       " 'Fiesta 12-Inch by 5-3/4-Inch Bread Tray, Cobalt': 'Kitchen & Dining > Dining & Entertaining > Serveware',\n",
       " 'Fiesta 15-Inch Pizza Tray, Cobalt': 'Kitchen & Dining > Dining & Entertaining > Serveware',\n",
       " 'Innova 42010 Stainless-Steel 10-Quart Pressure Cooker with Steamer Insert and Bonus Lid': 'Kitchen & Dining > Cookware > Pressure Cookers',\n",
       " 'Farberware 3-Piece Wood Cutting Board Set': 'Kitchen & Dining > Kitchen Knives & Cutlery Accessories > Cutting Boards',\n",
       " 'Farberware 3-Piece Poly Board Set': 'Kitchen & Dining > Kitchen Knives & Cutlery Accessories > Cutting Boards',\n",
       " 'T-fal 62870 Magiclean Deep Fryer': 'Kitchen & Dining > Small Appliances > Deep Fryers',\n",
       " 'J.A. Henckels International Eversharp Pro 9-Piece Steak Knife Block Set': 'Kitchen & Dining > Kitchen Knives & Cutlery Accessories > Cutlery Sets',\n",
       " 'Eastman Outdoors 38207 Cooking Gloves 13-Inch': 'Kitchen & Dining > Kitchen & Table Linens > Potholders & Oven Mitts',\n",
       " 'Zwilling J.A. Henckels Twin Grip Colored Paring Knives, Set of 4': 'Kitchen & Dining > Kitchen Knives & Cutlery Accessories > Paring Knives',\n",
       " 'J.A. Henckels 8-Piece Stainless-Steel Steak Knife Set in Wood Gift Box': 'Kitchen & Dining > Kitchen Knives & Cutlery Accessories > Cutlery Sets',\n",
       " 'J.A. Henckels International Everedge 13-Piece Knife Set with Bonus Cheese Knife': 'Kitchen & Dining > Kitchen Knives & Cutlery Accessories > Cutlery Sets',\n",
       " 'Zwilling J.A. Henckels Twin Pro S 7-Piece Knife Set with Block': 'Kitchen & Dining > Kitchen Knives & Cutlery Accessories > Cutlery Sets',\n",
       " 'Factory-Reconditioned Cuisinart DGB-300FR Automatic Grind &amp; Brew 10-Cup Coffeemaker, White': 'Kitchen & Dining > Coffee > Tea & Espresso',\n",
       " 'Factory-Reconditioned Cuisinart DLC-1FR 21-Ounce Mini-Prep Food Processor, White': 'Kitchen & Dining > Small Appliances > Food Processors',\n",
       " 'T-fal  7845100A 7-Cup Vitesse High Speed Kettle': 'Kitchen & Dining > Small Appliances > Coffee',\n",
       " 'Presto 05420 FryDaddy Electric Deep Fryer': 'Kitchen & Dining > Small Appliances > Deep Fryers',\n",
       " 'KitchenAid Silicone Slotted Spoon, Red': 'Kitchen & Dining > Kitchen Utensils & Gadgets > Cooking Utensils',\n",
       " 'KitchenAid Silicone Spatula Scraper, Black': 'Kitchen & Dining > Kitchen Utensils & Gadgets > Cooking Utensils',\n",
       " 'KitchenAid Silicone Mixer Spatula, Red': 'Kitchen & Dining > Kitchen Utensils & Gadgets > Cooking Utensils',\n",
       " 'KitchenAid Silicone Slotted Turner, Black': 'Kitchen & Dining > Kitchen Utensils & Gadgets > Cooking Utensils',\n",
       " 'KitchenAid Silicone Spoon Spatula, Red': 'Kitchen & Dining > Kitchen Utensils & Gadgets > Cooking Utensils',\n",
       " 'KitchenAid All Purpose Scraper, Black': 'Kitchen & Dining > Bakeware > Baking Tools & Accessories',\n",
       " 'KitchenAid Stainless Steel Utility Tongs': 'Kitchen & Dining > Kitchen Utensils & Gadgets > Cooking Utensils',\n",
       " 'KitchenAid Silicone Basting Spoon, Red': 'Kitchen & Dining > Kitchen Utensils & Gadgets > Cooking Utensils',\n",
       " 'KitchenAid 5-Piece Measuring Spoon Set, Red': 'Kitchen & Dining > Kitchen Utensils & Gadgets > Measuring Tools & Scales',\n",
       " 'KitchenAid Large Pizza Wheel, Red': 'Kitchen & Dining > Kitchen Utensils & Gadgets > Pasta & Pizza Tools',\n",
       " 'KitchenAid Can Opener, Black': 'Kitchen & Dining > Kitchen Utensils & Gadgets > Can Openers',\n",
       " 'KitchenAid Silicone Mixer Spatula, Black': 'Kitchen & Dining > Kitchen Utensils & Gadgets > Cooking Utensils',\n",
       " 'KitchenAid Stainless Steel Euro Peeler, Black': 'Kitchen & Dining > Kitchen Utensils & Gadgets > Graters',\n",
       " 'KitchenAid Pizza Wheel / Cutter, Black': 'Kitchen & Dining > Kitchen Utensils & Gadgets > Pasta & Pizza Tools',\n",
       " 'KitchenAid Ice Cream Spade, Red': 'Kitchen & Dining > Kitchen Utensils & Gadgets > Specialty Tools & Gadgets',\n",
       " 'KitchenAid Large Pizza Wheel, Black': 'Kitchen & Dining > Kitchen Utensils & Gadgets > Pasta & Pizza Tools',\n",
       " 'KitchenAid Bottle Opener, Black': 'Kitchen & Dining > Kitchen Utensils & Gadgets > Can Openers',\n",
       " 'KitchenAid Pasta Scoop Colander, Red': 'Kitchen & Dining > Kitchen Utensils & Gadgets > Colanders & Food Strainers',\n",
       " 'KitchenAid Can Opener, Red': 'Kitchen & Dining > Kitchen Utensils & Gadgets > Tool & Gadget Sets',\n",
       " 'KitchenAid Ice Cream Spade, Black': 'Kitchen & Dining > Kitchen Utensils & Gadgets > Specialty Tools & Gadgets',\n",
       " 'KitchenAid Stainless Steel Oven Thermometer': 'Kitchen & Dining > Kitchen Utensils & Gadgets > Thermometers & Timers',\n",
       " 'KRUPS F2307051 Egg Cooker, White': 'Kitchen & Dining > Small Appliances > Specialty Appliances',\n",
       " 'KRUPS 2100024902 Universal Grill and Panini Maker with Nonstick Cooking Plates, Silver': 'Kitchen & Dining > Small Appliances > Contact Grills',\n",
       " 'West Bend 41077 Just For Dinner Breadmaker': 'Kitchen & Dining > Small Appliances > Bread Machines',\n",
       " 'Aroma Housewares AEW-305 Electric Wok, Black': 'Kitchen & Dining > Small Appliances > Electric Woks',\n",
       " \"Chef's Choice 838 Waffle Cone Express Ice Cream Cone Maker\": 'Kitchen & Dining > Small Appliances > Waffle Irons',\n",
       " 'KitchenAid KFP670 Professional Food Processor, White': 'Kitchen & Dining > Small Appliances > Food Processors',\n",
       " 'Rowenta DA-35 Latitude 35 Compact Iron with Dual Voltage for Travel': 'Irons & Steamers > Irons > Travel Irons',\n",
       " 'KitchenAid KFC3100WH Chef Series 3-Cup Food Chopper, White': 'Kitchen & Dining > Kitchen Utensils & Gadgets > Seasoning & Spice Tools',\n",
       " 'Fiesta 64-Ounce Pedestal Bowl, Sunflower': 'Kitchen & Dining > Dining & Entertaining > Serveware',\n",
       " 'Tilt-Head 6-Wire Whip KitchenAid&reg; Wire Whip for Tilt Head Stand Mixer (Fits models KSM150, KSM152, KSM155)': 'Kitchen & Dining > Small Appliance Parts & Accessories > Mixer Parts & Accessories',\n",
       " 'Fiesta Covered Sugar and Creamer Set with Tray, Sunflower': 'Kitchen & Dining > Dining & Entertaining > Serveware',\n",
       " 'Fiesta 1-Quart Large Bowl, Sunflower': 'Kitchen & Dining > Dining & Entertaining > Serveware',\n",
       " 'Fiesta Rangetop Salt and Pepper Set, Sunflower': 'Kitchen & Dining > Kitchen Utensils & Gadgets > Salt & Pepper',\n",
       " 'KitchenAid K45B Flat Beater Replacement for KSM90 and K45 Stand Mixer': 'Kitchen & Dining > Small Appliance Parts & Accessories > Mixer Parts & Accessories',\n",
       " 'Fiesta 2-1/4-Inch Salt and Pepper Set, Sunflower': 'Kitchen & Dining > Kitchen Utensils & Gadgets > Salt & Pepper',\n",
       " 'Fiesta 2-Quart Serving Bowl, Sunflower': 'Kitchen & Dining > Dining & Entertaining > Serveware',\n",
       " 'Fiesta 10-1/4-Inch Deep Dish Pie Baker, Sunflower': 'Kitchen & Dining > Bakeware > Pie',\n",
       " 'KitchenAid K45DH Dough Hook Replacement for KSM90 and K45 Stand Mixer': 'Kitchen & Dining > Small Appliance Parts & Accessories > Mixer Parts & Accessories',\n",
       " 'Mr. Heater MRHF273400 Buddy Portable LP Gas Heater': 'Heating > Cooling & Air Quality > Space Heaters & Accessories',\n",
       " 'Fiesta 5-Ounce Mini Disk Pitcher, White': 'Kitchen & Dining > Dining & Entertaining > Serveware',\n",
       " 'Fiesta 1-Quart Large Bowl, Cinnabar': 'Kitchen & Dining > Dining & Entertaining > Serveware',\n",
       " 'Bodum Eileen 8 Cup French Press Coffeemaker, 1.0 l, 34-Ounce': 'Kitchen & Dining > Coffee > Tea & Espresso',\n",
       " 'Bodum Logo Travel Press': 'Kitchen & Dining > Coffee > Tea & Espresso',\n",
       " 'Bodum Chambord 3 cup French Press Coffee Maker, 12 oz., Chrome': 'Kitchen & Dining > Coffee > Tea & Espresso',\n",
       " 'Bodum Chambord 12 cup French Press Coffee Maker, 51 oz, Chrome': 'Kitchen & Dining > Coffee > Tea & Espresso',\n",
       " 'Bodum Assam 17-Ounce Tea Press': 'Kitchen & Dining > Dining & Entertaining > Serveware',\n",
       " 'Bodum Ceylon 51-Ounce Ice Tea Maker with Filter': 'Kitchen & Dining > Dining & Entertaining > Serveware',\n",
       " 'Bodum Chambord 8 cup French Press Coffee Maker, 34 oz., Chrome': 'Kitchen & Dining > Coffee > Tea & Espresso',\n",
       " 'Bodum Assam Medium Tea Press with Plastic Filter, Black, 1.0 l, 34 oz.': 'Kitchen & Dining > Coffee > Tea & Espresso',\n",
       " 'Bodum Assam 51-Ounce Tea Press': 'Kitchen & Dining > Dining & Entertaining > Serveware',\n",
       " 'Kaiser Bakeware Mini Springform Pans, Set of 4': 'Kitchen & Dining > Bakeware > Cake Pans',\n",
       " 'FilterStream V2210 DirtTamer Deluxe Wet/Dry Vacuum Cleaner': 'Vacuums & Floor Care > Vacuums > Handheld Vacuums',\n",
       " 'Kaiser Bakeware  Non-stick French Fry and Frozen Food Sheet': 'Kitchen & Dining > Bakeware > Baking & Cookie Sheets',\n",
       " 'Saeco Vienna Deluxe SuperAutomatic Espresso Coffee and Cappuccino Machine': 'Kitchen & Dining > Coffee > Tea & Espresso',\n",
       " \"Calphalon Commercial Bakeware Collector's Edition Large Cookie Sheets, Set of 2\": 'Kitchen & Dining > Bakeware > Baking & Cookie Sheets',\n",
       " 'Calphalon Professional Nonstick II Limited Edition 10-Inch Omelet Pan': 'Kitchen & Dining > Cookware > Skillets',\n",
       " 'Oneida Colours 16-Inch Cutting Board, Charcoal': 'Kitchen & Dining > Kitchen Knives & Cutlery Accessories > Cutting Boards',\n",
       " 'Cuisinart DCO-24 Die Cast Can Opener': 'Kitchen & Dining > Kitchen Utensils & Gadgets > Can Openers',\n",
       " 'Fein 921072K13 Step Adaptor': 'Vacuums & Floor Care > Vacuum Accessories > Hoses',\n",
       " 'Cuisinart TTG-500 Two-to-Go Coffeemaker': 'Kitchen & Dining > Coffee > Tea & Espresso',\n",
       " 'Bodum 3000-10USAA Electric Santos 12-Cup Coffeemaker With Timer, Clear': 'Kitchen & Dining > Coffee > Tea & Espresso',\n",
       " 'Bell Pepper Casserole - Jade': 'Kitchen & Dining > Bakeware > Bakers & Casseroles',\n",
       " 'Wusthof Classic 4-1/2-Inch Utility Knife': 'Kitchen & Dining > Kitchen Knives & Cutlery Accessories > Utility Knives',\n",
       " 'Le Creuset 7-Piece Spatula Set with Crock, Red': 'Kitchen & Dining > Kitchen Utensils & Gadgets > Cooking Utensils',\n",
       " 'W&uuml;sthof Classic Steak Knife Set, 4-Piece': 'Kitchen & Dining > Kitchen Knives & Cutlery Accessories > Cutlery Sets',\n",
       " 'Wusthof Classic 3-1/2-Inch Paring Knife': 'Kitchen & Dining > Kitchen Knives & Cutlery Accessories > Paring Knives',\n",
       " \"Wusthof Classic 10-Inch Cook's Knife\": 'Kitchen & Dining > Kitchen Knives & Cutlery Accessories > Cutlery Sets',\n",
       " 'Wusthof Classic Gourmet 3-Piece Knife Set': 'Kitchen & Dining > Kitchen Knives & Cutlery Accessories > Knife Blocks & Storage',\n",
       " 'Wusthof Classic 6-Piece Steak Knife Set': 'Kitchen & Dining > Kitchen Knives & Cutlery Accessories > Cutlery Sets',\n",
       " 'Wusthof 4109-7 Classic 5-Inch Tomato Knife': 'Kitchen & Dining > Kitchen Knives & Cutlery Accessories > Specialty Knives',\n",
       " 'Wusthof Grand Prix 7-Piece Knife Block Set': 'Kitchen & Dining > Kitchen Knives & Cutlery Accessories > Cutlery Sets',\n",
       " 'Wusthof Classic 6-Inch Sandwich Knife': 'Kitchen & Dining > Kitchen Knives & Cutlery Accessories > Utility Knives',\n",
       " 'Wusthof Gourmet 7-Piece Knife Set with Block': 'Kitchen & Dining > Kitchen Knives & Cutlery Accessories > Cutlery Sets',\n",
       " ...}"
      ]
     },
     "execution_count": 374,
     "metadata": {},
     "output_type": "execute_result"
    }
   ],
   "source": [
    "category_lookup_short = {k:v for k,v in zip(categories['title'],categories['narrow_cat'])}\n",
    "category_lookup_short"
   ]
  },
  {
   "cell_type": "code",
   "execution_count": 375,
   "metadata": {},
   "outputs": [],
   "source": [
    "rec, history, actual = generate_recommendations(user_hh1, pred_matrix=svd_k40reg_predicted_ratings_matrix, n_recommended_items=10,\n",
    "                         return_recommendations_only=False, print_results=False)"
   ]
  },
  {
   "cell_type": "code",
   "execution_count": 353,
   "metadata": {},
   "outputs": [],
   "source": [
    "def model_evaluation_recall_cat(rec, actual, verbose=False):\n",
    "    \n",
    "    rec_categories = set([category_lookup_short[item] for item in rec])\n",
    "    actual_categories = set([category_lookup_short[item] for item in actual])\n",
    "    \n",
    "    overlap = rec_categories & actual_categories\n",
    "    pct_recall = len(overlap)/len(rec)\n",
    "    \n",
    "    if verbose==True:\n",
    "        print(overlap)\n",
    "    \n",
    "    return pct_recall"
   ]
  },
  {
   "cell_type": "code",
   "execution_count": 376,
   "metadata": {},
   "outputs": [
    {
     "name": "stdout",
     "output_type": "stream",
     "text": [
      "{'Kitchen & Dining > Kitchen Utensils & Gadgets > Salt & Pepper'}\n"
     ]
    },
    {
     "data": {
      "text/plain": [
       "0.1"
      ]
     },
     "execution_count": 376,
     "metadata": {},
     "output_type": "execute_result"
    }
   ],
   "source": [
    "model_evaluation_recall_cat(rec,actual,verbose=True)"
   ]
  },
  {
   "cell_type": "code",
   "execution_count": 379,
   "metadata": {
    "scrolled": true
   },
   "outputs": [
    {
     "name": "stdout",
     "output_type": "stream",
     "text": [
      "End\n",
      "% of test with at least one item from recommended list:  0.24268227780734433\n",
      "Avg hit rate: 0.1260964912280702 ± 0.05657342214283733\n"
     ]
    }
   ],
   "source": [
    "min_1_hit = 0\n",
    "hit_rates = []\n",
    "\n",
    "for user in reviews20_2014['reviewerID'].unique():\n",
    "    \n",
    "    try:\n",
    "        rec, history, actual = generate_recommendations(user, \n",
    "                                                        svd_k40reg_predicted_ratings_matrix, \n",
    "                                                        n_recommended_items=10,\n",
    "                                                        return_recommendations_only=False, \n",
    "                                                        print_results=False)\n",
    "\n",
    "        user_recall = model_evaluation_recall_cat(rec, actual)\n",
    "\n",
    "        if user_recall > 0:\n",
    "            min_1_hit += 1\n",
    "            hit_rates.append(user_recall)\n",
    "    \n",
    "    except KeyError:\n",
    "        continue\n",
    "\n",
    "print('End')\n",
    "print('% of test with at least one item from recommended list: ', min_1_hit/len(reviews20_2014['reviewerID'].unique()))\n",
    "print('Avg hit rate: {} ± {}'.format(np.mean(hit_rates), np.std(hit_rates)))"
   ]
  },
  {
   "cell_type": "code",
   "execution_count": 380,
   "metadata": {},
   "outputs": [
    {
     "name": "stdout",
     "output_type": "stream",
     "text": [
      "End\n",
      "% of test with at least one item from recommended list:  0.24161788185204897\n",
      "Avg hit rate: 0.11938325991189427 ± 0.048985912583759464\n"
     ]
    }
   ],
   "source": [
    "algo = SVD(n_factors=40, lr_bi=0.0001, lr_qi=0.0001, reg_bi=0.5, reg_qi=0.5)\n",
    "algo.fit(trainset)\n",
    "\n",
    "svd_k40reg_predicted_ratings_matrix = generate_predicted_ratings_matrix(user_utility_matrix)\n",
    "\n",
    "min_1_hit = 0\n",
    "hit_rates = []\n",
    "\n",
    "for user in reviews20_2014['reviewerID'].unique():\n",
    "    \n",
    "    try:\n",
    "        rec, history, actual = generate_recommendations(user, \n",
    "                                                        svd_k40reg_predicted_ratings_matrix, \n",
    "                                                        n_recommended_items=10,\n",
    "                                                        return_recommendations_only=False, \n",
    "                                                        print_results=False)\n",
    "\n",
    "        user_recall = model_evaluation_recall_cat(rec, actual)\n",
    "\n",
    "        if user_recall > 0:\n",
    "            min_1_hit += 1\n",
    "            hit_rates.append(user_recall)\n",
    "    \n",
    "    except KeyError:\n",
    "        continue\n",
    "\n",
    "print('End')\n",
    "print('% of test with at least one item from recommended list: ', min_1_hit/len(reviews20_2014['reviewerID'].unique()))\n",
    "print('Avg hit rate: {} ± {}'.format(np.mean(hit_rates), np.std(hit_rates)))"
   ]
  },
  {
   "cell_type": "code",
   "execution_count": 381,
   "metadata": {},
   "outputs": [
    {
     "name": "stdout",
     "output_type": "stream",
     "text": [
      "End\n",
      "% of test with at least one item from recommended list:  0.24640766365087813\n",
      "Avg hit rate: 0.12008639308855293 ± 0.0474670863408983\n"
     ]
    }
   ],
   "source": [
    "algo = SVD(n_factors=40, lr_bi=0.0001, lr_qi=0.0001, reg_bi=0.6, reg_qi=0.6)\n",
    "algo.fit(trainset)\n",
    "\n",
    "svd_k40reg_predicted_ratings_matrix = generate_predicted_ratings_matrix(user_utility_matrix)\n",
    "\n",
    "min_1_hit = 0\n",
    "hit_rates = []\n",
    "\n",
    "for user in reviews20_2014['reviewerID'].unique():\n",
    "    \n",
    "    try:\n",
    "        rec, history, actual = generate_recommendations(user, \n",
    "                                                        svd_k40reg_predicted_ratings_matrix, \n",
    "                                                        n_recommended_items=10,\n",
    "                                                        return_recommendations_only=False, \n",
    "                                                        print_results=False)\n",
    "\n",
    "        user_recall = model_evaluation_recall_cat(rec, actual)\n",
    "\n",
    "        if user_recall > 0:\n",
    "            min_1_hit += 1\n",
    "            hit_rates.append(user_recall)\n",
    "    \n",
    "    except KeyError:\n",
    "        continue\n",
    "\n",
    "print('End')\n",
    "print('% of test with at least one item from recommended list: ', min_1_hit/len(reviews20_2014['reviewerID'].unique()))\n",
    "print('Avg hit rate: {} ± {}'.format(np.mean(hit_rates), np.std(hit_rates)))"
   ]
  },
  {
   "cell_type": "code",
   "execution_count": 382,
   "metadata": {},
   "outputs": [
    {
     "name": "stdout",
     "output_type": "stream",
     "text": [
      "End\n",
      "% of test with at least one item from recommended list:  0.24693986162852583\n",
      "Avg hit rate: 0.11573275862068967 ± 0.04034204142309999\n"
     ]
    }
   ],
   "source": [
    "algo = SVD(n_factors=40, lr_bi=0.0001, lr_qi=0.0001, reg_bi=0.7, reg_qi=0.7)\n",
    "algo.fit(trainset)\n",
    "\n",
    "svd_k40reg_predicted_ratings_matrix = generate_predicted_ratings_matrix(user_utility_matrix)\n",
    "\n",
    "min_1_hit = 0\n",
    "hit_rates = []\n",
    "\n",
    "for user in reviews20_2014['reviewerID'].unique():\n",
    "    \n",
    "    try:\n",
    "        rec, history, actual = generate_recommendations(user, \n",
    "                                                        svd_k40reg_predicted_ratings_matrix, \n",
    "                                                        n_recommended_items=10,\n",
    "                                                        return_recommendations_only=False, \n",
    "                                                        print_results=False)\n",
    "\n",
    "        user_recall = model_evaluation_recall_cat(rec, actual)\n",
    "\n",
    "        if user_recall > 0:\n",
    "            min_1_hit += 1\n",
    "            hit_rates.append(user_recall)\n",
    "    \n",
    "    except KeyError:\n",
    "        continue\n",
    "\n",
    "print('End')\n",
    "print('% of test with at least one item from recommended list: ', min_1_hit/len(reviews20_2014['reviewerID'].unique()))\n",
    "print('Avg hit rate: {} ± {}'.format(np.mean(hit_rates), np.std(hit_rates)))"
   ]
  },
  {
   "cell_type": "code",
   "execution_count": 383,
   "metadata": {},
   "outputs": [
    {
     "name": "stdout",
     "output_type": "stream",
     "text": [
      "End\n",
      "% of test with at least one item from recommended list:  0.2437466737626397\n",
      "Avg hit rate: 0.11724890829694325 ± 0.04515218382369073\n"
     ]
    }
   ],
   "source": [
    "algo = SVD(n_factors=40, lr_bi=0.0001, lr_qi=0.0001, reg_bi=0.8, reg_qi=0.8)\n",
    "algo.fit(trainset)\n",
    "\n",
    "svd_k40reg_predicted_ratings_matrix = generate_predicted_ratings_matrix(user_utility_matrix)\n",
    "\n",
    "min_1_hit = 0\n",
    "hit_rates = []\n",
    "\n",
    "for user in reviews20_2014['reviewerID'].unique():\n",
    "    \n",
    "    try:\n",
    "        rec, history, actual = generate_recommendations(user, \n",
    "                                                        svd_k40reg_predicted_ratings_matrix, \n",
    "                                                        n_recommended_items=10,\n",
    "                                                        return_recommendations_only=False, \n",
    "                                                        print_results=False)\n",
    "\n",
    "        user_recall = model_evaluation_recall_cat(rec, actual)\n",
    "\n",
    "        if user_recall > 0:\n",
    "            min_1_hit += 1\n",
    "            hit_rates.append(user_recall)\n",
    "    \n",
    "    except KeyError:\n",
    "        continue\n",
    "\n",
    "print('End')\n",
    "print('% of test with at least one item from recommended list: ', min_1_hit/len(reviews20_2014['reviewerID'].unique()))\n",
    "print('Avg hit rate: {} ± {}'.format(np.mean(hit_rates), np.std(hit_rates)))"
   ]
  },
  {
   "cell_type": "code",
   "execution_count": 384,
   "metadata": {},
   "outputs": [
    {
     "name": "stdout",
     "output_type": "stream",
     "text": [
      "End\n",
      "% of test with at least one item from recommended list:  0.24587546567323043\n",
      "Avg hit rate: 0.12229437229437232 ± 0.04790791955624578\n"
     ]
    }
   ],
   "source": [
    "algo = SVD(n_factors=40, lr_bi=0.0001, lr_qi=0.0001, reg_bi=0.9, reg_qi=0.9)\n",
    "algo.fit(trainset)\n",
    "\n",
    "svd_k40reg_predicted_ratings_matrix = generate_predicted_ratings_matrix(user_utility_matrix)\n",
    "\n",
    "min_1_hit = 0\n",
    "hit_rates = []\n",
    "\n",
    "for user in reviews20_2014['reviewerID'].unique():\n",
    "    \n",
    "    try:\n",
    "        rec, history, actual = generate_recommendations(user, \n",
    "                                                        svd_k40reg_predicted_ratings_matrix, \n",
    "                                                        n_recommended_items=10,\n",
    "                                                        return_recommendations_only=False, \n",
    "                                                        print_results=False)\n",
    "\n",
    "        user_recall = model_evaluation_recall_cat(rec, actual)\n",
    "\n",
    "        if user_recall > 0:\n",
    "            min_1_hit += 1\n",
    "            hit_rates.append(user_recall)\n",
    "    \n",
    "    except KeyError:\n",
    "        continue\n",
    "\n",
    "print('End')\n",
    "print('% of test with at least one item from recommended list: ', min_1_hit/len(reviews20_2014['reviewerID'].unique()))\n",
    "print('Avg hit rate: {} ± {}'.format(np.mean(hit_rates), np.std(hit_rates)))"
   ]
  },
  {
   "cell_type": "code",
   "execution_count": 385,
   "metadata": {},
   "outputs": [
    {
     "name": "stdout",
     "output_type": "stream",
     "text": [
      "End\n",
      "% of test with at least one item from recommended list:  0.2437466737626397\n",
      "Avg hit rate: 0.12161572052401749 ± 0.05023969547851003\n"
     ]
    }
   ],
   "source": [
    "algo = SVD(n_factors=40, lr_bi=0.0001, lr_qi=0.0001, reg_bi=1, reg_qi=1)\n",
    "algo.fit(trainset)\n",
    "\n",
    "svd_k40reg_predicted_ratings_matrix = generate_predicted_ratings_matrix(user_utility_matrix)\n",
    "\n",
    "min_1_hit = 0\n",
    "hit_rates = []\n",
    "\n",
    "for user in reviews20_2014['reviewerID'].unique():\n",
    "    \n",
    "    try:\n",
    "        rec, history, actual = generate_recommendations(user, \n",
    "                                                        svd_k40reg_predicted_ratings_matrix, \n",
    "                                                        n_recommended_items=10,\n",
    "                                                        return_recommendations_only=False, \n",
    "                                                        print_results=False)\n",
    "\n",
    "        user_recall = model_evaluation_recall_cat(rec, actual)\n",
    "\n",
    "        if user_recall > 0:\n",
    "            min_1_hit += 1\n",
    "            hit_rates.append(user_recall)\n",
    "    \n",
    "    except KeyError:\n",
    "        continue\n",
    "\n",
    "print('End')\n",
    "print('% of test with at least one item from recommended list: ', min_1_hit/len(reviews20_2014['reviewerID'].unique()))\n",
    "print('Avg hit rate: {} ± {}'.format(np.mean(hit_rates), np.std(hit_rates)))"
   ]
  },
  {
   "cell_type": "code",
   "execution_count": null,
   "metadata": {},
   "outputs": [],
   "source": []
  },
  {
   "cell_type": "code",
   "execution_count": 400,
   "metadata": {},
   "outputs": [],
   "source": [
    "rec, history, actual = generate_recommendations(user_hh1, pred_matrix=uucf_k3_predicted_ratings_matrix, n_recommended_items=10,\n",
    "                         return_recommendations_only=False, print_results=False)"
   ]
  },
  {
   "cell_type": "code",
   "execution_count": 353,
   "metadata": {},
   "outputs": [],
   "source": [
    "def model_evaluation_recall_cat(rec, actual, verbose=False):\n",
    "    \n",
    "    rec_categories = set([category_lookup_short[item] for item in rec])\n",
    "    actual_categories = set([category_lookup_short[item] for item in actual])\n",
    "    \n",
    "    overlap = rec_categories & actual_categories\n",
    "    pct_recall = len(overlap)/len(rec)\n",
    "    \n",
    "    if verbose==True:\n",
    "        print(overlap)\n",
    "    \n",
    "    return pct_recall"
   ]
  },
  {
   "cell_type": "code",
   "execution_count": 401,
   "metadata": {},
   "outputs": [
    {
     "name": "stdout",
     "output_type": "stream",
     "text": [
      "set()\n"
     ]
    },
    {
     "data": {
      "text/plain": [
       "0.0"
      ]
     },
     "execution_count": 401,
     "metadata": {},
     "output_type": "execute_result"
    }
   ],
   "source": [
    "model_evaluation_recall_cat(rec,actual,verbose=True)"
   ]
  },
  {
   "cell_type": "code",
   "execution_count": 402,
   "metadata": {
    "scrolled": true
   },
   "outputs": [
    {
     "name": "stdout",
     "output_type": "stream",
     "text": [
      "End\n",
      "% of test with at least one item from recommended list:  0.271953166577967\n",
      "Avg hit rate: 0.1199608610567515 ± 0.04798073686409777\n"
     ]
    }
   ],
   "source": [
    "min_1_hit = 0\n",
    "hit_rates = []\n",
    "\n",
    "for user in reviews20_2014['reviewerID'].unique():\n",
    "    \n",
    "    try:\n",
    "        rec, history, actual = generate_recommendations(user, \n",
    "                                                        uucf_k3_predicted_ratings_matrix, \n",
    "                                                        n_recommended_items=10,\n",
    "                                                        return_recommendations_only=False, \n",
    "                                                        print_results=False)\n",
    "\n",
    "        user_recall = model_evaluation_recall_cat(rec, actual)\n",
    "\n",
    "        if user_recall > 0:\n",
    "            min_1_hit += 1\n",
    "            hit_rates.append(user_recall)\n",
    "    \n",
    "    except KeyError:\n",
    "        continue\n",
    "\n",
    "print('End')\n",
    "print('% of test with at least one item from recommended list: ', min_1_hit/len(reviews20_2014['reviewerID'].unique()))\n",
    "print('Avg hit rate: {} ± {}'.format(np.mean(hit_rates), np.std(hit_rates)))"
   ]
  },
  {
   "cell_type": "code",
   "execution_count": null,
   "metadata": {},
   "outputs": [],
   "source": []
  },
  {
   "cell_type": "markdown",
   "metadata": {},
   "source": [
    "# Appendix:\n",
    "Alternatives and Failures :("
   ]
  },
  {
   "cell_type": "code",
   "execution_count": null,
   "metadata": {},
   "outputs": [],
   "source": [
    "# def user_recommendation_svd_surprise(user_id, n=10, verbose=True):\n",
    "\n",
    "#     # for given user, predict rating for all items\n",
    "#     predicted_ratings = []\n",
    "    \n",
    "#     for item_id in reviews20_pre2014['asin'].unique():\n",
    "#         predicted_rating = algo.predict(user_id, item_id)[3]\n",
    "#         predicted_ratings.append([item_id, predicted_rating])\n",
    "    \n",
    "#     # rank the ratings, and output top 5/10\n",
    "#     # alternative: output all \n",
    "#     predicted_ratings = sorted(predicted_ratings, key=lambda x: x[1], reverse=True)\n",
    "    \n",
    "#     top_n = predicted_ratings[:n]\n",
    "#     recommended_item_ids = [item_pair[0] for item_pair in top_n]\n",
    "#     recommended_items = [product_lookup[item_id] for item_id in recommended_item_ids]\n",
    "    \n",
    "#     if verbose == True:\n",
    "#         print(\"==== User's Purchase History ====\")\n",
    "#         for item in user_products_train[user_id]:\n",
    "#             print(item)\n",
    "\n",
    "#         print(\"\\n==== User's Actual Purchase in 2014 ====\")\n",
    "#         for item in user_products_test[user_id]:\n",
    "#             print(item)   \n",
    "            \n",
    "#     return recommended_items\n",
    "\n",
    "#     # side qn: can i do item-based? given a set of items, predict what else to buy?"
   ]
  },
  {
   "cell_type": "code",
   "execution_count": null,
   "metadata": {
    "scrolled": false
   },
   "outputs": [],
   "source": [
    "#user_recommendation_svd_surprise('A6UA94BCF4NQD')"
   ]
  },
  {
   "cell_type": "markdown",
   "metadata": {},
   "source": [
    "#### Alternative Surprise implementation:\n",
    "- Randomly splits train-test (rather than by year)\n",
    "- Model evaluation is done by cross-validation"
   ]
  },
  {
   "cell_type": "code",
   "execution_count": null,
   "metadata": {},
   "outputs": [],
   "source": [
    "# reader = Reader(rating_scale=(1,5))\n",
    "# data = Dataset.load_from_df(reviews20[['reviewerID', 'asin', 'overall']], reader)\n",
    "\n",
    "# algo=SVD()\n",
    "\n",
    "# trainset, testset = model_selection.train_test_split(data, test_size=.25)\n",
    "\n",
    "# algo.fit(trainset)\n",
    "# preds = algo.test(testset)\n",
    "\n",
    "# print(accuracy.rmse(preds))\n",
    "# model_selection.cross_validate(algo, data, measures=['rmse'], cv=5)\n",
    "\n",
    "# #algo.predict('A100L918633LUO', '0912696591')[3]"
   ]
  },
  {
   "cell_type": "markdown",
   "metadata": {},
   "source": [
    "# Full Attempt in coding from Scratch :("
   ]
  },
  {
   "cell_type": "markdown",
   "metadata": {},
   "source": [
    "# User-User CF"
   ]
  },
  {
   "cell_type": "markdown",
   "metadata": {},
   "source": [
    "## Trying with weighting:\n",
    "- Prediction calculated by the **weighted** mean of top 3 most similar users\n",
    "- recommendation: based on highest predicted ratings"
   ]
  },
  {
   "cell_type": "markdown",
   "metadata": {},
   "source": [
    "## Rating Prediction"
   ]
  },
  {
   "cell_type": "code",
   "execution_count": null,
   "metadata": {},
   "outputs": [],
   "source": [
    "def predict_rating_UU(reviewerID, itemID, top_n=3, sim_matrix=cosine_sim, prediction_type='mean', \n",
    "                      train_df=reviews20_pre2014):\n",
    "\n",
    "    try: \n",
    "        # get list of users who have reviewed item\n",
    "        reviewers = list(train_df[train_df['asin']==itemID]['reviewerID'])\n",
    "        # exclude target user if target user bought the item too\n",
    "        reviewers.remove(reviewerID)\n",
    "    except ValueError:\n",
    "        reviewers = list(train_df[train_df['asin']==itemID]['reviewerID'])\n",
    "        \n",
    "\n",
    "    # narrow cosine_sim list to this list of users\n",
    "    reviewers_cosine_sim = sim_matrix.loc[reviewerID,reviewers].sort_values(ascending=False)\n",
    "\n",
    "    # get top_n similar users\n",
    "    top_n_most_similar_users = reviewers_cosine_sim[:top_n].index\n",
    "    top_n_scores = reviewers_cosine_sim[:top_n].values\n",
    "    top_n_ratings = []\n",
    "    for user_id in top_n_most_similar_users:\n",
    "        top_n_ratings.append(round((train_df.loc[(train_df['reviewerID']==user_id) & \n",
    "                                          (train_df['asin']==itemID), 'overall'].values[0]), 5))\n",
    "    \n",
    "    if prediction_type == 'mean':\n",
    "        predicted_rating = np.mean(top_n_ratings)\n",
    "    elif prediction_type == 'weighted':\n",
    "        if np.sum(top_n_scores) != 0:\n",
    "            predicted_rating = np.sum((np.array(top_n_scores) * np.array(top_n_ratings))) / np.sum(top_n_scores)\n",
    "        else:\n",
    "            predicted_rating = np.mean(top_n_ratings)\n",
    "        \n",
    "    return round(predicted_rating,5)"
   ]
  },
  {
   "cell_type": "code",
   "execution_count": null,
   "metadata": {},
   "outputs": [],
   "source": [
    "jaccard_sim = generate_similarity_matrix(user_utility_matrix, metric='jaccard')\n",
    "cosine_sim = generate_similarity_matrix(user_utility_matrix, metric='cosine')\n",
    "adjcosine_sim = generate_similarity_matrix(user_utility_matrix, metric='adjcosine')\n",
    "correlation_sim = generate_similarity_matrix(user_utility_matrix, metric='correlation')\n",
    "\n",
    "similarity_matrices = {\n",
    "    'jaccard_sim': jaccard_sim,\n",
    "    'cosine_sim': cosine_sim,\n",
    "    'adjcosine_sim': adjcosine_sim,\n",
    "    'correlation_sim': correlation_sim\n",
    "}"
   ]
  },
  {
   "cell_type": "markdown",
   "metadata": {},
   "source": [
    "## Output: List of recommendations"
   ]
  },
  {
   "cell_type": "code",
   "execution_count": null,
   "metadata": {},
   "outputs": [],
   "source": [
    "tmp = user_utility_matrix.fillna(0).iloc[:30, :30]\n",
    "tmp"
   ]
  },
  {
   "cell_type": "code",
   "execution_count": null,
   "metadata": {},
   "outputs": [],
   "source": [
    "user_utility_matrix.shape"
   ]
  },
  {
   "cell_type": "code",
   "execution_count": null,
   "metadata": {},
   "outputs": [],
   "source": [
    "tmp.stack().to_frame().apply(lambda x: predict_rating_UU(x.name[0], x.name[1]), axis=1).unstack()"
   ]
  },
  {
   "cell_type": "code",
   "execution_count": null,
   "metadata": {},
   "outputs": [],
   "source": [
    "# take out the predicted ratings part (count only once)\n",
    "# predict ratings for every product-user combination\n",
    "\n",
    "predicted_ratings_matrix = (user_utility_matrix.fillna(0).stack().to_frame()\n",
    "                            .apply(lambda x: predict_rating_UU(x.name[0], x.name[1]), axis=1).unstack())\n",
    "# predict_rating_UU(user_tmp, pdt_tmp, prediction_type='weighted')\n",
    "    \n",
    "predicted_ratings_matrix"
   ]
  },
  {
   "cell_type": "code",
   "execution_count": null,
   "metadata": {},
   "outputs": [],
   "source": [
    "def recommender_UU(user_id, top_n=3, n_recommended_items=10, train_df=reviews20_pre2014, similarity_metric='cosine', \n",
    "                   verbose=True):\n",
    "    \n",
    "    # predict product ratings for every product for given user\n",
    "    predicted_ratings = []\n",
    "    for item in train_df['asin'].unique():\n",
    "        prediction = [item, predict_rating_UU(user_id, item, top_n=3, prediction_type='weighted')]\n",
    "        predicted_ratings.append(prediction)\n",
    "    \n",
    "    # rank the ratings\n",
    "    predicted_ratings = sorted(predicted_ratings, key=lambda x: x[1], reverse=True)\n",
    "    \n",
    "    # select top 10\n",
    "    \n",
    "    recommended_items = [product_lookup[item[0]] for item in predicted_ratings[:n_recommended_items]]\n",
    "    \n",
    "    if verbose == True:\n",
    "        print(\"==== User's Purchase History ====\")\n",
    "        for item in user_products_train[user_id]:\n",
    "            print(item)\n",
    "\n",
    "        print(\"\\n==== User's Actual Purchase in 2014 ====\")\n",
    "        for item in user_products_test[user_id]:\n",
    "            print(item)  \n",
    "    \n",
    "    #return predicted_ratings\n",
    "    return recommended_items"
   ]
  },
  {
   "cell_type": "code",
   "execution_count": null,
   "metadata": {},
   "outputs": [],
   "source": [
    "recommender_UU(user_tmp)"
   ]
  },
  {
   "cell_type": "code",
   "execution_count": null,
   "metadata": {},
   "outputs": [],
   "source": [
    "## do i need to create a function based on product set?\n",
    "## this is more flexible\n",
    "# def user_based_recommender(product_set, k=3, similarity_metric='cosine'):\n",
    "#     pass"
   ]
  },
  {
   "cell_type": "markdown",
   "metadata": {},
   "source": [
    "## Model Evaluation"
   ]
  },
  {
   "cell_type": "markdown",
   "metadata": {},
   "source": [
    "#### calculating rmse for weighted"
   ]
  },
  {
   "cell_type": "code",
   "execution_count": null,
   "metadata": {},
   "outputs": [],
   "source": [
    "jaccard_preds = model_evaluation_rmse(top_n=3, prediction_type='weighted', sim_metric='jaccard_sim')\n",
    "cosine_preds = model_evaluation_rmse(top_n=3, prediction_type='weighted', sim_metric='cosine_sim')\n",
    "adjcosine_preds= model_evaluation_rmse(top_n=3, prediction_type='weighted', sim_metric='adjcosine_sim')\n",
    "correlation_preds = model_evaluation_rmse(top_n=3, prediction_type='weighted', sim_metric='correlation_sim')"
   ]
  },
  {
   "cell_type": "markdown",
   "metadata": {},
   "source": [
    "#### Trying with 10 recommended items. hit rate should be a lot lower"
   ]
  },
  {
   "cell_type": "code",
   "execution_count": null,
   "metadata": {},
   "outputs": [],
   "source": [
    "def model_evaluation_recall_UU(user_id, top_n=3, similarity_metric='cosine', verbose=False):\n",
    "    \"\"\"\n",
    "    Returns the number/proportion of the model's recommended items that the user actually bought in the test set\n",
    "    Returns the proportion of the test set that was recommended by the model\n",
    "    (test & rec) / test\n",
    "    \"\"\"\n",
    "    item_intersection_count = len(set(recommender_UU(user_id, \n",
    "                                                 top_n=top_n,  \n",
    "                                                 verbose=verbose)) & \n",
    "                                  user_products_test[user_id])\n",
    "    \n",
    "    pct_recall = item_intersection_count / len(user_products_test[user_id])\n",
    "    \n",
    "    return pct_recall"
   ]
  },
  {
   "cell_type": "code",
   "execution_count": null,
   "metadata": {},
   "outputs": [],
   "source": [
    "recommender_UU(user_tmp)"
   ]
  },
  {
   "cell_type": "code",
   "execution_count": null,
   "metadata": {},
   "outputs": [],
   "source": [
    "model_evaluation_recall_UU(user_tmp)"
   ]
  },
  {
   "cell_type": "code",
   "execution_count": null,
   "metadata": {},
   "outputs": [],
   "source": [
    "min_1_hit = 0\n",
    "hit_rates = []\n",
    "\n",
    "for user in reviews20_2014['reviewerID'].unique():\n",
    "    if model_evaluation_recall_UU(user) > 0:\n",
    "        min_1_hit += 1\n",
    "        hit_rates.append(model_evaluation_recall(user))\n",
    "        #print(user, model_evaluation_recall(user))\n",
    "\n",
    "print('End')\n",
    "print('% of test with at least one item from recommended list: ', min_1_hit/len(reviews20_2014['reviewerID'].unique()))\n",
    "print('Avg hit rate: {} ± {}'.format(np.mean(hit_rates), np.std(hit_rates)))"
   ]
  },
  {
   "cell_type": "markdown",
   "metadata": {},
   "source": [
    "# Trying CF with less memory"
   ]
  },
  {
   "cell_type": "markdown",
   "metadata": {},
   "source": [
    "This probably did very badly because:\n",
    "    - the ratings are predicted by the weight of every user by how similar they are\n",
    "    - As the matrix is very sparse and I imputed with 0, the predicted ratings are all very low"
   ]
  },
  {
   "cell_type": "code",
   "execution_count": null,
   "metadata": {},
   "outputs": [],
   "source": [
    "user_similarity = generate_similarity_matrix(user_utility_matrix, metric='adjcosine').as_matrix()\n",
    "user_similarity[:4, :4]"
   ]
  },
  {
   "cell_type": "code",
   "execution_count": null,
   "metadata": {},
   "outputs": [],
   "source": [
    "ratings = user_utility_matrix.fillna(0).as_matrix()\n",
    "ratings"
   ]
  },
  {
   "cell_type": "code",
   "execution_count": null,
   "metadata": {},
   "outputs": [],
   "source": [
    "predicted_ratings = pd.DataFrame(user_similarity.dot(ratings), columns=user_utility_matrix.columns, \n",
    "                                 index=user_utility_matrix.index)"
   ]
  },
  {
   "cell_type": "code",
   "execution_count": null,
   "metadata": {
    "scrolled": true
   },
   "outputs": [],
   "source": [
    "predicted_ratings"
   ]
  },
  {
   "cell_type": "code",
   "execution_count": null,
   "metadata": {},
   "outputs": [],
   "source": [
    "predicted_ratings.loc['A100L918633LUO', 'B00000JGRP']"
   ]
  },
  {
   "cell_type": "code",
   "execution_count": null,
   "metadata": {
    "scrolled": true
   },
   "outputs": [],
   "source": [
    "predictions"
   ]
  },
  {
   "cell_type": "code",
   "execution_count": null,
   "metadata": {},
   "outputs": [],
   "source": [
    "def get_preds(user_id, product_id):\n",
    "    return predicted_ratings.loc[user_id, product_id]"
   ]
  },
  {
   "cell_type": "code",
   "execution_count": null,
   "metadata": {},
   "outputs": [],
   "source": [
    "get_preds('A6UA94BCF4NQD', 'B002R0DR3I')"
   ]
  },
  {
   "cell_type": "code",
   "execution_count": null,
   "metadata": {
    "scrolled": true
   },
   "outputs": [],
   "source": [
    "predictions.head()"
   ]
  },
  {
   "cell_type": "code",
   "execution_count": null,
   "metadata": {
    "scrolled": true
   },
   "outputs": [],
   "source": [
    "predictions = reviews20_2014.copy()\n",
    "predictions['predicted'] = predictions.apply(lambda x: predicted_ratings.at[x['reviewerID'], x['asin']], axis=1)"
   ]
  },
  {
   "cell_type": "code",
   "execution_count": null,
   "metadata": {},
   "outputs": [],
   "source": [
    "np.sqrt(mean_squared_error(predictions['overall'], predictions['predicted']))"
   ]
  },
  {
   "cell_type": "markdown",
   "metadata": {},
   "source": [
    "## with top k"
   ]
  },
  {
   "cell_type": "code",
   "execution_count": null,
   "metadata": {},
   "outputs": [],
   "source": [
    "def predict_topk(ratings, similarity, kind='user', k=3):\n",
    "    pred = np.zeros(ratings.shape)\n",
    "    if kind == 'user':\n",
    "        for i in range(ratings.shape[0]):\n",
    "            top_k_users = [np.argsort(similarity[:,i])[:-k-1:-1]]\n",
    "            for j in range(ratings.shape[1]):\n",
    "                pred[i, j] = similarity[i, :][top_k_users].dot(ratings[:, j][top_k_users]) \n",
    "                pred[i, j] /= np.sum(np.abs(similarity[i, :][top_k_users]))\n",
    "    if kind == 'item':\n",
    "        for j in range(ratings.shape[1]):\n",
    "            top_k_items = [np.argsort(similarity[:,j])[:-k-1:-1]]\n",
    "            for i in range(ratings.shape[0]):\n",
    "                pred[i, j] = similarity[j, :][top_k_items].dot(ratings[i, :][top_k_items].T) \n",
    "                pred[i, j] /= np.sum(np.abs(similarity[j, :][top_k_items]))        \n",
    "    \n",
    "    return pred"
   ]
  },
  {
   "cell_type": "code",
   "execution_count": null,
   "metadata": {},
   "outputs": [],
   "source": [
    "topK_predicted_ratings = pd.DataFrame(predict_topk(ratings, user_similarity), columns=user_utility_matrix.columns, \n",
    "                                 index=user_utility_matrix.index)"
   ]
  },
  {
   "cell_type": "code",
   "execution_count": null,
   "metadata": {},
   "outputs": [],
   "source": [
    "predictions = reviews20_2014.copy()\n",
    "predictions['predicted'] = predictions.apply(lambda x: topK_predicted_ratings.at[x['reviewerID'], x['asin']], axis=1)\n",
    "\n",
    "np.sqrt(mean_squared_error(predictions['overall'], predictions['predicted']))"
   ]
  },
  {
   "cell_type": "code",
   "execution_count": null,
   "metadata": {},
   "outputs": [],
   "source": []
  },
  {
   "cell_type": "code",
   "execution_count": null,
   "metadata": {},
   "outputs": [],
   "source": [
    "# next steps: \n",
    "## only choose 5 star products?\n",
    "## recommend based on predicted ratings?"
   ]
  },
  {
   "cell_type": "markdown",
   "metadata": {},
   "source": [
    "# Item-Item CF"
   ]
  },
  {
   "cell_type": "markdown",
   "metadata": {},
   "source": [
    "## Calculating Similarity"
   ]
  },
  {
   "cell_type": "code",
   "execution_count": null,
   "metadata": {
    "scrolled": true
   },
   "outputs": [],
   "source": [
    "user_utility_matrix"
   ]
  },
  {
   "cell_type": "code",
   "execution_count": null,
   "metadata": {
    "scrolled": true
   },
   "outputs": [],
   "source": [
    "cossim_item = generate_similarity_matrix(user_utility_matrix.T, metric='cosine')"
   ]
  },
  {
   "cell_type": "code",
   "execution_count": null,
   "metadata": {},
   "outputs": [],
   "source": [
    "cossim_item.loc['B00188JNMY', ['B000095RC8','B00005IBXK','B0002KZUNA','B0000D8CAO','B001ECQQZG','B001M29LDM','B00DMGKSI8','B004HBGIBI']]"
   ]
  },
  {
   "cell_type": "markdown",
   "metadata": {},
   "source": [
    "## Rating Prediction"
   ]
  },
  {
   "cell_type": "code",
   "execution_count": null,
   "metadata": {},
   "outputs": [],
   "source": [
    "def predict_rating_item(reviewerID, itemID, k=3, sim_matrix=cosine_sim, train_df=reviews20_pre2014):\n",
    "    \n",
    "#     print(reviewerID)\n",
    "#     print(itemID)\n",
    "    \n",
    "    # get list of items user has rated\n",
    "    items = list(train_df[train_df['reviewerID']==reviewerID]['asin'])\n",
    "#     print(items)\n",
    "    \n",
    "    # narrow cosine_sim list to items that the user has rated + target item\n",
    "    item_similarity = sim_matrix.loc[itemID,items].sort_values(ascending=False)\n",
    "#     print(item_similarity)\n",
    "    \n",
    "    # get the top3 most similar items\n",
    "    k_most_similar_users = item_similarity[:k].index\n",
    "#     print(k_most_similar_users)\n",
    "    \n",
    "    # predicted rating = rating user gave to item * similarity score + rating user gave to item 2 * similarity score / scores sum\n",
    "    predicted_rating = train_df[(train_df['asin'].isin(k_most_similar_users)) & \n",
    "                                (train_df['reviewerID']==reviewerID)]['overall'].mean()\n",
    "    \n",
    "    # order by recency?\n",
    "\n",
    "    return predicted_rating"
   ]
  },
  {
   "cell_type": "code",
   "execution_count": null,
   "metadata": {},
   "outputs": [],
   "source": [
    "predict_rating_item(reviews20_pre2014.loc[np.random.randint(0,2617), 'reviewerID'],\n",
    "                    reviews20_pre2014.loc[np.random.randint(0,6413), 'asin'],\n",
    "                    k=3, sim_matrix=cossim_item, train_df=reviews20_pre2014)"
   ]
  },
  {
   "cell_type": "code",
   "execution_count": null,
   "metadata": {},
   "outputs": [],
   "source": [
    "jaccard_sim_item = generate_similarity_matrix(user_utility_matrix.T, metric='jaccard')\n",
    "cosine_sim_item = generate_similarity_matrix(user_utility_matrix.T, metric='cosine')\n",
    "adjcosine_sim_item = generate_similarity_matrix(user_utility_matrix.T, metric='adjcosine')\n",
    "correlation_sim_item = generate_similarity_matrix(user_utility_matrix.T, metric='correlation')\n",
    "\n",
    "similarity_matrices_item = {\n",
    "    'jaccard_sim': jaccard_sim_item,\n",
    "    'cosine_sim': cosine_sim_item,\n",
    "    'adjcosine_sim': adjcosine_sim_item,\n",
    "    'correlation_sim': correlation_sim_item\n",
    "}"
   ]
  },
  {
   "cell_type": "code",
   "execution_count": null,
   "metadata": {},
   "outputs": [],
   "source": [
    "def model_evaluation_rmse_item(k=3, sim_metric='cosine_sim', train_df=reviews20_pre2014, test_df=reviews20_2014):\n",
    "    \n",
    "    sim_matrix = similarity_matrices_item[sim_metric]\n",
    "    \n",
    "    preds = test_df[['reviewerID','asin','overall']].reset_index(drop=True)\n",
    "\n",
    "    preds['predicted ratings'] = preds.apply(lambda x: predict_rating_item(x['reviewerID'],\n",
    "                                                                           x['asin'],\n",
    "                                                                           k=k,\n",
    "                                                                           sim_matrix=sim_matrix),axis=1)\n",
    "    \n",
    "    print('Using similarity matrix: ', sim_metric)\n",
    "    print('Actual Ratings: {:.5f} ± {:.5f}'.format(preds['overall'].mean(), preds['overall'].std()))\n",
    "    print('Predicted Ratings: {:.5f} ± {:.5f}'.format(preds['predicted ratings'].mean(), preds['predicted ratings'].std()))\n",
    "    print('RMSE: ', np.sqrt(mean_squared_error(preds_1['overall'],preds_1['predicted ratings'])))\n",
    "    \n",
    "    return preds\n",
    "\n",
    "jaccard_preds = model_evaluation_rmse_item(k=3, sim_metric='jaccard_sim')\n",
    "cosine_preds = model_evaluation_rmse_item(k=3, sim_metric='cosine_sim')\n",
    "adjcosine_preds= model_evaluation_rmse_item(k=3, sim_metric='adjcosine_sim')\n",
    "correlation_preds = model_evaluation_rmse_item(k=3, sim_metric='correlation_sim')"
   ]
  },
  {
   "cell_type": "markdown",
   "metadata": {},
   "source": [
    "## Model Evaluation"
   ]
  },
  {
   "cell_type": "code",
   "execution_count": null,
   "metadata": {},
   "outputs": [],
   "source": [
    "def model_evaluation_recall(user_id, k=3, similarity_metric='cosine', verbose=False):\n",
    "    \"\"\"\n",
    "    Returns the number/proportion of the model's recommended items that the user actually bought in the test set\n",
    "    Returns the proportion of the test set that was recommended by the model\n",
    "    (test & rec) / test\n",
    "    \"\"\"\n",
    "    item_intersection_count = len(user_recommendation(user_id, \n",
    "                                                      k=k, \n",
    "                                                      similarity_metric=similarity_metric, \n",
    "                                                      verbose=verbose) & \n",
    "                                  user_products_test[user_id])\n",
    "    \n",
    "    pct_recall = item_intersection_count / len(user_products_test[user_id])\n",
    "    \n",
    "    return pct_recall"
   ]
  },
  {
   "cell_type": "code",
   "execution_count": null,
   "metadata": {},
   "outputs": [],
   "source": [
    "print(len(reviews20_2014['reviewerID']))\n",
    "print(len(reviews20_2014['reviewerID'].unique()))"
   ]
  },
  {
   "cell_type": "code",
   "execution_count": null,
   "metadata": {},
   "outputs": [],
   "source": [
    "min_1_hit = 0\n",
    "hit_rates = []\n",
    "\n",
    "for user in reviews20_2014['reviewerID'].unique():\n",
    "    if model_evaluation_recall(user) > 0:\n",
    "        min_1_hit += 1\n",
    "        hit_rates.append(model_evaluation_recall(user))\n",
    "        #print(user, model_evaluation_recall(user))\n",
    "\n",
    "print('End')\n",
    "print('% of test with at least one item from recommended list: ', min_1_hit/len(reviews20_2014['reviewerID'].unique()))\n",
    "print('Avg hit rate: {} ± {}'.format(np.mean(hit_rates), np.std(hit_rates)))\n",
    "\n",
    "### This took too long to run so I stopped it. \n",
    "# Actually, just need to know \n",
    "# 1) out of all the users in the test set, how many had even 1 item in the recommended list\n",
    "# 2) what is the average \"hit rate\" "
   ]
  },
  {
   "cell_type": "markdown",
   "metadata": {},
   "source": [
    "## Output: List of recommendations"
   ]
  },
  {
   "cell_type": "code",
   "execution_count": null,
   "metadata": {},
   "outputs": [],
   "source": [
    "def user_recommendation(user_id, k=3, similarity_metric='cosine', verbose=True):\n",
    "    \"\"\"\n",
    "    Most naive implementation: returns a list of products bought by other similar users\n",
    "    \"\"\"\n",
    "    sim_mat = generate_similarity_matrix(user_utility_matrix, metric=similarity_metric)\n",
    "    \n",
    "    k_similar_users = sim_mat[user_id].sort_values(ascending=False)[1:k+1].index\n",
    "    \n",
    "    recommended_products = set()\n",
    "    for similar_user in k_similar_users:\n",
    "        recommended_products.update(user_products_train[similar_user] - user_products_train[user_id])\n",
    "    \n",
    "    if verbose == True:\n",
    "        print(\"==== User's Purchase History ====\")\n",
    "        for item in user_products_train[user_id]:\n",
    "            print(item)\n",
    "\n",
    "        print(\"\\n==== Similarity Scores ====\")\n",
    "        print(sim_mat[user_id].sort_values(ascending=False)[1:k+1])\n",
    "    \n",
    "    return recommended_products"
   ]
  },
  {
   "cell_type": "code",
   "execution_count": null,
   "metadata": {},
   "outputs": [],
   "source": [
    "user_recommendation(reviews20.loc[1333,'reviewerID'], k=2)"
   ]
  },
  {
   "cell_type": "code",
   "execution_count": null,
   "metadata": {
    "scrolled": true
   },
   "outputs": [],
   "source": [
    "user_recommendation(reviews20.loc[3,'reviewerID'], k=2)"
   ]
  },
  {
   "cell_type": "code",
   "execution_count": null,
   "metadata": {},
   "outputs": [],
   "source": []
  },
  {
   "cell_type": "code",
   "execution_count": null,
   "metadata": {},
   "outputs": [],
   "source": []
  },
  {
   "cell_type": "markdown",
   "metadata": {},
   "source": [
    "# Matrix Factorisation with SVD\n",
    "- using scipy SVD (but seems this is wrong, as it can't handle missing values in the matrices)"
   ]
  },
  {
   "cell_type": "code",
   "execution_count": null,
   "metadata": {
    "scrolled": true
   },
   "outputs": [],
   "source": [
    "user_utility_matrix"
   ]
  },
  {
   "cell_type": "code",
   "execution_count": null,
   "metadata": {},
   "outputs": [],
   "source": [
    "from sklearn.preprocessing import MinMaxScaler"
   ]
  },
  {
   "cell_type": "code",
   "execution_count": null,
   "metadata": {},
   "outputs": [],
   "source": [
    "user_utility_matrix.shape"
   ]
  },
  {
   "cell_type": "code",
   "execution_count": null,
   "metadata": {},
   "outputs": [],
   "source": [
    "def generate_svd_predictor_matrix(utility_matrix, k=150):\n",
    "\n",
    "    svd_matrix = user_utility_matrix.fillna(0).as_matrix()\n",
    "    user_ratings_mean = np.mean(svd_matrix, axis=1)\n",
    "\n",
    "    # centre the matrix (subtracting mean)\n",
    "    svd_matrix_ctrd = svd_matrix - user_ratings_mean.reshape(-1,1)\n",
    "\n",
    "#     print(svd_matrix)\n",
    "#     print(svd_matrix_ctrd)\n",
    "\n",
    "    U, sigma, Vt = svds(svd_matrix_ctrd, k=k)\n",
    "\n",
    "    sigma = np.diag(sigma)\n",
    "\n",
    "    pred_ratings = np.dot(np.dot(U, sigma), Vt) + np.mean(svd_matrix, axis=1).reshape(-1,1)\n",
    "    # print(pred_ratings)\n",
    "    \n",
    "    sc=MinMaxScaler(feature_range = (1,5))\n",
    "    pred_ratings = sc.fit_transform(pred_ratings)\n",
    "\n",
    "    pred_ratings = pd.DataFrame(pred_ratings, columns=user_utility_matrix.columns, index=user_utility_matrix.index)\n",
    "    \n",
    "    return pred_ratings"
   ]
  },
  {
   "cell_type": "code",
   "execution_count": null,
   "metadata": {},
   "outputs": [],
   "source": [
    "def evaluate_svd_rmse(k=50):\n",
    "    pred_ratings = generate_svd_predictor_matrix(user_utility_matrix, k=k)\n",
    "\n",
    "    svd_preds = reviews20_2014[['reviewerID','asin','overall']].copy()\n",
    "    svd_preds['predicted'] = svd_preds.apply(lambda row: pred_ratings.loc[row['reviewerID'],row['asin']], axis=1)\n",
    "\n",
    "    rmse = np.sqrt(mean_squared_error(svd_preds['overall'],svd_preds['predicted']))\n",
    "    \n",
    "    return rmse"
   ]
  },
  {
   "cell_type": "code",
   "execution_count": null,
   "metadata": {},
   "outputs": [],
   "source": [
    "evaluate_svd_rmse(100)"
   ]
  },
  {
   "cell_type": "code",
   "execution_count": null,
   "metadata": {},
   "outputs": [],
   "source": [
    "scores = []\n",
    "\n",
    "for k in np.linspace(100, 2000, 20):\n",
    "    rmse = evaluate_svd_rmse(int(k))\n",
    "    scores.append([k, rmse])\n",
    "\n",
    "scores = pd.DataFrame(scores, columns=['k', 'rmse score'])"
   ]
  },
  {
   "cell_type": "code",
   "execution_count": null,
   "metadata": {},
   "outputs": [],
   "source": [
    "scores.plot(kind='scatter', x='k', y='rmse score')"
   ]
  },
  {
   "cell_type": "code",
   "execution_count": null,
   "metadata": {},
   "outputs": [],
   "source": [
    "scores = []\n",
    "\n",
    "for k in np.linspace(10, 100, 10):\n",
    "    rmse = evaluate_svd_rmse(int(k))\n",
    "    scores.append([k, rmse])\n",
    "\n",
    "scores = pd.DataFrame(scores, columns=['k', 'rmse score'])\n",
    "scores.plot(kind='scatter', x='k', y='rmse score')"
   ]
  },
  {
   "cell_type": "code",
   "execution_count": null,
   "metadata": {},
   "outputs": [],
   "source": [
    "scores = []\n",
    "\n",
    "for k in np.linspace(1,10,10):\n",
    "    rmse = evaluate_svd_rmse(int(k))\n",
    "    scores.append([k, rmse])\n",
    "\n",
    "scores = pd.DataFrame(scores, columns=['k', 'rmse score'])\n",
    "scores.plot(kind='scatter', x='k', y='rmse score')"
   ]
  },
  {
   "cell_type": "code",
   "execution_count": null,
   "metadata": {},
   "outputs": [],
   "source": [
    "# best k is 7-10, but still the rmse score is so high!! am i doing something wrong?"
   ]
  },
  {
   "cell_type": "code",
   "execution_count": null,
   "metadata": {},
   "outputs": [],
   "source": [
    "# try below with best k?"
   ]
  },
  {
   "cell_type": "code",
   "execution_count": null,
   "metadata": {},
   "outputs": [],
   "source": [
    "def user_recommendations_svd(user_id, pred_matrix, n_recommended_items, verbose=True):\n",
    "    \n",
    "    sorted_items = list(pred_matrix.T[user_id].sort_values().index)\n",
    "    \n",
    "    recommended_items = []\n",
    "    \n",
    "    while len(recommended_items) < n_recommended_items:\n",
    "        item = product_lookup[sorted_items.pop()]\n",
    "        if item not in user_products_train[user_id]:\n",
    "            recommended_items.append(item)\n",
    "    \n",
    "    if verbose == True:\n",
    "        print(\"==== User's Purchase History ====\")\n",
    "        for item in user_products_train[user_id]:\n",
    "            print(item)\n",
    "\n",
    "        print(\"\\n==== User's Actual Purchase in 2014 ====\")\n",
    "        for item in user_products_test[user_id]:\n",
    "            print(item)   \n",
    "    \n",
    "    return recommended_items\n",
    "    \n",
    "    \n",
    "    # what the user bought in train\n",
    "    # bought in test\n",
    "    # recommendation"
   ]
  },
  {
   "cell_type": "code",
   "execution_count": null,
   "metadata": {},
   "outputs": [],
   "source": [
    "user_recommendations_svd(reviews20['reviewerID'].loc[np.random.randint(0,52626)], pred_ratings, 2)"
   ]
  },
  {
   "cell_type": "code",
   "execution_count": null,
   "metadata": {},
   "outputs": [],
   "source": [
    "def model_evaluation_recall(user_id, recommended_list):\n",
    "    \"\"\"\n",
    "    Returns the number/proportion of the model's recommended items that the user actually bought in the test set\n",
    "    Returns the proportion of the test set that was recommended by the model\n",
    "    (test & rec) / test\n",
    "    \"\"\"\n",
    "    item_intersection_count = len(set(recommended_list) & user_products_test[user_id])\n",
    "    \n",
    "    pct_recall = item_intersection_count / len(user_products_test[user_id])\n",
    "    \n",
    "    return pct_recall"
   ]
  },
  {
   "cell_type": "code",
   "execution_count": null,
   "metadata": {},
   "outputs": [],
   "source": [
    "model_evaluation_recall('A100WO06OQR8BQ', \n",
    "                        user_recommendations_svd('A100WO06OQR8BQ', pred_ratings, 10, verbose=False))"
   ]
  },
  {
   "cell_type": "code",
   "execution_count": null,
   "metadata": {},
   "outputs": [],
   "source": [
    "min_1_hit = 0\n",
    "hit_rates = []\n",
    "\n",
    "for user in reviews20_2014['reviewerID'].unique():\n",
    "    if model_evaluation_recall(user, user_recommendations_svd(user, pred_ratings, 10, verbose=False)) > 0:\n",
    "        min_1_hit += 1\n",
    "        hit_rates.append(model_evaluation_recall(user, user_recommendations_svd(user, pred_ratings, 10, verbose=False)))\n",
    "        #print(user, model_evaluation_recall(user))\n",
    "\n",
    "print('End')\n",
    "print('% of test with at least one item from recommended list: ', min_1_hit/len(reviews20_2014['reviewerID'].unique()))\n",
    "print('Avg hit rate: {} ± {}'.format(np.mean(hit_rates), np.std(hit_rates)))\n",
    "\n",
    "### This took too long to run so I stopped it. \n",
    "# Actually, just need to know \n",
    "# 1) out of all the users in the test set, how many had even 1 item in the recommended list\n",
    "# 2) what is the average \"hit rate\" "
   ]
  },
  {
   "cell_type": "markdown",
   "metadata": {},
   "source": [
    "### try with optimal k=8"
   ]
  },
  {
   "cell_type": "code",
   "execution_count": null,
   "metadata": {},
   "outputs": [],
   "source": [
    "pred_ratings = generate_svd_predictor_matrix(user_utility_matrix, k=8)"
   ]
  },
  {
   "cell_type": "code",
   "execution_count": null,
   "metadata": {},
   "outputs": [],
   "source": [
    "evaluate_svd_rmse(k=8)"
   ]
  },
  {
   "cell_type": "code",
   "execution_count": null,
   "metadata": {},
   "outputs": [],
   "source": [
    "min_1_hit = 0\n",
    "hit_rates = []\n",
    "\n",
    "for user in reviews20_2014['reviewerID'].unique():\n",
    "    if model_evaluation_recall(user, user_recommendations_svd(user, pred_ratings, 10, verbose=False)) > 0:\n",
    "        min_1_hit += 1\n",
    "        hit_rates.append(model_evaluation_recall(user, user_recommendations_svd(user, pred_ratings, 10, verbose=False)))\n",
    "        #print(user, model_evaluation_recall(user))\n",
    "\n",
    "print('End')\n",
    "print('% of test with at least one item from recommended list: ', min_1_hit/len(reviews20_2014['reviewerID'].unique()))\n",
    "print('Avg hit rate: {} ± {}'.format(np.mean(hit_rates), np.std(hit_rates)))"
   ]
  },
  {
   "cell_type": "code",
   "execution_count": null,
   "metadata": {},
   "outputs": [],
   "source": [
    "# # does not work :<\n",
    "\n",
    "# utility_matrix = user_utility_matrix.fillna(0).stack().to_frame()\n",
    "\n",
    "# def find_optimal_neighbours(max_k, test_df):\n",
    "    \n",
    "#     scores = []\n",
    "    \n",
    "#     for k1 in range(1, max_k+1):\n",
    "        \n",
    "#         if k1 % 100 == 0:\n",
    "#             print(k1)\n",
    "        \n",
    "# #         print('fitting model...')\n",
    "#         algo = KNNWithMeans(k=k1, sim_options={'name': 'pearson_baseline', 'user_based': True}, verbose=False)\n",
    "#         trainset = data.build_full_trainset()\n",
    "#         algo.fit(trainset)\n",
    "\n",
    "# #         print('generating predicted ratings matrix...')\n",
    "# #         predicted_ratings_matrix = utility_matrix.apply(lambda x: algo.predict(x.name[0], x.name[1]).est, axis=1).unstack()\n",
    "    \n",
    "# #         print('calculating scores...')\n",
    "#         rmse, preds = calculate_rmse(reviews20_2014)\n",
    "# #         recall = calculate_hits(predicted_ratings_matrix, test_df)\n",
    "        \n",
    "# #         scores.append([k, rmse, recall])\n",
    "#         scores.append([k1,rmse])\n",
    "    \n",
    "#     return scores\n",
    "\n",
    "#find_optimal_neighbours(20, reviews20_2014)"
   ]
  },
  {
   "cell_type": "code",
   "execution_count": null,
   "metadata": {},
   "outputs": [],
   "source": []
  }
 ],
 "metadata": {
  "kernelspec": {
   "display_name": "Python 3",
   "language": "python",
   "name": "python3"
  },
  "language_info": {
   "codemirror_mode": {
    "name": "ipython",
    "version": 3
   },
   "file_extension": ".py",
   "mimetype": "text/x-python",
   "name": "python",
   "nbconvert_exporter": "python",
   "pygments_lexer": "ipython3",
   "version": "3.6.5"
  }
 },
 "nbformat": 4,
 "nbformat_minor": 2
}
