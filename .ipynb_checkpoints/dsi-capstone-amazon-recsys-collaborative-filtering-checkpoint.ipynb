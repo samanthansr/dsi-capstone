{
 "cells": [
  {
   "cell_type": "markdown",
   "metadata": {},
   "source": [
    "# DSI 5 Capstone Project: Amazon Product Recommender System\n",
    "\n",
    "---"
   ]
  },
  {
   "cell_type": "markdown",
   "metadata": {},
   "source": [
    "<a id='model-results'></a>\n",
    "#### Model Results:\n",
    "\n",
    "| Section | Model | RMSE Score | Recall Score^ | Avg Hit Rate | Model Details\n",
    "| --- | --- | --- | --- | --- |\n",
    "| [4.1.1](#4.1.1) | User-User Collaborative Filtering | 1.11062 | 0.02554 | 0.17 ± 0.26 | from scratch |\n",
    "| [4.1.2](#4.1.2) | User-User Collaborative Filtering | 1.01662 | 0.00851 | 0.18 ± 0.12 | Surprise Library, k=3 |\n",
    "| [4.1.3](#4.1.3) | User-User Collaborative Filtering Grid Search | 1.01655 | 0.01064 | 0.19 ± 0.13 | Surprise Library, k=7 |\n",
    "| [4.1.4](#4.1.4) | Item-Item Collaborative Filtering | 1.07621 | 0.00478 | 0.23 ± 0.28 | Surprise Library, k=3 |\n",
    "| [4.1.5](#4.1.5) | Item-Item Collaborative Filtering Grid Search | 1.07593 | 0.00478 | 0.25 ± 0.28 | Surprise Library, k=7 |\n",
    "| [4.2.1.1](#4.2.1.1) | Singular Value Decomposition (SVD) | 0.94625 | 0.01436 | 0.20 ± 0.19 | Surprise Library, k=20 |\n",
    "| [4.2.1.2](#4.2.1.2) | SVD GridSearch | 0.93873 | 0.01064 | 0.16 ± 0.11 | Surprise Library, k=10 |\n",
    "| [4.2.1.3](#4.2.1.3) | SVD | 0.94057 | 0.01969 | 0.21 ± 0.22 | Surprise Library, k=40 |\n",
    "| [4.2.2.1](#4.2.2.1) | SVD++ | 0.94458 | 0.00745 | 0.19 ± 0.23 | Surprise Library, k=20 |\n",
    "| [4.2.2.2](#4.2.2.2) | SVD++ GridSearch| 0.94515 | 0.00957 | 0.21 ± 0.22 | Surprise Library, k=10 |\n",
    "\n",
    "^Recall Score = "
   ]
  },
  {
   "cell_type": "markdown",
   "metadata": {},
   "source": [
    "# 1. Loading in Datasets and Libraries"
   ]
  },
  {
   "cell_type": "code",
   "execution_count": 1,
   "metadata": {},
   "outputs": [],
   "source": [
    "import gzip\n",
    "\n",
    "import numpy as np\n",
    "import scipy.stats as stats\n",
    "import pandas as pd\n",
    "import re\n",
    "\n",
    "import matplotlib.pyplot as plt\n",
    "import seaborn as sns\n",
    "sns.set_style('white')\n",
    "\n",
    "from IPython.display import Image\n",
    "from IPython.core.display import HTML \n",
    "\n",
    "%matplotlib inline\n",
    "%config InlineBackend.figure_format = 'retina'\n",
    "\n",
    "from surprise import Reader, Dataset, KNNWithMeans, SVD, SVDpp, NMF, evaluate, accuracy, model_selection\n",
    "\n",
    "from sklearn.neighbors import NearestNeighbors\n",
    "from scipy.spatial.distance import correlation, cosine\n",
    "from scipy.sparse.linalg import svds\n",
    "\n",
    "from sklearn.metrics import pairwise_distances, mean_squared_error"
   ]
  },
  {
   "cell_type": "code",
   "execution_count": 2,
   "metadata": {},
   "outputs": [],
   "source": [
    "# loading in reviews dataset\n",
    "def parse(path):\n",
    "    g = gzip.open(path, 'rb')\n",
    "    for l in g:\n",
    "        yield eval(l)\n",
    "\n",
    "def getDF(path):\n",
    "    i = 0\n",
    "    df = {}\n",
    "    for d in parse(path):\n",
    "        df[i] = d\n",
    "        i += 1\n",
    "    return pd.DataFrame.from_dict(df, orient='index')\n",
    "\n",
    "df = getDF('./dataset/reviews_Home_and_Kitchen_5.json.gz')"
   ]
  },
  {
   "cell_type": "code",
   "execution_count": 3,
   "metadata": {},
   "outputs": [],
   "source": [
    "reviews = df.copy()"
   ]
  },
  {
   "cell_type": "code",
   "execution_count": 4,
   "metadata": {},
   "outputs": [
    {
     "data": {
      "text/html": [
       "<div>\n",
       "<style scoped>\n",
       "    .dataframe tbody tr th:only-of-type {\n",
       "        vertical-align: middle;\n",
       "    }\n",
       "\n",
       "    .dataframe tbody tr th {\n",
       "        vertical-align: top;\n",
       "    }\n",
       "\n",
       "    .dataframe thead th {\n",
       "        text-align: right;\n",
       "    }\n",
       "</style>\n",
       "<table border=\"1\" class=\"dataframe\">\n",
       "  <thead>\n",
       "    <tr style=\"text-align: right;\">\n",
       "      <th></th>\n",
       "      <th>reviewerID</th>\n",
       "      <th>asin</th>\n",
       "      <th>reviewerName</th>\n",
       "      <th>helpful</th>\n",
       "      <th>reviewText</th>\n",
       "      <th>overall</th>\n",
       "      <th>summary</th>\n",
       "      <th>unixReviewTime</th>\n",
       "      <th>reviewTime</th>\n",
       "    </tr>\n",
       "  </thead>\n",
       "  <tbody>\n",
       "    <tr>\n",
       "      <th>0</th>\n",
       "      <td>APYOBQE6M18AA</td>\n",
       "      <td>0615391206</td>\n",
       "      <td>Martin Schwartz</td>\n",
       "      <td>[0, 0]</td>\n",
       "      <td>My daughter wanted this book and the price on ...</td>\n",
       "      <td>5.0</td>\n",
       "      <td>Best Price</td>\n",
       "      <td>1382140800</td>\n",
       "      <td>10 19, 2013</td>\n",
       "    </tr>\n",
       "    <tr>\n",
       "      <th>1</th>\n",
       "      <td>A1JVQTAGHYOL7F</td>\n",
       "      <td>0615391206</td>\n",
       "      <td>Michelle Dinh</td>\n",
       "      <td>[0, 0]</td>\n",
       "      <td>I bought this zoku quick pop for my daughterr ...</td>\n",
       "      <td>5.0</td>\n",
       "      <td>zoku</td>\n",
       "      <td>1403049600</td>\n",
       "      <td>06 18, 2014</td>\n",
       "    </tr>\n",
       "  </tbody>\n",
       "</table>\n",
       "</div>"
      ],
      "text/plain": [
       "       reviewerID        asin     reviewerName helpful  \\\n",
       "0   APYOBQE6M18AA  0615391206  Martin Schwartz  [0, 0]   \n",
       "1  A1JVQTAGHYOL7F  0615391206    Michelle Dinh  [0, 0]   \n",
       "\n",
       "                                          reviewText  overall     summary  \\\n",
       "0  My daughter wanted this book and the price on ...      5.0  Best Price   \n",
       "1  I bought this zoku quick pop for my daughterr ...      5.0        zoku   \n",
       "\n",
       "   unixReviewTime   reviewTime  \n",
       "0      1382140800  10 19, 2013  \n",
       "1      1403049600  06 18, 2014  "
      ]
     },
     "execution_count": 4,
     "metadata": {},
     "output_type": "execute_result"
    }
   ],
   "source": [
    "# add product name to reviews dataset\n",
    "reviews.head(2)"
   ]
  },
  {
   "cell_type": "code",
   "execution_count": 5,
   "metadata": {},
   "outputs": [
    {
     "data": {
      "text/html": [
       "<div>\n",
       "<style scoped>\n",
       "    .dataframe tbody tr th:only-of-type {\n",
       "        vertical-align: middle;\n",
       "    }\n",
       "\n",
       "    .dataframe tbody tr th {\n",
       "        vertical-align: top;\n",
       "    }\n",
       "\n",
       "    .dataframe thead th {\n",
       "        text-align: right;\n",
       "    }\n",
       "</style>\n",
       "<table border=\"1\" class=\"dataframe\">\n",
       "  <thead>\n",
       "    <tr style=\"text-align: right;\">\n",
       "      <th></th>\n",
       "      <th>Unnamed: 0</th>\n",
       "      <th>asin</th>\n",
       "      <th>brand</th>\n",
       "      <th>categories</th>\n",
       "      <th>description</th>\n",
       "      <th>imUrl</th>\n",
       "      <th>price</th>\n",
       "      <th>related</th>\n",
       "      <th>salesRank</th>\n",
       "      <th>title</th>\n",
       "    </tr>\n",
       "  </thead>\n",
       "  <tbody>\n",
       "    <tr>\n",
       "      <th>0</th>\n",
       "      <td>415636</td>\n",
       "      <td>0615391206</td>\n",
       "      <td>Zoku</td>\n",
       "      <td>[['Home &amp; Kitchen', 'Kitchen &amp; Dining', 'Kitch...</td>\n",
       "      <td>This book will help you master the art of crea...</td>\n",
       "      <td>http://ecx.images-amazon.com/images/I/41EEhiqv...</td>\n",
       "      <td>17.29</td>\n",
       "      <td>{'also_viewed': ['B003U9ZCRO', 'B003VJWUE6', '...</td>\n",
       "      <td>{'Kitchen &amp; Dining': 3900}</td>\n",
       "      <td>Zoku Quick Pops Recipe Book</td>\n",
       "    </tr>\n",
       "    <tr>\n",
       "      <th>1</th>\n",
       "      <td>472805</td>\n",
       "      <td>0689027818</td>\n",
       "      <td>NaN</td>\n",
       "      <td>[['Home &amp; Kitchen']]</td>\n",
       "      <td>KIDS BOOK ON BUTTERFLIES</td>\n",
       "      <td>http://ecx.images-amazon.com/images/I/51B0H32D...</td>\n",
       "      <td>473.68</td>\n",
       "      <td>{'also_viewed': ['1581170912', '0399226907']}</td>\n",
       "      <td>{'Home &amp;amp; Kitchen': 1017975}</td>\n",
       "      <td>Good Night, Sweet Butterflies: A Color Dreamland</td>\n",
       "    </tr>\n",
       "  </tbody>\n",
       "</table>\n",
       "</div>"
      ],
      "text/plain": [
       "   Unnamed: 0        asin brand  \\\n",
       "0      415636  0615391206  Zoku   \n",
       "1      472805  0689027818   NaN   \n",
       "\n",
       "                                          categories  \\\n",
       "0  [['Home & Kitchen', 'Kitchen & Dining', 'Kitch...   \n",
       "1                               [['Home & Kitchen']]   \n",
       "\n",
       "                                         description  \\\n",
       "0  This book will help you master the art of crea...   \n",
       "1                           KIDS BOOK ON BUTTERFLIES   \n",
       "\n",
       "                                               imUrl   price  \\\n",
       "0  http://ecx.images-amazon.com/images/I/41EEhiqv...   17.29   \n",
       "1  http://ecx.images-amazon.com/images/I/51B0H32D...  473.68   \n",
       "\n",
       "                                             related  \\\n",
       "0  {'also_viewed': ['B003U9ZCRO', 'B003VJWUE6', '...   \n",
       "1      {'also_viewed': ['1581170912', '0399226907']}   \n",
       "\n",
       "                         salesRank  \\\n",
       "0       {'Kitchen & Dining': 3900}   \n",
       "1  {'Home &amp; Kitchen': 1017975}   \n",
       "\n",
       "                                              title  \n",
       "0                       Zoku Quick Pops Recipe Book  \n",
       "1  Good Night, Sweet Butterflies: A Color Dreamland  "
      ]
     },
     "execution_count": 5,
     "metadata": {},
     "output_type": "execute_result"
    }
   ],
   "source": [
    "# loading in metadata \n",
    "metadata = pd.read_csv('./dataset/home-kitchen-metadata.csv')\n",
    "metadata.head(2)"
   ]
  },
  {
   "cell_type": "code",
   "execution_count": 6,
   "metadata": {},
   "outputs": [],
   "source": [
    "product_lookup = {k:v for k,v in zip(metadata['asin'], metadata['title'])}"
   ]
  },
  {
   "cell_type": "code",
   "execution_count": 7,
   "metadata": {},
   "outputs": [],
   "source": [
    "category_lookup = {k:v for k,v in zip(metadata['title'], metadata['categories'])}"
   ]
  },
  {
   "cell_type": "code",
   "execution_count": 8,
   "metadata": {},
   "outputs": [],
   "source": [
    "imgurl_lookup = {k:v for k,v in zip(metadata['title'], metadata['imUrl'])}"
   ]
  },
  {
   "cell_type": "code",
   "execution_count": 9,
   "metadata": {},
   "outputs": [],
   "source": [
    "def categories_to_columns(row, cat_level):\n",
    "    try:\n",
    "        return row[cat_level]\n",
    "    except IndexError:\n",
    "        return np.nan"
   ]
  },
  {
   "cell_type": "code",
   "execution_count": 10,
   "metadata": {},
   "outputs": [],
   "source": [
    "categories = metadata.copy()\n",
    "categories = categories[['asin', 'title', 'categories']]\n",
    "categories['Category Path'] = categories['categories'].apply(lambda x: [cat.strip() for cat in re.sub('[\\[\\]\\'\\\"]', '', x).split(',')])\n",
    "\n",
    "# categories['cat_4'] = categories['Category Path'].apply(lambda x: categories_to_columns(x,4))\n",
    "for i in range(1, 5):\n",
    "    categories['cat_'+str(i)] = categories['Category Path'].apply(lambda x: categories_to_columns(x, i-1))"
   ]
  },
  {
   "cell_type": "code",
   "execution_count": 11,
   "metadata": {},
   "outputs": [],
   "source": [
    "categories.fillna('NA', inplace=True)"
   ]
  },
  {
   "cell_type": "code",
   "execution_count": 12,
   "metadata": {},
   "outputs": [],
   "source": [
    "categories['broad_cat'] = categories['cat_2']+' > '+categories['cat_3']\n",
    "categories['narrow_cat'] = categories['cat_2']+' > '+categories['cat_3']+ ' > '+categories['cat_4']"
   ]
  },
  {
   "cell_type": "code",
   "execution_count": 13,
   "metadata": {},
   "outputs": [
    {
     "data": {
      "text/html": [
       "<div>\n",
       "<style scoped>\n",
       "    .dataframe tbody tr th:only-of-type {\n",
       "        vertical-align: middle;\n",
       "    }\n",
       "\n",
       "    .dataframe tbody tr th {\n",
       "        vertical-align: top;\n",
       "    }\n",
       "\n",
       "    .dataframe thead th {\n",
       "        text-align: right;\n",
       "    }\n",
       "</style>\n",
       "<table border=\"1\" class=\"dataframe\">\n",
       "  <thead>\n",
       "    <tr style=\"text-align: right;\">\n",
       "      <th></th>\n",
       "      <th>asin</th>\n",
       "      <th>title</th>\n",
       "      <th>categories</th>\n",
       "      <th>Category Path</th>\n",
       "      <th>cat_1</th>\n",
       "      <th>cat_2</th>\n",
       "      <th>cat_3</th>\n",
       "      <th>cat_4</th>\n",
       "      <th>broad_cat</th>\n",
       "      <th>narrow_cat</th>\n",
       "    </tr>\n",
       "  </thead>\n",
       "  <tbody>\n",
       "    <tr>\n",
       "      <th>1847</th>\n",
       "      <td>B0000AE683</td>\n",
       "      <td>MCS Clear Box Frame, 16 by 20-Inch</td>\n",
       "      <td>[['Home &amp; Kitchen', 'Bedding', 'Shams, Bed Ski...</td>\n",
       "      <td>[Home &amp; Kitchen, Bedding, Shams, Bed Skirts &amp; ...</td>\n",
       "      <td>Home &amp; Kitchen</td>\n",
       "      <td>Bedding</td>\n",
       "      <td>Shams</td>\n",
       "      <td>Bed Skirts &amp; Bed Frame Draperies</td>\n",
       "      <td>Bedding &gt; Shams</td>\n",
       "      <td>Bedding &gt; Shams &gt; Bed Skirts &amp; Bed Frame Drape...</td>\n",
       "    </tr>\n",
       "    <tr>\n",
       "      <th>925</th>\n",
       "      <td>B00005KB3E</td>\n",
       "      <td>T-fal  7845100A 7-Cup Vitesse High Speed Kettle</td>\n",
       "      <td>[['Home &amp; Kitchen', 'Kitchen &amp; Dining', 'Small...</td>\n",
       "      <td>[Home &amp; Kitchen, Kitchen &amp; Dining, Small Appli...</td>\n",
       "      <td>Home &amp; Kitchen</td>\n",
       "      <td>Kitchen &amp; Dining</td>\n",
       "      <td>Small Appliances</td>\n",
       "      <td>Coffee</td>\n",
       "      <td>Kitchen &amp; Dining &gt; Small Appliances</td>\n",
       "      <td>Kitchen &amp; Dining &gt; Small Appliances &gt; Coffee</td>\n",
       "    </tr>\n",
       "  </tbody>\n",
       "</table>\n",
       "</div>"
      ],
      "text/plain": [
       "            asin                                            title  \\\n",
       "1847  B0000AE683               MCS Clear Box Frame, 16 by 20-Inch   \n",
       "925   B00005KB3E  T-fal  7845100A 7-Cup Vitesse High Speed Kettle   \n",
       "\n",
       "                                             categories  \\\n",
       "1847  [['Home & Kitchen', 'Bedding', 'Shams, Bed Ski...   \n",
       "925   [['Home & Kitchen', 'Kitchen & Dining', 'Small...   \n",
       "\n",
       "                                          Category Path           cat_1  \\\n",
       "1847  [Home & Kitchen, Bedding, Shams, Bed Skirts & ...  Home & Kitchen   \n",
       "925   [Home & Kitchen, Kitchen & Dining, Small Appli...  Home & Kitchen   \n",
       "\n",
       "                 cat_2             cat_3                             cat_4  \\\n",
       "1847           Bedding             Shams  Bed Skirts & Bed Frame Draperies   \n",
       "925   Kitchen & Dining  Small Appliances                            Coffee   \n",
       "\n",
       "                                broad_cat  \\\n",
       "1847                      Bedding > Shams   \n",
       "925   Kitchen & Dining > Small Appliances   \n",
       "\n",
       "                                             narrow_cat  \n",
       "1847  Bedding > Shams > Bed Skirts & Bed Frame Drape...  \n",
       "925        Kitchen & Dining > Small Appliances > Coffee  "
      ]
     },
     "execution_count": 13,
     "metadata": {},
     "output_type": "execute_result"
    }
   ],
   "source": [
    "categories.sample(2)"
   ]
  },
  {
   "cell_type": "code",
   "execution_count": 14,
   "metadata": {
    "scrolled": true
   },
   "outputs": [
    {
     "data": {
      "text/plain": [
       "{'Zoku Quick Pops Recipe Book': 'Kitchen & Dining > Kitchen Utensils & Gadgets > Specialty Tools & Gadgets',\n",
       " 'Good Night, Sweet Butterflies: A Color Dreamland': 'NA > NA > NA',\n",
       " 'Wilton Decorating Cakes Book': 'Kitchen & Dining > Bakeware > Baking & Cookie Sheets',\n",
       " 'Vandor 52423 Star Wars Large Recycled Shopper Tote, Multicolored': 'Kitchen & Dining > Storage & Organization > Reusable Grocery Bags',\n",
       " 'Franklin SPELLING CORRECTOR': 'Kitchen & Dining > Kitchen Utensils & Gadgets > Tool & Gadget Sets',\n",
       " 'Mighty Bright Fold-n-Stow Book Holder': 'Kitchen & Dining > Kitchen Utensils & Gadgets > Kitchen Accessories',\n",
       " 'Best Choice 2013 Design Fist Cup Brass Knuckle Duster Handle Coffee Milk Ceramic Fist Mug Cup Cool Gift': 'Kitchen & Dining > Dining & Entertaining > Cups',\n",
       " 'World Pride Mickey Mouse Face Shape Cookie Cutter': 'Kitchen & Dining > Bakeware > Baking Tools & Accessories',\n",
       " 'Tupperware Fresh &amp; Pure Ice Tray Purple Set of 2': 'Kitchen & Dining > Kitchen Utensils & Gadgets > Specialty Tools & Gadgets',\n",
       " 'Tupperware Orange Citrus Peeler Set of 6': 'Kitchen & Dining > Kitchen Utensils & Gadgets > Graters',\n",
       " 'Tupperware Smidgets in Pink and Red Set of 5': 'Kitchen & Dining > Storage & Organization > Food Savers',\n",
       " 'Tupperware Large Pick a Deli Container': 'Kitchen & Dining > Storage & Organization > Food Savers',\n",
       " 'IKEA BONUS 16-Piece Flatware Set, Stainless Steel': 'Kitchen & Dining > Dining & Entertaining > Flatware',\n",
       " 'IKEA - KALAS Tumbler, Assorted Colors (2 Sets)': 'Kitchen & Dining > Dining & Entertaining > Glassware & Drinkware',\n",
       " 'Curious George Tin Keepsake Box with Latch by Schylling': 'Kitchen & Dining > Storage & Organization > Lunch Boxes & Bags',\n",
       " 'Cuisinart DLC-1 Mini-Prep Food Processor, White': 'Kitchen & Dining > Small Appliances > Food Processors',\n",
       " 'Cuisinart DGB-300BK Automatic Grind &amp; Brew 10-Cup Coffeemaker, Black': 'Kitchen & Dining > Coffee > Tea & Espresso',\n",
       " 'Cuisinart SPB-7 SmartPower 40-Ounce 7-Speed Electronic Bar Blender, White': 'Kitchen & Dining > Small Appliances > Blenders',\n",
       " 'Cuisinart ICE-20 Automatic 1-1/2-Quart Ice Cream Maker, White': 'Kitchen & Dining > Small Appliances > Ice Cream Machines',\n",
       " 'Woodstock W1015 4-Inch Y-Fitting': 'Vacuums & Floor Care > Vacuum Accessories > Attachments & Brushes',\n",
       " 'Incra PROTRAC06 6-Inch Precision Marking Protractor': 'Kitchen & Dining > Kitchen Utensils & Gadgets > Measuring Tools & Scales',\n",
       " 'Intermatic TN311C 120 Volt Heavy Duty Grounded Timer': 'Kitchen & Dining > Kitchen Utensils & Gadgets > Thermometers & Timers',\n",
       " 'Lasko 3300 Wind Machine': 'Heating > Cooling & Air Quality > Household Fans',\n",
       " 'Hoover F4300 Floormax Supreme': 'Vacuums & Floor Care > Floor Polishers > NA',\n",
       " 'Mirro 9605000A Canning Accessories Food Press with Wooden Pestle, Silver': 'Kitchen & Dining > Kitchen Utensils & Gadgets > Colanders & Food Strainers',\n",
       " 'Lasko #2155A Electrically Reversible Window Fan, 16 Inches': 'Heating > Cooling & Air Quality > Household Fans',\n",
       " 'Genuine Eureka RD Style Belts': 'Vacuums & Floor Care > Vacuum Accessories > Belts',\n",
       " 'Mirro 92180A Polished Aluminum Dishwasher Safe PFOA Free Pressure Cooker Cookware': 'Kitchen & Dining > Cookware > Pressure Cookers',\n",
       " 'Hoover 4010001A Type A Vacuum Bags, 3 Bags': 'Vacuums & Floor Care > Vacuum Accessories > Bags',\n",
       " 'Presto 01241 4-Quart Aluminum Pressure Cooker': 'Kitchen & Dining > Cookware > Pressure Cookers',\n",
       " 'Presto 01341  4-Quart Stainless Steel Pressure Cooker': 'Kitchen & Dining > Cookware > Pressure Cookers',\n",
       " 'Eureka Boss Upright Vacuum, 1934B': 'Vacuums & Floor Care > Vacuums > Upright Vacuums',\n",
       " 'Rubbermaid 1172 ActionPacker Storage Box, 24 Gallon': 'Storage & Organization > Trash & Recycling > Trash Cans',\n",
       " 'Eureka 3670G Mighty Mite Canister Vacuum': 'Vacuums & Floor Care > Vacuums > Canister Vacuums',\n",
       " 'Hoover F5411 Steamvac Jr.': 'Vacuums & Floor Care > Carpet Cleaners > NA',\n",
       " 'Lasko Metal Products 3012 12-Inch Wall Fan': 'Heating > Cooling & Air Quality > Household Fans',\n",
       " 'Eureka Quick Up 2-in-1 Cordless w/Bonus Battery Pack, 96JZ': 'Vacuums & Floor Care > Vacuums > Stick Vacuums & Electric Brooms',\n",
       " 'Intermatic FD60MWC 60-Minute Spring Loaded Wall Timer, White': 'Kitchen & Dining > Kitchen Utensils & Gadgets > Thermometers & Timers',\n",
       " 'ClosetMaid Over-The-Door Utility Hook, White #1220': 'Storage & Organization > Home Storage Hooks > Utility Hooks',\n",
       " 'Akro-Mils 8212 Six Pack of 30210 Plastic Storage Stacking AkroBins for Craft and Hardware, Red': 'Storage & Organization > Baskets & Bins > Open Storage Bins',\n",
       " 'Hoover Type Z Allergen Bag (3-Pack), 4010100Z': 'Vacuums & Floor Care > Vacuum Accessories > Bags',\n",
       " 'Hoover 40201160 Windtunnel Agitator Belts, Hoover 38528033 2-Pack': 'Vacuums & Floor Care > Vacuum Accessories > Belts',\n",
       " 'Lasko 3733 20&quot; Fan Box': 'Heating > Cooling & Air Quality > Household Fans',\n",
       " 'White Mountain F69206-X 6-Quart Electric Ice Cream Freezer': 'Kitchen & Dining > Small Appliances > Ice Cream Machines',\n",
       " 'OXO Good Grips Grater': 'Kitchen & Dining > Kitchen Utensils & Gadgets > Graters',\n",
       " 'OXO Good Grips Meat Tenderizer': 'Kitchen & Dining > Kitchen Utensils & Gadgets > Meat & Poultry Tools',\n",
       " 'OXO Good Grips Corer': 'Kitchen & Dining > Kitchen Utensils & Gadgets > Fruit & Vegetable Tools',\n",
       " 'OXO Good Grips Cheese Plane': 'Kitchen & Dining > Kitchen Utensils & Gadgets > Cooking Utensils',\n",
       " 'OXO Good Grips Trigger Ice Cream Scoop': 'Kitchen & Dining > Kitchen Utensils & Gadgets > Cooking Utensils',\n",
       " 'OXO Good Grips 4-Inch Pizza Wheel': 'Kitchen & Dining > Kitchen Utensils & Gadgets > Pasta & Pizza Tools',\n",
       " 'OXO Good Grips Lemon Zester': 'Kitchen & Dining > Kitchen Utensils & Gadgets > Fruit & Vegetable Tools',\n",
       " 'OXO Good Grips Lever Ice Cream Scoop': 'Kitchen & Dining > Kitchen Utensils & Gadgets > Cooking Utensils',\n",
       " 'OXO Good Grips Measuring Cup Set, White': 'Kitchen & Dining > Kitchen Utensils & Gadgets > Measuring Tools & Scales',\n",
       " 'OXO Good Grips Spreader': 'Kitchen & Dining > Kitchen Utensils & Gadgets > Cheese Tools',\n",
       " 'OXO Good Grips 2-Piece Peeler/Parer Set': 'Kitchen & Dining > Kitchen Utensils & Gadgets > Graters',\n",
       " 'OXO Good Grips Potato Ricer': 'Kitchen & Dining > Kitchen Utensils & Gadgets > Fruit & Vegetable Tools',\n",
       " 'OXO Good Grips Ice Cream Scoop - Point': 'Kitchen & Dining > Kitchen Utensils & Gadgets > Specialty Tools & Gadgets',\n",
       " 'OXO Good Grips Swivel Peeler': 'Kitchen & Dining > Kitchen Utensils & Gadgets > Graters',\n",
       " 'OXO Good Grips 8 Inch Bread Knife': 'Kitchen & Dining > Kitchen Knives & Cutlery Accessories > Bread & Serrated Knives',\n",
       " 'OXO Good Grips 9-Inch Stainless Steel Locking Tongs': 'Kitchen & Dining > Kitchen Utensils & Gadgets > Cooking Utensils',\n",
       " 'OXO Good Grips Y Peeler': 'Kitchen & Dining > Kitchen Utensils & Gadgets > Graters',\n",
       " 'OXO Good Grips 8-Inch Chef Knife': 'Kitchen & Dining > Kitchen Knives & Cutlery Accessories > Chefs Knives',\n",
       " 'OXO Good Grips Soft Handled Can Opener': 'Kitchen & Dining > Kitchen Utensils & Gadgets > Can Openers',\n",
       " 'OXO Good Grips Bottle Opener': 'Kitchen & Dining > Kitchen Utensils & Gadgets > Bar & Wine Tools',\n",
       " 'OXO Good Grips Dish Brush': 'Kitchen & Dining > Kitchen Utensils & Gadgets > Cooking Utensils',\n",
       " 'OXO Good Grips Smooth Potato Masher': 'Kitchen & Dining > Kitchen Utensils & Gadgets > Fruit & Vegetable Tools',\n",
       " 'OXO Good Grips  Salad Spinner': 'Kitchen & Dining > Kitchen Utensils & Gadgets > Salad Tools & Spinners',\n",
       " 'OXO Good Grips Wire Cheese Slicer': 'Kitchen & Dining > Bakeware > Baking Tools & Accessories',\n",
       " 'OXO Good Grips Wire Potato Masher': 'Kitchen & Dining > Kitchen Utensils & Gadgets > Fruit & Vegetable Tools',\n",
       " 'OXO Good Grips Seafood Picks, Set of 4': 'Kitchen & Dining > Kitchen Utensils & Gadgets > Specialty Tools & Gadgets',\n",
       " 'OXO Good Grips Locking Can Opener': 'Kitchen & Dining > Kitchen Utensils & Gadgets > Cooking Utensils',\n",
       " 'OXO Good Grips Aluminum Lemon Reamer': 'Kitchen & Dining > Kitchen Utensils & Gadgets > Fruit & Vegetable Tools',\n",
       " 'OXO Good Grips  Ice Cube Tray': 'Kitchen & Dining > Kitchen Utensils & Gadgets > Specialty Tools & Gadgets',\n",
       " 'OXO Good Grips Apple Corer and Divider': 'Kitchen & Dining > Kitchen Utensils & Gadgets > Fruit & Vegetable Tools',\n",
       " 'OXO SteeL Serving Spoon, 4-Inch': 'Kitchen & Dining > Kitchen Utensils & Gadgets > Cooking Utensils',\n",
       " 'OXO Good Grips Natural Bristle Veggie Brush': 'Kitchen & Dining > Kitchen Utensils & Gadgets > Graters',\n",
       " 'Oxo Good Grips 5-Piece Seafood Cracker Set': 'Kitchen & Dining > Kitchen Utensils & Gadgets > Specialty Tools & Gadgets',\n",
       " 'OXO SteeL Turner/Spatula': 'Kitchen & Dining > Kitchen Utensils & Gadgets > Cooking Utensils',\n",
       " 'OXO SteeL Spaghetti Server': 'Kitchen & Dining > Kitchen Utensils & Gadgets > Cooking Utensils',\n",
       " 'OXO Good Grips Melon Baller': 'Kitchen & Dining > Kitchen Utensils & Gadgets > Cooking Utensils',\n",
       " 'OXO Good Grips Toilet Brush and Canister, White': 'Bath > Bathroom Accessories > Toilet Accessories',\n",
       " 'OXO Good Grips 1.5-Quart Mixing Bowl': 'Kitchen & Dining > Bakeware > Mixing Bowls',\n",
       " 'Oxo SteeL Cheese Plane': 'Kitchen & Dining > Kitchen Utensils & Gadgets > Graters',\n",
       " 'OXO Good Grips 3-Quart Mixing Bowl, White/Black': 'Kitchen & Dining > Bakeware > Mixing Bowls',\n",
       " 'OXO Good Grips 6-Inch Double Rod Strainer': 'Kitchen & Dining > Kitchen Utensils & Gadgets > Colanders & Food Strainers',\n",
       " 'OXO SteeL Ladle': 'Kitchen & Dining > Kitchen Utensils & Gadgets > Cooking Utensils',\n",
       " 'OXO SteeL Can Opener': 'Kitchen & Dining > Kitchen Utensils & Gadgets > Cooking Utensils',\n",
       " 'OXO Good Grips Flat Whisk': 'Kitchen & Dining > Kitchen Utensils & Gadgets > Cooking Utensils',\n",
       " 'OXO SteeL Swivel Peeler': 'Kitchen & Dining > Kitchen Utensils & Gadgets > Graters',\n",
       " 'OXO Good Grips Flour Sifter': 'Kitchen & Dining > Bakeware > Baking Tools & Accessories',\n",
       " 'OXO Good Grips Jar Opener': 'Kitchen & Dining > Kitchen Utensils & Gadgets > Can Openers',\n",
       " 'OXO Good Grips Flexible Vegetable Brush': 'Kitchen & Dining > Kitchen Utensils & Gadgets > Fruit & Vegetable Tools',\n",
       " 'OXO Good Grips 6-Piece Measuring Spoon Set, Black, Updated Design': 'Kitchen & Dining > Kitchen Utensils & Gadgets > Measuring Tools & Scales',\n",
       " 'OXO Good Grips Uplift Teakettle, Polished Stainless': 'Kitchen & Dining > Cookware > Teakettles',\n",
       " 'Oxo Good Grips Nylon Fork': 'Kitchen & Dining > Kitchen Knives & Cutlery Accessories > Carving Knives & Forks',\n",
       " 'OXO SteeL Ice Cream Scoop': 'Kitchen & Dining > Kitchen Utensils & Gadgets > Specialty Tools & Gadgets',\n",
       " 'OXO SteeL Slotted Serving Spoon': 'Kitchen & Dining > Kitchen Utensils & Gadgets > Cooking Utensils',\n",
       " 'OXO Good Grips Dough Blender': 'Kitchen & Dining > Bakeware > Baking Tools & Accessories',\n",
       " 'OXO Good Grips Multi Grater': 'Kitchen & Dining > Kitchen Utensils & Gadgets > Graters',\n",
       " 'OXO Good Grips 9-Inch Whisk': 'Kitchen & Dining > Kitchen Utensils & Gadgets > Cooking Utensils',\n",
       " 'OXO Good Grips Stainless Steel Pie Server': 'Kitchen & Dining > Dining & Entertaining > Flatware',\n",
       " 'Oxo Good Grips Measuring Cup Set, Stainless Steel, 4-Pc': 'Kitchen & Dining > Kitchen Utensils & Gadgets > Measuring Tools & Scales',\n",
       " 'Oxo Good Grips Nylon Ladle': 'Kitchen & Dining > Kitchen Utensils & Gadgets > Cooking Utensils',\n",
       " 'OXO Good Grips Nylon Balloon Whisk': 'Kitchen & Dining > Kitchen Utensils & Gadgets > Cooking Utensils',\n",
       " 'OXO Good Grips Flexible Spatula': 'Kitchen & Dining > Kitchen Utensils & Gadgets > Cooking Utensils',\n",
       " 'OXO Good Grips 11-Inch Balloon Whisk': 'Kitchen & Dining > Kitchen Utensils & Gadgets > Cooking Utensils',\n",
       " 'OXO Good Grips Stainless Steel Skimmer': 'Kitchen & Dining > Kitchen Utensils & Gadgets > Cooking Utensils',\n",
       " 'OXO Good Grips Winged Corkscrew, Black': 'Kitchen & Dining > Kitchen Utensils & Gadgets > Bar & Wine Tools',\n",
       " 'OXO SteeL Large Skewer Fork': 'Kitchen & Dining > Kitchen Knives & Cutlery Accessories > Carving Knives & Forks',\n",
       " 'OXO SteeL Lasagna Turner': 'Kitchen & Dining > Kitchen Utensils & Gadgets > Cooking Utensils',\n",
       " 'OXO Good Grips Bent Icing Knife': 'Kitchen & Dining > Bakeware > Decorating Tools',\n",
       " 'Oxo SteeL 8-Inch Strainer': 'Kitchen & Dining > Kitchen Utensils & Gadgets > Colanders & Food Strainers',\n",
       " 'Oxo Good Grips Measuring Spoons, Stainless Steel, 4-Pc': 'Kitchen & Dining > Kitchen Utensils & Gadgets > Measuring Tools & Scales',\n",
       " 'OXO Good Grips 3-1/2-Inch Paring Knife': 'Kitchen & Dining > Kitchen Utensils & Gadgets > Cooking Utensils',\n",
       " 'OXO Good Grips Oyster Knife': 'Kitchen & Dining > Kitchen Utensils & Gadgets > Specialty Tools & Gadgets',\n",
       " 'OXO SteeL 6-Inch Strainer': 'Kitchen & Dining > Kitchen Utensils & Gadgets > Cooking Utensils',\n",
       " 'OXO Good Grips Soap Dispensing Palm Brush': 'Kitchen & Dining > Kitchen Utensils & Gadgets > Cooking Utensils',\n",
       " 'OXO Good Grips Nylon Potato Masher': 'Kitchen & Dining > Kitchen Utensils & Gadgets > Fruit & Vegetable Tools',\n",
       " 'OXO Good Grips Medium Silicone Spatula, Tomato': 'Kitchen & Dining > Kitchen Utensils & Gadgets > Cooking Utensils',\n",
       " 'OXO Good Grips Shrimp Cleaner': 'Kitchen & Dining > Kitchen Utensils & Gadgets > Specialty Tools & Gadgets',\n",
       " 'Oxo Good Grips Nylon Asian Turner': 'Kitchen & Dining > Kitchen Utensils & Gadgets > Cooking Utensils',\n",
       " 'OXO Good Grips Stainless Steel Ladle': 'Kitchen & Dining > Kitchen Utensils & Gadgets > Cooking Utensils',\n",
       " 'OXO Good Grips Bag Clips, Set-of-4, Multicolored': 'Kitchen & Dining > Storage & Organization > NA',\n",
       " 'OXO SteeL Soup Skimmer': 'Kitchen & Dining > Kitchen Utensils & Gadgets > Cooking Utensils',\n",
       " 'OXO Good Grips Stainless Steel Turner': 'Kitchen & Dining > Kitchen Utensils & Gadgets > Cooking Utensils',\n",
       " 'OXO Good Grips 6-Piece Measuring Cup Set, Updated Design': 'Kitchen & Dining > Kitchen Utensils & Gadgets > Measuring Tools & Scales',\n",
       " 'OXO Good Grips 6-Piece Measuring Spoon Set, White': 'Kitchen & Dining > Kitchen Utensils & Gadgets > Measuring Tools & Scales',\n",
       " 'OXO Good Grips Stainless Steel Serving Spatula': 'Kitchen & Dining > Kitchen Utensils & Gadgets > Cooking Utensils',\n",
       " 'Oxo Good Grips Nylon Square Turner': 'Kitchen & Dining > Kitchen Utensils & Gadgets > Cooking Utensils',\n",
       " 'OXO SteeL Potato Masher': 'Kitchen & Dining > Kitchen Utensils & Gadgets > Fruit & Vegetable Tools',\n",
       " 'OXO Good Grips Multi-Purpose Pastry Scraper/Chopper': 'Kitchen & Dining > Bakeware > Baking Tools & Accessories',\n",
       " 'OXO Good Grips Stainless Steel Spoon': 'Kitchen & Dining > Kitchen Utensils & Gadgets > Cooking Utensils',\n",
       " 'OXO Good Grips Stainless Steel Serving Spoon': 'Kitchen & Dining > Kitchen Utensils & Gadgets > Cooking Utensils',\n",
       " 'OXO SteeL Pie Server': 'Kitchen & Dining > Dining & Entertaining > Flatware',\n",
       " 'OXO Good Grips Stainless Steel Slotted Spoon': 'Kitchen & Dining > Kitchen Utensils & Gadgets > Cooking Utensils',\n",
       " 'Oxo Good Grips Paring and Mini Chef Knife Set': 'Kitchen & Dining > Kitchen Knives & Cutlery Accessories > Cutlery Sets',\n",
       " 'BonJour Caffe Froth Turbo, White': 'Kitchen & Dining > Small Appliance Parts & Accessories > Coffee & Espresso Machine Parts & Accessories',\n",
       " 'Kuhn Rikon Stainless-Steel Pressure Cooker': 'Kitchen & Dining > Cookware > Pressure Cookers',\n",
       " 'Best Manufacturers Standard French Whip 10-inch': 'Kitchen & Dining > Kitchen Utensils & Gadgets > Cooking Utensils',\n",
       " 'BonJour French Press Monet, Polished Stainless Steel, 8-Cup': 'Kitchen & Dining > Coffee > Tea & Espresso',\n",
       " 'Chicago Metallic Gourmetware 2-Piece Toaster Oven/Broiler Pan': 'Kitchen & Dining > Bakeware > Bakeware Sets',\n",
       " 'Best Manufacturers Flat Roux/Gravy Whip 12-inch': 'Kitchen & Dining > Kitchen Utensils & Gadgets > Cooking Utensils',\n",
       " 'Chicago Metallic Baked Taco Rack': 'Kitchen & Dining > Bakeware > NA',\n",
       " 'Chicago Metallic Commercial Perforated Pie Pans, Set 2': 'Kitchen & Dining > Bakeware > Pie',\n",
       " 'Chicago Metallic Non-Stick 12- Cup Mini Popover Pan': 'Kitchen & Dining > Bakeware > Popover Pans',\n",
       " 'Best Manufacturers 12-Inch Balloon Whip with Metal Handle': 'Kitchen & Dining > Kitchen Utensils & Gadgets > Cooking Utensils',\n",
       " 'Best Manufacturers Light Design French Whip 8-inch': 'Kitchen & Dining > Kitchen Utensils & Gadgets > Cooking Utensils',\n",
       " 'Chicago Metallic Professional Nonstick 1-Pound Loaf Pan': 'Kitchen & Dining > Bakeware > Bread & Loaf Pans',\n",
       " 'Kuhn Rikon Auto Deluxe Safety Lid Lifter, Red': 'Kitchen & Dining > Kitchen Utensils & Gadgets > Can Openers',\n",
       " 'Chicago Metallic Commercial 14-by-16-Inch Cookie Sheet': 'Kitchen & Dining > Bakeware > Baking & Cookie Sheets',\n",
       " 'Chicago Metallic Professional Nonstick 6-Cup Giant Muffin Pan': 'Kitchen & Dining > Bakeware > Muffin & Cupcake Pans',\n",
       " 'Chicago Metallic Non-Stick Checkerboard Cake Pan Set': 'Kitchen & Dining > Bakeware > Cake Pans',\n",
       " \"Chicago Metallic Gourmetware Nonstick Make N' Take Pan with Lid.\": 'Kitchen & Dining > Bakeware > Cake Pans',\n",
       " 'Chicago Metallic Professional Nonstick 9-Inch Round Cake Pan': 'Kitchen & Dining > Bakeware > Cake Pans',\n",
       " 'Frieling 8-inch Round Brotform': 'Kitchen & Dining > Bakeware > Bread & Loaf Pans',\n",
       " 'Chicago Metallic Commercial 1-1/2-Pound Loaf Pan': 'Kitchen & Dining > Bakeware > Bread & Loaf Pans',\n",
       " 'Melitta MEMB1B Mill &amp; Brew 10-Cup Coffeemaker, Black': 'Kitchen & Dining > Coffee > Tea & Espresso',\n",
       " 'Toastmaster 6506 Egg Head Egg Cooker': 'Kitchen & Dining > Small Appliances > Specialty Appliances',\n",
       " 'Chicago Metallic Non-Stick Large Tortilla Shell Pans, Set of 2': 'Kitchen & Dining > Bakeware > Small Pastry Molds',\n",
       " 'BonJour Caffe Froth Monet Milk Frother, Black': 'Kitchen & Dining > Small Appliance Parts & Accessories > Coffee & Espresso Machine Parts & Accessories',\n",
       " 'Salton EG1 Great Eggs Egg Poacher/Boiler': 'Kitchen & Dining > Small Appliances > Specialty Appliances',\n",
       " 'Emsa Perfect Beaker with Seal': 'Kitchen & Dining > Kitchen Utensils & Gadgets > Measuring Tools & Scales',\n",
       " 'Kuhn Rikon Safety Lid Lifter Can Opener': 'Kitchen & Dining > Kitchen Utensils & Gadgets > Can Openers',\n",
       " 'George Foreman GR30CB XXL Grill': 'Kitchen & Dining > Small Appliances > Contact Grills',\n",
       " 'Breadman TR2200C Ultimate Bread Machine': 'Kitchen & Dining > Small Appliances > Bread Machines',\n",
       " 'Chicago Metallic Commercial 18-Inch-by-13-Inch Jelly Roll Pan': 'Kitchen & Dining > Bakeware > Jelly-Roll Pans',\n",
       " 'Chicago Metallic Commercial Large Chrome Cooling Grid 15-1/2 by 12-1/2-Inch': 'Kitchen & Dining > Bakeware > Baking Tools & Accessories',\n",
       " 'Chicago Metallic 69609 Professional Nonstick Perforated Baguette Pan': 'Kitchen & Dining > Bakeware > Bread & Loaf Pans',\n",
       " 'Farberware FSC600 6-Quart Oval Slow Cooker': 'Kitchen & Dining > Small Appliances > Slow Cookers',\n",
       " 'Chicago Metallic Commercial 9-Inch Round Cake Pan': 'Kitchen & Dining > Bakeware > Cake Pans',\n",
       " 'George Foreman GR10AWHT Champ Grill': 'Kitchen & Dining > Small Appliances > Contact Grills',\n",
       " 'George Foreman GR20WHT XL Grill': 'Kitchen & Dining > Small Appliances > Contact Grills',\n",
       " 'Chicago Metallic 69610 Professional Nonstick Perforated French Bread Pan': 'Kitchen & Dining > Bakeware > Bread & Loaf Pans',\n",
       " 'Salton KM44WHT 2-Liter Iced Tea Maker, White': 'Kitchen & Dining > Small Appliances > Coffee',\n",
       " 'The Juiceman Electronic Professional Series 410 Elite Edition': 'Kitchen & Dining > Small Appliances > Juicers',\n",
       " 'Best Manufacturers Balloon Whip 12-inch Red Wood Handle': 'Kitchen & Dining > Kitchen Utensils & Gadgets > Cooking Utensils',\n",
       " 'Farberware FCP280 8-Cup Percolator': 'Kitchen & Dining > Small Appliances > Coffee',\n",
       " 'Farberware FCP512S 12-Cup Cordless Percolator': 'Kitchen & Dining > Small Appliances > Coffee',\n",
       " 'Victor M383 Fly Magnet Bait 3-Pk': 'Kitchen & Dining > Kitchen Utensils & Gadgets > Kitchen Accessories',\n",
       " 'Kenwood KM410 Chef Classic 5-Quart Stand Mixer': 'Kitchen & Dining > Small Appliances > Mixers',\n",
       " 'Joyce Chen Pro Chef 14-Inch Unseasoned Carbon Steel Wok': 'Kitchen & Dining > Cookware > Woks & Stir-Fry Pans',\n",
       " 'Joyce Chen 31-0063, Chrome Steel Wire Wok Ring': 'Kitchen & Dining > Cookware > Cookware Accessories',\n",
       " 'Kaiser Bakeware La Forme 16-by-14-Inch Cookie Sheet': 'Kitchen & Dining > Bakeware > Baking & Cookie Sheets',\n",
       " 'Pyrex Digital Probe Oven Thermometer/ Timer': 'Kitchen & Dining > Kitchen Utensils & Gadgets > Thermometers & Timers',\n",
       " 'Kaiser Bakeware Basic Tinplate 10-by 2-Inch Round Springform Pan': 'Kitchen & Dining > Bakeware > Cake Pans',\n",
       " 'Pyrex Programmable Timer': 'Kitchen & Dining > Kitchen Utensils & Gadgets > Thermometers & Timers',\n",
       " 'Kaiser Bakeware Noblesse 9-Inch Non-stick Springform Pan': 'Kitchen & Dining > Bakeware > Cake Pans',\n",
       " 'Amco 6-Quart Stainless-Steel Colander': 'Kitchen & Dining > Kitchen Utensils & Gadgets > Colanders & Food Strainers',\n",
       " 'Oneida Cocktail Shaker': 'Kitchen & Dining > Kitchen Utensils & Gadgets > Bar & Wine Tools',\n",
       " 'Oneida Stainless-Steel Tongs': 'Kitchen & Dining > Kitchen Utensils & Gadgets > Cooking Utensils',\n",
       " 'Kaiser Bakeware Noblesse 7-Inch Non-stick Springform Pan': 'Kitchen & Dining > Bakeware > Cake Pans',\n",
       " 'Pyrex 6-Piece Measuring Cup Set': 'Kitchen & Dining > Kitchen Utensils & Gadgets > Measuring Tools & Scales',\n",
       " 'Kaiser Bakeware Noblesse Non-stick Mini Springform Pans, Set of 4': 'Kitchen & Dining > Bakeware > Cake Pans',\n",
       " 'Amco 5-Cup Sifter': 'Kitchen & Dining > Bakeware > Baking Tools & Accessories',\n",
       " 'Joyce Chen 20-1140, Pro-Chef 14-Inch Round Bottom Wok with Wood Handles': 'Kitchen & Dining > Cookware > Woks & Stir-Fry Pans',\n",
       " 'Kaiser Bakeware La Forme 9-Inch Nonstick Springform Pan': 'Kitchen & Dining > Bakeware > Cake Pans',\n",
       " 'Kaiser Bakeware ExtraordinAire 16-by-14-Inch Nonstick Cookie Sheet': 'Kitchen & Dining > Bakeware > Baking & Cookie Sheets',\n",
       " 'West Bend 33600 100-Cup Commercial Coffee Urn': 'Kitchen & Dining > Dining & Entertaining > Serveware',\n",
       " 'West Bend 82306 Stir Crazy 6-Quart Electric Popcorn Popper': 'Kitchen & Dining > Small Appliances > Specialty Appliances',\n",
       " 'Chantal Stainless Steel Classic Teakettle, 1.8 Quart': 'Kitchen & Dining > Cookware > Teakettles',\n",
       " 'Hamilton Beach 76600 Smooth Edge Can Opener': 'Kitchen & Dining > Kitchen Utensils & Gadgets > Can Openers',\n",
       " 'Progressive International Clearly Fresh Bread Keeper': 'Kitchen & Dining > Storage & Organization > Bread Boxes',\n",
       " 'Progressive International Set of 3 Mini Ladles': 'Kitchen & Dining > Kitchen Utensils & Gadgets > Cooking Utensils',\n",
       " 'Progressive International GT-7436 Jumbo Tower Grater, 11-Inch': 'Kitchen & Dining > Kitchen Utensils & Gadgets > Graters',\n",
       " 'Chantal Enamel On Steel Classic Teakettle, Indigo Blue': 'Kitchen & Dining > Cookware > Teakettles',\n",
       " 'Norpro KRONA Stainless Steel 8.5 Inch Deep Colander': 'Kitchen & Dining > Kitchen Utensils & Gadgets > Colanders & Food Strainers',\n",
       " 'Progressive International Multi Slicer': 'Kitchen & Dining > Kitchen Utensils & Gadgets > Graters',\n",
       " 'Norpro Expanding Over the Sink Colander with Base Frame': 'Kitchen & Dining > Kitchen Utensils & Gadgets > Colanders & Food Strainers',\n",
       " 'Norpro Stainless Steel 5 Piece Measuring Cup Set': 'Kitchen & Dining > Kitchen Utensils & Gadgets > Measuring Tools & Scales',\n",
       " 'Progressive 5-Piece Canning Kit': 'Kitchen & Dining > Cookware > Canning',\n",
       " 'Prepworks from Progressive International GAPC-240 Apple Peeler and Corer': 'Kitchen & Dining > Kitchen Utensils & Gadgets > Graters',\n",
       " 'Zak Designs E-Z-Rol Garlic Peeler, Blue': 'Kitchen & Dining > Kitchen Utensils & Gadgets > Seasoning & Spice Tools',\n",
       " 'Norpro Grip-EZ Granny Fork': 'Kitchen & Dining > Kitchen Utensils & Gadgets > NA',\n",
       " 'Prepworks from Progressive International GPC-2549 Vegetable/French Fry Cutter': 'Kitchen & Dining > Kitchen Utensils & Gadgets > Graters',\n",
       " 'Prepworks from Progressive International GCBW-2 Butter Warmer Set': 'Kitchen & Dining > Cookware > Specialty Cookware',\n",
       " 'Simac MX700 PastaMatic Pasta Maker': 'Kitchen & Dining > Kitchen Utensils & Gadgets > Pasta & Pizza Tools',\n",
       " 'Lello 4080 Musso Lussino 1.5-Quart Ice Cream Maker, Stainless': 'Kitchen & Dining > Small Appliances > Ice Cream Machines',\n",
       " 'Norpro KRONA Stainless Steel 5 Quart Deep Colander': 'Kitchen & Dining > Kitchen Utensils & Gadgets > Colanders & Food Strainers',\n",
       " 'Progressive International Microwaveable 12-Cup (Cooked) Rice/Pasta Cooker Set': 'Kitchen & Dining > Small Appliances > Rice Cookers',\n",
       " 'Norpro KRONA Stainless Steel 8 Cup Multi Pot': 'Kitchen & Dining > Cookware > Stockpots',\n",
       " 'Amco Measure Equivalents Magnet': 'Kitchen & Dining > Kitchen Utensils & Gadgets > NA',\n",
       " 'Amco 13-Inch Splatter Screen': 'Kitchen & Dining > Kitchen Utensils & Gadgets > Specialty Tools & Gadgets',\n",
       " 'Amco Spoon Rest': 'Kitchen & Dining > Kitchen Utensils & Gadgets > Kitchen Accessories',\n",
       " 'Zwilling J.A. Henckels Twin Four Star 4-Inch High-Carbon Stainless-Steel Paring Knife': 'Kitchen & Dining > Kitchen Utensils & Gadgets > Graters',\n",
       " 'Amco Nylon Slotted Serving Spoon': 'Kitchen & Dining > Kitchen Utensils & Gadgets > Cooking Utensils',\n",
       " 'Amco Nylon Serving Fork': 'Kitchen & Dining > Kitchen Knives & Cutlery Accessories > Carving Knives & Forks',\n",
       " 'Farberware Classic 10-Quart Stainless-Steel Stockpot with Lid': 'Kitchen & Dining > Cookware > Stockpots',\n",
       " 'Zwilling J.A. Henckels Twin Pro S 2-3/4-Inch High Carbon Stainless-Steel Peeling Knife': 'Kitchen & Dining > Kitchen Knives & Cutlery Accessories > Specialty Knives',\n",
       " 'Zwilling J.A. Henckels Twin Four Star 5-Inch High Carbon Stainless-Steel Serrated Utility Knife': 'Kitchen & Dining > Kitchen Knives & Cutlery Accessories > Utility Knives',\n",
       " 'Amco Nylon Slotted Spatula': 'Kitchen & Dining > Kitchen Utensils & Gadgets > Cooking Utensils',\n",
       " 'Zwilling J.A. Henckels Twin Pro Professional &quot;S&quot; Slicing Knife 160mm/6&quot;': 'Kitchen & Dining > Kitchen Knives & Cutlery Accessories > Carving Knives & Forks',\n",
       " 'Amco Pasta Fork': 'Kitchen & Dining > Kitchen Utensils & Gadgets > Pasta & Pizza Tools',\n",
       " 'Amco Stainless-Steel and Nylon Locking Tongs': 'Kitchen & Dining > Kitchen Utensils & Gadgets > Cooking Utensils',\n",
       " \"Zwillilng J.A. Henckels Twin Four Star 8-Inch High Carbon Stainless-Steel Chef's Knife\": 'Kitchen & Dining > Kitchen Knives & Cutlery Accessories > Chefs Knives',\n",
       " 'Amco Nylon Serving Spoon': 'Kitchen & Dining > Kitchen Utensils & Gadgets > Cooking Utensils',\n",
       " 'Amco Nylon Wide Blade Spatula': 'Kitchen & Dining > Kitchen Utensils & Gadgets > Cooking Utensils',\n",
       " 'Zwilling J.A. Henckels Twin Gourmet High-Carbon Stainless Steel Steak Knives, Set of 4': 'Kitchen & Dining > Kitchen Knives & Cutlery Accessories > Cutlery Sets',\n",
       " \"Zwilling J.A. Henckels Twin Pro S 6-Inch High Carbon Stainless-Steel Chef's Knife\": 'Kitchen & Dining > Kitchen Knives & Cutlery Accessories > Chefs Knives',\n",
       " 'Henckels Gourmet 7-Piece High Carbon Stainless-Steel Knife Set with Block': 'Kitchen & Dining > Kitchen Knives & Cutlery Accessories > Cutlery Sets',\n",
       " 'J.A. HENCKELS INTERNATIONAL Classic 6-inch Cleaver': 'Kitchen & Dining > Kitchen Knives & Cutlery Accessories > Cleavers',\n",
       " 'J.A. HENCKELS INTERNATIONAL Classic 4-inch Paring Knife': 'Kitchen & Dining > Kitchen Knives & Cutlery Accessories > Paring Knives',\n",
       " 'Zwilling J.A. Henckels Twin Pro S 5-Inch Stainless-Steel Serrated Utility Knife': 'Kitchen & Dining > Kitchen Knives & Cutlery Accessories > Utility Knives',\n",
       " 'J.A. HENCKELS INTERNATIONAL Classic 8-inch Carving Knife': 'Kitchen & Dining > Kitchen Knives & Cutlery Accessories > Carving Knives & Forks',\n",
       " \"Zwilling J.A. Henckels Twin Four Star 10-Inch Stainless-Steel Chef's Knife\": 'Kitchen & Dining > Kitchen Knives & Cutlery Accessories > Chefs Knives',\n",
       " 'Zwilling J.A. Henckels Twin Pro S 9-Piece Knife Set with Block': 'Kitchen & Dining > Kitchen Knives & Cutlery Accessories > Cutlery Sets',\n",
       " 'J.A. HENCKELS INTERNATIONAL Classic 7-inch Bread Knife': 'Kitchen & Dining > Kitchen Knives & Cutlery Accessories > Bread & Serrated Knives',\n",
       " 'Amco Nylon Whisk': 'Kitchen & Dining > Kitchen Utensils & Gadgets > Cooking Utensils',\n",
       " 'Amco Skimmer': 'Kitchen & Dining > Kitchen Utensils & Gadgets > NA',\n",
       " 'J.A. Henckels Twin Four Star 3-Inch High Carbon Stainless-Steel Paring Knife': 'Kitchen & Dining > Kitchen Knives & Cutlery Accessories > Paring Knives',\n",
       " 'Farberware Classic Stainless Steel Covered Stockpot, 12-Quart': 'Kitchen & Dining > Cookware > Stockpots',\n",
       " 'Amco Nylon Slotted Wide Blade Spatula': 'Kitchen & Dining > Kitchen Utensils & Gadgets > Cooking Utensils',\n",
       " 'J.A. Henckels International Eversharp Pro 8-Inch Stainless-Steel Bread Knife': 'Kitchen & Dining > Kitchen Knives & Cutlery Accessories > Bread & Serrated Knives',\n",
       " 'Henckels International Stainless Steel Steak Knives, Set of 4': 'Kitchen & Dining > Kitchen Knives & Cutlery Accessories > Cutlery Sets',\n",
       " 'Farberware Classic Stainless Steel Covered Stockpot, 16-Quart': 'Kitchen & Dining > Cookware > Stockpots',\n",
       " 'Zwilling J.A. Henckels Twinshear Kitchen Shears, Black': 'Kitchen & Dining > Kitchen Knives & Cutlery Accessories > Shears',\n",
       " 'Zwilling J.A. Henckels Twin Pro-S 2-Piece Carving Set': 'Kitchen & Dining > Kitchen Knives & Cutlery Accessories > Cutlery Sets',\n",
       " 'Zwilling J.A. Henckels Twin Pro S 12-Inch Honing Steel': 'Kitchen & Dining > Kitchen Knives & Cutlery Accessories > Knife Sharpeners',\n",
       " 'J.A. Henckels International Fine Edge Pro 5-Inch Stainless-Steel Utility Knife': 'Kitchen & Dining > Kitchen Knives & Cutlery Accessories > Utility Knives',\n",
       " 'Zwilling J.A. Henckels Twinsharp Knife Sharpener': 'Kitchen & Dining > Kitchen Knives & Cutlery Accessories > Knife Sharpeners',\n",
       " 'Zwilling J.A. Henckels Twin Pro S 5.5-Inch High Carbon Stainless-Steel Boning Knife': 'Kitchen & Dining > Kitchen Knives & Cutlery Accessories > Boning & Fillet Knives',\n",
       " 'J.A. HENCKELS INTERNATIONAL Eversharp Pro 2-pc Carving Knife Set': 'Kitchen & Dining > Kitchen Knives & Cutlery Accessories > Carving Knives & Forks',\n",
       " '4 PC Stainless Steel Steak Set': 'Kitchen & Dining > Kitchen Knives & Cutlery Accessories > Cutlery Sets',\n",
       " 'J.A. HENCKELS INTERNATIONAL Fine Edge Pro 3-pc Starter Knife Set': 'Kitchen & Dining > Kitchen Knives & Cutlery Accessories > Cutlery Sets',\n",
       " 'Nordic Ware Cast Platinum Bundt Fancy Loaf Pan': 'Kitchen & Dining > Bakeware > Cake Pans',\n",
       " 'J.A. HENCKELS INTERNATIONAL Classic 6-inch Utility Knife': 'Kitchen & Dining > Kitchen Knives & Cutlery Accessories > Utility Knives',\n",
       " 'Nordic Ware Bundt Fancy Springform Pan with 2 Bottoms, 9 Inch': 'Kitchen & Dining > Bakeware > Cake Pans',\n",
       " 'J.A. Henckels International Fine Edge Pro 3-Inch Stainless Steel Paring Knife': 'Kitchen & Dining > Kitchen Knives & Cutlery Accessories > Paring Knives',\n",
       " 'Nordic Ware Scandinavian Silver Dollar Pancake Pan': 'Kitchen & Dining > Cookware > Griddles',\n",
       " 'J.A. Henckels 9-Inch Poly Sharpening Steel': 'Kitchen & Dining > Kitchen Knives & Cutlery Accessories > Knife Sharpeners',\n",
       " 'VillaWare V3000 Classic Waffler Round': 'Kitchen & Dining > Small Appliances > Waffle Irons',\n",
       " 'Nordic Ware Heavyweight Angel Food Cake Pan, 10 Inch': 'Kitchen & Dining > Bakeware > Cake Pans',\n",
       " 'Ronco ST5000PLGEN Showtime Rotisserie Platinum Edition': 'Kitchen & Dining > Small Appliances > Ovens & Toasters',\n",
       " 'Nordic Ware Pro Form Heavyweight 12 Cup Bundt Pan': 'Kitchen & Dining > Bakeware > Cake Pans',\n",
       " 'Bialetti 275-06 Moka Express 6-Cup Espresso Maker': 'Kitchen & Dining > Coffee > Tea & Espresso',\n",
       " 'VillaWare V3850 Quattro Pizzelle Baker': 'Kitchen & Dining > Small Appliances > Specialty Appliances',\n",
       " 'Zwilling J.A. Henckels Twin Four Star 7-Inch High Carbon Stainless-Steel Fillet knife': 'Kitchen & Dining > Kitchen Knives & Cutlery Accessories > Cutlery Sets',\n",
       " 'Zwilling J.A. Henckels Twin High Carbon Stainless-Steel Meat Cleaver': 'Kitchen & Dining > Kitchen Knives & Cutlery Accessories > Cleavers',\n",
       " 'Nordic Ware Toaster Oven 2-Piece Broiler Set': 'Kitchen & Dining > Cookware > Toaster Oven Cookware',\n",
       " 'J.A. Henckels International Eversharp Pro 5-Inch Stainless-Steel Utility Knife': 'Kitchen & Dining > Kitchen Knives & Cutlery Accessories > Utility Knives',\n",
       " 'J.A. Henckels International Eversharp Pro Stainless Steel Steak Knives, Set of 4': 'Kitchen & Dining > Kitchen Knives & Cutlery Accessories > Cutlery Sets',\n",
       " 'Nordic Ware Quiche and Tart Pan, 8 Inch': 'Kitchen & Dining > Bakeware > Pie',\n",
       " 'Nordic Ware Platinum Collection Original Bundt Pan, 12 Cup': 'Kitchen & Dining > Bakeware > Cake Pans',\n",
       " \"J.A. HENCKELS INTERNATIONAL Classic 8-inch Chef's Knife\": 'Kitchen & Dining > Kitchen Knives & Cutlery Accessories > Chefs Knives',\n",
       " 'Nordic Ware Round Cooling Rack, 13.25 Inch Diameter': 'Kitchen & Dining > Kitchen Utensils & Gadgets > Kitchen Accessories',\n",
       " 'J.A. HENCKELS INTERNATIONAL Classic 5-inch Serrated Utility Knife': 'Kitchen & Dining > Kitchen Knives & Cutlery Accessories > Bread & Serrated Knives',\n",
       " 'VillaWare V3900 Krumkake Baker': 'Kitchen & Dining > Small Appliances > Waffle Irons',\n",
       " 'ZWILLING J.A HENCKELS 7-pocket Knife Roll': 'Kitchen & Dining > Kitchen Knives & Cutlery Accessories > Knife Blocks & Storage',\n",
       " 'Nordic Ware Pro Cast Star Bundt Pan': 'Kitchen & Dining > Bakeware > Cake Pans',\n",
       " 'VillaWare V5000-NS Prima Pizzelle Baker Non-stick': 'Kitchen & Dining > Small Appliances > Specialty Appliances',\n",
       " 'Bunn A10 Pour-O-Matic Coffee Brewer': 'Kitchen & Dining > Coffee > Tea & Espresso',\n",
       " 'Nordic Ware Danish Ebleskiver Pan': 'Kitchen & Dining > Bakeware > Cake Pans',\n",
       " 'Nordic Ware Toaster Oven Casserole Pan, 1.5 Quart': 'Kitchen & Dining > Bakeware > Bakers & Casseroles',\n",
       " 'Zwilling J.A. Henckels Four Star 6-Inch Stainless-Steel Slicing Knife': 'Kitchen & Dining > Kitchen Knives & Cutlery Accessories > Utility Knives',\n",
       " 'Nordic Ware Compact Ovenware Baking Sheet': 'Kitchen & Dining > Bakeware > Baking & Cookie Sheets',\n",
       " 'DeLonghi DCG4T Deluxe Burr Coffee Grinder with Timer': 'Kitchen & Dining > Coffee > Tea & Espresso',\n",
       " 'Amco Basic Ingredients Stainless Steel Measuring Cups, Set of 4': 'Kitchen & Dining > Kitchen Utensils & Gadgets > Measuring Tools & Scales',\n",
       " 'Delonghi RT400 4-Slice Retro Toaster': 'Kitchen & Dining > Small Appliances > Ovens & Toasters',\n",
       " 'DeLonghi D895UX Cool-Touch ROTO Electric 1-1/2-Pound-Capacity Food Fryer': 'Kitchen & Dining > Small Appliances > Deep Fryers',\n",
       " 'Amco 9 Quart Stainless Steel Mixing Bowl': 'Kitchen & Dining > Bakeware > Mixing Bowls',\n",
       " 'Amco 4-Piece Stainless-Steel Measuring Spoon Set': 'Kitchen & Dining > Kitchen Utensils & Gadgets > Measuring Tools & Scales',\n",
       " 'J.A. HENCKELS INTERNATIONAL Fine Edge Pro 8-inch Bread Knife': 'Kitchen & Dining > Kitchen Knives & Cutlery Accessories > Bread & Serrated Knives',\n",
       " 'Farberware Classic 2-Qt. Covered Double Boiler': 'Kitchen & Dining > Cookware > Saucepans',\n",
       " 'Amco Large Scoop Colander': 'Kitchen & Dining > Kitchen Utensils & Gadgets > Colanders & Food Strainers',\n",
       " 'Amco 3-Quart Stainless Steel Mixing bowl': 'Kitchen & Dining > Bakeware > Mixing Bowls',\n",
       " 'Amco 4.5-Quart Stainless-Steel Mixing Bowl': 'Kitchen & Dining > Bakeware > Mixing Bowls',\n",
       " 'Amco 6.5-Quart Stainless Steel Mixing Bowl': 'Kitchen & Dining > Bakeware > Mixing Bowls',\n",
       " 'VillaWare V6150 4-Square Belgian Waffler/Multi-Baker, Stainless Steel': 'Kitchen & Dining > Small Appliances > Waffle Irons',\n",
       " 'Amco Cheese Grater': 'Kitchen & Dining > Kitchen Utensils & Gadgets > Graters',\n",
       " \"Vic Firth Baker's Rolling Pin\": 'Kitchen & Dining > Bakeware > Baking Tools & Accessories',\n",
       " 'Hoffritz Stainless-Steel Mandoline Slicer': 'Kitchen & Dining > Kitchen Utensils & Gadgets > Graters',\n",
       " 'Farberware Professional Knife Sharpener': 'Kitchen & Dining > Kitchen Knives & Cutlery Accessories > Knife Sharpeners',\n",
       " 'Vic Firth French Rolling Pin': 'Kitchen & Dining > Bakeware > Baking Tools & Accessories',\n",
       " 'Hoffritz Stainless-Steel Vegetable Peeler': 'Kitchen & Dining > Kitchen Utensils & Gadgets > Graters',\n",
       " 'Hoffritz Stainless-Steel Scraper/Chopper': 'Kitchen & Dining > Kitchen Utensils & Gadgets > Seasoning & Spice Tools',\n",
       " 'Briel ES35AF Chamonix Pump Espresso Machine With Auto Espresso Flow': 'Kitchen & Dining > Coffee > Tea & Espresso',\n",
       " 'Catskill Craftsmen Wood Pastry Board with Baking Graphics': 'Kitchen & Dining > Bakeware > NA',\n",
       " 'Catskill Craftsmen Wood End Grain Cutting Slab': 'Kitchen & Dining > Kitchen Knives & Cutlery Accessories > Cutting Boards',\n",
       " 'Progressive International 11-Ounce Salt and Pepper Shakers': 'Kitchen & Dining > Kitchen Utensils & Gadgets > Salt & Pepper',\n",
       " 'Natural Flexible Cutting Board 8.5&quot; x 11.5&quot; , 1 Each': 'Kitchen & Dining > Kitchen Knives & Cutlery Accessories > Cutting Boards',\n",
       " 'Catskill Craftsmen Adjustable Wood Over-the-Sink Board': 'Kitchen & Dining > Kitchen Knives & Cutlery Accessories > Cutting Boards',\n",
       " 'Progressive Stainless Steel Mesh Tea Ball': 'Kitchen & Dining > Coffee > Tea & Espresso',\n",
       " 'Beyond Gourmet Unbleached Parchment Paper, 71-Square Foot Roll': 'Kitchen & Dining > Bakeware > Baking Tools & Accessories',\n",
       " 'Kitchen Supply 13 Inch x 17 Inch Parchment Paper': 'Kitchen & Dining > Bakeware > Baking Tools & Accessories',\n",
       " \"Chef's Choice 830 WafflePro Heart Waffle Iron\": 'Kitchen & Dining > Small Appliances > Waffle Irons',\n",
       " 'Frieling 9-Inch Glass Bottom Nonstick Springform Pan': 'Kitchen & Dining > Bakeware > Cake Pans',\n",
       " 'Norpro 3301 Deluxe Biscuit/Cookie Press': 'Kitchen & Dining > Bakeware > Baking Tools & Accessories',\n",
       " 'Ateco #786 Large Tube Set, 12 pcs.': 'Kitchen & Dining > Bakeware > Decorating Tools',\n",
       " \"Mrs. Anderson's Baking Pie Crust Shield, 10-Inch\": 'Kitchen & Dining > Bakeware > Pie',\n",
       " '126&quot; x 36&quot; Cheesecloth': 'Kitchen & Dining > Kitchen Utensils & Gadgets > Colanders & Food Strainers',\n",
       " 'SCI Scandicrafts Fluted Deep Tart/Quiche Mold, Removable Bottom 10-inch Diameter by 2-inch Deep': 'Kitchen & Dining > Bakeware > Pie',\n",
       " 'Sassafras / Natural Wood Pizza Peel': 'Kitchen & Dining > Kitchen Utensils & Gadgets > Pasta & Pizza Tools',\n",
       " 'Gobel Rectangular Tart Pan - 4 &times; 14': 'Kitchen & Dining > Bakeware > Pie',\n",
       " 'Ateco 6-Piece Graduated Star Cookie Cutter Set': 'Kitchen & Dining > Bakeware > Baking Tools & Accessories',\n",
       " 'Thermos 14-Ounce Stainless-Steel Insulated Travel Tumbler': 'Kitchen & Dining > Dining & Entertaining > Glassware & Drinkware',\n",
       " \"Chef's Choice 110 Professional Diamond Hone Sharpener\": 'Kitchen & Dining > Kitchen Knives & Cutlery Accessories > Knife Sharpeners',\n",
       " 'Leak Resist Tumbler 14 oz': 'Kitchen & Dining > Dining & Entertaining > Glassware & Drinkware',\n",
       " 'Ateco Graduated Heart Cookie Cutters, Set of 6': 'Kitchen & Dining > Bakeware > Baking Tools & Accessories',\n",
       " 'Thermos 34-Ounce Vacuum Insulated Stainless-Steel Gourmet Coffee Press': 'Kitchen & Dining > Small Appliance Parts & Accessories > Coffee & Espresso Machine Parts & Accessories',\n",
       " 'Prodyne K-3-A  Set of 3 Cheese Knives, wood handle': 'Kitchen & Dining > Kitchen Knives & Cutlery Accessories > Specialty Knives',\n",
       " 'Prodyne 805B Thick Beech wood Cheese Slicer': 'Kitchen & Dining > Kitchen Utensils & Gadgets > Graters',\n",
       " 'Ateco Graduated Daisy Cookie Cutters, Set of 6': 'Kitchen & Dining > Bakeware > Baking Tools & Accessories',\n",
       " \"Chef's Choice Multi-Edge Diamond Hone Knife Sharpener\": 'Kitchen & Dining > Kitchen Knives & Cutlery Accessories > Knife Sharpeners',\n",
       " 'Ateco 11 Piece Fluted Round Cutter Set': 'Kitchen & Dining > Bakeware > Baking Tools & Accessories',\n",
       " \"Mrs. Anderson's Baking Cookie Cutter Set, Leaves\": 'Kitchen & Dining > Bakeware > Baking Tools & Accessories',\n",
       " 'Prodyne Beechwood Cheese Tray with Cracker Well': 'Kitchen & Dining > Kitchen Utensils & Gadgets > Graters',\n",
       " 'Thermos Stainless-Steel Vacuum Insulated Bottle': 'Kitchen & Dining > Small Appliance Parts & Accessories > Coffee & Espresso Machine Parts & Accessories',\n",
       " 'SuperStone /Covered Baker': 'Kitchen & Dining > Bakeware > Bread & Loaf Pans',\n",
       " 'Ateco 690 Pastry Cloth &amp; Rolling Pin Cover, 25&quot; X 20&quot;': 'Kitchen & Dining > Bakeware > Baking Tools & Accessories',\n",
       " 'Thermos 12-Ounce Stainless-Steel Tea Tumbler with Infuser': 'Kitchen & Dining > Storage & Organization > Commuter Mugs & Tumblers',\n",
       " 'Patisse Steam Pudding Mold, 2-Liter': 'Kitchen & Dining > Bakeware > Small Pastry Molds',\n",
       " 'SuperStone / 11&quot; La Cloche Dome Baker': 'Kitchen & Dining > Bakeware > Bread & Loaf Pans',\n",
       " \"Chef's Choice 120 Diamond Hone 3-Stage Professional Knife Sharpener, White\": 'Kitchen & Dining > Kitchen Knives & Cutlery Accessories > Knife Sharpeners',\n",
       " \"Mrs. Anderson's Baking Ceramic Pie Weights\": 'Kitchen & Dining > Bakeware > Baking Tools & Accessories',\n",
       " 'Grass Hook For Trimming High Weeds/Grass - 1.5&quot; X 0.75&quot; X 0.25&quot; - Black': 'Storage & Organization > Home Storage Hooks > Utility Hooks',\n",
       " 'Progressive International Biscuit and Cookie Cutter Set': 'Kitchen & Dining > Bakeware > Baking Tools & Accessories',\n",
       " 'Polder 550 Oven Thermometer, Stainless Steel': 'Kitchen & Dining > Kitchen Utensils & Gadgets > Thermometers & Timers',\n",
       " 'Polder 307 Preset Thermometer, White': 'Kitchen & Dining > Kitchen Utensils & Gadgets > Thermometers & Timers',\n",
       " 'Polder Cooking Thermometer with Timer and Clock': 'Kitchen & Dining > Kitchen Utensils & Gadgets > Thermometers & Timers',\n",
       " \"Polder 2109 Gourmet Add'N'Weigh Scale, 5-Pound\": 'Kitchen & Dining > Kitchen Utensils & Gadgets > Measuring Tools & Scales',\n",
       " 'Polder 891-90 Triple Kitchen 20-Hour Timer/Clock/Stopwatch': 'Kitchen & Dining > Kitchen Utensils & Gadgets > Thermometers & Timers',\n",
       " 'Scanpan Classic 10-1/4-Inch Fry Pan': 'Kitchen & Dining > Cookware > Skillets',\n",
       " 'WMF Manhattan Stainless Steel Wine Cooler': 'Kitchen & Dining > Kitchen Utensils & Gadgets > Bar & Wine Tools',\n",
       " 'Scanpan Classic 3-Piece Starter Set': 'Kitchen & Dining > Cookware > Cookware Sets',\n",
       " 'WMF Profi-Plus 14-Inch Stainless-Steel Ball Whisk': 'Kitchen & Dining > Kitchen Utensils & Gadgets > Cooking Utensils',\n",
       " 'BIA Cordon Bleu 1-Quart Round Quiche, White': 'Kitchen & Dining > Bakeware > Pie',\n",
       " 'WMF Two-in-One Stainless Steel Salt &amp; Pepper Cylinder': 'Kitchen & Dining > Kitchen Utensils & Gadgets > Salt & Pepper',\n",
       " 'Polder 898-90 Clock, Timer &amp; Stopwatch, White': 'Kitchen & Dining > Kitchen Utensils & Gadgets > Thermometers & Timers',\n",
       " 'WMF Profi-Plus 11 -Inch Stainless Steel Ball Whisk': 'Kitchen & Dining > Kitchen Utensils & Gadgets > Cooking Utensils',\n",
       " 'Polder 77-90 Diet Utility Scale, White': 'Kitchen & Dining > Kitchen Utensils & Gadgets > Measuring Tools & Scales',\n",
       " 'Polder 11-Pound Stainless-Steel Kitchen Scale': 'Kitchen & Dining > Kitchen Utensils & Gadgets > Measuring Tools & Scales',\n",
       " 'Zojirushi BBCC-V20 Home Bakery Traditional Breadmaker': 'Kitchen & Dining > Small Appliances > Bread Machines',\n",
       " 'Zojirushi NHS-18 10-Cup (Uncooked) Rice Cooker/Steamer &amp; Warmer': 'Kitchen & Dining > Small Appliances > Rice Cookers',\n",
       " 'Zojirushi Premium Thermal 1-Liter Carafe, Brushed Stainless Steel': 'Kitchen & Dining > Dining & Entertaining > Serveware',\n",
       " 'Zojirushi NS-KCC05 Micom Programmable 3-Cup Rice Cooker &amp; Warmer': 'Kitchen & Dining > Small Appliances > Rice Cookers',\n",
       " 'Zojirushi NHS-10 6-Cup (Uncooked) Rice Cooker/Steamer &amp; Warmer, White': 'Kitchen & Dining > Small Appliances > Rice Cookers',\n",
       " 'BIA Cordon Bleu 60-Ounce Utensil Crock, White': 'Kitchen & Dining > Storage & Organization > Utensil Organizers',\n",
       " 'Zojirushi NS-JCC18 Neuro Fuzzy 10-Cup Rice Cooker &amp; Warmer': 'Kitchen & Dining > Small Appliances > Rice Cookers',\n",
       " 'Zojirushi Premium Thermal 1.85 liter Carafe, Brushed Stainless Steel': 'Kitchen & Dining > Small Appliance Parts & Accessories > Coffee & Espresso Machine Parts & Accessories',\n",
       " 'Zojirushi NHS-06 3-Cup (Uncooked) Rice Cooker': 'Kitchen & Dining > Small Appliances > Rice Cookers',\n",
       " 'Pecoware Thomas Side Kick Lunch Box Set': 'Kitchen & Dining > Storage & Organization > Lunch Boxes & Bags',\n",
       " 'Microplane 35001 Home Series Coarse Grater, Black': 'Kitchen & Dining > Kitchen Utensils & Gadgets > Graters',\n",
       " 'Progressive International Can Colander': 'Kitchen & Dining > Kitchen Utensils & Gadgets > Colanders & Food Strainers',\n",
       " 'Microplane 40001 Stainless Steel Zester': 'Kitchen & Dining > Kitchen Utensils & Gadgets > Fruit & Vegetable Tools',\n",
       " 'Le Creuset Silicone Large Spatula Spoon, Cobalt': 'Kitchen & Dining > Kitchen Utensils & Gadgets > Cooking Utensils',\n",
       " 'Olde Thompson 17-Inch Hotel Walnut Peppermill': 'Kitchen & Dining > Kitchen Utensils & Gadgets > Salt & Pepper',\n",
       " 'Microplane 40020 Classic Zester/Grater': 'Kitchen & Dining > Kitchen Utensils & Gadgets > Graters',\n",
       " 'Wilton 2109-859 50-Piece Tool and Caddy Decorating Set': 'Kitchen & Dining > Bakeware > Decorating Tools',\n",
       " 'Microplane 40016 Classic Black Spice Grater': 'Kitchen & Dining > Kitchen Utensils & Gadgets > Graters',\n",
       " 'Wilton Comfort Grip Heart Cutter': 'Kitchen & Dining > Bakeware > Baking Tools & Accessories',\n",
       " 'Microplane 35002 Home Series Fine Grater': 'Kitchen & Dining > Kitchen Utensils & Gadgets > Graters',\n",
       " 'Wilton 2104-2546 53 Piece Supreme Cake Decorating Set': 'Kitchen & Dining > Bakeware > Decorating Tools',\n",
       " 'Wilton Decorative Preferred 12 by 3-Inch Round Pan': 'Kitchen & Dining > Bakeware > Cake Pans',\n",
       " 'Wilton 28-Piece Deluxe Tip Set': 'Kitchen & Dining > Bakeware > Decorating Tools',\n",
       " 'Le Creuset Silicone Super Spatula, Cobalt': 'Kitchen & Dining > Kitchen Utensils & Gadgets > Cooking Utensils',\n",
       " 'Wilton Basic Cake Decorating Set': 'Kitchen & Dining > Bakeware > Decorating Tools',\n",
       " 'Wilton 2104-7778 Master Tip Set': 'Kitchen & Dining > Bakeware > Decorating Tools',\n",
       " \"Chef's Design 11-by-19-1/2-Inch Ultimate Griddle\": 'Kitchen & Dining > Cookware > Griddles',\n",
       " 'Wilton Cake Leveler': 'Kitchen & Dining > Bakeware > Decorating Tools',\n",
       " 'All American 921 21-1/2-Quart Pressure Cooker/Canner': 'Kitchen & Dining > Cookware > Canning',\n",
       " 'KitchenAid Five-Ply Stainless-Steel Clad 2-1/2-Quart Saucier with Lid': 'Kitchen & Dining > Cookware > Sauciers',\n",
       " 'Meyer Circulon Open Stir Fry Pan 11&quot;': 'Kitchen & Dining > Cookware > Woks & Stir-Fry Pans',\n",
       " 'Waring MBB520 Bar Blender, Bright Copper': 'Kitchen & Dining > Dining & Entertaining > Bar Tools & Glasses',\n",
       " 'Waring PBB201 Professional Bar Blender, Quite White': 'Kitchen & Dining > Dining & Entertaining > Bar Tools & Glasses',\n",
       " 'Waring PDM101 Drink Mixer, Quite White': 'Kitchen & Dining > Small Appliances > Mixers',\n",
       " 'Waring PCJ201 Citrus Juicer, Quite White': 'Kitchen & Dining > Small Appliances > Juicers',\n",
       " 'Circulon Classic 12-Inch Nonstick French Skillet': 'Kitchen & Dining > Cookware > Skillets',\n",
       " 'Waring WPB05 Professional Kitchen Blender, Chrome': 'Kitchen & Dining > Small Appliances > Blenders',\n",
       " 'Cuisinart DLC-093 3-Piece Specialty Disc Set, Fits 14-Cup Processor': 'Kitchen & Dining > Small Appliance Parts & Accessories > Food Processor Parts & Accessories',\n",
       " 'Cuisinart DLC-835TXAMZ Fine Grater Disc, Fits 7- and 11-Cup Processors': 'Kitchen & Dining > Kitchen Utensils & Gadgets > Cheese Tools',\n",
       " 'Cuisinart DLC-833TXAMZ 3-by-3mm Medium Square Julienne Disc, Fits 7 and 11-Cup Processors': 'Kitchen & Dining > Small Appliance Parts & Accessories > Food Processor Parts & Accessories',\n",
       " 'Cuisinart WMB-2 2-Slice Belgian Waffle Maker': 'Kitchen & Dining > Small Appliances > Waffle Irons',\n",
       " 'Cuisinart BDH-2 Blade and Disc Holder': 'Kitchen & Dining > Small Appliance Parts & Accessories > Food Processor Parts & Accessories',\n",
       " 'Cuisinart DLC-042TX Stainless Steel Thin Slicing Disc 2-mm.': 'Kitchen & Dining > Small Appliance Parts & Accessories > Food Processor Parts & Accessories',\n",
       " 'Cuisinart DCC-100 Coffee Bar Classic 10-Cup Coffeemaker, White': 'Kitchen & Dining > Coffee > Tea & Espresso',\n",
       " 'Cuisinart CPT-70 Classic Style Toaster': 'Kitchen & Dining > Small Appliances > Ovens & Toasters',\n",
       " 'Cuisinart BFP-703 SmartPower Duet Blender and Food Processor, White': 'Kitchen & Dining > Small Appliances > Mixers',\n",
       " 'Cuisinart DLC-035TXAMZ Fine Grater Disc, Fits 14-Cup Processor': 'Kitchen & Dining > Small Appliance Parts & Accessories > Food Processor Parts & Accessories',\n",
       " 'Cuisinart DLC-846TX 6mm Thick Slicing Disc, Fits 7 and 11-Cup Processors': 'Kitchen & Dining > Small Appliance Parts & Accessories > Food Processor Parts & Accessories',\n",
       " 'Cuisinart KUA-17 1-3/4-Quart Cordless Automatic Electric Kettle': 'Kitchen & Dining > Small Appliances > Coffee',\n",
       " 'Cuisinart DLC-873 3-Piece Standard Disc Set, Fits 7- and 11-Cup Processors': 'Kitchen & Dining > Small Appliance Parts & Accessories > Food Processor Parts & Accessories',\n",
       " 'Cuisinart DCG-20N Coffee Bar Coffee Grinder, White': 'Kitchen & Dining > Coffee > Tea & Espresso',\n",
       " 'Cuisinart DLC-836 6-by-6mm Fruit, Vegetable and French Fry Disc Fits 7 and 11-Cup Processors': 'Kitchen & Dining > Small Appliance Parts & Accessories > Food Processor Parts & Accessories',\n",
       " 'Cuisinart DLC-036TXAMZ 6-by-6mm Fruit, Vegetable and French Fry Disc, Fits 14-Cup Processor': 'Kitchen & Dining > Small Appliance Parts & Accessories > Food Processor Parts & Accessories',\n",
       " 'Cuisinart DGB-300 Automatic Grind &amp; Brew 10-Cup Coffeemaker, White': 'Kitchen & Dining > Coffee > Tea & Espresso',\n",
       " 'Cuisinart DLC-834TX Fine Shredding Disc, Fits 7 and 11-Cup Processors': 'Kitchen & Dining > Small Appliance Parts & Accessories > Food Processor Parts & Accessories',\n",
       " 'Cuisinart ICE-RFB 1-1/2-Quart Additional Freezer Bowl, Fits ICE-20/21 Ice Cream Maker': 'Kitchen & Dining > Small Appliances > Ice Cream Machines',\n",
       " 'Cuisinart DLC-10S Pro Classic 7-Cup Food Processor, White': 'Kitchen & Dining > Small Appliances > Food Processors',\n",
       " 'Cuisinart DLC-8S Pro Custom 11-Cup Food Processor, White': 'Kitchen & Dining > Small Appliances > Food Processors',\n",
       " 'Cuisinart AFP-7 3-Cup Food Processor Duet Attachment, White': 'Kitchen & Dining > Small Appliance Parts & Accessories > Food Processor Parts & Accessories',\n",
       " 'Cuisinart DLC-XPN Classic 20-Cup Food Processor, White': 'Kitchen & Dining > Small Appliances > Food Processors',\n",
       " 'Braun MX2050 PowerMax Jug Blender': 'Kitchen & Dining > Small Appliances > Blenders',\n",
       " 'Jupiter Large Commercial Juice Press, White': 'Kitchen & Dining > Kitchen Utensils & Gadgets > Fruit & Vegetable Tools',\n",
       " '220 Volt Braun MP80 Juice Exractor- WILL NOT WORK IN THE USA': 'Kitchen & Dining > Small Appliances > Juicers',\n",
       " 'Braun KF187W FlavorSelect 12-Cup Coffeemaker, White': 'Kitchen & Dining > Coffee > Tea & Espresso',\n",
       " 'Cuisinart MM-2M Mini Mate Chopper and Grinder': 'Kitchen & Dining > Small Appliances > Food Processors',\n",
       " 'Braun MR430HC Multiquick Deluxe Hand Blender &amp; Chopper': 'Kitchen & Dining > Small Appliances > Blenders',\n",
       " 'Braun WK200W Aqua Express Electric Water Kettle, White': 'Kitchen & Dining > Small Appliances > Coffee',\n",
       " 'La Pavoni EPC-8 Europiccola 8-Cup Lever Style Espresso Machine, Chrome': 'Kitchen & Dining > Coffee > Tea & Espresso',\n",
       " 'Braun MPZ22 Citromatic Deluxe Citrus Juicer': 'Kitchen & Dining > Small Appliances > Juicers',\n",
       " 'Lodge Original Finish 12-Inch Cast Iron Skillet': 'Kitchen & Dining > Cookware > Skillets',\n",
       " 'La Pavoni PA-Burr Coffee Grinder, White': 'Kitchen & Dining > Coffee > Tea & Espresso',\n",
       " 'La Pavoni EPBB-8 Europiccola 8-Cup Lever Style Espresso Machine, Black Base': 'Kitchen & Dining > Coffee > Tea & Espresso',\n",
       " 'Lodge Original Finish Cast Iron Eight-Section Cornbread Skillet': 'Kitchen & Dining > Cookware > Skillets',\n",
       " 'Lodge 10-1/2-Inch Cast Iron Square Grill Pan': 'Kitchen & Dining > Cookware > Grill Pans',\n",
       " 'Braun FlavorSelect Patented Water Filter': 'Kitchen & Dining > Small Appliance Parts & Accessories > Coffee & Espresso Machine Parts & Accessories',\n",
       " 'Polder 6116 18/8 Stainless Steel Dish Rack': 'Kitchen & Dining > Storage & Organization > Dish Racks',\n",
       " 'Sitram Catering 3.0 quart Commercial Stainless Steel Saucepan': 'Kitchen & Dining > Cookware > Saucepans',\n",
       " 'Polder 210201 Deluxe Steel Bread Box, White': 'Kitchen & Dining > Storage & Organization > Bread Boxes',\n",
       " 'Sitram Catering 9.5-Inch Commercial Stainless Steel Lid': 'Kitchen & Dining > NA > NA',\n",
       " 'Vacu Vin WineMaster Corkscrew, Clear': 'Kitchen & Dining > Kitchen Utensils & Gadgets > Bar & Wine Tools',\n",
       " 'Vacu Vin Food Saver, Set of 4': 'Kitchen & Dining > Kitchen Utensils & Gadgets > Bar & Wine Tools',\n",
       " 'Vacu Vin Guy Buffet Rapid Ice Wine Chiller, Sommeliers': 'Kitchen & Dining > Wine Accessories > Wine Chillers',\n",
       " 'Sanyo SK-7W Space Saving Toaster Oven, White': 'Kitchen & Dining > Small Appliances > Ovens & Toasters',\n",
       " 'Sitram Catering 11-Inch Commercial Stainless Steel Fry Pan': 'Kitchen & Dining > Cookware > All Pans',\n",
       " 'Sitram Profiserie 7 7/8-Inch Stainless Steel Lid': 'Kitchen & Dining > Cookware > Lids',\n",
       " 'Vacu Vin Wine Saver Extra Stoppers, Set of 2': 'Kitchen & Dining > Kitchen Utensils & Gadgets > Bar & Wine Tools',\n",
       " 'William Bounds Nut Twister Nutmeg Mill, Chrome': 'Kitchen & Dining > Kitchen Utensils & Gadgets > Salt & Pepper',\n",
       " 'Vacu Vin 3-Piece Wine Saver Pump and Stopper, White': 'Kitchen & Dining > Kitchen Utensils & Gadgets > Bar & Wine Tools',\n",
       " 'Maverick SEC-2 Henrietta Hen Egg Cooker, White': 'Kitchen & Dining > Small Appliances > Specialty Appliances',\n",
       " 'Le Creuset Enameled Cast-Iron 2-Quart Heart Casserole, Red': 'Kitchen & Dining > Bakeware > Bakers & Casseroles',\n",
       " 'Le Creuset Enameled Cast-Iron 7-1/2-Quart Bouillabaisse Pot, Cherry': 'Kitchen & Dining > Bakeware > Bakers & Casseroles',\n",
       " 'Le Creuset Enameled Cast-Iron 1-3/4-Quart Traditional Fondue Pot, Flame': 'Kitchen & Dining > Cookware > Fondue',\n",
       " 'Le Creuset Stoneware 12-1/2-by-9-1/2-Inch Rectangular Baking Dish,  Cherry': 'Kitchen & Dining > Bakeware > Bakers & Casseroles',\n",
       " 'Le Creuset Enameled Steel Stock Pot with Lid, Cherry': 'Kitchen & Dining > Cookware > Stockpots',\n",
       " 'Le Creuset Enameled Cast-Iron 6-3/4-Quart Oval French Oven, Red': 'Kitchen & Dining > Cookware > Dutch Ovens',\n",
       " 'Le Creuset Square Skillet Grill Pan': 'Kitchen & Dining > Cookware > Grill Pans',\n",
       " 'Le Creuset Enameled Cast-Iron 2-1/4-Quart Pumpkin Casserole, Flame': 'Kitchen & Dining > NA > NA',\n",
       " 'Le Creuset Stoneware 2-1/4-Quart Pitcher, Cherry': 'Kitchen & Dining > Dining & Entertaining > Serveware',\n",
       " 'Le Creuset Stoneware 14-Inch Oval Baking Dish, Cherry': 'Kitchen & Dining > Bakeware > Bakers & Casseroles',\n",
       " 'Le Creuset Enameled Cast-Iron 5-1/2-Quart Round French Oven, Red': 'Kitchen & Dining > Cookware > Dutch Ovens',\n",
       " 'Black &amp; Decker CJ525 CitrusMate Plus Citrus Juicer': 'Kitchen & Dining > Small Appliances > Juicers',\n",
       " 'Black &amp; Decker EC1200 Grand Openings Can Opener': 'Kitchen & Dining > Kitchen Utensils & Gadgets > Can Openers',\n",
       " 'Black &amp; Decker HS2000 Flavor Scenter Steamer and Rice Cooker': 'Kitchen & Dining > Small Appliances > Rice Cookers',\n",
       " 'Roshco 100-Piece Plastic Cookie Cutter Set': 'Kitchen & Dining > Bakeware > Baking Tools & Accessories',\n",
       " 'T-fal 532840 Avante Deluxe 4-Slice Toaster, Black/Chrome': 'Kitchen & Dining > Small Appliances > Ovens & Toasters',\n",
       " 'KitchenAid KSB5 5-Speed Blender, Empire Red': 'Kitchen & Dining > Small Appliances > Blenders',\n",
       " 'KitchenAid KSB5 5-Speed Blender, Onyx Black/Stainless Steel': 'Kitchen & Dining > Small Appliances > Blenders',\n",
       " 'KitchenAid KSB5 5-Speed Blender, Cobalt Blue': 'Kitchen & Dining > Small Appliances > Blenders',\n",
       " 'Kamenstein 16-Jar Beechwood Revolving Spice Rack': 'Kitchen & Dining > Kitchen Utensils & Gadgets > Seasoning & Spice Tools',\n",
       " 'KitchenAid GMA Grain Mill Attachment for Stand Mixers': 'Kitchen & Dining > Small Appliance Parts & Accessories > Mixer Parts & Accessories',\n",
       " 'KitchenAid KFP600 11-Cup Ultra Power Food Processor, Onyx Black': 'Kitchen & Dining > Small Appliances > Food Processors',\n",
       " 'Kitchenaid Pasta Roller Attachment': 'Kitchen & Dining > Kitchen Utensils & Gadgets > Pasta & Pizza Tools',\n",
       " 'KitchenAid KBC90N Mixer Bowl Covers for Pivot Head Stand Mixer Bowls, Set of 2': 'Kitchen & Dining > Small Appliance Parts & Accessories > Mixer Parts & Accessories',\n",
       " 'KitchenAid KBC5N Mixer Bowl Covers for 5-Quart Stand Mixer Bowls, Set of 2': 'Kitchen & Dining > Small Appliance Parts & Accessories > Mixer Parts & Accessories',\n",
       " 'KitchenAid KFP650 11-Cup Professional Food Processor, White': 'Kitchen & Dining > Small Appliances > Food Processors',\n",
       " 'KitchenAid SSA Sausage Stuffer Kit Attachment for Food Grinder': 'Kitchen & Dining > Small Appliance Parts & Accessories > Mixer Parts & Accessories',\n",
       " 'KitchenAid JE Citrus Juicer Stand Mixer Attachment': 'Kitchen & Dining > Kitchen Utensils & Gadgets > Fruit & Vegetable Tools',\n",
       " 'KitchenAid KGPA Mixer Attachment Pack for Stand Mixers': 'Kitchen & Dining > Small Appliance Parts & Accessories > Mixer Parts & Accessories',\n",
       " 'KitchenAid KSB5WH 5-Speed Blender, White': 'Kitchen & Dining > Small Appliances > Blenders',\n",
       " 'KitchenAid K45SBWH Bowl for Pivot Head Stand Mixer': 'Kitchen & Dining > Small Appliance Parts & Accessories > Mixer Parts & Accessories',\n",
       " 'KitchenAid CO Can Opener Stand Mixer Attachment': 'Kitchen & Dining > Small Appliance Parts & Accessories > Mixer Parts & Accessories',\n",
       " 'KitchenAid FGA Food Grinder Attachment for Stand Mixers': 'Kitchen & Dining > NA > NA',\n",
       " 'KitchenAid SNFGA Pasta Maker Attachment for Stand Mixers': 'Kitchen & Dining > Kitchen Utensils & Gadgets > Pasta & Pizza Tools',\n",
       " 'KitchenAid FT Food Tray Attachment for Stand Mixers': 'Kitchen & Dining > Small Appliance Parts & Accessories > Mixer Parts & Accessories',\n",
       " 'KitchenAid RVSA Slicer/Shredder Attachment for Stand Mixers': 'Kitchen & Dining > Small Appliance Parts & Accessories > Mixer Parts & Accessories',\n",
       " 'KitchenAid KHM7T 7-Speed Artisan Hand Mixer, White': 'Kitchen & Dining > Small Appliances > Mixers',\n",
       " 'KitchenAid K5ASBP Bowl for 5-Quart Professional Stand Mixer': 'Kitchen & Dining > Small Appliances > Mixers',\n",
       " 'KitchenAid KPS2CL Pouring Shield for 4-1/2 and 5-Quart Stand Mixers': 'Kitchen & Dining > Small Appliance Parts & Accessories > Mixer Parts & Accessories',\n",
       " 'KitchenAid FVSP Fruit and Vegetable Strainer Parts for Food Grinder': 'Kitchen & Dining > Small Appliance Parts & Accessories > Mixer Parts & Accessories',\n",
       " 'KitchenAid KSB5OB 5-Speed Blender, Onyx Black': 'Kitchen & Dining > Small Appliances > Blenders',\n",
       " 'KitchenAid K45SSWH K45SS Classic 275-Watt 4-1/2-Quart Stand Mixer, White': 'Kitchen & Dining > Small Appliances > Mixers',\n",
       " 'KitchenAid FPPA Mixer Attachment Pack for Stand Mixers': 'Kitchen & Dining > Small Appliance Parts & Accessories > Mixer Parts & Accessories',\n",
       " 'KitchenAid KB3SS 3-Quart Stainless Steel Bowl for Pivot Head Stand Mixers': 'Kitchen & Dining > Small Appliance Parts & Accessories > Mixer Parts & Accessories',\n",
       " 'KitchenAid KSM90PS 300-Watt Ultra Power 4-1/2-Quart Stand Mixer, Empire Green': 'Kitchen & Dining > Small Appliances > Mixers',\n",
       " 'KitchenAid KHM5DH 5-Speed Ultra Power Hand Mixer, White': 'Kitchen & Dining > Small Appliances > Mixers',\n",
       " 'KitchenAid FVSFGA Fruit and Vegetable Strainer and Food Grinder for Stand Mixers': 'Kitchen & Dining > Small Appliance Parts & Accessories > Mixer Parts & Accessories',\n",
       " 'KitchenAid KHM9PWH 9-Speed Professional Hand Mixer, White': 'Kitchen & Dining > Small Appliances > Mixers',\n",
       " 'KitchenAid SNPA Pasta Maker Plates for Food Grinder Attachment for Stand Mixers': 'Kitchen & Dining > Kitchen Utensils & Gadgets > Pasta & Pizza Tools',\n",
       " 'KRUPS 968-41 Novo 2300 Plus Automatic Cappuccino Machine, Grey': 'Kitchen & Dining > Coffee > Tea & Espresso',\n",
       " 'Hamilton Beach 25325 MealMaker Express Contact Grill': 'Kitchen & Dining > Small Appliances > Contact Grills',\n",
       " 'VillaWare V515 Pasta Drying Rack': 'Kitchen & Dining > Kitchen Utensils & Gadgets > Pasta & Pizza Tools',\n",
       " 'CucinaPro 177 Pasta Fresh Pasta Machine': 'Kitchen & Dining > Kitchen Utensils & Gadgets > Pasta & Pizza Tools',\n",
       " 'Krups 872-42 Bravo Plus Espresso Maker': 'Kitchen & Dining > Coffee > Tea & Espresso',\n",
       " 'Krups 867-42 Il Caffe Bistro 10-Cup Coffee/4-Cup Espresso Maker': 'Kitchen & Dining > Coffee > Tea & Espresso',\n",
       " 'KRUPS 026-33 Gold Tone Coffee Filter Fits KRUPS coffee makers model numbers KM720D50, KT720D50, 253, 466, 467, 458, and 144': 'Kitchen & Dining > Small Appliance Parts & Accessories > Coffee & Espresso Machine Parts & Accessories',\n",
       " 'KRUPS F654 4-Slice Belgian Waffle Maker with Nonstick Plates LED Indicators and Stainless Steel Housing, Silver': 'Kitchen & Dining > Small Appliances > Waffle Irons',\n",
       " 'Krups 404-70 Open Master Can Opener': 'Kitchen & Dining > Kitchen Utensils & Gadgets > Can Openers',\n",
       " 'KRUPS 203-42 Electric Spice and Coffee Grinder with Stainless Steel Blades, White': 'Kitchen & Dining > Coffee > Tea & Espresso',\n",
       " 'KRUPS F20342 Electric Spice and Coffee Grinder with Stainless Steel Blades, Black': 'Kitchen & Dining > Coffee > Tea & Espresso',\n",
       " 'Krups 358-70 La Glaciere Ice Cream Maker': 'Kitchen & Dining > Small Appliances > Ice Cream Machines',\n",
       " 'V5500   10-Square Ravioli Maker': 'Kitchen & Dining > Kitchen Utensils & Gadgets > Pasta & Pizza Tools',\n",
       " 'Misto Gourmet Stainless-Steel Olive Oil Sprayer, Black Band': 'Kitchen & Dining > Kitchen Utensils & Gadgets > Oil Sprayers & Dispensers',\n",
       " 'Metrokane 6004 Rabbit Corkscrew with Foilcutter, Black': 'Kitchen & Dining > Kitchen Utensils & Gadgets > Bar & Wine Tools',\n",
       " 'Misto Brushed Aluminum Olive Oil Sprayer': 'Kitchen & Dining > Kitchen Utensils & Gadgets > Oil Sprayers & Dispensers',\n",
       " 'Capresso 10-Cup Coffee/Cappuccino Maker, Black': 'Kitchen & Dining > Coffee > Tea & Espresso',\n",
       " 'Cuisipro 11.5-Inch Splatter Guard': 'Kitchen & Dining > Kitchen Utensils & Gadgets > Specialty Tools & Gadgets',\n",
       " 'Brita Atlantis Water Filter Pitcher, White, 6 Cup': 'Kitchen & Dining > Water Coolers & Filters > Pitcher Water Filters',\n",
       " 'Brita 35503 Pitcher Replacement Filters, 3-Pack': 'Kitchen & Dining > Water Coolers & Filters > Replacement Water Filters',\n",
       " 'Cuisipro Stainless Steel Measuring Spoon Set': 'Kitchen & Dining > Kitchen Utensils & Gadgets > Measuring Tools & Scales',\n",
       " 'Cuisipro 4-Piece Stainless Steel Oval Measuring Cup Set': 'Kitchen & Dining > Kitchen Utensils & Gadgets > Measuring Tools & Scales',\n",
       " 'Capresso 551.01 Burr Coffee Grinder, Black': 'Kitchen & Dining > Coffee > Tea & Espresso',\n",
       " 'Brita WAP BRITA ULTRA MAX DISPENSER Cookware': 'Kitchen & Dining > Water Coolers & Filters > Pitcher Water Filters',\n",
       " 'Capresso 501 Cool Grind Coffee Grinder, Black': 'Kitchen & Dining > Coffee > Tea & Espresso',\n",
       " 'Wabash Valley Farms 25008 Whirley-Pop Stovetop Popcorn Popper': 'Kitchen & Dining > Small Appliances > Specialty Appliances',\n",
       " 'Browne Foodservice 74 6192 Stainless Steel Potato Ricer with Discs': 'Kitchen & Dining > Kitchen Utensils & Gadgets > Fruit & Vegetable Tools',\n",
       " 'Brita 42378 Deluxe Water Pitcher': 'Kitchen & Dining > Water Coolers & Filters > Pitcher Water Filters',\n",
       " 'Spiegelau Vino Grande Burgundy Wine Glasses, Set of 6': 'Kitchen & Dining > Dining & Entertaining > Glassware & Drinkware',\n",
       " 'VillaWare V3200 Classic Belgian Waffler - Round': 'Kitchen & Dining > Small Appliances > Waffle Irons',\n",
       " 'Spiegelau Vino Grande Chardonnay Glasses, Set of 6': 'Kitchen & Dining > Dining & Entertaining > Glassware & Drinkware',\n",
       " 'Spiegelau Vino Grande Red Wine Glasses, Set of 6': 'Kitchen & Dining > Dining & Entertaining > Glassware & Drinkware',\n",
       " 'Fagor Duo Stainless-Steel 4-Quart Pressure Cooker': 'Kitchen & Dining > Cookware > Pressure Cookers',\n",
       " 'Salton YM9 1-Quart Yogurt Maker': 'Kitchen & Dining > Small Appliances > Specialty Appliances',\n",
       " 'Spiegelau Vino Grande Martini Glass, Set of 6, #4510025-6': 'Kitchen & Dining > Dining & Entertaining > Glassware & Drinkware',\n",
       " 'Jubilee 10-Ounce Acrylic Embossed Grape Wine Glasses, Set of 4': 'Kitchen & Dining > Dining & Entertaining > Glassware & Drinkware',\n",
       " 'Jubilee Acrylic Martini Picks, Set of 6': 'Kitchen & Dining > Dining & Entertaining > Bar Tools & Glasses',\n",
       " 'Calphalon Commercial Hard-Anodized 7-Piece Cookware Set': 'Kitchen & Dining > Cookware > Cookware Sets',\n",
       " 'Calphalon Accessories Universal Steamer Insert': 'Kitchen & Dining > Cookware > Steamers',\n",
       " 'Calphalon D812 Commercial Hard Anodized 12-Quart Stockpot with Lid': 'Kitchen & Dining > Cookware > Stockpots',\n",
       " 'Calphalon Nylon Whisk': 'Kitchen & Dining > Kitchen Utensils & Gadgets > Cooking Utensils',\n",
       " 'Calphalon Nylon Large Spatula': 'Kitchen & Dining > Kitchen Utensils & Gadgets > Cooking Utensils',\n",
       " 'Calphalon Single Pot Rack Hooks, Set of 2': 'Kitchen & Dining > Cookware > Pot Racks',\n",
       " 'Calphalon Nylon Tongs': 'Kitchen & Dining > Kitchen Utensils & Gadgets > Cooking Utensils',\n",
       " 'Calphalon Nylon Large Slotted Spatula': 'Kitchen & Dining > Kitchen Utensils & Gadgets > Cooking Utensils',\n",
       " 'Calphalon Double Pot Rack Hook': 'Kitchen & Dining > Cookware > Pot Racks',\n",
       " 'Riedel Vinum Bordeaux Wine Glasses, Set of 6': 'Kitchen & Dining > Dining & Entertaining > Glassware & Drinkware',\n",
       " 'Riedel Vinum Burgundy/Pinot Noir Wine Glasses, Set of 2': 'Kitchen & Dining > Dining & Entertaining > Glassware & Drinkware',\n",
       " 'Maverick ET-7 Remote-Check Wireless Thermometer With 2 Probes': 'Kitchen & Dining > Kitchen Utensils & Gadgets > Thermometers & Timers',\n",
       " 'Pyrex Prepware 3-Piece Mixing Bowl Set, Clear': 'Kitchen & Dining > Bakeware > Mixing Bowls',\n",
       " 'Matfer Mandoline 2000S with Safety Pusher': 'Kitchen & Dining > Kitchen Utensils & Gadgets > Graters',\n",
       " 'Master Chef Spatule Pelton Spatula': 'Kitchen & Dining > Kitchen Utensils & Gadgets > Cooking Utensils',\n",
       " 'Riedel Vinum Single Malt Scotch Glasses, Set of 6': 'Kitchen & Dining > Dining & Entertaining > Glassware & Drinkware',\n",
       " 'Pyrex Bakeware 8-Inch Square Cake Pan, Clear': 'Kitchen & Dining > Bakeware > Cake Pans',\n",
       " 'Pyrex 3-Quart Oblong Glass Baking/Serving Dish': 'Kitchen & Dining > Bakeware > Bakers & Casseroles',\n",
       " 'Oggi Dial-A-Drink Cocktail Shaker': 'Kitchen & Dining > Kitchen Utensils & Gadgets > Bar & Wine Tools',\n",
       " 'Pyrex Bakeware 4.8 Quart Oblong Baking Dish, Clear': 'Kitchen & Dining > Bakeware > Bakers & Casseroles',\n",
       " 'Zyliss Rotary Cheese Grater': 'Kitchen & Dining > Kitchen Utensils & Gadgets > Graters',\n",
       " 'Kuhn Rikon Clear Cookie Press': 'Kitchen & Dining > Bakeware > Baking Tools & Accessories',\n",
       " 'Kuhn Rikon Epicurean Garlic Press': 'Kitchen & Dining > Kitchen Utensils & Gadgets > Seasoning & Spice Tools',\n",
       " 'Essick Air 696-400 Variable Speed Whole House Humidifier': 'Heating > Cooling & Air Quality > Air Purifiers',\n",
       " 'Better Living The Ulti-Mate Dispenser Deluxe IV': 'Bath > Bathroom Accessories > Holders & Dispensers',\n",
       " 'Broan 676 110-CFM 4.0-Sones Ceiling Mount Ventilation Fan': 'Heating > Cooling & Air Quality > Space Heaters & Accessories',\n",
       " 'J.A. Henckels Premier Series Opus 45-Piece Stainless Steel Flatware Set, Service for 8': 'Kitchen & Dining > Dining & Entertaining > Flatware',\n",
       " 'Norpro Egg/Mushroom Slicer': 'Kitchen & Dining > Kitchen Utensils & Gadgets > Graters',\n",
       " 'Egg Slicer Wedger Piercer': 'Kitchen & Dining > Kitchen Utensils & Gadgets > Graters',\n",
       " 'Sanus Systems AFA Accurate Furniture Audio Stand - Black': 'Furniture > Home Entertainment Furniture > Audio-Video Shelving',\n",
       " 'OXO Good Grips 32180 Pepper Mill': 'Kitchen & Dining > Kitchen Utensils & Gadgets > Salt & Pepper',\n",
       " 'Tablecraft Products Mini Salt &amp; Pepper Shakers, Set of 6 salt &amp; pepper shakers (12 Total Shakers)': 'Kitchen & Dining > Kitchen Utensils & Gadgets > Salt & Pepper',\n",
       " 'TOMY Gearation Refrigerator Magnets Building Toy': 'Kitchen & Dining > Kitchen Utensils & Gadgets > Kitchen Accessories',\n",
       " 'Hoover S3639 WindTunnel Canister Vacuum Cleaner': 'Vacuums & Floor Care > Vacuums > Canister Vacuums',\n",
       " 'Hoover Type S Allergen Back (3-Pack), 4010100S': 'Vacuums & Floor Care > Vacuum Accessories > Bags',\n",
       " 'Norpro Silicone 3-Piece Egg/Pancake Ring Set': 'Kitchen & Dining > Kitchen Utensils & Gadgets > NA',\n",
       " 'Norpro Stainless Steel Scoop, 56MM (4 Tablespoon)': 'Kitchen & Dining > Kitchen Utensils & Gadgets > Specialty Tools & Gadgets',\n",
       " 'Norpro Large Garlic Baker': 'Kitchen & Dining > Kitchen Utensils & Gadgets > Seasoning & Spice Tools',\n",
       " 'Norpro 5-Inch Ceramic Garlic Keeper': 'Kitchen & Dining > Kitchen Utensils & Gadgets > Seasoning & Spice Tools',\n",
       " 'Norpro Chicken Timer': 'Kitchen & Dining > Kitchen Utensils & Gadgets > Thermometers & Timers',\n",
       " 'Norpro Nonstick Adjustable Roast Rack': 'Kitchen & Dining > Cookware > Roasting Pans',\n",
       " 'Norpro 370 Bread Slicer and Guide  with Crumb Catcher': 'Kitchen & Dining > Kitchen Utensils & Gadgets > Graters',\n",
       " 'Norpro Stainless Steel 4-3/4 Inch Funnel with Strainer': 'Kitchen & Dining > Kitchen Utensils & Gadgets > Colanders & Food Strainers',\n",
       " 'Norpro Cast Iron Bacon Grill Press': 'Kitchen & Dining > Kitchen Utensils & Gadgets > NA',\n",
       " 'Norpro Honey Syrup Dispenser': 'Kitchen & Dining > Kitchen Utensils & Gadgets > Specialty Tools & Gadgets',\n",
       " 'Norpro Stainless Steel Vertical Poultry Roaster': 'Kitchen & Dining > Small Appliances > Ovens & Toasters',\n",
       " 'Norpro Nonstick Bear Pancake/Egg Rings, Set of 2': 'Kitchen & Dining > Bakeware > Baking Tools & Accessories',\n",
       " 'Norpro Taco Press': 'Kitchen & Dining > Bakeware > Baking Tools & Accessories',\n",
       " 'Norpro Spaetzle Maker': 'Kitchen & Dining > Kitchen Utensils & Gadgets > Graters',\n",
       " 'Nordic Rainbow Spoon': 'Kitchen & Dining > Kitchen Utensils & Gadgets > Measuring Tools & Scales',\n",
       " 'Norpro Pasta Drying Rack': 'Kitchen & Dining > Kitchen Utensils & Gadgets > Pasta & Pizza Tools',\n",
       " 'Norpro Stainless Steel Scoop, 1 Tablespoon, 35mm': 'Kitchen & Dining > Kitchen Utensils & Gadgets > Specialty Tools & Gadgets',\n",
       " 'Norpro Nonstick Star and Flower Pancake Egg Rings, Set of 2': 'Kitchen & Dining > Bakeware > Baking Tools & Accessories',\n",
       " 'Norpro Professional Meat Tenderizer': 'Kitchen & Dining > Kitchen Utensils & Gadgets > Meat & Poultry Tools',\n",
       " 'Norpro 5 1/2-Inch Stainless Steel Funnel with Detachable Strainer': 'Kitchen & Dining > Kitchen Utensils & Gadgets > Colanders & Food Strainers',\n",
       " 'Norpro Stainless Steel Grip-EZ Meat Pounder': 'Kitchen & Dining > Kitchen Utensils & Gadgets > Meat & Poultry Tools',\n",
       " 'Norpro Nonstick Vertical Poultry Roaster': 'Kitchen & Dining > Cookware > Roasting Pans',\n",
       " 'Norpro Cast Aluminum Tortilla Press': 'Kitchen & Dining > NA > NA',\n",
       " 'Norpro Decorative Tea Infuser with Drip Cup': 'Kitchen & Dining > Coffee > Tea & Espresso',\n",
       " 'Norpro Large No Post Stainless Steel Vegetable Steamer': 'Kitchen & Dining > Cookware > Steamers',\n",
       " 'Norpro Egg Rite Egg Timer': 'Kitchen & Dining > Kitchen Utensils & Gadgets > Thermometers & Timers',\n",
       " 'Norpro Stainless Steel Vertical Roaster, With Infuser': 'Kitchen & Dining > Small Appliances > Ovens & Toasters',\n",
       " 'Norpro Multi Grater with Juicer': 'Kitchen & Dining > Kitchen Utensils & Gadgets > Graters',\n",
       " 'Norpro Stainless Steel Wide-Mouth Funnel': 'Kitchen & Dining > Kitchen Utensils & Gadgets > Specialty Tools & Gadgets',\n",
       " 'KitchenArt 25000  Auto Measure Spice Carousel without Spices, White': 'Kitchen & Dining > Kitchen Utensils & Gadgets > Seasoning & Spice Tools',\n",
       " 'Eureka 96 B Quick Up Upright Cordless Stick Vacuum': 'Vacuums & Floor Care > Vacuums > Stick Vacuums & Electric Brooms',\n",
       " 'Cuisinart CSB-33 QuikPrep Hand Blender, White': 'Kitchen & Dining > Small Appliances > Blenders',\n",
       " 'George Foreman GGR50B Indoor/Outdoor Grill': 'Kitchen & Dining > Small Appliances > Contact Grills',\n",
       " 'Nesco American Harvest FD-50 Snackmaster Pro 4-Tray Dehydrator': 'Kitchen & Dining > Small Appliances > Specialty Appliances',\n",
       " 'Nordic Ware 60120 Microwaver Popcorn Popper 12 Cup, White': 'Kitchen & Dining > Small Appliances > Specialty Appliances',\n",
       " 'Nesco LM-2-6 Clean-A-Screen Tray for FD-28JX/FD-37/FD-60/FD-61/FD-61WHC/FD-75A and FD-75PR, Set of 2': 'Kitchen & Dining > NA > NA',\n",
       " 'Nordic Ware 2 Piece Non-stick Formed Bundt Pan Set, 6 Cup &amp; 12 Cup Capacity, Colors may vary': 'Kitchen & Dining > Bakeware > Cake Pans',\n",
       " 'Nordic Ware MIcrowave Micro-Go-Round 10 Inch': 'Kitchen & Dining > Kitchen Utensils & Gadgets > Specialty Tools & Gadgets',\n",
       " 'Metalware Open Country Beef Jerky Works Kit': 'Kitchen & Dining > Small Appliances > Specialty Appliances',\n",
       " 'Nesco MS-2-6 Large Clean-a-Screen for FD-1010/FD-1018P/FD-1020 Dehydrators, Set of 2': 'Kitchen & Dining > Small Appliances > Specialty Appliances',\n",
       " 'Nordic Ware Microwave 2 Cavity Egg Poacher': 'Kitchen & Dining > Cookware > Specialty Cookware',\n",
       " 'Intermatic FD60MC 60-Minute Spring Loaded Wall Timer, Ivory': 'Kitchen & Dining > Kitchen Utensils & Gadgets > Thermometers & Timers',\n",
       " 'Nordic Ware 10 Inch by 8 Inch Microwave Compact Bacon Rack': 'Kitchen & Dining > Cookware > NA',\n",
       " 'Nordic Ware 65004 11-Inch Microwave Plate Cover': 'Kitchen & Dining > NA > NA',\n",
       " 'Nesco TR-2 Add-A-Tray for FD-1010/FD-1018P/FD-1020, Set of 2': 'Kitchen & Dining > Small Appliances > Specialty Appliances',\n",
       " 'Nesco SLD-2 Fruit Roll-Up Sheet for FD-1010/FD-10108P/FD-1020/FD-1040, Set of 2': 'Kitchen & Dining > Small Appliances > Specialty Appliances',\n",
       " 'NordicWare 15040 Cast Aluminum Stovetop Belgium Waffle Iron': 'Kitchen & Dining > Small Appliances > Waffle Irons',\n",
       " 'Nesco LT-2W Add-A-Tray for FD-60 Dehydrator, Set of 2': 'Kitchen & Dining > NA > NA',\n",
       " 'Nesco LSS-2-6 Fruit Roll Sheets for FD-28JX/FD-37/FD-60/FD-61/FD-61WHC/FD75A and FD-75PR, Set of 2': 'Kitchen & Dining > Small Appliances > Specialty Appliances',\n",
       " 'Lasko Products 20&quot; Wind Machine 3-Speed': 'Heating > Cooling & Air Quality > Household Fans',\n",
       " 'Oneida Colonial Boston 20-Piece Stainless-Steel Flatware Set, Service for 4': 'Kitchen & Dining > Dining & Entertaining > Flatware',\n",
       " 'Oggi Servmaster Thermal Gravy and Sauce Server with Stainless Steel Liner': 'Kitchen & Dining > Dining & Entertaining > Serveware',\n",
       " 'DMT W6FP 6-Inch Diamond Whetstone Sharpener - Fine With Plastic Box': 'Kitchen & Dining > Kitchen Knives & Cutlery Accessories > Knife Sharpeners',\n",
       " 'DMT Crystal Saver- Diamond File': 'Kitchen & Dining > Kitchen Knives & Cutlery Accessories > Knife Sharpeners',\n",
       " 'DMT W6EP 6-Inch Diamond Whetstone Sharpener - Extra-Fine With Plastic Box': 'Kitchen & Dining > Kitchen Knives & Cutlery Accessories > Knife Sharpeners',\n",
       " 'DMT FSKF Diafold Serrated Knife Sharpener - Fine': 'Kitchen & Dining > Kitchen Knives & Cutlery Accessories > Knife Sharpeners',\n",
       " 'LamsonSharp 3&quot; x 6&quot; Chef?s Slotted Turner, right-hand': 'Kitchen & Dining > Kitchen Utensils & Gadgets > Cooking Utensils',\n",
       " 'LamsonSharp Stainless Steel Pizza Rocker Knife': 'Kitchen & Dining > Kitchen Utensils & Gadgets > Pasta & Pizza Tools',\n",
       " 'Wilton Halloween Comfort Grip Ghost Cutter': 'Kitchen & Dining > Bakeware > Baking Tools & Accessories',\n",
       " 'Thermos 14-Ounce Insulated Travel Mug, Stainless Steel': 'Kitchen & Dining > NA > NA',\n",
       " 'Cuisinart DLC-2014N PowerPrep Plus 14-Cup Capacity Food Processor, White': 'Kitchen & Dining > Small Appliances > Food Processors',\n",
       " 'Cuisinart DLC-2011BKN Prep 11 Plus 11-Cup Food Processor, Black': 'Kitchen & Dining > Small Appliances > Food Processors',\n",
       " 'Cuisinart CPT-35 Heat Surround Electronic Toaster, White': 'Kitchen & Dining > Small Appliances > Ovens & Toasters',\n",
       " 'Cuisinart BFP-703CH SmartPower Duet Blender and Food Processor, Chrome': 'Kitchen & Dining > Small Appliances > Blenders',\n",
       " 'Cuisinart DLC-2011N Prep Plus 11-Cup Food Processor, White': 'Kitchen & Dining > Small Appliances > Food Processors',\n",
       " 'Cuisinart CEK-40 Electric Knife': 'Kitchen & Dining > Small Appliances > Specialty Appliances',\n",
       " 'Cuisinart DLC-2011BCN Prep 11 Plus 11-Cup Food Processor, Brushed Chrome': 'Kitchen & Dining > Small Appliances > Food Processors',\n",
       " 'Calphalon 4-Piece Nylon Utensil Set': 'Kitchen & Dining > Kitchen Utensils & Gadgets > Tool & Gadget Sets',\n",
       " \"Calphalon Commercial Hard-Anodized 7-Quart Chef's Casserole with Lid\": 'Kitchen & Dining > Bakeware > Bakers & Casseroles',\n",
       " 'Calphalon D87821/2P Commercial Hard-Anodized 2-1/2-Quart Shallow Saucepan with Lid': 'Kitchen & Dining > Cookware > Saucepans',\n",
       " \"Calphalon Commercial Nonstick Collector's Edition 9-Inch Chef's Skillet with Lid\": 'Kitchen & Dining > Cookware > Skillets',\n",
       " 'Calphalon Small Nonstick Roast Rack': 'Kitchen & Dining > Cookware > Roasting Pans',\n",
       " \"Calphalon Commercial Hard-Anodized 9-Inch, 2-Quart Chef's Skillet with Lid\": 'Kitchen & Dining > Cookware > Skillets',\n",
       " 'Zwilling J.A. Henckels Twin Pro-S 18-Piece Knife Set with Block': 'Kitchen & Dining > Kitchen Knives & Cutlery Accessories > Cutlery Sets',\n",
       " 'Zwilling J.A. Henckels Twin Pro S 10-Inch High Carbon Stainless-Steel Granton Edge Slicer': 'Kitchen & Dining > Kitchen Knives & Cutlery Accessories > Carving Knives & Forks',\n",
       " 'Hamilton Beach 38500 Step Savor Skillet/Griddle Combination': 'Kitchen & Dining > Small Appliances > Electric Skillets',\n",
       " 'Proctor-Silex 25400 Meal Maker Sandwich Toaster': 'Kitchen & Dining > Small Appliances > Specialty Appliances',\n",
       " 'Hamilton Beach 70550RL PrepStar Food Processor with Bonus Chill Lid': 'Kitchen & Dining > Small Appliances > Food Processors',\n",
       " 'Proctor-Silex 26500Y Durable Belgian Waffle Baker': 'Kitchen & Dining > Small Appliances > Waffle Irons',\n",
       " 'Hamilton Beach 26200 Restaurant Style Belgian Waffle Baker': 'Kitchen & Dining > Small Appliances > Waffle Irons',\n",
       " 'Hamilton Beach 62695V Power Deluxe Hand Mixer': 'Kitchen & Dining > Small Appliances > Mixers',\n",
       " 'Hamilton Beach 727W Classic DrinkMaster Drink Mixer, White': 'Kitchen & Dining > Small Appliances > Mixers',\n",
       " \"Hamilton Beach 74250 Carve 'n Set Electric Knife with Case, White\": 'Kitchen & Dining > Small Appliances > Specialty Appliances',\n",
       " 'Taylor Oven Guide Thermometer': 'Kitchen & Dining > Kitchen Utensils & Gadgets > Thermometers & Timers',\n",
       " 'Taylor Classic Cappuccino Frothing Dial Thermometer': 'Kitchen & Dining > Kitchen Utensils & Gadgets > Thermometers & Timers',\n",
       " 'Taylor Classic Design Freezer/Refrigerator Utility Thermometer': 'Kitchen & Dining > Kitchen Utensils & Gadgets > Thermometers & Timers',\n",
       " 'InterDesign Gia Suction Sink Center, Polished Stainless Steel': 'Kitchen & Dining > Storage & Organization > Dish Racks',\n",
       " 'Jokari Fizz-Keeper Pump Cap': 'Kitchen & Dining > Kitchen Utensils & Gadgets > Bar & Wine Tools',\n",
       " 'Taylor 5939N Classic Style Meat Dial Thermometer': 'Kitchen & Dining > Kitchen Utensils & Gadgets > Thermometers & Timers',\n",
       " 'Taylor Professional Freezer-Refrigerator Thermometer with 3-Inch Dial': 'Kitchen & Dining > Kitchen Utensils & Gadgets > Thermometers & Timers',\n",
       " 'Taylor 9840 Digital Instant Read Pocket Thermometer': 'Kitchen & Dining > Kitchen Utensils & Gadgets > Thermometers & Timers',\n",
       " 'Gia Suction Soap/Sponge Holder, Polished Stainless Steel': 'NA > NA > NA',\n",
       " 'interDesign Classico Chrome-Plated Wall-Mount Paper Towel Holder': 'Kitchen & Dining > Storage & Organization > Paper Towel Holders',\n",
       " 'interDesign Saddlebag Flatware Organizer and Sponge Holder': 'Kitchen & Dining > Storage & Organization > Dish Racks',\n",
       " 'Taylor Candy and Deep Fry Stainless Steel Thermometer': 'Kitchen & Dining > Kitchen Utensils & Gadgets > Thermometers & Timers',\n",
       " 'Taylor Classic Roast/Yeast Thermometer': 'Kitchen & Dining > Kitchen Utensils & Gadgets > Thermometers & Timers',\n",
       " 'Taylor 5989N Classic Instant Read Pocket Thermometer': 'Kitchen & Dining > Kitchen Utensils & Gadgets > Thermometers & Timers',\n",
       " 'Taylor Professional Oven Dial Thermometer': 'Kitchen & Dining > Kitchen Utensils & Gadgets > Thermometers & Timers',\n",
       " 'Cuisinart DLC-2A Mini-Prep Plus Food Processor, White': 'Kitchen & Dining > Small Appliances > Food Processors',\n",
       " 'Tilia FoodSaver Vac 550 Kit Vacuum Sealing System': 'Kitchen & Dining > Small Appliances > Specialty Appliances',\n",
       " 'FoodSaver Vac 1050 Vacuum-Sealing Kit, White': 'Kitchen & Dining > Small Appliances > Specialty Appliances',\n",
       " 'FoodSaver 1-Gallon Size Bags, 32 Bags': 'Kitchen & Dining > Storage & Organization > Food Savers',\n",
       " 'FoodSaver Continuous Roll Bag Material, 11 Inch by 16 Feet (Box of 2 Rolls)': 'Kitchen & Dining > Storage & Organization > Food Savers',\n",
       " 'FoodSaver 1 Quart Size Bag, Package of 48': 'Kitchen & Dining > Storage & Organization > Food Savers',\n",
       " 'FoodSaver Vac 300 Vacuum-Sealing Kit, White': 'Kitchen & Dining > Small Appliances > Specialty Appliances',\n",
       " 'FoodSaver FSFSBF0526-P00 8-Inch Roll Two-pack, 20 Feet Long': 'Kitchen & Dining > Storage & Organization > Food Savers',\n",
       " 'FoodSaver 13 Gallon-sized Bags': 'Kitchen & Dining > Storage & Organization > Food Savers',\n",
       " 'Le Creuset Stoneware 1-1/2-Quart 9-Inch Square Baking Dish, Cherry': 'Kitchen & Dining > Bakeware > Bakers & Casseroles',\n",
       " 'Fox Run Gingerbread House Cookie Cutter Bake Set': 'Kitchen & Dining > Bakeware > Baking Tools & Accessories',\n",
       " 'Wilton Christmas Tree Comfort Grip Stainless Steel Cookie Cutter': 'Kitchen & Dining > Bakeware > Baking Tools & Accessories',\n",
       " 'NA': 'RV Parts & Accessories > Furnishings > Bath',\n",
       " 'Peugeot 11765 Bresil 8.75 Inch Coffee Mill, Walnut': 'Kitchen & Dining > Kitchen Utensils & Gadgets > Seasoning & Spice Tools',\n",
       " 'Wilton Snowman Comfort Grip Stainless Steel Cookie Cutter': 'Kitchen & Dining > Bakeware > Baking Tools & Accessories',\n",
       " 'Alessi Michael Graves Kettle with Bird Whistle, Blue Handle': 'Kitchen & Dining > Cookware > Teakettles',\n",
       " 'Wilton Cross Pan': 'Kitchen & Dining > Bakeware > Cake Pans',\n",
       " 'Fiesta 4-pc. Place Setting, White.': 'Kitchen & Dining > Dining & Entertaining > Dinnerware Sets',\n",
       " 'Fiesta 9-Inch, 13-1/4-Ounce Rim Soup Bowl, White': 'Kitchen & Dining > Dining & Entertaining > Bowls',\n",
       " 'Fiesta 64-Ounce Pedestal Bowl, Black': 'Kitchen & Dining > Dining & Entertaining > Serveware',\n",
       " 'Fiesta 4-Piece Place Setting, White': 'Kitchen & Dining > Dining & Entertaining > Dinnerware Sets',\n",
       " 'Fiesta 11-3/4-Inch Chop Plate, White': 'Kitchen & Dining > Dining & Entertaining > Serveware',\n",
       " 'Fiesta 10-1/2-Inch Dinner Plate, Cobalt': 'Kitchen & Dining > Dining & Entertaining > Plates',\n",
       " 'Fiesta 4-Piece Place Setting, Cobalt': 'Kitchen & Dining > Dining & Entertaining > Dinnerware Sets',\n",
       " 'Fiesta 70-Ounce Covered Casserole, White': 'Kitchen & Dining > Dining & Entertaining > Cups',\n",
       " 'Fiesta 14-1/4-Ounce Small Bowl, White': 'Kitchen & Dining > Dining & Entertaining > Serveware',\n",
       " 'Fiesta 2-Piece Covered Butter, Cobalt': 'Kitchen & Dining > Dining & Entertaining > Serveware',\n",
       " 'William Bounds Key Mill &quot;WB-1&quot; Pepper Mill': 'Kitchen & Dining > Kitchen Utensils & Gadgets > Salt & Pepper',\n",
       " 'Acrylic Beehive Honey Jar with Server': 'Kitchen & Dining > Kitchen Utensils & Gadgets > Specialty Tools & Gadgets',\n",
       " 'Clear Acrylic Recipe Box with 3&quot; x 5&quot; Index Cards': 'Kitchen & Dining > Kitchen Utensils & Gadgets > Kitchen Accessories',\n",
       " 'William Bounds Stainless-Steel Tapered Pepper Mill': 'Kitchen & Dining > Kitchen Utensils & Gadgets > Salt & Pepper',\n",
       " 'US Acrylic Sweet &amp; Low Holder': 'Kitchen & Dining > Dining & Entertaining > Serveware',\n",
       " 'Clear Acrylic 3-Tier Cabinet Organizer': 'Kitchen & Dining > Storage & Organization > Cabinet Organizers',\n",
       " 'Leifheit Pro Line Stainless Steel Egg Slicer': 'Kitchen & Dining > Kitchen Utensils & Gadgets > Graters',\n",
       " 'Cuisinart TOB-165 Convection Toaster Oven and Broiler, White': 'Kitchen & Dining > Small Appliances > Ovens & Toasters',\n",
       " 'Cuisinart TOB-175 Convection Toaster Oven/Broiler, Chrome': 'Kitchen & Dining > Small Appliances > Ovens & Toasters',\n",
       " 'Cuisinart 7-Cup Capacity Food Processor, White': 'Kitchen & Dining > Small Appliances > Food Processors',\n",
       " '12 Inch Lazy Susan': 'Kitchen & Dining > Storage & Organization > Lazy Susans',\n",
       " 'Hamilton Beach 52254 12-Speed Blender with Food Processor Attachment': 'Kitchen & Dining > Small Appliances > Blenders',\n",
       " 'Best Manufacturers 11-Inch Masher with Metal Handle': 'Kitchen & Dining > Kitchen Utensils & Gadgets > Fruit & Vegetable Tools',\n",
       " 'WMF Satin Steel and Glass Syrup/Honey Dispenser': 'Kitchen & Dining > Dining & Entertaining > Serveware',\n",
       " 'Whirley Pop Real Theater Popcorn with 6-Quart Stovetop Popcorn Popper': 'Kitchen & Dining > Small Appliances > Specialty Appliances',\n",
       " 'Shur-line 06020 Lid Opener': 'Kitchen & Dining > Kitchen Utensils & Gadgets > Can Openers',\n",
       " \"L'Equip 306200 500-Watt 6-Tray Food Dehydrator, Gray\": 'Kitchen & Dining > Small Appliances > Specialty Appliances',\n",
       " 'Luigi Bormioli Set of 4 Michelangelo Masterpiece 14.5-Oz. Beverage Glasses': 'Kitchen & Dining > Dining & Entertaining > Glassware & Drinkware',\n",
       " 'Luigi Bormioli Set of 4 Michelangelo Masterpiece Wine Glasses, 11.5-Oz.': 'Kitchen & Dining > Dining & Entertaining > Glassware & Drinkware',\n",
       " 'Luigi Bormioli Set of 4 Michelangelo Masterpiece 12-Oz. Double Old Fashioned Glasses': 'Kitchen & Dining > Dining & Entertaining > Glassware & Drinkware',\n",
       " 'Libbey Gibraltar 12-Ounce Rocks Glass , Box of 12, Clear': 'Kitchen & Dining > Dining & Entertaining > Glassware & Drinkware',\n",
       " 'Libbey 16-Piece Colbalt Flare Glassware Set': 'Kitchen & Dining > Dining & Entertaining > Glassware & Drinkware',\n",
       " 'Pioneer Bi-Directional Memo Pocket Album, Hunter Green': 'NA > NA > NA',\n",
       " 'Crisa Impressions 16 piece beverage set, item 1786426, clear': 'Kitchen & Dining > Dining & Entertaining > Glassware & Drinkware',\n",
       " 'Amco Swing-A-Way 709BK Comfort Grip Can Opener, Black': 'Kitchen & Dining > Kitchen Utensils & Gadgets > Can Openers',\n",
       " 'Swing Away Wall Can Opener': 'Kitchen & Dining > Kitchen Utensils & Gadgets > Can Openers',\n",
       " 'Bormioli Rocco Quattro Stagioni 8 1/2 Ounce Canning Jar, Set of 12': 'Kitchen & Dining > Cookware > Canning',\n",
       " 'Hoover Allergen Final Filter (2-Pack), 40110004': 'Vacuums & Floor Care > Vacuum Accessories > Filters',\n",
       " 'Hoover U5750-900 Windtunnel Upright Vacuum Cleaner': 'Vacuums & Floor Care > Vacuums > Upright Vacuums',\n",
       " 'Hoover Type A Upright Vacuum Cleaner Replacement Bags, Package of 10': 'Vacuums & Floor Care > Vacuum Accessories > Bags',\n",
       " 'Hoover High Efficiency Final Filter, 40110001': 'Vacuums & Floor Care > Vacuum Accessories > Filters',\n",
       " 'Browne Foodservice 407 Swing a Way Portable Manual Can Opener 7-Inch': 'Kitchen & Dining > Kitchen Utensils & Gadgets > Can Openers',\n",
       " 'KitchenAid KFP350 5-Cup Little Ultra Power Food Processor, Empire Red': 'Kitchen & Dining > Small Appliances > Food Processors',\n",
       " 'Hamilton Beach 04163 TrueAir HEPA Air Purifier with UV Germicidal Light': 'Heating > Cooling & Air Quality > Air Purifiers',\n",
       " 'Honeywell 17400 Enviracare QuietCare HEPA Air Cleaner': 'Heating > Cooling & Air Quality > Air Purifiers',\n",
       " 'Hamilton Beach 04913 TrueAir HEPA Replacement Filter for 04162 and 04163 Air Cleaners': 'Heating > Cooling & Air Quality > Air Purifiers',\n",
       " 'Hamilton Beach 05521 TrueAir 3.5 Gal. Cool Mist Humidifier': 'Heating > Cooling & Air Quality > Humidifiers & Accessories',\n",
       " 'Vornado 610W Performer Air Circulator': 'Heating > Cooling & Air Quality > Household Fans',\n",
       " 'Vornado 510W Compact Air Circulator': 'Heating > Cooling & Air Quality > Household Fans',\n",
       " 'Honeywell Long-Life Pure HEPA QuietCare Air Purifier, 17000': 'Heating > Cooling & Air Quality > Air Purifiers',\n",
       " 'Hamilton Beach 04923 TrueAir Replacement Carbon Filters for 04162, 04163 &amp; 04152 Air Cleaners, 3-Pack': 'Heating > Cooling & Air Quality > Air Purifiers',\n",
       " 'Honeywell HWM2030 3-Gallon Warm Moisture Humidifier': 'Heating > Cooling & Air Quality > Humidifiers & Accessories',\n",
       " 'Nordic Ware 13 Inch Crispy Dry Splatter Cover': 'Kitchen & Dining > Cookware > All Pans',\n",
       " 'Nordic Ware Universal 8 Cup Double Boiler Fits 2 to 4 Quart Sauce Pans': 'Kitchen & Dining > Cookware > Double Boilers',\n",
       " 'KitchenAid KT2651X Epicurean 475 Watt 6-Quart Stand Mixer, Cobalt Blue': 'Kitchen & Dining > Small Appliances > Mixers',\n",
       " 'Granite Ware 509-2 18-Inch Covered Oval Roaster': 'Kitchen & Dining > Cookware > Roasting Pans',\n",
       " 'Vornado HU1-0012-11 Standard 2.8 Gallon Vortex Humidifier': 'Heating > Cooling & Air Quality > Humidifiers & Accessories',\n",
       " 'T-Fal 1824 Avantis Iron': 'Irons & Steamers > Irons > Automatic Turnoff Irons',\n",
       " 'Granite Ware 0511-3 Covered Rectangular Roaster 21.25 by 14 by 8.5-Inch': 'Kitchen & Dining > Cookware > Roasting Pans',\n",
       " 'Lodge Striped Hot Handle Holders/Mitts, Set of 2': 'Kitchen & Dining > Kitchen & Table Linens > Potholders & Oven Mitts',\n",
       " 'Eureka 4870 Ultra Smart Vac Upright Vacuum Cleaner with True HEPA Filter': 'Vacuums & Floor Care > Vacuums > Upright Vacuums',\n",
       " 'Vornado HU1-0013-11 Standard 4-Gallon Vortex Humidifier': 'Heating > Cooling & Air Quality > Humidifiers & Accessories',\n",
       " 'Granite Ware 6137-2 8-Quart Stock Pot': 'Kitchen & Dining > Cookware > Stockpots',\n",
       " 'Waring Pro JEX328 Health Juice Extractor': 'Kitchen & Dining > Small Appliances > Juicers',\n",
       " 'Rowenta DM-273 Powerglide 2 Iron with Auto-Off Feature': 'Irons & Steamers > Irons > Automatic Turnoff Irons',\n",
       " 'Honeywell 21500 Enviracaire True HEPA Filter': 'Heating > Cooling & Air Quality > Air Purifiers',\n",
       " 'Dirt Devil Type G Handheld Vacuum Bags (3-Pack), 3010347001': 'Vacuums & Floor Care > Vacuum Accessories > Bags',\n",
       " 'Honeywell C-6005, 38002 Enviracare Universal Replacement Pre-Filter': 'Heating > Cooling & Air Quality > Air Purifiers',\n",
       " 'Dirt Devil Type U Microfresh Vacuum Bags (3-Pack), 3920750001': 'Vacuums & Floor Care > Vacuum Accessories > Bags',\n",
       " 'Dirt Devil Style 1 Vacuum Belt (2-Pack), 3157260001': 'Vacuums & Floor Care > Vacuum Accessories > Belts',\n",
       " 'Enviracaire 20500 HEPA Filter Fits 10500, 17000': 'Heating > Cooling & Air Quality > Air Purifiers',\n",
       " 'Dirt Devil Ultra Corded Bagged Handheld Vacuum, M08230RED': 'Vacuums & Floor Care > Vacuums > Handheld Vacuums',\n",
       " 'Fiesta 18-1/2-Ounce Sauceboat, Cobalt': 'Kitchen & Dining > Dining & Entertaining > Serveware',\n",
       " 'Pfaltzgraff Winterberry Sugar and Creamer Set': 'Kitchen & Dining > Dining & Entertaining > Serveware',\n",
       " 'Pfaltzgraff Winterberry 14-Inch Stoneware Serving Platter': 'Kitchen & Dining > Dining & Entertaining > Serveware',\n",
       " 'Pfaltzgraff Naturewood 16-Piece Stoneware Dinnerware Set, Service for 4': 'Kitchen & Dining > Dining & Entertaining > Dinnerware Sets',\n",
       " 'Racor PSM-1R Pro Stor Multi-Use Storage Bracket': 'Storage & Organization > Home Storage Hooks > Utility Hooks',\n",
       " 'Kleenex Pocket Pack White Tissue': 'Bath > Bathroom Accessories > Holders & Dispensers',\n",
       " 'Vacu Vin Vacuum Instant Marinater': 'Kitchen & Dining > Kitchen Utensils & Gadgets > Meat & Poultry Tools',\n",
       " 'J.A. Henckels 10-Inch Diamond Sharpening Steel': 'Kitchen & Dining > Kitchen Knives & Cutlery Accessories > Knife Sharpeners',\n",
       " 'Factory-Reconditioned Cuisinart ICE-20FR Automatic Frozen Yogurt-Ice Cream &amp; Sorbet Maker, White': 'Kitchen & Dining > Small Appliances > Ice Cream Machines',\n",
       " 'Ronco Inventions ST4000 Showtime Indoor Rotisserie and BBQ': 'Kitchen & Dining > Small Appliances > Ovens & Toasters',\n",
       " 'Vicks V3500N Cool Mist Humidifier 1.1 Gallon': 'Heating > Cooling & Air Quality > Humidifiers & Accessories',\n",
       " 'Fiesta 67-1/4-Ounce Large Disk Pitcher, Black': 'Kitchen & Dining > Dining & Entertaining > Serveware',\n",
       " 'Factory-Reconditioned Ronco Inventions ST4000R Showtime Indoor Rotisserie and Barbecue': 'Kitchen & Dining > Small Appliances > Ovens & Toasters',\n",
       " 'Factory-Reconditioned Cuisinart CPT-65FR Custom Control Total Touch 4-Slice Electronic Toaster, White': 'Kitchen & Dining > Small Appliances > Ovens & Toasters',\n",
       " 'Factory-Reconditioned Cuisinart CPT-70FR Toaster': 'Kitchen & Dining > Small Appliances > Ovens & Toasters',\n",
       " 'George Foreman GR10ABWI Champ Grill with Bun Warmer, Indigo': 'Kitchen & Dining > Small Appliances > Contact Grills',\n",
       " 'George Foreman GR10ABW Champ Grill with Bun Warmer, White': 'Kitchen & Dining > Small Appliances > Contact Grills',\n",
       " 'Farberware Classic Stainless Steel 1-Quart Covered Saucepan': 'Kitchen & Dining > Cookware > Saucepans',\n",
       " 'Farberware Classic Stainless Steel Covered Stockpot, 6-Quart': 'Kitchen & Dining > Cookware > Stockpots',\n",
       " 'Farberware Classic Stainless Steel 13-Piece Cookware Set': 'Kitchen & Dining > Cookware > Cookware Sets',\n",
       " 'Farberware Classic 2-Quart Saucepan with Lid': 'Kitchen & Dining > Cookware > Saucepans',\n",
       " 'Farberware Classic Stainless Steel 12-Inch Covered Fry Pan with Helper Handle': 'Kitchen & Dining > Cookware > Skillets',\n",
       " 'Farberware Classic 10&quot; Covered Frypan': 'Kitchen & Dining > Cookware > NA',\n",
       " 'Farberware Classic Stainless Steel Covered Stockpot, 8-Quart': 'Kitchen & Dining > Cookware > Stockpots',\n",
       " 'Ronco Food Dehydrator, Yogurt Maker and Beef Jerky Machine': 'Kitchen & Dining > Small Appliances > Specialty Appliances',\n",
       " 'Le Creuset Enameled Cast-Iron 5-Quart Buffet Casserole, Cobalt': 'Kitchen & Dining > Bakeware > Bakers & Casseroles',\n",
       " 'Krups 199-4G Aroma Control 10-Cup Programmable Thermal Coffee Maker, Black': 'Kitchen & Dining > Coffee > Tea & Espresso',\n",
       " 'Capresso 201.01 FrothXpress Automatic Milk Frother, Black': 'Kitchen & Dining > Small Appliance Parts & Accessories > Coffee & Espresso Machine Parts & Accessories',\n",
       " 'Hamilton Beach 04255 TrueAir Plug-Mount Odor Eliminator with Two Bonus Filters': 'Heating > Cooling & Air Quality > Air Purifiers',\n",
       " 'Capresso 3011.01 4-Cup Glass Replacement Carafe with Lid for Mini Espresso Machine': 'Kitchen & Dining > Small Appliance Parts & Accessories > Coffee & Espresso Machine Parts & Accessories',\n",
       " 'All-Clad 6000-7 SS Copper Core 5-Ply Bonded Dishwasher Safe 7-Piece Cookware Set, Silver': 'Kitchen & Dining > Bakeware > Bakers & Casseroles',\n",
       " 'All-Clad 6201.5 SS Copper Core 5-Ply Bonded Dishwasher Safe 1.5-Quart Saucepan Cookware, Silver': 'Kitchen & Dining > Cookware > Saucepans',\n",
       " 'All-Clad Stainless 1-1/2-Quart Windsor Pan': 'Kitchen & Dining > Cookware > Saucepans',\n",
       " 'All-Clad Stainless 7 1/2 Inch Fry Pan': 'Kitchen & Dining > Cookware > Skillets',\n",
       " 'All-Clad 5000-9 Stainless 9-Piece Cookware Set': 'Kitchen & Dining > Bakeware > Bakers & Casseroles',\n",
       " 'All-Clad Stainless 3-Quart Saucier Pan': 'Kitchen & Dining > Cookware > Sauciers',\n",
       " 'All-Clad 7112 Master Chef 2 Stainless Steel Tri-Ply Bonded 12-Inch Fry Pan Cookware, Silver': 'Kitchen & Dining > Cookware > Skillets',\n",
       " 'All-Clad Stainless 2-Quart Saucier Pan': 'Kitchen & Dining > Cookware > Sauciers',\n",
       " 'All-Clad 5708-ST Stainless Steel Professional Steamer Insert / Cookware, Silver': 'Kitchen & Dining > Cookware > Steamers',\n",
       " 'All-Clad Stainless 1-Quart Saucepan': 'Kitchen & Dining > Cookware > Saucepans',\n",
       " 'All-Clad Stainless 4-Quart Casserole Pan': 'Kitchen & Dining > Bakeware > Bakers & Casseroles',\n",
       " 'All-Clad T108 Stainless Steel 13-Inch Skimmer Kitchen Tool, Silver': 'Kitchen & Dining > Kitchen Utensils & Gadgets > Cooking Utensils',\n",
       " 'All-Clad 7201 Master Chef 2 Stainless Steel Tri-Ply Bonded 1-Quart Saucepan with Lid Cookware, Silver': 'Kitchen & Dining > Cookware > Saucepans',\n",
       " 'All-Clad Stainless 12-Inch Fry Pan Lid': 'Kitchen & Dining > Cookware > Lids',\n",
       " 'All-Clad 3016 RACK Nonstick  14 by 12.25-Inch Roasting Rack, Black': 'Kitchen & Dining > Cookware > Specialty Cookware',\n",
       " 'All-Clad 5605C Stainless Steel Dishwasher Safe  5-Quart Colander Kitchen Accessorie , Silver': 'Kitchen & Dining > Kitchen Utensils & Gadgets > Colanders & Food Strainers',\n",
       " 'All-Clad 7108 NS R2 Master Chef 2 Stainless Steel Tri-Ply Bonded 8-Inch PFOA Free Nonstick Fry Pan Cookware, Silver': 'Kitchen & Dining > Cookware > Skillets',\n",
       " 'All-Clad T106 Stainless Steel 13-Inch Small Turner Kitchen Tool, Silver': 'Kitchen & Dining > Kitchen Utensils & Gadgets > Cooking Utensils',\n",
       " 'All-Clad Stainless 7-Quart Stockpot with Pasta Insert': 'Kitchen & Dining > Cookware > Stockpots',\n",
       " 'All-Clad T105 Stainless Steel 11.5-Inch Pasta Ladle Kitchen Tool, Silver': 'Kitchen & Dining > Kitchen Utensils & Gadgets > Cooking Utensils',\n",
       " 'All-Clad T101 Stainless Steel 13-Inch Slotted Spoon Kitchen Tool, Silver': 'Kitchen & Dining > Kitchen Utensils & Gadgets > Cooking Utensils',\n",
       " 'All-Clad Stainless 8-Quart Stockpot': 'Kitchen & Dining > Cookware > Stockpots',\n",
       " 'All-Clad Stainless 6-Quart Stockpot': 'Kitchen & Dining > Cookware > Stockpots',\n",
       " 'All-Clad Stainless 10-Inch Fry Pan': 'Kitchen & Dining > Cookware > Woks & Stir-Fry Pans',\n",
       " 'All-Clad Stainless 8-Inch Nonstick Fry Pan': 'Kitchen & Dining > Cookware > Woks & Stir-Fry Pans',\n",
       " 'All-Clad T109 Stainless Steel  14.5-Inch Large Soup Ladle Kitchen Tool, Silver': 'Kitchen & Dining > Kitchen Utensils & Gadgets > Cooking Utensils',\n",
       " 'All-Clad Stainless Hanging Tool Rack': 'Kitchen & Dining > Cookware > Pot Racks',\n",
       " 'All-Clad Stainless 3-Quart Double-Boiler Insert': 'Kitchen & Dining > Cookware > Double Boilers',\n",
       " 'All-Clad 3020 Hard Anodized Aluminum Nonstick 13 by 20-Inch Double Burner Grande Griddle Specialty Cookware, Black': 'Kitchen & Dining > Cookware > Grill Pans',\n",
       " 'All-Clad 6211 SS Copper Core 5-Ply Bonded Dishwasher Safe 1-Quart Saucier Pan without Lid / Cookware, Silver': 'Kitchen & Dining > Cookware > Sauciers',\n",
       " 'All-Clad Stainless 4-Quart Saucepan with Loop': 'Kitchen & Dining > Cookware > Saucepans',\n",
       " 'Emeril Nonstick 10-Inch Fry Pan': 'Kitchen & Dining > Cookware > Skillets',\n",
       " 'All-Clad 3011 Hard Anodized Dishwasher Safe 11-Inch Sqaure Grille Cookware, Black': 'Kitchen & Dining > Cookware > Skillets',\n",
       " 'All-Clad T112 Stainless Steel 12-Inch Locking Tongs Kitchen Tool, Silver': 'Kitchen & Dining > Kitchen Utensils & Gadgets > Cooking Utensils',\n",
       " 'All-Clad Stainless Steamer Insert': 'Kitchen & Dining > Cookware > Steamers',\n",
       " 'All-Clad 3012 Hard Anodized Aluminum Nonstick 12-Inch Round Grille Pan Specialty Cookware, Black': 'Kitchen & Dining > Cookware > Skillets',\n",
       " 'All-Clad MBSET Stainless Steel Dishwasher Safe Mixing Bowls / Set of 3 Kitchen Accessorie , Silver': 'Kitchen & Dining > Kitchen Utensils & Gadgets > Fruit & Vegetable Tools',\n",
       " 'All-Clad Stainless 1-Quart Saucier Pan': 'Kitchen & Dining > Cookware > Sauciers',\n",
       " 'All-Clad T136 Stainless Steel 14.5-Inch Whisk / Kitchen Tool, Silver': 'Kitchen & Dining > Kitchen Utensils & Gadgets > Cooking Utensils',\n",
       " 'Chicago Cutlery Walnut Forged 9-Piece Knife Block Set': 'Kitchen & Dining > Kitchen Knives & Cutlery Accessories > Cutlery Sets',\n",
       " 'Chicago Cutlery Walnut Tradition 10-Piece Knife Set with Block': 'Kitchen & Dining > Kitchen Knives & Cutlery Accessories > Cutlery Sets',\n",
       " 'Chicago Cutlery Walnut Tradition Kitchen Scissors, Brown': 'Kitchen & Dining > Kitchen Knives & Cutlery Accessories > Shears',\n",
       " 'All-Clad 3013 Hard Anodized Aluminum Nonstick 13 by 20-Inch Double Burner Grande Grille Pan Specialty Cookware, Black': 'Kitchen & Dining > Cookware > Grill Pans',\n",
       " 'Maverick Redi-Check Pro LCD Food Probe Thermometer': 'Kitchen & Dining > Kitchen Utensils & Gadgets > Thermometers & Timers',\n",
       " 'All-Clad 3021 Hard Anodized Aluminum Nonstick 11-Inch Square Griddle Specialty Cookware, Black': 'Kitchen & Dining > Cookware > Griddles',\n",
       " 'All-Clad TSET1 Stainless Steel 6 Piece Kitchen Tool Set Caddy Included, Silver': 'Kitchen & Dining > Dining & Entertaining > Flatware',\n",
       " 'Emeril Nonstick 10-Piece Cookware Set': 'Kitchen & Dining > Cookware > Cookware Sets',\n",
       " 'Krups 229-45 Aroma Control 10-Cup Coffeemaker with Thermal Carafe, Black and Stainless Steel': 'Kitchen & Dining > Coffee > Tea & Espresso',\n",
       " 'KRUPS KM1000 Prelude Coffee Maker with LCD Analog-Style Clock, 10-cup, Silver': 'Kitchen & Dining > Coffee > Tea & Espresso',\n",
       " 'Vacu Vin Wine Saver Extra Stoppers, Set of 4': 'Kitchen & Dining > Kitchen Utensils & Gadgets > Bar & Wine Tools',\n",
       " 'Vacu Vin Pineapple Easy Slicer, set of 3 blade sizes.': 'Kitchen & Dining > Kitchen Utensils & Gadgets > Graters',\n",
       " \"Calphalon Professional Hard-Anodized Collector's Edition 3-1/2-Quart Saucepot with Lid\": 'Kitchen & Dining > Cookware > Saucepans',\n",
       " 'Calphalon C1210P Commercial Nonstick 10-Inch International Griddle/Crepe Pan': 'Kitchen & Dining > Cookware > Specialty Cookware',\n",
       " 'Calphalon Commercial Hard-Anodized 6-1/2-Quart Saucepot with Pasta Insert': 'Kitchen & Dining > Cookware > Saucepans',\n",
       " 'Matfer 321005 Exopat 11-5/8-by-16-3/8-Inch Nonstick Baking Mat': 'Kitchen & Dining > Bakeware > Baking Tools & Accessories',\n",
       " 'Factory-Reconditioned KitchenAid RRK90WH 300-Watt Ultra Power Stand Mixer, White': 'Kitchen & Dining > Small Appliances > Mixers',\n",
       " 'Revere Copperclad Bottom 1-Quart Covered Saucepan': 'Kitchen & Dining > Cookware > Saucepans',\n",
       " 'Revere 3520027 Line 2-Quart Covered Saucepan': 'Kitchen & Dining > Cookware > Saucepans',\n",
       " 'Revere Try-Ply Bottom 1-Quart Saucepan with Lid, Stainless Steel': 'Kitchen & Dining > Cookware > Saucepans',\n",
       " 'Revere 1400 Line 7-Piece Set': 'Kitchen & Dining > Cookware > Cookware Sets',\n",
       " 'Revere 2-1/3-Quart Whistling Tea Kettle': 'Kitchen & Dining > Cookware > Teakettles',\n",
       " 'Factory-Reconditioned KitchenAid RRK5AWH 5-Quart Mixer, White': 'Kitchen & Dining > Small Appliances > Mixers',\n",
       " 'George Foreman GR82B George Jr. Rotisserie': 'Kitchen & Dining > Small Appliances > Ovens & Toasters',\n",
       " 'Toastmaster T2040WC 4-Slice Dual-Control Toaster': 'Kitchen & Dining > Small Appliances > Ovens & Toasters',\n",
       " 'Salton LM8 Lemonader! Lemonade Maker': 'Kitchen & Dining > Small Appliances > Juicers',\n",
       " 'George Foreman GR26SBTMR Family Size Grill, Brushed Stainless Steel': 'Kitchen & Dining > Small Appliances > Contact Grills',\n",
       " 'Melitta MEFB2B 12-Cup Digital Coffeemaker': 'Kitchen & Dining > Coffee > Tea & Espresso',\n",
       " 'Salton RA3A 3-Cup Rice Cooker': 'Kitchen & Dining > Small Appliances > Rice Cookers',\n",
       " 'Toastmaster T2010CTW Cool Touch 2-Slice Toaster, White': 'Kitchen & Dining > Small Appliances > Ovens & Toasters',\n",
       " 'George Foreman GR36CB Jumbo Size Plus Grill with Cookbook': 'Kitchen & Dining > Small Appliances > Contact Grills',\n",
       " 'Pyrex Prepware Sculptured 6-Piece Serving Bowl Set, Clear with Blue Lids': 'Kitchen & Dining > Bakeware > Bakers & Casseroles',\n",
       " 'CorningWare French White 1-1/2-Quart Covered Round Dish': 'Kitchen & Dining > Bakeware > Bakers & Casseroles',\n",
       " 'Pyrex Prepware 7-Piece Mix &amp; Measure Set with 6-Piece bonus': 'Kitchen & Dining > Kitchen Utensils & Gadgets > Measuring Tools & Scales',\n",
       " 'Pyrex Storage 10-Piece Set, Clear with Blue Lids': 'Kitchen & Dining > Bakeware > Bake & Serve Sets',\n",
       " 'CorningWare French White 2-1/2-Quart Round Casserole Dish with Glass Cover': 'Kitchen & Dining > Bakeware > Bakers & Casseroles',\n",
       " 'CorningWare 2-1/2-Quart Oval Casserole Dish with Glass Lid': 'Kitchen & Dining > Bakeware > Bakers & Casseroles',\n",
       " 'Pyrex Prepware 3-Piece Measuring Cup Set': 'Kitchen & Dining > Kitchen Utensils & Gadgets > Measuring Tools & Scales',\n",
       " 'Cuisinart DCC-RC10W 10-Cup Replacement Carafe, White': 'Kitchen & Dining > Small Appliance Parts & Accessories > Coffee & Espresso Machine Parts & Accessories',\n",
       " 'Wilton From The Heart Nesting Cookie Cutter Set': 'Kitchen & Dining > Bakeware > Baking Tools & Accessories',\n",
       " 'Holmes HASF-99  10-Inch Velocity Blizzard Stand Fan': 'Heating > Cooling & Air Quality > Household Fans',\n",
       " \"Chef's Choice 695 Electric French Press, Black\": 'Kitchen & Dining > Coffee > Tea & Espresso',\n",
       " 'Holmes HAWF-2041 Twin Window Fan': 'Heating > Cooling & Air Quality > Household Fans',\n",
       " \"Chef's Choice 835 Pizzelle Pro Express Bake\": 'Kitchen & Dining > Small Appliances > Specialty Appliances',\n",
       " 'Holmes HAOF90-UC Blizzard Oscillating Table Fan': 'Heating > Cooling & Air Quality > Household Fans',\n",
       " 'Calphalon Commercial Hard Anodized 3-1/2-Qt Windsor Pan with Lid': 'Kitchen & Dining > Cookware > Saucepans',\n",
       " 'Calphalon Simply Calphalon 2-Quart Small Stainless-Steel Double Boiler Insert': 'Kitchen & Dining > Cookware > Double Boilers',\n",
       " 'Calphalon 32-Inch Straight Wall Pot Rack with 4 Heavy-Duty Single Hooks': 'Kitchen & Dining > Cookware > Pot Racks',\n",
       " 'Calphalon 18-by-36-Inch Oval Pot Rack': 'Kitchen & Dining > Cookware > Pot Racks',\n",
       " 'Calphalon Commercial Hard-Anodized 8-1/2-Quart Saucier with Lid': 'Kitchen & Dining > Cookware > Sauciers',\n",
       " 'Norpro Cast Iron Bacon Grill Press and Egg Ring Set': 'Kitchen & Dining > Kitchen Utensils & Gadgets > Tool & Gadget Sets',\n",
       " 'Norpro 4 Piece Knife Organizer Set': 'Kitchen & Dining > Kitchen Knives & Cutlery Accessories > Knife Blocks & Storage',\n",
       " 'Norpro Deluxe 3-Piece Bamboo Steamer Set': 'Kitchen & Dining > Cookware > Steamers',\n",
       " 'GRAPEFRUIT SPOONS SET OF 4': 'Kitchen & Dining > Kitchen Utensils & Gadgets > Fruit & Vegetable Tools',\n",
       " 'Norpro Glass Adjustable Shaker': 'Kitchen & Dining > Kitchen Utensils & Gadgets > Salt & Pepper',\n",
       " 'Nonstick 4-Piece Egg/Pancake Ring Set': 'Kitchen & Dining > Kitchen Utensils & Gadgets > Tool & Gadget Sets',\n",
       " 'Norpro 3 Piece Stainless Steel Balloon Whisk Set': 'Kitchen & Dining > Kitchen Utensils & Gadgets > Cooking Utensils',\n",
       " 'Norpro 5120 Deluxe Cherry Pitter with Clamp': 'Kitchen & Dining > Kitchen Utensils & Gadgets > Fruit & Vegetable Tools',\n",
       " 'Norpro Nonstick Tortilla Bowl Makers, Set of 2': 'Kitchen & Dining > Cookware > Specialty Cookware',\n",
       " 'Ravioli Rolling Pin': 'Kitchen & Dining > Bakeware > Baking Tools & Accessories',\n",
       " 'Norpro French Fry Cutter': 'Kitchen & Dining > Kitchen Utensils & Gadgets > Fruit & Vegetable Tools',\n",
       " 'Cuisinart DCC-1000BK Filter Brew 12-Cup Programmable Coffeemaker, Black': 'Kitchen & Dining > Coffee > Tea & Espresso',\n",
       " 'Cuisinart DCC-1200 Brew Central 12-Cup Programmable Coffeemaker, Black/Brushed Metal': 'Kitchen & Dining > Coffee > Tea & Espresso',\n",
       " 'Presto 04830 PowerPop Microwave Multi-Popper': 'Kitchen & Dining > Small Appliances > Specialty Appliances',\n",
       " 'Cuisinart DCC-1000 Programmable Filter Brew 12-Cup Coffeemaker, White': 'Kitchen & Dining > Coffee > Tea & Espresso',\n",
       " 'Presto 03430 Pizzazz Plus Rotating Oven': 'Kitchen & Dining > Small Appliances > Specialty Appliances',\n",
       " 'Braun KFK12FL FlavorSelect 12-Cup Replacement Carafe Charcoal Gray': 'Kitchen & Dining > Small Appliance Parts & Accessories > Coffee & Espresso Machine Parts & Accessories',\n",
       " 'Braun KF180-WH FlavorSelect 12-Cup Coffeemaker, White': 'Kitchen & Dining > Coffee > Tea & Espresso',\n",
       " 'Braun KF400-WH Aromaster 10-Cup Coffeemaker, White': 'Kitchen & Dining > Coffee > Tea & Espresso',\n",
       " 'Braun KSM2-WH Aromatic Coffee Grinder, White': 'Kitchen & Dining > Coffee > Tea & Espresso',\n",
       " 'Braun M880 Multimix 4-in-1 Hand Mixer': 'Kitchen & Dining > Small Appliances > Mixers',\n",
       " 'Braun KMM30 Coffee/Espresso Mill, White': 'Kitchen & Dining > Coffee > Tea & Espresso',\n",
       " 'Braun KSM2-BLK Aromatic Coffee Grinder, Black': 'Kitchen & Dining > Coffee > Tea & Espresso',\n",
       " 'Espressione Classic Espresso, 150-Count Pods': 'Kitchen & Dining > Small Appliance Parts & Accessories > Coffee & Espresso Machine Parts & Accessories',\n",
       " 'Fiesta 12-Inch by 5-3/4-Inch Bread Tray, Cobalt': 'Kitchen & Dining > Dining & Entertaining > Serveware',\n",
       " 'Fiesta 15-Inch Pizza Tray, Cobalt': 'Kitchen & Dining > Dining & Entertaining > Serveware',\n",
       " 'Innova 42010 Stainless-Steel 10-Quart Pressure Cooker with Steamer Insert and Bonus Lid': 'Kitchen & Dining > Cookware > Pressure Cookers',\n",
       " 'Farberware 3-Piece Wood Cutting Board Set': 'Kitchen & Dining > Kitchen Knives & Cutlery Accessories > Cutting Boards',\n",
       " 'Farberware 3-Piece Poly Board Set': 'Kitchen & Dining > Kitchen Knives & Cutlery Accessories > Cutting Boards',\n",
       " 'T-fal 62870 Magiclean Deep Fryer': 'Kitchen & Dining > Small Appliances > Deep Fryers',\n",
       " 'J.A. Henckels International Eversharp Pro 9-Piece Steak Knife Block Set': 'Kitchen & Dining > Kitchen Knives & Cutlery Accessories > Cutlery Sets',\n",
       " 'Eastman Outdoors 38207 Cooking Gloves 13-Inch': 'Kitchen & Dining > Kitchen & Table Linens > Potholders & Oven Mitts',\n",
       " 'Zwilling J.A. Henckels Twin Grip Colored Paring Knives, Set of 4': 'Kitchen & Dining > Kitchen Knives & Cutlery Accessories > Paring Knives',\n",
       " 'J.A. Henckels 8-Piece Stainless-Steel Steak Knife Set in Wood Gift Box': 'Kitchen & Dining > Kitchen Knives & Cutlery Accessories > Cutlery Sets',\n",
       " 'J.A. Henckels International Everedge 13-Piece Knife Set with Bonus Cheese Knife': 'Kitchen & Dining > Kitchen Knives & Cutlery Accessories > Cutlery Sets',\n",
       " 'Zwilling J.A. Henckels Twin Pro S 7-Piece Knife Set with Block': 'Kitchen & Dining > Kitchen Knives & Cutlery Accessories > Cutlery Sets',\n",
       " 'Factory-Reconditioned Cuisinart DGB-300FR Automatic Grind &amp; Brew 10-Cup Coffeemaker, White': 'Kitchen & Dining > Coffee > Tea & Espresso',\n",
       " 'Factory-Reconditioned Cuisinart DLC-1FR 21-Ounce Mini-Prep Food Processor, White': 'Kitchen & Dining > Small Appliances > Food Processors',\n",
       " 'T-fal  7845100A 7-Cup Vitesse High Speed Kettle': 'Kitchen & Dining > Small Appliances > Coffee',\n",
       " 'Presto 05420 FryDaddy Electric Deep Fryer': 'Kitchen & Dining > Small Appliances > Deep Fryers',\n",
       " 'KitchenAid Silicone Slotted Spoon, Red': 'Kitchen & Dining > Kitchen Utensils & Gadgets > Cooking Utensils',\n",
       " 'KitchenAid Silicone Spatula Scraper, Black': 'Kitchen & Dining > Kitchen Utensils & Gadgets > Cooking Utensils',\n",
       " 'KitchenAid Silicone Mixer Spatula, Red': 'Kitchen & Dining > Kitchen Utensils & Gadgets > Cooking Utensils',\n",
       " 'KitchenAid Silicone Slotted Turner, Black': 'Kitchen & Dining > Kitchen Utensils & Gadgets > Cooking Utensils',\n",
       " 'KitchenAid Silicone Spoon Spatula, Red': 'Kitchen & Dining > Kitchen Utensils & Gadgets > Cooking Utensils',\n",
       " 'KitchenAid All Purpose Scraper, Black': 'Kitchen & Dining > Bakeware > Baking Tools & Accessories',\n",
       " 'KitchenAid Stainless Steel Utility Tongs': 'Kitchen & Dining > Kitchen Utensils & Gadgets > Cooking Utensils',\n",
       " 'KitchenAid Silicone Basting Spoon, Red': 'Kitchen & Dining > Kitchen Utensils & Gadgets > Cooking Utensils',\n",
       " 'KitchenAid 5-Piece Measuring Spoon Set, Red': 'Kitchen & Dining > Kitchen Utensils & Gadgets > Measuring Tools & Scales',\n",
       " 'KitchenAid Large Pizza Wheel, Red': 'Kitchen & Dining > Kitchen Utensils & Gadgets > Pasta & Pizza Tools',\n",
       " 'KitchenAid Can Opener, Black': 'Kitchen & Dining > Kitchen Utensils & Gadgets > Can Openers',\n",
       " 'KitchenAid Silicone Mixer Spatula, Black': 'Kitchen & Dining > Kitchen Utensils & Gadgets > Cooking Utensils',\n",
       " 'KitchenAid Stainless Steel Euro Peeler, Black': 'Kitchen & Dining > Kitchen Utensils & Gadgets > Graters',\n",
       " 'KitchenAid Pizza Wheel / Cutter, Black': 'Kitchen & Dining > Kitchen Utensils & Gadgets > Pasta & Pizza Tools',\n",
       " 'KitchenAid Ice Cream Spade, Red': 'Kitchen & Dining > Kitchen Utensils & Gadgets > Specialty Tools & Gadgets',\n",
       " 'KitchenAid Large Pizza Wheel, Black': 'Kitchen & Dining > Kitchen Utensils & Gadgets > Pasta & Pizza Tools',\n",
       " 'KitchenAid Bottle Opener, Black': 'Kitchen & Dining > Kitchen Utensils & Gadgets > Can Openers',\n",
       " 'KitchenAid Pasta Scoop Colander, Red': 'Kitchen & Dining > Kitchen Utensils & Gadgets > Colanders & Food Strainers',\n",
       " 'KitchenAid Can Opener, Red': 'Kitchen & Dining > Kitchen Utensils & Gadgets > Tool & Gadget Sets',\n",
       " 'KitchenAid Ice Cream Spade, Black': 'Kitchen & Dining > Kitchen Utensils & Gadgets > Specialty Tools & Gadgets',\n",
       " 'KitchenAid Stainless Steel Oven Thermometer': 'Kitchen & Dining > Kitchen Utensils & Gadgets > Thermometers & Timers',\n",
       " 'KRUPS F2307051 Egg Cooker, White': 'Kitchen & Dining > Small Appliances > Specialty Appliances',\n",
       " 'KRUPS 2100024902 Universal Grill and Panini Maker with Nonstick Cooking Plates, Silver': 'Kitchen & Dining > Small Appliances > Contact Grills',\n",
       " 'West Bend 41077 Just For Dinner Breadmaker': 'Kitchen & Dining > Small Appliances > Bread Machines',\n",
       " 'Aroma Housewares AEW-305 Electric Wok, Black': 'Kitchen & Dining > Small Appliances > Electric Woks',\n",
       " \"Chef's Choice 838 Waffle Cone Express Ice Cream Cone Maker\": 'Kitchen & Dining > Small Appliances > Waffle Irons',\n",
       " 'KitchenAid KFP670 Professional Food Processor, White': 'Kitchen & Dining > Small Appliances > Food Processors',\n",
       " 'Rowenta DA-35 Latitude 35 Compact Iron with Dual Voltage for Travel': 'Irons & Steamers > Irons > Travel Irons',\n",
       " 'KitchenAid KFC3100WH Chef Series 3-Cup Food Chopper, White': 'Kitchen & Dining > Kitchen Utensils & Gadgets > Seasoning & Spice Tools',\n",
       " 'Fiesta 64-Ounce Pedestal Bowl, Sunflower': 'Kitchen & Dining > Dining & Entertaining > Serveware',\n",
       " 'Tilt-Head 6-Wire Whip KitchenAid&reg; Wire Whip for Tilt Head Stand Mixer (Fits models KSM150, KSM152, KSM155)': 'Kitchen & Dining > Small Appliance Parts & Accessories > Mixer Parts & Accessories',\n",
       " 'Fiesta Covered Sugar and Creamer Set with Tray, Sunflower': 'Kitchen & Dining > Dining & Entertaining > Serveware',\n",
       " 'Fiesta 1-Quart Large Bowl, Sunflower': 'Kitchen & Dining > Dining & Entertaining > Serveware',\n",
       " 'Fiesta Rangetop Salt and Pepper Set, Sunflower': 'Kitchen & Dining > Kitchen Utensils & Gadgets > Salt & Pepper',\n",
       " 'KitchenAid K45B Flat Beater Replacement for KSM90 and K45 Stand Mixer': 'Kitchen & Dining > Small Appliance Parts & Accessories > Mixer Parts & Accessories',\n",
       " 'Fiesta 2-1/4-Inch Salt and Pepper Set, Sunflower': 'Kitchen & Dining > Kitchen Utensils & Gadgets > Salt & Pepper',\n",
       " 'Fiesta 2-Quart Serving Bowl, Sunflower': 'Kitchen & Dining > Dining & Entertaining > Serveware',\n",
       " 'Fiesta 10-1/4-Inch Deep Dish Pie Baker, Sunflower': 'Kitchen & Dining > Bakeware > Pie',\n",
       " 'KitchenAid K45DH Dough Hook Replacement for KSM90 and K45 Stand Mixer': 'Kitchen & Dining > Small Appliance Parts & Accessories > Mixer Parts & Accessories',\n",
       " 'Mr. Heater MRHF273400 Buddy Portable LP Gas Heater': 'Heating > Cooling & Air Quality > Space Heaters & Accessories',\n",
       " 'Fiesta 5-Ounce Mini Disk Pitcher, White': 'Kitchen & Dining > Dining & Entertaining > Serveware',\n",
       " 'Fiesta 1-Quart Large Bowl, Cinnabar': 'Kitchen & Dining > Dining & Entertaining > Serveware',\n",
       " 'Bodum Eileen 8 Cup French Press Coffeemaker, 1.0 l, 34-Ounce': 'Kitchen & Dining > Coffee > Tea & Espresso',\n",
       " 'Bodum Logo Travel Press': 'Kitchen & Dining > Coffee > Tea & Espresso',\n",
       " 'Bodum Chambord 3 cup French Press Coffee Maker, 12 oz., Chrome': 'Kitchen & Dining > Coffee > Tea & Espresso',\n",
       " 'Bodum Chambord 12 cup French Press Coffee Maker, 51 oz, Chrome': 'Kitchen & Dining > Coffee > Tea & Espresso',\n",
       " 'Bodum Assam 17-Ounce Tea Press': 'Kitchen & Dining > Dining & Entertaining > Serveware',\n",
       " 'Bodum Ceylon 51-Ounce Ice Tea Maker with Filter': 'Kitchen & Dining > Dining & Entertaining > Serveware',\n",
       " 'Bodum Chambord 8 cup French Press Coffee Maker, 34 oz., Chrome': 'Kitchen & Dining > Coffee > Tea & Espresso',\n",
       " 'Bodum Assam Medium Tea Press with Plastic Filter, Black, 1.0 l, 34 oz.': 'Kitchen & Dining > Coffee > Tea & Espresso',\n",
       " 'Bodum Assam 51-Ounce Tea Press': 'Kitchen & Dining > Dining & Entertaining > Serveware',\n",
       " 'Kaiser Bakeware Mini Springform Pans, Set of 4': 'Kitchen & Dining > Bakeware > Cake Pans',\n",
       " 'FilterStream V2210 DirtTamer Deluxe Wet/Dry Vacuum Cleaner': 'Vacuums & Floor Care > Vacuums > Handheld Vacuums',\n",
       " 'Kaiser Bakeware  Non-stick French Fry and Frozen Food Sheet': 'Kitchen & Dining > Bakeware > Baking & Cookie Sheets',\n",
       " 'Saeco Vienna Deluxe SuperAutomatic Espresso Coffee and Cappuccino Machine': 'Kitchen & Dining > Coffee > Tea & Espresso',\n",
       " \"Calphalon Commercial Bakeware Collector's Edition Large Cookie Sheets, Set of 2\": 'Kitchen & Dining > Bakeware > Baking & Cookie Sheets',\n",
       " 'Calphalon Professional Nonstick II Limited Edition 10-Inch Omelet Pan': 'Kitchen & Dining > Cookware > Skillets',\n",
       " 'Oneida Colours 16-Inch Cutting Board, Charcoal': 'Kitchen & Dining > Kitchen Knives & Cutlery Accessories > Cutting Boards',\n",
       " 'Cuisinart DCO-24 Die Cast Can Opener': 'Kitchen & Dining > Kitchen Utensils & Gadgets > Can Openers',\n",
       " 'Fein 921072K13 Step Adaptor': 'Vacuums & Floor Care > Vacuum Accessories > Hoses',\n",
       " 'Cuisinart TTG-500 Two-to-Go Coffeemaker': 'Kitchen & Dining > Coffee > Tea & Espresso',\n",
       " 'Bodum 3000-10USAA Electric Santos 12-Cup Coffeemaker With Timer, Clear': 'Kitchen & Dining > Coffee > Tea & Espresso',\n",
       " 'Bell Pepper Casserole - Jade': 'Kitchen & Dining > Bakeware > Bakers & Casseroles',\n",
       " 'Wusthof Classic 4-1/2-Inch Utility Knife': 'Kitchen & Dining > Kitchen Knives & Cutlery Accessories > Utility Knives',\n",
       " 'Le Creuset 7-Piece Spatula Set with Crock, Red': 'Kitchen & Dining > Kitchen Utensils & Gadgets > Cooking Utensils',\n",
       " 'W&uuml;sthof Classic Steak Knife Set, 4-Piece': 'Kitchen & Dining > Kitchen Knives & Cutlery Accessories > Cutlery Sets',\n",
       " 'Wusthof Classic 3-1/2-Inch Paring Knife': 'Kitchen & Dining > Kitchen Knives & Cutlery Accessories > Paring Knives',\n",
       " \"Wusthof Classic 10-Inch Cook's Knife\": 'Kitchen & Dining > Kitchen Knives & Cutlery Accessories > Cutlery Sets',\n",
       " 'Wusthof Classic Gourmet 3-Piece Knife Set': 'Kitchen & Dining > Kitchen Knives & Cutlery Accessories > Knife Blocks & Storage',\n",
       " 'Wusthof Classic 6-Piece Steak Knife Set': 'Kitchen & Dining > Kitchen Knives & Cutlery Accessories > Cutlery Sets',\n",
       " 'Wusthof 4109-7 Classic 5-Inch Tomato Knife': 'Kitchen & Dining > Kitchen Knives & Cutlery Accessories > Specialty Knives',\n",
       " 'Wusthof Grand Prix 7-Piece Knife Block Set': 'Kitchen & Dining > Kitchen Knives & Cutlery Accessories > Cutlery Sets',\n",
       " 'Wusthof Classic 6-Inch Sandwich Knife': 'Kitchen & Dining > Kitchen Knives & Cutlery Accessories > Utility Knives',\n",
       " 'Wusthof Gourmet 7-Piece Knife Set with Block': 'Kitchen & Dining > Kitchen Knives & Cutlery Accessories > Cutlery Sets',\n",
       " ...}"
      ]
     },
     "execution_count": 14,
     "metadata": {},
     "output_type": "execute_result"
    }
   ],
   "source": [
    "category_lookup_short = {k:v for k,v in zip(categories['title'],categories['narrow_cat'])}\n",
    "category_lookup_short"
   ]
  },
  {
   "cell_type": "code",
   "execution_count": 15,
   "metadata": {},
   "outputs": [],
   "source": [
    "def clean_reviews_data():\n",
    "    \n",
    "    # create a copy so that there's no need to reload df data if things go wrong\n",
    "    reviews = df.copy()\n",
    "    \n",
    "    # drop columns that will not be used\n",
    "    reviews = reviews.drop(['helpful','unixReviewTime'], axis=1)\n",
    "    \n",
    "    # change time to datetime format\n",
    "    reviews['reviewTime'] = pd.to_datetime(reviews['reviewTime'])\n",
    "    \n",
    "    # add product title for readability\n",
    "    reviews['productTitle'] = reviews['asin'].apply(lambda x: product_lookup[x])\n",
    "    \n",
    "    # rearrange columns\n",
    "    reviews = reviews[['reviewerID', 'asin', 'reviewerName', 'productTitle', 'overall', \n",
    "                       'summary', 'reviewText', 'reviewTime']]\n",
    "    \n",
    "    return reviews"
   ]
  },
  {
   "cell_type": "code",
   "execution_count": 16,
   "metadata": {},
   "outputs": [],
   "source": [
    "reviews = clean_reviews_data()"
   ]
  },
  {
   "cell_type": "code",
   "execution_count": 17,
   "metadata": {},
   "outputs": [
    {
     "data": {
      "text/html": [
       "<div>\n",
       "<style scoped>\n",
       "    .dataframe tbody tr th:only-of-type {\n",
       "        vertical-align: middle;\n",
       "    }\n",
       "\n",
       "    .dataframe tbody tr th {\n",
       "        vertical-align: top;\n",
       "    }\n",
       "\n",
       "    .dataframe thead th {\n",
       "        text-align: right;\n",
       "    }\n",
       "</style>\n",
       "<table border=\"1\" class=\"dataframe\">\n",
       "  <thead>\n",
       "    <tr style=\"text-align: right;\">\n",
       "      <th></th>\n",
       "      <th>reviewerID</th>\n",
       "      <th>asin</th>\n",
       "      <th>reviewerName</th>\n",
       "      <th>productTitle</th>\n",
       "      <th>overall</th>\n",
       "      <th>summary</th>\n",
       "      <th>reviewText</th>\n",
       "      <th>reviewTime</th>\n",
       "    </tr>\n",
       "  </thead>\n",
       "  <tbody>\n",
       "    <tr>\n",
       "      <th>0</th>\n",
       "      <td>APYOBQE6M18AA</td>\n",
       "      <td>0615391206</td>\n",
       "      <td>Martin Schwartz</td>\n",
       "      <td>Zoku Quick Pops Recipe Book</td>\n",
       "      <td>5.0</td>\n",
       "      <td>Best Price</td>\n",
       "      <td>My daughter wanted this book and the price on ...</td>\n",
       "      <td>2013-10-19</td>\n",
       "    </tr>\n",
       "    <tr>\n",
       "      <th>1</th>\n",
       "      <td>A1JVQTAGHYOL7F</td>\n",
       "      <td>0615391206</td>\n",
       "      <td>Michelle Dinh</td>\n",
       "      <td>Zoku Quick Pops Recipe Book</td>\n",
       "      <td>5.0</td>\n",
       "      <td>zoku</td>\n",
       "      <td>I bought this zoku quick pop for my daughterr ...</td>\n",
       "      <td>2014-06-18</td>\n",
       "    </tr>\n",
       "    <tr>\n",
       "      <th>2</th>\n",
       "      <td>A3UPYGJKZ0XTU4</td>\n",
       "      <td>0615391206</td>\n",
       "      <td>mirasreviews</td>\n",
       "      <td>Zoku Quick Pops Recipe Book</td>\n",
       "      <td>4.0</td>\n",
       "      <td>Excels at Sweet Dessert Pops, but Falls Short ...</td>\n",
       "      <td>There is no shortage of pop recipes available ...</td>\n",
       "      <td>2013-05-05</td>\n",
       "    </tr>\n",
       "    <tr>\n",
       "      <th>3</th>\n",
       "      <td>A2MHCTX43MIMDZ</td>\n",
       "      <td>0615391206</td>\n",
       "      <td>M. Johnson \"Tea Lover\"</td>\n",
       "      <td>Zoku Quick Pops Recipe Book</td>\n",
       "      <td>5.0</td>\n",
       "      <td>Creative Combos</td>\n",
       "      <td>This book is a must have if you get a Zoku (wh...</td>\n",
       "      <td>2011-08-04</td>\n",
       "    </tr>\n",
       "    <tr>\n",
       "      <th>4</th>\n",
       "      <td>AHAI85T5C2DH3</td>\n",
       "      <td>0615391206</td>\n",
       "      <td>PugLover</td>\n",
       "      <td>Zoku Quick Pops Recipe Book</td>\n",
       "      <td>4.0</td>\n",
       "      <td>A must own if you own the Zoku maker...</td>\n",
       "      <td>This cookbook is great.  I have really enjoyed...</td>\n",
       "      <td>2014-06-07</td>\n",
       "    </tr>\n",
       "  </tbody>\n",
       "</table>\n",
       "</div>"
      ],
      "text/plain": [
       "       reviewerID        asin            reviewerName  \\\n",
       "0   APYOBQE6M18AA  0615391206         Martin Schwartz   \n",
       "1  A1JVQTAGHYOL7F  0615391206           Michelle Dinh   \n",
       "2  A3UPYGJKZ0XTU4  0615391206            mirasreviews   \n",
       "3  A2MHCTX43MIMDZ  0615391206  M. Johnson \"Tea Lover\"   \n",
       "4   AHAI85T5C2DH3  0615391206                PugLover   \n",
       "\n",
       "                  productTitle  overall  \\\n",
       "0  Zoku Quick Pops Recipe Book      5.0   \n",
       "1  Zoku Quick Pops Recipe Book      5.0   \n",
       "2  Zoku Quick Pops Recipe Book      4.0   \n",
       "3  Zoku Quick Pops Recipe Book      5.0   \n",
       "4  Zoku Quick Pops Recipe Book      4.0   \n",
       "\n",
       "                                             summary  \\\n",
       "0                                         Best Price   \n",
       "1                                               zoku   \n",
       "2  Excels at Sweet Dessert Pops, but Falls Short ...   \n",
       "3                                    Creative Combos   \n",
       "4            A must own if you own the Zoku maker...   \n",
       "\n",
       "                                          reviewText reviewTime  \n",
       "0  My daughter wanted this book and the price on ... 2013-10-19  \n",
       "1  I bought this zoku quick pop for my daughterr ... 2014-06-18  \n",
       "2  There is no shortage of pop recipes available ... 2013-05-05  \n",
       "3  This book is a must have if you get a Zoku (wh... 2011-08-04  \n",
       "4  This cookbook is great.  I have really enjoyed... 2014-06-07  "
      ]
     },
     "execution_count": 17,
     "metadata": {},
     "output_type": "execute_result"
    }
   ],
   "source": [
    "reviews.head()"
   ]
  },
  {
   "cell_type": "markdown",
   "metadata": {},
   "source": [
    "# 3. Preprocessing and Data Preparation for Modelling"
   ]
  },
  {
   "cell_type": "markdown",
   "metadata": {},
   "source": [
    "### 3.1 Check Matrix Sparsity"
   ]
  },
  {
   "cell_type": "code",
   "execution_count": 18,
   "metadata": {},
   "outputs": [],
   "source": [
    "# check how sparse the matrix is\n",
    "def check_matrix_sparsity(df):\n",
    "    unique_users = df['reviewerID'].nunique()\n",
    "    unique_products = df['asin'].nunique()\n",
    "\n",
    "    print('No. of unique users: ', unique_users)\n",
    "    print('No. of unique products: ', unique_products)\n",
    "    print('Size of utility matrix: {} x {}; {} cells'.format(unique_users,\n",
    "                                                             unique_products,\n",
    "                                                             unique_users * unique_products))\n",
    "    print('Sparsity: {:.3f}%'.format(len(reviews)/(unique_users * unique_products) * 100))"
   ]
  },
  {
   "cell_type": "code",
   "execution_count": 19,
   "metadata": {},
   "outputs": [
    {
     "name": "stdout",
     "output_type": "stream",
     "text": [
      "No. of unique users:  66519\n",
      "No. of unique products:  28237\n",
      "Size of utility matrix: 66519 x 28237; 1878297003 cells\n",
      "Sparsity: 0.029%\n"
     ]
    }
   ],
   "source": [
    "check_matrix_sparsity(reviews)"
   ]
  },
  {
   "cell_type": "code",
   "execution_count": 20,
   "metadata": {
    "scrolled": true
   },
   "outputs": [
    {
     "name": "stdout",
     "output_type": "stream",
     "text": [
      "(551682, 8)\n"
     ]
    },
    {
     "data": {
      "text/html": [
       "<div>\n",
       "<style scoped>\n",
       "    .dataframe tbody tr th:only-of-type {\n",
       "        vertical-align: middle;\n",
       "    }\n",
       "\n",
       "    .dataframe tbody tr th {\n",
       "        vertical-align: top;\n",
       "    }\n",
       "\n",
       "    .dataframe thead th {\n",
       "        text-align: right;\n",
       "    }\n",
       "</style>\n",
       "<table border=\"1\" class=\"dataframe\">\n",
       "  <thead>\n",
       "    <tr style=\"text-align: right;\">\n",
       "      <th></th>\n",
       "      <th>reviewerID</th>\n",
       "      <th>asin</th>\n",
       "      <th>reviewerName</th>\n",
       "      <th>productTitle</th>\n",
       "      <th>overall</th>\n",
       "      <th>summary</th>\n",
       "      <th>reviewText</th>\n",
       "      <th>reviewTime</th>\n",
       "    </tr>\n",
       "  </thead>\n",
       "  <tbody>\n",
       "    <tr>\n",
       "      <th>0</th>\n",
       "      <td>APYOBQE6M18AA</td>\n",
       "      <td>0615391206</td>\n",
       "      <td>Martin Schwartz</td>\n",
       "      <td>Zoku Quick Pops Recipe Book</td>\n",
       "      <td>5.0</td>\n",
       "      <td>Best Price</td>\n",
       "      <td>My daughter wanted this book and the price on ...</td>\n",
       "      <td>2013-10-19</td>\n",
       "    </tr>\n",
       "    <tr>\n",
       "      <th>1</th>\n",
       "      <td>A1JVQTAGHYOL7F</td>\n",
       "      <td>0615391206</td>\n",
       "      <td>Michelle Dinh</td>\n",
       "      <td>Zoku Quick Pops Recipe Book</td>\n",
       "      <td>5.0</td>\n",
       "      <td>zoku</td>\n",
       "      <td>I bought this zoku quick pop for my daughterr ...</td>\n",
       "      <td>2014-06-18</td>\n",
       "    </tr>\n",
       "    <tr>\n",
       "      <th>2</th>\n",
       "      <td>A3UPYGJKZ0XTU4</td>\n",
       "      <td>0615391206</td>\n",
       "      <td>mirasreviews</td>\n",
       "      <td>Zoku Quick Pops Recipe Book</td>\n",
       "      <td>4.0</td>\n",
       "      <td>Excels at Sweet Dessert Pops, but Falls Short ...</td>\n",
       "      <td>There is no shortage of pop recipes available ...</td>\n",
       "      <td>2013-05-05</td>\n",
       "    </tr>\n",
       "    <tr>\n",
       "      <th>3</th>\n",
       "      <td>A2MHCTX43MIMDZ</td>\n",
       "      <td>0615391206</td>\n",
       "      <td>M. Johnson \"Tea Lover\"</td>\n",
       "      <td>Zoku Quick Pops Recipe Book</td>\n",
       "      <td>5.0</td>\n",
       "      <td>Creative Combos</td>\n",
       "      <td>This book is a must have if you get a Zoku (wh...</td>\n",
       "      <td>2011-08-04</td>\n",
       "    </tr>\n",
       "    <tr>\n",
       "      <th>4</th>\n",
       "      <td>AHAI85T5C2DH3</td>\n",
       "      <td>0615391206</td>\n",
       "      <td>PugLover</td>\n",
       "      <td>Zoku Quick Pops Recipe Book</td>\n",
       "      <td>4.0</td>\n",
       "      <td>A must own if you own the Zoku maker...</td>\n",
       "      <td>This cookbook is great.  I have really enjoyed...</td>\n",
       "      <td>2014-06-07</td>\n",
       "    </tr>\n",
       "  </tbody>\n",
       "</table>\n",
       "</div>"
      ],
      "text/plain": [
       "       reviewerID        asin            reviewerName  \\\n",
       "0   APYOBQE6M18AA  0615391206         Martin Schwartz   \n",
       "1  A1JVQTAGHYOL7F  0615391206           Michelle Dinh   \n",
       "2  A3UPYGJKZ0XTU4  0615391206            mirasreviews   \n",
       "3  A2MHCTX43MIMDZ  0615391206  M. Johnson \"Tea Lover\"   \n",
       "4   AHAI85T5C2DH3  0615391206                PugLover   \n",
       "\n",
       "                  productTitle  overall  \\\n",
       "0  Zoku Quick Pops Recipe Book      5.0   \n",
       "1  Zoku Quick Pops Recipe Book      5.0   \n",
       "2  Zoku Quick Pops Recipe Book      4.0   \n",
       "3  Zoku Quick Pops Recipe Book      5.0   \n",
       "4  Zoku Quick Pops Recipe Book      4.0   \n",
       "\n",
       "                                             summary  \\\n",
       "0                                         Best Price   \n",
       "1                                               zoku   \n",
       "2  Excels at Sweet Dessert Pops, but Falls Short ...   \n",
       "3                                    Creative Combos   \n",
       "4            A must own if you own the Zoku maker...   \n",
       "\n",
       "                                          reviewText reviewTime  \n",
       "0  My daughter wanted this book and the price on ... 2013-10-19  \n",
       "1  I bought this zoku quick pop for my daughterr ... 2014-06-18  \n",
       "2  There is no shortage of pop recipes available ... 2013-05-05  \n",
       "3  This book is a must have if you get a Zoku (wh... 2011-08-04  \n",
       "4  This cookbook is great.  I have really enjoyed... 2014-06-07  "
      ]
     },
     "execution_count": 20,
     "metadata": {},
     "output_type": "execute_result"
    }
   ],
   "source": [
    "print(reviews.shape)\n",
    "reviews.head()"
   ]
  },
  {
   "cell_type": "code",
   "execution_count": 21,
   "metadata": {},
   "outputs": [],
   "source": [
    "# next step: change subset data function to take a min and max \n",
    "# so that we leave out reviewers that have a lot of reviews"
   ]
  },
  {
   "cell_type": "markdown",
   "metadata": {},
   "source": [
    "### 3.2 Take a subset of original data\n",
    "- This is in view of the above matrix sparsity, and so that my local machine can handle the generation of the user-item utility matrix"
   ]
  },
  {
   "cell_type": "code",
   "execution_count": 22,
   "metadata": {},
   "outputs": [],
   "source": [
    "def subset_data(df, n=20):\n",
    "    \"\"\"\n",
    "    Takes a reviews dataframe and subsets it to users and products with at least n number of reviews\n",
    "    \"\"\"\n",
    "\n",
    "    # users with n reviews and above\n",
    "    user_review_counts = df['reviewerID'].value_counts()\n",
    "    subset_df = df[df['reviewerID'].isin(user_review_counts[user_review_counts>=n].index)]\n",
    "    print(subset_df.shape)\n",
    "\n",
    "    # products with n reviews and above\n",
    "    product_review_counts = df['asin'].value_counts()\n",
    "    subset_df = subset_df[subset_df['asin'].isin(product_review_counts[product_review_counts>=n].index)]\n",
    "    print(subset_df.shape)\n",
    "    \n",
    "    return subset_df"
   ]
  },
  {
   "cell_type": "code",
   "execution_count": 23,
   "metadata": {},
   "outputs": [
    {
     "name": "stdout",
     "output_type": "stream",
     "text": [
      "(86732, 8)\n",
      "(57861, 8)\n"
     ]
    }
   ],
   "source": [
    "reviews20 = subset_data(reviews)"
   ]
  },
  {
   "cell_type": "code",
   "execution_count": 24,
   "metadata": {},
   "outputs": [
    {
     "data": {
      "text/plain": [
       "<matplotlib.axes._subplots.AxesSubplot at 0x12f78c2b0>"
      ]
     },
     "execution_count": 24,
     "metadata": {},
     "output_type": "execute_result"
    },
    {
     "data": {
      "image/png": "[encoded data removed]",
      "text/plain": [
       "<Figure size 432x288 with 1 Axes>"
      ]
     },
     "metadata": {
      "image/png": {
       "height": 263,
       "width": 399
      }
     },
     "output_type": "display_data"
    }
   ],
   "source": [
    "sns.countplot(reviews20['overall'])"
   ]
  },
  {
   "cell_type": "markdown",
   "metadata": {},
   "source": [
    "### 3.3 Split Train and Test Sets\n",
    "- Train: All ratings given before 2014\n",
    "- Test: All ratings given in 2014\n",
    "- Preprocessing: remove all products/users that only occurred in 2014. This is because we would have no 'training' data on them, and won't be able to predict their ratings"
   ]
  },
  {
   "cell_type": "code",
   "execution_count": 25,
   "metadata": {},
   "outputs": [],
   "source": [
    "def remove_test_year_entries(df, test_year=2014):\n",
    "    \n",
    "    # remove all products/users that only started in 2014\n",
    "    df['Year'] = df['reviewTime'].apply(lambda x: x.year)\n",
    "\n",
    "    user_start_date = df.groupby('reviewerID')['Year'].min()\n",
    "    df = df[df['reviewerID'].isin(user_start_date[user_start_date!=test_year].index)]\n",
    "\n",
    "    product_start_date = df.groupby('asin')['Year'].min()\n",
    "    df = df[df['asin'].isin(product_start_date[product_start_date!=test_year].index)]\n",
    "\n",
    "    print(df.shape)\n",
    "    \n",
    "    return df"
   ]
  },
  {
   "cell_type": "code",
   "execution_count": 26,
   "metadata": {},
   "outputs": [
    {
     "name": "stdout",
     "output_type": "stream",
     "text": [
      "(52627, 9)\n"
     ]
    }
   ],
   "source": [
    "reviews20 = remove_test_year_entries(reviews20)"
   ]
  },
  {
   "cell_type": "code",
   "execution_count": 27,
   "metadata": {},
   "outputs": [
    {
     "data": {
      "text/html": [
       "<div>\n",
       "<style scoped>\n",
       "    .dataframe tbody tr th:only-of-type {\n",
       "        vertical-align: middle;\n",
       "    }\n",
       "\n",
       "    .dataframe tbody tr th {\n",
       "        vertical-align: top;\n",
       "    }\n",
       "\n",
       "    .dataframe thead th {\n",
       "        text-align: right;\n",
       "    }\n",
       "</style>\n",
       "<table border=\"1\" class=\"dataframe\">\n",
       "  <thead>\n",
       "    <tr style=\"text-align: right;\">\n",
       "      <th></th>\n",
       "      <th>reviewerID</th>\n",
       "      <th>asin</th>\n",
       "      <th>reviewerName</th>\n",
       "      <th>productTitle</th>\n",
       "      <th>overall</th>\n",
       "      <th>summary</th>\n",
       "      <th>reviewText</th>\n",
       "      <th>reviewTime</th>\n",
       "      <th>Year</th>\n",
       "    </tr>\n",
       "  </thead>\n",
       "  <tbody>\n",
       "    <tr>\n",
       "      <th>0</th>\n",
       "      <td>A281NPSIMI1C2R</td>\n",
       "      <td>B00004SPEU</td>\n",
       "      <td>Rebecca of Amazon \"The Rebecca Review\"</td>\n",
       "      <td>KRUPS F20342 Electric Spice and Coffee Grinder...</td>\n",
       "      <td>5.0</td>\n",
       "      <td>I use mine to grind spices :)</td>\n",
       "      <td>I guess since I am not using this product ever...</td>\n",
       "      <td>2000-12-17</td>\n",
       "      <td>2000</td>\n",
       "    </tr>\n",
       "    <tr>\n",
       "      <th>1</th>\n",
       "      <td>A281NPSIMI1C2R</td>\n",
       "      <td>B00004SPZV</td>\n",
       "      <td>Rebecca of Amazon \"The Rebecca Review\"</td>\n",
       "      <td>Misto Brushed Aluminum Olive Oil Sprayer</td>\n",
       "      <td>3.0</td>\n",
       "      <td>Good, but a bit of work ;)</td>\n",
       "      <td>When I first filled this sprayer and gave it a...</td>\n",
       "      <td>2000-11-20</td>\n",
       "      <td>2000</td>\n",
       "    </tr>\n",
       "    <tr>\n",
       "      <th>2</th>\n",
       "      <td>A281NPSIMI1C2R</td>\n",
       "      <td>B00000JGRT</td>\n",
       "      <td>Rebecca of Amazon \"The Rebecca Review\"</td>\n",
       "      <td>Cuisinart ICE-20 Automatic 1-1/2-Quart Ice Cre...</td>\n",
       "      <td>5.0</td>\n",
       "      <td>Ice Cream keeps us warm in winter?</td>\n",
       "      <td>After several failed attempts, I began to wond...</td>\n",
       "      <td>2000-09-28</td>\n",
       "      <td>2000</td>\n",
       "    </tr>\n",
       "    <tr>\n",
       "      <th>3</th>\n",
       "      <td>A3A15L96IYUO6V</td>\n",
       "      <td>B00004OCJW</td>\n",
       "      <td>Michael Smith</td>\n",
       "      <td>OXO Good Grips Soft Handled Can Opener</td>\n",
       "      <td>5.0</td>\n",
       "      <td>Great can opener</td>\n",
       "      <td>This is a great and easy to use can opener. Th...</td>\n",
       "      <td>2000-05-26</td>\n",
       "      <td>2000</td>\n",
       "    </tr>\n",
       "    <tr>\n",
       "      <th>4</th>\n",
       "      <td>ALR35EFI69S5R</td>\n",
       "      <td>B00004OCKO</td>\n",
       "      <td>Barron Laycock \"Labradorman\"</td>\n",
       "      <td>OXO Good Grips Winged Corkscrew, Black</td>\n",
       "      <td>5.0</td>\n",
       "      <td>Quick, Easy &amp;amp; Effective help For WIne Klut...</td>\n",
       "      <td>My lady friend got me a couple of these recent...</td>\n",
       "      <td>2000-08-04</td>\n",
       "      <td>2000</td>\n",
       "    </tr>\n",
       "    <tr>\n",
       "      <th>5</th>\n",
       "      <td>A281NPSIMI1C2R</td>\n",
       "      <td>B00004S7YH</td>\n",
       "      <td>Rebecca of Amazon \"The Rebecca Review\"</td>\n",
       "      <td>Wilton 2104-7778 Master Tip Set</td>\n",
       "      <td>4.0</td>\n",
       "      <td>The perfect basic set!</td>\n",
       "      <td>I love this set of decorating tips.  The only ...</td>\n",
       "      <td>2000-10-06</td>\n",
       "      <td>2000</td>\n",
       "    </tr>\n",
       "    <tr>\n",
       "      <th>6</th>\n",
       "      <td>A1KXONFPU2XQ5K</td>\n",
       "      <td>B00004S9BY</td>\n",
       "      <td>Stephanie Manley</td>\n",
       "      <td>Cuisinart BDH-2 Blade and Disc Holder</td>\n",
       "      <td>4.0</td>\n",
       "      <td>Nice addition to food processor.</td>\n",
       "      <td>This is a handy addition to the food processor...</td>\n",
       "      <td>2000-09-05</td>\n",
       "      <td>2000</td>\n",
       "    </tr>\n",
       "    <tr>\n",
       "      <th>7</th>\n",
       "      <td>A1RPTVW5VEOSI</td>\n",
       "      <td>B00004OCKG</td>\n",
       "      <td>Michael J. Edelman</td>\n",
       "      <td>OXO Good Grips Locking Can Opener</td>\n",
       "      <td>5.0</td>\n",
       "      <td>Yes, a can opener you can get excited about!</td>\n",
       "      <td>Who'd think a cheap kitchen tool could excite ...</td>\n",
       "      <td>2000-05-04</td>\n",
       "      <td>2000</td>\n",
       "    </tr>\n",
       "    <tr>\n",
       "      <th>8</th>\n",
       "      <td>A1QPAGGX9FDQXM</td>\n",
       "      <td>B00004SGF0</td>\n",
       "      <td>Michela</td>\n",
       "      <td>KitchenAid KHM5DH 5-Speed Ultra Power Hand Mix...</td>\n",
       "      <td>5.0</td>\n",
       "      <td>Best Choice for Hand Mixer</td>\n",
       "      <td>When it was time for me to buy a new hand mixe...</td>\n",
       "      <td>2000-12-23</td>\n",
       "      <td>2000</td>\n",
       "    </tr>\n",
       "    <tr>\n",
       "      <th>9</th>\n",
       "      <td>A2TXMYYGSZCSZ1</td>\n",
       "      <td>B00004OCL8</td>\n",
       "      <td>annie \"grannieannie\"</td>\n",
       "      <td>OXO Good Grips Flexible Spatula</td>\n",
       "      <td>5.0</td>\n",
       "      <td>A Must Have for All Cookie Bakers!</td>\n",
       "      <td>This is the spatula you've been looking for!  ...</td>\n",
       "      <td>2000-11-12</td>\n",
       "      <td>2000</td>\n",
       "    </tr>\n",
       "    <tr>\n",
       "      <th>10</th>\n",
       "      <td>A17SZZO9LM3WYC</td>\n",
       "      <td>B00000JGRT</td>\n",
       "      <td>Mayflower Girl \"amazon-junkie since 1996\"</td>\n",
       "      <td>Cuisinart ICE-20 Automatic 1-1/2-Quart Ice Cre...</td>\n",
       "      <td>5.0</td>\n",
       "      <td>Simple to Use!  Fabulous Results!</td>\n",
       "      <td>I ordered the Cuisinart Ice Cream maker after ...</td>\n",
       "      <td>2000-07-17</td>\n",
       "      <td>2000</td>\n",
       "    </tr>\n",
       "    <tr>\n",
       "      <th>11</th>\n",
       "      <td>A3A15L96IYUO6V</td>\n",
       "      <td>B00004OCIX</td>\n",
       "      <td>Michael Smith</td>\n",
       "      <td>OXO Good Grips Ice Cream Scoop - Point</td>\n",
       "      <td>3.0</td>\n",
       "      <td>Good, ice cream is hard to get out</td>\n",
       "      <td>When scooping ice cream (or frozen yogurt), so...</td>\n",
       "      <td>2000-05-21</td>\n",
       "      <td>2000</td>\n",
       "    </tr>\n",
       "    <tr>\n",
       "      <th>12</th>\n",
       "      <td>A3S87ZOPB3UM9N</td>\n",
       "      <td>B00004SGFV</td>\n",
       "      <td>atmj</td>\n",
       "      <td>KitchenAid KPS2CL Pouring Shield for 4-1/2 and...</td>\n",
       "      <td>5.0</td>\n",
       "      <td>I don't know what I would do without this</td>\n",
       "      <td>This is a cool feature for this mixer.I use it...</td>\n",
       "      <td>2000-11-18</td>\n",
       "      <td>2000</td>\n",
       "    </tr>\n",
       "    <tr>\n",
       "      <th>13</th>\n",
       "      <td>A1M2T0J45TTE64</td>\n",
       "      <td>B00004SGFI</td>\n",
       "      <td>G. Powell</td>\n",
       "      <td>KitchenAid FT Food Tray Attachment for Stand M...</td>\n",
       "      <td>5.0</td>\n",
       "      <td>No photo description:</td>\n",
       "      <td>Since there isn't a photo of this food tray, I...</td>\n",
       "      <td>2000-05-10</td>\n",
       "      <td>2000</td>\n",
       "    </tr>\n",
       "    <tr>\n",
       "      <th>14</th>\n",
       "      <td>A231WM2Z2JL0U3</td>\n",
       "      <td>B00004RDF0</td>\n",
       "      <td>Rheumor</td>\n",
       "      <td>Lello 4080 Musso Lussino 1.5-Quart Ice Cream M...</td>\n",
       "      <td>5.0</td>\n",
       "      <td>A Ferrari in silver.</td>\n",
       "      <td>Fast, sleek, sculpted and expensive.....now th...</td>\n",
       "      <td>2000-11-06</td>\n",
       "      <td>2000</td>\n",
       "    </tr>\n",
       "    <tr>\n",
       "      <th>15</th>\n",
       "      <td>A3CG6YLYZJXQG4</td>\n",
       "      <td>B00004S56Y</td>\n",
       "      <td>Tracy Rowan \"dargelos\"</td>\n",
       "      <td>Zojirushi BBCC-V20 Home Bakery Traditional Bre...</td>\n",
       "      <td>5.0</td>\n",
       "      <td>Worth every cent!</td>\n",
       "      <td>I don't know about anyone else but those cylin...</td>\n",
       "      <td>2000-12-31</td>\n",
       "      <td>2000</td>\n",
       "    </tr>\n",
       "    <tr>\n",
       "      <th>16</th>\n",
       "      <td>A1KXONFPU2XQ5K</td>\n",
       "      <td>B00004SU35</td>\n",
       "      <td>Stephanie Manley</td>\n",
       "      <td>Wabash Valley Farms 25008 Whirley-Pop Stovetop...</td>\n",
       "      <td>5.0</td>\n",
       "      <td>Miss the taste of real butter?</td>\n",
       "      <td>Do you remember when pop corn didn't come out ...</td>\n",
       "      <td>2000-10-03</td>\n",
       "      <td>2000</td>\n",
       "    </tr>\n",
       "    <tr>\n",
       "      <th>17</th>\n",
       "      <td>ARXU3FESTWMJJ</td>\n",
       "      <td>B00004SGG6</td>\n",
       "      <td>Mary Jo Sminkey \"15 years of Amazon Reviews!\"</td>\n",
       "      <td>KitchenAid KSM90PS 300-Watt Ultra Power 4-1/2-...</td>\n",
       "      <td>5.0</td>\n",
       "      <td>Every cook needs one!</td>\n",
       "      <td>Some of my best memories growing up were my Mo...</td>\n",
       "      <td>2000-08-23</td>\n",
       "      <td>2000</td>\n",
       "    </tr>\n",
       "    <tr>\n",
       "      <th>18</th>\n",
       "      <td>A281NPSIMI1C2R</td>\n",
       "      <td>B00004S9D3</td>\n",
       "      <td>Rebecca of Amazon \"The Rebecca Review\"</td>\n",
       "      <td>Cuisinart ICE-RFB 1-1/2-Quart Additional Freez...</td>\n",
       "      <td>5.0</td>\n",
       "      <td>So many more uses!</td>\n",
       "      <td>While I do have the ice cream maker, I ordered...</td>\n",
       "      <td>2000-12-19</td>\n",
       "      <td>2000</td>\n",
       "    </tr>\n",
       "    <tr>\n",
       "      <th>19</th>\n",
       "      <td>A1QPAGGX9FDQXM</td>\n",
       "      <td>B00004RIZ7</td>\n",
       "      <td>Michela</td>\n",
       "      <td>Progressive Stainless Steel Mesh Tea Ball</td>\n",
       "      <td>4.0</td>\n",
       "      <td>Too Large for One Cup of Tea</td>\n",
       "      <td>This stainless steel mesh tea ball is 2-inches...</td>\n",
       "      <td>2000-12-23</td>\n",
       "      <td>2000</td>\n",
       "    </tr>\n",
       "    <tr>\n",
       "      <th>20</th>\n",
       "      <td>A3S87ZOPB3UM9N</td>\n",
       "      <td>B00004SPZV</td>\n",
       "      <td>atmj</td>\n",
       "      <td>Misto Brushed Aluminum Olive Oil Sprayer</td>\n",
       "      <td>3.0</td>\n",
       "      <td>A bit disappointing</td>\n",
       "      <td>I had high hopes for this item as I wholly emb...</td>\n",
       "      <td>2000-09-05</td>\n",
       "      <td>2000</td>\n",
       "    </tr>\n",
       "    <tr>\n",
       "      <th>21</th>\n",
       "      <td>ALR35EFI69S5R</td>\n",
       "      <td>B00004R93Z</td>\n",
       "      <td>Barron Laycock \"Labradorman\"</td>\n",
       "      <td>George Foreman GR10AWHT Champ Grill</td>\n",
       "      <td>5.0</td>\n",
       "      <td>No Hype; This Grill Is Great!</td>\n",
       "      <td>Even grizzled old mountain men like me get tir...</td>\n",
       "      <td>2000-08-20</td>\n",
       "      <td>2000</td>\n",
       "    </tr>\n",
       "    <tr>\n",
       "      <th>22</th>\n",
       "      <td>A281NPSIMI1C2R</td>\n",
       "      <td>B00004UE7F</td>\n",
       "      <td>Rebecca of Amazon \"The Rebecca Review\"</td>\n",
       "      <td>Norpro Honey Syrup Dispenser</td>\n",
       "      <td>3.0</td>\n",
       "      <td>Better for Maple Syrup!</td>\n",
       "      <td>While I do keep honey in it, the opening at th...</td>\n",
       "      <td>2000-10-10</td>\n",
       "      <td>2000</td>\n",
       "    </tr>\n",
       "    <tr>\n",
       "      <th>23</th>\n",
       "      <td>A281NPSIMI1C2R</td>\n",
       "      <td>B00004OCKR</td>\n",
       "      <td>Rebecca of Amazon \"The Rebecca Review\"</td>\n",
       "      <td>OXO Good Grips  Salad Spinner</td>\n",
       "      <td>5.0</td>\n",
       "      <td>Salad spinners unite :)</td>\n",
       "      <td>If you want to get a bit fancy with your salad...</td>\n",
       "      <td>2000-10-07</td>\n",
       "      <td>2000</td>\n",
       "    </tr>\n",
       "    <tr>\n",
       "      <th>24</th>\n",
       "      <td>A231WM2Z2JL0U3</td>\n",
       "      <td>B00004S7V8</td>\n",
       "      <td>Rheumor</td>\n",
       "      <td>Microplane 40020 Classic Zester/Grater</td>\n",
       "      <td>5.0</td>\n",
       "      <td>Nice Surprise!</td>\n",
       "      <td>I bought this as a 'stocking stuffer' for Moth...</td>\n",
       "      <td>2000-09-05</td>\n",
       "      <td>2000</td>\n",
       "    </tr>\n",
       "    <tr>\n",
       "      <th>25</th>\n",
       "      <td>A281NPSIMI1C2R</td>\n",
       "      <td>B00004OCJO</td>\n",
       "      <td>Rebecca of Amazon \"The Rebecca Review\"</td>\n",
       "      <td>OXO Good Grips Lemon Zester</td>\n",
       "      <td>5.0</td>\n",
       "      <td>Lemon Meringue Pie</td>\n",
       "      <td>When I first heard about a zester, I was intri...</td>\n",
       "      <td>2000-09-28</td>\n",
       "      <td>2000</td>\n",
       "    </tr>\n",
       "    <tr>\n",
       "      <th>26</th>\n",
       "      <td>A3HRBWBN7DH9XV</td>\n",
       "      <td>B00004S9GX</td>\n",
       "      <td>JK \"johnrktx@sbcglobal.net\"</td>\n",
       "      <td>Braun MR430HC Multiquick Deluxe Hand Blender &amp;...</td>\n",
       "      <td>5.0</td>\n",
       "      <td>A Unique Appliance, NOT A Blender Substitute!</td>\n",
       "      <td>I've had stick blenders for many years and use...</td>\n",
       "      <td>2000-05-23</td>\n",
       "      <td>2000</td>\n",
       "    </tr>\n",
       "    <tr>\n",
       "      <th>27</th>\n",
       "      <td>A1M2T0J45TTE64</td>\n",
       "      <td>B00004S9H9</td>\n",
       "      <td>G. Powell</td>\n",
       "      <td>Lodge Original Finish 12-Inch Cast Iron Skillet</td>\n",
       "      <td>5.0</td>\n",
       "      <td>Best fry pan for browning meat/onions and saut...</td>\n",
       "      <td>Cast iron fry pans are the best choice for fry...</td>\n",
       "      <td>2000-08-23</td>\n",
       "      <td>2000</td>\n",
       "    </tr>\n",
       "    <tr>\n",
       "      <th>28</th>\n",
       "      <td>A2EDWI5EGP4V9N</td>\n",
       "      <td>B00000JGRT</td>\n",
       "      <td>sharkychick</td>\n",
       "      <td>Cuisinart ICE-20 Automatic 1-1/2-Quart Ice Cre...</td>\n",
       "      <td>5.0</td>\n",
       "      <td>Fabulous! Easy! Fast!</td>\n",
       "      <td>If you think that you cannot make good ice cre...</td>\n",
       "      <td>2000-09-27</td>\n",
       "      <td>2000</td>\n",
       "    </tr>\n",
       "    <tr>\n",
       "      <th>29</th>\n",
       "      <td>A3S87ZOPB3UM9N</td>\n",
       "      <td>B00004SGG6</td>\n",
       "      <td>atmj</td>\n",
       "      <td>KitchenAid KSM90PS 300-Watt Ultra Power 4-1/2-...</td>\n",
       "      <td>5.0</td>\n",
       "      <td>I love this mixer</td>\n",
       "      <td>I have had my cobalt blue mixer for about 6 ye...</td>\n",
       "      <td>2000-11-18</td>\n",
       "      <td>2000</td>\n",
       "    </tr>\n",
       "    <tr>\n",
       "      <th>...</th>\n",
       "      <td>...</td>\n",
       "      <td>...</td>\n",
       "      <td>...</td>\n",
       "      <td>...</td>\n",
       "      <td>...</td>\n",
       "      <td>...</td>\n",
       "      <td>...</td>\n",
       "      <td>...</td>\n",
       "      <td>...</td>\n",
       "    </tr>\n",
       "    <tr>\n",
       "      <th>52597</th>\n",
       "      <td>A380P8LHEL3DZ9</td>\n",
       "      <td>B0087UYR1S</td>\n",
       "      <td>Eve UrAlly \"Ur Ally\"</td>\n",
       "      <td>KnappMade CM Scrubber - Chain Mail Cast Iron P...</td>\n",
       "      <td>5.0</td>\n",
       "      <td>It Works!</td>\n",
       "      <td>It was reviewed on Cooks Illustrated. Hubby th...</td>\n",
       "      <td>2014-05-30</td>\n",
       "      <td>2014</td>\n",
       "    </tr>\n",
       "    <tr>\n",
       "      <th>52598</th>\n",
       "      <td>A2PVL5RKAROYVN</td>\n",
       "      <td>B001VZ5E40</td>\n",
       "      <td>ilaj \"ilaj\"</td>\n",
       "      <td>Winco MS3A-8S Strainer with Single Fine Mesh, ...</td>\n",
       "      <td>4.0</td>\n",
       "      <td>Handy sifter</td>\n",
       "      <td>I got this for sifting flours when baking.  It...</td>\n",
       "      <td>2014-01-08</td>\n",
       "      <td>2014</td>\n",
       "    </tr>\n",
       "    <tr>\n",
       "      <th>52599</th>\n",
       "      <td>A2VBTN6ZR67YOF</td>\n",
       "      <td>B004N4D8X0</td>\n",
       "      <td>Mike Jacobs</td>\n",
       "      <td>Malouf Fine Linens&amp;reg; 600 Thread Count GENUI...</td>\n",
       "      <td>5.0</td>\n",
       "      <td>Excellent complient to the Malouf 600 sheet se...</td>\n",
       "      <td>We really loved these on the first use and res...</td>\n",
       "      <td>2014-04-27</td>\n",
       "      <td>2014</td>\n",
       "    </tr>\n",
       "    <tr>\n",
       "      <th>52600</th>\n",
       "      <td>ANWB7D10LPJFU</td>\n",
       "      <td>B0087UYR1S</td>\n",
       "      <td>John P. Salvaggio</td>\n",
       "      <td>KnappMade CM Scrubber - Chain Mail Cast Iron P...</td>\n",
       "      <td>5.0</td>\n",
       "      <td>Scrubbah</td>\n",
       "      <td>It scrubs cast iron cookware. gets dirty quick...</td>\n",
       "      <td>2014-04-23</td>\n",
       "      <td>2014</td>\n",
       "    </tr>\n",
       "    <tr>\n",
       "      <th>52601</th>\n",
       "      <td>A2AIRFEAWEQC91</td>\n",
       "      <td>B0087UYR1S</td>\n",
       "      <td>Lady Lola</td>\n",
       "      <td>KnappMade CM Scrubber - Chain Mail Cast Iron P...</td>\n",
       "      <td>5.0</td>\n",
       "      <td>This is a great product for cast iron</td>\n",
       "      <td>How ingenious this is. It scrubs my cast iron ...</td>\n",
       "      <td>2014-02-01</td>\n",
       "      <td>2014</td>\n",
       "    </tr>\n",
       "    <tr>\n",
       "      <th>52602</th>\n",
       "      <td>A2MDBSMYDZH9VR</td>\n",
       "      <td>B0087UYR1S</td>\n",
       "      <td>SubDeb</td>\n",
       "      <td>KnappMade CM Scrubber - Chain Mail Cast Iron P...</td>\n",
       "      <td>5.0</td>\n",
       "      <td>Does a fantastic job on all my cast iron</td>\n",
       "      <td>Even with the reviews I was not sure about thi...</td>\n",
       "      <td>2014-07-08</td>\n",
       "      <td>2014</td>\n",
       "    </tr>\n",
       "    <tr>\n",
       "      <th>52603</th>\n",
       "      <td>A2ZNIKXT764IV4</td>\n",
       "      <td>B0087UYR1S</td>\n",
       "      <td>Sue \"suezieqt\"</td>\n",
       "      <td>KnappMade CM Scrubber - Chain Mail Cast Iron P...</td>\n",
       "      <td>1.0</td>\n",
       "      <td>Waste of money</td>\n",
       "      <td>I am always willing to try something new to cl...</td>\n",
       "      <td>2014-02-22</td>\n",
       "      <td>2014</td>\n",
       "    </tr>\n",
       "    <tr>\n",
       "      <th>52604</th>\n",
       "      <td>A3E3MISWTTTNLK</td>\n",
       "      <td>B0087UYR1S</td>\n",
       "      <td>Todd March</td>\n",
       "      <td>KnappMade CM Scrubber - Chain Mail Cast Iron P...</td>\n",
       "      <td>4.0</td>\n",
       "      <td>Fine Cleaner, but be delicate with carbon stee...</td>\n",
       "      <td>I bought this mainly for my carbon steel cookw...</td>\n",
       "      <td>2014-07-05</td>\n",
       "      <td>2014</td>\n",
       "    </tr>\n",
       "    <tr>\n",
       "      <th>52605</th>\n",
       "      <td>A39WLAM38IEBWM</td>\n",
       "      <td>B000BUDE5M</td>\n",
       "      <td>Trai Tao Thom USA \"NUHOANGTHANHNUTRAITAOTHOMUSA\"</td>\n",
       "      <td>Endurance Egg Spoons Stainless Steel Set of 4</td>\n",
       "      <td>4.0</td>\n",
       "      <td>THIS SPOONS ARE NOT RIGHT SIZE FOR TO EAT SOFT...</td>\n",
       "      <td>THIS IS NOT RIGHT ONE FOR TO EAT SOFT EGG BUT ...</td>\n",
       "      <td>2014-03-10</td>\n",
       "      <td>2014</td>\n",
       "    </tr>\n",
       "    <tr>\n",
       "      <th>52606</th>\n",
       "      <td>A1905GXW39DYA3</td>\n",
       "      <td>B000BUDE5M</td>\n",
       "      <td>J. Thompson</td>\n",
       "      <td>Endurance Egg Spoons Stainless Steel Set of 4</td>\n",
       "      <td>5.0</td>\n",
       "      <td>Nice</td>\n",
       "      <td>I really liked these spoons.  I use them for m...</td>\n",
       "      <td>2014-02-19</td>\n",
       "      <td>2014</td>\n",
       "    </tr>\n",
       "    <tr>\n",
       "      <th>52607</th>\n",
       "      <td>A2V2N6LUDMD1UG</td>\n",
       "      <td>B001VZ5E40</td>\n",
       "      <td>jrob63</td>\n",
       "      <td>Winco MS3A-8S Strainer with Single Fine Mesh, ...</td>\n",
       "      <td>4.0</td>\n",
       "      <td>Great Price</td>\n",
       "      <td>Great price for this wooden handled strainer. ...</td>\n",
       "      <td>2014-02-04</td>\n",
       "      <td>2014</td>\n",
       "    </tr>\n",
       "    <tr>\n",
       "      <th>52608</th>\n",
       "      <td>A1DH3QDZX8Z7GO</td>\n",
       "      <td>B0087Q1T1S</td>\n",
       "      <td>Charlemange</td>\n",
       "      <td>Blendtec Twister Jar</td>\n",
       "      <td>5.0</td>\n",
       "      <td>Great for pestos</td>\n",
       "      <td>This is a nice addition to anyone's Blendtec m...</td>\n",
       "      <td>2014-04-05</td>\n",
       "      <td>2014</td>\n",
       "    </tr>\n",
       "    <tr>\n",
       "      <th>52609</th>\n",
       "      <td>A333XOKAY0TC1V</td>\n",
       "      <td>B000BVHG14</td>\n",
       "      <td>Bolanle \"Bola\"</td>\n",
       "      <td>Ateco 6-Piece Pastry Tube and Tips Set</td>\n",
       "      <td>5.0</td>\n",
       "      <td>Makes cupcake frosting easy</td>\n",
       "      <td>If you make lots of cupcakes, or just make cup...</td>\n",
       "      <td>2014-05-21</td>\n",
       "      <td>2014</td>\n",
       "    </tr>\n",
       "    <tr>\n",
       "      <th>52610</th>\n",
       "      <td>A2B6OOX5ZF4RCY</td>\n",
       "      <td>B000BVHG14</td>\n",
       "      <td>Cray M. Rader \"PennaDutchBoy\"</td>\n",
       "      <td>Ateco 6-Piece Pastry Tube and Tips Set</td>\n",
       "      <td>4.0</td>\n",
       "      <td>Great</td>\n",
       "      <td>As I say about other Ateco  item, these are gr...</td>\n",
       "      <td>2014-04-14</td>\n",
       "      <td>2014</td>\n",
       "    </tr>\n",
       "    <tr>\n",
       "      <th>52611</th>\n",
       "      <td>A2H35SLFQIH6SN</td>\n",
       "      <td>B000BWY314</td>\n",
       "      <td>Windfall71</td>\n",
       "      <td>Ball Regular Mouth Lids and Bands - 12 pack</td>\n",
       "      <td>5.0</td>\n",
       "      <td>Exactly what they should be</td>\n",
       "      <td>I loose the silly bands and lids all of the ti...</td>\n",
       "      <td>2014-01-15</td>\n",
       "      <td>2014</td>\n",
       "    </tr>\n",
       "    <tr>\n",
       "      <th>52612</th>\n",
       "      <td>ADU6LGFXOO4XF</td>\n",
       "      <td>B001VDTZXS</td>\n",
       "      <td>Annamarie Lubow \"Anna\"</td>\n",
       "      <td>Sunbeam Microplush Throw Camelot Cuddler Heate...</td>\n",
       "      <td>5.0</td>\n",
       "      <td>Using it right now...</td>\n",
       "      <td>This has been a cold as heck winter and this l...</td>\n",
       "      <td>2014-01-16</td>\n",
       "      <td>2014</td>\n",
       "    </tr>\n",
       "    <tr>\n",
       "      <th>52613</th>\n",
       "      <td>A3U4K766N97DM1</td>\n",
       "      <td>B000BWY314</td>\n",
       "      <td>Michael</td>\n",
       "      <td>Ball Regular Mouth Lids and Bands - 12 pack</td>\n",
       "      <td>5.0</td>\n",
       "      <td>Great set</td>\n",
       "      <td>I use these on my Libby Country Fair Mason Jar...</td>\n",
       "      <td>2014-01-27</td>\n",
       "      <td>2014</td>\n",
       "    </tr>\n",
       "    <tr>\n",
       "      <th>52614</th>\n",
       "      <td>A3FQ4WV6LCWVDM</td>\n",
       "      <td>B000BWY314</td>\n",
       "      <td>Hard Rock Girl \"Hard Rock Girl\"</td>\n",
       "      <td>Ball Regular Mouth Lids and Bands - 12 pack</td>\n",
       "      <td>5.0</td>\n",
       "      <td>Five Stars</td>\n",
       "      <td>Work great...got them for my mason jars for my...</td>\n",
       "      <td>2014-07-03</td>\n",
       "      <td>2014</td>\n",
       "    </tr>\n",
       "    <tr>\n",
       "      <th>52615</th>\n",
       "      <td>A2DQQUEPK53ORW</td>\n",
       "      <td>B000BWY314</td>\n",
       "      <td>handicapped shopper</td>\n",
       "      <td>Ball Regular Mouth Lids and Bands - 12 pack</td>\n",
       "      <td>5.0</td>\n",
       "      <td>Great!</td>\n",
       "      <td>I use these all the time with my FoodSaver. I ...</td>\n",
       "      <td>2014-02-27</td>\n",
       "      <td>2014</td>\n",
       "    </tr>\n",
       "    <tr>\n",
       "      <th>52616</th>\n",
       "      <td>ANCOMAI0I7LVG</td>\n",
       "      <td>B0087SPTLC</td>\n",
       "      <td>NaN</td>\n",
       "      <td>Primula Coffee Brew Buddy Single Cup Coffee Ma...</td>\n",
       "      <td>5.0</td>\n",
       "      <td>The perfect cup, every time!</td>\n",
       "      <td>I have to admit, I was very skeptical about th...</td>\n",
       "      <td>2014-01-02</td>\n",
       "      <td>2014</td>\n",
       "    </tr>\n",
       "    <tr>\n",
       "      <th>52617</th>\n",
       "      <td>A8KM4YOB8FGGH</td>\n",
       "      <td>B0087SPTLC</td>\n",
       "      <td>Jodi \"languagejunkie\"</td>\n",
       "      <td>Primula Coffee Brew Buddy Single Cup Coffee Ma...</td>\n",
       "      <td>5.0</td>\n",
       "      <td>Pretty handy and makes pretty good coffee</td>\n",
       "      <td>So far no complaints here.  I've been using it...</td>\n",
       "      <td>2014-01-16</td>\n",
       "      <td>2014</td>\n",
       "    </tr>\n",
       "    <tr>\n",
       "      <th>52618</th>\n",
       "      <td>A225UWT247BBBH</td>\n",
       "      <td>B001VDTZXS</td>\n",
       "      <td>J. Blair</td>\n",
       "      <td>Sunbeam Microplush Throw Camelot Cuddler Heate...</td>\n",
       "      <td>5.0</td>\n",
       "      <td>No static, better than a space heater!</td>\n",
       "      <td>This black-white blanket is solid black on the...</td>\n",
       "      <td>2014-01-05</td>\n",
       "      <td>2014</td>\n",
       "    </tr>\n",
       "    <tr>\n",
       "      <th>52619</th>\n",
       "      <td>ANYG6MSV5HB7H</td>\n",
       "      <td>B001VPXEBU</td>\n",
       "      <td>B--SpendzAlot \"bradley\"</td>\n",
       "      <td>Hario MCPN-14B Water Brew Coffee Pot, 1000ml, ...</td>\n",
       "      <td>5.0</td>\n",
       "      <td>Great with a couple of design suggestions</td>\n",
       "      <td>The Hario is great for my cold-brewed coffee.S...</td>\n",
       "      <td>2014-01-26</td>\n",
       "      <td>2014</td>\n",
       "    </tr>\n",
       "    <tr>\n",
       "      <th>52620</th>\n",
       "      <td>AGVH2UVB4QZSS</td>\n",
       "      <td>B0087SPTLC</td>\n",
       "      <td>Avid Reader</td>\n",
       "      <td>Primula Coffee Brew Buddy Single Cup Coffee Ma...</td>\n",
       "      <td>5.0</td>\n",
       "      <td>Easy way to make a single cup of coffee</td>\n",
       "      <td>I like having one cup of decaf coffee a day, b...</td>\n",
       "      <td>2014-01-05</td>\n",
       "      <td>2014</td>\n",
       "    </tr>\n",
       "    <tr>\n",
       "      <th>52621</th>\n",
       "      <td>A2NX6MFZP8TM6S</td>\n",
       "      <td>B0087SPTLC</td>\n",
       "      <td>Deanokat</td>\n",
       "      <td>Primula Coffee Brew Buddy Single Cup Coffee Ma...</td>\n",
       "      <td>5.0</td>\n",
       "      <td>Brew Buddy Is the Bomb</td>\n",
       "      <td>I love this little filter. It's easy to use, e...</td>\n",
       "      <td>2014-01-04</td>\n",
       "      <td>2014</td>\n",
       "    </tr>\n",
       "    <tr>\n",
       "      <th>52622</th>\n",
       "      <td>A1JBBR4MNGQ70G</td>\n",
       "      <td>B0087SPTLC</td>\n",
       "      <td>Falkor The White Luck Dragon</td>\n",
       "      <td>Primula Coffee Brew Buddy Single Cup Coffee Ma...</td>\n",
       "      <td>4.0</td>\n",
       "      <td>Quick,Decent Cup Of Coffee Without Filters</td>\n",
       "      <td>The big advantage to this single cup coffee ma...</td>\n",
       "      <td>2014-01-05</td>\n",
       "      <td>2014</td>\n",
       "    </tr>\n",
       "    <tr>\n",
       "      <th>52623</th>\n",
       "      <td>A3NHUQ33CFH3VM</td>\n",
       "      <td>B001VPXEBU</td>\n",
       "      <td>Citizen John</td>\n",
       "      <td>Hario MCPN-14B Water Brew Coffee Pot, 1000ml, ...</td>\n",
       "      <td>5.0</td>\n",
       "      <td>Not as bad as some say</td>\n",
       "      <td>The first thing to note is that this is thin g...</td>\n",
       "      <td>2014-04-03</td>\n",
       "      <td>2014</td>\n",
       "    </tr>\n",
       "    <tr>\n",
       "      <th>52624</th>\n",
       "      <td>A2WZNM833CJH82</td>\n",
       "      <td>B0087SPTLC</td>\n",
       "      <td>Grandma</td>\n",
       "      <td>Primula Coffee Brew Buddy Single Cup Coffee Ma...</td>\n",
       "      <td>1.0</td>\n",
       "      <td>Messy</td>\n",
       "      <td>Sometimes you just need a single cup of coffee...</td>\n",
       "      <td>2014-01-06</td>\n",
       "      <td>2014</td>\n",
       "    </tr>\n",
       "    <tr>\n",
       "      <th>52625</th>\n",
       "      <td>A1QBOC76MIOJYP</td>\n",
       "      <td>B000BVZ5X0</td>\n",
       "      <td>MyPenName</td>\n",
       "      <td>KitchenAid KHM5APWH 5-Speed Ultra Power Hand M...</td>\n",
       "      <td>4.0</td>\n",
       "      <td>Boysenberry color</td>\n",
       "      <td>I bought this mixer in the Boysenberry color f...</td>\n",
       "      <td>2014-04-28</td>\n",
       "      <td>2014</td>\n",
       "    </tr>\n",
       "    <tr>\n",
       "      <th>52626</th>\n",
       "      <td>A3EGFSX6FQHWQ1</td>\n",
       "      <td>B003M8GMZ4</td>\n",
       "      <td>Mimi</td>\n",
       "      <td>OXO Good Grips Bag CInch, 3-Count, 1 Each: Red...</td>\n",
       "      <td>4.0</td>\n",
       "      <td>They Work</td>\n",
       "      <td>Yes, this item works for smaller type bags suc...</td>\n",
       "      <td>2014-03-16</td>\n",
       "      <td>2014</td>\n",
       "    </tr>\n",
       "  </tbody>\n",
       "</table>\n",
       "<p>52627 rows × 9 columns</p>\n",
       "</div>"
      ],
      "text/plain": [
       "           reviewerID        asin  \\\n",
       "0      A281NPSIMI1C2R  B00004SPEU   \n",
       "1      A281NPSIMI1C2R  B00004SPZV   \n",
       "2      A281NPSIMI1C2R  B00000JGRT   \n",
       "3      A3A15L96IYUO6V  B00004OCJW   \n",
       "4       ALR35EFI69S5R  B00004OCKO   \n",
       "5      A281NPSIMI1C2R  B00004S7YH   \n",
       "6      A1KXONFPU2XQ5K  B00004S9BY   \n",
       "7       A1RPTVW5VEOSI  B00004OCKG   \n",
       "8      A1QPAGGX9FDQXM  B00004SGF0   \n",
       "9      A2TXMYYGSZCSZ1  B00004OCL8   \n",
       "10     A17SZZO9LM3WYC  B00000JGRT   \n",
       "11     A3A15L96IYUO6V  B00004OCIX   \n",
       "12     A3S87ZOPB3UM9N  B00004SGFV   \n",
       "13     A1M2T0J45TTE64  B00004SGFI   \n",
       "14     A231WM2Z2JL0U3  B00004RDF0   \n",
       "15     A3CG6YLYZJXQG4  B00004S56Y   \n",
       "16     A1KXONFPU2XQ5K  B00004SU35   \n",
       "17      ARXU3FESTWMJJ  B00004SGG6   \n",
       "18     A281NPSIMI1C2R  B00004S9D3   \n",
       "19     A1QPAGGX9FDQXM  B00004RIZ7   \n",
       "20     A3S87ZOPB3UM9N  B00004SPZV   \n",
       "21      ALR35EFI69S5R  B00004R93Z   \n",
       "22     A281NPSIMI1C2R  B00004UE7F   \n",
       "23     A281NPSIMI1C2R  B00004OCKR   \n",
       "24     A231WM2Z2JL0U3  B00004S7V8   \n",
       "25     A281NPSIMI1C2R  B00004OCJO   \n",
       "26     A3HRBWBN7DH9XV  B00004S9GX   \n",
       "27     A1M2T0J45TTE64  B00004S9H9   \n",
       "28     A2EDWI5EGP4V9N  B00000JGRT   \n",
       "29     A3S87ZOPB3UM9N  B00004SGG6   \n",
       "...               ...         ...   \n",
       "52597  A380P8LHEL3DZ9  B0087UYR1S   \n",
       "52598  A2PVL5RKAROYVN  B001VZ5E40   \n",
       "52599  A2VBTN6ZR67YOF  B004N4D8X0   \n",
       "52600   ANWB7D10LPJFU  B0087UYR1S   \n",
       "52601  A2AIRFEAWEQC91  B0087UYR1S   \n",
       "52602  A2MDBSMYDZH9VR  B0087UYR1S   \n",
       "52603  A2ZNIKXT764IV4  B0087UYR1S   \n",
       "52604  A3E3MISWTTTNLK  B0087UYR1S   \n",
       "52605  A39WLAM38IEBWM  B000BUDE5M   \n",
       "52606  A1905GXW39DYA3  B000BUDE5M   \n",
       "52607  A2V2N6LUDMD1UG  B001VZ5E40   \n",
       "52608  A1DH3QDZX8Z7GO  B0087Q1T1S   \n",
       "52609  A333XOKAY0TC1V  B000BVHG14   \n",
       "52610  A2B6OOX5ZF4RCY  B000BVHG14   \n",
       "52611  A2H35SLFQIH6SN  B000BWY314   \n",
       "52612   ADU6LGFXOO4XF  B001VDTZXS   \n",
       "52613  A3U4K766N97DM1  B000BWY314   \n",
       "52614  A3FQ4WV6LCWVDM  B000BWY314   \n",
       "52615  A2DQQUEPK53ORW  B000BWY314   \n",
       "52616   ANCOMAI0I7LVG  B0087SPTLC   \n",
       "52617   A8KM4YOB8FGGH  B0087SPTLC   \n",
       "52618  A225UWT247BBBH  B001VDTZXS   \n",
       "52619   ANYG6MSV5HB7H  B001VPXEBU   \n",
       "52620   AGVH2UVB4QZSS  B0087SPTLC   \n",
       "52621  A2NX6MFZP8TM6S  B0087SPTLC   \n",
       "52622  A1JBBR4MNGQ70G  B0087SPTLC   \n",
       "52623  A3NHUQ33CFH3VM  B001VPXEBU   \n",
       "52624  A2WZNM833CJH82  B0087SPTLC   \n",
       "52625  A1QBOC76MIOJYP  B000BVZ5X0   \n",
       "52626  A3EGFSX6FQHWQ1  B003M8GMZ4   \n",
       "\n",
       "                                           reviewerName  \\\n",
       "0                Rebecca of Amazon \"The Rebecca Review\"   \n",
       "1                Rebecca of Amazon \"The Rebecca Review\"   \n",
       "2                Rebecca of Amazon \"The Rebecca Review\"   \n",
       "3                                         Michael Smith   \n",
       "4                          Barron Laycock \"Labradorman\"   \n",
       "5                Rebecca of Amazon \"The Rebecca Review\"   \n",
       "6                                      Stephanie Manley   \n",
       "7                                    Michael J. Edelman   \n",
       "8                                               Michela   \n",
       "9                                  annie \"grannieannie\"   \n",
       "10            Mayflower Girl \"amazon-junkie since 1996\"   \n",
       "11                                        Michael Smith   \n",
       "12                                                 atmj   \n",
       "13                                            G. Powell   \n",
       "14                                              Rheumor   \n",
       "15                               Tracy Rowan \"dargelos\"   \n",
       "16                                     Stephanie Manley   \n",
       "17        Mary Jo Sminkey \"15 years of Amazon Reviews!\"   \n",
       "18               Rebecca of Amazon \"The Rebecca Review\"   \n",
       "19                                              Michela   \n",
       "20                                                 atmj   \n",
       "21                         Barron Laycock \"Labradorman\"   \n",
       "22               Rebecca of Amazon \"The Rebecca Review\"   \n",
       "23               Rebecca of Amazon \"The Rebecca Review\"   \n",
       "24                                              Rheumor   \n",
       "25               Rebecca of Amazon \"The Rebecca Review\"   \n",
       "26                          JK \"johnrktx@sbcglobal.net\"   \n",
       "27                                            G. Powell   \n",
       "28                                          sharkychick   \n",
       "29                                                 atmj   \n",
       "...                                                 ...   \n",
       "52597                              Eve UrAlly \"Ur Ally\"   \n",
       "52598                                       ilaj \"ilaj\"   \n",
       "52599                                       Mike Jacobs   \n",
       "52600                                 John P. Salvaggio   \n",
       "52601                                         Lady Lola   \n",
       "52602                                            SubDeb   \n",
       "52603                                    Sue \"suezieqt\"   \n",
       "52604                                        Todd March   \n",
       "52605  Trai Tao Thom USA \"NUHOANGTHANHNUTRAITAOTHOMUSA\"   \n",
       "52606                                       J. Thompson   \n",
       "52607                                            jrob63   \n",
       "52608                                       Charlemange   \n",
       "52609                                    Bolanle \"Bola\"   \n",
       "52610                     Cray M. Rader \"PennaDutchBoy\"   \n",
       "52611                                        Windfall71   \n",
       "52612                            Annamarie Lubow \"Anna\"   \n",
       "52613                                           Michael   \n",
       "52614                   Hard Rock Girl \"Hard Rock Girl\"   \n",
       "52615                               handicapped shopper   \n",
       "52616                                               NaN   \n",
       "52617                             Jodi \"languagejunkie\"   \n",
       "52618                                          J. Blair   \n",
       "52619                           B--SpendzAlot \"bradley\"   \n",
       "52620                                       Avid Reader   \n",
       "52621                                          Deanokat   \n",
       "52622                      Falkor The White Luck Dragon   \n",
       "52623                                      Citizen John   \n",
       "52624                                           Grandma   \n",
       "52625                                         MyPenName   \n",
       "52626                                              Mimi   \n",
       "\n",
       "                                            productTitle  overall  \\\n",
       "0      KRUPS F20342 Electric Spice and Coffee Grinder...      5.0   \n",
       "1               Misto Brushed Aluminum Olive Oil Sprayer      3.0   \n",
       "2      Cuisinart ICE-20 Automatic 1-1/2-Quart Ice Cre...      5.0   \n",
       "3                 OXO Good Grips Soft Handled Can Opener      5.0   \n",
       "4                 OXO Good Grips Winged Corkscrew, Black      5.0   \n",
       "5                        Wilton 2104-7778 Master Tip Set      4.0   \n",
       "6                  Cuisinart BDH-2 Blade and Disc Holder      4.0   \n",
       "7                      OXO Good Grips Locking Can Opener      5.0   \n",
       "8      KitchenAid KHM5DH 5-Speed Ultra Power Hand Mix...      5.0   \n",
       "9                        OXO Good Grips Flexible Spatula      5.0   \n",
       "10     Cuisinart ICE-20 Automatic 1-1/2-Quart Ice Cre...      5.0   \n",
       "11                OXO Good Grips Ice Cream Scoop - Point      3.0   \n",
       "12     KitchenAid KPS2CL Pouring Shield for 4-1/2 and...      5.0   \n",
       "13     KitchenAid FT Food Tray Attachment for Stand M...      5.0   \n",
       "14     Lello 4080 Musso Lussino 1.5-Quart Ice Cream M...      5.0   \n",
       "15     Zojirushi BBCC-V20 Home Bakery Traditional Bre...      5.0   \n",
       "16     Wabash Valley Farms 25008 Whirley-Pop Stovetop...      5.0   \n",
       "17     KitchenAid KSM90PS 300-Watt Ultra Power 4-1/2-...      5.0   \n",
       "18     Cuisinart ICE-RFB 1-1/2-Quart Additional Freez...      5.0   \n",
       "19             Progressive Stainless Steel Mesh Tea Ball      4.0   \n",
       "20              Misto Brushed Aluminum Olive Oil Sprayer      3.0   \n",
       "21                   George Foreman GR10AWHT Champ Grill      5.0   \n",
       "22                          Norpro Honey Syrup Dispenser      3.0   \n",
       "23                         OXO Good Grips  Salad Spinner      5.0   \n",
       "24                Microplane 40020 Classic Zester/Grater      5.0   \n",
       "25                           OXO Good Grips Lemon Zester      5.0   \n",
       "26     Braun MR430HC Multiquick Deluxe Hand Blender &...      5.0   \n",
       "27       Lodge Original Finish 12-Inch Cast Iron Skillet      5.0   \n",
       "28     Cuisinart ICE-20 Automatic 1-1/2-Quart Ice Cre...      5.0   \n",
       "29     KitchenAid KSM90PS 300-Watt Ultra Power 4-1/2-...      5.0   \n",
       "...                                                  ...      ...   \n",
       "52597  KnappMade CM Scrubber - Chain Mail Cast Iron P...      5.0   \n",
       "52598  Winco MS3A-8S Strainer with Single Fine Mesh, ...      4.0   \n",
       "52599  Malouf Fine Linens&reg; 600 Thread Count GENUI...      5.0   \n",
       "52600  KnappMade CM Scrubber - Chain Mail Cast Iron P...      5.0   \n",
       "52601  KnappMade CM Scrubber - Chain Mail Cast Iron P...      5.0   \n",
       "52602  KnappMade CM Scrubber - Chain Mail Cast Iron P...      5.0   \n",
       "52603  KnappMade CM Scrubber - Chain Mail Cast Iron P...      1.0   \n",
       "52604  KnappMade CM Scrubber - Chain Mail Cast Iron P...      4.0   \n",
       "52605      Endurance Egg Spoons Stainless Steel Set of 4      4.0   \n",
       "52606      Endurance Egg Spoons Stainless Steel Set of 4      5.0   \n",
       "52607  Winco MS3A-8S Strainer with Single Fine Mesh, ...      4.0   \n",
       "52608                               Blendtec Twister Jar      5.0   \n",
       "52609             Ateco 6-Piece Pastry Tube and Tips Set      5.0   \n",
       "52610             Ateco 6-Piece Pastry Tube and Tips Set      4.0   \n",
       "52611        Ball Regular Mouth Lids and Bands - 12 pack      5.0   \n",
       "52612  Sunbeam Microplush Throw Camelot Cuddler Heate...      5.0   \n",
       "52613        Ball Regular Mouth Lids and Bands - 12 pack      5.0   \n",
       "52614        Ball Regular Mouth Lids and Bands - 12 pack      5.0   \n",
       "52615        Ball Regular Mouth Lids and Bands - 12 pack      5.0   \n",
       "52616  Primula Coffee Brew Buddy Single Cup Coffee Ma...      5.0   \n",
       "52617  Primula Coffee Brew Buddy Single Cup Coffee Ma...      5.0   \n",
       "52618  Sunbeam Microplush Throw Camelot Cuddler Heate...      5.0   \n",
       "52619  Hario MCPN-14B Water Brew Coffee Pot, 1000ml, ...      5.0   \n",
       "52620  Primula Coffee Brew Buddy Single Cup Coffee Ma...      5.0   \n",
       "52621  Primula Coffee Brew Buddy Single Cup Coffee Ma...      5.0   \n",
       "52622  Primula Coffee Brew Buddy Single Cup Coffee Ma...      4.0   \n",
       "52623  Hario MCPN-14B Water Brew Coffee Pot, 1000ml, ...      5.0   \n",
       "52624  Primula Coffee Brew Buddy Single Cup Coffee Ma...      1.0   \n",
       "52625  KitchenAid KHM5APWH 5-Speed Ultra Power Hand M...      4.0   \n",
       "52626  OXO Good Grips Bag CInch, 3-Count, 1 Each: Red...      4.0   \n",
       "\n",
       "                                                 summary  \\\n",
       "0                          I use mine to grind spices :)   \n",
       "1                             Good, but a bit of work ;)   \n",
       "2                     Ice Cream keeps us warm in winter?   \n",
       "3                                       Great can opener   \n",
       "4      Quick, Easy &amp; Effective help For WIne Klut...   \n",
       "5                                 The perfect basic set!   \n",
       "6                       Nice addition to food processor.   \n",
       "7           Yes, a can opener you can get excited about!   \n",
       "8                             Best Choice for Hand Mixer   \n",
       "9                     A Must Have for All Cookie Bakers!   \n",
       "10                     Simple to Use!  Fabulous Results!   \n",
       "11                    Good, ice cream is hard to get out   \n",
       "12             I don't know what I would do without this   \n",
       "13                                 No photo description:   \n",
       "14                                  A Ferrari in silver.   \n",
       "15                                     Worth every cent!   \n",
       "16                        Miss the taste of real butter?   \n",
       "17                                 Every cook needs one!   \n",
       "18                                    So many more uses!   \n",
       "19                          Too Large for One Cup of Tea   \n",
       "20                                   A bit disappointing   \n",
       "21                         No Hype; This Grill Is Great!   \n",
       "22                               Better for Maple Syrup!   \n",
       "23                               Salad spinners unite :)   \n",
       "24                                        Nice Surprise!   \n",
       "25                                    Lemon Meringue Pie   \n",
       "26         A Unique Appliance, NOT A Blender Substitute!   \n",
       "27     Best fry pan for browning meat/onions and saut...   \n",
       "28                                 Fabulous! Easy! Fast!   \n",
       "29                                     I love this mixer   \n",
       "...                                                  ...   \n",
       "52597                                          It Works!   \n",
       "52598                                       Handy sifter   \n",
       "52599  Excellent complient to the Malouf 600 sheet se...   \n",
       "52600                                           Scrubbah   \n",
       "52601              This is a great product for cast iron   \n",
       "52602           Does a fantastic job on all my cast iron   \n",
       "52603                                     Waste of money   \n",
       "52604  Fine Cleaner, but be delicate with carbon stee...   \n",
       "52605  THIS SPOONS ARE NOT RIGHT SIZE FOR TO EAT SOFT...   \n",
       "52606                                               Nice   \n",
       "52607                                        Great Price   \n",
       "52608                                   Great for pestos   \n",
       "52609                        Makes cupcake frosting easy   \n",
       "52610                                              Great   \n",
       "52611                        Exactly what they should be   \n",
       "52612                              Using it right now...   \n",
       "52613                                          Great set   \n",
       "52614                                         Five Stars   \n",
       "52615                                             Great!   \n",
       "52616                       The perfect cup, every time!   \n",
       "52617          Pretty handy and makes pretty good coffee   \n",
       "52618             No static, better than a space heater!   \n",
       "52619          Great with a couple of design suggestions   \n",
       "52620            Easy way to make a single cup of coffee   \n",
       "52621                             Brew Buddy Is the Bomb   \n",
       "52622         Quick,Decent Cup Of Coffee Without Filters   \n",
       "52623                             Not as bad as some say   \n",
       "52624                                              Messy   \n",
       "52625                                  Boysenberry color   \n",
       "52626                                          They Work   \n",
       "\n",
       "                                              reviewText reviewTime  Year  \n",
       "0      I guess since I am not using this product ever... 2000-12-17  2000  \n",
       "1      When I first filled this sprayer and gave it a... 2000-11-20  2000  \n",
       "2      After several failed attempts, I began to wond... 2000-09-28  2000  \n",
       "3      This is a great and easy to use can opener. Th... 2000-05-26  2000  \n",
       "4      My lady friend got me a couple of these recent... 2000-08-04  2000  \n",
       "5      I love this set of decorating tips.  The only ... 2000-10-06  2000  \n",
       "6      This is a handy addition to the food processor... 2000-09-05  2000  \n",
       "7      Who'd think a cheap kitchen tool could excite ... 2000-05-04  2000  \n",
       "8      When it was time for me to buy a new hand mixe... 2000-12-23  2000  \n",
       "9      This is the spatula you've been looking for!  ... 2000-11-12  2000  \n",
       "10     I ordered the Cuisinart Ice Cream maker after ... 2000-07-17  2000  \n",
       "11     When scooping ice cream (or frozen yogurt), so... 2000-05-21  2000  \n",
       "12     This is a cool feature for this mixer.I use it... 2000-11-18  2000  \n",
       "13     Since there isn't a photo of this food tray, I... 2000-05-10  2000  \n",
       "14     Fast, sleek, sculpted and expensive.....now th... 2000-11-06  2000  \n",
       "15     I don't know about anyone else but those cylin... 2000-12-31  2000  \n",
       "16     Do you remember when pop corn didn't come out ... 2000-10-03  2000  \n",
       "17     Some of my best memories growing up were my Mo... 2000-08-23  2000  \n",
       "18     While I do have the ice cream maker, I ordered... 2000-12-19  2000  \n",
       "19     This stainless steel mesh tea ball is 2-inches... 2000-12-23  2000  \n",
       "20     I had high hopes for this item as I wholly emb... 2000-09-05  2000  \n",
       "21     Even grizzled old mountain men like me get tir... 2000-08-20  2000  \n",
       "22     While I do keep honey in it, the opening at th... 2000-10-10  2000  \n",
       "23     If you want to get a bit fancy with your salad... 2000-10-07  2000  \n",
       "24     I bought this as a 'stocking stuffer' for Moth... 2000-09-05  2000  \n",
       "25     When I first heard about a zester, I was intri... 2000-09-28  2000  \n",
       "26     I've had stick blenders for many years and use... 2000-05-23  2000  \n",
       "27     Cast iron fry pans are the best choice for fry... 2000-08-23  2000  \n",
       "28     If you think that you cannot make good ice cre... 2000-09-27  2000  \n",
       "29     I have had my cobalt blue mixer for about 6 ye... 2000-11-18  2000  \n",
       "...                                                  ...        ...   ...  \n",
       "52597  It was reviewed on Cooks Illustrated. Hubby th... 2014-05-30  2014  \n",
       "52598  I got this for sifting flours when baking.  It... 2014-01-08  2014  \n",
       "52599  We really loved these on the first use and res... 2014-04-27  2014  \n",
       "52600  It scrubs cast iron cookware. gets dirty quick... 2014-04-23  2014  \n",
       "52601  How ingenious this is. It scrubs my cast iron ... 2014-02-01  2014  \n",
       "52602  Even with the reviews I was not sure about thi... 2014-07-08  2014  \n",
       "52603  I am always willing to try something new to cl... 2014-02-22  2014  \n",
       "52604  I bought this mainly for my carbon steel cookw... 2014-07-05  2014  \n",
       "52605  THIS IS NOT RIGHT ONE FOR TO EAT SOFT EGG BUT ... 2014-03-10  2014  \n",
       "52606  I really liked these spoons.  I use them for m... 2014-02-19  2014  \n",
       "52607  Great price for this wooden handled strainer. ... 2014-02-04  2014  \n",
       "52608  This is a nice addition to anyone's Blendtec m... 2014-04-05  2014  \n",
       "52609  If you make lots of cupcakes, or just make cup... 2014-05-21  2014  \n",
       "52610  As I say about other Ateco  item, these are gr... 2014-04-14  2014  \n",
       "52611  I loose the silly bands and lids all of the ti... 2014-01-15  2014  \n",
       "52612  This has been a cold as heck winter and this l... 2014-01-16  2014  \n",
       "52613  I use these on my Libby Country Fair Mason Jar... 2014-01-27  2014  \n",
       "52614  Work great...got them for my mason jars for my... 2014-07-03  2014  \n",
       "52615  I use these all the time with my FoodSaver. I ... 2014-02-27  2014  \n",
       "52616  I have to admit, I was very skeptical about th... 2014-01-02  2014  \n",
       "52617  So far no complaints here.  I've been using it... 2014-01-16  2014  \n",
       "52618  This black-white blanket is solid black on the... 2014-01-05  2014  \n",
       "52619  The Hario is great for my cold-brewed coffee.S... 2014-01-26  2014  \n",
       "52620  I like having one cup of decaf coffee a day, b... 2014-01-05  2014  \n",
       "52621  I love this little filter. It's easy to use, e... 2014-01-04  2014  \n",
       "52622  The big advantage to this single cup coffee ma... 2014-01-05  2014  \n",
       "52623  The first thing to note is that this is thin g... 2014-04-03  2014  \n",
       "52624  Sometimes you just need a single cup of coffee... 2014-01-06  2014  \n",
       "52625  I bought this mixer in the Boysenberry color f... 2014-04-28  2014  \n",
       "52626  Yes, this item works for smaller type bags suc... 2014-03-16  2014  \n",
       "\n",
       "[52627 rows x 9 columns]"
      ]
     },
     "execution_count": 27,
     "metadata": {},
     "output_type": "execute_result"
    }
   ],
   "source": [
    "reviews20 = reviews20.sort_values(by='Year').reset_index(drop=True)\n",
    "reviews20"
   ]
  },
  {
   "cell_type": "code",
   "execution_count": 28,
   "metadata": {
    "scrolled": true
   },
   "outputs": [
    {
     "name": "stdout",
     "output_type": "stream",
     "text": [
      "No. of unique users:  66519\n",
      "No. of unique products:  28237\n",
      "Size of utility matrix: 66519 x 28237; 1878297003 cells\n",
      "Sparsity: 0.029%\n"
     ]
    }
   ],
   "source": [
    "check_matrix_sparsity(reviews)"
   ]
  },
  {
   "cell_type": "code",
   "execution_count": 29,
   "metadata": {},
   "outputs": [
    {
     "name": "stdout",
     "output_type": "stream",
     "text": [
      "No. of unique users:  2616\n",
      "No. of unique products:  6412\n",
      "Size of utility matrix: 2616 x 6412; 16773792 cells\n",
      "Sparsity: 3.289%\n"
     ]
    }
   ],
   "source": [
    "check_matrix_sparsity(reviews20)"
   ]
  },
  {
   "cell_type": "code",
   "execution_count": 30,
   "metadata": {},
   "outputs": [
    {
     "data": {
      "text/plain": [
       "2000"
      ]
     },
     "execution_count": 30,
     "metadata": {},
     "output_type": "execute_result"
    }
   ],
   "source": [
    "reviews20['Year'].min()"
   ]
  },
  {
   "cell_type": "code",
   "execution_count": 31,
   "metadata": {},
   "outputs": [
    {
     "data": {
      "text/plain": [
       "(52627, 9)"
      ]
     },
     "execution_count": 31,
     "metadata": {},
     "output_type": "execute_result"
    }
   ],
   "source": [
    "reviews20.shape"
   ]
  },
  {
   "cell_type": "code",
   "execution_count": 32,
   "metadata": {},
   "outputs": [
    {
     "data": {
      "text/html": [
       "<div>\n",
       "<style scoped>\n",
       "    .dataframe tbody tr th:only-of-type {\n",
       "        vertical-align: middle;\n",
       "    }\n",
       "\n",
       "    .dataframe tbody tr th {\n",
       "        vertical-align: top;\n",
       "    }\n",
       "\n",
       "    .dataframe thead th {\n",
       "        text-align: right;\n",
       "    }\n",
       "</style>\n",
       "<table border=\"1\" class=\"dataframe\">\n",
       "  <thead>\n",
       "    <tr style=\"text-align: right;\">\n",
       "      <th></th>\n",
       "      <th>reviewerID</th>\n",
       "      <th>asin</th>\n",
       "      <th>reviewerName</th>\n",
       "      <th>productTitle</th>\n",
       "      <th>overall</th>\n",
       "      <th>summary</th>\n",
       "      <th>reviewText</th>\n",
       "      <th>reviewTime</th>\n",
       "      <th>Year</th>\n",
       "    </tr>\n",
       "  </thead>\n",
       "  <tbody>\n",
       "    <tr>\n",
       "      <th>0</th>\n",
       "      <td>A281NPSIMI1C2R</td>\n",
       "      <td>B00004SPEU</td>\n",
       "      <td>Rebecca of Amazon \"The Rebecca Review\"</td>\n",
       "      <td>KRUPS F20342 Electric Spice and Coffee Grinder...</td>\n",
       "      <td>5.0</td>\n",
       "      <td>I use mine to grind spices :)</td>\n",
       "      <td>I guess since I am not using this product ever...</td>\n",
       "      <td>2000-12-17</td>\n",
       "      <td>2000</td>\n",
       "    </tr>\n",
       "    <tr>\n",
       "      <th>1</th>\n",
       "      <td>A281NPSIMI1C2R</td>\n",
       "      <td>B00004SPZV</td>\n",
       "      <td>Rebecca of Amazon \"The Rebecca Review\"</td>\n",
       "      <td>Misto Brushed Aluminum Olive Oil Sprayer</td>\n",
       "      <td>3.0</td>\n",
       "      <td>Good, but a bit of work ;)</td>\n",
       "      <td>When I first filled this sprayer and gave it a...</td>\n",
       "      <td>2000-11-20</td>\n",
       "      <td>2000</td>\n",
       "    </tr>\n",
       "    <tr>\n",
       "      <th>2</th>\n",
       "      <td>A281NPSIMI1C2R</td>\n",
       "      <td>B00000JGRT</td>\n",
       "      <td>Rebecca of Amazon \"The Rebecca Review\"</td>\n",
       "      <td>Cuisinart ICE-20 Automatic 1-1/2-Quart Ice Cre...</td>\n",
       "      <td>5.0</td>\n",
       "      <td>Ice Cream keeps us warm in winter?</td>\n",
       "      <td>After several failed attempts, I began to wond...</td>\n",
       "      <td>2000-09-28</td>\n",
       "      <td>2000</td>\n",
       "    </tr>\n",
       "    <tr>\n",
       "      <th>3</th>\n",
       "      <td>A3A15L96IYUO6V</td>\n",
       "      <td>B00004OCJW</td>\n",
       "      <td>Michael Smith</td>\n",
       "      <td>OXO Good Grips Soft Handled Can Opener</td>\n",
       "      <td>5.0</td>\n",
       "      <td>Great can opener</td>\n",
       "      <td>This is a great and easy to use can opener. Th...</td>\n",
       "      <td>2000-05-26</td>\n",
       "      <td>2000</td>\n",
       "    </tr>\n",
       "    <tr>\n",
       "      <th>4</th>\n",
       "      <td>ALR35EFI69S5R</td>\n",
       "      <td>B00004OCKO</td>\n",
       "      <td>Barron Laycock \"Labradorman\"</td>\n",
       "      <td>OXO Good Grips Winged Corkscrew, Black</td>\n",
       "      <td>5.0</td>\n",
       "      <td>Quick, Easy &amp;amp; Effective help For WIne Klut...</td>\n",
       "      <td>My lady friend got me a couple of these recent...</td>\n",
       "      <td>2000-08-04</td>\n",
       "      <td>2000</td>\n",
       "    </tr>\n",
       "  </tbody>\n",
       "</table>\n",
       "</div>"
      ],
      "text/plain": [
       "       reviewerID        asin                            reviewerName  \\\n",
       "0  A281NPSIMI1C2R  B00004SPEU  Rebecca of Amazon \"The Rebecca Review\"   \n",
       "1  A281NPSIMI1C2R  B00004SPZV  Rebecca of Amazon \"The Rebecca Review\"   \n",
       "2  A281NPSIMI1C2R  B00000JGRT  Rebecca of Amazon \"The Rebecca Review\"   \n",
       "3  A3A15L96IYUO6V  B00004OCJW                           Michael Smith   \n",
       "4   ALR35EFI69S5R  B00004OCKO            Barron Laycock \"Labradorman\"   \n",
       "\n",
       "                                        productTitle  overall  \\\n",
       "0  KRUPS F20342 Electric Spice and Coffee Grinder...      5.0   \n",
       "1           Misto Brushed Aluminum Olive Oil Sprayer      3.0   \n",
       "2  Cuisinart ICE-20 Automatic 1-1/2-Quart Ice Cre...      5.0   \n",
       "3             OXO Good Grips Soft Handled Can Opener      5.0   \n",
       "4             OXO Good Grips Winged Corkscrew, Black      5.0   \n",
       "\n",
       "                                             summary  \\\n",
       "0                      I use mine to grind spices :)   \n",
       "1                         Good, but a bit of work ;)   \n",
       "2                 Ice Cream keeps us warm in winter?   \n",
       "3                                   Great can opener   \n",
       "4  Quick, Easy &amp; Effective help For WIne Klut...   \n",
       "\n",
       "                                          reviewText reviewTime  Year  \n",
       "0  I guess since I am not using this product ever... 2000-12-17  2000  \n",
       "1  When I first filled this sprayer and gave it a... 2000-11-20  2000  \n",
       "2  After several failed attempts, I began to wond... 2000-09-28  2000  \n",
       "3  This is a great and easy to use can opener. Th... 2000-05-26  2000  \n",
       "4  My lady friend got me a couple of these recent... 2000-08-04  2000  "
      ]
     },
     "execution_count": 32,
     "metadata": {},
     "output_type": "execute_result"
    }
   ],
   "source": [
    "# split train and test\n",
    "reviews20.head()"
   ]
  },
  {
   "cell_type": "code",
   "execution_count": 33,
   "metadata": {},
   "outputs": [],
   "source": [
    "reviews20_pre2014 = reviews20[reviews20['Year'] != 2014]\n",
    "reviews20_2014 = reviews20[reviews20['Year'] == 2014]"
   ]
  },
  {
   "cell_type": "code",
   "execution_count": 34,
   "metadata": {},
   "outputs": [],
   "source": [
    "# for flask model\n",
    "reviews20_pre2014.to_csv('./dataset/reviews20reducedpre.csv',index=False)"
   ]
  },
  {
   "cell_type": "code",
   "execution_count": 35,
   "metadata": {},
   "outputs": [
    {
     "name": "stdout",
     "output_type": "stream",
     "text": [
      "No. of products before 2014:  6412\n",
      "No. of products in 2014:  3324\n",
      "Subset?  True\n"
     ]
    }
   ],
   "source": [
    "# checking if by removing 2014 users, are my product columns still the same? \n",
    "\n",
    "print('No. of products before 2014: ', len(set(reviews20_pre2014['asin'])))\n",
    "print('No. of products in 2014: ', len(set(reviews20_2014['asin'])))\n",
    "print('Subset? ', set(reviews20_2014['asin']).issubset(set(reviews20_pre2014['asin'])))"
   ]
  },
  {
   "cell_type": "markdown",
   "metadata": {},
   "source": [
    "### 3.4 Creating lookup dictionaries to match user-products and product-users\n",
    "This is to help in the retrieval of products bought by users"
   ]
  },
  {
   "cell_type": "code",
   "execution_count": 36,
   "metadata": {},
   "outputs": [],
   "source": [
    "# create a dictionary of user: products\n",
    "user_products_train = {}\n",
    "\n",
    "for row in reviews20_pre2014[['reviewerID','productTitle']].itertuples():\n",
    "    user_products_train.setdefault(row[1], set())\n",
    "    user_products_train[row[1]].add(row[2])\n",
    "    \n",
    "user_products_test = {}\n",
    "for row in reviews20_2014[['reviewerID','productTitle']].itertuples():\n",
    "    user_products_test.setdefault(row[1], set())\n",
    "    user_products_test[row[1]].add(row[2])"
   ]
  },
  {
   "cell_type": "code",
   "execution_count": 37,
   "metadata": {},
   "outputs": [],
   "source": [
    "# create another dictionary of products: users\n",
    "product_users_train = {}\n",
    "\n",
    "for row in reviews20_pre2014[['reviewerID','productTitle']].itertuples():\n",
    "    product_users_train.setdefault(row[2], set())\n",
    "    product_users_train[row[2]].add(row[1])\n",
    "    \n",
    "product_users_test = {}\n",
    "\n",
    "for row in reviews20_2014[['reviewerID','productTitle']].itertuples():\n",
    "    product_users_test.setdefault(row[2], set())\n",
    "    product_users_test[row[2]].add(row[1])"
   ]
  },
  {
   "cell_type": "markdown",
   "metadata": {},
   "source": [
    "### 3.5 Dropping irrelevant columns for modelling"
   ]
  },
  {
   "cell_type": "code",
   "execution_count": 38,
   "metadata": {},
   "outputs": [],
   "source": [
    "reviews20_pre2014 = reviews20[reviews20['Year'] != 2014][['reviewerID','asin','overall']]\n",
    "reviews20_2014 = reviews20[reviews20['Year'] == 2014][['reviewerID','asin','overall']]"
   ]
  },
  {
   "cell_type": "markdown",
   "metadata": {},
   "source": [
    "### 3.6 Generating User-Item Utility Matrix"
   ]
  },
  {
   "cell_type": "code",
   "execution_count": 39,
   "metadata": {},
   "outputs": [
    {
     "data": {
      "text/html": [
       "<div>\n",
       "<style scoped>\n",
       "    .dataframe tbody tr th:only-of-type {\n",
       "        vertical-align: middle;\n",
       "    }\n",
       "\n",
       "    .dataframe tbody tr th {\n",
       "        vertical-align: top;\n",
       "    }\n",
       "\n",
       "    .dataframe thead th {\n",
       "        text-align: right;\n",
       "    }\n",
       "</style>\n",
       "<table border=\"1\" class=\"dataframe\">\n",
       "  <thead>\n",
       "    <tr style=\"text-align: right;\">\n",
       "      <th>asin</th>\n",
       "      <th>0912696591</th>\n",
       "      <th>B00000JGRP</th>\n",
       "      <th>B00000JGRQ</th>\n",
       "      <th>B00000JGRT</th>\n",
       "      <th>B00002N5FO</th>\n",
       "      <th>B00002N5Z9</th>\n",
       "      <th>B00002N5ZB</th>\n",
       "      <th>B00002N601</th>\n",
       "      <th>B00002N602</th>\n",
       "      <th>B00002N6SQ</th>\n",
       "      <th>...</th>\n",
       "      <th>B00GEGHNZE</th>\n",
       "      <th>B00GSXFKYY</th>\n",
       "      <th>B00GTCAY04</th>\n",
       "      <th>B00H1HYZ9C</th>\n",
       "      <th>B00H1OUSD2</th>\n",
       "      <th>B00H5EZ982</th>\n",
       "      <th>B00H5F3GRW</th>\n",
       "      <th>B00I4V1U06</th>\n",
       "      <th>B00JM3VFVE</th>\n",
       "      <th>B00KQJ42CW</th>\n",
       "    </tr>\n",
       "    <tr>\n",
       "      <th>reviewerID</th>\n",
       "      <th></th>\n",
       "      <th></th>\n",
       "      <th></th>\n",
       "      <th></th>\n",
       "      <th></th>\n",
       "      <th></th>\n",
       "      <th></th>\n",
       "      <th></th>\n",
       "      <th></th>\n",
       "      <th></th>\n",
       "      <th></th>\n",
       "      <th></th>\n",
       "      <th></th>\n",
       "      <th></th>\n",
       "      <th></th>\n",
       "      <th></th>\n",
       "      <th></th>\n",
       "      <th></th>\n",
       "      <th></th>\n",
       "      <th></th>\n",
       "      <th></th>\n",
       "    </tr>\n",
       "  </thead>\n",
       "  <tbody>\n",
       "    <tr>\n",
       "      <th>A100L918633LUO</th>\n",
       "      <td>NaN</td>\n",
       "      <td>NaN</td>\n",
       "      <td>NaN</td>\n",
       "      <td>NaN</td>\n",
       "      <td>NaN</td>\n",
       "      <td>NaN</td>\n",
       "      <td>NaN</td>\n",
       "      <td>NaN</td>\n",
       "      <td>NaN</td>\n",
       "      <td>NaN</td>\n",
       "      <td>...</td>\n",
       "      <td>NaN</td>\n",
       "      <td>NaN</td>\n",
       "      <td>NaN</td>\n",
       "      <td>NaN</td>\n",
       "      <td>NaN</td>\n",
       "      <td>NaN</td>\n",
       "      <td>NaN</td>\n",
       "      <td>NaN</td>\n",
       "      <td>NaN</td>\n",
       "      <td>NaN</td>\n",
       "    </tr>\n",
       "    <tr>\n",
       "      <th>A100UD67AHFODS</th>\n",
       "      <td>NaN</td>\n",
       "      <td>NaN</td>\n",
       "      <td>NaN</td>\n",
       "      <td>NaN</td>\n",
       "      <td>NaN</td>\n",
       "      <td>NaN</td>\n",
       "      <td>NaN</td>\n",
       "      <td>NaN</td>\n",
       "      <td>NaN</td>\n",
       "      <td>NaN</td>\n",
       "      <td>...</td>\n",
       "      <td>NaN</td>\n",
       "      <td>NaN</td>\n",
       "      <td>NaN</td>\n",
       "      <td>NaN</td>\n",
       "      <td>NaN</td>\n",
       "      <td>NaN</td>\n",
       "      <td>NaN</td>\n",
       "      <td>NaN</td>\n",
       "      <td>NaN</td>\n",
       "      <td>NaN</td>\n",
       "    </tr>\n",
       "    <tr>\n",
       "      <th>A100WO06OQR8BQ</th>\n",
       "      <td>NaN</td>\n",
       "      <td>NaN</td>\n",
       "      <td>NaN</td>\n",
       "      <td>NaN</td>\n",
       "      <td>NaN</td>\n",
       "      <td>NaN</td>\n",
       "      <td>NaN</td>\n",
       "      <td>NaN</td>\n",
       "      <td>NaN</td>\n",
       "      <td>NaN</td>\n",
       "      <td>...</td>\n",
       "      <td>NaN</td>\n",
       "      <td>NaN</td>\n",
       "      <td>NaN</td>\n",
       "      <td>NaN</td>\n",
       "      <td>NaN</td>\n",
       "      <td>NaN</td>\n",
       "      <td>NaN</td>\n",
       "      <td>NaN</td>\n",
       "      <td>NaN</td>\n",
       "      <td>NaN</td>\n",
       "    </tr>\n",
       "    <tr>\n",
       "      <th>A1027WM3PXKVMR</th>\n",
       "      <td>NaN</td>\n",
       "      <td>NaN</td>\n",
       "      <td>NaN</td>\n",
       "      <td>NaN</td>\n",
       "      <td>NaN</td>\n",
       "      <td>NaN</td>\n",
       "      <td>NaN</td>\n",
       "      <td>NaN</td>\n",
       "      <td>NaN</td>\n",
       "      <td>NaN</td>\n",
       "      <td>...</td>\n",
       "      <td>NaN</td>\n",
       "      <td>NaN</td>\n",
       "      <td>NaN</td>\n",
       "      <td>NaN</td>\n",
       "      <td>NaN</td>\n",
       "      <td>NaN</td>\n",
       "      <td>NaN</td>\n",
       "      <td>NaN</td>\n",
       "      <td>NaN</td>\n",
       "      <td>NaN</td>\n",
       "    </tr>\n",
       "    <tr>\n",
       "      <th>A103BJIOJSDJL1</th>\n",
       "      <td>NaN</td>\n",
       "      <td>NaN</td>\n",
       "      <td>NaN</td>\n",
       "      <td>NaN</td>\n",
       "      <td>NaN</td>\n",
       "      <td>NaN</td>\n",
       "      <td>NaN</td>\n",
       "      <td>NaN</td>\n",
       "      <td>NaN</td>\n",
       "      <td>NaN</td>\n",
       "      <td>...</td>\n",
       "      <td>NaN</td>\n",
       "      <td>NaN</td>\n",
       "      <td>NaN</td>\n",
       "      <td>NaN</td>\n",
       "      <td>NaN</td>\n",
       "      <td>NaN</td>\n",
       "      <td>NaN</td>\n",
       "      <td>NaN</td>\n",
       "      <td>NaN</td>\n",
       "      <td>NaN</td>\n",
       "    </tr>\n",
       "  </tbody>\n",
       "</table>\n",
       "<p>5 rows × 6412 columns</p>\n",
       "</div>"
      ],
      "text/plain": [
       "asin            0912696591  B00000JGRP  B00000JGRQ  B00000JGRT  B00002N5FO  \\\n",
       "reviewerID                                                                   \n",
       "A100L918633LUO         NaN         NaN         NaN         NaN         NaN   \n",
       "A100UD67AHFODS         NaN         NaN         NaN         NaN         NaN   \n",
       "A100WO06OQR8BQ         NaN         NaN         NaN         NaN         NaN   \n",
       "A1027WM3PXKVMR         NaN         NaN         NaN         NaN         NaN   \n",
       "A103BJIOJSDJL1         NaN         NaN         NaN         NaN         NaN   \n",
       "\n",
       "asin            B00002N5Z9  B00002N5ZB  B00002N601  B00002N602  B00002N6SQ  \\\n",
       "reviewerID                                                                   \n",
       "A100L918633LUO         NaN         NaN         NaN         NaN         NaN   \n",
       "A100UD67AHFODS         NaN         NaN         NaN         NaN         NaN   \n",
       "A100WO06OQR8BQ         NaN         NaN         NaN         NaN         NaN   \n",
       "A1027WM3PXKVMR         NaN         NaN         NaN         NaN         NaN   \n",
       "A103BJIOJSDJL1         NaN         NaN         NaN         NaN         NaN   \n",
       "\n",
       "asin               ...      B00GEGHNZE  B00GSXFKYY  B00GTCAY04  B00H1HYZ9C  \\\n",
       "reviewerID         ...                                                       \n",
       "A100L918633LUO     ...             NaN         NaN         NaN         NaN   \n",
       "A100UD67AHFODS     ...             NaN         NaN         NaN         NaN   \n",
       "A100WO06OQR8BQ     ...             NaN         NaN         NaN         NaN   \n",
       "A1027WM3PXKVMR     ...             NaN         NaN         NaN         NaN   \n",
       "A103BJIOJSDJL1     ...             NaN         NaN         NaN         NaN   \n",
       "\n",
       "asin            B00H1OUSD2  B00H5EZ982  B00H5F3GRW  B00I4V1U06  B00JM3VFVE  \\\n",
       "reviewerID                                                                   \n",
       "A100L918633LUO         NaN         NaN         NaN         NaN         NaN   \n",
       "A100UD67AHFODS         NaN         NaN         NaN         NaN         NaN   \n",
       "A100WO06OQR8BQ         NaN         NaN         NaN         NaN         NaN   \n",
       "A1027WM3PXKVMR         NaN         NaN         NaN         NaN         NaN   \n",
       "A103BJIOJSDJL1         NaN         NaN         NaN         NaN         NaN   \n",
       "\n",
       "asin            B00KQJ42CW  \n",
       "reviewerID                  \n",
       "A100L918633LUO         NaN  \n",
       "A100UD67AHFODS         NaN  \n",
       "A100WO06OQR8BQ         NaN  \n",
       "A1027WM3PXKVMR         NaN  \n",
       "A103BJIOJSDJL1         NaN  \n",
       "\n",
       "[5 rows x 6412 columns]"
      ]
     },
     "execution_count": 39,
     "metadata": {},
     "output_type": "execute_result"
    }
   ],
   "source": [
    "user_utility_matrix = reviews20_pre2014.pivot_table(values='overall',index='reviewerID',columns='asin')\n",
    "user_utility_matrix.head()"
   ]
  },
  {
   "cell_type": "markdown",
   "metadata": {},
   "source": [
    "# 4. Modelling"
   ]
  },
  {
   "cell_type": "code",
   "execution_count": 40,
   "metadata": {},
   "outputs": [],
   "source": [
    "def generate_predicted_ratings_matrix(utility_matrix):\n",
    "    \"\"\"\n",
    "    Predict ratings for every product-user combination in the train set with a given Surprise model (algo)\n",
    "    \"\"\"\n",
    "    predicted_ratings_matrix = (utility_matrix.fillna(0).stack().to_frame()\n",
    "                                .apply(lambda x: algo.predict(x.name[0], x.name[1]).est, axis=1).unstack())\n",
    "\n",
    "    return predicted_ratings_matrix"
   ]
  },
  {
   "cell_type": "code",
   "execution_count": 41,
   "metadata": {},
   "outputs": [],
   "source": [
    "def generate_recommendations(user_id, pred_matrix, n_recommended_items, \n",
    "                             return_recommendations_only=False, print_results=True):\n",
    "    \n",
    "    sorted_items = list(pred_matrix.T[user_id].sort_values().index)\n",
    "    \n",
    "    recommended_items = []\n",
    "    \n",
    "    while len(recommended_items) < n_recommended_items:\n",
    "        item = product_lookup[sorted_items.pop()]\n",
    "        if item not in user_products_train[user_id]:\n",
    "            recommended_items.append(item)\n",
    "    \n",
    "    user_purchase_history = user_products_train[user_id]\n",
    "    user_actual_purchase = user_products_test[user_id]\n",
    "    \n",
    "    if print_results == True:\n",
    "        print(\"==== User's Purchase History ====\")\n",
    "        for item in user_purchase_history:\n",
    "            print(item)\n",
    "\n",
    "        print(\"\\n==== User's Actual Purchase in 2014 ====\")\n",
    "        for item in user_actual_purchase:\n",
    "            print(item)   \n",
    "            \n",
    "        print(\"\\n==== Model's Top 10 Recommendations ====\")\n",
    "        for item in recommended_items:\n",
    "            print(item)\n",
    "    \n",
    "    if return_recommendations_only == True:\n",
    "        return recommended_items\n",
    "    else:\n",
    "        return recommended_items, user_purchase_history, user_actual_purchase"
   ]
  },
  {
   "cell_type": "code",
   "execution_count": 42,
   "metadata": {},
   "outputs": [],
   "source": [
    "def calculate_rmse(test_df):\n",
    "    \n",
    "    preds = test_df.copy()\n",
    "    preds['predicted'] = preds.apply(lambda row: algo.predict(row['reviewerID'],row['asin'])[3], axis=1)\n",
    "    \n",
    "    rmse = np.sqrt(mean_squared_error(preds['overall'], preds['predicted']))\n",
    "    \n",
    "    return rmse, preds"
   ]
  },
  {
   "cell_type": "code",
   "execution_count": 43,
   "metadata": {},
   "outputs": [],
   "source": [
    "def model_evaluation_recall(user_id, recommended_list):\n",
    "    \"\"\"\n",
    "    Returns the number/proportion of the model's recommended items that the user actually bought in the test set\n",
    "    Returns the proportion of the test set that was recommended by the model\n",
    "    (test & rec) / test\n",
    "    \"\"\"\n",
    "    item_intersection_count = len(set(recommended_list) & user_products_test[user_id])\n",
    "    \n",
    "    pct_recall = item_intersection_count / len(user_products_test[user_id])\n",
    "    \n",
    "    return pct_recall"
   ]
  },
  {
   "cell_type": "code",
   "execution_count": 44,
   "metadata": {},
   "outputs": [],
   "source": [
    "def model_evaluation_recall_cat(rec, actual, verbose=False):\n",
    "    \n",
    "    rec_categories = set([category_lookup_short[item] for item in rec])\n",
    "    actual_categories = set([category_lookup_short[item] for item in actual])\n",
    "    \n",
    "    overlap = rec_categories & actual_categories\n",
    "    pct_recall = len(overlap)/len(rec)\n",
    "    \n",
    "    if verbose==True:\n",
    "        print(overlap)\n",
    "    \n",
    "    return pct_recall"
   ]
  },
  {
   "cell_type": "code",
   "execution_count": 45,
   "metadata": {},
   "outputs": [],
   "source": [
    "def hybrid_recommendations(user_id, perc_svd=0.3, return_recommendations_only=False):\n",
    "    uu_rec, history, actual = generate_recommendations(user_id, \n",
    "                                                       pred_matrix = uucf_k3_pearsonbaseline_predicted_ratings_matrix,\n",
    "                                                       n_recommended_items = int(10*(1-perc_svd)),\n",
    "                                                       return_recommendations_only=False,\n",
    "                                                       print_results=False)\n",
    "    \n",
    "    svd_rec = generate_recommendations(user_id, \n",
    "                                       pred_matrix = svd_k40reg_predicted_ratings_matrix,\n",
    "                                       n_recommended_items = int(10*perc_svd),\n",
    "                                       return_recommendations_only=True,\n",
    "                                       print_results=False)\n",
    "    \n",
    "    final_rec = uu_rec + svd_rec\n",
    "    \n",
    "    if return_recommendations_only==False:\n",
    "        return final_rec, history, actual\n",
    "    else: \n",
    "        return final_rec"
   ]
  },
  {
   "cell_type": "code",
   "execution_count": 46,
   "metadata": {},
   "outputs": [],
   "source": [
    "def items_with_categories(list_of_products, user_id, pred_matrix, list_type='actual'):\n",
    "    \n",
    "    def categories_to_columns(row, cat_level):\n",
    "        try:\n",
    "            return row[cat_level]\n",
    "        except IndexError:\n",
    "            return np.nan\n",
    "        \n",
    "    def get_product_id(product_name):\n",
    "        return metadata[metadata['title']==product_name]['asin'].values[0]\n",
    "    \n",
    "    rec_cat = pd.DataFrame([[item, category_lookup[item]] for item in list_of_products], \n",
    "                           columns=['Product Names', 'Category Path'])\n",
    "    \n",
    "    rec_cat['Category Path'] = rec_cat['Category Path'].apply(\n",
    "        lambda x: [cat.strip() for cat in re.sub('[\\[\\]\\'\\\"]', '', x).split(',')])\n",
    "    \n",
    "    rec_cat['cat_1'] = rec_cat['Category Path'].apply(lambda x: categories_to_columns(x,1))\n",
    "\n",
    "    for i in range(1, 7):\n",
    "        rec_cat['cat_'+str(i)] = rec_cat['Category Path'].apply(lambda x: categories_to_columns(x, i-1))\n",
    "    \n",
    "    rec_cat = rec_cat[['Product Names', 'cat_2', 'cat_3', 'cat_4']].sort_values(by=['cat_2','cat_3','cat_4'])\n",
    "    \n",
    "    if list_type == 'recommended':\n",
    "        \n",
    "        rec_cat['ratings'] = rec_cat['Product Names'].apply(lambda x: pred_matrix.T[user_id][get_product_id(x)])\n",
    "        return rec_cat.sort_values(by='ratings', ascending=False)\n",
    "    \n",
    "    elif list_type == 'actual':\n",
    "        rec_cat['ratings'] = rec_cat['Product Names'].apply(lambda x: reviews20[(reviews20['productTitle']==x) & \n",
    "                                                                                (reviews20['reviewerID']==user_id)]['overall'].values[0])\n",
    "        return rec_cat"
   ]
  },
  {
   "cell_type": "code",
   "execution_count": 47,
   "metadata": {},
   "outputs": [],
   "source": [
    "def n_random_items(n):\n",
    "    return np.random.choice(metadata['title'].unique(),n)"
   ]
  },
  {
   "cell_type": "code",
   "execution_count": 48,
   "metadata": {},
   "outputs": [],
   "source": [
    "def print_product_images(product_list):\n",
    "    for item in product_list:\n",
    "        print('=== {} ==='.format(item))\n",
    "        display(Image(url=imgurl_lookup[item]))"
   ]
  },
  {
   "cell_type": "markdown",
   "metadata": {},
   "source": [
    "# Testing all models"
   ]
  },
  {
   "cell_type": "markdown",
   "metadata": {},
   "source": [
    "## UUCF, k=3, Pearson similarity"
   ]
  },
  {
   "cell_type": "code",
   "execution_count": 49,
   "metadata": {},
   "outputs": [
    {
     "name": "stdout",
     "output_type": "stream",
     "text": [
      "Computing the pearson similarity matrix...\n",
      "Done computing similarity matrix.\n"
     ]
    },
    {
     "data": {
      "text/plain": [
       "<surprise.prediction_algorithms.knns.KNNWithMeans at 0x121b71fd0>"
      ]
     },
     "execution_count": 49,
     "metadata": {},
     "output_type": "execute_result"
    }
   ],
   "source": [
    "reader = Reader(rating_scale=(1,5))\n",
    "data = Dataset.load_from_df(reviews20_pre2014[['reviewerID', 'asin', 'overall']], reader)\n",
    "trainset = data.build_full_trainset()\n",
    "\n",
    "algo = KNNWithMeans(k=3, sim_options={'name': 'pearson', 'user_based': True})\n",
    "algo.fit(trainset)"
   ]
  },
  {
   "cell_type": "code",
   "execution_count": 50,
   "metadata": {},
   "outputs": [],
   "source": [
    "uucf_k3_pearson_predicted_ratings_matrix = generate_predicted_ratings_matrix(user_utility_matrix)"
   ]
  },
  {
   "cell_type": "code",
   "execution_count": 51,
   "metadata": {},
   "outputs": [
    {
     "data": {
      "text/plain": [
       "1.0060736510510646"
      ]
     },
     "execution_count": 51,
     "metadata": {},
     "output_type": "execute_result"
    }
   ],
   "source": [
    "rmse, preds = calculate_rmse(reviews20_2014)\n",
    "rmse"
   ]
  },
  {
   "cell_type": "code",
   "execution_count": 52,
   "metadata": {},
   "outputs": [
    {
     "name": "stdout",
     "output_type": "stream",
     "text": [
      "End\n",
      "% of test with at least one item from recommended list:  0.009047365620010643\n",
      "Avg hit rate: 0.2833134142239754 ± 0.3023293818139499\n"
     ]
    }
   ],
   "source": [
    "min_1_hit = 0\n",
    "hit_rates = []\n",
    "\n",
    "for user in reviews20_2014['reviewerID'].unique():\n",
    "    \n",
    "    user_recall = model_evaluation_recall(user, generate_recommendations(user, \n",
    "                                                                         uucf_k3_pearson_predicted_ratings_matrix,\n",
    "                                                                         n_recommended_items=10,\n",
    "                                                                         return_recommendations_only=True, \n",
    "                                                                         print_results=False))\n",
    "    \n",
    "    if user_recall > 0:\n",
    "        min_1_hit += 1\n",
    "        hit_rates.append(user_recall)\n",
    "\n",
    "print('End')\n",
    "print('% of test with at least one item from recommended list: ', min_1_hit/len(reviews20_2014['reviewerID'].unique()))\n",
    "print('Avg hit rate: {} ± {}'.format(np.mean(hit_rates), np.std(hit_rates)))"
   ]
  },
  {
   "cell_type": "code",
   "execution_count": 53,
   "metadata": {},
   "outputs": [
    {
     "name": "stdout",
     "output_type": "stream",
     "text": [
      "End\n",
      "% of test with at least one item from recommended list:  0.26450239489089944\n",
      "Avg hit rate: 0.12092555331991954 ± 0.050795963128645115\n"
     ]
    }
   ],
   "source": [
    "min_1_hit = 0\n",
    "hit_rates = []\n",
    "\n",
    "for user in reviews20_2014['reviewerID'].unique():\n",
    "    \n",
    "    try:\n",
    "        rec, history, actual = generate_recommendations(user, \n",
    "                                                        uucf_k3_pearson_predicted_ratings_matrix,\n",
    "                                                        n_recommended_items=10,\n",
    "                                                        return_recommendations_only=False, \n",
    "                                                        print_results=False)\n",
    "\n",
    "        user_recall = model_evaluation_recall_cat(rec, actual)\n",
    "\n",
    "        if user_recall > 0:\n",
    "            min_1_hit += 1\n",
    "            hit_rates.append(user_recall)\n",
    "    \n",
    "    except KeyError:\n",
    "        continue\n",
    "\n",
    "print('End')\n",
    "print('% of test with at least one item from recommended list: ', min_1_hit/len(reviews20_2014['reviewerID'].unique()))\n",
    "print('Avg hit rate: {} ± {}'.format(np.mean(hit_rates), np.std(hit_rates)))"
   ]
  },
  {
   "cell_type": "code",
   "execution_count": 54,
   "metadata": {},
   "outputs": [],
   "source": [
    "rec, history, actual = generate_recommendations('A1S3C5OFU508P3',\n",
    "                                                uucf_k3_pearson_predicted_ratings_matrix,\n",
    "                                                10,\n",
    "                                                return_recommendations_only=False,\n",
    "                                                print_results=False)"
   ]
  },
  {
   "cell_type": "code",
   "execution_count": 55,
   "metadata": {},
   "outputs": [
    {
     "name": "stdout",
     "output_type": "stream",
     "text": [
      "=== Martex Bath Towels, White, 6-Pack ===\n"
     ]
    },
    {
     "data": {
      "text/html": [
       "<img src=\"http://ecx.images-amazon.com/images/I/4122%2B8SroiL._SY300_.jpg\"/>"
      ],
      "text/plain": [
       "<IPython.core.display.Image object>"
      ]
     },
     "metadata": {},
     "output_type": "display_data"
    },
    {
     "name": "stdout",
     "output_type": "stream",
     "text": [
      "=== Oster BRLY07-B 7-Speed Fusion Blender, Black ===\n"
     ]
    },
    {
     "data": {
      "text/html": [
       "<img src=\"http://ecx.images-amazon.com/images/I/41HTs5hiGoL._SY300_.jpg\"/>"
      ],
      "text/plain": [
       "<IPython.core.display.Image object>"
      ]
     },
     "metadata": {},
     "output_type": "display_data"
    },
    {
     "name": "stdout",
     "output_type": "stream",
     "text": [
      "=== Sleep Joy 3&quot; ViscO2 Ventilated Memory Foam Mattress Topper, Twin ===\n"
     ]
    },
    {
     "data": {
      "text/html": [
       "<img src=\"http://ecx.images-amazon.com/images/I/41ydpF7a3JL._SX300_.jpg\"/>"
      ],
      "text/plain": [
       "<IPython.core.display.Image object>"
      ]
     },
     "metadata": {},
     "output_type": "display_data"
    },
    {
     "name": "stdout",
     "output_type": "stream",
     "text": [
      "=== Whitmor 6070-267 Supreme 5-Tier Shelving Unit, Black ===\n"
     ]
    },
    {
     "data": {
      "text/html": [
       "<img src=\"http://ecx.images-amazon.com/images/I/41XZKaKZFML._SY300_.jpg\"/>"
      ],
      "text/plain": [
       "<IPython.core.display.Image object>"
      ]
     },
     "metadata": {},
     "output_type": "display_data"
    },
    {
     "name": "stdout",
     "output_type": "stream",
     "text": [
      "=== Farberware Classic Stainless Steel 8-Inch and 10-Inch Skillet Twin Pack ===\n"
     ]
    },
    {
     "data": {
      "text/html": [
       "<img src=\"http://ecx.images-amazon.com/images/I/41Jwl2PH8bL._SY300_.jpg\"/>"
      ],
      "text/plain": [
       "<IPython.core.display.Image object>"
      ]
     },
     "metadata": {},
     "output_type": "display_data"
    },
    {
     "name": "stdout",
     "output_type": "stream",
     "text": [
      "=== Replacement Filters for Aeropress (350 pk) ===\n"
     ]
    },
    {
     "data": {
      "text/html": [
       "<img src=\"http://ecx.images-amazon.com/images/I/41AXFwHrg1L._SY300_.jpg\"/>"
      ],
      "text/plain": [
       "<IPython.core.display.Image object>"
      ]
     },
     "metadata": {},
     "output_type": "display_data"
    },
    {
     "name": "stdout",
     "output_type": "stream",
     "text": [
      "=== Bormioli Rocco Quattro Stagioni Dipping Bowls, Set of 6, Gift Boxed ===\n"
     ]
    },
    {
     "data": {
      "text/html": [
       "<img src=\"http://ecx.images-amazon.com/images/I/41G3FWO2MEL._SX300_.jpg\"/>"
      ],
      "text/plain": [
       "<IPython.core.display.Image object>"
      ]
     },
     "metadata": {},
     "output_type": "display_data"
    },
    {
     "name": "stdout",
     "output_type": "stream",
     "text": [
      "=== Rada Cutlery R129 Chef's Dicer with Aluminum Handle ===\n"
     ]
    },
    {
     "data": {
      "text/html": [
       "<img src=\"http://ecx.images-amazon.com/images/I/21YER5SyXOL._SX300_.jpg\"/>"
      ],
      "text/plain": [
       "<IPython.core.display.Image object>"
      ]
     },
     "metadata": {},
     "output_type": "display_data"
    },
    {
     "name": "stdout",
     "output_type": "stream",
     "text": [
      "=== Miracle Blade III Perfection Series 11-Piece Cutlery Set ===\n"
     ]
    },
    {
     "data": {
      "text/html": [
       "<img src=\"http://ecx.images-amazon.com/images/I/51y2FG6bnUL._SX300_.jpg\"/>"
      ],
      "text/plain": [
       "<IPython.core.display.Image object>"
      ]
     },
     "metadata": {},
     "output_type": "display_data"
    },
    {
     "name": "stdout",
     "output_type": "stream",
     "text": [
      "=== Sun's Tea (TM) 20oz Strong Double Wall Thermo Glasses/Tumbler for Beer/Cocktail/Lemonade/Iced Tea, Set of 2 ===\n"
     ]
    },
    {
     "data": {
      "text/html": [
       "<img src=\"http://ecx.images-amazon.com/images/I/513lWHrDOSL._SY300_.jpg\"/>"
      ],
      "text/plain": [
       "<IPython.core.display.Image object>"
      ]
     },
     "metadata": {},
     "output_type": "display_data"
    }
   ],
   "source": [
    "print_product_images(rec)"
   ]
  },
  {
   "cell_type": "markdown",
   "metadata": {},
   "source": [
    "## UUCF, k=3, Pearson baseline similarity"
   ]
  },
  {
   "cell_type": "code",
   "execution_count": 56,
   "metadata": {},
   "outputs": [
    {
     "name": "stdout",
     "output_type": "stream",
     "text": [
      "Estimating biases using als...\n",
      "Computing the pearson_baseline similarity matrix...\n",
      "Done computing similarity matrix.\n"
     ]
    },
    {
     "data": {
      "text/plain": [
       "<surprise.prediction_algorithms.knns.KNNWithMeans at 0x1229a04e0>"
      ]
     },
     "execution_count": 56,
     "metadata": {},
     "output_type": "execute_result"
    }
   ],
   "source": [
    "reader = Reader(rating_scale=(1,5))\n",
    "data = Dataset.load_from_df(reviews20_pre2014[['reviewerID', 'asin', 'overall']], reader)\n",
    "trainset = data.build_full_trainset()\n",
    "\n",
    "algo = KNNWithMeans(k=3, sim_options={'name': 'pearson_baseline', 'user_based': True})\n",
    "algo.fit(trainset)"
   ]
  },
  {
   "cell_type": "code",
   "execution_count": 57,
   "metadata": {},
   "outputs": [],
   "source": [
    "uucf_k3_pearsonbaseline_predicted_ratings_matrix = generate_predicted_ratings_matrix(user_utility_matrix)"
   ]
  },
  {
   "cell_type": "code",
   "execution_count": 58,
   "metadata": {},
   "outputs": [
    {
     "data": {
      "text/plain": [
       "1.0166267257410315"
      ]
     },
     "execution_count": 58,
     "metadata": {},
     "output_type": "execute_result"
    }
   ],
   "source": [
    "rmse, preds = calculate_rmse(reviews20_2014)\n",
    "rmse"
   ]
  },
  {
   "cell_type": "code",
   "execution_count": 59,
   "metadata": {},
   "outputs": [
    {
     "name": "stdout",
     "output_type": "stream",
     "text": [
      "End\n",
      "% of test with at least one item from recommended list:  0.008515167642362959\n",
      "Avg hit rate: 0.1822964362026862 ± 0.1197534046044854\n"
     ]
    }
   ],
   "source": [
    "min_1_hit = 0\n",
    "hit_rates = []\n",
    "\n",
    "for user in reviews20_2014['reviewerID'].unique():\n",
    "    \n",
    "    user_recall = model_evaluation_recall(user, generate_recommendations(user, \n",
    "                                                                         uucf_k3_pearsonbaseline_predicted_ratings_matrix,\n",
    "                                                                         n_recommended_items=10,\n",
    "                                                                         return_recommendations_only=True, \n",
    "                                                                         print_results=False))\n",
    "    \n",
    "    if user_recall > 0:\n",
    "        min_1_hit += 1\n",
    "        hit_rates.append(user_recall)\n",
    "\n",
    "print('End')\n",
    "print('% of test with at least one item from recommended list: ', min_1_hit/len(reviews20_2014['reviewerID'].unique()))\n",
    "print('Avg hit rate: {} ± {}'.format(np.mean(hit_rates), np.std(hit_rates)))"
   ]
  },
  {
   "cell_type": "code",
   "execution_count": 60,
   "metadata": {},
   "outputs": [
    {
     "name": "stdout",
     "output_type": "stream",
     "text": [
      "End\n",
      "% of test with at least one item from recommended list:  0.271953166577967\n",
      "Avg hit rate: 0.1199608610567515 ± 0.04798073686409777\n"
     ]
    }
   ],
   "source": [
    "min_1_hit = 0\n",
    "hit_rates = []\n",
    "\n",
    "for user in reviews20_2014['reviewerID'].unique():\n",
    "    \n",
    "    try:\n",
    "        rec, history, actual = generate_recommendations(user, \n",
    "                                                        uucf_k3_pearsonbaseline_predicted_ratings_matrix,\n",
    "                                                        n_recommended_items=10,\n",
    "                                                        return_recommendations_only=False, \n",
    "                                                        print_results=False)\n",
    "\n",
    "        user_recall = model_evaluation_recall_cat(rec, actual)\n",
    "\n",
    "        if user_recall > 0:\n",
    "            min_1_hit += 1\n",
    "            hit_rates.append(user_recall)\n",
    "    \n",
    "    except KeyError:\n",
    "        continue\n",
    "\n",
    "print('End')\n",
    "print('% of test with at least one item from recommended list: ', min_1_hit/len(reviews20_2014['reviewerID'].unique()))\n",
    "print('Avg hit rate: {} ± {}'.format(np.mean(hit_rates), np.std(hit_rates)))"
   ]
  },
  {
   "cell_type": "code",
   "execution_count": 61,
   "metadata": {},
   "outputs": [],
   "source": [
    "rec, history, actual = generate_recommendations('A1S3C5OFU508P3',\n",
    "                                                uucf_k3_pearsonbaseline_predicted_ratings_matrix,\n",
    "                                                10,\n",
    "                                                return_recommendations_only=False,\n",
    "                                                print_results=False)"
   ]
  },
  {
   "cell_type": "code",
   "execution_count": 62,
   "metadata": {},
   "outputs": [
    {
     "name": "stdout",
     "output_type": "stream",
     "text": [
      "=== Martex Bath Towels, White, 6-Pack ===\n"
     ]
    },
    {
     "data": {
      "text/html": [
       "<img src=\"http://ecx.images-amazon.com/images/I/4122%2B8SroiL._SY300_.jpg\"/>"
      ],
      "text/plain": [
       "<IPython.core.display.Image object>"
      ]
     },
     "metadata": {},
     "output_type": "display_data"
    },
    {
     "name": "stdout",
     "output_type": "stream",
     "text": [
      "=== Replacement Filters for Aeropress (350 pk) ===\n"
     ]
    },
    {
     "data": {
      "text/html": [
       "<img src=\"http://ecx.images-amazon.com/images/I/41AXFwHrg1L._SY300_.jpg\"/>"
      ],
      "text/plain": [
       "<IPython.core.display.Image object>"
      ]
     },
     "metadata": {},
     "output_type": "display_data"
    },
    {
     "name": "stdout",
     "output_type": "stream",
     "text": [
      "=== Rada Cutlery R129 Chef's Dicer with Aluminum Handle ===\n"
     ]
    },
    {
     "data": {
      "text/html": [
       "<img src=\"http://ecx.images-amazon.com/images/I/21YER5SyXOL._SX300_.jpg\"/>"
      ],
      "text/plain": [
       "<IPython.core.display.Image object>"
      ]
     },
     "metadata": {},
     "output_type": "display_data"
    },
    {
     "name": "stdout",
     "output_type": "stream",
     "text": [
      "=== Miracle Blade III Perfection Series 11-Piece Cutlery Set ===\n"
     ]
    },
    {
     "data": {
      "text/html": [
       "<img src=\"http://ecx.images-amazon.com/images/I/51y2FG6bnUL._SX300_.jpg\"/>"
      ],
      "text/plain": [
       "<IPython.core.display.Image object>"
      ]
     },
     "metadata": {},
     "output_type": "display_data"
    },
    {
     "name": "stdout",
     "output_type": "stream",
     "text": [
      "=== Sun's Tea (TM) 20oz Strong Double Wall Thermo Glasses/Tumbler for Beer/Cocktail/Lemonade/Iced Tea, Set of 2 ===\n"
     ]
    },
    {
     "data": {
      "text/html": [
       "<img src=\"http://ecx.images-amazon.com/images/I/513lWHrDOSL._SY300_.jpg\"/>"
      ],
      "text/plain": [
       "<IPython.core.display.Image object>"
      ]
     },
     "metadata": {},
     "output_type": "display_data"
    },
    {
     "name": "stdout",
     "output_type": "stream",
     "text": [
      "=== Norpro Coffee Grinder ===\n"
     ]
    },
    {
     "data": {
      "text/html": [
       "<img src=\"http://ecx.images-amazon.com/images/I/41CB8j3Y96L._SY300_.jpg\"/>"
      ],
      "text/plain": [
       "<IPython.core.display.Image object>"
      ]
     },
     "metadata": {},
     "output_type": "display_data"
    },
    {
     "name": "stdout",
     "output_type": "stream",
     "text": [
      "=== Hamilton Beach 70450 8-Cup Food Processor ===\n"
     ]
    },
    {
     "data": {
      "text/html": [
       "<img src=\"http://ecx.images-amazon.com/images/I/41iDX10uCFL._SY300_.jpg\"/>"
      ],
      "text/plain": [
       "<IPython.core.display.Image object>"
      ]
     },
     "metadata": {},
     "output_type": "display_data"
    },
    {
     "name": "stdout",
     "output_type": "stream",
     "text": [
      "=== Oster BRLY07-B 7-Speed Fusion Blender, Black ===\n"
     ]
    },
    {
     "data": {
      "text/html": [
       "<img src=\"http://ecx.images-amazon.com/images/I/41HTs5hiGoL._SY300_.jpg\"/>"
      ],
      "text/plain": [
       "<IPython.core.display.Image object>"
      ]
     },
     "metadata": {},
     "output_type": "display_data"
    },
    {
     "name": "stdout",
     "output_type": "stream",
     "text": [
      "=== Command Medium Picture-Hanging Strips, 6-Picture ===\n"
     ]
    },
    {
     "data": {
      "text/html": [
       "<img src=\"http://ecx.images-amazon.com/images/I/41by%2BUDEwEL._SY300_.jpg\"/>"
      ],
      "text/plain": [
       "<IPython.core.display.Image object>"
      ]
     },
     "metadata": {},
     "output_type": "display_data"
    },
    {
     "name": "stdout",
     "output_type": "stream",
     "text": [
      "=== Holmes Heater Fan with 1Touch Control and ALCI Safe Plug, HFH442-UM ===\n"
     ]
    },
    {
     "data": {
      "text/html": [
       "<img src=\"http://ecx.images-amazon.com/images/I/419W1f6BGHL._SY300_.jpg\"/>"
      ],
      "text/plain": [
       "<IPython.core.display.Image object>"
      ]
     },
     "metadata": {},
     "output_type": "display_data"
    }
   ],
   "source": [
    "print_product_images(rec)"
   ]
  },
  {
   "cell_type": "markdown",
   "metadata": {},
   "source": [
    "## UUCF, k=20, Pearson baseline similarity"
   ]
  },
  {
   "cell_type": "code",
   "execution_count": 63,
   "metadata": {},
   "outputs": [
    {
     "name": "stdout",
     "output_type": "stream",
     "text": [
      "Estimating biases using als...\n",
      "Computing the pearson_baseline similarity matrix...\n",
      "Done computing similarity matrix.\n"
     ]
    },
    {
     "data": {
      "text/plain": [
       "<surprise.prediction_algorithms.knns.KNNWithMeans at 0x121a11588>"
      ]
     },
     "execution_count": 63,
     "metadata": {},
     "output_type": "execute_result"
    }
   ],
   "source": [
    "reader = Reader(rating_scale=(1,5))\n",
    "data = Dataset.load_from_df(reviews20_pre2014[['reviewerID', 'asin', 'overall']], reader)\n",
    "trainset = data.build_full_trainset()\n",
    "\n",
    "algo = KNNWithMeans(k=20, sim_options={'name': 'pearson_baseline', 'user_based': True})\n",
    "algo.fit(trainset)"
   ]
  },
  {
   "cell_type": "code",
   "execution_count": 64,
   "metadata": {},
   "outputs": [],
   "source": [
    "uucf_k20_pearsonbaseline_predicted_ratings_matrix = generate_predicted_ratings_matrix(user_utility_matrix)"
   ]
  },
  {
   "cell_type": "code",
   "execution_count": 65,
   "metadata": {},
   "outputs": [
    {
     "data": {
      "text/plain": [
       "1.016544800005623"
      ]
     },
     "execution_count": 65,
     "metadata": {},
     "output_type": "execute_result"
    }
   ],
   "source": [
    "rmse, preds = calculate_rmse(reviews20_2014)\n",
    "rmse"
   ]
  },
  {
   "cell_type": "code",
   "execution_count": 66,
   "metadata": {},
   "outputs": [
    {
     "name": "stdout",
     "output_type": "stream",
     "text": [
      "End\n",
      "% of test with at least one item from recommended list:  0.009579563597658328\n",
      "Avg hit rate: 0.16576903035236368 ± 0.10849385650185411\n"
     ]
    }
   ],
   "source": [
    "min_1_hit = 0\n",
    "hit_rates = []\n",
    "\n",
    "for user in reviews20_2014['reviewerID'].unique():\n",
    "    \n",
    "    user_recall = model_evaluation_recall(user, generate_recommendations(user, \n",
    "                                                                         uucf_k20_pearsonbaseline_predicted_ratings_matrix,\n",
    "                                                                         n_recommended_items=10,\n",
    "                                                                         return_recommendations_only=True, \n",
    "                                                                         print_results=False))\n",
    "    \n",
    "    if user_recall > 0:\n",
    "        min_1_hit += 1\n",
    "        hit_rates.append(user_recall)\n",
    "\n",
    "print('End')\n",
    "print('% of test with at least one item from recommended list: ', min_1_hit/len(reviews20_2014['reviewerID'].unique()))\n",
    "print('Avg hit rate: {} ± {}'.format(np.mean(hit_rates), np.std(hit_rates)))"
   ]
  },
  {
   "cell_type": "code",
   "execution_count": 67,
   "metadata": {},
   "outputs": [
    {
     "name": "stdout",
     "output_type": "stream",
     "text": [
      "End\n",
      "% of test with at least one item from recommended list:  0.26663118680149017\n",
      "Avg hit rate: 0.11896207584830341 ± 0.04664085997538797\n"
     ]
    }
   ],
   "source": [
    "min_1_hit = 0\n",
    "hit_rates = []\n",
    "\n",
    "for user in reviews20_2014['reviewerID'].unique():\n",
    "    \n",
    "    try:\n",
    "        rec, history, actual = generate_recommendations(user, \n",
    "                                                        uucf_k20_pearsonbaseline_predicted_ratings_matrix,\n",
    "                                                        n_recommended_items=10,\n",
    "                                                        return_recommendations_only=False, \n",
    "                                                        print_results=False)\n",
    "\n",
    "        user_recall = model_evaluation_recall_cat(rec, actual)\n",
    "\n",
    "        if user_recall > 0:\n",
    "            min_1_hit += 1\n",
    "            hit_rates.append(user_recall)\n",
    "    \n",
    "    except KeyError:\n",
    "        continue\n",
    "\n",
    "print('End')\n",
    "print('% of test with at least one item from recommended list: ', min_1_hit/len(reviews20_2014['reviewerID'].unique()))\n",
    "print('Avg hit rate: {} ± {}'.format(np.mean(hit_rates), np.std(hit_rates)))"
   ]
  },
  {
   "cell_type": "code",
   "execution_count": 68,
   "metadata": {},
   "outputs": [],
   "source": [
    "rec, history, actual = generate_recommendations('A1S3C5OFU508P3',\n",
    "                                                uucf_k20_pearsonbaseline_predicted_ratings_matrix,\n",
    "                                                10,\n",
    "                                                return_recommendations_only=False,\n",
    "                                                print_results=False)"
   ]
  },
  {
   "cell_type": "code",
   "execution_count": 69,
   "metadata": {},
   "outputs": [
    {
     "name": "stdout",
     "output_type": "stream",
     "text": [
      "=== Martex Bath Towels, White, 6-Pack ===\n"
     ]
    },
    {
     "data": {
      "text/html": [
       "<img src=\"http://ecx.images-amazon.com/images/I/4122%2B8SroiL._SY300_.jpg\"/>"
      ],
      "text/plain": [
       "<IPython.core.display.Image object>"
      ]
     },
     "metadata": {},
     "output_type": "display_data"
    },
    {
     "name": "stdout",
     "output_type": "stream",
     "text": [
      "=== Replacement Filters for Aeropress (350 pk) ===\n"
     ]
    },
    {
     "data": {
      "text/html": [
       "<img src=\"http://ecx.images-amazon.com/images/I/41AXFwHrg1L._SY300_.jpg\"/>"
      ],
      "text/plain": [
       "<IPython.core.display.Image object>"
      ]
     },
     "metadata": {},
     "output_type": "display_data"
    },
    {
     "name": "stdout",
     "output_type": "stream",
     "text": [
      "=== Rada Cutlery R129 Chef's Dicer with Aluminum Handle ===\n"
     ]
    },
    {
     "data": {
      "text/html": [
       "<img src=\"http://ecx.images-amazon.com/images/I/21YER5SyXOL._SX300_.jpg\"/>"
      ],
      "text/plain": [
       "<IPython.core.display.Image object>"
      ]
     },
     "metadata": {},
     "output_type": "display_data"
    },
    {
     "name": "stdout",
     "output_type": "stream",
     "text": [
      "=== Miracle Blade III Perfection Series 11-Piece Cutlery Set ===\n"
     ]
    },
    {
     "data": {
      "text/html": [
       "<img src=\"http://ecx.images-amazon.com/images/I/51y2FG6bnUL._SX300_.jpg\"/>"
      ],
      "text/plain": [
       "<IPython.core.display.Image object>"
      ]
     },
     "metadata": {},
     "output_type": "display_data"
    },
    {
     "name": "stdout",
     "output_type": "stream",
     "text": [
      "=== Sun's Tea (TM) 20oz Strong Double Wall Thermo Glasses/Tumbler for Beer/Cocktail/Lemonade/Iced Tea, Set of 2 ===\n"
     ]
    },
    {
     "data": {
      "text/html": [
       "<img src=\"http://ecx.images-amazon.com/images/I/513lWHrDOSL._SY300_.jpg\"/>"
      ],
      "text/plain": [
       "<IPython.core.display.Image object>"
      ]
     },
     "metadata": {},
     "output_type": "display_data"
    },
    {
     "name": "stdout",
     "output_type": "stream",
     "text": [
      "=== Norpro Coffee Grinder ===\n"
     ]
    },
    {
     "data": {
      "text/html": [
       "<img src=\"http://ecx.images-amazon.com/images/I/41CB8j3Y96L._SY300_.jpg\"/>"
      ],
      "text/plain": [
       "<IPython.core.display.Image object>"
      ]
     },
     "metadata": {},
     "output_type": "display_data"
    },
    {
     "name": "stdout",
     "output_type": "stream",
     "text": [
      "=== Hamilton Beach 70450 8-Cup Food Processor ===\n"
     ]
    },
    {
     "data": {
      "text/html": [
       "<img src=\"http://ecx.images-amazon.com/images/I/41iDX10uCFL._SY300_.jpg\"/>"
      ],
      "text/plain": [
       "<IPython.core.display.Image object>"
      ]
     },
     "metadata": {},
     "output_type": "display_data"
    },
    {
     "name": "stdout",
     "output_type": "stream",
     "text": [
      "=== Oster BRLY07-B 7-Speed Fusion Blender, Black ===\n"
     ]
    },
    {
     "data": {
      "text/html": [
       "<img src=\"http://ecx.images-amazon.com/images/I/41HTs5hiGoL._SY300_.jpg\"/>"
      ],
      "text/plain": [
       "<IPython.core.display.Image object>"
      ]
     },
     "metadata": {},
     "output_type": "display_data"
    },
    {
     "name": "stdout",
     "output_type": "stream",
     "text": [
      "=== Command Medium Picture-Hanging Strips, 6-Picture ===\n"
     ]
    },
    {
     "data": {
      "text/html": [
       "<img src=\"http://ecx.images-amazon.com/images/I/41by%2BUDEwEL._SY300_.jpg\"/>"
      ],
      "text/plain": [
       "<IPython.core.display.Image object>"
      ]
     },
     "metadata": {},
     "output_type": "display_data"
    },
    {
     "name": "stdout",
     "output_type": "stream",
     "text": [
      "=== Holmes Heater Fan with 1Touch Control and ALCI Safe Plug, HFH442-UM ===\n"
     ]
    },
    {
     "data": {
      "text/html": [
       "<img src=\"http://ecx.images-amazon.com/images/I/419W1f6BGHL._SY300_.jpg\"/>"
      ],
      "text/plain": [
       "<IPython.core.display.Image object>"
      ]
     },
     "metadata": {},
     "output_type": "display_data"
    }
   ],
   "source": [
    "print_product_images(rec)"
   ]
  },
  {
   "cell_type": "markdown",
   "metadata": {},
   "source": [
    "## IICF, k=3, Pearson baseline similarity"
   ]
  },
  {
   "cell_type": "code",
   "execution_count": 70,
   "metadata": {},
   "outputs": [
    {
     "name": "stdout",
     "output_type": "stream",
     "text": [
      "Estimating biases using als...\n",
      "Computing the pearson_baseline similarity matrix...\n",
      "Done computing similarity matrix.\n"
     ]
    },
    {
     "data": {
      "text/plain": [
       "<surprise.prediction_algorithms.knns.KNNWithMeans at 0x120310550>"
      ]
     },
     "execution_count": 70,
     "metadata": {},
     "output_type": "execute_result"
    }
   ],
   "source": [
    "reader = Reader(rating_scale=(1,5))\n",
    "data = Dataset.load_from_df(reviews20_pre2014[['reviewerID', 'asin', 'overall']], reader)\n",
    "trainset = data.build_full_trainset()\n",
    "\n",
    "algo = KNNWithMeans(k=3, sim_options={'name': 'pearson_baseline', 'user_based': False})\n",
    "algo.fit(trainset)"
   ]
  },
  {
   "cell_type": "code",
   "execution_count": 71,
   "metadata": {},
   "outputs": [],
   "source": [
    "iicf_k3_pearsonbaseline_predicted_ratings_matrix = generate_predicted_ratings_matrix(user_utility_matrix)"
   ]
  },
  {
   "cell_type": "code",
   "execution_count": 72,
   "metadata": {},
   "outputs": [
    {
     "data": {
      "text/plain": [
       "1.0762176167359827"
      ]
     },
     "execution_count": 72,
     "metadata": {},
     "output_type": "execute_result"
    }
   ],
   "source": [
    "rmse, preds = calculate_rmse(reviews20_2014)\n",
    "rmse"
   ]
  },
  {
   "cell_type": "code",
   "execution_count": 73,
   "metadata": {},
   "outputs": [
    {
     "name": "stdout",
     "output_type": "stream",
     "text": [
      "End\n",
      "% of test with at least one item from recommended list:  0.004789781798829164\n",
      "Avg hit rate: 0.2300112930547713 ± 0.28133104148241456\n"
     ]
    }
   ],
   "source": [
    "min_1_hit = 0\n",
    "hit_rates = []\n",
    "\n",
    "for user in reviews20_2014['reviewerID'].unique():\n",
    "    \n",
    "    user_recall = model_evaluation_recall(user, generate_recommendations(user, \n",
    "                                                                         iicf_k3_pearsonbaseline_predicted_ratings_matrix,\n",
    "                                                                         n_recommended_items=10,\n",
    "                                                                         return_recommendations_only=True, \n",
    "                                                                         print_results=False))\n",
    "    \n",
    "    if user_recall > 0:\n",
    "        min_1_hit += 1\n",
    "        hit_rates.append(user_recall)\n",
    "\n",
    "print('End')\n",
    "print('% of test with at least one item from recommended list: ', min_1_hit/len(reviews20_2014['reviewerID'].unique()))\n",
    "print('Avg hit rate: {} ± {}'.format(np.mean(hit_rates), np.std(hit_rates)))"
   ]
  },
  {
   "cell_type": "code",
   "execution_count": 74,
   "metadata": {},
   "outputs": [
    {
     "name": "stdout",
     "output_type": "stream",
     "text": [
      "End\n",
      "% of test with at least one item from recommended list:  0.17828632251197446\n",
      "Avg hit rate: 0.1208955223880597 ± 0.04928538105687264\n"
     ]
    }
   ],
   "source": [
    "min_1_hit = 0\n",
    "hit_rates = []\n",
    "\n",
    "for user in reviews20_2014['reviewerID'].unique():\n",
    "    \n",
    "    try:\n",
    "        rec, history, actual = generate_recommendations(user, \n",
    "                                                        iicf_k3_pearsonbaseline_predicted_ratings_matrix,\n",
    "                                                        n_recommended_items=10,\n",
    "                                                        return_recommendations_only=False, \n",
    "                                                        print_results=False)\n",
    "\n",
    "        user_recall = model_evaluation_recall_cat(rec, actual)\n",
    "\n",
    "        if user_recall > 0:\n",
    "            min_1_hit += 1\n",
    "            hit_rates.append(user_recall)\n",
    "    \n",
    "    except KeyError:\n",
    "        continue\n",
    "\n",
    "print('End')\n",
    "print('% of test with at least one item from recommended list: ', min_1_hit/len(reviews20_2014['reviewerID'].unique()))\n",
    "print('Avg hit rate: {} ± {}'.format(np.mean(hit_rates), np.std(hit_rates)))"
   ]
  },
  {
   "cell_type": "code",
   "execution_count": 75,
   "metadata": {},
   "outputs": [],
   "source": [
    "rec, history, actual = generate_recommendations('A1S3C5OFU508P3',\n",
    "                                                iicf_k3_pearsonbaseline_predicted_ratings_matrix,\n",
    "                                                10,\n",
    "                                                return_recommendations_only=False,\n",
    "                                                print_results=False)"
   ]
  },
  {
   "cell_type": "code",
   "execution_count": 76,
   "metadata": {},
   "outputs": [
    {
     "name": "stdout",
     "output_type": "stream",
     "text": [
      "=== Closet Complete Twirling Tie Rack / Hanger Organizer ===\n"
     ]
    },
    {
     "data": {
      "text/html": [
       "<img src=\"http://ecx.images-amazon.com/images/I/415fJ-FDkLL._SY300_.jpg\"/>"
      ],
      "text/plain": [
       "<IPython.core.display.Image object>"
      ]
     },
     "metadata": {},
     "output_type": "display_data"
    },
    {
     "name": "stdout",
     "output_type": "stream",
     "text": [
      "=== Medelco RK202 One All Universal Single-Cup Replacement Coffee Filter, Set of 2 ===\n"
     ]
    },
    {
     "data": {
      "text/html": [
       "<img src=\"http://ecx.images-amazon.com/images/I/41qbPO8w9oL._SX300_.jpg\"/>"
      ],
      "text/plain": [
       "<IPython.core.display.Image object>"
      ]
     },
     "metadata": {},
     "output_type": "display_data"
    },
    {
     "name": "stdout",
     "output_type": "stream",
     "text": [
      "=== Wilton Recipe Right 13 x 9 Inch Oblong Pan ===\n"
     ]
    },
    {
     "data": {
      "text/html": [
       "<img src=\"http://ecx.images-amazon.com/images/I/31V5PTLo4CL._SY300_.jpg\"/>"
      ],
      "text/plain": [
       "<IPython.core.display.Image object>"
      ]
     },
     "metadata": {},
     "output_type": "display_data"
    },
    {
     "name": "stdout",
     "output_type": "stream",
     "text": [
      "=== Command Mounting Refill Strips, Large, 6-Strip ===\n"
     ]
    },
    {
     "data": {
      "text/html": [
       "<img src=\"http://ecx.images-amazon.com/images/I/41H17DQObaL._SY300_.jpg\"/>"
      ],
      "text/plain": [
       "<IPython.core.display.Image object>"
      ]
     },
     "metadata": {},
     "output_type": "display_data"
    },
    {
     "name": "stdout",
     "output_type": "stream",
     "text": [
      "=== Hamilton Beach 26020 Belgian Style Waffle Baker ===\n"
     ]
    },
    {
     "data": {
      "text/html": [
       "<img src=\"http://ecx.images-amazon.com/images/I/51Xm5AHJevL._SY300_.jpg\"/>"
      ],
      "text/plain": [
       "<IPython.core.display.Image object>"
      ]
     },
     "metadata": {},
     "output_type": "display_data"
    },
    {
     "name": "stdout",
     "output_type": "stream",
     "text": [
      "=== Wilton Recipe Right 8 Inch Square Pan ===\n"
     ]
    },
    {
     "data": {
      "text/html": [
       "<img src=\"http://ecx.images-amazon.com/images/I/41ZOi-xo8EL._SY300_.jpg\"/>"
      ],
      "text/plain": [
       "<IPython.core.display.Image object>"
      ]
     },
     "metadata": {},
     "output_type": "display_data"
    },
    {
     "name": "stdout",
     "output_type": "stream",
     "text": [
      "=== FoodSaver V3020 Vertical Vacuum Sealing System With Starter Kit ===\n"
     ]
    },
    {
     "data": {
      "text/html": [
       "<img src=\"http://ecx.images-amazon.com/images/I/41H3JjlDd%2BL._SX300_.jpg\"/>"
      ],
      "text/plain": [
       "<IPython.core.display.Image object>"
      ]
     },
     "metadata": {},
     "output_type": "display_data"
    },
    {
     "name": "stdout",
     "output_type": "stream",
     "text": [
      "=== Folding Bread Proofer and Yogurt Maker ===\n"
     ]
    },
    {
     "data": {
      "text/html": [
       "<img src=\"http://ecx.images-amazon.com/images/I/41MoInYj3SL._SY300_.jpg\"/>"
      ],
      "text/plain": [
       "<IPython.core.display.Image object>"
      ]
     },
     "metadata": {},
     "output_type": "display_data"
    },
    {
     "name": "stdout",
     "output_type": "stream",
     "text": [
      "=== Frigidaire FRA054XT7 5,000 BTU Window-Mounted Mini Room Air Conditioner ===\n"
     ]
    },
    {
     "data": {
      "text/html": [
       "<img src=\"http://ecx.images-amazon.com/images/I/51Bc5dWdchL._SY300_.jpg\"/>"
      ],
      "text/plain": [
       "<IPython.core.display.Image object>"
      ]
     },
     "metadata": {},
     "output_type": "display_data"
    },
    {
     "name": "stdout",
     "output_type": "stream",
     "text": [
      "=== Wilton Recipe Right 11 Inch x 7 Inch Biscuit Brownie Pan ===\n"
     ]
    },
    {
     "data": {
      "text/html": [
       "<img src=\"http://ecx.images-amazon.com/images/I/41A413jeIRL._SY300_.jpg\"/>"
      ],
      "text/plain": [
       "<IPython.core.display.Image object>"
      ]
     },
     "metadata": {},
     "output_type": "display_data"
    }
   ],
   "source": [
    "print_product_images(rec)"
   ]
  },
  {
   "cell_type": "code",
   "execution_count": null,
   "metadata": {},
   "outputs": [],
   "source": []
  },
  {
   "cell_type": "markdown",
   "metadata": {},
   "source": [
    "## SVDreg, k=10"
   ]
  },
  {
   "cell_type": "code",
   "execution_count": 77,
   "metadata": {},
   "outputs": [
    {
     "data": {
      "text/plain": [
       "<surprise.prediction_algorithms.matrix_factorization.SVD at 0x13d228668>"
      ]
     },
     "execution_count": 77,
     "metadata": {},
     "output_type": "execute_result"
    }
   ],
   "source": [
    "reader = Reader(rating_scale=(1,5))\n",
    "data = Dataset.load_from_df(reviews20_pre2014[['reviewerID', 'asin', 'overall']], reader)\n",
    "trainset = data.build_full_trainset()\n",
    "\n",
    "algo = SVD(n_factors=10, lr_bi=0.0001, lr_qi=0.0001, reg_bi=0.7, reg_qi=0.7)\n",
    "algo.fit(trainset)"
   ]
  },
  {
   "cell_type": "code",
   "execution_count": 78,
   "metadata": {},
   "outputs": [],
   "source": [
    "svd_k10reg_predicted_ratings_matrix = generate_predicted_ratings_matrix(user_utility_matrix)"
   ]
  },
  {
   "cell_type": "code",
   "execution_count": 79,
   "metadata": {},
   "outputs": [
    {
     "data": {
      "text/plain": [
       "0.9478107550386903"
      ]
     },
     "execution_count": 79,
     "metadata": {},
     "output_type": "execute_result"
    }
   ],
   "source": [
    "rmse, preds = calculate_rmse(reviews20_2014)\n",
    "rmse"
   ]
  },
  {
   "cell_type": "code",
   "execution_count": 80,
   "metadata": {},
   "outputs": [
    {
     "name": "stdout",
     "output_type": "stream",
     "text": [
      "End\n",
      "% of test with at least one item from recommended list:  0.007982969664715274\n",
      "Avg hit rate: 0.19416848220769792 ± 0.15804329910340942\n"
     ]
    }
   ],
   "source": [
    "min_1_hit = 0\n",
    "hit_rates = []\n",
    "\n",
    "for user in reviews20_2014['reviewerID'].unique():\n",
    "    \n",
    "    user_recall = model_evaluation_recall(user, generate_recommendations(user, \n",
    "                                                                         svd_k10reg_predicted_ratings_matrix,\n",
    "                                                                         n_recommended_items=10,\n",
    "                                                                         return_recommendations_only=True, \n",
    "                                                                         print_results=False))\n",
    "    \n",
    "    if user_recall > 0:\n",
    "        min_1_hit += 1\n",
    "        hit_rates.append(user_recall)\n",
    "\n",
    "print('End')\n",
    "print('% of test with at least one item from recommended list: ', min_1_hit/len(reviews20_2014['reviewerID'].unique()))\n",
    "print('Avg hit rate: {} ± {}'.format(np.mean(hit_rates), np.std(hit_rates)))"
   ]
  },
  {
   "cell_type": "code",
   "execution_count": 81,
   "metadata": {},
   "outputs": [
    {
     "name": "stdout",
     "output_type": "stream",
     "text": [
      "End\n",
      "% of test with at least one item from recommended list:  0.27142096860031933\n",
      "Avg hit rate: 0.12450980392156864 ± 0.05711404914524512\n"
     ]
    }
   ],
   "source": [
    "min_1_hit = 0\n",
    "hit_rates = []\n",
    "\n",
    "for user in reviews20_2014['reviewerID'].unique():\n",
    "    \n",
    "    try:\n",
    "        rec, history, actual = generate_recommendations(user, \n",
    "                                                        svd_k10reg_predicted_ratings_matrix,\n",
    "                                                        n_recommended_items=10,\n",
    "                                                        return_recommendations_only=False, \n",
    "                                                        print_results=False)\n",
    "\n",
    "        user_recall = model_evaluation_recall_cat(rec, actual)\n",
    "\n",
    "        if user_recall > 0:\n",
    "            min_1_hit += 1\n",
    "            hit_rates.append(user_recall)\n",
    "    \n",
    "    except KeyError:\n",
    "        continue\n",
    "\n",
    "print('End')\n",
    "print('% of test with at least one item from recommended list: ', min_1_hit/len(reviews20_2014['reviewerID'].unique()))\n",
    "print('Avg hit rate: {} ± {}'.format(np.mean(hit_rates), np.std(hit_rates)))"
   ]
  },
  {
   "cell_type": "code",
   "execution_count": 82,
   "metadata": {},
   "outputs": [],
   "source": [
    "rec, history, actual = generate_recommendations('A1S3C5OFU508P3',\n",
    "                                                svd_k10reg_predicted_ratings_matrix,\n",
    "                                                10,\n",
    "                                                return_recommendations_only=False,\n",
    "                                                print_results=False)"
   ]
  },
  {
   "cell_type": "code",
   "execution_count": 83,
   "metadata": {},
   "outputs": [
    {
     "name": "stdout",
     "output_type": "stream",
     "text": [
      "=== Heavy Duty Roller Shower Curtain Rings, Polished Chrome Clipperton RollerRings&reg;, Set of 12 ===\n"
     ]
    },
    {
     "data": {
      "text/html": [
       "<img src=\"http://ecx.images-amazon.com/images/I/41BM51sSgqL._SX300_.jpg\"/>"
      ],
      "text/plain": [
       "<IPython.core.display.Image object>"
      ]
     },
     "metadata": {},
     "output_type": "display_data"
    },
    {
     "name": "stdout",
     "output_type": "stream",
     "text": [
      "=== Oxo Good Grips Measuring Cup Set, Stainless Steel, 4-Pc ===\n"
     ]
    },
    {
     "data": {
      "text/html": [
       "<img src=\"http://ecx.images-amazon.com/images/I/41gqFVIAdhL._SY300_.jpg\"/>"
      ],
      "text/plain": [
       "<IPython.core.display.Image object>"
      ]
     },
     "metadata": {},
     "output_type": "display_data"
    },
    {
     "name": "stdout",
     "output_type": "stream",
     "text": [
      "=== Freshware 30-Cavity Silicone Chocolate, Jelly and Candy Mold ===\n"
     ]
    },
    {
     "data": {
      "text/html": [
       "<img src=\"http://ecx.images-amazon.com/images/I/415lMdTUvML._SY300_.jpg\"/>"
      ],
      "text/plain": [
       "<IPython.core.display.Image object>"
      ]
     },
     "metadata": {},
     "output_type": "display_data"
    },
    {
     "name": "stdout",
     "output_type": "stream",
     "text": [
      "=== Waring CTT200BK Professional Cool Touch 2-Slice Toaster, Black ===\n"
     ]
    },
    {
     "data": {
      "text/html": [
       "<img src=\"http://ecx.images-amazon.com/images/I/41-OquEOmqL._SX300_.jpg\"/>"
      ],
      "text/plain": [
       "<IPython.core.display.Image object>"
      ]
     },
     "metadata": {},
     "output_type": "display_data"
    },
    {
     "name": "stdout",
     "output_type": "stream",
     "text": [
      "=== Presto 07039 Electric Griddle, 22-Inch ===\n"
     ]
    },
    {
     "data": {
      "text/html": [
       "<img src=\"http://ecx.images-amazon.com/images/I/3198PPG8TQL._SX300_.jpg\"/>"
      ],
      "text/plain": [
       "<IPython.core.display.Image object>"
      ]
     },
     "metadata": {},
     "output_type": "display_data"
    },
    {
     "name": "stdout",
     "output_type": "stream",
     "text": [
      "=== Progressive International Stainless Steel Splatter Screen ===\n"
     ]
    },
    {
     "data": {
      "text/html": [
       "<img src=\"http://ecx.images-amazon.com/images/I/31ly8AlQiML._SX300_.jpg\"/>"
      ],
      "text/plain": [
       "<IPython.core.display.Image object>"
      ]
     },
     "metadata": {},
     "output_type": "display_data"
    },
    {
     "name": "stdout",
     "output_type": "stream",
     "text": [
      "=== Takeya Iced Tea Maker Set ===\n"
     ]
    },
    {
     "data": {
      "text/html": [
       "<img src=\"http://ecx.images-amazon.com/images/I/41z-fQhB3EL._SY300_.jpg\"/>"
      ],
      "text/plain": [
       "<IPython.core.display.Image object>"
      ]
     },
     "metadata": {},
     "output_type": "display_data"
    },
    {
     "name": "stdout",
     "output_type": "stream",
     "text": [
      "=== Progressive International S4 Grate and Measure with Etched Stainless Steel Grating Surface ===\n"
     ]
    },
    {
     "data": {
      "text/html": [
       "<img src=\"http://ecx.images-amazon.com/images/I/31pY6AwBtVL._SX300_.jpg\"/>"
      ],
      "text/plain": [
       "<IPython.core.display.Image object>"
      ]
     },
     "metadata": {},
     "output_type": "display_data"
    },
    {
     "name": "stdout",
     "output_type": "stream",
     "text": [
      "=== Presto 09964 PowerCup Concentrators, Package of 8 ===\n"
     ]
    },
    {
     "data": {
      "text/html": [
       "<img src=\"http://ecx.images-amazon.com/images/I/31m2PZXhRlL._SX300_.jpg\"/>"
      ],
      "text/plain": [
       "<IPython.core.display.Image object>"
      ]
     },
     "metadata": {},
     "output_type": "display_data"
    },
    {
     "name": "stdout",
     "output_type": "stream",
     "text": [
      "=== Glass Spice Jars- Set of Six Glass Spice Bottles ===\n"
     ]
    },
    {
     "data": {
      "text/html": [
       "<img src=\"http://ecx.images-amazon.com/images/I/41sVtrNfY3L._SX300_.jpg\"/>"
      ],
      "text/plain": [
       "<IPython.core.display.Image object>"
      ]
     },
     "metadata": {},
     "output_type": "display_data"
    }
   ],
   "source": [
    "print_product_images(rec)"
   ]
  },
  {
   "cell_type": "code",
   "execution_count": null,
   "metadata": {},
   "outputs": [],
   "source": []
  },
  {
   "cell_type": "markdown",
   "metadata": {},
   "source": [
    "## SVDnoreg, k=40"
   ]
  },
  {
   "cell_type": "code",
   "execution_count": 84,
   "metadata": {},
   "outputs": [
    {
     "data": {
      "text/plain": [
       "<surprise.prediction_algorithms.matrix_factorization.SVD at 0x13d228860>"
      ]
     },
     "execution_count": 84,
     "metadata": {},
     "output_type": "execute_result"
    }
   ],
   "source": [
    "reader = Reader(rating_scale=(1,5))\n",
    "data = Dataset.load_from_df(reviews20_pre2014[['reviewerID', 'asin', 'overall']], reader)\n",
    "trainset = data.build_full_trainset()\n",
    "\n",
    "algo = SVD(n_factors=40)\n",
    "algo.fit(trainset)"
   ]
  },
  {
   "cell_type": "code",
   "execution_count": 85,
   "metadata": {},
   "outputs": [],
   "source": [
    "svd_k40_predicted_ratings_matrix = generate_predicted_ratings_matrix(user_utility_matrix)"
   ]
  },
  {
   "cell_type": "code",
   "execution_count": 86,
   "metadata": {},
   "outputs": [
    {
     "data": {
      "text/plain": [
       "0.9412662563003658"
      ]
     },
     "execution_count": 86,
     "metadata": {},
     "output_type": "execute_result"
    }
   ],
   "source": [
    "rmse, preds = calculate_rmse(reviews20_2014)\n",
    "rmse"
   ]
  },
  {
   "cell_type": "code",
   "execution_count": 87,
   "metadata": {},
   "outputs": [
    {
     "name": "stdout",
     "output_type": "stream",
     "text": [
      "End\n",
      "% of test with at least one item from recommended list:  0.011708355508249068\n",
      "Avg hit rate: 0.15421186310223745 ± 0.10126309827566651\n"
     ]
    }
   ],
   "source": [
    "min_1_hit = 0\n",
    "hit_rates = []\n",
    "\n",
    "for user in reviews20_2014['reviewerID'].unique():\n",
    "    \n",
    "    user_recall = model_evaluation_recall(user, generate_recommendations(user, \n",
    "                                                                         svd_k40_predicted_ratings_matrix,\n",
    "                                                                         n_recommended_items=10,\n",
    "                                                                         return_recommendations_only=True, \n",
    "                                                                         print_results=False))\n",
    "    \n",
    "    if user_recall > 0:\n",
    "        min_1_hit += 1\n",
    "        hit_rates.append(user_recall)\n",
    "\n",
    "print('End')\n",
    "print('% of test with at least one item from recommended list: ', min_1_hit/len(reviews20_2014['reviewerID'].unique()))\n",
    "print('Avg hit rate: {} ± {}'.format(np.mean(hit_rates), np.std(hit_rates)))"
   ]
  },
  {
   "cell_type": "code",
   "execution_count": 88,
   "metadata": {},
   "outputs": [
    {
     "name": "stdout",
     "output_type": "stream",
     "text": [
      "End\n",
      "% of test with at least one item from recommended list:  0.2522618414050027\n",
      "Avg hit rate: 0.12869198312236288 ± 0.06110427259875124\n"
     ]
    }
   ],
   "source": [
    "min_1_hit = 0\n",
    "hit_rates = []\n",
    "\n",
    "for user in reviews20_2014['reviewerID'].unique():\n",
    "    \n",
    "    try:\n",
    "        rec, history, actual = generate_recommendations(user, \n",
    "                                                        svd_k40_predicted_ratings_matrix,\n",
    "                                                        n_recommended_items=10,\n",
    "                                                        return_recommendations_only=False, \n",
    "                                                        print_results=False)\n",
    "\n",
    "        user_recall = model_evaluation_recall_cat(rec, actual)\n",
    "\n",
    "        if user_recall > 0:\n",
    "            min_1_hit += 1\n",
    "            hit_rates.append(user_recall)\n",
    "    \n",
    "    except KeyError:\n",
    "        continue\n",
    "\n",
    "print('End')\n",
    "print('% of test with at least one item from recommended list: ', min_1_hit/len(reviews20_2014['reviewerID'].unique()))\n",
    "print('Avg hit rate: {} ± {}'.format(np.mean(hit_rates), np.std(hit_rates)))"
   ]
  },
  {
   "cell_type": "code",
   "execution_count": 89,
   "metadata": {},
   "outputs": [],
   "source": [
    "rec, history, actual = generate_recommendations('A1S3C5OFU508P3',\n",
    "                                                svd_k40_predicted_ratings_matrix,\n",
    "                                                10,\n",
    "                                                return_recommendations_only=False,\n",
    "                                                print_results=False)"
   ]
  },
  {
   "cell_type": "code",
   "execution_count": 90,
   "metadata": {},
   "outputs": [
    {
     "name": "stdout",
     "output_type": "stream",
     "text": [
      "=== Splash-Proof Super-Fast Thermapen (Red) Instant Read Thermometer, Perfect for Barbecue, Home and Professional Cooking ===\n"
     ]
    },
    {
     "data": {
      "text/html": [
       "<img src=\"http://ecx.images-amazon.com/images/I/41WgMyb7u-L._SX300_.jpg\"/>"
      ],
      "text/plain": [
       "<IPython.core.display.Image object>"
      ]
     },
     "metadata": {},
     "output_type": "display_data"
    },
    {
     "name": "stdout",
     "output_type": "stream",
     "text": [
      "=== OXO Good Grips Stainless Steel Over-The-Door Hook ===\n"
     ]
    },
    {
     "data": {
      "text/html": [
       "<img src=\"http://ecx.images-amazon.com/images/I/31C84%2BmOcPL._SY300_.jpg\"/>"
      ],
      "text/plain": [
       "<IPython.core.display.Image object>"
      ]
     },
     "metadata": {},
     "output_type": "display_data"
    },
    {
     "name": "stdout",
     "output_type": "stream",
     "text": [
      "=== Victorinox 47547 10-1/4-Inch Wavy Bread Knife, Black Fibrox Handle ===\n"
     ]
    },
    {
     "data": {
      "text/html": [
       "<img src=\"http://ecx.images-amazon.com/images/I/21-jssFaZoL._SX300_.jpg\"/>"
      ],
      "text/plain": [
       "<IPython.core.display.Image object>"
      ]
     },
     "metadata": {},
     "output_type": "display_data"
    },
    {
     "name": "stdout",
     "output_type": "stream",
     "text": [
      "=== OXO Good Grips Lua Pepper Mill ===\n"
     ]
    },
    {
     "data": {
      "text/html": [
       "<img src=\"http://ecx.images-amazon.com/images/I/31r09qaNDiL._SY300_.jpg\"/>"
      ],
      "text/plain": [
       "<IPython.core.display.Image object>"
      ]
     },
     "metadata": {},
     "output_type": "display_data"
    },
    {
     "name": "stdout",
     "output_type": "stream",
     "text": [
      "=== Anolon Advanced Hard Anodized Nonstick 11-Piece Cookware Set ===\n"
     ]
    },
    {
     "data": {
      "text/html": [
       "<img src=\"http://ecx.images-amazon.com/images/I/41CKkEpS7pL._SX300_.jpg\"/>"
      ],
      "text/plain": [
       "<IPython.core.display.Image object>"
      ]
     },
     "metadata": {},
     "output_type": "display_data"
    },
    {
     "name": "stdout",
     "output_type": "stream",
     "text": [
      "=== Sleep Innovations 10-Inch SureTemp Memory Foam Mattress With 20-Year Warranty, with 2-Bonus Memory Foam Pillows, Twin Size ===\n"
     ]
    },
    {
     "data": {
      "text/html": [
       "<img src=\"http://ecx.images-amazon.com/images/I/31mYAxMSryL._SY300_.jpg\"/>"
      ],
      "text/plain": [
       "<IPython.core.display.Image object>"
      ]
     },
     "metadata": {},
     "output_type": "display_data"
    },
    {
     "name": "stdout",
     "output_type": "stream",
     "text": [
      "=== OXO Good Grips 3-Quart Stainless Steel Colander ===\n"
     ]
    },
    {
     "data": {
      "text/html": [
       "<img src=\"http://ecx.images-amazon.com/images/I/41vosqWkeeL._SX300_.jpg\"/>"
      ],
      "text/plain": [
       "<IPython.core.display.Image object>"
      ]
     },
     "metadata": {},
     "output_type": "display_data"
    },
    {
     "name": "stdout",
     "output_type": "stream",
     "text": [
      "=== Anolon Advanced Bronze Hard Anodized Nonstick 11-Piece Cookware Set ===\n"
     ]
    },
    {
     "data": {
      "text/html": [
       "<img src=\"http://ecx.images-amazon.com/images/I/417ctFYVS0L._SX300_.jpg\"/>"
      ],
      "text/plain": [
       "<IPython.core.display.Image object>"
      ]
     },
     "metadata": {},
     "output_type": "display_data"
    },
    {
     "name": "stdout",
     "output_type": "stream",
     "text": [
      "=== USA Pans 13 x 4 x 4 Inch Pullman, Aluminized Steel with Americoat ===\n"
     ]
    },
    {
     "data": {
      "text/html": [
       "<img src=\"http://ecx.images-amazon.com/images/I/31Sbs4JPosL._SY300_.jpg\"/>"
      ],
      "text/plain": [
       "<IPython.core.display.Image object>"
      ]
     },
     "metadata": {},
     "output_type": "display_data"
    },
    {
     "name": "stdout",
     "output_type": "stream",
     "text": [
      "=== Kitchenaid Pasta Roller Attachment ===\n"
     ]
    },
    {
     "data": {
      "text/html": [
       "<img src=\"http://ecx.images-amazon.com/images/I/41XPXJYWVDL._SX300_.jpg\"/>"
      ],
      "text/plain": [
       "<IPython.core.display.Image object>"
      ]
     },
     "metadata": {},
     "output_type": "display_data"
    }
   ],
   "source": [
    "print_product_images(rec)"
   ]
  },
  {
   "cell_type": "code",
   "execution_count": null,
   "metadata": {},
   "outputs": [],
   "source": []
  },
  {
   "cell_type": "markdown",
   "metadata": {},
   "source": [
    "## SVDreg, k=40"
   ]
  },
  {
   "cell_type": "code",
   "execution_count": 91,
   "metadata": {},
   "outputs": [
    {
     "data": {
      "text/plain": [
       "<surprise.prediction_algorithms.matrix_factorization.SVD at 0x131736978>"
      ]
     },
     "execution_count": 91,
     "metadata": {},
     "output_type": "execute_result"
    }
   ],
   "source": [
    "reader = Reader(rating_scale=(1,5))\n",
    "data = Dataset.load_from_df(reviews20_pre2014[['reviewerID', 'asin', 'overall']], reader)\n",
    "trainset = data.build_full_trainset()\n",
    "\n",
    "algo = SVD(n_factors=40, lr_bi=0.0001, lr_qi=0.0001, reg_bi=0.7, reg_qi=0.7)\n",
    "algo.fit(trainset)"
   ]
  },
  {
   "cell_type": "code",
   "execution_count": 92,
   "metadata": {},
   "outputs": [],
   "source": [
    "svd_k40reg_predicted_ratings_matrix = generate_predicted_ratings_matrix(user_utility_matrix)"
   ]
  },
  {
   "cell_type": "code",
   "execution_count": 93,
   "metadata": {},
   "outputs": [
    {
     "data": {
      "text/plain": [
       "0.9515273672192374"
      ]
     },
     "execution_count": 93,
     "metadata": {},
     "output_type": "execute_result"
    }
   ],
   "source": [
    "rmse, preds = calculate_rmse(reviews20_2014)\n",
    "rmse"
   ]
  },
  {
   "cell_type": "code",
   "execution_count": 94,
   "metadata": {},
   "outputs": [
    {
     "name": "stdout",
     "output_type": "stream",
     "text": [
      "End\n",
      "% of test with at least one item from recommended list:  0.008515167642362959\n",
      "Avg hit rate: 0.23626644736842106 ± 0.2207970512537458\n"
     ]
    }
   ],
   "source": [
    "min_1_hit = 0\n",
    "hit_rates = []\n",
    "\n",
    "for user in reviews20_2014['reviewerID'].unique():\n",
    "    \n",
    "    user_recall = model_evaluation_recall(user, generate_recommendations(user, \n",
    "                                                                         svd_k40reg_predicted_ratings_matrix,\n",
    "                                                                         n_recommended_items=10,\n",
    "                                                                         return_recommendations_only=True, \n",
    "                                                                         print_results=False))\n",
    "    \n",
    "    if user_recall > 0:\n",
    "        min_1_hit += 1\n",
    "        hit_rates.append(user_recall)\n",
    "\n",
    "print('End')\n",
    "print('% of test with at least one item from recommended list: ', min_1_hit/len(reviews20_2014['reviewerID'].unique()))\n",
    "print('Avg hit rate: {} ± {}'.format(np.mean(hit_rates), np.std(hit_rates)))"
   ]
  },
  {
   "cell_type": "code",
   "execution_count": 95,
   "metadata": {},
   "outputs": [
    {
     "name": "stdout",
     "output_type": "stream",
     "text": [
      "End\n",
      "% of test with at least one item from recommended list:  0.2575838211814795\n",
      "Avg hit rate: 0.12334710743801656 ± 0.052345358354106836\n"
     ]
    }
   ],
   "source": [
    "min_1_hit = 0\n",
    "hit_rates = []\n",
    "\n",
    "for user in reviews20_2014['reviewerID'].unique():\n",
    "    \n",
    "    try:\n",
    "        rec, history, actual = generate_recommendations(user, \n",
    "                                                        svd_k40reg_predicted_ratings_matrix,\n",
    "                                                        n_recommended_items=10,\n",
    "                                                        return_recommendations_only=False, \n",
    "                                                        print_results=False)\n",
    "\n",
    "        user_recall = model_evaluation_recall_cat(rec, actual)\n",
    "\n",
    "        if user_recall > 0:\n",
    "            min_1_hit += 1\n",
    "            hit_rates.append(user_recall)\n",
    "    \n",
    "    except KeyError:\n",
    "        continue\n",
    "\n",
    "print('End')\n",
    "print('% of test with at least one item from recommended list: ', min_1_hit/len(reviews20_2014['reviewerID'].unique()))\n",
    "print('Avg hit rate: {} ± {}'.format(np.mean(hit_rates), np.std(hit_rates)))"
   ]
  },
  {
   "cell_type": "code",
   "execution_count": 96,
   "metadata": {},
   "outputs": [],
   "source": [
    "rec, history, actual = generate_recommendations('A1S3C5OFU508P3',\n",
    "                                                svd_k40reg_predicted_ratings_matrix,\n",
    "                                                10,\n",
    "                                                return_recommendations_only=False,\n",
    "                                                print_results=False)"
   ]
  },
  {
   "cell_type": "code",
   "execution_count": 97,
   "metadata": {},
   "outputs": [
    {
     "name": "stdout",
     "output_type": "stream",
     "text": [
      "=== Progressive International Compact Egg Slicer ===\n"
     ]
    },
    {
     "data": {
      "text/html": [
       "<img src=\"http://ecx.images-amazon.com/images/I/41JoJCU88sL._SY300_.jpg\"/>"
      ],
      "text/plain": [
       "<IPython.core.display.Image object>"
      ]
     },
     "metadata": {},
     "output_type": "display_data"
    },
    {
     "name": "stdout",
     "output_type": "stream",
     "text": [
      "=== Holmes Heater Fan with 1Touch Control and ALCI Safe Plug, HFH442-UM ===\n"
     ]
    },
    {
     "data": {
      "text/html": [
       "<img src=\"http://ecx.images-amazon.com/images/I/419W1f6BGHL._SY300_.jpg\"/>"
      ],
      "text/plain": [
       "<IPython.core.display.Image object>"
      ]
     },
     "metadata": {},
     "output_type": "display_data"
    },
    {
     "name": "stdout",
     "output_type": "stream",
     "text": [
      "=== Brabantia 49-by-18-Inch Size-C Ironing-Board Cover, Grey ===\n"
     ]
    },
    {
     "data": {
      "text/html": [
       "<img src=\"http://ecx.images-amazon.com/images/I/31IxOrPXidL._SY300_.jpg\"/>"
      ],
      "text/plain": [
       "<IPython.core.display.Image object>"
      ]
     },
     "metadata": {},
     "output_type": "display_data"
    },
    {
     "name": "stdout",
     "output_type": "stream",
     "text": [
      "=== Dirt Devil Extreme Power Bagless Handheld Vacuum, M0914 ===\n"
     ]
    },
    {
     "data": {
      "text/html": [
       "<img src=\"http://ecx.images-amazon.com/images/I/41WCMCFV4EL._SX300_.jpg\"/>"
      ],
      "text/plain": [
       "<IPython.core.display.Image object>"
      ]
     },
     "metadata": {},
     "output_type": "display_data"
    },
    {
     "name": "stdout",
     "output_type": "stream",
     "text": [
      "=== Farberware Classic Stainless Steel Teakettles 2-Quart Whistling Tiburon ===\n"
     ]
    },
    {
     "data": {
      "text/html": [
       "<img src=\"http://ecx.images-amazon.com/images/I/41vyphgA%2B8L._SY300_.jpg\"/>"
      ],
      "text/plain": [
       "<IPython.core.display.Image object>"
      ]
     },
     "metadata": {},
     "output_type": "display_data"
    },
    {
     "name": "stdout",
     "output_type": "stream",
     "text": [
      "=== Set of 2 - Stainless Steel Bar Ice Scoop 6 oz. ===\n"
     ]
    },
    {
     "data": {
      "text/html": [
       "<img src=\"http://ecx.images-amazon.com/images/I/41RzwzsAErL._SY300_.jpg\"/>"
      ],
      "text/plain": [
       "<IPython.core.display.Image object>"
      ]
     },
     "metadata": {},
     "output_type": "display_data"
    },
    {
     "name": "stdout",
     "output_type": "stream",
     "text": [
      "=== Thermos 16-Ounce Stainless-Steel Backpack Bottle, Silver ===\n"
     ]
    },
    {
     "data": {
      "text/html": [
       "<img src=\"http://ecx.images-amazon.com/images/I/31JJ4oYxHNL._SY300_.jpg\"/>"
      ],
      "text/plain": [
       "<IPython.core.display.Image object>"
      ]
     },
     "metadata": {},
     "output_type": "display_data"
    },
    {
     "name": "stdout",
     "output_type": "stream",
     "text": [
      "=== Grayline 40504, Two Shelf Spice Rack, White ===\n"
     ]
    },
    {
     "data": {
      "text/html": [
       "<img src=\"http://ecx.images-amazon.com/images/I/512VeAq8ywL._SY300_.jpg\"/>"
      ],
      "text/plain": [
       "<IPython.core.display.Image object>"
      ]
     },
     "metadata": {},
     "output_type": "display_data"
    },
    {
     "name": "stdout",
     "output_type": "stream",
     "text": [
      "=== Victorio VKP250 Food Strainer and Sauce Maker ===\n"
     ]
    },
    {
     "data": {
      "text/html": [
       "<img src=\"http://ecx.images-amazon.com/images/I/31eLgNVck5L._SY300_.jpg\"/>"
      ],
      "text/plain": [
       "<IPython.core.display.Image object>"
      ]
     },
     "metadata": {},
     "output_type": "display_data"
    },
    {
     "name": "stdout",
     "output_type": "stream",
     "text": [
      "=== Omega J8006 Nutrition Center Juicer - Black and Chrome ===\n"
     ]
    },
    {
     "data": {
      "text/html": [
       "<img src=\"http://ecx.images-amazon.com/images/I/41FBELFT66L._SX300_.jpg\"/>"
      ],
      "text/plain": [
       "<IPython.core.display.Image object>"
      ]
     },
     "metadata": {},
     "output_type": "display_data"
    }
   ],
   "source": [
    "print_product_images(rec)"
   ]
  },
  {
   "cell_type": "markdown",
   "metadata": {},
   "source": [
    "## SVDreg, k=100"
   ]
  },
  {
   "cell_type": "code",
   "execution_count": 98,
   "metadata": {},
   "outputs": [
    {
     "data": {
      "text/plain": [
       "<surprise.prediction_algorithms.matrix_factorization.SVD at 0x13d2285c0>"
      ]
     },
     "execution_count": 98,
     "metadata": {},
     "output_type": "execute_result"
    }
   ],
   "source": [
    "reader = Reader(rating_scale=(1,5))\n",
    "data = Dataset.load_from_df(reviews20_pre2014[['reviewerID', 'asin', 'overall']], reader)\n",
    "trainset = data.build_full_trainset()\n",
    "\n",
    "algo = SVD(n_factors=100, lr_bi=0.0001, lr_qi=0.0001, reg_bi=0.7, reg_qi=0.7)\n",
    "algo.fit(trainset)"
   ]
  },
  {
   "cell_type": "code",
   "execution_count": 99,
   "metadata": {},
   "outputs": [],
   "source": [
    "svd_k100reg_predicted_ratings_matrix = generate_predicted_ratings_matrix(user_utility_matrix)"
   ]
  },
  {
   "cell_type": "code",
   "execution_count": 100,
   "metadata": {},
   "outputs": [
    {
     "data": {
      "text/plain": [
       "0.9530180705579108"
      ]
     },
     "execution_count": 100,
     "metadata": {},
     "output_type": "execute_result"
    }
   ],
   "source": [
    "rmse, preds = calculate_rmse(reviews20_2014)\n",
    "rmse"
   ]
  },
  {
   "cell_type": "code",
   "execution_count": 101,
   "metadata": {},
   "outputs": [
    {
     "name": "stdout",
     "output_type": "stream",
     "text": [
      "End\n",
      "% of test with at least one item from recommended list:  0.005854177754124534\n",
      "Avg hit rate: 0.2922743922743923 ± 0.2510013297815713\n"
     ]
    }
   ],
   "source": [
    "min_1_hit = 0\n",
    "hit_rates = []\n",
    "\n",
    "for user in reviews20_2014['reviewerID'].unique():\n",
    "    \n",
    "    user_recall = model_evaluation_recall(user, generate_recommendations(user, \n",
    "                                                                         svd_k100reg_predicted_ratings_matrix,\n",
    "                                                                         n_recommended_items=10,\n",
    "                                                                         return_recommendations_only=True, \n",
    "                                                                         print_results=False))\n",
    "    \n",
    "    if user_recall > 0:\n",
    "        min_1_hit += 1\n",
    "        hit_rates.append(user_recall)\n",
    "\n",
    "print('End')\n",
    "print('% of test with at least one item from recommended list: ', min_1_hit/len(reviews20_2014['reviewerID'].unique()))\n",
    "print('Avg hit rate: {} ± {}'.format(np.mean(hit_rates), np.std(hit_rates)))"
   ]
  },
  {
   "cell_type": "code",
   "execution_count": 102,
   "metadata": {},
   "outputs": [
    {
     "name": "stdout",
     "output_type": "stream",
     "text": [
      "End\n",
      "% of test with at least one item from recommended list:  0.2543906333155934\n",
      "Avg hit rate: 0.12175732217573224 ± 0.05162067653129822\n"
     ]
    }
   ],
   "source": [
    "min_1_hit = 0\n",
    "hit_rates = []\n",
    "\n",
    "for user in reviews20_2014['reviewerID'].unique():\n",
    "    \n",
    "    try:\n",
    "        rec, history, actual = generate_recommendations(user, \n",
    "                                                        svd_k100reg_predicted_ratings_matrix,\n",
    "                                                        n_recommended_items=10,\n",
    "                                                        return_recommendations_only=False, \n",
    "                                                        print_results=False)\n",
    "\n",
    "        user_recall = model_evaluation_recall_cat(rec, actual)\n",
    "\n",
    "        if user_recall > 0:\n",
    "            min_1_hit += 1\n",
    "            hit_rates.append(user_recall)\n",
    "    \n",
    "    except KeyError:\n",
    "        continue\n",
    "\n",
    "print('End')\n",
    "print('% of test with at least one item from recommended list: ', min_1_hit/len(reviews20_2014['reviewerID'].unique()))\n",
    "print('Avg hit rate: {} ± {}'.format(np.mean(hit_rates), np.std(hit_rates)))"
   ]
  },
  {
   "cell_type": "code",
   "execution_count": 103,
   "metadata": {},
   "outputs": [],
   "source": [
    "rec, history, actual = generate_recommendations('A1S3C5OFU508P3',\n",
    "                                                svd_k100reg_predicted_ratings_matrix,\n",
    "                                                10,\n",
    "                                                return_recommendations_only=False,\n",
    "                                                print_results=False)"
   ]
  },
  {
   "cell_type": "code",
   "execution_count": 104,
   "metadata": {},
   "outputs": [
    {
     "name": "stdout",
     "output_type": "stream",
     "text": [
      "=== Rancilio HSD-SILVIA Silvia Espresso Machine ===\n"
     ]
    },
    {
     "data": {
      "text/html": [
       "<img src=\"http://ecx.images-amazon.com/images/I/41LKv5Dks8L._SY300_.jpg\"/>"
      ],
      "text/plain": [
       "<IPython.core.display.Image object>"
      ]
     },
     "metadata": {},
     "output_type": "display_data"
    },
    {
     "name": "stdout",
     "output_type": "stream",
     "text": [
      "=== Pike Street Down Comforter, Full/Queen, Chocolate ===\n"
     ]
    },
    {
     "data": {
      "text/html": [
       "<img src=\"http://ecx.images-amazon.com/images/I/41JZMqyDWCL._SX300_.jpg\"/>"
      ],
      "text/plain": [
       "<IPython.core.display.Image object>"
      ]
     },
     "metadata": {},
     "output_type": "display_data"
    },
    {
     "name": "stdout",
     "output_type": "stream",
     "text": [
      "=== Norpro Stainless Steel Wide-Mouth Funnel ===\n"
     ]
    },
    {
     "data": {
      "text/html": [
       "<img src=\"http://ecx.images-amazon.com/images/I/41eUBcdKbAL._SY300_.jpg\"/>"
      ],
      "text/plain": [
       "<IPython.core.display.Image object>"
      ]
     },
     "metadata": {},
     "output_type": "display_data"
    },
    {
     "name": "stdout",
     "output_type": "stream",
     "text": [
      "=== Rubbermaid Comm Prod 7035-04-BSTON Small Brownstone Bath Mat - 14&quot; X 22.5&quot; ===\n"
     ]
    },
    {
     "data": {
      "text/html": [
       "<img src=\"http://ecx.images-amazon.com/images/I/21%2B1Y9wjLfL.jpg\"/>"
      ],
      "text/plain": [
       "<IPython.core.display.Image object>"
      ]
     },
     "metadata": {},
     "output_type": "display_data"
    },
    {
     "name": "stdout",
     "output_type": "stream",
     "text": [
      "=== Hoover LiNX Lithium Ion Battery, BH50000 ===\n"
     ]
    },
    {
     "data": {
      "text/html": [
       "<img src=\"http://ecx.images-amazon.com/images/I/315GfOaz3CL._SY300_.jpg\"/>"
      ],
      "text/plain": [
       "<IPython.core.display.Image object>"
      ]
     },
     "metadata": {},
     "output_type": "display_data"
    },
    {
     "name": "stdout",
     "output_type": "stream",
     "text": [
      "=== Emeril by T-fal FR700951 2.65-Pound / 3.3-Liter Stainless Steel Digital Imm ===\n"
     ]
    },
    {
     "data": {
      "text/html": [
       "<img src=\"http://ecx.images-amazon.com/images/I/51x8Y2zECRL._SY300_.jpg\"/>"
      ],
      "text/plain": [
       "<IPython.core.display.Image object>"
      ]
     },
     "metadata": {},
     "output_type": "display_data"
    },
    {
     "name": "stdout",
     "output_type": "stream",
     "text": [
      "=== Granite Ware 0707-1 Steel/Porcelain Water-Bath Canner with Rack, 21.5-Quart, Black ===\n"
     ]
    },
    {
     "data": {
      "text/html": [
       "<img src=\"http://ecx.images-amazon.com/images/I/41QhSquc1SL._SX300_.jpg\"/>"
      ],
      "text/plain": [
       "<IPython.core.display.Image object>"
      ]
     },
     "metadata": {},
     "output_type": "display_data"
    },
    {
     "name": "stdout",
     "output_type": "stream",
     "text": [
      "=== Cuisipro Stainless Steel Measuring Spoon Set ===\n"
     ]
    },
    {
     "data": {
      "text/html": [
       "<img src=\"http://ecx.images-amazon.com/images/I/41kyIHpF3xL._SY300_.jpg\"/>"
      ],
      "text/plain": [
       "<IPython.core.display.Image object>"
      ]
     },
     "metadata": {},
     "output_type": "display_data"
    },
    {
     "name": "stdout",
     "output_type": "stream",
     "text": [
      "=== Master Craft Handbag Hangup Double-Sided Purse Organizer, Paradise Pink ===\n"
     ]
    },
    {
     "data": {
      "text/html": [
       "<img src=\"http://ecx.images-amazon.com/images/I/41aTGiJjWVL._SY300_.jpg\"/>"
      ],
      "text/plain": [
       "<IPython.core.display.Image object>"
      ]
     },
     "metadata": {},
     "output_type": "display_data"
    },
    {
     "name": "stdout",
     "output_type": "stream",
     "text": [
      "=== OXO Good Grips 9-Piece Nesting Bowls and Colanders Set, Yellow/Orange/Red ===\n"
     ]
    },
    {
     "data": {
      "text/html": [
       "<img src=\"http://ecx.images-amazon.com/images/I/41%2BpTzw-EnL._SY300_.jpg\"/>"
      ],
      "text/plain": [
       "<IPython.core.display.Image object>"
      ]
     },
     "metadata": {},
     "output_type": "display_data"
    }
   ],
   "source": [
    "print_product_images(rec)"
   ]
  },
  {
   "cell_type": "markdown",
   "metadata": {},
   "source": [
    "## Random 10 Products Recall"
   ]
  },
  {
   "cell_type": "code",
   "execution_count": 105,
   "metadata": {},
   "outputs": [
    {
     "name": "stdout",
     "output_type": "stream",
     "text": [
      "End\n",
      "% of test with at least one item from recommended list:  0.0015965939329430547\n",
      "Avg hit rate: 0.16666666666666666 ± 0.0\n"
     ]
    }
   ],
   "source": [
    "min_1_hit = 0\n",
    "hit_rates = []\n",
    "\n",
    "for user in reviews20_2014['reviewerID'].unique():\n",
    "    \n",
    "    random_items = list(n_random_items(10))\n",
    "    \n",
    "    user_recall = model_evaluation_recall(user, random_items)\n",
    "    \n",
    "    if user_recall > 0:\n",
    "        min_1_hit += 1\n",
    "        hit_rates.append(user_recall)\n",
    "\n",
    "print('End')\n",
    "print('% of test with at least one item from recommended list: ', min_1_hit/len(reviews20_2014['reviewerID'].unique()))\n",
    "print('Avg hit rate: {} ± {}'.format(np.mean(hit_rates), np.std(hit_rates)))"
   ]
  },
  {
   "cell_type": "code",
   "execution_count": 106,
   "metadata": {},
   "outputs": [
    {
     "name": "stdout",
     "output_type": "stream",
     "text": [
      "End\n",
      "% of test with at least one item from recommended list:  0.22831293241085684\n",
      "Avg hit rate: 0.120979020979021 ± 0.055284574478468164\n"
     ]
    }
   ],
   "source": [
    "min_1_hit = 0\n",
    "hit_rates = []\n",
    "\n",
    "for user in reviews20_2014['reviewerID'].unique():\n",
    "    \n",
    "    try:\n",
    "        _, history, actual = generate_recommendations(user, \n",
    "                                                        uucf_k3_pearson_predicted_ratings_matrix,\n",
    "                                                        n_recommended_items=10,\n",
    "                                                        return_recommendations_only=False, \n",
    "                                                        print_results=False)\n",
    "        rec = list(n_random_items(10))\n",
    "\n",
    "        user_recall = model_evaluation_recall_cat(rec, actual)\n",
    "\n",
    "        if user_recall > 0:\n",
    "            min_1_hit += 1\n",
    "            hit_rates.append(user_recall)\n",
    "    \n",
    "    except KeyError:\n",
    "        continue\n",
    "\n",
    "print('End')\n",
    "print('% of test with at least one item from recommended list: ', min_1_hit/len(reviews20_2014['reviewerID'].unique()))\n",
    "print('Avg hit rate: {} ± {}'.format(np.mean(hit_rates), np.std(hit_rates)))"
   ]
  },
  {
   "cell_type": "markdown",
   "metadata": {},
   "source": [
    "# FINAL MODEL"
   ]
  },
  {
   "cell_type": "code",
   "execution_count": 107,
   "metadata": {},
   "outputs": [],
   "source": [
    "def hybrid_recommendations(user_id, perc_svd=0.3, return_recommendations_only=False):\n",
    "    uu_rec, history, actual = generate_recommendations(user_id, \n",
    "                                                       pred_matrix = uucf_k3_pearsonbaseline_predicted_ratings_matrix,\n",
    "                                                       n_recommended_items = int(10*(1-perc_svd)),\n",
    "                                                       return_recommendations_only=False,\n",
    "                                                       print_results=False)\n",
    "    \n",
    "    svd_rec = generate_recommendations(user_id, \n",
    "                                       pred_matrix = svd_k40reg_predicted_ratings_matrix,\n",
    "                                       n_recommended_items = int(10*perc_svd),\n",
    "                                       return_recommendations_only=True,\n",
    "                                       print_results=False)\n",
    "    \n",
    "    final_rec = uu_rec + svd_rec\n",
    "    \n",
    "    if return_recommendations_only==False:\n",
    "        return final_rec, history, actual\n",
    "    else: \n",
    "        return final_rec"
   ]
  },
  {
   "cell_type": "code",
   "execution_count": 108,
   "metadata": {},
   "outputs": [
    {
     "name": "stdout",
     "output_type": "stream",
     "text": [
      "Computing the pearson similarity matrix...\n",
      "Done computing similarity matrix.\n"
     ]
    },
    {
     "data": {
      "text/plain": [
       "<surprise.prediction_algorithms.knns.KNNWithMeans at 0x13ade2cf8>"
      ]
     },
     "execution_count": 108,
     "metadata": {},
     "output_type": "execute_result"
    }
   ],
   "source": [
    "reader = Reader(rating_scale=(1,5))\n",
    "data = Dataset.load_from_df(reviews20_pre2014[['reviewerID', 'asin', 'overall']], reader)\n",
    "trainset = data.build_full_trainset()\n",
    "\n",
    "algo = KNNWithMeans(k=3, sim_options={'name': 'pearson', 'user_based': True})\n",
    "algo.fit(trainset)"
   ]
  },
  {
   "cell_type": "code",
   "execution_count": 109,
   "metadata": {},
   "outputs": [],
   "source": [
    "uucf_k3_pearson_predicted_ratings_matrix = generate_predicted_ratings_matrix(user_utility_matrix)"
   ]
  },
  {
   "cell_type": "code",
   "execution_count": 110,
   "metadata": {},
   "outputs": [
    {
     "name": "stdout",
     "output_type": "stream",
     "text": [
      "Estimating biases using als...\n",
      "Computing the pearson_baseline similarity matrix...\n",
      "Done computing similarity matrix.\n"
     ]
    },
    {
     "data": {
      "text/plain": [
       "<surprise.prediction_algorithms.knns.KNNWithMeans at 0x137f732b0>"
      ]
     },
     "execution_count": 110,
     "metadata": {},
     "output_type": "execute_result"
    }
   ],
   "source": [
    "reader = Reader(rating_scale=(1,5))\n",
    "data = Dataset.load_from_df(reviews20_pre2014[['reviewerID', 'asin', 'overall']], reader)\n",
    "trainset = data.build_full_trainset()\n",
    "\n",
    "algo = KNNWithMeans(k=3, sim_options={'name': 'pearson_baseline', 'user_based': True})\n",
    "algo.fit(trainset)"
   ]
  },
  {
   "cell_type": "code",
   "execution_count": 111,
   "metadata": {},
   "outputs": [],
   "source": [
    "uucf_k3_pearsonbaseline_predicted_ratings_matrix = generate_predicted_ratings_matrix(user_utility_matrix)"
   ]
  },
  {
   "cell_type": "code",
   "execution_count": 112,
   "metadata": {},
   "outputs": [
    {
     "data": {
      "text/plain": [
       "<surprise.prediction_algorithms.matrix_factorization.SVD at 0x1317361d0>"
      ]
     },
     "execution_count": 112,
     "metadata": {},
     "output_type": "execute_result"
    }
   ],
   "source": [
    "algo = SVD(n_factors=40, lr_bi=0.0001, lr_qi=0.0001, reg_bi=0.7, reg_qi=0.7)\n",
    "algo.fit(trainset)"
   ]
  },
  {
   "cell_type": "code",
   "execution_count": 113,
   "metadata": {},
   "outputs": [],
   "source": [
    "svd_k40reg_predicted_ratings_matrix = generate_predicted_ratings_matrix(user_utility_matrix)"
   ]
  },
  {
   "cell_type": "code",
   "execution_count": 114,
   "metadata": {},
   "outputs": [],
   "source": [
    "user_tmp = 'A1027WM3PXKVMR'"
   ]
  },
  {
   "cell_type": "code",
   "execution_count": 115,
   "metadata": {},
   "outputs": [],
   "source": [
    "rec, history, actual = hybrid_recommendations('A1S3C5OFU508P3')"
   ]
  },
  {
   "cell_type": "code",
   "execution_count": 116,
   "metadata": {},
   "outputs": [
    {
     "data": {
      "text/plain": [
       "['Martex Bath Towels, White, 6-Pack',\n",
       " 'Replacement Filters for Aeropress (350 pk)',\n",
       " \"Rada Cutlery R129 Chef's Dicer with Aluminum Handle\",\n",
       " 'Miracle Blade III Perfection Series 11-Piece Cutlery Set',\n",
       " \"Sun's Tea (TM) 20oz Strong Double Wall Thermo Glasses/Tumbler for Beer/Cocktail/Lemonade/Iced Tea, Set of 2\",\n",
       " 'Norpro Coffee Grinder',\n",
       " 'Hamilton Beach 70450 8-Cup Food Processor',\n",
       " 'RSVP 6-Piece Stainless Steel Nesting Measuring Cup Set',\n",
       " 'Household Essentials 6-Shelf Hanging Closet Organizer with Plastic Shelves, Natural Canvas',\n",
       " 'KitchenAid KPSA Stand-Mixer Pasta-Roller Attachment']"
      ]
     },
     "execution_count": 116,
     "metadata": {},
     "output_type": "execute_result"
    }
   ],
   "source": [
    "rec"
   ]
  },
  {
   "cell_type": "code",
   "execution_count": 117,
   "metadata": {},
   "outputs": [
    {
     "name": "stdout",
     "output_type": "stream",
     "text": [
      "=== Martex Bath Towels, White, 6-Pack ===\n"
     ]
    },
    {
     "data": {
      "text/html": [
       "<img src=\"http://ecx.images-amazon.com/images/I/4122%2B8SroiL._SY300_.jpg\"/>"
      ],
      "text/plain": [
       "<IPython.core.display.Image object>"
      ]
     },
     "metadata": {},
     "output_type": "display_data"
    },
    {
     "name": "stdout",
     "output_type": "stream",
     "text": [
      "=== Replacement Filters for Aeropress (350 pk) ===\n"
     ]
    },
    {
     "data": {
      "text/html": [
       "<img src=\"http://ecx.images-amazon.com/images/I/41AXFwHrg1L._SY300_.jpg\"/>"
      ],
      "text/plain": [
       "<IPython.core.display.Image object>"
      ]
     },
     "metadata": {},
     "output_type": "display_data"
    },
    {
     "name": "stdout",
     "output_type": "stream",
     "text": [
      "=== Rada Cutlery R129 Chef's Dicer with Aluminum Handle ===\n"
     ]
    },
    {
     "data": {
      "text/html": [
       "<img src=\"http://ecx.images-amazon.com/images/I/21YER5SyXOL._SX300_.jpg\"/>"
      ],
      "text/plain": [
       "<IPython.core.display.Image object>"
      ]
     },
     "metadata": {},
     "output_type": "display_data"
    },
    {
     "name": "stdout",
     "output_type": "stream",
     "text": [
      "=== Miracle Blade III Perfection Series 11-Piece Cutlery Set ===\n"
     ]
    },
    {
     "data": {
      "text/html": [
       "<img src=\"http://ecx.images-amazon.com/images/I/51y2FG6bnUL._SX300_.jpg\"/>"
      ],
      "text/plain": [
       "<IPython.core.display.Image object>"
      ]
     },
     "metadata": {},
     "output_type": "display_data"
    },
    {
     "name": "stdout",
     "output_type": "stream",
     "text": [
      "=== Sun's Tea (TM) 20oz Strong Double Wall Thermo Glasses/Tumbler for Beer/Cocktail/Lemonade/Iced Tea, Set of 2 ===\n"
     ]
    },
    {
     "data": {
      "text/html": [
       "<img src=\"http://ecx.images-amazon.com/images/I/513lWHrDOSL._SY300_.jpg\"/>"
      ],
      "text/plain": [
       "<IPython.core.display.Image object>"
      ]
     },
     "metadata": {},
     "output_type": "display_data"
    },
    {
     "name": "stdout",
     "output_type": "stream",
     "text": [
      "=== Norpro Coffee Grinder ===\n"
     ]
    },
    {
     "data": {
      "text/html": [
       "<img src=\"http://ecx.images-amazon.com/images/I/41CB8j3Y96L._SY300_.jpg\"/>"
      ],
      "text/plain": [
       "<IPython.core.display.Image object>"
      ]
     },
     "metadata": {},
     "output_type": "display_data"
    },
    {
     "name": "stdout",
     "output_type": "stream",
     "text": [
      "=== Hamilton Beach 70450 8-Cup Food Processor ===\n"
     ]
    },
    {
     "data": {
      "text/html": [
       "<img src=\"http://ecx.images-amazon.com/images/I/41iDX10uCFL._SY300_.jpg\"/>"
      ],
      "text/plain": [
       "<IPython.core.display.Image object>"
      ]
     },
     "metadata": {},
     "output_type": "display_data"
    },
    {
     "name": "stdout",
     "output_type": "stream",
     "text": [
      "=== RSVP 6-Piece Stainless Steel Nesting Measuring Cup Set ===\n"
     ]
    },
    {
     "data": {
      "text/html": [
       "<img src=\"http://ecx.images-amazon.com/images/I/51d5wnJhiEL._SY300_.jpg\"/>"
      ],
      "text/plain": [
       "<IPython.core.display.Image object>"
      ]
     },
     "metadata": {},
     "output_type": "display_data"
    },
    {
     "name": "stdout",
     "output_type": "stream",
     "text": [
      "=== Household Essentials 6-Shelf Hanging Closet Organizer with Plastic Shelves, Natural Canvas ===\n"
     ]
    },
    {
     "data": {
      "text/html": [
       "<img src=\"http://ecx.images-amazon.com/images/I/31kiWkzwjeL._SY300_.jpg\"/>"
      ],
      "text/plain": [
       "<IPython.core.display.Image object>"
      ]
     },
     "metadata": {},
     "output_type": "display_data"
    },
    {
     "name": "stdout",
     "output_type": "stream",
     "text": [
      "=== KitchenAid KPSA Stand-Mixer Pasta-Roller Attachment ===\n"
     ]
    },
    {
     "data": {
      "text/html": [
       "<img src=\"http://ecx.images-amazon.com/images/I/31zfqnW%2BkJL._SY300_.jpg\"/>"
      ],
      "text/plain": [
       "<IPython.core.display.Image object>"
      ]
     },
     "metadata": {},
     "output_type": "display_data"
    }
   ],
   "source": [
    "print_product_images(rec)"
   ]
  },
  {
   "cell_type": "code",
   "execution_count": 118,
   "metadata": {
    "scrolled": true
   },
   "outputs": [
    {
     "name": "stdout",
     "output_type": "stream",
     "text": [
      "End\n",
      "% of test with at least one item from recommended list:  0.009579563597658328\n",
      "Avg hit rate: 0.1921779609279609 ± 0.1377967028034174\n"
     ]
    }
   ],
   "source": [
    "min_1_hit = 0\n",
    "hit_rates = []\n",
    "\n",
    "for user in reviews20_2014['reviewerID'].unique():\n",
    "    \n",
    "    user_recall = model_evaluation_recall(user, hybrid_recommendations(user,return_recommendations_only=True))\n",
    "    \n",
    "    if user_recall > 0:\n",
    "        min_1_hit += 1\n",
    "        hit_rates.append(user_recall)\n",
    "\n",
    "print('End')\n",
    "print('% of test with at least one item from recommended list: ', min_1_hit/len(reviews20_2014['reviewerID'].unique()))\n",
    "print('Avg hit rate: {} ± {}'.format(np.mean(hit_rates), np.std(hit_rates)))"
   ]
  },
  {
   "cell_type": "code",
   "execution_count": 119,
   "metadata": {},
   "outputs": [],
   "source": [
    "def model_evaluation_recall_cat(rec, actual, verbose=False):\n",
    "    \n",
    "    rec_categories = set([category_lookup_short[item] for item in rec])\n",
    "    actual_categories = set([category_lookup_short[item] for item in actual])\n",
    "    \n",
    "    overlap = rec_categories & actual_categories\n",
    "    pct_recall = len(overlap)/len(rec)\n",
    "    \n",
    "    if verbose==True:\n",
    "        print(overlap)\n",
    "    \n",
    "    return pct_recall"
   ]
  },
  {
   "cell_type": "code",
   "execution_count": 120,
   "metadata": {},
   "outputs": [
    {
     "name": "stdout",
     "output_type": "stream",
     "text": [
      "End\n",
      "% of test with at least one item from recommended list:  0.26450239489089944\n",
      "Avg hit rate: 0.12334004024144872 ± 0.052488487445192154\n"
     ]
    }
   ],
   "source": [
    "min_1_hit = 0\n",
    "hit_rates = []\n",
    "\n",
    "for user in reviews20_2014['reviewerID'].unique():\n",
    "    \n",
    "    try:\n",
    "        rec, history, actual = hybrid_recommendations(user,return_recommendations_only=False)\n",
    "\n",
    "        user_recall = model_evaluation_recall_cat(rec, actual)\n",
    "\n",
    "        if user_recall > 0:\n",
    "            min_1_hit += 1\n",
    "            hit_rates.append(user_recall)\n",
    "    \n",
    "    except KeyError:\n",
    "        continue\n",
    "\n",
    "print('End')\n",
    "print('% of test with at least one item from recommended list: ', min_1_hit/len(reviews20_2014['reviewerID'].unique()))\n",
    "print('Avg hit rate: {} ± {}'.format(np.mean(hit_rates), np.std(hit_rates)))"
   ]
  },
  {
   "cell_type": "code",
   "execution_count": 121,
   "metadata": {},
   "outputs": [],
   "source": [
    "rec, history, actual = hybrid_recommendations('AJT2XS3UJ9WIK')"
   ]
  },
  {
   "cell_type": "code",
   "execution_count": 122,
   "metadata": {},
   "outputs": [
    {
     "name": "stdout",
     "output_type": "stream",
     "text": [
      "=== Lock &amp; Lock Storage 1 Gallon Large Pitcher ===\n"
     ]
    },
    {
     "data": {
      "text/html": [
       "<img src=\"http://ecx.images-amazon.com/images/I/41Kjhty2O%2BL._SY300_.jpg\"/>"
      ],
      "text/plain": [
       "<IPython.core.display.Image object>"
      ]
     },
     "metadata": {},
     "output_type": "display_data"
    },
    {
     "name": "stdout",
     "output_type": "stream",
     "text": [
      "=== Sleep Better Iso-Cool Memory Foam Pillow, Gusseted Side Sleeper ,Standard ===\n"
     ]
    },
    {
     "data": {
      "text/html": [
       "<img src=\"http://ecx.images-amazon.com/images/I/31w0Sm%2B8TcL._SX300_.jpg\"/>"
      ],
      "text/plain": [
       "<IPython.core.display.Image object>"
      ]
     },
     "metadata": {},
     "output_type": "display_data"
    },
    {
     "name": "stdout",
     "output_type": "stream",
     "text": [
      "=== Dyson DC50 Animal Compact Upright Vacuum Cleaner ===\n"
     ]
    },
    {
     "data": {
      "text/html": [
       "<img src=\"http://ecx.images-amazon.com/images/I/31sKnTuoDtL._SY300_.jpg\"/>"
      ],
      "text/plain": [
       "<IPython.core.display.Image object>"
      ]
     },
     "metadata": {},
     "output_type": "display_data"
    },
    {
     "name": "stdout",
     "output_type": "stream",
     "text": [
      "=== Soft Heat Micro-Plush Top Low-Voltage Electric Heated Twin Mattress Pad, White ===\n"
     ]
    },
    {
     "data": {
      "text/html": [
       "<img src=\"http://ecx.images-amazon.com/images/I/419MerQOGpL._SX300_.jpg\"/>"
      ],
      "text/plain": [
       "<IPython.core.display.Image object>"
      ]
     },
     "metadata": {},
     "output_type": "display_data"
    },
    {
     "name": "stdout",
     "output_type": "stream",
     "text": [
      "=== Rada Cutlery R141 Deluxe Vegetable Peeler with Aluminum Handle ===\n"
     ]
    },
    {
     "data": {
      "text/html": [
       "<img src=\"http://ecx.images-amazon.com/images/I/21Fn8ZlPlnL._SX300_.jpg\"/>"
      ],
      "text/plain": [
       "<IPython.core.display.Image object>"
      ]
     },
     "metadata": {},
     "output_type": "display_data"
    },
    {
     "name": "stdout",
     "output_type": "stream",
     "text": [
      "=== WearEver C943SA64 Pure Living Nonstick Ceramic Coating PTFE-PFOA-Cadmium Free Dishwasher Safe 10 Piece Cookware Set, Red ===\n"
     ]
    },
    {
     "data": {
      "text/html": [
       "<img src=\"http://ecx.images-amazon.com/images/I/41aQJJ%2BwSUL._SX300_.jpg\"/>"
      ],
      "text/plain": [
       "<IPython.core.display.Image object>"
      ]
     },
     "metadata": {},
     "output_type": "display_data"
    },
    {
     "name": "stdout",
     "output_type": "stream",
     "text": [
      "=== Cathay Home Fashions Luxury Silky Soft Brushed Microfiber Twin Sheet Set, Burgundy ===\n"
     ]
    },
    {
     "data": {
      "text/html": [
       "<img src=\"http://ecx.images-amazon.com/images/I/41B9n-Av2GL._SX300_.jpg\"/>"
      ],
      "text/plain": [
       "<IPython.core.display.Image object>"
      ]
     },
     "metadata": {},
     "output_type": "display_data"
    },
    {
     "name": "stdout",
     "output_type": "stream",
     "text": [
      "=== Furinno NW889BE 4-Tier Shelf Storage Shelves Cabinet Bookcase Bookshelf Bookshelves with Bins, Beech Finish ===\n"
     ]
    },
    {
     "data": {
      "text/html": [
       "<img src=\"http://ecx.images-amazon.com/images/I/41iHuQI%2BO5L._SY300_.jpg\"/>"
      ],
      "text/plain": [
       "<IPython.core.display.Image object>"
      ]
     },
     "metadata": {},
     "output_type": "display_data"
    },
    {
     "name": "stdout",
     "output_type": "stream",
     "text": [
      "=== Totally Bamboo Lattice Utensil Holder ===\n"
     ]
    },
    {
     "data": {
      "text/html": [
       "<img src=\"http://ecx.images-amazon.com/images/I/41scKkodQtL._SY300_.jpg\"/>"
      ],
      "text/plain": [
       "<IPython.core.display.Image object>"
      ]
     },
     "metadata": {},
     "output_type": "display_data"
    },
    {
     "name": "stdout",
     "output_type": "stream",
     "text": [
      "=== Calphalon C1210P Commercial Nonstick 10-Inch International Griddle/Crepe Pan ===\n"
     ]
    },
    {
     "data": {
      "text/html": [
       "<img src=\"http://ecx.images-amazon.com/images/I/31TSCZXEN2L._SX300_.jpg\"/>"
      ],
      "text/plain": [
       "<IPython.core.display.Image object>"
      ]
     },
     "metadata": {},
     "output_type": "display_data"
    }
   ],
   "source": [
    "print_product_images(rec)"
   ]
  },
  {
   "cell_type": "code",
   "execution_count": 123,
   "metadata": {},
   "outputs": [],
   "source": [
    "rec, history, actual = hybrid_recommendations('A2D1PTMMCA93BV')"
   ]
  },
  {
   "cell_type": "code",
   "execution_count": 124,
   "metadata": {},
   "outputs": [
    {
     "name": "stdout",
     "output_type": "stream",
     "text": [
      "=== Proctor-Silex 75217F Power Can Opener Black ===\n"
     ]
    },
    {
     "data": {
      "text/html": [
       "<img src=\"http://ecx.images-amazon.com/images/I/41D9M71MXEL._SY300_.jpg\"/>"
      ],
      "text/plain": [
       "<IPython.core.display.Image object>"
      ]
     },
     "metadata": {},
     "output_type": "display_data"
    },
    {
     "name": "stdout",
     "output_type": "stream",
     "text": [
      "=== Bormioli Rocco Verdi Cappuccino Cup with Stainless Steel Handle, Set of 4, Gift Boxed ===\n"
     ]
    },
    {
     "data": {
      "text/html": [
       "<img src=\"http://ecx.images-amazon.com/images/I/41Vk4UItiqL._SY300_.jpg\"/>"
      ],
      "text/plain": [
       "<IPython.core.display.Image object>"
      ]
     },
     "metadata": {},
     "output_type": "display_data"
    },
    {
     "name": "stdout",
     "output_type": "stream",
     "text": [
      "=== Debbie Meyer GreenBags, 20-Pack ===\n"
     ]
    },
    {
     "data": {
      "text/html": [
       "<img src=\"http://ecx.images-amazon.com/images/I/41Y1mMfNnyL._SY300_.jpg\"/>"
      ],
      "text/plain": [
       "<IPython.core.display.Image object>"
      ]
     },
     "metadata": {},
     "output_type": "display_data"
    },
    {
     "name": "stdout",
     "output_type": "stream",
     "text": [
      "=== KitchenAid KHM7T 7-Speed Artisan Hand Mixer, White ===\n"
     ]
    },
    {
     "data": {
      "text/html": [
       "<img src=\"http://ecx.images-amazon.com/images/I/314FQRK1SSL._SX300_.jpg\"/>"
      ],
      "text/plain": [
       "<IPython.core.display.Image object>"
      ]
     },
     "metadata": {},
     "output_type": "display_data"
    },
    {
     "name": "stdout",
     "output_type": "stream",
     "text": [
      "=== BISSELL SpotLifter 2X Portable Deep Carpet Cleaner, 1719 ===\n"
     ]
    },
    {
     "data": {
      "text/html": [
       "<img src=\"http://ecx.images-amazon.com/images/I/41T74Y2JD4L._SX300_.jpg\"/>"
      ],
      "text/plain": [
       "<IPython.core.display.Image object>"
      ]
     },
     "metadata": {},
     "output_type": "display_data"
    },
    {
     "name": "stdout",
     "output_type": "stream",
     "text": [
      "=== OXO Good Grips 4-Cup Fat Separator ===\n"
     ]
    },
    {
     "data": {
      "text/html": [
       "<img src=\"http://ecx.images-amazon.com/images/I/4158wgeRrpL._SY300_.jpg\"/>"
      ],
      "text/plain": [
       "<IPython.core.display.Image object>"
      ]
     },
     "metadata": {},
     "output_type": "display_data"
    },
    {
     "name": "stdout",
     "output_type": "stream",
     "text": [
      "=== Black and Decker SL5470C Stainless Steel Slow Cooker ===\n"
     ]
    },
    {
     "data": {
      "text/html": [
       "<img src=\"http://ecx.images-amazon.com/images/I/41OOnGi1-IL._SY300_.jpg\"/>"
      ],
      "text/plain": [
       "<IPython.core.display.Image object>"
      ]
     },
     "metadata": {},
     "output_type": "display_data"
    },
    {
     "name": "stdout",
     "output_type": "stream",
     "text": [
      "=== Wilton Nonstick 12 Cavity Rose Pop Pan ===\n"
     ]
    },
    {
     "data": {
      "text/html": [
       "<img src=\"http://ecx.images-amazon.com/images/I/41jcQQ388hL._SX300_.jpg\"/>"
      ],
      "text/plain": [
       "<IPython.core.display.Image object>"
      ]
     },
     "metadata": {},
     "output_type": "display_data"
    },
    {
     "name": "stdout",
     "output_type": "stream",
     "text": [
      "=== MEDLINE 1 Dozen Herringbone Cotton Dish Towels 15&quot;x26&quot; (Quantity 12) Satisfaction Guaranteed ===\n"
     ]
    },
    {
     "data": {
      "text/html": [
       "<img src=\"http://ecx.images-amazon.com/images/I/41HMSmrbdPL._SY300_.jpg\"/>"
      ],
      "text/plain": [
       "<IPython.core.display.Image object>"
      ]
     },
     "metadata": {},
     "output_type": "display_data"
    },
    {
     "name": "stdout",
     "output_type": "stream",
     "text": [
      "=== Classic Brands Instant Foundation for Bed Mattress, Easy To Assemble Box Spring ===\n"
     ]
    },
    {
     "data": {
      "text/html": [
       "<img src=\"http://ecx.images-amazon.com/images/I/31wQrz8T7LL._SY300_.jpg\"/>"
      ],
      "text/plain": [
       "<IPython.core.display.Image object>"
      ]
     },
     "metadata": {},
     "output_type": "display_data"
    }
   ],
   "source": [
    "print_product_images(rec)"
   ]
  },
  {
   "cell_type": "markdown",
   "metadata": {},
   "source": [
    "[Back to Results Cell](#model-results)"
   ]
  },
  {
   "cell_type": "markdown",
   "metadata": {},
   "source": [
    "## 4.2 Model-Based Collaborative Filtering Methods"
   ]
  },
  {
   "cell_type": "markdown",
   "metadata": {},
   "source": [
    "### 4.2.1 Matrix Factorization with Singular Value Decomposition (SVD)"
   ]
  },
  {
   "cell_type": "code",
   "execution_count": 125,
   "metadata": {},
   "outputs": [
    {
     "data": {
      "text/plain": [
       "<surprise.prediction_algorithms.matrix_factorization.SVD at 0x13ade2898>"
      ]
     },
     "execution_count": 125,
     "metadata": {},
     "output_type": "execute_result"
    }
   ],
   "source": [
    "algo = SVD(n_factors=40, lr_bi=0.0001, lr_qi=0.0001, reg_bi=0.7, reg_qi=0.7)\n",
    "algo.fit(trainset)"
   ]
  },
  {
   "cell_type": "code",
   "execution_count": 126,
   "metadata": {},
   "outputs": [],
   "source": [
    "svd_k40reg_predicted_ratings_matrix = generate_predicted_ratings_matrix(user_utility_matrix)"
   ]
  },
  {
   "cell_type": "markdown",
   "metadata": {},
   "source": [
    "### Visualising the Recommendations"
   ]
  },
  {
   "cell_type": "code",
   "execution_count": 127,
   "metadata": {},
   "outputs": [],
   "source": [
    "def items_with_categories(list_of_products, user_id, pred_matrix, list_type='actual'):\n",
    "    \n",
    "    def categories_to_columns(row, cat_level):\n",
    "        try:\n",
    "            return row[cat_level]\n",
    "        except IndexError:\n",
    "            return np.nan\n",
    "        \n",
    "    def get_product_id(product_name):\n",
    "        return metadata[metadata['title']==product_name]['asin'].values[0]\n",
    "    \n",
    "    rec_cat = pd.DataFrame([[item, category_lookup[item]] for item in list_of_products], \n",
    "                           columns=['Product Names', 'Category Path'])\n",
    "    \n",
    "    rec_cat['Category Path'] = rec_cat['Category Path'].apply(\n",
    "        lambda x: [cat.strip() for cat in re.sub('[\\[\\]\\'\\\"]', '', x).split(',')])\n",
    "    \n",
    "    rec_cat['cat_1'] = rec_cat['Category Path'].apply(lambda x: categories_to_columns(x,1))\n",
    "\n",
    "    for i in range(1, 7):\n",
    "        rec_cat['cat_'+str(i)] = rec_cat['Category Path'].apply(lambda x: categories_to_columns(x, i-1))\n",
    "    \n",
    "    rec_cat = rec_cat[['Product Names', 'cat_2', 'cat_3', 'cat_4']].sort_values(by=['cat_2','cat_3','cat_4'])\n",
    "    \n",
    "    if list_type == 'recommended':\n",
    "        \n",
    "        rec_cat['ratings'] = rec_cat['Product Names'].apply(lambda x: pred_matrix.T[user_id][get_product_id(x)])\n",
    "        return rec_cat.sort_values(by='ratings', ascending=False)\n",
    "    \n",
    "    elif list_type == 'actual':\n",
    "        rec_cat['ratings'] = rec_cat['Product Names'].apply(lambda x: reviews20[(reviews20['productTitle']==x) & \n",
    "                                                                                (reviews20['reviewerID']==user_id)]['overall'].values[0])\n",
    "        return rec_cat"
   ]
  },
  {
   "cell_type": "code",
   "execution_count": 128,
   "metadata": {},
   "outputs": [],
   "source": [
    "def n_random_items(n):\n",
    "    return np.random.choice(metadata['title'].unique(),n)"
   ]
  },
  {
   "cell_type": "code",
   "execution_count": 129,
   "metadata": {},
   "outputs": [],
   "source": [
    "def print_product_images(product_list):\n",
    "    for item in product_list:\n",
    "        print('=== {} ==='.format(item))\n",
    "        display(Image(url=imgurl_lookup[item]))"
   ]
  },
  {
   "cell_type": "markdown",
   "metadata": {},
   "source": [
    "#### user_tmp"
   ]
  },
  {
   "cell_type": "code",
   "execution_count": 131,
   "metadata": {},
   "outputs": [],
   "source": [
    "rec_uucfk3, history, actual = generate_recommendations(user_tmp, uucf_k3_pearsonbaseline_predicted_ratings_matrix, 10, False, False)"
   ]
  },
  {
   "cell_type": "code",
   "execution_count": 132,
   "metadata": {},
   "outputs": [
    {
     "data": {
      "text/html": [
       "<div>\n",
       "<style scoped>\n",
       "    .dataframe tbody tr th:only-of-type {\n",
       "        vertical-align: middle;\n",
       "    }\n",
       "\n",
       "    .dataframe tbody tr th {\n",
       "        vertical-align: top;\n",
       "    }\n",
       "\n",
       "    .dataframe thead th {\n",
       "        text-align: right;\n",
       "    }\n",
       "</style>\n",
       "<table border=\"1\" class=\"dataframe\">\n",
       "  <thead>\n",
       "    <tr style=\"text-align: right;\">\n",
       "      <th></th>\n",
       "      <th>Product Names</th>\n",
       "      <th>cat_2</th>\n",
       "      <th>cat_3</th>\n",
       "      <th>cat_4</th>\n",
       "      <th>ratings</th>\n",
       "    </tr>\n",
       "  </thead>\n",
       "  <tbody>\n",
       "    <tr>\n",
       "      <th>10</th>\n",
       "      <td>Best Manufacturers Flour Duster</td>\n",
       "      <td>Kitchen &amp; Dining</td>\n",
       "      <td>Bakeware</td>\n",
       "      <td>Baking Tools &amp; Accessories</td>\n",
       "      <td>5.0</td>\n",
       "    </tr>\n",
       "    <tr>\n",
       "      <th>9</th>\n",
       "      <td>Lodge L4LP3 Loaf Pan</td>\n",
       "      <td>Kitchen &amp; Dining</td>\n",
       "      <td>Bakeware</td>\n",
       "      <td>Bread &amp; Loaf Pans</td>\n",
       "      <td>5.0</td>\n",
       "    </tr>\n",
       "    <tr>\n",
       "      <th>11</th>\n",
       "      <td>Trudeau Porcelain Butter Boat</td>\n",
       "      <td>Kitchen &amp; Dining</td>\n",
       "      <td>Dining &amp; Entertaining</td>\n",
       "      <td>Serveware</td>\n",
       "      <td>5.0</td>\n",
       "    </tr>\n",
       "    <tr>\n",
       "      <th>4</th>\n",
       "      <td>Victorinox Cutlery 9-Inch Wavy Edge Bread Knif...</td>\n",
       "      <td>Kitchen &amp; Dining</td>\n",
       "      <td>Kitchen Knives &amp; Cutlery Accessories</td>\n",
       "      <td>Bread &amp; Serrated Knives</td>\n",
       "      <td>4.0</td>\n",
       "    </tr>\n",
       "    <tr>\n",
       "      <th>6</th>\n",
       "      <td>EatSmart Precision Pro Digital Kitchen Scale, ...</td>\n",
       "      <td>Kitchen &amp; Dining</td>\n",
       "      <td>Kitchen Utensils &amp; Gadgets</td>\n",
       "      <td>Measuring Tools &amp; Scales</td>\n",
       "      <td>5.0</td>\n",
       "    </tr>\n",
       "    <tr>\n",
       "      <th>1</th>\n",
       "      <td>Misto Brushed Aluminum Olive Oil Sprayer</td>\n",
       "      <td>Kitchen &amp; Dining</td>\n",
       "      <td>Kitchen Utensils &amp; Gadgets</td>\n",
       "      <td>Oil Sprayers &amp; Dispensers</td>\n",
       "      <td>2.0</td>\n",
       "    </tr>\n",
       "    <tr>\n",
       "      <th>7</th>\n",
       "      <td>Norpro Stainless-Steel Holder with Cotton Cook...</td>\n",
       "      <td>Kitchen &amp; Dining</td>\n",
       "      <td>Kitchen Utensils &amp; Gadgets</td>\n",
       "      <td>Tool &amp; Gadget Sets</td>\n",
       "      <td>5.0</td>\n",
       "    </tr>\n",
       "    <tr>\n",
       "      <th>0</th>\n",
       "      <td>Breville BOV800XL Smart Oven 1800-Watt Convect...</td>\n",
       "      <td>Kitchen &amp; Dining</td>\n",
       "      <td>Small Appliances</td>\n",
       "      <td>Ovens &amp; Toasters</td>\n",
       "      <td>4.0</td>\n",
       "    </tr>\n",
       "    <tr>\n",
       "      <th>2</th>\n",
       "      <td>Ronco ST5000PLGEN Showtime Rotisserie Platinum...</td>\n",
       "      <td>Kitchen &amp; Dining</td>\n",
       "      <td>Small Appliances</td>\n",
       "      <td>Ovens &amp; Toasters</td>\n",
       "      <td>2.0</td>\n",
       "    </tr>\n",
       "    <tr>\n",
       "      <th>3</th>\n",
       "      <td>Epica Stainless Steel Compost Bin 1 Gallon</td>\n",
       "      <td>Kitchen &amp; Dining</td>\n",
       "      <td>Storage &amp; Organization</td>\n",
       "      <td>Compost Bins</td>\n",
       "      <td>5.0</td>\n",
       "    </tr>\n",
       "    <tr>\n",
       "      <th>5</th>\n",
       "      <td>Norpro Corn Butter Spreader</td>\n",
       "      <td>Kitchen &amp; Dining</td>\n",
       "      <td>NaN</td>\n",
       "      <td>NaN</td>\n",
       "      <td>4.0</td>\n",
       "    </tr>\n",
       "    <tr>\n",
       "      <th>8</th>\n",
       "      <td>FoodSaver 11&amp;quot; Roll, 2pk</td>\n",
       "      <td>Kitchen &amp; Dining</td>\n",
       "      <td>NaN</td>\n",
       "      <td>NaN</td>\n",
       "      <td>5.0</td>\n",
       "    </tr>\n",
       "  </tbody>\n",
       "</table>\n",
       "</div>"
      ],
      "text/plain": [
       "                                        Product Names             cat_2  \\\n",
       "10                    Best Manufacturers Flour Duster  Kitchen & Dining   \n",
       "9                                Lodge L4LP3 Loaf Pan  Kitchen & Dining   \n",
       "11                      Trudeau Porcelain Butter Boat  Kitchen & Dining   \n",
       "4   Victorinox Cutlery 9-Inch Wavy Edge Bread Knif...  Kitchen & Dining   \n",
       "6   EatSmart Precision Pro Digital Kitchen Scale, ...  Kitchen & Dining   \n",
       "1            Misto Brushed Aluminum Olive Oil Sprayer  Kitchen & Dining   \n",
       "7   Norpro Stainless-Steel Holder with Cotton Cook...  Kitchen & Dining   \n",
       "0   Breville BOV800XL Smart Oven 1800-Watt Convect...  Kitchen & Dining   \n",
       "2   Ronco ST5000PLGEN Showtime Rotisserie Platinum...  Kitchen & Dining   \n",
       "3          Epica Stainless Steel Compost Bin 1 Gallon  Kitchen & Dining   \n",
       "5                         Norpro Corn Butter Spreader  Kitchen & Dining   \n",
       "8                        FoodSaver 11&quot; Roll, 2pk  Kitchen & Dining   \n",
       "\n",
       "                                   cat_3                       cat_4  ratings  \n",
       "10                              Bakeware  Baking Tools & Accessories      5.0  \n",
       "9                               Bakeware           Bread & Loaf Pans      5.0  \n",
       "11                 Dining & Entertaining                   Serveware      5.0  \n",
       "4   Kitchen Knives & Cutlery Accessories     Bread & Serrated Knives      4.0  \n",
       "6             Kitchen Utensils & Gadgets    Measuring Tools & Scales      5.0  \n",
       "1             Kitchen Utensils & Gadgets   Oil Sprayers & Dispensers      2.0  \n",
       "7             Kitchen Utensils & Gadgets          Tool & Gadget Sets      5.0  \n",
       "0                       Small Appliances            Ovens & Toasters      4.0  \n",
       "2                       Small Appliances            Ovens & Toasters      2.0  \n",
       "3                 Storage & Organization                Compost Bins      5.0  \n",
       "5                                    NaN                         NaN      4.0  \n",
       "8                                    NaN                         NaN      5.0  "
      ]
     },
     "execution_count": 132,
     "metadata": {},
     "output_type": "execute_result"
    }
   ],
   "source": [
    "items_with_categories(history, user_tmp, uucf_k3_pearsonbaseline_predicted_ratings_matrix, list_type='actual')"
   ]
  },
  {
   "cell_type": "code",
   "execution_count": 133,
   "metadata": {},
   "outputs": [
    {
     "name": "stdout",
     "output_type": "stream",
     "text": [
      "=== Breville BOV800XL Smart Oven 1800-Watt Convection Toaster Oven with Element IQ ===\n"
     ]
    },
    {
     "data": {
      "text/html": [
       "<img src=\"http://ecx.images-amazon.com/images/I/41W8PMvH9FL._SX300_.jpg\"/>"
      ],
      "text/plain": [
       "<IPython.core.display.Image object>"
      ]
     },
     "metadata": {},
     "output_type": "display_data"
    },
    {
     "name": "stdout",
     "output_type": "stream",
     "text": [
      "=== Misto Brushed Aluminum Olive Oil Sprayer ===\n"
     ]
    },
    {
     "data": {
      "text/html": [
       "<img src=\"http://ecx.images-amazon.com/images/I/41a1hpMCPZL._SY300_.jpg\"/>"
      ],
      "text/plain": [
       "<IPython.core.display.Image object>"
      ]
     },
     "metadata": {},
     "output_type": "display_data"
    },
    {
     "name": "stdout",
     "output_type": "stream",
     "text": [
      "=== Ronco ST5000PLGEN Showtime Rotisserie Platinum Edition ===\n"
     ]
    },
    {
     "data": {
      "text/html": [
       "<img src=\"http://ecx.images-amazon.com/images/I/41G1YPGVQ1L._SX300_.jpg\"/>"
      ],
      "text/plain": [
       "<IPython.core.display.Image object>"
      ]
     },
     "metadata": {},
     "output_type": "display_data"
    },
    {
     "name": "stdout",
     "output_type": "stream",
     "text": [
      "=== Epica Stainless Steel Compost Bin 1 Gallon ===\n"
     ]
    },
    {
     "data": {
      "text/html": [
       "<img src=\"http://ecx.images-amazon.com/images/I/41fAXyQPJZL._SY300_.jpg\"/>"
      ],
      "text/plain": [
       "<IPython.core.display.Image object>"
      ]
     },
     "metadata": {},
     "output_type": "display_data"
    },
    {
     "name": "stdout",
     "output_type": "stream",
     "text": [
      "=== Victorinox Cutlery 9-Inch Wavy Edge Bread Knife, Black Polypropylene Handle ===\n"
     ]
    },
    {
     "data": {
      "text/html": [
       "<img src=\"http://ecx.images-amazon.com/images/I/217hvRnpdRL._SX300_.jpg\"/>"
      ],
      "text/plain": [
       "<IPython.core.display.Image object>"
      ]
     },
     "metadata": {},
     "output_type": "display_data"
    },
    {
     "name": "stdout",
     "output_type": "stream",
     "text": [
      "=== Norpro Corn Butter Spreader ===\n"
     ]
    },
    {
     "data": {
      "text/html": [
       "<img src=\"http://ecx.images-amazon.com/images/I/31I1HuuGzJL._SY300_.jpg\"/>"
      ],
      "text/plain": [
       "<IPython.core.display.Image object>"
      ]
     },
     "metadata": {},
     "output_type": "display_data"
    },
    {
     "name": "stdout",
     "output_type": "stream",
     "text": [
      "=== EatSmart Precision Pro Digital Kitchen Scale, Silver ===\n"
     ]
    },
    {
     "data": {
      "text/html": [
       "<img src=\"http://ecx.images-amazon.com/images/I/41KDIkzVUNL._SY300_.jpg\"/>"
      ],
      "text/plain": [
       "<IPython.core.display.Image object>"
      ]
     },
     "metadata": {},
     "output_type": "display_data"
    },
    {
     "name": "stdout",
     "output_type": "stream",
     "text": [
      "=== Norpro Stainless-Steel Holder with Cotton Cooking Twine, 220 feet ===\n"
     ]
    },
    {
     "data": {
      "text/html": [
       "<img src=\"http://ecx.images-amazon.com/images/I/41nF7YWsz3L._SY300_.jpg\"/>"
      ],
      "text/plain": [
       "<IPython.core.display.Image object>"
      ]
     },
     "metadata": {},
     "output_type": "display_data"
    },
    {
     "name": "stdout",
     "output_type": "stream",
     "text": [
      "=== FoodSaver 11&quot; Roll, 2pk ===\n"
     ]
    },
    {
     "data": {
      "text/html": [
       "<img src=\"http://ecx.images-amazon.com/images/I/515W0i7v7fL._SY300_.jpg\"/>"
      ],
      "text/plain": [
       "<IPython.core.display.Image object>"
      ]
     },
     "metadata": {},
     "output_type": "display_data"
    },
    {
     "name": "stdout",
     "output_type": "stream",
     "text": [
      "=== Lodge L4LP3 Loaf Pan ===\n"
     ]
    },
    {
     "data": {
      "text/html": [
       "<img src=\"http://ecx.images-amazon.com/images/I/31MTDS%2Bz%2B1L._SX300_.jpg\"/>"
      ],
      "text/plain": [
       "<IPython.core.display.Image object>"
      ]
     },
     "metadata": {},
     "output_type": "display_data"
    },
    {
     "name": "stdout",
     "output_type": "stream",
     "text": [
      "=== Best Manufacturers Flour Duster ===\n"
     ]
    },
    {
     "data": {
      "text/html": [
       "<img src=\"http://ecx.images-amazon.com/images/I/31M0P8XEBDL._SY300_.jpg\"/>"
      ],
      "text/plain": [
       "<IPython.core.display.Image object>"
      ]
     },
     "metadata": {},
     "output_type": "display_data"
    },
    {
     "name": "stdout",
     "output_type": "stream",
     "text": [
      "=== Trudeau Porcelain Butter Boat ===\n"
     ]
    },
    {
     "data": {
      "text/html": [
       "<img src=\"http://ecx.images-amazon.com/images/I/21RmLCSf7CL._SX300_.jpg\"/>"
      ],
      "text/plain": [
       "<IPython.core.display.Image object>"
      ]
     },
     "metadata": {},
     "output_type": "display_data"
    }
   ],
   "source": [
    "print_product_images(history)"
   ]
  },
  {
   "cell_type": "code",
   "execution_count": 134,
   "metadata": {},
   "outputs": [
    {
     "data": {
      "text/html": [
       "<div>\n",
       "<style scoped>\n",
       "    .dataframe tbody tr th:only-of-type {\n",
       "        vertical-align: middle;\n",
       "    }\n",
       "\n",
       "    .dataframe tbody tr th {\n",
       "        vertical-align: top;\n",
       "    }\n",
       "\n",
       "    .dataframe thead th {\n",
       "        text-align: right;\n",
       "    }\n",
       "</style>\n",
       "<table border=\"1\" class=\"dataframe\">\n",
       "  <thead>\n",
       "    <tr style=\"text-align: right;\">\n",
       "      <th></th>\n",
       "      <th>Product Names</th>\n",
       "      <th>cat_2</th>\n",
       "      <th>cat_3</th>\n",
       "      <th>cat_4</th>\n",
       "      <th>ratings</th>\n",
       "    </tr>\n",
       "  </thead>\n",
       "  <tbody>\n",
       "    <tr>\n",
       "      <th>6</th>\n",
       "      <td>Lodge Pro-Logic P14P3 Cast Iron Pizza Pan, Bla...</td>\n",
       "      <td>Kitchen &amp; Dining</td>\n",
       "      <td>Bakeware</td>\n",
       "      <td>Pizza Pans &amp; Stones</td>\n",
       "      <td>5.0</td>\n",
       "    </tr>\n",
       "    <tr>\n",
       "      <th>2</th>\n",
       "      <td>Lodge Color EC3D43 Enameled Cast Iron Dutch Ov...</td>\n",
       "      <td>Kitchen &amp; Dining</td>\n",
       "      <td>Cookware</td>\n",
       "      <td>Dutch Ovens</td>\n",
       "      <td>5.0</td>\n",
       "    </tr>\n",
       "    <tr>\n",
       "      <th>7</th>\n",
       "      <td>Lodge Color EC4D33 Enameled Cast Iron Dutch Ov...</td>\n",
       "      <td>Kitchen &amp; Dining</td>\n",
       "      <td>Cookware</td>\n",
       "      <td>Dutch Ovens</td>\n",
       "      <td>5.0</td>\n",
       "    </tr>\n",
       "    <tr>\n",
       "      <th>4</th>\n",
       "      <td>Lodge L5MIC3 Miniature Lid</td>\n",
       "      <td>Kitchen &amp; Dining</td>\n",
       "      <td>Cookware</td>\n",
       "      <td>Lids</td>\n",
       "      <td>3.0</td>\n",
       "    </tr>\n",
       "    <tr>\n",
       "      <th>0</th>\n",
       "      <td>The Ringer Cast Iron Cleaner XL 8x6 Inch Stain...</td>\n",
       "      <td>Kitchen &amp; Dining</td>\n",
       "      <td>Cookware</td>\n",
       "      <td>Skillets</td>\n",
       "      <td>5.0</td>\n",
       "    </tr>\n",
       "    <tr>\n",
       "      <th>8</th>\n",
       "      <td>Lodge LMP3 Pre-Seasoned Cast-Iron Melting Pot,...</td>\n",
       "      <td>Kitchen &amp; Dining</td>\n",
       "      <td>Cookware</td>\n",
       "      <td>Specialty Cookware</td>\n",
       "      <td>4.0</td>\n",
       "    </tr>\n",
       "    <tr>\n",
       "      <th>3</th>\n",
       "      <td>Calphalon Easy Grip Apple Slicer</td>\n",
       "      <td>Kitchen &amp; Dining</td>\n",
       "      <td>Kitchen Utensils &amp; Gadgets</td>\n",
       "      <td>Graters</td>\n",
       "      <td>3.0</td>\n",
       "    </tr>\n",
       "    <tr>\n",
       "      <th>1</th>\n",
       "      <td>OXO Good Grips Solid Stainless Steel Ice Cream...</td>\n",
       "      <td>Kitchen &amp; Dining</td>\n",
       "      <td>Kitchen Utensils &amp; Gadgets</td>\n",
       "      <td>Specialty Tools &amp; Gadgets</td>\n",
       "      <td>5.0</td>\n",
       "    </tr>\n",
       "    <tr>\n",
       "      <th>9</th>\n",
       "      <td>Cuisinart HB-155PC Smart Stick Hand Blender wi...</td>\n",
       "      <td>Kitchen &amp; Dining</td>\n",
       "      <td>Small Appliances</td>\n",
       "      <td>Blenders</td>\n",
       "      <td>4.0</td>\n",
       "    </tr>\n",
       "    <tr>\n",
       "      <th>5</th>\n",
       "      <td>Zojirushi BB-PAC20 Home Bakery Virtuoso Breadm...</td>\n",
       "      <td>Kitchen &amp; Dining</td>\n",
       "      <td>Small Appliances</td>\n",
       "      <td>Bread Machines</td>\n",
       "      <td>5.0</td>\n",
       "    </tr>\n",
       "  </tbody>\n",
       "</table>\n",
       "</div>"
      ],
      "text/plain": [
       "                                       Product Names             cat_2  \\\n",
       "6  Lodge Pro-Logic P14P3 Cast Iron Pizza Pan, Bla...  Kitchen & Dining   \n",
       "2  Lodge Color EC3D43 Enameled Cast Iron Dutch Ov...  Kitchen & Dining   \n",
       "7  Lodge Color EC4D33 Enameled Cast Iron Dutch Ov...  Kitchen & Dining   \n",
       "4                         Lodge L5MIC3 Miniature Lid  Kitchen & Dining   \n",
       "0  The Ringer Cast Iron Cleaner XL 8x6 Inch Stain...  Kitchen & Dining   \n",
       "8  Lodge LMP3 Pre-Seasoned Cast-Iron Melting Pot,...  Kitchen & Dining   \n",
       "3                   Calphalon Easy Grip Apple Slicer  Kitchen & Dining   \n",
       "1  OXO Good Grips Solid Stainless Steel Ice Cream...  Kitchen & Dining   \n",
       "9  Cuisinart HB-155PC Smart Stick Hand Blender wi...  Kitchen & Dining   \n",
       "5  Zojirushi BB-PAC20 Home Bakery Virtuoso Breadm...  Kitchen & Dining   \n",
       "\n",
       "                        cat_3                      cat_4  ratings  \n",
       "6                    Bakeware        Pizza Pans & Stones      5.0  \n",
       "2                    Cookware                Dutch Ovens      5.0  \n",
       "7                    Cookware                Dutch Ovens      5.0  \n",
       "4                    Cookware                       Lids      3.0  \n",
       "0                    Cookware                   Skillets      5.0  \n",
       "8                    Cookware         Specialty Cookware      4.0  \n",
       "3  Kitchen Utensils & Gadgets                    Graters      3.0  \n",
       "1  Kitchen Utensils & Gadgets  Specialty Tools & Gadgets      5.0  \n",
       "9            Small Appliances                   Blenders      4.0  \n",
       "5            Small Appliances             Bread Machines      5.0  "
      ]
     },
     "execution_count": 134,
     "metadata": {},
     "output_type": "execute_result"
    }
   ],
   "source": [
    "items_with_categories(actual, user_tmp, uucf_k3_pearsonbaseline_predicted_ratings_matrix, list_type='actual')"
   ]
  },
  {
   "cell_type": "code",
   "execution_count": 135,
   "metadata": {},
   "outputs": [
    {
     "name": "stdout",
     "output_type": "stream",
     "text": [
      "=== The Ringer Cast Iron Cleaner XL 8x6 Inch Stainless Steel Chainmail ===\n"
     ]
    },
    {
     "data": {
      "text/html": [
       "<img src=\"http://ecx.images-amazon.com/images/I/51ImhxSzGLL._SY300_.jpg\"/>"
      ],
      "text/plain": [
       "<IPython.core.display.Image object>"
      ]
     },
     "metadata": {},
     "output_type": "display_data"
    },
    {
     "name": "stdout",
     "output_type": "stream",
     "text": [
      "=== OXO Good Grips Solid Stainless Steel Ice Cream Scoop ===\n"
     ]
    },
    {
     "data": {
      "text/html": [
       "<img src=\"http://ecx.images-amazon.com/images/I/31MPh76zkuL._SY300_.jpg\"/>"
      ],
      "text/plain": [
       "<IPython.core.display.Image object>"
      ]
     },
     "metadata": {},
     "output_type": "display_data"
    },
    {
     "name": "stdout",
     "output_type": "stream",
     "text": [
      "=== Lodge Color EC3D43 Enameled Cast Iron Dutch Oven, Island Spice Red, 3-Quart ===\n"
     ]
    },
    {
     "data": {
      "text/html": [
       "<img src=\"http://ecx.images-amazon.com/images/I/41%2BUx3-%2BU4L._SX300_.jpg\"/>"
      ],
      "text/plain": [
       "<IPython.core.display.Image object>"
      ]
     },
     "metadata": {},
     "output_type": "display_data"
    },
    {
     "name": "stdout",
     "output_type": "stream",
     "text": [
      "=== Calphalon Easy Grip Apple Slicer ===\n"
     ]
    },
    {
     "data": {
      "text/html": [
       "<img src=\"http://ecx.images-amazon.com/images/I/41kYvGdkxmL._SY300_.jpg\"/>"
      ],
      "text/plain": [
       "<IPython.core.display.Image object>"
      ]
     },
     "metadata": {},
     "output_type": "display_data"
    },
    {
     "name": "stdout",
     "output_type": "stream",
     "text": [
      "=== Lodge L5MIC3 Miniature Lid ===\n"
     ]
    },
    {
     "data": {
      "text/html": [
       "<img src=\"http://ecx.images-amazon.com/images/I/3173v7W0sWL._SX300_.jpg\"/>"
      ],
      "text/plain": [
       "<IPython.core.display.Image object>"
      ]
     },
     "metadata": {},
     "output_type": "display_data"
    },
    {
     "name": "stdout",
     "output_type": "stream",
     "text": [
      "=== Zojirushi BB-PAC20 Home Bakery Virtuoso Breadmaker 120 Volts ===\n"
     ]
    },
    {
     "data": {
      "text/html": [
       "<img src=\"http://ecx.images-amazon.com/images/I/41%2B%2BDCceQ9L._SX300_.jpg\"/>"
      ],
      "text/plain": [
       "<IPython.core.display.Image object>"
      ]
     },
     "metadata": {},
     "output_type": "display_data"
    },
    {
     "name": "stdout",
     "output_type": "stream",
     "text": [
      "=== Lodge Pro-Logic P14P3 Cast Iron Pizza Pan, Black, 14-inch ===\n"
     ]
    },
    {
     "data": {
      "text/html": [
       "<img src=\"http://ecx.images-amazon.com/images/I/31nXLYjHn-L._SX300_.jpg\"/>"
      ],
      "text/plain": [
       "<IPython.core.display.Image object>"
      ]
     },
     "metadata": {},
     "output_type": "display_data"
    },
    {
     "name": "stdout",
     "output_type": "stream",
     "text": [
      "=== Lodge Color EC4D33 Enameled Cast Iron Dutch Oven, Caribbean Blue, 4.5-Quart ===\n"
     ]
    },
    {
     "data": {
      "text/html": [
       "<img src=\"http://ecx.images-amazon.com/images/I/315F93SpTiL._SX300_.jpg\"/>"
      ],
      "text/plain": [
       "<IPython.core.display.Image object>"
      ]
     },
     "metadata": {},
     "output_type": "display_data"
    },
    {
     "name": "stdout",
     "output_type": "stream",
     "text": [
      "=== Lodge LMP3 Pre-Seasoned Cast-Iron Melting Pot, 14-Ounce ===\n"
     ]
    },
    {
     "data": {
      "text/html": [
       "<img src=\"http://ecx.images-amazon.com/images/I/31GYV3N2STL._SX300_.jpg\"/>"
      ],
      "text/plain": [
       "<IPython.core.display.Image object>"
      ]
     },
     "metadata": {},
     "output_type": "display_data"
    },
    {
     "name": "stdout",
     "output_type": "stream",
     "text": [
      "=== Cuisinart HB-155PC Smart Stick Hand Blender with Blending and Whisk Attachments ===\n"
     ]
    },
    {
     "data": {
      "text/html": [
       "<img src=\"http://ecx.images-amazon.com/images/I/51FKShNCNML._SY300_.jpg\"/>"
      ],
      "text/plain": [
       "<IPython.core.display.Image object>"
      ]
     },
     "metadata": {},
     "output_type": "display_data"
    }
   ],
   "source": [
    "print_product_images(actual)"
   ]
  },
  {
   "cell_type": "code",
   "execution_count": 136,
   "metadata": {},
   "outputs": [
    {
     "data": {
      "text/html": [
       "<div>\n",
       "<style scoped>\n",
       "    .dataframe tbody tr th:only-of-type {\n",
       "        vertical-align: middle;\n",
       "    }\n",
       "\n",
       "    .dataframe tbody tr th {\n",
       "        vertical-align: top;\n",
       "    }\n",
       "\n",
       "    .dataframe thead th {\n",
       "        text-align: right;\n",
       "    }\n",
       "</style>\n",
       "<table border=\"1\" class=\"dataframe\">\n",
       "  <thead>\n",
       "    <tr style=\"text-align: right;\">\n",
       "      <th></th>\n",
       "      <th>Product Names</th>\n",
       "      <th>cat_2</th>\n",
       "      <th>cat_3</th>\n",
       "      <th>cat_4</th>\n",
       "      <th>ratings</th>\n",
       "    </tr>\n",
       "  </thead>\n",
       "  <tbody>\n",
       "    <tr>\n",
       "      <th>5</th>\n",
       "      <td>Wilton 6-Cavity Silicone Heart Mold Pan</td>\n",
       "      <td>Kitchen &amp; Dining</td>\n",
       "      <td>Bakeware</td>\n",
       "      <td>Candy Making Supplies</td>\n",
       "      <td>4.987705</td>\n",
       "    </tr>\n",
       "    <tr>\n",
       "      <th>7</th>\n",
       "      <td>Freshware 30-Cavity Silicone Chocolate, Candy ...</td>\n",
       "      <td>Kitchen &amp; Dining</td>\n",
       "      <td>Bakeware</td>\n",
       "      <td>Candy Making Supplies</td>\n",
       "      <td>4.987705</td>\n",
       "    </tr>\n",
       "    <tr>\n",
       "      <th>4</th>\n",
       "      <td>MIU France Set of 2 Silicone Pot Holders, Red</td>\n",
       "      <td>Kitchen &amp; Dining</td>\n",
       "      <td>Kitchen &amp; Table Linens</td>\n",
       "      <td>Potholders &amp; Oven Mitts</td>\n",
       "      <td>4.987705</td>\n",
       "    </tr>\n",
       "    <tr>\n",
       "      <th>2</th>\n",
       "      <td>Shun DM0718 Classic 7-Inch Santoku Hollow Grou...</td>\n",
       "      <td>Kitchen &amp; Dining</td>\n",
       "      <td>Kitchen Knives &amp; Cutlery Accessories</td>\n",
       "      <td>Chefs Knives</td>\n",
       "      <td>4.987705</td>\n",
       "    </tr>\n",
       "    <tr>\n",
       "      <th>6</th>\n",
       "      <td>Shun DM0750 Honing Steel</td>\n",
       "      <td>Kitchen &amp; Dining</td>\n",
       "      <td>Kitchen Knives &amp; Cutlery Accessories</td>\n",
       "      <td>Knife Sharpeners</td>\n",
       "      <td>4.987705</td>\n",
       "    </tr>\n",
       "    <tr>\n",
       "      <th>1</th>\n",
       "      <td>Shun DM0700 Classic 3-1/2-Inch Paring Knife</td>\n",
       "      <td>Kitchen &amp; Dining</td>\n",
       "      <td>Kitchen Knives &amp; Cutlery Accessories</td>\n",
       "      <td>Paring Knives</td>\n",
       "      <td>4.987705</td>\n",
       "    </tr>\n",
       "    <tr>\n",
       "      <th>9</th>\n",
       "      <td>Shun DM0741 Classic U2 (Ultimate Utility) Knife</td>\n",
       "      <td>Kitchen &amp; Dining</td>\n",
       "      <td>Kitchen Knives &amp; Cutlery Accessories</td>\n",
       "      <td>Utility Knives</td>\n",
       "      <td>4.987705</td>\n",
       "    </tr>\n",
       "    <tr>\n",
       "      <th>3</th>\n",
       "      <td>OXO Good Grips Splatter Screen with Folding Ha...</td>\n",
       "      <td>Kitchen &amp; Dining</td>\n",
       "      <td>Kitchen Utensils &amp; Gadgets</td>\n",
       "      <td>Cooking Utensils</td>\n",
       "      <td>4.987705</td>\n",
       "    </tr>\n",
       "    <tr>\n",
       "      <th>0</th>\n",
       "      <td>Breville BTM800XL One-Touch Tea Maker</td>\n",
       "      <td>Kitchen &amp; Dining</td>\n",
       "      <td>Small Appliances</td>\n",
       "      <td>Coffee</td>\n",
       "      <td>4.987705</td>\n",
       "    </tr>\n",
       "    <tr>\n",
       "      <th>8</th>\n",
       "      <td>Soy Sauce Container -15 pcs in a Bag.</td>\n",
       "      <td>Kitchen &amp; Dining</td>\n",
       "      <td>Storage &amp; Organization</td>\n",
       "      <td>Kitchen Storage &amp; Organization Accessories</td>\n",
       "      <td>4.987705</td>\n",
       "    </tr>\n",
       "  </tbody>\n",
       "</table>\n",
       "</div>"
      ],
      "text/plain": [
       "                                       Product Names             cat_2  \\\n",
       "5            Wilton 6-Cavity Silicone Heart Mold Pan  Kitchen & Dining   \n",
       "7  Freshware 30-Cavity Silicone Chocolate, Candy ...  Kitchen & Dining   \n",
       "4      MIU France Set of 2 Silicone Pot Holders, Red  Kitchen & Dining   \n",
       "2  Shun DM0718 Classic 7-Inch Santoku Hollow Grou...  Kitchen & Dining   \n",
       "6                           Shun DM0750 Honing Steel  Kitchen & Dining   \n",
       "1        Shun DM0700 Classic 3-1/2-Inch Paring Knife  Kitchen & Dining   \n",
       "9    Shun DM0741 Classic U2 (Ultimate Utility) Knife  Kitchen & Dining   \n",
       "3  OXO Good Grips Splatter Screen with Folding Ha...  Kitchen & Dining   \n",
       "0              Breville BTM800XL One-Touch Tea Maker  Kitchen & Dining   \n",
       "8              Soy Sauce Container -15 pcs in a Bag.  Kitchen & Dining   \n",
       "\n",
       "                                  cat_3  \\\n",
       "5                              Bakeware   \n",
       "7                              Bakeware   \n",
       "4                Kitchen & Table Linens   \n",
       "2  Kitchen Knives & Cutlery Accessories   \n",
       "6  Kitchen Knives & Cutlery Accessories   \n",
       "1  Kitchen Knives & Cutlery Accessories   \n",
       "9  Kitchen Knives & Cutlery Accessories   \n",
       "3            Kitchen Utensils & Gadgets   \n",
       "0                      Small Appliances   \n",
       "8                Storage & Organization   \n",
       "\n",
       "                                        cat_4   ratings  \n",
       "5                       Candy Making Supplies  4.987705  \n",
       "7                       Candy Making Supplies  4.987705  \n",
       "4                     Potholders & Oven Mitts  4.987705  \n",
       "2                                Chefs Knives  4.987705  \n",
       "6                            Knife Sharpeners  4.987705  \n",
       "1                               Paring Knives  4.987705  \n",
       "9                              Utility Knives  4.987705  \n",
       "3                            Cooking Utensils  4.987705  \n",
       "0                                      Coffee  4.987705  \n",
       "8  Kitchen Storage & Organization Accessories  4.987705  "
      ]
     },
     "execution_count": 136,
     "metadata": {},
     "output_type": "execute_result"
    }
   ],
   "source": [
    "items_with_categories(rec_uucfk3, user_tmp, uucf_k3_pearsonbaseline_predicted_ratings_matrix, list_type='recommended')"
   ]
  },
  {
   "cell_type": "code",
   "execution_count": 137,
   "metadata": {},
   "outputs": [
    {
     "name": "stdout",
     "output_type": "stream",
     "text": [
      "=== Breville BTM800XL One-Touch Tea Maker ===\n"
     ]
    },
    {
     "data": {
      "text/html": [
       "<img src=\"http://ecx.images-amazon.com/images/I/41mmVMDrUoL._SY300_.jpg\"/>"
      ],
      "text/plain": [
       "<IPython.core.display.Image object>"
      ]
     },
     "metadata": {},
     "output_type": "display_data"
    },
    {
     "name": "stdout",
     "output_type": "stream",
     "text": [
      "=== Shun DM0700 Classic 3-1/2-Inch Paring Knife ===\n"
     ]
    },
    {
     "data": {
      "text/html": [
       "<img src=\"http://ecx.images-amazon.com/images/I/21G820RWR4L._SX300_.jpg\"/>"
      ],
      "text/plain": [
       "<IPython.core.display.Image object>"
      ]
     },
     "metadata": {},
     "output_type": "display_data"
    },
    {
     "name": "stdout",
     "output_type": "stream",
     "text": [
      "=== Shun DM0718 Classic 7-Inch Santoku Hollow Ground Knife ===\n"
     ]
    },
    {
     "data": {
      "text/html": [
       "<img src=\"http://ecx.images-amazon.com/images/I/21CH5SB4KQL._SX300_.jpg\"/>"
      ],
      "text/plain": [
       "<IPython.core.display.Image object>"
      ]
     },
     "metadata": {},
     "output_type": "display_data"
    },
    {
     "name": "stdout",
     "output_type": "stream",
     "text": [
      "=== OXO Good Grips Splatter Screen with Folding Handle ===\n"
     ]
    },
    {
     "data": {
      "text/html": [
       "<img src=\"http://ecx.images-amazon.com/images/I/51IVZ7pogLL._SY300_.jpg\"/>"
      ],
      "text/plain": [
       "<IPython.core.display.Image object>"
      ]
     },
     "metadata": {},
     "output_type": "display_data"
    },
    {
     "name": "stdout",
     "output_type": "stream",
     "text": [
      "=== MIU France Set of 2 Silicone Pot Holders, Red ===\n"
     ]
    },
    {
     "data": {
      "text/html": [
       "<img src=\"http://ecx.images-amazon.com/images/I/317A20NGCBL._SY300_.jpg\"/>"
      ],
      "text/plain": [
       "<IPython.core.display.Image object>"
      ]
     },
     "metadata": {},
     "output_type": "display_data"
    },
    {
     "name": "stdout",
     "output_type": "stream",
     "text": [
      "=== Wilton 6-Cavity Silicone Heart Mold Pan ===\n"
     ]
    },
    {
     "data": {
      "text/html": [
       "<img src=\"http://ecx.images-amazon.com/images/I/4196ssa998L._SX300_.jpg\"/>"
      ],
      "text/plain": [
       "<IPython.core.display.Image object>"
      ]
     },
     "metadata": {},
     "output_type": "display_data"
    },
    {
     "name": "stdout",
     "output_type": "stream",
     "text": [
      "=== Shun DM0750 Honing Steel ===\n"
     ]
    },
    {
     "data": {
      "text/html": [
       "<img src=\"http://ecx.images-amazon.com/images/I/11UfGzCNSCL._SX300_.jpg\"/>"
      ],
      "text/plain": [
       "<IPython.core.display.Image object>"
      ]
     },
     "metadata": {},
     "output_type": "display_data"
    },
    {
     "name": "stdout",
     "output_type": "stream",
     "text": [
      "=== Freshware 30-Cavity Silicone Chocolate, Candy and Peanut Butter-Cup Mold ===\n"
     ]
    },
    {
     "data": {
      "text/html": [
       "<img src=\"http://ecx.images-amazon.com/images/I/41YJrCIVJkL._SY300_.jpg\"/>"
      ],
      "text/plain": [
       "<IPython.core.display.Image object>"
      ]
     },
     "metadata": {},
     "output_type": "display_data"
    },
    {
     "name": "stdout",
     "output_type": "stream",
     "text": [
      "=== Soy Sauce Container -15 pcs in a Bag. ===\n"
     ]
    },
    {
     "data": {
      "text/html": [
       "<img src=\"http://ecx.images-amazon.com/images/I/51Os812lugL._SX300_.jpg\"/>"
      ],
      "text/plain": [
       "<IPython.core.display.Image object>"
      ]
     },
     "metadata": {},
     "output_type": "display_data"
    },
    {
     "name": "stdout",
     "output_type": "stream",
     "text": [
      "=== Shun DM0741 Classic U2 (Ultimate Utility) Knife ===\n"
     ]
    },
    {
     "data": {
      "text/html": [
       "<img src=\"http://ecx.images-amazon.com/images/I/21yF5d5axcL._SX300_.jpg\"/>"
      ],
      "text/plain": [
       "<IPython.core.display.Image object>"
      ]
     },
     "metadata": {},
     "output_type": "display_data"
    }
   ],
   "source": [
    "print_product_images(rec_uucfk3)"
   ]
  },
  {
   "cell_type": "markdown",
   "metadata": {},
   "source": [
    "#### User: 'A1S3C5OFU508P3'"
   ]
  },
  {
   "cell_type": "code",
   "execution_count": 138,
   "metadata": {},
   "outputs": [],
   "source": [
    "rec_uucfk3, history, actual = generate_recommendations('A1S3C5OFU508P3', uucf_k3_pearsonbaseline_predicted_ratings_matrix, 10, False, False)"
   ]
  },
  {
   "cell_type": "code",
   "execution_count": 139,
   "metadata": {},
   "outputs": [
    {
     "data": {
      "text/html": [
       "<div>\n",
       "<style scoped>\n",
       "    .dataframe tbody tr th:only-of-type {\n",
       "        vertical-align: middle;\n",
       "    }\n",
       "\n",
       "    .dataframe tbody tr th {\n",
       "        vertical-align: top;\n",
       "    }\n",
       "\n",
       "    .dataframe thead th {\n",
       "        text-align: right;\n",
       "    }\n",
       "</style>\n",
       "<table border=\"1\" class=\"dataframe\">\n",
       "  <thead>\n",
       "    <tr style=\"text-align: right;\">\n",
       "      <th></th>\n",
       "      <th>Product Names</th>\n",
       "      <th>cat_2</th>\n",
       "      <th>cat_3</th>\n",
       "      <th>cat_4</th>\n",
       "      <th>ratings</th>\n",
       "    </tr>\n",
       "  </thead>\n",
       "  <tbody>\n",
       "    <tr>\n",
       "      <th>2</th>\n",
       "      <td>Cuissential SlickBoil: Collapsible Silicone Te...</td>\n",
       "      <td>Kitchen &amp; Dining</td>\n",
       "      <td>Cookware</td>\n",
       "      <td>Teakettles</td>\n",
       "      <td>5.0</td>\n",
       "    </tr>\n",
       "    <tr>\n",
       "      <th>0</th>\n",
       "      <td>Tea Beyond Heat resistant Glass Teapot Juliet,...</td>\n",
       "      <td>Kitchen &amp; Dining</td>\n",
       "      <td>Dining &amp; Entertaining</td>\n",
       "      <td>Serveware</td>\n",
       "      <td>5.0</td>\n",
       "    </tr>\n",
       "    <tr>\n",
       "      <th>1</th>\n",
       "      <td>Ice Ball Mold - Steal These MASSIVE Ice Ball M...</td>\n",
       "      <td>Kitchen &amp; Dining</td>\n",
       "      <td>Home Brewing &amp; Wine Making</td>\n",
       "      <td>Wine Making</td>\n",
       "      <td>5.0</td>\n",
       "    </tr>\n",
       "  </tbody>\n",
       "</table>\n",
       "</div>"
      ],
      "text/plain": [
       "                                       Product Names             cat_2  \\\n",
       "2  Cuissential SlickBoil: Collapsible Silicone Te...  Kitchen & Dining   \n",
       "0  Tea Beyond Heat resistant Glass Teapot Juliet,...  Kitchen & Dining   \n",
       "1  Ice Ball Mold - Steal These MASSIVE Ice Ball M...  Kitchen & Dining   \n",
       "\n",
       "                        cat_3        cat_4  ratings  \n",
       "2                    Cookware   Teakettles      5.0  \n",
       "0       Dining & Entertaining    Serveware      5.0  \n",
       "1  Home Brewing & Wine Making  Wine Making      5.0  "
      ]
     },
     "execution_count": 139,
     "metadata": {},
     "output_type": "execute_result"
    }
   ],
   "source": [
    "items_with_categories(history, 'A1S3C5OFU508P3', uucf_k3_pearsonbaseline_predicted_ratings_matrix, list_type='actual')"
   ]
  },
  {
   "cell_type": "code",
   "execution_count": 140,
   "metadata": {},
   "outputs": [
    {
     "name": "stdout",
     "output_type": "stream",
     "text": [
      "=== Tea Beyond Heat resistant Glass Teapot Juliet, 20-Ounce ===\n"
     ]
    },
    {
     "data": {
      "text/html": [
       "<img src=\"http://ecx.images-amazon.com/images/I/41%2BZADaKo7L._SX300_.jpg\"/>"
      ],
      "text/plain": [
       "<IPython.core.display.Image object>"
      ]
     },
     "metadata": {},
     "output_type": "display_data"
    },
    {
     "name": "stdout",
     "output_type": "stream",
     "text": [
      "=== Ice Ball Mold - Steal These MASSIVE Ice Ball Makers * 70% OFF TODAY ONLY! * Try DeluxIce &copy; The Biggest, FREE from All Chemicals, #1 Rated Ice Ball Maker. Made with Extra-Thick Silicone, It Does Not Leak. Make HUGE 2.5 Inch Ice Cube Sphere Balls at Your Next Party. Perfect in Whiskey, Scotch, Wine, or Any Beverage, These Molds Make Round Spheres That Melt Slower than Tray Cubes. Our Customers LOVE This Item, And We Back It With A LIFETIME REPLACEMENT GUARANTEE.... Or Your Money Back! ===\n"
     ]
    },
    {
     "data": {
      "text/html": [
       "<img src=\"http://ecx.images-amazon.com/images/I/51pfoxcNJaL._SY300_.jpg\"/>"
      ],
      "text/plain": [
       "<IPython.core.display.Image object>"
      ]
     },
     "metadata": {},
     "output_type": "display_data"
    },
    {
     "name": "stdout",
     "output_type": "stream",
     "text": [
      "=== Cuissential SlickBoil: Collapsible Silicone Tea Kettle (Red) ===\n"
     ]
    },
    {
     "data": {
      "text/html": [
       "<img src=\"http://ecx.images-amazon.com/images/I/51JdcuWl9kL._SX300_.jpg\"/>"
      ],
      "text/plain": [
       "<IPython.core.display.Image object>"
      ]
     },
     "metadata": {},
     "output_type": "display_data"
    }
   ],
   "source": [
    "print_product_images(history)"
   ]
  },
  {
   "cell_type": "code",
   "execution_count": 141,
   "metadata": {},
   "outputs": [
    {
     "data": {
      "text/html": [
       "<div>\n",
       "<style scoped>\n",
       "    .dataframe tbody tr th:only-of-type {\n",
       "        vertical-align: middle;\n",
       "    }\n",
       "\n",
       "    .dataframe tbody tr th {\n",
       "        vertical-align: top;\n",
       "    }\n",
       "\n",
       "    .dataframe thead th {\n",
       "        text-align: right;\n",
       "    }\n",
       "</style>\n",
       "<table border=\"1\" class=\"dataframe\">\n",
       "  <thead>\n",
       "    <tr style=\"text-align: right;\">\n",
       "      <th></th>\n",
       "      <th>Product Names</th>\n",
       "      <th>cat_2</th>\n",
       "      <th>cat_3</th>\n",
       "      <th>cat_4</th>\n",
       "      <th>ratings</th>\n",
       "    </tr>\n",
       "  </thead>\n",
       "  <tbody>\n",
       "    <tr>\n",
       "      <th>0</th>\n",
       "      <td>Tea Beyond Teapot Fairy with Tea Warmer Cozy</td>\n",
       "      <td>Kitchen &amp; Dining</td>\n",
       "      <td>Dining &amp; Entertaining</td>\n",
       "      <td>Serveware</td>\n",
       "      <td>5.0</td>\n",
       "    </tr>\n",
       "    <tr>\n",
       "      <th>1</th>\n",
       "      <td>Smart Weigh GEM20 High Precision Digital Milli...</td>\n",
       "      <td>Kitchen &amp; Dining</td>\n",
       "      <td>Kitchen Utensils &amp; Gadgets</td>\n",
       "      <td>Measuring Tools &amp; Scales</td>\n",
       "      <td>5.0</td>\n",
       "    </tr>\n",
       "  </tbody>\n",
       "</table>\n",
       "</div>"
      ],
      "text/plain": [
       "                                       Product Names             cat_2  \\\n",
       "0       Tea Beyond Teapot Fairy with Tea Warmer Cozy  Kitchen & Dining   \n",
       "1  Smart Weigh GEM20 High Precision Digital Milli...  Kitchen & Dining   \n",
       "\n",
       "                        cat_3                     cat_4  ratings  \n",
       "0       Dining & Entertaining                 Serveware      5.0  \n",
       "1  Kitchen Utensils & Gadgets  Measuring Tools & Scales      5.0  "
      ]
     },
     "execution_count": 141,
     "metadata": {},
     "output_type": "execute_result"
    }
   ],
   "source": [
    "items_with_categories(actual, 'A1S3C5OFU508P3', uucf_k3_pearsonbaseline_predicted_ratings_matrix, list_type='actual')"
   ]
  },
  {
   "cell_type": "code",
   "execution_count": 142,
   "metadata": {},
   "outputs": [
    {
     "name": "stdout",
     "output_type": "stream",
     "text": [
      "=== Tea Beyond Teapot Fairy with Tea Warmer Cozy ===\n"
     ]
    },
    {
     "data": {
      "text/html": [
       "<img src=\"http://ecx.images-amazon.com/images/I/4184KdYFr1L._SY300_.jpg\"/>"
      ],
      "text/plain": [
       "<IPython.core.display.Image object>"
      ]
     },
     "metadata": {},
     "output_type": "display_data"
    },
    {
     "name": "stdout",
     "output_type": "stream",
     "text": [
      "=== Smart Weigh GEM20 High Precision Digital Milligram Scale 20 x 0.001g Ideal for Weighing Gems, Jewelry and other Precious Objects (Silver) ===\n"
     ]
    },
    {
     "data": {
      "text/html": [
       "<img src=\"http://ecx.images-amazon.com/images/I/41LrEOFPZWL._SY300_.jpg\"/>"
      ],
      "text/plain": [
       "<IPython.core.display.Image object>"
      ]
     },
     "metadata": {},
     "output_type": "display_data"
    }
   ],
   "source": [
    "print_product_images(actual)"
   ]
  },
  {
   "cell_type": "code",
   "execution_count": 143,
   "metadata": {},
   "outputs": [
    {
     "data": {
      "text/html": [
       "<div>\n",
       "<style scoped>\n",
       "    .dataframe tbody tr th:only-of-type {\n",
       "        vertical-align: middle;\n",
       "    }\n",
       "\n",
       "    .dataframe tbody tr th {\n",
       "        vertical-align: top;\n",
       "    }\n",
       "\n",
       "    .dataframe thead th {\n",
       "        text-align: right;\n",
       "    }\n",
       "</style>\n",
       "<table border=\"1\" class=\"dataframe\">\n",
       "  <thead>\n",
       "    <tr style=\"text-align: right;\">\n",
       "      <th></th>\n",
       "      <th>Product Names</th>\n",
       "      <th>cat_2</th>\n",
       "      <th>cat_3</th>\n",
       "      <th>cat_4</th>\n",
       "      <th>ratings</th>\n",
       "    </tr>\n",
       "  </thead>\n",
       "  <tbody>\n",
       "    <tr>\n",
       "      <th>0</th>\n",
       "      <td>Martex Bath Towels, White, 6-Pack</td>\n",
       "      <td>Bath</td>\n",
       "      <td>Towels</td>\n",
       "      <td>Bath Towels</td>\n",
       "      <td>5.0</td>\n",
       "    </tr>\n",
       "    <tr>\n",
       "      <th>9</th>\n",
       "      <td>Holmes Heater Fan with 1Touch Control and ALCI...</td>\n",
       "      <td>Heating</td>\n",
       "      <td>Cooling &amp; Air Quality</td>\n",
       "      <td>Space Heaters &amp; Accessories</td>\n",
       "      <td>5.0</td>\n",
       "    </tr>\n",
       "    <tr>\n",
       "      <th>5</th>\n",
       "      <td>Norpro Coffee Grinder</td>\n",
       "      <td>Kitchen &amp; Dining</td>\n",
       "      <td>Coffee</td>\n",
       "      <td>Tea &amp; Espresso</td>\n",
       "      <td>5.0</td>\n",
       "    </tr>\n",
       "    <tr>\n",
       "      <th>4</th>\n",
       "      <td>Sun's Tea (TM) 20oz Strong Double Wall Thermo ...</td>\n",
       "      <td>Kitchen &amp; Dining</td>\n",
       "      <td>Dining &amp; Entertaining</td>\n",
       "      <td>Glassware &amp; Drinkware</td>\n",
       "      <td>5.0</td>\n",
       "    </tr>\n",
       "    <tr>\n",
       "      <th>2</th>\n",
       "      <td>Rada Cutlery R129 Chef's Dicer with Aluminum H...</td>\n",
       "      <td>Kitchen &amp; Dining</td>\n",
       "      <td>Kitchen Knives &amp; Cutlery Accessories</td>\n",
       "      <td>Chefs Knives</td>\n",
       "      <td>5.0</td>\n",
       "    </tr>\n",
       "    <tr>\n",
       "      <th>3</th>\n",
       "      <td>Miracle Blade III Perfection Series 11-Piece C...</td>\n",
       "      <td>Kitchen &amp; Dining</td>\n",
       "      <td>Kitchen Knives &amp; Cutlery Accessories</td>\n",
       "      <td>Cutlery Sets</td>\n",
       "      <td>5.0</td>\n",
       "    </tr>\n",
       "    <tr>\n",
       "      <th>7</th>\n",
       "      <td>Oster BRLY07-B 7-Speed Fusion Blender, Black</td>\n",
       "      <td>Kitchen &amp; Dining</td>\n",
       "      <td>Small Appliances</td>\n",
       "      <td>Blenders</td>\n",
       "      <td>5.0</td>\n",
       "    </tr>\n",
       "    <tr>\n",
       "      <th>6</th>\n",
       "      <td>Hamilton Beach 70450 8-Cup Food Processor</td>\n",
       "      <td>Kitchen &amp; Dining</td>\n",
       "      <td>Small Appliances</td>\n",
       "      <td>Food Processors</td>\n",
       "      <td>5.0</td>\n",
       "    </tr>\n",
       "    <tr>\n",
       "      <th>1</th>\n",
       "      <td>Replacement Filters for Aeropress (350 pk)</td>\n",
       "      <td>Kitchen &amp; Dining</td>\n",
       "      <td>NaN</td>\n",
       "      <td>NaN</td>\n",
       "      <td>5.0</td>\n",
       "    </tr>\n",
       "    <tr>\n",
       "      <th>8</th>\n",
       "      <td>Command Medium Picture-Hanging Strips, 6-Picture</td>\n",
       "      <td>Storage &amp; Organization</td>\n",
       "      <td>Home Storage Hooks</td>\n",
       "      <td>Utility Hooks</td>\n",
       "      <td>5.0</td>\n",
       "    </tr>\n",
       "  </tbody>\n",
       "</table>\n",
       "</div>"
      ],
      "text/plain": [
       "                                       Product Names                   cat_2  \\\n",
       "0                  Martex Bath Towels, White, 6-Pack                    Bath   \n",
       "9  Holmes Heater Fan with 1Touch Control and ALCI...                 Heating   \n",
       "5                              Norpro Coffee Grinder        Kitchen & Dining   \n",
       "4  Sun's Tea (TM) 20oz Strong Double Wall Thermo ...        Kitchen & Dining   \n",
       "2  Rada Cutlery R129 Chef's Dicer with Aluminum H...        Kitchen & Dining   \n",
       "3  Miracle Blade III Perfection Series 11-Piece C...        Kitchen & Dining   \n",
       "7       Oster BRLY07-B 7-Speed Fusion Blender, Black        Kitchen & Dining   \n",
       "6          Hamilton Beach 70450 8-Cup Food Processor        Kitchen & Dining   \n",
       "1         Replacement Filters for Aeropress (350 pk)        Kitchen & Dining   \n",
       "8   Command Medium Picture-Hanging Strips, 6-Picture  Storage & Organization   \n",
       "\n",
       "                                  cat_3                        cat_4  ratings  \n",
       "0                                Towels                  Bath Towels      5.0  \n",
       "9                 Cooling & Air Quality  Space Heaters & Accessories      5.0  \n",
       "5                                Coffee               Tea & Espresso      5.0  \n",
       "4                 Dining & Entertaining        Glassware & Drinkware      5.0  \n",
       "2  Kitchen Knives & Cutlery Accessories                 Chefs Knives      5.0  \n",
       "3  Kitchen Knives & Cutlery Accessories                 Cutlery Sets      5.0  \n",
       "7                      Small Appliances                     Blenders      5.0  \n",
       "6                      Small Appliances              Food Processors      5.0  \n",
       "1                                   NaN                          NaN      5.0  \n",
       "8                    Home Storage Hooks                Utility Hooks      5.0  "
      ]
     },
     "execution_count": 143,
     "metadata": {},
     "output_type": "execute_result"
    }
   ],
   "source": [
    "items_with_categories(rec_uucfk3, 'A1S3C5OFU508P3', uucf_k3_pearsonbaseline_predicted_ratings_matrix, list_type='recommended')"
   ]
  },
  {
   "cell_type": "code",
   "execution_count": 144,
   "metadata": {},
   "outputs": [
    {
     "name": "stdout",
     "output_type": "stream",
     "text": [
      "=== Martex Bath Towels, White, 6-Pack ===\n"
     ]
    },
    {
     "data": {
      "text/html": [
       "<img src=\"http://ecx.images-amazon.com/images/I/4122%2B8SroiL._SY300_.jpg\"/>"
      ],
      "text/plain": [
       "<IPython.core.display.Image object>"
      ]
     },
     "metadata": {},
     "output_type": "display_data"
    },
    {
     "name": "stdout",
     "output_type": "stream",
     "text": [
      "=== Replacement Filters for Aeropress (350 pk) ===\n"
     ]
    },
    {
     "data": {
      "text/html": [
       "<img src=\"http://ecx.images-amazon.com/images/I/41AXFwHrg1L._SY300_.jpg\"/>"
      ],
      "text/plain": [
       "<IPython.core.display.Image object>"
      ]
     },
     "metadata": {},
     "output_type": "display_data"
    },
    {
     "name": "stdout",
     "output_type": "stream",
     "text": [
      "=== Rada Cutlery R129 Chef's Dicer with Aluminum Handle ===\n"
     ]
    },
    {
     "data": {
      "text/html": [
       "<img src=\"http://ecx.images-amazon.com/images/I/21YER5SyXOL._SX300_.jpg\"/>"
      ],
      "text/plain": [
       "<IPython.core.display.Image object>"
      ]
     },
     "metadata": {},
     "output_type": "display_data"
    },
    {
     "name": "stdout",
     "output_type": "stream",
     "text": [
      "=== Miracle Blade III Perfection Series 11-Piece Cutlery Set ===\n"
     ]
    },
    {
     "data": {
      "text/html": [
       "<img src=\"http://ecx.images-amazon.com/images/I/51y2FG6bnUL._SX300_.jpg\"/>"
      ],
      "text/plain": [
       "<IPython.core.display.Image object>"
      ]
     },
     "metadata": {},
     "output_type": "display_data"
    },
    {
     "name": "stdout",
     "output_type": "stream",
     "text": [
      "=== Sun's Tea (TM) 20oz Strong Double Wall Thermo Glasses/Tumbler for Beer/Cocktail/Lemonade/Iced Tea, Set of 2 ===\n"
     ]
    },
    {
     "data": {
      "text/html": [
       "<img src=\"http://ecx.images-amazon.com/images/I/513lWHrDOSL._SY300_.jpg\"/>"
      ],
      "text/plain": [
       "<IPython.core.display.Image object>"
      ]
     },
     "metadata": {},
     "output_type": "display_data"
    },
    {
     "name": "stdout",
     "output_type": "stream",
     "text": [
      "=== Norpro Coffee Grinder ===\n"
     ]
    },
    {
     "data": {
      "text/html": [
       "<img src=\"http://ecx.images-amazon.com/images/I/41CB8j3Y96L._SY300_.jpg\"/>"
      ],
      "text/plain": [
       "<IPython.core.display.Image object>"
      ]
     },
     "metadata": {},
     "output_type": "display_data"
    },
    {
     "name": "stdout",
     "output_type": "stream",
     "text": [
      "=== Hamilton Beach 70450 8-Cup Food Processor ===\n"
     ]
    },
    {
     "data": {
      "text/html": [
       "<img src=\"http://ecx.images-amazon.com/images/I/41iDX10uCFL._SY300_.jpg\"/>"
      ],
      "text/plain": [
       "<IPython.core.display.Image object>"
      ]
     },
     "metadata": {},
     "output_type": "display_data"
    },
    {
     "name": "stdout",
     "output_type": "stream",
     "text": [
      "=== Oster BRLY07-B 7-Speed Fusion Blender, Black ===\n"
     ]
    },
    {
     "data": {
      "text/html": [
       "<img src=\"http://ecx.images-amazon.com/images/I/41HTs5hiGoL._SY300_.jpg\"/>"
      ],
      "text/plain": [
       "<IPython.core.display.Image object>"
      ]
     },
     "metadata": {},
     "output_type": "display_data"
    },
    {
     "name": "stdout",
     "output_type": "stream",
     "text": [
      "=== Command Medium Picture-Hanging Strips, 6-Picture ===\n"
     ]
    },
    {
     "data": {
      "text/html": [
       "<img src=\"http://ecx.images-amazon.com/images/I/41by%2BUDEwEL._SY300_.jpg\"/>"
      ],
      "text/plain": [
       "<IPython.core.display.Image object>"
      ]
     },
     "metadata": {},
     "output_type": "display_data"
    },
    {
     "name": "stdout",
     "output_type": "stream",
     "text": [
      "=== Holmes Heater Fan with 1Touch Control and ALCI Safe Plug, HFH442-UM ===\n"
     ]
    },
    {
     "data": {
      "text/html": [
       "<img src=\"http://ecx.images-amazon.com/images/I/419W1f6BGHL._SY300_.jpg\"/>"
      ],
      "text/plain": [
       "<IPython.core.display.Image object>"
      ]
     },
     "metadata": {},
     "output_type": "display_data"
    }
   ],
   "source": [
    "print_product_images(rec_uucfk3)"
   ]
  },
  {
   "cell_type": "code",
   "execution_count": 149,
   "metadata": {},
   "outputs": [],
   "source": [
    "rec_svdk100, history, actual = generate_recommendations('A1S3C5OFU508P3', svd_k100reg_predicted_ratings_matrix, 10, False, False)"
   ]
  },
  {
   "cell_type": "code",
   "execution_count": 150,
   "metadata": {},
   "outputs": [
    {
     "data": {
      "text/html": [
       "<div>\n",
       "<style scoped>\n",
       "    .dataframe tbody tr th:only-of-type {\n",
       "        vertical-align: middle;\n",
       "    }\n",
       "\n",
       "    .dataframe tbody tr th {\n",
       "        vertical-align: top;\n",
       "    }\n",
       "\n",
       "    .dataframe thead th {\n",
       "        text-align: right;\n",
       "    }\n",
       "</style>\n",
       "<table border=\"1\" class=\"dataframe\">\n",
       "  <thead>\n",
       "    <tr style=\"text-align: right;\">\n",
       "      <th></th>\n",
       "      <th>Product Names</th>\n",
       "      <th>cat_2</th>\n",
       "      <th>cat_3</th>\n",
       "      <th>cat_4</th>\n",
       "      <th>ratings</th>\n",
       "    </tr>\n",
       "  </thead>\n",
       "  <tbody>\n",
       "    <tr>\n",
       "      <th>0</th>\n",
       "      <td>Rancilio HSD-SILVIA Silvia Espresso Machine</td>\n",
       "      <td>Kitchen &amp; Dining</td>\n",
       "      <td>Coffee</td>\n",
       "      <td>Tea &amp; Espresso</td>\n",
       "      <td>4.887651</td>\n",
       "    </tr>\n",
       "    <tr>\n",
       "      <th>1</th>\n",
       "      <td>Pike Street Down Comforter, Full/Queen, Chocolate</td>\n",
       "      <td>Bedding</td>\n",
       "      <td>Comforters &amp; Sets</td>\n",
       "      <td>Comforters</td>\n",
       "      <td>4.878235</td>\n",
       "    </tr>\n",
       "    <tr>\n",
       "      <th>2</th>\n",
       "      <td>Norpro Stainless Steel Wide-Mouth Funnel</td>\n",
       "      <td>Kitchen &amp; Dining</td>\n",
       "      <td>Kitchen Utensils &amp; Gadgets</td>\n",
       "      <td>Specialty Tools &amp; Gadgets</td>\n",
       "      <td>4.858469</td>\n",
       "    </tr>\n",
       "    <tr>\n",
       "      <th>3</th>\n",
       "      <td>Rubbermaid Comm Prod 7035-04-BSTON Small Brown...</td>\n",
       "      <td>NaN</td>\n",
       "      <td>NaN</td>\n",
       "      <td>NaN</td>\n",
       "      <td>4.849515</td>\n",
       "    </tr>\n",
       "    <tr>\n",
       "      <th>4</th>\n",
       "      <td>Hoover LiNX Lithium Ion Battery, BH50000</td>\n",
       "      <td>Vacuums &amp; Floor Care</td>\n",
       "      <td>Vacuum Accessories</td>\n",
       "      <td>NaN</td>\n",
       "      <td>4.840100</td>\n",
       "    </tr>\n",
       "    <tr>\n",
       "      <th>5</th>\n",
       "      <td>Emeril by T-fal FR700951 2.65-Pound / 3.3-Lite...</td>\n",
       "      <td>Kitchen &amp; Dining</td>\n",
       "      <td>Small Appliances</td>\n",
       "      <td>Deep Fryers</td>\n",
       "      <td>4.833933</td>\n",
       "    </tr>\n",
       "    <tr>\n",
       "      <th>6</th>\n",
       "      <td>Granite Ware 0707-1 Steel/Porcelain Water-Bath...</td>\n",
       "      <td>Kitchen &amp; Dining</td>\n",
       "      <td>Cookware</td>\n",
       "      <td>Stockpots</td>\n",
       "      <td>4.831929</td>\n",
       "    </tr>\n",
       "    <tr>\n",
       "      <th>7</th>\n",
       "      <td>Cuisipro Stainless Steel Measuring Spoon Set</td>\n",
       "      <td>Kitchen &amp; Dining</td>\n",
       "      <td>Kitchen Utensils &amp; Gadgets</td>\n",
       "      <td>Measuring Tools &amp; Scales</td>\n",
       "      <td>4.829509</td>\n",
       "    </tr>\n",
       "    <tr>\n",
       "      <th>8</th>\n",
       "      <td>Master Craft Handbag Hangup Double-Sided Purse...</td>\n",
       "      <td>Kitchen &amp; Dining</td>\n",
       "      <td>Cookware</td>\n",
       "      <td>Pot Racks</td>\n",
       "      <td>4.815731</td>\n",
       "    </tr>\n",
       "    <tr>\n",
       "      <th>9</th>\n",
       "      <td>OXO Good Grips 9-Piece Nesting Bowls and Colan...</td>\n",
       "      <td>Kitchen &amp; Dining</td>\n",
       "      <td>NaN</td>\n",
       "      <td>NaN</td>\n",
       "      <td>4.808578</td>\n",
       "    </tr>\n",
       "  </tbody>\n",
       "</table>\n",
       "</div>"
      ],
      "text/plain": [
       "                                       Product Names                 cat_2  \\\n",
       "0        Rancilio HSD-SILVIA Silvia Espresso Machine      Kitchen & Dining   \n",
       "1  Pike Street Down Comforter, Full/Queen, Chocolate               Bedding   \n",
       "2           Norpro Stainless Steel Wide-Mouth Funnel      Kitchen & Dining   \n",
       "3  Rubbermaid Comm Prod 7035-04-BSTON Small Brown...                   NaN   \n",
       "4           Hoover LiNX Lithium Ion Battery, BH50000  Vacuums & Floor Care   \n",
       "5  Emeril by T-fal FR700951 2.65-Pound / 3.3-Lite...      Kitchen & Dining   \n",
       "6  Granite Ware 0707-1 Steel/Porcelain Water-Bath...      Kitchen & Dining   \n",
       "7       Cuisipro Stainless Steel Measuring Spoon Set      Kitchen & Dining   \n",
       "8  Master Craft Handbag Hangup Double-Sided Purse...      Kitchen & Dining   \n",
       "9  OXO Good Grips 9-Piece Nesting Bowls and Colan...      Kitchen & Dining   \n",
       "\n",
       "                        cat_3                      cat_4   ratings  \n",
       "0                      Coffee             Tea & Espresso  4.887651  \n",
       "1           Comforters & Sets                 Comforters  4.878235  \n",
       "2  Kitchen Utensils & Gadgets  Specialty Tools & Gadgets  4.858469  \n",
       "3                         NaN                        NaN  4.849515  \n",
       "4          Vacuum Accessories                        NaN  4.840100  \n",
       "5            Small Appliances                Deep Fryers  4.833933  \n",
       "6                    Cookware                  Stockpots  4.831929  \n",
       "7  Kitchen Utensils & Gadgets   Measuring Tools & Scales  4.829509  \n",
       "8                    Cookware                  Pot Racks  4.815731  \n",
       "9                         NaN                        NaN  4.808578  "
      ]
     },
     "execution_count": 150,
     "metadata": {},
     "output_type": "execute_result"
    }
   ],
   "source": [
    "items_with_categories(rec_svdk100, 'A1S3C5OFU508P3', svd_k100reg_predicted_ratings_matrix, list_type='recommended')"
   ]
  },
  {
   "cell_type": "code",
   "execution_count": 151,
   "metadata": {
    "scrolled": true
   },
   "outputs": [
    {
     "name": "stdout",
     "output_type": "stream",
     "text": [
      "=== Rancilio HSD-SILVIA Silvia Espresso Machine ===\n"
     ]
    },
    {
     "data": {
      "text/html": [
       "<img src=\"http://ecx.images-amazon.com/images/I/41LKv5Dks8L._SY300_.jpg\"/>"
      ],
      "text/plain": [
       "<IPython.core.display.Image object>"
      ]
     },
     "metadata": {},
     "output_type": "display_data"
    },
    {
     "name": "stdout",
     "output_type": "stream",
     "text": [
      "=== Pike Street Down Comforter, Full/Queen, Chocolate ===\n"
     ]
    },
    {
     "data": {
      "text/html": [
       "<img src=\"http://ecx.images-amazon.com/images/I/41JZMqyDWCL._SX300_.jpg\"/>"
      ],
      "text/plain": [
       "<IPython.core.display.Image object>"
      ]
     },
     "metadata": {},
     "output_type": "display_data"
    },
    {
     "name": "stdout",
     "output_type": "stream",
     "text": [
      "=== Norpro Stainless Steel Wide-Mouth Funnel ===\n"
     ]
    },
    {
     "data": {
      "text/html": [
       "<img src=\"http://ecx.images-amazon.com/images/I/41eUBcdKbAL._SY300_.jpg\"/>"
      ],
      "text/plain": [
       "<IPython.core.display.Image object>"
      ]
     },
     "metadata": {},
     "output_type": "display_data"
    },
    {
     "name": "stdout",
     "output_type": "stream",
     "text": [
      "=== Rubbermaid Comm Prod 7035-04-BSTON Small Brownstone Bath Mat - 14&quot; X 22.5&quot; ===\n"
     ]
    },
    {
     "data": {
      "text/html": [
       "<img src=\"http://ecx.images-amazon.com/images/I/21%2B1Y9wjLfL.jpg\"/>"
      ],
      "text/plain": [
       "<IPython.core.display.Image object>"
      ]
     },
     "metadata": {},
     "output_type": "display_data"
    },
    {
     "name": "stdout",
     "output_type": "stream",
     "text": [
      "=== Hoover LiNX Lithium Ion Battery, BH50000 ===\n"
     ]
    },
    {
     "data": {
      "text/html": [
       "<img src=\"http://ecx.images-amazon.com/images/I/315GfOaz3CL._SY300_.jpg\"/>"
      ],
      "text/plain": [
       "<IPython.core.display.Image object>"
      ]
     },
     "metadata": {},
     "output_type": "display_data"
    },
    {
     "name": "stdout",
     "output_type": "stream",
     "text": [
      "=== Emeril by T-fal FR700951 2.65-Pound / 3.3-Liter Stainless Steel Digital Imm ===\n"
     ]
    },
    {
     "data": {
      "text/html": [
       "<img src=\"http://ecx.images-amazon.com/images/I/51x8Y2zECRL._SY300_.jpg\"/>"
      ],
      "text/plain": [
       "<IPython.core.display.Image object>"
      ]
     },
     "metadata": {},
     "output_type": "display_data"
    },
    {
     "name": "stdout",
     "output_type": "stream",
     "text": [
      "=== Granite Ware 0707-1 Steel/Porcelain Water-Bath Canner with Rack, 21.5-Quart, Black ===\n"
     ]
    },
    {
     "data": {
      "text/html": [
       "<img src=\"http://ecx.images-amazon.com/images/I/41QhSquc1SL._SX300_.jpg\"/>"
      ],
      "text/plain": [
       "<IPython.core.display.Image object>"
      ]
     },
     "metadata": {},
     "output_type": "display_data"
    },
    {
     "name": "stdout",
     "output_type": "stream",
     "text": [
      "=== Cuisipro Stainless Steel Measuring Spoon Set ===\n"
     ]
    },
    {
     "data": {
      "text/html": [
       "<img src=\"http://ecx.images-amazon.com/images/I/41kyIHpF3xL._SY300_.jpg\"/>"
      ],
      "text/plain": [
       "<IPython.core.display.Image object>"
      ]
     },
     "metadata": {},
     "output_type": "display_data"
    },
    {
     "name": "stdout",
     "output_type": "stream",
     "text": [
      "=== Master Craft Handbag Hangup Double-Sided Purse Organizer, Paradise Pink ===\n"
     ]
    },
    {
     "data": {
      "text/html": [
       "<img src=\"http://ecx.images-amazon.com/images/I/41aTGiJjWVL._SY300_.jpg\"/>"
      ],
      "text/plain": [
       "<IPython.core.display.Image object>"
      ]
     },
     "metadata": {},
     "output_type": "display_data"
    },
    {
     "name": "stdout",
     "output_type": "stream",
     "text": [
      "=== OXO Good Grips 9-Piece Nesting Bowls and Colanders Set, Yellow/Orange/Red ===\n"
     ]
    },
    {
     "data": {
      "text/html": [
       "<img src=\"http://ecx.images-amazon.com/images/I/41%2BpTzw-EnL._SY300_.jpg\"/>"
      ],
      "text/plain": [
       "<IPython.core.display.Image object>"
      ]
     },
     "metadata": {},
     "output_type": "display_data"
    }
   ],
   "source": [
    "print_product_images(rec_svdk100)"
   ]
  },
  {
   "cell_type": "code",
   "execution_count": 153,
   "metadata": {
    "collapsed": true
   },
   "outputs": [
    {
     "data": {
      "text/html": [
       "<div>\n",
       "<style scoped>\n",
       "    .dataframe tbody tr th:only-of-type {\n",
       "        vertical-align: middle;\n",
       "    }\n",
       "\n",
       "    .dataframe tbody tr th {\n",
       "        vertical-align: top;\n",
       "    }\n",
       "\n",
       "    .dataframe thead th {\n",
       "        text-align: right;\n",
       "    }\n",
       "</style>\n",
       "<table border=\"1\" class=\"dataframe\">\n",
       "  <thead>\n",
       "    <tr style=\"text-align: right;\">\n",
       "      <th>asin</th>\n",
       "      <th>0912696591</th>\n",
       "      <th>B00000JGRP</th>\n",
       "      <th>B00000JGRQ</th>\n",
       "      <th>B00000JGRT</th>\n",
       "      <th>B00002N5FO</th>\n",
       "      <th>B00002N5Z9</th>\n",
       "      <th>B00002N5ZB</th>\n",
       "      <th>B00002N601</th>\n",
       "      <th>B00002N602</th>\n",
       "      <th>B00002N6SQ</th>\n",
       "      <th>...</th>\n",
       "      <th>B00GEGHNZE</th>\n",
       "      <th>B00GSXFKYY</th>\n",
       "      <th>B00GTCAY04</th>\n",
       "      <th>B00H1HYZ9C</th>\n",
       "      <th>B00H1OUSD2</th>\n",
       "      <th>B00H5EZ982</th>\n",
       "      <th>B00H5F3GRW</th>\n",
       "      <th>B00I4V1U06</th>\n",
       "      <th>B00JM3VFVE</th>\n",
       "      <th>B00KQJ42CW</th>\n",
       "    </tr>\n",
       "    <tr>\n",
       "      <th>reviewerID</th>\n",
       "      <th></th>\n",
       "      <th></th>\n",
       "      <th></th>\n",
       "      <th></th>\n",
       "      <th></th>\n",
       "      <th></th>\n",
       "      <th></th>\n",
       "      <th></th>\n",
       "      <th></th>\n",
       "      <th></th>\n",
       "      <th></th>\n",
       "      <th></th>\n",
       "      <th></th>\n",
       "      <th></th>\n",
       "      <th></th>\n",
       "      <th></th>\n",
       "      <th></th>\n",
       "      <th></th>\n",
       "      <th></th>\n",
       "      <th></th>\n",
       "      <th></th>\n",
       "    </tr>\n",
       "  </thead>\n",
       "  <tbody>\n",
       "    <tr>\n",
       "      <th>A100L918633LUO</th>\n",
       "      <td>4.712778</td>\n",
       "      <td>4.720787</td>\n",
       "      <td>4.684123</td>\n",
       "      <td>4.731153</td>\n",
       "      <td>4.758113</td>\n",
       "      <td>4.728521</td>\n",
       "      <td>4.772734</td>\n",
       "      <td>4.819275</td>\n",
       "      <td>4.741743</td>\n",
       "      <td>4.759007</td>\n",
       "      <td>...</td>\n",
       "      <td>4.710624</td>\n",
       "      <td>4.710276</td>\n",
       "      <td>4.855063</td>\n",
       "      <td>4.733020</td>\n",
       "      <td>4.840132</td>\n",
       "      <td>4.669774</td>\n",
       "      <td>4.720392</td>\n",
       "      <td>4.675939</td>\n",
       "      <td>4.856181</td>\n",
       "      <td>4.818595</td>\n",
       "    </tr>\n",
       "    <tr>\n",
       "      <th>A100UD67AHFODS</th>\n",
       "      <td>4.393058</td>\n",
       "      <td>4.527663</td>\n",
       "      <td>4.445762</td>\n",
       "      <td>4.502845</td>\n",
       "      <td>4.531504</td>\n",
       "      <td>4.346331</td>\n",
       "      <td>4.455246</td>\n",
       "      <td>4.461611</td>\n",
       "      <td>4.492466</td>\n",
       "      <td>4.451430</td>\n",
       "      <td>...</td>\n",
       "      <td>4.379511</td>\n",
       "      <td>4.492547</td>\n",
       "      <td>4.467022</td>\n",
       "      <td>4.463040</td>\n",
       "      <td>4.396639</td>\n",
       "      <td>4.368553</td>\n",
       "      <td>4.359447</td>\n",
       "      <td>4.567949</td>\n",
       "      <td>4.444685</td>\n",
       "      <td>4.476456</td>\n",
       "    </tr>\n",
       "    <tr>\n",
       "      <th>A100WO06OQR8BQ</th>\n",
       "      <td>4.452738</td>\n",
       "      <td>4.455211</td>\n",
       "      <td>4.370543</td>\n",
       "      <td>4.437977</td>\n",
       "      <td>4.394339</td>\n",
       "      <td>4.467752</td>\n",
       "      <td>4.471571</td>\n",
       "      <td>4.443723</td>\n",
       "      <td>4.500830</td>\n",
       "      <td>4.461439</td>\n",
       "      <td>...</td>\n",
       "      <td>4.387178</td>\n",
       "      <td>4.632111</td>\n",
       "      <td>4.306518</td>\n",
       "      <td>4.340388</td>\n",
       "      <td>4.302107</td>\n",
       "      <td>4.326197</td>\n",
       "      <td>4.312329</td>\n",
       "      <td>4.543681</td>\n",
       "      <td>4.423565</td>\n",
       "      <td>4.340404</td>\n",
       "    </tr>\n",
       "    <tr>\n",
       "      <th>A1027WM3PXKVMR</th>\n",
       "      <td>4.243104</td>\n",
       "      <td>4.273081</td>\n",
       "      <td>4.235359</td>\n",
       "      <td>4.159206</td>\n",
       "      <td>4.228248</td>\n",
       "      <td>4.355129</td>\n",
       "      <td>4.248013</td>\n",
       "      <td>4.198104</td>\n",
       "      <td>4.181918</td>\n",
       "      <td>4.275870</td>\n",
       "      <td>...</td>\n",
       "      <td>4.176298</td>\n",
       "      <td>4.271494</td>\n",
       "      <td>4.262161</td>\n",
       "      <td>4.293165</td>\n",
       "      <td>4.283719</td>\n",
       "      <td>4.304308</td>\n",
       "      <td>4.193339</td>\n",
       "      <td>4.295702</td>\n",
       "      <td>4.228603</td>\n",
       "      <td>4.279048</td>\n",
       "    </tr>\n",
       "    <tr>\n",
       "      <th>A103BJIOJSDJL1</th>\n",
       "      <td>4.342929</td>\n",
       "      <td>4.384886</td>\n",
       "      <td>4.331611</td>\n",
       "      <td>4.315296</td>\n",
       "      <td>4.222723</td>\n",
       "      <td>4.352473</td>\n",
       "      <td>4.295451</td>\n",
       "      <td>4.312055</td>\n",
       "      <td>4.246754</td>\n",
       "      <td>4.345901</td>\n",
       "      <td>...</td>\n",
       "      <td>4.351634</td>\n",
       "      <td>4.293499</td>\n",
       "      <td>4.266403</td>\n",
       "      <td>4.269206</td>\n",
       "      <td>4.320709</td>\n",
       "      <td>4.385358</td>\n",
       "      <td>4.310935</td>\n",
       "      <td>4.275121</td>\n",
       "      <td>4.287373</td>\n",
       "      <td>4.283733</td>\n",
       "    </tr>\n",
       "    <tr>\n",
       "      <th>A1047EDJ84IMAS</th>\n",
       "      <td>4.734267</td>\n",
       "      <td>4.804518</td>\n",
       "      <td>4.813634</td>\n",
       "      <td>4.711974</td>\n",
       "      <td>4.713305</td>\n",
       "      <td>4.791892</td>\n",
       "      <td>4.801996</td>\n",
       "      <td>4.699626</td>\n",
       "      <td>4.712493</td>\n",
       "      <td>4.657079</td>\n",
       "      <td>...</td>\n",
       "      <td>4.634248</td>\n",
       "      <td>4.772486</td>\n",
       "      <td>4.789941</td>\n",
       "      <td>4.707832</td>\n",
       "      <td>4.777298</td>\n",
       "      <td>4.746065</td>\n",
       "      <td>4.633102</td>\n",
       "      <td>4.765954</td>\n",
       "      <td>4.671468</td>\n",
       "      <td>4.717450</td>\n",
       "    </tr>\n",
       "    <tr>\n",
       "      <th>A109ORALRL16KR</th>\n",
       "      <td>4.907437</td>\n",
       "      <td>4.864525</td>\n",
       "      <td>4.794625</td>\n",
       "      <td>4.849918</td>\n",
       "      <td>4.863683</td>\n",
       "      <td>4.888762</td>\n",
       "      <td>4.823347</td>\n",
       "      <td>4.819542</td>\n",
       "      <td>4.847762</td>\n",
       "      <td>4.871924</td>\n",
       "      <td>...</td>\n",
       "      <td>4.827188</td>\n",
       "      <td>4.851565</td>\n",
       "      <td>4.831390</td>\n",
       "      <td>4.843659</td>\n",
       "      <td>4.839724</td>\n",
       "      <td>4.950619</td>\n",
       "      <td>4.853531</td>\n",
       "      <td>4.791336</td>\n",
       "      <td>4.858031</td>\n",
       "      <td>4.855475</td>\n",
       "    </tr>\n",
       "    <tr>\n",
       "      <th>A10AFVU66A79Y1</th>\n",
       "      <td>4.555897</td>\n",
       "      <td>4.471518</td>\n",
       "      <td>4.461660</td>\n",
       "      <td>4.519943</td>\n",
       "      <td>4.501514</td>\n",
       "      <td>4.530997</td>\n",
       "      <td>4.555688</td>\n",
       "      <td>4.554747</td>\n",
       "      <td>4.545213</td>\n",
       "      <td>4.509447</td>\n",
       "      <td>...</td>\n",
       "      <td>4.535432</td>\n",
       "      <td>4.527512</td>\n",
       "      <td>4.427311</td>\n",
       "      <td>4.499377</td>\n",
       "      <td>4.486114</td>\n",
       "      <td>4.475781</td>\n",
       "      <td>4.595836</td>\n",
       "      <td>4.515595</td>\n",
       "      <td>4.473366</td>\n",
       "      <td>4.539866</td>\n",
       "    </tr>\n",
       "    <tr>\n",
       "      <th>A10BGNHGWPN7ZE</th>\n",
       "      <td>4.305171</td>\n",
       "      <td>4.361792</td>\n",
       "      <td>4.170792</td>\n",
       "      <td>4.389750</td>\n",
       "      <td>4.395726</td>\n",
       "      <td>4.348132</td>\n",
       "      <td>4.223840</td>\n",
       "      <td>4.236911</td>\n",
       "      <td>4.479441</td>\n",
       "      <td>4.314418</td>\n",
       "      <td>...</td>\n",
       "      <td>4.326849</td>\n",
       "      <td>4.327137</td>\n",
       "      <td>4.367811</td>\n",
       "      <td>4.264108</td>\n",
       "      <td>4.245845</td>\n",
       "      <td>4.339902</td>\n",
       "      <td>4.187520</td>\n",
       "      <td>4.320978</td>\n",
       "      <td>4.284521</td>\n",
       "      <td>4.372009</td>\n",
       "    </tr>\n",
       "    <tr>\n",
       "      <th>A10CRW7XRJBJ2G</th>\n",
       "      <td>3.735467</td>\n",
       "      <td>3.659158</td>\n",
       "      <td>3.724685</td>\n",
       "      <td>3.646683</td>\n",
       "      <td>3.659549</td>\n",
       "      <td>3.638092</td>\n",
       "      <td>3.657197</td>\n",
       "      <td>3.569859</td>\n",
       "      <td>3.661378</td>\n",
       "      <td>3.568167</td>\n",
       "      <td>...</td>\n",
       "      <td>3.589635</td>\n",
       "      <td>3.703062</td>\n",
       "      <td>3.688652</td>\n",
       "      <td>3.637306</td>\n",
       "      <td>3.630987</td>\n",
       "      <td>3.705313</td>\n",
       "      <td>3.594895</td>\n",
       "      <td>3.524165</td>\n",
       "      <td>3.600503</td>\n",
       "      <td>3.697112</td>\n",
       "    </tr>\n",
       "    <tr>\n",
       "      <th>A10FL3TBQ7TI48</th>\n",
       "      <td>4.239830</td>\n",
       "      <td>4.369734</td>\n",
       "      <td>4.331740</td>\n",
       "      <td>4.383258</td>\n",
       "      <td>4.293828</td>\n",
       "      <td>4.324256</td>\n",
       "      <td>4.372760</td>\n",
       "      <td>4.347399</td>\n",
       "      <td>4.146697</td>\n",
       "      <td>4.332334</td>\n",
       "      <td>...</td>\n",
       "      <td>4.228004</td>\n",
       "      <td>4.241297</td>\n",
       "      <td>4.265443</td>\n",
       "      <td>4.424784</td>\n",
       "      <td>4.365276</td>\n",
       "      <td>4.362731</td>\n",
       "      <td>4.392165</td>\n",
       "      <td>4.247653</td>\n",
       "      <td>4.296734</td>\n",
       "      <td>4.374147</td>\n",
       "    </tr>\n",
       "    <tr>\n",
       "      <th>A10IXPDL5AXRUN</th>\n",
       "      <td>4.705145</td>\n",
       "      <td>4.784166</td>\n",
       "      <td>4.652052</td>\n",
       "      <td>4.762853</td>\n",
       "      <td>4.783304</td>\n",
       "      <td>4.778720</td>\n",
       "      <td>4.781534</td>\n",
       "      <td>4.797659</td>\n",
       "      <td>4.688084</td>\n",
       "      <td>4.816433</td>\n",
       "      <td>...</td>\n",
       "      <td>4.600819</td>\n",
       "      <td>4.625940</td>\n",
       "      <td>4.790647</td>\n",
       "      <td>4.794839</td>\n",
       "      <td>4.863758</td>\n",
       "      <td>4.829146</td>\n",
       "      <td>4.773532</td>\n",
       "      <td>4.748100</td>\n",
       "      <td>4.726644</td>\n",
       "      <td>4.716130</td>\n",
       "    </tr>\n",
       "    <tr>\n",
       "      <th>A10K7QBLLN6VLE</th>\n",
       "      <td>3.940223</td>\n",
       "      <td>4.031497</td>\n",
       "      <td>3.916870</td>\n",
       "      <td>3.913258</td>\n",
       "      <td>3.982002</td>\n",
       "      <td>4.035671</td>\n",
       "      <td>3.927601</td>\n",
       "      <td>3.953449</td>\n",
       "      <td>3.858260</td>\n",
       "      <td>3.895240</td>\n",
       "      <td>...</td>\n",
       "      <td>3.876197</td>\n",
       "      <td>3.916273</td>\n",
       "      <td>3.982024</td>\n",
       "      <td>3.936183</td>\n",
       "      <td>3.963642</td>\n",
       "      <td>3.885573</td>\n",
       "      <td>3.904504</td>\n",
       "      <td>3.945191</td>\n",
       "      <td>3.999145</td>\n",
       "      <td>3.963565</td>\n",
       "    </tr>\n",
       "    <tr>\n",
       "      <th>A10NIZTEOWKX5N</th>\n",
       "      <td>4.639696</td>\n",
       "      <td>4.708497</td>\n",
       "      <td>4.689726</td>\n",
       "      <td>4.695340</td>\n",
       "      <td>4.719374</td>\n",
       "      <td>4.745855</td>\n",
       "      <td>4.735980</td>\n",
       "      <td>4.602894</td>\n",
       "      <td>4.660676</td>\n",
       "      <td>4.729248</td>\n",
       "      <td>...</td>\n",
       "      <td>4.658530</td>\n",
       "      <td>4.686295</td>\n",
       "      <td>4.653828</td>\n",
       "      <td>4.787040</td>\n",
       "      <td>4.721667</td>\n",
       "      <td>4.737479</td>\n",
       "      <td>4.703417</td>\n",
       "      <td>4.685289</td>\n",
       "      <td>4.672522</td>\n",
       "      <td>4.709677</td>\n",
       "    </tr>\n",
       "    <tr>\n",
       "      <th>A10NMELR4KX0J6</th>\n",
       "      <td>4.588894</td>\n",
       "      <td>4.533534</td>\n",
       "      <td>4.483965</td>\n",
       "      <td>4.507697</td>\n",
       "      <td>4.493515</td>\n",
       "      <td>4.575533</td>\n",
       "      <td>4.521936</td>\n",
       "      <td>4.592755</td>\n",
       "      <td>4.637657</td>\n",
       "      <td>4.529540</td>\n",
       "      <td>...</td>\n",
       "      <td>4.457790</td>\n",
       "      <td>4.435293</td>\n",
       "      <td>4.522808</td>\n",
       "      <td>4.493282</td>\n",
       "      <td>4.473948</td>\n",
       "      <td>4.519917</td>\n",
       "      <td>4.506021</td>\n",
       "      <td>4.450854</td>\n",
       "      <td>4.583948</td>\n",
       "      <td>4.528918</td>\n",
       "    </tr>\n",
       "    <tr>\n",
       "      <th>A10PEXB6XAQ5XF</th>\n",
       "      <td>4.466546</td>\n",
       "      <td>4.441894</td>\n",
       "      <td>4.419417</td>\n",
       "      <td>4.493252</td>\n",
       "      <td>4.419279</td>\n",
       "      <td>4.520964</td>\n",
       "      <td>4.518004</td>\n",
       "      <td>4.525982</td>\n",
       "      <td>4.432922</td>\n",
       "      <td>4.445251</td>\n",
       "      <td>...</td>\n",
       "      <td>4.488944</td>\n",
       "      <td>4.419719</td>\n",
       "      <td>4.424028</td>\n",
       "      <td>4.462767</td>\n",
       "      <td>4.505718</td>\n",
       "      <td>4.554553</td>\n",
       "      <td>4.609541</td>\n",
       "      <td>4.505999</td>\n",
       "      <td>4.481534</td>\n",
       "      <td>4.428529</td>\n",
       "    </tr>\n",
       "    <tr>\n",
       "      <th>A10QUY14I0ZYFL</th>\n",
       "      <td>4.011602</td>\n",
       "      <td>3.917251</td>\n",
       "      <td>3.912227</td>\n",
       "      <td>3.977283</td>\n",
       "      <td>3.890109</td>\n",
       "      <td>3.893682</td>\n",
       "      <td>3.941267</td>\n",
       "      <td>4.107308</td>\n",
       "      <td>4.065766</td>\n",
       "      <td>4.036883</td>\n",
       "      <td>...</td>\n",
       "      <td>3.780298</td>\n",
       "      <td>3.910062</td>\n",
       "      <td>4.015790</td>\n",
       "      <td>3.792557</td>\n",
       "      <td>3.925862</td>\n",
       "      <td>3.915201</td>\n",
       "      <td>3.839871</td>\n",
       "      <td>3.928679</td>\n",
       "      <td>3.985421</td>\n",
       "      <td>3.896465</td>\n",
       "    </tr>\n",
       "    <tr>\n",
       "      <th>A10T7C2Y6O3MO2</th>\n",
       "      <td>4.179448</td>\n",
       "      <td>4.177013</td>\n",
       "      <td>4.206248</td>\n",
       "      <td>4.163840</td>\n",
       "      <td>4.195039</td>\n",
       "      <td>4.233528</td>\n",
       "      <td>4.236045</td>\n",
       "      <td>4.249618</td>\n",
       "      <td>4.185713</td>\n",
       "      <td>4.136817</td>\n",
       "      <td>...</td>\n",
       "      <td>4.194812</td>\n",
       "      <td>4.158079</td>\n",
       "      <td>4.216061</td>\n",
       "      <td>4.238300</td>\n",
       "      <td>4.207224</td>\n",
       "      <td>4.283635</td>\n",
       "      <td>4.299182</td>\n",
       "      <td>4.133651</td>\n",
       "      <td>4.128860</td>\n",
       "      <td>4.304278</td>\n",
       "    </tr>\n",
       "    <tr>\n",
       "      <th>A10Y058K7B96C6</th>\n",
       "      <td>4.369174</td>\n",
       "      <td>4.301620</td>\n",
       "      <td>4.340484</td>\n",
       "      <td>4.320358</td>\n",
       "      <td>4.235200</td>\n",
       "      <td>4.263813</td>\n",
       "      <td>4.377538</td>\n",
       "      <td>4.266016</td>\n",
       "      <td>4.373589</td>\n",
       "      <td>4.206435</td>\n",
       "      <td>...</td>\n",
       "      <td>4.164138</td>\n",
       "      <td>4.374399</td>\n",
       "      <td>4.171315</td>\n",
       "      <td>4.270043</td>\n",
       "      <td>4.235910</td>\n",
       "      <td>4.222413</td>\n",
       "      <td>4.262723</td>\n",
       "      <td>4.298589</td>\n",
       "      <td>4.357627</td>\n",
       "      <td>4.243132</td>\n",
       "    </tr>\n",
       "    <tr>\n",
       "      <th>A10ZBR6O8S8OCY</th>\n",
       "      <td>4.412497</td>\n",
       "      <td>4.398052</td>\n",
       "      <td>4.374774</td>\n",
       "      <td>4.426419</td>\n",
       "      <td>4.452304</td>\n",
       "      <td>4.466583</td>\n",
       "      <td>4.433347</td>\n",
       "      <td>4.354345</td>\n",
       "      <td>4.350842</td>\n",
       "      <td>4.409963</td>\n",
       "      <td>...</td>\n",
       "      <td>4.403659</td>\n",
       "      <td>4.432893</td>\n",
       "      <td>4.397634</td>\n",
       "      <td>4.344985</td>\n",
       "      <td>4.438147</td>\n",
       "      <td>4.403036</td>\n",
       "      <td>4.426954</td>\n",
       "      <td>4.468121</td>\n",
       "      <td>4.452092</td>\n",
       "      <td>4.479010</td>\n",
       "    </tr>\n",
       "    <tr>\n",
       "      <th>A10ZFE6YE0UHW8</th>\n",
       "      <td>3.890444</td>\n",
       "      <td>3.969044</td>\n",
       "      <td>3.988329</td>\n",
       "      <td>3.919251</td>\n",
       "      <td>3.825520</td>\n",
       "      <td>3.902678</td>\n",
       "      <td>3.875641</td>\n",
       "      <td>3.862371</td>\n",
       "      <td>3.935174</td>\n",
       "      <td>3.815655</td>\n",
       "      <td>...</td>\n",
       "      <td>3.807632</td>\n",
       "      <td>4.043242</td>\n",
       "      <td>4.001310</td>\n",
       "      <td>3.889721</td>\n",
       "      <td>3.855653</td>\n",
       "      <td>3.849657</td>\n",
       "      <td>3.806217</td>\n",
       "      <td>3.954758</td>\n",
       "      <td>3.907975</td>\n",
       "      <td>3.885667</td>\n",
       "    </tr>\n",
       "    <tr>\n",
       "      <th>A10ZX30O697DNH</th>\n",
       "      <td>4.458301</td>\n",
       "      <td>4.388301</td>\n",
       "      <td>4.385633</td>\n",
       "      <td>4.459153</td>\n",
       "      <td>4.372073</td>\n",
       "      <td>4.451413</td>\n",
       "      <td>4.458134</td>\n",
       "      <td>4.489258</td>\n",
       "      <td>4.359157</td>\n",
       "      <td>4.430550</td>\n",
       "      <td>...</td>\n",
       "      <td>4.383810</td>\n",
       "      <td>4.359265</td>\n",
       "      <td>4.369838</td>\n",
       "      <td>4.402358</td>\n",
       "      <td>4.378032</td>\n",
       "      <td>4.284554</td>\n",
       "      <td>4.334512</td>\n",
       "      <td>4.312745</td>\n",
       "      <td>4.387777</td>\n",
       "      <td>4.363087</td>\n",
       "    </tr>\n",
       "    <tr>\n",
       "      <th>A1115ST6F5CWYP</th>\n",
       "      <td>4.635737</td>\n",
       "      <td>4.669989</td>\n",
       "      <td>4.498991</td>\n",
       "      <td>4.529799</td>\n",
       "      <td>4.510319</td>\n",
       "      <td>4.607305</td>\n",
       "      <td>4.565434</td>\n",
       "      <td>4.574701</td>\n",
       "      <td>4.552011</td>\n",
       "      <td>4.573366</td>\n",
       "      <td>...</td>\n",
       "      <td>4.619427</td>\n",
       "      <td>4.556219</td>\n",
       "      <td>4.762014</td>\n",
       "      <td>4.543377</td>\n",
       "      <td>4.686329</td>\n",
       "      <td>4.547807</td>\n",
       "      <td>4.487107</td>\n",
       "      <td>4.593586</td>\n",
       "      <td>4.546665</td>\n",
       "      <td>4.674789</td>\n",
       "    </tr>\n",
       "    <tr>\n",
       "      <th>A111PH76SCPYCK</th>\n",
       "      <td>4.231146</td>\n",
       "      <td>4.233143</td>\n",
       "      <td>4.183245</td>\n",
       "      <td>4.251354</td>\n",
       "      <td>4.176112</td>\n",
       "      <td>4.310878</td>\n",
       "      <td>4.200429</td>\n",
       "      <td>4.239867</td>\n",
       "      <td>4.280393</td>\n",
       "      <td>4.171221</td>\n",
       "      <td>...</td>\n",
       "      <td>4.107825</td>\n",
       "      <td>4.181602</td>\n",
       "      <td>4.248411</td>\n",
       "      <td>3.965306</td>\n",
       "      <td>4.127749</td>\n",
       "      <td>4.209816</td>\n",
       "      <td>4.126355</td>\n",
       "      <td>4.258186</td>\n",
       "      <td>4.334169</td>\n",
       "      <td>4.047967</td>\n",
       "    </tr>\n",
       "    <tr>\n",
       "      <th>A117FYENI6RSPP</th>\n",
       "      <td>4.159704</td>\n",
       "      <td>4.306286</td>\n",
       "      <td>4.304938</td>\n",
       "      <td>4.232188</td>\n",
       "      <td>4.219026</td>\n",
       "      <td>4.368997</td>\n",
       "      <td>4.332862</td>\n",
       "      <td>4.196406</td>\n",
       "      <td>4.221747</td>\n",
       "      <td>4.314331</td>\n",
       "      <td>...</td>\n",
       "      <td>4.238272</td>\n",
       "      <td>4.285120</td>\n",
       "      <td>4.320052</td>\n",
       "      <td>4.318412</td>\n",
       "      <td>4.291187</td>\n",
       "      <td>4.373071</td>\n",
       "      <td>4.231047</td>\n",
       "      <td>4.317967</td>\n",
       "      <td>4.182427</td>\n",
       "      <td>4.240834</td>\n",
       "    </tr>\n",
       "    <tr>\n",
       "      <th>A11C2FBX83TS07</th>\n",
       "      <td>4.434418</td>\n",
       "      <td>4.375998</td>\n",
       "      <td>4.471713</td>\n",
       "      <td>4.394363</td>\n",
       "      <td>4.565550</td>\n",
       "      <td>4.481729</td>\n",
       "      <td>4.573380</td>\n",
       "      <td>4.442634</td>\n",
       "      <td>4.510719</td>\n",
       "      <td>4.485071</td>\n",
       "      <td>...</td>\n",
       "      <td>4.430274</td>\n",
       "      <td>4.508727</td>\n",
       "      <td>4.462066</td>\n",
       "      <td>4.490042</td>\n",
       "      <td>4.484419</td>\n",
       "      <td>4.452635</td>\n",
       "      <td>4.449643</td>\n",
       "      <td>4.488433</td>\n",
       "      <td>4.512972</td>\n",
       "      <td>4.470333</td>\n",
       "    </tr>\n",
       "    <tr>\n",
       "      <th>A11C2ZX984GQW6</th>\n",
       "      <td>3.914974</td>\n",
       "      <td>3.894360</td>\n",
       "      <td>3.929397</td>\n",
       "      <td>3.919845</td>\n",
       "      <td>3.913694</td>\n",
       "      <td>3.937474</td>\n",
       "      <td>3.929402</td>\n",
       "      <td>3.883932</td>\n",
       "      <td>3.938826</td>\n",
       "      <td>3.770255</td>\n",
       "      <td>...</td>\n",
       "      <td>3.973794</td>\n",
       "      <td>3.939650</td>\n",
       "      <td>3.981566</td>\n",
       "      <td>3.874205</td>\n",
       "      <td>3.863557</td>\n",
       "      <td>3.739439</td>\n",
       "      <td>3.858539</td>\n",
       "      <td>3.846085</td>\n",
       "      <td>3.934319</td>\n",
       "      <td>3.925213</td>\n",
       "    </tr>\n",
       "    <tr>\n",
       "      <th>A11ED8O95W2103</th>\n",
       "      <td>4.063242</td>\n",
       "      <td>4.143540</td>\n",
       "      <td>4.039293</td>\n",
       "      <td>4.028865</td>\n",
       "      <td>4.073542</td>\n",
       "      <td>4.019667</td>\n",
       "      <td>4.018546</td>\n",
       "      <td>3.888638</td>\n",
       "      <td>4.199265</td>\n",
       "      <td>4.020336</td>\n",
       "      <td>...</td>\n",
       "      <td>4.072079</td>\n",
       "      <td>4.118148</td>\n",
       "      <td>4.130008</td>\n",
       "      <td>4.098692</td>\n",
       "      <td>4.032334</td>\n",
       "      <td>4.114261</td>\n",
       "      <td>4.041681</td>\n",
       "      <td>4.021220</td>\n",
       "      <td>4.068318</td>\n",
       "      <td>4.081184</td>\n",
       "    </tr>\n",
       "    <tr>\n",
       "      <th>A11EKF3LXOYUMH</th>\n",
       "      <td>4.610671</td>\n",
       "      <td>4.553905</td>\n",
       "      <td>4.539780</td>\n",
       "      <td>4.543234</td>\n",
       "      <td>4.513435</td>\n",
       "      <td>4.551973</td>\n",
       "      <td>4.603814</td>\n",
       "      <td>4.521264</td>\n",
       "      <td>4.621185</td>\n",
       "      <td>4.513918</td>\n",
       "      <td>...</td>\n",
       "      <td>4.576435</td>\n",
       "      <td>4.651860</td>\n",
       "      <td>4.539934</td>\n",
       "      <td>4.548142</td>\n",
       "      <td>4.577679</td>\n",
       "      <td>4.611237</td>\n",
       "      <td>4.471343</td>\n",
       "      <td>4.590790</td>\n",
       "      <td>4.507392</td>\n",
       "      <td>4.537500</td>\n",
       "    </tr>\n",
       "    <tr>\n",
       "      <th>A11FX8HL2ANK6T</th>\n",
       "      <td>4.543009</td>\n",
       "      <td>4.556728</td>\n",
       "      <td>4.587390</td>\n",
       "      <td>4.470011</td>\n",
       "      <td>4.561837</td>\n",
       "      <td>4.541834</td>\n",
       "      <td>4.612639</td>\n",
       "      <td>4.464469</td>\n",
       "      <td>4.564633</td>\n",
       "      <td>4.570581</td>\n",
       "      <td>...</td>\n",
       "      <td>4.502014</td>\n",
       "      <td>4.639084</td>\n",
       "      <td>4.573720</td>\n",
       "      <td>4.488453</td>\n",
       "      <td>4.521223</td>\n",
       "      <td>4.698137</td>\n",
       "      <td>4.535681</td>\n",
       "      <td>4.602290</td>\n",
       "      <td>4.551118</td>\n",
       "      <td>4.487314</td>\n",
       "    </tr>\n",
       "    <tr>\n",
       "      <th>...</th>\n",
       "      <td>...</td>\n",
       "      <td>...</td>\n",
       "      <td>...</td>\n",
       "      <td>...</td>\n",
       "      <td>...</td>\n",
       "      <td>...</td>\n",
       "      <td>...</td>\n",
       "      <td>...</td>\n",
       "      <td>...</td>\n",
       "      <td>...</td>\n",
       "      <td>...</td>\n",
       "      <td>...</td>\n",
       "      <td>...</td>\n",
       "      <td>...</td>\n",
       "      <td>...</td>\n",
       "      <td>...</td>\n",
       "      <td>...</td>\n",
       "      <td>...</td>\n",
       "      <td>...</td>\n",
       "      <td>...</td>\n",
       "      <td>...</td>\n",
       "    </tr>\n",
       "    <tr>\n",
       "      <th>AYB4ELCS5AM8P</th>\n",
       "      <td>4.717239</td>\n",
       "      <td>4.656228</td>\n",
       "      <td>4.659128</td>\n",
       "      <td>4.650471</td>\n",
       "      <td>4.706718</td>\n",
       "      <td>4.763714</td>\n",
       "      <td>4.719547</td>\n",
       "      <td>4.686262</td>\n",
       "      <td>4.706707</td>\n",
       "      <td>4.728362</td>\n",
       "      <td>...</td>\n",
       "      <td>4.580028</td>\n",
       "      <td>4.678167</td>\n",
       "      <td>4.744945</td>\n",
       "      <td>4.566326</td>\n",
       "      <td>4.721427</td>\n",
       "      <td>4.642564</td>\n",
       "      <td>4.602545</td>\n",
       "      <td>4.742472</td>\n",
       "      <td>4.723271</td>\n",
       "      <td>4.670347</td>\n",
       "    </tr>\n",
       "    <tr>\n",
       "      <th>AYB8XLKTYMTTX</th>\n",
       "      <td>4.249996</td>\n",
       "      <td>4.400568</td>\n",
       "      <td>4.361378</td>\n",
       "      <td>4.397235</td>\n",
       "      <td>4.323426</td>\n",
       "      <td>4.363587</td>\n",
       "      <td>4.281330</td>\n",
       "      <td>4.314026</td>\n",
       "      <td>4.344702</td>\n",
       "      <td>4.336772</td>\n",
       "      <td>...</td>\n",
       "      <td>4.367047</td>\n",
       "      <td>4.347827</td>\n",
       "      <td>4.349543</td>\n",
       "      <td>4.286975</td>\n",
       "      <td>4.322255</td>\n",
       "      <td>4.395839</td>\n",
       "      <td>4.379193</td>\n",
       "      <td>4.366097</td>\n",
       "      <td>4.448405</td>\n",
       "      <td>4.340229</td>\n",
       "    </tr>\n",
       "    <tr>\n",
       "      <th>AYBAN0FHB1N57</th>\n",
       "      <td>4.688639</td>\n",
       "      <td>4.586374</td>\n",
       "      <td>4.592670</td>\n",
       "      <td>4.539535</td>\n",
       "      <td>4.525078</td>\n",
       "      <td>4.537204</td>\n",
       "      <td>4.589001</td>\n",
       "      <td>4.633334</td>\n",
       "      <td>4.518810</td>\n",
       "      <td>4.414511</td>\n",
       "      <td>...</td>\n",
       "      <td>4.501734</td>\n",
       "      <td>4.579792</td>\n",
       "      <td>4.436390</td>\n",
       "      <td>4.634895</td>\n",
       "      <td>4.560678</td>\n",
       "      <td>4.615541</td>\n",
       "      <td>4.622117</td>\n",
       "      <td>4.528515</td>\n",
       "      <td>4.578958</td>\n",
       "      <td>4.553565</td>\n",
       "    </tr>\n",
       "    <tr>\n",
       "      <th>AYGJ96W5KQMUJ</th>\n",
       "      <td>4.364512</td>\n",
       "      <td>4.361446</td>\n",
       "      <td>4.327231</td>\n",
       "      <td>4.249179</td>\n",
       "      <td>4.237803</td>\n",
       "      <td>4.348027</td>\n",
       "      <td>4.312555</td>\n",
       "      <td>4.217745</td>\n",
       "      <td>4.382650</td>\n",
       "      <td>4.299129</td>\n",
       "      <td>...</td>\n",
       "      <td>4.273941</td>\n",
       "      <td>4.414583</td>\n",
       "      <td>4.315789</td>\n",
       "      <td>4.256190</td>\n",
       "      <td>4.351823</td>\n",
       "      <td>4.338761</td>\n",
       "      <td>4.270889</td>\n",
       "      <td>4.362754</td>\n",
       "      <td>4.296355</td>\n",
       "      <td>4.280155</td>\n",
       "    </tr>\n",
       "    <tr>\n",
       "      <th>AYI6ZBGMR1TJY</th>\n",
       "      <td>4.676313</td>\n",
       "      <td>4.667495</td>\n",
       "      <td>4.687181</td>\n",
       "      <td>4.605789</td>\n",
       "      <td>4.682707</td>\n",
       "      <td>4.633534</td>\n",
       "      <td>4.633833</td>\n",
       "      <td>4.670457</td>\n",
       "      <td>4.436396</td>\n",
       "      <td>4.495378</td>\n",
       "      <td>...</td>\n",
       "      <td>4.666670</td>\n",
       "      <td>4.673208</td>\n",
       "      <td>4.566521</td>\n",
       "      <td>4.664282</td>\n",
       "      <td>4.622419</td>\n",
       "      <td>4.708150</td>\n",
       "      <td>4.637462</td>\n",
       "      <td>4.681908</td>\n",
       "      <td>4.617053</td>\n",
       "      <td>4.651331</td>\n",
       "    </tr>\n",
       "    <tr>\n",
       "      <th>AYIVP2Q1XP3H8</th>\n",
       "      <td>4.402273</td>\n",
       "      <td>4.538804</td>\n",
       "      <td>4.499254</td>\n",
       "      <td>4.526103</td>\n",
       "      <td>4.427374</td>\n",
       "      <td>4.487148</td>\n",
       "      <td>4.494159</td>\n",
       "      <td>4.511334</td>\n",
       "      <td>4.438471</td>\n",
       "      <td>4.550064</td>\n",
       "      <td>...</td>\n",
       "      <td>4.313892</td>\n",
       "      <td>4.478535</td>\n",
       "      <td>4.382570</td>\n",
       "      <td>4.459447</td>\n",
       "      <td>4.468117</td>\n",
       "      <td>4.535739</td>\n",
       "      <td>4.432797</td>\n",
       "      <td>4.431423</td>\n",
       "      <td>4.551584</td>\n",
       "      <td>4.369384</td>\n",
       "    </tr>\n",
       "    <tr>\n",
       "      <th>AYNRALJ4X1COS</th>\n",
       "      <td>3.419631</td>\n",
       "      <td>3.394099</td>\n",
       "      <td>3.573423</td>\n",
       "      <td>3.492300</td>\n",
       "      <td>3.573427</td>\n",
       "      <td>3.503890</td>\n",
       "      <td>3.546209</td>\n",
       "      <td>3.478422</td>\n",
       "      <td>3.498314</td>\n",
       "      <td>3.391249</td>\n",
       "      <td>...</td>\n",
       "      <td>3.457261</td>\n",
       "      <td>3.546118</td>\n",
       "      <td>3.531478</td>\n",
       "      <td>3.520898</td>\n",
       "      <td>3.558906</td>\n",
       "      <td>3.521871</td>\n",
       "      <td>3.570650</td>\n",
       "      <td>3.598650</td>\n",
       "      <td>3.579828</td>\n",
       "      <td>3.554478</td>\n",
       "    </tr>\n",
       "    <tr>\n",
       "      <th>AYO2UHZB29UIU</th>\n",
       "      <td>4.651520</td>\n",
       "      <td>4.556523</td>\n",
       "      <td>4.473032</td>\n",
       "      <td>4.515517</td>\n",
       "      <td>4.539056</td>\n",
       "      <td>4.685604</td>\n",
       "      <td>4.537602</td>\n",
       "      <td>4.531832</td>\n",
       "      <td>4.622151</td>\n",
       "      <td>4.528857</td>\n",
       "      <td>...</td>\n",
       "      <td>4.509555</td>\n",
       "      <td>4.499080</td>\n",
       "      <td>4.578135</td>\n",
       "      <td>4.525792</td>\n",
       "      <td>4.623336</td>\n",
       "      <td>4.567574</td>\n",
       "      <td>4.578738</td>\n",
       "      <td>4.473359</td>\n",
       "      <td>4.675932</td>\n",
       "      <td>4.505612</td>\n",
       "    </tr>\n",
       "    <tr>\n",
       "      <th>AYOMAHLWRQHUG</th>\n",
       "      <td>4.180181</td>\n",
       "      <td>4.187584</td>\n",
       "      <td>4.043100</td>\n",
       "      <td>4.246336</td>\n",
       "      <td>4.169977</td>\n",
       "      <td>4.371510</td>\n",
       "      <td>4.188771</td>\n",
       "      <td>4.198628</td>\n",
       "      <td>4.207684</td>\n",
       "      <td>4.285752</td>\n",
       "      <td>...</td>\n",
       "      <td>4.142882</td>\n",
       "      <td>4.141814</td>\n",
       "      <td>4.208919</td>\n",
       "      <td>4.124320</td>\n",
       "      <td>4.120108</td>\n",
       "      <td>4.173207</td>\n",
       "      <td>4.126654</td>\n",
       "      <td>4.244588</td>\n",
       "      <td>4.068053</td>\n",
       "      <td>4.235420</td>\n",
       "    </tr>\n",
       "    <tr>\n",
       "      <th>AYPEPA3VS4KDM</th>\n",
       "      <td>4.444191</td>\n",
       "      <td>4.493169</td>\n",
       "      <td>4.386444</td>\n",
       "      <td>4.434290</td>\n",
       "      <td>4.418830</td>\n",
       "      <td>4.534794</td>\n",
       "      <td>4.508387</td>\n",
       "      <td>4.458355</td>\n",
       "      <td>4.528989</td>\n",
       "      <td>4.539562</td>\n",
       "      <td>...</td>\n",
       "      <td>4.370032</td>\n",
       "      <td>4.474336</td>\n",
       "      <td>4.397797</td>\n",
       "      <td>4.489982</td>\n",
       "      <td>4.398412</td>\n",
       "      <td>4.545143</td>\n",
       "      <td>4.501934</td>\n",
       "      <td>4.366331</td>\n",
       "      <td>4.506908</td>\n",
       "      <td>4.518895</td>\n",
       "    </tr>\n",
       "    <tr>\n",
       "      <th>AYPIF2S8P3RZT</th>\n",
       "      <td>3.976864</td>\n",
       "      <td>3.978276</td>\n",
       "      <td>4.023127</td>\n",
       "      <td>4.005303</td>\n",
       "      <td>4.038554</td>\n",
       "      <td>4.031910</td>\n",
       "      <td>4.039405</td>\n",
       "      <td>3.903507</td>\n",
       "      <td>3.978219</td>\n",
       "      <td>3.988074</td>\n",
       "      <td>...</td>\n",
       "      <td>4.045561</td>\n",
       "      <td>3.985846</td>\n",
       "      <td>4.047586</td>\n",
       "      <td>4.161991</td>\n",
       "      <td>4.148599</td>\n",
       "      <td>3.991894</td>\n",
       "      <td>4.056355</td>\n",
       "      <td>3.931052</td>\n",
       "      <td>3.975505</td>\n",
       "      <td>4.011024</td>\n",
       "    </tr>\n",
       "    <tr>\n",
       "      <th>AYQ14XGJODM9J</th>\n",
       "      <td>4.385706</td>\n",
       "      <td>4.294185</td>\n",
       "      <td>4.294710</td>\n",
       "      <td>4.297143</td>\n",
       "      <td>4.299605</td>\n",
       "      <td>4.245986</td>\n",
       "      <td>4.335197</td>\n",
       "      <td>4.304949</td>\n",
       "      <td>4.442818</td>\n",
       "      <td>4.323790</td>\n",
       "      <td>...</td>\n",
       "      <td>4.281656</td>\n",
       "      <td>4.403652</td>\n",
       "      <td>4.282495</td>\n",
       "      <td>4.370041</td>\n",
       "      <td>4.289815</td>\n",
       "      <td>4.225909</td>\n",
       "      <td>4.272681</td>\n",
       "      <td>4.302519</td>\n",
       "      <td>4.252424</td>\n",
       "      <td>4.319589</td>\n",
       "    </tr>\n",
       "    <tr>\n",
       "      <th>AYQQOW0VR0YF5</th>\n",
       "      <td>4.983740</td>\n",
       "      <td>4.837640</td>\n",
       "      <td>4.858554</td>\n",
       "      <td>4.780711</td>\n",
       "      <td>4.908793</td>\n",
       "      <td>4.781791</td>\n",
       "      <td>4.896791</td>\n",
       "      <td>4.802199</td>\n",
       "      <td>4.956572</td>\n",
       "      <td>4.918277</td>\n",
       "      <td>...</td>\n",
       "      <td>4.762328</td>\n",
       "      <td>4.975763</td>\n",
       "      <td>4.897613</td>\n",
       "      <td>4.834551</td>\n",
       "      <td>4.945010</td>\n",
       "      <td>4.808866</td>\n",
       "      <td>4.784623</td>\n",
       "      <td>4.827877</td>\n",
       "      <td>4.968857</td>\n",
       "      <td>4.864465</td>\n",
       "    </tr>\n",
       "    <tr>\n",
       "      <th>AYW1TGDCP2OK6</th>\n",
       "      <td>4.449070</td>\n",
       "      <td>4.586383</td>\n",
       "      <td>4.539117</td>\n",
       "      <td>4.568744</td>\n",
       "      <td>4.488208</td>\n",
       "      <td>4.501348</td>\n",
       "      <td>4.492886</td>\n",
       "      <td>4.507819</td>\n",
       "      <td>4.484707</td>\n",
       "      <td>4.442268</td>\n",
       "      <td>...</td>\n",
       "      <td>4.540164</td>\n",
       "      <td>4.498880</td>\n",
       "      <td>4.534737</td>\n",
       "      <td>4.610645</td>\n",
       "      <td>4.503215</td>\n",
       "      <td>4.571603</td>\n",
       "      <td>4.597318</td>\n",
       "      <td>4.541491</td>\n",
       "      <td>4.417022</td>\n",
       "      <td>4.590965</td>\n",
       "    </tr>\n",
       "    <tr>\n",
       "      <th>AYWUHB7N8XGZQ</th>\n",
       "      <td>4.446244</td>\n",
       "      <td>4.380944</td>\n",
       "      <td>4.319609</td>\n",
       "      <td>4.463246</td>\n",
       "      <td>4.439773</td>\n",
       "      <td>4.446165</td>\n",
       "      <td>4.413427</td>\n",
       "      <td>4.532305</td>\n",
       "      <td>4.324861</td>\n",
       "      <td>4.485331</td>\n",
       "      <td>...</td>\n",
       "      <td>4.369542</td>\n",
       "      <td>4.252804</td>\n",
       "      <td>4.547917</td>\n",
       "      <td>4.401677</td>\n",
       "      <td>4.558189</td>\n",
       "      <td>4.481152</td>\n",
       "      <td>4.442824</td>\n",
       "      <td>4.516458</td>\n",
       "      <td>4.416897</td>\n",
       "      <td>4.409856</td>\n",
       "    </tr>\n",
       "    <tr>\n",
       "      <th>AYXO4O5EQQPKE</th>\n",
       "      <td>4.562836</td>\n",
       "      <td>4.573698</td>\n",
       "      <td>4.592029</td>\n",
       "      <td>4.669544</td>\n",
       "      <td>4.670829</td>\n",
       "      <td>4.627121</td>\n",
       "      <td>4.617280</td>\n",
       "      <td>4.627780</td>\n",
       "      <td>4.574787</td>\n",
       "      <td>4.702696</td>\n",
       "      <td>...</td>\n",
       "      <td>4.487523</td>\n",
       "      <td>4.552457</td>\n",
       "      <td>4.582421</td>\n",
       "      <td>4.620642</td>\n",
       "      <td>4.604503</td>\n",
       "      <td>4.577700</td>\n",
       "      <td>4.670099</td>\n",
       "      <td>4.649595</td>\n",
       "      <td>4.645313</td>\n",
       "      <td>4.625113</td>\n",
       "    </tr>\n",
       "    <tr>\n",
       "      <th>AZ34737QMSG8Q</th>\n",
       "      <td>4.118736</td>\n",
       "      <td>4.284074</td>\n",
       "      <td>4.130028</td>\n",
       "      <td>4.285390</td>\n",
       "      <td>4.157932</td>\n",
       "      <td>4.124924</td>\n",
       "      <td>4.213078</td>\n",
       "      <td>4.310810</td>\n",
       "      <td>4.230528</td>\n",
       "      <td>4.335978</td>\n",
       "      <td>...</td>\n",
       "      <td>4.129868</td>\n",
       "      <td>4.093593</td>\n",
       "      <td>4.225694</td>\n",
       "      <td>4.150260</td>\n",
       "      <td>4.106306</td>\n",
       "      <td>4.150665</td>\n",
       "      <td>4.219628</td>\n",
       "      <td>4.140856</td>\n",
       "      <td>4.194204</td>\n",
       "      <td>4.184041</td>\n",
       "    </tr>\n",
       "    <tr>\n",
       "      <th>AZ4EUUJVC8358</th>\n",
       "      <td>4.574731</td>\n",
       "      <td>4.591421</td>\n",
       "      <td>4.605904</td>\n",
       "      <td>4.560372</td>\n",
       "      <td>4.551094</td>\n",
       "      <td>4.526788</td>\n",
       "      <td>4.524933</td>\n",
       "      <td>4.551215</td>\n",
       "      <td>4.538358</td>\n",
       "      <td>4.528996</td>\n",
       "      <td>...</td>\n",
       "      <td>4.453510</td>\n",
       "      <td>4.617039</td>\n",
       "      <td>4.593567</td>\n",
       "      <td>4.509038</td>\n",
       "      <td>4.583828</td>\n",
       "      <td>4.555998</td>\n",
       "      <td>4.505007</td>\n",
       "      <td>4.574513</td>\n",
       "      <td>4.616746</td>\n",
       "      <td>4.617884</td>\n",
       "    </tr>\n",
       "    <tr>\n",
       "      <th>AZ4T61QUJHA9E</th>\n",
       "      <td>4.579045</td>\n",
       "      <td>4.632691</td>\n",
       "      <td>4.667109</td>\n",
       "      <td>4.691859</td>\n",
       "      <td>4.750580</td>\n",
       "      <td>4.688672</td>\n",
       "      <td>4.694027</td>\n",
       "      <td>4.646830</td>\n",
       "      <td>4.633995</td>\n",
       "      <td>4.778368</td>\n",
       "      <td>...</td>\n",
       "      <td>4.632973</td>\n",
       "      <td>4.650393</td>\n",
       "      <td>4.685906</td>\n",
       "      <td>4.739880</td>\n",
       "      <td>4.732834</td>\n",
       "      <td>4.710527</td>\n",
       "      <td>4.713886</td>\n",
       "      <td>4.677490</td>\n",
       "      <td>4.699338</td>\n",
       "      <td>4.777471</td>\n",
       "    </tr>\n",
       "    <tr>\n",
       "      <th>AZ714J2PAECSR</th>\n",
       "      <td>3.756498</td>\n",
       "      <td>3.803542</td>\n",
       "      <td>3.735250</td>\n",
       "      <td>3.755003</td>\n",
       "      <td>3.836838</td>\n",
       "      <td>3.838699</td>\n",
       "      <td>3.834756</td>\n",
       "      <td>3.769598</td>\n",
       "      <td>3.789700</td>\n",
       "      <td>3.734840</td>\n",
       "      <td>...</td>\n",
       "      <td>3.773189</td>\n",
       "      <td>3.856286</td>\n",
       "      <td>3.718680</td>\n",
       "      <td>3.896646</td>\n",
       "      <td>3.721819</td>\n",
       "      <td>3.729800</td>\n",
       "      <td>3.778439</td>\n",
       "      <td>3.742512</td>\n",
       "      <td>3.744203</td>\n",
       "      <td>3.862320</td>\n",
       "    </tr>\n",
       "    <tr>\n",
       "      <th>AZ8XSDMIX04VJ</th>\n",
       "      <td>4.462097</td>\n",
       "      <td>4.591368</td>\n",
       "      <td>4.466002</td>\n",
       "      <td>4.463203</td>\n",
       "      <td>4.387453</td>\n",
       "      <td>4.430585</td>\n",
       "      <td>4.428831</td>\n",
       "      <td>4.521336</td>\n",
       "      <td>4.476095</td>\n",
       "      <td>4.447203</td>\n",
       "      <td>...</td>\n",
       "      <td>4.473540</td>\n",
       "      <td>4.413543</td>\n",
       "      <td>4.583097</td>\n",
       "      <td>4.462218</td>\n",
       "      <td>4.436029</td>\n",
       "      <td>4.452398</td>\n",
       "      <td>4.465112</td>\n",
       "      <td>4.463216</td>\n",
       "      <td>4.442345</td>\n",
       "      <td>4.387703</td>\n",
       "    </tr>\n",
       "    <tr>\n",
       "      <th>AZ9OSRM9DHJU3</th>\n",
       "      <td>4.490265</td>\n",
       "      <td>4.387762</td>\n",
       "      <td>4.454421</td>\n",
       "      <td>4.510244</td>\n",
       "      <td>4.504767</td>\n",
       "      <td>4.484240</td>\n",
       "      <td>4.527528</td>\n",
       "      <td>4.480975</td>\n",
       "      <td>4.595465</td>\n",
       "      <td>4.514133</td>\n",
       "      <td>...</td>\n",
       "      <td>4.417452</td>\n",
       "      <td>4.539200</td>\n",
       "      <td>4.484645</td>\n",
       "      <td>4.542753</td>\n",
       "      <td>4.401307</td>\n",
       "      <td>4.313876</td>\n",
       "      <td>4.518100</td>\n",
       "      <td>4.464423</td>\n",
       "      <td>4.440717</td>\n",
       "      <td>4.525698</td>\n",
       "    </tr>\n",
       "    <tr>\n",
       "      <th>AZAC8O310IK4E</th>\n",
       "      <td>4.303475</td>\n",
       "      <td>4.208515</td>\n",
       "      <td>4.345569</td>\n",
       "      <td>4.303040</td>\n",
       "      <td>4.271136</td>\n",
       "      <td>4.207257</td>\n",
       "      <td>4.354476</td>\n",
       "      <td>4.356771</td>\n",
       "      <td>4.314882</td>\n",
       "      <td>4.266737</td>\n",
       "      <td>...</td>\n",
       "      <td>4.355539</td>\n",
       "      <td>4.272677</td>\n",
       "      <td>4.370975</td>\n",
       "      <td>4.409176</td>\n",
       "      <td>4.395835</td>\n",
       "      <td>4.394196</td>\n",
       "      <td>4.428082</td>\n",
       "      <td>4.308364</td>\n",
       "      <td>4.176539</td>\n",
       "      <td>4.384123</td>\n",
       "    </tr>\n",
       "    <tr>\n",
       "      <th>AZIS8K2M1HYPJ</th>\n",
       "      <td>4.576858</td>\n",
       "      <td>4.622918</td>\n",
       "      <td>4.533546</td>\n",
       "      <td>4.634033</td>\n",
       "      <td>4.587088</td>\n",
       "      <td>4.598759</td>\n",
       "      <td>4.576133</td>\n",
       "      <td>4.560056</td>\n",
       "      <td>4.533409</td>\n",
       "      <td>4.554701</td>\n",
       "      <td>...</td>\n",
       "      <td>4.471071</td>\n",
       "      <td>4.599540</td>\n",
       "      <td>4.536155</td>\n",
       "      <td>4.588801</td>\n",
       "      <td>4.572251</td>\n",
       "      <td>4.597822</td>\n",
       "      <td>4.521416</td>\n",
       "      <td>4.600252</td>\n",
       "      <td>4.570915</td>\n",
       "      <td>4.553928</td>\n",
       "    </tr>\n",
       "    <tr>\n",
       "      <th>AZJPNK73JF3XP</th>\n",
       "      <td>4.605381</td>\n",
       "      <td>4.416032</td>\n",
       "      <td>4.560858</td>\n",
       "      <td>4.539067</td>\n",
       "      <td>4.522026</td>\n",
       "      <td>4.533081</td>\n",
       "      <td>4.614537</td>\n",
       "      <td>4.522747</td>\n",
       "      <td>4.620014</td>\n",
       "      <td>4.501201</td>\n",
       "      <td>...</td>\n",
       "      <td>4.427240</td>\n",
       "      <td>4.480235</td>\n",
       "      <td>4.390727</td>\n",
       "      <td>4.444450</td>\n",
       "      <td>4.507443</td>\n",
       "      <td>4.545520</td>\n",
       "      <td>4.554158</td>\n",
       "      <td>4.452762</td>\n",
       "      <td>4.516817</td>\n",
       "      <td>4.547715</td>\n",
       "    </tr>\n",
       "    <tr>\n",
       "      <th>AZMY6E8B52L2T</th>\n",
       "      <td>4.825306</td>\n",
       "      <td>4.739977</td>\n",
       "      <td>4.765010</td>\n",
       "      <td>4.796962</td>\n",
       "      <td>4.749801</td>\n",
       "      <td>4.758527</td>\n",
       "      <td>4.713889</td>\n",
       "      <td>4.780644</td>\n",
       "      <td>4.820302</td>\n",
       "      <td>4.825479</td>\n",
       "      <td>...</td>\n",
       "      <td>4.742326</td>\n",
       "      <td>4.819423</td>\n",
       "      <td>4.873268</td>\n",
       "      <td>4.707515</td>\n",
       "      <td>4.791883</td>\n",
       "      <td>4.757071</td>\n",
       "      <td>4.760334</td>\n",
       "      <td>4.723495</td>\n",
       "      <td>4.814544</td>\n",
       "      <td>4.754277</td>\n",
       "    </tr>\n",
       "    <tr>\n",
       "      <th>AZNUHQSHZHSUE</th>\n",
       "      <td>4.067693</td>\n",
       "      <td>4.062889</td>\n",
       "      <td>4.061156</td>\n",
       "      <td>4.176589</td>\n",
       "      <td>4.119303</td>\n",
       "      <td>4.037021</td>\n",
       "      <td>4.092652</td>\n",
       "      <td>4.191612</td>\n",
       "      <td>4.082988</td>\n",
       "      <td>4.033349</td>\n",
       "      <td>...</td>\n",
       "      <td>3.969801</td>\n",
       "      <td>4.029414</td>\n",
       "      <td>4.087632</td>\n",
       "      <td>4.143478</td>\n",
       "      <td>4.115648</td>\n",
       "      <td>4.158187</td>\n",
       "      <td>4.141334</td>\n",
       "      <td>4.085520</td>\n",
       "      <td>4.054793</td>\n",
       "      <td>4.117470</td>\n",
       "    </tr>\n",
       "    <tr>\n",
       "      <th>AZV26LP92E6WU</th>\n",
       "      <td>4.807977</td>\n",
       "      <td>4.769218</td>\n",
       "      <td>4.878820</td>\n",
       "      <td>4.820413</td>\n",
       "      <td>4.769117</td>\n",
       "      <td>4.653180</td>\n",
       "      <td>4.795317</td>\n",
       "      <td>4.761589</td>\n",
       "      <td>4.666702</td>\n",
       "      <td>4.637733</td>\n",
       "      <td>...</td>\n",
       "      <td>4.714092</td>\n",
       "      <td>4.712155</td>\n",
       "      <td>4.705766</td>\n",
       "      <td>4.856653</td>\n",
       "      <td>4.793862</td>\n",
       "      <td>4.759894</td>\n",
       "      <td>4.909711</td>\n",
       "      <td>4.674190</td>\n",
       "      <td>4.758129</td>\n",
       "      <td>4.834692</td>\n",
       "    </tr>\n",
       "    <tr>\n",
       "      <th>AZV2U6GU5QA6C</th>\n",
       "      <td>4.490410</td>\n",
       "      <td>4.549627</td>\n",
       "      <td>4.352941</td>\n",
       "      <td>4.606204</td>\n",
       "      <td>4.478983</td>\n",
       "      <td>4.523869</td>\n",
       "      <td>4.409898</td>\n",
       "      <td>4.475946</td>\n",
       "      <td>4.563600</td>\n",
       "      <td>4.576930</td>\n",
       "      <td>...</td>\n",
       "      <td>4.530678</td>\n",
       "      <td>4.355554</td>\n",
       "      <td>4.602475</td>\n",
       "      <td>4.489952</td>\n",
       "      <td>4.578350</td>\n",
       "      <td>4.468253</td>\n",
       "      <td>4.516630</td>\n",
       "      <td>4.430213</td>\n",
       "      <td>4.508323</td>\n",
       "      <td>4.548175</td>\n",
       "    </tr>\n",
       "    <tr>\n",
       "      <th>AZZRRYBQG57LF</th>\n",
       "      <td>4.631625</td>\n",
       "      <td>4.620312</td>\n",
       "      <td>4.587029</td>\n",
       "      <td>4.695837</td>\n",
       "      <td>4.697796</td>\n",
       "      <td>4.723978</td>\n",
       "      <td>4.649957</td>\n",
       "      <td>4.648765</td>\n",
       "      <td>4.796305</td>\n",
       "      <td>4.747109</td>\n",
       "      <td>...</td>\n",
       "      <td>4.658843</td>\n",
       "      <td>4.680862</td>\n",
       "      <td>4.734495</td>\n",
       "      <td>4.662309</td>\n",
       "      <td>4.609812</td>\n",
       "      <td>4.643376</td>\n",
       "      <td>4.655996</td>\n",
       "      <td>4.613131</td>\n",
       "      <td>4.683107</td>\n",
       "      <td>4.713884</td>\n",
       "    </tr>\n",
       "  </tbody>\n",
       "</table>\n",
       "<p>2616 rows × 6412 columns</p>\n",
       "</div>"
      ],
      "text/plain": [
       "asin            0912696591  B00000JGRP  B00000JGRQ  B00000JGRT  B00002N5FO  \\\n",
       "reviewerID                                                                   \n",
       "A100L918633LUO    4.712778    4.720787    4.684123    4.731153    4.758113   \n",
       "A100UD67AHFODS    4.393058    4.527663    4.445762    4.502845    4.531504   \n",
       "A100WO06OQR8BQ    4.452738    4.455211    4.370543    4.437977    4.394339   \n",
       "A1027WM3PXKVMR    4.243104    4.273081    4.235359    4.159206    4.228248   \n",
       "A103BJIOJSDJL1    4.342929    4.384886    4.331611    4.315296    4.222723   \n",
       "A1047EDJ84IMAS    4.734267    4.804518    4.813634    4.711974    4.713305   \n",
       "A109ORALRL16KR    4.907437    4.864525    4.794625    4.849918    4.863683   \n",
       "A10AFVU66A79Y1    4.555897    4.471518    4.461660    4.519943    4.501514   \n",
       "A10BGNHGWPN7ZE    4.305171    4.361792    4.170792    4.389750    4.395726   \n",
       "A10CRW7XRJBJ2G    3.735467    3.659158    3.724685    3.646683    3.659549   \n",
       "A10FL3TBQ7TI48    4.239830    4.369734    4.331740    4.383258    4.293828   \n",
       "A10IXPDL5AXRUN    4.705145    4.784166    4.652052    4.762853    4.783304   \n",
       "A10K7QBLLN6VLE    3.940223    4.031497    3.916870    3.913258    3.982002   \n",
       "A10NIZTEOWKX5N    4.639696    4.708497    4.689726    4.695340    4.719374   \n",
       "A10NMELR4KX0J6    4.588894    4.533534    4.483965    4.507697    4.493515   \n",
       "A10PEXB6XAQ5XF    4.466546    4.441894    4.419417    4.493252    4.419279   \n",
       "A10QUY14I0ZYFL    4.011602    3.917251    3.912227    3.977283    3.890109   \n",
       "A10T7C2Y6O3MO2    4.179448    4.177013    4.206248    4.163840    4.195039   \n",
       "A10Y058K7B96C6    4.369174    4.301620    4.340484    4.320358    4.235200   \n",
       "A10ZBR6O8S8OCY    4.412497    4.398052    4.374774    4.426419    4.452304   \n",
       "A10ZFE6YE0UHW8    3.890444    3.969044    3.988329    3.919251    3.825520   \n",
       "A10ZX30O697DNH    4.458301    4.388301    4.385633    4.459153    4.372073   \n",
       "A1115ST6F5CWYP    4.635737    4.669989    4.498991    4.529799    4.510319   \n",
       "A111PH76SCPYCK    4.231146    4.233143    4.183245    4.251354    4.176112   \n",
       "A117FYENI6RSPP    4.159704    4.306286    4.304938    4.232188    4.219026   \n",
       "A11C2FBX83TS07    4.434418    4.375998    4.471713    4.394363    4.565550   \n",
       "A11C2ZX984GQW6    3.914974    3.894360    3.929397    3.919845    3.913694   \n",
       "A11ED8O95W2103    4.063242    4.143540    4.039293    4.028865    4.073542   \n",
       "A11EKF3LXOYUMH    4.610671    4.553905    4.539780    4.543234    4.513435   \n",
       "A11FX8HL2ANK6T    4.543009    4.556728    4.587390    4.470011    4.561837   \n",
       "...                    ...         ...         ...         ...         ...   \n",
       "AYB4ELCS5AM8P     4.717239    4.656228    4.659128    4.650471    4.706718   \n",
       "AYB8XLKTYMTTX     4.249996    4.400568    4.361378    4.397235    4.323426   \n",
       "AYBAN0FHB1N57     4.688639    4.586374    4.592670    4.539535    4.525078   \n",
       "AYGJ96W5KQMUJ     4.364512    4.361446    4.327231    4.249179    4.237803   \n",
       "AYI6ZBGMR1TJY     4.676313    4.667495    4.687181    4.605789    4.682707   \n",
       "AYIVP2Q1XP3H8     4.402273    4.538804    4.499254    4.526103    4.427374   \n",
       "AYNRALJ4X1COS     3.419631    3.394099    3.573423    3.492300    3.573427   \n",
       "AYO2UHZB29UIU     4.651520    4.556523    4.473032    4.515517    4.539056   \n",
       "AYOMAHLWRQHUG     4.180181    4.187584    4.043100    4.246336    4.169977   \n",
       "AYPEPA3VS4KDM     4.444191    4.493169    4.386444    4.434290    4.418830   \n",
       "AYPIF2S8P3RZT     3.976864    3.978276    4.023127    4.005303    4.038554   \n",
       "AYQ14XGJODM9J     4.385706    4.294185    4.294710    4.297143    4.299605   \n",
       "AYQQOW0VR0YF5     4.983740    4.837640    4.858554    4.780711    4.908793   \n",
       "AYW1TGDCP2OK6     4.449070    4.586383    4.539117    4.568744    4.488208   \n",
       "AYWUHB7N8XGZQ     4.446244    4.380944    4.319609    4.463246    4.439773   \n",
       "AYXO4O5EQQPKE     4.562836    4.573698    4.592029    4.669544    4.670829   \n",
       "AZ34737QMSG8Q     4.118736    4.284074    4.130028    4.285390    4.157932   \n",
       "AZ4EUUJVC8358     4.574731    4.591421    4.605904    4.560372    4.551094   \n",
       "AZ4T61QUJHA9E     4.579045    4.632691    4.667109    4.691859    4.750580   \n",
       "AZ714J2PAECSR     3.756498    3.803542    3.735250    3.755003    3.836838   \n",
       "AZ8XSDMIX04VJ     4.462097    4.591368    4.466002    4.463203    4.387453   \n",
       "AZ9OSRM9DHJU3     4.490265    4.387762    4.454421    4.510244    4.504767   \n",
       "AZAC8O310IK4E     4.303475    4.208515    4.345569    4.303040    4.271136   \n",
       "AZIS8K2M1HYPJ     4.576858    4.622918    4.533546    4.634033    4.587088   \n",
       "AZJPNK73JF3XP     4.605381    4.416032    4.560858    4.539067    4.522026   \n",
       "AZMY6E8B52L2T     4.825306    4.739977    4.765010    4.796962    4.749801   \n",
       "AZNUHQSHZHSUE     4.067693    4.062889    4.061156    4.176589    4.119303   \n",
       "AZV26LP92E6WU     4.807977    4.769218    4.878820    4.820413    4.769117   \n",
       "AZV2U6GU5QA6C     4.490410    4.549627    4.352941    4.606204    4.478983   \n",
       "AZZRRYBQG57LF     4.631625    4.620312    4.587029    4.695837    4.697796   \n",
       "\n",
       "asin            B00002N5Z9  B00002N5ZB  B00002N601  B00002N602  B00002N6SQ  \\\n",
       "reviewerID                                                                   \n",
       "A100L918633LUO    4.728521    4.772734    4.819275    4.741743    4.759007   \n",
       "A100UD67AHFODS    4.346331    4.455246    4.461611    4.492466    4.451430   \n",
       "A100WO06OQR8BQ    4.467752    4.471571    4.443723    4.500830    4.461439   \n",
       "A1027WM3PXKVMR    4.355129    4.248013    4.198104    4.181918    4.275870   \n",
       "A103BJIOJSDJL1    4.352473    4.295451    4.312055    4.246754    4.345901   \n",
       "A1047EDJ84IMAS    4.791892    4.801996    4.699626    4.712493    4.657079   \n",
       "A109ORALRL16KR    4.888762    4.823347    4.819542    4.847762    4.871924   \n",
       "A10AFVU66A79Y1    4.530997    4.555688    4.554747    4.545213    4.509447   \n",
       "A10BGNHGWPN7ZE    4.348132    4.223840    4.236911    4.479441    4.314418   \n",
       "A10CRW7XRJBJ2G    3.638092    3.657197    3.569859    3.661378    3.568167   \n",
       "A10FL3TBQ7TI48    4.324256    4.372760    4.347399    4.146697    4.332334   \n",
       "A10IXPDL5AXRUN    4.778720    4.781534    4.797659    4.688084    4.816433   \n",
       "A10K7QBLLN6VLE    4.035671    3.927601    3.953449    3.858260    3.895240   \n",
       "A10NIZTEOWKX5N    4.745855    4.735980    4.602894    4.660676    4.729248   \n",
       "A10NMELR4KX0J6    4.575533    4.521936    4.592755    4.637657    4.529540   \n",
       "A10PEXB6XAQ5XF    4.520964    4.518004    4.525982    4.432922    4.445251   \n",
       "A10QUY14I0ZYFL    3.893682    3.941267    4.107308    4.065766    4.036883   \n",
       "A10T7C2Y6O3MO2    4.233528    4.236045    4.249618    4.185713    4.136817   \n",
       "A10Y058K7B96C6    4.263813    4.377538    4.266016    4.373589    4.206435   \n",
       "A10ZBR6O8S8OCY    4.466583    4.433347    4.354345    4.350842    4.409963   \n",
       "A10ZFE6YE0UHW8    3.902678    3.875641    3.862371    3.935174    3.815655   \n",
       "A10ZX30O697DNH    4.451413    4.458134    4.489258    4.359157    4.430550   \n",
       "A1115ST6F5CWYP    4.607305    4.565434    4.574701    4.552011    4.573366   \n",
       "A111PH76SCPYCK    4.310878    4.200429    4.239867    4.280393    4.171221   \n",
       "A117FYENI6RSPP    4.368997    4.332862    4.196406    4.221747    4.314331   \n",
       "A11C2FBX83TS07    4.481729    4.573380    4.442634    4.510719    4.485071   \n",
       "A11C2ZX984GQW6    3.937474    3.929402    3.883932    3.938826    3.770255   \n",
       "A11ED8O95W2103    4.019667    4.018546    3.888638    4.199265    4.020336   \n",
       "A11EKF3LXOYUMH    4.551973    4.603814    4.521264    4.621185    4.513918   \n",
       "A11FX8HL2ANK6T    4.541834    4.612639    4.464469    4.564633    4.570581   \n",
       "...                    ...         ...         ...         ...         ...   \n",
       "AYB4ELCS5AM8P     4.763714    4.719547    4.686262    4.706707    4.728362   \n",
       "AYB8XLKTYMTTX     4.363587    4.281330    4.314026    4.344702    4.336772   \n",
       "AYBAN0FHB1N57     4.537204    4.589001    4.633334    4.518810    4.414511   \n",
       "AYGJ96W5KQMUJ     4.348027    4.312555    4.217745    4.382650    4.299129   \n",
       "AYI6ZBGMR1TJY     4.633534    4.633833    4.670457    4.436396    4.495378   \n",
       "AYIVP2Q1XP3H8     4.487148    4.494159    4.511334    4.438471    4.550064   \n",
       "AYNRALJ4X1COS     3.503890    3.546209    3.478422    3.498314    3.391249   \n",
       "AYO2UHZB29UIU     4.685604    4.537602    4.531832    4.622151    4.528857   \n",
       "AYOMAHLWRQHUG     4.371510    4.188771    4.198628    4.207684    4.285752   \n",
       "AYPEPA3VS4KDM     4.534794    4.508387    4.458355    4.528989    4.539562   \n",
       "AYPIF2S8P3RZT     4.031910    4.039405    3.903507    3.978219    3.988074   \n",
       "AYQ14XGJODM9J     4.245986    4.335197    4.304949    4.442818    4.323790   \n",
       "AYQQOW0VR0YF5     4.781791    4.896791    4.802199    4.956572    4.918277   \n",
       "AYW1TGDCP2OK6     4.501348    4.492886    4.507819    4.484707    4.442268   \n",
       "AYWUHB7N8XGZQ     4.446165    4.413427    4.532305    4.324861    4.485331   \n",
       "AYXO4O5EQQPKE     4.627121    4.617280    4.627780    4.574787    4.702696   \n",
       "AZ34737QMSG8Q     4.124924    4.213078    4.310810    4.230528    4.335978   \n",
       "AZ4EUUJVC8358     4.526788    4.524933    4.551215    4.538358    4.528996   \n",
       "AZ4T61QUJHA9E     4.688672    4.694027    4.646830    4.633995    4.778368   \n",
       "AZ714J2PAECSR     3.838699    3.834756    3.769598    3.789700    3.734840   \n",
       "AZ8XSDMIX04VJ     4.430585    4.428831    4.521336    4.476095    4.447203   \n",
       "AZ9OSRM9DHJU3     4.484240    4.527528    4.480975    4.595465    4.514133   \n",
       "AZAC8O310IK4E     4.207257    4.354476    4.356771    4.314882    4.266737   \n",
       "AZIS8K2M1HYPJ     4.598759    4.576133    4.560056    4.533409    4.554701   \n",
       "AZJPNK73JF3XP     4.533081    4.614537    4.522747    4.620014    4.501201   \n",
       "AZMY6E8B52L2T     4.758527    4.713889    4.780644    4.820302    4.825479   \n",
       "AZNUHQSHZHSUE     4.037021    4.092652    4.191612    4.082988    4.033349   \n",
       "AZV26LP92E6WU     4.653180    4.795317    4.761589    4.666702    4.637733   \n",
       "AZV2U6GU5QA6C     4.523869    4.409898    4.475946    4.563600    4.576930   \n",
       "AZZRRYBQG57LF     4.723978    4.649957    4.648765    4.796305    4.747109   \n",
       "\n",
       "asin               ...      B00GEGHNZE  B00GSXFKYY  B00GTCAY04  B00H1HYZ9C  \\\n",
       "reviewerID         ...                                                       \n",
       "A100L918633LUO     ...        4.710624    4.710276    4.855063    4.733020   \n",
       "A100UD67AHFODS     ...        4.379511    4.492547    4.467022    4.463040   \n",
       "A100WO06OQR8BQ     ...        4.387178    4.632111    4.306518    4.340388   \n",
       "A1027WM3PXKVMR     ...        4.176298    4.271494    4.262161    4.293165   \n",
       "A103BJIOJSDJL1     ...        4.351634    4.293499    4.266403    4.269206   \n",
       "A1047EDJ84IMAS     ...        4.634248    4.772486    4.789941    4.707832   \n",
       "A109ORALRL16KR     ...        4.827188    4.851565    4.831390    4.843659   \n",
       "A10AFVU66A79Y1     ...        4.535432    4.527512    4.427311    4.499377   \n",
       "A10BGNHGWPN7ZE     ...        4.326849    4.327137    4.367811    4.264108   \n",
       "A10CRW7XRJBJ2G     ...        3.589635    3.703062    3.688652    3.637306   \n",
       "A10FL3TBQ7TI48     ...        4.228004    4.241297    4.265443    4.424784   \n",
       "A10IXPDL5AXRUN     ...        4.600819    4.625940    4.790647    4.794839   \n",
       "A10K7QBLLN6VLE     ...        3.876197    3.916273    3.982024    3.936183   \n",
       "A10NIZTEOWKX5N     ...        4.658530    4.686295    4.653828    4.787040   \n",
       "A10NMELR4KX0J6     ...        4.457790    4.435293    4.522808    4.493282   \n",
       "A10PEXB6XAQ5XF     ...        4.488944    4.419719    4.424028    4.462767   \n",
       "A10QUY14I0ZYFL     ...        3.780298    3.910062    4.015790    3.792557   \n",
       "A10T7C2Y6O3MO2     ...        4.194812    4.158079    4.216061    4.238300   \n",
       "A10Y058K7B96C6     ...        4.164138    4.374399    4.171315    4.270043   \n",
       "A10ZBR6O8S8OCY     ...        4.403659    4.432893    4.397634    4.344985   \n",
       "A10ZFE6YE0UHW8     ...        3.807632    4.043242    4.001310    3.889721   \n",
       "A10ZX30O697DNH     ...        4.383810    4.359265    4.369838    4.402358   \n",
       "A1115ST6F5CWYP     ...        4.619427    4.556219    4.762014    4.543377   \n",
       "A111PH76SCPYCK     ...        4.107825    4.181602    4.248411    3.965306   \n",
       "A117FYENI6RSPP     ...        4.238272    4.285120    4.320052    4.318412   \n",
       "A11C2FBX83TS07     ...        4.430274    4.508727    4.462066    4.490042   \n",
       "A11C2ZX984GQW6     ...        3.973794    3.939650    3.981566    3.874205   \n",
       "A11ED8O95W2103     ...        4.072079    4.118148    4.130008    4.098692   \n",
       "A11EKF3LXOYUMH     ...        4.576435    4.651860    4.539934    4.548142   \n",
       "A11FX8HL2ANK6T     ...        4.502014    4.639084    4.573720    4.488453   \n",
       "...                ...             ...         ...         ...         ...   \n",
       "AYB4ELCS5AM8P      ...        4.580028    4.678167    4.744945    4.566326   \n",
       "AYB8XLKTYMTTX      ...        4.367047    4.347827    4.349543    4.286975   \n",
       "AYBAN0FHB1N57      ...        4.501734    4.579792    4.436390    4.634895   \n",
       "AYGJ96W5KQMUJ      ...        4.273941    4.414583    4.315789    4.256190   \n",
       "AYI6ZBGMR1TJY      ...        4.666670    4.673208    4.566521    4.664282   \n",
       "AYIVP2Q1XP3H8      ...        4.313892    4.478535    4.382570    4.459447   \n",
       "AYNRALJ4X1COS      ...        3.457261    3.546118    3.531478    3.520898   \n",
       "AYO2UHZB29UIU      ...        4.509555    4.499080    4.578135    4.525792   \n",
       "AYOMAHLWRQHUG      ...        4.142882    4.141814    4.208919    4.124320   \n",
       "AYPEPA3VS4KDM      ...        4.370032    4.474336    4.397797    4.489982   \n",
       "AYPIF2S8P3RZT      ...        4.045561    3.985846    4.047586    4.161991   \n",
       "AYQ14XGJODM9J      ...        4.281656    4.403652    4.282495    4.370041   \n",
       "AYQQOW0VR0YF5      ...        4.762328    4.975763    4.897613    4.834551   \n",
       "AYW1TGDCP2OK6      ...        4.540164    4.498880    4.534737    4.610645   \n",
       "AYWUHB7N8XGZQ      ...        4.369542    4.252804    4.547917    4.401677   \n",
       "AYXO4O5EQQPKE      ...        4.487523    4.552457    4.582421    4.620642   \n",
       "AZ34737QMSG8Q      ...        4.129868    4.093593    4.225694    4.150260   \n",
       "AZ4EUUJVC8358      ...        4.453510    4.617039    4.593567    4.509038   \n",
       "AZ4T61QUJHA9E      ...        4.632973    4.650393    4.685906    4.739880   \n",
       "AZ714J2PAECSR      ...        3.773189    3.856286    3.718680    3.896646   \n",
       "AZ8XSDMIX04VJ      ...        4.473540    4.413543    4.583097    4.462218   \n",
       "AZ9OSRM9DHJU3      ...        4.417452    4.539200    4.484645    4.542753   \n",
       "AZAC8O310IK4E      ...        4.355539    4.272677    4.370975    4.409176   \n",
       "AZIS8K2M1HYPJ      ...        4.471071    4.599540    4.536155    4.588801   \n",
       "AZJPNK73JF3XP      ...        4.427240    4.480235    4.390727    4.444450   \n",
       "AZMY6E8B52L2T      ...        4.742326    4.819423    4.873268    4.707515   \n",
       "AZNUHQSHZHSUE      ...        3.969801    4.029414    4.087632    4.143478   \n",
       "AZV26LP92E6WU      ...        4.714092    4.712155    4.705766    4.856653   \n",
       "AZV2U6GU5QA6C      ...        4.530678    4.355554    4.602475    4.489952   \n",
       "AZZRRYBQG57LF      ...        4.658843    4.680862    4.734495    4.662309   \n",
       "\n",
       "asin            B00H1OUSD2  B00H5EZ982  B00H5F3GRW  B00I4V1U06  B00JM3VFVE  \\\n",
       "reviewerID                                                                   \n",
       "A100L918633LUO    4.840132    4.669774    4.720392    4.675939    4.856181   \n",
       "A100UD67AHFODS    4.396639    4.368553    4.359447    4.567949    4.444685   \n",
       "A100WO06OQR8BQ    4.302107    4.326197    4.312329    4.543681    4.423565   \n",
       "A1027WM3PXKVMR    4.283719    4.304308    4.193339    4.295702    4.228603   \n",
       "A103BJIOJSDJL1    4.320709    4.385358    4.310935    4.275121    4.287373   \n",
       "A1047EDJ84IMAS    4.777298    4.746065    4.633102    4.765954    4.671468   \n",
       "A109ORALRL16KR    4.839724    4.950619    4.853531    4.791336    4.858031   \n",
       "A10AFVU66A79Y1    4.486114    4.475781    4.595836    4.515595    4.473366   \n",
       "A10BGNHGWPN7ZE    4.245845    4.339902    4.187520    4.320978    4.284521   \n",
       "A10CRW7XRJBJ2G    3.630987    3.705313    3.594895    3.524165    3.600503   \n",
       "A10FL3TBQ7TI48    4.365276    4.362731    4.392165    4.247653    4.296734   \n",
       "A10IXPDL5AXRUN    4.863758    4.829146    4.773532    4.748100    4.726644   \n",
       "A10K7QBLLN6VLE    3.963642    3.885573    3.904504    3.945191    3.999145   \n",
       "A10NIZTEOWKX5N    4.721667    4.737479    4.703417    4.685289    4.672522   \n",
       "A10NMELR4KX0J6    4.473948    4.519917    4.506021    4.450854    4.583948   \n",
       "A10PEXB6XAQ5XF    4.505718    4.554553    4.609541    4.505999    4.481534   \n",
       "A10QUY14I0ZYFL    3.925862    3.915201    3.839871    3.928679    3.985421   \n",
       "A10T7C2Y6O3MO2    4.207224    4.283635    4.299182    4.133651    4.128860   \n",
       "A10Y058K7B96C6    4.235910    4.222413    4.262723    4.298589    4.357627   \n",
       "A10ZBR6O8S8OCY    4.438147    4.403036    4.426954    4.468121    4.452092   \n",
       "A10ZFE6YE0UHW8    3.855653    3.849657    3.806217    3.954758    3.907975   \n",
       "A10ZX30O697DNH    4.378032    4.284554    4.334512    4.312745    4.387777   \n",
       "A1115ST6F5CWYP    4.686329    4.547807    4.487107    4.593586    4.546665   \n",
       "A111PH76SCPYCK    4.127749    4.209816    4.126355    4.258186    4.334169   \n",
       "A117FYENI6RSPP    4.291187    4.373071    4.231047    4.317967    4.182427   \n",
       "A11C2FBX83TS07    4.484419    4.452635    4.449643    4.488433    4.512972   \n",
       "A11C2ZX984GQW6    3.863557    3.739439    3.858539    3.846085    3.934319   \n",
       "A11ED8O95W2103    4.032334    4.114261    4.041681    4.021220    4.068318   \n",
       "A11EKF3LXOYUMH    4.577679    4.611237    4.471343    4.590790    4.507392   \n",
       "A11FX8HL2ANK6T    4.521223    4.698137    4.535681    4.602290    4.551118   \n",
       "...                    ...         ...         ...         ...         ...   \n",
       "AYB4ELCS5AM8P     4.721427    4.642564    4.602545    4.742472    4.723271   \n",
       "AYB8XLKTYMTTX     4.322255    4.395839    4.379193    4.366097    4.448405   \n",
       "AYBAN0FHB1N57     4.560678    4.615541    4.622117    4.528515    4.578958   \n",
       "AYGJ96W5KQMUJ     4.351823    4.338761    4.270889    4.362754    4.296355   \n",
       "AYI6ZBGMR1TJY     4.622419    4.708150    4.637462    4.681908    4.617053   \n",
       "AYIVP2Q1XP3H8     4.468117    4.535739    4.432797    4.431423    4.551584   \n",
       "AYNRALJ4X1COS     3.558906    3.521871    3.570650    3.598650    3.579828   \n",
       "AYO2UHZB29UIU     4.623336    4.567574    4.578738    4.473359    4.675932   \n",
       "AYOMAHLWRQHUG     4.120108    4.173207    4.126654    4.244588    4.068053   \n",
       "AYPEPA3VS4KDM     4.398412    4.545143    4.501934    4.366331    4.506908   \n",
       "AYPIF2S8P3RZT     4.148599    3.991894    4.056355    3.931052    3.975505   \n",
       "AYQ14XGJODM9J     4.289815    4.225909    4.272681    4.302519    4.252424   \n",
       "AYQQOW0VR0YF5     4.945010    4.808866    4.784623    4.827877    4.968857   \n",
       "AYW1TGDCP2OK6     4.503215    4.571603    4.597318    4.541491    4.417022   \n",
       "AYWUHB7N8XGZQ     4.558189    4.481152    4.442824    4.516458    4.416897   \n",
       "AYXO4O5EQQPKE     4.604503    4.577700    4.670099    4.649595    4.645313   \n",
       "AZ34737QMSG8Q     4.106306    4.150665    4.219628    4.140856    4.194204   \n",
       "AZ4EUUJVC8358     4.583828    4.555998    4.505007    4.574513    4.616746   \n",
       "AZ4T61QUJHA9E     4.732834    4.710527    4.713886    4.677490    4.699338   \n",
       "AZ714J2PAECSR     3.721819    3.729800    3.778439    3.742512    3.744203   \n",
       "AZ8XSDMIX04VJ     4.436029    4.452398    4.465112    4.463216    4.442345   \n",
       "AZ9OSRM9DHJU3     4.401307    4.313876    4.518100    4.464423    4.440717   \n",
       "AZAC8O310IK4E     4.395835    4.394196    4.428082    4.308364    4.176539   \n",
       "AZIS8K2M1HYPJ     4.572251    4.597822    4.521416    4.600252    4.570915   \n",
       "AZJPNK73JF3XP     4.507443    4.545520    4.554158    4.452762    4.516817   \n",
       "AZMY6E8B52L2T     4.791883    4.757071    4.760334    4.723495    4.814544   \n",
       "AZNUHQSHZHSUE     4.115648    4.158187    4.141334    4.085520    4.054793   \n",
       "AZV26LP92E6WU     4.793862    4.759894    4.909711    4.674190    4.758129   \n",
       "AZV2U6GU5QA6C     4.578350    4.468253    4.516630    4.430213    4.508323   \n",
       "AZZRRYBQG57LF     4.609812    4.643376    4.655996    4.613131    4.683107   \n",
       "\n",
       "asin            B00KQJ42CW  \n",
       "reviewerID                  \n",
       "A100L918633LUO    4.818595  \n",
       "A100UD67AHFODS    4.476456  \n",
       "A100WO06OQR8BQ    4.340404  \n",
       "A1027WM3PXKVMR    4.279048  \n",
       "A103BJIOJSDJL1    4.283733  \n",
       "A1047EDJ84IMAS    4.717450  \n",
       "A109ORALRL16KR    4.855475  \n",
       "A10AFVU66A79Y1    4.539866  \n",
       "A10BGNHGWPN7ZE    4.372009  \n",
       "A10CRW7XRJBJ2G    3.697112  \n",
       "A10FL3TBQ7TI48    4.374147  \n",
       "A10IXPDL5AXRUN    4.716130  \n",
       "A10K7QBLLN6VLE    3.963565  \n",
       "A10NIZTEOWKX5N    4.709677  \n",
       "A10NMELR4KX0J6    4.528918  \n",
       "A10PEXB6XAQ5XF    4.428529  \n",
       "A10QUY14I0ZYFL    3.896465  \n",
       "A10T7C2Y6O3MO2    4.304278  \n",
       "A10Y058K7B96C6    4.243132  \n",
       "A10ZBR6O8S8OCY    4.479010  \n",
       "A10ZFE6YE0UHW8    3.885667  \n",
       "A10ZX30O697DNH    4.363087  \n",
       "A1115ST6F5CWYP    4.674789  \n",
       "A111PH76SCPYCK    4.047967  \n",
       "A117FYENI6RSPP    4.240834  \n",
       "A11C2FBX83TS07    4.470333  \n",
       "A11C2ZX984GQW6    3.925213  \n",
       "A11ED8O95W2103    4.081184  \n",
       "A11EKF3LXOYUMH    4.537500  \n",
       "A11FX8HL2ANK6T    4.487314  \n",
       "...                    ...  \n",
       "AYB4ELCS5AM8P     4.670347  \n",
       "AYB8XLKTYMTTX     4.340229  \n",
       "AYBAN0FHB1N57     4.553565  \n",
       "AYGJ96W5KQMUJ     4.280155  \n",
       "AYI6ZBGMR1TJY     4.651331  \n",
       "AYIVP2Q1XP3H8     4.369384  \n",
       "AYNRALJ4X1COS     3.554478  \n",
       "AYO2UHZB29UIU     4.505612  \n",
       "AYOMAHLWRQHUG     4.235420  \n",
       "AYPEPA3VS4KDM     4.518895  \n",
       "AYPIF2S8P3RZT     4.011024  \n",
       "AYQ14XGJODM9J     4.319589  \n",
       "AYQQOW0VR0YF5     4.864465  \n",
       "AYW1TGDCP2OK6     4.590965  \n",
       "AYWUHB7N8XGZQ     4.409856  \n",
       "AYXO4O5EQQPKE     4.625113  \n",
       "AZ34737QMSG8Q     4.184041  \n",
       "AZ4EUUJVC8358     4.617884  \n",
       "AZ4T61QUJHA9E     4.777471  \n",
       "AZ714J2PAECSR     3.862320  \n",
       "AZ8XSDMIX04VJ     4.387703  \n",
       "AZ9OSRM9DHJU3     4.525698  \n",
       "AZAC8O310IK4E     4.384123  \n",
       "AZIS8K2M1HYPJ     4.553928  \n",
       "AZJPNK73JF3XP     4.547715  \n",
       "AZMY6E8B52L2T     4.754277  \n",
       "AZNUHQSHZHSUE     4.117470  \n",
       "AZV26LP92E6WU     4.834692  \n",
       "AZV2U6GU5QA6C     4.548175  \n",
       "AZZRRYBQG57LF     4.713884  \n",
       "\n",
       "[2616 rows x 6412 columns]"
      ]
     },
     "execution_count": 153,
     "metadata": {},
     "output_type": "execute_result"
    }
   ],
   "source": [
    "svd_k40reg_predicted_ratings_matrix"
   ]
  },
  {
   "cell_type": "code",
   "execution_count": 154,
   "metadata": {},
   "outputs": [],
   "source": [
    "rec_svdk40reg, history, actual = generate_recommendations('A1S3C5OFU508P3', svd_k40reg_predicted_ratings_matrix, 5, False, False)"
   ]
  },
  {
   "cell_type": "code",
   "execution_count": 155,
   "metadata": {},
   "outputs": [
    {
     "data": {
      "text/html": [
       "<div>\n",
       "<style scoped>\n",
       "    .dataframe tbody tr th:only-of-type {\n",
       "        vertical-align: middle;\n",
       "    }\n",
       "\n",
       "    .dataframe tbody tr th {\n",
       "        vertical-align: top;\n",
       "    }\n",
       "\n",
       "    .dataframe thead th {\n",
       "        text-align: right;\n",
       "    }\n",
       "</style>\n",
       "<table border=\"1\" class=\"dataframe\">\n",
       "  <thead>\n",
       "    <tr style=\"text-align: right;\">\n",
       "      <th></th>\n",
       "      <th>Product Names</th>\n",
       "      <th>cat_2</th>\n",
       "      <th>cat_3</th>\n",
       "      <th>cat_4</th>\n",
       "      <th>ratings</th>\n",
       "    </tr>\n",
       "  </thead>\n",
       "  <tbody>\n",
       "    <tr>\n",
       "      <th>0</th>\n",
       "      <td>Wusthof 8001 Under-Cabinet-Swinger Knife Stora...</td>\n",
       "      <td>Kitchen &amp; Dining</td>\n",
       "      <td>Kitchen Knives &amp; Cutlery Accessories</td>\n",
       "      <td>Knife Blocks &amp; Storage</td>\n",
       "      <td>4.773868</td>\n",
       "    </tr>\n",
       "    <tr>\n",
       "      <th>1</th>\n",
       "      <td>Presto Pressure Cooker Sealing Ring/Overpressu...</td>\n",
       "      <td>Kitchen &amp; Dining</td>\n",
       "      <td>Cookware</td>\n",
       "      <td>Cookware Accessories</td>\n",
       "      <td>4.759448</td>\n",
       "    </tr>\n",
       "    <tr>\n",
       "      <th>2</th>\n",
       "      <td>ITALIAN 1500 Thread Count 100% Egyptian 4PC QU...</td>\n",
       "      <td>Bedding</td>\n",
       "      <td>Sheets &amp; Pillowcases</td>\n",
       "      <td>Sheet &amp; Pillowcase Sets</td>\n",
       "      <td>4.752796</td>\n",
       "    </tr>\n",
       "    <tr>\n",
       "      <th>3</th>\n",
       "      <td>Glencairn Crystal Whiskey Tasting Glass, Set of 2</td>\n",
       "      <td>Kitchen &amp; Dining</td>\n",
       "      <td>Dining &amp; Entertaining</td>\n",
       "      <td>Glassware &amp; Drinkware</td>\n",
       "      <td>4.748662</td>\n",
       "    </tr>\n",
       "    <tr>\n",
       "      <th>4</th>\n",
       "      <td>Trudeau Melamine Mixing Bowls in Assorted Brig...</td>\n",
       "      <td>Kitchen &amp; Dining</td>\n",
       "      <td>Bakeware</td>\n",
       "      <td>Mixing Bowls</td>\n",
       "      <td>4.745990</td>\n",
       "    </tr>\n",
       "  </tbody>\n",
       "</table>\n",
       "</div>"
      ],
      "text/plain": [
       "                                       Product Names             cat_2  \\\n",
       "0  Wusthof 8001 Under-Cabinet-Swinger Knife Stora...  Kitchen & Dining   \n",
       "1  Presto Pressure Cooker Sealing Ring/Overpressu...  Kitchen & Dining   \n",
       "2  ITALIAN 1500 Thread Count 100% Egyptian 4PC QU...           Bedding   \n",
       "3  Glencairn Crystal Whiskey Tasting Glass, Set of 2  Kitchen & Dining   \n",
       "4  Trudeau Melamine Mixing Bowls in Assorted Brig...  Kitchen & Dining   \n",
       "\n",
       "                                  cat_3                    cat_4   ratings  \n",
       "0  Kitchen Knives & Cutlery Accessories   Knife Blocks & Storage  4.773868  \n",
       "1                              Cookware     Cookware Accessories  4.759448  \n",
       "2                  Sheets & Pillowcases  Sheet & Pillowcase Sets  4.752796  \n",
       "3                 Dining & Entertaining    Glassware & Drinkware  4.748662  \n",
       "4                              Bakeware             Mixing Bowls  4.745990  "
      ]
     },
     "execution_count": 155,
     "metadata": {},
     "output_type": "execute_result"
    }
   ],
   "source": [
    "items_with_categories(rec_svdk40reg, 'A1S3C5OFU508P3', svd_k40reg_predicted_ratings_matrix, list_type='recommended')"
   ]
  },
  {
   "cell_type": "code",
   "execution_count": 156,
   "metadata": {
    "scrolled": true
   },
   "outputs": [
    {
     "name": "stdout",
     "output_type": "stream",
     "text": [
      "=== Wusthof 8001 Under-Cabinet-Swinger Knife Storage Block ===\n"
     ]
    },
    {
     "data": {
      "text/html": [
       "<img src=\"http://ecx.images-amazon.com/images/I/410XNXNXWVL._SX300_.jpg\"/>"
      ],
      "text/plain": [
       "<IPython.core.display.Image object>"
      ]
     },
     "metadata": {},
     "output_type": "display_data"
    },
    {
     "name": "stdout",
     "output_type": "stream",
     "text": [
      "=== Presto Pressure Cooker Sealing Ring/Overpressure Plug Pack (4 &amp; 6 Quart) ===\n"
     ]
    },
    {
     "data": {
      "text/html": [
       "<img src=\"http://ecx.images-amazon.com/images/I/41yPxlbx4aL._SY300_.jpg\"/>"
      ],
      "text/plain": [
       "<IPython.core.display.Image object>"
      ]
     },
     "metadata": {},
     "output_type": "display_data"
    },
    {
     "name": "stdout",
     "output_type": "stream",
     "text": [
      "=== ITALIAN 1500 Thread Count 100% Egyptian 4PC QUEEN Sheet Set, Striped GREY ===\n"
     ]
    },
    {
     "data": {
      "text/html": [
       "<img src=\"http://ecx.images-amazon.com/images/I/31aNG2PvuRL._SX300_.jpg\"/>"
      ],
      "text/plain": [
       "<IPython.core.display.Image object>"
      ]
     },
     "metadata": {},
     "output_type": "display_data"
    },
    {
     "name": "stdout",
     "output_type": "stream",
     "text": [
      "=== Glencairn Crystal Whiskey Tasting Glass, Set of 2 ===\n"
     ]
    },
    {
     "data": {
      "text/html": [
       "<img src=\"http://ecx.images-amazon.com/images/I/41YZou-ZgnL._SY300_.jpg\"/>"
      ],
      "text/plain": [
       "<IPython.core.display.Image object>"
      ]
     },
     "metadata": {},
     "output_type": "display_data"
    },
    {
     "name": "stdout",
     "output_type": "stream",
     "text": [
      "=== Trudeau Melamine Mixing Bowls in Assorted Bright Colors, Set of 6 ===\n"
     ]
    },
    {
     "data": {
      "text/html": [
       "<img src=\"http://ecx.images-amazon.com/images/I/41fwWEWx1PL._SY300_.jpg\"/>"
      ],
      "text/plain": [
       "<IPython.core.display.Image object>"
      ]
     },
     "metadata": {},
     "output_type": "display_data"
    }
   ],
   "source": [
    "print_product_images(rec_svdk40reg)"
   ]
  },
  {
   "cell_type": "code",
   "execution_count": 157,
   "metadata": {
    "scrolled": true
   },
   "outputs": [
    {
     "name": "stdout",
     "output_type": "stream",
     "text": [
      "=== Hamilton Beach 42115 3-in-1 Hot-Beverage Center, Black ===\n"
     ]
    },
    {
     "data": {
      "text/html": [
       "<img src=\"http://ecx.images-amazon.com/images/I/41pCC7dumCL._SY300_.jpg\"/>"
      ],
      "text/plain": [
       "<IPython.core.display.Image object>"
      ]
     },
     "metadata": {},
     "output_type": "display_data"
    },
    {
     "name": "stdout",
     "output_type": "stream",
     "text": [
      "=== Cuisinart AMB-4 Chef's Classic Nonstick Bakeware 4-Piece Starter Set ===\n"
     ]
    },
    {
     "data": {
      "text/html": [
       "<img src=\"http://ecx.images-amazon.com/images/I/41cVrOvPPFL._SX300_.jpg\"/>"
      ],
      "text/plain": [
       "<IPython.core.display.Image object>"
      ]
     },
     "metadata": {},
     "output_type": "display_data"
    },
    {
     "name": "stdout",
     "output_type": "stream",
     "text": [
      "=== Dash, Drop, Smidgen, Pinch, Tad Measuring Spoon Set ===\n"
     ]
    },
    {
     "data": {
      "text/html": [
       "<img src=\"http://ecx.images-amazon.com/images/I/31JE4hBRtrL._SX300_.jpg\"/>"
      ],
      "text/plain": [
       "<IPython.core.display.Image object>"
      ]
     },
     "metadata": {},
     "output_type": "display_data"
    },
    {
     "name": "stdout",
     "output_type": "stream",
     "text": [
      "=== Shaw Living Penthouse Nylon 24-Inch by 40-Inch Bath Rug, Cocoa ===\n"
     ]
    },
    {
     "data": {
      "text/html": [
       "<img src=\"http://ecx.images-amazon.com/images/I/61yoTSRu9qL._SY300_.jpg\"/>"
      ],
      "text/plain": [
       "<IPython.core.display.Image object>"
      ]
     },
     "metadata": {},
     "output_type": "display_data"
    },
    {
     "name": "stdout",
     "output_type": "stream",
     "text": [
      "=== Crock-Pot SCCPRP500-W 5-Quart Smart-Pot Round Slow Cooker, White ===\n"
     ]
    },
    {
     "data": {
      "text/html": [
       "<img src=\"http://ecx.images-amazon.com/images/I/31r1ESKLwdL._SX300_.jpg\"/>"
      ],
      "text/plain": [
       "<IPython.core.display.Image object>"
      ]
     },
     "metadata": {},
     "output_type": "display_data"
    },
    {
     "name": "stdout",
     "output_type": "stream",
     "text": [
      "=== Declaration of Independence 23 X 29, Constitution of the U.S. 23 X 29, Bill of Rights 23 X 29 Posters ===\n"
     ]
    },
    {
     "data": {
      "text/html": [
       "<img src=\"http://ecx.images-amazon.com/images/I/61UTIdO8cgL._SY300_.jpg\"/>"
      ],
      "text/plain": [
       "<IPython.core.display.Image object>"
      ]
     },
     "metadata": {},
     "output_type": "display_data"
    },
    {
     "name": "stdout",
     "output_type": "stream",
     "text": [
      "=== T-fal 84768 AirBake Natural Cookie Sheet, Mega 20-inch x 15.5-inch, Silver ===\n"
     ]
    },
    {
     "data": {
      "text/html": [
       "<img src=\"http://ecx.images-amazon.com/images/I/313YE1KCP7L._SX300_.jpg\"/>"
      ],
      "text/plain": [
       "<IPython.core.display.Image object>"
      ]
     },
     "metadata": {},
     "output_type": "display_data"
    },
    {
     "name": "stdout",
     "output_type": "stream",
     "text": [
      "=== Wilton Mini Ball Pan ===\n"
     ]
    },
    {
     "data": {
      "text/html": [
       "<img src=\"http://ecx.images-amazon.com/images/I/41mbZtCZLgL._SX300_.jpg\"/>"
      ],
      "text/plain": [
       "<IPython.core.display.Image object>"
      ]
     },
     "metadata": {},
     "output_type": "display_data"
    },
    {
     "name": "stdout",
     "output_type": "stream",
     "text": [
      "=== Sabatier Precision 14-Piece Stainless-Steel Knife Block Set ===\n"
     ]
    },
    {
     "data": {
      "text/html": [
       "<img src=\"http://ecx.images-amazon.com/images/I/41AZ87QM60L._SY300_.jpg\"/>"
      ],
      "text/plain": [
       "<IPython.core.display.Image object>"
      ]
     },
     "metadata": {},
     "output_type": "display_data"
    },
    {
     "name": "stdout",
     "output_type": "stream",
     "text": [
      "=== McCulloch MC1235 1300-Watt Handheld Steam Cleaner ===\n"
     ]
    },
    {
     "data": {
      "text/html": [
       "<img src=\"http://ecx.images-amazon.com/images/I/41N6wgfFuFL._SX300_.jpg\"/>"
      ],
      "text/plain": [
       "<IPython.core.display.Image object>"
      ]
     },
     "metadata": {},
     "output_type": "display_data"
    }
   ],
   "source": [
    "print_product_images(n_random_items(10))"
   ]
  },
  {
   "cell_type": "code",
   "execution_count": 158,
   "metadata": {},
   "outputs": [
    {
     "name": "stdout",
     "output_type": "stream",
     "text": [
      "End\n",
      "% of test with at least one item from recommended list:  0.0010643959552953698\n",
      "Avg hit rate: 0.41666666666666663 ± 0.08333333333333334\n",
      "['AUAX1QWUCYKSX', 'A2L35P0VQE7LBN']\n"
     ]
    }
   ],
   "source": [
    "min_1_hit = 0\n",
    "hit_rates = []\n",
    "users = []\n",
    "\n",
    "for user in reviews20_2014['reviewerID'].unique():\n",
    "    \n",
    "    user_recall = model_evaluation_recall(user, generate_recommendations(user, \n",
    "                                                                         svd_k40_predicted_ratings_matrix,\n",
    "                                                                         n_recommended_items=10,\n",
    "                                                                         return_recommendations_only=True, \n",
    "                                                                         print_results=False))\n",
    "    \n",
    "    if user_recall > 0.2:\n",
    "        min_1_hit += 1\n",
    "        hit_rates.append(user_recall)\n",
    "        users.append(user)\n",
    "\n",
    "print('End')\n",
    "print('% of test with at least one item from recommended list: ', min_1_hit/len(reviews20_2014['reviewerID'].unique()))\n",
    "print('Avg hit rate: {} ± {}'.format(np.mean(hit_rates), np.std(hit_rates)))\n",
    "print(users)"
   ]
  },
  {
   "cell_type": "markdown",
   "metadata": {},
   "source": [
    "#### Verifying if SVD k_40 recommender really is recommending the same few items"
   ]
  },
  {
   "cell_type": "code",
   "execution_count": 160,
   "metadata": {},
   "outputs": [
    {
     "data": {
      "text/plain": [
       "1879"
      ]
     },
     "execution_count": 160,
     "metadata": {},
     "output_type": "execute_result"
    }
   ],
   "source": [
    "len(reviews20_2014['reviewerID'].unique())"
   ]
  },
  {
   "cell_type": "code",
   "execution_count": 161,
   "metadata": {},
   "outputs": [
    {
     "name": "stdout",
     "output_type": "stream",
     "text": [
      "0\n",
      "1000\n",
      "End\n"
     ]
    }
   ],
   "source": [
    "all_recommendations = []\n",
    "\n",
    "for i, user in enumerate(reviews20_2014['reviewerID'].unique()):\n",
    "    \n",
    "    if i % 1000 == 0:\n",
    "        print(i)\n",
    "    \n",
    "    recommendation = generate_recommendations(user, \n",
    "                                              svd_k40_predicted_ratings_matrix,\n",
    "                                              n_recommended_items=10,\n",
    "                                              return_recommendations_only=True, \n",
    "                                              print_results=False)\n",
    "    \n",
    "    all_recommendations += recommendation\n",
    "\n",
    "print('End')"
   ]
  },
  {
   "cell_type": "code",
   "execution_count": 162,
   "metadata": {
    "scrolled": false
   },
   "outputs": [
    {
     "data": {
      "text/plain": [
       "Victorinox 47547 10-1/4-Inch Wavy Bread Knife, Black Fibrox Handle                                                                                           1160\n",
       "OXO Good Grips Stainless Steel Over-The-Door Hook                                                                                                            1094\n",
       "OXO Good Grips Solid Stainless Steel Ice Cream Scoop                                                                                                          847\n",
       "OXO Good Grips Lua Pepper Mill                                                                                                                                736\n",
       "Kitchenaid Pasta Roller Attachment                                                                                                                            548\n",
       "Splash-Proof Super-Fast Thermapen (Red) Instant Read Thermometer, Perfect for Barbecue, Home and Professional Cooking                                         536\n",
       "Kuhn Rikon 2710 Ultimate Shears, Black                                                                                                                        447\n",
       "Cuisinart 77-10 Chef's Classic Stainless 10-Piece Cookware Set                                                                                                390\n",
       "Lodge Pro-Logic P14P3 Cast Iron Pizza Pan, Black, 14-inch                                                                                                     389\n",
       "Rubbermaid Commercial FG1962000000 High-Heat Scraper, 9.5-inch                                                                                                332\n",
       "OXO Good Grips 3-Quart Stainless Steel Colander                                                                                                               324\n",
       "Sleep Innovations 10-Inch SureTemp Memory Foam Mattress With 20-Year Warranty, with 2-Bonus Memory Foam Pillows, Twin Size                                    313\n",
       "CIA 23304 Masters Collection 12 Inch x 17 Inch Wire Cooling Rack, Chrome Plate Steel                                                                          301\n",
       "Newpoint Home Deluxe 250-Thread-Count Cotton Damask Stripe Queen Mattress Pad                                                                                 296\n",
       "Thermos Stainless-Steel Vacuum Insulated Bottle                                                                                                               286\n",
       "Baker's Edge Nonstick Edge Brownie Pan                                                                                                                        270\n",
       "Freshware 30-Cavity Silicone Chocolate, Candy and Peanut Butter-Cup Mold                                                                                      238\n",
       "WMF Manaos / Bistro Iced Tea Spoon, Set of 4                                                                                                                  238\n",
       "Shun DM0718 Classic 7-Inch Santoku Hollow Ground Knife                                                                                                        207\n",
       "USA Pans 13 x 4 x 4 Inch Pullman, Aluminized Steel with Americoat                                                                                             207\n",
       "OXO Good Grips Clean Cut Pizza Wheel                                                                                                                          206\n",
       "Circulon Symmetry Hard Anodized Nonstick 11-Piece Cookware Set                                                                                                205\n",
       "OXO Good Grips Cherry Pitter, Black                                                                                                                           200\n",
       "Silpat Non-Stick Baking Mat, 11 5/8 x 16 1/2-inches, Half Sheet Size                                                                                          196\n",
       "KitchenAid 13-cup Die-Cast Metal Food Processor                                                                                                               187\n",
       "Fasta Pasta The Microwave Cooker                                                                                                                              180\n",
       "Anolon Advanced Hard Anodized Nonstick 11-Piece Cookware Set                                                                                                  176\n",
       "OXO Good Grips 4-Cup Fat Separator                                                                                                                            166\n",
       "DreamFoam Bedding 8-Inch Memory Foam Bed, Queen                                                                                                               162\n",
       "Victorinox Fibrox 7-Inch Granton Edge Santoku Knife                                                                                                           158\n",
       "                                                                                                                                                             ... \n",
       "Nordic Ware Natural Aluminum Commercial Hi-Dome Covered Pie Pan                                                                                                 1\n",
       "Lindy's Stainless Steel Stove Top Popcorn Popper, 6-Quart                                                                                                       1\n",
       "Bormioli Rocco Murano 14-7/8-Ounce Cobalt Blue Beverage Glass, Set of 4                                                                                         1\n",
       "Eurow Microfiber Waffle Weave Kitchen Towels (10-pack)                                                                                                          1\n",
       "T-fal C111SC74 Signature Nonstick Expert Easy Clean Interior Thermo-Spot Heat Indicator Dishwasher Safe PFOA Free Oven Safe Cookware Set, 12-Piece, Black       1\n",
       "Thermos Vacuum Insulated 18-Ounce Stainless-Steel Hydration Bottle                                                                                              1\n",
       "Polder Single Tear Paper Towel Holder, Brushed Stainless Steel with Black                                                                                       1\n",
       "Fox Run Stainless Steel Muffin Pan                                                                                                                              1\n",
       "Deluxe Large Cookbook Holder with Cherry Base                                                                                                                   1\n",
       "T-fal A8572494 Specialty Nonstick Dishwasher Safe PFOA Free Cookware Handy Pot Sauce Pan with Glass Lid, 3-Quart, Gray                                          1\n",
       "Madesmart Turntable, 10-Inch Diameter                                                                                                                           1\n",
       "OXO Good Grips Corer                                                                                                                                            1\n",
       "Juiceman JCJ150S 40-Watt Automatic Citrus Juicer with 2 Juicing Cones                                                                                           1\n",
       "Command Mounting Refill Strips, Large, 6-Strip                                                                                                                  1\n",
       "Copco 2555-7874 Large Mesh 6-Part In-Drawer Utensil Organizer                                                                                                   1\n",
       "Cuisinart CTG-00-SMB Stainless Steel Mixing Bowls with Lids, Set of 3                                                                                           1\n",
       "Winware Stainless Steel Dredges 10-Ounce with Handle                                                                                                            1\n",
       "Norpro 9-Inch Stainless Steel pie Pan                                                                                                                           1\n",
       "Fiesta 2-Quart Serving Bowl, Sunflower                                                                                                                          1\n",
       "OXO Good Grips Silicone Jar Spatula                                                                                                                             1\n",
       "Whirlpool Whispure Air Purifier, HEPA Air Cleaner, AP51030K                                                                                                     1\n",
       "Holmes Lil Blizzard 7-Inch Oscillating Personal Fan, HAOF87BLZ-UC                                                                                               1\n",
       "Wilton Cake Caddy                                                                                                                                               1\n",
       "Rest Right 100% Cotton Zippered Pillow Protector, Set of 2, Queen                                                                                               1\n",
       "Bormioli Rocco Fido Clear Jar, 25-1/4-Ounce                                                                                                                     1\n",
       "Heat Resistant Baster with Rubber Bulb                                                                                                                          1\n",
       "Progressive International GT-3471 Magnetic Measuring Cups                                                                                                       1\n",
       "Cuisinart 722-30G Chef's Classic 12-Inch Skillet with Glass Cover                                                                                               1\n",
       "Oster VERSA 1400-watt Professional  Performance Blender with Short Jar, BLSTVB-RV0-000                                                                          1\n",
       "Seville Classics Bamboo Cutting Board with Removable Cutting Mats                                                                                               1\n",
       "Length: 989, dtype: int64"
      ]
     },
     "execution_count": 162,
     "metadata": {},
     "output_type": "execute_result"
    }
   ],
   "source": [
    "pd.Series(all_recommendations).value_counts()"
   ]
  },
  {
   "cell_type": "code",
   "execution_count": 164,
   "metadata": {},
   "outputs": [],
   "source": [
    "algo=SVD(n_factors=100)\n",
    "algo.fit(trainset)\n",
    "\n",
    "svd_k100_predicted_ratings_matrix = generate_predicted_ratings_matrix(user_utility_matrix)"
   ]
  },
  {
   "cell_type": "code",
   "execution_count": 165,
   "metadata": {},
   "outputs": [
    {
     "name": "stdout",
     "output_type": "stream",
     "text": [
      "0\n",
      "1000\n",
      "End\n"
     ]
    }
   ],
   "source": [
    "all_recommendations = []\n",
    "\n",
    "for i, user in enumerate(reviews20_2014['reviewerID'].unique()):\n",
    "    \n",
    "    if i % 1000 == 0:\n",
    "        print(i)\n",
    "    \n",
    "    recommendation = generate_recommendations(user, \n",
    "                                              svd_k100_predicted_ratings_matrix,\n",
    "                                              n_recommended_items=10,\n",
    "                                              return_recommendations_only=True, \n",
    "                                              print_results=False)\n",
    "    \n",
    "    all_recommendations += recommendation\n",
    "\n",
    "print('End')"
   ]
  },
  {
   "cell_type": "code",
   "execution_count": 166,
   "metadata": {},
   "outputs": [
    {
     "data": {
      "text/plain": [
       "OXO Good Grips Stainless Steel Over-The-Door Hook                                                                                                                      724\n",
       "Victorinox 47547 10-1/4-Inch Wavy Bread Knife, Black Fibrox Handle                                                                                                     579\n",
       "OXO Good Grips Solid Stainless Steel Ice Cream Scoop                                                                                                                   520\n",
       "OXO Good Grips Lua Pepper Mill                                                                                                                                         392\n",
       "Kuhn Rikon 2710 Ultimate Shears, Black                                                                                                                                 286\n",
       "MIU France Stainless Steel Magnetic Knife Bar, 20-Inch                                                                                                                 242\n",
       "Kitchenaid Pasta Roller Attachment                                                                                                                                     236\n",
       "Lodge Pro-Logic P14P3 Cast Iron Pizza Pan, Black, 14-inch                                                                                                              235\n",
       "CIA 23304 Masters Collection 12 Inch x 17 Inch Wire Cooling Rack, Chrome Plate Steel                                                                                   232\n",
       "Rubbermaid Commercial FG1962000000 High-Heat Scraper, 9.5-inch                                                                                                         224\n",
       "OXO Good Grips 3-Quart Stainless Steel Colander                                                                                                                        206\n",
       "OXO Good Grips Flexible Vegetable Brush                                                                                                                                202\n",
       "Thermos Stainless-Steel Vacuum Insulated Bottle                                                                                                                        196\n",
       "Newpoint Home Deluxe 250-Thread-Count Cotton Damask Stripe Queen Mattress Pad                                                                                          189\n",
       "Splash-Proof Super-Fast Thermapen (Red) Instant Read Thermometer, Perfect for Barbecue, Home and Professional Cooking                                                  181\n",
       "Baker's Edge Nonstick Edge Brownie Pan                                                                                                                                 181\n",
       "USA Pans 13 x 4 x 4 Inch Pullman, Aluminized Steel with Americoat                                                                                                      181\n",
       "Cuisinart 77-10 Chef's Classic Stainless 10-Piece Cookware Set                                                                                                         174\n",
       "Microplane 40020 Classic Zester/Grater                                                                                                                                 169\n",
       "DreamFoam Bedding 8-Inch Memory Foam Bed, Queen                                                                                                                        167\n",
       "OXO Good Grips 4-Cup Fat Separator                                                                                                                                     167\n",
       "Victorinox Fibrox 7-Inch Granton Edge Santoku Knife                                                                                                                    164\n",
       "Factory-Reconditioned KitchenAid RRKSB5WH Ultra Power 5-Speed Blender, White                                                                                           161\n",
       "OXO Good Grips Cherry Pitter, Black                                                                                                                                    143\n",
       "Fasta Pasta The Microwave Cooker                                                                                                                                       139\n",
       "OXO Good Grips 6-Inch Double Rod Strainer                                                                                                                              137\n",
       "WMF Manaos / Bistro Iced Tea Spoon, Set of 4                                                                                                                           135\n",
       "Progressive International Stainless-Steel Magnetic Measuring Spoons, Set of 5                                                                                          129\n",
       "Freshware 30-Cavity Silicone Chocolate, Candy and Peanut Butter-Cup Mold                                                                                               128\n",
       "Shun DM0718 Classic 7-Inch Santoku Hollow Ground Knife                                                                                                                 118\n",
       "                                                                                                                                                                      ... \n",
       "Farberware Cookware Glass Replacement Lid, 8-Inch                                                                                                                        1\n",
       "Pyrex 1073142 Rectangular Clear-Glass Food-Storage Containers with Blue Plastic Lids, Set of 3                                                                           1\n",
       "NEW, Heavy-Duty 1/4 Size Cooling Rack, Cooling Racks, Wire Pan Grade, Commercial grade, Oven-safe, Chrome, 8 x 10 Inches, Set of 2                                       1\n",
       "Cuisinart CTG-00-DB Dough Blender                                                                                                                                        1\n",
       "Bissell Part#218-5600 - Genuine Calcium Water Filter for Bissell Steam Mop Cleaners 1865 series, 1867 series, 31N1 series, 21H6 series, 46B4 Series and 39W7 Series      1\n",
       "Ironwood Gourmet Acacia Wood Pizza Peel                                                                                                                                  1\n",
       "Nesco SLD-2 Fruit Roll-Up Sheet for FD-1010/FD-10108P/FD-1020/FD-1040, Set of 2                                                                                          1\n",
       "simplehuman Sink Caddy, Stainless Steel                                                                                                                                  1\n",
       "Double Rail Collapsible Garment Rack                                                                                                                                     1\n",
       "Pinzon Plush Cotton Throw, Heather Gray                                                                                                                                  1\n",
       "Frieling Brushed Stainless Steel French Press, 8-Ounce                                                                                                                   1\n",
       "Kitchenaid Classic Digital Timer, Red                                                                                                                                    1\n",
       "Ceramic Pie Weights, 0.75 pounds                                                                                                                                         1\n",
       "Libbey 4-1/2-Ounce Spice Jar with Lid, Set of 12                                                                                                                         1\n",
       "Nordic Ware Microwave Omelet Pan                                                                                                                                         1\n",
       "GROSCHE MADRID Premium french Press Coffee and Tea maker, 1 liter 34 fl. oz capacity                                                                                     1\n",
       "Sleep Innovations Queen Size Reversible Gel Memory Foam Pillow                                                                                                           1\n",
       "Circulon Contempo Hard Anodized Nonstick 8-Inch, 10-Inch and 11-Inch Triple Pack Skillet Set                                                                             1\n",
       "Dreamaway Waterproof Mattress Protector, Twin                                                                                                                            1\n",
       "MIU France 13-Piece Plastic Measuring Cup and Spoon Set                                                                                                                  1\n",
       "Sunbeam MSU3BKS-P000-12A00 Vertical Quilted Heated Mattress Pad, King                                                                                                    1\n",
       "Emile Henry Rectangular Baking Stone, Black                                                                                                                              1\n",
       "Lasko #4006 Clip Stik Desk Fan 2-SPEED                                                                                                                                   1\n",
       "Fred and Friends Gin and Titonic Ice Cube Tray                                                                                                                           1\n",
       "Vornado 630 Mid-Size Whole Room Air Circulator                                                                                                                           1\n",
       "Hoover T-Series WindTunnel Pet Rewind Bagless Upright Vaccum, UH70210                                                                                                    1\n",
       "Melitta 40994 1.7-Liter Kettle                                                                                                                                           1\n",
       "China Cup Storage Chest - Deluxe Quilted Microfiber (Light Gray) (13&quot;H x 15.5&quot;W x 5&quot;D)                                                                    1\n",
       "Basketweave Kitchen Towels Commercial Grade 19 X 29in (8-Pack)                                                                                                           1\n",
       "Four Piece NEW STYLE 2 1/4&quot; Herb, Spice or Tobacco Pollen Grinder                                                                                                   1\n",
       "Length: 1529, dtype: int64"
      ]
     },
     "execution_count": 166,
     "metadata": {},
     "output_type": "execute_result"
    }
   ],
   "source": [
    "pd.Series(all_recommendations).value_counts()"
   ]
  },
  {
   "cell_type": "code",
   "execution_count": 168,
   "metadata": {},
   "outputs": [
    {
     "name": "stdout",
     "output_type": "stream",
     "text": [
      "0\n",
      "1000\n",
      "End\n"
     ]
    }
   ],
   "source": [
    "#compare against uucf/iicf\n",
    "\n",
    "all_recommendations = []\n",
    "\n",
    "for i, user in enumerate(reviews20_2014['reviewerID'].unique()):\n",
    "    \n",
    "    if i % 1000 == 0:\n",
    "        print(i)\n",
    "    \n",
    "    recommendation = generate_recommendations(user, \n",
    "                                              uucf_k3_pearsonbaseline_predicted_ratings_matrix,\n",
    "                                              n_recommended_items=10,\n",
    "                                              return_recommendations_only=True, \n",
    "                                              print_results=False)\n",
    "    \n",
    "    all_recommendations += recommendation\n",
    "\n",
    "print('End')"
   ]
  },
  {
   "cell_type": "code",
   "execution_count": 169,
   "metadata": {
    "scrolled": true
   },
   "outputs": [
    {
     "data": {
      "text/plain": [
       "Miracle Blade III Perfection Series 11-Piece Cutlery Set                                                                   363\n",
       "Bormioli Rocco Quattro Stagioni Dipping Bowls, Set of 6, Gift Boxed                                                        362\n",
       "Rada Cutlery R129 Chef's Dicer with Aluminum Handle                                                                        362\n",
       "Sun's Tea (TM) 20oz Strong Double Wall Thermo Glasses/Tumbler for Beer/Cocktail/Lemonade/Iced Tea, Set of 2                351\n",
       "Replacement Filters for Aeropress (350 pk)                                                                                 342\n",
       "Farberware Classic Stainless Steel 8-Inch and 10-Inch Skillet Twin Pack                                                    301\n",
       "Martex Bath Towels, White, 6-Pack                                                                                          293\n",
       "Whitmor 6070-267 Supreme 5-Tier Shelving Unit, Black                                                                       257\n",
       "Norpro Coffee Grinder                                                                                                      250\n",
       "Oster BRLY07-B 7-Speed Fusion Blender, Black                                                                               229\n",
       "Hamilton Beach 70450 8-Cup Food Processor                                                                                  199\n",
       "Sleep Joy 3&quot; ViscO2 Ventilated Memory Foam Mattress Topper, Twin                                                      176\n",
       "Command Medium Picture-Hanging Strips, 6-Picture                                                                           107\n",
       "Holmes Heater Fan with 1Touch Control and ALCI Safe Plug, HFH442-UM                                                         63\n",
       "Wilton 6-Cavity Silicone Heart Mold Pan                                                                                     47\n",
       "Wilton 570-1121 Easy Flex 3-Piece Silicone Spatula Set, Blue                                                                47\n",
       "Coaster Occasional Sofa Table, Brown                                                                                        43\n",
       "EatSmart Precision Pro Digital Kitchen Scale, Silver                                                                        42\n",
       "Sleep Joy 2&quot; ViscO2 Ventilated Memory Foam Mattress Topper, Full                                                       41\n",
       "Spectrum Wall-Mountable Black Scroll Spice Rack                                                                             38\n",
       "Lodge L8SK3 Pre-Seasoned Cast-Iron Skillet, 10.25-inch                                                                      38\n",
       "Zojirushi NP-HBC18 10-Cup (Uncooked) Rice Cooker and Warmer with Induction Heating System, Stainless Steel                  36\n",
       "Zojirushi NP-HBC10 5-1/2-Cup (Uncooked) Rice Cooker and Warmer with Induction Heating System, Stainless Steel               33\n",
       "Zojirushi CV-DSC40 VE Hybrid Water Boiler and Warmer, Stainless Steel                                                       33\n",
       "Zojirushi NS-TGC10 Micom 5-1/2-Cup Rice Cooker and Warmer, Stainless Steel                                                  33\n",
       "OXO Good Grips 2-Cup Angled Measuring Cup                                                                                   32\n",
       "Cuisinart GR-4N 5-in-1 Griddler                                                                                             32\n",
       "OXO Good Grips Silicone Steamer, Green                                                                                      32\n",
       "Microplane 40020 Classic Zester/Grater                                                                                      30\n",
       "OXO Good Grips Large Cookie Scoop                                                                                           30\n",
       "                                                                                                                          ... \n",
       "OXO Good Grips 8 Inch Bread Knife                                                                                            1\n",
       "Best Manufacturers Balloon Whip 12-inch Red Wood Handle                                                                      1\n",
       "Miallegro 9080 Mitutto 450-Watt Immersion Hand Blender, Stainless Steel with Whisk and Chopper Attachment 5-Speed Turbo      1\n",
       "Hoover T-Series WindTunnel Pet Rewind Bagless Upright Vaccum, UH70210                                                        1\n",
       "KitchenIQ 50009 Edge Grip 2 Stage Knife Sharpener                                                                            1\n",
       "Black &amp; Decker RC3406 6-Cup (Cooked) Rice Cooker. (Holds 3 cups dry rice)                                                1\n",
       "Calphalon DS9DC Commercial 9-Piece Hard-Anodized Cookware Set                                                                1\n",
       "Paula Deen Signature Stainless Steel II 12-Piece Cookware Set                                                                1\n",
       "Fox Run, Silicone Baking Mat with Measurements                                                                               1\n",
       "simplehuman Toilet Plunger, Black                                                                                            1\n",
       "Parrish Magic Line 8 x 2 Inch Round Aluminum Cake Pan                                                                        1\n",
       "Lodge L10DOL3 Pre-Seasoned Dutch Oven with Dual Handles, 7-Quart                                                             1\n",
       "Prepworks from Progressive International 8050L 11-Inch Stainless Steel Steamer Basket                                        1\n",
       "Holmes HEPA Type Desktop Air Purifier, HAP242-UC                                                                             1\n",
       "Hamilton Beach 76607 Smooth Touch Can Opener, Black and Chrome                                                               1\n",
       "Chicago Metallic Non-Stick 2-Piece Angel Food Cake Pan with Feet                                                             1\n",
       "Rowenta ZD100 Non-Toxic Soleplate Cleaner Kit                                                                                1\n",
       "Emeril by T-fal FR700951 2.65-Pound / 3.3-Liter Stainless Steel Digital Imm                                                  1\n",
       "Carved Wood Shabby Top White Side Night End Table Chic                                                                       1\n",
       "KnappMade CM Scrubber - Chain Mail Cast Iron Pan Scrubber                                                                    1\n",
       "Fido Gaskets 6/Bag                                                                                                           1\n",
       "Moen SR2100BN Shower Ring, Brushed Nickel Pack of 12                                                                         1\n",
       "Faberware Cilantro Sand 20-Piece Flatware Set, Service for 4                                                                 1\n",
       "Chef's Choice 632 International Gourmet VariTilt Electric Food Slicer                                                        1\n",
       "Cuisinart 722-20 Chef's Classic Stainless 8-Inch Open Skillet                                                                1\n",
       "Walker Edison 44-Inch Wood TV Stand Console, Black                                                                           1\n",
       "KitchenAid JE Citrus Juicer Stand Mixer Attachment                                                                           1\n",
       "OXO Good Grips Shower Stall Drain Protector                                                                                  1\n",
       "Honeywell HFD-120-Q Tower Quiet Air Purifier with Permanent IFD Filter, Black                                                1\n",
       "Japanese Chopsticks Gift Set (Rice Paddle Included)                                                                          1\n",
       "Length: 3672, dtype: int64"
      ]
     },
     "execution_count": 169,
     "metadata": {},
     "output_type": "execute_result"
    }
   ],
   "source": [
    "pd.Series(all_recommendations).value_counts()"
   ]
  },
  {
   "cell_type": "code",
   "execution_count": 170,
   "metadata": {},
   "outputs": [],
   "source": [
    "# what are the most popular items and most highly rated\n",
    "most_popular = (pd.DataFrame(reviews20_pre2014['asin'].value_counts()[:20])\n",
    "                                              .reset_index()\n",
    "                                              .rename(columns={'index':'asin', 'asin': 'count'}))"
   ]
  },
  {
   "cell_type": "code",
   "execution_count": 171,
   "metadata": {},
   "outputs": [],
   "source": [
    "most_popular['product_title'] = most_popular['asin'].apply(lambda x: product_lookup[x])"
   ]
  },
  {
   "cell_type": "code",
   "execution_count": 172,
   "metadata": {
    "scrolled": true
   },
   "outputs": [
    {
     "data": {
      "text/html": [
       "<div>\n",
       "<style scoped>\n",
       "    .dataframe tbody tr th:only-of-type {\n",
       "        vertical-align: middle;\n",
       "    }\n",
       "\n",
       "    .dataframe tbody tr th {\n",
       "        vertical-align: top;\n",
       "    }\n",
       "\n",
       "    .dataframe thead th {\n",
       "        text-align: right;\n",
       "    }\n",
       "</style>\n",
       "<table border=\"1\" class=\"dataframe\">\n",
       "  <thead>\n",
       "    <tr style=\"text-align: right;\">\n",
       "      <th></th>\n",
       "      <th>asin</th>\n",
       "      <th>count</th>\n",
       "      <th>product_title</th>\n",
       "    </tr>\n",
       "  </thead>\n",
       "  <tbody>\n",
       "    <tr>\n",
       "      <th>0</th>\n",
       "      <td>B00004OCO9</td>\n",
       "      <td>201</td>\n",
       "      <td>Oxo Good Grips Measuring Cup Set, Stainless St...</td>\n",
       "    </tr>\n",
       "    <tr>\n",
       "      <th>1</th>\n",
       "      <td>B005M8HPPS</td>\n",
       "      <td>131</td>\n",
       "      <td>Primula Double Wall Glass Mug with Tea Bag Buddy</td>\n",
       "    </tr>\n",
       "    <tr>\n",
       "      <th>2</th>\n",
       "      <td>B00006JSUA</td>\n",
       "      <td>128</td>\n",
       "      <td>Lodge L8SK3 Pre-Seasoned Cast-Iron Skillet, 10...</td>\n",
       "    </tr>\n",
       "    <tr>\n",
       "      <th>3</th>\n",
       "      <td>B005LCT5I0</td>\n",
       "      <td>101</td>\n",
       "      <td>OXO Good Grips Ratcheting Pineapple Slicer</td>\n",
       "    </tr>\n",
       "    <tr>\n",
       "      <th>4</th>\n",
       "      <td>B00005B8K5</td>\n",
       "      <td>89</td>\n",
       "      <td>Pyrex Storage 10-Piece Set, Clear with Blue Lids</td>\n",
       "    </tr>\n",
       "    <tr>\n",
       "      <th>5</th>\n",
       "      <td>B001N07KUE</td>\n",
       "      <td>77</td>\n",
       "      <td>EatSmart Precision Pro Digital Kitchen Scale, ...</td>\n",
       "    </tr>\n",
       "    <tr>\n",
       "      <th>6</th>\n",
       "      <td>B006C9TPKO</td>\n",
       "      <td>75</td>\n",
       "      <td>Primula 6-Cup Tempo Coffee Press, Black</td>\n",
       "    </tr>\n",
       "    <tr>\n",
       "      <th>7</th>\n",
       "      <td>B00004OCKR</td>\n",
       "      <td>73</td>\n",
       "      <td>OXO Good Grips  Salad Spinner</td>\n",
       "    </tr>\n",
       "    <tr>\n",
       "      <th>8</th>\n",
       "      <td>B005JAIHNI</td>\n",
       "      <td>73</td>\n",
       "      <td>T-fal Prima FV3756 Non-stick PTFE soleplate, A...</td>\n",
       "    </tr>\n",
       "    <tr>\n",
       "      <th>9</th>\n",
       "      <td>B0007VO0CQ</td>\n",
       "      <td>71</td>\n",
       "      <td>OXO Good Grips Box Grater</td>\n",
       "    </tr>\n",
       "    <tr>\n",
       "      <th>10</th>\n",
       "      <td>B002YD99Y4</td>\n",
       "      <td>69</td>\n",
       "      <td>Cuisinart GR-4N 5-in-1 Griddler</td>\n",
       "    </tr>\n",
       "    <tr>\n",
       "      <th>11</th>\n",
       "      <td>B0000CFMZN</td>\n",
       "      <td>66</td>\n",
       "      <td>Pyrex Prepware 1-Cup Measuring Cup, Clear with...</td>\n",
       "    </tr>\n",
       "    <tr>\n",
       "      <th>12</th>\n",
       "      <td>B00004SPZV</td>\n",
       "      <td>64</td>\n",
       "      <td>Misto Brushed Aluminum Olive Oil Sprayer</td>\n",
       "    </tr>\n",
       "    <tr>\n",
       "      <th>13</th>\n",
       "      <td>B00004S7V8</td>\n",
       "      <td>63</td>\n",
       "      <td>Microplane 40020 Classic Zester/Grater</td>\n",
       "    </tr>\n",
       "    <tr>\n",
       "      <th>14</th>\n",
       "      <td>B00006IUWA</td>\n",
       "      <td>62</td>\n",
       "      <td>Presto 04820 PopLite Hot Air Popper, White</td>\n",
       "    </tr>\n",
       "    <tr>\n",
       "      <th>15</th>\n",
       "      <td>B000N4WMUE</td>\n",
       "      <td>60</td>\n",
       "      <td>Lodge Color EC3D43 Enameled Cast Iron Dutch Ov...</td>\n",
       "    </tr>\n",
       "    <tr>\n",
       "      <th>16</th>\n",
       "      <td>B007M6GM1Q</td>\n",
       "      <td>60</td>\n",
       "      <td>Pinzon 700-Gram Hotel Stitch Washcloth 2-Pack,...</td>\n",
       "    </tr>\n",
       "    <tr>\n",
       "      <th>17</th>\n",
       "      <td>B007OTF8O8</td>\n",
       "      <td>58</td>\n",
       "      <td>Kuhn Rikon Silicone Splatter Guard, 1 Each, 10...</td>\n",
       "    </tr>\n",
       "    <tr>\n",
       "      <th>18</th>\n",
       "      <td>B0006HUYGM</td>\n",
       "      <td>58</td>\n",
       "      <td>Eureka EasyClean Corded Hand-Held Vacuum, 71B</td>\n",
       "    </tr>\n",
       "    <tr>\n",
       "      <th>19</th>\n",
       "      <td>B0071NI8XK</td>\n",
       "      <td>58</td>\n",
       "      <td>Kuhn Rikon Kochblume Spill Stopper, Large, 12-...</td>\n",
       "    </tr>\n",
       "  </tbody>\n",
       "</table>\n",
       "</div>"
      ],
      "text/plain": [
       "          asin  count                                      product_title\n",
       "0   B00004OCO9    201  Oxo Good Grips Measuring Cup Set, Stainless St...\n",
       "1   B005M8HPPS    131   Primula Double Wall Glass Mug with Tea Bag Buddy\n",
       "2   B00006JSUA    128  Lodge L8SK3 Pre-Seasoned Cast-Iron Skillet, 10...\n",
       "3   B005LCT5I0    101         OXO Good Grips Ratcheting Pineapple Slicer\n",
       "4   B00005B8K5     89   Pyrex Storage 10-Piece Set, Clear with Blue Lids\n",
       "5   B001N07KUE     77  EatSmart Precision Pro Digital Kitchen Scale, ...\n",
       "6   B006C9TPKO     75            Primula 6-Cup Tempo Coffee Press, Black\n",
       "7   B00004OCKR     73                      OXO Good Grips  Salad Spinner\n",
       "8   B005JAIHNI     73  T-fal Prima FV3756 Non-stick PTFE soleplate, A...\n",
       "9   B0007VO0CQ     71                          OXO Good Grips Box Grater\n",
       "10  B002YD99Y4     69                    Cuisinart GR-4N 5-in-1 Griddler\n",
       "11  B0000CFMZN     66  Pyrex Prepware 1-Cup Measuring Cup, Clear with...\n",
       "12  B00004SPZV     64           Misto Brushed Aluminum Olive Oil Sprayer\n",
       "13  B00004S7V8     63             Microplane 40020 Classic Zester/Grater\n",
       "14  B00006IUWA     62         Presto 04820 PopLite Hot Air Popper, White\n",
       "15  B000N4WMUE     60  Lodge Color EC3D43 Enameled Cast Iron Dutch Ov...\n",
       "16  B007M6GM1Q     60  Pinzon 700-Gram Hotel Stitch Washcloth 2-Pack,...\n",
       "17  B007OTF8O8     58  Kuhn Rikon Silicone Splatter Guard, 1 Each, 10...\n",
       "18  B0006HUYGM     58      Eureka EasyClean Corded Hand-Held Vacuum, 71B\n",
       "19  B0071NI8XK     58  Kuhn Rikon Kochblume Spill Stopper, Large, 12-..."
      ]
     },
     "execution_count": 172,
     "metadata": {},
     "output_type": "execute_result"
    }
   ],
   "source": [
    "most_popular"
   ]
  },
  {
   "cell_type": "code",
   "execution_count": 173,
   "metadata": {},
   "outputs": [],
   "source": [
    "best_rated = (reviews20.groupby('productTitle')\n",
    "                       .agg(['mean','count'])['overall']\n",
    "                       .sort_values(by=['mean', 'count'], ascending=[False, False]))"
   ]
  },
  {
   "cell_type": "code",
   "execution_count": 174,
   "metadata": {},
   "outputs": [
    {
     "data": {
      "text/html": [
       "<div>\n",
       "<style scoped>\n",
       "    .dataframe tbody tr th:only-of-type {\n",
       "        vertical-align: middle;\n",
       "    }\n",
       "\n",
       "    .dataframe tbody tr th {\n",
       "        vertical-align: top;\n",
       "    }\n",
       "\n",
       "    .dataframe thead th {\n",
       "        text-align: right;\n",
       "    }\n",
       "</style>\n",
       "<table border=\"1\" class=\"dataframe\">\n",
       "  <thead>\n",
       "    <tr style=\"text-align: right;\">\n",
       "      <th></th>\n",
       "      <th>mean</th>\n",
       "      <th>count</th>\n",
       "    </tr>\n",
       "    <tr>\n",
       "      <th>productTitle</th>\n",
       "      <th></th>\n",
       "      <th></th>\n",
       "    </tr>\n",
       "  </thead>\n",
       "  <tbody>\n",
       "    <tr>\n",
       "      <th>OXO Good Grips Solid Stainless Steel Ice Cream Scoop</th>\n",
       "      <td>5.000000</td>\n",
       "      <td>19</td>\n",
       "    </tr>\n",
       "    <tr>\n",
       "      <th>Kitchenaid Pasta Roller Attachment</th>\n",
       "      <td>4.916667</td>\n",
       "      <td>24</td>\n",
       "    </tr>\n",
       "    <tr>\n",
       "      <th>OXO Good Grips Stainless Steel Over-The-Door Hook</th>\n",
       "      <td>4.914286</td>\n",
       "      <td>35</td>\n",
       "    </tr>\n",
       "    <tr>\n",
       "      <th>Kuhn Rikon 2710 Ultimate Shears, Black</th>\n",
       "      <td>4.909091</td>\n",
       "      <td>11</td>\n",
       "    </tr>\n",
       "    <tr>\n",
       "      <th>Victorinox 47547 10-1/4-Inch Wavy Bread Knife, Black Fibrox Handle</th>\n",
       "      <td>4.906250</td>\n",
       "      <td>32</td>\n",
       "    </tr>\n",
       "    <tr>\n",
       "      <th>OXO Good Grips Lua Pepper Mill</th>\n",
       "      <td>4.800000</td>\n",
       "      <td>45</td>\n",
       "    </tr>\n",
       "  </tbody>\n",
       "</table>\n",
       "</div>"
      ],
      "text/plain": [
       "                                                        mean  count\n",
       "productTitle                                                       \n",
       "OXO Good Grips Solid Stainless Steel Ice Cream ...  5.000000     19\n",
       "Kitchenaid Pasta Roller Attachment                  4.916667     24\n",
       "OXO Good Grips Stainless Steel Over-The-Door Hook   4.914286     35\n",
       "Kuhn Rikon 2710 Ultimate Shears, Black              4.909091     11\n",
       "Victorinox 47547 10-1/4-Inch Wavy Bread Knife, ...  4.906250     32\n",
       "OXO Good Grips Lua Pepper Mill                      4.800000     45"
      ]
     },
     "execution_count": 174,
     "metadata": {},
     "output_type": "execute_result"
    }
   ],
   "source": [
    "best_rated[best_rated.index.isin(['Victorinox 47547 10-1/4-Inch Wavy Bread Knife, Black Fibrox Handle', \n",
    "                                  'OXO Good Grips Stainless Steel Over-The-Door Hook',\n",
    "                                  'OXO Good Grips Lua Pepper Mill',\n",
    "                                  'OXO Good Grips Solid Stainless Steel Ice Cream Scoop',\n",
    "                                  'Kuhn Rikon 2710 Ultimate Shears, Black',\n",
    "                                  'Kitchenaid Pasta Roller Attachment'])]"
   ]
  },
  {
   "cell_type": "code",
   "execution_count": 175,
   "metadata": {},
   "outputs": [],
   "source": [
    "item_counts = reviews20_pre2014['asin'].value_counts().reset_index()\n",
    "item_counts['title'] = item_counts['index'].apply(lambda x: product_lookup[x])"
   ]
  },
  {
   "cell_type": "code",
   "execution_count": 176,
   "metadata": {},
   "outputs": [
    {
     "data": {
      "text/plain": [
       "(44965, 3)"
      ]
     },
     "execution_count": 176,
     "metadata": {},
     "output_type": "execute_result"
    }
   ],
   "source": [
    "reviews20_pre2014.shape"
   ]
  },
  {
   "cell_type": "code",
   "execution_count": 177,
   "metadata": {
    "scrolled": true
   },
   "outputs": [
    {
     "data": {
      "text/html": [
       "<div>\n",
       "<style scoped>\n",
       "    .dataframe tbody tr th:only-of-type {\n",
       "        vertical-align: middle;\n",
       "    }\n",
       "\n",
       "    .dataframe tbody tr th {\n",
       "        vertical-align: top;\n",
       "    }\n",
       "\n",
       "    .dataframe thead th {\n",
       "        text-align: right;\n",
       "    }\n",
       "</style>\n",
       "<table border=\"1\" class=\"dataframe\">\n",
       "  <thead>\n",
       "    <tr style=\"text-align: right;\">\n",
       "      <th></th>\n",
       "      <th>index</th>\n",
       "      <th>asin</th>\n",
       "      <th>title</th>\n",
       "    </tr>\n",
       "  </thead>\n",
       "  <tbody>\n",
       "    <tr>\n",
       "      <th>0</th>\n",
       "      <td>B00004OCO9</td>\n",
       "      <td>201</td>\n",
       "      <td>Oxo Good Grips Measuring Cup Set, Stainless St...</td>\n",
       "    </tr>\n",
       "    <tr>\n",
       "      <th>1</th>\n",
       "      <td>B005M8HPPS</td>\n",
       "      <td>131</td>\n",
       "      <td>Primula Double Wall Glass Mug with Tea Bag Buddy</td>\n",
       "    </tr>\n",
       "    <tr>\n",
       "      <th>2</th>\n",
       "      <td>B00006JSUA</td>\n",
       "      <td>128</td>\n",
       "      <td>Lodge L8SK3 Pre-Seasoned Cast-Iron Skillet, 10...</td>\n",
       "    </tr>\n",
       "    <tr>\n",
       "      <th>3</th>\n",
       "      <td>B005LCT5I0</td>\n",
       "      <td>101</td>\n",
       "      <td>OXO Good Grips Ratcheting Pineapple Slicer</td>\n",
       "    </tr>\n",
       "    <tr>\n",
       "      <th>4</th>\n",
       "      <td>B00005B8K5</td>\n",
       "      <td>89</td>\n",
       "      <td>Pyrex Storage 10-Piece Set, Clear with Blue Lids</td>\n",
       "    </tr>\n",
       "    <tr>\n",
       "      <th>5</th>\n",
       "      <td>B001N07KUE</td>\n",
       "      <td>77</td>\n",
       "      <td>EatSmart Precision Pro Digital Kitchen Scale, ...</td>\n",
       "    </tr>\n",
       "    <tr>\n",
       "      <th>6</th>\n",
       "      <td>B006C9TPKO</td>\n",
       "      <td>75</td>\n",
       "      <td>Primula 6-Cup Tempo Coffee Press, Black</td>\n",
       "    </tr>\n",
       "    <tr>\n",
       "      <th>7</th>\n",
       "      <td>B00004OCKR</td>\n",
       "      <td>73</td>\n",
       "      <td>OXO Good Grips  Salad Spinner</td>\n",
       "    </tr>\n",
       "    <tr>\n",
       "      <th>8</th>\n",
       "      <td>B005JAIHNI</td>\n",
       "      <td>73</td>\n",
       "      <td>T-fal Prima FV3756 Non-stick PTFE soleplate, A...</td>\n",
       "    </tr>\n",
       "    <tr>\n",
       "      <th>9</th>\n",
       "      <td>B0007VO0CQ</td>\n",
       "      <td>71</td>\n",
       "      <td>OXO Good Grips Box Grater</td>\n",
       "    </tr>\n",
       "    <tr>\n",
       "      <th>10</th>\n",
       "      <td>B002YD99Y4</td>\n",
       "      <td>69</td>\n",
       "      <td>Cuisinart GR-4N 5-in-1 Griddler</td>\n",
       "    </tr>\n",
       "    <tr>\n",
       "      <th>11</th>\n",
       "      <td>B0000CFMZN</td>\n",
       "      <td>66</td>\n",
       "      <td>Pyrex Prepware 1-Cup Measuring Cup, Clear with...</td>\n",
       "    </tr>\n",
       "    <tr>\n",
       "      <th>12</th>\n",
       "      <td>B00004SPZV</td>\n",
       "      <td>64</td>\n",
       "      <td>Misto Brushed Aluminum Olive Oil Sprayer</td>\n",
       "    </tr>\n",
       "    <tr>\n",
       "      <th>13</th>\n",
       "      <td>B00004S7V8</td>\n",
       "      <td>63</td>\n",
       "      <td>Microplane 40020 Classic Zester/Grater</td>\n",
       "    </tr>\n",
       "    <tr>\n",
       "      <th>14</th>\n",
       "      <td>B00006IUWA</td>\n",
       "      <td>62</td>\n",
       "      <td>Presto 04820 PopLite Hot Air Popper, White</td>\n",
       "    </tr>\n",
       "    <tr>\n",
       "      <th>15</th>\n",
       "      <td>B000N4WMUE</td>\n",
       "      <td>60</td>\n",
       "      <td>Lodge Color EC3D43 Enameled Cast Iron Dutch Ov...</td>\n",
       "    </tr>\n",
       "    <tr>\n",
       "      <th>16</th>\n",
       "      <td>B007M6GM1Q</td>\n",
       "      <td>60</td>\n",
       "      <td>Pinzon 700-Gram Hotel Stitch Washcloth 2-Pack,...</td>\n",
       "    </tr>\n",
       "    <tr>\n",
       "      <th>17</th>\n",
       "      <td>B007OTF8O8</td>\n",
       "      <td>58</td>\n",
       "      <td>Kuhn Rikon Silicone Splatter Guard, 1 Each, 10...</td>\n",
       "    </tr>\n",
       "    <tr>\n",
       "      <th>18</th>\n",
       "      <td>B0006HUYGM</td>\n",
       "      <td>58</td>\n",
       "      <td>Eureka EasyClean Corded Hand-Held Vacuum, 71B</td>\n",
       "    </tr>\n",
       "    <tr>\n",
       "      <th>19</th>\n",
       "      <td>B0071NI8XK</td>\n",
       "      <td>58</td>\n",
       "      <td>Kuhn Rikon Kochblume Spill Stopper, Large, 12-...</td>\n",
       "    </tr>\n",
       "    <tr>\n",
       "      <th>20</th>\n",
       "      <td>B00608YG7E</td>\n",
       "      <td>58</td>\n",
       "      <td>Lamma Loe Supreme 1500 Series 4pc Bed Sheet Se...</td>\n",
       "    </tr>\n",
       "    <tr>\n",
       "      <th>21</th>\n",
       "      <td>B000M3YGOQ</td>\n",
       "      <td>58</td>\n",
       "      <td>Command Medium Picture-Hanging Strips, 6-Picture</td>\n",
       "    </tr>\n",
       "    <tr>\n",
       "      <th>22</th>\n",
       "      <td>B006HCWRLK</td>\n",
       "      <td>56</td>\n",
       "      <td>OXO Pop Cookie Medium Jar, 3-Quart</td>\n",
       "    </tr>\n",
       "    <tr>\n",
       "      <th>23</th>\n",
       "      <td>B00004SPEU</td>\n",
       "      <td>56</td>\n",
       "      <td>KRUPS F20342 Electric Spice and Coffee Grinder...</td>\n",
       "    </tr>\n",
       "    <tr>\n",
       "      <th>24</th>\n",
       "      <td>B0000CCY1C</td>\n",
       "      <td>56</td>\n",
       "      <td>OXO Good Grips Large Cookie Scoop</td>\n",
       "    </tr>\n",
       "    <tr>\n",
       "      <th>25</th>\n",
       "      <td>B004Y3I0MO</td>\n",
       "      <td>54</td>\n",
       "      <td>Collapsible Steamer Set 32oz -PDQ</td>\n",
       "    </tr>\n",
       "    <tr>\n",
       "      <th>26</th>\n",
       "      <td>B001L5TVGW</td>\n",
       "      <td>54</td>\n",
       "      <td>Breville BOV800XL Smart Oven 1800-Watt Convect...</td>\n",
       "    </tr>\n",
       "    <tr>\n",
       "      <th>27</th>\n",
       "      <td>B00004OCNJ</td>\n",
       "      <td>53</td>\n",
       "      <td>OXO Good Grips Multi-Purpose Pastry Scraper/Ch...</td>\n",
       "    </tr>\n",
       "    <tr>\n",
       "      <th>28</th>\n",
       "      <td>B009XP92Z2</td>\n",
       "      <td>53</td>\n",
       "      <td>Big Boss Stainless Steel Reversible Grill, 150...</td>\n",
       "    </tr>\n",
       "    <tr>\n",
       "      <th>29</th>\n",
       "      <td>B000638D32</td>\n",
       "      <td>53</td>\n",
       "      <td>Victorinox Fibrox 8-Inch Chef's Knife 40520, 4...</td>\n",
       "    </tr>\n",
       "    <tr>\n",
       "      <th>...</th>\n",
       "      <td>...</td>\n",
       "      <td>...</td>\n",
       "      <td>...</td>\n",
       "    </tr>\n",
       "    <tr>\n",
       "      <th>6382</th>\n",
       "      <td>B00008WU9F</td>\n",
       "      <td>1</td>\n",
       "      <td>Bodum Brazil 3 cup French Press Coffee Maker, ...</td>\n",
       "    </tr>\n",
       "    <tr>\n",
       "      <th>6383</th>\n",
       "      <td>B0007D6GX0</td>\n",
       "      <td>1</td>\n",
       "      <td>Amco Stainless Steel Magnetic Pocket Organizer...</td>\n",
       "    </tr>\n",
       "    <tr>\n",
       "      <th>6384</th>\n",
       "      <td>B000CS8M2S</td>\n",
       "      <td>1</td>\n",
       "      <td>Hoover Type Y HEPA Filter Bag, Set of 2</td>\n",
       "    </tr>\n",
       "    <tr>\n",
       "      <th>6385</th>\n",
       "      <td>B0001NE3BI</td>\n",
       "      <td>1</td>\n",
       "      <td>Thermos Novelty Lunch Kit, Scooby Doo and the ...</td>\n",
       "    </tr>\n",
       "    <tr>\n",
       "      <th>6386</th>\n",
       "      <td>B000CEM3WM</td>\n",
       "      <td>1</td>\n",
       "      <td>Nesco American Harvest FD-61 Snackmaster Encor...</td>\n",
       "    </tr>\n",
       "    <tr>\n",
       "      <th>6387</th>\n",
       "      <td>B000O1CO22</td>\n",
       "      <td>1</td>\n",
       "      <td>Foremost 327601 Modular Open Cube Storage Syst...</td>\n",
       "    </tr>\n",
       "    <tr>\n",
       "      <th>6388</th>\n",
       "      <td>B0026RI0V6</td>\n",
       "      <td>1</td>\n",
       "      <td>InterDesign Mildew-Free EVA Shower Liner, 72 x...</td>\n",
       "    </tr>\n",
       "    <tr>\n",
       "      <th>6389</th>\n",
       "      <td>B002KBFO6C</td>\n",
       "      <td>1</td>\n",
       "      <td>Euro Cuisine YM260 Yogurt Maker, 2-Quart</td>\n",
       "    </tr>\n",
       "    <tr>\n",
       "      <th>6390</th>\n",
       "      <td>B00ALM5ZFM</td>\n",
       "      <td>1</td>\n",
       "      <td>Soyajoy G4 Soy Milk Maker and Soup Maker - wit...</td>\n",
       "    </tr>\n",
       "    <tr>\n",
       "      <th>6391</th>\n",
       "      <td>B009MBU198</td>\n",
       "      <td>1</td>\n",
       "      <td>Sleep Master 2-Pack Traditional Memory Foam Pi...</td>\n",
       "    </tr>\n",
       "    <tr>\n",
       "      <th>6392</th>\n",
       "      <td>B00162723O</td>\n",
       "      <td>1</td>\n",
       "      <td>A/C Safe AC-160 Universal Heavy Duty Window Ai...</td>\n",
       "    </tr>\n",
       "    <tr>\n",
       "      <th>6393</th>\n",
       "      <td>B004NX3VII</td>\n",
       "      <td>1</td>\n",
       "      <td>ClosetMaid Over The Sink Drainer, White</td>\n",
       "    </tr>\n",
       "    <tr>\n",
       "      <th>6394</th>\n",
       "      <td>B00DEAWNTE</td>\n",
       "      <td>1</td>\n",
       "      <td>KAHLA Touch Five Senses 1-Piece Teacup with Sl...</td>\n",
       "    </tr>\n",
       "    <tr>\n",
       "      <th>6395</th>\n",
       "      <td>B0051946DW</td>\n",
       "      <td>1</td>\n",
       "      <td>Divatex 90 GSM Woven Dobby Stripe Microfiber D...</td>\n",
       "    </tr>\n",
       "    <tr>\n",
       "      <th>6396</th>\n",
       "      <td>B003ZDNKS8</td>\n",
       "      <td>1</td>\n",
       "      <td>Black &amp;amp; Decker TRO490B 1200-Watt 4-Slice C...</td>\n",
       "    </tr>\n",
       "    <tr>\n",
       "      <th>6397</th>\n",
       "      <td>B003LJX0MW</td>\n",
       "      <td>1</td>\n",
       "      <td>Trudeau Tea Mendous Tea Tumbler, Clear, 16-Ounce</td>\n",
       "    </tr>\n",
       "    <tr>\n",
       "      <th>6398</th>\n",
       "      <td>B006U24WV0</td>\n",
       "      <td>1</td>\n",
       "      <td>Clara Clark &amp;reg; Goose Down Alternative Doubl...</td>\n",
       "    </tr>\n",
       "    <tr>\n",
       "      <th>6399</th>\n",
       "      <td>B0017ZARPK</td>\n",
       "      <td>1</td>\n",
       "      <td>Hunter 90400 12-Inch Portable Table Fan, Brush...</td>\n",
       "    </tr>\n",
       "    <tr>\n",
       "      <th>6400</th>\n",
       "      <td>B00062B2W2</td>\n",
       "      <td>1</td>\n",
       "      <td>Coleman Tablecloth Clamps 6-Pk</td>\n",
       "    </tr>\n",
       "    <tr>\n",
       "      <th>6401</th>\n",
       "      <td>B000KKI7GY</td>\n",
       "      <td>1</td>\n",
       "      <td>Anchor Hocking 2-Gallon Heritage Hill Jar with...</td>\n",
       "    </tr>\n",
       "    <tr>\n",
       "      <th>6402</th>\n",
       "      <td>B003B4EXR8</td>\n",
       "      <td>1</td>\n",
       "      <td>NaN</td>\n",
       "    </tr>\n",
       "    <tr>\n",
       "      <th>6403</th>\n",
       "      <td>B000MVXJ64</td>\n",
       "      <td>1</td>\n",
       "      <td>Rada Cutlery R134 Cook's Knife with Aluminum H...</td>\n",
       "    </tr>\n",
       "    <tr>\n",
       "      <th>6404</th>\n",
       "      <td>B00006910G</td>\n",
       "      <td>1</td>\n",
       "      <td>Anolon Professional Hard Anodized Nonstick 12-...</td>\n",
       "    </tr>\n",
       "    <tr>\n",
       "      <th>6405</th>\n",
       "      <td>B004I1K2PA</td>\n",
       "      <td>1</td>\n",
       "      <td>Horizons Collection Micro-Fleece Plush Twin Si...</td>\n",
       "    </tr>\n",
       "    <tr>\n",
       "      <th>6406</th>\n",
       "      <td>B000P6CEQW</td>\n",
       "      <td>1</td>\n",
       "      <td>Household Essentials 4-Tier Revolving Shoe Tre...</td>\n",
       "    </tr>\n",
       "    <tr>\n",
       "      <th>6407</th>\n",
       "      <td>B000IGOXLS</td>\n",
       "      <td>1</td>\n",
       "      <td>Hario V60 Buono Coffee Drip Kettle, 1.2 L</td>\n",
       "    </tr>\n",
       "    <tr>\n",
       "      <th>6408</th>\n",
       "      <td>B003XEKMDA</td>\n",
       "      <td>1</td>\n",
       "      <td>Fox Run 3 Tier Hanging Fruit Vegetable Kitchen...</td>\n",
       "    </tr>\n",
       "    <tr>\n",
       "      <th>6409</th>\n",
       "      <td>B0054UFSOO</td>\n",
       "      <td>1</td>\n",
       "      <td>Neato Robotics XV-12 Automatic Vacuum Cleaner</td>\n",
       "    </tr>\n",
       "    <tr>\n",
       "      <th>6410</th>\n",
       "      <td>B001V96GG6</td>\n",
       "      <td>1</td>\n",
       "      <td>Lasko 2017 12&amp;quot; Table Fan, black</td>\n",
       "    </tr>\n",
       "    <tr>\n",
       "      <th>6411</th>\n",
       "      <td>B00EJU3SWY</td>\n",
       "      <td>1</td>\n",
       "      <td>Home- It Mop and Broom Holder, (5-position) Wa...</td>\n",
       "    </tr>\n",
       "  </tbody>\n",
       "</table>\n",
       "<p>6412 rows × 3 columns</p>\n",
       "</div>"
      ],
      "text/plain": [
       "           index  asin                                              title\n",
       "0     B00004OCO9   201  Oxo Good Grips Measuring Cup Set, Stainless St...\n",
       "1     B005M8HPPS   131   Primula Double Wall Glass Mug with Tea Bag Buddy\n",
       "2     B00006JSUA   128  Lodge L8SK3 Pre-Seasoned Cast-Iron Skillet, 10...\n",
       "3     B005LCT5I0   101         OXO Good Grips Ratcheting Pineapple Slicer\n",
       "4     B00005B8K5    89   Pyrex Storage 10-Piece Set, Clear with Blue Lids\n",
       "5     B001N07KUE    77  EatSmart Precision Pro Digital Kitchen Scale, ...\n",
       "6     B006C9TPKO    75            Primula 6-Cup Tempo Coffee Press, Black\n",
       "7     B00004OCKR    73                      OXO Good Grips  Salad Spinner\n",
       "8     B005JAIHNI    73  T-fal Prima FV3756 Non-stick PTFE soleplate, A...\n",
       "9     B0007VO0CQ    71                          OXO Good Grips Box Grater\n",
       "10    B002YD99Y4    69                    Cuisinart GR-4N 5-in-1 Griddler\n",
       "11    B0000CFMZN    66  Pyrex Prepware 1-Cup Measuring Cup, Clear with...\n",
       "12    B00004SPZV    64           Misto Brushed Aluminum Olive Oil Sprayer\n",
       "13    B00004S7V8    63             Microplane 40020 Classic Zester/Grater\n",
       "14    B00006IUWA    62         Presto 04820 PopLite Hot Air Popper, White\n",
       "15    B000N4WMUE    60  Lodge Color EC3D43 Enameled Cast Iron Dutch Ov...\n",
       "16    B007M6GM1Q    60  Pinzon 700-Gram Hotel Stitch Washcloth 2-Pack,...\n",
       "17    B007OTF8O8    58  Kuhn Rikon Silicone Splatter Guard, 1 Each, 10...\n",
       "18    B0006HUYGM    58      Eureka EasyClean Corded Hand-Held Vacuum, 71B\n",
       "19    B0071NI8XK    58  Kuhn Rikon Kochblume Spill Stopper, Large, 12-...\n",
       "20    B00608YG7E    58  Lamma Loe Supreme 1500 Series 4pc Bed Sheet Se...\n",
       "21    B000M3YGOQ    58   Command Medium Picture-Hanging Strips, 6-Picture\n",
       "22    B006HCWRLK    56                 OXO Pop Cookie Medium Jar, 3-Quart\n",
       "23    B00004SPEU    56  KRUPS F20342 Electric Spice and Coffee Grinder...\n",
       "24    B0000CCY1C    56                  OXO Good Grips Large Cookie Scoop\n",
       "25    B004Y3I0MO    54                  Collapsible Steamer Set 32oz -PDQ\n",
       "26    B001L5TVGW    54  Breville BOV800XL Smart Oven 1800-Watt Convect...\n",
       "27    B00004OCNJ    53  OXO Good Grips Multi-Purpose Pastry Scraper/Ch...\n",
       "28    B009XP92Z2    53  Big Boss Stainless Steel Reversible Grill, 150...\n",
       "29    B000638D32    53  Victorinox Fibrox 8-Inch Chef's Knife 40520, 4...\n",
       "...          ...   ...                                                ...\n",
       "6382  B00008WU9F     1  Bodum Brazil 3 cup French Press Coffee Maker, ...\n",
       "6383  B0007D6GX0     1  Amco Stainless Steel Magnetic Pocket Organizer...\n",
       "6384  B000CS8M2S     1            Hoover Type Y HEPA Filter Bag, Set of 2\n",
       "6385  B0001NE3BI     1  Thermos Novelty Lunch Kit, Scooby Doo and the ...\n",
       "6386  B000CEM3WM     1  Nesco American Harvest FD-61 Snackmaster Encor...\n",
       "6387  B000O1CO22     1  Foremost 327601 Modular Open Cube Storage Syst...\n",
       "6388  B0026RI0V6     1  InterDesign Mildew-Free EVA Shower Liner, 72 x...\n",
       "6389  B002KBFO6C     1           Euro Cuisine YM260 Yogurt Maker, 2-Quart\n",
       "6390  B00ALM5ZFM     1  Soyajoy G4 Soy Milk Maker and Soup Maker - wit...\n",
       "6391  B009MBU198     1  Sleep Master 2-Pack Traditional Memory Foam Pi...\n",
       "6392  B00162723O     1  A/C Safe AC-160 Universal Heavy Duty Window Ai...\n",
       "6393  B004NX3VII     1            ClosetMaid Over The Sink Drainer, White\n",
       "6394  B00DEAWNTE     1  KAHLA Touch Five Senses 1-Piece Teacup with Sl...\n",
       "6395  B0051946DW     1  Divatex 90 GSM Woven Dobby Stripe Microfiber D...\n",
       "6396  B003ZDNKS8     1  Black &amp; Decker TRO490B 1200-Watt 4-Slice C...\n",
       "6397  B003LJX0MW     1   Trudeau Tea Mendous Tea Tumbler, Clear, 16-Ounce\n",
       "6398  B006U24WV0     1  Clara Clark &reg; Goose Down Alternative Doubl...\n",
       "6399  B0017ZARPK     1  Hunter 90400 12-Inch Portable Table Fan, Brush...\n",
       "6400  B00062B2W2     1                     Coleman Tablecloth Clamps 6-Pk\n",
       "6401  B000KKI7GY     1  Anchor Hocking 2-Gallon Heritage Hill Jar with...\n",
       "6402  B003B4EXR8     1                                                NaN\n",
       "6403  B000MVXJ64     1  Rada Cutlery R134 Cook's Knife with Aluminum H...\n",
       "6404  B00006910G     1  Anolon Professional Hard Anodized Nonstick 12-...\n",
       "6405  B004I1K2PA     1  Horizons Collection Micro-Fleece Plush Twin Si...\n",
       "6406  B000P6CEQW     1  Household Essentials 4-Tier Revolving Shoe Tre...\n",
       "6407  B000IGOXLS     1          Hario V60 Buono Coffee Drip Kettle, 1.2 L\n",
       "6408  B003XEKMDA     1  Fox Run 3 Tier Hanging Fruit Vegetable Kitchen...\n",
       "6409  B0054UFSOO     1      Neato Robotics XV-12 Automatic Vacuum Cleaner\n",
       "6410  B001V96GG6     1               Lasko 2017 12&quot; Table Fan, black\n",
       "6411  B00EJU3SWY     1  Home- It Mop and Broom Holder, (5-position) Wa...\n",
       "\n",
       "[6412 rows x 3 columns]"
      ]
     },
     "execution_count": 177,
     "metadata": {},
     "output_type": "execute_result"
    }
   ],
   "source": [
    "item_counts"
   ]
  },
  {
   "cell_type": "markdown",
   "metadata": {},
   "source": [
    "# 18 Nov"
   ]
  },
  {
   "cell_type": "code",
   "execution_count": 191,
   "metadata": {
    "scrolled": true
   },
   "outputs": [],
   "source": [
    "user_utility_matrix = reviews20_pre2014.pivot_table(values='overall', index='reviewerID', columns='asin', fill_value=0)"
   ]
  },
  {
   "cell_type": "code",
   "execution_count": 195,
   "metadata": {
    "scrolled": true
   },
   "outputs": [
    {
     "data": {
      "text/plain": [
       "True"
      ]
     },
     "execution_count": 195,
     "metadata": {},
     "output_type": "execute_result"
    }
   ],
   "source": [
    "'hello' in ['hello', 'is', 'me']"
   ]
  },
  {
   "cell_type": "code",
   "execution_count": 217,
   "metadata": {},
   "outputs": [],
   "source": [
    "def generate_similarity_matrix(user_utility_matrix, metric='jaccard'):\n",
    "    if metric in ['jaccard','cosine','correlation']:\n",
    "        sim_matrix = 1 - pairwise_distances(user_utility_matrix, metric=metric)\n",
    "        \n",
    "    sim_matrix = pd.DataFrame(sim_matrix, index=user_utility_matrix.index, columns=user_utility_matrix.index)\n",
    "    \n",
    "    return sim_matrix"
   ]
  },
  {
   "cell_type": "code",
   "execution_count": 216,
   "metadata": {},
   "outputs": [
    {
     "name": "stderr",
     "output_type": "stream",
     "text": [
      "/usr/local/lib/python3.6/site-packages/sklearn/utils/validation.py:590: DataConversionWarning: Data with input dtype int64 was converted to bool by check_pairwise_arrays.\n",
      "  warnings.warn(msg, DataConversionWarning)\n"
     ]
    },
    {
     "data": {
      "text/plain": [
       "(2616, 2616)"
      ]
     },
     "execution_count": 216,
     "metadata": {},
     "output_type": "execute_result"
    }
   ],
   "source": [
    "(1-pairwise_distances(user_utility_matrix, metric='jaccard')).shape"
   ]
  },
  {
   "cell_type": "code",
   "execution_count": 218,
   "metadata": {
    "scrolled": true
   },
   "outputs": [
    {
     "name": "stderr",
     "output_type": "stream",
     "text": [
      "/usr/local/lib/python3.6/site-packages/sklearn/utils/validation.py:590: DataConversionWarning: Data with input dtype int64 was converted to bool by check_pairwise_arrays.\n",
      "  warnings.warn(msg, DataConversionWarning)\n"
     ]
    }
   ],
   "source": [
    "jaccard_sim = generate_similarity_matrix(user_utility_matrix, metric='jaccard')"
   ]
  },
  {
   "cell_type": "code",
   "execution_count": 220,
   "metadata": {},
   "outputs": [],
   "source": [
    "cosine_sim = generate_similarity_matrix(user_utility_matrix, metric='cosine')"
   ]
  },
  {
   "cell_type": "code",
   "execution_count": 221,
   "metadata": {},
   "outputs": [],
   "source": [
    "# filtering only 5 star ratings. did not work for jaccard\n",
    "def user_recommendation(user_id, k=3, n_recommendations=10, similarity_matrix=cosine_sim, \n",
    "                        return_recommendations_only=False, print_results=True):\n",
    "    \"\"\"\n",
    "    Most naive implementation: returns a list of products bought by k most similar users\n",
    "    \"\"\"\n",
    "    \n",
    "    k_similar_users = similarity_matrix[user_id].sort_values(ascending=False)[1:k+1].index\n",
    "    \n",
    "    recommended_products = set()\n",
    "    \n",
    "    for similar_user in k_similar_users:\n",
    "        similar_user_best_rated_products = set(reviews20_pre2014[(reviews20_pre2014['reviewerID']==similar_user) & \n",
    "                                                                 (reviews20_pre2014['overall']==5)]['asin'])\n",
    "        similar_user_best_rated_products = set([product_lookup[product_id] for product_id in similar_user_best_rated_products])\n",
    "        similar_user_best_rated_products -= user_products_train[user_id]\n",
    "\n",
    "        for product in similar_user_best_rated_products:\n",
    "            if len(recommended_products) < 10:\n",
    "                recommended_products.update({product})\n",
    "            else:\n",
    "                break\n",
    "    \n",
    "    user_purchase_history = user_products_train[user_id]\n",
    "    user_actual_purchase = user_products_test[user_id]\n",
    "    \n",
    "    if print_results == True:\n",
    "        print(\"==== User's Purchase History ====\")\n",
    "        for item in user_purchase_history:\n",
    "            print(item)\n",
    "            \n",
    "        print(\"\\n==== User's Actual Purchase in 2014 ====\")\n",
    "        for item in user_actual_purchase:\n",
    "            print(item)  \n",
    "\n",
    "        print(\"\\n==== Recommended Products ====\")\n",
    "        for item in recommended_products:\n",
    "            print(item)      \n",
    "        \n",
    "        print(\"\\n==== Similarity Scores ====\")\n",
    "        print(similarity_matrix[user_id].sort_values(ascending=False)[1:k+1])\n",
    "    \n",
    "    if return_recommendations_only == True:\n",
    "        return recommended_products\n",
    "    else:\n",
    "        return recommended_products, user_purchase_history, user_actual_purchase"
   ]
  },
  {
   "cell_type": "code",
   "execution_count": 223,
   "metadata": {},
   "outputs": [],
   "source": [
    "def UU_jaccard_recommendation(user_id, k=3, n_recommendations=10, similarity_matrix=jaccard_sim, \n",
    "                        return_recommendations_only=False, print_results=True):\n",
    "    \"\"\"\n",
    "    Most naive implementation: returns a list of products bought by k most similar users\n",
    "    \"\"\"\n",
    "    \n",
    "    k_similar_users = similarity_matrix[user_id].sort_values(ascending=False)[1:k+1].index\n",
    "    \n",
    "    recommended_products = set()\n",
    "    \n",
    "    for similar_user in k_similar_users:\n",
    "        similar_user_best_rated_products = set(reviews20_pre2014[(reviews20_pre2014['reviewerID']==similar_user)]['asin'])\n",
    "        similar_user_best_rated_products = set([product_lookup[product_id] for product_id in similar_user_best_rated_products])\n",
    "        similar_user_best_rated_products -= user_products_train[user_id]\n",
    "\n",
    "        for product in similar_user_best_rated_products:\n",
    "            if len(recommended_products) < 10:\n",
    "                recommended_products.update({product})\n",
    "            else:\n",
    "                break\n",
    "    \n",
    "    user_purchase_history = user_products_train[user_id]\n",
    "    user_actual_purchase = user_products_test[user_id]\n",
    "    \n",
    "    \n",
    "    if print_results == True:\n",
    "        print(\"==== User's Purchase History ====\")\n",
    "        for item in user_purchase_history:\n",
    "            print(item)\n",
    "            \n",
    "        print(\"\\n==== User's Actual Purchase in 2014 ====\")\n",
    "        for item in user_actual_purchase:\n",
    "            print(item)  \n",
    "\n",
    "        print(\"\\n==== Recommended Products ====\")\n",
    "        for item in recommended_products:\n",
    "            print(item)      \n",
    "        \n",
    "        print(\"\\n==== Similarity Scores ====\")\n",
    "        print(similarity_matrix[user_id].sort_values(ascending=False)[1:k+1])\n",
    "    \n",
    "    if return_recommendations_only == True:\n",
    "        return recommended_products\n",
    "    else:\n",
    "        return recommended_products, user_purchase_history, user_actual_purchase"
   ]
  },
  {
   "cell_type": "code",
   "execution_count": 224,
   "metadata": {},
   "outputs": [
    {
     "name": "stdout",
     "output_type": "stream",
     "text": [
      "==== User's Purchase History ====\n",
      "KRUPS F20342 Electric Spice and Coffee Grinder with Stainless Steel Blades, Black\n",
      "Duracraft DWM250 2-1/2-Gallon Warm-Mist Humidifier\n",
      "Capresso frothPRO\n",
      "Waring CTT200BK Professional Cool Touch 2-Slice Toaster, Black\n",
      "Polder 210201 Deluxe Steel Bread Box, White\n",
      "Shark  Navigator  Vacuum\n",
      "Black &amp; Decker KEC600 Cordless Can Opener, White\n",
      "Nesco Snackmaster Pro Food Dehydrator FD-75A\n",
      "Nursery Easy Apply Wall Sticker Decorations - Parisian Spring Bird in Tree Silhouette\n",
      "Waring Pro JEX328 Health Juice Extractor\n",
      "Black &amp; Decker EHC650 2-Speed Food Chopper with 3-Cup Bowl\n",
      "\n",
      "==== User's Actual Purchase in 2014 ====\n",
      "Whitmor 6780-3139-WHT White Resin 20 Pair Shoe Rack\n",
      "Durable Deluxe Insulated Lunch Cooler Bag (Many Colors and Size Available) (12&quot;x10&quot;x8 1/2&quot;, Navy)\n",
      "Sunbeam FPSBSM2103 Heritage Series 350-Watt Stand Mixer, Silver\n",
      "Crock-Pot SCR300SS 3-Quart Round Manual Slow Cooker, Stainless Steel\n",
      "Shaw Living Penthouse Nylon 24-Inch by 40-Inch Bath Rug, Cocoa\n",
      "Hamilton Beach 70740 8-Cup Food Processor, Black\n",
      "Anchor Hocking Monaco Cake Set with Ribbed Dome\n",
      "Lasko 2521 Oscillating Stand Fan, 16-Inch\n",
      "Cuisinart 726-38H Chef's Classic Stainless 14-Inch Stir-Fry Pan with Helper Handle and Glass Cover\n",
      "Hamilton Beach TrueAir Room Odor Eliminator\n",
      "American Weigh Scales Black Blade Digital Pocket Scale, BL-1KG-BLK 1000 by 0.1 G\n",
      "\n",
      "==== Recommended Products ====\n",
      "Lodge A5 Camp Dutch Oven Lid Lifter\n",
      "Lodge L8DO3 Pre-Seasoned Dutch Oven, 5-Quart\n",
      "Kuvings NS-950 Silent Upright Masticating Juicer\n",
      "KitchenAid FGA Food Grinder Attachment for Stand Mixers\n",
      "Bonavita 1.7-Liter Variable Temperature Digital Electric Kettle\n",
      "Joie Egg Yolky Egg Separator\n",
      "Breadman BK1060S 2-Pound Professional Bread Maker with Collapsible Kneading Paddles and Automatic Fruit and Nut Dispenser\n",
      "J.A. Henckels International Everedge 13-Piece Knife Set with Bonus Cheese Knife\n",
      "Filtrete Water Pitcher WP02-WH-8, 8 Cup\n",
      "Black and Decker SL5470C Stainless Steel Slow Cooker\n",
      "\n",
      "==== Similarity Scores ====\n",
      "reviewerID\n",
      "A3KHILQ9RE1HJ2    0.090909\n",
      "A14JBDSWKPKTZA    0.090909\n",
      "A3PUI49ESEALDI    0.083333\n",
      "Name: A2D1PTMMCA93BV, dtype: float64\n"
     ]
    },
    {
     "data": {
      "text/plain": [
       "{'Black and Decker SL5470C Stainless Steel Slow Cooker',\n",
       " 'Bonavita 1.7-Liter Variable Temperature Digital Electric Kettle',\n",
       " 'Breadman BK1060S 2-Pound Professional Bread Maker with Collapsible Kneading Paddles and Automatic Fruit and Nut Dispenser',\n",
       " 'Filtrete Water Pitcher WP02-WH-8, 8 Cup',\n",
       " 'J.A. Henckels International Everedge 13-Piece Knife Set with Bonus Cheese Knife',\n",
       " 'Joie Egg Yolky Egg Separator',\n",
       " 'KitchenAid FGA Food Grinder Attachment for Stand Mixers',\n",
       " 'Kuvings NS-950 Silent Upright Masticating Juicer',\n",
       " 'Lodge A5 Camp Dutch Oven Lid Lifter',\n",
       " 'Lodge L8DO3 Pre-Seasoned Dutch Oven, 5-Quart'}"
      ]
     },
     "execution_count": 224,
     "metadata": {},
     "output_type": "execute_result"
    }
   ],
   "source": [
    "user_recommendation('A2D1PTMMCA93BV', k=3, similarity_matrix=jaccard_sim, return_recommendations_only=True)"
   ]
  },
  {
   "cell_type": "code",
   "execution_count": 225,
   "metadata": {
    "scrolled": true
   },
   "outputs": [
    {
     "name": "stdout",
     "output_type": "stream",
     "text": [
      "==== User's Purchase History ====\n",
      "Tea Beyond Heat resistant Glass Teapot Juliet, 20-Ounce\n",
      "Ice Ball Mold - Steal These MASSIVE Ice Ball Makers * 70% OFF TODAY ONLY! * Try DeluxIce &copy; The Biggest, FREE from All Chemicals, #1 Rated Ice Ball Maker. Made with Extra-Thick Silicone, It Does Not Leak. Make HUGE 2.5 Inch Ice Cube Sphere Balls at Your Next Party. Perfect in Whiskey, Scotch, Wine, or Any Beverage, These Molds Make Round Spheres That Melt Slower than Tray Cubes. Our Customers LOVE This Item, And We Back It With A LIFETIME REPLACEMENT GUARANTEE.... Or Your Money Back!\n",
      "Cuissential SlickBoil: Collapsible Silicone Tea Kettle (Red)\n",
      "\n",
      "==== User's Actual Purchase in 2014 ====\n",
      "Tea Beyond Teapot Fairy with Tea Warmer Cozy\n",
      "Smart Weigh GEM20 High Precision Digital Milligram Scale 20 x 0.001g Ideal for Weighing Gems, Jewelry and other Precious Objects (Silver)\n",
      "\n",
      "==== Recommended Products ====\n",
      "Smart Weigh CSB2KG Cuisine Digital Kitchen Scale with Removable Bowl, 2kg by 0.1g, Black\n",
      "Withings WiFi Body Scale, Black\n",
      "Lorell Executive High-Back Chair, Mesh Fabric, 28-1/2&quot;x28-1/2&quot;x45, BK\n",
      "OXO SteeL Can Opener\n",
      "Breville CT70XL Ikon 2-Slice Electric Toaster\n",
      "Chef's Star&reg; Manual Hand Crank Juicer - Single Auger Juice Press Ideal for Fruit, Vegetables, Wheat Grass - with Suction Base\n",
      "Tea Beyond Teapot Fairy with Tea Warmer Cozy\n",
      "Bodum Electric Indoor Table Grill and Griddle, Black\n",
      "OXO Good Grips Box Grater\n",
      "Silicone Ice Ball Molds 2.5&quot; (Set of 2)\n",
      "\n",
      "==== Similarity Scores ====\n",
      "reviewerID\n",
      "ASKZO80Z1RKTR     0.333333\n",
      "AX05DBU8IRUWY     0.285714\n",
      "A36K2N527TXXJN    0.153846\n",
      "Name: A1S3C5OFU508P3, dtype: float64\n"
     ]
    },
    {
     "data": {
      "text/plain": [
       "{'Bodum Electric Indoor Table Grill and Griddle, Black',\n",
       " 'Breville CT70XL Ikon 2-Slice Electric Toaster',\n",
       " \"Chef's Star&reg; Manual Hand Crank Juicer - Single Auger Juice Press Ideal for Fruit, Vegetables, Wheat Grass - with Suction Base\",\n",
       " 'Lorell Executive High-Back Chair, Mesh Fabric, 28-1/2&quot;x28-1/2&quot;x45, BK',\n",
       " 'OXO Good Grips Box Grater',\n",
       " 'OXO SteeL Can Opener',\n",
       " 'Silicone Ice Ball Molds 2.5&quot; (Set of 2)',\n",
       " 'Smart Weigh CSB2KG Cuisine Digital Kitchen Scale with Removable Bowl, 2kg by 0.1g, Black',\n",
       " 'Tea Beyond Teapot Fairy with Tea Warmer Cozy',\n",
       " 'Withings WiFi Body Scale, Black'}"
      ]
     },
     "execution_count": 225,
     "metadata": {},
     "output_type": "execute_result"
    }
   ],
   "source": [
    "UU_jaccard_recommendation('A1S3C5OFU508P3', k=3, similarity_matrix=jaccard_sim, return_recommendations_only=True)"
   ]
  },
  {
   "cell_type": "code",
   "execution_count": 226,
   "metadata": {},
   "outputs": [
    {
     "name": "stdout",
     "output_type": "stream",
     "text": [
      "7662\n",
      "1879\n"
     ]
    }
   ],
   "source": [
    "print(len(reviews20_2014['reviewerID']))\n",
    "print(len(reviews20_2014['reviewerID'].unique()))"
   ]
  },
  {
   "cell_type": "code",
   "execution_count": 229,
   "metadata": {
    "scrolled": true
   },
   "outputs": [
    {
     "name": "stdout",
     "output_type": "stream",
     "text": [
      "AW12F6FJ99WCV\n",
      "==== User's Purchase History ====\n",
      "Belt Hanger (Walnut) (7.5&quot; H x 16.5&quot; W x .75&quot; D)\n",
      "Maytex No More Mildew Shower Curtain Liner, Clear\n",
      "Espresso Supply Grinder Brush, 7.5&quot;\n",
      "BISSELL Zing Bagless Canister Vacuum, Blue\n",
      "Spectrum Diversified 42978CAT Euro Banana Holder - Satin Nickel\n",
      "Royal Hotel's 300 Thread Count King Size Goose Down Alternative Comforter 100% Egyptian Cotton 300 TC - 750FP - 86Oz - Solid White\n",
      "Acrylic Vanity Organizer - 5 compartments\n",
      "Mildew Resistant EXTRA Thick VINYL Shower Curtain/Liner - SUPER CLEAR\n",
      "Black &amp; Decker HC306 1-1/2-Cup One-Touch Electric Chopper\n",
      "Hamilton Beach 25325 MealMaker Express Contact Grill\n",
      "Trudeau 0991100 4-Sided Cheese Grater\n",
      "Revere Copperclad Bottom 1-Quart Covered Saucepan\n",
      "Black &amp; Decker EHC650 2-Speed Food Chopper with 3-Cup Bowl\n",
      "InterDesign Power Lock Suction Hooks, Combo of 4, Clear\n",
      "\n",
      "==== User's Actual Purchase in 2014 ====\n",
      "Medelco  12-Cup Glass Stovetop Whistling Kettle\n",
      "100-Count Coffee Filter 4 Cup\n",
      "Mr. Coffee BVMC-EL1 Cafe Latte\n",
      "NewLife by GelPro Pebble Designer Comfort Mat, 20-Inch by 32-Inch, Espresso\n",
      "simplehuman 10L-Liter / 2.6-Gallon Slim Step Trash Can, Black Plastic\n",
      "\n",
      "==== Recommended Products ====\n",
      "Lodge LCS3 Pre-Seasoned Cast-Iron Chef's Skillet, 10-inch\n",
      "Norpro Egg Rite Egg Timer\n",
      "Island Bamboo SUSPT17 Cooking Spatula, Large\n",
      "Dirt Devil Breeze Bagless Upright Vacuum, M088160RED\n",
      "T-fal C798SC64 Ultimate Stainless Steel Copper-Bottom Heavy Gauge Multi-Layer Base Dishwasher Safe PFOA Free Oven Safe Cookware Set, 12-Piece, Silver\n",
      "Pyrex Bakeware 2-Quart Casserole Dish with Lid\n",
      "OXO Good Grips 12-Inch Locking Tongs with Nylon Heads\n",
      "Camp Chef Home Seasoned Cast Iron Bread Pan\n",
      "Mr. Coffee MWBLK Mug Warmer\n",
      "Set of 6 Stainless Steel Martini Picks\n",
      "\n",
      "==== Similarity Scores ====\n",
      "reviewerID\n",
      "AQ5BNRE036C94     0.090909\n",
      "AY6TK80W3N0KF     0.062500\n",
      "A30LWSTIFT6LJB    0.058824\n",
      "Name: AW12F6FJ99WCV, dtype: float64\n",
      "=== Lodge LCS3 Pre-Seasoned Cast-Iron Chef's Skillet, 10-inch ===\n"
     ]
    },
    {
     "data": {
      "text/html": [
       "<img src=\"http://ecx.images-amazon.com/images/I/31VN1W9JACL._SX300_.jpg\"/>"
      ],
      "text/plain": [
       "<IPython.core.display.Image object>"
      ]
     },
     "metadata": {},
     "output_type": "display_data"
    },
    {
     "name": "stdout",
     "output_type": "stream",
     "text": [
      "=== Norpro Egg Rite Egg Timer ===\n"
     ]
    },
    {
     "data": {
      "text/html": [
       "<img src=\"http://ecx.images-amazon.com/images/I/41RmsBbaLVL._SY300_.jpg\"/>"
      ],
      "text/plain": [
       "<IPython.core.display.Image object>"
      ]
     },
     "metadata": {},
     "output_type": "display_data"
    },
    {
     "name": "stdout",
     "output_type": "stream",
     "text": [
      "=== Island Bamboo SUSPT17 Cooking Spatula, Large ===\n"
     ]
    },
    {
     "data": {
      "text/html": [
       "<img src=\"http://ecx.images-amazon.com/images/I/31miaEgsWLL._SY300_.jpg\"/>"
      ],
      "text/plain": [
       "<IPython.core.display.Image object>"
      ]
     },
     "metadata": {},
     "output_type": "display_data"
    },
    {
     "name": "stdout",
     "output_type": "stream",
     "text": [
      "=== Dirt Devil Breeze Bagless Upright Vacuum, M088160RED ===\n"
     ]
    },
    {
     "data": {
      "text/html": [
       "<img src=\"http://ecx.images-amazon.com/images/I/31NOr65MF0L._SY300_.jpg\"/>"
      ],
      "text/plain": [
       "<IPython.core.display.Image object>"
      ]
     },
     "metadata": {},
     "output_type": "display_data"
    },
    {
     "name": "stdout",
     "output_type": "stream",
     "text": [
      "=== T-fal C798SC64 Ultimate Stainless Steel Copper-Bottom Heavy Gauge Multi-Layer Base Dishwasher Safe PFOA Free Oven Safe Cookware Set, 12-Piece, Silver ===\n"
     ]
    },
    {
     "data": {
      "text/html": [
       "<img src=\"http://ecx.images-amazon.com/images/I/41SoaHfhRRL._SX300_.jpg\"/>"
      ],
      "text/plain": [
       "<IPython.core.display.Image object>"
      ]
     },
     "metadata": {},
     "output_type": "display_data"
    },
    {
     "name": "stdout",
     "output_type": "stream",
     "text": [
      "=== Pyrex Bakeware 2-Quart Casserole Dish with Lid ===\n"
     ]
    },
    {
     "data": {
      "text/html": [
       "<img src=\"http://ecx.images-amazon.com/images/I/31RPEQT3HYL._SY300_.jpg\"/>"
      ],
      "text/plain": [
       "<IPython.core.display.Image object>"
      ]
     },
     "metadata": {},
     "output_type": "display_data"
    },
    {
     "name": "stdout",
     "output_type": "stream",
     "text": [
      "=== OXO Good Grips 12-Inch Locking Tongs with Nylon Heads ===\n"
     ]
    },
    {
     "data": {
      "text/html": [
       "<img src=\"http://ecx.images-amazon.com/images/I/21FDC4iH2tL._SY300_.jpg\"/>"
      ],
      "text/plain": [
       "<IPython.core.display.Image object>"
      ]
     },
     "metadata": {},
     "output_type": "display_data"
    },
    {
     "name": "stdout",
     "output_type": "stream",
     "text": [
      "=== Camp Chef Home Seasoned Cast Iron Bread Pan ===\n"
     ]
    },
    {
     "data": {
      "text/html": [
       "<img src=\"http://ecx.images-amazon.com/images/I/41UK7cvb37L._SX300_.jpg\"/>"
      ],
      "text/plain": [
       "<IPython.core.display.Image object>"
      ]
     },
     "metadata": {},
     "output_type": "display_data"
    },
    {
     "name": "stdout",
     "output_type": "stream",
     "text": [
      "=== Mr. Coffee MWBLK Mug Warmer ===\n"
     ]
    },
    {
     "data": {
      "text/html": [
       "<img src=\"http://ecx.images-amazon.com/images/I/311LE-IfzXL._SX300_.jpg\"/>"
      ],
      "text/plain": [
       "<IPython.core.display.Image object>"
      ]
     },
     "metadata": {},
     "output_type": "display_data"
    },
    {
     "name": "stdout",
     "output_type": "stream",
     "text": [
      "=== Set of 6 Stainless Steel Martini Picks ===\n"
     ]
    },
    {
     "data": {
      "text/html": [
       "<img src=\"http://ecx.images-amazon.com/images/I/41LZuAlcvxL._SY300_.jpg\"/>"
      ],
      "text/plain": [
       "<IPython.core.display.Image object>"
      ]
     },
     "metadata": {},
     "output_type": "display_data"
    }
   ],
   "source": [
    "rand_user = reviews20_2014.loc[np.random.randint(44965,52627),'reviewerID']\n",
    "print(rand_user)\n",
    "print_product_images(UU_jaccard_recommendation(rand_user, \n",
    "                                               k=3, similarity_matrix=jaccard_sim, \n",
    "                                               return_recommendations_only=True, print_results=True))"
   ]
  },
  {
   "cell_type": "code",
   "execution_count": 231,
   "metadata": {},
   "outputs": [],
   "source": [
    "rec, history, actual = user_recommendation(reviews20.loc[394,'reviewerID'], k=3, similarity_matrix=jaccard_sim, \n",
    "                                           return_recommendations_only=False, print_results=False)"
   ]
  },
  {
   "cell_type": "code",
   "execution_count": 232,
   "metadata": {},
   "outputs": [
    {
     "data": {
      "text/plain": [
       "{'Black &amp; Decker CM4000S 12-Cup Programmable Coffeemaker',\n",
       " 'Circulon Contempo Hard Anodized Nonstick 9-Inch Frittata and Omelette Skillet Duo Set',\n",
       " 'Filtrete Water Pitcher WP02-WH-8, 8 Cup',\n",
       " 'FoodSaver V3860 Vacuum Sealing System',\n",
       " 'Moen SR2201BN Shower Ring, Brushed Nickel',\n",
       " 'OXO Good Grips Nylon Flexible Turner, Black',\n",
       " 'Oster 4961 Ice Blade',\n",
       " 'Pinzon 700-Gram Hotel Stitch Washcloth 2-Pack, Silver Blue',\n",
       " 'Waring Pro JEX328 Health Juice Extractor',\n",
       " 'Zojirushi BBCCX20 Home Bakery Supreme Bread Machine'}"
      ]
     },
     "execution_count": 232,
     "metadata": {},
     "output_type": "execute_result"
    }
   ],
   "source": [
    "rec"
   ]
  },
  {
   "cell_type": "code",
   "execution_count": 233,
   "metadata": {},
   "outputs": [
    {
     "data": {
      "text/plain": [
       "{'Cuisinart DCC-1200 Brew Central 12-Cup Programmable Coffeemaker, Black/Brushed Metal',\n",
       " 'Holmes HAOF90-UC Blizzard Oscillating Table Fan',\n",
       " 'J.A. Henckels Twin Four Star 3-Inch High Carbon Stainless-Steel Paring Knife',\n",
       " 'Lello 4080 Musso Lussino 1.5-Quart Ice Cream Maker, Stainless',\n",
       " 'Metrokane 6004 Rabbit Corkscrew with Foilcutter, Black',\n",
       " 'Metrokane 6015 Rabbit 6-Piece Wine Opener Tool Kit, Silver',\n",
       " 'Microplane 40020 Classic Zester/Grater',\n",
       " 'OXO SteeL Lasagna Turner',\n",
       " 'SPT SF-1521 LCD Remote Controlled Tower Fan with ION',\n",
       " 'Sunbeam Hot Shot Beverage Machine',\n",
       " 'Zojirushi BBCC-V20 Home Bakery Traditional Breadmaker',\n",
       " 'Zojirushi EB-CC15 Indoor Electric Grill'}"
      ]
     },
     "execution_count": 233,
     "metadata": {},
     "output_type": "execute_result"
    }
   ],
   "source": [
    "history"
   ]
  },
  {
   "cell_type": "code",
   "execution_count": 234,
   "metadata": {},
   "outputs": [
    {
     "name": "stdout",
     "output_type": "stream",
     "text": [
      "=== Circulon Contempo Hard Anodized Nonstick 9-Inch Frittata and Omelette Skillet Duo Set ===\n"
     ]
    },
    {
     "data": {
      "text/html": [
       "<img src=\"http://ecx.images-amazon.com/images/I/31OiHpRa0iL._SX300_.jpg\"/>"
      ],
      "text/plain": [
       "<IPython.core.display.Image object>"
      ]
     },
     "metadata": {},
     "output_type": "display_data"
    },
    {
     "name": "stdout",
     "output_type": "stream",
     "text": [
      "=== Pinzon 700-Gram Hotel Stitch Washcloth 2-Pack, Silver Blue ===\n"
     ]
    },
    {
     "data": {
      "text/html": [
       "<img src=\"http://ecx.images-amazon.com/images/I/31fA9WIKBpL._SX300_.jpg\"/>"
      ],
      "text/plain": [
       "<IPython.core.display.Image object>"
      ]
     },
     "metadata": {},
     "output_type": "display_data"
    },
    {
     "name": "stdout",
     "output_type": "stream",
     "text": [
      "=== Zojirushi BBCCX20 Home Bakery Supreme Bread Machine ===\n"
     ]
    },
    {
     "data": {
      "text/html": [
       "<img src=\"http://ecx.images-amazon.com/images/I/410HTNEWVFL._SX300_.jpg\"/>"
      ],
      "text/plain": [
       "<IPython.core.display.Image object>"
      ]
     },
     "metadata": {},
     "output_type": "display_data"
    },
    {
     "name": "stdout",
     "output_type": "stream",
     "text": [
      "=== OXO Good Grips Nylon Flexible Turner, Black ===\n"
     ]
    },
    {
     "data": {
      "text/html": [
       "<img src=\"http://ecx.images-amazon.com/images/I/314h6b%2BapHL._SY300_.jpg\"/>"
      ],
      "text/plain": [
       "<IPython.core.display.Image object>"
      ]
     },
     "metadata": {},
     "output_type": "display_data"
    },
    {
     "name": "stdout",
     "output_type": "stream",
     "text": [
      "=== FoodSaver V3860 Vacuum Sealing System ===\n"
     ]
    },
    {
     "data": {
      "text/html": [
       "<img src=\"http://ecx.images-amazon.com/images/I/51pJKYHlZyL._SY300_.jpg\"/>"
      ],
      "text/plain": [
       "<IPython.core.display.Image object>"
      ]
     },
     "metadata": {},
     "output_type": "display_data"
    },
    {
     "name": "stdout",
     "output_type": "stream",
     "text": [
      "=== Moen SR2201BN Shower Ring, Brushed Nickel ===\n"
     ]
    },
    {
     "data": {
      "text/html": [
       "<img src=\"http://ecx.images-amazon.com/images/I/31W2OMDMA-L._SY300_.jpg\"/>"
      ],
      "text/plain": [
       "<IPython.core.display.Image object>"
      ]
     },
     "metadata": {},
     "output_type": "display_data"
    },
    {
     "name": "stdout",
     "output_type": "stream",
     "text": [
      "=== Black &amp; Decker CM4000S 12-Cup Programmable Coffeemaker ===\n"
     ]
    },
    {
     "data": {
      "text/html": [
       "<img src=\"http://ecx.images-amazon.com/images/I/41sVOxoC2GL._SY300_.jpg\"/>"
      ],
      "text/plain": [
       "<IPython.core.display.Image object>"
      ]
     },
     "metadata": {},
     "output_type": "display_data"
    },
    {
     "name": "stdout",
     "output_type": "stream",
     "text": [
      "=== Oster 4961 Ice Blade ===\n"
     ]
    },
    {
     "data": {
      "text/html": [
       "<img src=\"http://ecx.images-amazon.com/images/I/41btjNhmRXL._SY300_.jpg\"/>"
      ],
      "text/plain": [
       "<IPython.core.display.Image object>"
      ]
     },
     "metadata": {},
     "output_type": "display_data"
    },
    {
     "name": "stdout",
     "output_type": "stream",
     "text": [
      "=== Waring Pro JEX328 Health Juice Extractor ===\n"
     ]
    },
    {
     "data": {
      "text/html": [
       "<img src=\"http://ecx.images-amazon.com/images/I/410GB9DPB9L._SY300_.jpg\"/>"
      ],
      "text/plain": [
       "<IPython.core.display.Image object>"
      ]
     },
     "metadata": {},
     "output_type": "display_data"
    },
    {
     "name": "stdout",
     "output_type": "stream",
     "text": [
      "=== Filtrete Water Pitcher WP02-WH-8, 8 Cup ===\n"
     ]
    },
    {
     "data": {
      "text/html": [
       "<img src=\"http://ecx.images-amazon.com/images/I/41f2naE5KGL._SX300_.jpg\"/>"
      ],
      "text/plain": [
       "<IPython.core.display.Image object>"
      ]
     },
     "metadata": {},
     "output_type": "display_data"
    }
   ],
   "source": [
    "print_product_images(rec)"
   ]
  }
 ],
 "metadata": {
  "kernelspec": {
   "display_name": "Python 3",
   "language": "python",
   "name": "python3"
  },
  "language_info": {
   "codemirror_mode": {
    "name": "ipython",
    "version": 3
   },
   "file_extension": ".py",
   "mimetype": "text/x-python",
   "name": "python",
   "nbconvert_exporter": "python",
   "pygments_lexer": "ipython3",
   "version": "3.6.5"
  }
 },
 "nbformat": 4,
 "nbformat_minor": 2
}
